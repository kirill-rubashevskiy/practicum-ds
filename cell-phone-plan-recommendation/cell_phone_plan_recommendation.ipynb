{
 "cells": [
  {
   "cell_type": "markdown",
   "metadata": {},
   "source": [
    "# Рекомендация тарифов оператора мобильной связи"
   ]
  },
  {
   "cell_type": "markdown",
   "metadata": {},
   "source": [
    "### Задача <a class = \"tocSkip\">"
   ]
  },
  {
   "cell_type": "markdown",
   "metadata": {},
   "source": [
    "Построить для оператора мобильной связи модель, которая будет рекомендовать подходящий новый тариф для клиентов, продолжающих пользоваться архивными тарифами.\n",
    "\n",
    "Модель должна демонстировать значение `accuracy` на тестовой выборке не менее 0.75."
   ]
  },
  {
   "cell_type": "markdown",
   "metadata": {},
   "source": [
    "### Предоставленные данные <a class = \"tocSkip\">"
   ]
  },
  {
   "cell_type": "markdown",
   "metadata": {},
   "source": [
    "Исторические данные оператора о поведении клиентов мобильного оператора, которые перешли на новые тарифы. \n",
    "\n",
    "Согласно описанию к данным:\n",
    "\n",
    "- `сalls` — количество звонков;\n",
    "- `is_ultra` — каким тарифом клиент пользовался в течение месяца («Ультра» — 1, «Смарт» — 0, **целевой признак**).\n",
    "- `minutes` — суммарная длительность звонков в минутах;\n",
    "- `messages` — количество sms-сообщений;\n",
    "- `mb_used` — израсходованный интернет-трафик в Мб;\n",
    "  \n",
    "Предоставленные данные прошли предобработку."
   ]
  },
  {
   "cell_type": "markdown",
   "metadata": {},
   "source": [
    "### План работы <a class = \"tocSkip\">"
   ]
  },
  {
   "cell_type": "markdown",
   "metadata": {},
   "source": [
    "Работа будет включать пять этапов:\n",
    "\n",
    "1. загрузка и изучение данных;\n",
    "2. разделение данных на выборки;\n",
    "3. исследование моделей на основе различных алгоритмов и выбор лучшей модели;\n",
    "4. проверка лучшей модели на тестовой выборке;\n",
    "5. сравнение лучшей модели с лучшей простейшей моделью."
   ]
  },
  {
   "cell_type": "markdown",
   "metadata": {},
   "source": [
    "## Загрузка и изучение данных"
   ]
  },
  {
   "cell_type": "code",
   "execution_count": 1,
   "metadata": {},
   "outputs": [],
   "source": [
    "# импортирование библиотек\n",
    "\n",
    "import warnings\n",
    "import pandas as pd\n",
    "import seaborn as sns\n",
    "import matplotlib.pyplot as plt\n",
    "from matplotlib.lines import Line2D\n",
    "from sklearn.dummy import DummyClassifier\n",
    "from sklearn.tree import DecisionTreeClassifier\n",
    "from sklearn.model_selection import GridSearchCV\n",
    "from sklearn.ensemble import RandomForestClassifier\n",
    "from sklearn.linear_model import LogisticRegression\n",
    "from sklearn.model_selection import train_test_split\n",
    "\n",
    "# установление единого стиля для графиков\n",
    "sns.set_style(\"whitegrid\")\n",
    "\n",
    "# отключение предупреждений\n",
    "warnings.filterwarnings('ignore')"
   ]
  },
  {
   "cell_type": "markdown",
   "metadata": {},
   "source": [
    "Прочитаем файл с данными:"
   ]
  },
  {
   "cell_type": "code",
   "execution_count": 2,
   "metadata": {},
   "outputs": [],
   "source": [
    "# чтение файла с данными\n",
    "df = pd.read_csv('/datasets/users_behavior.csv')"
   ]
  },
  {
   "cell_type": "markdown",
   "metadata": {},
   "source": [
    "Изучим пять случайных строк из набора:"
   ]
  },
  {
   "cell_type": "code",
   "execution_count": 3,
   "metadata": {},
   "outputs": [
    {
     "data": {
      "text/html": [
       "<div>\n",
       "<style scoped>\n",
       "    .dataframe tbody tr th:only-of-type {\n",
       "        vertical-align: middle;\n",
       "    }\n",
       "\n",
       "    .dataframe tbody tr th {\n",
       "        vertical-align: top;\n",
       "    }\n",
       "\n",
       "    .dataframe thead th {\n",
       "        text-align: right;\n",
       "    }\n",
       "</style>\n",
       "<table border=\"1\" class=\"dataframe\">\n",
       "  <thead>\n",
       "    <tr style=\"text-align: right;\">\n",
       "      <th></th>\n",
       "      <th>calls</th>\n",
       "      <th>minutes</th>\n",
       "      <th>messages</th>\n",
       "      <th>mb_used</th>\n",
       "      <th>is_ultra</th>\n",
       "    </tr>\n",
       "  </thead>\n",
       "  <tbody>\n",
       "    <tr>\n",
       "      <th>2948</th>\n",
       "      <td>18.0</td>\n",
       "      <td>92.38</td>\n",
       "      <td>0.0</td>\n",
       "      <td>4060.64</td>\n",
       "      <td>1</td>\n",
       "    </tr>\n",
       "    <tr>\n",
       "      <th>992</th>\n",
       "      <td>82.0</td>\n",
       "      <td>569.13</td>\n",
       "      <td>24.0</td>\n",
       "      <td>18749.93</td>\n",
       "      <td>0</td>\n",
       "    </tr>\n",
       "    <tr>\n",
       "      <th>409</th>\n",
       "      <td>63.0</td>\n",
       "      <td>440.74</td>\n",
       "      <td>46.0</td>\n",
       "      <td>15677.49</td>\n",
       "      <td>1</td>\n",
       "    </tr>\n",
       "    <tr>\n",
       "      <th>1837</th>\n",
       "      <td>7.0</td>\n",
       "      <td>41.27</td>\n",
       "      <td>89.0</td>\n",
       "      <td>27950.85</td>\n",
       "      <td>1</td>\n",
       "    </tr>\n",
       "    <tr>\n",
       "      <th>629</th>\n",
       "      <td>123.0</td>\n",
       "      <td>947.71</td>\n",
       "      <td>57.0</td>\n",
       "      <td>24046.86</td>\n",
       "      <td>1</td>\n",
       "    </tr>\n",
       "  </tbody>\n",
       "</table>\n",
       "</div>"
      ],
      "text/plain": [
       "      calls  minutes  messages   mb_used  is_ultra\n",
       "2948   18.0    92.38       0.0   4060.64         1\n",
       "992    82.0   569.13      24.0  18749.93         0\n",
       "409    63.0   440.74      46.0  15677.49         1\n",
       "1837    7.0    41.27      89.0  27950.85         1\n",
       "629   123.0   947.71      57.0  24046.86         1"
      ]
     },
     "metadata": {},
     "output_type": "display_data"
    }
   ],
   "source": [
    "# вывод на экран пяти случайных строк\n",
    "display(df.sample(5))"
   ]
  },
  {
   "cell_type": "markdown",
   "metadata": {},
   "source": [
    "Также изучим общую информацию о наборе данных:"
   ]
  },
  {
   "cell_type": "code",
   "execution_count": 4,
   "metadata": {},
   "outputs": [
    {
     "name": "stdout",
     "output_type": "stream",
     "text": [
      "<class 'pandas.core.frame.DataFrame'>\n",
      "RangeIndex: 3214 entries, 0 to 3213\n",
      "Data columns (total 5 columns):\n",
      " #   Column    Non-Null Count  Dtype  \n",
      "---  ------    --------------  -----  \n",
      " 0   calls     3214 non-null   float64\n",
      " 1   minutes   3214 non-null   float64\n",
      " 2   messages  3214 non-null   float64\n",
      " 3   mb_used   3214 non-null   float64\n",
      " 4   is_ultra  3214 non-null   int64  \n",
      "dtypes: float64(4), int64(1)\n",
      "memory usage: 125.7 KB\n"
     ]
    }
   ],
   "source": [
    "# вывод на экран общей информации о наборе данных\n",
    "df.info()"
   ]
  },
  {
   "cell_type": "markdown",
   "metadata": {},
   "source": [
    "Дополнительно посчитаем долю пользователей в наборе данных, пользующихся каждым тарифом:"
   ]
  },
  {
   "cell_type": "code",
   "execution_count": 5,
   "metadata": {},
   "outputs": [
    {
     "data": {
      "text/plain": [
       "is_ultra\n",
       "0    0.693528\n",
       "1    0.306472\n",
       "Name: is_ultra, dtype: float64"
      ]
     },
     "execution_count": 5,
     "metadata": {},
     "output_type": "execute_result"
    }
   ],
   "source": [
    "# группировка данных по значению столбца is_ultra и расчет доли каждого значения\n",
    "df.groupby('is_ultra')['is_ultra'].count()/len(df)"
   ]
  },
  {
   "cell_type": "markdown",
   "metadata": {},
   "source": [
    "### Выводы"
   ]
  },
  {
   "cell_type": "markdown",
   "metadata": {},
   "source": [
    "- в наборе данных 3 214 объектов; \n",
    "- по каждому объекту доступно 5 признаков; целевой признак (тариф) содержится в столбце `is_ultra`;\n",
    "- соотношение долей пользователей тарифов «Смарт» и «Ультра» составляет ~69/31."
   ]
  },
  {
   "cell_type": "markdown",
   "metadata": {},
   "source": [
    "## Разделение данных на выборки"
   ]
  },
  {
   "cell_type": "markdown",
   "metadata": {},
   "source": [
    "Разделим данные на обучающую, валидационную и тестовую выборки в пропорции 4/1 (сохранив изначальное распределение целевого признака в новых выборках при помощи стратификации):"
   ]
  },
  {
   "cell_type": "code",
   "execution_count": 6,
   "metadata": {},
   "outputs": [
    {
     "name": "stdout",
     "output_type": "stream",
     "text": [
      "train\n",
      "Количество объектов в выборке: 2571\n",
      "is_ultra\n",
      "0    0.693504\n",
      "1    0.306496\n",
      "Name: is_ultra, dtype: float64\n",
      "\n",
      "test\n",
      "Количество объектов в выборке: 643\n",
      "is_ultra\n",
      "0    0.693624\n",
      "1    0.306376\n",
      "Name: is_ultra, dtype: float64\n",
      "\n"
     ]
    }
   ],
   "source": [
    "# разделение данных на обучающую и тестовую выборки\n",
    "df_train, df_test = train_test_split(df, test_size=0.2, random_state=12345, stratify=df['is_ultra'])\n",
    "\n",
    "# присваивание выборкам имен\n",
    "df_train.name = 'train'\n",
    "df_test.name = 'test'\n",
    "\n",
    "# проверка разделения данных на выборки и распределения целевого признака в новых выборках\n",
    "for df in df_train, df_test:\n",
    "    print(df.name)\n",
    "    print(f'Количество объектов в выборке: {len(df)}')\n",
    "    print(df.groupby('is_ultra')['is_ultra'].count()/len(df))\n",
    "    print()"
   ]
  },
  {
   "cell_type": "markdown",
   "metadata": {},
   "source": [
    "Для каждой выборки сохраним целевой признак и прочие признаки в отдельные переменные:"
   ]
  },
  {
   "cell_type": "code",
   "execution_count": 7,
   "metadata": {},
   "outputs": [
    {
     "name": "stdout",
     "output_type": "stream",
     "text": [
      "(2571, 4)\n",
      "(2571,)\n",
      "(643, 4)\n",
      "(643,)\n"
     ]
    }
   ],
   "source": [
    "# для каждой выборки создание переменных features и target, содержащих признаки и целевой признак\n",
    "train_features = df_train.drop('is_ultra', axis=1)\n",
    "train_target = df_train['is_ultra']\n",
    "test_features = df_test.drop('is_ultra', axis=1)\n",
    "test_target = df_test['is_ultra']\n",
    "\n",
    "# проверка создания переменных\n",
    "for feature in train_features, train_target, test_features, test_target:\n",
    "    print(feature.shape)"
   ]
  },
  {
   "cell_type": "markdown",
   "metadata": {},
   "source": [
    "## Исследование моделей на основе различных алгоритмов и выбор лучшей модели"
   ]
  },
  {
   "cell_type": "markdown",
   "metadata": {},
   "source": [
    "Исследуем модели, использующие следующие алгоритмы:\n",
    "\n",
    "1. решающее дерево;\n",
    "2. случайный лес; и\n",
    "3. логистическая регрессия.\n",
    "\n",
    "Для каждого алгоритма:\n",
    "\n",
    "- создадим модель;\n",
    "- при помощи GridSearchCV оптимизируем значения гиперпараметров, чтобы получить лучшее значение accuracy."
   ]
  },
  {
   "cell_type": "markdown",
   "metadata": {},
   "source": [
    "### Исследование модели решающего дерева"
   ]
  },
  {
   "cell_type": "markdown",
   "metadata": {},
   "source": [
    "Проведем исследование модели решающего дерева. Для достижения лучшего значения accuracy будем изменять гиперпараметр `max_depth` (от 1 до 10):"
   ]
  },
  {
   "cell_type": "code",
   "execution_count": 8,
   "metadata": {},
   "outputs": [
    {
     "name": "stdout",
     "output_type": "stream",
     "text": [
      "accuracy лучшей модели решающего дерева: 0.7977462128366892\n",
      "max_depth лучшей модели решающего дерева: {'max_depth': 6}\n"
     ]
    }
   ],
   "source": [
    "# создание словаря c гиперпараметром и диапазоном его значений, которые будут оптимизироваться\n",
    "tree_param_dict = {'max_depth': range(1,11)}\n",
    "\n",
    "# создание модели решающего дерева\n",
    "tree_model = DecisionTreeClassifier(random_state=12345)\n",
    "\n",
    "# оптимизация гиперпараметров\n",
    "tree_grid = GridSearchCV(tree_model, param_grid=tree_param_dict, scoring='accuracy', cv=5, \n",
    "                         return_train_score=True, refit=True)\n",
    "tree_grid.fit(train_features, train_target)\n",
    "\n",
    "# создание переменных с лучшей моделью и лучшим accuracy\n",
    "best_tree_model = tree_grid.best_estimator_\n",
    "best_tree_model_accuracy = tree_grid.best_score_\n",
    "\n",
    "\n",
    "# вывод на экран значений гиперпараметров и accuracy лучшей модели\n",
    "print('accuracy лучшей модели решающего дерева:', best_tree_model_accuracy)\n",
    "print('max_depth лучшей модели решающего дерева:', tree_grid.best_params_)"
   ]
  },
  {
   "cell_type": "markdown",
   "metadata": {},
   "source": [
    "Лучшее значение accuracy (~0,798) показала модель со значением гиперпараметра `max_depth`, равным 6.\n",
    "\n",
    "Посмотрим, как менялось значение accuracy в зависисмости от значения `max_depth`:"
   ]
  },
  {
   "cell_type": "code",
   "execution_count": 9,
   "metadata": {
    "scrolled": false
   },
   "outputs": [
    {
     "data": {
      "image/png": "[encoded data removed]",
      "text/plain": [
       "<Figure size 864x720 with 1 Axes>"
      ]
     },
     "metadata": {},
     "output_type": "display_data"
    }
   ],
   "source": [
    "# создание датасета с данными о значении гиперпараметра и accuracy\n",
    "tree_param_scores = (\n",
    "    pd.DataFrame({\n",
    "        \"mean_test_score\": tree_grid.cv_results_[\"mean_test_score\"],\n",
    "        \"mean_train_score\": tree_grid.cv_results_[\"mean_train_score\"]})\n",
    "    .join(pd.json_normalize(tree_grid.cv_results_[\"params\"]).add_prefix(\"param_\"))\n",
    ")\n",
    "\n",
    "tree_param_scores_grouped = pd.pivot_table(tree_param_scores, index=[\"param_max_depth\"])\n",
    "\n",
    "# построение графика\n",
    "fig, ax = plt.subplots(figsize=(12,10))\n",
    "\n",
    "ax.set_title('Зависимость accuracy от max_depth')\n",
    "\n",
    "sns.lineplot(data=tree_param_scores_grouped, palette=['red', 'skyblue'], dashes=False, ax=ax)\n",
    "\n",
    "ax.hlines(y=tree_grid.best_score_, xmin=1, xmax=10, linewidth=2, color='gold', linestyles='dotted')\n",
    "\n",
    "ax.set_xlim(1, 10)\n",
    "ax.set_ylim(0.74, 0.9)\n",
    "\n",
    "xticks = list(range(1,11))\n",
    "ax.set_xticks(xticks)\n",
    "\n",
    "yticks = [0.74, 0.76, 0.78, tree_grid.best_score_, 0.80, 0.82, 0.84, 0.86, 0.88, 0.90]\n",
    "ax.set_yticks(yticks)\n",
    "\n",
    "ax.set_xlabel('max_depth')\n",
    "ax.set_ylabel('accuracy')\n",
    "\n",
    "ax.annotate(\"лучшая модель решающего дерева\", \n",
    "            xy=(6, 0.8), \n",
    "            xytext=(7, 0.81),\n",
    "            arrowprops=dict(facecolor='black',width=2.0,headwidth=7.0,headlength=12.0,shrink=0.01)\n",
    "           )\n",
    "\n",
    "plt.show()"
   ]
  },
  {
   "cell_type": "markdown",
   "metadata": {},
   "source": [
    "При значении гиперпараметра выше наблюдается переобучение модели."
   ]
  },
  {
   "cell_type": "markdown",
   "metadata": {},
   "source": [
    "### Исследование модели случайного леса"
   ]
  },
  {
   "cell_type": "markdown",
   "metadata": {},
   "source": [
    "Проведем исследование модели случайного леса. Для достижения лучшего значения accuracy будем изменять гиперпараметры: \n",
    "- `max_depth` (от 1 до 15 с шагом 2);\n",
    "- `n_estimators` (от 1 до 15 с шагом 2)."
   ]
  },
  {
   "cell_type": "code",
   "execution_count": 10,
   "metadata": {
    "scrolled": true
   },
   "outputs": [
    {
     "name": "stdout",
     "output_type": "stream",
     "text": [
      "accuracy лучшей модели случайного леса: 0.8043640210041177\n",
      "max_depth и n_estimators лучшей модели случайного леса: {'max_depth': 11, 'n_estimators': 15}\n",
      "CPU times: user 9.43 s, sys: 33.4 ms, total: 9.47 s\n",
      "Wall time: 10.2 s\n"
     ]
    }
   ],
   "source": [
    "%%time\n",
    "\n",
    "# создание словаря c гиперпараметрами и диапазоном их значений, которые будут оптимизироваться\n",
    "forest_param_dict = {\n",
    "    'max_depth': range(1,16,2),\n",
    "    'n_estimators': range(1,16,2)\n",
    "}\n",
    "\n",
    "# создание модели случайного леса\n",
    "forest_model = RandomForestClassifier(random_state=12345)\n",
    "\n",
    "# оптимизация гиперпараметров\n",
    "forest_grid = GridSearchCV(forest_model, param_grid=forest_param_dict, scoring='accuracy', cv=5, \n",
    "                         return_train_score=True, refit=True)\n",
    "forest_grid.fit(train_features, train_target)\n",
    "\n",
    "# создание переменных с лучшей моделью и лучшим accuracy\n",
    "best_forest_model = forest_grid.best_estimator_\n",
    "best_forest_model_accuracy = forest_grid.best_score_\n",
    "\n",
    "# вывод на экран значений гиперпараметров и accuracy лучшей модели\n",
    "print('accuracy лучшей модели случайного леса:', best_forest_model_accuracy)\n",
    "print('max_depth и n_estimators лучшей модели случайного леса:', forest_grid.best_params_)"
   ]
  },
  {
   "cell_type": "markdown",
   "metadata": {},
   "source": [
    "Лучшее значение accuracy на валидационной выборке (~0,804) показала модель со значениями гиперпараметров:\n",
    "- `max_depth`, равным 11;\n",
    "- `n_estimators`, равным 15.\n",
    "\n",
    "Посмотрим, как менялась accuracy в зависимости от различных значений `max_depth` и `n_estimators`:"
   ]
  },
  {
   "cell_type": "code",
   "execution_count": 11,
   "metadata": {
    "scrolled": false
   },
   "outputs": [
    {
     "data": {
      "image/png": "[encoded data removed]",
      "text/plain": [
       "<Figure size 1152x864 with 1 Axes>"
      ]
     },
     "metadata": {},
     "output_type": "display_data"
    }
   ],
   "source": [
    "# создание датасета со значениями гиперпараметров и accuracy\n",
    "forest_param_scores = (\n",
    "    pd.DataFrame({\n",
    "        \"mean_test_score\": forest_grid.cv_results_[\"mean_test_score\"],\n",
    "        \"mean_train_score\": forest_grid.cv_results_[\"mean_train_score\"]})\n",
    "    .join(pd.json_normalize(forest_grid.cv_results_[\"params\"]).add_prefix(\"param_\"))\n",
    ")\n",
    "\n",
    "# построение графика изменения accuracy\n",
    "fig, ax = plt.subplots(figsize=(16,12))\n",
    "\n",
    "ax.set_title('Зависимость accuracy от max_depth и n_estimators')\n",
    "\n",
    "sns.lineplot(data=forest_param_scores, x=\"param_max_depth\", \n",
    "             y=\"mean_train_score\", hue=\"param_n_estimators\", palette=\"Blues\", ax=ax, legend='full')\n",
    "sns.lineplot(data=forest_param_scores, x=\"param_max_depth\", y=\"mean_test_score\", \n",
    "             hue=\"param_n_estimators\", palette=\"Reds\", ax=ax, legend='full')\n",
    "ax.hlines(y=forest_grid.best_score_, xmin=1, xmax=15, linewidth=2, color='gold', linestyles='dotted')\n",
    "\n",
    "ax.set_xlim(1, 15)\n",
    "ax.set_ylim(0.725, 0.95)\n",
    "\n",
    "xticks = list(range(1, 16, 2))\n",
    "ax.set_xticks(xticks)\n",
    "\n",
    "yticks = [0.7, 0.75, 0.80, forest_grid.best_score_, 0.85, 0.90, 0.95]\n",
    "ax.set_yticks(yticks)\n",
    "\n",
    "ax.set_xlabel('max_depth')\n",
    "ax.set_ylabel('accuracy')\n",
    "\n",
    "ax.annotate(\"лучшая модель случайного леса\", \n",
    "            xy=(11, 0.805), \n",
    "            xytext=(12, 0.82),\n",
    "            arrowprops=dict(facecolor='black',width=2.0,headwidth=7.0,headlength=7.0,shrink=0.01)\n",
    "           )\n",
    "\n",
    "legend_elements = [Line2D([0], [0], color='skyblue', lw=2, label='mean_test_score'),\n",
    "                   Line2D([0], [0], color='red', lw=2, label='mean_train_score')]\n",
    "legend_1 = ax.legend(title=\"n_estimators\", ncol=2, loc='upper left')\n",
    "legend_2 = ax.legend(legend_elements, ['mean_train_score', 'mean_test_score'], loc='upper center')\n",
    "ax.add_artist(legend_1)\n",
    "\n",
    "plt.show()"
   ]
  },
  {
   "cell_type": "markdown",
   "metadata": {},
   "source": [
    "Мы видим, что в зависимости от количества деревьев переобучение модели начинается со значения max_depth, равного 9-13."
   ]
  },
  {
   "cell_type": "markdown",
   "metadata": {},
   "source": [
    "### Исследование модели логистической регрессии"
   ]
  },
  {
   "cell_type": "markdown",
   "metadata": {},
   "source": [
    "Проведем исследование модели логической регрессии. Для достижения лучшего значения accuracy будем изменять гиперпараметры: \n",
    "- `solver` (`newton-cg`, `lbfgs`, `liblinear`);\n",
    "- `penalty` (`l2`, `none` и `l1`)."
   ]
  },
  {
   "cell_type": "code",
   "execution_count": 12,
   "metadata": {
    "scrolled": false
   },
   "outputs": [
    {
     "name": "stdout",
     "output_type": "stream",
     "text": [
      "accuracy лучшей модели логистической регрессии: 0.7483510256507121\n",
      "max_depth и n_estimators лучшей модели логистической регрессии: {'penalty': 'l1', 'solver': 'liblinear'}\n"
     ]
    }
   ],
   "source": [
    "# создание словаря c гиперпараметрами и диапазоном их значений, которые будут оптимизироваться\n",
    "logreg_param_dict = {\n",
    "    'penalty' : ['l1','l2', 'none'], \n",
    "    'solver'  : ['newton-cg', 'lbfgs', 'liblinear'],\n",
    "}\n",
    "\n",
    "# создание модели логистической регрессии\n",
    "logreg_model = LogisticRegression(random_state=12345, max_iter=10000) \n",
    "\n",
    "# оптимизация гиперпараметров\n",
    "logreg_grid = GridSearchCV(logreg_model, param_grid=logreg_param_dict, scoring='accuracy', cv=5, \n",
    "                         return_train_score=True, refit=True)\n",
    "logreg_grid.fit(train_features, train_target)\n",
    "\n",
    "# создание переменных с лучшей моделью и лучшим accuracy\n",
    "best_logreg_model = logreg_grid.best_estimator_\n",
    "best_logreg_model_accuracy = logreg_grid.best_score_\n",
    "\n",
    "# вывод на экран значений гиперпараметров и accuracy лучшей модели\n",
    "print('accuracy лучшей модели логистической регрессии:', best_logreg_model_accuracy)\n",
    "print('max_depth и n_estimators лучшей модели логистической регрессии:', logreg_grid.best_params_)"
   ]
  },
  {
   "cell_type": "markdown",
   "metadata": {},
   "source": [
    "Лучшее значение accuracy на валидационной выборке (~0,748) показала модель со значениями гиперпараметров:\n",
    "- `solver`, равным `liblinear`;\n",
    "- `penalty`, равным `l1`."
   ]
  },
  {
   "cell_type": "code",
   "execution_count": 13,
   "metadata": {},
   "outputs": [
    {
     "data": {
      "text/plain": [
       "<AxesSubplot:xlabel='calls', ylabel='messages'>"
      ]
     },
     "execution_count": 13,
     "metadata": {},
     "output_type": "execute_result"
    },
    {
     "data": {
      "image/png": "[encoded data removed]",
      "text/plain": [
       "<Figure size 432x288 with 1 Axes>"
      ]
     },
     "metadata": {},
     "output_type": "display_data"
    }
   ],
   "source": [
    "sns.scatterplot(data=df, x='calls', y='messages', hue=\"is_ultra\")"
   ]
  },
  {
   "cell_type": "markdown",
   "metadata": {},
   "source": [
    "### Выбор лучшей модели"
   ]
  },
  {
   "cell_type": "markdown",
   "metadata": {},
   "source": [
    "Сравним accuracy лучших моделей каждого алгоритма: "
   ]
  },
  {
   "cell_type": "code",
   "execution_count": 14,
   "metadata": {},
   "outputs": [
    {
     "name": "stdout",
     "output_type": "stream",
     "text": [
      "Алгоритм лучшей модели: randomforest\n",
      "accuracy лучшей модели: 0.8043640210041177\n"
     ]
    }
   ],
   "source": [
    "# создание списков с лучшими моделями каждого алгоритма и значениями их accuracy\n",
    "best_models = [best_tree_model, best_forest_model, best_logreg_model]\n",
    "best_models_accuracies = [best_tree_model_accuracy, best_forest_model_accuracy, \n",
    "                          best_logreg_model_accuracy]\n",
    "\n",
    "# создание переменных для сохранения лучшей модели, ее алгоритма и значения ее accuracy\n",
    "best_overall_model = None\n",
    "best_overall_model_algorithm = None\n",
    "best_overall_model_accuracy = 0\n",
    "\n",
    "# создание цикла, который сравнит значения accuracy лучших моделей и присвоит вышеуказанным переменным значения \n",
    "# модели с наибольшим значением accuracy\n",
    "for model, accuracy in zip(best_models, best_models_accuracies):\n",
    "    if accuracy > best_overall_model_accuracy:\n",
    "        best_overall_model = model\n",
    "        best_overall_model_algorithm = type(model).__name__.removesuffix('Classifier').lower()\n",
    "        best_overall_model_accuracy = accuracy\n",
    "\n",
    "# вывод на алгоритма и accuracy лучшей модели\n",
    "print('Алгоритм лучшей модели:', best_overall_model_algorithm)\n",
    "print('accuracy лучшей модели:', best_overall_model_accuracy)"
   ]
  },
  {
   "cell_type": "markdown",
   "metadata": {},
   "source": [
    "### Выводы"
   ]
  },
  {
   "cell_type": "markdown",
   "metadata": {},
   "source": [
    "По итогам сравнения лучших моделей на основе агоритмов решающего дерева, случайного леса и логистической регрессии лучшей моделью стала модель случайного леса со значением accuracy, равным ~0,804."
   ]
  },
  {
   "cell_type": "markdown",
   "metadata": {},
   "source": [
    "## Проверка лучшей модели на тестовой выборке"
   ]
  },
  {
   "cell_type": "markdown",
   "metadata": {},
   "source": [
    "Проверим лучшую модель на тестовой выборке:"
   ]
  },
  {
   "cell_type": "code",
   "execution_count": 15,
   "metadata": {},
   "outputs": [
    {
     "name": "stdout",
     "output_type": "stream",
     "text": [
      "accuracy лучшей модели на тестовой выборке: 0.807153965785381\n"
     ]
    }
   ],
   "source": [
    "# расчет accuracy на тестовой выборке для лучшей модели\n",
    "best_overall_model_test_accuracy = best_overall_model.score(test_features, test_target)\n",
    "\n",
    "# вывод на экран accuracy на тестовой выборке для лучшей модели\n",
    "print('accuracy лучшей модели на тестовой выборке:', best_overall_model_test_accuracy)"
   ]
  },
  {
   "cell_type": "markdown",
   "metadata": {},
   "source": [
    "### Выводы"
   ]
  },
  {
   "cell_type": "markdown",
   "metadata": {},
   "source": [
    "Лучшая модель показала на тестовой выборке accuracy ~0,807, что выше минимального значения accuracy, установленного в ТЗ (0,75)."
   ]
  },
  {
   "cell_type": "markdown",
   "metadata": {},
   "source": [
    "## Сравнение лучшей модели с простейшей моделью"
   ]
  },
  {
   "cell_type": "markdown",
   "metadata": {},
   "source": [
    "Для проверки качества построенной лучшей модели сравним ее простейшей моделью. Для этого сначала построим лучшую простейшую модель. Для достижения лучшего значения accuracy будем изменять гиперпараметр `strategy`:"
   ]
  },
  {
   "cell_type": "code",
   "execution_count": 16,
   "metadata": {},
   "outputs": [
    {
     "name": "stdout",
     "output_type": "stream",
     "text": [
      "accuracy лучшей модели решающего дерева: 0.6935045899286012\n",
      "max_depth лучшей модели решающего дерева: {'strategy': 'most_frequent'}\n"
     ]
    }
   ],
   "source": [
    "# создание словаря c гиперпараметрами и диапазоном их значений, которые будут оптимизироваться\n",
    "dummy_param_dict = {'strategy': ['most_frequent', 'stratified', 'uniform', 'constant']}\n",
    "\n",
    "# создание простейшей модели\n",
    "dummy_model = DummyClassifier(random_state=12345, constant=1)\n",
    "\n",
    "# оптимизация гиперпараметров\n",
    "dummy_grid = GridSearchCV(dummy_model, param_grid=dummy_param_dict, scoring='accuracy', cv=5, \n",
    "                         return_train_score=True, refit=True)\n",
    "dummy_grid.fit(train_features, train_target)\n",
    "\n",
    "# создание переменных с лучшей моделью и лучшим accuracy\n",
    "best_dummy_model = dummy_grid.best_estimator_\n",
    "best_dummy_model_accuracy = dummy_grid.best_score_\n",
    "\n",
    "# вывод на экран значений гиперпараметров и accuracy лучшей модели\n",
    "print('accuracy лучшей модели решающего дерева:', best_dummy_model_accuracy)\n",
    "print('max_depth лучшей модели решающего дерева:', dummy_grid.best_params_)"
   ]
  },
  {
   "cell_type": "markdown",
   "metadata": {},
   "source": [
    "Лучшее значение accuracy на валидационной выборке (~0,694) показала простейшая модель со значением гиперпараметра `strategy`, равным `most_frequent`.\n",
    "\n",
    "Рассчитаем accuracy на тестовой выборке простейшей модели и сравним его с аналогичной метрикой лучшей модели:"
   ]
  },
  {
   "cell_type": "code",
   "execution_count": 17,
   "metadata": {},
   "outputs": [
    {
     "name": "stdout",
     "output_type": "stream",
     "text": [
      "accuracy на тестовой выборке лучшей модели выше\n"
     ]
    }
   ],
   "source": [
    "# расчет accuracy на тестовой выборке простейшей модели \n",
    "best_dummy_model_test_accuracy = best_dummy_model.score(test_features, test_target)\n",
    "\n",
    "# сравнение accuracy на тестовой выборке лучшей модели и простейшей модели \n",
    "if best_overall_model_test_accuracy > best_dummy_model_test_accuracy:\n",
    "    print('accuracy на тестовой выборке лучшей модели выше')\n",
    "elif best_overall_model_test_accuracy < best_dummy_model_test_accuracy:\n",
    "    print('accuracy на тестовой выборке простейшей модели выше')\n",
    "else:\n",
    "    print('лучшая модель и простейшая модель показали одинаковое accuracy на тестовой выборке')"
   ]
  },
  {
   "cell_type": "markdown",
   "metadata": {},
   "source": [
    "### Выводы"
   ]
  },
  {
   "cell_type": "markdown",
   "metadata": {},
   "source": [
    "Лучшая модель показала на тестовой выборке более высокое значение accuracy, чем простейшая модель."
   ]
  },
  {
   "cell_type": "markdown",
   "metadata": {},
   "source": [
    "## Общие выводы"
   ]
  },
  {
   "cell_type": "markdown",
   "metadata": {},
   "source": [
    "На основе предоставленных данных о поведении клиентов мобильного оператора, перешедших на новые тарифы, мы построили модель, которая будет рекомендовать подходящий новый тариф для клиентов, продолжающих пользоваться архивными тарифами. \n",
    "\n",
    "Работа состояла из пяти этапов:\n",
    "\n",
    "1. загрузка и изучение данных;\n",
    "2. разделение данных на выборки;\n",
    "3. исследование моделей на основе различных алгоритмов и выбор лучшей модели;\n",
    "4. проверка лучшей модели на тестовой выборке;\n",
    "5. сравнение лучшей модели с лучшей простейшей моделью.\n",
    "\n",
    "\n",
    "**1. Загрузка и изучение данных**\n",
    "\n",
    "На данном этапе мы загрузили и изучили предоставленные данные. По итогам их изучения мы установили:\n",
    "\n",
    "- в наборе данных 3 214 объектов; \n",
    "- по каждому объекту доступно 5 признаков; целевой признак (тариф) содержится в столбце `is_ultra`;\n",
    "- соотношение долей пользователей тарифов «Смарт» и «Ультра» составляет ~69/31.\n",
    "\n",
    "**2. Разделение данных на выборки** \n",
    "\n",
    "На данном этапе мы:\n",
    "\n",
    "- разделили данные на обучающую и тестовую выборки в пропорции 4/1 (сохранив изначальное распределение целевого признака в новых выборках при помощи стратификации);\n",
    "- для каждой выборки сохранили параметры и целевой параметр в отдельные переменные.\n",
    "\n",
    "**3. Исследование моделей на основе различных алгоритмов и выбор лучшей модели** \n",
    "\n",
    "На данном этапе мы исследовали модели, использующие следующие алгоритмы:\n",
    "\n",
    "1. решающее дерево;\n",
    "2. случайный лес; и\n",
    "3. логистическая регрессия.\n",
    "\n",
    "Для каждого алгоритма мы:\n",
    "\n",
    "- провели обучение модели на обучающей выборке;\n",
    "- при помощи GridSearchCV оптимизируем значения гиперпараметров, чтобы получить лучшее значение accuracy.\n",
    "\n",
    "По итогам сравнения лучших моделей на основе агоритмов решающего дерева, случайного леса и логистической регрессии лучшей моделью стала модель случайного леса со значением accuracy, равным ~0,804.\n",
    "\n",
    "**4. Проверка лучшей модели на тестовой выборке** \n",
    "\n",
    "На данном этапе мы проверили лучшую модель на тестовой выборке. Лучшая модель показала на тестовой выборке accuracy ~0,807, что выше минимального значения accuracy, установленного в ТЗ (0,75).\n",
    "\n",
    "**5. Сравнение лучшей модели с лучшей простейшей моделью** \n",
    "\n",
    "На данном этапе мы:\n",
    "\n",
    "- построили лучшую простейшую модель (модель с самыс высоким значением accuracy на валидационной выборке) путем подбора значений гиперпараметра `strategy`;\n",
    "- сравнили accuracy на тестовой выборке лучшей простейшей модели и лучшей модели.\n",
    "\n",
    "Лучшая модель показала на тестовой выборке более высокое значение accuracy, чем простейшая модель."
   ]
  },
  {
   "cell_type": "code",
   "execution_count": null,
   "metadata": {},
   "outputs": [],
   "source": []
  }
 ],
 "metadata": {
  "ExecuteTimeLog": [
   {
    "duration": 56,
    "start_time": "2022-07-12T15:49:53.419Z"
   },
   {
    "duration": 410,
    "start_time": "2022-07-12T15:49:55.934Z"
   },
   {
    "duration": 161,
    "start_time": "2022-07-12T15:49:56.417Z"
   },
   {
    "duration": 46,
    "start_time": "2022-07-12T15:50:12.762Z"
   },
   {
    "duration": 59,
    "start_time": "2022-07-12T15:51:00.124Z"
   },
   {
    "duration": 70,
    "start_time": "2022-07-12T15:52:01.356Z"
   },
   {
    "duration": 57,
    "start_time": "2022-07-12T15:52:12.821Z"
   },
   {
    "duration": 50,
    "start_time": "2022-07-12T15:52:24.517Z"
   },
   {
    "duration": 65,
    "start_time": "2022-07-12T15:52:33.389Z"
   },
   {
    "duration": 72,
    "start_time": "2022-07-12T15:52:47.691Z"
   },
   {
    "duration": 73,
    "start_time": "2022-07-12T15:53:33.888Z"
   },
   {
    "duration": 66,
    "start_time": "2022-07-12T15:53:41.753Z"
   },
   {
    "duration": 68,
    "start_time": "2022-07-12T15:53:49.390Z"
   },
   {
    "duration": 67,
    "start_time": "2022-07-12T15:54:07.094Z"
   },
   {
    "duration": 69,
    "start_time": "2022-07-12T15:54:12.010Z"
   },
   {
    "duration": 69,
    "start_time": "2022-07-12T15:54:22.712Z"
   },
   {
    "duration": 81,
    "start_time": "2022-07-12T15:54:45.486Z"
   },
   {
    "duration": 11,
    "start_time": "2022-07-12T15:56:03.559Z"
   },
   {
    "duration": 19,
    "start_time": "2022-07-12T15:56:12.310Z"
   },
   {
    "duration": 12,
    "start_time": "2022-07-12T15:56:33.637Z"
   },
   {
    "duration": 9,
    "start_time": "2022-07-14T15:45:30.990Z"
   },
   {
    "duration": 126,
    "start_time": "2022-07-14T15:46:39.330Z"
   },
   {
    "duration": 111,
    "start_time": "2022-07-14T15:46:45.750Z"
   },
   {
    "duration": 44,
    "start_time": "2022-07-14T15:46:48.551Z"
   },
   {
    "duration": 3,
    "start_time": "2022-07-14T15:46:55.402Z"
   },
   {
    "duration": 121,
    "start_time": "2022-07-14T15:46:59.269Z"
   },
   {
    "duration": 4,
    "start_time": "2022-07-14T15:47:02.601Z"
   },
   {
    "duration": 82,
    "start_time": "2022-07-14T15:47:06.762Z"
   },
   {
    "duration": 79,
    "start_time": "2022-07-14T15:47:11.631Z"
   },
   {
    "duration": 3,
    "start_time": "2022-07-14T15:47:40.150Z"
   },
   {
    "duration": 3,
    "start_time": "2022-07-14T15:47:47.371Z"
   },
   {
    "duration": 3,
    "start_time": "2022-07-14T15:47:52.683Z"
   },
   {
    "duration": 80,
    "start_time": "2022-07-14T15:48:01.801Z"
   },
   {
    "duration": 72,
    "start_time": "2022-07-14T15:48:06.482Z"
   },
   {
    "duration": 7,
    "start_time": "2022-07-14T15:50:03.190Z"
   },
   {
    "duration": 7,
    "start_time": "2022-07-14T16:00:09.424Z"
   },
   {
    "duration": 1208,
    "start_time": "2022-07-14T16:00:14.288Z"
   },
   {
    "duration": 120,
    "start_time": "2022-07-14T16:00:15.499Z"
   },
   {
    "duration": 68,
    "start_time": "2022-07-14T16:00:18.205Z"
   },
   {
    "duration": 6,
    "start_time": "2022-07-14T16:00:24.995Z"
   },
   {
    "duration": 6,
    "start_time": "2022-07-14T16:00:39.383Z"
   },
   {
    "duration": 4,
    "start_time": "2022-07-14T16:01:37.832Z"
   },
   {
    "duration": 9,
    "start_time": "2022-07-14T16:02:30.564Z"
   },
   {
    "duration": 12,
    "start_time": "2022-07-14T16:02:41.143Z"
   },
   {
    "duration": 6,
    "start_time": "2022-07-14T16:02:43.743Z"
   },
   {
    "duration": 5,
    "start_time": "2022-07-14T16:03:01.516Z"
   },
   {
    "duration": 5,
    "start_time": "2022-07-14T16:03:08.383Z"
   },
   {
    "duration": 5,
    "start_time": "2022-07-14T16:03:12.543Z"
   },
   {
    "duration": 175,
    "start_time": "2022-07-14T16:06:42.520Z"
   },
   {
    "duration": 15,
    "start_time": "2022-07-14T16:06:49.054Z"
   },
   {
    "duration": 12,
    "start_time": "2022-07-14T16:37:22.092Z"
   },
   {
    "duration": 18,
    "start_time": "2022-07-14T16:37:29.651Z"
   },
   {
    "duration": 6,
    "start_time": "2022-07-14T16:37:36.771Z"
   },
   {
    "duration": 31,
    "start_time": "2022-07-14T16:39:09.591Z"
   },
   {
    "duration": 8,
    "start_time": "2022-07-14T16:46:07.451Z"
   },
   {
    "duration": 7,
    "start_time": "2022-07-14T16:46:19.230Z"
   },
   {
    "duration": 23,
    "start_time": "2022-07-14T16:46:21.850Z"
   },
   {
    "duration": 1066,
    "start_time": "2022-07-14T16:46:32.013Z"
   },
   {
    "duration": 87,
    "start_time": "2022-07-14T16:46:33.081Z"
   },
   {
    "duration": 5,
    "start_time": "2022-07-14T16:46:33.171Z"
   },
   {
    "duration": 11,
    "start_time": "2022-07-14T16:46:33.178Z"
   },
   {
    "duration": 106,
    "start_time": "2022-07-14T16:46:33.191Z"
   },
   {
    "duration": 0,
    "start_time": "2022-07-14T16:46:33.299Z"
   },
   {
    "duration": 0,
    "start_time": "2022-07-14T16:46:33.300Z"
   },
   {
    "duration": 7,
    "start_time": "2022-07-14T16:46:49.822Z"
   },
   {
    "duration": 43,
    "start_time": "2022-07-14T16:46:56.101Z"
   },
   {
    "duration": 7,
    "start_time": "2022-07-14T16:52:00.241Z"
   },
   {
    "duration": 34,
    "start_time": "2022-07-14T16:52:17.570Z"
   },
   {
    "duration": 3,
    "start_time": "2022-07-14T16:52:42.183Z"
   },
   {
    "duration": 30,
    "start_time": "2022-07-14T16:52:45.430Z"
   },
   {
    "duration": 7,
    "start_time": "2022-07-14T16:56:25.409Z"
   },
   {
    "duration": 9,
    "start_time": "2022-07-14T17:15:45.402Z"
   },
   {
    "duration": 6,
    "start_time": "2022-07-14T17:16:00.796Z"
   },
   {
    "duration": 10,
    "start_time": "2022-07-14T17:17:03.067Z"
   },
   {
    "duration": 10,
    "start_time": "2022-07-14T17:17:13.348Z"
   },
   {
    "duration": 1159,
    "start_time": "2022-07-15T07:43:10.375Z"
   },
   {
    "duration": 168,
    "start_time": "2022-07-15T07:43:11.536Z"
   },
   {
    "duration": 6,
    "start_time": "2022-07-15T07:43:11.706Z"
   },
   {
    "duration": 7,
    "start_time": "2022-07-15T07:43:11.714Z"
   },
   {
    "duration": 11,
    "start_time": "2022-07-15T07:43:11.723Z"
   },
   {
    "duration": 62,
    "start_time": "2022-07-15T07:43:11.736Z"
   },
   {
    "duration": 0,
    "start_time": "2022-07-15T07:43:11.799Z"
   },
   {
    "duration": 42,
    "start_time": "2022-07-15T07:43:31.651Z"
   },
   {
    "duration": 718,
    "start_time": "2022-07-15T07:43:39.506Z"
   },
   {
    "duration": 770,
    "start_time": "2022-07-15T07:44:22.886Z"
   },
   {
    "duration": 1104,
    "start_time": "2022-07-15T07:46:18.671Z"
   },
   {
    "duration": 70,
    "start_time": "2022-07-15T07:46:19.777Z"
   },
   {
    "duration": 5,
    "start_time": "2022-07-15T07:46:19.848Z"
   },
   {
    "duration": 25,
    "start_time": "2022-07-15T07:46:19.855Z"
   },
   {
    "duration": 8,
    "start_time": "2022-07-15T07:46:19.881Z"
   },
   {
    "duration": 30,
    "start_time": "2022-07-15T07:46:19.891Z"
   },
   {
    "duration": 684,
    "start_time": "2022-07-15T07:46:19.922Z"
   },
   {
    "duration": 2,
    "start_time": "2022-07-15T07:46:20.607Z"
   },
   {
    "duration": 669,
    "start_time": "2022-07-15T07:47:33.675Z"
   },
   {
    "duration": 1025,
    "start_time": "2022-07-15T07:47:43.283Z"
   },
   {
    "duration": 73,
    "start_time": "2022-07-15T07:47:44.310Z"
   },
   {
    "duration": 5,
    "start_time": "2022-07-15T07:47:44.385Z"
   },
   {
    "duration": 36,
    "start_time": "2022-07-15T07:47:44.391Z"
   },
   {
    "duration": 14,
    "start_time": "2022-07-15T07:47:44.429Z"
   },
   {
    "duration": 60,
    "start_time": "2022-07-15T07:47:44.445Z"
   },
   {
    "duration": 688,
    "start_time": "2022-07-15T07:47:44.506Z"
   },
   {
    "duration": 2,
    "start_time": "2022-07-15T07:47:45.195Z"
   },
   {
    "duration": 1051,
    "start_time": "2022-07-15T07:48:01.807Z"
   },
   {
    "duration": 80,
    "start_time": "2022-07-15T07:48:02.859Z"
   },
   {
    "duration": 5,
    "start_time": "2022-07-15T07:48:02.940Z"
   },
   {
    "duration": 39,
    "start_time": "2022-07-15T07:48:02.947Z"
   },
   {
    "duration": 11,
    "start_time": "2022-07-15T07:48:02.988Z"
   },
   {
    "duration": 58,
    "start_time": "2022-07-15T07:48:03.000Z"
   },
   {
    "duration": 724,
    "start_time": "2022-07-15T07:48:03.061Z"
   },
   {
    "duration": 3,
    "start_time": "2022-07-15T07:48:03.786Z"
   },
   {
    "duration": 8,
    "start_time": "2022-07-15T07:48:41.044Z"
   },
   {
    "duration": 1083,
    "start_time": "2022-07-15T07:49:25.906Z"
   },
   {
    "duration": 83,
    "start_time": "2022-07-15T07:49:26.990Z"
   },
   {
    "duration": 5,
    "start_time": "2022-07-15T07:49:27.075Z"
   },
   {
    "duration": 8,
    "start_time": "2022-07-15T07:49:27.082Z"
   },
   {
    "duration": 7,
    "start_time": "2022-07-15T07:49:27.092Z"
   },
   {
    "duration": 32,
    "start_time": "2022-07-15T07:49:27.101Z"
   },
   {
    "duration": 2846,
    "start_time": "2022-07-15T07:49:27.134Z"
   },
   {
    "duration": 2,
    "start_time": "2022-07-15T07:49:29.982Z"
   },
   {
    "duration": 1030,
    "start_time": "2022-07-15T07:49:59.683Z"
   },
   {
    "duration": 86,
    "start_time": "2022-07-15T07:50:00.714Z"
   },
   {
    "duration": 5,
    "start_time": "2022-07-15T07:50:00.802Z"
   },
   {
    "duration": 20,
    "start_time": "2022-07-15T07:50:00.809Z"
   },
   {
    "duration": 22,
    "start_time": "2022-07-15T07:50:00.831Z"
   },
   {
    "duration": 59,
    "start_time": "2022-07-15T07:50:00.855Z"
   },
   {
    "duration": 732,
    "start_time": "2022-07-15T07:50:00.916Z"
   },
   {
    "duration": 2,
    "start_time": "2022-07-15T07:50:01.650Z"
   },
   {
    "duration": 1100,
    "start_time": "2022-07-15T08:09:00.072Z"
   },
   {
    "duration": 78,
    "start_time": "2022-07-15T08:09:01.174Z"
   },
   {
    "duration": 6,
    "start_time": "2022-07-15T08:09:01.254Z"
   },
   {
    "duration": 41,
    "start_time": "2022-07-15T08:09:01.268Z"
   },
   {
    "duration": 31,
    "start_time": "2022-07-15T08:09:01.311Z"
   },
   {
    "duration": 67,
    "start_time": "2022-07-15T08:09:01.343Z"
   },
   {
    "duration": 13321,
    "start_time": "2022-07-15T08:09:01.412Z"
   },
   {
    "duration": 1048,
    "start_time": "2022-07-15T09:11:47.228Z"
   },
   {
    "duration": 71,
    "start_time": "2022-07-15T09:11:48.278Z"
   },
   {
    "duration": 5,
    "start_time": "2022-07-15T09:11:48.351Z"
   },
   {
    "duration": 21,
    "start_time": "2022-07-15T09:11:48.357Z"
   },
   {
    "duration": 6,
    "start_time": "2022-07-15T09:11:48.380Z"
   },
   {
    "duration": 41,
    "start_time": "2022-07-15T09:11:48.387Z"
   },
   {
    "duration": 12111,
    "start_time": "2022-07-15T09:11:48.429Z"
   },
   {
    "duration": 2,
    "start_time": "2022-07-15T09:12:00.542Z"
   },
   {
    "duration": 1042,
    "start_time": "2022-07-15T09:12:18.799Z"
   },
   {
    "duration": 78,
    "start_time": "2022-07-15T09:12:19.843Z"
   },
   {
    "duration": 6,
    "start_time": "2022-07-15T09:12:19.922Z"
   },
   {
    "duration": 9,
    "start_time": "2022-07-15T09:12:19.929Z"
   },
   {
    "duration": 10,
    "start_time": "2022-07-15T09:12:19.939Z"
   },
   {
    "duration": 47,
    "start_time": "2022-07-15T09:12:19.951Z"
   },
   {
    "duration": 717,
    "start_time": "2022-07-15T09:12:20.000Z"
   },
   {
    "duration": 2,
    "start_time": "2022-07-15T09:12:20.719Z"
   },
   {
    "duration": 5,
    "start_time": "2022-07-15T09:17:16.589Z"
   },
   {
    "duration": 197,
    "start_time": "2022-07-15T09:18:13.657Z"
   },
   {
    "duration": 11,
    "start_time": "2022-07-15T09:18:44.353Z"
   },
   {
    "duration": 39,
    "start_time": "2022-07-15T09:20:49.075Z"
   },
   {
    "duration": 4,
    "start_time": "2022-07-15T09:23:55.699Z"
   },
   {
    "duration": 88,
    "start_time": "2022-07-15T09:24:57.942Z"
   },
   {
    "duration": 4,
    "start_time": "2022-07-15T09:25:27.732Z"
   },
   {
    "duration": 4,
    "start_time": "2022-07-15T09:30:01.551Z"
   },
   {
    "duration": 114,
    "start_time": "2022-07-15T09:30:49.429Z"
   },
   {
    "duration": 4,
    "start_time": "2022-07-15T09:32:18.228Z"
   },
   {
    "duration": 170,
    "start_time": "2022-07-15T09:32:18.846Z"
   },
   {
    "duration": 50,
    "start_time": "2022-07-15T09:32:49.940Z"
   },
   {
    "duration": 172,
    "start_time": "2022-07-15T09:32:54.437Z"
   },
   {
    "duration": 7,
    "start_time": "2022-07-15T09:37:53.418Z"
   },
   {
    "duration": 10,
    "start_time": "2022-07-15T09:38:20.518Z"
   },
   {
    "duration": 463,
    "start_time": "2022-07-16T12:55:40.616Z"
   },
   {
    "duration": 0,
    "start_time": "2022-07-16T12:55:41.081Z"
   },
   {
    "duration": 0,
    "start_time": "2022-07-16T12:55:41.082Z"
   },
   {
    "duration": 0,
    "start_time": "2022-07-16T12:55:41.083Z"
   },
   {
    "duration": 0,
    "start_time": "2022-07-16T12:55:41.084Z"
   },
   {
    "duration": 0,
    "start_time": "2022-07-16T12:55:41.085Z"
   },
   {
    "duration": 0,
    "start_time": "2022-07-16T12:55:41.086Z"
   },
   {
    "duration": 0,
    "start_time": "2022-07-16T12:55:41.088Z"
   },
   {
    "duration": 0,
    "start_time": "2022-07-16T12:55:41.104Z"
   },
   {
    "duration": 0,
    "start_time": "2022-07-16T12:55:41.105Z"
   },
   {
    "duration": 7,
    "start_time": "2022-07-16T12:56:27.641Z"
   },
   {
    "duration": 1140,
    "start_time": "2022-07-16T12:57:33.661Z"
   },
   {
    "duration": 113,
    "start_time": "2022-07-16T12:57:34.804Z"
   },
   {
    "duration": 5,
    "start_time": "2022-07-16T12:57:34.919Z"
   },
   {
    "duration": 7,
    "start_time": "2022-07-16T12:57:34.926Z"
   },
   {
    "duration": 7,
    "start_time": "2022-07-16T12:57:34.934Z"
   },
   {
    "duration": 32,
    "start_time": "2022-07-16T12:57:34.942Z"
   },
   {
    "duration": 776,
    "start_time": "2022-07-16T12:57:34.975Z"
   },
   {
    "duration": 5,
    "start_time": "2022-07-16T12:57:35.753Z"
   },
   {
    "duration": 205,
    "start_time": "2022-07-16T12:57:35.760Z"
   },
   {
    "duration": 104,
    "start_time": "2022-07-16T12:57:35.967Z"
   },
   {
    "duration": 0,
    "start_time": "2022-07-16T12:57:36.072Z"
   },
   {
    "duration": 5,
    "start_time": "2022-07-16T13:06:36.279Z"
   },
   {
    "duration": 8,
    "start_time": "2022-07-16T13:07:03.979Z"
   },
   {
    "duration": 4,
    "start_time": "2022-07-16T13:07:09.115Z"
   },
   {
    "duration": 5,
    "start_time": "2022-07-16T13:36:12.865Z"
   },
   {
    "duration": 5,
    "start_time": "2022-07-16T13:39:46.363Z"
   },
   {
    "duration": 146,
    "start_time": "2022-07-16T13:40:38.388Z"
   },
   {
    "duration": 5,
    "start_time": "2022-07-16T13:40:47.575Z"
   },
   {
    "duration": 9,
    "start_time": "2022-07-16T13:41:54.257Z"
   },
   {
    "duration": 78,
    "start_time": "2022-07-16T13:51:36.953Z"
   },
   {
    "duration": 31,
    "start_time": "2022-07-16T13:51:43.498Z"
   },
   {
    "duration": 7,
    "start_time": "2022-07-16T13:52:51.010Z"
   },
   {
    "duration": 33,
    "start_time": "2022-07-16T13:53:06.308Z"
   },
   {
    "duration": 9,
    "start_time": "2022-07-16T13:53:22.068Z"
   },
   {
    "duration": 9,
    "start_time": "2022-07-16T13:54:14.928Z"
   },
   {
    "duration": 15,
    "start_time": "2022-07-16T13:57:47.369Z"
   },
   {
    "duration": 9,
    "start_time": "2022-07-16T13:58:03.045Z"
   },
   {
    "duration": 12,
    "start_time": "2022-07-16T13:58:30.889Z"
   },
   {
    "duration": 1300,
    "start_time": "2022-07-16T13:58:48.726Z"
   },
   {
    "duration": 87,
    "start_time": "2022-07-16T13:58:50.029Z"
   },
   {
    "duration": 14,
    "start_time": "2022-07-16T13:58:50.118Z"
   },
   {
    "duration": 15,
    "start_time": "2022-07-16T13:58:50.135Z"
   },
   {
    "duration": 44,
    "start_time": "2022-07-16T13:58:50.153Z"
   },
   {
    "duration": 47,
    "start_time": "2022-07-16T13:58:50.199Z"
   },
   {
    "duration": 884,
    "start_time": "2022-07-16T13:58:50.249Z"
   },
   {
    "duration": 6,
    "start_time": "2022-07-16T13:58:51.135Z"
   },
   {
    "duration": 256,
    "start_time": "2022-07-16T13:58:51.143Z"
   },
   {
    "duration": 8,
    "start_time": "2022-07-16T13:58:51.406Z"
   },
   {
    "duration": 15,
    "start_time": "2022-07-16T13:58:51.417Z"
   },
   {
    "duration": 10,
    "start_time": "2022-07-16T13:58:51.434Z"
   },
   {
    "duration": 13,
    "start_time": "2022-07-16T13:59:30.349Z"
   },
   {
    "duration": 23,
    "start_time": "2022-07-16T14:01:00.194Z"
   },
   {
    "duration": 9,
    "start_time": "2022-07-16T14:01:06.270Z"
   },
   {
    "duration": 13,
    "start_time": "2022-07-16T14:04:26.307Z"
   },
   {
    "duration": 5,
    "start_time": "2022-07-16T14:07:02.480Z"
   },
   {
    "duration": 102,
    "start_time": "2022-07-17T11:38:40.070Z"
   },
   {
    "duration": 3,
    "start_time": "2022-07-17T11:42:23.099Z"
   },
   {
    "duration": 68,
    "start_time": "2022-07-17T11:45:39.001Z"
   },
   {
    "duration": 7,
    "start_time": "2022-07-17T11:45:50.034Z"
   },
   {
    "duration": 8,
    "start_time": "2022-07-17T11:46:16.864Z"
   },
   {
    "duration": 11,
    "start_time": "2022-07-17T11:46:20.757Z"
   },
   {
    "duration": 1278,
    "start_time": "2022-07-17T11:46:21.956Z"
   },
   {
    "duration": 131,
    "start_time": "2022-07-17T11:46:24.335Z"
   },
   {
    "duration": 10,
    "start_time": "2022-07-17T11:46:27.229Z"
   },
   {
    "duration": 7,
    "start_time": "2022-07-17T11:46:31.633Z"
   },
   {
    "duration": 9,
    "start_time": "2022-07-17T11:46:41.535Z"
   },
   {
    "duration": 87,
    "start_time": "2022-07-17T11:54:24.415Z"
   },
   {
    "duration": 72,
    "start_time": "2022-07-17T11:54:57.902Z"
   },
   {
    "duration": 16,
    "start_time": "2022-07-17T11:55:01.002Z"
   },
   {
    "duration": 10,
    "start_time": "2022-07-17T11:55:02.116Z"
   },
   {
    "duration": 16,
    "start_time": "2022-07-17T11:55:17.122Z"
   },
   {
    "duration": 7,
    "start_time": "2022-07-17T11:58:24.511Z"
   },
   {
    "duration": 10,
    "start_time": "2022-07-17T11:58:25.981Z"
   },
   {
    "duration": 9,
    "start_time": "2022-07-17T11:58:41.019Z"
   },
   {
    "duration": 69,
    "start_time": "2022-07-17T12:04:53.105Z"
   },
   {
    "duration": 80,
    "start_time": "2022-07-17T12:05:29.230Z"
   },
   {
    "duration": 30,
    "start_time": "2022-07-17T12:05:46.945Z"
   },
   {
    "duration": 14,
    "start_time": "2022-07-17T12:07:01.212Z"
   },
   {
    "duration": 11,
    "start_time": "2022-07-17T12:07:06.360Z"
   },
   {
    "duration": 11,
    "start_time": "2022-07-17T12:07:09.771Z"
   },
   {
    "duration": 11,
    "start_time": "2022-07-17T12:08:39.982Z"
   },
   {
    "duration": 10,
    "start_time": "2022-07-17T12:09:13.713Z"
   },
   {
    "duration": 76,
    "start_time": "2022-07-17T12:12:25.731Z"
   },
   {
    "duration": 80,
    "start_time": "2022-07-17T12:20:29.526Z"
   },
   {
    "duration": 176,
    "start_time": "2022-07-17T12:25:02.689Z"
   },
   {
    "duration": 10,
    "start_time": "2022-07-17T12:44:10.266Z"
   },
   {
    "duration": 10,
    "start_time": "2022-07-17T12:46:19.770Z"
   },
   {
    "duration": 121,
    "start_time": "2022-07-17T12:47:55.949Z"
   },
   {
    "duration": 9,
    "start_time": "2022-07-17T12:48:52.135Z"
   },
   {
    "duration": 13,
    "start_time": "2022-07-17T12:49:30.236Z"
   },
   {
    "duration": 10,
    "start_time": "2022-07-17T12:49:48.659Z"
   },
   {
    "duration": 63,
    "start_time": "2022-07-17T14:26:30.263Z"
   },
   {
    "duration": 1266,
    "start_time": "2022-07-17T14:26:36.983Z"
   },
   {
    "duration": 64,
    "start_time": "2022-07-17T14:26:38.252Z"
   },
   {
    "duration": 21,
    "start_time": "2022-07-17T14:26:38.318Z"
   },
   {
    "duration": 16,
    "start_time": "2022-07-17T14:26:38.340Z"
   },
   {
    "duration": 31,
    "start_time": "2022-07-17T14:26:38.359Z"
   },
   {
    "duration": 27,
    "start_time": "2022-07-17T14:26:38.392Z"
   },
   {
    "duration": 23,
    "start_time": "2022-07-17T14:26:38.421Z"
   },
   {
    "duration": 17,
    "start_time": "2022-07-17T14:26:38.447Z"
   },
   {
    "duration": 153,
    "start_time": "2022-07-17T14:26:38.466Z"
   },
   {
    "duration": 0,
    "start_time": "2022-07-17T14:26:38.623Z"
   },
   {
    "duration": 0,
    "start_time": "2022-07-17T14:26:38.624Z"
   },
   {
    "duration": 0,
    "start_time": "2022-07-17T14:26:38.626Z"
   },
   {
    "duration": 0,
    "start_time": "2022-07-17T14:26:38.627Z"
   },
   {
    "duration": 0,
    "start_time": "2022-07-17T14:26:38.628Z"
   },
   {
    "duration": 0,
    "start_time": "2022-07-17T14:26:38.629Z"
   },
   {
    "duration": 0,
    "start_time": "2022-07-17T14:26:38.630Z"
   },
   {
    "duration": 23,
    "start_time": "2022-07-17T14:27:04.670Z"
   },
   {
    "duration": 44,
    "start_time": "2022-07-17T14:27:20.866Z"
   },
   {
    "duration": 1203,
    "start_time": "2022-07-17T14:27:31.558Z"
   },
   {
    "duration": 30,
    "start_time": "2022-07-17T14:27:32.763Z"
   },
   {
    "duration": 27,
    "start_time": "2022-07-17T14:27:32.795Z"
   },
   {
    "duration": 26,
    "start_time": "2022-07-17T14:27:32.824Z"
   },
   {
    "duration": 19,
    "start_time": "2022-07-17T14:27:32.853Z"
   },
   {
    "duration": 12,
    "start_time": "2022-07-17T14:27:32.875Z"
   },
   {
    "duration": 16,
    "start_time": "2022-07-17T14:27:32.889Z"
   },
   {
    "duration": 19,
    "start_time": "2022-07-17T14:27:32.907Z"
   },
   {
    "duration": 44,
    "start_time": "2022-07-17T14:27:32.929Z"
   },
   {
    "duration": 818,
    "start_time": "2022-07-17T14:27:32.975Z"
   },
   {
    "duration": 10,
    "start_time": "2022-07-17T14:27:33.795Z"
   },
   {
    "duration": 226,
    "start_time": "2022-07-17T14:27:33.807Z"
   },
   {
    "duration": 131,
    "start_time": "2022-07-17T14:27:34.034Z"
   },
   {
    "duration": 0,
    "start_time": "2022-07-17T14:27:34.169Z"
   },
   {
    "duration": 1,
    "start_time": "2022-07-17T14:27:34.170Z"
   },
   {
    "duration": 0,
    "start_time": "2022-07-17T14:27:34.172Z"
   },
   {
    "duration": 52,
    "start_time": "2022-07-17T14:28:19.252Z"
   },
   {
    "duration": 47,
    "start_time": "2022-07-17T14:32:23.489Z"
   },
   {
    "duration": 43,
    "start_time": "2022-07-17T14:32:27.373Z"
   },
   {
    "duration": 49,
    "start_time": "2022-07-17T14:43:49.280Z"
   },
   {
    "duration": 1132,
    "start_time": "2022-07-17T14:44:34.331Z"
   },
   {
    "duration": 1262,
    "start_time": "2022-07-17T14:45:11.298Z"
   },
   {
    "duration": 35,
    "start_time": "2022-07-17T14:45:12.562Z"
   },
   {
    "duration": 25,
    "start_time": "2022-07-17T14:45:12.599Z"
   },
   {
    "duration": 19,
    "start_time": "2022-07-17T14:45:12.627Z"
   },
   {
    "duration": 11,
    "start_time": "2022-07-17T14:45:12.649Z"
   },
   {
    "duration": 9,
    "start_time": "2022-07-17T14:45:12.662Z"
   },
   {
    "duration": 42,
    "start_time": "2022-07-17T14:45:12.673Z"
   },
   {
    "duration": 21,
    "start_time": "2022-07-17T14:45:12.717Z"
   },
   {
    "duration": 53,
    "start_time": "2022-07-17T14:45:12.740Z"
   },
   {
    "duration": 2251,
    "start_time": "2022-07-17T14:45:12.795Z"
   },
   {
    "duration": 0,
    "start_time": "2022-07-17T14:45:15.048Z"
   },
   {
    "duration": 0,
    "start_time": "2022-07-17T14:45:15.050Z"
   },
   {
    "duration": 0,
    "start_time": "2022-07-17T14:45:15.052Z"
   },
   {
    "duration": 0,
    "start_time": "2022-07-17T14:45:15.053Z"
   },
   {
    "duration": 0,
    "start_time": "2022-07-17T14:45:15.055Z"
   },
   {
    "duration": 0,
    "start_time": "2022-07-17T14:45:15.057Z"
   },
   {
    "duration": 1267,
    "start_time": "2022-07-17T14:45:44.227Z"
   },
   {
    "duration": 44,
    "start_time": "2022-07-17T14:45:45.496Z"
   },
   {
    "duration": 20,
    "start_time": "2022-07-17T14:45:45.542Z"
   },
   {
    "duration": 12,
    "start_time": "2022-07-17T14:45:45.564Z"
   },
   {
    "duration": 8,
    "start_time": "2022-07-17T14:45:45.579Z"
   },
   {
    "duration": 8,
    "start_time": "2022-07-17T14:45:45.589Z"
   },
   {
    "duration": 15,
    "start_time": "2022-07-17T14:45:45.598Z"
   },
   {
    "duration": 28,
    "start_time": "2022-07-17T14:45:45.617Z"
   },
   {
    "duration": 46,
    "start_time": "2022-07-17T14:45:45.646Z"
   },
   {
    "duration": 2023,
    "start_time": "2022-07-17T14:45:45.693Z"
   },
   {
    "duration": 12,
    "start_time": "2022-07-17T14:45:47.719Z"
   },
   {
    "duration": 220,
    "start_time": "2022-07-17T14:45:47.733Z"
   },
   {
    "duration": 118,
    "start_time": "2022-07-17T14:45:47.954Z"
   },
   {
    "duration": 1,
    "start_time": "2022-07-17T14:45:48.073Z"
   },
   {
    "duration": 0,
    "start_time": "2022-07-17T14:45:48.075Z"
   },
   {
    "duration": 0,
    "start_time": "2022-07-17T14:45:48.076Z"
   },
   {
    "duration": 2365,
    "start_time": "2022-07-17T14:46:20.965Z"
   },
   {
    "duration": 5,
    "start_time": "2022-07-17T14:56:05.876Z"
   },
   {
    "duration": 216,
    "start_time": "2022-07-17T15:02:48.203Z"
   },
   {
    "duration": 164,
    "start_time": "2022-07-17T15:05:40.704Z"
   },
   {
    "duration": 83,
    "start_time": "2022-07-17T15:05:51.788Z"
   },
   {
    "duration": 252,
    "start_time": "2022-07-17T15:06:03.072Z"
   },
   {
    "duration": 1273,
    "start_time": "2022-07-17T18:19:37.666Z"
   },
   {
    "duration": 93,
    "start_time": "2022-07-17T18:19:38.942Z"
   },
   {
    "duration": 25,
    "start_time": "2022-07-17T18:19:39.037Z"
   },
   {
    "duration": 16,
    "start_time": "2022-07-17T18:19:39.065Z"
   },
   {
    "duration": 13,
    "start_time": "2022-07-17T18:19:39.084Z"
   },
   {
    "duration": 11,
    "start_time": "2022-07-17T18:19:39.104Z"
   },
   {
    "duration": 17,
    "start_time": "2022-07-17T18:19:39.117Z"
   },
   {
    "duration": 13,
    "start_time": "2022-07-17T18:19:39.136Z"
   },
   {
    "duration": 112,
    "start_time": "2022-07-17T18:19:39.152Z"
   },
   {
    "duration": 3454,
    "start_time": "2022-07-17T18:19:39.267Z"
   },
   {
    "duration": 8,
    "start_time": "2022-07-17T18:19:42.723Z"
   },
   {
    "duration": 643,
    "start_time": "2022-07-17T18:19:42.733Z"
   },
   {
    "duration": 0,
    "start_time": "2022-07-17T18:19:43.378Z"
   },
   {
    "duration": 0,
    "start_time": "2022-07-17T18:19:43.381Z"
   },
   {
    "duration": 0,
    "start_time": "2022-07-17T18:19:43.383Z"
   },
   {
    "duration": 0,
    "start_time": "2022-07-17T18:19:43.384Z"
   },
   {
    "duration": 1389,
    "start_time": "2022-07-17T18:20:46.696Z"
   },
   {
    "duration": 3975,
    "start_time": "2022-07-17T18:24:24.686Z"
   },
   {
    "duration": 13,
    "start_time": "2022-07-17T18:31:27.742Z"
   },
   {
    "duration": 5,
    "start_time": "2022-07-17T18:31:39.105Z"
   },
   {
    "duration": 6,
    "start_time": "2022-07-17T18:32:39.097Z"
   },
   {
    "duration": 6,
    "start_time": "2022-07-17T18:32:54.554Z"
   },
   {
    "duration": 15,
    "start_time": "2022-07-17T18:33:45.679Z"
   },
   {
    "duration": 11,
    "start_time": "2022-07-17T18:34:33.052Z"
   },
   {
    "duration": 12,
    "start_time": "2022-07-17T18:34:42.013Z"
   },
   {
    "duration": 16,
    "start_time": "2022-07-17T18:34:54.525Z"
   },
   {
    "duration": 7,
    "start_time": "2022-07-17T18:35:01.154Z"
   },
   {
    "duration": 80,
    "start_time": "2022-07-17T18:39:05.720Z"
   },
   {
    "duration": 8,
    "start_time": "2022-07-17T18:39:08.894Z"
   },
   {
    "duration": 86,
    "start_time": "2022-07-17T18:41:03.495Z"
   },
   {
    "duration": 77,
    "start_time": "2022-07-17T18:41:11.346Z"
   },
   {
    "duration": 81,
    "start_time": "2022-07-17T18:43:07.258Z"
   },
   {
    "duration": 8,
    "start_time": "2022-07-17T18:43:35.847Z"
   },
   {
    "duration": 18,
    "start_time": "2022-07-17T18:47:11.727Z"
   },
   {
    "duration": 6,
    "start_time": "2022-07-17T18:49:31.248Z"
   },
   {
    "duration": 128,
    "start_time": "2022-07-17T18:50:33.694Z"
   },
   {
    "duration": 102,
    "start_time": "2022-07-17T19:09:00.500Z"
   },
   {
    "duration": 10,
    "start_time": "2022-07-17T19:24:39.762Z"
   },
   {
    "duration": 15,
    "start_time": "2022-07-17T19:25:03.875Z"
   },
   {
    "duration": 7,
    "start_time": "2022-07-17T19:36:20.166Z"
   },
   {
    "duration": 1281,
    "start_time": "2022-07-17T19:39:56.452Z"
   },
   {
    "duration": 30,
    "start_time": "2022-07-17T19:39:57.735Z"
   },
   {
    "duration": 19,
    "start_time": "2022-07-17T19:39:57.767Z"
   },
   {
    "duration": 12,
    "start_time": "2022-07-17T19:39:57.788Z"
   },
   {
    "duration": 23,
    "start_time": "2022-07-17T19:39:57.803Z"
   },
   {
    "duration": 8,
    "start_time": "2022-07-17T19:39:57.828Z"
   },
   {
    "duration": 11,
    "start_time": "2022-07-17T19:39:57.837Z"
   },
   {
    "duration": 8,
    "start_time": "2022-07-17T19:39:57.849Z"
   },
   {
    "duration": 68,
    "start_time": "2022-07-17T19:39:57.859Z"
   },
   {
    "duration": 3430,
    "start_time": "2022-07-17T19:39:57.929Z"
   },
   {
    "duration": 5,
    "start_time": "2022-07-17T19:40:01.361Z"
   },
   {
    "duration": 3852,
    "start_time": "2022-07-17T19:40:01.369Z"
   },
   {
    "duration": 5,
    "start_time": "2022-07-17T19:40:05.223Z"
   },
   {
    "duration": 11,
    "start_time": "2022-07-17T19:40:05.231Z"
   },
   {
    "duration": 10,
    "start_time": "2022-07-17T19:40:05.244Z"
   },
   {
    "duration": 8,
    "start_time": "2022-07-17T19:40:05.256Z"
   },
   {
    "duration": 1330,
    "start_time": "2022-07-17T20:41:44.533Z"
   },
   {
    "duration": 113,
    "start_time": "2022-07-17T20:41:45.865Z"
   },
   {
    "duration": 17,
    "start_time": "2022-07-17T20:41:45.980Z"
   },
   {
    "duration": 11,
    "start_time": "2022-07-17T20:41:45.999Z"
   },
   {
    "duration": 10,
    "start_time": "2022-07-17T20:41:46.013Z"
   },
   {
    "duration": 9,
    "start_time": "2022-07-17T20:41:46.024Z"
   },
   {
    "duration": 9,
    "start_time": "2022-07-17T20:41:46.035Z"
   },
   {
    "duration": 7,
    "start_time": "2022-07-17T20:41:46.064Z"
   },
   {
    "duration": 40,
    "start_time": "2022-07-17T20:41:46.073Z"
   },
   {
    "duration": 1839,
    "start_time": "2022-07-17T20:41:46.115Z"
   },
   {
    "duration": 10,
    "start_time": "2022-07-17T20:41:47.955Z"
   },
   {
    "duration": 3218,
    "start_time": "2022-07-17T20:41:47.967Z"
   },
   {
    "duration": 5,
    "start_time": "2022-07-17T20:41:51.187Z"
   },
   {
    "duration": 14,
    "start_time": "2022-07-17T20:41:51.195Z"
   },
   {
    "duration": 10,
    "start_time": "2022-07-17T20:41:51.210Z"
   },
   {
    "duration": 4,
    "start_time": "2022-07-17T20:41:51.221Z"
   },
   {
    "duration": 1027,
    "start_time": "2022-07-18T15:48:04.570Z"
   },
   {
    "duration": 60,
    "start_time": "2022-07-18T15:48:05.599Z"
   },
   {
    "duration": 16,
    "start_time": "2022-07-18T15:48:05.661Z"
   },
   {
    "duration": 9,
    "start_time": "2022-07-18T15:48:05.679Z"
   },
   {
    "duration": 9,
    "start_time": "2022-07-18T15:48:05.690Z"
   },
   {
    "duration": 100,
    "start_time": "2022-07-18T15:48:12.658Z"
   },
   {
    "duration": 15,
    "start_time": "2022-07-18T15:50:32.090Z"
   },
   {
    "duration": 14,
    "start_time": "2022-07-18T15:55:44.271Z"
   },
   {
    "duration": 34,
    "start_time": "2022-07-18T15:56:56.991Z"
   },
   {
    "duration": 0,
    "start_time": "2022-07-18T15:57:28.766Z"
   },
   {
    "duration": 15,
    "start_time": "2022-07-18T15:57:39.190Z"
   },
   {
    "duration": 1150,
    "start_time": "2022-07-18T15:57:55.748Z"
   },
   {
    "duration": 28,
    "start_time": "2022-07-18T15:57:56.900Z"
   },
   {
    "duration": 18,
    "start_time": "2022-07-18T15:57:56.929Z"
   },
   {
    "duration": 10,
    "start_time": "2022-07-18T15:57:56.949Z"
   },
   {
    "duration": 11,
    "start_time": "2022-07-18T15:57:56.960Z"
   },
   {
    "duration": 93,
    "start_time": "2022-07-18T15:57:56.972Z"
   },
   {
    "duration": 0,
    "start_time": "2022-07-18T15:57:57.067Z"
   },
   {
    "duration": 0,
    "start_time": "2022-07-18T15:57:57.068Z"
   },
   {
    "duration": 0,
    "start_time": "2022-07-18T15:57:57.069Z"
   },
   {
    "duration": 0,
    "start_time": "2022-07-18T15:57:57.070Z"
   },
   {
    "duration": 0,
    "start_time": "2022-07-18T15:57:57.071Z"
   },
   {
    "duration": 0,
    "start_time": "2022-07-18T15:57:57.072Z"
   },
   {
    "duration": 0,
    "start_time": "2022-07-18T15:57:57.073Z"
   },
   {
    "duration": 0,
    "start_time": "2022-07-18T15:57:57.074Z"
   },
   {
    "duration": 0,
    "start_time": "2022-07-18T15:57:57.075Z"
   },
   {
    "duration": 0,
    "start_time": "2022-07-18T15:57:57.076Z"
   },
   {
    "duration": 12,
    "start_time": "2022-07-18T15:58:25.008Z"
   },
   {
    "duration": 9,
    "start_time": "2022-07-18T15:58:32.195Z"
   },
   {
    "duration": 14,
    "start_time": "2022-07-18T16:01:24.505Z"
   },
   {
    "duration": 12,
    "start_time": "2022-07-18T16:01:38.534Z"
   },
   {
    "duration": 1145,
    "start_time": "2022-07-18T16:01:50.236Z"
   },
   {
    "duration": 34,
    "start_time": "2022-07-18T16:01:51.384Z"
   },
   {
    "duration": 18,
    "start_time": "2022-07-18T16:01:51.419Z"
   },
   {
    "duration": 10,
    "start_time": "2022-07-18T16:01:51.439Z"
   },
   {
    "duration": 22,
    "start_time": "2022-07-18T16:01:51.451Z"
   },
   {
    "duration": 16,
    "start_time": "2022-07-18T16:01:51.475Z"
   },
   {
    "duration": 18,
    "start_time": "2022-07-18T16:01:55.345Z"
   },
   {
    "duration": 987,
    "start_time": "2022-07-18T16:02:06.597Z"
   },
   {
    "duration": 28,
    "start_time": "2022-07-18T16:02:07.585Z"
   },
   {
    "duration": 17,
    "start_time": "2022-07-18T16:02:07.614Z"
   },
   {
    "duration": 10,
    "start_time": "2022-07-18T16:02:07.632Z"
   },
   {
    "duration": 20,
    "start_time": "2022-07-18T16:02:07.644Z"
   },
   {
    "duration": 16,
    "start_time": "2022-07-18T16:02:11.226Z"
   },
   {
    "duration": 1118,
    "start_time": "2022-07-18T20:52:47.577Z"
   },
   {
    "duration": 59,
    "start_time": "2022-07-18T20:52:48.697Z"
   },
   {
    "duration": 17,
    "start_time": "2022-07-18T20:52:48.758Z"
   },
   {
    "duration": 10,
    "start_time": "2022-07-18T20:52:48.777Z"
   },
   {
    "duration": 8,
    "start_time": "2022-07-18T20:52:48.789Z"
   },
   {
    "duration": 15,
    "start_time": "2022-07-18T20:52:48.799Z"
   },
   {
    "duration": 39,
    "start_time": "2022-07-18T20:52:48.815Z"
   },
   {
    "duration": 3,
    "start_time": "2022-07-18T20:52:48.856Z"
   },
   {
    "duration": 108,
    "start_time": "2022-07-18T20:52:53.035Z"
   },
   {
    "duration": 17,
    "start_time": "2022-07-18T20:53:38.120Z"
   },
   {
    "duration": 20,
    "start_time": "2022-07-18T20:54:28.279Z"
   },
   {
    "duration": 287,
    "start_time": "2022-07-18T20:54:36.870Z"
   },
   {
    "duration": 259,
    "start_time": "2022-07-18T20:55:07.531Z"
   },
   {
    "duration": 33,
    "start_time": "2022-07-18T20:55:33.055Z"
   },
   {
    "duration": 279,
    "start_time": "2022-07-18T20:55:50.586Z"
   },
   {
    "duration": 11,
    "start_time": "2022-07-18T20:58:02.746Z"
   },
   {
    "duration": 11,
    "start_time": "2022-07-18T20:58:24.655Z"
   },
   {
    "duration": 10,
    "start_time": "2022-07-18T20:58:33.851Z"
   },
   {
    "duration": 11,
    "start_time": "2022-07-18T20:58:37.721Z"
   },
   {
    "duration": 10,
    "start_time": "2022-07-18T20:58:39.353Z"
   },
   {
    "duration": 11,
    "start_time": "2022-07-18T20:58:43.061Z"
   },
   {
    "duration": 10,
    "start_time": "2022-07-18T20:58:47.637Z"
   },
   {
    "duration": 9,
    "start_time": "2022-07-18T20:58:50.605Z"
   },
   {
    "duration": 8,
    "start_time": "2022-07-18T20:58:53.389Z"
   },
   {
    "duration": 13,
    "start_time": "2022-07-18T20:58:57.495Z"
   },
   {
    "duration": 11,
    "start_time": "2022-07-18T20:59:06.666Z"
   },
   {
    "duration": 13,
    "start_time": "2022-07-18T20:59:15.738Z"
   },
   {
    "duration": 13,
    "start_time": "2022-07-18T20:59:20.342Z"
   },
   {
    "duration": 18,
    "start_time": "2022-07-18T20:59:24.730Z"
   },
   {
    "duration": 14,
    "start_time": "2022-07-18T20:59:30.334Z"
   },
   {
    "duration": 11,
    "start_time": "2022-07-18T20:59:35.422Z"
   },
   {
    "duration": 287,
    "start_time": "2022-07-18T21:01:38.198Z"
   },
   {
    "duration": 12,
    "start_time": "2022-07-18T21:02:22.989Z"
   },
   {
    "duration": 10,
    "start_time": "2022-07-18T21:02:30.694Z"
   },
   {
    "duration": 67,
    "start_time": "2022-07-18T21:02:55.278Z"
   },
   {
    "duration": 1808,
    "start_time": "2022-07-18T21:03:36.789Z"
   },
   {
    "duration": 71,
    "start_time": "2022-07-18T21:04:20.240Z"
   },
   {
    "duration": 261,
    "start_time": "2022-07-18T21:05:19.401Z"
   },
   {
    "duration": 1127,
    "start_time": "2022-07-18T21:05:35.755Z"
   },
   {
    "duration": 27,
    "start_time": "2022-07-18T21:05:36.884Z"
   },
   {
    "duration": 17,
    "start_time": "2022-07-18T21:05:36.913Z"
   },
   {
    "duration": 10,
    "start_time": "2022-07-18T21:05:36.932Z"
   },
   {
    "duration": 10,
    "start_time": "2022-07-18T21:05:36.944Z"
   },
   {
    "duration": 15,
    "start_time": "2022-07-18T21:05:36.955Z"
   },
   {
    "duration": 6,
    "start_time": "2022-07-18T21:05:36.971Z"
   },
   {
    "duration": 85,
    "start_time": "2022-07-18T21:05:36.979Z"
   },
   {
    "duration": 297,
    "start_time": "2022-07-18T21:05:37.066Z"
   },
   {
    "duration": 10,
    "start_time": "2022-07-18T21:05:37.365Z"
   },
   {
    "duration": 1811,
    "start_time": "2022-07-18T21:05:37.377Z"
   },
   {
    "duration": 4,
    "start_time": "2022-07-18T21:05:39.190Z"
   },
   {
    "duration": 3587,
    "start_time": "2022-07-18T21:05:39.195Z"
   },
   {
    "duration": 4,
    "start_time": "2022-07-18T21:05:42.786Z"
   },
   {
    "duration": 12,
    "start_time": "2022-07-18T21:05:42.792Z"
   },
   {
    "duration": 9,
    "start_time": "2022-07-18T21:05:42.806Z"
   },
   {
    "duration": 5,
    "start_time": "2022-07-18T21:05:42.817Z"
   },
   {
    "duration": 265,
    "start_time": "2022-07-18T21:06:00.469Z"
   },
   {
    "duration": 312,
    "start_time": "2022-07-18T21:14:19.946Z"
   },
   {
    "duration": 266,
    "start_time": "2022-07-18T21:17:15.111Z"
   },
   {
    "duration": 342,
    "start_time": "2022-07-18T21:17:23.891Z"
   },
   {
    "duration": 265,
    "start_time": "2022-07-18T21:17:26.462Z"
   },
   {
    "duration": 297,
    "start_time": "2022-07-18T21:19:55.857Z"
   },
   {
    "duration": 271,
    "start_time": "2022-07-18T21:21:02.453Z"
   },
   {
    "duration": 263,
    "start_time": "2022-07-18T21:21:09.582Z"
   },
   {
    "duration": 274,
    "start_time": "2022-07-18T21:21:42.095Z"
   },
   {
    "duration": 1024,
    "start_time": "2022-07-18T21:21:51.985Z"
   },
   {
    "duration": 27,
    "start_time": "2022-07-18T21:21:53.012Z"
   },
   {
    "duration": 19,
    "start_time": "2022-07-18T21:21:53.041Z"
   },
   {
    "duration": 11,
    "start_time": "2022-07-18T21:21:53.062Z"
   },
   {
    "duration": 11,
    "start_time": "2022-07-18T21:21:53.074Z"
   },
   {
    "duration": 15,
    "start_time": "2022-07-18T21:21:53.087Z"
   },
   {
    "duration": 6,
    "start_time": "2022-07-18T21:21:53.103Z"
   },
   {
    "duration": 97,
    "start_time": "2022-07-18T21:21:53.111Z"
   },
   {
    "duration": 295,
    "start_time": "2022-07-18T21:21:53.210Z"
   },
   {
    "duration": 2553,
    "start_time": "2022-07-18T21:21:53.507Z"
   },
   {
    "duration": 6,
    "start_time": "2022-07-18T21:21:56.063Z"
   },
   {
    "duration": 3818,
    "start_time": "2022-07-18T21:21:56.071Z"
   },
   {
    "duration": 5,
    "start_time": "2022-07-18T21:21:59.890Z"
   },
   {
    "duration": 15,
    "start_time": "2022-07-18T21:21:59.897Z"
   },
   {
    "duration": 12,
    "start_time": "2022-07-18T21:21:59.913Z"
   },
   {
    "duration": 5,
    "start_time": "2022-07-18T21:21:59.927Z"
   },
   {
    "duration": 61,
    "start_time": "2022-07-18T21:28:59.966Z"
   },
   {
    "duration": 299,
    "start_time": "2022-07-18T21:31:01.117Z"
   },
   {
    "duration": 34,
    "start_time": "2022-07-18T21:31:10.969Z"
   },
   {
    "duration": 72,
    "start_time": "2022-07-18T21:31:15.306Z"
   },
   {
    "duration": 260,
    "start_time": "2022-07-18T21:33:07.965Z"
   },
   {
    "duration": 102,
    "start_time": "2022-07-18T21:33:13.873Z"
   },
   {
    "duration": 107,
    "start_time": "2022-07-18T21:33:35.645Z"
   },
   {
    "duration": 414,
    "start_time": "2022-07-18T21:33:42.665Z"
   },
   {
    "duration": 535,
    "start_time": "2022-07-18T21:33:46.893Z"
   },
   {
    "duration": 273,
    "start_time": "2022-07-18T21:33:57.116Z"
   },
   {
    "duration": 25,
    "start_time": "2022-07-18T21:41:42.591Z"
   },
   {
    "duration": 265,
    "start_time": "2022-07-18T21:42:01.202Z"
   },
   {
    "duration": 46,
    "start_time": "2022-07-19T08:49:01.645Z"
   },
   {
    "duration": 1107,
    "start_time": "2022-07-19T08:49:06.926Z"
   },
   {
    "duration": 122,
    "start_time": "2022-07-19T08:49:08.035Z"
   },
   {
    "duration": 20,
    "start_time": "2022-07-19T08:49:08.159Z"
   },
   {
    "duration": 15,
    "start_time": "2022-07-19T08:49:08.182Z"
   },
   {
    "duration": 13,
    "start_time": "2022-07-19T08:49:08.198Z"
   },
   {
    "duration": 17,
    "start_time": "2022-07-19T08:49:08.212Z"
   },
   {
    "duration": 7,
    "start_time": "2022-07-19T08:49:08.230Z"
   },
   {
    "duration": 92,
    "start_time": "2022-07-19T08:49:08.239Z"
   },
   {
    "duration": 135,
    "start_time": "2022-07-19T08:49:08.333Z"
   },
   {
    "duration": 0,
    "start_time": "2022-07-19T08:49:08.470Z"
   },
   {
    "duration": 0,
    "start_time": "2022-07-19T08:49:08.472Z"
   },
   {
    "duration": 0,
    "start_time": "2022-07-19T08:49:08.473Z"
   },
   {
    "duration": 0,
    "start_time": "2022-07-19T08:49:08.474Z"
   },
   {
    "duration": 0,
    "start_time": "2022-07-19T08:49:08.475Z"
   },
   {
    "duration": 0,
    "start_time": "2022-07-19T08:49:08.477Z"
   },
   {
    "duration": 0,
    "start_time": "2022-07-19T08:49:08.478Z"
   },
   {
    "duration": 3,
    "start_time": "2022-07-19T08:49:41.596Z"
   },
   {
    "duration": 46,
    "start_time": "2022-07-19T08:49:46.479Z"
   },
   {
    "duration": 1114,
    "start_time": "2022-07-19T08:58:00.433Z"
   },
   {
    "duration": 30,
    "start_time": "2022-07-19T08:58:01.550Z"
   },
   {
    "duration": 23,
    "start_time": "2022-07-19T08:58:01.582Z"
   },
   {
    "duration": 20,
    "start_time": "2022-07-19T08:58:01.607Z"
   },
   {
    "duration": 26,
    "start_time": "2022-07-19T08:58:01.631Z"
   },
   {
    "duration": 24,
    "start_time": "2022-07-19T08:58:01.658Z"
   },
   {
    "duration": 10,
    "start_time": "2022-07-19T08:58:01.684Z"
   },
   {
    "duration": 93,
    "start_time": "2022-07-19T08:58:01.696Z"
   },
   {
    "duration": 3,
    "start_time": "2022-07-19T08:58:01.791Z"
   },
   {
    "duration": 1947,
    "start_time": "2022-07-19T08:58:01.796Z"
   },
   {
    "duration": 6,
    "start_time": "2022-07-19T08:58:03.745Z"
   },
   {
    "duration": 5743,
    "start_time": "2022-07-19T08:58:03.753Z"
   },
   {
    "duration": 6,
    "start_time": "2022-07-19T08:58:09.497Z"
   },
   {
    "duration": 33,
    "start_time": "2022-07-19T08:58:09.507Z"
   },
   {
    "duration": 14,
    "start_time": "2022-07-19T08:58:09.542Z"
   },
   {
    "duration": 6,
    "start_time": "2022-07-19T08:58:09.558Z"
   },
   {
    "duration": 133,
    "start_time": "2022-07-19T09:03:02.854Z"
   },
   {
    "duration": 1198,
    "start_time": "2022-07-19T09:03:11.304Z"
   },
   {
    "duration": 38,
    "start_time": "2022-07-19T09:03:12.504Z"
   },
   {
    "duration": 26,
    "start_time": "2022-07-19T09:03:12.548Z"
   },
   {
    "duration": 15,
    "start_time": "2022-07-19T09:03:12.576Z"
   },
   {
    "duration": 9,
    "start_time": "2022-07-19T09:03:12.594Z"
   },
   {
    "duration": 33,
    "start_time": "2022-07-19T09:03:12.605Z"
   },
   {
    "duration": 9,
    "start_time": "2022-07-19T09:03:12.640Z"
   },
   {
    "duration": 112,
    "start_time": "2022-07-19T09:03:12.653Z"
   },
   {
    "duration": 465,
    "start_time": "2022-07-19T09:03:12.769Z"
   },
   {
    "duration": 0,
    "start_time": "2022-07-19T09:03:13.240Z"
   },
   {
    "duration": 0,
    "start_time": "2022-07-19T09:03:13.241Z"
   },
   {
    "duration": 0,
    "start_time": "2022-07-19T09:03:13.242Z"
   },
   {
    "duration": 0,
    "start_time": "2022-07-19T09:03:13.243Z"
   },
   {
    "duration": 0,
    "start_time": "2022-07-19T09:03:13.244Z"
   },
   {
    "duration": 0,
    "start_time": "2022-07-19T09:03:13.249Z"
   },
   {
    "duration": 0,
    "start_time": "2022-07-19T09:03:13.252Z"
   },
   {
    "duration": 371,
    "start_time": "2022-07-19T09:03:19.059Z"
   },
   {
    "duration": 8,
    "start_time": "2022-07-19T09:09:39.799Z"
   },
   {
    "duration": 330,
    "start_time": "2022-07-19T09:10:07.561Z"
   },
   {
    "duration": 333,
    "start_time": "2022-07-19T09:13:09.475Z"
   },
   {
    "duration": 1140,
    "start_time": "2022-07-19T09:13:15.553Z"
   },
   {
    "duration": 36,
    "start_time": "2022-07-19T09:13:16.694Z"
   },
   {
    "duration": 22,
    "start_time": "2022-07-19T09:13:16.737Z"
   },
   {
    "duration": 13,
    "start_time": "2022-07-19T09:13:16.760Z"
   },
   {
    "duration": 8,
    "start_time": "2022-07-19T09:13:16.776Z"
   },
   {
    "duration": 74,
    "start_time": "2022-07-19T09:13:16.786Z"
   },
   {
    "duration": 0,
    "start_time": "2022-07-19T09:13:16.862Z"
   },
   {
    "duration": 0,
    "start_time": "2022-07-19T09:13:16.863Z"
   },
   {
    "duration": 0,
    "start_time": "2022-07-19T09:13:16.865Z"
   },
   {
    "duration": 0,
    "start_time": "2022-07-19T09:13:16.866Z"
   },
   {
    "duration": 0,
    "start_time": "2022-07-19T09:13:16.866Z"
   },
   {
    "duration": 0,
    "start_time": "2022-07-19T09:13:16.867Z"
   },
   {
    "duration": 0,
    "start_time": "2022-07-19T09:13:16.869Z"
   },
   {
    "duration": 0,
    "start_time": "2022-07-19T09:13:16.870Z"
   },
   {
    "duration": 0,
    "start_time": "2022-07-19T09:13:16.871Z"
   },
   {
    "duration": 0,
    "start_time": "2022-07-19T09:13:16.873Z"
   },
   {
    "duration": 0,
    "start_time": "2022-07-19T09:13:16.874Z"
   },
   {
    "duration": 17,
    "start_time": "2022-07-19T09:13:47.052Z"
   },
   {
    "duration": 14,
    "start_time": "2022-07-19T09:13:51.636Z"
   },
   {
    "duration": 6,
    "start_time": "2022-07-19T09:13:57.161Z"
   },
   {
    "duration": 359,
    "start_time": "2022-07-19T09:14:07.696Z"
   },
   {
    "duration": 79,
    "start_time": "2022-07-19T09:14:24.842Z"
   },
   {
    "duration": 226,
    "start_time": "2022-07-19T09:14:53.768Z"
   },
   {
    "duration": 215,
    "start_time": "2022-07-19T09:17:02.157Z"
   },
   {
    "duration": 423,
    "start_time": "2022-07-19T09:17:14.810Z"
   },
   {
    "duration": 420,
    "start_time": "2022-07-19T09:17:22.859Z"
   },
   {
    "duration": 1451,
    "start_time": "2022-07-19T11:07:17.638Z"
   },
   {
    "duration": 101,
    "start_time": "2022-07-19T11:07:19.091Z"
   },
   {
    "duration": 38,
    "start_time": "2022-07-19T11:07:19.194Z"
   },
   {
    "duration": 44,
    "start_time": "2022-07-19T11:07:19.244Z"
   },
   {
    "duration": 46,
    "start_time": "2022-07-19T11:07:19.291Z"
   },
   {
    "duration": 49,
    "start_time": "2022-07-19T11:07:19.339Z"
   },
   {
    "duration": 11,
    "start_time": "2022-07-19T11:07:19.391Z"
   },
   {
    "duration": 57,
    "start_time": "2022-07-19T11:07:19.404Z"
   },
   {
    "duration": 128,
    "start_time": "2022-07-19T11:07:19.463Z"
   },
   {
    "duration": 1324,
    "start_time": "2022-07-19T11:07:19.594Z"
   },
   {
    "duration": 3710,
    "start_time": "2022-07-19T11:07:20.920Z"
   },
   {
    "duration": 19,
    "start_time": "2022-07-19T11:07:24.632Z"
   },
   {
    "duration": 6367,
    "start_time": "2022-07-19T11:07:24.654Z"
   },
   {
    "duration": 13,
    "start_time": "2022-07-19T11:07:31.027Z"
   },
   {
    "duration": 211,
    "start_time": "2022-07-19T11:07:31.046Z"
   },
   {
    "duration": 92,
    "start_time": "2022-07-19T11:07:31.262Z"
   },
   {
    "duration": 116,
    "start_time": "2022-07-19T11:07:31.356Z"
   },
   {
    "duration": 376,
    "start_time": "2022-07-19T11:11:51.049Z"
   },
   {
    "duration": 311,
    "start_time": "2022-07-19T11:12:03.896Z"
   },
   {
    "duration": 281,
    "start_time": "2022-07-19T11:13:40.565Z"
   },
   {
    "duration": 535,
    "start_time": "2022-07-19T11:13:49.733Z"
   },
   {
    "duration": 293,
    "start_time": "2022-07-19T11:13:54.286Z"
   },
   {
    "duration": 282,
    "start_time": "2022-07-19T11:14:17.351Z"
   },
   {
    "duration": 7980,
    "start_time": "2022-07-19T11:16:00.089Z"
   },
   {
    "duration": 7242,
    "start_time": "2022-07-19T11:16:38.052Z"
   },
   {
    "duration": 1132,
    "start_time": "2022-07-19T15:51:39.054Z"
   },
   {
    "duration": 119,
    "start_time": "2022-07-19T15:51:40.188Z"
   },
   {
    "duration": 23,
    "start_time": "2022-07-19T15:51:40.309Z"
   },
   {
    "duration": 26,
    "start_time": "2022-07-19T15:51:40.334Z"
   },
   {
    "duration": 12,
    "start_time": "2022-07-19T15:51:40.361Z"
   },
   {
    "duration": 16,
    "start_time": "2022-07-19T15:51:40.374Z"
   },
   {
    "duration": 7,
    "start_time": "2022-07-19T15:51:40.392Z"
   },
   {
    "duration": 11,
    "start_time": "2022-07-19T15:51:40.400Z"
   },
   {
    "duration": 73,
    "start_time": "2022-07-19T15:51:40.424Z"
   },
   {
    "duration": 315,
    "start_time": "2022-07-19T15:51:40.499Z"
   },
   {
    "duration": 0,
    "start_time": "2022-07-19T15:51:40.816Z"
   },
   {
    "duration": 0,
    "start_time": "2022-07-19T15:51:40.823Z"
   },
   {
    "duration": 0,
    "start_time": "2022-07-19T15:51:40.824Z"
   },
   {
    "duration": 0,
    "start_time": "2022-07-19T15:51:40.827Z"
   },
   {
    "duration": 0,
    "start_time": "2022-07-19T15:51:40.828Z"
   },
   {
    "duration": 0,
    "start_time": "2022-07-19T15:51:40.830Z"
   },
   {
    "duration": 0,
    "start_time": "2022-07-19T15:51:40.832Z"
   },
   {
    "duration": 0,
    "start_time": "2022-07-19T15:51:40.833Z"
   },
   {
    "duration": 222,
    "start_time": "2022-07-19T15:51:50.562Z"
   },
   {
    "duration": 223,
    "start_time": "2022-07-19T15:52:07.867Z"
   },
   {
    "duration": 220,
    "start_time": "2022-07-19T15:53:28.454Z"
   },
   {
    "duration": 209,
    "start_time": "2022-07-19T15:53:50.099Z"
   },
   {
    "duration": 264,
    "start_time": "2022-07-19T15:53:55.960Z"
   },
   {
    "duration": 900,
    "start_time": "2022-07-19T15:54:11.441Z"
   },
   {
    "duration": 229,
    "start_time": "2022-07-19T15:54:19.739Z"
   },
   {
    "duration": 201,
    "start_time": "2022-07-19T15:55:55.681Z"
   },
   {
    "duration": 234,
    "start_time": "2022-07-19T15:56:03.282Z"
   },
   {
    "duration": 257,
    "start_time": "2022-07-19T16:02:39.618Z"
   },
   {
    "duration": 239,
    "start_time": "2022-07-19T16:02:45.199Z"
   },
   {
    "duration": 216,
    "start_time": "2022-07-19T16:03:44.079Z"
   },
   {
    "duration": 374,
    "start_time": "2022-07-19T16:04:07.719Z"
   },
   {
    "duration": 225,
    "start_time": "2022-07-19T16:09:21.099Z"
   },
   {
    "duration": 211,
    "start_time": "2022-07-19T16:10:15.031Z"
   },
   {
    "duration": 214,
    "start_time": "2022-07-19T16:10:33.910Z"
   },
   {
    "duration": 279,
    "start_time": "2022-07-19T16:11:30.542Z"
   },
   {
    "duration": 328,
    "start_time": "2022-07-19T16:12:51.090Z"
   },
   {
    "duration": 286,
    "start_time": "2022-07-19T16:12:59.978Z"
   },
   {
    "duration": 287,
    "start_time": "2022-07-19T16:13:04.451Z"
   },
   {
    "duration": 4622,
    "start_time": "2022-07-19T16:14:29.902Z"
   },
   {
    "duration": 5693,
    "start_time": "2022-07-19T16:14:48.730Z"
   },
   {
    "duration": 6073,
    "start_time": "2022-07-19T16:15:08.391Z"
   },
   {
    "duration": 1870,
    "start_time": "2022-07-19T16:15:22.558Z"
   },
   {
    "duration": 57,
    "start_time": "2022-07-19T20:02:35.244Z"
   },
   {
    "duration": 1180,
    "start_time": "2022-07-19T20:02:40.837Z"
   },
   {
    "duration": 65,
    "start_time": "2022-07-19T20:02:42.020Z"
   },
   {
    "duration": 19,
    "start_time": "2022-07-19T20:02:42.086Z"
   },
   {
    "duration": 11,
    "start_time": "2022-07-19T20:02:42.107Z"
   },
   {
    "duration": 7,
    "start_time": "2022-07-19T20:02:42.120Z"
   },
   {
    "duration": 18,
    "start_time": "2022-07-19T20:02:42.129Z"
   },
   {
    "duration": 8,
    "start_time": "2022-07-19T20:02:42.148Z"
   },
   {
    "duration": 7,
    "start_time": "2022-07-19T20:02:42.158Z"
   },
   {
    "duration": 114,
    "start_time": "2022-07-19T20:02:42.167Z"
   },
   {
    "duration": 335,
    "start_time": "2022-07-19T20:02:42.284Z"
   },
   {
    "duration": 1988,
    "start_time": "2022-07-19T20:02:42.622Z"
   },
   {
    "duration": 7214,
    "start_time": "2022-07-19T20:02:44.611Z"
   },
   {
    "duration": 6,
    "start_time": "2022-07-19T20:02:51.827Z"
   },
   {
    "duration": 4241,
    "start_time": "2022-07-19T20:02:51.836Z"
   },
   {
    "duration": 6,
    "start_time": "2022-07-19T20:02:56.078Z"
   },
   {
    "duration": 24,
    "start_time": "2022-07-19T20:02:56.085Z"
   },
   {
    "duration": 27,
    "start_time": "2022-07-19T20:02:56.111Z"
   },
   {
    "duration": 24,
    "start_time": "2022-07-19T20:02:56.140Z"
   },
   {
    "duration": 314,
    "start_time": "2022-07-19T20:04:01.042Z"
   },
   {
    "duration": 516,
    "start_time": "2022-07-19T20:05:05.194Z"
   },
   {
    "duration": 265,
    "start_time": "2022-07-19T20:05:19.492Z"
   },
   {
    "duration": 127,
    "start_time": "2022-07-19T20:06:13.523Z"
   },
   {
    "duration": 112,
    "start_time": "2022-07-19T20:06:26.664Z"
   },
   {
    "duration": 147,
    "start_time": "2022-07-19T20:06:32.143Z"
   },
   {
    "duration": 359,
    "start_time": "2022-07-19T20:07:30.900Z"
   },
   {
    "duration": 379,
    "start_time": "2022-07-19T20:07:35.228Z"
   },
   {
    "duration": 329,
    "start_time": "2022-07-19T20:09:43.499Z"
   },
   {
    "duration": 319,
    "start_time": "2022-07-19T20:09:48.827Z"
   },
   {
    "duration": 317,
    "start_time": "2022-07-19T20:10:02.670Z"
   },
   {
    "duration": 191,
    "start_time": "2022-07-19T20:10:18.222Z"
   },
   {
    "duration": 231,
    "start_time": "2022-07-19T20:11:39.873Z"
   },
   {
    "duration": 210,
    "start_time": "2022-07-19T20:11:57.498Z"
   },
   {
    "duration": 235,
    "start_time": "2022-07-19T20:17:06.708Z"
   },
   {
    "duration": 251,
    "start_time": "2022-07-19T20:17:20.353Z"
   },
   {
    "duration": 288,
    "start_time": "2022-07-19T20:21:51.874Z"
   },
   {
    "duration": 257,
    "start_time": "2022-07-19T20:24:23.269Z"
   },
   {
    "duration": 263,
    "start_time": "2022-07-19T20:24:57.131Z"
   },
   {
    "duration": 280,
    "start_time": "2022-07-19T20:28:03.652Z"
   },
   {
    "duration": 255,
    "start_time": "2022-07-19T20:28:28.861Z"
   },
   {
    "duration": 348,
    "start_time": "2022-07-19T20:29:18.014Z"
   },
   {
    "duration": 275,
    "start_time": "2022-07-19T20:29:35.135Z"
   },
   {
    "duration": 271,
    "start_time": "2022-07-19T20:32:02.871Z"
   },
   {
    "duration": 357,
    "start_time": "2022-07-19T20:32:21.802Z"
   },
   {
    "duration": 317,
    "start_time": "2022-07-19T20:33:17.417Z"
   },
   {
    "duration": 271,
    "start_time": "2022-07-19T20:33:20.691Z"
   },
   {
    "duration": 355,
    "start_time": "2022-07-19T20:33:41.833Z"
   },
   {
    "duration": 303,
    "start_time": "2022-07-19T20:33:57.058Z"
   },
   {
    "duration": 291,
    "start_time": "2022-07-19T20:34:28.623Z"
   },
   {
    "duration": 290,
    "start_time": "2022-07-19T20:34:34.864Z"
   },
   {
    "duration": 311,
    "start_time": "2022-07-19T20:34:47.302Z"
   },
   {
    "duration": 6785,
    "start_time": "2022-07-19T20:36:21.761Z"
   },
   {
    "duration": 13,
    "start_time": "2022-07-19T20:37:18.168Z"
   },
   {
    "duration": 7741,
    "start_time": "2022-07-19T20:37:47.063Z"
   },
   {
    "duration": 309,
    "start_time": "2022-07-19T20:37:54.806Z"
   },
   {
    "duration": 231,
    "start_time": "2022-07-19T20:38:37.102Z"
   },
   {
    "duration": 295,
    "start_time": "2022-07-19T20:38:52.071Z"
   },
   {
    "duration": 73,
    "start_time": "2022-07-19T20:39:49.803Z"
   },
   {
    "duration": 21,
    "start_time": "2022-07-19T20:39:55.509Z"
   },
   {
    "duration": 24,
    "start_time": "2022-07-19T20:40:16.523Z"
   },
   {
    "duration": 337,
    "start_time": "2022-07-19T20:40:30.290Z"
   },
   {
    "duration": 1781,
    "start_time": "2022-07-20T07:40:32.739Z"
   },
   {
    "duration": 210,
    "start_time": "2022-07-20T07:40:34.522Z"
   },
   {
    "duration": 14,
    "start_time": "2022-07-20T07:40:34.734Z"
   },
   {
    "duration": 15,
    "start_time": "2022-07-20T07:40:34.750Z"
   },
   {
    "duration": 44,
    "start_time": "2022-07-20T07:40:34.767Z"
   },
   {
    "duration": 3,
    "start_time": "2022-07-20T07:40:34.813Z"
   },
   {
    "duration": 167,
    "start_time": "2022-07-20T07:40:38.588Z"
   },
   {
    "duration": 12,
    "start_time": "2022-07-20T07:42:47.632Z"
   },
   {
    "duration": 15,
    "start_time": "2022-07-20T07:43:01.153Z"
   },
   {
    "duration": 20,
    "start_time": "2022-07-20T07:43:16.678Z"
   },
   {
    "duration": 9,
    "start_time": "2022-07-20T07:43:25.297Z"
   },
   {
    "duration": 123,
    "start_time": "2022-07-20T07:44:07.101Z"
   },
   {
    "duration": 17,
    "start_time": "2022-07-20T07:57:31.176Z"
   },
   {
    "duration": 14,
    "start_time": "2022-07-20T07:57:44.088Z"
   },
   {
    "duration": 527,
    "start_time": "2022-07-20T07:57:55.385Z"
   },
   {
    "duration": 17,
    "start_time": "2022-07-20T07:58:04.535Z"
   },
   {
    "duration": 21,
    "start_time": "2022-07-20T07:58:23.189Z"
   },
   {
    "duration": 262,
    "start_time": "2022-07-20T07:58:34.757Z"
   },
   {
    "duration": 314,
    "start_time": "2022-07-20T07:58:43.822Z"
   },
   {
    "duration": 26,
    "start_time": "2022-07-20T08:02:55.905Z"
   },
   {
    "duration": 333,
    "start_time": "2022-07-20T08:03:04.505Z"
   },
   {
    "duration": 344,
    "start_time": "2022-07-20T08:04:05.704Z"
   },
   {
    "duration": 387,
    "start_time": "2022-07-20T08:04:33.643Z"
   },
   {
    "duration": 320,
    "start_time": "2022-07-20T08:04:59.147Z"
   },
   {
    "duration": 349,
    "start_time": "2022-07-20T08:06:47.120Z"
   },
   {
    "duration": 186,
    "start_time": "2022-07-20T08:08:08.850Z"
   },
   {
    "duration": 249,
    "start_time": "2022-07-20T08:08:19.046Z"
   },
   {
    "duration": 235,
    "start_time": "2022-07-20T08:08:36.959Z"
   },
   {
    "duration": 219,
    "start_time": "2022-07-20T08:08:43.733Z"
   },
   {
    "duration": 350,
    "start_time": "2022-07-20T08:08:48.360Z"
   },
   {
    "duration": 169,
    "start_time": "2022-07-20T08:08:56.441Z"
   },
   {
    "duration": 546,
    "start_time": "2022-07-20T08:08:58.801Z"
   },
   {
    "duration": 290,
    "start_time": "2022-07-20T08:09:15.060Z"
   },
   {
    "duration": 652,
    "start_time": "2022-07-20T08:11:26.340Z"
   },
   {
    "duration": 330,
    "start_time": "2022-07-20T08:11:38.911Z"
   },
   {
    "duration": 131,
    "start_time": "2022-07-20T08:13:06.692Z"
   },
   {
    "duration": 461,
    "start_time": "2022-07-20T08:13:14.732Z"
   },
   {
    "duration": 399,
    "start_time": "2022-07-20T08:13:26.361Z"
   },
   {
    "duration": 387,
    "start_time": "2022-07-20T08:13:32.604Z"
   },
   {
    "duration": 388,
    "start_time": "2022-07-20T08:15:07.541Z"
   },
   {
    "duration": 377,
    "start_time": "2022-07-20T08:15:22.791Z"
   },
   {
    "duration": 378,
    "start_time": "2022-07-20T08:15:35.981Z"
   },
   {
    "duration": 371,
    "start_time": "2022-07-20T08:15:41.140Z"
   },
   {
    "duration": 332,
    "start_time": "2022-07-20T08:16:52.049Z"
   },
   {
    "duration": 344,
    "start_time": "2022-07-20T08:17:20.319Z"
   },
   {
    "duration": 439,
    "start_time": "2022-07-20T08:17:31.479Z"
   },
   {
    "duration": 409,
    "start_time": "2022-07-20T08:18:55.328Z"
   },
   {
    "duration": 514,
    "start_time": "2022-07-20T08:19:57.004Z"
   },
   {
    "duration": 408,
    "start_time": "2022-07-20T08:20:15.089Z"
   },
   {
    "duration": 405,
    "start_time": "2022-07-20T08:20:22.497Z"
   },
   {
    "duration": 388,
    "start_time": "2022-07-20T08:20:35.180Z"
   },
   {
    "duration": 84,
    "start_time": "2022-07-20T08:22:13.109Z"
   },
   {
    "duration": 341,
    "start_time": "2022-07-20T08:22:17.300Z"
   },
   {
    "duration": 326,
    "start_time": "2022-07-20T08:22:24.428Z"
   },
   {
    "duration": 379,
    "start_time": "2022-07-20T08:22:28.727Z"
   },
   {
    "duration": 333,
    "start_time": "2022-07-20T08:23:00.972Z"
   },
   {
    "duration": 354,
    "start_time": "2022-07-20T08:23:20.028Z"
   },
   {
    "duration": 396,
    "start_time": "2022-07-20T08:23:38.882Z"
   },
   {
    "duration": 324,
    "start_time": "2022-07-20T08:23:41.684Z"
   },
   {
    "duration": 520,
    "start_time": "2022-07-20T08:23:47.194Z"
   },
   {
    "duration": 383,
    "start_time": "2022-07-20T08:25:28.929Z"
   },
   {
    "duration": 351,
    "start_time": "2022-07-20T08:25:35.616Z"
   },
   {
    "duration": 366,
    "start_time": "2022-07-20T08:26:07.638Z"
   },
   {
    "duration": 426,
    "start_time": "2022-07-20T08:26:26.760Z"
   },
   {
    "duration": 392,
    "start_time": "2022-07-20T08:26:35.156Z"
   },
   {
    "duration": 376,
    "start_time": "2022-07-20T08:27:24.217Z"
   },
   {
    "duration": 377,
    "start_time": "2022-07-20T08:28:56.053Z"
   },
   {
    "duration": 362,
    "start_time": "2022-07-20T08:29:13.219Z"
   },
   {
    "duration": 371,
    "start_time": "2022-07-20T08:30:42.703Z"
   },
   {
    "duration": 400,
    "start_time": "2022-07-20T08:31:38.135Z"
   },
   {
    "duration": 497,
    "start_time": "2022-07-20T08:31:57.634Z"
   },
   {
    "duration": 413,
    "start_time": "2022-07-20T08:32:04.515Z"
   },
   {
    "duration": 437,
    "start_time": "2022-07-20T08:32:09.210Z"
   },
   {
    "duration": 348,
    "start_time": "2022-07-20T08:33:20.707Z"
   },
   {
    "duration": 391,
    "start_time": "2022-07-20T08:33:31.559Z"
   },
   {
    "duration": 359,
    "start_time": "2022-07-20T08:35:24.278Z"
   },
   {
    "duration": 419,
    "start_time": "2022-07-20T08:35:44.390Z"
   },
   {
    "duration": 392,
    "start_time": "2022-07-20T08:36:09.142Z"
   },
   {
    "duration": 440,
    "start_time": "2022-07-20T08:36:40.646Z"
   },
   {
    "duration": 457,
    "start_time": "2022-07-20T08:37:06.109Z"
   },
   {
    "duration": 388,
    "start_time": "2022-07-20T08:37:19.447Z"
   },
   {
    "duration": 661,
    "start_time": "2022-07-20T08:38:37.924Z"
   },
   {
    "duration": 577,
    "start_time": "2022-07-20T08:38:55.236Z"
   },
   {
    "duration": 237,
    "start_time": "2022-07-20T08:40:40.389Z"
   },
   {
    "duration": 392,
    "start_time": "2022-07-20T08:41:20.976Z"
   },
   {
    "duration": 12291,
    "start_time": "2022-07-20T08:47:55.415Z"
   },
   {
    "duration": 12368,
    "start_time": "2022-07-20T08:48:29.404Z"
   },
   {
    "duration": 365,
    "start_time": "2022-07-20T08:50:43.399Z"
   },
   {
    "duration": 395,
    "start_time": "2022-07-20T09:09:31.246Z"
   },
   {
    "duration": 449,
    "start_time": "2022-07-20T09:09:36.358Z"
   },
   {
    "duration": 12,
    "start_time": "2022-07-20T09:36:19.392Z"
   },
   {
    "duration": 20,
    "start_time": "2022-07-20T09:36:44.692Z"
   },
   {
    "duration": 9,
    "start_time": "2022-07-20T09:39:22.417Z"
   },
   {
    "duration": 14,
    "start_time": "2022-07-20T09:39:54.412Z"
   },
   {
    "duration": 316,
    "start_time": "2022-07-20T09:41:24.837Z"
   },
   {
    "duration": 392,
    "start_time": "2022-07-20T09:42:08.085Z"
   },
   {
    "duration": 19,
    "start_time": "2022-07-20T09:42:18.657Z"
   },
   {
    "duration": 405,
    "start_time": "2022-07-20T09:42:24.692Z"
   },
   {
    "duration": 440,
    "start_time": "2022-07-20T09:43:24.157Z"
   },
   {
    "duration": 526,
    "start_time": "2022-07-20T09:44:20.097Z"
   },
   {
    "duration": 622,
    "start_time": "2022-07-20T09:44:38.434Z"
   },
   {
    "duration": 483,
    "start_time": "2022-07-20T09:44:57.015Z"
   },
   {
    "duration": 38284,
    "start_time": "2022-07-20T09:47:03.329Z"
   },
   {
    "duration": 14,
    "start_time": "2022-07-20T09:47:41.615Z"
   },
   {
    "duration": 580,
    "start_time": "2022-07-20T09:47:41.631Z"
   },
   {
    "duration": 784,
    "start_time": "2022-07-20T09:48:56.433Z"
   },
   {
    "duration": 20691,
    "start_time": "2022-07-20T09:49:48.879Z"
   },
   {
    "duration": 20,
    "start_time": "2022-07-20T09:50:09.574Z"
   },
   {
    "duration": 544,
    "start_time": "2022-07-20T09:50:09.596Z"
   },
   {
    "duration": 505,
    "start_time": "2022-07-20T09:51:08.502Z"
   },
   {
    "duration": 532,
    "start_time": "2022-07-20T09:51:46.050Z"
   },
   {
    "duration": 203,
    "start_time": "2022-07-20T09:58:41.645Z"
   },
   {
    "duration": 224,
    "start_time": "2022-07-20T09:58:44.720Z"
   },
   {
    "duration": 213,
    "start_time": "2022-07-20T09:59:01.462Z"
   },
   {
    "duration": 475,
    "start_time": "2022-07-20T09:59:09.243Z"
   },
   {
    "duration": 232,
    "start_time": "2022-07-20T09:59:22.990Z"
   },
   {
    "duration": 477,
    "start_time": "2022-07-20T09:59:39.946Z"
   },
   {
    "duration": 608,
    "start_time": "2022-07-20T10:00:11.559Z"
   },
   {
    "duration": 533,
    "start_time": "2022-07-20T10:00:42.687Z"
   },
   {
    "duration": 560,
    "start_time": "2022-07-20T10:02:19.259Z"
   },
   {
    "duration": 538,
    "start_time": "2022-07-20T10:02:37.919Z"
   },
   {
    "duration": 524,
    "start_time": "2022-07-20T10:02:49.005Z"
   },
   {
    "duration": 4,
    "start_time": "2022-07-20T10:03:45.940Z"
   },
   {
    "duration": 556,
    "start_time": "2022-07-20T10:03:51.551Z"
   },
   {
    "duration": 5,
    "start_time": "2022-07-20T10:05:04.885Z"
   },
   {
    "duration": 695,
    "start_time": "2022-07-20T10:05:10.439Z"
   },
   {
    "duration": 514,
    "start_time": "2022-07-20T10:05:40.839Z"
   },
   {
    "duration": 637,
    "start_time": "2022-07-20T10:06:42.685Z"
   },
   {
    "duration": 558,
    "start_time": "2022-07-20T10:07:27.242Z"
   },
   {
    "duration": 563,
    "start_time": "2022-07-20T10:07:44.802Z"
   },
   {
    "duration": 695,
    "start_time": "2022-07-20T10:07:58.503Z"
   },
   {
    "duration": 590,
    "start_time": "2022-07-20T10:08:42.485Z"
   },
   {
    "duration": 551,
    "start_time": "2022-07-20T10:08:48.404Z"
   },
   {
    "duration": 542,
    "start_time": "2022-07-20T10:10:17.612Z"
   },
   {
    "duration": 619,
    "start_time": "2022-07-20T10:10:28.205Z"
   },
   {
    "duration": 563,
    "start_time": "2022-07-20T10:11:09.534Z"
   },
   {
    "duration": 649,
    "start_time": "2022-07-20T10:11:52.970Z"
   },
   {
    "duration": 322,
    "start_time": "2022-07-20T10:12:19.786Z"
   },
   {
    "duration": 588,
    "start_time": "2022-07-20T10:14:28.008Z"
   },
   {
    "duration": 617,
    "start_time": "2022-07-20T10:15:55.678Z"
   },
   {
    "duration": 642,
    "start_time": "2022-07-20T10:16:00.951Z"
   },
   {
    "duration": 625,
    "start_time": "2022-07-20T10:16:58.982Z"
   },
   {
    "duration": 743,
    "start_time": "2022-07-20T10:17:11.689Z"
   },
   {
    "duration": 593,
    "start_time": "2022-07-20T10:22:51.678Z"
   },
   {
    "duration": 655,
    "start_time": "2022-07-20T10:25:11.952Z"
   },
   {
    "duration": 567,
    "start_time": "2022-07-20T10:27:20.887Z"
   },
   {
    "duration": 605,
    "start_time": "2022-07-20T10:27:32.688Z"
   },
   {
    "duration": 780,
    "start_time": "2022-07-20T10:27:37.118Z"
   },
   {
    "duration": 728,
    "start_time": "2022-07-20T10:27:49.397Z"
   },
   {
    "duration": 713,
    "start_time": "2022-07-20T10:27:57.553Z"
   },
   {
    "duration": 722,
    "start_time": "2022-07-20T14:35:48.282Z"
   },
   {
    "duration": 51,
    "start_time": "2022-07-20T15:27:55.058Z"
   },
   {
    "duration": 1673,
    "start_time": "2022-07-20T15:28:01.353Z"
   },
   {
    "duration": 67,
    "start_time": "2022-07-20T15:28:03.028Z"
   },
   {
    "duration": 15,
    "start_time": "2022-07-20T15:28:03.097Z"
   },
   {
    "duration": 12,
    "start_time": "2022-07-20T15:28:03.114Z"
   },
   {
    "duration": 19,
    "start_time": "2022-07-20T15:28:03.130Z"
   },
   {
    "duration": 13,
    "start_time": "2022-07-20T15:28:03.150Z"
   },
   {
    "duration": 9,
    "start_time": "2022-07-20T15:28:03.165Z"
   },
   {
    "duration": 486,
    "start_time": "2022-07-20T15:28:03.176Z"
   },
   {
    "duration": 317,
    "start_time": "2022-07-20T15:28:03.664Z"
   },
   {
    "duration": 0,
    "start_time": "2022-07-20T15:28:03.983Z"
   },
   {
    "duration": 0,
    "start_time": "2022-07-20T15:28:03.984Z"
   },
   {
    "duration": 0,
    "start_time": "2022-07-20T15:28:03.985Z"
   },
   {
    "duration": 0,
    "start_time": "2022-07-20T15:28:03.986Z"
   },
   {
    "duration": 0,
    "start_time": "2022-07-20T15:28:03.988Z"
   },
   {
    "duration": 0,
    "start_time": "2022-07-20T15:28:04.005Z"
   },
   {
    "duration": 0,
    "start_time": "2022-07-20T15:28:04.006Z"
   },
   {
    "duration": 0,
    "start_time": "2022-07-20T15:28:04.007Z"
   },
   {
    "duration": 0,
    "start_time": "2022-07-20T15:28:04.008Z"
   },
   {
    "duration": 348,
    "start_time": "2022-07-20T15:28:22.056Z"
   },
   {
    "duration": 206,
    "start_time": "2022-07-20T15:28:40.350Z"
   },
   {
    "duration": 20190,
    "start_time": "2022-07-20T15:28:43.274Z"
   },
   {
    "duration": 207,
    "start_time": "2022-07-20T15:29:03.466Z"
   },
   {
    "duration": 15,
    "start_time": "2022-07-20T15:29:13.227Z"
   },
   {
    "duration": 760,
    "start_time": "2022-07-20T15:29:16.469Z"
   },
   {
    "duration": 7,
    "start_time": "2022-07-20T15:30:48.722Z"
   },
   {
    "duration": 692,
    "start_time": "2022-07-20T15:33:54.519Z"
   },
   {
    "duration": 623,
    "start_time": "2022-07-20T15:40:03.848Z"
   },
   {
    "duration": 741,
    "start_time": "2022-07-20T15:40:19.383Z"
   },
   {
    "duration": 611,
    "start_time": "2022-07-20T15:40:50.856Z"
   },
   {
    "duration": 623,
    "start_time": "2022-07-20T15:41:57.087Z"
   },
   {
    "duration": 530,
    "start_time": "2022-07-20T15:42:09.615Z"
   },
   {
    "duration": 563,
    "start_time": "2022-07-20T15:42:17.186Z"
   },
   {
    "duration": 640,
    "start_time": "2022-07-20T15:42:48.268Z"
   },
   {
    "duration": 716,
    "start_time": "2022-07-20T15:43:00.164Z"
   },
   {
    "duration": 667,
    "start_time": "2022-07-20T15:45:04.585Z"
   },
   {
    "duration": 639,
    "start_time": "2022-07-20T15:45:29.784Z"
   },
   {
    "duration": 96,
    "start_time": "2022-07-20T15:46:04.184Z"
   },
   {
    "duration": 77,
    "start_time": "2022-07-20T15:46:08.814Z"
   },
   {
    "duration": 97,
    "start_time": "2022-07-20T15:46:17.785Z"
   },
   {
    "duration": 609,
    "start_time": "2022-07-20T15:47:14.298Z"
   },
   {
    "duration": 674,
    "start_time": "2022-07-20T15:51:00.668Z"
   },
   {
    "duration": 589,
    "start_time": "2022-07-20T15:51:09.250Z"
   },
   {
    "duration": 619,
    "start_time": "2022-07-20T15:52:33.064Z"
   },
   {
    "duration": 611,
    "start_time": "2022-07-20T15:53:53.521Z"
   },
   {
    "duration": 503,
    "start_time": "2022-07-20T15:55:58.771Z"
   },
   {
    "duration": 489,
    "start_time": "2022-07-20T15:56:05.461Z"
   },
   {
    "duration": 675,
    "start_time": "2022-07-20T15:56:12.753Z"
   },
   {
    "duration": 538,
    "start_time": "2022-07-20T15:57:13.047Z"
   },
   {
    "duration": 554,
    "start_time": "2022-07-20T15:57:43.550Z"
   },
   {
    "duration": 554,
    "start_time": "2022-07-20T15:58:55.270Z"
   },
   {
    "duration": 515,
    "start_time": "2022-07-20T15:59:15.254Z"
   },
   {
    "duration": 934,
    "start_time": "2022-07-20T15:59:52.991Z"
   },
   {
    "duration": 549,
    "start_time": "2022-07-20T15:59:59.652Z"
   },
   {
    "duration": 744,
    "start_time": "2022-07-20T16:00:42.751Z"
   },
   {
    "duration": 693,
    "start_time": "2022-07-20T16:01:07.048Z"
   },
   {
    "duration": 77,
    "start_time": "2022-07-20T16:01:32.451Z"
   },
   {
    "duration": 657,
    "start_time": "2022-07-20T16:01:37.451Z"
   },
   {
    "duration": 528,
    "start_time": "2022-07-20T16:01:51.555Z"
   },
   {
    "duration": 217,
    "start_time": "2022-07-20T16:01:58.449Z"
   },
   {
    "duration": 719,
    "start_time": "2022-07-20T16:02:06.255Z"
   },
   {
    "duration": 623,
    "start_time": "2022-07-20T16:03:56.818Z"
   },
   {
    "duration": 545,
    "start_time": "2022-07-20T16:05:52.392Z"
   },
   {
    "duration": 731,
    "start_time": "2022-07-20T16:06:14.956Z"
   },
   {
    "duration": 174,
    "start_time": "2022-07-20T16:06:21.182Z"
   },
   {
    "duration": 712,
    "start_time": "2022-07-20T16:06:30.439Z"
   },
   {
    "duration": 793,
    "start_time": "2022-07-20T16:07:39.960Z"
   },
   {
    "duration": 720,
    "start_time": "2022-07-20T16:08:31.167Z"
   },
   {
    "duration": 662,
    "start_time": "2022-07-20T16:09:06.856Z"
   },
   {
    "duration": 104,
    "start_time": "2022-07-20T16:09:19.388Z"
   },
   {
    "duration": 93,
    "start_time": "2022-07-20T16:09:25.769Z"
   },
   {
    "duration": 659,
    "start_time": "2022-07-20T16:09:31.968Z"
   },
   {
    "duration": 107,
    "start_time": "2022-07-20T16:09:43.351Z"
   },
   {
    "duration": 644,
    "start_time": "2022-07-20T16:09:50.751Z"
   },
   {
    "duration": 204,
    "start_time": "2022-07-20T16:11:27.147Z"
   },
   {
    "duration": 629,
    "start_time": "2022-07-20T16:11:47.354Z"
   },
   {
    "duration": 618,
    "start_time": "2022-07-20T16:13:42.522Z"
   },
   {
    "duration": 4,
    "start_time": "2022-07-20T16:17:04.481Z"
   },
   {
    "duration": 744,
    "start_time": "2022-07-20T16:19:06.176Z"
   },
   {
    "duration": 641,
    "start_time": "2022-07-20T16:19:15.588Z"
   },
   {
    "duration": 662,
    "start_time": "2022-07-20T16:19:37.163Z"
   },
   {
    "duration": 814,
    "start_time": "2022-07-20T16:19:55.082Z"
   },
   {
    "duration": 646,
    "start_time": "2022-07-20T16:20:04.288Z"
   },
   {
    "duration": 638,
    "start_time": "2022-07-20T16:20:15.055Z"
   },
   {
    "duration": 739,
    "start_time": "2022-07-20T16:20:33.679Z"
   },
   {
    "duration": 678,
    "start_time": "2022-07-20T16:20:42.452Z"
   },
   {
    "duration": 692,
    "start_time": "2022-07-20T16:20:47.463Z"
   },
   {
    "duration": 852,
    "start_time": "2022-07-20T16:20:53.340Z"
   },
   {
    "duration": 688,
    "start_time": "2022-07-20T16:21:00.334Z"
   },
   {
    "duration": 644,
    "start_time": "2022-07-20T16:22:04.487Z"
   },
   {
    "duration": 787,
    "start_time": "2022-07-20T16:22:22.998Z"
   },
   {
    "duration": 644,
    "start_time": "2022-07-20T16:22:42.718Z"
   },
   {
    "duration": 791,
    "start_time": "2022-07-20T16:23:15.588Z"
   },
   {
    "duration": 449,
    "start_time": "2022-07-20T16:23:28.688Z"
   },
   {
    "duration": 392,
    "start_time": "2022-07-20T16:23:30.751Z"
   },
   {
    "duration": 707,
    "start_time": "2022-07-20T16:23:50.069Z"
   },
   {
    "duration": 706,
    "start_time": "2022-07-20T16:24:05.999Z"
   },
   {
    "duration": 672,
    "start_time": "2022-07-20T16:24:41.774Z"
   },
   {
    "duration": 850,
    "start_time": "2022-07-20T16:24:55.255Z"
   },
   {
    "duration": 954,
    "start_time": "2022-07-20T16:25:11.289Z"
   },
   {
    "duration": 659,
    "start_time": "2022-07-20T16:25:22.867Z"
   },
   {
    "duration": 82,
    "start_time": "2022-07-20T16:32:45.043Z"
   },
   {
    "duration": 268,
    "start_time": "2022-07-20T16:35:39.360Z"
   },
   {
    "duration": 240,
    "start_time": "2022-07-20T16:36:02.544Z"
   },
   {
    "duration": 249,
    "start_time": "2022-07-20T16:36:10.350Z"
   },
   {
    "duration": 419,
    "start_time": "2022-07-20T16:36:19.179Z"
   },
   {
    "duration": 5004,
    "start_time": "2022-07-20T16:39:07.594Z"
   },
   {
    "duration": 18,
    "start_time": "2022-07-20T16:39:48.057Z"
   },
   {
    "duration": 19,
    "start_time": "2022-07-20T16:42:14.455Z"
   },
   {
    "duration": 311,
    "start_time": "2022-07-20T16:43:52.398Z"
   },
   {
    "duration": 4421,
    "start_time": "2022-07-20T16:44:35.848Z"
   },
   {
    "duration": 11308,
    "start_time": "2022-07-20T16:54:34.248Z"
   },
   {
    "duration": 642,
    "start_time": "2022-07-20T16:54:50.650Z"
   },
   {
    "duration": 605,
    "start_time": "2022-07-20T16:55:15.684Z"
   },
   {
    "duration": 597,
    "start_time": "2022-07-20T16:55:32.547Z"
   },
   {
    "duration": 763,
    "start_time": "2022-07-20T16:57:17.446Z"
   },
   {
    "duration": 22,
    "start_time": "2022-07-20T17:00:56.214Z"
   },
   {
    "duration": 250,
    "start_time": "2022-07-20T17:01:15.623Z"
   },
   {
    "duration": 274,
    "start_time": "2022-07-20T17:01:50.948Z"
   },
   {
    "duration": 258,
    "start_time": "2022-07-20T17:11:19.548Z"
   },
   {
    "duration": 81,
    "start_time": "2022-07-20T17:41:41.776Z"
   },
   {
    "duration": 11655,
    "start_time": "2022-07-20T17:52:28.763Z"
   },
   {
    "duration": 105,
    "start_time": "2022-07-20T17:54:29.584Z"
   },
   {
    "duration": 106,
    "start_time": "2022-07-20T17:57:42.187Z"
   },
   {
    "duration": 95,
    "start_time": "2022-07-20T17:58:07.725Z"
   },
   {
    "duration": 97,
    "start_time": "2022-07-20T17:58:25.932Z"
   },
   {
    "duration": 167,
    "start_time": "2022-07-20T17:58:52.864Z"
   },
   {
    "duration": 123,
    "start_time": "2022-07-20T18:00:10.216Z"
   },
   {
    "duration": 125,
    "start_time": "2022-07-20T18:02:05.065Z"
   },
   {
    "duration": 122,
    "start_time": "2022-07-20T18:02:56.857Z"
   },
   {
    "duration": 110,
    "start_time": "2022-07-20T18:03:07.745Z"
   },
   {
    "duration": 35,
    "start_time": "2022-07-20T18:04:27.385Z"
   },
   {
    "duration": 20087,
    "start_time": "2022-07-20T18:06:11.032Z"
   },
   {
    "duration": 14100,
    "start_time": "2022-07-20T18:06:58.713Z"
   },
   {
    "duration": 1157,
    "start_time": "2022-07-20T18:08:49.485Z"
   },
   {
    "duration": 5,
    "start_time": "2022-07-20T18:10:08.558Z"
   },
   {
    "duration": 1786,
    "start_time": "2022-07-20T18:10:22.926Z"
   },
   {
    "duration": 1636,
    "start_time": "2022-07-20T18:14:25.799Z"
   },
   {
    "duration": 30,
    "start_time": "2022-07-20T18:14:27.438Z"
   },
   {
    "duration": 16,
    "start_time": "2022-07-20T18:14:27.469Z"
   },
   {
    "duration": 12,
    "start_time": "2022-07-20T18:14:27.487Z"
   },
   {
    "duration": 29,
    "start_time": "2022-07-20T18:14:27.501Z"
   },
   {
    "duration": 13,
    "start_time": "2022-07-20T18:14:27.532Z"
   },
   {
    "duration": 5,
    "start_time": "2022-07-20T18:14:27.547Z"
   },
   {
    "duration": 540,
    "start_time": "2022-07-20T18:14:27.554Z"
   },
   {
    "duration": 829,
    "start_time": "2022-07-20T18:14:28.096Z"
   },
   {
    "duration": 13517,
    "start_time": "2022-07-20T18:14:28.928Z"
   },
   {
    "duration": 643,
    "start_time": "2022-07-20T18:14:42.446Z"
   },
   {
    "duration": 5,
    "start_time": "2022-07-20T18:14:43.091Z"
   },
   {
    "duration": 1716,
    "start_time": "2022-07-20T18:14:43.098Z"
   },
   {
    "duration": 682,
    "start_time": "2022-07-20T18:14:44.825Z"
   },
   {
    "duration": 304,
    "start_time": "2022-07-20T18:14:45.510Z"
   },
   {
    "duration": 0,
    "start_time": "2022-07-20T18:14:45.816Z"
   },
   {
    "duration": 0,
    "start_time": "2022-07-20T18:14:45.818Z"
   },
   {
    "duration": 0,
    "start_time": "2022-07-20T18:14:45.820Z"
   },
   {
    "duration": 12,
    "start_time": "2022-07-20T18:15:08.217Z"
   },
   {
    "duration": 14,
    "start_time": "2022-07-20T18:15:15.632Z"
   },
   {
    "duration": 7,
    "start_time": "2022-07-20T18:15:33.552Z"
   },
   {
    "duration": 9,
    "start_time": "2022-07-20T18:15:48.285Z"
   },
   {
    "duration": 71,
    "start_time": "2022-07-20T18:21:02.645Z"
   },
   {
    "duration": 6,
    "start_time": "2022-07-20T18:21:27.773Z"
   },
   {
    "duration": 1803,
    "start_time": "2022-07-21T06:55:58.849Z"
   },
   {
    "duration": 108,
    "start_time": "2022-07-21T06:56:07.030Z"
   },
   {
    "duration": 15,
    "start_time": "2022-07-21T06:56:10.369Z"
   },
   {
    "duration": 12,
    "start_time": "2022-07-21T06:56:12.929Z"
   },
   {
    "duration": 9,
    "start_time": "2022-07-21T06:56:15.830Z"
   },
   {
    "duration": 14,
    "start_time": "2022-07-21T06:57:31.219Z"
   },
   {
    "duration": 11,
    "start_time": "2022-07-21T06:58:01.006Z"
   },
   {
    "duration": 8,
    "start_time": "2022-07-21T06:58:24.440Z"
   },
   {
    "duration": 1527,
    "start_time": "2022-07-21T06:58:35.536Z"
   },
   {
    "duration": 31,
    "start_time": "2022-07-21T06:58:37.065Z"
   },
   {
    "duration": 14,
    "start_time": "2022-07-21T06:58:37.098Z"
   },
   {
    "duration": 37,
    "start_time": "2022-07-21T06:58:37.114Z"
   },
   {
    "duration": 23,
    "start_time": "2022-07-21T06:58:37.153Z"
   },
   {
    "duration": 27,
    "start_time": "2022-07-21T06:58:37.177Z"
   },
   {
    "duration": 5,
    "start_time": "2022-07-21T06:58:40.636Z"
   },
   {
    "duration": 472,
    "start_time": "2022-07-21T07:01:38.383Z"
   },
   {
    "duration": 343,
    "start_time": "2022-07-21T07:09:16.932Z"
   },
   {
    "duration": 11891,
    "start_time": "2022-07-21T07:10:30.591Z"
   },
   {
    "duration": 604,
    "start_time": "2022-07-21T07:13:33.081Z"
   },
   {
    "duration": 71,
    "start_time": "2022-07-21T07:15:29.324Z"
   },
   {
    "duration": 1537,
    "start_time": "2022-07-21T07:17:56.411Z"
   },
   {
    "duration": 256,
    "start_time": "2022-07-21T07:18:59.103Z"
   },
   {
    "duration": 7,
    "start_time": "2022-07-21T07:19:34.214Z"
   },
   {
    "duration": 9,
    "start_time": "2022-07-21T07:19:58.683Z"
   },
   {
    "duration": 57,
    "start_time": "2022-07-21T07:23:41.361Z"
   },
   {
    "duration": 6,
    "start_time": "2022-07-21T07:24:19.822Z"
   },
   {
    "duration": 1422,
    "start_time": "2022-07-21T07:27:00.632Z"
   },
   {
    "duration": 33,
    "start_time": "2022-07-21T07:27:02.056Z"
   },
   {
    "duration": 30,
    "start_time": "2022-07-21T07:27:02.090Z"
   },
   {
    "duration": 20,
    "start_time": "2022-07-21T07:27:02.122Z"
   },
   {
    "duration": 24,
    "start_time": "2022-07-21T07:27:02.145Z"
   },
   {
    "duration": 18,
    "start_time": "2022-07-21T07:27:02.170Z"
   },
   {
    "duration": 9,
    "start_time": "2022-07-21T07:27:02.190Z"
   },
   {
    "duration": 455,
    "start_time": "2022-07-21T07:27:02.201Z"
   },
   {
    "duration": 367,
    "start_time": "2022-07-21T07:27:02.658Z"
   },
   {
    "duration": 11173,
    "start_time": "2022-07-21T07:27:03.027Z"
   },
   {
    "duration": 595,
    "start_time": "2022-07-21T07:27:14.202Z"
   },
   {
    "duration": 1453,
    "start_time": "2022-07-21T07:27:14.799Z"
   },
   {
    "duration": 243,
    "start_time": "2022-07-21T07:27:16.253Z"
   },
   {
    "duration": 5,
    "start_time": "2022-07-21T07:27:16.499Z"
   },
   {
    "duration": 26,
    "start_time": "2022-07-21T07:27:16.505Z"
   },
   {
    "duration": 62,
    "start_time": "2022-07-21T07:27:16.533Z"
   },
   {
    "duration": 4,
    "start_time": "2022-07-21T07:27:16.597Z"
   },
   {
    "duration": 1615,
    "start_time": "2022-07-21T10:24:25.979Z"
   },
   {
    "duration": 125,
    "start_time": "2022-07-21T10:24:27.596Z"
   },
   {
    "duration": 13,
    "start_time": "2022-07-21T10:24:27.723Z"
   },
   {
    "duration": 10,
    "start_time": "2022-07-21T10:24:27.738Z"
   },
   {
    "duration": 9,
    "start_time": "2022-07-21T10:24:27.750Z"
   },
   {
    "duration": 11,
    "start_time": "2022-07-21T10:24:27.760Z"
   },
   {
    "duration": 5,
    "start_time": "2022-07-21T10:24:27.772Z"
   },
   {
    "duration": 441,
    "start_time": "2022-07-21T10:24:27.779Z"
   },
   {
    "duration": 387,
    "start_time": "2022-07-21T10:24:28.221Z"
   },
   {
    "duration": 0,
    "start_time": "2022-07-21T10:24:28.610Z"
   },
   {
    "duration": 0,
    "start_time": "2022-07-21T10:24:28.612Z"
   },
   {
    "duration": 0,
    "start_time": "2022-07-21T10:24:28.613Z"
   },
   {
    "duration": 0,
    "start_time": "2022-07-21T10:24:28.614Z"
   },
   {
    "duration": 0,
    "start_time": "2022-07-21T10:24:28.615Z"
   },
   {
    "duration": 0,
    "start_time": "2022-07-21T10:24:28.617Z"
   },
   {
    "duration": 0,
    "start_time": "2022-07-21T10:24:28.618Z"
   },
   {
    "duration": 0,
    "start_time": "2022-07-21T10:24:28.619Z"
   },
   {
    "duration": 314,
    "start_time": "2022-07-21T10:26:03.391Z"
   },
   {
    "duration": 1597,
    "start_time": "2022-07-21T10:26:09.047Z"
   },
   {
    "duration": 31,
    "start_time": "2022-07-21T10:26:10.646Z"
   },
   {
    "duration": 13,
    "start_time": "2022-07-21T10:26:10.682Z"
   },
   {
    "duration": 12,
    "start_time": "2022-07-21T10:26:10.697Z"
   },
   {
    "duration": 23,
    "start_time": "2022-07-21T10:26:10.711Z"
   },
   {
    "duration": 22,
    "start_time": "2022-07-21T10:26:10.736Z"
   },
   {
    "duration": 9,
    "start_time": "2022-07-21T10:26:10.760Z"
   },
   {
    "duration": 447,
    "start_time": "2022-07-21T10:26:10.770Z"
   },
   {
    "duration": 318,
    "start_time": "2022-07-21T10:26:11.219Z"
   },
   {
    "duration": 9765,
    "start_time": "2022-07-21T10:26:11.539Z"
   },
   {
    "duration": 510,
    "start_time": "2022-07-21T10:26:21.305Z"
   },
   {
    "duration": 1364,
    "start_time": "2022-07-21T10:26:21.816Z"
   },
   {
    "duration": 220,
    "start_time": "2022-07-21T10:26:23.181Z"
   },
   {
    "duration": 4,
    "start_time": "2022-07-21T10:26:23.403Z"
   },
   {
    "duration": 33,
    "start_time": "2022-07-21T10:26:23.409Z"
   },
   {
    "duration": 60,
    "start_time": "2022-07-21T10:26:23.444Z"
   },
   {
    "duration": 4,
    "start_time": "2022-07-21T10:26:23.506Z"
   },
   {
    "duration": 43,
    "start_time": "2022-07-31T12:28:49.050Z"
   },
   {
    "duration": 1460,
    "start_time": "2022-07-31T12:29:04.842Z"
   },
   {
    "duration": 66,
    "start_time": "2022-07-31T12:29:06.303Z"
   },
   {
    "duration": 12,
    "start_time": "2022-07-31T12:29:06.371Z"
   },
   {
    "duration": 10,
    "start_time": "2022-07-31T12:29:06.384Z"
   },
   {
    "duration": 7,
    "start_time": "2022-07-31T12:29:06.396Z"
   },
   {
    "duration": 9,
    "start_time": "2022-07-31T12:29:06.404Z"
   },
   {
    "duration": 4,
    "start_time": "2022-07-31T12:29:06.415Z"
   },
   {
    "duration": 416,
    "start_time": "2022-07-31T12:29:06.421Z"
   },
   {
    "duration": 303,
    "start_time": "2022-07-31T12:29:06.839Z"
   },
   {
    "duration": 11105,
    "start_time": "2022-07-31T12:29:07.144Z"
   },
   {
    "duration": 511,
    "start_time": "2022-07-31T12:29:18.250Z"
   },
   {
    "duration": 1361,
    "start_time": "2022-07-31T12:29:18.763Z"
   },
   {
    "duration": 228,
    "start_time": "2022-07-31T12:29:20.126Z"
   },
   {
    "duration": 5,
    "start_time": "2022-07-31T12:29:20.357Z"
   },
   {
    "duration": 13,
    "start_time": "2022-07-31T12:29:20.363Z"
   },
   {
    "duration": 91,
    "start_time": "2022-07-31T12:29:20.378Z"
   },
   {
    "duration": 5,
    "start_time": "2022-07-31T12:29:20.470Z"
   },
   {
    "duration": 1355,
    "start_time": "2022-08-23T21:06:47.987Z"
   },
   {
    "duration": 117,
    "start_time": "2022-08-23T21:06:49.345Z"
   },
   {
    "duration": 14,
    "start_time": "2022-08-23T21:06:49.465Z"
   },
   {
    "duration": 10,
    "start_time": "2022-08-23T21:06:49.481Z"
   },
   {
    "duration": 10,
    "start_time": "2022-08-23T21:06:49.493Z"
   },
   {
    "duration": 9,
    "start_time": "2022-08-23T21:06:49.504Z"
   },
   {
    "duration": 5,
    "start_time": "2022-08-23T21:06:49.515Z"
   },
   {
    "duration": 441,
    "start_time": "2022-08-23T21:06:49.521Z"
   },
   {
    "duration": 319,
    "start_time": "2022-08-23T21:06:49.963Z"
   },
   {
    "duration": 10245,
    "start_time": "2022-08-23T21:06:50.284Z"
   },
   {
    "duration": 515,
    "start_time": "2022-08-23T21:07:00.530Z"
   },
   {
    "duration": 1402,
    "start_time": "2022-08-23T21:07:01.047Z"
   },
   {
    "duration": 234,
    "start_time": "2022-08-23T21:07:02.452Z"
   },
   {
    "duration": 4,
    "start_time": "2022-08-23T21:07:02.688Z"
   },
   {
    "duration": 22,
    "start_time": "2022-08-23T21:07:02.694Z"
   },
   {
    "duration": 53,
    "start_time": "2022-08-23T21:07:02.718Z"
   },
   {
    "duration": 4,
    "start_time": "2022-08-23T21:07:02.773Z"
   },
   {
    "duration": 101,
    "start_time": "2022-08-23T21:10:23.083Z"
   },
   {
    "duration": 2,
    "start_time": "2022-08-23T21:11:51.750Z"
   },
   {
    "duration": 11,
    "start_time": "2022-08-23T21:12:15.375Z"
   }
  ],
  "kernelspec": {
   "display_name": "Python 3 (ipykernel)",
   "language": "python",
   "name": "python3"
  },
  "language_info": {
   "codemirror_mode": {
    "name": "ipython",
    "version": 3
   },
   "file_extension": ".py",
   "mimetype": "text/x-python",
   "name": "python",
   "nbconvert_exporter": "python",
   "pygments_lexer": "ipython3",
   "version": "3.9.5"
  },
  "toc": {
   "base_numbering": 1,
   "nav_menu": {},
   "number_sections": true,
   "sideBar": true,
   "skip_h1_title": true,
   "title_cell": "Table of Contents",
   "title_sidebar": "Contents",
   "toc_cell": false,
   "toc_position": {
    "height": "calc(100% - 180px)",
    "left": "10px",
    "top": "150px",
    "width": "233px"
   },
   "toc_section_display": true,
   "toc_window_display": true
  }
 },
 "nbformat": 4,
 "nbformat_minor": 2
}
