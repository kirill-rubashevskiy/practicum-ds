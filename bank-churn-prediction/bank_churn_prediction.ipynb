{
 "cells": [
  {
   "cell_type": "markdown",
   "metadata": {},
   "source": [
    "# Прогнозирование ухода клиентов банка"
   ]
  },
  {
   "cell_type": "markdown",
   "metadata": {},
   "source": [
    "## Задача <a class = \"tocSkip\">"
   ]
  },
  {
   "cell_type": "markdown",
   "metadata": {},
   "source": [
    "Построить для банка модель, которая будет прогнозировать уход клиентов.\n",
    "\n",
    "Модель должна демонстировать качество прогноза `F1` не ниже `0.59`. Дополнительная метрика — `AUC-ROC`."
   ]
  },
  {
   "cell_type": "markdown",
   "metadata": {},
   "source": [
    "## Предоставленные данные <a class = \"tocSkip\">"
   ]
  },
  {
   "cell_type": "markdown",
   "metadata": {},
   "source": [
    "Исторические данные о поведении клиентов и расторжении договоров с банком.\n",
    "\n",
    "Согласно описанию к данным:\n",
    "\n",
    "- `Age` — возраст;\n",
    "- `Balance` — баланс на счёте;\n",
    "- `CreditScore` — кредитный рейтинг;\n",
    "- `CustomerId` — уникальный идентификатор клиента;\n",
    "- `EstimatedSalary` — предполагаемая зарплата;\n",
    "- `Exited` — факт ухода клиента (**целевой признак**);\n",
    "- `Geography` — страна проживания;\n",
    "- `Gender` — пол;\n",
    "- `HasCrCard` — наличие кредитной карты;\n",
    "- `IsActiveMember` — активность клиента;\n",
    "- `NumOfProducts` — количество продуктов банка, используемых клиентом;\n",
    "- `RowNumber` — индекс строки в данных;\n",
    "- `Surname` — фамилия;\n",
    "- `Tenure` — сколько лет человек является клиентом банка."
   ]
  },
  {
   "cell_type": "markdown",
   "metadata": {},
   "source": [
    "## План работы <a class = \"tocSkip\">"
   ]
  },
  {
   "cell_type": "markdown",
   "metadata": {},
   "source": [
    "Работа будет включать пять этапов:\n",
    "\n",
    "1. загрузка и изучение данных;\n",
    "2. подготовка данных;\n",
    "3. исследование баланса классов; \n",
    "4. улучшение качества модели;\n",
    "5. финальное тестирование лучшей модели."
   ]
  },
  {
   "cell_type": "markdown",
   "metadata": {},
   "source": [
    "##  Загрузка и изучение данных"
   ]
  },
  {
   "cell_type": "code",
   "execution_count": 1,
   "metadata": {},
   "outputs": [],
   "source": [
    "# импортирование библиотек\n",
    "import warnings\n",
    "import numpy as np\n",
    "import pandas as pd\n",
    "\n",
    "import seaborn as sns\n",
    "import matplotlib.pyplot as plt\n",
    "\n",
    "from sklearn.utils import shuffle\n",
    "from sklearn.tree import DecisionTreeClassifier\n",
    "from sklearn.preprocessing import StandardScaler\n",
    "from sklearn.ensemble import RandomForestClassifier\n",
    "from sklearn.linear_model import LogisticRegression\n",
    "from sklearn.model_selection import GridSearchCV, train_test_split\n",
    "from sklearn.metrics import f1_score, precision_score, recall_score, roc_auc_score\n",
    "\n",
    "from sklearn.experimental import enable_iterative_imputer\n",
    "from sklearn.impute import IterativeImputer\n",
    "\n",
    "# отключение предупреждений\n",
    "warnings.filterwarnings('ignore')\n",
    "pd.options.mode.chained_assignment = None\n",
    "\n",
    "# установления стиля графиков\n",
    "sns.set_style(\"whitegrid\")"
   ]
  },
  {
   "cell_type": "markdown",
   "metadata": {},
   "source": [
    "Прочитаем файл с данными и изучим 5 случайных объектов, а также общую информацию о наборе данных:"
   ]
  },
  {
   "cell_type": "code",
   "execution_count": 2,
   "metadata": {},
   "outputs": [
    {
     "data": {
      "text/html": [
       "<div>\n",
       "<style scoped>\n",
       "    .dataframe tbody tr th:only-of-type {\n",
       "        vertical-align: middle;\n",
       "    }\n",
       "\n",
       "    .dataframe tbody tr th {\n",
       "        vertical-align: top;\n",
       "    }\n",
       "\n",
       "    .dataframe thead th {\n",
       "        text-align: right;\n",
       "    }\n",
       "</style>\n",
       "<table border=\"1\" class=\"dataframe\">\n",
       "  <thead>\n",
       "    <tr style=\"text-align: right;\">\n",
       "      <th></th>\n",
       "      <th>RowNumber</th>\n",
       "      <th>CustomerId</th>\n",
       "      <th>Surname</th>\n",
       "      <th>CreditScore</th>\n",
       "      <th>Geography</th>\n",
       "      <th>Gender</th>\n",
       "      <th>Age</th>\n",
       "      <th>Tenure</th>\n",
       "      <th>Balance</th>\n",
       "      <th>NumOfProducts</th>\n",
       "      <th>HasCrCard</th>\n",
       "      <th>IsActiveMember</th>\n",
       "      <th>EstimatedSalary</th>\n",
       "      <th>Exited</th>\n",
       "    </tr>\n",
       "  </thead>\n",
       "  <tbody>\n",
       "    <tr>\n",
       "      <th>5829</th>\n",
       "      <td>5830</td>\n",
       "      <td>15794266</td>\n",
       "      <td>Cross</td>\n",
       "      <td>559</td>\n",
       "      <td>France</td>\n",
       "      <td>Male</td>\n",
       "      <td>32</td>\n",
       "      <td>9.0</td>\n",
       "      <td>145303.52</td>\n",
       "      <td>1</td>\n",
       "      <td>1</td>\n",
       "      <td>0</td>\n",
       "      <td>103560.98</td>\n",
       "      <td>0</td>\n",
       "    </tr>\n",
       "    <tr>\n",
       "      <th>1675</th>\n",
       "      <td>1676</td>\n",
       "      <td>15658459</td>\n",
       "      <td>Bates</td>\n",
       "      <td>784</td>\n",
       "      <td>Spain</td>\n",
       "      <td>Male</td>\n",
       "      <td>33</td>\n",
       "      <td>10.0</td>\n",
       "      <td>0.00</td>\n",
       "      <td>2</td>\n",
       "      <td>1</td>\n",
       "      <td>0</td>\n",
       "      <td>162022.47</td>\n",
       "      <td>0</td>\n",
       "    </tr>\n",
       "    <tr>\n",
       "      <th>2241</th>\n",
       "      <td>2242</td>\n",
       "      <td>15633112</td>\n",
       "      <td>Madukaego</td>\n",
       "      <td>681</td>\n",
       "      <td>Germany</td>\n",
       "      <td>Male</td>\n",
       "      <td>42</td>\n",
       "      <td>3.0</td>\n",
       "      <td>118199.97</td>\n",
       "      <td>2</td>\n",
       "      <td>1</td>\n",
       "      <td>0</td>\n",
       "      <td>9452.88</td>\n",
       "      <td>1</td>\n",
       "    </tr>\n",
       "    <tr>\n",
       "      <th>5409</th>\n",
       "      <td>5410</td>\n",
       "      <td>15690939</td>\n",
       "      <td>Howe</td>\n",
       "      <td>575</td>\n",
       "      <td>Spain</td>\n",
       "      <td>Male</td>\n",
       "      <td>28</td>\n",
       "      <td>7.0</td>\n",
       "      <td>0.00</td>\n",
       "      <td>1</td>\n",
       "      <td>1</td>\n",
       "      <td>1</td>\n",
       "      <td>10666.05</td>\n",
       "      <td>0</td>\n",
       "    </tr>\n",
       "    <tr>\n",
       "      <th>8916</th>\n",
       "      <td>8917</td>\n",
       "      <td>15665378</td>\n",
       "      <td>Shen</td>\n",
       "      <td>499</td>\n",
       "      <td>France</td>\n",
       "      <td>Female</td>\n",
       "      <td>46</td>\n",
       "      <td>6.0</td>\n",
       "      <td>0.00</td>\n",
       "      <td>2</td>\n",
       "      <td>1</td>\n",
       "      <td>0</td>\n",
       "      <td>73457.55</td>\n",
       "      <td>0</td>\n",
       "    </tr>\n",
       "  </tbody>\n",
       "</table>\n",
       "</div>"
      ],
      "text/plain": [
       "      RowNumber  CustomerId    Surname  CreditScore Geography  Gender  Age  \\\n",
       "5829       5830    15794266      Cross          559    France    Male   32   \n",
       "1675       1676    15658459      Bates          784     Spain    Male   33   \n",
       "2241       2242    15633112  Madukaego          681   Germany    Male   42   \n",
       "5409       5410    15690939       Howe          575     Spain    Male   28   \n",
       "8916       8917    15665378       Shen          499    France  Female   46   \n",
       "\n",
       "      Tenure    Balance  NumOfProducts  HasCrCard  IsActiveMember  \\\n",
       "5829     9.0  145303.52              1          1               0   \n",
       "1675    10.0       0.00              2          1               0   \n",
       "2241     3.0  118199.97              2          1               0   \n",
       "5409     7.0       0.00              1          1               1   \n",
       "8916     6.0       0.00              2          1               0   \n",
       "\n",
       "      EstimatedSalary  Exited  \n",
       "5829        103560.98       0  \n",
       "1675        162022.47       0  \n",
       "2241          9452.88       1  \n",
       "5409         10666.05       0  \n",
       "8916         73457.55       0  "
      ]
     },
     "metadata": {},
     "output_type": "display_data"
    },
    {
     "name": "stdout",
     "output_type": "stream",
     "text": [
      "\n",
      "<class 'pandas.core.frame.DataFrame'>\n",
      "RangeIndex: 10000 entries, 0 to 9999\n",
      "Data columns (total 14 columns):\n",
      " #   Column           Non-Null Count  Dtype  \n",
      "---  ------           --------------  -----  \n",
      " 0   RowNumber        10000 non-null  int64  \n",
      " 1   CustomerId       10000 non-null  int64  \n",
      " 2   Surname          10000 non-null  object \n",
      " 3   CreditScore      10000 non-null  int64  \n",
      " 4   Geography        10000 non-null  object \n",
      " 5   Gender           10000 non-null  object \n",
      " 6   Age              10000 non-null  int64  \n",
      " 7   Tenure           9091 non-null   float64\n",
      " 8   Balance          10000 non-null  float64\n",
      " 9   NumOfProducts    10000 non-null  int64  \n",
      " 10  HasCrCard        10000 non-null  int64  \n",
      " 11  IsActiveMember   10000 non-null  int64  \n",
      " 12  EstimatedSalary  10000 non-null  float64\n",
      " 13  Exited           10000 non-null  int64  \n",
      "dtypes: float64(3), int64(8), object(3)\n",
      "memory usage: 1.1+ MB\n"
     ]
    }
   ],
   "source": [
    "# чтение файла с данными\n",
    "data = pd.read_csv('/datasets/Churn.csv')\n",
    "\n",
    "# вывод на экран пяти случайных строк\n",
    "display(data.sample(5))\n",
    "print()\n",
    "\n",
    "# вывод на экран общей информации о наборе данных\n",
    "data.info()"
   ]
  },
  {
   "cell_type": "markdown",
   "metadata": {},
   "source": [
    "Дополнительно изучим по каждому признаку:\n",
    "- долю пропусков;\n",
    "- количество уникальных значений;\n",
    "- описательную статистику (для количественных признаков);\n",
    "- уникальные значения (для категориальных признаков).\n",
    "\n",
    "Также проверим наличие явных дубликатов."
   ]
  },
  {
   "cell_type": "code",
   "execution_count": 3,
   "metadata": {},
   "outputs": [
    {
     "name": "stdout",
     "output_type": "stream",
     "text": [
      "Доля пропусков\n",
      "\n",
      "RowNumber          0.00\n",
      "CustomerId         0.00\n",
      "Surname            0.00\n",
      "CreditScore        0.00\n",
      "Geography          0.00\n",
      "Gender             0.00\n",
      "Age                0.00\n",
      "Tenure             9.09\n",
      "Balance            0.00\n",
      "NumOfProducts      0.00\n",
      "HasCrCard          0.00\n",
      "IsActiveMember     0.00\n",
      "EstimatedSalary    0.00\n",
      "Exited             0.00\n",
      "dtype: float64\n",
      "--------------------------------------------------------------------------------\n",
      "\n",
      "Количество уникальных значений\n",
      "\n",
      "RowNumber          10000\n",
      "CustomerId         10000\n",
      "Surname             2932\n",
      "CreditScore          460\n",
      "Geography              3\n",
      "Gender                 2\n",
      "Age                   70\n",
      "Tenure                11\n",
      "Balance             6382\n",
      "NumOfProducts          4\n",
      "HasCrCard              2\n",
      "IsActiveMember         2\n",
      "EstimatedSalary     9999\n",
      "Exited                 2\n",
      "dtype: int64\n",
      "--------------------------------------------------------------------------------\n",
      "\n",
      "Распределение значений количественных признаков\n"
     ]
    },
    {
     "data": {
      "text/html": [
       "<div>\n",
       "<style scoped>\n",
       "    .dataframe tbody tr th:only-of-type {\n",
       "        vertical-align: middle;\n",
       "    }\n",
       "\n",
       "    .dataframe tbody tr th {\n",
       "        vertical-align: top;\n",
       "    }\n",
       "\n",
       "    .dataframe thead th {\n",
       "        text-align: right;\n",
       "    }\n",
       "</style>\n",
       "<table border=\"1\" class=\"dataframe\">\n",
       "  <thead>\n",
       "    <tr style=\"text-align: right;\">\n",
       "      <th></th>\n",
       "      <th>RowNumber</th>\n",
       "      <th>CustomerId</th>\n",
       "      <th>CreditScore</th>\n",
       "      <th>Age</th>\n",
       "      <th>Tenure</th>\n",
       "      <th>Balance</th>\n",
       "    </tr>\n",
       "  </thead>\n",
       "  <tbody>\n",
       "    <tr>\n",
       "      <th>count</th>\n",
       "      <td>10000.00000</td>\n",
       "      <td>1.000000e+04</td>\n",
       "      <td>10000.000000</td>\n",
       "      <td>10000.000000</td>\n",
       "      <td>9091.000000</td>\n",
       "      <td>10000.000000</td>\n",
       "    </tr>\n",
       "    <tr>\n",
       "      <th>mean</th>\n",
       "      <td>5000.50000</td>\n",
       "      <td>1.569094e+07</td>\n",
       "      <td>650.528800</td>\n",
       "      <td>38.921800</td>\n",
       "      <td>4.997690</td>\n",
       "      <td>76485.889288</td>\n",
       "    </tr>\n",
       "    <tr>\n",
       "      <th>std</th>\n",
       "      <td>2886.89568</td>\n",
       "      <td>7.193619e+04</td>\n",
       "      <td>96.653299</td>\n",
       "      <td>10.487806</td>\n",
       "      <td>2.894723</td>\n",
       "      <td>62397.405202</td>\n",
       "    </tr>\n",
       "    <tr>\n",
       "      <th>min</th>\n",
       "      <td>1.00000</td>\n",
       "      <td>1.556570e+07</td>\n",
       "      <td>350.000000</td>\n",
       "      <td>18.000000</td>\n",
       "      <td>0.000000</td>\n",
       "      <td>0.000000</td>\n",
       "    </tr>\n",
       "    <tr>\n",
       "      <th>25%</th>\n",
       "      <td>2500.75000</td>\n",
       "      <td>1.562853e+07</td>\n",
       "      <td>584.000000</td>\n",
       "      <td>32.000000</td>\n",
       "      <td>2.000000</td>\n",
       "      <td>0.000000</td>\n",
       "    </tr>\n",
       "    <tr>\n",
       "      <th>50%</th>\n",
       "      <td>5000.50000</td>\n",
       "      <td>1.569074e+07</td>\n",
       "      <td>652.000000</td>\n",
       "      <td>37.000000</td>\n",
       "      <td>5.000000</td>\n",
       "      <td>97198.540000</td>\n",
       "    </tr>\n",
       "    <tr>\n",
       "      <th>75%</th>\n",
       "      <td>7500.25000</td>\n",
       "      <td>1.575323e+07</td>\n",
       "      <td>718.000000</td>\n",
       "      <td>44.000000</td>\n",
       "      <td>7.000000</td>\n",
       "      <td>127644.240000</td>\n",
       "    </tr>\n",
       "    <tr>\n",
       "      <th>max</th>\n",
       "      <td>10000.00000</td>\n",
       "      <td>1.581569e+07</td>\n",
       "      <td>850.000000</td>\n",
       "      <td>92.000000</td>\n",
       "      <td>10.000000</td>\n",
       "      <td>250898.090000</td>\n",
       "    </tr>\n",
       "  </tbody>\n",
       "</table>\n",
       "</div>"
      ],
      "text/plain": [
       "         RowNumber    CustomerId   CreditScore           Age       Tenure  \\\n",
       "count  10000.00000  1.000000e+04  10000.000000  10000.000000  9091.000000   \n",
       "mean    5000.50000  1.569094e+07    650.528800     38.921800     4.997690   \n",
       "std     2886.89568  7.193619e+04     96.653299     10.487806     2.894723   \n",
       "min        1.00000  1.556570e+07    350.000000     18.000000     0.000000   \n",
       "25%     2500.75000  1.562853e+07    584.000000     32.000000     2.000000   \n",
       "50%     5000.50000  1.569074e+07    652.000000     37.000000     5.000000   \n",
       "75%     7500.25000  1.575323e+07    718.000000     44.000000     7.000000   \n",
       "max    10000.00000  1.581569e+07    850.000000     92.000000    10.000000   \n",
       "\n",
       "             Balance  \n",
       "count   10000.000000  \n",
       "mean    76485.889288  \n",
       "std     62397.405202  \n",
       "min         0.000000  \n",
       "25%         0.000000  \n",
       "50%     97198.540000  \n",
       "75%    127644.240000  \n",
       "max    250898.090000  "
      ]
     },
     "metadata": {},
     "output_type": "display_data"
    },
    {
     "name": "stdout",
     "output_type": "stream",
     "text": [
      "--------------------------------------------------------------------------------\n",
      "\n",
      "Уникальные значения категориальных признаков\n",
      "\n",
      "Surname: ['Abazu' 'Abbie' 'Abbott' ... 'Zuev' 'Zuyev' 'Zuyeva']\n",
      "Geography: ['France' 'Germany' 'Spain']\n",
      "Gender: ['Female' 'Male']\n",
      "--------------------------------------------------------------------------------\n",
      "\n",
      "Количество дубилкатов: 0\n"
     ]
    }
   ],
   "source": [
    "# вывод на экран доли пропусков в каждом столбце\n",
    "print('Доля пропусков')\n",
    "print()\n",
    "print(data.isna().mean() * 100)\n",
    "print('-' * 80)\n",
    "print()\n",
    "\n",
    "# вывод на экран количества уникальных значений каждого столбца\n",
    "print('Количество уникальных значений')\n",
    "print()\n",
    "print(data.nunique())\n",
    "print('-' * 80)\n",
    "print()\n",
    "\n",
    "# вывод на экран описательной статистики для количественных признаков\n",
    "print('Распределение значений количественных признаков')\n",
    "display(data[['RowNumber', 'CustomerId', 'CreditScore', 'Age', 'Tenure', 'Balance']].describe())\n",
    "print('-' * 80)\n",
    "print()\n",
    "\n",
    "# вывод на экран уникальных значений для категориальных признаков\n",
    "print('Уникальные значения категориальных признаков')\n",
    "print()\n",
    "for column in 'Surname', 'Geography', 'Gender':\n",
    "    print(f'{column}: {data[column].sort_values().unique()}')\n",
    "print('-' * 80)\n",
    "print()\n",
    "\n",
    "# вывод на экран количества дубликатов\n",
    "print('Количество дубилкатов:', data.duplicated().sum())"
   ]
  },
  {
   "cell_type": "markdown",
   "metadata": {},
   "source": [
    "### Выводы"
   ]
  },
  {
   "cell_type": "markdown",
   "metadata": {},
   "source": [
    "По результатам изучения данных мы пришли к следующим выводам:\n",
    "\n",
    "- в наборе данных 10 000 объектов;\n",
    "- каждый объект в наборе данных — это информация о поведении одного клиента;\n",
    "- по каждому объекту доступно 15 признаков (включая целевой);\n",
    "- признаки *RowNumber*, *CustomerId* и *Surname* не требуются для построения модели;\n",
    "- аномалии не выявлены;\n",
    "- в столбце с признаком *Tenure* есть пропуски (9,09% данных).\n",
    "\n",
    "На следующем этапе устраним выявленные пропуски и подготовим данные для обучения моделей."
   ]
  },
  {
   "cell_type": "markdown",
   "metadata": {},
   "source": [
    "## Подготовка данных"
   ]
  },
  {
   "cell_type": "markdown",
   "metadata": {},
   "source": [
    "В ходе подготовки данных мы:\n",
    "- удалим лишние признаки;\n",
    "- устраним выявленные пропуски в столбце *Tenure*; \n",
    "- преобразуем категориальные признаки в численные;\n",
    "- сохраним признаки и целевой признак в отдельные переменные; \n",
    "- разделим выборку на обучающую, валидационную и тестовую;\n",
    "- масштабируем количественные признаки."
   ]
  },
  {
   "cell_type": "markdown",
   "metadata": {},
   "source": [
    "### Удаление лишних признаков"
   ]
  },
  {
   "cell_type": "markdown",
   "metadata": {},
   "source": [
    "Удалим признаки *RowNumber*, *CustomerId* и *Surname*, не требуемые для построения модели:"
   ]
  },
  {
   "cell_type": "code",
   "execution_count": 4,
   "metadata": {},
   "outputs": [
    {
     "data": {
      "text/html": [
       "<div>\n",
       "<style scoped>\n",
       "    .dataframe tbody tr th:only-of-type {\n",
       "        vertical-align: middle;\n",
       "    }\n",
       "\n",
       "    .dataframe tbody tr th {\n",
       "        vertical-align: top;\n",
       "    }\n",
       "\n",
       "    .dataframe thead th {\n",
       "        text-align: right;\n",
       "    }\n",
       "</style>\n",
       "<table border=\"1\" class=\"dataframe\">\n",
       "  <thead>\n",
       "    <tr style=\"text-align: right;\">\n",
       "      <th></th>\n",
       "      <th>CreditScore</th>\n",
       "      <th>Geography</th>\n",
       "      <th>Gender</th>\n",
       "      <th>Age</th>\n",
       "      <th>Tenure</th>\n",
       "      <th>Balance</th>\n",
       "      <th>NumOfProducts</th>\n",
       "      <th>HasCrCard</th>\n",
       "      <th>IsActiveMember</th>\n",
       "      <th>EstimatedSalary</th>\n",
       "      <th>Exited</th>\n",
       "    </tr>\n",
       "  </thead>\n",
       "  <tbody>\n",
       "    <tr>\n",
       "      <th>0</th>\n",
       "      <td>619</td>\n",
       "      <td>France</td>\n",
       "      <td>Female</td>\n",
       "      <td>42</td>\n",
       "      <td>2.0</td>\n",
       "      <td>0.00</td>\n",
       "      <td>1</td>\n",
       "      <td>1</td>\n",
       "      <td>1</td>\n",
       "      <td>101348.88</td>\n",
       "      <td>1</td>\n",
       "    </tr>\n",
       "    <tr>\n",
       "      <th>1</th>\n",
       "      <td>608</td>\n",
       "      <td>Spain</td>\n",
       "      <td>Female</td>\n",
       "      <td>41</td>\n",
       "      <td>1.0</td>\n",
       "      <td>83807.86</td>\n",
       "      <td>1</td>\n",
       "      <td>0</td>\n",
       "      <td>1</td>\n",
       "      <td>112542.58</td>\n",
       "      <td>0</td>\n",
       "    </tr>\n",
       "    <tr>\n",
       "      <th>2</th>\n",
       "      <td>502</td>\n",
       "      <td>France</td>\n",
       "      <td>Female</td>\n",
       "      <td>42</td>\n",
       "      <td>8.0</td>\n",
       "      <td>159660.80</td>\n",
       "      <td>3</td>\n",
       "      <td>1</td>\n",
       "      <td>0</td>\n",
       "      <td>113931.57</td>\n",
       "      <td>1</td>\n",
       "    </tr>\n",
       "    <tr>\n",
       "      <th>3</th>\n",
       "      <td>699</td>\n",
       "      <td>France</td>\n",
       "      <td>Female</td>\n",
       "      <td>39</td>\n",
       "      <td>1.0</td>\n",
       "      <td>0.00</td>\n",
       "      <td>2</td>\n",
       "      <td>0</td>\n",
       "      <td>0</td>\n",
       "      <td>93826.63</td>\n",
       "      <td>0</td>\n",
       "    </tr>\n",
       "    <tr>\n",
       "      <th>4</th>\n",
       "      <td>850</td>\n",
       "      <td>Spain</td>\n",
       "      <td>Female</td>\n",
       "      <td>43</td>\n",
       "      <td>2.0</td>\n",
       "      <td>125510.82</td>\n",
       "      <td>1</td>\n",
       "      <td>1</td>\n",
       "      <td>1</td>\n",
       "      <td>79084.10</td>\n",
       "      <td>0</td>\n",
       "    </tr>\n",
       "  </tbody>\n",
       "</table>\n",
       "</div>"
      ],
      "text/plain": [
       "   CreditScore Geography  Gender  Age  Tenure    Balance  NumOfProducts  \\\n",
       "0          619    France  Female   42     2.0       0.00              1   \n",
       "1          608     Spain  Female   41     1.0   83807.86              1   \n",
       "2          502    France  Female   42     8.0  159660.80              3   \n",
       "3          699    France  Female   39     1.0       0.00              2   \n",
       "4          850     Spain  Female   43     2.0  125510.82              1   \n",
       "\n",
       "   HasCrCard  IsActiveMember  EstimatedSalary  Exited  \n",
       "0          1               1        101348.88       1  \n",
       "1          0               1        112542.58       0  \n",
       "2          1               0        113931.57       1  \n",
       "3          0               0         93826.63       0  \n",
       "4          1               1         79084.10       0  "
      ]
     },
     "execution_count": 4,
     "metadata": {},
     "output_type": "execute_result"
    }
   ],
   "source": [
    "# удаление признаков RowNumber, CustomerId и Surname, не требуемых для построения подели\n",
    "data_useful = data.drop(columns=['RowNumber', 'CustomerId', 'Surname'])\n",
    "\n",
    "# проверка удаления признаков\n",
    "data_useful.head()"
   ]
  },
  {
   "cell_type": "markdown",
   "metadata": {},
   "source": [
    "### Устранение пропусков в столбце *Tenure*"
   ]
  },
  {
   "cell_type": "markdown",
   "metadata": {},
   "source": [
    "Изучим объекты, содержащие пропуски:"
   ]
  },
  {
   "cell_type": "code",
   "execution_count": 5,
   "metadata": {},
   "outputs": [
    {
     "data": {
      "text/html": [
       "<div>\n",
       "<style scoped>\n",
       "    .dataframe tbody tr th:only-of-type {\n",
       "        vertical-align: middle;\n",
       "    }\n",
       "\n",
       "    .dataframe tbody tr th {\n",
       "        vertical-align: top;\n",
       "    }\n",
       "\n",
       "    .dataframe thead th {\n",
       "        text-align: right;\n",
       "    }\n",
       "</style>\n",
       "<table border=\"1\" class=\"dataframe\">\n",
       "  <thead>\n",
       "    <tr style=\"text-align: right;\">\n",
       "      <th></th>\n",
       "      <th>CreditScore</th>\n",
       "      <th>Geography</th>\n",
       "      <th>Gender</th>\n",
       "      <th>Age</th>\n",
       "      <th>Tenure</th>\n",
       "      <th>Balance</th>\n",
       "      <th>NumOfProducts</th>\n",
       "      <th>HasCrCard</th>\n",
       "      <th>IsActiveMember</th>\n",
       "      <th>EstimatedSalary</th>\n",
       "      <th>Exited</th>\n",
       "    </tr>\n",
       "  </thead>\n",
       "  <tbody>\n",
       "    <tr>\n",
       "      <th>30</th>\n",
       "      <td>591</td>\n",
       "      <td>Spain</td>\n",
       "      <td>Female</td>\n",
       "      <td>39</td>\n",
       "      <td>NaN</td>\n",
       "      <td>0.00</td>\n",
       "      <td>3</td>\n",
       "      <td>1</td>\n",
       "      <td>0</td>\n",
       "      <td>140469.38</td>\n",
       "      <td>1</td>\n",
       "    </tr>\n",
       "    <tr>\n",
       "      <th>48</th>\n",
       "      <td>550</td>\n",
       "      <td>Germany</td>\n",
       "      <td>Male</td>\n",
       "      <td>38</td>\n",
       "      <td>NaN</td>\n",
       "      <td>103391.38</td>\n",
       "      <td>1</td>\n",
       "      <td>0</td>\n",
       "      <td>1</td>\n",
       "      <td>90878.13</td>\n",
       "      <td>0</td>\n",
       "    </tr>\n",
       "    <tr>\n",
       "      <th>51</th>\n",
       "      <td>585</td>\n",
       "      <td>Germany</td>\n",
       "      <td>Male</td>\n",
       "      <td>36</td>\n",
       "      <td>NaN</td>\n",
       "      <td>146050.97</td>\n",
       "      <td>2</td>\n",
       "      <td>0</td>\n",
       "      <td>0</td>\n",
       "      <td>86424.57</td>\n",
       "      <td>0</td>\n",
       "    </tr>\n",
       "    <tr>\n",
       "      <th>53</th>\n",
       "      <td>655</td>\n",
       "      <td>Germany</td>\n",
       "      <td>Male</td>\n",
       "      <td>41</td>\n",
       "      <td>NaN</td>\n",
       "      <td>125561.97</td>\n",
       "      <td>1</td>\n",
       "      <td>0</td>\n",
       "      <td>0</td>\n",
       "      <td>164040.94</td>\n",
       "      <td>1</td>\n",
       "    </tr>\n",
       "    <tr>\n",
       "      <th>60</th>\n",
       "      <td>742</td>\n",
       "      <td>Germany</td>\n",
       "      <td>Male</td>\n",
       "      <td>35</td>\n",
       "      <td>NaN</td>\n",
       "      <td>136857.00</td>\n",
       "      <td>1</td>\n",
       "      <td>0</td>\n",
       "      <td>0</td>\n",
       "      <td>84509.57</td>\n",
       "      <td>0</td>\n",
       "    </tr>\n",
       "    <tr>\n",
       "      <th>82</th>\n",
       "      <td>543</td>\n",
       "      <td>France</td>\n",
       "      <td>Female</td>\n",
       "      <td>36</td>\n",
       "      <td>NaN</td>\n",
       "      <td>0.00</td>\n",
       "      <td>2</td>\n",
       "      <td>0</td>\n",
       "      <td>0</td>\n",
       "      <td>26019.59</td>\n",
       "      <td>0</td>\n",
       "    </tr>\n",
       "    <tr>\n",
       "      <th>85</th>\n",
       "      <td>652</td>\n",
       "      <td>Spain</td>\n",
       "      <td>Female</td>\n",
       "      <td>75</td>\n",
       "      <td>NaN</td>\n",
       "      <td>0.00</td>\n",
       "      <td>2</td>\n",
       "      <td>1</td>\n",
       "      <td>1</td>\n",
       "      <td>114675.75</td>\n",
       "      <td>0</td>\n",
       "    </tr>\n",
       "    <tr>\n",
       "      <th>94</th>\n",
       "      <td>730</td>\n",
       "      <td>Spain</td>\n",
       "      <td>Male</td>\n",
       "      <td>42</td>\n",
       "      <td>NaN</td>\n",
       "      <td>0.00</td>\n",
       "      <td>2</td>\n",
       "      <td>0</td>\n",
       "      <td>1</td>\n",
       "      <td>85982.47</td>\n",
       "      <td>0</td>\n",
       "    </tr>\n",
       "    <tr>\n",
       "      <th>99</th>\n",
       "      <td>413</td>\n",
       "      <td>France</td>\n",
       "      <td>Male</td>\n",
       "      <td>34</td>\n",
       "      <td>NaN</td>\n",
       "      <td>0.00</td>\n",
       "      <td>2</td>\n",
       "      <td>0</td>\n",
       "      <td>0</td>\n",
       "      <td>6534.18</td>\n",
       "      <td>0</td>\n",
       "    </tr>\n",
       "    <tr>\n",
       "      <th>111</th>\n",
       "      <td>538</td>\n",
       "      <td>Germany</td>\n",
       "      <td>Male</td>\n",
       "      <td>39</td>\n",
       "      <td>NaN</td>\n",
       "      <td>108055.10</td>\n",
       "      <td>2</td>\n",
       "      <td>1</td>\n",
       "      <td>0</td>\n",
       "      <td>27231.26</td>\n",
       "      <td>0</td>\n",
       "    </tr>\n",
       "  </tbody>\n",
       "</table>\n",
       "</div>"
      ],
      "text/plain": [
       "     CreditScore Geography  Gender  Age  Tenure    Balance  NumOfProducts  \\\n",
       "30           591     Spain  Female   39     NaN       0.00              3   \n",
       "48           550   Germany    Male   38     NaN  103391.38              1   \n",
       "51           585   Germany    Male   36     NaN  146050.97              2   \n",
       "53           655   Germany    Male   41     NaN  125561.97              1   \n",
       "60           742   Germany    Male   35     NaN  136857.00              1   \n",
       "82           543    France  Female   36     NaN       0.00              2   \n",
       "85           652     Spain  Female   75     NaN       0.00              2   \n",
       "94           730     Spain    Male   42     NaN       0.00              2   \n",
       "99           413    France    Male   34     NaN       0.00              2   \n",
       "111          538   Germany    Male   39     NaN  108055.10              2   \n",
       "\n",
       "     HasCrCard  IsActiveMember  EstimatedSalary  Exited  \n",
       "30           1               0        140469.38       1  \n",
       "48           0               1         90878.13       0  \n",
       "51           0               0         86424.57       0  \n",
       "53           0               0        164040.94       1  \n",
       "60           0               0         84509.57       0  \n",
       "82           0               0         26019.59       0  \n",
       "85           1               1        114675.75       0  \n",
       "94           0               1         85982.47       0  \n",
       "99           0               0          6534.18       0  \n",
       "111          1               0         27231.26       0  "
      ]
     },
     "execution_count": 5,
     "metadata": {},
     "output_type": "execute_result"
    }
   ],
   "source": [
    "# вывод на экран первых 10 объектов, содержащих пропуски в столбце Tenure\n",
    "data_useful.query('Tenure.isna()').head(10)"
   ]
  },
  {
   "cell_type": "markdown",
   "metadata": {},
   "source": [
    "Также изучим распределение значений признака:"
   ]
  },
  {
   "cell_type": "code",
   "execution_count": 6,
   "metadata": {},
   "outputs": [
    {
     "data": {
      "image/png": "[encoded data removed]",
      "text/plain": [
       "<Figure size 864x576 with 1 Axes>"
      ]
     },
     "metadata": {},
     "output_type": "display_data"
    }
   ],
   "source": [
    "# построение гистограммы распределения данных столбца Tenure\n",
    "fig, ax = plt.subplots(figsize=(12,8))\n",
    "\n",
    "sns.histplot(data=data_useful,\n",
    "             x='Tenure',\n",
    "             color='red', \n",
    "             bins= data_useful['Tenure'].nunique()\n",
    "            )\n",
    "\n",
    "ax.set_xticks(range(11))\n",
    "\n",
    "plt.title('Распределение Tenure');\n",
    "plt.xlabel('Tenure')\n",
    "plt.ylabel('Количество объектов')\n",
    "\n",
    "plt.show()"
   ]
  },
  {
   "cell_type": "markdown",
   "metadata": {},
   "source": [
    "Нам не удалось установить взаимосвязь между пропусками и данными других столбцов. \n",
    "\n",
    "Пропуски встречаются в ~9% данных, и удаление содержащих пропуски объектов приведет к потере существенной части данных.\n",
    "\n",
    "Поскольку данные с пропусками являются количественными и распределены нормально, заполним пропуски при помощи *IterativeImputer*. Для этого нам сначала потребуется преобразовать категориальные признаки в численные. Мы также предполагаем, что наличие пропусков может являться дополнительной информацией для построения модели, поэтому сначала сохраним информацию о пропусках в отдельный столбец-индикатор:"
   ]
  },
  {
   "cell_type": "code",
   "execution_count": 7,
   "metadata": {},
   "outputs": [
    {
     "data": {
      "text/html": [
       "<div>\n",
       "<style scoped>\n",
       "    .dataframe tbody tr th:only-of-type {\n",
       "        vertical-align: middle;\n",
       "    }\n",
       "\n",
       "    .dataframe tbody tr th {\n",
       "        vertical-align: top;\n",
       "    }\n",
       "\n",
       "    .dataframe thead th {\n",
       "        text-align: right;\n",
       "    }\n",
       "</style>\n",
       "<table border=\"1\" class=\"dataframe\">\n",
       "  <thead>\n",
       "    <tr style=\"text-align: right;\">\n",
       "      <th></th>\n",
       "      <th>CreditScore</th>\n",
       "      <th>Geography</th>\n",
       "      <th>Gender</th>\n",
       "      <th>Age</th>\n",
       "      <th>Tenure</th>\n",
       "      <th>Balance</th>\n",
       "      <th>NumOfProducts</th>\n",
       "      <th>HasCrCard</th>\n",
       "      <th>IsActiveMember</th>\n",
       "      <th>EstimatedSalary</th>\n",
       "      <th>Exited</th>\n",
       "      <th>Tenure_missing</th>\n",
       "    </tr>\n",
       "  </thead>\n",
       "  <tbody>\n",
       "    <tr>\n",
       "      <th>30</th>\n",
       "      <td>591</td>\n",
       "      <td>Spain</td>\n",
       "      <td>Female</td>\n",
       "      <td>39</td>\n",
       "      <td>NaN</td>\n",
       "      <td>0.00</td>\n",
       "      <td>3</td>\n",
       "      <td>1</td>\n",
       "      <td>0</td>\n",
       "      <td>140469.38</td>\n",
       "      <td>1</td>\n",
       "      <td>1</td>\n",
       "    </tr>\n",
       "    <tr>\n",
       "      <th>48</th>\n",
       "      <td>550</td>\n",
       "      <td>Germany</td>\n",
       "      <td>Male</td>\n",
       "      <td>38</td>\n",
       "      <td>NaN</td>\n",
       "      <td>103391.38</td>\n",
       "      <td>1</td>\n",
       "      <td>0</td>\n",
       "      <td>1</td>\n",
       "      <td>90878.13</td>\n",
       "      <td>0</td>\n",
       "      <td>1</td>\n",
       "    </tr>\n",
       "    <tr>\n",
       "      <th>51</th>\n",
       "      <td>585</td>\n",
       "      <td>Germany</td>\n",
       "      <td>Male</td>\n",
       "      <td>36</td>\n",
       "      <td>NaN</td>\n",
       "      <td>146050.97</td>\n",
       "      <td>2</td>\n",
       "      <td>0</td>\n",
       "      <td>0</td>\n",
       "      <td>86424.57</td>\n",
       "      <td>0</td>\n",
       "      <td>1</td>\n",
       "    </tr>\n",
       "    <tr>\n",
       "      <th>53</th>\n",
       "      <td>655</td>\n",
       "      <td>Germany</td>\n",
       "      <td>Male</td>\n",
       "      <td>41</td>\n",
       "      <td>NaN</td>\n",
       "      <td>125561.97</td>\n",
       "      <td>1</td>\n",
       "      <td>0</td>\n",
       "      <td>0</td>\n",
       "      <td>164040.94</td>\n",
       "      <td>1</td>\n",
       "      <td>1</td>\n",
       "    </tr>\n",
       "    <tr>\n",
       "      <th>60</th>\n",
       "      <td>742</td>\n",
       "      <td>Germany</td>\n",
       "      <td>Male</td>\n",
       "      <td>35</td>\n",
       "      <td>NaN</td>\n",
       "      <td>136857.00</td>\n",
       "      <td>1</td>\n",
       "      <td>0</td>\n",
       "      <td>0</td>\n",
       "      <td>84509.57</td>\n",
       "      <td>0</td>\n",
       "      <td>1</td>\n",
       "    </tr>\n",
       "  </tbody>\n",
       "</table>\n",
       "</div>"
      ],
      "text/plain": [
       "    CreditScore Geography  Gender  Age  Tenure    Balance  NumOfProducts  \\\n",
       "30          591     Spain  Female   39     NaN       0.00              3   \n",
       "48          550   Germany    Male   38     NaN  103391.38              1   \n",
       "51          585   Germany    Male   36     NaN  146050.97              2   \n",
       "53          655   Germany    Male   41     NaN  125561.97              1   \n",
       "60          742   Germany    Male   35     NaN  136857.00              1   \n",
       "\n",
       "    HasCrCard  IsActiveMember  EstimatedSalary  Exited  Tenure_missing  \n",
       "30          1               0        140469.38       1               1  \n",
       "48          0               1         90878.13       0               1  \n",
       "51          0               0         86424.57       0               1  \n",
       "53          0               0        164040.94       1               1  \n",
       "60          0               0         84509.57       0               1  "
      ]
     },
     "metadata": {},
     "output_type": "display_data"
    },
    {
     "data": {
      "text/html": [
       "<div>\n",
       "<style scoped>\n",
       "    .dataframe tbody tr th:only-of-type {\n",
       "        vertical-align: middle;\n",
       "    }\n",
       "\n",
       "    .dataframe tbody tr th {\n",
       "        vertical-align: top;\n",
       "    }\n",
       "\n",
       "    .dataframe thead th {\n",
       "        text-align: right;\n",
       "    }\n",
       "</style>\n",
       "<table border=\"1\" class=\"dataframe\">\n",
       "  <thead>\n",
       "    <tr style=\"text-align: right;\">\n",
       "      <th></th>\n",
       "      <th>CreditScore</th>\n",
       "      <th>Geography</th>\n",
       "      <th>Gender</th>\n",
       "      <th>Age</th>\n",
       "      <th>Tenure</th>\n",
       "      <th>Balance</th>\n",
       "      <th>NumOfProducts</th>\n",
       "      <th>HasCrCard</th>\n",
       "      <th>IsActiveMember</th>\n",
       "      <th>EstimatedSalary</th>\n",
       "      <th>Exited</th>\n",
       "      <th>Tenure_missing</th>\n",
       "    </tr>\n",
       "  </thead>\n",
       "  <tbody>\n",
       "    <tr>\n",
       "      <th>0</th>\n",
       "      <td>619</td>\n",
       "      <td>France</td>\n",
       "      <td>Female</td>\n",
       "      <td>42</td>\n",
       "      <td>2.0</td>\n",
       "      <td>0.00</td>\n",
       "      <td>1</td>\n",
       "      <td>1</td>\n",
       "      <td>1</td>\n",
       "      <td>101348.88</td>\n",
       "      <td>1</td>\n",
       "      <td>0</td>\n",
       "    </tr>\n",
       "    <tr>\n",
       "      <th>1</th>\n",
       "      <td>608</td>\n",
       "      <td>Spain</td>\n",
       "      <td>Female</td>\n",
       "      <td>41</td>\n",
       "      <td>1.0</td>\n",
       "      <td>83807.86</td>\n",
       "      <td>1</td>\n",
       "      <td>0</td>\n",
       "      <td>1</td>\n",
       "      <td>112542.58</td>\n",
       "      <td>0</td>\n",
       "      <td>0</td>\n",
       "    </tr>\n",
       "    <tr>\n",
       "      <th>2</th>\n",
       "      <td>502</td>\n",
       "      <td>France</td>\n",
       "      <td>Female</td>\n",
       "      <td>42</td>\n",
       "      <td>8.0</td>\n",
       "      <td>159660.80</td>\n",
       "      <td>3</td>\n",
       "      <td>1</td>\n",
       "      <td>0</td>\n",
       "      <td>113931.57</td>\n",
       "      <td>1</td>\n",
       "      <td>0</td>\n",
       "    </tr>\n",
       "    <tr>\n",
       "      <th>3</th>\n",
       "      <td>699</td>\n",
       "      <td>France</td>\n",
       "      <td>Female</td>\n",
       "      <td>39</td>\n",
       "      <td>1.0</td>\n",
       "      <td>0.00</td>\n",
       "      <td>2</td>\n",
       "      <td>0</td>\n",
       "      <td>0</td>\n",
       "      <td>93826.63</td>\n",
       "      <td>0</td>\n",
       "      <td>0</td>\n",
       "    </tr>\n",
       "    <tr>\n",
       "      <th>4</th>\n",
       "      <td>850</td>\n",
       "      <td>Spain</td>\n",
       "      <td>Female</td>\n",
       "      <td>43</td>\n",
       "      <td>2.0</td>\n",
       "      <td>125510.82</td>\n",
       "      <td>1</td>\n",
       "      <td>1</td>\n",
       "      <td>1</td>\n",
       "      <td>79084.10</td>\n",
       "      <td>0</td>\n",
       "      <td>0</td>\n",
       "    </tr>\n",
       "  </tbody>\n",
       "</table>\n",
       "</div>"
      ],
      "text/plain": [
       "   CreditScore Geography  Gender  Age  Tenure    Balance  NumOfProducts  \\\n",
       "0          619    France  Female   42     2.0       0.00              1   \n",
       "1          608     Spain  Female   41     1.0   83807.86              1   \n",
       "2          502    France  Female   42     8.0  159660.80              3   \n",
       "3          699    France  Female   39     1.0       0.00              2   \n",
       "4          850     Spain  Female   43     2.0  125510.82              1   \n",
       "\n",
       "   HasCrCard  IsActiveMember  EstimatedSalary  Exited  Tenure_missing  \n",
       "0          1               1        101348.88       1               0  \n",
       "1          0               1        112542.58       0               0  \n",
       "2          1               0        113931.57       1               0  \n",
       "3          0               0         93826.63       0               0  \n",
       "4          1               1         79084.10       0               0  "
      ]
     },
     "execution_count": 7,
     "metadata": {},
     "output_type": "execute_result"
    }
   ],
   "source": [
    "# создание столбца-индикатора пропусков\n",
    "data_useful['Tenure_missing'] = data_useful['Tenure'].isna() * 1\n",
    "\n",
    "# проверка создания столбца-индикатора пропусков\n",
    "display(data_useful.query('Tenure.isna()').head())\n",
    "data_useful.query('not Tenure.isna()').head()"
   ]
  },
  {
   "cell_type": "markdown",
   "metadata": {},
   "source": [
    "### Преобразование категориальных признаков в численные"
   ]
  },
  {
   "cell_type": "markdown",
   "metadata": {},
   "source": [
    "Для преобразования используем технику One-Hot Encoding:"
   ]
  },
  {
   "cell_type": "code",
   "execution_count": 8,
   "metadata": {},
   "outputs": [
    {
     "data": {
      "text/html": [
       "<div>\n",
       "<style scoped>\n",
       "    .dataframe tbody tr th:only-of-type {\n",
       "        vertical-align: middle;\n",
       "    }\n",
       "\n",
       "    .dataframe tbody tr th {\n",
       "        vertical-align: top;\n",
       "    }\n",
       "\n",
       "    .dataframe thead th {\n",
       "        text-align: right;\n",
       "    }\n",
       "</style>\n",
       "<table border=\"1\" class=\"dataframe\">\n",
       "  <thead>\n",
       "    <tr style=\"text-align: right;\">\n",
       "      <th></th>\n",
       "      <th>CreditScore</th>\n",
       "      <th>Age</th>\n",
       "      <th>Tenure</th>\n",
       "      <th>Balance</th>\n",
       "      <th>NumOfProducts</th>\n",
       "      <th>HasCrCard</th>\n",
       "      <th>IsActiveMember</th>\n",
       "      <th>EstimatedSalary</th>\n",
       "      <th>Exited</th>\n",
       "      <th>Tenure_missing</th>\n",
       "      <th>Geography_Germany</th>\n",
       "      <th>Geography_Spain</th>\n",
       "      <th>Gender_Male</th>\n",
       "    </tr>\n",
       "  </thead>\n",
       "  <tbody>\n",
       "    <tr>\n",
       "      <th>0</th>\n",
       "      <td>619</td>\n",
       "      <td>42</td>\n",
       "      <td>2.0</td>\n",
       "      <td>0.00</td>\n",
       "      <td>1</td>\n",
       "      <td>1</td>\n",
       "      <td>1</td>\n",
       "      <td>101348.88</td>\n",
       "      <td>1</td>\n",
       "      <td>0</td>\n",
       "      <td>0</td>\n",
       "      <td>0</td>\n",
       "      <td>0</td>\n",
       "    </tr>\n",
       "    <tr>\n",
       "      <th>1</th>\n",
       "      <td>608</td>\n",
       "      <td>41</td>\n",
       "      <td>1.0</td>\n",
       "      <td>83807.86</td>\n",
       "      <td>1</td>\n",
       "      <td>0</td>\n",
       "      <td>1</td>\n",
       "      <td>112542.58</td>\n",
       "      <td>0</td>\n",
       "      <td>0</td>\n",
       "      <td>0</td>\n",
       "      <td>1</td>\n",
       "      <td>0</td>\n",
       "    </tr>\n",
       "    <tr>\n",
       "      <th>2</th>\n",
       "      <td>502</td>\n",
       "      <td>42</td>\n",
       "      <td>8.0</td>\n",
       "      <td>159660.80</td>\n",
       "      <td>3</td>\n",
       "      <td>1</td>\n",
       "      <td>0</td>\n",
       "      <td>113931.57</td>\n",
       "      <td>1</td>\n",
       "      <td>0</td>\n",
       "      <td>0</td>\n",
       "      <td>0</td>\n",
       "      <td>0</td>\n",
       "    </tr>\n",
       "    <tr>\n",
       "      <th>3</th>\n",
       "      <td>699</td>\n",
       "      <td>39</td>\n",
       "      <td>1.0</td>\n",
       "      <td>0.00</td>\n",
       "      <td>2</td>\n",
       "      <td>0</td>\n",
       "      <td>0</td>\n",
       "      <td>93826.63</td>\n",
       "      <td>0</td>\n",
       "      <td>0</td>\n",
       "      <td>0</td>\n",
       "      <td>0</td>\n",
       "      <td>0</td>\n",
       "    </tr>\n",
       "    <tr>\n",
       "      <th>4</th>\n",
       "      <td>850</td>\n",
       "      <td>43</td>\n",
       "      <td>2.0</td>\n",
       "      <td>125510.82</td>\n",
       "      <td>1</td>\n",
       "      <td>1</td>\n",
       "      <td>1</td>\n",
       "      <td>79084.10</td>\n",
       "      <td>0</td>\n",
       "      <td>0</td>\n",
       "      <td>0</td>\n",
       "      <td>1</td>\n",
       "      <td>0</td>\n",
       "    </tr>\n",
       "  </tbody>\n",
       "</table>\n",
       "</div>"
      ],
      "text/plain": [
       "   CreditScore  Age  Tenure    Balance  NumOfProducts  HasCrCard  \\\n",
       "0          619   42     2.0       0.00              1          1   \n",
       "1          608   41     1.0   83807.86              1          0   \n",
       "2          502   42     8.0  159660.80              3          1   \n",
       "3          699   39     1.0       0.00              2          0   \n",
       "4          850   43     2.0  125510.82              1          1   \n",
       "\n",
       "   IsActiveMember  EstimatedSalary  Exited  Tenure_missing  Geography_Germany  \\\n",
       "0               1        101348.88       1               0                  0   \n",
       "1               1        112542.58       0               0                  0   \n",
       "2               0        113931.57       1               0                  0   \n",
       "3               0         93826.63       0               0                  0   \n",
       "4               1         79084.10       0               0                  0   \n",
       "\n",
       "   Geography_Spain  Gender_Male  \n",
       "0                0            0  \n",
       "1                1            0  \n",
       "2                0            0  \n",
       "3                0            0  \n",
       "4                1            0  "
      ]
     },
     "execution_count": 8,
     "metadata": {},
     "output_type": "execute_result"
    }
   ],
   "source": [
    "# преобразование категориальных признаков с сохранением результатов в переменную data_useful_ohe\n",
    "data_useful_ohe = pd.get_dummies(data_useful, drop_first=True)\n",
    "\n",
    "# проверка преобазования путем вывода на экран первых 5 объектов data_useful_ohe\n",
    "data_useful_ohe.head()"
   ]
  },
  {
   "cell_type": "markdown",
   "metadata": {},
   "source": [
    "Теперь заполним пропуски:"
   ]
  },
  {
   "cell_type": "code",
   "execution_count": 9,
   "metadata": {},
   "outputs": [
    {
     "data": {
      "text/plain": [
       "0"
      ]
     },
     "execution_count": 9,
     "metadata": {},
     "output_type": "execute_result"
    }
   ],
   "source": [
    "# заполнение пропусков при помощи IterativeImputer\n",
    "imputer = IterativeImputer(random_state=12345)\n",
    "imputed = imputer.fit_transform(data_useful_ohe)\n",
    "data_useful_ohe_imputed = pd.DataFrame(imputed, columns=data_useful_ohe.columns)\n",
    "\n",
    "# проверка заполнения пропусков \n",
    "data_useful_ohe_imputed['Tenure'].isna().sum()"
   ]
  },
  {
   "cell_type": "markdown",
   "metadata": {},
   "source": [
    "### Создание переменных с признаками и целевым признаком и разделение выборки на обучающую, валидационную и тестовую"
   ]
  },
  {
   "cell_type": "markdown",
   "metadata": {},
   "source": [
    "При разделении выборки на обучающую, валидационную и тестовую будем использовать соотношение 3/1/1. Cохраним изначальное распределение целевого признака в новых выборках при помощи стратификации. Также для удобства создадим словарь с выборками и их названиями:"
   ]
  },
  {
   "cell_type": "code",
   "execution_count": 10,
   "metadata": {},
   "outputs": [
    {
     "name": "stdout",
     "output_type": "stream",
     "text": [
      "features_train\n",
      "(6000, 12)\n",
      "\n",
      "features_valid\n",
      "(2000, 12)\n",
      "\n",
      "features_test\n",
      "(2000, 12)\n",
      "\n",
      "target_train\n",
      "(6000,)\n",
      "\n",
      "target_valid\n",
      "(2000,)\n",
      "\n",
      "target_test\n",
      "(2000,)\n",
      "\n",
      "target_train\n",
      "0.0    0.796167\n",
      "1.0    0.203833\n",
      "Name: Exited, dtype: float64\n",
      "\n",
      "target_valid\n",
      "0.0    0.7965\n",
      "1.0    0.2035\n",
      "Name: Exited, dtype: float64\n",
      "\n",
      "target_test\n",
      "0.0    0.7965\n",
      "1.0    0.2035\n",
      "Name: Exited, dtype: float64\n",
      "\n"
     ]
    }
   ],
   "source": [
    "# создание переменных features и target с признаками и целевым признаком\n",
    "features = data_useful_ohe_imputed.drop(columns='Exited')\n",
    "target = data_useful_ohe_imputed['Exited']\n",
    "\n",
    "# разделение выборки на обучающую, валидационную и тестовую\n",
    "features_train_val, features_test, target_train_val, target_test = train_test_split(\n",
    "    features, target, test_size=0.2, stratify=data_useful_ohe_imputed['Exited'], random_state=37246)\n",
    "features_train, features_valid, target_train, target_valid = train_test_split(\n",
    "     features_train_val, target_train_val, test_size=0.25, stratify=target_train_val, random_state=37246)\n",
    "\n",
    "# создание словаря с выборками и их названиями\n",
    "subsets_names = ['features_train', 'features_valid',  'features_test', \n",
    "                 'target_train', 'target_valid', 'target_test']\n",
    "subsets = [features_train, features_valid,  features_test, \n",
    "           target_train, target_valid, target_test]\n",
    "subsets_dict = dict(zip(subsets_names, subsets))\n",
    "\n",
    "# проверка разделения данных на выборки\n",
    "for subset_name, subset in subsets_dict.items():\n",
    "    print(subset_name)\n",
    "    print(subset.shape)\n",
    "    print()\n",
    "    \n",
    "# проверка распределения целевого признака в новых выборках\n",
    "for subset_name, subset in {k: v for k, v in subsets_dict.items() if k.startswith('target')}.items():\n",
    "    print(subset_name)\n",
    "    print(subset.value_counts() / subset.shape)\n",
    "    print()"
   ]
  },
  {
   "cell_type": "markdown",
   "metadata": {},
   "source": [
    "### Масштабирование количественных признаков"
   ]
  },
  {
   "cell_type": "markdown",
   "metadata": {},
   "source": [
    "Для масштабирования будем использовать метод стандартизации данных:"
   ]
  },
  {
   "cell_type": "code",
   "execution_count": 11,
   "metadata": {
    "scrolled": false
   },
   "outputs": [
    {
     "name": "stdout",
     "output_type": "stream",
     "text": [
      "features_train\n"
     ]
    },
    {
     "data": {
      "text/html": [
       "<div>\n",
       "<style scoped>\n",
       "    .dataframe tbody tr th:only-of-type {\n",
       "        vertical-align: middle;\n",
       "    }\n",
       "\n",
       "    .dataframe tbody tr th {\n",
       "        vertical-align: top;\n",
       "    }\n",
       "\n",
       "    .dataframe thead th {\n",
       "        text-align: right;\n",
       "    }\n",
       "</style>\n",
       "<table border=\"1\" class=\"dataframe\">\n",
       "  <thead>\n",
       "    <tr style=\"text-align: right;\">\n",
       "      <th></th>\n",
       "      <th>CreditScore</th>\n",
       "      <th>Age</th>\n",
       "      <th>Tenure</th>\n",
       "      <th>Balance</th>\n",
       "      <th>NumOfProducts</th>\n",
       "      <th>HasCrCard</th>\n",
       "      <th>IsActiveMember</th>\n",
       "      <th>EstimatedSalary</th>\n",
       "      <th>Tenure_missing</th>\n",
       "      <th>Geography_Germany</th>\n",
       "      <th>Geography_Spain</th>\n",
       "      <th>Gender_Male</th>\n",
       "    </tr>\n",
       "  </thead>\n",
       "  <tbody>\n",
       "    <tr>\n",
       "      <th>812</th>\n",
       "      <td>-1.390583</td>\n",
       "      <td>-0.564964</td>\n",
       "      <td>-0.716704</td>\n",
       "      <td>-1.226145</td>\n",
       "      <td>0.810347</td>\n",
       "      <td>1.0</td>\n",
       "      <td>1.0</td>\n",
       "      <td>-0.717470</td>\n",
       "      <td>0.0</td>\n",
       "      <td>0.0</td>\n",
       "      <td>1.0</td>\n",
       "      <td>0.0</td>\n",
       "    </tr>\n",
       "    <tr>\n",
       "      <th>9337</th>\n",
       "      <td>-1.907337</td>\n",
       "      <td>0.768135</td>\n",
       "      <td>0.013791</td>\n",
       "      <td>0.411320</td>\n",
       "      <td>-0.902257</td>\n",
       "      <td>1.0</td>\n",
       "      <td>1.0</td>\n",
       "      <td>1.458910</td>\n",
       "      <td>1.0</td>\n",
       "      <td>1.0</td>\n",
       "      <td>0.0</td>\n",
       "      <td>0.0</td>\n",
       "    </tr>\n",
       "    <tr>\n",
       "      <th>836</th>\n",
       "      <td>0.449059</td>\n",
       "      <td>-0.184079</td>\n",
       "      <td>-0.716704</td>\n",
       "      <td>-1.226145</td>\n",
       "      <td>0.810347</td>\n",
       "      <td>1.0</td>\n",
       "      <td>1.0</td>\n",
       "      <td>0.822228</td>\n",
       "      <td>0.0</td>\n",
       "      <td>0.0</td>\n",
       "      <td>1.0</td>\n",
       "      <td>0.0</td>\n",
       "    </tr>\n",
       "    <tr>\n",
       "      <th>3056</th>\n",
       "      <td>0.356043</td>\n",
       "      <td>1.815570</td>\n",
       "      <td>-1.436089</td>\n",
       "      <td>0.454802</td>\n",
       "      <td>-0.902257</td>\n",
       "      <td>1.0</td>\n",
       "      <td>1.0</td>\n",
       "      <td>0.947201</td>\n",
       "      <td>0.0</td>\n",
       "      <td>0.0</td>\n",
       "      <td>0.0</td>\n",
       "      <td>1.0</td>\n",
       "    </tr>\n",
       "    <tr>\n",
       "      <th>4144</th>\n",
       "      <td>0.045991</td>\n",
       "      <td>0.482471</td>\n",
       "      <td>1.081760</td>\n",
       "      <td>0.176909</td>\n",
       "      <td>-0.902257</td>\n",
       "      <td>0.0</td>\n",
       "      <td>1.0</td>\n",
       "      <td>1.547076</td>\n",
       "      <td>0.0</td>\n",
       "      <td>0.0</td>\n",
       "      <td>0.0</td>\n",
       "      <td>1.0</td>\n",
       "    </tr>\n",
       "  </tbody>\n",
       "</table>\n",
       "</div>"
      ],
      "text/plain": [
       "      CreditScore       Age    Tenure   Balance  NumOfProducts  HasCrCard  \\\n",
       "812     -1.390583 -0.564964 -0.716704 -1.226145       0.810347        1.0   \n",
       "9337    -1.907337  0.768135  0.013791  0.411320      -0.902257        1.0   \n",
       "836      0.449059 -0.184079 -0.716704 -1.226145       0.810347        1.0   \n",
       "3056     0.356043  1.815570 -1.436089  0.454802      -0.902257        1.0   \n",
       "4144     0.045991  0.482471  1.081760  0.176909      -0.902257        0.0   \n",
       "\n",
       "      IsActiveMember  EstimatedSalary  Tenure_missing  Geography_Germany  \\\n",
       "812              1.0        -0.717470             0.0                0.0   \n",
       "9337             1.0         1.458910             1.0                1.0   \n",
       "836              1.0         0.822228             0.0                0.0   \n",
       "3056             1.0         0.947201             0.0                0.0   \n",
       "4144             1.0         1.547076             0.0                0.0   \n",
       "\n",
       "      Geography_Spain  Gender_Male  \n",
       "812               1.0          0.0  \n",
       "9337              0.0          0.0  \n",
       "836               1.0          0.0  \n",
       "3056              0.0          1.0  \n",
       "4144              0.0          1.0  "
      ]
     },
     "metadata": {},
     "output_type": "display_data"
    },
    {
     "name": "stdout",
     "output_type": "stream",
     "text": [
      "--------------------------------------------------------------------------------\n",
      "\n",
      "features_valid\n"
     ]
    },
    {
     "data": {
      "text/html": [
       "<div>\n",
       "<style scoped>\n",
       "    .dataframe tbody tr th:only-of-type {\n",
       "        vertical-align: middle;\n",
       "    }\n",
       "\n",
       "    .dataframe tbody tr th {\n",
       "        vertical-align: top;\n",
       "    }\n",
       "\n",
       "    .dataframe thead th {\n",
       "        text-align: right;\n",
       "    }\n",
       "</style>\n",
       "<table border=\"1\" class=\"dataframe\">\n",
       "  <thead>\n",
       "    <tr style=\"text-align: right;\">\n",
       "      <th></th>\n",
       "      <th>CreditScore</th>\n",
       "      <th>Age</th>\n",
       "      <th>Tenure</th>\n",
       "      <th>Balance</th>\n",
       "      <th>NumOfProducts</th>\n",
       "      <th>HasCrCard</th>\n",
       "      <th>IsActiveMember</th>\n",
       "      <th>EstimatedSalary</th>\n",
       "      <th>Tenure_missing</th>\n",
       "      <th>Geography_Germany</th>\n",
       "      <th>Geography_Spain</th>\n",
       "      <th>Gender_Male</th>\n",
       "    </tr>\n",
       "  </thead>\n",
       "  <tbody>\n",
       "    <tr>\n",
       "      <th>2537</th>\n",
       "      <td>-0.801484</td>\n",
       "      <td>-0.564964</td>\n",
       "      <td>0.007856</td>\n",
       "      <td>0.219463</td>\n",
       "      <td>-0.902257</td>\n",
       "      <td>1.0</td>\n",
       "      <td>0.0</td>\n",
       "      <td>0.656006</td>\n",
       "      <td>1.0</td>\n",
       "      <td>0.0</td>\n",
       "      <td>0.0</td>\n",
       "      <td>0.0</td>\n",
       "    </tr>\n",
       "    <tr>\n",
       "      <th>8992</th>\n",
       "      <td>-0.439757</td>\n",
       "      <td>0.101585</td>\n",
       "      <td>1.081760</td>\n",
       "      <td>0.726407</td>\n",
       "      <td>-0.902257</td>\n",
       "      <td>0.0</td>\n",
       "      <td>0.0</td>\n",
       "      <td>-0.674259</td>\n",
       "      <td>0.0</td>\n",
       "      <td>1.0</td>\n",
       "      <td>0.0</td>\n",
       "      <td>0.0</td>\n",
       "    </tr>\n",
       "    <tr>\n",
       "      <th>3926</th>\n",
       "      <td>0.655760</td>\n",
       "      <td>-0.945850</td>\n",
       "      <td>0.362374</td>\n",
       "      <td>0.263774</td>\n",
       "      <td>-0.902257</td>\n",
       "      <td>1.0</td>\n",
       "      <td>1.0</td>\n",
       "      <td>-0.527587</td>\n",
       "      <td>0.0</td>\n",
       "      <td>1.0</td>\n",
       "      <td>0.0</td>\n",
       "      <td>1.0</td>\n",
       "    </tr>\n",
       "    <tr>\n",
       "      <th>9148</th>\n",
       "      <td>0.490399</td>\n",
       "      <td>-0.184079</td>\n",
       "      <td>1.081760</td>\n",
       "      <td>-1.226145</td>\n",
       "      <td>0.810347</td>\n",
       "      <td>0.0</td>\n",
       "      <td>0.0</td>\n",
       "      <td>0.787228</td>\n",
       "      <td>0.0</td>\n",
       "      <td>0.0</td>\n",
       "      <td>0.0</td>\n",
       "      <td>1.0</td>\n",
       "    </tr>\n",
       "    <tr>\n",
       "      <th>853</th>\n",
       "      <td>0.025321</td>\n",
       "      <td>0.387250</td>\n",
       "      <td>-0.006122</td>\n",
       "      <td>-1.226145</td>\n",
       "      <td>0.810347</td>\n",
       "      <td>1.0</td>\n",
       "      <td>1.0</td>\n",
       "      <td>-1.612684</td>\n",
       "      <td>1.0</td>\n",
       "      <td>0.0</td>\n",
       "      <td>0.0</td>\n",
       "      <td>0.0</td>\n",
       "    </tr>\n",
       "  </tbody>\n",
       "</table>\n",
       "</div>"
      ],
      "text/plain": [
       "      CreditScore       Age    Tenure   Balance  NumOfProducts  HasCrCard  \\\n",
       "2537    -0.801484 -0.564964  0.007856  0.219463      -0.902257        1.0   \n",
       "8992    -0.439757  0.101585  1.081760  0.726407      -0.902257        0.0   \n",
       "3926     0.655760 -0.945850  0.362374  0.263774      -0.902257        1.0   \n",
       "9148     0.490399 -0.184079  1.081760 -1.226145       0.810347        0.0   \n",
       "853      0.025321  0.387250 -0.006122 -1.226145       0.810347        1.0   \n",
       "\n",
       "      IsActiveMember  EstimatedSalary  Tenure_missing  Geography_Germany  \\\n",
       "2537             0.0         0.656006             1.0                0.0   \n",
       "8992             0.0        -0.674259             0.0                1.0   \n",
       "3926             1.0        -0.527587             0.0                1.0   \n",
       "9148             0.0         0.787228             0.0                0.0   \n",
       "853              1.0        -1.612684             1.0                0.0   \n",
       "\n",
       "      Geography_Spain  Gender_Male  \n",
       "2537              0.0          0.0  \n",
       "8992              0.0          0.0  \n",
       "3926              0.0          1.0  \n",
       "9148              0.0          1.0  \n",
       "853               0.0          0.0  "
      ]
     },
     "metadata": {},
     "output_type": "display_data"
    },
    {
     "name": "stdout",
     "output_type": "stream",
     "text": [
      "--------------------------------------------------------------------------------\n",
      "\n",
      "features_test\n"
     ]
    },
    {
     "data": {
      "text/html": [
       "<div>\n",
       "<style scoped>\n",
       "    .dataframe tbody tr th:only-of-type {\n",
       "        vertical-align: middle;\n",
       "    }\n",
       "\n",
       "    .dataframe tbody tr th {\n",
       "        vertical-align: top;\n",
       "    }\n",
       "\n",
       "    .dataframe thead th {\n",
       "        text-align: right;\n",
       "    }\n",
       "</style>\n",
       "<table border=\"1\" class=\"dataframe\">\n",
       "  <thead>\n",
       "    <tr style=\"text-align: right;\">\n",
       "      <th></th>\n",
       "      <th>CreditScore</th>\n",
       "      <th>Age</th>\n",
       "      <th>Tenure</th>\n",
       "      <th>Balance</th>\n",
       "      <th>NumOfProducts</th>\n",
       "      <th>HasCrCard</th>\n",
       "      <th>IsActiveMember</th>\n",
       "      <th>EstimatedSalary</th>\n",
       "      <th>Tenure_missing</th>\n",
       "      <th>Geography_Germany</th>\n",
       "      <th>Geography_Spain</th>\n",
       "      <th>Gender_Male</th>\n",
       "    </tr>\n",
       "  </thead>\n",
       "  <tbody>\n",
       "    <tr>\n",
       "      <th>2702</th>\n",
       "      <td>-0.295066</td>\n",
       "      <td>-0.850628</td>\n",
       "      <td>-0.357011</td>\n",
       "      <td>0.504246</td>\n",
       "      <td>-0.902257</td>\n",
       "      <td>0.0</td>\n",
       "      <td>1.0</td>\n",
       "      <td>1.691772</td>\n",
       "      <td>0.0</td>\n",
       "      <td>0.0</td>\n",
       "      <td>0.0</td>\n",
       "      <td>0.0</td>\n",
       "    </tr>\n",
       "    <tr>\n",
       "      <th>1587</th>\n",
       "      <td>-0.605118</td>\n",
       "      <td>-0.184079</td>\n",
       "      <td>0.722067</td>\n",
       "      <td>-1.226145</td>\n",
       "      <td>0.810347</td>\n",
       "      <td>1.0</td>\n",
       "      <td>1.0</td>\n",
       "      <td>0.468607</td>\n",
       "      <td>0.0</td>\n",
       "      <td>0.0</td>\n",
       "      <td>0.0</td>\n",
       "      <td>0.0</td>\n",
       "    </tr>\n",
       "    <tr>\n",
       "      <th>2137</th>\n",
       "      <td>2.061329</td>\n",
       "      <td>-0.088857</td>\n",
       "      <td>-1.436089</td>\n",
       "      <td>0.488090</td>\n",
       "      <td>0.810347</td>\n",
       "      <td>1.0</td>\n",
       "      <td>0.0</td>\n",
       "      <td>-1.229141</td>\n",
       "      <td>0.0</td>\n",
       "      <td>0.0</td>\n",
       "      <td>0.0</td>\n",
       "      <td>0.0</td>\n",
       "    </tr>\n",
       "    <tr>\n",
       "      <th>6689</th>\n",
       "      <td>-0.212386</td>\n",
       "      <td>0.196807</td>\n",
       "      <td>0.722067</td>\n",
       "      <td>0.498351</td>\n",
       "      <td>-0.902257</td>\n",
       "      <td>0.0</td>\n",
       "      <td>1.0</td>\n",
       "      <td>-0.935869</td>\n",
       "      <td>0.0</td>\n",
       "      <td>0.0</td>\n",
       "      <td>1.0</td>\n",
       "      <td>1.0</td>\n",
       "    </tr>\n",
       "    <tr>\n",
       "      <th>3970</th>\n",
       "      <td>-1.462929</td>\n",
       "      <td>-0.850628</td>\n",
       "      <td>0.362374</td>\n",
       "      <td>-1.226145</td>\n",
       "      <td>0.810347</td>\n",
       "      <td>1.0</td>\n",
       "      <td>0.0</td>\n",
       "      <td>1.407706</td>\n",
       "      <td>0.0</td>\n",
       "      <td>0.0</td>\n",
       "      <td>0.0</td>\n",
       "      <td>1.0</td>\n",
       "    </tr>\n",
       "  </tbody>\n",
       "</table>\n",
       "</div>"
      ],
      "text/plain": [
       "      CreditScore       Age    Tenure   Balance  NumOfProducts  HasCrCard  \\\n",
       "2702    -0.295066 -0.850628 -0.357011  0.504246      -0.902257        0.0   \n",
       "1587    -0.605118 -0.184079  0.722067 -1.226145       0.810347        1.0   \n",
       "2137     2.061329 -0.088857 -1.436089  0.488090       0.810347        1.0   \n",
       "6689    -0.212386  0.196807  0.722067  0.498351      -0.902257        0.0   \n",
       "3970    -1.462929 -0.850628  0.362374 -1.226145       0.810347        1.0   \n",
       "\n",
       "      IsActiveMember  EstimatedSalary  Tenure_missing  Geography_Germany  \\\n",
       "2702             1.0         1.691772             0.0                0.0   \n",
       "1587             1.0         0.468607             0.0                0.0   \n",
       "2137             0.0        -1.229141             0.0                0.0   \n",
       "6689             1.0        -0.935869             0.0                0.0   \n",
       "3970             0.0         1.407706             0.0                0.0   \n",
       "\n",
       "      Geography_Spain  Gender_Male  \n",
       "2702              0.0          0.0  \n",
       "1587              0.0          0.0  \n",
       "2137              0.0          0.0  \n",
       "6689              1.0          1.0  \n",
       "3970              0.0          1.0  "
      ]
     },
     "metadata": {},
     "output_type": "display_data"
    },
    {
     "name": "stdout",
     "output_type": "stream",
     "text": [
      "--------------------------------------------------------------------------------\n",
      "\n"
     ]
    }
   ],
   "source": [
    "# создание переменной numeric со списком названий столбцов, содержащих количественные признаки\n",
    "numeric = ['CreditScore', 'Age', 'Tenure', 'Balance', 'NumOfProducts', 'EstimatedSalary']\n",
    "\n",
    "# создание объекта структуры StandardScaler и его настройка на обучающих данных\n",
    "scaler = StandardScaler()\n",
    "scaler.fit(features_train[numeric])\n",
    "\n",
    "# преобразование обучающей, валидационной и тестовой выборок функцией transform() \n",
    "# и вывод на экран первых 5 объектов каждой выборки \n",
    "for subset_name, subset in {k: v for k, v in subsets_dict.items() if k.startswith('features')}.items():\n",
    "    subset[numeric] = scaler.transform(subset[numeric])\n",
    "    print(subset_name)\n",
    "    display(subset.head())\n",
    "    print('-' * 80)\n",
    "    print()"
   ]
  },
  {
   "cell_type": "markdown",
   "metadata": {},
   "source": [
    "### Выводы"
   ]
  },
  {
   "cell_type": "markdown",
   "metadata": {},
   "source": [
    "В ходе подготовки данных мы:\n",
    "- удалили лишние признаки;\n",
    "- устранили выявленные пропуски в столбце Tenure;\n",
    "- преобразоваил категориальные признаки в численные;\n",
    "- сохранили признаки и целевой признак в отдельные переменные;\n",
    "- разделили выборку на обучающую, валидационную и тестовую;\n",
    "- масштабировали количественные признаки.\n",
    "\n",
    "Теперь мы можем провести исследование баланса классов и создать базовую модель."
   ]
  },
  {
   "cell_type": "markdown",
   "metadata": {},
   "source": [
    "## Исследование баланса классов"
   ]
  },
  {
   "cell_type": "markdown",
   "metadata": {},
   "source": [
    "Исследуем баланс классов. Для этого:\n",
    "- изучим долю каждого класса;\n",
    "- обучим базовую модель на несбалансированных данных и изучим ее метрики. "
   ]
  },
  {
   "cell_type": "code",
   "execution_count": 12,
   "metadata": {},
   "outputs": [
    {
     "data": {
      "text/plain": [
       "0.0    0.7963\n",
       "1.0    0.2037\n",
       "Name: Exited, dtype: float64"
      ]
     },
     "execution_count": 12,
     "metadata": {},
     "output_type": "execute_result"
    }
   ],
   "source": [
    "# подсчет и вывод на экран доли каждого класса\n",
    "data_useful_ohe_imputed['Exited'].value_counts()/data.shape[0]"
   ]
  },
  {
   "cell_type": "markdown",
   "metadata": {},
   "source": [
    "Мы видим, что данные не сбалансированы: соотношение классов составляет ~80/20."
   ]
  },
  {
   "cell_type": "markdown",
   "metadata": {},
   "source": [
    "В качестве базовой используем модель логистической регрессии. Также для удобства создадим функцию *show_metrics*, которая будет принимать на вход модель, тип выборки (обучающая, валидационная и тестовая) и порог и отображать значения *F1*-меры, точности, полноты и *AUC-ROC*:"
   ]
  },
  {
   "cell_type": "code",
   "execution_count": 13,
   "metadata": {},
   "outputs": [],
   "source": [
    "def show_metrics(model, subset='train', threshold=0.5):\n",
    "    '''\n",
    "    Функция на основе модели, типа выборки и порога отображает значения F1-меры, точности, полноты и AUC-ROC.\n",
    "    \n",
    "    Входные параметры:\n",
    "    - model - модель, чьи метрики необходимо отобразить\n",
    "    - subset - тип выборки (обучающая, тестовая), на которой необходимо расчитать метрики модели, по умолчанию обучающая\n",
    "    - threshold - порог, по умолчанию 0,5\n",
    "    '''\n",
    "    \n",
    "    subsets_pairs_dict = {\n",
    "        'train': [features_train, target_train],\n",
    "        'valid': [features_valid, target_valid],\n",
    "        'test': [features_test, target_test]\n",
    "    }\n",
    "        \n",
    "    predicted = model.predict_proba(subsets_pairs_dict[subset][0])[:, 1]  > threshold    \n",
    "    \n",
    "    precision = precision_score(subsets_pairs_dict[subset][1], predicted)\n",
    "    recall = recall_score(subsets_pairs_dict[subset][1], predicted)\n",
    "    f1 = f1_score(subsets_pairs_dict[subset][1], predicted)\n",
    "    auc_roc = roc_auc_score(subsets_pairs_dict[subset][1], predicted)\n",
    "    \n",
    "    print(\"F1:\", f1)\n",
    "    print(\"precision:\", precision)\n",
    "    print(\"recall:\", recall)\n",
    "    print(\"AUC-ROC:\", auc_roc)"
   ]
  },
  {
   "cell_type": "code",
   "execution_count": 14,
   "metadata": {},
   "outputs": [
    {
     "name": "stdout",
     "output_type": "stream",
     "text": [
      "F1: 0.326241134751773\n",
      "precision: 0.5859872611464968\n",
      "recall: 0.22604422604422605\n",
      "AUC-ROC: 0.5926203553322198\n"
     ]
    }
   ],
   "source": [
    "# создание базовой модели\n",
    "model = LogisticRegression(solver='liblinear', random_state=12345) \n",
    "\n",
    "# обучение базовой модели\n",
    "model.fit(features_train, target_train)\n",
    "\n",
    "# вывод метрик базовой модели на валидационной выборке с использованием функции show_metrics\n",
    "show_metrics(model, 'valid')"
   ]
  },
  {
   "cell_type": "markdown",
   "metadata": {},
   "source": [
    "### Выводы"
   ]
  },
  {
   "cell_type": "markdown",
   "metadata": {},
   "source": [
    "По результатам исследования баланса классов мы пришли к следующим выводам:\n",
    "\n",
    "- данные не сбалансированы: соотношение классов составляет ~80/20;\n",
    "- низкие значения *F1*-меры и *AUC-ROC* базовой модели на несбалансированных данных (0,33 и 0,59 соответственно) обусловлены низким значением полноты (0,23).\n",
    "\n",
    "На следующем этапе улучшим качество модели."
   ]
  },
  {
   "cell_type": "markdown",
   "metadata": {},
   "source": [
    "## Улучшение качества модели"
   ]
  },
  {
   "cell_type": "markdown",
   "metadata": {},
   "source": [
    "Наша работа по улучшению качества модели будет вестить в трех направлениях:\n",
    "\n",
    "1. устранение дисбаланса классов;\n",
    "2. подбор оптимальных алгоритма и гиперпараметров модели;\n",
    "3. подбор порога."
   ]
  },
  {
   "cell_type": "markdown",
   "metadata": {},
   "source": [
    "### Устранение дисбаланса классов"
   ]
  },
  {
   "cell_type": "markdown",
   "metadata": {},
   "source": [
    "Протестируем 4 стратегии устранения дисбаланса классов:\n",
    "\n",
    "1. автоматическое взвешивание классов;\n",
    "2. ручное взвешивание классов;\n",
    "3. увеличение выборки; \n",
    "4. уменьшение выборки."
   ]
  },
  {
   "cell_type": "markdown",
   "metadata": {},
   "source": [
    "#### Автоматическое взвешивание классов"
   ]
  },
  {
   "cell_type": "markdown",
   "metadata": {},
   "source": [
    "Для автоматического взвешивания классов при создании модели укажем значение параметра *class_weight* равным `balanced`:"
   ]
  },
  {
   "cell_type": "code",
   "execution_count": 15,
   "metadata": {},
   "outputs": [
    {
     "name": "stdout",
     "output_type": "stream",
     "text": [
      "F1: 0.4941176470588235\n",
      "precision: 0.37547892720306514\n",
      "recall: 0.7223587223587223\n",
      "AUC-ROC: 0.7076953687123179\n"
     ]
    }
   ],
   "source": [
    "# создание модели\n",
    "model = LogisticRegression(solver='liblinear', random_state=12345, class_weight='balanced') \n",
    "\n",
    "# обучение модели\n",
    "model.fit(features_train, target_train)\n",
    "\n",
    "# вывод метрик базовой модели на обучающей выборке с автоматическим взвешиванием классов\n",
    "# с использованием функции show_metrics\n",
    "show_metrics(model, 'valid')"
   ]
  },
  {
   "cell_type": "markdown",
   "metadata": {},
   "source": [
    "Применение автоматического взвешивания классов дало более высокие (по сравнению с несблансированными данными) значения *F1*-меры (0,49) и *AUC-ROC* (0,71) за счет увеличения полноты (с ~0,23 до ~0,72), но при этом значение точности существенно снизилось (с ~0,59 до ~0,38)."
   ]
  },
  {
   "cell_type": "markdown",
   "metadata": {},
   "source": [
    "#### Ручное взвешивание классов"
   ]
  },
  {
   "cell_type": "markdown",
   "metadata": {},
   "source": [
    "При помощи цикла самостоятельно подберем такие веса классов, которые дают лучшее значение *F1*-меры:"
   ]
  },
  {
   "cell_type": "code",
   "execution_count": 16,
   "metadata": {},
   "outputs": [
    {
     "name": "stdout",
     "output_type": "stream",
     "text": [
      "dict_items([(0, 27.700000000000024), (1, 72.29999999999998)])\n",
      "\n",
      "F1: 0.5229455709711847\n",
      "precision: 0.46226415094339623\n",
      "recall: 0.601965601965602\n",
      "AUC-ROC: 0.7115289403424998\n",
      "CPU times: user 58.5 s, sys: 57.7 s, total: 1min 56s\n",
      "Wall time: 1min 59s\n"
     ]
    }
   ],
   "source": [
    "%%time\n",
    "\n",
    "# создание переменных best_class_weights, best_class_weights_model и best_class_weights_model_f1_score\n",
    "best_class_weights = None\n",
    "best_class_weights_model = None\n",
    "best_class_weights_f1_score = 0\n",
    "\n",
    "# создание цикла, который:\n",
    "# - поочередно присваивает классам веса от 1 до 99,99 (c шагом 0,1)\n",
    "# - создает и обучает базовую модель с заданными весами классов\n",
    "# - сохраняет в переменные best_class_weights, best_class_weights_model и best_class_weights_f1_score\n",
    "# значения модели, показавшей лучшее значение F-1 меры на валидационной выборке\n",
    "for i in np.arange(1, 100, 0.1):\n",
    "    class_weights = {0: i, 1: 100-i}\n",
    "    model = LogisticRegression(solver='liblinear', random_state=12345, class_weight=class_weights) \n",
    "    model.fit(features_train, target_train)\n",
    "    predicted_valid = model.predict(features_valid)\n",
    "    class_weights_f1_score = f1_score(target_valid, predicted_valid)\n",
    "    if class_weights_f1_score > best_class_weights_f1_score:\n",
    "        best_class_weights = class_weights\n",
    "        best_class_weights_model = model\n",
    "        best_class_weights_f1_score = class_weights_f1_score\n",
    "\n",
    "# вывод на экран значений весов классов, давших лучшее значение F-1 меры\n",
    "print(best_class_weights.items())\n",
    "print()\n",
    "\n",
    "# вывод метрик базовой модели на валидационной выборке с лучшим результатом взвешивания классов\n",
    "# с использованием функции show_metrics\n",
    "show_metrics(best_class_weights_model, 'valid')"
   ]
  },
  {
   "cell_type": "markdown",
   "metadata": {},
   "source": [
    "Применение ручного взвешивания классов позволило дополнительно повысить значения *F1*-меры (до 0,52) и *AUC-ROC* за счет улучшения точности."
   ]
  },
  {
   "cell_type": "markdown",
   "metadata": {},
   "source": [
    "#### Увеличение выборки"
   ]
  },
  {
   "cell_type": "markdown",
   "metadata": {},
   "source": [
    "Проведем upsampling тестовой выборки и используем результат для обучения базовой модели:"
   ]
  },
  {
   "cell_type": "code",
   "execution_count": 17,
   "metadata": {},
   "outputs": [
    {
     "name": "stdout",
     "output_type": "stream",
     "text": [
      "F1: 0.5073746312684365\n",
      "precision: 0.42295081967213116\n",
      "recall: 0.6339066339066339\n",
      "AUC-ROC: 0.7064699522326641\n"
     ]
    }
   ],
   "source": [
    "# разделение обучающей выборки на отрицательные и положительные объекты с сохранением\n",
    "features_zeros = features_train[target_train == 0]\n",
    "features_ones = features_train[target_train == 1]\n",
    "target_zeros = target_train[target_train == 0]\n",
    "target_ones = target_train[target_train == 1]\n",
    "\n",
    "# расчет отношения количества отрицательных объектов к количеству положительных объектов\n",
    "zeroes_to_ones_ratio = int(features_zeros.shape[0]/features_ones.shape[0])\n",
    "\n",
    "# копирование положительных объектов и создание новой обучающей выборки\n",
    "features_upsampled = pd.concat([features_zeros] + [features_ones] * zeroes_to_ones_ratio)\n",
    "target_upsampled = pd.concat([target_zeros] + [target_ones] * zeroes_to_ones_ratio)\n",
    "    \n",
    "# перемешивание новой обучающей выборки\n",
    "features_upsampled, target_upsampled = shuffle(\n",
    "    features_upsampled, target_upsampled, random_state=12345)\n",
    "\n",
    "# создание модели\n",
    "model = LogisticRegression(solver='liblinear', random_state=12345)\n",
    "\n",
    "# обучение модели на новой обучающей выборке\n",
    "model.fit(features_upsampled, target_upsampled)\n",
    "\n",
    "# вывод метрик модели на валидационной выборке \n",
    "show_metrics(model, 'valid')"
   ]
  },
  {
   "cell_type": "markdown",
   "metadata": {},
   "source": [
    "Применение увеличения выборки дало более низкие (по сравнению с ручным взвешиванием) значения *F1*-меры (0,51 против 0,52) и *AUC-ROC* (0,706 против 0,712)."
   ]
  },
  {
   "cell_type": "markdown",
   "metadata": {},
   "source": [
    "#### Уменьшение выборки"
   ]
  },
  {
   "cell_type": "code",
   "execution_count": 18,
   "metadata": {},
   "outputs": [
    {
     "name": "stdout",
     "output_type": "stream",
     "text": [
      "F1: 0.48837209302325574\n",
      "precision: 0.36888331242158096\n",
      "recall: 0.7223587223587223\n",
      "AUC-ROC: 0.7033011439791101\n"
     ]
    }
   ],
   "source": [
    "# расчет отношения количества положительных объектов к количеству отрицательных объектов\n",
    "ones_to_zeroes_ratio = features_ones.shape[0]/features_zeros.shape[0]\n",
    "\n",
    "# отбрасывание части отрицательных объектов и создание новой обучающей выборки\n",
    "features_downsampled = pd.concat(\n",
    "    [features_zeros.sample(frac=ones_to_zeroes_ratio, random_state=12345)] + [features_ones])\n",
    "target_downsampled = pd.concat(\n",
    "    [target_zeros.sample(frac=ones_to_zeroes_ratio, random_state=12345)] + [target_ones])\n",
    "\n",
    "# перемешивание новой обучающей выборки\n",
    "features_downsampled, target_downsampled = shuffle(\n",
    "    features_downsampled, target_downsampled, random_state=12345)\n",
    "\n",
    "# создание модели\n",
    "model = LogisticRegression(solver='liblinear', random_state=12345)\n",
    "\n",
    "# обучение модели\n",
    "model.fit(features_downsampled, target_downsampled)\n",
    "\n",
    "# вывод метрик модели на валидационной выборке \n",
    "show_metrics(model, 'valid')"
   ]
  },
  {
   "cell_type": "markdown",
   "metadata": {},
   "source": [
    "Применение уменьшения выборки также дало самыеые низкие (по сравнению с остальными стратегиями) значения *F1*-меры (0,488) и *AUC-ROC* (0,703)."
   ]
  },
  {
   "cell_type": "markdown",
   "metadata": {},
   "source": [
    "#### Выбор стратегии устранения дисбаланса классов"
   ]
  },
  {
   "cell_type": "markdown",
   "metadata": {},
   "source": [
    "Лучшие значения *F1*-меры (0,52) и *AUC-ROC* (0,71) показало ручное взвешивание классов. Применим данную стратегию при выборе оптимальных алгоритма и гиперпараметров модели"
   ]
  },
  {
   "cell_type": "markdown",
   "metadata": {},
   "source": [
    "### Подбор оптимальных алгоритма и гиперпараметров модели"
   ]
  },
  {
   "cell_type": "markdown",
   "metadata": {},
   "source": [
    "Исследуем модели, использующие следующие алгоритмы:\n",
    "\n",
    "1. решающее дерево;\n",
    "2. случайный лес; и\n",
    "3. логистическая регрессия.\n",
    "\n",
    "Для каждого алгоритма:\n",
    "\n",
    "- создадим модель (значение параметра *class_weight* укажем равным `best_class_weights`);\n",
    "- обучим модель на обучающей выборке;\n",
    "- при помощи *GridSearchCV* оптимизируем значения гиперпараметров, чтобы получить лучшее значение *F1*-меры;\n",
    "- оптимизацию гиперпараметров будем проводить на обучающей выборке"
   ]
  },
  {
   "cell_type": "markdown",
   "metadata": {},
   "source": [
    "#### Исследование модели решающего дерева"
   ]
  },
  {
   "cell_type": "markdown",
   "metadata": {},
   "source": [
    "Проведем исследование модели решающего дерева. Для достижения лучшего значения *F1-меры* будем изменять гиперпараметр `max_depth` (от 1 до 10):"
   ]
  },
  {
   "cell_type": "code",
   "execution_count": 19,
   "metadata": {},
   "outputs": [
    {
     "name": "stdout",
     "output_type": "stream",
     "text": [
      "Значение F1-меры лучшей модели решающего дерева: 0.5828105793248971\n",
      "Гиперпараметры лучшей модели решающего дерева: {'max_depth': 5}\n"
     ]
    }
   ],
   "source": [
    "# создание словаря c гиперпараметром и диапазоном его значений, которые будут оптимизироваться\n",
    "param_dict = {'max_depth': range(1,11)}\n",
    "\n",
    "# создание модели решающего дерева\n",
    "model = DecisionTreeClassifier(random_state=12345, class_weight=best_class_weights)\n",
    "\n",
    "# оптимизация гиперпараметров\n",
    "grid = GridSearchCV(model, param_grid=param_dict, scoring='f1', cv=5, refit=True)\n",
    "grid.fit(features_train, target_train)\n",
    "\n",
    "# создание переменных с лучшей моделью и лучшим средним значением F1-меры\n",
    "best_tree_model = grid.best_estimator_\n",
    "best_tree_model_f1_score = grid.best_score_\n",
    "\n",
    "# вывод на экран значений гиперпараметров и F1-меры лучшей модели\n",
    "print('Значение F1-меры лучшей модели решающего дерева:', best_tree_model_f1_score)\n",
    "print('Гиперпараметры лучшей модели решающего дерева:', grid.best_params_)"
   ]
  },
  {
   "cell_type": "markdown",
   "metadata": {},
   "source": [
    "#### Исследование модели случайного леса"
   ]
  },
  {
   "cell_type": "markdown",
   "metadata": {},
   "source": [
    "Проведем исследование модели случайного леса. Для достижения лучшего значения *F1-меры* будем изменять гиперпараметры: \n",
    "- `max_depth` (от 1 до 15 с шагом 2);\n",
    "- `n_estimators` (от 60 до 180 с шагом 20)."
   ]
  },
  {
   "cell_type": "code",
   "execution_count": 21,
   "metadata": {},
   "outputs": [
    {
     "name": "stdout",
     "output_type": "stream",
     "text": [
      "Значение F1-меры лучшей модели случайного леса: 0.8586266706812798\n",
      "Гиперпараметры лучшей модели случайного леса: {'max_depth': 9, 'n_estimators': 120}\n",
      "CPU times: user 1min 22s, sys: 838 ms, total: 1min 23s\n",
      "Wall time: 1min 23s\n"
     ]
    }
   ],
   "source": [
    "%%time\n",
    "\n",
    "# создание словаря с гиперпараметрами и диапазоном их значений, которые будут оптимизироваться\n",
    "param_dict = {\n",
    "    'max_depth': range(1,16,2),\n",
    "    'n_estimators': range(60,141,20)\n",
    "}\n",
    "\n",
    "# создание модели случайного леса\n",
    "model = RandomForestClassifier(random_state=12345, class_weight=best_class_weights)\n",
    "\n",
    "# оптимизация гиперпараметров\n",
    "grid = GridSearchCV(model, param_grid=param_dict, scoring='roc_auc', cv=5, refit=True)\n",
    "grid.fit(features_train, target_train)\n",
    "\n",
    "# создание переменных с лучшей моделью и лучшим средним значением F1-меры\n",
    "best_forest_model = grid.best_estimator_\n",
    "best_forest_model_f1_score = grid.best_score_\n",
    "\n",
    "# вывод на экран значений гиперпараметров и F1-меры лучшей модели\n",
    "print('Значение F1-меры лучшей модели случайного леса:', best_forest_model_f1_score)\n",
    "print('Гиперпараметры лучшей модели случайного леса:', grid.best_params_)"
   ]
  },
  {
   "cell_type": "markdown",
   "metadata": {},
   "source": [
    "#### Исследование модели логистической регрессии"
   ]
  },
  {
   "cell_type": "code",
   "execution_count": 22,
   "metadata": {},
   "outputs": [
    {
     "name": "stdout",
     "output_type": "stream",
     "text": [
      "Значение F1-меры лучшей модели логистической регрессии: 0.4833480198660691\n",
      "Гиперпараметры лучшей модели логистической регрессии: {'penalty': 'l1', 'solver': 'liblinear'}\n"
     ]
    }
   ],
   "source": [
    "# создание словаря с гиперпараметрами и диапазоном их значений, которые будут оптимизироваться\n",
    "param_dict = {\n",
    "    'penalty' : ['l1','l2', 'none'], \n",
    "    'solver'  : ['newton-cg', 'lbfgs', 'liblinear'],\n",
    "}\n",
    "\n",
    "# создание модели логистической регрессии\n",
    "model = LogisticRegression(random_state=12345, max_iter=10000, class_weight=best_class_weights) \n",
    "\n",
    "# оптимизация гиперпараметров\n",
    "grid = GridSearchCV(model, param_grid=param_dict, scoring='f1', cv=5, refit=True)\n",
    "grid.fit(features_train, target_train)\n",
    "\n",
    "# создание переменных с лучшей моделью и лучшим accuracy\n",
    "best_logreg_model = grid.best_estimator_\n",
    "best_logreg_model_f1_score = grid.best_score_\n",
    "\n",
    "# вывод на экран значений гиперпараметров и F1-меры лучшей модели\n",
    "print('Значение F1-меры лучшей модели логистической регрессии:', best_logreg_model_f1_score)\n",
    "print('Гиперпараметры лучшей модели логистической регрессии:', grid.best_params_)"
   ]
  },
  {
   "cell_type": "markdown",
   "metadata": {},
   "source": [
    "#### Выбор лучшей модели  и гиперпараметров"
   ]
  },
  {
   "cell_type": "code",
   "execution_count": 23,
   "metadata": {},
   "outputs": [
    {
     "name": "stdout",
     "output_type": "stream",
     "text": [
      "Алгоритм лучшей модели: randomforest\n",
      "F1-мера лучшей модели: 0.8586266706812798\n"
     ]
    }
   ],
   "source": [
    "# создание списков с лучшими моделями каждого алгоритма и значениями их F1-меры\n",
    "best_models = [best_tree_model, best_forest_model, best_logreg_model]\n",
    "best_models_f1_scores = [best_tree_model_f1_score, best_forest_model_f1_score, \n",
    "                          best_logreg_model_f1_score]\n",
    "\n",
    "# создание переменных для сохранения лучшей модели, ее алгоритма и значения ее F1-меры\n",
    "best_overall_model = None\n",
    "best_overall_model_algorithm = None\n",
    "best_overall_model_f1_score = 0\n",
    "\n",
    "# создание цикла, который сравнит значения F1-меры лучших моделей и присвоит вышеуказанным переменным значения \n",
    "# модели с наибольшим значением F1-меры\n",
    "for model, score in zip(best_models, best_models_f1_scores):\n",
    "    if score > best_overall_model_f1_score:\n",
    "        best_overall_model = model\n",
    "        best_overall_model_algorithm = type(model).__name__.removesuffix('Classifier').lower()\n",
    "        best_overall_model_f1_score = score\n",
    "\n",
    "# вывод на алгоритма и F1-меры лучшей модели\n",
    "print('Алгоритм лучшей модели:', best_overall_model_algorithm)\n",
    "print('F1-мера лучшей модели:', best_overall_model_f1_score)"
   ]
  },
  {
   "cell_type": "markdown",
   "metadata": {},
   "source": [
    "По итогам сравнения лучших моделей на основе алгоритмов решающего дерева, случайного леса и логистической регрессии лучшей моделью стала модель на основе алгоритма случайного леса с гиперпараметрами *max_depth* и *n_estimators*, равными 7 и 120 соответственно. Она показала среднее значение *F1*-меры, равное ~0,62.\n",
    "\n",
    "Используем ее для изменения порога и финального тестирования."
   ]
  },
  {
   "cell_type": "markdown",
   "metadata": {},
   "source": [
    "### Подбор порога"
   ]
  },
  {
   "cell_type": "markdown",
   "metadata": {},
   "source": [
    "При помощи цикла подберем порог, дающий лучшее значение *F1*-меры лучшей модели на валидационной выборке:"
   ]
  },
  {
   "cell_type": "code",
   "execution_count": 24,
   "metadata": {},
   "outputs": [],
   "source": [
    "best_overall_model = best_forest_model"
   ]
  },
  {
   "cell_type": "code",
   "execution_count": 25,
   "metadata": {},
   "outputs": [
    {
     "name": "stdout",
     "output_type": "stream",
     "text": [
      "Лучший порог на валидационной выборке: 0.42\n",
      "F1: 0.6234906695938529\n",
      "precision: 0.5634920634920635\n",
      "recall: 0.6977886977886978\n",
      "AUC-ROC: 0.7798422459439409\n"
     ]
    }
   ],
   "source": [
    "# создание переменных best_threshold и best_threshold_f1_score\n",
    "best_threshold = 0\n",
    "best_threshold_f1_score = 0\n",
    "\n",
    "# создание цикла, который:\n",
    "# - поочередно перебирает элементы диапазона порога от 1 до 99,99 (c шагом 0,1)\n",
    "# - рассчитвает F1-меру лучшей модели с таким порогом на валидационной выборке\n",
    "# - сохраняет в переменные best_threshold и best_threshold_f1_score\n",
    "# значение порога, показавшее лучшее значение F-1 меры на валидационной выборке, и лучшее значение F-1 меры\n",
    "for threshold in np.arange(0, 1, 0.01):\n",
    "    predicted_valid = best_overall_model.predict_proba(features_valid)[:, 1] > threshold\n",
    "    threshold_f1_score = f1_score(target_valid, predicted_valid)\n",
    "    if threshold_f1_score > best_threshold_f1_score:\n",
    "        best_threshold = threshold\n",
    "        best_threshold_f1_score = threshold_f1_score\n",
    "\n",
    "# вывод на экран значения порога, при котором лучшая модель показала наибольшее значение F1- меры\n",
    "# и метрик лучшей модели с таким порогом\n",
    "print('Лучший порог на валидационной выборке:', best_threshold)\n",
    "show_metrics(best_overall_model, 'valid', best_threshold)"
   ]
  },
  {
   "cell_type": "markdown",
   "metadata": {},
   "source": [
    "Лучшеее значение *F1*-меры на валидационной выборке показал порог 0,42. Используем его для финального тестирования."
   ]
  },
  {
   "cell_type": "markdown",
   "metadata": {},
   "source": [
    "### Выводы"
   ]
  },
  {
   "cell_type": "markdown",
   "metadata": {},
   "source": [
    "В результате улучшения качества модели нам удалось повысить значение *F1*-меры на валидационной выборке до 0,62 путем:\n",
    "- устранения дисбаланса классов за счет стратегии ручного взвешивания;\n",
    "- подбора алгоритма и гиперпараметров модели (лучший результат показала модель на основе алгоритма случайного леса с гиперпараметрами max_depth и n_estimators, равными 7 и 120 соответственно);\n",
    "- подбора порога (лучший результат показал порог 0,42)."
   ]
  },
  {
   "cell_type": "markdown",
   "metadata": {},
   "source": [
    "## Финальное тестирование лучшей модели"
   ]
  },
  {
   "cell_type": "markdown",
   "metadata": {},
   "source": [
    "Проведем финальное тестирование лучшей модели на тестовой выборке:"
   ]
  },
  {
   "cell_type": "code",
   "execution_count": 26,
   "metadata": {},
   "outputs": [
    {
     "name": "stdout",
     "output_type": "stream",
     "text": [
      "F1: 0.6269005847953216\n",
      "precision: 0.5982142857142857\n",
      "recall: 0.6584766584766585\n",
      "AUC-ROC: 0.7727411540970863\n"
     ]
    }
   ],
   "source": [
    "# вывод на экран метрик лучшей модели с использованием лучшего порога на тестовой выборке\n",
    "show_metrics(best_overall_model, 'test', best_threshold)"
   ]
  },
  {
   "cell_type": "markdown",
   "metadata": {},
   "source": [
    "### Выводы"
   ]
  },
  {
   "cell_type": "markdown",
   "metadata": {},
   "source": [
    "Лучшая модель показала на тестовой выборке значения *F1*-меры и *AUC-ROC*, равные 0,63 и 0,77 соответственно, что отвечает требованиям ТЗ."
   ]
  },
  {
   "cell_type": "markdown",
   "metadata": {},
   "source": [
    "## Общие выводы"
   ]
  },
  {
   "cell_type": "markdown",
   "metadata": {},
   "source": [
    "На основе предоставленных данных о поведении клиентов банка мы построили модель, которая будет прогнозировать, уйдет ли клиент из банка в ближайшее время.\n",
    "\n",
    "Работа состояла из пяти этапов:\n",
    "\n",
    "1. загрузка и изучение данных;\n",
    "2. подготовка данных;\n",
    "3. исследование баланса классов; \n",
    "4. улучшение качества модели;\n",
    "5. финальное тестирование лучшей модели.\n",
    "\n",
    "\n",
    "**1. Загрузка и изучение данных**\n",
    "\n",
    "На данном этапе мы загрузили и изучили предоставленные данные. По итогам их изучения мы установили:\n",
    "\n",
    "- в наборе данных 10 000 объектов;\n",
    "- каждый объект в наборе данных — это информация о поведении одного клиента;\n",
    "- по каждому объекту доступно 15 признаков (включая целевой);\n",
    "- признаки *RowNumber*, *CustomerId* и *Surname* не требуются для построения модели;\n",
    "- аномалии не выявлены;\n",
    "- в столбце с признаком *Tenure* есть пропуски (9,09% данных).\n",
    "\n",
    "**2. Подготовка данных**\n",
    "\n",
    "В ходе подготовки данных мы:\n",
    "- удалили лишние признаки;\n",
    "- устранили выявленные пропуски в столбце Tenure;\n",
    "- преобразоваил категориальные признаки в численные;\n",
    "- сохранили признаки и целевой признак в отдельные переменные;\n",
    "- разделили выборку на обучающую, валидационную и тестовую;\n",
    "- масштабировали количественные признаки.\n",
    "\n",
    "**3. Исследование баланса классов**\n",
    "\n",
    "На данном этапе мы:\n",
    "\n",
    "- изучили долю каждого класса;\n",
    "- обучили базовую модель на несбалансированных данных и изучили ее метрики.\n",
    "\n",
    "По результатам исследования баланса классов мы пришли к следующим выводам:\n",
    "\n",
    "- данные не сбалансированы: соотношение классов составляет ~80/20;\n",
    "- низкие значения *F1*-меры и *AUC-ROC* базовой модели на несбалансированных данных (0,33 и 0,59 соответственно) обусловлены низким значением полноты (0,23).\n",
    "\n",
    "**4. Улучшение качества модели**\n",
    "\n",
    "Наша работа по улучшению качества модели включала три направления:\n",
    "\n",
    "1. устранение дисбаланса классов;\n",
    "2. подбор оптимальных алгоритма и гиперпараметров модели;\n",
    "3. подбор порога.\n",
    "\n",
    "В результате улучшения качества модели нам удалось повысить значение *F1*-меры на валидационной выборке до 0,62 путем:\n",
    "- устранения дисбаланса классов за счет стратегии ручного взвешивания;\n",
    "- подбора алгоритма и гиперпараметров модели (лучший результат показала модель на основе алгоритма случайного леса с гиперпараметрами max_depth и n_estimators, равными 7 и 120 соответственно);\n",
    "- подбора порога (лучший результат показал порог 0,42).\n",
    "\n",
    "**5. Финальное тестирование лучшей модели**\n",
    "\n",
    "На данном этапе мы протестировали лучшую модель на тестовой выборке.\n",
    "Лучшая модель показала на тестовой выборке значения *F1*-меры и *AUC-ROC*, равные 0,63 и 0,77 соответственно, что отвечает требованиям ТЗ."
   ]
  },
  {
   "cell_type": "code",
   "execution_count": null,
   "metadata": {},
   "outputs": [],
   "source": []
  }
 ],
 "metadata": {
  "ExecuteTimeLog": [
   {
    "duration": 403,
    "start_time": "2022-07-27T22:02:39.746Z"
   },
   {
    "duration": 91,
    "start_time": "2022-07-27T22:03:28.149Z"
   },
   {
    "duration": 53,
    "start_time": "2022-07-27T22:05:02.726Z"
   },
   {
    "duration": 58,
    "start_time": "2022-07-27T22:06:02.728Z"
   },
   {
    "duration": 881,
    "start_time": "2022-07-27T22:06:06.493Z"
   },
   {
    "duration": 9,
    "start_time": "2022-07-27T22:06:14.492Z"
   },
   {
    "duration": 5,
    "start_time": "2022-07-27T22:06:31.193Z"
   },
   {
    "duration": 7,
    "start_time": "2022-07-27T22:06:43.851Z"
   },
   {
    "duration": 7,
    "start_time": "2022-07-27T22:06:47.079Z"
   },
   {
    "duration": 4,
    "start_time": "2022-07-27T22:06:53.786Z"
   },
   {
    "duration": 13,
    "start_time": "2022-07-27T22:07:48.107Z"
   },
   {
    "duration": 52,
    "start_time": "2022-07-28T15:22:59.287Z"
   },
   {
    "duration": 445,
    "start_time": "2022-07-28T15:23:03.087Z"
   },
   {
    "duration": 196,
    "start_time": "2022-07-28T15:23:04.221Z"
   },
   {
    "duration": 15,
    "start_time": "2022-07-28T15:23:04.721Z"
   },
   {
    "duration": 17,
    "start_time": "2022-07-28T15:23:06.339Z"
   },
   {
    "duration": 16,
    "start_time": "2022-07-28T15:23:10.708Z"
   },
   {
    "duration": 9,
    "start_time": "2022-07-28T15:24:13.027Z"
   },
   {
    "duration": 44,
    "start_time": "2022-07-28T15:25:17.520Z"
   },
   {
    "duration": 57,
    "start_time": "2022-07-28T15:25:31.567Z"
   },
   {
    "duration": 23,
    "start_time": "2022-07-28T15:26:10.667Z"
   },
   {
    "duration": 3,
    "start_time": "2022-07-28T15:32:01.230Z"
   },
   {
    "duration": 24,
    "start_time": "2022-07-28T15:44:47.489Z"
   },
   {
    "duration": 21,
    "start_time": "2022-07-28T15:45:53.848Z"
   },
   {
    "duration": 13,
    "start_time": "2022-07-28T15:45:56.509Z"
   },
   {
    "duration": 9,
    "start_time": "2022-07-28T15:46:02.271Z"
   },
   {
    "duration": 10,
    "start_time": "2022-07-28T15:46:22.548Z"
   },
   {
    "duration": 8,
    "start_time": "2022-07-28T15:46:33.051Z"
   },
   {
    "duration": 12,
    "start_time": "2022-07-28T15:47:11.749Z"
   },
   {
    "duration": 13,
    "start_time": "2022-07-28T15:47:40.929Z"
   },
   {
    "duration": 18,
    "start_time": "2022-07-28T15:47:48.249Z"
   },
   {
    "duration": 13,
    "start_time": "2022-07-28T15:47:57.929Z"
   },
   {
    "duration": 16,
    "start_time": "2022-07-28T15:48:09.117Z"
   },
   {
    "duration": 14,
    "start_time": "2022-07-28T15:48:23.789Z"
   },
   {
    "duration": 17,
    "start_time": "2022-07-28T15:48:29.345Z"
   },
   {
    "duration": 4,
    "start_time": "2022-07-28T15:48:50.550Z"
   },
   {
    "duration": 3,
    "start_time": "2022-07-28T15:48:54.770Z"
   },
   {
    "duration": 13,
    "start_time": "2022-07-28T15:49:00.659Z"
   },
   {
    "duration": 10,
    "start_time": "2022-07-28T15:49:56.249Z"
   },
   {
    "duration": 12,
    "start_time": "2022-07-28T15:50:00.105Z"
   },
   {
    "duration": 94,
    "start_time": "2022-07-28T15:53:07.518Z"
   },
   {
    "duration": 22,
    "start_time": "2022-07-28T15:53:17.619Z"
   },
   {
    "duration": 6,
    "start_time": "2022-07-28T15:54:55.210Z"
   },
   {
    "duration": 759,
    "start_time": "2022-07-28T15:56:08.992Z"
   },
   {
    "duration": 85,
    "start_time": "2022-07-28T15:56:29.950Z"
   },
   {
    "duration": 98,
    "start_time": "2022-07-28T16:07:26.638Z"
   },
   {
    "duration": 52,
    "start_time": "2022-07-28T16:07:53.271Z"
   },
   {
    "duration": 13,
    "start_time": "2022-07-28T16:08:19.858Z"
   },
   {
    "duration": 31,
    "start_time": "2022-07-28T16:08:28.377Z"
   },
   {
    "duration": 78,
    "start_time": "2022-07-28T16:10:32.963Z"
   },
   {
    "duration": 9,
    "start_time": "2022-07-28T16:10:35.118Z"
   },
   {
    "duration": 13,
    "start_time": "2022-07-28T16:12:47.579Z"
   },
   {
    "duration": 12,
    "start_time": "2022-07-28T16:12:53.378Z"
   },
   {
    "duration": 27,
    "start_time": "2022-07-28T16:14:18.504Z"
   },
   {
    "duration": 15,
    "start_time": "2022-07-28T16:14:25.839Z"
   },
   {
    "duration": 9,
    "start_time": "2022-07-28T16:14:47.131Z"
   },
   {
    "duration": 9,
    "start_time": "2022-07-28T16:14:54.787Z"
   },
   {
    "duration": 108,
    "start_time": "2022-07-28T16:15:04.419Z"
   },
   {
    "duration": 7,
    "start_time": "2022-07-28T16:15:07.479Z"
   },
   {
    "duration": 8,
    "start_time": "2022-07-28T16:15:33.659Z"
   },
   {
    "duration": 8,
    "start_time": "2022-07-28T16:15:48.650Z"
   },
   {
    "duration": 11,
    "start_time": "2022-07-28T16:16:06.388Z"
   },
   {
    "duration": 5,
    "start_time": "2022-07-28T16:16:09.300Z"
   },
   {
    "duration": 7,
    "start_time": "2022-07-28T16:16:14.581Z"
   },
   {
    "duration": 23,
    "start_time": "2022-07-28T16:16:30.228Z"
   },
   {
    "duration": 19,
    "start_time": "2022-07-28T16:16:43.958Z"
   },
   {
    "duration": 23,
    "start_time": "2022-07-28T16:16:47.978Z"
   },
   {
    "duration": 25,
    "start_time": "2022-07-28T16:16:59.399Z"
   },
   {
    "duration": 949,
    "start_time": "2022-07-28T16:18:28.050Z"
   },
   {
    "duration": 22,
    "start_time": "2022-07-28T16:24:52.592Z"
   },
   {
    "duration": 8,
    "start_time": "2022-07-28T16:25:01.771Z"
   },
   {
    "duration": 16,
    "start_time": "2022-07-28T16:25:40.859Z"
   },
   {
    "duration": 1268,
    "start_time": "2022-07-28T16:25:45.911Z"
   },
   {
    "duration": 107,
    "start_time": "2022-07-28T16:25:47.182Z"
   },
   {
    "duration": 30,
    "start_time": "2022-07-28T16:25:47.292Z"
   },
   {
    "duration": 34,
    "start_time": "2022-07-28T16:25:47.325Z"
   },
   {
    "duration": 42,
    "start_time": "2022-07-28T16:25:47.362Z"
   },
   {
    "duration": 13,
    "start_time": "2022-07-28T16:25:47.407Z"
   },
   {
    "duration": 27,
    "start_time": "2022-07-28T16:25:47.421Z"
   },
   {
    "duration": 18,
    "start_time": "2022-07-28T16:25:47.451Z"
   },
   {
    "duration": 51,
    "start_time": "2022-07-28T16:25:47.473Z"
   },
   {
    "duration": 28,
    "start_time": "2022-07-28T16:25:47.527Z"
   },
   {
    "duration": 40,
    "start_time": "2022-07-31T10:29:26.515Z"
   },
   {
    "duration": 940,
    "start_time": "2022-07-31T10:29:31.638Z"
   },
   {
    "duration": 187,
    "start_time": "2022-07-31T10:29:32.579Z"
   },
   {
    "duration": 13,
    "start_time": "2022-07-31T10:29:32.767Z"
   },
   {
    "duration": 22,
    "start_time": "2022-07-31T10:29:32.782Z"
   },
   {
    "duration": 10,
    "start_time": "2022-07-31T10:29:32.806Z"
   },
   {
    "duration": 10,
    "start_time": "2022-07-31T10:29:32.830Z"
   },
   {
    "duration": 23,
    "start_time": "2022-07-31T10:29:32.841Z"
   },
   {
    "duration": 7,
    "start_time": "2022-07-31T10:29:32.866Z"
   },
   {
    "duration": 9,
    "start_time": "2022-07-31T10:29:32.874Z"
   },
   {
    "duration": 12,
    "start_time": "2022-07-31T10:29:32.885Z"
   },
   {
    "duration": 5,
    "start_time": "2022-07-31T10:29:32.931Z"
   },
   {
    "duration": 79,
    "start_time": "2022-07-31T10:51:25.982Z"
   },
   {
    "duration": 22,
    "start_time": "2022-07-31T10:51:36.746Z"
   },
   {
    "duration": 23,
    "start_time": "2022-07-31T10:51:41.796Z"
   },
   {
    "duration": 13,
    "start_time": "2022-07-31T10:52:09.785Z"
   },
   {
    "duration": 202,
    "start_time": "2022-07-31T10:54:19.462Z"
   },
   {
    "duration": 18,
    "start_time": "2022-07-31T10:56:29.590Z"
   },
   {
    "duration": 18,
    "start_time": "2022-07-31T10:57:02.110Z"
   },
   {
    "duration": 2,
    "start_time": "2022-07-31T11:00:12.543Z"
   },
   {
    "duration": 0,
    "start_time": "2022-07-31T11:01:00.748Z"
   },
   {
    "duration": 1040,
    "start_time": "2022-07-31T11:01:00.781Z"
   },
   {
    "duration": 66,
    "start_time": "2022-07-31T11:01:01.823Z"
   },
   {
    "duration": 13,
    "start_time": "2022-07-31T11:01:01.890Z"
   },
   {
    "duration": 20,
    "start_time": "2022-07-31T11:01:01.905Z"
   },
   {
    "duration": 11,
    "start_time": "2022-07-31T11:01:01.927Z"
   },
   {
    "duration": 8,
    "start_time": "2022-07-31T11:01:01.939Z"
   },
   {
    "duration": 17,
    "start_time": "2022-07-31T11:01:01.949Z"
   },
   {
    "duration": 7,
    "start_time": "2022-07-31T11:01:01.967Z"
   },
   {
    "duration": 9,
    "start_time": "2022-07-31T11:01:01.976Z"
   },
   {
    "duration": 49,
    "start_time": "2022-07-31T11:01:01.987Z"
   },
   {
    "duration": 61,
    "start_time": "2022-07-31T11:01:02.037Z"
   },
   {
    "duration": 0,
    "start_time": "2022-07-31T11:01:02.099Z"
   },
   {
    "duration": 0,
    "start_time": "2022-07-31T11:01:02.101Z"
   },
   {
    "duration": 0,
    "start_time": "2022-07-31T11:01:02.102Z"
   },
   {
    "duration": 0,
    "start_time": "2022-07-31T11:01:02.103Z"
   },
   {
    "duration": 12,
    "start_time": "2022-07-31T11:04:22.292Z"
   },
   {
    "duration": 12,
    "start_time": "2022-07-31T11:04:29.521Z"
   },
   {
    "duration": 19,
    "start_time": "2022-07-31T11:05:56.993Z"
   },
   {
    "duration": 13,
    "start_time": "2022-07-31T11:06:11.677Z"
   },
   {
    "duration": 9,
    "start_time": "2022-07-31T11:06:51.820Z"
   },
   {
    "duration": 949,
    "start_time": "2022-07-31T11:07:01.958Z"
   },
   {
    "duration": 64,
    "start_time": "2022-07-31T11:07:02.909Z"
   },
   {
    "duration": 13,
    "start_time": "2022-07-31T11:07:02.975Z"
   },
   {
    "duration": 20,
    "start_time": "2022-07-31T11:07:02.990Z"
   },
   {
    "duration": 25,
    "start_time": "2022-07-31T11:07:03.012Z"
   },
   {
    "duration": 8,
    "start_time": "2022-07-31T11:07:03.039Z"
   },
   {
    "duration": 17,
    "start_time": "2022-07-31T11:07:03.049Z"
   },
   {
    "duration": 6,
    "start_time": "2022-07-31T11:07:03.068Z"
   },
   {
    "duration": 15,
    "start_time": "2022-07-31T11:07:03.075Z"
   },
   {
    "duration": 43,
    "start_time": "2022-07-31T11:07:03.092Z"
   },
   {
    "duration": 13,
    "start_time": "2022-07-31T11:07:03.137Z"
   },
   {
    "duration": 104,
    "start_time": "2022-07-31T11:07:03.152Z"
   },
   {
    "duration": 0,
    "start_time": "2022-07-31T11:07:03.257Z"
   },
   {
    "duration": 0,
    "start_time": "2022-07-31T11:07:03.258Z"
   },
   {
    "duration": 0,
    "start_time": "2022-07-31T11:07:03.259Z"
   },
   {
    "duration": 0,
    "start_time": "2022-07-31T11:07:03.261Z"
   },
   {
    "duration": 14,
    "start_time": "2022-07-31T11:07:23.810Z"
   },
   {
    "duration": 5,
    "start_time": "2022-07-31T11:07:42.474Z"
   },
   {
    "duration": 957,
    "start_time": "2022-07-31T11:07:55.954Z"
   },
   {
    "duration": 66,
    "start_time": "2022-07-31T11:07:56.913Z"
   },
   {
    "duration": 16,
    "start_time": "2022-07-31T11:07:56.980Z"
   },
   {
    "duration": 22,
    "start_time": "2022-07-31T11:07:56.998Z"
   },
   {
    "duration": 18,
    "start_time": "2022-07-31T11:07:57.021Z"
   },
   {
    "duration": 9,
    "start_time": "2022-07-31T11:07:57.041Z"
   },
   {
    "duration": 20,
    "start_time": "2022-07-31T11:07:57.051Z"
   },
   {
    "duration": 7,
    "start_time": "2022-07-31T11:07:57.072Z"
   },
   {
    "duration": 12,
    "start_time": "2022-07-31T11:07:57.080Z"
   },
   {
    "duration": 47,
    "start_time": "2022-07-31T11:07:57.095Z"
   },
   {
    "duration": 13,
    "start_time": "2022-07-31T11:07:57.144Z"
   },
   {
    "duration": 3,
    "start_time": "2022-07-31T11:07:57.159Z"
   },
   {
    "duration": 7,
    "start_time": "2022-07-31T11:07:57.163Z"
   },
   {
    "duration": 70,
    "start_time": "2022-07-31T11:07:57.171Z"
   },
   {
    "duration": 0,
    "start_time": "2022-07-31T11:07:57.242Z"
   },
   {
    "duration": 0,
    "start_time": "2022-07-31T11:07:57.243Z"
   },
   {
    "duration": 926,
    "start_time": "2022-07-31T11:08:40.090Z"
   },
   {
    "duration": 68,
    "start_time": "2022-07-31T11:08:41.018Z"
   },
   {
    "duration": 14,
    "start_time": "2022-07-31T11:08:41.087Z"
   },
   {
    "duration": 21,
    "start_time": "2022-07-31T11:08:41.102Z"
   },
   {
    "duration": 13,
    "start_time": "2022-07-31T11:08:41.125Z"
   },
   {
    "duration": 8,
    "start_time": "2022-07-31T11:08:41.140Z"
   },
   {
    "duration": 25,
    "start_time": "2022-07-31T11:08:41.150Z"
   },
   {
    "duration": 6,
    "start_time": "2022-07-31T11:08:41.177Z"
   },
   {
    "duration": 12,
    "start_time": "2022-07-31T11:08:41.184Z"
   },
   {
    "duration": 49,
    "start_time": "2022-07-31T11:08:41.197Z"
   },
   {
    "duration": 13,
    "start_time": "2022-07-31T11:08:41.247Z"
   },
   {
    "duration": 2,
    "start_time": "2022-07-31T11:08:41.261Z"
   },
   {
    "duration": 7,
    "start_time": "2022-07-31T11:08:41.265Z"
   },
   {
    "duration": 90,
    "start_time": "2022-07-31T11:08:41.274Z"
   },
   {
    "duration": 0,
    "start_time": "2022-07-31T11:08:41.365Z"
   },
   {
    "duration": 0,
    "start_time": "2022-07-31T11:08:41.366Z"
   },
   {
    "duration": 15,
    "start_time": "2022-07-31T11:08:54.345Z"
   },
   {
    "duration": 5,
    "start_time": "2022-07-31T11:09:05.164Z"
   },
   {
    "duration": 101,
    "start_time": "2022-07-31T11:12:04.145Z"
   },
   {
    "duration": 14,
    "start_time": "2022-07-31T11:12:39.968Z"
   },
   {
    "duration": 32,
    "start_time": "2022-07-31T11:13:13.855Z"
   },
   {
    "duration": 35,
    "start_time": "2022-07-31T11:13:29.450Z"
   },
   {
    "duration": 3,
    "start_time": "2022-07-31T11:13:52.596Z"
   },
   {
    "duration": 32,
    "start_time": "2022-07-31T11:13:56.870Z"
   },
   {
    "duration": 6,
    "start_time": "2022-07-31T11:14:33.873Z"
   },
   {
    "duration": 26,
    "start_time": "2022-07-31T11:14:41.669Z"
   },
   {
    "duration": 21,
    "start_time": "2022-07-31T11:14:58.297Z"
   },
   {
    "duration": 27,
    "start_time": "2022-07-31T11:20:55.466Z"
   },
   {
    "duration": 35,
    "start_time": "2022-07-31T11:35:50.999Z"
   },
   {
    "duration": 24,
    "start_time": "2022-07-31T11:36:25.784Z"
   },
   {
    "duration": 17,
    "start_time": "2022-07-31T11:45:33.998Z"
   },
   {
    "duration": 3,
    "start_time": "2022-07-31T11:45:52.390Z"
   },
   {
    "duration": 39,
    "start_time": "2022-07-31T11:45:56.581Z"
   },
   {
    "duration": 21,
    "start_time": "2022-07-31T11:55:43.268Z"
   },
   {
    "duration": 22,
    "start_time": "2022-07-31T11:55:54.579Z"
   },
   {
    "duration": 69,
    "start_time": "2022-07-31T11:56:48.160Z"
   },
   {
    "duration": 9,
    "start_time": "2022-07-31T12:08:41.937Z"
   },
   {
    "duration": 27,
    "start_time": "2022-07-31T12:10:12.838Z"
   },
   {
    "duration": 12,
    "start_time": "2022-07-31T12:10:16.113Z"
   },
   {
    "duration": 1004,
    "start_time": "2022-07-31T12:10:56.198Z"
   },
   {
    "duration": 1008,
    "start_time": "2022-07-31T12:11:05.670Z"
   },
   {
    "duration": 1024,
    "start_time": "2022-07-31T12:11:12.535Z"
   },
   {
    "duration": 58533,
    "start_time": "2022-07-31T12:18:49.104Z"
   },
   {
    "duration": 58470,
    "start_time": "2022-07-31T12:19:58.954Z"
   },
   {
    "duration": 11,
    "start_time": "2022-07-31T12:22:51.702Z"
   },
   {
    "duration": 36,
    "start_time": "2022-07-31T12:23:18.601Z"
   },
   {
    "duration": 7853,
    "start_time": "2022-07-31T12:29:40.506Z"
   },
   {
    "duration": 8162,
    "start_time": "2022-07-31T12:34:22.284Z"
   },
   {
    "duration": 8,
    "start_time": "2022-07-31T12:37:19.057Z"
   },
   {
    "duration": 8,
    "start_time": "2022-07-31T12:37:29.752Z"
   },
   {
    "duration": 3,
    "start_time": "2022-07-31T12:37:45.035Z"
   },
   {
    "duration": 7775,
    "start_time": "2022-07-31T12:37:50.265Z"
   },
   {
    "duration": 10,
    "start_time": "2022-07-31T12:40:41.335Z"
   },
   {
    "duration": 10,
    "start_time": "2022-07-31T12:41:22.241Z"
   },
   {
    "duration": 983,
    "start_time": "2022-07-31T12:41:28.497Z"
   },
   {
    "duration": 6,
    "start_time": "2022-07-31T12:41:32.735Z"
   },
   {
    "duration": 38,
    "start_time": "2022-07-31T12:41:47.359Z"
   },
   {
    "duration": 37,
    "start_time": "2022-07-31T12:42:08.259Z"
   },
   {
    "duration": 1052,
    "start_time": "2022-07-31T12:42:20.130Z"
   },
   {
    "duration": 66,
    "start_time": "2022-07-31T12:42:21.184Z"
   },
   {
    "duration": 12,
    "start_time": "2022-07-31T12:42:21.252Z"
   },
   {
    "duration": 20,
    "start_time": "2022-07-31T12:42:21.265Z"
   },
   {
    "duration": 16,
    "start_time": "2022-07-31T12:42:21.288Z"
   },
   {
    "duration": 32,
    "start_time": "2022-07-31T12:42:21.306Z"
   },
   {
    "duration": 24,
    "start_time": "2022-07-31T12:42:21.340Z"
   },
   {
    "duration": 6,
    "start_time": "2022-07-31T12:42:21.365Z"
   },
   {
    "duration": 11,
    "start_time": "2022-07-31T12:42:21.373Z"
   },
   {
    "duration": 18,
    "start_time": "2022-07-31T12:42:21.385Z"
   },
   {
    "duration": 15,
    "start_time": "2022-07-31T12:42:21.431Z"
   },
   {
    "duration": 105,
    "start_time": "2022-07-31T12:42:21.447Z"
   },
   {
    "duration": 0,
    "start_time": "2022-07-31T12:42:21.554Z"
   },
   {
    "duration": 0,
    "start_time": "2022-07-31T12:42:21.555Z"
   },
   {
    "duration": 0,
    "start_time": "2022-07-31T12:42:21.556Z"
   },
   {
    "duration": 0,
    "start_time": "2022-07-31T12:42:21.558Z"
   },
   {
    "duration": 0,
    "start_time": "2022-07-31T12:42:21.559Z"
   },
   {
    "duration": 0,
    "start_time": "2022-07-31T12:42:21.559Z"
   },
   {
    "duration": 0,
    "start_time": "2022-07-31T12:42:21.561Z"
   },
   {
    "duration": 0,
    "start_time": "2022-07-31T12:42:21.561Z"
   },
   {
    "duration": 0,
    "start_time": "2022-07-31T12:42:21.562Z"
   },
   {
    "duration": 0,
    "start_time": "2022-07-31T12:42:21.563Z"
   },
   {
    "duration": 0,
    "start_time": "2022-07-31T12:42:21.564Z"
   },
   {
    "duration": 0,
    "start_time": "2022-07-31T12:42:21.565Z"
   },
   {
    "duration": 0,
    "start_time": "2022-07-31T12:42:21.566Z"
   },
   {
    "duration": 0,
    "start_time": "2022-07-31T12:42:21.567Z"
   },
   {
    "duration": 36,
    "start_time": "2022-07-31T12:42:36.091Z"
   },
   {
    "duration": 6,
    "start_time": "2022-07-31T12:42:38.482Z"
   },
   {
    "duration": 941,
    "start_time": "2022-07-31T12:42:43.774Z"
   },
   {
    "duration": 63,
    "start_time": "2022-07-31T12:42:44.718Z"
   },
   {
    "duration": 12,
    "start_time": "2022-07-31T12:42:44.782Z"
   },
   {
    "duration": 18,
    "start_time": "2022-07-31T12:42:44.795Z"
   },
   {
    "duration": 16,
    "start_time": "2022-07-31T12:42:44.815Z"
   },
   {
    "duration": 8,
    "start_time": "2022-07-31T12:42:44.833Z"
   },
   {
    "duration": 17,
    "start_time": "2022-07-31T12:42:44.843Z"
   },
   {
    "duration": 7,
    "start_time": "2022-07-31T12:42:44.861Z"
   },
   {
    "duration": 14,
    "start_time": "2022-07-31T12:42:44.869Z"
   },
   {
    "duration": 16,
    "start_time": "2022-07-31T12:42:44.885Z"
   },
   {
    "duration": 36,
    "start_time": "2022-07-31T12:42:44.902Z"
   },
   {
    "duration": 33,
    "start_time": "2022-07-31T12:42:44.939Z"
   },
   {
    "duration": 5,
    "start_time": "2022-07-31T12:42:44.973Z"
   },
   {
    "duration": 107,
    "start_time": "2022-07-31T12:42:44.981Z"
   },
   {
    "duration": 0,
    "start_time": "2022-07-31T12:42:45.090Z"
   },
   {
    "duration": 0,
    "start_time": "2022-07-31T12:42:45.091Z"
   },
   {
    "duration": 0,
    "start_time": "2022-07-31T12:42:45.092Z"
   },
   {
    "duration": 0,
    "start_time": "2022-07-31T12:42:45.094Z"
   },
   {
    "duration": 0,
    "start_time": "2022-07-31T12:42:45.095Z"
   },
   {
    "duration": 0,
    "start_time": "2022-07-31T12:42:45.096Z"
   },
   {
    "duration": 0,
    "start_time": "2022-07-31T12:42:45.098Z"
   },
   {
    "duration": 0,
    "start_time": "2022-07-31T12:42:45.099Z"
   },
   {
    "duration": 0,
    "start_time": "2022-07-31T12:42:45.100Z"
   },
   {
    "duration": 0,
    "start_time": "2022-07-31T12:42:45.101Z"
   },
   {
    "duration": 0,
    "start_time": "2022-07-31T12:42:45.103Z"
   },
   {
    "duration": 951,
    "start_time": "2022-07-31T12:42:57.683Z"
   },
   {
    "duration": 77,
    "start_time": "2022-07-31T12:42:58.637Z"
   },
   {
    "duration": 14,
    "start_time": "2022-07-31T12:42:58.715Z"
   },
   {
    "duration": 20,
    "start_time": "2022-07-31T12:42:58.731Z"
   },
   {
    "duration": 11,
    "start_time": "2022-07-31T12:42:58.753Z"
   },
   {
    "duration": 14,
    "start_time": "2022-07-31T12:42:58.765Z"
   },
   {
    "duration": 17,
    "start_time": "2022-07-31T12:42:58.782Z"
   },
   {
    "duration": 5,
    "start_time": "2022-07-31T12:42:58.800Z"
   },
   {
    "duration": 34,
    "start_time": "2022-07-31T12:42:58.807Z"
   },
   {
    "duration": 18,
    "start_time": "2022-07-31T12:42:58.843Z"
   },
   {
    "duration": 14,
    "start_time": "2022-07-31T12:42:58.863Z"
   },
   {
    "duration": 59,
    "start_time": "2022-07-31T12:42:58.879Z"
   },
   {
    "duration": 6,
    "start_time": "2022-07-31T12:42:58.939Z"
   },
   {
    "duration": 89,
    "start_time": "2022-07-31T12:42:58.947Z"
   },
   {
    "duration": 96,
    "start_time": "2022-07-31T12:42:59.037Z"
   },
   {
    "duration": 0,
    "start_time": "2022-07-31T12:42:59.134Z"
   },
   {
    "duration": 0,
    "start_time": "2022-07-31T12:42:59.135Z"
   },
   {
    "duration": 0,
    "start_time": "2022-07-31T12:42:59.136Z"
   },
   {
    "duration": 0,
    "start_time": "2022-07-31T12:42:59.137Z"
   },
   {
    "duration": 0,
    "start_time": "2022-07-31T12:42:59.138Z"
   },
   {
    "duration": 0,
    "start_time": "2022-07-31T12:42:59.139Z"
   },
   {
    "duration": 0,
    "start_time": "2022-07-31T12:42:59.140Z"
   },
   {
    "duration": 0,
    "start_time": "2022-07-31T12:42:59.141Z"
   },
   {
    "duration": 0,
    "start_time": "2022-07-31T12:42:59.142Z"
   },
   {
    "duration": 999,
    "start_time": "2022-07-31T12:43:12.167Z"
   },
   {
    "duration": 62,
    "start_time": "2022-07-31T12:43:13.168Z"
   },
   {
    "duration": 12,
    "start_time": "2022-07-31T12:43:13.231Z"
   },
   {
    "duration": 18,
    "start_time": "2022-07-31T12:43:13.244Z"
   },
   {
    "duration": 15,
    "start_time": "2022-07-31T12:43:13.264Z"
   },
   {
    "duration": 10,
    "start_time": "2022-07-31T12:43:13.281Z"
   },
   {
    "duration": 43,
    "start_time": "2022-07-31T12:43:13.293Z"
   },
   {
    "duration": 6,
    "start_time": "2022-07-31T12:43:13.338Z"
   },
   {
    "duration": 11,
    "start_time": "2022-07-31T12:43:13.345Z"
   },
   {
    "duration": 20,
    "start_time": "2022-07-31T12:43:13.358Z"
   },
   {
    "duration": 13,
    "start_time": "2022-07-31T12:43:13.379Z"
   },
   {
    "duration": 65,
    "start_time": "2022-07-31T12:43:13.394Z"
   },
   {
    "duration": 5,
    "start_time": "2022-07-31T12:43:13.461Z"
   },
   {
    "duration": 67,
    "start_time": "2022-07-31T12:43:13.467Z"
   },
   {
    "duration": 106,
    "start_time": "2022-07-31T12:43:13.536Z"
   },
   {
    "duration": 209,
    "start_time": "2022-07-31T12:43:13.644Z"
   },
   {
    "duration": 185,
    "start_time": "2022-07-31T12:43:13.855Z"
   },
   {
    "duration": 1171,
    "start_time": "2022-07-31T12:43:14.041Z"
   },
   {
    "duration": 86,
    "start_time": "2022-07-31T12:43:15.213Z"
   },
   {
    "duration": 0,
    "start_time": "2022-07-31T12:43:15.301Z"
   },
   {
    "duration": 0,
    "start_time": "2022-07-31T12:43:15.302Z"
   },
   {
    "duration": 0,
    "start_time": "2022-07-31T12:43:15.303Z"
   },
   {
    "duration": 0,
    "start_time": "2022-07-31T12:43:15.304Z"
   },
   {
    "duration": 965,
    "start_time": "2022-07-31T12:43:31.550Z"
   },
   {
    "duration": 64,
    "start_time": "2022-07-31T12:43:32.517Z"
   },
   {
    "duration": 11,
    "start_time": "2022-07-31T12:43:32.583Z"
   },
   {
    "duration": 18,
    "start_time": "2022-07-31T12:43:32.595Z"
   },
   {
    "duration": 16,
    "start_time": "2022-07-31T12:43:32.615Z"
   },
   {
    "duration": 8,
    "start_time": "2022-07-31T12:43:32.631Z"
   },
   {
    "duration": 17,
    "start_time": "2022-07-31T12:43:32.640Z"
   },
   {
    "duration": 5,
    "start_time": "2022-07-31T12:43:32.658Z"
   },
   {
    "duration": 10,
    "start_time": "2022-07-31T12:43:32.664Z"
   },
   {
    "duration": 17,
    "start_time": "2022-07-31T12:43:32.675Z"
   },
   {
    "duration": 42,
    "start_time": "2022-07-31T12:43:32.693Z"
   },
   {
    "duration": 33,
    "start_time": "2022-07-31T12:43:32.736Z"
   },
   {
    "duration": 5,
    "start_time": "2022-07-31T12:43:32.770Z"
   },
   {
    "duration": 56,
    "start_time": "2022-07-31T12:43:32.777Z"
   },
   {
    "duration": 111,
    "start_time": "2022-07-31T12:43:32.836Z"
   },
   {
    "duration": 201,
    "start_time": "2022-07-31T12:43:32.949Z"
   },
   {
    "duration": 190,
    "start_time": "2022-07-31T12:43:33.152Z"
   },
   {
    "duration": 1119,
    "start_time": "2022-07-31T12:43:33.430Z"
   },
   {
    "duration": 58303,
    "start_time": "2022-07-31T12:43:34.550Z"
   },
   {
    "duration": 8383,
    "start_time": "2022-07-31T12:44:32.855Z"
   },
   {
    "duration": 4,
    "start_time": "2022-07-31T12:44:41.240Z"
   },
   {
    "duration": 140,
    "start_time": "2022-07-31T12:44:41.245Z"
   },
   {
    "duration": 4,
    "start_time": "2022-07-31T12:45:15.058Z"
   },
   {
    "duration": 4,
    "start_time": "2022-07-31T12:45:20.346Z"
   },
   {
    "duration": 14,
    "start_time": "2022-07-31T12:45:28.450Z"
   },
   {
    "duration": 4,
    "start_time": "2022-07-31T12:45:38.948Z"
   },
   {
    "duration": 8,
    "start_time": "2022-07-31T12:46:22.473Z"
   },
   {
    "duration": 3,
    "start_time": "2022-07-31T12:46:27.252Z"
   },
   {
    "duration": 3,
    "start_time": "2022-07-31T12:46:36.168Z"
   },
   {
    "duration": 12,
    "start_time": "2022-07-31T12:47:17.078Z"
   },
   {
    "duration": 14,
    "start_time": "2022-07-31T12:47:29.631Z"
   },
   {
    "duration": 12,
    "start_time": "2022-07-31T12:47:36.330Z"
   },
   {
    "duration": 12,
    "start_time": "2022-07-31T12:47:49.337Z"
   },
   {
    "duration": 13,
    "start_time": "2022-07-31T12:47:52.736Z"
   },
   {
    "duration": 9,
    "start_time": "2022-07-31T12:47:59.303Z"
   },
   {
    "duration": 35,
    "start_time": "2022-07-31T12:48:33.156Z"
   },
   {
    "duration": 6,
    "start_time": "2022-07-31T12:49:57.129Z"
   },
   {
    "duration": 37,
    "start_time": "2022-07-31T12:50:08.302Z"
   },
   {
    "duration": 1072,
    "start_time": "2022-07-31T16:09:56.294Z"
   },
   {
    "duration": 109,
    "start_time": "2022-07-31T16:09:57.367Z"
   },
   {
    "duration": 13,
    "start_time": "2022-07-31T16:09:57.477Z"
   },
   {
    "duration": 19,
    "start_time": "2022-07-31T16:09:57.492Z"
   },
   {
    "duration": 12,
    "start_time": "2022-07-31T16:09:57.513Z"
   },
   {
    "duration": 44,
    "start_time": "2022-07-31T16:09:57.526Z"
   },
   {
    "duration": 27,
    "start_time": "2022-07-31T16:09:57.572Z"
   },
   {
    "duration": 7,
    "start_time": "2022-07-31T16:09:57.601Z"
   },
   {
    "duration": 13,
    "start_time": "2022-07-31T16:09:57.610Z"
   },
   {
    "duration": 50,
    "start_time": "2022-07-31T16:09:57.625Z"
   },
   {
    "duration": 15,
    "start_time": "2022-07-31T16:09:57.676Z"
   },
   {
    "duration": 36,
    "start_time": "2022-07-31T16:09:57.693Z"
   },
   {
    "duration": 30,
    "start_time": "2022-07-31T16:09:57.731Z"
   },
   {
    "duration": 100,
    "start_time": "2022-07-31T16:10:00.065Z"
   },
   {
    "duration": 151,
    "start_time": "2022-07-31T16:10:04.645Z"
   },
   {
    "duration": 4,
    "start_time": "2022-07-31T16:10:46.547Z"
   },
   {
    "duration": 11,
    "start_time": "2022-07-31T16:11:01.554Z"
   },
   {
    "duration": 10,
    "start_time": "2022-07-31T16:11:23.645Z"
   },
   {
    "duration": 20,
    "start_time": "2022-07-31T16:12:26.757Z"
   },
   {
    "duration": 15,
    "start_time": "2022-07-31T16:12:44.141Z"
   },
   {
    "duration": 14,
    "start_time": "2022-07-31T16:13:31.065Z"
   },
   {
    "duration": 88,
    "start_time": "2022-07-31T16:14:07.489Z"
   },
   {
    "duration": 19,
    "start_time": "2022-07-31T16:14:16.605Z"
   },
   {
    "duration": 22,
    "start_time": "2022-07-31T16:15:44.937Z"
   },
   {
    "duration": 41,
    "start_time": "2022-07-31T16:15:50.154Z"
   },
   {
    "duration": 18,
    "start_time": "2022-07-31T16:15:51.012Z"
   },
   {
    "duration": 53,
    "start_time": "2022-07-31T16:20:09.473Z"
   },
   {
    "duration": 168,
    "start_time": "2022-07-31T16:20:25.002Z"
   },
   {
    "duration": 77,
    "start_time": "2022-07-31T16:20:44.587Z"
   },
   {
    "duration": 106,
    "start_time": "2022-07-31T16:20:53.157Z"
   },
   {
    "duration": 65,
    "start_time": "2022-07-31T16:20:58.004Z"
   },
   {
    "duration": 178,
    "start_time": "2022-07-31T16:21:03.585Z"
   },
   {
    "duration": 185,
    "start_time": "2022-07-31T16:21:07.177Z"
   },
   {
    "duration": 157,
    "start_time": "2022-07-31T16:21:11.305Z"
   },
   {
    "duration": 152,
    "start_time": "2022-07-31T16:21:17.009Z"
   },
   {
    "duration": 188,
    "start_time": "2022-07-31T16:21:21.873Z"
   },
   {
    "duration": 45,
    "start_time": "2022-07-31T16:21:25.832Z"
   },
   {
    "duration": 102,
    "start_time": "2022-07-31T16:21:33.665Z"
   },
   {
    "duration": 95,
    "start_time": "2022-07-31T16:21:41.873Z"
   },
   {
    "duration": 105,
    "start_time": "2022-07-31T16:21:48.164Z"
   },
   {
    "duration": 124,
    "start_time": "2022-07-31T16:21:58.145Z"
   },
   {
    "duration": 181,
    "start_time": "2022-07-31T16:22:08.286Z"
   },
   {
    "duration": 143,
    "start_time": "2022-07-31T16:22:21.518Z"
   },
   {
    "duration": 188,
    "start_time": "2022-07-31T16:22:29.878Z"
   },
   {
    "duration": 181,
    "start_time": "2022-07-31T16:22:38.185Z"
   },
   {
    "duration": 129,
    "start_time": "2022-07-31T16:22:45.733Z"
   },
   {
    "duration": 125,
    "start_time": "2022-07-31T16:22:49.246Z"
   },
   {
    "duration": 212,
    "start_time": "2022-07-31T16:22:53.852Z"
   },
   {
    "duration": 108,
    "start_time": "2022-07-31T16:22:57.565Z"
   },
   {
    "duration": 127,
    "start_time": "2022-07-31T16:23:03.345Z"
   },
   {
    "duration": 206,
    "start_time": "2022-07-31T16:23:10.058Z"
   },
   {
    "duration": 214,
    "start_time": "2022-07-31T16:23:19.447Z"
   },
   {
    "duration": 183,
    "start_time": "2022-07-31T16:23:25.884Z"
   },
   {
    "duration": 221,
    "start_time": "2022-07-31T16:23:35.445Z"
   },
   {
    "duration": 178,
    "start_time": "2022-07-31T16:23:40.893Z"
   },
   {
    "duration": 99,
    "start_time": "2022-07-31T16:23:46.873Z"
   },
   {
    "duration": 66135,
    "start_time": "2022-07-31T16:24:08.601Z"
   },
   {
    "duration": 1266,
    "start_time": "2022-07-31T16:25:34.330Z"
   },
   {
    "duration": 11627,
    "start_time": "2022-07-31T16:25:39.153Z"
   },
   {
    "duration": 5,
    "start_time": "2022-07-31T16:25:54.742Z"
   },
   {
    "duration": 44,
    "start_time": "2022-07-31T16:25:57.193Z"
   },
   {
    "duration": 44,
    "start_time": "2022-07-31T16:26:01.577Z"
   },
   {
    "duration": 44,
    "start_time": "2022-07-31T16:26:11.685Z"
   },
   {
    "duration": 44,
    "start_time": "2022-07-31T16:26:14.217Z"
   },
   {
    "duration": 54,
    "start_time": "2022-07-31T16:26:31.821Z"
   },
   {
    "duration": 47,
    "start_time": "2022-07-31T16:26:39.175Z"
   },
   {
    "duration": 57,
    "start_time": "2022-07-31T16:26:59.153Z"
   },
   {
    "duration": 48,
    "start_time": "2022-07-31T16:27:04.697Z"
   },
   {
    "duration": 16,
    "start_time": "2022-07-31T16:27:08.201Z"
   },
   {
    "duration": 6,
    "start_time": "2022-07-31T16:27:14.693Z"
   },
   {
    "duration": 5,
    "start_time": "2022-07-31T16:27:19.305Z"
   },
   {
    "duration": 6,
    "start_time": "2022-07-31T16:27:32.758Z"
   },
   {
    "duration": 12,
    "start_time": "2022-07-31T16:27:36.553Z"
   },
   {
    "duration": 39,
    "start_time": "2022-07-31T16:27:46.875Z"
   },
   {
    "duration": 16,
    "start_time": "2022-07-31T16:27:48.347Z"
   },
   {
    "duration": 10,
    "start_time": "2022-07-31T16:28:02.713Z"
   },
   {
    "duration": 42,
    "start_time": "2022-07-31T16:28:20.697Z"
   },
   {
    "duration": 43,
    "start_time": "2022-07-31T16:28:51.312Z"
   },
   {
    "duration": 1108,
    "start_time": "2022-07-31T16:28:57.724Z"
   },
   {
    "duration": 76,
    "start_time": "2022-07-31T16:28:58.834Z"
   },
   {
    "duration": 23,
    "start_time": "2022-07-31T16:28:58.912Z"
   },
   {
    "duration": 47,
    "start_time": "2022-07-31T16:28:58.938Z"
   },
   {
    "duration": 19,
    "start_time": "2022-07-31T16:28:58.988Z"
   },
   {
    "duration": 13,
    "start_time": "2022-07-31T16:28:59.010Z"
   },
   {
    "duration": 58,
    "start_time": "2022-07-31T16:28:59.025Z"
   },
   {
    "duration": 9,
    "start_time": "2022-07-31T16:28:59.085Z"
   },
   {
    "duration": 27,
    "start_time": "2022-07-31T16:28:59.096Z"
   },
   {
    "duration": 36,
    "start_time": "2022-07-31T16:28:59.126Z"
   },
   {
    "duration": 16,
    "start_time": "2022-07-31T16:28:59.164Z"
   },
   {
    "duration": 40,
    "start_time": "2022-07-31T16:28:59.182Z"
   },
   {
    "duration": 39,
    "start_time": "2022-07-31T16:28:59.224Z"
   },
   {
    "duration": 102,
    "start_time": "2022-07-31T16:28:59.266Z"
   },
   {
    "duration": 102,
    "start_time": "2022-07-31T16:28:59.371Z"
   },
   {
    "duration": 28,
    "start_time": "2022-07-31T16:28:59.475Z"
   },
   {
    "duration": 102,
    "start_time": "2022-07-31T16:28:59.562Z"
   },
   {
    "duration": 195,
    "start_time": "2022-07-31T16:28:59.666Z"
   },
   {
    "duration": 98,
    "start_time": "2022-07-31T16:28:59.863Z"
   },
   {
    "duration": 102,
    "start_time": "2022-07-31T16:28:59.963Z"
   },
   {
    "duration": 95,
    "start_time": "2022-07-31T16:29:00.067Z"
   },
   {
    "duration": 1269,
    "start_time": "2022-07-31T16:29:00.165Z"
   },
   {
    "duration": 68755,
    "start_time": "2022-07-31T16:29:01.436Z"
   },
   {
    "duration": 11674,
    "start_time": "2022-07-31T16:30:10.193Z"
   },
   {
    "duration": 7,
    "start_time": "2022-07-31T16:30:21.870Z"
   },
   {
    "duration": 160,
    "start_time": "2022-07-31T16:30:21.879Z"
   },
   {
    "duration": 45,
    "start_time": "2022-07-31T16:30:58.367Z"
   },
   {
    "duration": 45,
    "start_time": "2022-07-31T16:32:21.143Z"
   },
   {
    "duration": 1132,
    "start_time": "2022-07-31T16:33:03.601Z"
   },
   {
    "duration": 74,
    "start_time": "2022-07-31T16:33:04.735Z"
   },
   {
    "duration": 16,
    "start_time": "2022-07-31T16:33:04.811Z"
   },
   {
    "duration": 47,
    "start_time": "2022-07-31T16:33:04.829Z"
   },
   {
    "duration": 14,
    "start_time": "2022-07-31T16:33:04.879Z"
   },
   {
    "duration": 9,
    "start_time": "2022-07-31T16:33:04.895Z"
   },
   {
    "duration": 25,
    "start_time": "2022-07-31T16:33:04.906Z"
   },
   {
    "duration": 29,
    "start_time": "2022-07-31T16:33:04.933Z"
   },
   {
    "duration": 12,
    "start_time": "2022-07-31T16:33:04.963Z"
   },
   {
    "duration": 21,
    "start_time": "2022-07-31T16:33:04.977Z"
   },
   {
    "duration": 18,
    "start_time": "2022-07-31T16:33:05.000Z"
   },
   {
    "duration": 44,
    "start_time": "2022-07-31T16:33:05.061Z"
   },
   {
    "duration": 7,
    "start_time": "2022-07-31T16:33:05.108Z"
   },
   {
    "duration": 58,
    "start_time": "2022-07-31T16:33:05.119Z"
   },
   {
    "duration": 96,
    "start_time": "2022-07-31T16:33:05.179Z"
   },
   {
    "duration": 39,
    "start_time": "2022-07-31T16:33:05.361Z"
   },
   {
    "duration": 159,
    "start_time": "2022-07-31T16:33:05.403Z"
   },
   {
    "duration": 101,
    "start_time": "2022-07-31T16:33:05.564Z"
   },
   {
    "duration": 204,
    "start_time": "2022-07-31T16:33:05.667Z"
   },
   {
    "duration": 102,
    "start_time": "2022-07-31T16:33:05.874Z"
   },
   {
    "duration": 83,
    "start_time": "2022-07-31T16:33:05.978Z"
   },
   {
    "duration": 1467,
    "start_time": "2022-07-31T16:33:06.065Z"
   },
   {
    "duration": 68370,
    "start_time": "2022-07-31T16:33:07.534Z"
   },
   {
    "duration": 8756,
    "start_time": "2022-07-31T16:34:15.906Z"
   },
   {
    "duration": 5,
    "start_time": "2022-07-31T16:34:24.664Z"
   },
   {
    "duration": 152,
    "start_time": "2022-07-31T16:34:24.671Z"
   },
   {
    "duration": 5,
    "start_time": "2022-07-31T16:36:15.794Z"
   },
   {
    "duration": 47,
    "start_time": "2022-07-31T16:36:17.894Z"
   },
   {
    "duration": 1193,
    "start_time": "2022-07-31T16:36:54.485Z"
   },
   {
    "duration": 74,
    "start_time": "2022-07-31T16:36:55.680Z"
   },
   {
    "duration": 15,
    "start_time": "2022-07-31T16:36:55.757Z"
   },
   {
    "duration": 25,
    "start_time": "2022-07-31T16:36:55.774Z"
   },
   {
    "duration": 14,
    "start_time": "2022-07-31T16:36:55.801Z"
   },
   {
    "duration": 44,
    "start_time": "2022-07-31T16:36:55.817Z"
   },
   {
    "duration": 23,
    "start_time": "2022-07-31T16:36:55.864Z"
   },
   {
    "duration": 10,
    "start_time": "2022-07-31T16:36:55.889Z"
   },
   {
    "duration": 15,
    "start_time": "2022-07-31T16:36:55.901Z"
   },
   {
    "duration": 51,
    "start_time": "2022-07-31T16:36:55.920Z"
   },
   {
    "duration": 26,
    "start_time": "2022-07-31T16:36:55.973Z"
   },
   {
    "duration": 83,
    "start_time": "2022-07-31T16:36:56.001Z"
   },
   {
    "duration": 9,
    "start_time": "2022-07-31T16:36:56.086Z"
   },
   {
    "duration": 66,
    "start_time": "2022-07-31T16:36:56.097Z"
   },
   {
    "duration": 109,
    "start_time": "2022-07-31T16:36:56.165Z"
   },
   {
    "duration": 32,
    "start_time": "2022-07-31T16:36:56.276Z"
   },
   {
    "duration": 69,
    "start_time": "2022-07-31T16:36:56.310Z"
   },
   {
    "duration": 182,
    "start_time": "2022-07-31T16:36:56.381Z"
   },
   {
    "duration": 137,
    "start_time": "2022-07-31T16:36:56.564Z"
   },
   {
    "duration": 67,
    "start_time": "2022-07-31T16:36:56.703Z"
   },
   {
    "duration": 191,
    "start_time": "2022-07-31T16:36:56.772Z"
   },
   {
    "duration": 1333,
    "start_time": "2022-07-31T16:36:56.966Z"
   },
   {
    "duration": 1246,
    "start_time": "2022-07-31T16:37:41.069Z"
   },
   {
    "duration": 77,
    "start_time": "2022-07-31T16:37:42.317Z"
   },
   {
    "duration": 16,
    "start_time": "2022-07-31T16:37:42.396Z"
   },
   {
    "duration": 55,
    "start_time": "2022-07-31T16:37:42.415Z"
   },
   {
    "duration": 15,
    "start_time": "2022-07-31T16:37:42.472Z"
   },
   {
    "duration": 21,
    "start_time": "2022-07-31T16:37:42.489Z"
   },
   {
    "duration": 22,
    "start_time": "2022-07-31T16:37:42.512Z"
   },
   {
    "duration": 7,
    "start_time": "2022-07-31T16:37:42.561Z"
   },
   {
    "duration": 26,
    "start_time": "2022-07-31T16:37:42.570Z"
   },
   {
    "duration": 28,
    "start_time": "2022-07-31T16:37:42.600Z"
   },
   {
    "duration": 44,
    "start_time": "2022-07-31T16:37:42.630Z"
   },
   {
    "duration": 63,
    "start_time": "2022-07-31T16:37:42.676Z"
   },
   {
    "duration": 21,
    "start_time": "2022-07-31T16:37:42.743Z"
   },
   {
    "duration": 116,
    "start_time": "2022-07-31T16:37:42.766Z"
   },
   {
    "duration": 94,
    "start_time": "2022-07-31T16:37:42.885Z"
   },
   {
    "duration": 89,
    "start_time": "2022-07-31T16:37:42.981Z"
   },
   {
    "duration": 92,
    "start_time": "2022-07-31T16:37:43.077Z"
   },
   {
    "duration": 203,
    "start_time": "2022-07-31T16:37:43.171Z"
   },
   {
    "duration": 203,
    "start_time": "2022-07-31T16:37:43.377Z"
   },
   {
    "duration": 97,
    "start_time": "2022-07-31T16:37:43.582Z"
   },
   {
    "duration": 180,
    "start_time": "2022-07-31T16:37:43.684Z"
   },
   {
    "duration": 1784,
    "start_time": "2022-07-31T16:37:43.867Z"
   },
   {
    "duration": 76231,
    "start_time": "2022-07-31T16:37:45.654Z"
   },
   {
    "duration": 7492,
    "start_time": "2022-07-31T16:39:01.889Z"
   },
   {
    "duration": 7,
    "start_time": "2022-07-31T16:39:09.385Z"
   },
   {
    "duration": 67,
    "start_time": "2022-07-31T16:39:09.394Z"
   },
   {
    "duration": 1201,
    "start_time": "2022-07-31T16:46:09.940Z"
   },
   {
    "duration": 74,
    "start_time": "2022-07-31T16:46:11.143Z"
   },
   {
    "duration": 16,
    "start_time": "2022-07-31T16:46:11.220Z"
   },
   {
    "duration": 37,
    "start_time": "2022-07-31T16:46:11.238Z"
   },
   {
    "duration": 14,
    "start_time": "2022-07-31T16:46:11.277Z"
   },
   {
    "duration": 10,
    "start_time": "2022-07-31T16:46:11.293Z"
   },
   {
    "duration": 20,
    "start_time": "2022-07-31T16:46:11.305Z"
   },
   {
    "duration": 36,
    "start_time": "2022-07-31T16:46:11.327Z"
   },
   {
    "duration": 12,
    "start_time": "2022-07-31T16:46:11.365Z"
   },
   {
    "duration": 21,
    "start_time": "2022-07-31T16:46:11.380Z"
   },
   {
    "duration": 17,
    "start_time": "2022-07-31T16:46:11.402Z"
   },
   {
    "duration": 77,
    "start_time": "2022-07-31T16:46:11.420Z"
   },
   {
    "duration": 7,
    "start_time": "2022-07-31T16:46:11.498Z"
   },
   {
    "duration": 156,
    "start_time": "2022-07-31T16:46:11.506Z"
   },
   {
    "duration": 105,
    "start_time": "2022-07-31T16:46:11.665Z"
   },
   {
    "duration": 94,
    "start_time": "2022-07-31T16:46:11.772Z"
   },
   {
    "duration": 97,
    "start_time": "2022-07-31T16:46:11.869Z"
   },
   {
    "duration": 193,
    "start_time": "2022-07-31T16:46:11.969Z"
   },
   {
    "duration": 40,
    "start_time": "2022-07-31T16:46:12.164Z"
   },
   {
    "duration": 100,
    "start_time": "2022-07-31T16:46:12.262Z"
   },
   {
    "duration": 30,
    "start_time": "2022-07-31T16:46:12.363Z"
   },
   {
    "duration": 1227,
    "start_time": "2022-07-31T16:46:12.462Z"
   },
   {
    "duration": 64040,
    "start_time": "2022-07-31T16:46:13.691Z"
   },
   {
    "duration": 11349,
    "start_time": "2022-07-31T16:47:17.733Z"
   },
   {
    "duration": 6,
    "start_time": "2022-07-31T16:47:29.085Z"
   },
   {
    "duration": 77,
    "start_time": "2022-07-31T16:47:29.093Z"
   },
   {
    "duration": 48,
    "start_time": "2022-07-31T16:48:36.125Z"
   },
   {
    "duration": 1133,
    "start_time": "2022-07-31T16:48:39.786Z"
   },
   {
    "duration": 74,
    "start_time": "2022-07-31T16:48:40.922Z"
   },
   {
    "duration": 18,
    "start_time": "2022-07-31T16:48:40.997Z"
   },
   {
    "duration": 50,
    "start_time": "2022-07-31T16:48:41.017Z"
   },
   {
    "duration": 17,
    "start_time": "2022-07-31T16:48:41.070Z"
   },
   {
    "duration": 20,
    "start_time": "2022-07-31T16:48:41.089Z"
   },
   {
    "duration": 25,
    "start_time": "2022-07-31T16:48:41.111Z"
   },
   {
    "duration": 649,
    "start_time": "2022-07-31T16:48:44.177Z"
   },
   {
    "duration": 93,
    "start_time": "2022-07-31T16:49:02.598Z"
   },
   {
    "duration": 45,
    "start_time": "2022-07-31T16:49:05.338Z"
   },
   {
    "duration": 147,
    "start_time": "2022-07-31T16:49:09.366Z"
   },
   {
    "duration": 1082,
    "start_time": "2022-08-01T11:18:07.268Z"
   },
   {
    "duration": 91,
    "start_time": "2022-08-01T11:18:20.716Z"
   },
   {
    "duration": 1000,
    "start_time": "2022-08-01T11:18:26.849Z"
   },
   {
    "duration": 191,
    "start_time": "2022-08-01T11:18:27.850Z"
   },
   {
    "duration": 13,
    "start_time": "2022-08-01T11:18:28.043Z"
   },
   {
    "duration": 21,
    "start_time": "2022-08-01T11:18:28.058Z"
   },
   {
    "duration": 12,
    "start_time": "2022-08-01T11:18:28.081Z"
   },
   {
    "duration": 12,
    "start_time": "2022-08-01T11:18:28.107Z"
   },
   {
    "duration": 21,
    "start_time": "2022-08-01T11:18:28.120Z"
   },
   {
    "duration": 531,
    "start_time": "2022-08-01T11:18:28.142Z"
   },
   {
    "duration": 7,
    "start_time": "2022-08-01T11:18:28.674Z"
   },
   {
    "duration": 32,
    "start_time": "2022-08-01T11:18:28.683Z"
   },
   {
    "duration": 22,
    "start_time": "2022-08-01T11:18:28.720Z"
   },
   {
    "duration": 21,
    "start_time": "2022-08-01T11:18:28.743Z"
   },
   {
    "duration": 65,
    "start_time": "2022-08-01T11:18:28.766Z"
   },
   {
    "duration": 6,
    "start_time": "2022-08-01T11:18:28.833Z"
   },
   {
    "duration": 68,
    "start_time": "2022-08-01T11:18:28.840Z"
   },
   {
    "duration": 99,
    "start_time": "2022-08-01T11:18:28.910Z"
   },
   {
    "duration": 32,
    "start_time": "2022-08-01T11:18:29.011Z"
   },
   {
    "duration": 99,
    "start_time": "2022-08-01T11:18:29.110Z"
   },
   {
    "duration": 109,
    "start_time": "2022-08-01T11:18:29.210Z"
   },
   {
    "duration": 187,
    "start_time": "2022-08-01T11:18:29.321Z"
   },
   {
    "duration": 101,
    "start_time": "2022-08-01T11:18:29.510Z"
   },
   {
    "duration": 23,
    "start_time": "2022-08-01T11:18:29.614Z"
   },
   {
    "duration": 1229,
    "start_time": "2022-08-01T11:18:29.638Z"
   },
   {
    "duration": 64981,
    "start_time": "2022-08-01T11:18:30.869Z"
   },
   {
    "duration": 15273,
    "start_time": "2022-08-01T11:19:35.852Z"
   },
   {
    "duration": 5,
    "start_time": "2022-08-01T11:19:51.126Z"
   },
   {
    "duration": 45,
    "start_time": "2022-08-01T11:19:51.133Z"
   },
   {
    "duration": 12761,
    "start_time": "2022-08-01T11:20:27.162Z"
   },
   {
    "duration": 3,
    "start_time": "2022-08-01T11:22:07.067Z"
   },
   {
    "duration": 25,
    "start_time": "2022-08-01T11:23:16.568Z"
   },
   {
    "duration": 77,
    "start_time": "2022-08-01T11:29:07.758Z"
   },
   {
    "duration": 1331,
    "start_time": "2022-08-01T11:35:26.715Z"
   },
   {
    "duration": 67,
    "start_time": "2022-08-01T11:35:28.047Z"
   },
   {
    "duration": 13,
    "start_time": "2022-08-01T11:35:28.116Z"
   },
   {
    "duration": 20,
    "start_time": "2022-08-01T11:35:28.131Z"
   },
   {
    "duration": 10,
    "start_time": "2022-08-01T11:35:28.153Z"
   },
   {
    "duration": 8,
    "start_time": "2022-08-01T11:35:28.165Z"
   },
   {
    "duration": 43,
    "start_time": "2022-08-01T11:35:28.175Z"
   },
   {
    "duration": 614,
    "start_time": "2022-08-01T11:35:28.219Z"
   },
   {
    "duration": 6,
    "start_time": "2022-08-01T11:35:28.834Z"
   },
   {
    "duration": 11,
    "start_time": "2022-08-01T11:35:28.843Z"
   },
   {
    "duration": 20,
    "start_time": "2022-08-01T11:35:28.855Z"
   },
   {
    "duration": 37,
    "start_time": "2022-08-01T11:35:28.877Z"
   },
   {
    "duration": 36,
    "start_time": "2022-08-01T11:35:28.915Z"
   },
   {
    "duration": 6,
    "start_time": "2022-08-01T11:35:28.952Z"
   },
   {
    "duration": 49,
    "start_time": "2022-08-01T11:35:28.959Z"
   },
   {
    "duration": 98,
    "start_time": "2022-08-01T11:35:29.012Z"
   },
   {
    "duration": 3,
    "start_time": "2022-08-01T11:35:29.113Z"
   },
   {
    "duration": 85,
    "start_time": "2022-08-01T11:35:29.118Z"
   },
   {
    "duration": 102,
    "start_time": "2022-08-01T11:35:29.205Z"
   },
   {
    "duration": 194,
    "start_time": "2022-08-01T11:35:29.309Z"
   },
   {
    "duration": 2,
    "start_time": "2022-08-01T11:35:29.504Z"
   },
   {
    "duration": 37,
    "start_time": "2022-08-01T11:35:29.508Z"
   },
   {
    "duration": 72,
    "start_time": "2022-08-01T11:35:29.546Z"
   },
   {
    "duration": 24,
    "start_time": "2022-08-01T11:35:29.702Z"
   },
   {
    "duration": 1226,
    "start_time": "2022-08-01T11:35:29.728Z"
   },
   {
    "duration": 61670,
    "start_time": "2022-08-01T11:35:30.956Z"
   },
   {
    "duration": 9284,
    "start_time": "2022-08-01T11:36:32.628Z"
   },
   {
    "duration": 96,
    "start_time": "2022-08-01T11:36:42.008Z"
   },
   {
    "duration": 101,
    "start_time": "2022-08-01T11:36:42.105Z"
   },
   {
    "duration": 8,
    "start_time": "2022-08-01T11:37:17.288Z"
   },
   {
    "duration": 1064,
    "start_time": "2022-08-01T11:42:07.687Z"
   },
   {
    "duration": 75,
    "start_time": "2022-08-01T11:42:08.753Z"
   },
   {
    "duration": 18,
    "start_time": "2022-08-01T11:42:08.830Z"
   },
   {
    "duration": 22,
    "start_time": "2022-08-01T11:42:08.850Z"
   },
   {
    "duration": 36,
    "start_time": "2022-08-01T11:42:08.875Z"
   },
   {
    "duration": 13,
    "start_time": "2022-08-01T11:42:08.913Z"
   },
   {
    "duration": 27,
    "start_time": "2022-08-01T11:42:08.928Z"
   },
   {
    "duration": 407,
    "start_time": "2022-08-01T11:42:08.957Z"
   },
   {
    "duration": 3,
    "start_time": "2022-08-01T11:42:09.365Z"
   },
   {
    "duration": 12,
    "start_time": "2022-08-01T11:42:09.370Z"
   },
   {
    "duration": 35,
    "start_time": "2022-08-01T11:42:09.384Z"
   },
   {
    "duration": 14,
    "start_time": "2022-08-01T11:42:09.421Z"
   },
   {
    "duration": 893,
    "start_time": "2022-08-01T11:42:09.437Z"
   },
   {
    "duration": 35,
    "start_time": "2022-08-01T11:42:10.333Z"
   },
   {
    "duration": 5,
    "start_time": "2022-08-01T11:42:10.370Z"
   },
   {
    "duration": 121,
    "start_time": "2022-08-01T11:42:10.376Z"
   },
   {
    "duration": 0,
    "start_time": "2022-08-01T11:42:10.498Z"
   },
   {
    "duration": 0,
    "start_time": "2022-08-01T11:42:10.502Z"
   },
   {
    "duration": 0,
    "start_time": "2022-08-01T11:42:10.503Z"
   },
   {
    "duration": 0,
    "start_time": "2022-08-01T11:42:10.504Z"
   },
   {
    "duration": 0,
    "start_time": "2022-08-01T11:42:10.505Z"
   },
   {
    "duration": 0,
    "start_time": "2022-08-01T11:42:10.506Z"
   },
   {
    "duration": 0,
    "start_time": "2022-08-01T11:42:10.507Z"
   },
   {
    "duration": 0,
    "start_time": "2022-08-01T11:42:10.508Z"
   },
   {
    "duration": 0,
    "start_time": "2022-08-01T11:42:10.509Z"
   },
   {
    "duration": 0,
    "start_time": "2022-08-01T11:42:10.510Z"
   },
   {
    "duration": 0,
    "start_time": "2022-08-01T11:42:10.511Z"
   },
   {
    "duration": 0,
    "start_time": "2022-08-01T11:42:10.512Z"
   },
   {
    "duration": 0,
    "start_time": "2022-08-01T11:42:10.513Z"
   },
   {
    "duration": 0,
    "start_time": "2022-08-01T11:42:10.513Z"
   },
   {
    "duration": 1056,
    "start_time": "2022-08-01T11:43:27.554Z"
   },
   {
    "duration": 68,
    "start_time": "2022-08-01T11:43:28.611Z"
   },
   {
    "duration": 12,
    "start_time": "2022-08-01T11:43:28.680Z"
   },
   {
    "duration": 26,
    "start_time": "2022-08-01T11:43:28.694Z"
   },
   {
    "duration": 11,
    "start_time": "2022-08-01T11:43:28.722Z"
   },
   {
    "duration": 13,
    "start_time": "2022-08-01T11:43:28.735Z"
   },
   {
    "duration": 31,
    "start_time": "2022-08-01T11:43:28.749Z"
   },
   {
    "duration": 366,
    "start_time": "2022-08-01T11:43:28.782Z"
   },
   {
    "duration": 2,
    "start_time": "2022-08-01T11:43:29.150Z"
   },
   {
    "duration": 19,
    "start_time": "2022-08-01T11:43:29.154Z"
   },
   {
    "duration": 29,
    "start_time": "2022-08-01T11:43:29.174Z"
   },
   {
    "duration": 14,
    "start_time": "2022-08-01T11:43:29.204Z"
   },
   {
    "duration": 103,
    "start_time": "2022-08-01T11:43:29.220Z"
   },
   {
    "duration": 0,
    "start_time": "2022-08-01T11:43:29.325Z"
   },
   {
    "duration": 0,
    "start_time": "2022-08-01T11:43:29.327Z"
   },
   {
    "duration": 0,
    "start_time": "2022-08-01T11:43:29.328Z"
   },
   {
    "duration": 0,
    "start_time": "2022-08-01T11:43:29.329Z"
   },
   {
    "duration": 0,
    "start_time": "2022-08-01T11:43:29.330Z"
   },
   {
    "duration": 0,
    "start_time": "2022-08-01T11:43:29.331Z"
   },
   {
    "duration": 0,
    "start_time": "2022-08-01T11:43:29.332Z"
   },
   {
    "duration": 0,
    "start_time": "2022-08-01T11:43:29.333Z"
   },
   {
    "duration": 0,
    "start_time": "2022-08-01T11:43:29.334Z"
   },
   {
    "duration": 0,
    "start_time": "2022-08-01T11:43:29.335Z"
   },
   {
    "duration": 0,
    "start_time": "2022-08-01T11:43:29.336Z"
   },
   {
    "duration": 0,
    "start_time": "2022-08-01T11:43:29.337Z"
   },
   {
    "duration": 0,
    "start_time": "2022-08-01T11:43:29.338Z"
   },
   {
    "duration": 0,
    "start_time": "2022-08-01T11:43:29.339Z"
   },
   {
    "duration": 0,
    "start_time": "2022-08-01T11:43:29.340Z"
   },
   {
    "duration": 0,
    "start_time": "2022-08-01T11:43:29.342Z"
   },
   {
    "duration": 0,
    "start_time": "2022-08-01T11:43:29.343Z"
   },
   {
    "duration": 4,
    "start_time": "2022-08-01T11:43:55.552Z"
   },
   {
    "duration": 867,
    "start_time": "2022-08-01T11:44:00.350Z"
   },
   {
    "duration": 37,
    "start_time": "2022-08-01T11:44:03.884Z"
   },
   {
    "duration": 18,
    "start_time": "2022-08-01T11:44:06.824Z"
   },
   {
    "duration": 18,
    "start_time": "2022-08-01T11:44:24.605Z"
   },
   {
    "duration": 782,
    "start_time": "2022-08-01T11:45:23.313Z"
   },
   {
    "duration": 828,
    "start_time": "2022-08-01T11:48:55.276Z"
   },
   {
    "duration": 38,
    "start_time": "2022-08-01T11:48:56.368Z"
   },
   {
    "duration": 23,
    "start_time": "2022-08-01T11:48:59.545Z"
   },
   {
    "duration": 53,
    "start_time": "2022-08-01T11:49:21.508Z"
   },
   {
    "duration": 1371,
    "start_time": "2022-08-01T11:49:59.639Z"
   },
   {
    "duration": 37,
    "start_time": "2022-08-01T11:50:01.012Z"
   },
   {
    "duration": 17,
    "start_time": "2022-08-01T11:50:03.996Z"
   },
   {
    "duration": 145,
    "start_time": "2022-08-01T14:26:11.884Z"
   },
   {
    "duration": 126,
    "start_time": "2022-08-01T14:47:37.086Z"
   },
   {
    "duration": 114,
    "start_time": "2022-08-01T14:55:43.606Z"
   },
   {
    "duration": 86,
    "start_time": "2022-08-01T14:56:58.819Z"
   },
   {
    "duration": 10,
    "start_time": "2022-08-01T14:57:06.810Z"
   },
   {
    "duration": 1433,
    "start_time": "2022-08-01T14:57:09.578Z"
   },
   {
    "duration": 151,
    "start_time": "2022-08-01T14:57:12.045Z"
   },
   {
    "duration": 81,
    "start_time": "2022-08-01T14:57:50.117Z"
   },
   {
    "duration": 73,
    "start_time": "2022-08-01T15:07:22.599Z"
   },
   {
    "duration": 47,
    "start_time": "2022-08-01T15:07:29.712Z"
   },
   {
    "duration": 61,
    "start_time": "2022-08-01T15:10:32.441Z"
   },
   {
    "duration": 48,
    "start_time": "2022-08-01T15:10:58.189Z"
   },
   {
    "duration": 78,
    "start_time": "2022-08-01T15:16:16.911Z"
   },
   {
    "duration": 79,
    "start_time": "2022-08-01T15:16:30.688Z"
   },
   {
    "duration": 63,
    "start_time": "2022-08-01T15:16:44.743Z"
   },
   {
    "duration": 65,
    "start_time": "2022-08-01T15:17:05.824Z"
   },
   {
    "duration": 73,
    "start_time": "2022-08-01T15:18:09.645Z"
   },
   {
    "duration": 127,
    "start_time": "2022-08-01T15:30:56.275Z"
   },
   {
    "duration": 62,
    "start_time": "2022-08-01T15:37:38.383Z"
   },
   {
    "duration": 59,
    "start_time": "2022-08-01T15:37:58.497Z"
   },
   {
    "duration": 109,
    "start_time": "2022-08-01T16:03:59.820Z"
   },
   {
    "duration": 92,
    "start_time": "2022-08-01T16:05:20.788Z"
   },
   {
    "duration": 56,
    "start_time": "2022-08-01T20:21:07.538Z"
   },
   {
    "duration": 1035,
    "start_time": "2022-08-01T20:21:11.086Z"
   },
   {
    "duration": 180,
    "start_time": "2022-08-01T20:21:12.123Z"
   },
   {
    "duration": 69,
    "start_time": "2022-08-01T20:21:12.305Z"
   },
   {
    "duration": 21,
    "start_time": "2022-08-01T20:21:14.222Z"
   },
   {
    "duration": 19,
    "start_time": "2022-08-01T20:22:41.214Z"
   },
   {
    "duration": 593,
    "start_time": "2022-08-01T20:25:10.068Z"
   },
   {
    "duration": 127,
    "start_time": "2022-08-01T20:25:37.744Z"
   },
   {
    "duration": 157,
    "start_time": "2022-08-01T20:25:40.850Z"
   },
   {
    "duration": 132,
    "start_time": "2022-08-01T20:28:34.791Z"
   },
   {
    "duration": 138,
    "start_time": "2022-08-01T20:28:39.238Z"
   },
   {
    "duration": 76,
    "start_time": "2022-08-01T20:45:21.517Z"
   },
   {
    "duration": 1584,
    "start_time": "2022-08-02T08:24:19.985Z"
   },
   {
    "duration": 112,
    "start_time": "2022-08-02T08:26:01.745Z"
   },
   {
    "duration": 4,
    "start_time": "2022-08-02T08:26:13.745Z"
   },
   {
    "duration": 353,
    "start_time": "2022-08-02T08:26:13.753Z"
   },
   {
    "duration": 75,
    "start_time": "2022-08-02T08:26:14.108Z"
   },
   {
    "duration": 27,
    "start_time": "2022-08-02T08:26:14.185Z"
   },
   {
    "duration": 17,
    "start_time": "2022-08-02T08:26:16.785Z"
   },
   {
    "duration": 226,
    "start_time": "2022-08-02T08:26:27.184Z"
   },
   {
    "duration": 169,
    "start_time": "2022-08-02T08:28:53.846Z"
   },
   {
    "duration": 144,
    "start_time": "2022-08-02T08:28:58.963Z"
   },
   {
    "duration": 139,
    "start_time": "2022-08-02T08:29:04.162Z"
   },
   {
    "duration": 226,
    "start_time": "2022-08-02T08:30:07.962Z"
   },
   {
    "duration": 166,
    "start_time": "2022-08-02T08:30:20.482Z"
   },
   {
    "duration": 186,
    "start_time": "2022-08-02T08:30:29.383Z"
   },
   {
    "duration": 164,
    "start_time": "2022-08-02T08:30:39.453Z"
   },
   {
    "duration": 187,
    "start_time": "2022-08-02T08:31:37.951Z"
   },
   {
    "duration": 7,
    "start_time": "2022-08-02T08:32:05.950Z"
   },
   {
    "duration": 191,
    "start_time": "2022-08-02T08:42:37.863Z"
   },
   {
    "duration": 195,
    "start_time": "2022-08-02T08:45:49.843Z"
   },
   {
    "duration": 89,
    "start_time": "2022-08-02T09:03:36.748Z"
   },
   {
    "duration": 1316,
    "start_time": "2022-08-02T09:03:57.517Z"
   },
   {
    "duration": 61,
    "start_time": "2022-08-02T09:03:58.835Z"
   },
   {
    "duration": 73,
    "start_time": "2022-08-02T09:03:58.897Z"
   },
   {
    "duration": 21,
    "start_time": "2022-08-02T09:03:58.971Z"
   },
   {
    "duration": 223,
    "start_time": "2022-08-02T09:03:58.994Z"
   },
   {
    "duration": 6,
    "start_time": "2022-08-02T09:03:59.219Z"
   },
   {
    "duration": 212,
    "start_time": "2022-08-02T09:03:59.227Z"
   },
   {
    "duration": 40,
    "start_time": "2022-08-02T09:21:35.677Z"
   },
   {
    "duration": 77,
    "start_time": "2022-08-02T09:23:48.737Z"
   },
   {
    "duration": 37,
    "start_time": "2022-08-02T09:23:54.644Z"
   },
   {
    "duration": 74,
    "start_time": "2022-08-02T09:24:51.879Z"
   },
   {
    "duration": 101,
    "start_time": "2022-08-02T09:32:34.598Z"
   },
   {
    "duration": 11,
    "start_time": "2022-08-02T09:32:40.341Z"
   },
   {
    "duration": 9,
    "start_time": "2022-08-02T09:32:44.192Z"
   },
   {
    "duration": 4,
    "start_time": "2022-08-02T09:33:04.080Z"
   },
   {
    "duration": 4,
    "start_time": "2022-08-02T09:33:09.356Z"
   },
   {
    "duration": 6,
    "start_time": "2022-08-02T09:33:18.000Z"
   },
   {
    "duration": 5,
    "start_time": "2022-08-02T09:35:25.702Z"
   },
   {
    "duration": 36,
    "start_time": "2022-08-02T09:44:17.963Z"
   },
   {
    "duration": 35,
    "start_time": "2022-08-02T09:47:10.503Z"
   },
   {
    "duration": 22,
    "start_time": "2022-08-02T09:53:13.550Z"
   },
   {
    "duration": 20,
    "start_time": "2022-08-02T09:53:18.290Z"
   },
   {
    "duration": 21,
    "start_time": "2022-08-02T09:53:43.150Z"
   },
   {
    "duration": 22,
    "start_time": "2022-08-02T09:54:02.530Z"
   },
   {
    "duration": 21,
    "start_time": "2022-08-02T09:54:36.170Z"
   },
   {
    "duration": 16,
    "start_time": "2022-08-02T09:55:02.263Z"
   },
   {
    "duration": 15,
    "start_time": "2022-08-02T09:55:45.570Z"
   },
   {
    "duration": 49,
    "start_time": "2022-08-02T13:17:19.932Z"
   },
   {
    "duration": 62,
    "start_time": "2022-08-02T13:19:26.570Z"
   },
   {
    "duration": 7,
    "start_time": "2022-08-02T13:24:15.624Z"
   },
   {
    "duration": 1591,
    "start_time": "2022-08-02T13:24:18.271Z"
   },
   {
    "duration": 98,
    "start_time": "2022-08-02T13:24:19.864Z"
   },
   {
    "duration": 64,
    "start_time": "2022-08-02T13:24:19.963Z"
   },
   {
    "duration": 32,
    "start_time": "2022-08-02T13:24:20.029Z"
   },
   {
    "duration": 214,
    "start_time": "2022-08-02T13:24:20.063Z"
   },
   {
    "duration": 7,
    "start_time": "2022-08-02T13:24:20.278Z"
   },
   {
    "duration": 232,
    "start_time": "2022-08-02T13:24:20.286Z"
   },
   {
    "duration": 47,
    "start_time": "2022-08-02T13:24:20.520Z"
   },
   {
    "duration": 46,
    "start_time": "2022-08-02T13:24:20.568Z"
   },
   {
    "duration": 6,
    "start_time": "2022-08-02T13:24:20.617Z"
   },
   {
    "duration": 36,
    "start_time": "2022-08-02T13:26:56.120Z"
   },
   {
    "duration": 14,
    "start_time": "2022-08-02T13:26:56.631Z"
   },
   {
    "duration": 47,
    "start_time": "2022-08-02T13:31:29.224Z"
   },
   {
    "duration": 18,
    "start_time": "2022-08-02T13:31:38.883Z"
   },
   {
    "duration": 19,
    "start_time": "2022-08-02T13:31:42.203Z"
   },
   {
    "duration": 16,
    "start_time": "2022-08-02T13:31:47.083Z"
   },
   {
    "duration": 6,
    "start_time": "2022-08-02T13:32:04.028Z"
   },
   {
    "duration": 4,
    "start_time": "2022-08-02T13:40:36.427Z"
   },
   {
    "duration": 4,
    "start_time": "2022-08-02T13:40:41.786Z"
   },
   {
    "duration": 5,
    "start_time": "2022-08-02T13:59:19.452Z"
   },
   {
    "duration": 50,
    "start_time": "2022-08-02T13:59:21.031Z"
   },
   {
    "duration": 39,
    "start_time": "2022-08-02T13:59:27.531Z"
   },
   {
    "duration": 4,
    "start_time": "2022-08-02T14:00:11.033Z"
   },
   {
    "duration": 68,
    "start_time": "2022-08-02T14:00:11.990Z"
   },
   {
    "duration": 5,
    "start_time": "2022-08-02T14:00:21.591Z"
   },
   {
    "duration": 278,
    "start_time": "2022-08-02T14:00:22.451Z"
   },
   {
    "duration": 5,
    "start_time": "2022-08-02T14:00:27.532Z"
   },
   {
    "duration": 189,
    "start_time": "2022-08-02T14:00:28.770Z"
   },
   {
    "duration": 4,
    "start_time": "2022-08-02T14:00:36.641Z"
   },
   {
    "duration": 39,
    "start_time": "2022-08-02T14:00:37.532Z"
   },
   {
    "duration": 130,
    "start_time": "2022-08-02T14:01:05.028Z"
   },
   {
    "duration": 108,
    "start_time": "2022-08-02T14:02:54.250Z"
   },
   {
    "duration": 136,
    "start_time": "2022-08-02T14:03:03.131Z"
   },
   {
    "duration": 4,
    "start_time": "2022-08-02T14:07:58.521Z"
   },
   {
    "duration": 133,
    "start_time": "2022-08-02T14:07:59.230Z"
   },
   {
    "duration": 4,
    "start_time": "2022-08-02T14:08:11.017Z"
   },
   {
    "duration": 27,
    "start_time": "2022-08-02T14:08:11.790Z"
   },
   {
    "duration": 4,
    "start_time": "2022-08-02T14:08:55.531Z"
   },
   {
    "duration": 38,
    "start_time": "2022-08-02T14:08:56.225Z"
   },
   {
    "duration": 5,
    "start_time": "2022-08-02T14:08:59.824Z"
   },
   {
    "duration": 96,
    "start_time": "2022-08-02T14:09:00.370Z"
   },
   {
    "duration": 4,
    "start_time": "2022-08-02T14:09:06.119Z"
   },
   {
    "duration": 188,
    "start_time": "2022-08-02T14:09:06.770Z"
   },
   {
    "duration": 114,
    "start_time": "2022-08-02T14:09:39.151Z"
   },
   {
    "duration": 121,
    "start_time": "2022-08-02T14:09:50.650Z"
   },
   {
    "duration": 194,
    "start_time": "2022-08-02T14:10:13.570Z"
   },
   {
    "duration": 131,
    "start_time": "2022-08-02T14:10:22.430Z"
   },
   {
    "duration": 1163,
    "start_time": "2022-08-02T14:10:51.640Z"
   },
   {
    "duration": 10,
    "start_time": "2022-08-02T14:14:36.424Z"
   },
   {
    "duration": 5,
    "start_time": "2022-08-02T14:14:44.142Z"
   },
   {
    "duration": 81,
    "start_time": "2022-08-02T14:14:44.149Z"
   },
   {
    "duration": 71,
    "start_time": "2022-08-02T14:14:44.232Z"
   },
   {
    "duration": 17,
    "start_time": "2022-08-02T14:14:44.305Z"
   },
   {
    "duration": 249,
    "start_time": "2022-08-02T14:14:44.324Z"
   },
   {
    "duration": 13,
    "start_time": "2022-08-02T14:14:44.575Z"
   },
   {
    "duration": 225,
    "start_time": "2022-08-02T14:14:44.589Z"
   },
   {
    "duration": 45,
    "start_time": "2022-08-02T14:14:44.816Z"
   },
   {
    "duration": 47,
    "start_time": "2022-08-02T14:14:44.868Z"
   },
   {
    "duration": 5,
    "start_time": "2022-08-02T14:14:44.916Z"
   },
   {
    "duration": 11,
    "start_time": "2022-08-02T14:14:44.924Z"
   },
   {
    "duration": 130,
    "start_time": "2022-08-02T14:14:44.936Z"
   },
   {
    "duration": 288,
    "start_time": "2022-08-02T14:14:45.068Z"
   },
   {
    "duration": 121,
    "start_time": "2022-08-02T14:14:45.361Z"
   },
   {
    "duration": 2,
    "start_time": "2022-08-02T14:14:45.557Z"
   },
   {
    "duration": 289,
    "start_time": "2022-08-02T14:14:45.567Z"
   },
   {
    "duration": 41,
    "start_time": "2022-08-02T14:14:45.859Z"
   },
   {
    "duration": 202,
    "start_time": "2022-08-02T14:14:45.904Z"
   },
   {
    "duration": 1366,
    "start_time": "2022-08-02T14:14:46.108Z"
   },
   {
    "duration": 72090,
    "start_time": "2022-08-02T14:14:47.483Z"
   },
   {
    "duration": 24111,
    "start_time": "2022-08-02T14:15:59.581Z"
   },
   {
    "duration": 5,
    "start_time": "2022-08-02T14:16:23.694Z"
   },
   {
    "duration": 89,
    "start_time": "2022-08-02T14:16:25.524Z"
   },
   {
    "duration": 4,
    "start_time": "2022-08-02T14:16:31.751Z"
   },
   {
    "duration": 9,
    "start_time": "2022-08-02T14:17:52.920Z"
   },
   {
    "duration": 11,
    "start_time": "2022-08-02T14:18:06.038Z"
   },
   {
    "duration": 4,
    "start_time": "2022-08-02T14:18:14.597Z"
   },
   {
    "duration": 53,
    "start_time": "2022-08-02T18:24:32.834Z"
   },
   {
    "duration": 9,
    "start_time": "2022-08-02T18:27:33.536Z"
   },
   {
    "duration": 1747,
    "start_time": "2022-08-02T18:27:36.319Z"
   },
   {
    "duration": 216,
    "start_time": "2022-08-02T18:27:38.068Z"
   },
   {
    "duration": 94,
    "start_time": "2022-08-02T18:27:38.287Z"
   },
   {
    "duration": 41,
    "start_time": "2022-08-02T18:27:38.383Z"
   },
   {
    "duration": 242,
    "start_time": "2022-08-02T18:27:38.426Z"
   },
   {
    "duration": 8,
    "start_time": "2022-08-02T18:27:38.670Z"
   },
   {
    "duration": 269,
    "start_time": "2022-08-02T18:27:38.680Z"
   },
   {
    "duration": 66,
    "start_time": "2022-08-02T18:27:38.950Z"
   },
   {
    "duration": 47,
    "start_time": "2022-08-02T18:27:39.020Z"
   },
   {
    "duration": 7,
    "start_time": "2022-08-02T18:27:39.068Z"
   },
   {
    "duration": 36,
    "start_time": "2022-08-02T18:27:39.076Z"
   },
   {
    "duration": 113,
    "start_time": "2022-08-02T18:27:39.113Z"
   },
   {
    "duration": 6,
    "start_time": "2022-08-02T18:44:06.232Z"
   },
   {
    "duration": 89,
    "start_time": "2022-08-02T18:44:07.738Z"
   },
   {
    "duration": 7,
    "start_time": "2022-08-02T18:44:12.650Z"
   },
   {
    "duration": 99,
    "start_time": "2022-08-02T18:44:13.421Z"
   },
   {
    "duration": 54,
    "start_time": "2022-08-02T18:54:56.476Z"
   },
   {
    "duration": 4,
    "start_time": "2022-08-02T18:55:01.156Z"
   },
   {
    "duration": 155,
    "start_time": "2022-08-02T18:58:08.258Z"
   },
   {
    "duration": 4,
    "start_time": "2022-08-02T18:59:01.553Z"
   },
   {
    "duration": 145,
    "start_time": "2022-08-02T18:59:15.377Z"
   },
   {
    "duration": 3,
    "start_time": "2022-08-02T18:59:20.830Z"
   },
   {
    "duration": 186,
    "start_time": "2022-08-02T19:00:40.326Z"
   },
   {
    "duration": 228,
    "start_time": "2022-08-02T19:03:44.192Z"
   },
   {
    "duration": 5,
    "start_time": "2022-08-02T19:03:46.694Z"
   },
   {
    "duration": 55,
    "start_time": "2022-08-02T19:03:56.269Z"
   },
   {
    "duration": 106,
    "start_time": "2022-08-02T19:04:46.218Z"
   },
   {
    "duration": 4,
    "start_time": "2022-08-02T19:04:47.322Z"
   },
   {
    "duration": 4,
    "start_time": "2022-08-02T19:05:18.018Z"
   },
   {
    "duration": 12631,
    "start_time": "2022-08-02T19:11:53.888Z"
   },
   {
    "duration": 13332,
    "start_time": "2022-08-02T19:12:39.484Z"
   },
   {
    "duration": 7,
    "start_time": "2022-08-02T19:13:26.116Z"
   },
   {
    "duration": 13052,
    "start_time": "2022-08-02T19:13:29.971Z"
   },
   {
    "duration": 13743,
    "start_time": "2022-08-02T19:13:52.477Z"
   },
   {
    "duration": 139,
    "start_time": "2022-08-02T19:14:25.679Z"
   },
   {
    "duration": 13341,
    "start_time": "2022-08-02T19:14:58.780Z"
   },
   {
    "duration": 1544,
    "start_time": "2022-08-02T19:15:40.062Z"
   },
   {
    "duration": 81,
    "start_time": "2022-08-02T19:15:41.611Z"
   },
   {
    "duration": 98,
    "start_time": "2022-08-02T19:15:41.694Z"
   },
   {
    "duration": 30,
    "start_time": "2022-08-02T19:15:41.795Z"
   },
   {
    "duration": 321,
    "start_time": "2022-08-02T19:15:41.827Z"
   },
   {
    "duration": 11,
    "start_time": "2022-08-02T19:15:42.150Z"
   },
   {
    "duration": 269,
    "start_time": "2022-08-02T19:15:42.164Z"
   },
   {
    "duration": 47,
    "start_time": "2022-08-02T19:15:42.435Z"
   },
   {
    "duration": 69,
    "start_time": "2022-08-02T19:15:42.484Z"
   },
   {
    "duration": 8,
    "start_time": "2022-08-02T19:15:42.556Z"
   },
   {
    "duration": 6,
    "start_time": "2022-08-02T19:15:42.566Z"
   },
   {
    "duration": 231,
    "start_time": "2022-08-02T19:15:42.574Z"
   },
   {
    "duration": 220,
    "start_time": "2022-08-02T19:15:42.807Z"
   },
   {
    "duration": 116,
    "start_time": "2022-08-02T19:15:43.108Z"
   },
   {
    "duration": 13600,
    "start_time": "2022-08-02T19:15:43.226Z"
   },
   {
    "duration": 8,
    "start_time": "2022-08-02T19:15:56.828Z"
   },
   {
    "duration": 216,
    "start_time": "2022-08-02T19:15:56.905Z"
   },
   {
    "duration": 210,
    "start_time": "2022-08-02T19:15:57.123Z"
   },
   {
    "duration": 0,
    "start_time": "2022-08-02T19:15:57.334Z"
   },
   {
    "duration": 1,
    "start_time": "2022-08-02T19:15:57.335Z"
   },
   {
    "duration": 0,
    "start_time": "2022-08-02T19:15:57.337Z"
   },
   {
    "duration": 0,
    "start_time": "2022-08-02T19:15:57.338Z"
   },
   {
    "duration": 0,
    "start_time": "2022-08-02T19:15:57.339Z"
   },
   {
    "duration": 0,
    "start_time": "2022-08-02T19:15:57.340Z"
   },
   {
    "duration": 0,
    "start_time": "2022-08-02T19:15:57.341Z"
   },
   {
    "duration": 192,
    "start_time": "2022-08-02T19:23:52.320Z"
   },
   {
    "duration": 13274,
    "start_time": "2022-08-02T19:32:28.048Z"
   },
   {
    "duration": 74,
    "start_time": "2022-08-02T19:34:47.775Z"
   },
   {
    "duration": 33,
    "start_time": "2022-08-02T19:41:15.791Z"
   },
   {
    "duration": 1437,
    "start_time": "2022-08-02T19:41:49.663Z"
   },
   {
    "duration": 13,
    "start_time": "2022-08-02T19:42:01.323Z"
   },
   {
    "duration": 17,
    "start_time": "2022-08-02T19:44:47.467Z"
   },
   {
    "duration": 15,
    "start_time": "2022-08-02T19:45:10.361Z"
   },
   {
    "duration": 16,
    "start_time": "2022-08-02T19:45:29.068Z"
   },
   {
    "duration": 39,
    "start_time": "2022-08-02T19:45:55.636Z"
   },
   {
    "duration": 14,
    "start_time": "2022-08-02T19:46:33.134Z"
   },
   {
    "duration": 28,
    "start_time": "2022-08-02T19:47:07.556Z"
   },
   {
    "duration": 35,
    "start_time": "2022-08-02T19:47:16.748Z"
   },
   {
    "duration": 14,
    "start_time": "2022-08-02T19:48:00.329Z"
   },
   {
    "duration": 8,
    "start_time": "2022-08-02T19:48:25.268Z"
   },
   {
    "duration": 8,
    "start_time": "2022-08-02T19:49:05.634Z"
   },
   {
    "duration": 16,
    "start_time": "2022-08-02T19:49:10.858Z"
   },
   {
    "duration": 16,
    "start_time": "2022-08-02T19:49:23.669Z"
   },
   {
    "duration": 18,
    "start_time": "2022-08-02T19:49:34.022Z"
   },
   {
    "duration": 226,
    "start_time": "2022-08-02T19:51:15.281Z"
   },
   {
    "duration": 130,
    "start_time": "2022-08-02T19:51:24.694Z"
   },
   {
    "duration": 71,
    "start_time": "2022-08-02T19:51:32.758Z"
   },
   {
    "duration": 175,
    "start_time": "2022-08-02T19:51:39.434Z"
   },
   {
    "duration": 227,
    "start_time": "2022-08-02T19:52:01.285Z"
   },
   {
    "duration": 13127,
    "start_time": "2022-08-02T19:52:33.394Z"
   },
   {
    "duration": 135,
    "start_time": "2022-08-02T19:52:56.878Z"
   },
   {
    "duration": 163,
    "start_time": "2022-08-02T19:54:02.457Z"
   },
   {
    "duration": 27336,
    "start_time": "2022-08-02T19:54:40.792Z"
   },
   {
    "duration": 20,
    "start_time": "2022-08-02T21:12:32.589Z"
   },
   {
    "duration": 18,
    "start_time": "2022-08-02T21:13:22.223Z"
   },
   {
    "duration": 45,
    "start_time": "2022-08-02T21:13:45.007Z"
   },
   {
    "duration": 19,
    "start_time": "2022-08-02T21:13:57.952Z"
   },
   {
    "duration": 24,
    "start_time": "2022-08-02T21:14:32.423Z"
   },
   {
    "duration": 22,
    "start_time": "2022-08-02T21:14:42.084Z"
   },
   {
    "duration": 22,
    "start_time": "2022-08-02T21:15:23.971Z"
   },
   {
    "duration": 1407,
    "start_time": "2022-08-02T21:15:44.094Z"
   },
   {
    "duration": 68,
    "start_time": "2022-08-02T21:15:45.504Z"
   },
   {
    "duration": 73,
    "start_time": "2022-08-02T21:15:45.574Z"
   },
   {
    "duration": 21,
    "start_time": "2022-08-02T21:15:45.649Z"
   },
   {
    "duration": 244,
    "start_time": "2022-08-02T21:15:45.673Z"
   },
   {
    "duration": 6,
    "start_time": "2022-08-02T21:15:45.918Z"
   },
   {
    "duration": 243,
    "start_time": "2022-08-02T21:15:45.926Z"
   },
   {
    "duration": 149,
    "start_time": "2022-08-02T21:15:47.958Z"
   },
   {
    "duration": 12,
    "start_time": "2022-08-02T21:18:23.081Z"
   },
   {
    "duration": 12,
    "start_time": "2022-08-02T21:18:37.465Z"
   },
   {
    "duration": 7,
    "start_time": "2022-08-02T21:18:45.322Z"
   },
   {
    "duration": 7,
    "start_time": "2022-08-02T21:18:57.330Z"
   },
   {
    "duration": 8,
    "start_time": "2022-08-02T21:19:03.322Z"
   },
   {
    "duration": 11,
    "start_time": "2022-08-02T21:19:30.623Z"
   },
   {
    "duration": 22,
    "start_time": "2022-08-02T21:19:58.723Z"
   },
   {
    "duration": 13,
    "start_time": "2022-08-02T21:20:45.692Z"
   },
   {
    "duration": 13,
    "start_time": "2022-08-02T21:20:57.821Z"
   },
   {
    "duration": 12,
    "start_time": "2022-08-02T21:21:03.118Z"
   },
   {
    "duration": 21,
    "start_time": "2022-08-02T21:21:33.174Z"
   },
   {
    "duration": 8,
    "start_time": "2022-08-02T21:21:59.934Z"
   },
   {
    "duration": 15,
    "start_time": "2022-08-02T21:22:06.686Z"
   },
   {
    "duration": 918,
    "start_time": "2022-08-02T21:23:41.728Z"
   },
   {
    "duration": 18,
    "start_time": "2022-08-02T21:24:10.617Z"
   },
   {
    "duration": 18,
    "start_time": "2022-08-02T21:24:36.315Z"
   },
   {
    "duration": 17,
    "start_time": "2022-08-02T21:25:14.913Z"
   },
   {
    "duration": 25,
    "start_time": "2022-08-02T21:32:20.418Z"
   },
   {
    "duration": 90,
    "start_time": "2022-08-02T21:34:55.648Z"
   },
   {
    "duration": 1406,
    "start_time": "2022-08-02T21:36:27.577Z"
   },
   {
    "duration": 70,
    "start_time": "2022-08-02T21:36:28.985Z"
   },
   {
    "duration": 68,
    "start_time": "2022-08-02T21:36:29.057Z"
   },
   {
    "duration": 20,
    "start_time": "2022-08-02T21:36:29.127Z"
   },
   {
    "duration": 245,
    "start_time": "2022-08-02T21:36:29.149Z"
   },
   {
    "duration": 12,
    "start_time": "2022-08-02T21:36:29.395Z"
   },
   {
    "duration": 234,
    "start_time": "2022-08-02T21:36:29.409Z"
   },
   {
    "duration": 50,
    "start_time": "2022-08-02T21:36:29.645Z"
   },
   {
    "duration": 83,
    "start_time": "2022-08-02T21:36:57.925Z"
   },
   {
    "duration": 7,
    "start_time": "2022-08-02T21:37:23.394Z"
   },
   {
    "duration": 6,
    "start_time": "2022-08-02T21:42:21.642Z"
   },
   {
    "duration": 153,
    "start_time": "2022-08-02T21:42:59.255Z"
   },
   {
    "duration": 63,
    "start_time": "2022-08-02T21:43:51.648Z"
   },
   {
    "duration": 27934,
    "start_time": "2022-08-02T21:44:44.270Z"
   },
   {
    "duration": 25731,
    "start_time": "2022-08-02T21:45:36.878Z"
   },
   {
    "duration": 67,
    "start_time": "2022-08-02T21:46:46.143Z"
   },
   {
    "duration": 72,
    "start_time": "2022-08-02T21:46:53.438Z"
   },
   {
    "duration": 73,
    "start_time": "2022-08-02T21:47:01.337Z"
   },
   {
    "duration": 119,
    "start_time": "2022-08-02T21:49:19.931Z"
   },
   {
    "duration": 120,
    "start_time": "2022-08-02T21:49:27.588Z"
   },
   {
    "duration": 109,
    "start_time": "2022-08-02T21:49:37.596Z"
   },
   {
    "duration": 1014,
    "start_time": "2022-08-02T21:50:48.053Z"
   },
   {
    "duration": 1228,
    "start_time": "2022-08-02T21:51:42.438Z"
   },
   {
    "duration": 1261,
    "start_time": "2022-08-02T21:54:14.989Z"
   },
   {
    "duration": 70509,
    "start_time": "2022-08-02T21:55:20.770Z"
   },
   {
    "duration": 9344,
    "start_time": "2022-08-02T21:56:52.967Z"
   },
   {
    "duration": 6,
    "start_time": "2022-08-02T21:57:08.822Z"
   },
   {
    "duration": 62,
    "start_time": "2022-08-02T21:57:23.224Z"
   },
   {
    "duration": 61,
    "start_time": "2022-08-02T21:58:45.525Z"
   },
   {
    "duration": 70761,
    "start_time": "2022-08-02T22:00:27.863Z"
   },
   {
    "duration": 71118,
    "start_time": "2022-08-02T22:01:54.205Z"
   },
   {
    "duration": 9367,
    "start_time": "2022-08-02T22:03:35.561Z"
   },
   {
    "duration": 11013,
    "start_time": "2022-08-02T22:03:58.692Z"
   },
   {
    "duration": 63,
    "start_time": "2022-08-02T22:04:28.824Z"
   },
   {
    "duration": 71648,
    "start_time": "2022-08-02T22:13:18.956Z"
   },
   {
    "duration": 11297,
    "start_time": "2022-08-02T22:17:47.108Z"
   },
   {
    "duration": 7227,
    "start_time": "2022-08-02T22:20:22.517Z"
   },
   {
    "duration": 1656,
    "start_time": "2022-08-03T14:42:05.723Z"
   },
   {
    "duration": 139,
    "start_time": "2022-08-03T14:42:07.381Z"
   },
   {
    "duration": 86,
    "start_time": "2022-08-03T14:42:07.522Z"
   },
   {
    "duration": 24,
    "start_time": "2022-08-03T14:42:07.621Z"
   },
   {
    "duration": 234,
    "start_time": "2022-08-03T14:42:07.647Z"
   },
   {
    "duration": 6,
    "start_time": "2022-08-03T14:42:07.883Z"
   },
   {
    "duration": 293,
    "start_time": "2022-08-03T14:42:07.902Z"
   },
   {
    "duration": 45,
    "start_time": "2022-08-03T14:42:15.130Z"
   },
   {
    "duration": 7,
    "start_time": "2022-08-03T14:44:02.654Z"
   },
   {
    "duration": 175,
    "start_time": "2022-08-03T14:44:19.182Z"
   },
   {
    "duration": 28,
    "start_time": "2022-08-03T14:44:35.324Z"
   },
   {
    "duration": 66,
    "start_time": "2022-08-03T14:45:42.122Z"
   },
   {
    "duration": 5,
    "start_time": "2022-08-03T14:46:09.374Z"
   },
   {
    "duration": 5,
    "start_time": "2022-08-03T14:47:19.461Z"
   },
   {
    "duration": 104,
    "start_time": "2022-08-03T14:47:29.232Z"
   },
   {
    "duration": 102,
    "start_time": "2022-08-03T14:48:17.034Z"
   },
   {
    "duration": 93,
    "start_time": "2022-08-03T14:48:44.337Z"
   },
   {
    "duration": 20914,
    "start_time": "2022-08-03T14:57:19.231Z"
   },
   {
    "duration": 1262,
    "start_time": "2022-08-03T15:02:54.494Z"
   },
   {
    "duration": 66462,
    "start_time": "2022-08-03T15:03:23.282Z"
   },
   {
    "duration": 1487,
    "start_time": "2022-08-03T15:08:42.872Z"
   },
   {
    "duration": 97,
    "start_time": "2022-08-03T15:08:44.361Z"
   },
   {
    "duration": 95,
    "start_time": "2022-08-03T15:08:44.460Z"
   },
   {
    "duration": 25,
    "start_time": "2022-08-03T15:08:44.558Z"
   },
   {
    "duration": 324,
    "start_time": "2022-08-03T15:08:44.586Z"
   },
   {
    "duration": 7,
    "start_time": "2022-08-03T15:08:44.911Z"
   },
   {
    "duration": 304,
    "start_time": "2022-08-03T15:08:44.919Z"
   },
   {
    "duration": 57,
    "start_time": "2022-08-03T15:08:45.224Z"
   },
   {
    "duration": 78,
    "start_time": "2022-08-03T15:08:45.282Z"
   },
   {
    "duration": 7,
    "start_time": "2022-08-03T15:08:45.362Z"
   },
   {
    "duration": 50,
    "start_time": "2022-08-03T15:08:45.370Z"
   },
   {
    "duration": 102,
    "start_time": "2022-08-03T15:08:45.422Z"
   },
   {
    "duration": 205,
    "start_time": "2022-08-03T15:08:45.527Z"
   },
   {
    "duration": 21176,
    "start_time": "2022-08-03T15:08:45.737Z"
   },
   {
    "duration": 188,
    "start_time": "2022-08-03T15:09:06.923Z"
   },
   {
    "duration": 218,
    "start_time": "2022-08-03T15:09:07.116Z"
   },
   {
    "duration": 1328,
    "start_time": "2022-08-03T15:09:07.336Z"
   },
   {
    "duration": 65130,
    "start_time": "2022-08-03T15:09:08.666Z"
   },
   {
    "duration": 35692,
    "start_time": "2022-08-03T15:10:26.638Z"
   },
   {
    "duration": 6,
    "start_time": "2022-08-03T15:11:30.458Z"
   },
   {
    "duration": 174,
    "start_time": "2022-08-03T15:12:24.971Z"
   },
   {
    "duration": 3145,
    "start_time": "2022-08-03T15:12:34.051Z"
   },
   {
    "duration": 50,
    "start_time": "2022-08-03T15:15:11.191Z"
   },
   {
    "duration": 87,
    "start_time": "2022-08-03T15:16:26.033Z"
   },
   {
    "duration": 62,
    "start_time": "2022-08-03T15:16:59.773Z"
   },
   {
    "duration": 33,
    "start_time": "2022-08-03T15:17:03.052Z"
   },
   {
    "duration": 39,
    "start_time": "2022-08-03T15:17:05.637Z"
   },
   {
    "duration": 38,
    "start_time": "2022-08-03T15:25:00.389Z"
   },
   {
    "duration": 100,
    "start_time": "2022-08-03T15:25:06.141Z"
   },
   {
    "duration": 23,
    "start_time": "2022-08-03T15:25:26.223Z"
   },
   {
    "duration": 655,
    "start_time": "2022-08-03T15:25:50.037Z"
   },
   {
    "duration": 49,
    "start_time": "2022-08-03T15:26:01.589Z"
   },
   {
    "duration": 84,
    "start_time": "2022-08-03T15:26:06.935Z"
   },
   {
    "duration": 55,
    "start_time": "2022-08-03T15:26:35.789Z"
   },
   {
    "duration": 36,
    "start_time": "2022-08-03T15:26:39.033Z"
   },
   {
    "duration": 63,
    "start_time": "2022-08-03T15:26:41.370Z"
   },
   {
    "duration": 51,
    "start_time": "2022-08-03T15:26:45.790Z"
   },
   {
    "duration": 34,
    "start_time": "2022-08-03T15:26:49.248Z"
   },
   {
    "duration": 38,
    "start_time": "2022-08-03T15:26:52.732Z"
   },
   {
    "duration": 35,
    "start_time": "2022-08-03T15:26:57.234Z"
   },
   {
    "duration": 51,
    "start_time": "2022-08-03T15:27:01.089Z"
   },
   {
    "duration": 39,
    "start_time": "2022-08-03T15:27:07.930Z"
   },
   {
    "duration": 38,
    "start_time": "2022-08-03T15:27:16.825Z"
   },
   {
    "duration": 82,
    "start_time": "2022-08-03T15:27:31.862Z"
   },
   {
    "duration": 1665,
    "start_time": "2022-08-03T15:28:43.631Z"
   },
   {
    "duration": 84,
    "start_time": "2022-08-03T15:28:45.300Z"
   },
   {
    "duration": 91,
    "start_time": "2022-08-03T15:28:45.386Z"
   },
   {
    "duration": 55,
    "start_time": "2022-08-03T15:28:45.480Z"
   },
   {
    "duration": 242,
    "start_time": "2022-08-03T15:28:45.537Z"
   },
   {
    "duration": 7,
    "start_time": "2022-08-03T15:28:45.781Z"
   },
   {
    "duration": 274,
    "start_time": "2022-08-03T15:28:45.789Z"
   },
   {
    "duration": 67,
    "start_time": "2022-08-03T15:28:46.065Z"
   },
   {
    "duration": 104,
    "start_time": "2022-08-03T15:28:46.134Z"
   },
   {
    "duration": 5,
    "start_time": "2022-08-03T15:28:46.242Z"
   },
   {
    "duration": 5,
    "start_time": "2022-08-03T15:28:46.249Z"
   },
   {
    "duration": 76,
    "start_time": "2022-08-03T15:28:46.256Z"
   },
   {
    "duration": 211,
    "start_time": "2022-08-03T15:28:46.333Z"
   },
   {
    "duration": 20738,
    "start_time": "2022-08-03T15:28:46.605Z"
   },
   {
    "duration": 200,
    "start_time": "2022-08-03T15:29:07.404Z"
   },
   {
    "duration": 223,
    "start_time": "2022-08-03T15:29:07.609Z"
   },
   {
    "duration": 1263,
    "start_time": "2022-08-03T15:29:07.833Z"
   },
   {
    "duration": 66631,
    "start_time": "2022-08-03T15:29:09.097Z"
   },
   {
    "duration": 38100,
    "start_time": "2022-08-03T15:30:15.741Z"
   },
   {
    "duration": 27,
    "start_time": "2022-08-03T15:30:53.904Z"
   },
   {
    "duration": 3224,
    "start_time": "2022-08-03T15:30:53.933Z"
   },
   {
    "duration": 3,
    "start_time": "2022-08-03T15:30:57.159Z"
   },
   {
    "duration": 43,
    "start_time": "2022-08-03T15:30:57.164Z"
   },
   {
    "duration": 74,
    "start_time": "2022-08-03T15:30:57.208Z"
   },
   {
    "duration": 665,
    "start_time": "2022-08-03T15:31:26.270Z"
   },
   {
    "duration": 35,
    "start_time": "2022-08-03T15:31:34.031Z"
   },
   {
    "duration": 69,
    "start_time": "2022-08-03T15:31:35.625Z"
   },
   {
    "duration": 83156,
    "start_time": "2022-08-03T15:35:14.978Z"
   },
   {
    "duration": 3191,
    "start_time": "2022-08-03T16:16:16.057Z"
   },
   {
    "duration": 1168,
    "start_time": "2022-08-03T16:18:16.586Z"
   },
   {
    "duration": 84013,
    "start_time": "2022-08-03T16:18:44.166Z"
   },
   {
    "duration": 30825,
    "start_time": "2022-08-03T16:20:55.325Z"
   },
   {
    "duration": 6,
    "start_time": "2022-08-03T16:21:40.344Z"
   },
   {
    "duration": 64,
    "start_time": "2022-08-03T16:22:15.874Z"
   },
   {
    "duration": 83,
    "start_time": "2022-08-03T16:22:33.054Z"
   },
   {
    "duration": 106,
    "start_time": "2022-08-03T16:22:41.458Z"
   },
   {
    "duration": 49,
    "start_time": "2022-08-03T16:22:56.733Z"
   },
   {
    "duration": 51,
    "start_time": "2022-08-03T16:23:02.642Z"
   },
   {
    "duration": 79,
    "start_time": "2022-08-03T16:23:06.354Z"
   },
   {
    "duration": 51,
    "start_time": "2022-08-03T16:23:10.525Z"
   },
   {
    "duration": 52,
    "start_time": "2022-08-03T16:23:45.421Z"
   },
   {
    "duration": 48,
    "start_time": "2022-08-03T16:23:48.122Z"
   },
   {
    "duration": 104,
    "start_time": "2022-08-03T16:23:57.721Z"
   },
   {
    "duration": 5,
    "start_time": "2022-08-03T16:32:25.030Z"
   },
   {
    "duration": 263,
    "start_time": "2022-08-03T16:35:32.953Z"
   },
   {
    "duration": 6,
    "start_time": "2022-08-03T16:35:47.993Z"
   },
   {
    "duration": 27,
    "start_time": "2022-08-03T16:35:53.022Z"
   },
   {
    "duration": 66,
    "start_time": "2022-08-03T16:36:25.934Z"
   },
   {
    "duration": 55,
    "start_time": "2022-08-03T16:38:06.545Z"
   },
   {
    "duration": 20,
    "start_time": "2022-08-03T16:38:30.946Z"
   },
   {
    "duration": 187,
    "start_time": "2022-08-03T16:38:47.325Z"
   },
   {
    "duration": 19,
    "start_time": "2022-08-03T16:38:53.557Z"
   },
   {
    "duration": 21,
    "start_time": "2022-08-03T16:39:06.126Z"
   },
   {
    "duration": 22,
    "start_time": "2022-08-03T16:39:29.226Z"
   },
   {
    "duration": 44,
    "start_time": "2022-08-03T16:39:35.186Z"
   },
   {
    "duration": 22,
    "start_time": "2022-08-03T16:39:41.948Z"
   },
   {
    "duration": 21,
    "start_time": "2022-08-03T16:39:48.421Z"
   },
   {
    "duration": 100,
    "start_time": "2022-08-03T16:41:01.420Z"
   },
   {
    "duration": 453,
    "start_time": "2022-08-03T16:41:14.487Z"
   },
   {
    "duration": 29,
    "start_time": "2022-08-03T16:44:23.155Z"
   },
   {
    "duration": 118,
    "start_time": "2022-08-03T16:44:39.696Z"
   },
   {
    "duration": 1484,
    "start_time": "2022-08-03T16:46:03.416Z"
   },
   {
    "duration": 3050,
    "start_time": "2022-08-03T16:50:10.167Z"
   },
   {
    "duration": 1537,
    "start_time": "2022-08-03T16:50:13.220Z"
   },
   {
    "duration": 3073,
    "start_time": "2022-08-03T16:50:25.526Z"
   },
   {
    "duration": 1428,
    "start_time": "2022-08-03T16:50:37.196Z"
   },
   {
    "duration": 1436,
    "start_time": "2022-08-03T16:53:07.492Z"
   },
   {
    "duration": 27,
    "start_time": "2022-08-03T16:53:12.314Z"
   },
   {
    "duration": 1425,
    "start_time": "2022-08-03T16:53:18.491Z"
   },
   {
    "duration": 20,
    "start_time": "2022-08-03T17:36:02.745Z"
   },
   {
    "duration": 131,
    "start_time": "2022-08-03T17:36:27.196Z"
   },
   {
    "duration": 11,
    "start_time": "2022-08-03T17:36:33.126Z"
   },
   {
    "duration": 5,
    "start_time": "2022-08-03T17:36:50.589Z"
   },
   {
    "duration": 11,
    "start_time": "2022-08-03T17:37:05.521Z"
   },
   {
    "duration": 7,
    "start_time": "2022-08-03T17:37:12.148Z"
   },
   {
    "duration": 12,
    "start_time": "2022-08-03T17:37:21.562Z"
   },
   {
    "duration": 127,
    "start_time": "2022-08-03T17:37:26.131Z"
   },
   {
    "duration": 6,
    "start_time": "2022-08-03T17:46:20.087Z"
   },
   {
    "duration": 5,
    "start_time": "2022-08-03T17:47:11.284Z"
   },
   {
    "duration": 264,
    "start_time": "2022-08-03T17:47:18.623Z"
   },
   {
    "duration": 1388,
    "start_time": "2022-08-03T17:48:19.557Z"
   },
   {
    "duration": 79,
    "start_time": "2022-08-03T17:48:20.947Z"
   },
   {
    "duration": 65,
    "start_time": "2022-08-03T17:48:21.028Z"
   },
   {
    "duration": 37,
    "start_time": "2022-08-03T17:48:21.095Z"
   },
   {
    "duration": 250,
    "start_time": "2022-08-03T17:48:21.134Z"
   },
   {
    "duration": 10,
    "start_time": "2022-08-03T17:48:24.370Z"
   },
   {
    "duration": 253,
    "start_time": "2022-08-03T17:48:26.623Z"
   },
   {
    "duration": 1454,
    "start_time": "2022-08-03T17:54:39.481Z"
   },
   {
    "duration": 82,
    "start_time": "2022-08-03T17:54:40.937Z"
   },
   {
    "duration": 70,
    "start_time": "2022-08-03T17:54:41.021Z"
   },
   {
    "duration": 13,
    "start_time": "2022-08-03T17:54:42.426Z"
   },
   {
    "duration": 21,
    "start_time": "2022-08-03T17:54:51.723Z"
   },
   {
    "duration": 31,
    "start_time": "2022-08-03T17:54:55.993Z"
   },
   {
    "duration": 244,
    "start_time": "2022-08-03T17:55:02.924Z"
   },
   {
    "duration": 7,
    "start_time": "2022-08-03T17:55:09.882Z"
   },
   {
    "duration": 262,
    "start_time": "2022-08-03T17:55:13.561Z"
   },
   {
    "duration": 16,
    "start_time": "2022-08-03T17:55:40.429Z"
   },
   {
    "duration": 218,
    "start_time": "2022-08-03T17:55:47.641Z"
   },
   {
    "duration": 4,
    "start_time": "2022-08-03T17:56:25.488Z"
   },
   {
    "duration": 219,
    "start_time": "2022-08-03T17:56:35.869Z"
   },
   {
    "duration": 238,
    "start_time": "2022-08-03T17:56:41.242Z"
   },
   {
    "duration": 278,
    "start_time": "2022-08-03T17:56:51.789Z"
   },
   {
    "duration": 8,
    "start_time": "2022-08-03T17:57:04.121Z"
   },
   {
    "duration": 7,
    "start_time": "2022-08-03T17:57:06.640Z"
   },
   {
    "duration": 37,
    "start_time": "2022-08-03T17:57:20.193Z"
   },
   {
    "duration": 36,
    "start_time": "2022-08-03T17:57:25.224Z"
   },
   {
    "duration": 24,
    "start_time": "2022-08-03T17:58:33.340Z"
   },
   {
    "duration": 101,
    "start_time": "2022-08-03T17:58:58.865Z"
   },
   {
    "duration": 7,
    "start_time": "2022-08-03T17:59:13.090Z"
   },
   {
    "duration": 6,
    "start_time": "2022-08-03T17:59:19.929Z"
   },
   {
    "duration": 117,
    "start_time": "2022-08-03T17:59:25.212Z"
   },
   {
    "duration": 72,
    "start_time": "2022-08-03T18:00:45.856Z"
   },
   {
    "duration": 24932,
    "start_time": "2022-08-03T18:01:15.592Z"
   },
   {
    "duration": 120,
    "start_time": "2022-08-03T18:02:03.590Z"
   },
   {
    "duration": 144,
    "start_time": "2022-08-03T18:02:20.362Z"
   },
   {
    "duration": 2840,
    "start_time": "2022-08-03T18:02:24.580Z"
   },
   {
    "duration": 1148,
    "start_time": "2022-08-03T18:02:42.278Z"
   },
   {
    "duration": 70392,
    "start_time": "2022-08-03T18:02:47.285Z"
   },
   {
    "duration": 68695,
    "start_time": "2022-08-03T18:05:12.229Z"
   },
   {
    "duration": 77,
    "start_time": "2022-08-03T18:07:36.858Z"
   },
   {
    "duration": 45,
    "start_time": "2022-08-03T18:08:28.215Z"
   },
   {
    "duration": 37,
    "start_time": "2022-08-03T18:09:18.657Z"
   },
   {
    "duration": 55824,
    "start_time": "2022-08-03T18:10:00.187Z"
   },
   {
    "duration": 82,
    "start_time": "2022-08-03T18:11:23.526Z"
   },
   {
    "duration": 3348,
    "start_time": "2022-08-03T18:12:05.924Z"
   },
   {
    "duration": 60,
    "start_time": "2022-08-03T18:12:23.358Z"
   },
   {
    "duration": 51,
    "start_time": "2022-08-03T18:12:31.969Z"
   },
   {
    "duration": 92,
    "start_time": "2022-08-03T18:12:45.077Z"
   },
   {
    "duration": 79,
    "start_time": "2022-08-03T18:18:37.558Z"
   },
   {
    "duration": 143,
    "start_time": "2022-08-03T18:19:01.825Z"
   },
   {
    "duration": 156,
    "start_time": "2022-08-03T18:19:12.860Z"
   },
   {
    "duration": 5,
    "start_time": "2022-08-03T18:19:20.286Z"
   },
   {
    "duration": 102,
    "start_time": "2022-08-03T18:19:25.626Z"
   },
   {
    "duration": 92,
    "start_time": "2022-08-03T18:19:35.137Z"
   },
   {
    "duration": 91,
    "start_time": "2022-08-03T18:19:39.538Z"
   },
   {
    "duration": 82,
    "start_time": "2022-08-03T18:19:47.638Z"
   },
   {
    "duration": 48,
    "start_time": "2022-08-03T18:20:14.530Z"
   },
   {
    "duration": 77693,
    "start_time": "2022-08-03T18:22:04.447Z"
   },
   {
    "duration": 1759,
    "start_time": "2022-08-03T19:05:48.726Z"
   },
   {
    "duration": 99,
    "start_time": "2022-08-03T19:05:50.775Z"
   },
   {
    "duration": 6,
    "start_time": "2022-08-03T19:06:09.189Z"
   },
   {
    "duration": 98,
    "start_time": "2022-08-03T19:06:11.596Z"
   },
   {
    "duration": 88,
    "start_time": "2022-08-03T19:06:15.070Z"
   },
   {
    "duration": 13,
    "start_time": "2022-08-03T19:06:23.843Z"
   },
   {
    "duration": 17,
    "start_time": "2022-08-03T19:06:31.321Z"
   },
   {
    "duration": 255,
    "start_time": "2022-08-03T19:06:34.986Z"
   },
   {
    "duration": 59,
    "start_time": "2022-08-03T19:07:27.175Z"
   },
   {
    "duration": 20,
    "start_time": "2022-08-03T19:08:06.140Z"
   },
   {
    "duration": 3680,
    "start_time": "2022-08-03T19:08:30.128Z"
   },
   {
    "duration": 25,
    "start_time": "2022-08-03T19:08:47.021Z"
   },
   {
    "duration": 8,
    "start_time": "2022-08-03T19:08:50.689Z"
   },
   {
    "duration": 1508,
    "start_time": "2022-08-03T19:09:17.622Z"
   },
   {
    "duration": 7,
    "start_time": "2022-08-03T19:10:31.778Z"
   },
   {
    "duration": 4,
    "start_time": "2022-08-03T19:19:23.415Z"
   },
   {
    "duration": 7,
    "start_time": "2022-08-03T19:19:25.660Z"
   },
   {
    "duration": 331,
    "start_time": "2022-08-03T19:19:49.650Z"
   },
   {
    "duration": 7,
    "start_time": "2022-08-03T19:20:42.951Z"
   },
   {
    "duration": 1827,
    "start_time": "2022-08-03T19:22:41.995Z"
   },
   {
    "duration": 109,
    "start_time": "2022-08-03T19:22:43.824Z"
   },
   {
    "duration": 128,
    "start_time": "2022-08-03T19:22:43.934Z"
   },
   {
    "duration": 19,
    "start_time": "2022-08-03T19:22:44.065Z"
   },
   {
    "duration": 18,
    "start_time": "2022-08-03T19:22:44.087Z"
   },
   {
    "duration": 357,
    "start_time": "2022-08-03T19:22:44.107Z"
   },
   {
    "duration": 3,
    "start_time": "2022-08-03T19:22:44.466Z"
   },
   {
    "duration": 192,
    "start_time": "2022-08-03T19:22:44.471Z"
   },
   {
    "duration": 0,
    "start_time": "2022-08-03T19:22:44.664Z"
   },
   {
    "duration": 4,
    "start_time": "2022-08-03T19:22:59.350Z"
   },
   {
    "duration": 27,
    "start_time": "2022-08-03T19:23:01.722Z"
   },
   {
    "duration": 2452,
    "start_time": "2022-08-03T19:23:06.550Z"
   },
   {
    "duration": 8,
    "start_time": "2022-08-03T19:23:11.576Z"
   },
   {
    "duration": 58,
    "start_time": "2022-08-03T19:23:34.974Z"
   },
   {
    "duration": 120,
    "start_time": "2022-08-03T19:23:45.420Z"
   },
   {
    "duration": 8,
    "start_time": "2022-08-03T19:23:49.642Z"
   },
   {
    "duration": 8,
    "start_time": "2022-08-03T19:23:51.962Z"
   },
   {
    "duration": 28,
    "start_time": "2022-08-03T19:23:53.839Z"
   },
   {
    "duration": 39,
    "start_time": "2022-08-03T19:24:42.073Z"
   },
   {
    "duration": 33,
    "start_time": "2022-08-03T19:24:49.537Z"
   },
   {
    "duration": 94,
    "start_time": "2022-08-03T19:25:00.149Z"
   },
   {
    "duration": 6,
    "start_time": "2022-08-03T19:25:07.141Z"
   },
   {
    "duration": 9,
    "start_time": "2022-08-03T19:25:17.664Z"
   },
   {
    "duration": 32,
    "start_time": "2022-08-03T19:25:19.559Z"
   },
   {
    "duration": 85,
    "start_time": "2022-08-03T19:25:37.440Z"
   },
   {
    "duration": 22505,
    "start_time": "2022-08-03T19:25:43.910Z"
   },
   {
    "duration": 116673,
    "start_time": "2022-08-03T19:26:20.429Z"
   },
   {
    "duration": 3734,
    "start_time": "2022-08-03T19:28:47.974Z"
   },
   {
    "duration": 103898,
    "start_time": "2022-08-03T19:29:04.670Z"
   },
   {
    "duration": 129951,
    "start_time": "2022-08-03T19:31:30.085Z"
   },
   {
    "duration": 154338,
    "start_time": "2022-08-03T19:34:42.086Z"
   },
   {
    "duration": 4753,
    "start_time": "2022-08-03T19:37:41.381Z"
   },
   {
    "duration": 77,
    "start_time": "2022-08-03T19:38:12.756Z"
   },
   {
    "duration": 80,
    "start_time": "2022-08-03T19:38:20.952Z"
   },
   {
    "duration": 1505,
    "start_time": "2022-08-03T19:39:21.868Z"
   },
   {
    "duration": 186424,
    "start_time": "2022-08-03T19:39:44.943Z"
   },
   {
    "duration": 234663,
    "start_time": "2022-08-03T19:43:32.073Z"
   },
   {
    "duration": 6386,
    "start_time": "2022-08-03T19:48:29.441Z"
   },
   {
    "duration": 86,
    "start_time": "2022-08-03T19:49:00.359Z"
   },
   {
    "duration": 98,
    "start_time": "2022-08-03T19:49:14.347Z"
   },
   {
    "duration": 12,
    "start_time": "2022-08-03T19:50:54.338Z"
   },
   {
    "duration": 19167,
    "start_time": "2022-08-03T19:51:35.045Z"
   },
   {
    "duration": 93,
    "start_time": "2022-08-03T19:52:25.175Z"
   },
   {
    "duration": 83,
    "start_time": "2022-08-03T19:52:31.341Z"
   },
   {
    "duration": 3862,
    "start_time": "2022-08-03T19:58:38.385Z"
   },
   {
    "duration": 96,
    "start_time": "2022-08-03T20:00:21.924Z"
   },
   {
    "duration": 1651,
    "start_time": "2022-08-04T15:17:23.485Z"
   },
   {
    "duration": 1441,
    "start_time": "2022-08-04T15:17:32.926Z"
   },
   {
    "duration": 113,
    "start_time": "2022-08-04T15:17:37.505Z"
   },
   {
    "duration": 74,
    "start_time": "2022-08-04T15:17:44.053Z"
   },
   {
    "duration": 14,
    "start_time": "2022-08-04T15:20:23.145Z"
   },
   {
    "duration": 17,
    "start_time": "2022-08-04T15:20:32.126Z"
   },
   {
    "duration": 248,
    "start_time": "2022-08-04T15:20:35.328Z"
   },
   {
    "duration": 27,
    "start_time": "2022-08-04T15:29:02.997Z"
   },
   {
    "duration": 384,
    "start_time": "2022-08-04T15:29:23.145Z"
   },
   {
    "duration": 21,
    "start_time": "2022-08-04T15:32:19.057Z"
   },
   {
    "duration": 21,
    "start_time": "2022-08-04T15:32:31.096Z"
   },
   {
    "duration": 18,
    "start_time": "2022-08-04T15:32:53.205Z"
   },
   {
    "duration": 18,
    "start_time": "2022-08-04T15:35:13.532Z"
   },
   {
    "duration": 21,
    "start_time": "2022-08-04T15:38:03.420Z"
   },
   {
    "duration": 31,
    "start_time": "2022-08-04T15:38:09.676Z"
   },
   {
    "duration": 1520,
    "start_time": "2022-08-04T15:43:27.257Z"
   },
   {
    "duration": 74,
    "start_time": "2022-08-04T15:43:28.779Z"
   },
   {
    "duration": 101,
    "start_time": "2022-08-04T15:43:28.854Z"
   },
   {
    "duration": 20,
    "start_time": "2022-08-04T15:43:28.957Z"
   },
   {
    "duration": 36,
    "start_time": "2022-08-04T15:43:28.982Z"
   },
   {
    "duration": 282,
    "start_time": "2022-08-04T15:43:29.020Z"
   },
   {
    "duration": 33,
    "start_time": "2022-08-04T15:43:29.304Z"
   },
   {
    "duration": 136,
    "start_time": "2022-08-04T15:43:33.895Z"
   },
   {
    "duration": 21,
    "start_time": "2022-08-04T15:45:32.236Z"
   },
   {
    "duration": 2287,
    "start_time": "2022-08-04T15:46:04.820Z"
   },
   {
    "duration": 37,
    "start_time": "2022-08-04T15:48:33.284Z"
   },
   {
    "duration": 25,
    "start_time": "2022-08-04T15:48:55.344Z"
   },
   {
    "duration": 79,
    "start_time": "2022-08-04T15:49:38.624Z"
   },
   {
    "duration": 7,
    "start_time": "2022-08-04T15:51:35.175Z"
   },
   {
    "duration": 5,
    "start_time": "2022-08-04T15:52:01.624Z"
   },
   {
    "duration": 111,
    "start_time": "2022-08-04T15:52:10.696Z"
   },
   {
    "duration": 6,
    "start_time": "2022-08-04T16:00:49.348Z"
   },
   {
    "duration": 169,
    "start_time": "2022-08-04T16:01:06.740Z"
   },
   {
    "duration": 6,
    "start_time": "2022-08-04T16:01:46.388Z"
   },
   {
    "duration": 42,
    "start_time": "2022-08-04T16:01:46.961Z"
   },
   {
    "duration": 92,
    "start_time": "2022-08-04T16:02:39.018Z"
   },
   {
    "duration": 5,
    "start_time": "2022-08-04T16:09:03.313Z"
   },
   {
    "duration": 61,
    "start_time": "2022-08-04T16:09:03.402Z"
   },
   {
    "duration": 68,
    "start_time": "2022-08-04T16:09:03.465Z"
   },
   {
    "duration": 13,
    "start_time": "2022-08-04T16:09:03.534Z"
   },
   {
    "duration": 17,
    "start_time": "2022-08-04T16:09:03.549Z"
   },
   {
    "duration": 256,
    "start_time": "2022-08-04T16:09:03.568Z"
   },
   {
    "duration": 31,
    "start_time": "2022-08-04T16:09:03.826Z"
   },
   {
    "duration": 19,
    "start_time": "2022-08-04T16:09:03.859Z"
   },
   {
    "duration": 1410,
    "start_time": "2022-08-04T16:09:03.902Z"
   },
   {
    "duration": 204,
    "start_time": "2022-08-04T16:09:05.313Z"
   },
   {
    "duration": 101,
    "start_time": "2022-08-04T16:09:05.519Z"
   },
   {
    "duration": 8,
    "start_time": "2022-08-04T16:09:05.622Z"
   },
   {
    "duration": 11,
    "start_time": "2022-08-04T16:09:05.632Z"
   },
   {
    "duration": 65,
    "start_time": "2022-08-04T16:09:05.644Z"
   },
   {
    "duration": 197,
    "start_time": "2022-08-04T16:09:05.710Z"
   },
   {
    "duration": 134764,
    "start_time": "2022-08-04T16:09:08.449Z"
   },
   {
    "duration": 58,
    "start_time": "2022-08-05T13:25:23.673Z"
   },
   {
    "duration": 1511,
    "start_time": "2022-08-05T13:25:43.586Z"
   },
   {
    "duration": 172,
    "start_time": "2022-08-05T13:25:45.099Z"
   },
   {
    "duration": 61,
    "start_time": "2022-08-05T13:25:45.272Z"
   },
   {
    "duration": 23,
    "start_time": "2022-08-05T13:25:45.335Z"
   },
   {
    "duration": 21,
    "start_time": "2022-08-05T13:25:45.359Z"
   },
   {
    "duration": 205,
    "start_time": "2022-08-05T13:25:45.382Z"
   },
   {
    "duration": 26,
    "start_time": "2022-08-05T13:25:45.588Z"
   },
   {
    "duration": 16,
    "start_time": "2022-08-05T13:25:45.616Z"
   },
   {
    "duration": 1422,
    "start_time": "2022-08-05T13:25:45.634Z"
   },
   {
    "duration": 104,
    "start_time": "2022-08-05T13:25:47.061Z"
   },
   {
    "duration": 67,
    "start_time": "2022-08-05T13:25:47.166Z"
   },
   {
    "duration": 6,
    "start_time": "2022-08-05T13:25:47.256Z"
   },
   {
    "duration": 9,
    "start_time": "2022-08-05T13:25:47.264Z"
   },
   {
    "duration": 84,
    "start_time": "2022-08-05T13:25:47.275Z"
   },
   {
    "duration": 198,
    "start_time": "2022-08-05T13:25:47.360Z"
   },
   {
    "duration": 116498,
    "start_time": "2022-08-05T13:25:47.560Z"
   },
   {
    "duration": 120,
    "start_time": "2022-08-05T13:27:44.063Z"
   },
   {
    "duration": 24,
    "start_time": "2022-08-05T13:36:16.715Z"
   },
   {
    "duration": 2870,
    "start_time": "2022-08-05T13:37:15.287Z"
   },
   {
    "duration": 184334,
    "start_time": "2022-08-05T13:57:14.575Z"
   },
   {
    "duration": 76,
    "start_time": "2022-08-05T14:01:11.847Z"
   },
   {
    "duration": 147012,
    "start_time": "2022-08-05T14:01:32.743Z"
   },
   {
    "duration": 3575,
    "start_time": "2022-08-05T14:05:22.508Z"
   },
   {
    "duration": 45,
    "start_time": "2022-08-05T14:05:39.548Z"
   },
   {
    "duration": 51,
    "start_time": "2022-08-05T14:07:29.108Z"
   },
   {
    "duration": 750,
    "start_time": "2022-08-05T14:31:11.325Z"
   },
   {
    "duration": 709,
    "start_time": "2022-08-05T14:31:40.635Z"
   },
   {
    "duration": 134524,
    "start_time": "2022-08-05T14:33:54.396Z"
   },
   {
    "duration": 8829,
    "start_time": "2022-08-05T14:39:02.335Z"
   },
   {
    "duration": 5,
    "start_time": "2022-08-05T14:40:25.042Z"
   },
   {
    "duration": 86,
    "start_time": "2022-08-05T14:50:39.587Z"
   },
   {
    "duration": 81,
    "start_time": "2022-08-05T15:01:27.307Z"
   },
   {
    "duration": 72,
    "start_time": "2022-08-05T15:02:14.768Z"
   },
   {
    "duration": 3596,
    "start_time": "2022-08-05T15:07:43.994Z"
   },
   {
    "duration": 3387,
    "start_time": "2022-08-05T15:08:27.755Z"
   },
   {
    "duration": 3422,
    "start_time": "2022-08-05T15:09:50.315Z"
   },
   {
    "duration": 1400,
    "start_time": "2022-08-05T15:43:23.971Z"
   },
   {
    "duration": 0,
    "start_time": "2022-08-05T15:43:25.374Z"
   },
   {
    "duration": 0,
    "start_time": "2022-08-05T15:43:25.374Z"
   },
   {
    "duration": 0,
    "start_time": "2022-08-05T15:43:25.375Z"
   },
   {
    "duration": 0,
    "start_time": "2022-08-05T15:43:25.376Z"
   },
   {
    "duration": 0,
    "start_time": "2022-08-05T15:43:25.377Z"
   },
   {
    "duration": 0,
    "start_time": "2022-08-05T15:43:25.378Z"
   },
   {
    "duration": 0,
    "start_time": "2022-08-05T15:43:25.380Z"
   },
   {
    "duration": 0,
    "start_time": "2022-08-05T15:43:25.381Z"
   },
   {
    "duration": 0,
    "start_time": "2022-08-05T15:43:25.382Z"
   },
   {
    "duration": 0,
    "start_time": "2022-08-05T15:43:25.383Z"
   },
   {
    "duration": 0,
    "start_time": "2022-08-05T15:43:25.384Z"
   },
   {
    "duration": 1,
    "start_time": "2022-08-05T15:43:25.384Z"
   },
   {
    "duration": 0,
    "start_time": "2022-08-05T15:43:25.386Z"
   },
   {
    "duration": 0,
    "start_time": "2022-08-05T15:43:25.387Z"
   },
   {
    "duration": 0,
    "start_time": "2022-08-05T15:43:25.388Z"
   },
   {
    "duration": 0,
    "start_time": "2022-08-05T15:43:25.388Z"
   },
   {
    "duration": 0,
    "start_time": "2022-08-05T15:43:25.389Z"
   },
   {
    "duration": 0,
    "start_time": "2022-08-05T15:43:25.391Z"
   },
   {
    "duration": 0,
    "start_time": "2022-08-05T15:43:25.391Z"
   },
   {
    "duration": 0,
    "start_time": "2022-08-05T15:43:25.392Z"
   },
   {
    "duration": 0,
    "start_time": "2022-08-05T15:43:25.393Z"
   },
   {
    "duration": 0,
    "start_time": "2022-08-05T15:43:25.394Z"
   },
   {
    "duration": 0,
    "start_time": "2022-08-05T15:43:25.395Z"
   },
   {
    "duration": 1390,
    "start_time": "2022-08-05T15:45:02.183Z"
   },
   {
    "duration": 59,
    "start_time": "2022-08-05T15:45:03.576Z"
   },
   {
    "duration": 62,
    "start_time": "2022-08-05T15:45:03.637Z"
   },
   {
    "duration": 12,
    "start_time": "2022-08-05T15:45:03.701Z"
   },
   {
    "duration": 27,
    "start_time": "2022-08-05T15:45:03.715Z"
   },
   {
    "duration": 201,
    "start_time": "2022-08-05T15:45:03.743Z"
   },
   {
    "duration": 32,
    "start_time": "2022-08-05T15:45:03.946Z"
   },
   {
    "duration": 17,
    "start_time": "2022-08-05T15:45:03.979Z"
   },
   {
    "duration": 1664,
    "start_time": "2022-08-05T15:45:03.997Z"
   },
   {
    "duration": 109,
    "start_time": "2022-08-05T15:45:05.663Z"
   },
   {
    "duration": 49,
    "start_time": "2022-08-05T15:45:05.774Z"
   },
   {
    "duration": 20,
    "start_time": "2022-08-05T15:45:05.825Z"
   },
   {
    "duration": 18,
    "start_time": "2022-08-05T15:45:05.847Z"
   },
   {
    "duration": 90,
    "start_time": "2022-08-05T15:45:05.867Z"
   },
   {
    "duration": 115,
    "start_time": "2022-08-05T15:45:05.959Z"
   },
   {
    "duration": 109701,
    "start_time": "2022-08-05T15:45:06.156Z"
   },
   {
    "duration": 194,
    "start_time": "2022-08-05T15:46:55.862Z"
   },
   {
    "duration": 118,
    "start_time": "2022-08-05T15:46:56.058Z"
   },
   {
    "duration": 895,
    "start_time": "2022-08-05T15:46:56.261Z"
   },
   {
    "duration": 71689,
    "start_time": "2022-08-05T15:46:57.158Z"
   },
   {
    "duration": 7608,
    "start_time": "2022-08-05T15:48:08.848Z"
   },
   {
    "duration": 5,
    "start_time": "2022-08-05T15:48:16.457Z"
   },
   {
    "duration": 3670,
    "start_time": "2022-08-05T15:48:16.463Z"
   },
   {
    "duration": 54,
    "start_time": "2022-08-05T15:48:20.134Z"
   },
   {
    "duration": 1397,
    "start_time": "2022-08-05T15:56:11.676Z"
   },
   {
    "duration": 60,
    "start_time": "2022-08-05T15:56:13.075Z"
   },
   {
    "duration": 58,
    "start_time": "2022-08-05T15:56:13.137Z"
   },
   {
    "duration": 11,
    "start_time": "2022-08-05T15:56:13.196Z"
   },
   {
    "duration": 30,
    "start_time": "2022-08-05T15:56:13.208Z"
   },
   {
    "duration": 214,
    "start_time": "2022-08-05T15:56:13.239Z"
   },
   {
    "duration": 26,
    "start_time": "2022-08-05T15:56:13.454Z"
   },
   {
    "duration": 16,
    "start_time": "2022-08-05T15:56:13.481Z"
   },
   {
    "duration": 1664,
    "start_time": "2022-08-05T15:56:13.498Z"
   },
   {
    "duration": 107,
    "start_time": "2022-08-05T15:56:15.165Z"
   },
   {
    "duration": 56,
    "start_time": "2022-08-05T15:56:15.273Z"
   },
   {
    "duration": 5,
    "start_time": "2022-08-05T15:56:15.331Z"
   },
   {
    "duration": 5,
    "start_time": "2022-08-05T15:56:15.355Z"
   },
   {
    "duration": 93,
    "start_time": "2022-08-05T15:56:15.361Z"
   },
   {
    "duration": 112,
    "start_time": "2022-08-05T15:56:15.456Z"
   },
   {
    "duration": 113297,
    "start_time": "2022-08-05T15:56:15.660Z"
   },
   {
    "duration": 198,
    "start_time": "2022-08-05T15:58:08.958Z"
   },
   {
    "duration": 206,
    "start_time": "2022-08-05T15:58:09.157Z"
   },
   {
    "duration": 812,
    "start_time": "2022-08-05T15:58:09.368Z"
   },
   {
    "duration": 70060,
    "start_time": "2022-08-05T15:58:10.182Z"
   },
   {
    "duration": 7013,
    "start_time": "2022-08-05T15:59:20.244Z"
   },
   {
    "duration": 6,
    "start_time": "2022-08-05T15:59:27.259Z"
   },
   {
    "duration": 3548,
    "start_time": "2022-08-05T15:59:27.267Z"
   },
   {
    "duration": 51,
    "start_time": "2022-08-05T15:59:30.817Z"
   },
   {
    "duration": 1720,
    "start_time": "2022-08-08T15:33:33.269Z"
   },
   {
    "duration": 111,
    "start_time": "2022-08-08T15:33:34.991Z"
   },
   {
    "duration": 68,
    "start_time": "2022-08-08T15:33:35.103Z"
   },
   {
    "duration": 30,
    "start_time": "2022-08-08T15:33:35.173Z"
   },
   {
    "duration": 17,
    "start_time": "2022-08-08T15:33:35.204Z"
   },
   {
    "duration": 245,
    "start_time": "2022-08-08T15:33:35.223Z"
   },
   {
    "duration": 43,
    "start_time": "2022-08-08T15:33:35.469Z"
   },
   {
    "duration": 20,
    "start_time": "2022-08-08T15:33:35.513Z"
   },
   {
    "duration": 1077,
    "start_time": "2022-08-08T15:33:35.535Z"
   },
   {
    "duration": 199,
    "start_time": "2022-08-08T15:33:36.616Z"
   },
   {
    "duration": 58,
    "start_time": "2022-08-08T15:33:36.817Z"
   },
   {
    "duration": 6,
    "start_time": "2022-08-08T15:33:36.904Z"
   },
   {
    "duration": 8,
    "start_time": "2022-08-08T15:33:36.912Z"
   },
   {
    "duration": 83,
    "start_time": "2022-08-08T15:33:36.921Z"
   },
   {
    "duration": 117,
    "start_time": "2022-08-08T15:33:37.006Z"
   },
   {
    "duration": 136000,
    "start_time": "2022-08-08T15:33:37.204Z"
   },
   {
    "duration": 201,
    "start_time": "2022-08-08T15:35:53.207Z"
   },
   {
    "duration": 195,
    "start_time": "2022-08-08T15:35:53.410Z"
   },
   {
    "duration": 969,
    "start_time": "2022-08-08T15:35:53.608Z"
   },
   {
    "duration": 3,
    "start_time": "2022-08-08T15:35:54.579Z"
   },
   {
    "duration": 82539,
    "start_time": "2022-08-08T15:36:14.859Z"
   },
   {
    "duration": 3,
    "start_time": "2022-08-08T15:38:25.065Z"
   },
   {
    "duration": 5002,
    "start_time": "2022-08-08T15:38:30.265Z"
   },
   {
    "duration": 59,
    "start_time": "2022-08-08T15:38:54.177Z"
   },
   {
    "duration": 1660,
    "start_time": "2022-08-17T20:06:08.871Z"
   },
   {
    "duration": 114,
    "start_time": "2022-08-17T20:39:05.259Z"
   },
   {
    "duration": 1648,
    "start_time": "2023-05-08T13:31:19.011Z"
   },
   {
    "duration": 234,
    "start_time": "2023-05-08T13:31:20.661Z"
   },
   {
    "duration": 79,
    "start_time": "2023-05-08T13:31:20.896Z"
   },
   {
    "duration": 12,
    "start_time": "2023-05-08T13:31:20.977Z"
   },
   {
    "duration": 18,
    "start_time": "2023-05-08T13:31:20.991Z"
   },
   {
    "duration": 250,
    "start_time": "2023-05-08T13:31:21.011Z"
   },
   {
    "duration": 30,
    "start_time": "2023-05-08T13:31:21.263Z"
   },
   {
    "duration": 47,
    "start_time": "2023-05-08T13:31:21.294Z"
   },
   {
    "duration": 1608,
    "start_time": "2023-05-08T13:31:21.342Z"
   },
   {
    "duration": 119,
    "start_time": "2023-05-08T13:31:23.034Z"
   },
   {
    "duration": 69,
    "start_time": "2023-05-08T13:31:23.156Z"
   },
   {
    "duration": 24,
    "start_time": "2023-05-08T13:31:23.226Z"
   },
   {
    "duration": 11,
    "start_time": "2023-05-08T13:31:23.252Z"
   },
   {
    "duration": 81,
    "start_time": "2023-05-08T13:31:23.264Z"
   },
   {
    "duration": 194,
    "start_time": "2023-05-08T13:31:23.346Z"
   },
   {
    "duration": 119411,
    "start_time": "2023-05-08T13:31:23.544Z"
   },
   {
    "duration": 117,
    "start_time": "2023-05-08T13:33:23.034Z"
   },
   {
    "duration": 184,
    "start_time": "2023-05-08T13:33:23.154Z"
   },
   {
    "duration": 970,
    "start_time": "2023-05-08T13:33:23.341Z"
   },
   {
    "duration": 3,
    "start_time": "2023-05-08T13:33:24.313Z"
   },
   {
    "duration": 83633,
    "start_time": "2023-05-08T13:33:24.318Z"
   },
   {
    "duration": 20695,
    "start_time": "2023-05-08T13:34:47.953Z"
   },
   {
    "duration": 6,
    "start_time": "2023-05-08T13:35:08.650Z"
   },
   {
    "duration": 9,
    "start_time": "2023-05-08T13:35:08.658Z"
   },
   {
    "duration": 4719,
    "start_time": "2023-05-08T13:35:08.668Z"
   },
   {
    "duration": 66,
    "start_time": "2023-05-08T13:35:13.389Z"
   }
  ],
  "kernelspec": {
   "display_name": "Python 3 (ipykernel)",
   "language": "python",
   "name": "python3"
  },
  "language_info": {
   "codemirror_mode": {
    "name": "ipython",
    "version": 3
   },
   "file_extension": ".py",
   "mimetype": "text/x-python",
   "name": "python",
   "nbconvert_exporter": "python",
   "pygments_lexer": "ipython3",
   "version": "3.9.5"
  },
  "toc": {
   "base_numbering": 1,
   "nav_menu": {},
   "number_sections": true,
   "sideBar": true,
   "skip_h1_title": true,
   "title_cell": "Содержание",
   "title_sidebar": "Contents",
   "toc_cell": true,
   "toc_position": {
    "height": "calc(100% - 180px)",
    "left": "10px",
    "top": "150px",
    "width": "199px"
   },
   "toc_section_display": true,
   "toc_window_display": true
  }
 },
 "nbformat": 4,
 "nbformat_minor": 2
}
