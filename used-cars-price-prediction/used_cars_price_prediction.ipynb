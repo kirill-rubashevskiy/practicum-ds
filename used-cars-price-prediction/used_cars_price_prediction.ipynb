{
 "cells": [
  {
   "cell_type": "markdown",
   "metadata": {},
   "source": [
    "# Предсказание стоимости поддержанных автомобилей"
   ]
  },
  {
   "cell_type": "markdown",
   "metadata": {},
   "source": [
    "## Задача <a class = \"tocSkip\">"
   ]
  },
  {
   "cell_type": "markdown",
   "metadata": {},
   "source": [
    "Построить модель для определения рыночной стоимости подержанных автомобилей для сервиса по продаже автомобилей.\n",
    "\n",
    "Модель будет использована в приложении, которое разрабатывется для привлечения новых клиентов.\n",
    "\n",
    "Модель должна демонстировать качество прогноза `RMSE` не более 2500, а также быстрое время обучения и предсказания."
   ]
  },
  {
   "cell_type": "markdown",
   "metadata": {},
   "source": [
    "## Предоставленные данные <a class = \"tocSkip\">"
   ]
  },
  {
   "cell_type": "markdown",
   "metadata": {},
   "source": [
    "Историчекие данные сервиса о технических характеристиках, комплектации и ценах других автомобилей.\n",
    "\n",
    "Согласно описанию к данным:\n",
    "\n",
    "- `Brand` — марка автомобиля;\n",
    "- `DateCrawled` — дата скачивания анкеты из базы;\n",
    "- `DateCreated` — дата создания анкеты;\n",
    "- `FuelType` — тип топлива;\n",
    "- `Gearbox` — тип коробки передач;\n",
    "- `Kilometer` — пробег (км);\n",
    "- `LastSeen` — дата последней активности пользователя;\n",
    "- `Model` — модель автомобиля;\n",
    "- `NotRepaired` — была машина в ремонте или нет;\n",
    "- `NumberOfPictures` — количество фотографий автомобиля;\n",
    "- `PostalCode` — почтовый индекс владельца анкеты (пользователя);\n",
    "- `Power` — мощность (л. с.);\n",
    "- `Price` — цена в евро (**целевой признак**);\n",
    "- `RegistrationMonth` — месяц регистрации автомобиля;\n",
    "- `RegistrationYear` — год регистрации автомобиля;\n",
    "- `VehicleType` — тип автомобильного кузова."
   ]
  },
  {
   "cell_type": "markdown",
   "metadata": {},
   "source": [
    "## План работы <a class = \"tocSkip\">"
   ]
  },
  {
   "cell_type": "markdown",
   "metadata": {},
   "source": [
    "Работа будет включать шесть обязательных этапов и один опциональный:\n",
    "\n",
    "1. загрузка и изучение данных;\n",
    "2. подготовка данных; \n",
    "3. подготовка выборок к обучению моделей;\n",
    "4. обучение моделей;\n",
    "5. анализ моделей;\n",
    "6. повторное обучение моделей (опциональный этап); и\n",
    "7. выбор и тестирование лучшей модели."
   ]
  },
  {
   "cell_type": "markdown",
   "metadata": {},
   "source": [
    "## Загрузка и изучение данных"
   ]
  },
  {
   "cell_type": "markdown",
   "metadata": {},
   "source": [
    "Для начала импортируем необходимые библиотеки:"
   ]
  },
  {
   "cell_type": "code",
   "execution_count": 1,
   "metadata": {},
   "outputs": [],
   "source": [
    "# импорт библиотек numpy, pandas и warnings\n",
    "import warnings\n",
    "import numpy as np\n",
    "import pandas as pd\n",
    "\n",
    "# импорт библиотек для визуализации графиков\n",
    "import seaborn as sns\n",
    "import matplotlib.pyplot as plt\n",
    "\n",
    "# импорт библиотек для машинного обучения\n",
    "import catboost as cb\n",
    "import lightgbm as lgb\n",
    "from sklearn.dummy import DummyRegressor\n",
    "from sklearn.linear_model import ElasticNet\n",
    "from sklearn.metrics import mean_squared_error\n",
    "from sklearn.preprocessing import StandardScaler\n",
    "from sklearn.ensemble import RandomForestRegressor\n",
    "from sklearn.model_selection import cross_validate, RandomizedSearchCV, train_test_split"
   ]
  },
  {
   "cell_type": "markdown",
   "metadata": {},
   "source": [
    "Также установим стили отображения датасетов, предупреждений и графиков:"
   ]
  },
  {
   "cell_type": "code",
   "execution_count": 2,
   "metadata": {},
   "outputs": [],
   "source": [
    "# установление стиля отображения датасетов\n",
    "pd.set_option('display.max_colwidth', None)\n",
    "\n",
    "# установление стиля отображения предупреждений\n",
    "warnings.filterwarnings(\"ignore\", category=FutureWarning)\n",
    "warnings.filterwarnings(\"ignore\", category=UserWarning)\n",
    "\n",
    "# установление стиля отображения графиков\n",
    "sns.set_style(\"whitegrid\")"
   ]
  },
  {
   "cell_type": "markdown",
   "metadata": {},
   "source": [
    "Прочитаем файл с данными:"
   ]
  },
  {
   "cell_type": "code",
   "execution_count": 3,
   "metadata": {},
   "outputs": [],
   "source": [
    "# чтение файла с данными\n",
    "df = pd.read_csv('/datasets/autos.csv')"
   ]
  },
  {
   "cell_type": "markdown",
   "metadata": {},
   "source": [
    "Изучим 5 случайных объектов датасета:"
   ]
  },
  {
   "cell_type": "code",
   "execution_count": 4,
   "metadata": {
    "scrolled": false
   },
   "outputs": [
    {
     "data": {
      "text/html": [
       "<div>\n",
       "<style scoped>\n",
       "    .dataframe tbody tr th:only-of-type {\n",
       "        vertical-align: middle;\n",
       "    }\n",
       "\n",
       "    .dataframe tbody tr th {\n",
       "        vertical-align: top;\n",
       "    }\n",
       "\n",
       "    .dataframe thead th {\n",
       "        text-align: right;\n",
       "    }\n",
       "</style>\n",
       "<table border=\"1\" class=\"dataframe\">\n",
       "  <thead>\n",
       "    <tr style=\"text-align: right;\">\n",
       "      <th></th>\n",
       "      <th>DateCrawled</th>\n",
       "      <th>Price</th>\n",
       "      <th>VehicleType</th>\n",
       "      <th>RegistrationYear</th>\n",
       "      <th>Gearbox</th>\n",
       "      <th>Power</th>\n",
       "      <th>Model</th>\n",
       "      <th>Kilometer</th>\n",
       "      <th>RegistrationMonth</th>\n",
       "      <th>FuelType</th>\n",
       "      <th>Brand</th>\n",
       "      <th>NotRepaired</th>\n",
       "      <th>DateCreated</th>\n",
       "      <th>NumberOfPictures</th>\n",
       "      <th>PostalCode</th>\n",
       "      <th>LastSeen</th>\n",
       "    </tr>\n",
       "  </thead>\n",
       "  <tbody>\n",
       "    <tr>\n",
       "      <th>18734</th>\n",
       "      <td>2016-04-04 13:36:58</td>\n",
       "      <td>16900</td>\n",
       "      <td>bus</td>\n",
       "      <td>2010</td>\n",
       "      <td>auto</td>\n",
       "      <td>150</td>\n",
       "      <td>viano</td>\n",
       "      <td>150000</td>\n",
       "      <td>4</td>\n",
       "      <td>gasoline</td>\n",
       "      <td>mercedes_benz</td>\n",
       "      <td>no</td>\n",
       "      <td>2016-04-04 00:00:00</td>\n",
       "      <td>0</td>\n",
       "      <td>60326</td>\n",
       "      <td>2016-04-05 12:18:31</td>\n",
       "    </tr>\n",
       "    <tr>\n",
       "      <th>141787</th>\n",
       "      <td>2016-03-07 17:57:08</td>\n",
       "      <td>15500</td>\n",
       "      <td>other</td>\n",
       "      <td>2011</td>\n",
       "      <td>manual</td>\n",
       "      <td>143</td>\n",
       "      <td>1er</td>\n",
       "      <td>40000</td>\n",
       "      <td>5</td>\n",
       "      <td>gasoline</td>\n",
       "      <td>bmw</td>\n",
       "      <td>no</td>\n",
       "      <td>2016-03-07 00:00:00</td>\n",
       "      <td>0</td>\n",
       "      <td>35083</td>\n",
       "      <td>2016-04-06 20:19:15</td>\n",
       "    </tr>\n",
       "    <tr>\n",
       "      <th>37523</th>\n",
       "      <td>2016-03-24 09:37:02</td>\n",
       "      <td>3600</td>\n",
       "      <td>sedan</td>\n",
       "      <td>2004</td>\n",
       "      <td>manual</td>\n",
       "      <td>125</td>\n",
       "      <td>astra</td>\n",
       "      <td>150000</td>\n",
       "      <td>12</td>\n",
       "      <td>petrol</td>\n",
       "      <td>opel</td>\n",
       "      <td>no</td>\n",
       "      <td>2016-03-24 00:00:00</td>\n",
       "      <td>0</td>\n",
       "      <td>13627</td>\n",
       "      <td>2016-03-24 10:38:57</td>\n",
       "    </tr>\n",
       "    <tr>\n",
       "      <th>194192</th>\n",
       "      <td>2016-03-15 09:49:03</td>\n",
       "      <td>8990</td>\n",
       "      <td>sedan</td>\n",
       "      <td>2007</td>\n",
       "      <td>auto</td>\n",
       "      <td>224</td>\n",
       "      <td>c_klasse</td>\n",
       "      <td>150000</td>\n",
       "      <td>9</td>\n",
       "      <td>gasoline</td>\n",
       "      <td>mercedes_benz</td>\n",
       "      <td>no</td>\n",
       "      <td>2016-03-15 00:00:00</td>\n",
       "      <td>0</td>\n",
       "      <td>58135</td>\n",
       "      <td>2016-03-18 02:17:06</td>\n",
       "    </tr>\n",
       "    <tr>\n",
       "      <th>110210</th>\n",
       "      <td>2016-03-29 23:43:52</td>\n",
       "      <td>2500</td>\n",
       "      <td>other</td>\n",
       "      <td>1994</td>\n",
       "      <td>manual</td>\n",
       "      <td>68</td>\n",
       "      <td>transporter</td>\n",
       "      <td>150000</td>\n",
       "      <td>9</td>\n",
       "      <td>gasoline</td>\n",
       "      <td>volkswagen</td>\n",
       "      <td>no</td>\n",
       "      <td>2016-03-29 00:00:00</td>\n",
       "      <td>0</td>\n",
       "      <td>24598</td>\n",
       "      <td>2016-04-02 12:45:46</td>\n",
       "    </tr>\n",
       "  </tbody>\n",
       "</table>\n",
       "</div>"
      ],
      "text/plain": [
       "                DateCrawled  Price VehicleType  RegistrationYear Gearbox  \\\n",
       "18734   2016-04-04 13:36:58  16900         bus              2010    auto   \n",
       "141787  2016-03-07 17:57:08  15500       other              2011  manual   \n",
       "37523   2016-03-24 09:37:02   3600       sedan              2004  manual   \n",
       "194192  2016-03-15 09:49:03   8990       sedan              2007    auto   \n",
       "110210  2016-03-29 23:43:52   2500       other              1994  manual   \n",
       "\n",
       "        Power        Model  Kilometer  RegistrationMonth  FuelType  \\\n",
       "18734     150        viano     150000                  4  gasoline   \n",
       "141787    143          1er      40000                  5  gasoline   \n",
       "37523     125        astra     150000                 12    petrol   \n",
       "194192    224     c_klasse     150000                  9  gasoline   \n",
       "110210     68  transporter     150000                  9  gasoline   \n",
       "\n",
       "                Brand NotRepaired          DateCreated  NumberOfPictures  \\\n",
       "18734   mercedes_benz          no  2016-04-04 00:00:00                 0   \n",
       "141787            bmw          no  2016-03-07 00:00:00                 0   \n",
       "37523            opel          no  2016-03-24 00:00:00                 0   \n",
       "194192  mercedes_benz          no  2016-03-15 00:00:00                 0   \n",
       "110210     volkswagen          no  2016-03-29 00:00:00                 0   \n",
       "\n",
       "        PostalCode             LastSeen  \n",
       "18734        60326  2016-04-05 12:18:31  \n",
       "141787       35083  2016-04-06 20:19:15  \n",
       "37523        13627  2016-03-24 10:38:57  \n",
       "194192       58135  2016-03-18 02:17:06  \n",
       "110210       24598  2016-04-02 12:45:46  "
      ]
     },
     "metadata": {},
     "output_type": "display_data"
    }
   ],
   "source": [
    "# вывод на экран пяти случайных объектов датасета\n",
    "display(df.sample(5, random_state=12345))"
   ]
  },
  {
   "cell_type": "markdown",
   "metadata": {},
   "source": [
    "Мы видим, что:\n",
    "- один объект содержит информацию об одной анкете о продаже автомобиля;\n",
    "- по каждому объекто доступно 16 признаков:\n",
    "    - 5 количественных (*Price*, *RegistrationYear*, *Power*, *Kilometer*, *NumberOfPictures*);\n",
    "    - 8 категориальных (*VehicleType*, *Gearbox*, *Model*, *RegistrationMonth*, *FuelType*, *Brand*, *NotRepaired*, *PostalCode*);\n",
    "    - 3 календарных (*DateCrawled*, *DateCreated*, *LastSeen*);\n",
    "- во всех 5 случайных объектах значение признака *NumberOfPictures* равно нулю."
   ]
  },
  {
   "cell_type": "markdown",
   "metadata": {},
   "source": [
    "Также изучим общую информацию о датасете:"
   ]
  },
  {
   "cell_type": "code",
   "execution_count": 5,
   "metadata": {},
   "outputs": [
    {
     "name": "stdout",
     "output_type": "stream",
     "text": [
      "<class 'pandas.core.frame.DataFrame'>\n",
      "RangeIndex: 354369 entries, 0 to 354368\n",
      "Data columns (total 16 columns):\n",
      " #   Column             Non-Null Count   Dtype \n",
      "---  ------             --------------   ----- \n",
      " 0   DateCrawled        354369 non-null  object\n",
      " 1   Price              354369 non-null  int64 \n",
      " 2   VehicleType        316879 non-null  object\n",
      " 3   RegistrationYear   354369 non-null  int64 \n",
      " 4   Gearbox            334536 non-null  object\n",
      " 5   Power              354369 non-null  int64 \n",
      " 6   Model              334664 non-null  object\n",
      " 7   Kilometer          354369 non-null  int64 \n",
      " 8   RegistrationMonth  354369 non-null  int64 \n",
      " 9   FuelType           321474 non-null  object\n",
      " 10  Brand              354369 non-null  object\n",
      " 11  NotRepaired        283215 non-null  object\n",
      " 12  DateCreated        354369 non-null  object\n",
      " 13  NumberOfPictures   354369 non-null  int64 \n",
      " 14  PostalCode         354369 non-null  int64 \n",
      " 15  LastSeen           354369 non-null  object\n",
      "dtypes: int64(7), object(9)\n",
      "memory usage: 43.3+ MB\n"
     ]
    }
   ],
   "source": [
    "# вывод на экран общей информации о датасете\n",
    "df.info()"
   ]
  },
  {
   "cell_type": "markdown",
   "metadata": {},
   "source": [
    "Мы видим, что:\n",
    "- в датасете 354 369 объектов;\n",
    "- календарные признаки *DateCrawled*, *DateCreated* и *LastSeen* имеют тип *object*, для работы с данными признаками необходимо изменить их тип на *datetime*;\n",
    "- признаки, которые содержат числовые значения имеют тип *int64*; в зависимости от диапазона их значений в целях оптимизации данных возможно изменить их тип на *int64*, *int16* или *int8*; \n",
    "- в значениях отдельных признаков есть пропуски."
   ]
  },
  {
   "cell_type": "markdown",
   "metadata": {},
   "source": [
    "### Изучение пропусков"
   ]
  },
  {
   "cell_type": "markdown",
   "metadata": {},
   "source": [
    "Изучим пропуски:"
   ]
  },
  {
   "cell_type": "code",
   "execution_count": 6,
   "metadata": {},
   "outputs": [
    {
     "data": {
      "text/plain": [
       "NotRepaired          20.079070\n",
       "VehicleType          10.579368\n",
       "FuelType              9.282697\n",
       "Gearbox               5.596709\n",
       "Model                 5.560588\n",
       "DateCrawled           0.000000\n",
       "Price                 0.000000\n",
       "RegistrationYear      0.000000\n",
       "Power                 0.000000\n",
       "Kilometer             0.000000\n",
       "RegistrationMonth     0.000000\n",
       "Brand                 0.000000\n",
       "DateCreated           0.000000\n",
       "NumberOfPictures      0.000000\n",
       "PostalCode            0.000000\n",
       "LastSeen              0.000000\n",
       "dtype: float64"
      ]
     },
     "execution_count": 6,
     "metadata": {},
     "output_type": "execute_result"
    }
   ],
   "source": [
    "# вывод на экран процента пропусков (по убыванию)\n",
    "df.isna().sum().sort_values(ascending=False)/len(df)*100"
   ]
  },
  {
   "cell_type": "markdown",
   "metadata": {},
   "source": [
    "Мы видим, что:\n",
    "- пропуски есть в значениях 5 признаков;\n",
    "- пропуски есть только в категориальных признаках;\n",
    "- процент пропусков составляет ~6-20 процентов."
   ]
  },
  {
   "cell_type": "markdown",
   "metadata": {},
   "source": [
    "### Изучение количественных признаков"
   ]
  },
  {
   "cell_type": "markdown",
   "metadata": {},
   "source": [
    "Датасет содержит 5 количественных признаков: *Price*, *RegistrationYear*, *Power*, *Kilometer*, *NumberOfPictures*.\n",
    "\n",
    "Изучим описательную статистику по ним:"
   ]
  },
  {
   "cell_type": "code",
   "execution_count": 7,
   "metadata": {},
   "outputs": [
    {
     "data": {
      "text/html": [
       "<div>\n",
       "<style scoped>\n",
       "    .dataframe tbody tr th:only-of-type {\n",
       "        vertical-align: middle;\n",
       "    }\n",
       "\n",
       "    .dataframe tbody tr th {\n",
       "        vertical-align: top;\n",
       "    }\n",
       "\n",
       "    .dataframe thead th {\n",
       "        text-align: right;\n",
       "    }\n",
       "</style>\n",
       "<table border=\"1\" class=\"dataframe\">\n",
       "  <thead>\n",
       "    <tr style=\"text-align: right;\">\n",
       "      <th></th>\n",
       "      <th>Price</th>\n",
       "      <th>RegistrationYear</th>\n",
       "      <th>Power</th>\n",
       "      <th>Kilometer</th>\n",
       "      <th>NumberOfPictures</th>\n",
       "    </tr>\n",
       "  </thead>\n",
       "  <tbody>\n",
       "    <tr>\n",
       "      <th>count</th>\n",
       "      <td>354369.000000</td>\n",
       "      <td>354369.000000</td>\n",
       "      <td>354369.000000</td>\n",
       "      <td>354369.000000</td>\n",
       "      <td>354369.0</td>\n",
       "    </tr>\n",
       "    <tr>\n",
       "      <th>mean</th>\n",
       "      <td>4416.656776</td>\n",
       "      <td>2004.234448</td>\n",
       "      <td>110.094337</td>\n",
       "      <td>128211.172535</td>\n",
       "      <td>0.0</td>\n",
       "    </tr>\n",
       "    <tr>\n",
       "      <th>std</th>\n",
       "      <td>4514.158514</td>\n",
       "      <td>90.227958</td>\n",
       "      <td>189.850405</td>\n",
       "      <td>37905.341530</td>\n",
       "      <td>0.0</td>\n",
       "    </tr>\n",
       "    <tr>\n",
       "      <th>min</th>\n",
       "      <td>0.000000</td>\n",
       "      <td>1000.000000</td>\n",
       "      <td>0.000000</td>\n",
       "      <td>5000.000000</td>\n",
       "      <td>0.0</td>\n",
       "    </tr>\n",
       "    <tr>\n",
       "      <th>25%</th>\n",
       "      <td>1050.000000</td>\n",
       "      <td>1999.000000</td>\n",
       "      <td>69.000000</td>\n",
       "      <td>125000.000000</td>\n",
       "      <td>0.0</td>\n",
       "    </tr>\n",
       "    <tr>\n",
       "      <th>50%</th>\n",
       "      <td>2700.000000</td>\n",
       "      <td>2003.000000</td>\n",
       "      <td>105.000000</td>\n",
       "      <td>150000.000000</td>\n",
       "      <td>0.0</td>\n",
       "    </tr>\n",
       "    <tr>\n",
       "      <th>75%</th>\n",
       "      <td>6400.000000</td>\n",
       "      <td>2008.000000</td>\n",
       "      <td>143.000000</td>\n",
       "      <td>150000.000000</td>\n",
       "      <td>0.0</td>\n",
       "    </tr>\n",
       "    <tr>\n",
       "      <th>max</th>\n",
       "      <td>20000.000000</td>\n",
       "      <td>9999.000000</td>\n",
       "      <td>20000.000000</td>\n",
       "      <td>150000.000000</td>\n",
       "      <td>0.0</td>\n",
       "    </tr>\n",
       "  </tbody>\n",
       "</table>\n",
       "</div>"
      ],
      "text/plain": [
       "               Price  RegistrationYear          Power      Kilometer  \\\n",
       "count  354369.000000     354369.000000  354369.000000  354369.000000   \n",
       "mean     4416.656776       2004.234448     110.094337  128211.172535   \n",
       "std      4514.158514         90.227958     189.850405   37905.341530   \n",
       "min         0.000000       1000.000000       0.000000    5000.000000   \n",
       "25%      1050.000000       1999.000000      69.000000  125000.000000   \n",
       "50%      2700.000000       2003.000000     105.000000  150000.000000   \n",
       "75%      6400.000000       2008.000000     143.000000  150000.000000   \n",
       "max     20000.000000       9999.000000   20000.000000  150000.000000   \n",
       "\n",
       "       NumberOfPictures  \n",
       "count          354369.0  \n",
       "mean                0.0  \n",
       "std                 0.0  \n",
       "min                 0.0  \n",
       "25%                 0.0  \n",
       "50%                 0.0  \n",
       "75%                 0.0  \n",
       "max                 0.0  "
      ]
     },
     "metadata": {},
     "output_type": "display_data"
    }
   ],
   "source": [
    "# вывод на экран описательной статистики по количественным признакам\n",
    "display(df[['Price', 'RegistrationYear', 'Power', 'Kilometer', 'NumberOfPictures']].describe())"
   ]
  },
  {
   "cell_type": "markdown",
   "metadata": {},
   "source": [
    "Мы видим, что:\n",
    "- *Price* содержит аномальное минимальное значение *0*;\n",
    "- *RegistrationYear* содержит аномальные минимальное (*1000*) и максимальное (*9999*) значения;\n",
    "- *Power* содержит содержит аномальные минимальное (*0*) и максимальное (*20000*) значения;\n",
    "- *NumberOfPictures* содержит только нулевые значения (т.е. данный признак неинформативен для целей построения модели)."
   ]
  },
  {
   "cell_type": "markdown",
   "metadata": {},
   "source": [
    "Дополнительно посчитаем процент нулевых значений признаков *Price* и *Power*:"
   ]
  },
  {
   "cell_type": "code",
   "execution_count": 8,
   "metadata": {},
   "outputs": [
    {
     "name": "stdout",
     "output_type": "stream",
     "text": [
      "Power    11.351162\n",
      "Price     3.039769\n",
      "dtype: float64\n"
     ]
    }
   ],
   "source": [
    "# вывод на экран процента нулевых значений Price и Power\n",
    "print(df[['Price', 'Power']][df == 0].count().sort_values(ascending=False)/len(df.index)*100)"
   ]
  },
  {
   "cell_type": "markdown",
   "metadata": {},
   "source": [
    "Процент нулевых значений находится в диапазоне значений пропусков в категориальных признаках, т.е. нулевые значения могут являться неявными пропусками."
   ]
  },
  {
   "cell_type": "markdown",
   "metadata": {},
   "source": [
    "Для целей определения границ аномальных значений признаков *Price*, *RegistrationYear* и *Power* изучим их распределение."
   ]
  },
  {
   "cell_type": "markdown",
   "metadata": {},
   "source": [
    "Для удобства анализа количественных признаков напишем фунцию *get_num_feature_information*:"
   ]
  },
  {
   "cell_type": "code",
   "execution_count": 9,
   "metadata": {},
   "outputs": [],
   "source": [
    "def get_num_feature_information(feature, color, bins=20, xticks_range=None):\n",
    "    \n",
    "    '''\n",
    "    Функция в отношении количественного признака (столбца датасета) выводит на экран:\n",
    "    - описательную статисктику методом describe();\n",
    "    - гистограмму; и\n",
    "    - диаграмму размаха\n",
    "    \n",
    "    Входные параметры:\n",
    "    - feature - признак (столбец датасета);\n",
    "    - color - цвет гистограммы и диаграммы размаха;\n",
    "    - bins - количество корзин для построения гистограммы (по умолчанию 20);\n",
    "    - xticks_range - устанавливает диапазон значений деления оси X графиков (по умолчанию не установлен)\n",
    "    \n",
    "    '''\n",
    "    \n",
    "    print(feature.name)\n",
    "    print()\n",
    "    print(feature.describe())\n",
    "    \n",
    "    fig, (ax1, ax2) = plt.subplots(nrows=2, \n",
    "                                   ncols=1, \n",
    "                                   figsize=(12, 12),\n",
    "                                   gridspec_kw={'height_ratios': [3, 1]}\n",
    "                                  )\n",
    "    \n",
    "    sns.histplot(x=feature,\n",
    "                 color=color,\n",
    "                 kde=True,\n",
    "                 alpha = 0.5,\n",
    "                 ax=ax1,\n",
    "                 bins=bins\n",
    "                )\n",
    "    \n",
    "    sns.boxplot(x=feature,\n",
    "                color=color,\n",
    "                linewidth=1,\n",
    "                ax=ax2\n",
    "               )\n",
    "    \n",
    "    if xticks_range != None:\n",
    "        for ax in (ax1, ax2):\n",
    "            ax.set_xticks(xticks_range)\n",
    "    \n",
    "    fig.suptitle('Распределение признака ' + feature.name)\n",
    "    \n",
    "    plt.tight_layout()\n",
    "    plt.show()"
   ]
  },
  {
   "cell_type": "markdown",
   "metadata": {},
   "source": [
    "#### Price"
   ]
  },
  {
   "cell_type": "markdown",
   "metadata": {},
   "source": [
    "Изучим распределение значений признака *Price*, исключив нулевые значения:"
   ]
  },
  {
   "cell_type": "code",
   "execution_count": 10,
   "metadata": {},
   "outputs": [
    {
     "name": "stdout",
     "output_type": "stream",
     "text": [
      "Price\n",
      "\n",
      "count    343597.000000\n",
      "mean       4555.121974\n",
      "std        4515.058553\n",
      "min           1.000000\n",
      "25%        1200.000000\n",
      "50%        2890.000000\n",
      "75%        6500.000000\n",
      "max       20000.000000\n",
      "Name: Price, dtype: float64\n"
     ]
    },
    {
     "data": {
      "image/png": "[encoded data removed]",
      "text/plain": [
       "<Figure size 864x864 with 2 Axes>"
      ]
     },
     "metadata": {},
     "output_type": "display_data"
    }
   ],
   "source": [
    "# создание выборки с объектами, цена которых не равна нулю\n",
    "price_nonzero = df.query('Price != 0')['Price']\n",
    "\n",
    "# применение функции get_num_feature_information\n",
    "get_num_feature_information(price_nonzero, 'red', xticks_range= range(0,21000,1000))"
   ]
  },
  {
   "cell_type": "markdown",
   "metadata": {},
   "source": [
    "Мы видим, что:\n",
    "- среднее значение цены - 2890 евро;\n",
    "- половина значений признака находится в диапазоне от 1200 до 6 500 евро;\n",
    "- даже после исключения нулевых значений миниальное значение признака (*1 евро*) выглядит аномальным;\n",
    "- на диаграмме размаха присутствуют выбросы после ~14 500 евро (однако такие значения не выглядят аномальными).\n",
    "\n",
    "По итогам изучения данных из открытых источников (анкет крупного европейского сервиса по продаже поддержанных автомобилей *AutoScout24.de*) мы пришли к выводу, что минимальная реальная стоимость поддержанного автомобиля составляет 100 евро."
   ]
  },
  {
   "cell_type": "markdown",
   "metadata": {},
   "source": [
    "Посчитаем процент объектов с ценой меньше 100 евро (включая нулевые значения):"
   ]
  },
  {
   "cell_type": "code",
   "execution_count": 11,
   "metadata": {},
   "outputs": [
    {
     "name": "stdout",
     "output_type": "stream",
     "text": [
      "Процент объектов с ценой ниже 100 евро: 3.76%\n"
     ]
    }
   ],
   "source": [
    "# расчет и вывод на экран процента объектов с ценой меньше 100 евро\n",
    "price_below_100 = len(df.query('Price < 100')) / len(df)\n",
    "\n",
    "print('Процент объектов с ценой ниже 100 евро:', '{:.2%}'.format(price_below_100))"
   ]
  },
  {
   "cell_type": "markdown",
   "metadata": {},
   "source": [
    "Таким образом, процент объектов с аномальными значениями цены не превышает 4%. "
   ]
  },
  {
   "cell_type": "markdown",
   "metadata": {},
   "source": [
    "#### Registration year"
   ]
  },
  {
   "cell_type": "markdown",
   "metadata": {},
   "source": [
    "Для целей построения моделей предположим, что:\n",
    "- минимальное нормальное значение признака - 1900 (согласно открытым источникам, регистрация автомобилей в разных европейских странах началась в конце 19 века);\n",
    "- максимальное нормальное значение признака - 2016 (год скачивания анкет).\n",
    "\n",
    "Исходя из данных предположений изучим распределение признака:"
   ]
  },
  {
   "cell_type": "code",
   "execution_count": 12,
   "metadata": {},
   "outputs": [
    {
     "name": "stdout",
     "output_type": "stream",
     "text": [
      "RegistrationYear\n",
      "\n",
      "count    339773.000000\n",
      "mean       2002.482222\n",
      "std           7.091181\n",
      "min        1910.000000\n",
      "25%        1999.000000\n",
      "50%        2003.000000\n",
      "75%        2007.000000\n",
      "max        2016.000000\n",
      "Name: RegistrationYear, dtype: float64\n"
     ]
    },
    {
     "data": {
      "image/png": "[encoded data removed]",
      "text/plain": [
       "<Figure size 864x864 with 2 Axes>"
      ]
     },
     "metadata": {},
     "output_type": "display_data"
    }
   ],
   "source": [
    "# создание выборки с объектами, год регистрации которых находится в диапазоне от 1900 до 2016\n",
    "regyear_1900_2016 = df.query('1900 <= RegistrationYear <= 2016')['RegistrationYear']\n",
    "\n",
    "# применение функции get_num_feature_information\n",
    "get_num_feature_information(regyear_1900_2016, 'teal', bins=105, xticks_range= range(1900,2021,5))"
   ]
  },
  {
   "cell_type": "markdown",
   "metadata": {},
   "source": [
    "Мы видим, что:\n",
    "- средний год регистрации - 2003;\n",
    "- половина значений признака находится в диапазоне от 1999 до 2007 года;\n",
    "- отдельный пик регистрации автомобилей наблюдается в 2016 году;\n",
    "- на диаграмме размаха присутствуют выбросы до 1985 года (однако такие значения не выглядят аномальными)."
   ]
  },
  {
   "cell_type": "markdown",
   "metadata": {},
   "source": [
    "Посчитаем процент объектов, которые мы классифицировали как аномальные на основании года регистрации:"
   ]
  },
  {
   "cell_type": "code",
   "execution_count": 13,
   "metadata": {},
   "outputs": [
    {
     "name": "stdout",
     "output_type": "stream",
     "text": [
      "Процент объектов с аномально низким значением года регистрации: 0.02%\n",
      "Процент объектов с аномально высоким значением года регистрации: 4.10%\n",
      "Процент объектов с аномальным значением года регистрации: 4.12%\n"
     ]
    }
   ],
   "source": [
    "# расчет и вывод на экран процента объектов с годом регистрации до 1900 или после 2016\n",
    "regyear_before_1900 = len(df.query('RegistrationYear < 1900')) / len(df)\n",
    "regyear_after_2016 = len(df.query('RegistrationYear > 2016')) / len(df)\n",
    "regyear_before_1900_after_2016 = regyear_before_1900 + regyear_after_2016\n",
    "\n",
    "print('Процент объектов с аномально низким значением года регистрации:', '{:.2%}'.format(regyear_before_1900))\n",
    "print('Процент объектов с аномально высоким значением года регистрации:', '{:.2%}'.format(regyear_after_2016))\n",
    "print('Процент объектов с аномальным значением года регистрации:', \n",
    "      '{:.2%}'.format(regyear_before_1900_after_2016))"
   ]
  },
  {
   "cell_type": "markdown",
   "metadata": {},
   "source": [
    "Мы видим, что:\n",
    "- процент объектов с аномальным значением года регистрации составляет ~4%;\n",
    "- большая часть таких объектов приходится на период после 2016 года.\n",
    "\n",
    "Изучим значения признака объектов с годом регистрации после 2016:"
   ]
  },
  {
   "cell_type": "code",
   "execution_count": 14,
   "metadata": {
    "scrolled": true
   },
   "outputs": [
    {
     "data": {
      "text/plain": [
       "2017    10441\n",
       "2018     3959\n",
       "9999       26\n",
       "2019       25\n",
       "5000       17\n",
       "Name: RegistrationYear, dtype: int64"
      ]
     },
     "execution_count": 14,
     "metadata": {},
     "output_type": "execute_result"
    }
   ],
   "source": [
    "# вывод на экран 5 наиболее частных значений признака RegistrationYear после 2016\n",
    "df.query('RegistrationYear > 2016')['RegistrationYear'].value_counts().head(5)"
   ]
  },
  {
   "cell_type": "markdown",
   "metadata": {},
   "source": [
    "Мы видим, что основная часть аномальных значений пригодится на 2017 и 2018 годы. Мы не можем на основе данных установить природу данных аномальных значений (например, значение 2017 может являться как ошибочно указанным значением 2016, так и ошибочно указанным значением 2007)."
   ]
  },
  {
   "cell_type": "markdown",
   "metadata": {},
   "source": [
    "#### Power"
   ]
  },
  {
   "cell_type": "markdown",
   "metadata": {},
   "source": [
    "Поскольку у нас нет предметных знаний о мощности автомобилей, которые позволили бы нам установить верхнюю и нижнюю границы нормальных значений, предположим, что аномальными будут один процент самых низких и самых высоких значений признака (без учета нулевых значений).\n",
    "\n",
    "Исхода из данного предположения:\n",
    "- найдем минимальное и максимальное нормальные значения признака; и\n",
    "- изучим его распределение."
   ]
  },
  {
   "cell_type": "code",
   "execution_count": 15,
   "metadata": {},
   "outputs": [
    {
     "name": "stdout",
     "output_type": "stream",
     "text": [
      "Минимальное нормальное значение признака Power (л.с.): 40.0\n",
      "Максимальное нормальное значение признака Power (л.с.): 340.0\n",
      "\n",
      "Power\n",
      "\n",
      "count    311180.00000\n",
      "mean        119.54956\n",
      "std          50.91660\n",
      "min          40.00000\n",
      "25%          75.00000\n",
      "50%         110.00000\n",
      "75%         150.00000\n",
      "max         340.00000\n",
      "Name: Power, dtype: float64\n"
     ]
    },
    {
     "data": {
      "image/png": "[encoded data removed]",
      "text/plain": [
       "<Figure size 864x864 with 2 Axes>"
      ]
     },
     "metadata": {},
     "output_type": "display_data"
    }
   ],
   "source": [
    "# создание выборки с объектами, мощность которых не равна нулю\n",
    "power_nonzero = df.query('Power != 0')['Power']\n",
    "\n",
    "# опредедение минимального и максимального нормальных значений признака\n",
    "# создание выборки с объектами, мощность которых лежит в нормальном диапазоне\n",
    "power_min = np.quantile(power_nonzero, 0.005)\n",
    "power_max = np.quantile(power_nonzero, 0.995)\n",
    "power_min_max = df.query('@power_min <= Power <= @power_max')['Power']\n",
    "\n",
    "# вывод на экран минимального и максимального нормальных значений признака\n",
    "print('Минимальное нормальное значение признака Power (л.с.):', power_min)\n",
    "print('Максимальное нормальное значение признака Power (л.с.):', power_max)\n",
    "print()\n",
    "\n",
    "# применение функции get_num_feature_information\n",
    "get_num_feature_information(power_min_max, 'gold', 31, range(int(power_min), int(power_max+1), 10))"
   ]
  },
  {
   "cell_type": "markdown",
   "metadata": {},
   "source": [
    "Мы видим, что:\n",
    "- средняя мощность составляет 110 л.с.;\n",
    "- половина значений находится в диапазоне от 75 до 150 л.с.;\n",
    "- пики значений приходятся на автомобили мощностью ~60-70, 100-110 и 140 л.с.;\n",
    "- на диаграмме размаха присутствуют выбросы после 260 л.с. (однако такие значения не выглядят аномальными)."
   ]
  },
  {
   "cell_type": "markdown",
   "metadata": {},
   "source": [
    "Посчитаем процент объектов, которые мы классифицировали как аномальные:"
   ]
  },
  {
   "cell_type": "code",
   "execution_count": 16,
   "metadata": {},
   "outputs": [
    {
     "name": "stdout",
     "output_type": "stream",
     "text": [
      "Процент объектов с аномально низким значением мощности: 11.75%\n",
      "Процент объектов с аномально высоким значением мощности: 0.43%\n",
      "Процент объектов с аномальным значением года регистрации: 12.19%\n"
     ]
    }
   ],
   "source": [
    "# расчет и вывод на экран процента объектов с мощностью менее 40 или более 340 л.с.\n",
    "power_below_40 = len(df.query('Power < @power_min')) / len(df)\n",
    "power_above_340 = len(df.query('Power > @power_max')) / len(df)\n",
    "power_below_40_or_above_340 = power_below_40 + power_above_340\n",
    "\n",
    "print('Процент объектов с аномально низким значением мощности:', '{:.2%}'.format(power_below_40))\n",
    "print('Процент объектов с аномально высоким значением мощности:', '{:.2%}'.format(power_above_340))\n",
    "print('Процент объектов с аномальным значением года регистрации:', \n",
    "      '{:.2%}'.format(power_below_40_or_above_340))"
   ]
  },
  {
   "cell_type": "markdown",
   "metadata": {},
   "source": [
    "Мы видим, что процент объектов с аномальным значением мощности составляет ~12% (как мы установили ранее, большая часть таких объектов имеет нулевое значение мощности)."
   ]
  },
  {
   "cell_type": "markdown",
   "metadata": {},
   "source": [
    "### Изучение категориальных признаков"
   ]
  },
  {
   "cell_type": "markdown",
   "metadata": {},
   "source": [
    "Датасет содержит 8 категориальных признаков: *VehicleType*, *Gearbox*, *Model*, *RegistrationMonth*, *FuelType*, *Brand*, *NotRepaired*, *PostalCode*.\n",
    "\n",
    "Изучим по каждому признаку количество уникальных значений и сами уникальные значения:"
   ]
  },
  {
   "cell_type": "code",
   "execution_count": 17,
   "metadata": {
    "scrolled": false
   },
   "outputs": [
    {
     "name": "stdout",
     "output_type": "stream",
     "text": [
      "Количество уникальных значений:\n",
      "\n",
      "PostalCode           8143\n",
      "Model                 250\n",
      "Brand                  40\n",
      "RegistrationMonth      13\n",
      "VehicleType             8\n",
      "FuelType                7\n",
      "Gearbox                 2\n",
      "NotRepaired             2\n",
      "dtype: int64\n",
      "\n",
      "Уникальные значения:\n",
      "\n",
      "VehicleType\n",
      "\n",
      "['bus' 'convertible' 'coupe' 'other' 'sedan' 'small' 'suv' 'wagon' nan]\n",
      "--------------------------------------------------------------------------------\n",
      "\n",
      "Gearbox\n",
      "\n",
      "['auto' 'manual' nan]\n",
      "--------------------------------------------------------------------------------\n",
      "\n",
      "Model\n",
      "\n",
      "['100' '145' '147' '156' '159' '1_reihe' '1er' '200' '2_reihe' '300c'\n",
      " '3_reihe' '3er' '4_reihe' '500' '5_reihe' '5er' '601' '6_reihe' '6er'\n",
      " '7er' '80' '850' '90' '900' '9000' '911' 'a1' 'a2' 'a3' 'a4' 'a5' 'a6'\n",
      " 'a8' 'a_klasse' 'accord' 'agila' 'alhambra' 'almera' 'altea' 'amarok'\n",
      " 'antara' 'arosa' 'astra' 'auris' 'avensis' 'aveo' 'aygo' 'b_klasse'\n",
      " 'b_max' 'beetle' 'berlingo' 'bora' 'boxster' 'bravo' 'c1' 'c2' 'c3' 'c4'\n",
      " 'c5' 'c_klasse' 'c_max' 'c_reihe' 'caddy' 'calibra' 'captiva' 'carisma'\n",
      " 'carnival' 'cayenne' 'cc' 'ceed' 'charade' 'cherokee' 'citigo' 'civic'\n",
      " 'cl' 'clio' 'clk' 'clubman' 'colt' 'combo' 'cooper' 'cordoba' 'corolla'\n",
      " 'corsa' 'cr_reihe' 'croma' 'crossfire' 'cuore' 'cx_reihe' 'defender'\n",
      " 'delta' 'discovery' 'doblo' 'ducato' 'duster' 'e_klasse' 'elefantino'\n",
      " 'eos' 'escort' 'espace' 'exeo' 'fabia' 'fiesta' 'focus' 'forester'\n",
      " 'forfour' 'fortwo' 'fox' 'freelander' 'fusion' 'g_klasse' 'galant'\n",
      " 'galaxy' 'getz' 'gl' 'glk' 'golf' 'grand' 'i3' 'i_reihe' 'ibiza'\n",
      " 'impreza' 'insignia' 'jazz' 'jetta' 'jimny' 'juke' 'justy' 'ka' 'kadett'\n",
      " 'kaefer' 'kalina' 'kalos' 'kangoo' 'kappa' 'kuga' 'laguna' 'lancer'\n",
      " 'lanos' 'legacy' 'leon' 'lodgy' 'logan' 'lupo' 'lybra' 'm_klasse'\n",
      " 'm_reihe' 'materia' 'matiz' 'megane' 'meriva' 'micra' 'mii' 'modus'\n",
      " 'mondeo' 'move' 'musa' 'mustang' 'mx_reihe' 'navara' 'niva' 'note'\n",
      " 'nubira' 'octavia' 'omega' 'one' 'other' 'outlander' 'pajero' 'panda'\n",
      " 'passat' 'phaeton' 'picanto' 'polo' 'primera' 'ptcruiser' 'punto' 'q3'\n",
      " 'q5' 'q7' 'qashqai' 'r19' 'range_rover' 'range_rover_evoque'\n",
      " 'range_rover_sport' 'rangerover' 'rav' 'rio' 'roadster' 'roomster'\n",
      " 'rx_reihe' 's60' 's_klasse' 's_max' 's_type' 'samara' 'sandero' 'santa'\n",
      " 'scenic' 'scirocco' 'seicento' 'serie_1' 'serie_2' 'serie_3' 'sharan'\n",
      " 'signum' 'sirion' 'sl' 'slk' 'sorento' 'spark' 'spider' 'sportage'\n",
      " 'sprinter' 'stilo' 'superb' 'swift' 'terios' 'tigra' 'tiguan' 'toledo'\n",
      " 'touareg' 'touran' 'transit' 'transporter' 'tt' 'tucson' 'twingo' 'up'\n",
      " 'v40' 'v50' 'v60' 'v70' 'v_klasse' 'vectra' 'verso' 'viano' 'vito'\n",
      " 'vivaro' 'voyager' 'wrangler' 'x_reihe' 'x_trail' 'x_type' 'xc_reihe'\n",
      " 'yaris' 'yeti' 'ypsilon' 'z_reihe' 'zafira' nan]\n",
      "--------------------------------------------------------------------------------\n",
      "\n",
      "RegistrationMonth\n",
      "\n",
      "[ 0  1  2  3  4  5  6  7  8  9 10 11 12]\n",
      "--------------------------------------------------------------------------------\n",
      "\n",
      "FuelType\n",
      "\n",
      "['cng' 'electric' 'gasoline' 'hybrid' 'lpg' 'other' 'petrol' nan]\n",
      "--------------------------------------------------------------------------------\n",
      "\n",
      "Brand\n",
      "\n",
      "['alfa_romeo' 'audi' 'bmw' 'chevrolet' 'chrysler' 'citroen' 'dacia'\n",
      " 'daewoo' 'daihatsu' 'fiat' 'ford' 'honda' 'hyundai' 'jaguar' 'jeep' 'kia'\n",
      " 'lada' 'lancia' 'land_rover' 'mazda' 'mercedes_benz' 'mini' 'mitsubishi'\n",
      " 'nissan' 'opel' 'peugeot' 'porsche' 'renault' 'rover' 'saab' 'seat'\n",
      " 'skoda' 'smart' 'sonstige_autos' 'subaru' 'suzuki' 'toyota' 'trabant'\n",
      " 'volkswagen' 'volvo']\n",
      "--------------------------------------------------------------------------------\n",
      "\n",
      "NotRepaired\n",
      "\n",
      "['no' 'yes' nan]\n",
      "--------------------------------------------------------------------------------\n",
      "\n",
      "PostalCode\n",
      "\n",
      "[ 1067  1068  1069 ... 99994 99996 99998]\n",
      "--------------------------------------------------------------------------------\n",
      "\n"
     ]
    }
   ],
   "source": [
    "# создание списка названий категориальных признаков\n",
    "categorical_features = ['VehicleType', 'Gearbox', 'Model', 'RegistrationMonth', \n",
    "                        'FuelType', 'Brand', 'NotRepaired', 'PostalCode']\n",
    "\n",
    "# вывод на экран количества уникальных значений категориальных признаков (по убыванию)\n",
    "print('Количество уникальных значений:')\n",
    "print()\n",
    "print(df[categorical_features].nunique().sort_values(ascending=False))\n",
    "print()\n",
    "\n",
    "# по каждому категориальному признаку вывод на экран уникальных значений\n",
    "print('Уникальные значения:')\n",
    "print()\n",
    "for col in df[categorical_features].columns:    \n",
    "    print(col)\n",
    "    print()\n",
    "    print(df[col].sort_values().unique())\n",
    "    print('-' * 80)\n",
    "    print()"
   ]
  },
  {
   "cell_type": "markdown",
   "metadata": {},
   "source": [
    "Мы видим, что:\n",
    "- признаки *Model* и *PostalCode* содержат 250 и 8 143 уникальных значений (т.е. каждый содержит больше значений, чем все остальные категориальные признаки вместе взятые), поэтому использование данных признаков для построения моделей на основе алгоритмов, требующих кодирования категориальных признаков, может существенно увеличить время обучения таких моделей;\n",
    "- категориальные признаки не содержат аномальных значений (среди уникальных значений *PostalCode* есть как четырех-, так и пятизначные значения, однако поскольку мы не знаем, в какой стране (или странах) работает сервис, то мы не можем однозначно определить, что какие-либо значения данного признака являются аномальными);\n",
    "- признаки содержат неявные дубликаты:\n",
    "    - *FuelType*: значения *gasoline* и *petrol* являются разными названиями одного и того же типа топлива, используемыми в разных странах;\n",
    "    - *Brand*: значения *rover* и *land_rover* являются разным написанием одной и той же марки;\n",
    "    - *Model*: *rangerover* и *range_rover* являются разным написанием одной и той же модели."
   ]
  },
  {
   "cell_type": "markdown",
   "metadata": {},
   "source": [
    "### Изучение календарных признаков"
   ]
  },
  {
   "cell_type": "markdown",
   "metadata": {},
   "source": [
    "Датасет содержит 3 календарных признака: *DateCrawled*, *DateCreated* и *LastSeen*.\n",
    "\n",
    "Для работы с ними сначала изменим тип данных признаков на *datetime*:"
   ]
  },
  {
   "cell_type": "code",
   "execution_count": 18,
   "metadata": {},
   "outputs": [
    {
     "data": {
      "text/plain": [
       "DateCrawled    datetime64[ns]\n",
       "DateCreated    datetime64[ns]\n",
       "LastSeen       datetime64[ns]\n",
       "dtype: object"
      ]
     },
     "execution_count": 18,
     "metadata": {},
     "output_type": "execute_result"
    }
   ],
   "source": [
    "# создание списка названий календарных признаков\n",
    "datetime_features = ['DateCrawled', 'DateCreated', 'LastSeen']\n",
    "\n",
    "# изменение типа данных столбцов с календарными признаками\n",
    "df[datetime_features] = df[datetime_features].apply(pd.to_datetime)\n",
    "\n",
    "# проверка изменения типа данных\n",
    "df[datetime_features].dtypes"
   ]
  },
  {
   "cell_type": "markdown",
   "metadata": {},
   "source": [
    "Изучим описательную статистику по календарным признакам:"
   ]
  },
  {
   "cell_type": "code",
   "execution_count": 19,
   "metadata": {},
   "outputs": [
    {
     "data": {
      "text/html": [
       "<div>\n",
       "<style scoped>\n",
       "    .dataframe tbody tr th:only-of-type {\n",
       "        vertical-align: middle;\n",
       "    }\n",
       "\n",
       "    .dataframe tbody tr th {\n",
       "        vertical-align: top;\n",
       "    }\n",
       "\n",
       "    .dataframe thead th {\n",
       "        text-align: right;\n",
       "    }\n",
       "</style>\n",
       "<table border=\"1\" class=\"dataframe\">\n",
       "  <thead>\n",
       "    <tr style=\"text-align: right;\">\n",
       "      <th></th>\n",
       "      <th>DateCrawled</th>\n",
       "      <th>DateCreated</th>\n",
       "      <th>LastSeen</th>\n",
       "    </tr>\n",
       "  </thead>\n",
       "  <tbody>\n",
       "    <tr>\n",
       "      <th>count</th>\n",
       "      <td>354369</td>\n",
       "      <td>354369</td>\n",
       "      <td>354369</td>\n",
       "    </tr>\n",
       "    <tr>\n",
       "      <th>unique</th>\n",
       "      <td>271174</td>\n",
       "      <td>109</td>\n",
       "      <td>179150</td>\n",
       "    </tr>\n",
       "    <tr>\n",
       "      <th>top</th>\n",
       "      <td>2016-03-24 14:49:47</td>\n",
       "      <td>2016-04-03 00:00:00</td>\n",
       "      <td>2016-04-06 13:45:54</td>\n",
       "    </tr>\n",
       "    <tr>\n",
       "      <th>freq</th>\n",
       "      <td>7</td>\n",
       "      <td>13719</td>\n",
       "      <td>17</td>\n",
       "    </tr>\n",
       "    <tr>\n",
       "      <th>first</th>\n",
       "      <td>2016-03-05 14:06:22</td>\n",
       "      <td>2014-03-10 00:00:00</td>\n",
       "      <td>2016-03-05 14:15:08</td>\n",
       "    </tr>\n",
       "    <tr>\n",
       "      <th>last</th>\n",
       "      <td>2016-04-07 14:36:58</td>\n",
       "      <td>2016-04-07 00:00:00</td>\n",
       "      <td>2016-04-07 14:58:51</td>\n",
       "    </tr>\n",
       "  </tbody>\n",
       "</table>\n",
       "</div>"
      ],
      "text/plain": [
       "                DateCrawled          DateCreated             LastSeen\n",
       "count                354369               354369               354369\n",
       "unique               271174                  109               179150\n",
       "top     2016-03-24 14:49:47  2016-04-03 00:00:00  2016-04-06 13:45:54\n",
       "freq                      7                13719                   17\n",
       "first   2016-03-05 14:06:22  2014-03-10 00:00:00  2016-03-05 14:15:08\n",
       "last    2016-04-07 14:36:58  2016-04-07 00:00:00  2016-04-07 14:58:51"
      ]
     },
     "execution_count": 19,
     "metadata": {},
     "output_type": "execute_result"
    }
   ],
   "source": [
    "# применение метода describe()\n",
    "df[datetime_features].describe()"
   ]
  },
  {
   "cell_type": "markdown",
   "metadata": {},
   "source": [
    "Мы видим, что:\n",
    "- в датасете представлены данные об анкетах, размещенных с марта 2014 по апрель 2016 года;\n",
    "- анкеты были скачаны с сайта с марта по апрель 2016 года.\n",
    "\n",
    "Проверим датасет на наличие следующих аномалий:\n",
    "- дата скачивания анкеты раньше даты создания анкеты;\n",
    "- дата последней активности пользователя раньше даты создания анкеты."
   ]
  },
  {
   "cell_type": "code",
   "execution_count": 20,
   "metadata": {},
   "outputs": [
    {
     "name": "stdout",
     "output_type": "stream",
     "text": [
      "Количество объектов, в которых дата скачивания анкеты раньше даты создания анкеты: 0\n",
      "Количество объектов, в которых дата последней активности пользователя раньше даты создания анкеты: 0\n"
     ]
    }
   ],
   "source": [
    "# вывод на экран количества объектов, в которых:\n",
    "# - дата скачивания анкеты раньше даты создания анкеты;\n",
    "# - дата последней активности пользователя раньше даты создания анкеты.\n",
    "print('Количество объектов, в которых дата скачивания анкеты раньше даты создания анкеты:',\n",
    "      df[datetime_features].query('DateCrawled < DateCreated')['DateCrawled'].count())\n",
    "print('Количество объектов, в которых дата последней активности пользователя раньше даты создания анкеты:',\n",
    "      df[datetime_features].query('LastSeen < DateCreated')['DateCrawled'].count())"
   ]
  },
  {
   "cell_type": "markdown",
   "metadata": {},
   "source": [
    "Аномалии не выявлены."
   ]
  },
  {
   "cell_type": "markdown",
   "metadata": {},
   "source": [
    "### Выводы"
   ]
  },
  {
   "cell_type": "markdown",
   "metadata": {},
   "source": [
    "По результатам изучения данных мы пришли к следующим выводам:\n",
    "\n",
    "*Общие выводы*\n",
    "\n",
    "- в датасете 354 369 объектов, один объект содержит информацию об одной анкете о продаже автомобиля;\n",
    "- по каждому объекто доступно 16 признаков:\n",
    "    - 5 количественных (*Price*, *RegistrationYear*, *Power*, *Kilometer*, *NumberOfPictures*);\n",
    "    - 8 категориальных (*VehicleType*, *Gearbox*, *Model*, *RegistrationMonth*, *FuelType*, *Brand*, *NotRepaired*, *PostalCode*);\n",
    "    - 3 календарных (*DateCrawled*, *DateCreated*, *LastSeen*).\n",
    "- в значениях 5 категориальных признаков есть пропуски, их процент составлет ~6-20 процентов.\n",
    "\n",
    "*Количественные признаки*\n",
    "\n",
    "- все количественные признаки имеют тип *int64*; в зависимости от диапазона их значений в целях оптимизации данных возможно изменить их тип на *int64*, *int16* или *int8*;\n",
    "- признак *NumberOfPictures* содержит только нулевые значения (т.е. данный признак неинформативен для целей построения модели);\n",
    "- признаки *Price* *RegistrationYear* и *Power* содержат аномальные минимальное и максимальное значения (по итогам их анализа мы подобрали пороги нормальных значений);\n",
    "- признаки *Price* и *Power* содержат нулевые значения (~3-11 процентов), которые могут быть неявными пропусками.\n",
    "\n",
    "*Категориальныпе признаки*\n",
    "\n",
    "- признаки *Model* и *PostalCode* содержат 250 и 8 143 уникальных значений, поэтому использование данных признаков для построения моделей на основе алгоритмов, требующих кодирования категориальных признаков, может существенно увеличить время обучения таких моделей;\n",
    "- категориальные признаки не содержат аномальных значени;\n",
    "- признаки *FuelType*, *Brand* и *Model* содержат неявные дубликаты.\n",
    "\n",
    "*Календарные признаки*\n",
    "\n",
    "- календарные признаки имеют тип *object*, для работы с данными признаками необходимо изменить их тип на *datetime*;\n",
    "- в датасете представлены данные об анкетах, размещенных с марта 2014 по апрель 2016 года;\n",
    "- анкеты были скачаны с сайта с марта по апрель 2016 года;\n",
    "- аномалии не выявлены.\n",
    "\n",
    "На следующем этапе подготовим данные, устранив выявленные пропуски, аномальные значения и дубликаты."
   ]
  },
  {
   "cell_type": "markdown",
   "metadata": {},
   "source": [
    "## Подготовка данных"
   ]
  },
  {
   "cell_type": "markdown",
   "metadata": {},
   "source": [
    "В ходе подготовки данных мы:\n",
    "- устраним пропуски; \n",
    "- устраним аномальные значения;\n",
    "- устраним неявные дубликаты;\n",
    "- проведем поиск и устранение явных дубликатов; и\n",
    "- оптимизируем тип данных признаков с числовыми значениями.\n",
    "\n",
    "После вышеуказанных действий мы рассчитаем, на сколько процентов сократился исходный датасет."
   ]
  },
  {
   "cell_type": "markdown",
   "metadata": {},
   "source": [
    "Перед подготовкой данной сохраним размер исходного датасета в отдельную переменную"
   ]
  },
  {
   "cell_type": "code",
   "execution_count": 21,
   "metadata": {},
   "outputs": [
    {
     "data": {
      "text/plain": [
       "(354369, 16)"
      ]
     },
     "execution_count": 21,
     "metadata": {},
     "output_type": "execute_result"
    }
   ],
   "source": [
    "# создание переменной с размером исходного датасета\n",
    "df_initital_shape = df.shape\n",
    "\n",
    "# проверка создания переменной с размером исходного датасета\n",
    "df_initital_shape"
   ]
  },
  {
   "cell_type": "markdown",
   "metadata": {},
   "source": [
    "### Устранение пропусков"
   ]
  },
  {
   "cell_type": "markdown",
   "metadata": {},
   "source": [
    "Как мы установили ранее: \n",
    "- пропуски содержатся в 5 категориальных признаках;\n",
    "- пропуски составляют ~6-20 процентов данных.\n",
    "\n",
    "Мы не можем восстановить пропущенные значения на основании значений других признаков, а удаление содержащих пропуски объектов приведет к потере значительной доли данных. Поэтому заполним пропуски значением - индикатором пропуска *unknown*:"
   ]
  },
  {
   "cell_type": "code",
   "execution_count": 22,
   "metadata": {},
   "outputs": [
    {
     "name": "stdout",
     "output_type": "stream",
     "text": [
      "\n",
      "Количество пропусков: 0\n"
     ]
    }
   ],
   "source": [
    "# заполнение пропусков\n",
    "df.fillna('unknown', inplace=True)\n",
    "\n",
    "# проверка устранения пропусков\n",
    "print()\n",
    "print('Количество пропусков:', df.isna().sum().sum())"
   ]
  },
  {
   "cell_type": "markdown",
   "metadata": {},
   "source": [
    "### Устранение аномальных значений"
   ]
  },
  {
   "cell_type": "markdown",
   "metadata": {},
   "source": [
    "Как мы установили ранее: \n",
    "- аномальные значения содержатся в 3 количественных признаках;\n",
    "- аномальные значения составляют ~4-12 процентов данных.\n",
    "\n",
    "Мы не можем восстановить пропущенные значения на основании значений других признаков, а их заполнение константным значением может привести к искажению данных. Поэтому устраним аномальные значения путем удаления содержащих аномальные значения объектов:"
   ]
  },
  {
   "cell_type": "code",
   "execution_count": 23,
   "metadata": {},
   "outputs": [
    {
     "name": "stdout",
     "output_type": "stream",
     "text": [
      "Количество объектов с аномальными значениями: 0\n"
     ]
    }
   ],
   "source": [
    "# устранение аномальных значений\n",
    "df = df.query(\n",
    "    '100 <= Price and \\\n",
    "    1900 <= RegistrationYear <= 2016 and \\\n",
    "    40 <= Power <= 340')\n",
    "\n",
    "# проверка устранения аномальных значений\n",
    "anomalies_count = len(df.query(\n",
    "    'Price < 100 or \\\n",
    "    RegistrationYear < 1900 or \\\n",
    "    RegistrationYear > 2016 or \\\n",
    "    Power < 40 or \\\n",
    "    Power > 340'))\n",
    "\n",
    "print('Количество объектов с аномальными значениями:', anomalies_count)"
   ]
  },
  {
   "cell_type": "markdown",
   "metadata": {},
   "source": [
    "### Устранение неявных дубликатов"
   ]
  },
  {
   "cell_type": "markdown",
   "metadata": {},
   "source": [
    "Устраним выявленные неявные дубликаты:"
   ]
  },
  {
   "cell_type": "code",
   "execution_count": 24,
   "metadata": {},
   "outputs": [
    {
     "name": "stdout",
     "output_type": "stream",
     "text": [
      "Количество неявных дубликатов: 0\n"
     ]
    }
   ],
   "source": [
    "# создание словаря с неявными дубликатами их заменами\n",
    "duplicates_dict = {\n",
    "    'gasoline':'petrol',\n",
    "    'rover':'land_rover',\n",
    "    'rangerover':'range_rover'\n",
    "}\n",
    "\n",
    "# замена неявных дубликатов\n",
    "df.replace(duplicates_dict, inplace=True)\n",
    "\n",
    "# проверка замены неявных дубликатов\n",
    "duplicates_count = len(df.query('FuelType == \"gasoline\" or \\\n",
    "                                Brand == \"rover\" or \\\n",
    "                                Model == \"rangerover\"'))\n",
    "\n",
    "print('Количество неявных дубликатов:', duplicates_count)"
   ]
  },
  {
   "cell_type": "markdown",
   "metadata": {},
   "source": [
    "### Поиск и устранение явных дубликатов"
   ]
  },
  {
   "cell_type": "markdown",
   "metadata": {},
   "source": [
    "Произведем поиск явных дубликатов:"
   ]
  },
  {
   "cell_type": "code",
   "execution_count": 25,
   "metadata": {},
   "outputs": [
    {
     "name": "stdout",
     "output_type": "stream",
     "text": [
      "Количество явных дубликатов: 4\n"
     ]
    }
   ],
   "source": [
    "# подсчет и вывод на экран количества явных дубликатов\n",
    "print('Количество явных дубликатов:', df.duplicated().sum())"
   ]
  },
  {
   "cell_type": "markdown",
   "metadata": {},
   "source": [
    "Датасет содержит 4 явных дубликата. Изучим их:"
   ]
  },
  {
   "cell_type": "code",
   "execution_count": 26,
   "metadata": {},
   "outputs": [
    {
     "data": {
      "text/html": [
       "<div>\n",
       "<style scoped>\n",
       "    .dataframe tbody tr th:only-of-type {\n",
       "        vertical-align: middle;\n",
       "    }\n",
       "\n",
       "    .dataframe tbody tr th {\n",
       "        vertical-align: top;\n",
       "    }\n",
       "\n",
       "    .dataframe thead th {\n",
       "        text-align: right;\n",
       "    }\n",
       "</style>\n",
       "<table border=\"1\" class=\"dataframe\">\n",
       "  <thead>\n",
       "    <tr style=\"text-align: right;\">\n",
       "      <th></th>\n",
       "      <th>DateCrawled</th>\n",
       "      <th>Price</th>\n",
       "      <th>VehicleType</th>\n",
       "      <th>RegistrationYear</th>\n",
       "      <th>Gearbox</th>\n",
       "      <th>Power</th>\n",
       "      <th>Model</th>\n",
       "      <th>Kilometer</th>\n",
       "      <th>RegistrationMonth</th>\n",
       "      <th>FuelType</th>\n",
       "      <th>Brand</th>\n",
       "      <th>NotRepaired</th>\n",
       "      <th>DateCreated</th>\n",
       "      <th>NumberOfPictures</th>\n",
       "      <th>PostalCode</th>\n",
       "      <th>LastSeen</th>\n",
       "    </tr>\n",
       "  </thead>\n",
       "  <tbody>\n",
       "    <tr>\n",
       "      <th>88087</th>\n",
       "      <td>2016-03-08 18:42:48</td>\n",
       "      <td>1799</td>\n",
       "      <td>coupe</td>\n",
       "      <td>1999</td>\n",
       "      <td>auto</td>\n",
       "      <td>193</td>\n",
       "      <td>clk</td>\n",
       "      <td>20000</td>\n",
       "      <td>7</td>\n",
       "      <td>petrol</td>\n",
       "      <td>mercedes_benz</td>\n",
       "      <td>no</td>\n",
       "      <td>2016-03-08</td>\n",
       "      <td>0</td>\n",
       "      <td>89518</td>\n",
       "      <td>2016-03-09 09:46:57</td>\n",
       "    </tr>\n",
       "    <tr>\n",
       "      <th>171088</th>\n",
       "      <td>2016-03-08 18:42:48</td>\n",
       "      <td>1799</td>\n",
       "      <td>coupe</td>\n",
       "      <td>1999</td>\n",
       "      <td>auto</td>\n",
       "      <td>193</td>\n",
       "      <td>clk</td>\n",
       "      <td>20000</td>\n",
       "      <td>7</td>\n",
       "      <td>petrol</td>\n",
       "      <td>mercedes_benz</td>\n",
       "      <td>no</td>\n",
       "      <td>2016-03-08</td>\n",
       "      <td>0</td>\n",
       "      <td>89518</td>\n",
       "      <td>2016-03-09 09:46:57</td>\n",
       "    </tr>\n",
       "    <tr>\n",
       "      <th>41529</th>\n",
       "      <td>2016-03-18 18:46:15</td>\n",
       "      <td>1999</td>\n",
       "      <td>wagon</td>\n",
       "      <td>2001</td>\n",
       "      <td>manual</td>\n",
       "      <td>131</td>\n",
       "      <td>passat</td>\n",
       "      <td>150000</td>\n",
       "      <td>7</td>\n",
       "      <td>petrol</td>\n",
       "      <td>volkswagen</td>\n",
       "      <td>no</td>\n",
       "      <td>2016-03-18</td>\n",
       "      <td>0</td>\n",
       "      <td>36391</td>\n",
       "      <td>2016-03-18 18:46:15</td>\n",
       "    </tr>\n",
       "    <tr>\n",
       "      <th>325651</th>\n",
       "      <td>2016-03-18 18:46:15</td>\n",
       "      <td>1999</td>\n",
       "      <td>wagon</td>\n",
       "      <td>2001</td>\n",
       "      <td>manual</td>\n",
       "      <td>131</td>\n",
       "      <td>passat</td>\n",
       "      <td>150000</td>\n",
       "      <td>7</td>\n",
       "      <td>petrol</td>\n",
       "      <td>volkswagen</td>\n",
       "      <td>no</td>\n",
       "      <td>2016-03-18</td>\n",
       "      <td>0</td>\n",
       "      <td>36391</td>\n",
       "      <td>2016-03-18 18:46:15</td>\n",
       "    </tr>\n",
       "    <tr>\n",
       "      <th>90964</th>\n",
       "      <td>2016-03-28 00:56:10</td>\n",
       "      <td>1000</td>\n",
       "      <td>small</td>\n",
       "      <td>2002</td>\n",
       "      <td>manual</td>\n",
       "      <td>83</td>\n",
       "      <td>other</td>\n",
       "      <td>150000</td>\n",
       "      <td>1</td>\n",
       "      <td>petrol</td>\n",
       "      <td>suzuki</td>\n",
       "      <td>no</td>\n",
       "      <td>2016-03-28</td>\n",
       "      <td>0</td>\n",
       "      <td>66589</td>\n",
       "      <td>2016-03-28 08:46:21</td>\n",
       "    </tr>\n",
       "    <tr>\n",
       "      <th>231258</th>\n",
       "      <td>2016-03-28 00:56:10</td>\n",
       "      <td>1000</td>\n",
       "      <td>small</td>\n",
       "      <td>2002</td>\n",
       "      <td>manual</td>\n",
       "      <td>83</td>\n",
       "      <td>other</td>\n",
       "      <td>150000</td>\n",
       "      <td>1</td>\n",
       "      <td>petrol</td>\n",
       "      <td>suzuki</td>\n",
       "      <td>no</td>\n",
       "      <td>2016-03-28</td>\n",
       "      <td>0</td>\n",
       "      <td>66589</td>\n",
       "      <td>2016-03-28 08:46:21</td>\n",
       "    </tr>\n",
       "    <tr>\n",
       "      <th>187735</th>\n",
       "      <td>2016-04-03 09:01:15</td>\n",
       "      <td>4699</td>\n",
       "      <td>coupe</td>\n",
       "      <td>2003</td>\n",
       "      <td>auto</td>\n",
       "      <td>218</td>\n",
       "      <td>clk</td>\n",
       "      <td>125000</td>\n",
       "      <td>6</td>\n",
       "      <td>petrol</td>\n",
       "      <td>mercedes_benz</td>\n",
       "      <td>yes</td>\n",
       "      <td>2016-04-03</td>\n",
       "      <td>0</td>\n",
       "      <td>75196</td>\n",
       "      <td>2016-04-07 09:44:54</td>\n",
       "    </tr>\n",
       "    <tr>\n",
       "      <th>258109</th>\n",
       "      <td>2016-04-03 09:01:15</td>\n",
       "      <td>4699</td>\n",
       "      <td>coupe</td>\n",
       "      <td>2003</td>\n",
       "      <td>auto</td>\n",
       "      <td>218</td>\n",
       "      <td>clk</td>\n",
       "      <td>125000</td>\n",
       "      <td>6</td>\n",
       "      <td>petrol</td>\n",
       "      <td>mercedes_benz</td>\n",
       "      <td>yes</td>\n",
       "      <td>2016-04-03</td>\n",
       "      <td>0</td>\n",
       "      <td>75196</td>\n",
       "      <td>2016-04-07 09:44:54</td>\n",
       "    </tr>\n",
       "  </tbody>\n",
       "</table>\n",
       "</div>"
      ],
      "text/plain": [
       "               DateCrawled  Price VehicleType  RegistrationYear Gearbox  \\\n",
       "88087  2016-03-08 18:42:48   1799       coupe              1999    auto   \n",
       "171088 2016-03-08 18:42:48   1799       coupe              1999    auto   \n",
       "41529  2016-03-18 18:46:15   1999       wagon              2001  manual   \n",
       "325651 2016-03-18 18:46:15   1999       wagon              2001  manual   \n",
       "90964  2016-03-28 00:56:10   1000       small              2002  manual   \n",
       "231258 2016-03-28 00:56:10   1000       small              2002  manual   \n",
       "187735 2016-04-03 09:01:15   4699       coupe              2003    auto   \n",
       "258109 2016-04-03 09:01:15   4699       coupe              2003    auto   \n",
       "\n",
       "        Power   Model  Kilometer  RegistrationMonth FuelType          Brand  \\\n",
       "88087     193     clk      20000                  7   petrol  mercedes_benz   \n",
       "171088    193     clk      20000                  7   petrol  mercedes_benz   \n",
       "41529     131  passat     150000                  7   petrol     volkswagen   \n",
       "325651    131  passat     150000                  7   petrol     volkswagen   \n",
       "90964      83   other     150000                  1   petrol         suzuki   \n",
       "231258     83   other     150000                  1   petrol         suzuki   \n",
       "187735    218     clk     125000                  6   petrol  mercedes_benz   \n",
       "258109    218     clk     125000                  6   petrol  mercedes_benz   \n",
       "\n",
       "       NotRepaired DateCreated  NumberOfPictures  PostalCode  \\\n",
       "88087           no  2016-03-08                 0       89518   \n",
       "171088          no  2016-03-08                 0       89518   \n",
       "41529           no  2016-03-18                 0       36391   \n",
       "325651          no  2016-03-18                 0       36391   \n",
       "90964           no  2016-03-28                 0       66589   \n",
       "231258          no  2016-03-28                 0       66589   \n",
       "187735         yes  2016-04-03                 0       75196   \n",
       "258109         yes  2016-04-03                 0       75196   \n",
       "\n",
       "                  LastSeen  \n",
       "88087  2016-03-09 09:46:57  \n",
       "171088 2016-03-09 09:46:57  \n",
       "41529  2016-03-18 18:46:15  \n",
       "325651 2016-03-18 18:46:15  \n",
       "90964  2016-03-28 08:46:21  \n",
       "231258 2016-03-28 08:46:21  \n",
       "187735 2016-04-07 09:44:54  \n",
       "258109 2016-04-07 09:44:54  "
      ]
     },
     "execution_count": 26,
     "metadata": {},
     "output_type": "execute_result"
    }
   ],
   "source": [
    "# вывод на экран дубликатов\n",
    "df[df.duplicated(keep=False)].sort_values(by='DateCrawled')"
   ]
  },
  {
   "cell_type": "markdown",
   "metadata": {},
   "source": [
    "С одной стороны, датасет не содержит уникальных идентификаторов анкет, которые позволили сделать однозначный вывод о том, что объекты с одинаковыми признаками являются дубликатами.\n",
    "\n",
    "С другой стороны, поскольку у объектов совпадают 16 признаков (включая дату и время создания анкеты и последней активности пользователя), с высокой вероятностью данные объекты являются дубликатами.\n",
    "\n",
    "С учетом незначительного процента дубликатов устраним их путем удаления объектов-дубликатов:"
   ]
  },
  {
   "cell_type": "code",
   "execution_count": 27,
   "metadata": {},
   "outputs": [
    {
     "name": "stdout",
     "output_type": "stream",
     "text": [
      "Количество явных дубликатов: 0\n"
     ]
    }
   ],
   "source": [
    "# удаление явных дубликатов\n",
    "df.drop_duplicates(inplace=True, ignore_index=True)\n",
    "\n",
    "# проверка удаления явных дубликатов\n",
    "print('Количество явных дубликатов:', df.duplicated().sum())"
   ]
  },
  {
   "cell_type": "markdown",
   "metadata": {},
   "source": [
    "### Оптимизация типа данных признаков с числовыми значениями"
   ]
  },
  {
   "cell_type": "markdown",
   "metadata": {},
   "source": [
    "Для оптимизации изучим диапазон значений каждого признака:"
   ]
  },
  {
   "cell_type": "code",
   "execution_count": 28,
   "metadata": {},
   "outputs": [
    {
     "data": {
      "text/html": [
       "<div>\n",
       "<style scoped>\n",
       "    .dataframe tbody tr th:only-of-type {\n",
       "        vertical-align: middle;\n",
       "    }\n",
       "\n",
       "    .dataframe tbody tr th {\n",
       "        vertical-align: top;\n",
       "    }\n",
       "\n",
       "    .dataframe thead th {\n",
       "        text-align: right;\n",
       "    }\n",
       "</style>\n",
       "<table border=\"1\" class=\"dataframe\">\n",
       "  <thead>\n",
       "    <tr style=\"text-align: right;\">\n",
       "      <th></th>\n",
       "      <th>Price</th>\n",
       "      <th>RegistrationYear</th>\n",
       "      <th>Power</th>\n",
       "      <th>Kilometer</th>\n",
       "      <th>RegistrationMonth</th>\n",
       "      <th>NumberOfPictures</th>\n",
       "      <th>PostalCode</th>\n",
       "    </tr>\n",
       "  </thead>\n",
       "  <tbody>\n",
       "    <tr>\n",
       "      <th>count</th>\n",
       "      <td>293006.000000</td>\n",
       "      <td>293006.000000</td>\n",
       "      <td>293006.000000</td>\n",
       "      <td>293006.000000</td>\n",
       "      <td>293006.000000</td>\n",
       "      <td>293006.0</td>\n",
       "      <td>293006.000000</td>\n",
       "    </tr>\n",
       "    <tr>\n",
       "      <th>mean</th>\n",
       "      <td>4848.745814</td>\n",
       "      <td>2002.900842</td>\n",
       "      <td>120.055204</td>\n",
       "      <td>128468.683235</td>\n",
       "      <td>6.001577</td>\n",
       "      <td>0.0</td>\n",
       "      <td>51256.145256</td>\n",
       "    </tr>\n",
       "    <tr>\n",
       "      <th>std</th>\n",
       "      <td>4585.274930</td>\n",
       "      <td>6.379632</td>\n",
       "      <td>50.952704</td>\n",
       "      <td>36540.942951</td>\n",
       "      <td>3.579975</td>\n",
       "      <td>0.0</td>\n",
       "      <td>25758.830558</td>\n",
       "    </tr>\n",
       "    <tr>\n",
       "      <th>min</th>\n",
       "      <td>100.000000</td>\n",
       "      <td>1910.000000</td>\n",
       "      <td>40.000000</td>\n",
       "      <td>5000.000000</td>\n",
       "      <td>0.000000</td>\n",
       "      <td>0.0</td>\n",
       "      <td>1067.000000</td>\n",
       "    </tr>\n",
       "    <tr>\n",
       "      <th>25%</th>\n",
       "      <td>1350.000000</td>\n",
       "      <td>1999.000000</td>\n",
       "      <td>77.000000</td>\n",
       "      <td>125000.000000</td>\n",
       "      <td>3.000000</td>\n",
       "      <td>0.0</td>\n",
       "      <td>30952.000000</td>\n",
       "    </tr>\n",
       "    <tr>\n",
       "      <th>50%</th>\n",
       "      <td>3200.000000</td>\n",
       "      <td>2003.000000</td>\n",
       "      <td>111.000000</td>\n",
       "      <td>150000.000000</td>\n",
       "      <td>6.000000</td>\n",
       "      <td>0.0</td>\n",
       "      <td>50321.000000</td>\n",
       "    </tr>\n",
       "    <tr>\n",
       "      <th>75%</th>\n",
       "      <td>6990.000000</td>\n",
       "      <td>2007.000000</td>\n",
       "      <td>150.000000</td>\n",
       "      <td>150000.000000</td>\n",
       "      <td>9.000000</td>\n",
       "      <td>0.0</td>\n",
       "      <td>72108.000000</td>\n",
       "    </tr>\n",
       "    <tr>\n",
       "      <th>max</th>\n",
       "      <td>20000.000000</td>\n",
       "      <td>2016.000000</td>\n",
       "      <td>340.000000</td>\n",
       "      <td>150000.000000</td>\n",
       "      <td>12.000000</td>\n",
       "      <td>0.0</td>\n",
       "      <td>99998.000000</td>\n",
       "    </tr>\n",
       "  </tbody>\n",
       "</table>\n",
       "</div>"
      ],
      "text/plain": [
       "               Price  RegistrationYear          Power      Kilometer  \\\n",
       "count  293006.000000     293006.000000  293006.000000  293006.000000   \n",
       "mean     4848.745814       2002.900842     120.055204  128468.683235   \n",
       "std      4585.274930          6.379632      50.952704   36540.942951   \n",
       "min       100.000000       1910.000000      40.000000    5000.000000   \n",
       "25%      1350.000000       1999.000000      77.000000  125000.000000   \n",
       "50%      3200.000000       2003.000000     111.000000  150000.000000   \n",
       "75%      6990.000000       2007.000000     150.000000  150000.000000   \n",
       "max     20000.000000       2016.000000     340.000000  150000.000000   \n",
       "\n",
       "       RegistrationMonth  NumberOfPictures     PostalCode  \n",
       "count      293006.000000          293006.0  293006.000000  \n",
       "mean            6.001577               0.0   51256.145256  \n",
       "std             3.579975               0.0   25758.830558  \n",
       "min             0.000000               0.0    1067.000000  \n",
       "25%             3.000000               0.0   30952.000000  \n",
       "50%             6.000000               0.0   50321.000000  \n",
       "75%             9.000000               0.0   72108.000000  \n",
       "max            12.000000               0.0   99998.000000  "
      ]
     },
     "execution_count": 28,
     "metadata": {},
     "output_type": "execute_result"
    }
   ],
   "source": [
    "# вывод на экран описательной статистики по датасету\n",
    "df.describe()"
   ]
  },
  {
   "cell_type": "markdown",
   "metadata": {},
   "source": [
    "Исходя из диапазона значений изменим тип данных признаков:"
   ]
  },
  {
   "cell_type": "code",
   "execution_count": 29,
   "metadata": {},
   "outputs": [
    {
     "name": "stdout",
     "output_type": "stream",
     "text": [
      "<class 'pandas.core.frame.DataFrame'>\n",
      "RangeIndex: 293006 entries, 0 to 293005\n",
      "Data columns (total 16 columns):\n",
      " #   Column             Non-Null Count   Dtype         \n",
      "---  ------             --------------   -----         \n",
      " 0   DateCrawled        293006 non-null  datetime64[ns]\n",
      " 1   Price              293006 non-null  int64         \n",
      " 2   VehicleType        293006 non-null  object        \n",
      " 3   RegistrationYear   293006 non-null  int64         \n",
      " 4   Gearbox            293006 non-null  object        \n",
      " 5   Power              293006 non-null  int64         \n",
      " 6   Model              293006 non-null  object        \n",
      " 7   Kilometer          293006 non-null  int64         \n",
      " 8   RegistrationMonth  293006 non-null  int64         \n",
      " 9   FuelType           293006 non-null  object        \n",
      " 10  Brand              293006 non-null  object        \n",
      " 11  NotRepaired        293006 non-null  object        \n",
      " 12  DateCreated        293006 non-null  datetime64[ns]\n",
      " 13  NumberOfPictures   293006 non-null  int64         \n",
      " 14  PostalCode         293006 non-null  int64         \n",
      " 15  LastSeen           293006 non-null  datetime64[ns]\n",
      "dtypes: datetime64[ns](3), int64(7), object(6)\n",
      "memory usage: 35.8+ MB\n",
      "\n",
      "<class 'pandas.core.frame.DataFrame'>\n",
      "RangeIndex: 293006 entries, 0 to 293005\n",
      "Data columns (total 16 columns):\n",
      " #   Column             Non-Null Count   Dtype         \n",
      "---  ------             --------------   -----         \n",
      " 0   DateCrawled        293006 non-null  datetime64[ns]\n",
      " 1   Price              293006 non-null  int16         \n",
      " 2   VehicleType        293006 non-null  object        \n",
      " 3   RegistrationYear   293006 non-null  int16         \n",
      " 4   Gearbox            293006 non-null  object        \n",
      " 5   Power              293006 non-null  int16         \n",
      " 6   Model              293006 non-null  object        \n",
      " 7   Kilometer          293006 non-null  int32         \n",
      " 8   RegistrationMonth  293006 non-null  int8          \n",
      " 9   FuelType           293006 non-null  object        \n",
      " 10  Brand              293006 non-null  object        \n",
      " 11  NotRepaired        293006 non-null  object        \n",
      " 12  DateCreated        293006 non-null  datetime64[ns]\n",
      " 13  NumberOfPictures   293006 non-null  int64         \n",
      " 14  PostalCode         293006 non-null  int32         \n",
      " 15  LastSeen           293006 non-null  datetime64[ns]\n",
      "dtypes: datetime64[ns](3), int16(3), int32(2), int64(1), int8(1), object(6)\n",
      "memory usage: 26.5+ MB\n"
     ]
    }
   ],
   "source": [
    "# вывод на экран общей информации о датасете до изменения типа данных\n",
    "df.info()\n",
    "print()\n",
    "\n",
    "# изменение типа данных\n",
    "df[['Kilometer', 'PostalCode']] = df[['Kilometer', 'PostalCode']].astype('int32')\n",
    "df[['Price', 'RegistrationYear', 'Power']] = df[['Price', 'RegistrationYear','Power']].astype('int16')\n",
    "df['RegistrationMonth'] = df['RegistrationMonth'].astype('int8')\n",
    "\n",
    "# проверка изменения типа данных\n",
    "df.info()"
   ]
  },
  {
   "cell_type": "markdown",
   "metadata": {},
   "source": [
    "В результате оптимизации типа данных размер датасета сократился с 35,8 до 26,5 Мб."
   ]
  },
  {
   "cell_type": "markdown",
   "metadata": {},
   "source": [
    "Рассчитаем, на сколько процентов сократился исходный датасет в результате подготовки данных:"
   ]
  },
  {
   "cell_type": "code",
   "execution_count": 30,
   "metadata": {},
   "outputs": [
    {
     "name": "stdout",
     "output_type": "stream",
     "text": [
      "В результате подготовки данных исходный датасет сократился на 17.32%\n"
     ]
    }
   ],
   "source": [
    "# расчет и вывод на экран процента, на который сократился исходный датасет в результате подготовки данных\n",
    "df_preprocessed_percent = len(df) / df_initital_shape[0]\n",
    "\n",
    "print('В результате подготовки данных исходный датасет сократился на', '{:.2%}'.format(1 - df_preprocessed_percent))"
   ]
  },
  {
   "cell_type": "markdown",
   "metadata": {},
   "source": [
    "### Выводы"
   ]
  },
  {
   "cell_type": "markdown",
   "metadata": {},
   "source": [
    "В ходе подготовки данных мы:\n",
    "\n",
    "- устранили пропуски в признаках *NotRepaired*, *VehicleType*, *FuelType*, *Gearbox* и *Model* путем их заполнения значением-индикатором пропуска *unknown*; \n",
    "- устранили аномальные значения в признаках *Price*, *RegistrationYear* и *Power* путем удаления содержащих их объектов;\n",
    "- устранили неявные дубликаты в признаках *FuelType*, *Brand* и Model*;\n",
    "- удадлили объекты, которые мы классифицировали как явные дубликаты; и\n",
    "- оптимизировали тип данных признаков с числовыми значениями, уменьшив размер датасетас 35,8 до 26,5 Мб.\n",
    "\n",
    "В результате подготовки данных количество объектов в датасете сократилось на ~17%.\n",
    "\n",
    "На следующем этапе подготовим выборки к обучению моделей."
   ]
  },
  {
   "cell_type": "markdown",
   "metadata": {},
   "source": [
    "## Подготовка выборок к обучению моделей"
   ]
  },
  {
   "cell_type": "markdown",
   "metadata": {},
   "source": [
    "На данном этапе подготовим выборки:\n",
    "\n",
    "- удалим неинформативные признаки;\n",
    "- сохраним признаки и целевой признак в отдельные переменные;\n",
    "- разделим данные на обучающую и тестовую выборки.\n",
    "\n",
    "Поскольку на следующем этапе мы планируем обучить 4 модели на основе разных аглоритмов (*ElasticNet*, *RandomForestRegressor*, *CatBoostRegressor* и *LGBMRegressor*), для каждой из моделей необходимо провести дополнительную подготовку выборок:\n",
    "\n",
    "- *ElasticNet* как линейная модель требует масштабирования количественных признаков;\n",
    "- *ElasticNet* и *RandomForestRegressor* требуют кодирования категориальных признаков; \n",
    "- *LGBMRegressor* требует изменения типа категориальных признаков на *category*.\n",
    "\n",
    "С учетом вышеуказанного, мы подготовим 3 сета выборок (у *ElasticNet* и *RandomForestRegressor* будет единый сет)."
   ]
  },
  {
   "cell_type": "markdown",
   "metadata": {},
   "source": [
    "### Удаление неинформативных признаков"
   ]
  },
  {
   "cell_type": "markdown",
   "metadata": {},
   "source": [
    "Удалим из следующие неинформативные признаки:\n",
    "- *NumberOfPictures* (все значения признака равны нулю);\n",
    "- *DateCrawled* (характеризует период создания датасета); \n",
    "- *DateCreated*, *LastSeen* (характеризуют поведение пользователя)."
   ]
  },
  {
   "cell_type": "code",
   "execution_count": 31,
   "metadata": {},
   "outputs": [
    {
     "data": {
      "text/plain": [
       "Index(['Price', 'VehicleType', 'RegistrationYear', 'Gearbox', 'Power', 'Model',\n",
       "       'Kilometer', 'RegistrationMonth', 'FuelType', 'Brand', 'NotRepaired',\n",
       "       'PostalCode'],\n",
       "      dtype='object')"
      ]
     },
     "execution_count": 31,
     "metadata": {},
     "output_type": "execute_result"
    }
   ],
   "source": [
    "# удаление неинформативных признаков\n",
    "df.drop(columns=['NumberOfPictures', 'DateCrawled', 'DateCreated', 'LastSeen'], inplace=True)\n",
    "\n",
    "# проверка удаления неинформативных признаков\n",
    "df.columns"
   ]
  },
  {
   "cell_type": "markdown",
   "metadata": {},
   "source": [
    "### Создание переменных с признаками и целевым признаком"
   ]
  },
  {
   "cell_type": "code",
   "execution_count": 32,
   "metadata": {},
   "outputs": [
    {
     "name": "stdout",
     "output_type": "stream",
     "text": [
      "(293006, 11)\n",
      "Index(['VehicleType', 'RegistrationYear', 'Gearbox', 'Power', 'Model',\n",
      "       'Kilometer', 'RegistrationMonth', 'FuelType', 'Brand', 'NotRepaired',\n",
      "       'PostalCode'],\n",
      "      dtype='object')\n",
      "\n",
      "(293006,)\n",
      "Price\n"
     ]
    }
   ],
   "source": [
    "# создание переменных с признаками и целевым признаком\n",
    "features = df.drop(columns=['Price'])\n",
    "target = df['Price']\n",
    "\n",
    "# проверка создания переменных с признаками и целевым признаком\n",
    "print(features.shape)\n",
    "print(features.columns)\n",
    "print()\n",
    "print(target.shape)\n",
    "print(target.name)"
   ]
  },
  {
   "cell_type": "markdown",
   "metadata": {},
   "source": [
    "### Разделение данных на обучающую и тестовую выборки"
   ]
  },
  {
   "cell_type": "markdown",
   "metadata": {},
   "source": [
    "При разделении данных будем использовать соотношениие обучающей и тестовой выборки 3:1:"
   ]
  },
  {
   "cell_type": "code",
   "execution_count": 33,
   "metadata": {},
   "outputs": [
    {
     "name": "stdout",
     "output_type": "stream",
     "text": [
      "(219754, 11)\n",
      "(73252, 11)\n",
      "(219754,)\n",
      "(73252,)\n"
     ]
    }
   ],
   "source": [
    "# разделение данных на обучуающую и тестовую выборки\n",
    "features_train, features_test, target_train, target_test = train_test_split(\n",
    "    features, target, test_size=0.25, random_state=12345)\n",
    "\n",
    "# проверка разделения данных на обучуающую и тестовую выборки\n",
    "for subset in features_train, features_test, target_train, target_test:\n",
    "    print(subset.shape)"
   ]
  },
  {
   "cell_type": "markdown",
   "metadata": {},
   "source": [
    "### Подготовка сета выборок для *ElasticNet* и *RandomForestRegressor*"
   ]
  },
  {
   "cell_type": "markdown",
   "metadata": {},
   "source": [
    "Для начала сохраним копии признаков для обучающей и тестовой выборок в отдельные переменные"
   ]
  },
  {
   "cell_type": "code",
   "execution_count": 34,
   "metadata": {},
   "outputs": [],
   "source": [
    "# создание копий features_train и features_test\n",
    "features_train_en_rf = features_train.copy()\n",
    "features_test_en_rf = features_test.copy()"
   ]
  },
  {
   "cell_type": "markdown",
   "metadata": {},
   "source": [
    "#### Масштабирование количественных признаков"
   ]
  },
  {
   "cell_type": "markdown",
   "metadata": {},
   "source": [
    "Для масштабирования будем использовать метод стандартизации данных:"
   ]
  },
  {
   "cell_type": "code",
   "execution_count": 35,
   "metadata": {},
   "outputs": [
    {
     "data": {
      "text/html": [
       "<div>\n",
       "<style scoped>\n",
       "    .dataframe tbody tr th:only-of-type {\n",
       "        vertical-align: middle;\n",
       "    }\n",
       "\n",
       "    .dataframe tbody tr th {\n",
       "        vertical-align: top;\n",
       "    }\n",
       "\n",
       "    .dataframe thead th {\n",
       "        text-align: right;\n",
       "    }\n",
       "</style>\n",
       "<table border=\"1\" class=\"dataframe\">\n",
       "  <thead>\n",
       "    <tr style=\"text-align: right;\">\n",
       "      <th></th>\n",
       "      <th>RegistrationYear</th>\n",
       "      <th>Power</th>\n",
       "      <th>Kilometer</th>\n",
       "    </tr>\n",
       "  </thead>\n",
       "  <tbody>\n",
       "    <tr>\n",
       "      <th>count</th>\n",
       "      <td>2.197540e+05</td>\n",
       "      <td>2.197540e+05</td>\n",
       "      <td>2.197540e+05</td>\n",
       "    </tr>\n",
       "    <tr>\n",
       "      <th>mean</th>\n",
       "      <td>7.747895e-15</td>\n",
       "      <td>1.093521e-16</td>\n",
       "      <td>1.843012e-16</td>\n",
       "    </tr>\n",
       "    <tr>\n",
       "      <th>std</th>\n",
       "      <td>1.000002e+00</td>\n",
       "      <td>1.000002e+00</td>\n",
       "      <td>1.000002e+00</td>\n",
       "    </tr>\n",
       "    <tr>\n",
       "      <th>min</th>\n",
       "      <td>-1.455985e+01</td>\n",
       "      <td>-1.571271e+00</td>\n",
       "      <td>-3.387951e+00</td>\n",
       "    </tr>\n",
       "    <tr>\n",
       "      <th>25%</th>\n",
       "      <td>-6.112722e-01</td>\n",
       "      <td>-8.457513e-01</td>\n",
       "      <td>-9.699107e-02</td>\n",
       "    </tr>\n",
       "    <tr>\n",
       "      <th>50%</th>\n",
       "      <td>1.563020e-02</td>\n",
       "      <td>-1.594489e-01</td>\n",
       "      <td>5.886255e-01</td>\n",
       "    </tr>\n",
       "    <tr>\n",
       "      <th>75%</th>\n",
       "      <td>6.425326e-01</td>\n",
       "      <td>5.856794e-01</td>\n",
       "      <td>5.886255e-01</td>\n",
       "    </tr>\n",
       "    <tr>\n",
       "      <th>max</th>\n",
       "      <td>2.053063e+00</td>\n",
       "      <td>4.311321e+00</td>\n",
       "      <td>5.886255e-01</td>\n",
       "    </tr>\n",
       "  </tbody>\n",
       "</table>\n",
       "</div>"
      ],
      "text/plain": [
       "       RegistrationYear         Power     Kilometer\n",
       "count      2.197540e+05  2.197540e+05  2.197540e+05\n",
       "mean       7.747895e-15  1.093521e-16  1.843012e-16\n",
       "std        1.000002e+00  1.000002e+00  1.000002e+00\n",
       "min       -1.455985e+01 -1.571271e+00 -3.387951e+00\n",
       "25%       -6.112722e-01 -8.457513e-01 -9.699107e-02\n",
       "50%        1.563020e-02 -1.594489e-01  5.886255e-01\n",
       "75%        6.425326e-01  5.856794e-01  5.886255e-01\n",
       "max        2.053063e+00  4.311321e+00  5.886255e-01"
      ]
     },
     "metadata": {},
     "output_type": "display_data"
    },
    {
     "data": {
      "text/html": [
       "<div>\n",
       "<style scoped>\n",
       "    .dataframe tbody tr th:only-of-type {\n",
       "        vertical-align: middle;\n",
       "    }\n",
       "\n",
       "    .dataframe tbody tr th {\n",
       "        vertical-align: top;\n",
       "    }\n",
       "\n",
       "    .dataframe thead th {\n",
       "        text-align: right;\n",
       "    }\n",
       "</style>\n",
       "<table border=\"1\" class=\"dataframe\">\n",
       "  <thead>\n",
       "    <tr style=\"text-align: right;\">\n",
       "      <th></th>\n",
       "      <th>RegistrationYear</th>\n",
       "      <th>Power</th>\n",
       "      <th>Kilometer</th>\n",
       "    </tr>\n",
       "  </thead>\n",
       "  <tbody>\n",
       "    <tr>\n",
       "      <th>count</th>\n",
       "      <td>73252.000000</td>\n",
       "      <td>73252.000000</td>\n",
       "      <td>73252.000000</td>\n",
       "    </tr>\n",
       "    <tr>\n",
       "      <th>mean</th>\n",
       "      <td>0.000358</td>\n",
       "      <td>-0.005989</td>\n",
       "      <td>-0.007454</td>\n",
       "    </tr>\n",
       "    <tr>\n",
       "      <th>std</th>\n",
       "      <td>0.999406</td>\n",
       "      <td>0.996435</td>\n",
       "      <td>1.008445</td>\n",
       "    </tr>\n",
       "    <tr>\n",
       "      <th>min</th>\n",
       "      <td>-11.738790</td>\n",
       "      <td>-1.571271</td>\n",
       "      <td>-3.387951</td>\n",
       "    </tr>\n",
       "    <tr>\n",
       "      <th>25%</th>\n",
       "      <td>-0.611272</td>\n",
       "      <td>-0.865360</td>\n",
       "      <td>-0.096991</td>\n",
       "    </tr>\n",
       "    <tr>\n",
       "      <th>50%</th>\n",
       "      <td>0.015630</td>\n",
       "      <td>-0.198666</td>\n",
       "      <td>0.588626</td>\n",
       "    </tr>\n",
       "    <tr>\n",
       "      <th>75%</th>\n",
       "      <td>0.642533</td>\n",
       "      <td>0.585679</td>\n",
       "      <td>0.588626</td>\n",
       "    </tr>\n",
       "    <tr>\n",
       "      <th>max</th>\n",
       "      <td>2.053063</td>\n",
       "      <td>4.311321</td>\n",
       "      <td>0.588626</td>\n",
       "    </tr>\n",
       "  </tbody>\n",
       "</table>\n",
       "</div>"
      ],
      "text/plain": [
       "       RegistrationYear         Power     Kilometer\n",
       "count      73252.000000  73252.000000  73252.000000\n",
       "mean           0.000358     -0.005989     -0.007454\n",
       "std            0.999406      0.996435      1.008445\n",
       "min          -11.738790     -1.571271     -3.387951\n",
       "25%           -0.611272     -0.865360     -0.096991\n",
       "50%            0.015630     -0.198666      0.588626\n",
       "75%            0.642533      0.585679      0.588626\n",
       "max            2.053063      4.311321      0.588626"
      ]
     },
     "metadata": {},
     "output_type": "display_data"
    }
   ],
   "source": [
    "# создание списка с названиями количественных признаков\n",
    "features_numeric = ['RegistrationYear', 'Power', 'Kilometer']\n",
    "\n",
    "# создание объекта структуры StandardScaler\n",
    "scaler = StandardScaler()\n",
    "\n",
    "# обучение StandardScaler на признаках обучающей выборки и\n",
    "# преобразование признаков обучающей и тестовой выборок\n",
    "features_train_en_rf[features_numeric] = scaler.fit_transform(\n",
    "    features_train_en_rf[features_numeric])\n",
    "features_test_en_rf[features_numeric] = scaler.transform(\n",
    "    features_test_en_rf[features_numeric])\n",
    "\n",
    "# проверка преобразования признаков\n",
    "for subset in features_train_en_rf, features_test_en_rf:\n",
    "    display(subset[features_numeric].describe())"
   ]
  },
  {
   "cell_type": "markdown",
   "metadata": {},
   "source": [
    "#### Кодирование категориальных признаков"
   ]
  },
  {
   "cell_type": "markdown",
   "metadata": {},
   "source": [
    "Исходя из значений категориальных признаков для их кодирования наиболее подходит  метод *One-Hot Encoding*. До начала кодирования исключим из выборок признаки *Model* и *PostalCode*: с учетом большого количества уникальных значений данных признаков их кодирование выбранным методом приведет к созданию большого количества признаков, что может существенно увеличить время обучения моделей)."
   ]
  },
  {
   "cell_type": "code",
   "execution_count": 36,
   "metadata": {},
   "outputs": [
    {
     "name": "stdout",
     "output_type": "stream",
     "text": [
      "Index(['VehicleType', 'RegistrationYear', 'Gearbox', 'Power', 'Kilometer',\n",
      "       'RegistrationMonth', 'FuelType', 'Brand', 'NotRepaired'],\n",
      "      dtype='object')\n",
      "\n",
      "Index(['VehicleType', 'RegistrationYear', 'Gearbox', 'Power', 'Kilometer',\n",
      "       'RegistrationMonth', 'FuelType', 'Brand', 'NotRepaired'],\n",
      "      dtype='object')\n",
      "\n"
     ]
    }
   ],
   "source": [
    "# удаление столбцов Model и PostalCode\n",
    "features_train_en_rf.drop(columns=['Model', 'PostalCode'], inplace=True)\n",
    "features_test_en_rf.drop(columns=['Model', 'PostalCode'], inplace=True)\n",
    "\n",
    "# проверка удаления столбцов\n",
    "for subset in features_train_en_rf, features_test_en_rf:\n",
    "    print(subset.columns)\n",
    "    print()"
   ]
  },
  {
   "cell_type": "code",
   "execution_count": 37,
   "metadata": {},
   "outputs": [
    {
     "name": "stdout",
     "output_type": "stream",
     "text": [
      "Index(['RegistrationYear', 'Power', 'Kilometer', 'RegistrationMonth',\n",
      "       'VehicleType_convertible', 'VehicleType_coupe', 'VehicleType_other',\n",
      "       'VehicleType_sedan', 'VehicleType_small', 'VehicleType_suv',\n",
      "       'VehicleType_unknown', 'VehicleType_wagon', 'Gearbox_manual',\n",
      "       'Gearbox_unknown', 'FuelType_electric', 'FuelType_hybrid',\n",
      "       'FuelType_lpg', 'FuelType_other', 'FuelType_petrol', 'FuelType_unknown',\n",
      "       'Brand_audi', 'Brand_bmw', 'Brand_chevrolet', 'Brand_chrysler',\n",
      "       'Brand_citroen', 'Brand_dacia', 'Brand_daewoo', 'Brand_daihatsu',\n",
      "       'Brand_fiat', 'Brand_ford', 'Brand_honda', 'Brand_hyundai',\n",
      "       'Brand_jaguar', 'Brand_jeep', 'Brand_kia', 'Brand_lada', 'Brand_lancia',\n",
      "       'Brand_land_rover', 'Brand_mazda', 'Brand_mercedes_benz', 'Brand_mini',\n",
      "       'Brand_mitsubishi', 'Brand_nissan', 'Brand_opel', 'Brand_peugeot',\n",
      "       'Brand_porsche', 'Brand_renault', 'Brand_saab', 'Brand_seat',\n",
      "       'Brand_skoda', 'Brand_smart', 'Brand_sonstige_autos', 'Brand_subaru',\n",
      "       'Brand_suzuki', 'Brand_toyota', 'Brand_trabant', 'Brand_volkswagen',\n",
      "       'Brand_volvo', 'NotRepaired_unknown', 'NotRepaired_yes'],\n",
      "      dtype='object')\n",
      "\n",
      "Index(['RegistrationYear', 'Power', 'Kilometer', 'RegistrationMonth',\n",
      "       'VehicleType_convertible', 'VehicleType_coupe', 'VehicleType_other',\n",
      "       'VehicleType_sedan', 'VehicleType_small', 'VehicleType_suv',\n",
      "       'VehicleType_unknown', 'VehicleType_wagon', 'Gearbox_manual',\n",
      "       'Gearbox_unknown', 'FuelType_electric', 'FuelType_hybrid',\n",
      "       'FuelType_lpg', 'FuelType_other', 'FuelType_petrol', 'FuelType_unknown',\n",
      "       'Brand_audi', 'Brand_bmw', 'Brand_chevrolet', 'Brand_chrysler',\n",
      "       'Brand_citroen', 'Brand_dacia', 'Brand_daewoo', 'Brand_daihatsu',\n",
      "       'Brand_fiat', 'Brand_ford', 'Brand_honda', 'Brand_hyundai',\n",
      "       'Brand_jaguar', 'Brand_jeep', 'Brand_kia', 'Brand_lada', 'Brand_lancia',\n",
      "       'Brand_land_rover', 'Brand_mazda', 'Brand_mercedes_benz', 'Brand_mini',\n",
      "       'Brand_mitsubishi', 'Brand_nissan', 'Brand_opel', 'Brand_peugeot',\n",
      "       'Brand_porsche', 'Brand_renault', 'Brand_saab', 'Brand_seat',\n",
      "       'Brand_skoda', 'Brand_smart', 'Brand_sonstige_autos', 'Brand_subaru',\n",
      "       'Brand_suzuki', 'Brand_toyota', 'Brand_trabant', 'Brand_volkswagen',\n",
      "       'Brand_volvo', 'NotRepaired_unknown', 'NotRepaired_yes'],\n",
      "      dtype='object')\n",
      "\n"
     ]
    }
   ],
   "source": [
    "# кодирование категориальных признаков\n",
    "features_train_en_rf = pd.get_dummies(features_train_en_rf, drop_first=True)\n",
    "features_test_en_rf = pd.get_dummies(features_test_en_rf, drop_first=True)\n",
    "\n",
    "# проверка кодирования категориальных признаков\n",
    "for subset in features_train_en_rf, features_test_en_rf:\n",
    "    print(subset.columns)\n",
    "    print()"
   ]
  },
  {
   "cell_type": "markdown",
   "metadata": {},
   "source": [
    "### Подготовка сета выборок для *LGBMRegressor*"
   ]
  },
  {
   "cell_type": "markdown",
   "metadata": {},
   "source": [
    "Для начала сохраним копии признаков для обучающей и тестовой выборок в отдельные переменные:"
   ]
  },
  {
   "cell_type": "code",
   "execution_count": 38,
   "metadata": {},
   "outputs": [],
   "source": [
    "# создание копий features_train и features_test\n",
    "features_train_lgbm = features_train.copy()\n",
    "features_test_lgbm = features_test.copy()"
   ]
  },
  {
   "cell_type": "markdown",
   "metadata": {},
   "source": [
    "Создадим список названий категориальных признаков (мы также будем передавать его модели *CatBoostRegressor* для корректной работы с категориальными признаками):"
   ]
  },
  {
   "cell_type": "code",
   "execution_count": 39,
   "metadata": {},
   "outputs": [
    {
     "name": "stdout",
     "output_type": "stream",
     "text": [
      "['VehicleType', 'Gearbox', 'Model', 'RegistrationMonth', 'FuelType', 'Brand', 'NotRepaired', 'PostalCode']\n"
     ]
    }
   ],
   "source": [
    "# создание списка названий категориальных признаков\n",
    "cat_features_names = [col for col in features.columns if col not in features_numeric]\n",
    "\n",
    "# проверка создания списка\n",
    "print(cat_features_names)"
   ]
  },
  {
   "cell_type": "markdown",
   "metadata": {},
   "source": [
    "Изменим тип данных категориальных признаков на *category*:"
   ]
  },
  {
   "cell_type": "code",
   "execution_count": 40,
   "metadata": {},
   "outputs": [
    {
     "name": "stdout",
     "output_type": "stream",
     "text": [
      "VehicleType          category\n",
      "Gearbox              category\n",
      "Model                category\n",
      "RegistrationMonth    category\n",
      "FuelType             category\n",
      "Brand                category\n",
      "NotRepaired          category\n",
      "PostalCode           category\n",
      "dtype: object\n",
      "\n",
      "VehicleType          category\n",
      "Gearbox              category\n",
      "Model                category\n",
      "RegistrationMonth    category\n",
      "FuelType             category\n",
      "Brand                category\n",
      "NotRepaired          category\n",
      "PostalCode           category\n",
      "dtype: object\n",
      "\n"
     ]
    }
   ],
   "source": [
    "# изменение типа данных\n",
    "for feature in cat_features_names:\n",
    "    features_train_lgbm[feature] = features_train_lgbm[feature].astype('category')\n",
    "    features_test_lgbm[feature] = features_train_lgbm[feature].astype('category')\n",
    "\n",
    "# проверка изменения типа данных\n",
    "for subset in features_train_lgbm, features_test_lgbm:\n",
    "    print(subset[cat_features_names].dtypes)\n",
    "    print()"
   ]
  },
  {
   "cell_type": "markdown",
   "metadata": {},
   "source": [
    "### Выводы"
   ]
  },
  {
   "cell_type": "markdown",
   "metadata": {},
   "source": [
    "На данном этапе мы:\n",
    "\n",
    "- удалили неинформативные признаки *NumberOfPictures*, *DateCrawled*, *DateCreated* и *LastSeen*;\n",
    "- сохранили признаки и целевой признак в отдельные переменные;\n",
    "- разделили данные на обучающую и тестовую выборки;\n",
    "- подготовили отдельный сет выборок для *ElasticNet* и *RandomForestRegressor*:\n",
    "   - масштабировли количественные признаки методом стандартизации данных;\n",
    "   - кодировали категориальные признаки методом *One-Hot Encoding* (предварительно удалив признаки *Model* и *PostalCode* для снижения времени обучения моделей);\n",
    "- подготовили отдельный сет выборок для *LGBMRegressor*: измененили типа категориальных признаков на *category*.\n",
    "\n",
    "На следующем этапе обучим модели на подготовленных выборках."
   ]
  },
  {
   "cell_type": "markdown",
   "metadata": {},
   "source": [
    "## Обучение моделей"
   ]
  },
  {
   "cell_type": "markdown",
   "metadata": {},
   "source": [
    "На данном этапе мы обучим 4 модели:\n",
    "- ElasticNet;\n",
    "- RandomForestRegressor;\n",
    "- CatBoostRegressor; и\n",
    "- LGBMRegressor.\n",
    "\n",
    "В рамках обучения - при помощи *RandomizedSearchCV* мы оптимизируем значения гиперпараметров, чтобы получить лучшее среднее значение *RMSE*."
   ]
  },
  {
   "cell_type": "markdown",
   "metadata": {},
   "source": [
    "Для удобства обучения создадим:\n",
    "- функцию *random_search* (для автоматизации использования *RandomizedSearchCV*);\n",
    "- функцию *add_to_comparison* (для сохранения гиперпараметров и метрик обученных моделей в сравнительную таблицу)."
   ]
  },
  {
   "cell_type": "markdown",
   "metadata": {},
   "source": [
    "### Создание функций *random_search* и *add_to_comparison*"
   ]
  },
  {
   "cell_type": "code",
   "execution_count": 41,
   "metadata": {},
   "outputs": [],
   "source": [
    "# создание функции random_search\n",
    "def random_search(model, params, train_data, iterations):\n",
    "    '''\n",
    "    Функция:\n",
    "    - при помощи RandomizedSearchCV подбирает гиперпараметры, дающие лучшее среднее значение RMSE \n",
    "    на обучающей выборке;\n",
    "    - сохраняет результаты подбора гиперпараметров в переменную random_search;\n",
    "    - сохраняет лучшую модель в переменную model;\n",
    "    - выводит на экран:\n",
    "        - среднее значение RMSE лучшей модели на обучающей выборке;\n",
    "        - гиперпараметры лучшей модели;\n",
    "    \n",
    "    Входные параметры:\n",
    "    - model - модель, для которой нужно подобрать гиперпараметры\n",
    "    - param_dict - словарь с возможными значениями гиперпараметров\n",
    "    - iterations - количество итераций RandomizedSearchCV\n",
    "    \n",
    "    Возвращаемые значения:\n",
    "    - random_search - результаты подбора гиперпараметров при помощи RandomizedSearchCV;\n",
    "    - model - лучшая модель \n",
    "    \n",
    "    '''\n",
    "    \n",
    "    random_search = RandomizedSearchCV(estimator=model, \n",
    "                                       param_distributions=params, \n",
    "                                       n_iter=iterations, \n",
    "                                       cv=3, \n",
    "                                       verbose=2, \n",
    "                                       random_state=12345, \n",
    "                                       n_jobs=-1, \n",
    "                                       scoring='neg_root_mean_squared_error'\n",
    "                                      )\n",
    "    \n",
    "    random_search.fit(train_data, target_train)\n",
    "    print()\n",
    "    \n",
    "    print('Лучшее среднее значение RMSE:', abs(random_search.best_score_))\n",
    "    print('Гиперпараметры лучшей модели:', random_search.best_params_)\n",
    "    print()\n",
    "    \n",
    "    model = random_search.best_estimator_\n",
    "    \n",
    "    return random_search, model"
   ]
  },
  {
   "cell_type": "code",
   "execution_count": 42,
   "metadata": {},
   "outputs": [
    {
     "data": {
      "text/html": [
       "<div>\n",
       "<style scoped>\n",
       "    .dataframe tbody tr th:only-of-type {\n",
       "        vertical-align: middle;\n",
       "    }\n",
       "\n",
       "    .dataframe tbody tr th {\n",
       "        vertical-align: top;\n",
       "    }\n",
       "\n",
       "    .dataframe thead th {\n",
       "        text-align: right;\n",
       "    }\n",
       "</style>\n",
       "<table border=\"1\" class=\"dataframe\">\n",
       "  <thead>\n",
       "    <tr style=\"text-align: right;\">\n",
       "      <th></th>\n",
       "      <th>algorithm</th>\n",
       "      <th>best_params</th>\n",
       "      <th>mean_rmse</th>\n",
       "      <th>mean_fit_time</th>\n",
       "      <th>mean_predict_time</th>\n",
       "    </tr>\n",
       "  </thead>\n",
       "  <tbody>\n",
       "  </tbody>\n",
       "</table>\n",
       "</div>"
      ],
      "text/plain": [
       "Empty DataFrame\n",
       "Columns: [algorithm, best_params, mean_rmse, mean_fit_time, mean_predict_time]\n",
       "Index: []"
      ]
     },
     "execution_count": 42,
     "metadata": {},
     "output_type": "execute_result"
    }
   ],
   "source": [
    "# создания списка имен столбцов таблицы для сравнения моделей\n",
    "model_comparison_col_names = ['algorithm', 'best_params', 'mean_rmse', 'mean_fit_time', \n",
    "                              'mean_predict_time']\n",
    "\n",
    "# создание таблицы для сравнения моделей\n",
    "df_model_comparison = pd.DataFrame([], columns=model_comparison_col_names)\n",
    "\n",
    "# проверка создания таблицы\n",
    "df_model_comparison"
   ]
  },
  {
   "cell_type": "code",
   "execution_count": 43,
   "metadata": {},
   "outputs": [],
   "source": [
    "def add_to_comparison(rsearch_results):\n",
    "    '''\n",
    "    Функция сохраняет в таблицу df_model_comparison следующе параметры и метрики модели по итогам \n",
    "    подбора гиперпараметров при помощи RandomizedSearchCV:\n",
    "    - название алгоритма;\n",
    "    - лучшие гиперпараметры;\n",
    "    - среднее время обучения;\n",
    "    - среднее время предсказания;\n",
    "    - среднее значение RMSE.\n",
    "    \n",
    "    Входные параметры:\n",
    "    - rsearch_results - результаты подбора гиперпараметров при помощи RandomizedSearchCV\n",
    "    '''\n",
    "    \n",
    "    algorithm = type(rsearch_results.best_estimator_).__name__\n",
    "    best_params = rsearch_results.best_params_\n",
    "    best_score = abs(rsearch_results.best_score_)    \n",
    "    \n",
    "    model_metrics = [algorithm, best_params, best_score]\n",
    "    \n",
    "    for metric in ('mean_fit_time', 'mean_score_time'):\n",
    "        metric_sum = np.sum(rsearch_results.cv_results_[metric])\n",
    "        metric_count = len(rsearch_results.cv_results_[metric])\n",
    "        metric_mean = metric_sum / metric_count\n",
    "        model_metrics.append(metric_mean)\n",
    "    \n",
    "    \n",
    "    df_model_comparison.loc[len(df_model_comparison)] = model_metrics"
   ]
  },
  {
   "cell_type": "markdown",
   "metadata": {},
   "source": [
    "### ElasticNet"
   ]
  },
  {
   "cell_type": "code",
   "execution_count": 44,
   "metadata": {},
   "outputs": [],
   "source": [
    "# создание модели\n",
    "enet = ElasticNet()"
   ]
  },
  {
   "cell_type": "code",
   "execution_count": 45,
   "metadata": {},
   "outputs": [],
   "source": [
    "# создание словаря с возможными значениями оптимизируемых гиперпараметров\n",
    "enet_param_dict = {\n",
    "    'alpha': list(np.arange(0.1, 10, 0.1)),\n",
    "    'l1_ratio': list(np.arange(0.01, 1, 0.01))}"
   ]
  },
  {
   "cell_type": "code",
   "execution_count": 46,
   "metadata": {
    "scrolled": true
   },
   "outputs": [
    {
     "name": "stdout",
     "output_type": "stream",
     "text": [
      "Fitting 3 folds for each of 30 candidates, totalling 90 fits\n",
      "[CV] END ...........................alpha=4.7, l1_ratio=0.25; total time=   0.4s\n",
      "[CV] END ...........................alpha=4.7, l1_ratio=0.25; total time=   0.5s\n",
      "[CV] END ...........................alpha=4.7, l1_ratio=0.25; total time=   0.5s\n",
      "[CV] END ...........................alpha=2.2, l1_ratio=0.99; total time=   1.1s\n",
      "[CV] END ...........................alpha=2.2, l1_ratio=0.99; total time=   1.0s\n",
      "[CV] END ...........................alpha=2.2, l1_ratio=0.99; total time=   0.9s\n",
      "[CV] END ...........................alpha=3.6, l1_ratio=0.28; total time=   1.0s\n",
      "[CV] END ...........................alpha=3.6, l1_ratio=0.28; total time=   0.5s\n",
      "[CV] END ...........................alpha=3.6, l1_ratio=0.28; total time=   0.6s\n",
      "[CV] END ............alpha=4.2, l1_ratio=0.36000000000000004; total time=   0.5s\n",
      "[CV] END ............alpha=4.2, l1_ratio=0.36000000000000004; total time=   0.6s\n",
      "[CV] END ............alpha=4.2, l1_ratio=0.36000000000000004; total time=   0.6s\n",
      "[CV] END ............alpha=4.6, l1_ratio=0.24000000000000002; total time=   0.5s\n",
      "[CV] END ............alpha=4.6, l1_ratio=0.24000000000000002; total time=   0.6s\n",
      "[CV] END ............alpha=4.6, l1_ratio=0.24000000000000002; total time=   0.5s\n",
      "[CV] END ...........................alpha=0.6, l1_ratio=0.52; total time=   0.7s\n",
      "[CV] END ...........................alpha=0.6, l1_ratio=0.52; total time=   0.8s\n",
      "[CV] END ...........................alpha=0.6, l1_ratio=0.52; total time=   0.7s\n",
      "[CV] END ...........................alpha=7.8, l1_ratio=0.87; total time=   0.6s\n",
      "[CV] END ...........................alpha=7.8, l1_ratio=0.87; total time=   0.6s\n",
      "[CV] END ...........................alpha=7.8, l1_ratio=0.87; total time=   0.6s\n",
      "[CV] END ............alpha=3.5000000000000004, l1_ratio=0.76; total time=   0.6s\n",
      "[CV] END ............alpha=3.5000000000000004, l1_ratio=0.76; total time=   0.6s\n",
      "[CV] END ............alpha=3.5000000000000004, l1_ratio=0.76; total time=   0.6s\n",
      "[CV] END ...........................alpha=7.6, l1_ratio=0.59; total time=   0.5s\n",
      "[CV] END ...........................alpha=7.6, l1_ratio=0.59; total time=   0.5s\n",
      "[CV] END ...........................alpha=7.6, l1_ratio=0.59; total time=   0.7s\n",
      "[CV] END ...........................alpha=6.9, l1_ratio=0.67; total time=   0.6s\n",
      "[CV] END ...........................alpha=6.9, l1_ratio=0.67; total time=   1.3s\n",
      "[CV] END ...........................alpha=6.9, l1_ratio=0.67; total time=   0.7s\n",
      "[CV] END ...........................alpha=6.4, l1_ratio=0.13; total time=   0.8s\n",
      "[CV] END ...........................alpha=6.4, l1_ratio=0.13; total time=   0.6s\n",
      "[CV] END ...........................alpha=6.4, l1_ratio=0.13; total time=   0.6s\n",
      "[CV] END .............alpha=3.2, l1_ratio=0.9500000000000001; total time=   0.7s\n",
      "[CV] END .............alpha=3.2, l1_ratio=0.9500000000000001; total time=   0.9s\n",
      "[CV] END .............alpha=3.2, l1_ratio=0.9500000000000001; total time=   0.9s\n",
      "[CV] END ...........................alpha=7.0, l1_ratio=0.73; total time=   0.8s\n",
      "[CV] END ...........................alpha=7.0, l1_ratio=0.73; total time=   0.8s\n",
      "[CV] END ...........................alpha=7.0, l1_ratio=0.73; total time=   0.8s\n",
      "[CV] END ............................alpha=5.6, l1_ratio=0.5; total time=   0.8s\n",
      "[CV] END ............................alpha=5.6, l1_ratio=0.5; total time=   0.6s\n",
      "[CV] END ............................alpha=5.6, l1_ratio=0.5; total time=   0.7s\n",
      "[CV] END ...........................alpha=9.2, l1_ratio=0.66; total time=   0.8s\n",
      "[CV] END ...........................alpha=9.2, l1_ratio=0.66; total time=   0.7s\n",
      "[CV] END ...........................alpha=9.2, l1_ratio=0.66; total time=   0.6s\n",
      "[CV] END ...........................alpha=6.0, l1_ratio=0.02; total time=   0.8s\n",
      "[CV] END ...........................alpha=6.0, l1_ratio=0.02; total time=   0.8s\n",
      "[CV] END ...........................alpha=6.0, l1_ratio=0.02; total time=   0.6s\n",
      "[CV] END ...........................alpha=6.4, l1_ratio=0.74; total time=   0.9s\n",
      "[CV] END ...........................alpha=6.4, l1_ratio=0.74; total time=   0.9s\n",
      "[CV] END ...........................alpha=6.4, l1_ratio=0.74; total time=   0.8s\n",
      "[CV] END ...........................alpha=4.2, l1_ratio=0.81; total time=   0.9s\n",
      "[CV] END ...........................alpha=4.2, l1_ratio=0.81; total time=   0.9s\n",
      "[CV] END ...........................alpha=4.2, l1_ratio=0.81; total time=   0.8s\n",
      "[CV] END ...........alpha=0.30000000000000004, l1_ratio=0.34; total time=   1.2s\n",
      "[CV] END ...........alpha=0.30000000000000004, l1_ratio=0.34; total time=   1.3s\n",
      "[CV] END ...........alpha=0.30000000000000004, l1_ratio=0.34; total time=   1.4s\n",
      "[CV] END ...........................alpha=8.3, l1_ratio=0.98; total time=   1.0s\n",
      "[CV] END ...........................alpha=8.3, l1_ratio=0.98; total time=   1.1s\n",
      "[CV] END ...........................alpha=8.3, l1_ratio=0.98; total time=   0.8s\n",
      "[CV] END ...........................alpha=1.1, l1_ratio=0.64; total time=   0.7s\n",
      "[CV] END ...........................alpha=1.1, l1_ratio=0.64; total time=   0.9s\n",
      "[CV] END ...........................alpha=1.1, l1_ratio=0.64; total time=   0.9s\n",
      "[CV] END ............alpha=3.6, l1_ratio=0.47000000000000003; total time=   0.6s\n",
      "[CV] END ............alpha=3.6, l1_ratio=0.47000000000000003; total time=   0.8s\n",
      "[CV] END ............alpha=3.6, l1_ratio=0.47000000000000003; total time=   0.7s\n",
      "[CV] END ...........................alpha=9.6, l1_ratio=0.99; total time=   0.9s\n",
      "[CV] END ...........................alpha=9.6, l1_ratio=0.99; total time=   0.8s\n",
      "[CV] END ...........................alpha=9.6, l1_ratio=0.99; total time=   0.9s\n",
      "[CV] END ...........................alpha=2.0, l1_ratio=0.03; total time=   0.6s\n",
      "[CV] END ...........................alpha=2.0, l1_ratio=0.03; total time=   0.6s\n",
      "[CV] END ...........................alpha=2.0, l1_ratio=0.03; total time=   0.7s\n",
      "[CV] END ...........................alpha=0.9, l1_ratio=0.64; total time=   0.7s\n",
      "[CV] END ...........................alpha=0.9, l1_ratio=0.64; total time=   0.7s\n",
      "[CV] END ...........................alpha=0.9, l1_ratio=0.64; total time=   0.8s\n",
      "[CV] END ...........................alpha=2.7, l1_ratio=0.51; total time=   0.6s\n",
      "[CV] END ...........................alpha=2.7, l1_ratio=0.51; total time=   0.7s\n",
      "[CV] END ...........................alpha=2.7, l1_ratio=0.51; total time=   0.8s\n",
      "[CV] END ............alpha=4.6, l1_ratio=0.29000000000000004; total time=   0.6s\n",
      "[CV] END ............alpha=4.6, l1_ratio=0.29000000000000004; total time=   0.5s\n",
      "[CV] END ............alpha=4.6, l1_ratio=0.29000000000000004; total time=   0.6s\n",
      "[CV] END alpha=2.9000000000000004, l1_ratio=0.41000000000000003; total time=   0.6s\n",
      "[CV] END alpha=2.9000000000000004, l1_ratio=0.41000000000000003; total time=   0.6s\n",
      "[CV] END alpha=2.9000000000000004, l1_ratio=0.41000000000000003; total time=   0.6s\n",
      "[CV] END .............alpha=1.2000000000000002, l1_ratio=0.6; total time=   0.8s\n",
      "[CV] END .............alpha=1.2000000000000002, l1_ratio=0.6; total time=   0.8s\n",
      "[CV] END .............alpha=1.2000000000000002, l1_ratio=0.6; total time=   0.9s\n",
      "[CV] END alpha=3.3000000000000003, l1_ratio=0.48000000000000004; total time=   0.6s\n",
      "[CV] END alpha=3.3000000000000003, l1_ratio=0.48000000000000004; total time=   0.8s\n",
      "[CV] END alpha=3.3000000000000003, l1_ratio=0.48000000000000004; total time=   0.7s\n",
      "\n",
      "Лучшее среднее значение RMSE: 2806.7727970789983\n",
      "Гиперпараметры лучшей модели: {'l1_ratio': 0.99, 'alpha': 2.2}\n",
      "\n",
      "CPU times: user 26.5 s, sys: 38.8 s, total: 1min 5s\n",
      "Wall time: 1min 8s\n"
     ]
    }
   ],
   "source": [
    "%%time\n",
    "\n",
    "# применение функции random_search\n",
    "enet_rsearch_results, enet = random_search(enet, enet_param_dict, \n",
    "                                                       features_train_en_rf, 30)"
   ]
  },
  {
   "cell_type": "code",
   "execution_count": 47,
   "metadata": {},
   "outputs": [],
   "source": [
    "# применение функции add_to_comparison\n",
    "add_to_comparison(enet_rsearch_results)"
   ]
  },
  {
   "cell_type": "markdown",
   "metadata": {},
   "source": [
    "### RandomForestRegressor"
   ]
  },
  {
   "cell_type": "code",
   "execution_count": 48,
   "metadata": {},
   "outputs": [],
   "source": [
    "# создание модели\n",
    "rforest = RandomForestRegressor(random_state=12345)"
   ]
  },
  {
   "cell_type": "code",
   "execution_count": 49,
   "metadata": {},
   "outputs": [],
   "source": [
    "# создание словаря с возможными значениями оптимизируемых гиперпараметров\n",
    "rforest_param_dict = {\n",
    "    'max_depth': range(2,10,1),\n",
    "    'n_estimators': [100, 200, 500],\n",
    "    'min_samples_split': range(2,10,1),\n",
    "    'min_samples_leaf': range(1,10,1)\n",
    "}"
   ]
  },
  {
   "cell_type": "code",
   "execution_count": 50,
   "metadata": {
    "scrolled": true
   },
   "outputs": [
    {
     "name": "stdout",
     "output_type": "stream",
     "text": [
      "Fitting 3 folds for each of 30 candidates, totalling 90 fits\n",
      "[CV] END max_depth=9, min_samples_leaf=8, min_samples_split=9, n_estimators=100; total time=  39.0s\n",
      "[CV] END max_depth=9, min_samples_leaf=8, min_samples_split=9, n_estimators=100; total time=  38.7s\n",
      "[CV] END max_depth=9, min_samples_leaf=8, min_samples_split=9, n_estimators=100; total time=  39.0s\n",
      "[CV] END max_depth=4, min_samples_leaf=4, min_samples_split=4, n_estimators=100; total time=  18.2s\n",
      "[CV] END max_depth=4, min_samples_leaf=4, min_samples_split=4, n_estimators=100; total time=  17.8s\n",
      "[CV] END max_depth=4, min_samples_leaf=4, min_samples_split=4, n_estimators=100; total time=  18.6s\n",
      "[CV] END max_depth=8, min_samples_leaf=4, min_samples_split=5, n_estimators=100; total time=  35.2s\n",
      "[CV] END max_depth=8, min_samples_leaf=4, min_samples_split=5, n_estimators=100; total time=  35.7s\n",
      "[CV] END max_depth=8, min_samples_leaf=4, min_samples_split=5, n_estimators=100; total time=  36.0s\n",
      "[CV] END max_depth=4, min_samples_leaf=5, min_samples_split=9, n_estimators=500; total time= 1.5min\n",
      "[CV] END max_depth=4, min_samples_leaf=5, min_samples_split=9, n_estimators=500; total time= 1.5min\n",
      "[CV] END max_depth=4, min_samples_leaf=5, min_samples_split=9, n_estimators=500; total time= 1.5min\n",
      "[CV] END max_depth=8, min_samples_leaf=4, min_samples_split=4, n_estimators=500; total time= 3.0min\n",
      "[CV] END max_depth=8, min_samples_leaf=4, min_samples_split=4, n_estimators=500; total time= 2.9min\n",
      "[CV] END max_depth=8, min_samples_leaf=4, min_samples_split=4, n_estimators=500; total time= 3.0min\n",
      "[CV] END max_depth=4, min_samples_leaf=8, min_samples_split=9, n_estimators=200; total time=  35.2s\n",
      "[CV] END max_depth=4, min_samples_leaf=8, min_samples_split=9, n_estimators=200; total time=  35.7s\n",
      "[CV] END max_depth=4, min_samples_leaf=8, min_samples_split=9, n_estimators=200; total time=  35.6s\n",
      "[CV] END max_depth=4, min_samples_leaf=3, min_samples_split=3, n_estimators=500; total time= 1.5min\n",
      "[CV] END max_depth=4, min_samples_leaf=3, min_samples_split=3, n_estimators=500; total time= 1.5min\n",
      "[CV] END max_depth=4, min_samples_leaf=3, min_samples_split=3, n_estimators=500; total time= 1.5min\n",
      "[CV] END max_depth=6, min_samples_leaf=2, min_samples_split=4, n_estimators=100; total time=  28.2s\n",
      "[CV] END max_depth=6, min_samples_leaf=2, min_samples_split=4, n_estimators=100; total time=  27.7s\n",
      "[CV] END max_depth=6, min_samples_leaf=2, min_samples_split=4, n_estimators=100; total time=  27.9s\n",
      "[CV] END max_depth=7, min_samples_leaf=6, min_samples_split=7, n_estimators=200; total time= 1.1min\n",
      "[CV] END max_depth=7, min_samples_leaf=6, min_samples_split=7, n_estimators=200; total time= 1.1min\n",
      "[CV] END max_depth=7, min_samples_leaf=6, min_samples_split=7, n_estimators=200; total time= 1.1min\n",
      "[CV] END max_depth=9, min_samples_leaf=4, min_samples_split=3, n_estimators=200; total time= 1.3min\n",
      "[CV] END max_depth=9, min_samples_leaf=4, min_samples_split=3, n_estimators=200; total time= 1.3min\n",
      "[CV] END max_depth=9, min_samples_leaf=4, min_samples_split=3, n_estimators=200; total time= 1.3min\n",
      "[CV] END max_depth=8, min_samples_leaf=4, min_samples_split=9, n_estimators=200; total time= 1.2min\n",
      "[CV] END max_depth=8, min_samples_leaf=4, min_samples_split=9, n_estimators=200; total time= 1.2min\n",
      "[CV] END max_depth=8, min_samples_leaf=4, min_samples_split=9, n_estimators=200; total time= 1.2min\n",
      "[CV] END max_depth=5, min_samples_leaf=6, min_samples_split=8, n_estimators=100; total time=  23.7s\n",
      "[CV] END max_depth=5, min_samples_leaf=6, min_samples_split=8, n_estimators=100; total time=  23.0s\n",
      "[CV] END max_depth=5, min_samples_leaf=6, min_samples_split=8, n_estimators=100; total time=  22.6s\n",
      "[CV] END max_depth=6, min_samples_leaf=6, min_samples_split=5, n_estimators=500; total time= 2.2min\n",
      "[CV] END max_depth=6, min_samples_leaf=6, min_samples_split=5, n_estimators=500; total time= 2.3min\n",
      "[CV] END max_depth=6, min_samples_leaf=6, min_samples_split=5, n_estimators=500; total time= 2.2min\n",
      "[CV] END max_depth=5, min_samples_leaf=9, min_samples_split=2, n_estimators=200; total time=  44.6s\n",
      "[CV] END max_depth=5, min_samples_leaf=9, min_samples_split=2, n_estimators=200; total time=  45.3s\n",
      "[CV] END max_depth=5, min_samples_leaf=9, min_samples_split=2, n_estimators=200; total time=  44.3s\n",
      "[CV] END max_depth=5, min_samples_leaf=8, min_samples_split=2, n_estimators=100; total time=  23.0s\n",
      "[CV] END max_depth=5, min_samples_leaf=8, min_samples_split=2, n_estimators=100; total time=  22.5s\n",
      "[CV] END max_depth=5, min_samples_leaf=8, min_samples_split=2, n_estimators=100; total time=  22.6s\n",
      "[CV] END max_depth=8, min_samples_leaf=7, min_samples_split=5, n_estimators=500; total time= 2.9min\n",
      "[CV] END max_depth=8, min_samples_leaf=7, min_samples_split=5, n_estimators=500; total time= 2.9min\n",
      "[CV] END max_depth=8, min_samples_leaf=7, min_samples_split=5, n_estimators=500; total time= 2.8min\n",
      "[CV] END max_depth=5, min_samples_leaf=3, min_samples_split=5, n_estimators=200; total time=  43.5s\n",
      "[CV] END max_depth=5, min_samples_leaf=3, min_samples_split=5, n_estimators=200; total time=  44.2s\n",
      "[CV] END max_depth=5, min_samples_leaf=3, min_samples_split=5, n_estimators=200; total time=  44.6s\n",
      "[CV] END max_depth=4, min_samples_leaf=2, min_samples_split=5, n_estimators=100; total time=  18.1s\n",
      "[CV] END max_depth=4, min_samples_leaf=2, min_samples_split=5, n_estimators=100; total time=  17.6s\n",
      "[CV] END max_depth=4, min_samples_leaf=2, min_samples_split=5, n_estimators=100; total time=  17.5s\n",
      "[CV] END max_depth=2, min_samples_leaf=8, min_samples_split=8, n_estimators=200; total time=  16.5s\n",
      "[CV] END max_depth=2, min_samples_leaf=8, min_samples_split=8, n_estimators=200; total time=  16.6s\n",
      "[CV] END max_depth=2, min_samples_leaf=8, min_samples_split=8, n_estimators=200; total time=  16.7s\n",
      "[CV] END max_depth=9, min_samples_leaf=3, min_samples_split=4, n_estimators=200; total time= 1.3min\n",
      "[CV] END max_depth=9, min_samples_leaf=3, min_samples_split=4, n_estimators=200; total time= 1.3min\n",
      "[CV] END max_depth=9, min_samples_leaf=3, min_samples_split=4, n_estimators=200; total time= 1.3min\n",
      "[CV] END max_depth=5, min_samples_leaf=4, min_samples_split=2, n_estimators=100; total time=  22.1s\n",
      "[CV] END max_depth=5, min_samples_leaf=4, min_samples_split=2, n_estimators=100; total time=  22.3s\n",
      "[CV] END max_depth=5, min_samples_leaf=4, min_samples_split=2, n_estimators=100; total time=  22.0s\n",
      "[CV] END max_depth=2, min_samples_leaf=9, min_samples_split=7, n_estimators=500; total time=  40.7s\n",
      "[CV] END max_depth=2, min_samples_leaf=9, min_samples_split=7, n_estimators=500; total time=  40.7s\n",
      "[CV] END max_depth=2, min_samples_leaf=9, min_samples_split=7, n_estimators=500; total time=  41.1s\n",
      "[CV] END max_depth=6, min_samples_leaf=8, min_samples_split=8, n_estimators=500; total time= 2.2min\n",
      "[CV] END max_depth=6, min_samples_leaf=8, min_samples_split=8, n_estimators=500; total time= 2.2min\n",
      "[CV] END max_depth=6, min_samples_leaf=8, min_samples_split=8, n_estimators=500; total time= 2.2min\n",
      "[CV] END max_depth=8, min_samples_leaf=3, min_samples_split=7, n_estimators=500; total time= 2.9min\n",
      "[CV] END max_depth=8, min_samples_leaf=3, min_samples_split=7, n_estimators=500; total time= 2.9min\n",
      "[CV] END max_depth=8, min_samples_leaf=3, min_samples_split=7, n_estimators=500; total time= 2.9min\n",
      "[CV] END max_depth=3, min_samples_leaf=6, min_samples_split=9, n_estimators=200; total time=  26.7s\n",
      "[CV] END max_depth=3, min_samples_leaf=6, min_samples_split=9, n_estimators=200; total time=  25.2s\n",
      "[CV] END max_depth=3, min_samples_leaf=6, min_samples_split=9, n_estimators=200; total time=  25.4s\n",
      "[CV] END max_depth=4, min_samples_leaf=3, min_samples_split=4, n_estimators=500; total time= 1.4min\n",
      "[CV] END max_depth=4, min_samples_leaf=3, min_samples_split=4, n_estimators=500; total time= 1.5min\n",
      "[CV] END max_depth=4, min_samples_leaf=3, min_samples_split=4, n_estimators=500; total time= 1.5min\n",
      "[CV] END max_depth=2, min_samples_leaf=9, min_samples_split=2, n_estimators=200; total time=  16.3s\n",
      "[CV] END max_depth=2, min_samples_leaf=9, min_samples_split=2, n_estimators=200; total time=  16.4s\n",
      "[CV] END max_depth=2, min_samples_leaf=9, min_samples_split=2, n_estimators=200; total time=  16.5s\n",
      "[CV] END max_depth=2, min_samples_leaf=5, min_samples_split=7, n_estimators=100; total time=   8.0s\n",
      "[CV] END max_depth=2, min_samples_leaf=5, min_samples_split=7, n_estimators=100; total time=   8.4s\n",
      "[CV] END max_depth=2, min_samples_leaf=5, min_samples_split=7, n_estimators=100; total time=   8.2s\n",
      "[CV] END max_depth=3, min_samples_leaf=4, min_samples_split=5, n_estimators=200; total time=  25.7s\n",
      "[CV] END max_depth=3, min_samples_leaf=4, min_samples_split=5, n_estimators=200; total time=  25.4s\n",
      "[CV] END max_depth=3, min_samples_leaf=4, min_samples_split=5, n_estimators=200; total time=  25.4s\n",
      "[CV] END max_depth=2, min_samples_leaf=8, min_samples_split=5, n_estimators=200; total time=  16.6s\n",
      "[CV] END max_depth=2, min_samples_leaf=8, min_samples_split=5, n_estimators=200; total time=  16.1s\n",
      "[CV] END max_depth=2, min_samples_leaf=8, min_samples_split=5, n_estimators=200; total time=  16.2s\n",
      "\n",
      "Лучшее среднее значение RMSE: 1937.6012919304133\n",
      "Гиперпараметры лучшей модели: {'n_estimators': 200, 'min_samples_split': 4, 'min_samples_leaf': 3, 'max_depth': 9}\n",
      "\n",
      "CPU times: user 1h 33min, sys: 17.2 s, total: 1h 33min 17s\n",
      "Wall time: 1h 33min 27s\n"
     ]
    }
   ],
   "source": [
    "%%time\n",
    "\n",
    "# применение функции random_search\n",
    "rforest_rsearch_results, rforest = random_search(rforest, rforest_param_dict, \n",
    "                                                       features_train_en_rf, 30)"
   ]
  },
  {
   "cell_type": "code",
   "execution_count": 51,
   "metadata": {},
   "outputs": [],
   "source": [
    "# применение функции add_to_comparison\n",
    "add_to_comparison(rforest_rsearch_results)"
   ]
  },
  {
   "cell_type": "markdown",
   "metadata": {},
   "source": [
    "### CatBoostRegressor"
   ]
  },
  {
   "cell_type": "code",
   "execution_count": 52,
   "metadata": {},
   "outputs": [],
   "source": [
    "# создание словаря с параметрами модели\n",
    "cboost_model_params = {'cat_features': cat_features_names,\n",
    "                'loss_function': 'RMSE',\n",
    "                'random_state': 12345,\n",
    "                'verbose':100}"
   ]
  },
  {
   "cell_type": "code",
   "execution_count": 53,
   "metadata": {},
   "outputs": [],
   "source": [
    "# создание модели\n",
    "cboost = cb.CatBoostRegressor(**cboost_model_params)"
   ]
  },
  {
   "cell_type": "code",
   "execution_count": 54,
   "metadata": {},
   "outputs": [],
   "source": [
    "# создание словаря с возможными значениями оптимизируемых гиперпараметров\n",
    "cboost_param_dict = {'learning_rate': [0.3, 0.1, 0.01],\n",
    "               'iterations': [1000, 2000]}"
   ]
  },
  {
   "cell_type": "code",
   "execution_count": 55,
   "metadata": {
    "scrolled": true
   },
   "outputs": [
    {
     "name": "stdout",
     "output_type": "stream",
     "text": [
      "Fitting 3 folds for each of 6 candidates, totalling 18 fits\n",
      "0:\tlearn: 3728.0258580\ttotal: 325ms\tremaining: 5m 24s\n",
      "100:\tlearn: 1595.7807842\ttotal: 21s\tremaining: 3m 6s\n",
      "200:\tlearn: 1535.6770142\ttotal: 40.8s\tremaining: 2m 42s\n",
      "300:\tlearn: 1503.5146224\ttotal: 1m\tremaining: 2m 19s\n",
      "400:\tlearn: 1476.2034245\ttotal: 1m 20s\tremaining: 1m 59s\n",
      "500:\tlearn: 1454.5576954\ttotal: 1m 40s\tremaining: 1m 39s\n",
      "600:\tlearn: 1436.4992737\ttotal: 2m\tremaining: 1m 20s\n",
      "700:\tlearn: 1418.0267429\ttotal: 2m 21s\tremaining: 1m\n",
      "800:\tlearn: 1401.2886873\ttotal: 2m 41s\tremaining: 40.1s\n",
      "900:\tlearn: 1388.6037434\ttotal: 3m 1s\tremaining: 20s\n",
      "999:\tlearn: 1374.8873924\ttotal: 3m 22s\tremaining: 0us\n",
      "[CV] END .................iterations=1000, learning_rate=0.3; total time= 3.5min\n",
      "0:\tlearn: 3704.4962883\ttotal: 237ms\tremaining: 3m 56s\n",
      "100:\tlearn: 1602.5344051\ttotal: 19.6s\tremaining: 2m 54s\n",
      "200:\tlearn: 1534.4085047\ttotal: 39.6s\tremaining: 2m 37s\n",
      "300:\tlearn: 1497.8279421\ttotal: 60s\tremaining: 2m 19s\n",
      "400:\tlearn: 1469.7637340\ttotal: 1m 20s\tremaining: 2m\n",
      "500:\tlearn: 1446.0655480\ttotal: 1m 40s\tremaining: 1m 40s\n",
      "600:\tlearn: 1425.8537306\ttotal: 2m\tremaining: 1m 20s\n",
      "700:\tlearn: 1408.1861136\ttotal: 2m 20s\tremaining: 1m\n",
      "300:\tlearn: 1497.5509800\ttotal: 59.2s\tremaining: 2m 17s\n",
      "400:\tlearn: 1469.3419872\ttotal: 1m 19s\tremaining: 1m 59s\n",
      "500:\tlearn: 1447.7920870\ttotal: 1m 40s\tremaining: 1m 39s\n",
      "600:\tlearn: 1429.1264719\ttotal: 2m\tremaining: 1m 19s\n",
      "700:\tlearn: 1411.6574363\ttotal: 2m 22s\tremaining: 1m\n",
      "800:\tlearn: 1394.2323057\ttotal: 2m 43s\tremaining: 40.5s\n",
      "900:\tlearn: 1381.3581359\ttotal: 3m 2s\tremaining: 20.1s\n",
      "999:\tlearn: 1368.8145630\ttotal: 3m 23s\tremaining: 0us\n",
      "[CV] END .................iterations=1000, learning_rate=0.3; total time= 3.5min\n",
      "0:\tlearn: 4288.3649203\ttotal: 262ms\tremaining: 4m 21s\n",
      "100:\tlearn: 1701.0255055\ttotal: 20.1s\tremaining: 2m 58s\n",
      "200:\tlearn: 1633.7297370\ttotal: 39.1s\tremaining: 2m 35s\n",
      "300:\tlearn: 1596.8446658\ttotal: 59.1s\tremaining: 2m 17s\n",
      "400:\tlearn: 1571.4286393\ttotal: 1m 18s\tremaining: 1m 57s\n",
      "500:\tlearn: 1552.7146886\ttotal: 1m 37s\tremaining: 1m 37s\n",
      "600:\tlearn: 1534.7053970\ttotal: 1m 58s\tremaining: 1m 18s\n",
      "700:\tlearn: 1521.7933018\ttotal: 2m 17s\tremaining: 58.7s\n",
      "800:\tlearn: 1508.9780732\ttotal: 2m 36s\tremaining: 38.9s\n",
      "900:\tlearn: 1496.8182579\ttotal: 2m 56s\tremaining: 19.4s\n",
      "999:\tlearn: 1487.8930248\ttotal: 3m 16s\tremaining: 0us\n",
      "[CV] END .................iterations=1000, learning_rate=0.1; total time= 3.4min\n",
      "0:\tlearn: 4278.6253410\ttotal: 240ms\tremaining: 3m 59s\n",
      "100:\tlearn: 1693.9244433\ttotal: 20.5s\tremaining: 3m 2s\n",
      "200:\tlearn: 1624.7560076\ttotal: 39.9s\tremaining: 2m 38s\n",
      "300:\tlearn: 1585.7104620\ttotal: 59.6s\tremaining: 2m 18s\n",
      "400:\tlearn: 1555.7998347\ttotal: 1m 19s\tremaining: 1m 59s\n",
      "500:\tlearn: 1536.6298341\ttotal: 1m 39s\tremaining: 1m 39s\n",
      "600:\tlearn: 1522.2043709\ttotal: 1m 59s\tremaining: 1m 19s\n",
      "700:\tlearn: 1509.4989221\ttotal: 2m 18s\tremaining: 59.2s\n",
      "800:\tlearn: 1498.4190388\ttotal: 2m 39s\tremaining: 39.6s\n",
      "900:\tlearn: 1488.4703006\ttotal: 2m 58s\tremaining: 19.7s\n",
      "999:\tlearn: 1477.9399100\ttotal: 3m 19s\tremaining: 0us\n",
      "[CV] END .................iterations=1000, learning_rate=0.1; total time= 3.4min\n",
      "0:\tlearn: 4281.3427491\ttotal: 234ms\tremaining: 3m 53s\n",
      "100:\tlearn: 1699.9510504\ttotal: 20s\tremaining: 2m 58s\n",
      "200:\tlearn: 1620.0540446\ttotal: 39.2s\tremaining: 2m 35s\n",
      "300:\tlearn: 1581.8266266\ttotal: 59.5s\tremaining: 2m 18s\n",
      "400:\tlearn: 1557.6204108\ttotal: 1m 19s\tremaining: 1m 59s\n",
      "500:\tlearn: 1540.6563650\ttotal: 1m 38s\tremaining: 1m 38s\n",
      "600:\tlearn: 1523.9903390\ttotal: 1m 59s\tremaining: 1m 19s\n",
      "700:\tlearn: 1510.2323394\ttotal: 2m 19s\tremaining: 59.5s\n",
      "800:\tlearn: 1497.1819581\ttotal: 2m 39s\tremaining: 39.6s\n",
      "900:\tlearn: 1486.0582444\ttotal: 2m 59s\tremaining: 19.7s\n",
      "999:\tlearn: 1476.5329831\ttotal: 3m 19s\tremaining: 0us\n",
      "[CV] END .................iterations=1000, learning_rate=0.1; total time= 3.4min\n",
      "0:\tlearn: 4558.2173149\ttotal: 285ms\tremaining: 4m 44s\n",
      "100:\tlearn: 2719.7507778\ttotal: 21.3s\tremaining: 3m 9s\n",
      "200:\tlearn: 2122.6624788\ttotal: 42.2s\tremaining: 2m 47s\n",
      "300:\tlearn: 1919.4710194\ttotal: 1m 2s\tremaining: 2m 24s\n",
      "400:\tlearn: 1835.9770135\ttotal: 1m 21s\tremaining: 2m 2s\n",
      "500:\tlearn: 1791.9011720\ttotal: 1m 41s\tremaining: 1m 41s\n",
      "600:\tlearn: 1762.1890850\ttotal: 2m 1s\tremaining: 1m 20s\n",
      "700:\tlearn: 1740.5316654\ttotal: 2m 22s\tremaining: 1m\n",
      "800:\tlearn: 1723.5189806\ttotal: 2m 42s\tremaining: 40.5s\n",
      "900:\tlearn: 1708.8151580\ttotal: 3m 2s\tremaining: 20.1s\n",
      "999:\tlearn: 1696.8017467\ttotal: 3m 22s\tremaining: 0us\n",
      "[CV] END ................iterations=1000, learning_rate=0.01; total time= 3.4min\n",
      "0:\tlearn: 4554.3806002\ttotal: 246ms\tremaining: 4m 5s\n",
      "100:\tlearn: 2719.5655932\ttotal: 23.2s\tremaining: 3m 26s\n",
      "200:\tlearn: 2118.4267789\ttotal: 43.8s\tremaining: 2m 54s\n",
      "300:\tlearn: 1916.3489975\ttotal: 1m 4s\tremaining: 2m 30s\n",
      "400:\tlearn: 1830.0897738\ttotal: 1m 24s\tremaining: 2m 6s\n",
      "500:\tlearn: 1783.6428810\ttotal: 1m 45s\tremaining: 1m 44s\n",
      "600:\tlearn: 1753.4964773\ttotal: 2m 5s\tremaining: 1m 23s\n",
      "700:\tlearn: 1731.5183780\ttotal: 2m 26s\tremaining: 1m 2s\n",
      "800:\tlearn: 1715.5826030\ttotal: 2m 45s\tremaining: 41.2s\n",
      "900:\tlearn: 1701.2405839\ttotal: 3m 6s\tremaining: 20.5s\n",
      "999:\tlearn: 1689.6111371\ttotal: 3m 25s\tremaining: 0us\n",
      "[CV] END ................iterations=1000, learning_rate=0.01; total time= 3.5min\n",
      "0:\tlearn: 4553.1237134\ttotal: 253ms\tremaining: 4m 12s\n",
      "100:\tlearn: 2717.9132096\ttotal: 22.2s\tremaining: 3m 17s\n",
      "200:\tlearn: 2121.0333256\ttotal: 44s\tremaining: 2m 54s\n",
      "300:\tlearn: 1918.2757104\ttotal: 1m 5s\tremaining: 2m 31s\n",
      "400:\tlearn: 1833.7737382\ttotal: 1m 25s\tremaining: 2m 7s\n",
      "500:\tlearn: 1788.2438411\ttotal: 1m 46s\tremaining: 1m 45s\n",
      "600:\tlearn: 1759.4580519\ttotal: 2m 6s\tremaining: 1m 24s\n",
      "700:\tlearn: 1737.9271796\ttotal: 2m 26s\tremaining: 1m 2s\n",
      "800:\tlearn: 1720.8635309\ttotal: 2m 49s\tremaining: 42s\n",
      "900:\tlearn: 1706.9787353\ttotal: 3m 8s\tremaining: 20.7s\n",
      "999:\tlearn: 1695.1901519\ttotal: 3m 27s\tremaining: 0us\n",
      "[CV] END ................iterations=1000, learning_rate=0.01; total time= 3.5min\n",
      "0:\tlearn: 3728.0258580\ttotal: 274ms\tremaining: 9m 8s\n",
      "100:\tlearn: 1595.7807842\ttotal: 21.6s\tremaining: 6m 47s\n",
      "200:\tlearn: 1535.6770142\ttotal: 42.6s\tremaining: 6m 21s\n",
      "300:\tlearn: 1503.5146224\ttotal: 1m 3s\tremaining: 5m 58s\n",
      "400:\tlearn: 1476.2034245\ttotal: 1m 24s\tremaining: 5m 35s\n",
      "500:\tlearn: 1454.5576954\ttotal: 1m 45s\tremaining: 5m 15s\n",
      "600:\tlearn: 1436.4992737\ttotal: 2m 7s\tremaining: 4m 55s\n",
      "700:\tlearn: 1418.0267429\ttotal: 2m 28s\tremaining: 4m 34s\n",
      "800:\tlearn: 1401.2886873\ttotal: 2m 49s\tremaining: 4m 13s\n",
      "900:\tlearn: 1388.6037434\ttotal: 3m 11s\tremaining: 3m 53s\n",
      "1000:\tlearn: 1374.8688006\ttotal: 3m 33s\tremaining: 3m 32s\n",
      "1100:\tlearn: 1363.0500331\ttotal: 3m 54s\tremaining: 3m 11s\n",
      "1200:\tlearn: 1351.2256374\ttotal: 4m 16s\tremaining: 2m 50s\n",
      "1300:\tlearn: 1341.5632789\ttotal: 4m 37s\tremaining: 2m 29s\n",
      "1400:\tlearn: 1330.8299154\ttotal: 4m 58s\tremaining: 2m 7s\n",
      "1500:\tlearn: 1321.6254216\ttotal: 5m 19s\tremaining: 1m 46s\n",
      "1600:\tlearn: 1311.1678600\ttotal: 5m 41s\tremaining: 1m 25s\n",
      "1700:\tlearn: 1302.6276125\ttotal: 6m 2s\tremaining: 1m 3s\n",
      "1800:\tlearn: 1293.1749244\ttotal: 6m 23s\tremaining: 42.4s\n",
      "1900:\tlearn: 1285.5700341\ttotal: 6m 45s\tremaining: 21.1s\n",
      "1999:\tlearn: 1277.1941668\ttotal: 7m 7s\tremaining: 0us\n",
      "[CV] END .................iterations=2000, learning_rate=0.3; total time= 7.3min\n",
      "0:\tlearn: 3704.4962883\ttotal: 243ms\tremaining: 8m 5s\n",
      "100:\tlearn: 1602.5344051\ttotal: 20.9s\tremaining: 6m 32s\n",
      "200:\tlearn: 1534.4085047\ttotal: 41.8s\tremaining: 6m 14s\n",
      "300:\tlearn: 1497.8279421\ttotal: 1m 3s\tremaining: 5m 58s\n",
      "400:\tlearn: 1469.7637340\ttotal: 1m 24s\tremaining: 5m 38s\n",
      "500:\tlearn: 1446.0655480\ttotal: 1m 46s\tremaining: 5m 17s\n",
      "600:\tlearn: 1425.8537306\ttotal: 2m 7s\tremaining: 4m 56s\n",
      "700:\tlearn: 1408.1861136\ttotal: 2m 28s\tremaining: 4m 35s\n",
      "800:\tlearn: 1392.0364316\ttotal: 2m 50s\tremaining: 4m 14s\n",
      "900:\tlearn: 1379.3034191\ttotal: 3m 11s\tremaining: 3m 53s\n",
      "1000:\tlearn: 1366.8249907\ttotal: 3m 32s\tremaining: 3m 32s\n",
      "1100:\tlearn: 1353.8273597\ttotal: 3m 54s\tremaining: 3m 11s\n",
      "1200:\tlearn: 1342.2859091\ttotal: 4m 15s\tremaining: 2m 49s\n",
      "1300:\tlearn: 1332.6605645\ttotal: 4m 36s\tremaining: 2m 28s\n",
      "1400:\tlearn: 1323.9683091\ttotal: 4m 58s\tremaining: 2m 7s\n",
      "1500:\tlearn: 1314.9834537\ttotal: 5m 19s\tremaining: 1m 46s\n",
      "1600:\tlearn: 1306.1316756\ttotal: 5m 41s\tremaining: 1m 25s\n",
      "1700:\tlearn: 1297.5385926\ttotal: 6m 3s\tremaining: 1m 3s\n",
      "1800:\tlearn: 1289.4820921\ttotal: 6m 25s\tremaining: 42.6s\n",
      "1900:\tlearn: 1280.9353945\ttotal: 6m 46s\tremaining: 21.1s\n",
      "1999:\tlearn: 1272.9217573\ttotal: 7m 7s\tremaining: 0us\n",
      "[CV] END .................iterations=2000, learning_rate=0.3; total time= 7.3min\n",
      "0:\tlearn: 3716.4367251\ttotal: 248ms\tremaining: 8m 15s\n",
      "100:\tlearn: 1595.0218306\ttotal: 20.2s\tremaining: 6m 19s\n",
      "200:\tlearn: 1535.5920083\ttotal: 41.2s\tremaining: 6m 9s\n",
      "300:\tlearn: 1497.5509800\ttotal: 1m 1s\tremaining: 5m 49s\n",
      "400:\tlearn: 1469.3419872\ttotal: 1m 24s\tremaining: 5m 36s\n",
      "500:\tlearn: 1447.7920870\ttotal: 1m 46s\tremaining: 5m 18s\n",
      "600:\tlearn: 1429.1264719\ttotal: 2m 7s\tremaining: 4m 56s\n",
      "700:\tlearn: 1411.6574363\ttotal: 2m 29s\tremaining: 4m 37s\n",
      "800:\tlearn: 1394.2323057\ttotal: 2m 51s\tremaining: 4m 17s\n",
      "900:\tlearn: 1381.3581359\ttotal: 3m 13s\tremaining: 3m 55s\n",
      "1000:\tlearn: 1368.7859321\ttotal: 3m 34s\tremaining: 3m 34s\n",
      "1100:\tlearn: 1357.2180968\ttotal: 3m 55s\tremaining: 3m 12s\n",
      "1200:\tlearn: 1345.9860151\ttotal: 4m 17s\tremaining: 2m 51s\n",
      "1300:\tlearn: 1335.6382870\ttotal: 4m 39s\tremaining: 2m 30s\n",
      "1400:\tlearn: 1326.1970511\ttotal: 5m 1s\tremaining: 2m 8s\n",
      "1500:\tlearn: 1316.2586631\ttotal: 5m 23s\tremaining: 1m 47s\n",
      "1600:\tlearn: 1306.7069995\ttotal: 5m 44s\tremaining: 1m 25s\n",
      "1700:\tlearn: 1297.5516875\ttotal: 6m 6s\tremaining: 1m 4s\n",
      "1800:\tlearn: 1289.1963117\ttotal: 6m 27s\tremaining: 42.8s\n",
      "1900:\tlearn: 1280.6333601\ttotal: 6m 48s\tremaining: 21.3s\n",
      "1999:\tlearn: 1272.9620120\ttotal: 7m 9s\tremaining: 0us\n",
      "[CV] END .................iterations=2000, learning_rate=0.3; total time= 7.3min\n",
      "0:\tlearn: 4288.3649203\ttotal: 259ms\tremaining: 8m 37s\n",
      "100:\tlearn: 1701.0255055\ttotal: 21.1s\tremaining: 6m 36s\n",
      "200:\tlearn: 1633.7297370\ttotal: 40.4s\tremaining: 6m 2s\n",
      "300:\tlearn: 1596.8446658\ttotal: 1m\tremaining: 5m 41s\n",
      "400:\tlearn: 1571.4286393\ttotal: 1m 21s\tremaining: 5m 23s\n",
      "500:\tlearn: 1552.7146886\ttotal: 1m 40s\tremaining: 5m 1s\n",
      "600:\tlearn: 1534.7053970\ttotal: 2m\tremaining: 4m 40s\n",
      "700:\tlearn: 1521.7933018\ttotal: 2m 20s\tremaining: 4m 20s\n",
      "800:\tlearn: 1508.9780732\ttotal: 2m 40s\tremaining: 3m 59s\n",
      "900:\tlearn: 1496.8182579\ttotal: 2m 59s\tremaining: 3m 39s\n",
      "1000:\tlearn: 1487.8076681\ttotal: 3m 20s\tremaining: 3m 20s\n",
      "1100:\tlearn: 1479.5214547\ttotal: 3m 41s\tremaining: 3m\n",
      "1200:\tlearn: 1471.1376103\ttotal: 4m\tremaining: 2m 40s\n",
      "1300:\tlearn: 1464.0309911\ttotal: 4m 21s\tremaining: 2m 20s\n",
      "1400:\tlearn: 1456.9353712\ttotal: 4m 41s\tremaining: 2m\n",
      "1500:\tlearn: 1450.1853919\ttotal: 5m 1s\tremaining: 1m 40s\n",
      "1600:\tlearn: 1442.8284051\ttotal: 5m 22s\tremaining: 1m 20s\n",
      "1700:\tlearn: 1436.5948300\ttotal: 5m 43s\tremaining: 1m\n",
      "1800:\tlearn: 1430.7303857\ttotal: 6m 3s\tremaining: 40.2s\n",
      "1900:\tlearn: 1425.2463449\ttotal: 6m 25s\tremaining: 20.1s\n",
      "1999:\tlearn: 1418.8967228\ttotal: 6m 45s\tremaining: 0us\n",
      "[CV] END .................iterations=2000, learning_rate=0.1; total time= 6.9min\n",
      "0:\tlearn: 4278.6253410\ttotal: 231ms\tremaining: 7m 42s\n",
      "100:\tlearn: 1693.9244433\ttotal: 20.6s\tremaining: 6m 27s\n",
      "200:\tlearn: 1624.7560076\ttotal: 41.5s\tremaining: 6m 11s\n",
      "300:\tlearn: 1585.7104620\ttotal: 1m 1s\tremaining: 5m 46s\n",
      "400:\tlearn: 1555.7998347\ttotal: 1m 22s\tremaining: 5m 28s\n",
      "500:\tlearn: 1536.6298341\ttotal: 1m 42s\tremaining: 5m 6s\n",
      "600:\tlearn: 1522.2043709\ttotal: 2m 2s\tremaining: 4m 45s\n",
      "700:\tlearn: 1509.4989221\ttotal: 2m 22s\tremaining: 4m 24s\n",
      "800:\tlearn: 1498.4190388\ttotal: 2m 43s\tremaining: 4m 4s\n",
      "900:\tlearn: 1488.4703006\ttotal: 3m 3s\tremaining: 3m 43s\n",
      "1000:\tlearn: 1477.7361369\ttotal: 3m 23s\tremaining: 3m 23s\n",
      "1100:\tlearn: 1468.4760402\ttotal: 3m 44s\tremaining: 3m 3s\n",
      "1200:\tlearn: 1459.5691747\ttotal: 4m 4s\tremaining: 2m 42s\n",
      "1300:\tlearn: 1452.4584817\ttotal: 4m 25s\tremaining: 2m 22s\n",
      "1400:\tlearn: 1444.9745157\ttotal: 4m 45s\tremaining: 2m 2s\n",
      "1500:\tlearn: 1437.2630101\ttotal: 5m 6s\tremaining: 1m 41s\n",
      "1600:\tlearn: 1430.0198300\ttotal: 5m 27s\tremaining: 1m 21s\n",
      "1700:\tlearn: 1423.9026968\ttotal: 5m 47s\tremaining: 1m 1s\n",
      "1800:\tlearn: 1418.4522359\ttotal: 6m 8s\tremaining: 40.7s\n",
      "1900:\tlearn: 1412.7894480\ttotal: 6m 29s\tremaining: 20.3s\n",
      "1999:\tlearn: 1407.4670706\ttotal: 6m 49s\tremaining: 0us\n",
      "[CV] END .................iterations=2000, learning_rate=0.1; total time= 7.0min\n",
      "0:\tlearn: 4281.3427491\ttotal: 237ms\tremaining: 7m 53s\n",
      "100:\tlearn: 1699.9510504\ttotal: 20.5s\tremaining: 6m 25s\n",
      "200:\tlearn: 1620.0540446\ttotal: 40.2s\tremaining: 5m 59s\n",
      "300:\tlearn: 1581.8266266\ttotal: 59.8s\tremaining: 5m 37s\n",
      "400:\tlearn: 1557.6204108\ttotal: 1m 20s\tremaining: 5m 20s\n",
      "500:\tlearn: 1540.6563650\ttotal: 1m 39s\tremaining: 4m 57s\n",
      "600:\tlearn: 1523.9903390\ttotal: 2m\tremaining: 4m 39s\n",
      "700:\tlearn: 1510.2323394\ttotal: 2m 20s\tremaining: 4m 20s\n",
      "800:\tlearn: 1497.1819581\ttotal: 2m 40s\tremaining: 4m\n",
      "900:\tlearn: 1486.0582444\ttotal: 3m 1s\tremaining: 3m 41s\n",
      "1000:\tlearn: 1476.4940867\ttotal: 3m 21s\tremaining: 3m 21s\n",
      "1100:\tlearn: 1466.8328089\ttotal: 3m 42s\tremaining: 3m 1s\n",
      "1200:\tlearn: 1457.8309023\ttotal: 4m 2s\tremaining: 2m 41s\n",
      "1300:\tlearn: 1449.7337326\ttotal: 4m 22s\tremaining: 2m 21s\n",
      "1400:\tlearn: 1441.8840400\ttotal: 4m 43s\tremaining: 2m 1s\n",
      "1500:\tlearn: 1435.0128524\ttotal: 5m 3s\tremaining: 1m 40s\n",
      "1600:\tlearn: 1427.8218283\ttotal: 5m 24s\tremaining: 1m 20s\n",
      "1700:\tlearn: 1422.4394169\ttotal: 5m 45s\tremaining: 1m\n",
      "1800:\tlearn: 1416.8294436\ttotal: 6m 4s\tremaining: 40.3s\n",
      "1900:\tlearn: 1411.0523587\ttotal: 6m 25s\tremaining: 20.1s\n",
      "1999:\tlearn: 1405.5584474\ttotal: 6m 45s\tremaining: 0us\n",
      "[CV] END .................iterations=2000, learning_rate=0.1; total time= 6.9min\n",
      "0:\tlearn: 4558.2173149\ttotal: 258ms\tremaining: 8m 36s\n",
      "100:\tlearn: 2719.7507778\ttotal: 21.2s\tremaining: 6m 39s\n",
      "200:\tlearn: 2122.6624788\ttotal: 42.7s\tremaining: 6m 22s\n",
      "300:\tlearn: 1919.4710194\ttotal: 1m 2s\tremaining: 5m 55s\n",
      "400:\tlearn: 1835.9770135\ttotal: 1m 22s\tremaining: 5m 30s\n",
      "500:\tlearn: 1791.9011720\ttotal: 1m 42s\tremaining: 5m 6s\n",
      "600:\tlearn: 1762.1890850\ttotal: 2m 1s\tremaining: 4m 43s\n",
      "700:\tlearn: 1740.5316654\ttotal: 2m 21s\tremaining: 4m 22s\n",
      "800:\tlearn: 1723.5189806\ttotal: 2m 41s\tremaining: 4m 2s\n",
      "900:\tlearn: 1708.8151580\ttotal: 3m 1s\tremaining: 3m 41s\n",
      "1000:\tlearn: 1696.7249436\ttotal: 3m 20s\tremaining: 3m 20s\n",
      "1100:\tlearn: 1686.3092506\ttotal: 3m 40s\tremaining: 2m 59s\n",
      "1200:\tlearn: 1676.0918677\ttotal: 3m 59s\tremaining: 2m 39s\n",
      "1300:\tlearn: 1667.4476795\ttotal: 4m 19s\tremaining: 2m 19s\n",
      "1400:\tlearn: 1659.3143246\ttotal: 4m 40s\tremaining: 1m 59s\n",
      "1500:\tlearn: 1652.2217518\ttotal: 4m 59s\tremaining: 1m 39s\n",
      "1600:\tlearn: 1646.2325075\ttotal: 5m 19s\tremaining: 1m 19s\n",
      "1700:\tlearn: 1640.8624515\ttotal: 5m 37s\tremaining: 59.4s\n",
      "1800:\tlearn: 1635.5700983\ttotal: 5m 56s\tremaining: 39.4s\n",
      "1900:\tlearn: 1630.7975542\ttotal: 6m 15s\tremaining: 19.6s\n",
      "1999:\tlearn: 1625.8142048\ttotal: 6m 35s\tremaining: 0us\n",
      "[CV] END ................iterations=2000, learning_rate=0.01; total time= 6.7min\n",
      "0:\tlearn: 4554.3806002\ttotal: 242ms\tremaining: 8m 3s\n",
      "100:\tlearn: 2719.5655932\ttotal: 22s\tremaining: 6m 53s\n",
      "200:\tlearn: 2118.4267789\ttotal: 41.7s\tremaining: 6m 13s\n",
      "300:\tlearn: 1916.3489975\ttotal: 1m 1s\tremaining: 5m 49s\n",
      "400:\tlearn: 1830.0897738\ttotal: 1m 21s\tremaining: 5m 23s\n",
      "500:\tlearn: 1783.6428810\ttotal: 1m 40s\tremaining: 5m 1s\n",
      "600:\tlearn: 1753.4964773\ttotal: 2m\tremaining: 4m 41s\n",
      "700:\tlearn: 1731.5183780\ttotal: 2m 20s\tremaining: 4m 20s\n",
      "800:\tlearn: 1715.5826030\ttotal: 2m 39s\tremaining: 3m 59s\n",
      "900:\tlearn: 1701.2405839\ttotal: 3m\tremaining: 3m 39s\n",
      "1000:\tlearn: 1689.4911721\ttotal: 3m 19s\tremaining: 3m 18s\n",
      "1100:\tlearn: 1679.4545092\ttotal: 3m 37s\tremaining: 2m 57s\n",
      "1200:\tlearn: 1670.3326306\ttotal: 3m 57s\tremaining: 2m 37s\n",
      "1300:\tlearn: 1662.0771853\ttotal: 4m 15s\tremaining: 2m 17s\n",
      "1400:\tlearn: 1654.7439000\ttotal: 4m 34s\tremaining: 1m 57s\n",
      "1500:\tlearn: 1648.3759526\ttotal: 4m 54s\tremaining: 1m 37s\n",
      "1600:\tlearn: 1641.9399155\ttotal: 5m 13s\tremaining: 1m 18s\n",
      "1700:\tlearn: 1635.9393391\ttotal: 5m 31s\tremaining: 58.2s\n",
      "1800:\tlearn: 1630.5993358\ttotal: 5m 50s\tremaining: 38.7s\n",
      "1900:\tlearn: 1625.5739139\ttotal: 6m 9s\tremaining: 19.3s\n",
      "1999:\tlearn: 1620.7902693\ttotal: 6m 28s\tremaining: 0us\n",
      "[CV] END ................iterations=2000, learning_rate=0.01; total time= 6.6min\n",
      "0:\tlearn: 4553.1237134\ttotal: 238ms\tremaining: 7m 55s\n",
      "100:\tlearn: 2717.9132096\ttotal: 22.1s\tremaining: 6m 56s\n",
      "200:\tlearn: 2121.0333256\ttotal: 42.9s\tremaining: 6m 24s\n",
      "300:\tlearn: 1918.2757104\ttotal: 1m 3s\tremaining: 5m 57s\n",
      "400:\tlearn: 1833.7737382\ttotal: 1m 23s\tremaining: 5m 32s\n",
      "500:\tlearn: 1788.2438411\ttotal: 1m 43s\tremaining: 5m 9s\n",
      "600:\tlearn: 1759.4580519\ttotal: 2m 2s\tremaining: 4m 46s\n",
      "700:\tlearn: 1737.9271796\ttotal: 2m 23s\tremaining: 4m 25s\n",
      "800:\tlearn: 1720.8635309\ttotal: 2m 42s\tremaining: 4m 2s\n",
      "900:\tlearn: 1706.9787353\ttotal: 3m\tremaining: 3m 40s\n",
      "1000:\tlearn: 1695.0942857\ttotal: 3m 19s\tremaining: 3m 19s\n",
      "1100:\tlearn: 1684.1521453\ttotal: 3m 38s\tremaining: 2m 58s\n",
      "1200:\tlearn: 1674.0349908\ttotal: 3m 58s\tremaining: 2m 38s\n",
      "1300:\tlearn: 1664.2694793\ttotal: 4m 18s\tremaining: 2m 18s\n",
      "1400:\tlearn: 1655.7470427\ttotal: 4m 37s\tremaining: 1m 58s\n",
      "1500:\tlearn: 1648.3636645\ttotal: 4m 57s\tremaining: 1m 38s\n",
      "1600:\tlearn: 1642.3373370\ttotal: 5m 16s\tremaining: 1m 18s\n",
      "1700:\tlearn: 1637.0844826\ttotal: 5m 35s\tremaining: 58.9s\n",
      "1800:\tlearn: 1631.7758049\ttotal: 5m 54s\tremaining: 39.2s\n",
      "1900:\tlearn: 1627.0565329\ttotal: 6m 14s\tremaining: 19.5s\n",
      "1999:\tlearn: 1622.8250793\ttotal: 6m 33s\tremaining: 0us\n",
      "[CV] END ................iterations=2000, learning_rate=0.01; total time= 6.7min\n",
      "0:\tlearn: 4281.6311232\ttotal: 348ms\tremaining: 11m 35s\n",
      "100:\tlearn: 1690.2063278\ttotal: 30.5s\tremaining: 9m 33s\n",
      "200:\tlearn: 1619.2481001\ttotal: 1m\tremaining: 8m 58s\n",
      "300:\tlearn: 1584.4274117\ttotal: 1m 29s\tremaining: 8m 27s\n",
      "400:\tlearn: 1559.7152182\ttotal: 1m 59s\tremaining: 7m 56s\n",
      "500:\tlearn: 1542.1359869\ttotal: 2m 29s\tremaining: 7m 26s\n",
      "600:\tlearn: 1527.5426779\ttotal: 2m 59s\tremaining: 6m 57s\n",
      "700:\tlearn: 1517.6903253\ttotal: 3m 29s\tremaining: 6m 27s\n",
      "800:\tlearn: 1508.0536427\ttotal: 3m 59s\tremaining: 5m 58s\n",
      "900:\tlearn: 1498.2010950\ttotal: 4m 30s\tremaining: 5m 30s\n",
      "1000:\tlearn: 1489.1542827\ttotal: 5m 2s\tremaining: 5m 1s\n",
      "1100:\tlearn: 1481.3208345\ttotal: 5m 34s\tremaining: 4m 33s\n",
      "1200:\tlearn: 1473.5781314\ttotal: 6m 5s\tremaining: 4m 2s\n",
      "1300:\tlearn: 1466.9573534\ttotal: 6m 35s\tremaining: 3m 32s\n",
      "1400:\tlearn: 1459.7522320\ttotal: 7m 7s\tremaining: 3m 2s\n",
      "1500:\tlearn: 1453.9702595\ttotal: 7m 38s\tremaining: 2m 32s\n",
      "1600:\tlearn: 1448.1254194\ttotal: 8m 10s\tremaining: 2m 2s\n",
      "1700:\tlearn: 1442.9168703\ttotal: 8m 41s\tremaining: 1m 31s\n",
      "1800:\tlearn: 1437.9840874\ttotal: 9m 12s\tremaining: 1m 1s\n",
      "1900:\tlearn: 1432.8918695\ttotal: 9m 43s\tremaining: 30.4s\n",
      "1999:\tlearn: 1428.3559442\ttotal: 10m 14s\tremaining: 0us\n",
      "\n",
      "Лучшее среднее значение RMSE: 1538.9629842632396\n",
      "Гиперпараметры лучшей модели: {'learning_rate': 0.1, 'iterations': 2000}\n",
      "\n",
      "CPU times: user 1h 42min 47s, sys: 24.6 s, total: 1h 43min 12s\n",
      "Wall time: 1h 44min 1s\n"
     ]
    }
   ],
   "source": [
    "%%time\n",
    "\n",
    "# применение функции random_search\n",
    "cboost_rsearch_results, cboost = random_search(cboost, cboost_param_dict, features_train, 6)"
   ]
  },
  {
   "cell_type": "code",
   "execution_count": 56,
   "metadata": {},
   "outputs": [],
   "source": [
    "# применение функции add_to_comparison\n",
    "add_to_comparison(cboost_rsearch_results)"
   ]
  },
  {
   "cell_type": "markdown",
   "metadata": {},
   "source": [
    "### LGBMRegressor"
   ]
  },
  {
   "cell_type": "code",
   "execution_count": 57,
   "metadata": {},
   "outputs": [],
   "source": [
    "# создание модели\n",
    "lgbm = lgb.LGBMRegressor(random_state=12345)"
   ]
  },
  {
   "cell_type": "code",
   "execution_count": 58,
   "metadata": {},
   "outputs": [],
   "source": [
    "# создание словаря с возможными значениями оптимизируемых гиперпараметров\n",
    "param_dict = {'learning_rate': [0.3, 0.1, 0.01],\n",
    "               'num_iterations': [1000, 2000],\n",
    "             }"
   ]
  },
  {
   "cell_type": "code",
   "execution_count": 59,
   "metadata": {
    "scrolled": false
   },
   "outputs": [
    {
     "name": "stdout",
     "output_type": "stream",
     "text": [
      "Fitting 3 folds for each of 6 candidates, totalling 18 fits\n",
      "[CV] END .............learning_rate=0.3, num_iterations=1000; total time= 1.6min\n",
      "[CV] END .............learning_rate=0.3, num_iterations=1000; total time= 1.7min\n",
      "[CV] END .............learning_rate=0.3, num_iterations=1000; total time= 1.8min\n",
      "[CV] END .............learning_rate=0.3, num_iterations=2000; total time= 3.3min\n",
      "[CV] END .............learning_rate=0.3, num_iterations=2000; total time= 3.2min\n",
      "[CV] END .............learning_rate=0.3, num_iterations=2000; total time= 5.2min\n",
      "[CV] END .............learning_rate=0.1, num_iterations=1000; total time= 1.9min\n",
      "[CV] END .............learning_rate=0.1, num_iterations=1000; total time= 1.8min\n",
      "[CV] END .............learning_rate=0.1, num_iterations=1000; total time= 2.2min\n",
      "[CV] END .............learning_rate=0.1, num_iterations=2000; total time= 3.9min\n",
      "[CV] END .............learning_rate=0.1, num_iterations=2000; total time= 3.3min\n",
      "[CV] END .............learning_rate=0.1, num_iterations=2000; total time= 3.4min\n",
      "[CV] END ............learning_rate=0.01, num_iterations=1000; total time= 2.8min\n",
      "[CV] END ............learning_rate=0.01, num_iterations=1000; total time= 2.6min\n",
      "[CV] END ............learning_rate=0.01, num_iterations=1000; total time= 3.1min\n",
      "[CV] END ............learning_rate=0.01, num_iterations=2000; total time=14.2min\n",
      "[CV] END ............learning_rate=0.01, num_iterations=2000; total time= 5.7min\n",
      "[CV] END ............learning_rate=0.01, num_iterations=2000; total time= 5.6min\n",
      "\n",
      "Лучшее среднее значение RMSE: 1566.136436096194\n",
      "Гиперпараметры лучшей модели: {'num_iterations': 2000, 'learning_rate': 0.1}\n",
      "\n",
      "CPU times: user 1h 38min 38s, sys: 26.4 s, total: 1h 39min 4s\n",
      "Wall time: 1h 39min 59s\n"
     ]
    }
   ],
   "source": [
    "%%time\n",
    "\n",
    "# применение функции random_search\n",
    "lgbm_rsearch_results, lgbm = random_search(lgbm, param_dict, features_train_lgbm, 6)"
   ]
  },
  {
   "cell_type": "code",
   "execution_count": 60,
   "metadata": {},
   "outputs": [],
   "source": [
    "# применение функции add_to_comparison\n",
    "add_to_comparison(lgbm_rsearch_results)"
   ]
  },
  {
   "cell_type": "markdown",
   "metadata": {},
   "source": [
    "### Выводы"
   ]
  },
  {
   "cell_type": "markdown",
   "metadata": {},
   "source": [
    "На данном этапе мы:\n",
    "\n",
    "- для удобства обучения создали функции *random_search* и *add_to_comparison*;\n",
    "- обучили модели 4 модели (*ElasticNet*, *RandomForestRegressor*, *CatBoostRegressor* и *LGBMRegressor*); и\n",
    "- в рамках обучения при помощи *RandomizedSearchCV* оптимиизировали значения гиперпараметров, чтобы получить лучшее среднее значение *RMSE*.\n",
    "\n",
    "На следующем этапе мы проанализируем обученные модели."
   ]
  },
  {
   "cell_type": "markdown",
   "metadata": {},
   "source": [
    "## Анализ моделей"
   ]
  },
  {
   "cell_type": "markdown",
   "metadata": {},
   "source": [
    "Проанализируем обученные модели. В рамках анализа изучим:\n",
    "- метрики (качество, время обучения и время предсказания); и\n",
    "- влияние признаков на предсказания моделей.\n",
    "\n",
    "Для удобства анализа создадим:\n",
    "- функцию *show_metric* для визуализации метрик;\n",
    "- функцию *show_feature_importances* для визуализации важности признаков для предсказаний."
   ]
  },
  {
   "cell_type": "markdown",
   "metadata": {},
   "source": [
    "### Создание функций *show_metric* и *show_feature_importances*"
   ]
  },
  {
   "cell_type": "code",
   "execution_count": 61,
   "metadata": {},
   "outputs": [],
   "source": [
    "# создание словаря-палитры цветов моделей \n",
    "models_palette = {\n",
    "    'ElasticNet': 'red',\n",
    "    'RandomForestRegressor': 'teal',\n",
    "    'CatBoostRegressor': 'gold',\n",
    "     'LGBMRegressor': 'olive'\n",
    "}"
   ]
  },
  {
   "cell_type": "code",
   "execution_count": 91,
   "metadata": {},
   "outputs": [],
   "source": [
    "# создание функции show_metric\n",
    "def show_metric(metric, ylabel=None, width=8):\n",
    "    '''\n",
    "    Функция:\n",
    "    - сортирует датафрейм df_model_comparison по возрастанию значений метрики; и\n",
    "    - визуализирует значения метрики в форме столбчатого графика\n",
    "    \n",
    "    Входные значения\n",
    "    - metric - метрика, которую необходимо визуализировать\n",
    "    - ylabel (по умолчанию не задано) - метка оси Y\n",
    "    - width (по умолчанию 8) - ширина графика\n",
    "    \n",
    "    '''\n",
    "        \n",
    "    df_model_comparison.sort_values(by=metric, ascending=True, inplace=True)\n",
    "    \n",
    "    fig, ax = plt.subplots(figsize=(width, 8))\n",
    "    \n",
    "    sns.barplot(\n",
    "        data=df_model_comparison,\n",
    "        x='algorithm',\n",
    "        y=metric,\n",
    "        palette=models_palette)\n",
    "    \n",
    "    for bar in ax.patches:\n",
    "        ax.annotate(format(bar.get_height(), '.1f'), \n",
    "                           (bar.get_x() + bar.get_width() / 2., bar.get_height()), \n",
    "                           ha = 'center', va = 'center', \n",
    "                           xytext = (0, 9), \n",
    "                           textcoords = 'offset points')\n",
    "    \n",
    "    if ylabel != None:\n",
    "        ax.set_ylabel(ylabel)  \n",
    "    \n",
    "    fig.suptitle(metric)\n",
    "    \n",
    "    plt.tight_layout()\n",
    "    plt.show()"
   ]
  },
  {
   "cell_type": "code",
   "execution_count": 63,
   "metadata": {},
   "outputs": [],
   "source": [
    "def show_feature_importances(model, train_data):\n",
    "    '''\n",
    "    Функция выводит на экран таблицы с 5 наиболее важными и 5 наименее важными признаками.\n",
    "    \n",
    "    Входные параметры:\n",
    "    - model - обученная модель;\n",
    "    - train_data - выборка, на которой модель была обучена\n",
    "    '''\n",
    "        \n",
    "    feature_importances = pd.DataFrame({\n",
    "    'feature':list(train_data.columns),\n",
    "    'feature_importance':list(model.feature_importances_)\n",
    "    })\n",
    "    \n",
    "    feature_importances.sort_values(by='feature_importance', ascending=False, \n",
    "                                        inplace=True, ignore_index=True)\n",
    "    \n",
    "    print('Наиболее важные признаки:')\n",
    "    display(feature_importances.head(5))\n",
    "    print()\n",
    "    print('Наименее важные признаки:')\n",
    "    display(feature_importances.tail(5))"
   ]
  },
  {
   "cell_type": "markdown",
   "metadata": {},
   "source": [
    "### Качество"
   ]
  },
  {
   "cell_type": "markdown",
   "metadata": {},
   "source": [
    "Проанализируем качество моделей:"
   ]
  },
  {
   "cell_type": "code",
   "execution_count": 64,
   "metadata": {
    "scrolled": true
   },
   "outputs": [
    {
     "data": {
      "image/png": "[encoded data removed]",
      "text/plain": [
       "<Figure size 576x576 with 1 Axes>"
      ]
     },
     "metadata": {},
     "output_type": "display_data"
    }
   ],
   "source": [
    "# применение функции show_metric\n",
    "show_metric('mean_rmse', ylabel='среднее RMSE')"
   ]
  },
  {
   "cell_type": "markdown",
   "metadata": {},
   "source": [
    "Мы видим, что:\n",
    "- наилучшее среднее значение *RMSE* (1539.0) продемонстрировала модель *CatBoostRegressor* (но при этом разница между значениями *CatBoostRegressor* и *LGBMRegressor* является незначительной);\n",
    "- среднее значение *RMSE* модели *ElasticNet* (2806.8) не соответствует требованиям заказчика."
   ]
  },
  {
   "cell_type": "markdown",
   "metadata": {},
   "source": [
    "### Время обучения"
   ]
  },
  {
   "cell_type": "markdown",
   "metadata": {},
   "source": [
    "Проанализируем время обучения моделей:"
   ]
  },
  {
   "cell_type": "code",
   "execution_count": 65,
   "metadata": {},
   "outputs": [
    {
     "data": {
      "image/png": "[encoded data removed]",
      "text/plain": [
       "<Figure size 576x576 with 1 Axes>"
      ]
     },
     "metadata": {},
     "output_type": "display_data"
    }
   ],
   "source": [
    "# применение функции show_metric\n",
    "show_metric('mean_fit_time', ylabel='среднее время обучения (секунды)')"
   ]
  },
  {
   "cell_type": "markdown",
   "metadata": {},
   "source": [
    "Мы видим, что:\n",
    "\n",
    "- наилучшее среднее время обучения (0.6 секунды) продемонстрировала модель *ElasticNet*, наихудшее время (310.3 секунд) - *CatBoostRegressor*;\n",
    "- только у двух моделей (*ElasticNet* и *RandomForestRegressor*) среднее время обучения находится в пределах 1 минуты."
   ]
  },
  {
   "cell_type": "markdown",
   "metadata": {},
   "source": [
    "### Время предсказания"
   ]
  },
  {
   "cell_type": "markdown",
   "metadata": {},
   "source": [
    "Проанализируем время предсказания моделей:"
   ]
  },
  {
   "cell_type": "code",
   "execution_count": 66,
   "metadata": {},
   "outputs": [
    {
     "data": {
      "image/png": "[encoded data removed]",
      "text/plain": [
       "<Figure size 576x576 with 1 Axes>"
      ]
     },
     "metadata": {},
     "output_type": "display_data"
    }
   ],
   "source": [
    "# применение функции show_metric\n",
    "show_metric('mean_predict_time', ylabel='среднее время предсказания (секунды)')"
   ]
  },
  {
   "cell_type": "markdown",
   "metadata": {},
   "source": [
    "Мы видим, что:\n",
    "\n",
    "- наилучшее среднее время предсказания (0.2 секунды) продемонстрировала модель *ElasticNet*, наихудшее время (27.1 секунды) - *LGBMRegressor*;\n",
    "- только у двух моделей (*ElasticNet* и *RandomForestRegressor*) среднее время предсказания находится в пределах 1 секунды;\n",
    "- среднее время предсказания модели *LGBMRegressor* многократно превышает показатели остальных трех моделей и, на наш взгляд, не соответствует ожиданиям пользователей сервиса."
   ]
  },
  {
   "cell_type": "markdown",
   "metadata": {},
   "source": [
    "### Влияние признаков на предсказания моделей"
   ]
  },
  {
   "cell_type": "markdown",
   "metadata": {},
   "source": [
    "По каждой модели также проанализируем влияние признаков на предсказания:"
   ]
  },
  {
   "cell_type": "markdown",
   "metadata": {},
   "source": [
    "#### ElasticNet"
   ]
  },
  {
   "cell_type": "code",
   "execution_count": 67,
   "metadata": {
    "scrolled": true
   },
   "outputs": [
    {
     "name": "stdout",
     "output_type": "stream",
     "text": [
      "Признаки, наиболее влияющие на предсказания модели:\n",
      "\n",
      "Увеличивающие предсказание:\n"
     ]
    },
    {
     "data": {
      "text/html": [
       "<div>\n",
       "<style scoped>\n",
       "    .dataframe tbody tr th:only-of-type {\n",
       "        vertical-align: middle;\n",
       "    }\n",
       "\n",
       "    .dataframe tbody tr th {\n",
       "        vertical-align: top;\n",
       "    }\n",
       "\n",
       "    .dataframe thead th {\n",
       "        text-align: right;\n",
       "    }\n",
       "</style>\n",
       "<table border=\"1\" class=\"dataframe\">\n",
       "  <thead>\n",
       "    <tr style=\"text-align: right;\">\n",
       "      <th></th>\n",
       "      <th>coef</th>\n",
       "      <th>coef_sign</th>\n",
       "    </tr>\n",
       "  </thead>\n",
       "  <tbody>\n",
       "    <tr>\n",
       "      <th>Power</th>\n",
       "      <td>1858.820008</td>\n",
       "      <td>+</td>\n",
       "    </tr>\n",
       "    <tr>\n",
       "      <th>RegistrationYear</th>\n",
       "      <td>1565.645450</td>\n",
       "      <td>+</td>\n",
       "    </tr>\n",
       "    <tr>\n",
       "      <th>Brand_volkswagen</th>\n",
       "      <td>1093.994270</td>\n",
       "      <td>+</td>\n",
       "    </tr>\n",
       "    <tr>\n",
       "      <th>VehicleType_suv</th>\n",
       "      <td>1088.108603</td>\n",
       "      <td>+</td>\n",
       "    </tr>\n",
       "    <tr>\n",
       "      <th>Brand_audi</th>\n",
       "      <td>912.434596</td>\n",
       "      <td>+</td>\n",
       "    </tr>\n",
       "  </tbody>\n",
       "</table>\n",
       "</div>"
      ],
      "text/plain": [
       "                         coef coef_sign\n",
       "Power             1858.820008         +\n",
       "RegistrationYear  1565.645450         +\n",
       "Brand_volkswagen  1093.994270         +\n",
       "VehicleType_suv   1088.108603         +\n",
       "Brand_audi         912.434596         +"
      ]
     },
     "metadata": {},
     "output_type": "display_data"
    },
    {
     "name": "stdout",
     "output_type": "stream",
     "text": [
      "\n",
      "Понижающие предсказание:\n"
     ]
    },
    {
     "data": {
      "text/html": [
       "<div>\n",
       "<style scoped>\n",
       "    .dataframe tbody tr th:only-of-type {\n",
       "        vertical-align: middle;\n",
       "    }\n",
       "\n",
       "    .dataframe tbody tr th {\n",
       "        vertical-align: top;\n",
       "    }\n",
       "\n",
       "    .dataframe thead th {\n",
       "        text-align: right;\n",
       "    }\n",
       "</style>\n",
       "<table border=\"1\" class=\"dataframe\">\n",
       "  <thead>\n",
       "    <tr style=\"text-align: right;\">\n",
       "      <th></th>\n",
       "      <th>coef</th>\n",
       "      <th>coef_sign</th>\n",
       "    </tr>\n",
       "  </thead>\n",
       "  <tbody>\n",
       "    <tr>\n",
       "      <th>VehicleType_unknown</th>\n",
       "      <td>1796.267858</td>\n",
       "      <td>-</td>\n",
       "    </tr>\n",
       "    <tr>\n",
       "      <th>Kilometer</th>\n",
       "      <td>1467.780176</td>\n",
       "      <td>-</td>\n",
       "    </tr>\n",
       "    <tr>\n",
       "      <th>NotRepaired_yes</th>\n",
       "      <td>1347.374851</td>\n",
       "      <td>-</td>\n",
       "    </tr>\n",
       "    <tr>\n",
       "      <th>VehicleType_small</th>\n",
       "      <td>702.342910</td>\n",
       "      <td>-</td>\n",
       "    </tr>\n",
       "    <tr>\n",
       "      <th>NotRepaired_unknown</th>\n",
       "      <td>647.637561</td>\n",
       "      <td>-</td>\n",
       "    </tr>\n",
       "  </tbody>\n",
       "</table>\n",
       "</div>"
      ],
      "text/plain": [
       "                            coef coef_sign\n",
       "VehicleType_unknown  1796.267858         -\n",
       "Kilometer            1467.780176         -\n",
       "NotRepaired_yes      1347.374851         -\n",
       "VehicleType_small     702.342910         -\n",
       "NotRepaired_unknown   647.637561         -"
      ]
     },
     "metadata": {},
     "output_type": "display_data"
    },
    {
     "name": "stdout",
     "output_type": "stream",
     "text": [
      "\n",
      "Признаки, наименее влияющие на предсказания модели:\n"
     ]
    },
    {
     "data": {
      "text/html": [
       "<div>\n",
       "<style scoped>\n",
       "    .dataframe tbody tr th:only-of-type {\n",
       "        vertical-align: middle;\n",
       "    }\n",
       "\n",
       "    .dataframe tbody tr th {\n",
       "        vertical-align: top;\n",
       "    }\n",
       "\n",
       "    .dataframe thead th {\n",
       "        text-align: right;\n",
       "    }\n",
       "</style>\n",
       "<table border=\"1\" class=\"dataframe\">\n",
       "  <thead>\n",
       "    <tr style=\"text-align: right;\">\n",
       "      <th></th>\n",
       "      <th>coef</th>\n",
       "      <th>coef_sign</th>\n",
       "    </tr>\n",
       "  </thead>\n",
       "  <tbody>\n",
       "    <tr>\n",
       "      <th>Brand_nissan</th>\n",
       "      <td>0.0</td>\n",
       "      <td>-</td>\n",
       "    </tr>\n",
       "    <tr>\n",
       "      <th>Brand_lancia</th>\n",
       "      <td>0.0</td>\n",
       "      <td>-</td>\n",
       "    </tr>\n",
       "    <tr>\n",
       "      <th>Brand_lada</th>\n",
       "      <td>0.0</td>\n",
       "      <td>-</td>\n",
       "    </tr>\n",
       "    <tr>\n",
       "      <th>Brand_jeep</th>\n",
       "      <td>0.0</td>\n",
       "      <td>-</td>\n",
       "    </tr>\n",
       "    <tr>\n",
       "      <th>VehicleType_other</th>\n",
       "      <td>0.0</td>\n",
       "      <td>-</td>\n",
       "    </tr>\n",
       "    <tr>\n",
       "      <th>Brand_daihatsu</th>\n",
       "      <td>0.0</td>\n",
       "      <td>-</td>\n",
       "    </tr>\n",
       "    <tr>\n",
       "      <th>FuelType_other</th>\n",
       "      <td>0.0</td>\n",
       "      <td>-</td>\n",
       "    </tr>\n",
       "    <tr>\n",
       "      <th>FuelType_hybrid</th>\n",
       "      <td>0.0</td>\n",
       "      <td>-</td>\n",
       "    </tr>\n",
       "    <tr>\n",
       "      <th>FuelType_electric</th>\n",
       "      <td>0.0</td>\n",
       "      <td>-</td>\n",
       "    </tr>\n",
       "    <tr>\n",
       "      <th>Brand_honda</th>\n",
       "      <td>0.0</td>\n",
       "      <td>-</td>\n",
       "    </tr>\n",
       "  </tbody>\n",
       "</table>\n",
       "</div>"
      ],
      "text/plain": [
       "                   coef coef_sign\n",
       "Brand_nissan        0.0         -\n",
       "Brand_lancia        0.0         -\n",
       "Brand_lada          0.0         -\n",
       "Brand_jeep          0.0         -\n",
       "VehicleType_other   0.0         -\n",
       "Brand_daihatsu      0.0         -\n",
       "FuelType_other      0.0         -\n",
       "FuelType_hybrid     0.0         -\n",
       "FuelType_electric   0.0         -\n",
       "Brand_honda         0.0         -"
      ]
     },
     "execution_count": 67,
     "metadata": {},
     "output_type": "execute_result"
    }
   ],
   "source": [
    "# создание списка с названиями признаков\n",
    "enet_feature_names = list(features_train_en_rf.columns)\n",
    "\n",
    "# создание датасета с коэффициентами и корреспондирующими им названиями признаков\n",
    "enet_coef = pd.DataFrame(\n",
    "    enet.coef_,\n",
    "    columns=['coef'],\n",
    "    index=enet_feature_names)\n",
    "\n",
    "# перенос знака коэффициента в отдельный столбец\n",
    "enet_coef['coef_sign'] = enet_coef.apply(\n",
    "    lambda x: '+' if x.coef > 0 else '-', axis=1)\n",
    "enet_coef['coef'] = np.abs(enet_coef['coef'])\n",
    "\n",
    "# сортировка коэффициентов по убыванию\n",
    "enet_coef.sort_values(by='coef', ascending=False, inplace=True)\n",
    "\n",
    "# вывод на экран признаков, наиболее и наименее повлиявших на предсказания модели\n",
    "print('Признаки, наиболее влияющие на предсказания модели:')\n",
    "print()\n",
    "print('Увеличивающие предсказание:')\n",
    "display(enet_coef.query('coef_sign == \"+\"').head(5))\n",
    "print()\n",
    "print('Понижающие предсказание:')\n",
    "display(enet_coef.query('coef_sign == \"-\"').head(5))\n",
    "print()\n",
    "print('Признаки, наименее влияющие на предсказания модели:')\n",
    "enet_coef.tail(10)"
   ]
  },
  {
   "cell_type": "markdown",
   "metadata": {},
   "source": [
    "Мы видим, что:\n",
    "- наибольшее положительное влияние на предсказания модели оказали мощность, год регистрации, тип автомобиля *SUV* и марки автомобиля *Wolkswagen* и *Audi*;\n",
    "- наибольшее отрицательное влияние на предсказания модели оказали километраж, информации о типе автомобиля и тип автомобиля *small*, а также нахождение автомобиля в ремонте и отсутствие информации об этом;\n",
    "- в составе признаков, наименее влияющих на предсказания модели, определенные марки автомоблия, а также электрический тип топлива."
   ]
  },
  {
   "cell_type": "markdown",
   "metadata": {},
   "source": [
    "#### RandomForestRegressor"
   ]
  },
  {
   "cell_type": "code",
   "execution_count": 68,
   "metadata": {},
   "outputs": [
    {
     "name": "stdout",
     "output_type": "stream",
     "text": [
      "Наиболее важные признаки:\n"
     ]
    },
    {
     "data": {
      "text/html": [
       "<div>\n",
       "<style scoped>\n",
       "    .dataframe tbody tr th:only-of-type {\n",
       "        vertical-align: middle;\n",
       "    }\n",
       "\n",
       "    .dataframe tbody tr th {\n",
       "        vertical-align: top;\n",
       "    }\n",
       "\n",
       "    .dataframe thead th {\n",
       "        text-align: right;\n",
       "    }\n",
       "</style>\n",
       "<table border=\"1\" class=\"dataframe\">\n",
       "  <thead>\n",
       "    <tr style=\"text-align: right;\">\n",
       "      <th></th>\n",
       "      <th>feature</th>\n",
       "      <th>feature_importance</th>\n",
       "    </tr>\n",
       "  </thead>\n",
       "  <tbody>\n",
       "    <tr>\n",
       "      <th>0</th>\n",
       "      <td>RegistrationYear</td>\n",
       "      <td>0.620503</td>\n",
       "    </tr>\n",
       "    <tr>\n",
       "      <th>1</th>\n",
       "      <td>Power</td>\n",
       "      <td>0.287854</td>\n",
       "    </tr>\n",
       "    <tr>\n",
       "      <th>2</th>\n",
       "      <td>Kilometer</td>\n",
       "      <td>0.045508</td>\n",
       "    </tr>\n",
       "    <tr>\n",
       "      <th>3</th>\n",
       "      <td>VehicleType_convertible</td>\n",
       "      <td>0.012730</td>\n",
       "    </tr>\n",
       "    <tr>\n",
       "      <th>4</th>\n",
       "      <td>NotRepaired_yes</td>\n",
       "      <td>0.007582</td>\n",
       "    </tr>\n",
       "  </tbody>\n",
       "</table>\n",
       "</div>"
      ],
      "text/plain": [
       "                   feature  feature_importance\n",
       "0         RegistrationYear            0.620503\n",
       "1                    Power            0.287854\n",
       "2                Kilometer            0.045508\n",
       "3  VehicleType_convertible            0.012730\n",
       "4          NotRepaired_yes            0.007582"
      ]
     },
     "metadata": {},
     "output_type": "display_data"
    },
    {
     "name": "stdout",
     "output_type": "stream",
     "text": [
      "\n",
      "Наименее важные признаки:\n"
     ]
    },
    {
     "data": {
      "text/html": [
       "<div>\n",
       "<style scoped>\n",
       "    .dataframe tbody tr th:only-of-type {\n",
       "        vertical-align: middle;\n",
       "    }\n",
       "\n",
       "    .dataframe tbody tr th {\n",
       "        vertical-align: top;\n",
       "    }\n",
       "\n",
       "    .dataframe thead th {\n",
       "        text-align: right;\n",
       "    }\n",
       "</style>\n",
       "<table border=\"1\" class=\"dataframe\">\n",
       "  <thead>\n",
       "    <tr style=\"text-align: right;\">\n",
       "      <th></th>\n",
       "      <th>feature</th>\n",
       "      <th>feature_importance</th>\n",
       "    </tr>\n",
       "  </thead>\n",
       "  <tbody>\n",
       "    <tr>\n",
       "      <th>55</th>\n",
       "      <td>Brand_mitsubishi</td>\n",
       "      <td>7.001266e-07</td>\n",
       "    </tr>\n",
       "    <tr>\n",
       "      <th>56</th>\n",
       "      <td>Brand_lancia</td>\n",
       "      <td>1.348879e-07</td>\n",
       "    </tr>\n",
       "    <tr>\n",
       "      <th>57</th>\n",
       "      <td>Brand_daewoo</td>\n",
       "      <td>1.069904e-07</td>\n",
       "    </tr>\n",
       "    <tr>\n",
       "      <th>58</th>\n",
       "      <td>Brand_daihatsu</td>\n",
       "      <td>7.099396e-09</td>\n",
       "    </tr>\n",
       "    <tr>\n",
       "      <th>59</th>\n",
       "      <td>FuelType_other</td>\n",
       "      <td>0.000000e+00</td>\n",
       "    </tr>\n",
       "  </tbody>\n",
       "</table>\n",
       "</div>"
      ],
      "text/plain": [
       "             feature  feature_importance\n",
       "55  Brand_mitsubishi        7.001266e-07\n",
       "56      Brand_lancia        1.348879e-07\n",
       "57      Brand_daewoo        1.069904e-07\n",
       "58    Brand_daihatsu        7.099396e-09\n",
       "59    FuelType_other        0.000000e+00"
      ]
     },
     "metadata": {},
     "output_type": "display_data"
    }
   ],
   "source": [
    "# применение функции show_feature_importances\n",
    "show_feature_importances(rforest, features_train_en_rf)"
   ]
  },
  {
   "cell_type": "markdown",
   "metadata": {},
   "source": [
    "Мы видим, что:\n",
    "- основное влияние на предсказания модели оказали мощность, год регистрации и километраж (они определяют 95% предсказания); \n",
    "- наибольшее влияние оказывает год регистрации (он определяет 62% предсказания)."
   ]
  },
  {
   "cell_type": "markdown",
   "metadata": {},
   "source": [
    "#### CatBoostRegressor"
   ]
  },
  {
   "cell_type": "code",
   "execution_count": 69,
   "metadata": {},
   "outputs": [
    {
     "name": "stdout",
     "output_type": "stream",
     "text": [
      "Наиболее важные признаки:\n"
     ]
    },
    {
     "data": {
      "text/html": [
       "<div>\n",
       "<style scoped>\n",
       "    .dataframe tbody tr th:only-of-type {\n",
       "        vertical-align: middle;\n",
       "    }\n",
       "\n",
       "    .dataframe tbody tr th {\n",
       "        vertical-align: top;\n",
       "    }\n",
       "\n",
       "    .dataframe thead th {\n",
       "        text-align: right;\n",
       "    }\n",
       "</style>\n",
       "<table border=\"1\" class=\"dataframe\">\n",
       "  <thead>\n",
       "    <tr style=\"text-align: right;\">\n",
       "      <th></th>\n",
       "      <th>feature</th>\n",
       "      <th>feature_importance</th>\n",
       "    </tr>\n",
       "  </thead>\n",
       "  <tbody>\n",
       "    <tr>\n",
       "      <th>0</th>\n",
       "      <td>RegistrationYear</td>\n",
       "      <td>37.397971</td>\n",
       "    </tr>\n",
       "    <tr>\n",
       "      <th>1</th>\n",
       "      <td>Power</td>\n",
       "      <td>26.981305</td>\n",
       "    </tr>\n",
       "    <tr>\n",
       "      <th>2</th>\n",
       "      <td>Kilometer</td>\n",
       "      <td>9.729642</td>\n",
       "    </tr>\n",
       "    <tr>\n",
       "      <th>3</th>\n",
       "      <td>VehicleType</td>\n",
       "      <td>7.404058</td>\n",
       "    </tr>\n",
       "    <tr>\n",
       "      <th>4</th>\n",
       "      <td>Brand</td>\n",
       "      <td>6.744334</td>\n",
       "    </tr>\n",
       "  </tbody>\n",
       "</table>\n",
       "</div>"
      ],
      "text/plain": [
       "            feature  feature_importance\n",
       "0  RegistrationYear           37.397971\n",
       "1             Power           26.981305\n",
       "2         Kilometer            9.729642\n",
       "3       VehicleType            7.404058\n",
       "4             Brand            6.744334"
      ]
     },
     "metadata": {},
     "output_type": "display_data"
    },
    {
     "name": "stdout",
     "output_type": "stream",
     "text": [
      "\n",
      "Наименее важные признаки:\n"
     ]
    },
    {
     "data": {
      "text/html": [
       "<div>\n",
       "<style scoped>\n",
       "    .dataframe tbody tr th:only-of-type {\n",
       "        vertical-align: middle;\n",
       "    }\n",
       "\n",
       "    .dataframe tbody tr th {\n",
       "        vertical-align: top;\n",
       "    }\n",
       "\n",
       "    .dataframe thead th {\n",
       "        text-align: right;\n",
       "    }\n",
       "</style>\n",
       "<table border=\"1\" class=\"dataframe\">\n",
       "  <thead>\n",
       "    <tr style=\"text-align: right;\">\n",
       "      <th></th>\n",
       "      <th>feature</th>\n",
       "      <th>feature_importance</th>\n",
       "    </tr>\n",
       "  </thead>\n",
       "  <tbody>\n",
       "    <tr>\n",
       "      <th>6</th>\n",
       "      <td>NotRepaired</td>\n",
       "      <td>3.069592</td>\n",
       "    </tr>\n",
       "    <tr>\n",
       "      <th>7</th>\n",
       "      <td>PostalCode</td>\n",
       "      <td>1.193084</td>\n",
       "    </tr>\n",
       "    <tr>\n",
       "      <th>8</th>\n",
       "      <td>Gearbox</td>\n",
       "      <td>0.794640</td>\n",
       "    </tr>\n",
       "    <tr>\n",
       "      <th>9</th>\n",
       "      <td>RegistrationMonth</td>\n",
       "      <td>0.489556</td>\n",
       "    </tr>\n",
       "    <tr>\n",
       "      <th>10</th>\n",
       "      <td>FuelType</td>\n",
       "      <td>0.296153</td>\n",
       "    </tr>\n",
       "  </tbody>\n",
       "</table>\n",
       "</div>"
      ],
      "text/plain": [
       "              feature  feature_importance\n",
       "6         NotRepaired            3.069592\n",
       "7          PostalCode            1.193084\n",
       "8             Gearbox            0.794640\n",
       "9   RegistrationMonth            0.489556\n",
       "10           FuelType            0.296153"
      ]
     },
     "metadata": {},
     "output_type": "display_data"
    }
   ],
   "source": [
    "# применение функции show_feature_importances\n",
    "show_feature_importances(cboost, features_train)"
   ]
  },
  {
   "cell_type": "markdown",
   "metadata": {},
   "source": [
    "Мы видим, что:\n",
    "- основное влияние на предсказания модели оказали год регистрации, мощность и километраж, тип автомобиля и бренд (они определяют ~88% предсказания); \n",
    "- наибольшее влияние оказывают год регистрации и мощность (он определяют более 60% предсказания);\n",
    "- влияние почтового индекса, месяца регистрации, типа коробки передач и типа топлива на прогноз очень ограниченно (они определяют менее 3% прогноза), т.е. их можно удалить для увеличения скорости обучения и предсказания модели."
   ]
  },
  {
   "cell_type": "markdown",
   "metadata": {},
   "source": [
    "#### LGBMRegressor"
   ]
  },
  {
   "cell_type": "code",
   "execution_count": 70,
   "metadata": {},
   "outputs": [
    {
     "name": "stdout",
     "output_type": "stream",
     "text": [
      "Наиболее важные признаки:\n"
     ]
    },
    {
     "data": {
      "text/html": [
       "<div>\n",
       "<style scoped>\n",
       "    .dataframe tbody tr th:only-of-type {\n",
       "        vertical-align: middle;\n",
       "    }\n",
       "\n",
       "    .dataframe tbody tr th {\n",
       "        vertical-align: top;\n",
       "    }\n",
       "\n",
       "    .dataframe thead th {\n",
       "        text-align: right;\n",
       "    }\n",
       "</style>\n",
       "<table border=\"1\" class=\"dataframe\">\n",
       "  <thead>\n",
       "    <tr style=\"text-align: right;\">\n",
       "      <th></th>\n",
       "      <th>feature</th>\n",
       "      <th>feature_importance</th>\n",
       "    </tr>\n",
       "  </thead>\n",
       "  <tbody>\n",
       "    <tr>\n",
       "      <th>0</th>\n",
       "      <td>Power</td>\n",
       "      <td>16075</td>\n",
       "    </tr>\n",
       "    <tr>\n",
       "      <th>1</th>\n",
       "      <td>RegistrationYear</td>\n",
       "      <td>12462</td>\n",
       "    </tr>\n",
       "    <tr>\n",
       "      <th>2</th>\n",
       "      <td>PostalCode</td>\n",
       "      <td>11808</td>\n",
       "    </tr>\n",
       "    <tr>\n",
       "      <th>3</th>\n",
       "      <td>Model</td>\n",
       "      <td>5062</td>\n",
       "    </tr>\n",
       "    <tr>\n",
       "      <th>4</th>\n",
       "      <td>RegistrationMonth</td>\n",
       "      <td>4000</td>\n",
       "    </tr>\n",
       "  </tbody>\n",
       "</table>\n",
       "</div>"
      ],
      "text/plain": [
       "             feature  feature_importance\n",
       "0              Power               16075\n",
       "1   RegistrationYear               12462\n",
       "2         PostalCode               11808\n",
       "3              Model                5062\n",
       "4  RegistrationMonth                4000"
      ]
     },
     "metadata": {},
     "output_type": "display_data"
    },
    {
     "name": "stdout",
     "output_type": "stream",
     "text": [
      "\n",
      "Наименее важные признаки:\n"
     ]
    },
    {
     "data": {
      "text/html": [
       "<div>\n",
       "<style scoped>\n",
       "    .dataframe tbody tr th:only-of-type {\n",
       "        vertical-align: middle;\n",
       "    }\n",
       "\n",
       "    .dataframe tbody tr th {\n",
       "        vertical-align: top;\n",
       "    }\n",
       "\n",
       "    .dataframe thead th {\n",
       "        text-align: right;\n",
       "    }\n",
       "</style>\n",
       "<table border=\"1\" class=\"dataframe\">\n",
       "  <thead>\n",
       "    <tr style=\"text-align: right;\">\n",
       "      <th></th>\n",
       "      <th>feature</th>\n",
       "      <th>feature_importance</th>\n",
       "    </tr>\n",
       "  </thead>\n",
       "  <tbody>\n",
       "    <tr>\n",
       "      <th>6</th>\n",
       "      <td>Brand</td>\n",
       "      <td>2197</td>\n",
       "    </tr>\n",
       "    <tr>\n",
       "      <th>7</th>\n",
       "      <td>VehicleType</td>\n",
       "      <td>1700</td>\n",
       "    </tr>\n",
       "    <tr>\n",
       "      <th>8</th>\n",
       "      <td>Gearbox</td>\n",
       "      <td>1520</td>\n",
       "    </tr>\n",
       "    <tr>\n",
       "      <th>9</th>\n",
       "      <td>NotRepaired</td>\n",
       "      <td>1226</td>\n",
       "    </tr>\n",
       "    <tr>\n",
       "      <th>10</th>\n",
       "      <td>FuelType</td>\n",
       "      <td>65</td>\n",
       "    </tr>\n",
       "  </tbody>\n",
       "</table>\n",
       "</div>"
      ],
      "text/plain": [
       "        feature  feature_importance\n",
       "6         Brand                2197\n",
       "7   VehicleType                1700\n",
       "8       Gearbox                1520\n",
       "9   NotRepaired                1226\n",
       "10     FuelType                  65"
      ]
     },
     "metadata": {},
     "output_type": "display_data"
    }
   ],
   "source": [
    "show_feature_importances(lgbm, features_train_lgbm)"
   ]
  },
  {
   "cell_type": "markdown",
   "metadata": {},
   "source": [
    "Мы видим, что:\n",
    "- основное влияние на предсказания модели оказали мощность, год регистрации и почтовый индекс владельца анкеты; \n",
    "- влияние типа коробки передач, статуса ремонта и типа топлива на прогноз ограниченно, т.е. их можно удалить для увеличения скорости обучения и предсказания модели."
   ]
  },
  {
   "cell_type": "markdown",
   "metadata": {},
   "source": [
    "### Выводы"
   ]
  },
  {
   "cell_type": "markdown",
   "metadata": {},
   "source": [
    "По итогам анализа моделей мы пришли к следующим выводам:\n",
    "\n",
    "*Качество*\n",
    "\n",
    "- наилучшее среднее значение *RMSE* (1539.0) продемонстрировала модель *CatBoostRegressor* (но при этом разница между значениями *CatBoostRegressor* *LGBMRegressor* является незначительной);\n",
    "- среднее значение *RMSE* модели *ElasticNet* (2806.8) не соответствует требованиям заказчика.\n",
    "\n",
    "*Время обучения*\n",
    "\n",
    "- наилучшее среднее вреия обучения (0.6 секунды) продемонстрировала модель *ElasticNet*, наихудшее время (310.3 секунд) - *CatBoostRegressor*;\n",
    "- только у двух моделей (*ElasticNet* и *RandomForestRegressor*) среднее время обучения находится в пределах 1 минуты.\n",
    "\n",
    "*Время предсказания*\n",
    "\n",
    "- наилучшее среднее время предсказания (0.2 секунды) продемонстрировала модель *ElasticNet*, наихудшее время (27.1 секунды) - *LGBMRegressor*;\n",
    "- только у двух моделей (*ElasticNet* и *RandomForestRegressor*) среднее время предсказания находится в пределах 1 секунды;\n",
    "- среднее время предсказания модели *LGBMRegressor* многократно превышает показатели остальных трех моделей и, на наш взгляд, не соответствует ожиданиям пользователей сервиса.\n",
    "\n",
    "*Влияние признаков на предсказания моделей*\n",
    "\n",
    "- *ElasticNet*:\n",
    "  - наибольшее положительное влияние на предсказания модели оказали мощность, год регистрации, тип автомобиля *SUV* и марки автомобиля *Wolkswagen* и *Audi*;\n",
    "  - наибольшее отрицательное влияние на предсказания модели оказали километраж, информации о типе автомобиля и тип автомобиля *small*, а также нахождение автомобиля в ремонте и отсутствие информации об этом;\n",
    "  - в составе признаков, наименее влияющих на предсказания модели, определенные марки автомоблия, а также электрический тип топлива.\n",
    "- *RandomForestRegressor*:\n",
    "  - основное влияние на предсказания модели оказали мощность, год регистрации и километраж (они определяют 95% предсказания); \n",
    "  - наибольшее влияние оказывает год регистрации (он определяет 62% предсказания).\n",
    "- *CatBoostRegressor*:\n",
    "  - основное влияние на предсказания модели оказали год регистрации, мощность и километраж, тип автомобиля и бренд (они определяют ~88% предсказания); \n",
    "  - наибольшее влияние оказывают год регистрации и мощность (он определяют более 60% предсказания);\n",
    "  - влияние почтового индекса, месяца регистрации, типа коробки передач и типа топлива на прогноз очень ограниченно (они определяют менее 3% прогноза), т.е. их можно удалить для увеличения скорости обучения и предсказания модели.\n",
    "- *LGBMRegressor*:\n",
    "  - основное влияние на предсказания модели оказали мощность, год регистрации и почтовый индекс владельца анкеты; \n",
    "  - влияние типа коробки передач, статуса ремонта и типа топлива на прогноз ограниченно, т.е. их можно удалить для увеличения скорости обучения и предсказания модели.\n",
    "\n",
    "Мы видим, что:\n",
    "- модели с лучшими показателями качества (*CatBoostRegressor* и *LGBMRegressor*) демонстрируют худшие показатели времени обучения и предсказания;\n",
    "- ряд признаков, на которых обучались такие модели, очень ограниченно влияют на предсказания моделей.\n",
    "\n",
    "На следующем этапе повторно обучим модели *CatBoostRegressor* и *LGBMRegressor*, используя ранее подобранные гиперпараметры и исключив из выборов признаки, влияние которых на предсказания ограниченно."
   ]
  },
  {
   "cell_type": "markdown",
   "metadata": {},
   "source": [
    "## Повторное обучение и анализ моделей *CatBoostRegressor* и *LGBMRegressor*"
   ]
  },
  {
   "cell_type": "markdown",
   "metadata": {},
   "source": [
    "На данном этапе мы:\n",
    "- исключим из выборок моделей *CatBoostRegressor* и *LGBMRegressor* признаки с низкой важностью для предсказаний;\n",
    "- повторно обучим эти модели, используя ранее подобранные гиперпараметры;\n",
    "- сравним метрики переобученных моделей с метриками моделей, обученных на первом круге."
   ]
  },
  {
   "cell_type": "markdown",
   "metadata": {},
   "source": [
    "### Подготовка нового сета выборок для *CatBoostRegressor*"
   ]
  },
  {
   "cell_type": "markdown",
   "metadata": {},
   "source": [
    "Создадим новый сет выборок для модели *CatBoostRegressor*, исключив из них признаки с низкой важностью для предсказаний:"
   ]
  },
  {
   "cell_type": "code",
   "execution_count": 71,
   "metadata": {},
   "outputs": [],
   "source": [
    "# создание копий features_train и features_test\n",
    "features_train_cboost = features_train.copy()\n",
    "features_test_cboost = features_test.copy()"
   ]
  },
  {
   "cell_type": "code",
   "execution_count": 72,
   "metadata": {},
   "outputs": [],
   "source": [
    "# создание списка с названиями исключаемых признаков \n",
    "cboost_features_to_remove = ['PostalCode', 'Gearbox', 'RegistrationMonth', 'FuelType']"
   ]
  },
  {
   "cell_type": "code",
   "execution_count": 73,
   "metadata": {},
   "outputs": [
    {
     "name": "stdout",
     "output_type": "stream",
     "text": [
      "Index(['VehicleType', 'RegistrationYear', 'Power', 'Model', 'Kilometer',\n",
      "       'Brand', 'NotRepaired'],\n",
      "      dtype='object')\n",
      "\n",
      "Index(['VehicleType', 'RegistrationYear', 'Power', 'Model', 'Kilometer',\n",
      "       'Brand', 'NotRepaired'],\n",
      "      dtype='object')\n",
      "\n"
     ]
    }
   ],
   "source": [
    "# исключение признаков\n",
    "features_train_cboost.drop(columns=cboost_features_to_remove, inplace=True)\n",
    "features_test_cboost.drop(columns=cboost_features_to_remove, inplace=True)\n",
    "\n",
    "# проверка исключения признаков\n",
    "for subset in features_train_cboost, features_test_cboost:\n",
    "    print(subset.columns)\n",
    "    print()"
   ]
  },
  {
   "cell_type": "code",
   "execution_count": 74,
   "metadata": {},
   "outputs": [
    {
     "data": {
      "text/plain": [
       "['VehicleType', 'Model', 'Brand', 'NotRepaired']"
      ]
     },
     "execution_count": 74,
     "metadata": {},
     "output_type": "execute_result"
    }
   ],
   "source": [
    "# обновление списка категориальных признаков (для передачи модели CatBoostRegressor)\n",
    "cat_features_names = [col for col in features_train_cboost.columns if col not in features_numeric]\n",
    "\n",
    "# проверка обновления списка категориальных признаков\n",
    "cat_features_names"
   ]
  },
  {
   "cell_type": "markdown",
   "metadata": {},
   "source": [
    "### Подготовка нового сета выборок для *LGBMRegressor*"
   ]
  },
  {
   "cell_type": "markdown",
   "metadata": {},
   "source": [
    "Создадим новый сет выборок для модели *LGBMRegressor*, исключив из них признаки с низкой важностью для предсказаний:"
   ]
  },
  {
   "cell_type": "code",
   "execution_count": 75,
   "metadata": {},
   "outputs": [
    {
     "name": "stdout",
     "output_type": "stream",
     "text": [
      "Index(['VehicleType', 'RegistrationYear', 'Power', 'Model', 'Kilometer',\n",
      "       'RegistrationMonth', 'Brand', 'PostalCode'],\n",
      "      dtype='object')\n",
      "\n",
      "Index(['VehicleType', 'RegistrationYear', 'Power', 'Model', 'Kilometer',\n",
      "       'RegistrationMonth', 'Brand', 'PostalCode'],\n",
      "      dtype='object')\n",
      "\n"
     ]
    }
   ],
   "source": [
    "# обновление списка признаков\n",
    "features_train_lgbm.drop(columns=['Gearbox', 'NotRepaired', 'FuelType'], inplace=True)\n",
    "features_test_lgbm.drop(columns=['Gearbox', 'NotRepaired', 'FuelType'], inplace=True)\n",
    "\n",
    "# проверка исключения признаков\n",
    "for subset in features_train_lgbm, features_test_lgbm:\n",
    "    print(subset.columns)\n",
    "    print()"
   ]
  },
  {
   "cell_type": "markdown",
   "metadata": {},
   "source": [
    "### Повторное обучение *СatBoostRegressor*"
   ]
  },
  {
   "cell_type": "markdown",
   "metadata": {},
   "source": [
    "Повторно создадим модель, используя подобранные на этапе 4 гиперпараметры:"
   ]
  },
  {
   "cell_type": "code",
   "execution_count": 76,
   "metadata": {},
   "outputs": [],
   "source": [
    "# создание словаря с параметрами модели\n",
    "cboost_v2_model_params = {'cat_features': cat_features_names,\n",
    "                       'loss_function': 'RMSE',\n",
    "                       'random_state': 12345,\n",
    "                       'verbose': 100,\n",
    "                       'learning_rate': 0.1,\n",
    "                       'iterations': 2000}"
   ]
  },
  {
   "cell_type": "code",
   "execution_count": 77,
   "metadata": {},
   "outputs": [],
   "source": [
    "# создание модели\n",
    "cboost_v2 = cb.CatBoostRegressor(**cboost_v2_model_params)"
   ]
  },
  {
   "cell_type": "markdown",
   "metadata": {},
   "source": [
    "Получим метрики модели при помощи инструмента *cross_validate* (используя новый сет признаков) и сохраним их в сравнительную таблицу:"
   ]
  },
  {
   "cell_type": "code",
   "execution_count": 78,
   "metadata": {},
   "outputs": [
    {
     "name": "stderr",
     "output_type": "stream",
     "text": [
      "[Parallel(n_jobs=-1)]: Using backend SequentialBackend with 1 concurrent workers.\n"
     ]
    },
    {
     "name": "stdout",
     "output_type": "stream",
     "text": [
      "0:\tlearn: 4288.0311729\ttotal: 149ms\tremaining: 4m 57s\n",
      "100:\tlearn: 1723.3760745\ttotal: 9.78s\tremaining: 3m 3s\n",
      "200:\tlearn: 1651.3298003\ttotal: 18.9s\tremaining: 2m 49s\n",
      "300:\tlearn: 1616.1210071\ttotal: 28.3s\tremaining: 2m 39s\n",
      "400:\tlearn: 1590.6020205\ttotal: 37.1s\tremaining: 2m 28s\n",
      "500:\tlearn: 1569.1968271\ttotal: 46.5s\tremaining: 2m 19s\n",
      "600:\tlearn: 1551.8338461\ttotal: 55.9s\tremaining: 2m 10s\n",
      "700:\tlearn: 1538.5934673\ttotal: 1m 5s\tremaining: 2m\n",
      "800:\tlearn: 1526.8966963\ttotal: 1m 15s\tremaining: 1m 52s\n",
      "900:\tlearn: 1515.7325905\ttotal: 1m 24s\tremaining: 1m 43s\n",
      "1000:\tlearn: 1504.9303138\ttotal: 1m 34s\tremaining: 1m 34s\n",
      "1100:\tlearn: 1495.3936127\ttotal: 1m 43s\tremaining: 1m 24s\n",
      "1200:\tlearn: 1485.8859725\ttotal: 1m 53s\tremaining: 1m 15s\n",
      "1300:\tlearn: 1477.8257451\ttotal: 2m 2s\tremaining: 1m 6s\n",
      "1400:\tlearn: 1471.2195656\ttotal: 2m 12s\tremaining: 56.7s\n",
      "1500:\tlearn: 1464.4800169\ttotal: 2m 22s\tremaining: 47.3s\n",
      "1600:\tlearn: 1458.1225988\ttotal: 2m 31s\tremaining: 37.8s\n",
      "1700:\tlearn: 1451.9610544\ttotal: 2m 41s\tremaining: 28.4s\n",
      "1800:\tlearn: 1446.4210044\ttotal: 2m 50s\tremaining: 18.9s\n",
      "1900:\tlearn: 1441.4212143\ttotal: 3m\tremaining: 9.39s\n",
      "1999:\tlearn: 1436.1531688\ttotal: 3m 9s\tremaining: 0us\n",
      "[CV] END .................................................... total time= 3.2min\n"
     ]
    },
    {
     "name": "stderr",
     "output_type": "stream",
     "text": [
      "[Parallel(n_jobs=-1)]: Done   1 out of   1 | elapsed:  3.2min remaining:    0.0s\n"
     ]
    },
    {
     "name": "stdout",
     "output_type": "stream",
     "text": [
      "0:\tlearn: 4280.3014010\ttotal: 122ms\tremaining: 4m 3s\n",
      "100:\tlearn: 1724.9977002\ttotal: 9.44s\tremaining: 2m 57s\n",
      "200:\tlearn: 1655.5550053\ttotal: 18.4s\tremaining: 2m 44s\n",
      "300:\tlearn: 1616.6992760\ttotal: 27.3s\tremaining: 2m 34s\n",
      "400:\tlearn: 1586.4506481\ttotal: 36.6s\tremaining: 2m 26s\n",
      "500:\tlearn: 1566.4738788\ttotal: 45.7s\tremaining: 2m 16s\n",
      "600:\tlearn: 1550.1193672\ttotal: 55.4s\tremaining: 2m 8s\n",
      "700:\tlearn: 1535.1842979\ttotal: 1m 5s\tremaining: 2m\n",
      "800:\tlearn: 1521.3649163\ttotal: 1m 14s\tremaining: 1m 52s\n",
      "900:\tlearn: 1509.4935401\ttotal: 1m 24s\tremaining: 1m 42s\n",
      "1000:\tlearn: 1498.5827855\ttotal: 1m 33s\tremaining: 1m 33s\n",
      "1100:\tlearn: 1489.4299350\ttotal: 1m 43s\tremaining: 1m 24s\n",
      "1200:\tlearn: 1480.6928621\ttotal: 1m 52s\tremaining: 1m 14s\n",
      "1300:\tlearn: 1472.9948836\ttotal: 2m 2s\tremaining: 1m 5s\n",
      "1400:\tlearn: 1465.1343262\ttotal: 2m 12s\tremaining: 56.5s\n",
      "1500:\tlearn: 1458.2441906\ttotal: 2m 21s\tremaining: 47.1s\n",
      "1600:\tlearn: 1451.4966576\ttotal: 2m 31s\tremaining: 37.8s\n",
      "1700:\tlearn: 1445.4922492\ttotal: 2m 41s\tremaining: 28.4s\n",
      "1800:\tlearn: 1439.6480415\ttotal: 2m 50s\tremaining: 18.9s\n",
      "1900:\tlearn: 1434.7627611\ttotal: 3m 1s\tremaining: 9.43s\n",
      "1999:\tlearn: 1429.8536245\ttotal: 3m 11s\tremaining: 0us\n",
      "[CV] END .................................................... total time= 3.3min\n",
      "0:\tlearn: 4278.5837230\ttotal: 130ms\tremaining: 4m 19s\n",
      "100:\tlearn: 1724.8511910\ttotal: 9.66s\tremaining: 3m 1s\n",
      "200:\tlearn: 1645.9329312\ttotal: 19.4s\tremaining: 2m 53s\n",
      "300:\tlearn: 1608.8014258\ttotal: 28.7s\tremaining: 2m 42s\n",
      "400:\tlearn: 1584.8342462\ttotal: 37.7s\tremaining: 2m 30s\n",
      "500:\tlearn: 1565.3447900\ttotal: 47.7s\tremaining: 2m 22s\n",
      "600:\tlearn: 1546.7482767\ttotal: 57.3s\tremaining: 2m 13s\n",
      "700:\tlearn: 1531.5782494\ttotal: 1m 7s\tremaining: 2m 5s\n",
      "800:\tlearn: 1518.4046289\ttotal: 1m 17s\tremaining: 1m 55s\n",
      "900:\tlearn: 1505.9446656\ttotal: 1m 27s\tremaining: 1m 46s\n",
      "1000:\tlearn: 1495.7527104\ttotal: 1m 36s\tremaining: 1m 36s\n",
      "1100:\tlearn: 1486.9536189\ttotal: 1m 46s\tremaining: 1m 27s\n",
      "1200:\tlearn: 1478.9197089\ttotal: 1m 56s\tremaining: 1m 17s\n",
      "1300:\tlearn: 1472.1070251\ttotal: 2m 6s\tremaining: 1m 8s\n",
      "1400:\tlearn: 1464.9529250\ttotal: 2m 16s\tremaining: 58.3s\n",
      "1500:\tlearn: 1458.2848328\ttotal: 2m 26s\tremaining: 48.6s\n",
      "1600:\tlearn: 1451.8632114\ttotal: 2m 35s\tremaining: 38.8s\n",
      "1700:\tlearn: 1445.6614969\ttotal: 2m 45s\tremaining: 29.1s\n",
      "1800:\tlearn: 1439.1612202\ttotal: 2m 55s\tremaining: 19.4s\n",
      "1900:\tlearn: 1432.8957559\ttotal: 3m 5s\tremaining: 9.66s\n",
      "1999:\tlearn: 1428.4217632\ttotal: 3m 15s\tremaining: 0us\n",
      "[CV] END .................................................... total time= 3.3min\n",
      "CPU times: user 9min 40s, sys: 3.3 s, total: 9min 44s\n",
      "Wall time: 9min 49s\n"
     ]
    },
    {
     "name": "stderr",
     "output_type": "stream",
     "text": [
      "[Parallel(n_jobs=-1)]: Done   3 out of   3 | elapsed:  9.8min finished\n"
     ]
    }
   ],
   "source": [
    "%%time\n",
    "\n",
    "# получение метрик модели при помощи cross_validate\n",
    "cboost_v2_cv_results = cross_validate(cboost_v2, features_train_cboost, target_train, \n",
    "                            cv=3, scoring='neg_root_mean_squared_error', verbose=2, n_jobs=-1)"
   ]
  },
  {
   "cell_type": "code",
   "execution_count": 79,
   "metadata": {},
   "outputs": [],
   "source": [
    "# сохранение метрик модели сравнительную таблицу\n",
    "cboost_v2_metrics = ['CatBoostRegressor_v2', {'learning_rate': 0.1, 'iterations': 2000}]\n",
    "    \n",
    "for metric in ('test_score', 'fit_time', 'score_time'):\n",
    "    metric_sum = np.abs(np.sum(cboost_v2_cv_results[metric]))\n",
    "    metric_count = len(cboost_v2_cv_results[metric])\n",
    "    metric_mean = metric_sum / metric_count\n",
    "    cboost_v2_metrics.append(metric_mean)\n",
    "    \n",
    "df_model_comparison.loc[len(df_model_comparison)] = cboost_v2_metrics"
   ]
  },
  {
   "cell_type": "markdown",
   "metadata": {},
   "source": [
    "Также обучим модель на всей обучающей выборке:"
   ]
  },
  {
   "cell_type": "code",
   "execution_count": 80,
   "metadata": {},
   "outputs": [
    {
     "name": "stdout",
     "output_type": "stream",
     "text": [
      "0:\tlearn: 4283.0198526\ttotal: 176ms\tremaining: 5m 51s\n",
      "100:\tlearn: 1715.9538410\ttotal: 14.8s\tremaining: 4m 37s\n",
      "200:\tlearn: 1650.6772482\ttotal: 28.9s\tremaining: 4m 18s\n",
      "300:\tlearn: 1613.7045087\ttotal: 43.5s\tremaining: 4m 5s\n",
      "400:\tlearn: 1589.3837326\ttotal: 57.3s\tremaining: 3m 48s\n",
      "500:\tlearn: 1569.1273520\ttotal: 1m 12s\tremaining: 3m 36s\n",
      "600:\tlearn: 1554.2874669\ttotal: 1m 27s\tremaining: 3m 24s\n",
      "700:\tlearn: 1541.7890513\ttotal: 1m 41s\tremaining: 3m 8s\n",
      "800:\tlearn: 1529.9879791\ttotal: 1m 55s\tremaining: 2m 53s\n",
      "900:\tlearn: 1519.8211754\ttotal: 2m 10s\tremaining: 2m 38s\n",
      "1000:\tlearn: 1510.9632158\ttotal: 2m 27s\tremaining: 2m 26s\n",
      "1100:\tlearn: 1502.6622543\ttotal: 2m 43s\tremaining: 2m 13s\n",
      "1200:\tlearn: 1495.2021760\ttotal: 2m 58s\tremaining: 1m 58s\n",
      "1300:\tlearn: 1487.7503144\ttotal: 3m 13s\tremaining: 1m 44s\n",
      "1400:\tlearn: 1480.5573165\ttotal: 3m 28s\tremaining: 1m 29s\n",
      "1500:\tlearn: 1474.3234775\ttotal: 3m 43s\tremaining: 1m 14s\n",
      "1600:\tlearn: 1468.8126168\ttotal: 3m 57s\tremaining: 59.3s\n",
      "1700:\tlearn: 1463.0464455\ttotal: 4m 13s\tremaining: 44.6s\n",
      "1800:\tlearn: 1457.0124903\ttotal: 4m 28s\tremaining: 29.7s\n",
      "1900:\tlearn: 1451.6296066\ttotal: 4m 44s\tremaining: 14.8s\n",
      "1999:\tlearn: 1447.2820837\ttotal: 5m 1s\tremaining: 0us\n"
     ]
    },
    {
     "data": {
      "text/plain": [
       "<catboost.core.CatBoostRegressor at 0x7fddfa580cd0>"
      ]
     },
     "execution_count": 80,
     "metadata": {},
     "output_type": "execute_result"
    }
   ],
   "source": [
    "# обучение модели\n",
    "cboost_v2.fit(features_train_cboost, target_train)"
   ]
  },
  {
   "cell_type": "markdown",
   "metadata": {},
   "source": [
    "### Повторное обучение *LGBMRegressor*"
   ]
  },
  {
   "cell_type": "markdown",
   "metadata": {},
   "source": [
    "Повторно создадим модель, используя подобранные на этапе 4 гиперпараметры:"
   ]
  },
  {
   "cell_type": "code",
   "execution_count": 81,
   "metadata": {},
   "outputs": [],
   "source": [
    "# создание словаря с параметрами модели\n",
    "lgbm_v2_model_params = {'random_state': 12345,\n",
    "                       'learning_rate': 0.1,\n",
    "                       'num_iterations': 2000}"
   ]
  },
  {
   "cell_type": "code",
   "execution_count": 82,
   "metadata": {},
   "outputs": [],
   "source": [
    "# создание модели\n",
    "lgbm_v2 = lgb.LGBMRegressor(**lgbm_v2_model_params)"
   ]
  },
  {
   "cell_type": "markdown",
   "metadata": {},
   "source": [
    "Получим метрики модели при помощи инструмента *cross_validate* (используя новый сет признаков) и сохраним их в сравнительную таблицу:"
   ]
  },
  {
   "cell_type": "code",
   "execution_count": 83,
   "metadata": {},
   "outputs": [
    {
     "name": "stderr",
     "output_type": "stream",
     "text": [
      "[Parallel(n_jobs=-1)]: Using backend SequentialBackend with 1 concurrent workers.\n"
     ]
    },
    {
     "name": "stdout",
     "output_type": "stream",
     "text": [
      "[CV] END .................................................... total time=29.1min\n"
     ]
    },
    {
     "name": "stderr",
     "output_type": "stream",
     "text": [
      "[Parallel(n_jobs=-1)]: Done   1 out of   1 | elapsed: 29.1min remaining:    0.0s\n"
     ]
    },
    {
     "name": "stdout",
     "output_type": "stream",
     "text": [
      "[CV] END .................................................... total time= 6.7min\n",
      "[CV] END .................................................... total time= 4.7min\n",
      "CPU times: user 39min 26s, sys: 16 s, total: 39min 42s\n",
      "Wall time: 40min 29s\n"
     ]
    },
    {
     "name": "stderr",
     "output_type": "stream",
     "text": [
      "[Parallel(n_jobs=-1)]: Done   3 out of   3 | elapsed: 40.5min finished\n"
     ]
    }
   ],
   "source": [
    "%%time\n",
    "\n",
    "lgbm_v2_cv_results = cross_validate(lgbm_v2, features_train_lgbm, target_train, \n",
    "                            cv=3, scoring='neg_root_mean_squared_error', verbose=2, n_jobs=-1)"
   ]
  },
  {
   "cell_type": "code",
   "execution_count": 84,
   "metadata": {},
   "outputs": [],
   "source": [
    "# сохранение метрик модели сравнительную таблицу\n",
    "lgbm_v2_metrics = ['LGBMRegressor_v2', {'learning_rate': 0.1, 'num_iterations': 2000}]\n",
    "    \n",
    "for metric in ('test_score', 'fit_time', 'score_time'):\n",
    "    metric_sum = np.abs(np.sum(lgbm_v2_cv_results[metric]))\n",
    "    metric_count = len(lgbm_v2_cv_results[metric])\n",
    "    metric_mean = metric_sum / metric_count\n",
    "    lgbm_v2_metrics.append(metric_mean)\n",
    "    \n",
    "df_model_comparison.loc[len(df_model_comparison)] = lgbm_v2_metrics"
   ]
  },
  {
   "cell_type": "markdown",
   "metadata": {},
   "source": [
    "Также обучим модель на всей обучающей выборке:"
   ]
  },
  {
   "cell_type": "code",
   "execution_count": 85,
   "metadata": {},
   "outputs": [
    {
     "data": {
      "text/plain": [
       "LGBMRegressor(num_iterations=2000, random_state=12345)"
      ]
     },
     "execution_count": 85,
     "metadata": {},
     "output_type": "execute_result"
    }
   ],
   "source": [
    "# обучение модели\n",
    "lgbm_v2.fit(features_train_lgbm, target_train)"
   ]
  },
  {
   "cell_type": "markdown",
   "metadata": {},
   "source": [
    "### Изучение метрик переобученных моделей"
   ]
  },
  {
   "cell_type": "markdown",
   "metadata": {},
   "source": [
    "Изучим метрики переобученных моделей и сравним их с метриками моделей, обученных на первом круге:"
   ]
  },
  {
   "cell_type": "code",
   "execution_count": 86,
   "metadata": {},
   "outputs": [],
   "source": [
    "# обновление словаря-палитры цветов моделей \n",
    "models_palette['CatBoostRegressor_v2'] = 'orange'\n",
    "models_palette['LGBMRegressor_v2'] = 'magenta'"
   ]
  },
  {
   "cell_type": "markdown",
   "metadata": {},
   "source": [
    "#### Качество"
   ]
  },
  {
   "cell_type": "code",
   "execution_count": 95,
   "metadata": {},
   "outputs": [
    {
     "data": {
      "image/png": "[encoded data removed]",
      "text/plain": [
       "<Figure size 864x576 with 1 Axes>"
      ]
     },
     "metadata": {},
     "output_type": "display_data"
    }
   ],
   "source": [
    "# применение функции show_metric\n",
    "show_metric('mean_rmse', ylabel='среднее RMSE', width=12)"
   ]
  },
  {
   "cell_type": "markdown",
   "metadata": {},
   "source": [
    "Мы видим, что в результате удаления признаков средние *RMSE* обеих моделей ухудшились (в случае с *CatBoostRegressor* такое ухуждение незначительно). Вместе с тем, модели продолжают занимать первые два места по данной метрике."
   ]
  },
  {
   "cell_type": "markdown",
   "metadata": {},
   "source": [
    "#### Время обучения"
   ]
  },
  {
   "cell_type": "code",
   "execution_count": 94,
   "metadata": {},
   "outputs": [
    {
     "data": {
      "image/png": "[encoded data removed]",
      "text/plain": [
       "<Figure size 864x576 with 1 Axes>"
      ]
     },
     "metadata": {},
     "output_type": "display_data"
    }
   ],
   "source": [
    "# применение функции show_metric\n",
    "show_metric('mean_fit_time', ylabel='среднее время обучения (секунды)', width=12)"
   ]
  },
  {
   "cell_type": "markdown",
   "metadata": {},
   "source": [
    "Мы видим, что в результате удаления признаков:\n",
    "- среднее время обучения *CatBoostRegressor* сократилось на ~37% (до 195.5 секунд), но при этом модель занимает только третье место по данной метрике (после *ElasticNet* и *RandomForestRegressor*);\n",
    "- среднее время обучения *LGBMRegressor* увеличилось более чем на 100% (до 775.1 секунд); к сожалению, мы не можем объяснить причины данного изменения."
   ]
  },
  {
   "cell_type": "markdown",
   "metadata": {},
   "source": [
    "#### Время предсказания"
   ]
  },
  {
   "cell_type": "code",
   "execution_count": 96,
   "metadata": {},
   "outputs": [
    {
     "data": {
      "image/png": "[encoded data removed]",
      "text/plain": [
       "<Figure size 864x576 with 1 Axes>"
      ]
     },
     "metadata": {},
     "output_type": "display_data"
    }
   ],
   "source": [
    "# применение функции show_metric\n",
    "show_metric('mean_predict_time', ylabel='среднее время предсказания (секунды)', width=12)"
   ]
  },
  {
   "cell_type": "markdown",
   "metadata": {},
   "source": [
    "Мы видим, что в результате удаления признаков:\n",
    "\n",
    "- среднее время предсказания *CatBoostRegressor* сократилось на 50% (до 1 секунды);\n",
    "- среднее время предсказания *LGBMRegressor* также ухудшилось, модель продолжает занимать последнее место по данному показателю и демонстрировать время предсказания, которое, по нашему мнению, не соответствует ожиданиям пользователей сервиса."
   ]
  },
  {
   "cell_type": "markdown",
   "metadata": {},
   "source": [
    "### Выводы"
   ]
  },
  {
   "cell_type": "markdown",
   "metadata": {},
   "source": [
    "На данном этапе мы:\n",
    "- исключили из выборок моделей *CatBoostRegressor* и *LGBMRegressor* признаки с низкой важностью для предсказаний;\n",
    "- повторно обучили эти модели, используя ранее подобранные гиперпараметры.\n",
    "\n",
    "В результате удаления признаков:\n",
    "- *качество*: средние *RMSE* обеих моделей ухудшились (в случае с *CatBoostRegressor* такое ухуждение незначительно). Вместе с тем, модели продолжают занимать первые два места по данной метрике.\n",
    "- *время обучения*:\n",
    "  - среднее время обучения *CatBoostRegressor* сократилось на ~37% (до 195.5 секунд), но при этом модель занимает только третье место по данной метрике (после *ElasticNet* и *RandomForestRegressor*);\n",
    "  - среднее время обучения *LGBMRegressor* увеличилось более чем на 100% (до 775.1 секунд); к сожалению, мы не можем объяснить причины данного изменения.\n",
    "- *время предсказания*:\n",
    "  - среднее время предсказания *CatBoostRegressor* сократилось на 50% (до 1 секунды);\n",
    "  - среднее время предсказания *LGBMRegressor* также ухудшилось, модель продолжает занимать последнее место по данному показателю и демонстрировать время предсказания, которое, по нашему мнению, не соответствует ожиданиям пользователей сервиса.\n",
    "  \n",
    "На следующем этапе выберем и протестируем лучшую модель."
   ]
  },
  {
   "cell_type": "markdown",
   "metadata": {},
   "source": [
    "## Выбор и тестирование лучшей модели"
   ]
  },
  {
   "cell_type": "markdown",
   "metadata": {},
   "source": [
    "Исходя из критериев заказчика мы выбрали *CatBoostRegressor* (вторую версию) в качестве лучшей модели: данная модель показала наилучшее (среди моделей на основе других алгоритмов) среднее значение *RMSE* (1557.9), и при этом сопоставимое с другими моделями время предсказания (1 секунда)."
   ]
  },
  {
   "cell_type": "code",
   "execution_count": 97,
   "metadata": {},
   "outputs": [],
   "source": [
    "# сохранение лучшей модели в переменную best_model\n",
    "best_model = cboost_v2"
   ]
  },
  {
   "cell_type": "markdown",
   "metadata": {},
   "source": [
    "Протестируем лучшую модель на тестовой выборке:"
   ]
  },
  {
   "cell_type": "code",
   "execution_count": 98,
   "metadata": {},
   "outputs": [
    {
     "name": "stdout",
     "output_type": "stream",
     "text": [
      "RMSE лучшей модели на тестовой выборке: 1539.3402622093129\n"
     ]
    }
   ],
   "source": [
    "# получение предсказаний лучшей модели на тестовой выборке\n",
    "best_model_preds_test = best_model.predict(features_test_cboost)\n",
    "\n",
    "# расчет и вывод на экран RMSE лучшей модели на тестовой выборке\n",
    "best_model_rmse_test = mean_squared_error(target_test, best_model_preds_test, \n",
    "                                          squared=False)\n",
    "print('RMSE лучшей модели на тестовой выборке:', best_model_rmse_test)"
   ]
  },
  {
   "cell_type": "markdown",
   "metadata": {},
   "source": [
    "Мы видим, что лучшая модель продемонстрировала на тестовой выборке значение *RMSE* 1539, что незначительно лучше ее среднего значения на обучающей выборке.\n",
    "\n",
    "Сравним полученное значение с целевым показателем метрики:"
   ]
  },
  {
   "cell_type": "code",
   "execution_count": 99,
   "metadata": {},
   "outputs": [
    {
     "name": "stdout",
     "output_type": "stream",
     "text": [
      "На тестовой выборке RMSE лучшей модели на 38.43% ниже целевого RMSE.\n"
     ]
    }
   ],
   "source": [
    "# сохранение цели по метрике качества в отдельную переменную\n",
    "rmse_target = 2500\n",
    "\n",
    "# расчет и вывод на экран количества процентов, на которые RMSE лучшей модели ниже\n",
    "# целевого RMSE\n",
    "best_model_advantage_target = np.abs(best_model_rmse_test - rmse_target) / rmse_target\n",
    "\n",
    "print('На тестовой выборке RMSE лучшей модели на', '{:.2%}'.format(best_model_advantage_target), \n",
    "      'ниже целевого RMSE.')"
   ]
  },
  {
   "cell_type": "markdown",
   "metadata": {},
   "source": [
    "Также сравним полученное значение с показателем константной модели:"
   ]
  },
  {
   "cell_type": "code",
   "execution_count": 100,
   "metadata": {},
   "outputs": [
    {
     "name": "stdout",
     "output_type": "stream",
     "text": [
      "RMSE константной модели на тестовой выборке: 4582.897738781543\n"
     ]
    }
   ],
   "source": [
    "# создание константной модели\n",
    "dummy = DummyRegressor(strategy='mean')\n",
    "\n",
    "# обучение константной модели \n",
    "dummy.fit(features_train, target_train)\n",
    "\n",
    "# получение предсказаний константной модели на тестовой выборке\n",
    "dummy_preds_test = dummy.predict(features_test)\n",
    "\n",
    "# расчет и вывод на экран RMSE константной модели на тестовой выборке\n",
    "dummy_rmse_test = mean_squared_error(target_test, dummy_preds_test, \n",
    "                                          squared=False)\n",
    "print('RMSE константной модели на тестовой выборке:', dummy_rmse_test)"
   ]
  },
  {
   "cell_type": "code",
   "execution_count": 101,
   "metadata": {},
   "outputs": [
    {
     "name": "stdout",
     "output_type": "stream",
     "text": [
      "На тестовой выборке RMSE лучшей модели на 66.41% ниже RMSE константной модели.\n"
     ]
    }
   ],
   "source": [
    "# расчет и вывод на экран количества процентов, на которые RMSE лучшей модели ниже\n",
    "# RMSE константной модели\n",
    "best_model_advantage_dummy = np.abs(best_model_rmse_test - dummy_rmse_test) / dummy_rmse_test\n",
    "\n",
    "print('На тестовой выборке RMSE лучшей модели на', '{:.2%}'.format(best_model_advantage_dummy), \n",
    "      'ниже RMSE константной модели.')"
   ]
  },
  {
   "cell_type": "markdown",
   "metadata": {},
   "source": [
    "### Выводы"
   ]
  },
  {
   "cell_type": "markdown",
   "metadata": {},
   "source": [
    "На данном этапе мы:\n",
    "- исходя из критериев заказчика мы выбрали *CatBoostRegressor* (вторую версию) в качестве лучшей модели: данная модель показала наилучшее (среди моделей на основе других алгоритмов) среднее значение *RMSE* (1557.9), и при этом сопоставимое с другими моделями время предсказания (1 секунда);\n",
    "- рассчитали *RMSE* лучшей модели на тестовой выборке и сравнили его с таргетом по качеству и показателем константной модели.\n",
    "\n",
    "Лучшая модель продемонстрировала на тестовой выборке значение *RMSE* 1539, что:\n",
    "- незначительно лучше ее среднего значения на обучающей выборке;\n",
    "- на ~38% лучше таргета по качеству (2500); и\n",
    "- на ~66% лучше *RMSE* констрантной модели."
   ]
  },
  {
   "cell_type": "markdown",
   "metadata": {},
   "source": [
    "## Общие выводы"
   ]
  },
  {
   "cell_type": "markdown",
   "metadata": {},
   "source": [
    "В ходе проекта мы построили модель для предсказания рыночной стоимости поддержанных автомобилей для приложения сервиса по продаже автомобилей с пробегом «Не бит, не крашен».\n",
    "\n",
    "Работа над проектом включала семь этапов:\n",
    "\n",
    "1. загрузка и изучение данных;\n",
    "2. подготовка данных; \n",
    "3. подготовка выборок к обучению моделей;\n",
    "4. обучение моделей;\n",
    "5. анализ моделей;\n",
    "6. повторное обучение моделей; и\n",
    "7. выбор и тестирование лучшей модели.\n",
    "\n",
    "**1. Загрузка и изучение данных**\n",
    "\n",
    "На данном этапе мы загрузили и изучили данные. По результатам изучения данных мы пришли к следующим выводам:\n",
    "\n",
    "*Общие выводы*\n",
    "\n",
    "- в датасете 354 369 объектов, один объект содержит информацию об одной анкете о продаже автомобиля;\n",
    "- по каждому объекто доступно 16 признаков:\n",
    "    - 5 количественных (*Price*, *RegistrationYear*, *Power*, *Kilometer*, *NumberOfPictures*);\n",
    "    - 8 категориальных (*VehicleType*, *Gearbox*, *Model*, *RegistrationMonth*, *FuelType*, *Brand*, *NotRepaired*, *PostalCode*);\n",
    "    - 3 календарных (*DateCrawled*, *DateCreated*, *LastSeen*).\n",
    "- в значениях 5 категориальных признаков есть пропуски, их процент составлет ~6-20 процентов.\n",
    "\n",
    "*Количественные признаки*\n",
    "\n",
    "- все количественные признаки имеют тип *int64*; в зависимости от диапазона их значений в целях оптимизации данных возможно изменить их тип на *int64*, *int16* или *int8*;\n",
    "- признак *NumberOfPictures* содержит только нулевые значения (т.е. данный признак неинформативен для целей построения модели);\n",
    "- признаки *Price* *RegistrationYear* и *Power* содержат аномальные минимальное и максимальное значения (по итогам их анализа мы подобрали пороги нормальных значений);\n",
    "- признаки *Price* и *Power* содержат нулевые значения (~3-11 процентов), которые могут быть неявными пропусками.\n",
    "\n",
    "*Категориальныпе признаки*\n",
    "\n",
    "- признаки *Model* и *PostalCode* содержат 250 и 8 143 уникальных значений, поэтому использование данных признаков для построения моделей на основе алгоритмов, требующих кодирования категориальных признаков, может существенно увеличить время обучения таких моделей;\n",
    "- категориальные признаки не содержат аномальных значени;\n",
    "- признаки *FuelType*, *Brand* и *Model* содержат неявные дубликаты.\n",
    "\n",
    "*Календарные признаки*\n",
    "\n",
    "- календарные признаки имеют тип *object*, для работы с данными признаками необходимо изменить их тип на *datetime*;\n",
    "- в датасете представлены данные об анкетах, размещенных с марта 2014 по апрель 2016 года;\n",
    "- анкеты были скачаны с сайта с марта по апрель 2016 года;\n",
    "- аномалии не выявлены.\n",
    "\n",
    "**2. Подготовка данных**\n",
    "\n",
    "В ходе подготовки данных мы:\n",
    "\n",
    "- устранили пропуски в признаках *NotRepaired*, *VehicleType*, *FuelType*, *Gearbox* и *Model* путем их заполнения значением-индикатором пропуска *unknown*; \n",
    "- устранили аномальные значения в признаках *Price*, *RegistrationYear* и *Power* путем удаления содержащих их объектов;\n",
    "- устранили неявные дубликаты в признаках *FuelType*, *Brand* и Model*;\n",
    "- удадлили объекты, которые мы классифицировали как явные дубликаты; и\n",
    "- оптимизировали тип данных признаков с числовыми значениями, уменьшив размер датасетас 35,8 до 26,5 Мб.\n",
    "\n",
    "В результате подготовки данных количество объектов в датасете сократилось на ~17%.\n",
    "\n",
    "**3. Подготовка выборок к обучению моделей**\n",
    "\n",
    "На данном этапе мы:\n",
    "\n",
    "- удалили неинформативные признаки *NumberOfPictures*, *DateCrawled*, *DateCreated* и *LastSeen*;\n",
    "- сохранили признаки и целевой признак в отдельные переменные;\n",
    "- разделили данные на обучающую и тестовую выборки;\n",
    "- подготовили отдельный сет выборок для *ElasticNet* и *RandomForestRegressor*:\n",
    "   - масштабировли количественные признаки методом стандартизации данных;\n",
    "   - кодировали категориальные признаки методом *One-Hot Encoding* (предварительно удалив признаки *Model* и *PostalCode* для снижения времени обучения моделей);\n",
    "- подготовили отдельный сет выборок для *LGBMRegressor*: измененили типа категориальных признаков на *category*.\n",
    "\n",
    "**4. Обучение моделей**\n",
    "\n",
    "На данном этапе мы:\n",
    "\n",
    "- для удобства обучения создали функции *random_search* и *add_to_comparison*;\n",
    "- обучили модели 4 модели (*ElasticNet*, *RandomForestRegressor*, *CatBoostRegressor* и *LGBMRegressor*); и\n",
    "- в рамках обучения при помощи *RandomizedSearchCV* оптимиизировали значения гиперпараметров, чтобы получить лучшее среднее значение *RMSE*.\n",
    "\n",
    "**5. Анализ моделей**\n",
    "\n",
    "По итогам анализа моделей мы пришли к следующим выводам:\n",
    "\n",
    "*Качество*\n",
    "\n",
    "- наилучшее среднее значение *RMSE* (1539.0) продемонстрировала модель *CatBoostRegressor* (но при этом разница между значениями *CatBoostRegressor* *LGBMRegressor* является незначительной);\n",
    "- среднее значение *RMSE* модели *ElasticNet* (2806.8) не соответствует требованиям заказчика.\n",
    "\n",
    "*Время обучения*\n",
    "\n",
    "- наилучшее среднее вреия обучения (0.6 секунды) продемонстрировала модель *ElasticNet*, наихудшее время (310.3 секунд) - *CatBoostRegressor*;\n",
    "- только у двух моделей (*ElasticNet* и *RandomForestRegressor*) среднее время обучения находится в пределах 1 минуты.\n",
    "\n",
    "*Время предсказания*\n",
    "\n",
    "- наилучшее среднее время предсказания (0.2 секунды) продемонстрировала модель *ElasticNet*, наихудшее время (27.1 секунды) - *LGBMRegressor*;\n",
    "- только у двух моделей (*ElasticNet* и *RandomForestRegressor*) среднее время предсказания находится в пределах 1 секунды;\n",
    "- среднее время предсказания модели *LGBMRegressor* многократно превышает показатели остальных трех моделей и, на наш взгляд, не соответствует ожиданиям пользователей сервиса.\n",
    "\n",
    "*Влияние признаков на предсказания моделей*\n",
    "\n",
    "- *ElasticNet*:\n",
    "  - наибольшее положительное влияние на предсказания модели оказали мощность, год регистрации, тип автомобиля *SUV* и марки автомобиля *Wolkswagen* и *Audi*;\n",
    "  - наибольшее отрицательное влияние на предсказания модели оказали километраж, информации о типе автомобиля и тип автомобиля *small*, а также нахождение автомобиля в ремонте и отсутствие информации об этом;\n",
    "  - в составе признаков, наименее влияющих на предсказания модели, определенные марки автомоблия, а также электрический тип топлива.\n",
    "- *RandomForestRegressor*:\n",
    "  - основное влияние на предсказания модели оказали мощность, год регистрации и километраж (они определяют 95% предсказания); \n",
    "  - наибольшее влияние оказывает год регистрации (он определяет 62% предсказания).\n",
    "- *CatBoostRegressor*:\n",
    "  - основное влияние на предсказания модели оказали год регистрации, мощность и километраж, тип автомобиля и бренд (они определяют ~88% предсказания); \n",
    "  - наибольшее влияние оказывают год регистрации и мощность (он определяют более 60% предсказания);\n",
    "  - влияние почтового индекса, месяца регистрации, типа коробки передач и типа топлива на прогноз очень ограниченно (они определяют менее 3% прогноза), т.е. их можно удалить для увеличения скорости обучения и предсказания модели.\n",
    "- *LGBMRegressor*:\n",
    "  - основное влияние на предсказания модели оказали мощность, год регистрации и почтовый индекс владельца анкеты; \n",
    "  - влияние типа коробки передач, статуса ремонта и типа топлива на прогноз ограниченно, т.е. их можно удалить для увеличения скорости обучения и предсказания модели.\n",
    "\n",
    "Мы видим, что:\n",
    "- модели с лучшими показателями качества (*CatBoostRegressor* и *LGBMRegressor*) демонстрируют худшие показатели времени обучения и предсказания;\n",
    "- ряд признаков, на которых обучались такие модели, очень ограниченно влияют на предсказания моделей.\n",
    "\n",
    "**6. Повтороное обучение моделей** \n",
    "\n",
    "На данном этапе мы:\n",
    "- исключили из выборок моделей *CatBoostRegressor* и *LGBMRegressor* признаки с низкой важностью для предсказаний;\n",
    "- повторно обучили эти модели, используя ранее подобранные гиперпараметры.\n",
    "\n",
    "В результате удаления признаков:\n",
    "- *качество*: средние *RMSE* обеих моделей ухудшились (в случае с *CatBoostRegressor* такое ухуждение незначительно). Вместе с тем, модели продолжают занимать первые два места по данной метрике.\n",
    "- *время обучения*:\n",
    "  - среднее время обучения *CatBoostRegressor* сократилось на ~37% (до 195.5 секунд), но при этом модель занимает только третье место по данной метрике (после *ElasticNet* и *RandomForestRegressor*);\n",
    "  - среднее время обучения *LGBMRegressor* увеличилось более чем на 100% (до 775.1 секунд); к сожалению, мы не можем объяснить причины данного изменения.\n",
    "- *время предсказания*:\n",
    "  - среднее время предсказания *CatBoostRegressor* сократилось на 50% (до 1 секунды);\n",
    "  - среднее время предсказания *LGBMRegressor* также ухудшилось, модель продолжает занимать последнее место по данному показателю и демонстрировать время предсказания, которое, по нашему мнению, не соответствует ожиданиям пользователей сервиса.\n",
    "\n",
    "**7. Выбор и тестирование лучшей модели**\n",
    "\n",
    "На данном этапе мы:\n",
    "- исходя из критериев заказчика мы выбрали *CatBoostRegressor* (вторую версию) в качестве лучшей модели: данная модель показала наилучшее (среди моделей на основе других алгоритмов) среднее значение *RMSE* (1557.9), и при этом сопоставимое с другими моделями время предсказания (1 секунда);\n",
    "- рассчитали *RMSE* лучшей модели на тестовой выборке и сравнили его с таргетом по качеству и показателем константной модели.\n",
    "\n",
    "Лучшая модель продемонстрировала на тестовой выборке значение *RMSE* 1539, что:\n",
    "- незначительно лучше ее среднего значения на обучающей выборке;\n",
    "- на ~38% лучше таргета по качеству (2500); и\n",
    "- на ~66% лучше *RMSE* констрантной модели."
   ]
  },
  {
   "cell_type": "code",
   "execution_count": null,
   "metadata": {},
   "outputs": [],
   "source": []
  }
 ],
 "metadata": {
  "ExecuteTimeLog": [
   {
    "duration": 411,
    "start_time": "2022-09-21T14:27:33.945Z"
   },
   {
    "duration": 1153,
    "start_time": "2022-09-21T14:28:01.398Z"
   },
   {
    "duration": 1877,
    "start_time": "2022-09-21T14:48:22.303Z"
   },
   {
    "duration": 1885,
    "start_time": "2022-09-21T14:48:30.753Z"
   },
   {
    "duration": 975,
    "start_time": "2022-09-21T14:49:08.903Z"
   },
   {
    "duration": 12,
    "start_time": "2022-09-21T15:00:12.945Z"
   },
   {
    "duration": 157,
    "start_time": "2022-09-21T15:00:19.308Z"
   },
   {
    "duration": 252,
    "start_time": "2022-09-21T15:00:24.879Z"
   },
   {
    "duration": 130,
    "start_time": "2022-09-21T15:01:06.749Z"
   },
   {
    "duration": 143,
    "start_time": "2022-09-21T15:01:18.653Z"
   },
   {
    "duration": 148,
    "start_time": "2022-09-21T15:01:27.480Z"
   },
   {
    "duration": 151,
    "start_time": "2022-09-21T15:01:29.505Z"
   },
   {
    "duration": 133,
    "start_time": "2022-09-21T15:01:33.171Z"
   },
   {
    "duration": 138,
    "start_time": "2022-09-21T15:01:41.668Z"
   },
   {
    "duration": 128,
    "start_time": "2022-09-21T15:01:49.482Z"
   },
   {
    "duration": 146,
    "start_time": "2022-09-21T15:01:53.580Z"
   },
   {
    "duration": 145,
    "start_time": "2022-09-21T15:01:56.769Z"
   },
   {
    "duration": 127,
    "start_time": "2022-09-21T15:02:04.193Z"
   },
   {
    "duration": 129,
    "start_time": "2022-09-21T15:02:13.579Z"
   },
   {
    "duration": 139,
    "start_time": "2022-09-21T15:02:16.046Z"
   },
   {
    "duration": 136,
    "start_time": "2022-09-21T15:02:22.867Z"
   },
   {
    "duration": 203,
    "start_time": "2022-09-21T15:02:30.064Z"
   },
   {
    "duration": 131,
    "start_time": "2022-09-21T15:02:37.247Z"
   },
   {
    "duration": 142,
    "start_time": "2022-09-21T15:02:45.603Z"
   },
   {
    "duration": 131,
    "start_time": "2022-09-21T15:02:49.872Z"
   },
   {
    "duration": 133,
    "start_time": "2022-09-21T15:03:15.167Z"
   },
   {
    "duration": 131,
    "start_time": "2022-09-21T15:03:25.579Z"
   },
   {
    "duration": 132,
    "start_time": "2022-09-21T15:04:00.492Z"
   },
   {
    "duration": 54,
    "start_time": "2022-09-21T15:14:29.752Z"
   },
   {
    "duration": 90,
    "start_time": "2022-09-21T15:32:32.453Z"
   },
   {
    "duration": 42,
    "start_time": "2022-09-21T15:34:31.131Z"
   },
   {
    "duration": 56,
    "start_time": "2022-09-21T15:34:34.991Z"
   },
   {
    "duration": 27,
    "start_time": "2022-09-21T15:35:13.549Z"
   },
   {
    "duration": 23,
    "start_time": "2022-09-21T15:35:37.092Z"
   },
   {
    "duration": 697,
    "start_time": "2022-09-21T15:35:55.669Z"
   },
   {
    "duration": 162,
    "start_time": "2022-09-21T15:36:06.147Z"
   },
   {
    "duration": 12,
    "start_time": "2022-09-21T15:36:19.642Z"
   },
   {
    "duration": 12,
    "start_time": "2022-09-21T15:36:28.899Z"
   },
   {
    "duration": 8,
    "start_time": "2022-09-21T15:37:35.489Z"
   },
   {
    "duration": 74,
    "start_time": "2022-09-21T15:39:48.569Z"
   },
   {
    "duration": 156,
    "start_time": "2022-09-21T19:38:03.261Z"
   },
   {
    "duration": 95,
    "start_time": "2022-09-21T19:41:57.440Z"
   },
   {
    "duration": 412,
    "start_time": "2022-09-21T19:42:05.739Z"
   },
   {
    "duration": 3512,
    "start_time": "2022-09-21T19:42:06.153Z"
   },
   {
    "duration": 102,
    "start_time": "2022-09-21T19:42:09.772Z"
   },
   {
    "duration": 99,
    "start_time": "2022-09-21T19:43:14.780Z"
   },
   {
    "duration": 85,
    "start_time": "2022-09-21T19:43:18.780Z"
   },
   {
    "duration": 91,
    "start_time": "2022-09-21T19:43:22.414Z"
   },
   {
    "duration": 4,
    "start_time": "2022-09-21T19:45:10.467Z"
   },
   {
    "duration": 1544,
    "start_time": "2022-09-21T19:45:30.728Z"
   },
   {
    "duration": 786,
    "start_time": "2022-09-21T19:48:26.965Z"
   },
   {
    "duration": 494,
    "start_time": "2022-09-21T19:49:42.857Z"
   },
   {
    "duration": 3,
    "start_time": "2022-09-21T19:54:03.910Z"
   },
   {
    "duration": 1127,
    "start_time": "2022-09-21T19:54:03.915Z"
   },
   {
    "duration": 104,
    "start_time": "2022-09-21T19:54:05.044Z"
   },
   {
    "duration": 0,
    "start_time": "2022-09-21T19:54:48.422Z"
   },
   {
    "duration": 0,
    "start_time": "2022-09-21T19:54:48.425Z"
   },
   {
    "duration": 15,
    "start_time": "2022-09-21T19:54:52.622Z"
   },
   {
    "duration": 4,
    "start_time": "2022-09-21T19:54:59.377Z"
   },
   {
    "duration": 1282,
    "start_time": "2022-09-21T19:55:06.908Z"
   },
   {
    "duration": 1264,
    "start_time": "2022-09-21T19:55:11.718Z"
   },
   {
    "duration": 101,
    "start_time": "2022-09-21T19:55:16.468Z"
   },
   {
    "duration": 500,
    "start_time": "2022-09-21T19:55:19.020Z"
   },
   {
    "duration": 614,
    "start_time": "2022-09-21T19:55:23.344Z"
   },
   {
    "duration": 1200,
    "start_time": "2022-09-21T19:56:03.173Z"
   },
   {
    "duration": 1254,
    "start_time": "2022-09-21T19:56:04.375Z"
   },
   {
    "duration": 100,
    "start_time": "2022-09-21T19:56:05.631Z"
   },
   {
    "duration": 1268,
    "start_time": "2022-09-21T19:57:02.761Z"
   },
   {
    "duration": 1174,
    "start_time": "2022-09-21T19:57:04.032Z"
   },
   {
    "duration": 114,
    "start_time": "2022-09-21T19:57:05.208Z"
   },
   {
    "duration": 2329,
    "start_time": "2022-09-21T19:57:16.401Z"
   },
   {
    "duration": 1357,
    "start_time": "2022-09-21T19:58:38.328Z"
   },
   {
    "duration": 1262,
    "start_time": "2022-09-21T19:58:39.687Z"
   },
   {
    "duration": 111,
    "start_time": "2022-09-21T19:58:40.952Z"
   },
   {
    "duration": 7,
    "start_time": "2022-09-21T19:58:53.917Z"
   },
   {
    "duration": 5,
    "start_time": "2022-09-21T19:59:04.023Z"
   },
   {
    "duration": 6,
    "start_time": "2022-09-21T19:59:21.066Z"
   },
   {
    "duration": 52106,
    "start_time": "2022-09-21T19:59:36.613Z"
   },
   {
    "duration": 1200,
    "start_time": "2022-09-21T20:01:36.376Z"
   },
   {
    "duration": 1107,
    "start_time": "2022-09-21T20:01:37.578Z"
   },
   {
    "duration": 91,
    "start_time": "2022-09-21T20:01:38.689Z"
   },
   {
    "duration": 60143,
    "start_time": "2022-09-21T20:02:38.511Z"
   },
   {
    "duration": 493,
    "start_time": "2022-09-21T20:03:57.551Z"
   },
   {
    "duration": 527,
    "start_time": "2022-09-21T20:04:05.124Z"
   },
   {
    "duration": 562,
    "start_time": "2022-09-21T20:04:10.661Z"
   },
   {
    "duration": 568,
    "start_time": "2022-09-21T20:04:15.547Z"
   },
   {
    "duration": 2514,
    "start_time": "2022-09-21T20:04:48.921Z"
   },
   {
    "duration": 1260,
    "start_time": "2022-09-21T20:06:28.598Z"
   },
   {
    "duration": 1219,
    "start_time": "2022-09-21T20:06:29.860Z"
   },
   {
    "duration": 106,
    "start_time": "2022-09-21T20:06:31.081Z"
   },
   {
    "duration": 16917,
    "start_time": "2022-09-21T20:06:33.603Z"
   },
   {
    "duration": 57811,
    "start_time": "2022-09-21T20:07:41.284Z"
   },
   {
    "duration": 106,
    "start_time": "2022-09-21T20:08:39.097Z"
   },
   {
    "duration": 1899,
    "start_time": "2022-09-21T20:12:05.843Z"
   },
   {
    "duration": 1807,
    "start_time": "2022-09-21T20:14:57.946Z"
   },
   {
    "duration": 160,
    "start_time": "2022-09-21T20:15:00.584Z"
   },
   {
    "duration": 153,
    "start_time": "2022-09-21T20:15:05.618Z"
   },
   {
    "duration": 171,
    "start_time": "2022-09-21T20:15:10.440Z"
   },
   {
    "duration": 3559,
    "start_time": "2022-09-21T20:15:19.687Z"
   },
   {
    "duration": 1958,
    "start_time": "2022-09-21T20:15:33.714Z"
   },
   {
    "duration": 47,
    "start_time": "2022-09-21T20:16:09.071Z"
   },
   {
    "duration": 1995,
    "start_time": "2022-09-21T20:16:32.130Z"
   },
   {
    "duration": 37,
    "start_time": "2022-09-21T20:16:56.444Z"
   },
   {
    "duration": 41,
    "start_time": "2022-09-21T20:17:08.416Z"
   },
   {
    "duration": 4,
    "start_time": "2022-09-21T20:18:36.260Z"
   },
   {
    "duration": 9,
    "start_time": "2022-09-21T20:19:25.017Z"
   },
   {
    "duration": 8,
    "start_time": "2022-09-21T20:19:32.470Z"
   },
   {
    "duration": 10,
    "start_time": "2022-09-21T20:19:34.993Z"
   },
   {
    "duration": 20,
    "start_time": "2022-09-21T20:19:37.484Z"
   },
   {
    "duration": 9,
    "start_time": "2022-09-21T20:19:41.364Z"
   },
   {
    "duration": 34,
    "start_time": "2022-09-21T20:20:32.327Z"
   },
   {
    "duration": 30,
    "start_time": "2022-09-21T20:20:39.009Z"
   },
   {
    "duration": 2005,
    "start_time": "2022-09-21T20:21:07.727Z"
   },
   {
    "duration": 198,
    "start_time": "2022-09-21T20:22:25.129Z"
   },
   {
    "duration": 171,
    "start_time": "2022-09-21T20:22:39.675Z"
   },
   {
    "duration": 207,
    "start_time": "2022-09-21T20:22:51.738Z"
   },
   {
    "duration": 1961,
    "start_time": "2022-09-21T20:24:44.679Z"
   },
   {
    "duration": 1886,
    "start_time": "2022-09-21T20:24:49.438Z"
   },
   {
    "duration": 76,
    "start_time": "2022-09-21T20:25:07.422Z"
   },
   {
    "duration": 41,
    "start_time": "2022-09-21T20:25:29.213Z"
   },
   {
    "duration": 13,
    "start_time": "2022-09-21T20:25:43.645Z"
   },
   {
    "duration": 38,
    "start_time": "2022-09-21T20:25:48.542Z"
   },
   {
    "duration": 4,
    "start_time": "2022-09-21T20:29:44.154Z"
   },
   {
    "duration": 22,
    "start_time": "2022-09-21T20:31:58.162Z"
   },
   {
    "duration": 1997,
    "start_time": "2022-09-21T20:33:07.438Z"
   },
   {
    "duration": 1880,
    "start_time": "2022-09-21T20:33:18.670Z"
   },
   {
    "duration": 1896,
    "start_time": "2022-09-21T20:33:49.343Z"
   },
   {
    "duration": 159,
    "start_time": "2022-09-21T20:37:30.837Z"
   },
   {
    "duration": 59,
    "start_time": "2022-09-23T12:31:00.690Z"
   },
   {
    "duration": 1398,
    "start_time": "2022-09-23T12:31:06.736Z"
   },
   {
    "duration": 1460,
    "start_time": "2022-09-23T12:31:08.140Z"
   },
   {
    "duration": 86,
    "start_time": "2022-09-23T12:31:09.602Z"
   },
   {
    "duration": 2,
    "start_time": "2022-09-23T12:31:09.690Z"
   },
   {
    "duration": 2,
    "start_time": "2022-09-23T12:31:11.680Z"
   },
   {
    "duration": 223,
    "start_time": "2022-09-23T12:31:12.534Z"
   },
   {
    "duration": 724,
    "start_time": "2022-09-23T12:31:23.133Z"
   },
   {
    "duration": 330,
    "start_time": "2022-09-23T12:40:30.722Z"
   },
   {
    "duration": 1660,
    "start_time": "2022-09-23T13:09:22.708Z"
   },
   {
    "duration": 665,
    "start_time": "2022-09-23T13:09:31.849Z"
   },
   {
    "duration": 542,
    "start_time": "2022-09-23T13:14:56.638Z"
   },
   {
    "duration": 3,
    "start_time": "2022-09-23T13:15:31.888Z"
   },
   {
    "duration": 84,
    "start_time": "2022-09-23T13:15:50.742Z"
   },
   {
    "duration": 71,
    "start_time": "2022-09-23T13:15:53.801Z"
   },
   {
    "duration": 18,
    "start_time": "2022-09-23T13:16:01.928Z"
   },
   {
    "duration": 8,
    "start_time": "2022-09-23T13:17:01.049Z"
   },
   {
    "duration": 9,
    "start_time": "2022-09-23T13:17:05.627Z"
   },
   {
    "duration": 8,
    "start_time": "2022-09-23T13:43:57.048Z"
   },
   {
    "duration": 10,
    "start_time": "2022-09-23T13:44:13.289Z"
   },
   {
    "duration": 7,
    "start_time": "2022-09-23T13:44:19.269Z"
   },
   {
    "duration": 10,
    "start_time": "2022-09-23T13:44:22.775Z"
   },
   {
    "duration": 9,
    "start_time": "2022-09-23T13:44:26.390Z"
   },
   {
    "duration": 48,
    "start_time": "2022-09-23T14:10:42.616Z"
   },
   {
    "duration": 47,
    "start_time": "2022-09-23T14:10:56.096Z"
   },
   {
    "duration": 24,
    "start_time": "2022-09-23T14:11:02.065Z"
   },
   {
    "duration": 8,
    "start_time": "2022-09-23T14:11:17.504Z"
   },
   {
    "duration": 24,
    "start_time": "2022-09-23T14:11:35.224Z"
   },
   {
    "duration": 13,
    "start_time": "2022-09-23T14:11:59.060Z"
   },
   {
    "duration": 8,
    "start_time": "2022-09-23T14:12:02.162Z"
   },
   {
    "duration": 9,
    "start_time": "2022-09-23T14:13:43.676Z"
   },
   {
    "duration": 10,
    "start_time": "2022-09-23T14:18:06.685Z"
   },
   {
    "duration": 7,
    "start_time": "2022-09-23T14:18:16.838Z"
   },
   {
    "duration": 34,
    "start_time": "2022-09-23T14:20:10.394Z"
   },
   {
    "duration": 30,
    "start_time": "2022-09-23T14:20:13.634Z"
   },
   {
    "duration": 38,
    "start_time": "2022-09-23T14:20:23.494Z"
   },
   {
    "duration": 24,
    "start_time": "2022-09-23T14:20:27.014Z"
   },
   {
    "duration": 18,
    "start_time": "2022-09-23T14:20:59.781Z"
   },
   {
    "duration": 17,
    "start_time": "2022-09-23T14:21:09.643Z"
   },
   {
    "duration": 14,
    "start_time": "2022-09-23T14:21:13.402Z"
   },
   {
    "duration": 26,
    "start_time": "2022-09-23T14:21:52.822Z"
   },
   {
    "duration": 16,
    "start_time": "2022-09-23T14:22:27.842Z"
   },
   {
    "duration": 15,
    "start_time": "2022-09-23T14:22:34.604Z"
   },
   {
    "duration": 30,
    "start_time": "2022-09-23T14:22:44.682Z"
   },
   {
    "duration": 351,
    "start_time": "2022-09-23T14:22:50.254Z"
   },
   {
    "duration": 309,
    "start_time": "2022-09-23T14:23:16.142Z"
   },
   {
    "duration": 31,
    "start_time": "2022-09-23T14:23:32.262Z"
   },
   {
    "duration": 19,
    "start_time": "2022-09-23T14:23:42.862Z"
   },
   {
    "duration": 20,
    "start_time": "2022-09-23T14:23:55.441Z"
   },
   {
    "duration": 17,
    "start_time": "2022-09-23T14:23:59.457Z"
   },
   {
    "duration": 17,
    "start_time": "2022-09-23T14:24:06.921Z"
   },
   {
    "duration": 16,
    "start_time": "2022-09-23T14:24:09.582Z"
   },
   {
    "duration": 17,
    "start_time": "2022-09-23T14:24:11.782Z"
   },
   {
    "duration": 81,
    "start_time": "2022-09-23T14:28:32.226Z"
   },
   {
    "duration": 135,
    "start_time": "2022-09-23T14:28:39.421Z"
   },
   {
    "duration": 111,
    "start_time": "2022-09-23T14:28:42.821Z"
   },
   {
    "duration": 22,
    "start_time": "2022-09-23T14:29:00.021Z"
   },
   {
    "duration": 8,
    "start_time": "2022-09-23T14:29:15.576Z"
   },
   {
    "duration": 22,
    "start_time": "2022-09-23T14:29:23.756Z"
   },
   {
    "duration": 10,
    "start_time": "2022-09-23T14:29:42.386Z"
   },
   {
    "duration": 15,
    "start_time": "2022-09-23T14:29:44.505Z"
   },
   {
    "duration": 18,
    "start_time": "2022-09-23T14:29:48.503Z"
   },
   {
    "duration": 19,
    "start_time": "2022-09-23T14:29:51.868Z"
   },
   {
    "duration": 29,
    "start_time": "2022-09-23T14:31:16.532Z"
   },
   {
    "duration": 8,
    "start_time": "2022-09-23T15:52:48.311Z"
   },
   {
    "duration": 9,
    "start_time": "2022-09-23T15:52:58.460Z"
   },
   {
    "duration": 5,
    "start_time": "2022-09-23T15:53:21.653Z"
   },
   {
    "duration": 30,
    "start_time": "2022-09-23T15:53:43.963Z"
   },
   {
    "duration": 16,
    "start_time": "2022-09-23T15:54:16.503Z"
   },
   {
    "duration": 16,
    "start_time": "2022-09-23T15:54:21.191Z"
   },
   {
    "duration": 17,
    "start_time": "2022-09-23T15:54:25.472Z"
   },
   {
    "duration": 24,
    "start_time": "2022-09-23T15:54:56.891Z"
   },
   {
    "duration": 607,
    "start_time": "2022-09-23T15:57:23.624Z"
   },
   {
    "duration": 138,
    "start_time": "2022-09-23T15:57:47.364Z"
   },
   {
    "duration": 6,
    "start_time": "2022-09-23T15:58:26.843Z"
   },
   {
    "duration": 6,
    "start_time": "2022-09-23T15:58:30.927Z"
   },
   {
    "duration": 6,
    "start_time": "2022-09-23T15:58:34.170Z"
   },
   {
    "duration": 16,
    "start_time": "2022-09-23T15:59:01.943Z"
   },
   {
    "duration": 16,
    "start_time": "2022-09-23T15:59:05.543Z"
   },
   {
    "duration": 16,
    "start_time": "2022-09-23T15:59:55.785Z"
   },
   {
    "duration": 17,
    "start_time": "2022-09-23T16:00:02.853Z"
   },
   {
    "duration": 50,
    "start_time": "2022-09-23T19:27:38.936Z"
   },
   {
    "duration": 1391,
    "start_time": "2022-09-23T19:27:44.311Z"
   },
   {
    "duration": 3354,
    "start_time": "2022-09-23T19:27:45.704Z"
   },
   {
    "duration": 100,
    "start_time": "2022-09-23T19:27:49.060Z"
   },
   {
    "duration": 11,
    "start_time": "2022-09-23T19:27:49.162Z"
   },
   {
    "duration": 629,
    "start_time": "2022-09-23T19:27:49.190Z"
   },
   {
    "duration": 9,
    "start_time": "2022-09-23T19:27:49.821Z"
   },
   {
    "duration": 9,
    "start_time": "2022-09-23T19:27:49.832Z"
   },
   {
    "duration": 9,
    "start_time": "2022-09-23T19:27:49.842Z"
   },
   {
    "duration": 59,
    "start_time": "2022-09-23T19:27:49.852Z"
   },
   {
    "duration": 31,
    "start_time": "2022-09-23T19:28:02.575Z"
   },
   {
    "duration": 80,
    "start_time": "2022-09-23T19:30:08.877Z"
   },
   {
    "duration": 55,
    "start_time": "2022-09-23T19:30:33.341Z"
   },
   {
    "duration": 27,
    "start_time": "2022-09-23T19:31:08.102Z"
   },
   {
    "duration": 24,
    "start_time": "2022-09-23T19:31:24.457Z"
   },
   {
    "duration": 35,
    "start_time": "2022-09-23T19:32:29.829Z"
   },
   {
    "duration": 25,
    "start_time": "2022-09-23T19:32:43.002Z"
   },
   {
    "duration": 184,
    "start_time": "2022-09-23T19:35:57.837Z"
   },
   {
    "duration": 143,
    "start_time": "2022-09-23T19:36:20.872Z"
   },
   {
    "duration": 169,
    "start_time": "2022-09-23T19:36:45.063Z"
   },
   {
    "duration": 211,
    "start_time": "2022-09-23T19:37:03.607Z"
   },
   {
    "duration": 167,
    "start_time": "2022-09-23T19:40:17.263Z"
   },
   {
    "duration": 39,
    "start_time": "2022-09-23T19:40:19.495Z"
   },
   {
    "duration": 40,
    "start_time": "2022-09-23T19:40:29.860Z"
   },
   {
    "duration": 61,
    "start_time": "2022-09-23T19:40:43.701Z"
   },
   {
    "duration": 173,
    "start_time": "2022-09-23T19:40:48.273Z"
   },
   {
    "duration": 194,
    "start_time": "2022-09-23T19:41:12.517Z"
   },
   {
    "duration": 281,
    "start_time": "2022-09-23T19:41:55.170Z"
   },
   {
    "duration": 201,
    "start_time": "2022-09-23T19:42:05.842Z"
   },
   {
    "duration": 173,
    "start_time": "2022-09-23T19:42:09.700Z"
   },
   {
    "duration": 215,
    "start_time": "2022-09-23T19:42:16.993Z"
   },
   {
    "duration": 175,
    "start_time": "2022-09-23T19:42:23.353Z"
   },
   {
    "duration": 100,
    "start_time": "2022-09-23T19:43:24.886Z"
   },
   {
    "duration": 98,
    "start_time": "2022-09-23T19:43:35.713Z"
   },
   {
    "duration": 54,
    "start_time": "2022-09-23T19:43:38.715Z"
   },
   {
    "duration": 194,
    "start_time": "2022-09-23T19:43:40.819Z"
   },
   {
    "duration": 166,
    "start_time": "2022-09-23T19:43:50.066Z"
   },
   {
    "duration": 85,
    "start_time": "2022-09-23T19:46:17.565Z"
   },
   {
    "duration": 26,
    "start_time": "2022-09-23T19:46:25.161Z"
   },
   {
    "duration": 12,
    "start_time": "2022-09-23T19:46:43.276Z"
   },
   {
    "duration": 22,
    "start_time": "2022-09-23T19:46:51.693Z"
   },
   {
    "duration": 32,
    "start_time": "2022-09-23T19:47:59.397Z"
   },
   {
    "duration": 19,
    "start_time": "2022-09-23T19:49:36.288Z"
   },
   {
    "duration": 63,
    "start_time": "2022-09-23T19:49:42.238Z"
   },
   {
    "duration": 9,
    "start_time": "2022-09-23T19:49:46.282Z"
   },
   {
    "duration": 14,
    "start_time": "2022-09-23T19:49:57.738Z"
   },
   {
    "duration": 10,
    "start_time": "2022-09-23T19:50:03.454Z"
   },
   {
    "duration": 31,
    "start_time": "2022-09-23T19:50:31.220Z"
   },
   {
    "duration": 29,
    "start_time": "2022-09-23T19:52:01.910Z"
   },
   {
    "duration": 6,
    "start_time": "2022-09-23T19:52:59.740Z"
   },
   {
    "duration": 9,
    "start_time": "2022-09-23T19:53:13.438Z"
   },
   {
    "duration": 50,
    "start_time": "2022-09-23T19:53:45.545Z"
   },
   {
    "duration": 44,
    "start_time": "2022-09-23T19:53:54.744Z"
   },
   {
    "duration": 8,
    "start_time": "2022-09-23T19:54:07.868Z"
   },
   {
    "duration": 50,
    "start_time": "2022-09-23T19:54:15.959Z"
   },
   {
    "duration": 47,
    "start_time": "2022-09-23T19:54:45.673Z"
   },
   {
    "duration": 18,
    "start_time": "2022-09-23T20:00:38.367Z"
   },
   {
    "duration": 18,
    "start_time": "2022-09-23T20:00:47.051Z"
   },
   {
    "duration": 18,
    "start_time": "2022-09-23T20:00:52.836Z"
   },
   {
    "duration": 74,
    "start_time": "2022-09-24T14:52:21.966Z"
   },
   {
    "duration": 1445,
    "start_time": "2022-09-24T14:52:29.565Z"
   },
   {
    "duration": 1247,
    "start_time": "2022-09-24T14:52:31.012Z"
   },
   {
    "duration": 81,
    "start_time": "2022-09-24T14:52:32.261Z"
   },
   {
    "duration": 186,
    "start_time": "2022-09-24T14:52:32.345Z"
   },
   {
    "duration": 549,
    "start_time": "2022-09-24T14:52:32.533Z"
   },
   {
    "duration": 6,
    "start_time": "2022-09-24T14:52:33.084Z"
   },
   {
    "duration": 22,
    "start_time": "2022-09-24T14:52:33.092Z"
   },
   {
    "duration": 133,
    "start_time": "2022-09-24T14:52:33.115Z"
   },
   {
    "duration": 15,
    "start_time": "2022-09-24T14:52:33.250Z"
   },
   {
    "duration": 70,
    "start_time": "2022-09-24T14:52:33.267Z"
   },
   {
    "duration": 166,
    "start_time": "2022-09-24T14:52:33.339Z"
   },
   {
    "duration": 10,
    "start_time": "2022-09-24T14:52:33.506Z"
   },
   {
    "duration": 22,
    "start_time": "2022-09-24T14:52:33.517Z"
   },
   {
    "duration": 31,
    "start_time": "2022-09-24T14:52:33.540Z"
   },
   {
    "duration": 0,
    "start_time": "2022-09-24T14:52:33.573Z"
   },
   {
    "duration": 0,
    "start_time": "2022-09-24T14:52:33.575Z"
   },
   {
    "duration": 0,
    "start_time": "2022-09-24T14:52:33.576Z"
   },
   {
    "duration": 0,
    "start_time": "2022-09-24T14:52:33.577Z"
   },
   {
    "duration": 105,
    "start_time": "2022-09-24T14:52:55.561Z"
   },
   {
    "duration": 1104,
    "start_time": "2022-09-24T14:53:01.857Z"
   },
   {
    "duration": 111,
    "start_time": "2022-09-24T14:53:15.604Z"
   },
   {
    "duration": 1107,
    "start_time": "2022-09-24T14:53:19.881Z"
   },
   {
    "duration": 9,
    "start_time": "2022-09-24T14:53:42.692Z"
   },
   {
    "duration": 25,
    "start_time": "2022-09-24T14:53:50.186Z"
   },
   {
    "duration": 152,
    "start_time": "2022-09-24T14:53:52.712Z"
   },
   {
    "duration": 1108,
    "start_time": "2022-09-24T14:54:02.238Z"
   },
   {
    "duration": 42,
    "start_time": "2022-09-24T14:54:13.730Z"
   },
   {
    "duration": 1024,
    "start_time": "2022-09-24T14:54:17.981Z"
   },
   {
    "duration": 55,
    "start_time": "2022-09-24T14:54:27.528Z"
   },
   {
    "duration": 20,
    "start_time": "2022-09-24T14:54:29.507Z"
   },
   {
    "duration": 57,
    "start_time": "2022-09-24T14:55:03.640Z"
   },
   {
    "duration": 44,
    "start_time": "2022-09-24T14:55:07.938Z"
   },
   {
    "duration": 42,
    "start_time": "2022-09-24T14:57:11.506Z"
   },
   {
    "duration": 41,
    "start_time": "2022-09-24T14:57:15.626Z"
   },
   {
    "duration": 102,
    "start_time": "2022-09-24T14:58:18.426Z"
   },
   {
    "duration": 110,
    "start_time": "2022-09-24T14:58:28.232Z"
   },
   {
    "duration": 265,
    "start_time": "2022-09-24T14:58:30.324Z"
   },
   {
    "duration": 127,
    "start_time": "2022-09-24T15:00:07.229Z"
   },
   {
    "duration": 39,
    "start_time": "2022-09-24T15:03:50.758Z"
   },
   {
    "duration": 10,
    "start_time": "2022-09-24T15:03:58.090Z"
   },
   {
    "duration": 19,
    "start_time": "2022-09-24T15:04:15.846Z"
   },
   {
    "duration": 23,
    "start_time": "2022-09-24T15:04:22.691Z"
   },
   {
    "duration": 90,
    "start_time": "2022-09-24T15:10:34.369Z"
   },
   {
    "duration": 52,
    "start_time": "2022-09-24T15:10:53.550Z"
   },
   {
    "duration": 14,
    "start_time": "2022-09-24T15:12:54.371Z"
   },
   {
    "duration": 17,
    "start_time": "2022-09-24T15:12:56.961Z"
   },
   {
    "duration": 25,
    "start_time": "2022-09-24T15:13:29.963Z"
   },
   {
    "duration": 23,
    "start_time": "2022-09-24T15:13:33.042Z"
   },
   {
    "duration": 1513,
    "start_time": "2022-09-24T15:15:26.059Z"
   },
   {
    "duration": 28,
    "start_time": "2022-09-24T15:17:28.538Z"
   },
   {
    "duration": 21,
    "start_time": "2022-09-24T15:17:40.605Z"
   },
   {
    "duration": 58,
    "start_time": "2022-09-24T15:17:56.531Z"
   },
   {
    "duration": 52,
    "start_time": "2022-09-24T15:19:58.879Z"
   },
   {
    "duration": 47,
    "start_time": "2022-09-24T15:21:10.097Z"
   },
   {
    "duration": 58,
    "start_time": "2022-09-24T15:21:24.118Z"
   },
   {
    "duration": 53,
    "start_time": "2022-09-24T15:21:32.651Z"
   },
   {
    "duration": 43,
    "start_time": "2022-09-24T15:21:39.789Z"
   },
   {
    "duration": 21,
    "start_time": "2022-09-24T15:21:52.348Z"
   },
   {
    "duration": 20,
    "start_time": "2022-09-24T15:22:04.629Z"
   },
   {
    "duration": 16,
    "start_time": "2022-09-24T15:22:08.104Z"
   },
   {
    "duration": 12,
    "start_time": "2022-09-24T15:22:19.436Z"
   },
   {
    "duration": 14,
    "start_time": "2022-09-24T15:22:22.899Z"
   },
   {
    "duration": 14,
    "start_time": "2022-09-24T15:22:51.560Z"
   },
   {
    "duration": 15,
    "start_time": "2022-09-24T15:23:02.549Z"
   },
   {
    "duration": 13,
    "start_time": "2022-09-24T15:23:58.050Z"
   },
   {
    "duration": 13,
    "start_time": "2022-09-24T15:24:17.451Z"
   },
   {
    "duration": 13,
    "start_time": "2022-09-24T15:24:49.735Z"
   },
   {
    "duration": 14,
    "start_time": "2022-09-24T15:24:52.461Z"
   },
   {
    "duration": 12,
    "start_time": "2022-09-24T15:25:14.938Z"
   },
   {
    "duration": 13,
    "start_time": "2022-09-24T15:25:55.169Z"
   },
   {
    "duration": 52,
    "start_time": "2022-09-24T15:26:13.728Z"
   },
   {
    "duration": 26,
    "start_time": "2022-09-24T15:26:19.138Z"
   },
   {
    "duration": 28,
    "start_time": "2022-09-24T15:26:41.337Z"
   },
   {
    "duration": 988,
    "start_time": "2022-09-24T15:27:11.179Z"
   },
   {
    "duration": 943,
    "start_time": "2022-09-24T15:27:16.030Z"
   },
   {
    "duration": 14,
    "start_time": "2022-09-24T15:27:24.622Z"
   },
   {
    "duration": 18,
    "start_time": "2022-09-24T15:27:34.037Z"
   },
   {
    "duration": 5,
    "start_time": "2022-09-24T15:51:55.615Z"
   },
   {
    "duration": 54,
    "start_time": "2022-09-24T15:55:57.932Z"
   },
   {
    "duration": 108,
    "start_time": "2022-09-24T15:56:05.042Z"
   },
   {
    "duration": 247,
    "start_time": "2022-09-24T15:56:09.296Z"
   },
   {
    "duration": 130,
    "start_time": "2022-09-24T15:57:13.714Z"
   },
   {
    "duration": 58,
    "start_time": "2022-09-24T15:57:17.542Z"
   },
   {
    "duration": 56,
    "start_time": "2022-09-24T15:59:15.190Z"
   },
   {
    "duration": 12,
    "start_time": "2022-09-24T15:59:28.046Z"
   },
   {
    "duration": 47,
    "start_time": "2022-09-24T15:59:40.766Z"
   },
   {
    "duration": 46,
    "start_time": "2022-09-24T16:00:28.576Z"
   },
   {
    "duration": 48,
    "start_time": "2022-09-24T16:00:56.848Z"
   },
   {
    "duration": 35,
    "start_time": "2022-09-24T16:01:42.339Z"
   },
   {
    "duration": 35,
    "start_time": "2022-09-24T16:01:47.654Z"
   },
   {
    "duration": 27,
    "start_time": "2022-09-24T16:01:51.156Z"
   },
   {
    "duration": 42,
    "start_time": "2022-09-24T16:02:10.700Z"
   },
   {
    "duration": 7,
    "start_time": "2022-09-24T16:03:09.232Z"
   },
   {
    "duration": 12,
    "start_time": "2022-09-24T16:03:12.154Z"
   },
   {
    "duration": 20,
    "start_time": "2022-09-24T16:05:29.957Z"
   },
   {
    "duration": 28,
    "start_time": "2022-09-24T16:05:49.005Z"
   },
   {
    "duration": 19,
    "start_time": "2022-09-24T16:06:16.529Z"
   },
   {
    "duration": 5,
    "start_time": "2022-09-24T16:06:52.622Z"
   },
   {
    "duration": 45,
    "start_time": "2022-09-24T16:07:59.339Z"
   },
   {
    "duration": 49,
    "start_time": "2022-09-24T16:08:07.324Z"
   },
   {
    "duration": 86,
    "start_time": "2022-09-24T16:09:55.912Z"
   },
   {
    "duration": 59,
    "start_time": "2022-09-24T16:10:20.350Z"
   },
   {
    "duration": 209,
    "start_time": "2022-09-24T16:10:24.473Z"
   },
   {
    "duration": 55,
    "start_time": "2022-09-24T16:10:27.812Z"
   },
   {
    "duration": 5,
    "start_time": "2022-09-24T16:12:07.893Z"
   },
   {
    "duration": 60,
    "start_time": "2022-09-24T16:12:27.536Z"
   },
   {
    "duration": 9,
    "start_time": "2022-09-24T16:12:37.062Z"
   },
   {
    "duration": 9,
    "start_time": "2022-09-24T16:12:39.212Z"
   },
   {
    "duration": 32,
    "start_time": "2022-09-24T16:12:51.302Z"
   },
   {
    "duration": 8,
    "start_time": "2022-09-24T16:13:13.366Z"
   },
   {
    "duration": 32,
    "start_time": "2022-09-24T16:20:04.044Z"
   },
   {
    "duration": 49,
    "start_time": "2022-09-24T16:20:56.596Z"
   },
   {
    "duration": 11,
    "start_time": "2022-09-24T16:21:57.896Z"
   },
   {
    "duration": 42,
    "start_time": "2022-09-24T16:22:29.874Z"
   },
   {
    "duration": 58,
    "start_time": "2022-09-24T16:22:44.829Z"
   },
   {
    "duration": 34,
    "start_time": "2022-09-24T16:22:47.857Z"
   },
   {
    "duration": 141,
    "start_time": "2022-09-24T16:27:40.894Z"
   },
   {
    "duration": 4,
    "start_time": "2022-09-24T16:30:35.344Z"
   },
   {
    "duration": 379,
    "start_time": "2022-09-24T16:41:03.576Z"
   },
   {
    "duration": 155,
    "start_time": "2022-09-24T16:45:45.133Z"
   },
   {
    "duration": 60,
    "start_time": "2022-09-24T16:46:04.008Z"
   },
   {
    "duration": 14,
    "start_time": "2022-09-24T16:49:17.985Z"
   },
   {
    "duration": 17,
    "start_time": "2022-09-24T16:50:22.508Z"
   },
   {
    "duration": 79,
    "start_time": "2022-09-24T16:51:17.673Z"
   },
   {
    "duration": 49,
    "start_time": "2022-09-24T16:51:41.818Z"
   },
   {
    "duration": 80,
    "start_time": "2022-09-24T16:51:55.788Z"
   },
   {
    "duration": 68,
    "start_time": "2022-09-24T16:52:05.282Z"
   },
   {
    "duration": 3,
    "start_time": "2022-09-24T16:55:05.959Z"
   },
   {
    "duration": 24,
    "start_time": "2022-09-24T17:01:05.365Z"
   },
   {
    "duration": 11,
    "start_time": "2022-09-24T17:09:30.486Z"
   },
   {
    "duration": 11,
    "start_time": "2022-09-24T17:09:38.890Z"
   },
   {
    "duration": 11,
    "start_time": "2022-09-24T17:09:42.302Z"
   },
   {
    "duration": 1219,
    "start_time": "2022-09-27T15:49:02.126Z"
   },
   {
    "duration": 1175,
    "start_time": "2022-09-27T15:49:03.347Z"
   },
   {
    "duration": 126,
    "start_time": "2022-09-27T15:49:04.524Z"
   },
   {
    "duration": 103,
    "start_time": "2022-09-27T15:49:04.652Z"
   },
   {
    "duration": 21,
    "start_time": "2022-09-27T15:49:04.757Z"
   },
   {
    "duration": 130,
    "start_time": "2022-09-27T15:49:04.780Z"
   },
   {
    "duration": 1273,
    "start_time": "2022-09-27T15:49:04.911Z"
   },
   {
    "duration": 58,
    "start_time": "2022-09-27T15:49:06.186Z"
   },
   {
    "duration": 0,
    "start_time": "2022-09-27T15:49:06.246Z"
   },
   {
    "duration": 0,
    "start_time": "2022-09-27T15:49:06.247Z"
   },
   {
    "duration": 0,
    "start_time": "2022-09-27T15:49:06.248Z"
   },
   {
    "duration": 0,
    "start_time": "2022-09-27T15:49:06.249Z"
   },
   {
    "duration": 0,
    "start_time": "2022-09-27T15:49:06.250Z"
   },
   {
    "duration": 0,
    "start_time": "2022-09-27T15:49:06.251Z"
   },
   {
    "duration": 0,
    "start_time": "2022-09-27T15:49:06.252Z"
   },
   {
    "duration": 0,
    "start_time": "2022-09-27T15:49:06.252Z"
   },
   {
    "duration": 0,
    "start_time": "2022-09-27T15:49:06.253Z"
   },
   {
    "duration": 0,
    "start_time": "2022-09-27T15:49:06.254Z"
   },
   {
    "duration": 0,
    "start_time": "2022-09-27T15:49:06.255Z"
   },
   {
    "duration": 5,
    "start_time": "2022-09-27T16:20:56.987Z"
   },
   {
    "duration": 46,
    "start_time": "2022-09-27T16:22:42.575Z"
   },
   {
    "duration": 414,
    "start_time": "2022-09-27T16:25:14.133Z"
   },
   {
    "duration": 356,
    "start_time": "2022-09-27T16:26:39.297Z"
   },
   {
    "duration": 212,
    "start_time": "2022-09-27T16:36:05.017Z"
   },
   {
    "duration": 195,
    "start_time": "2022-09-27T16:36:17.508Z"
   },
   {
    "duration": 202,
    "start_time": "2022-09-27T16:36:22.496Z"
   },
   {
    "duration": 1212,
    "start_time": "2022-09-27T16:37:17.438Z"
   },
   {
    "duration": 1037,
    "start_time": "2022-09-27T16:37:34.607Z"
   },
   {
    "duration": 1345,
    "start_time": "2022-09-27T16:37:44.344Z"
   },
   {
    "duration": 1644,
    "start_time": "2022-09-27T16:37:49.637Z"
   },
   {
    "duration": 1658,
    "start_time": "2022-09-27T16:38:30.936Z"
   },
   {
    "duration": 260,
    "start_time": "2022-09-27T16:42:44.998Z"
   },
   {
    "duration": 277,
    "start_time": "2022-09-27T16:42:50.689Z"
   },
   {
    "duration": 168,
    "start_time": "2022-09-27T16:43:06.038Z"
   },
   {
    "duration": 1594,
    "start_time": "2022-09-27T16:47:11.017Z"
   },
   {
    "duration": 1618,
    "start_time": "2022-09-27T16:47:29.579Z"
   },
   {
    "duration": 1570,
    "start_time": "2022-09-27T16:47:35.934Z"
   },
   {
    "duration": 799,
    "start_time": "2022-09-27T16:49:44.466Z"
   },
   {
    "duration": 1556,
    "start_time": "2022-09-27T16:50:05.256Z"
   },
   {
    "duration": 1407,
    "start_time": "2022-09-27T16:50:43.795Z"
   },
   {
    "duration": 1560,
    "start_time": "2022-09-27T16:51:03.667Z"
   },
   {
    "duration": 40,
    "start_time": "2022-09-27T17:09:39.678Z"
   },
   {
    "duration": 139,
    "start_time": "2022-09-27T17:10:02.615Z"
   },
   {
    "duration": 51,
    "start_time": "2022-09-27T17:10:04.971Z"
   },
   {
    "duration": 255,
    "start_time": "2022-09-27T17:10:35.947Z"
   },
   {
    "duration": 34,
    "start_time": "2022-09-27T17:12:38.056Z"
   },
   {
    "duration": 209,
    "start_time": "2022-09-27T17:12:47.043Z"
   },
   {
    "duration": 227,
    "start_time": "2022-09-27T17:12:53.616Z"
   },
   {
    "duration": 201,
    "start_time": "2022-09-27T17:12:57.060Z"
   },
   {
    "duration": 8,
    "start_time": "2022-09-27T17:15:10.992Z"
   },
   {
    "duration": 4,
    "start_time": "2022-09-27T17:15:13.097Z"
   },
   {
    "duration": 14,
    "start_time": "2022-09-27T17:34:58.218Z"
   },
   {
    "duration": 1042,
    "start_time": "2022-09-27T17:35:15.430Z"
   },
   {
    "duration": 817,
    "start_time": "2022-09-27T17:35:16.474Z"
   },
   {
    "duration": 115,
    "start_time": "2022-09-27T17:35:17.293Z"
   },
   {
    "duration": 93,
    "start_time": "2022-09-27T17:35:17.410Z"
   },
   {
    "duration": 22,
    "start_time": "2022-09-27T17:35:17.504Z"
   },
   {
    "duration": 1579,
    "start_time": "2022-09-27T17:35:17.528Z"
   },
   {
    "duration": 178,
    "start_time": "2022-09-27T17:35:19.109Z"
   },
   {
    "duration": 1652,
    "start_time": "2022-09-27T17:35:19.288Z"
   },
   {
    "duration": 1197,
    "start_time": "2022-09-27T17:35:20.942Z"
   },
   {
    "duration": 12,
    "start_time": "2022-09-27T17:35:22.142Z"
   },
   {
    "duration": 289,
    "start_time": "2022-09-27T17:35:22.155Z"
   },
   {
    "duration": 427,
    "start_time": "2022-09-27T17:35:22.445Z"
   },
   {
    "duration": 44,
    "start_time": "2022-09-27T17:35:22.873Z"
   },
   {
    "duration": 55,
    "start_time": "2022-09-27T17:35:22.918Z"
   },
   {
    "duration": 60,
    "start_time": "2022-09-27T17:35:22.975Z"
   },
   {
    "duration": 18,
    "start_time": "2022-09-27T17:35:23.037Z"
   },
   {
    "duration": 124,
    "start_time": "2022-09-27T17:35:23.057Z"
   },
   {
    "duration": 225,
    "start_time": "2022-09-27T17:35:23.183Z"
   },
   {
    "duration": 332,
    "start_time": "2022-09-27T17:35:23.410Z"
   },
   {
    "duration": 4,
    "start_time": "2022-09-27T17:36:42.907Z"
   },
   {
    "duration": 24,
    "start_time": "2022-09-27T17:38:16.336Z"
   },
   {
    "duration": 151,
    "start_time": "2022-09-27T17:38:43.889Z"
   },
   {
    "duration": 20,
    "start_time": "2022-09-27T17:39:00.527Z"
   },
   {
    "duration": 12,
    "start_time": "2022-09-27T17:40:04.986Z"
   },
   {
    "duration": 12,
    "start_time": "2022-09-27T17:40:09.695Z"
   },
   {
    "duration": 15,
    "start_time": "2022-09-27T17:40:40.335Z"
   },
   {
    "duration": 1281,
    "start_time": "2022-09-28T04:45:48.373Z"
   },
   {
    "duration": 1147,
    "start_time": "2022-09-28T04:45:49.656Z"
   },
   {
    "duration": 108,
    "start_time": "2022-09-28T04:45:50.805Z"
   },
   {
    "duration": 96,
    "start_time": "2022-09-28T04:45:50.915Z"
   },
   {
    "duration": 22,
    "start_time": "2022-09-28T04:45:51.013Z"
   },
   {
    "duration": 1764,
    "start_time": "2022-09-28T04:45:51.037Z"
   },
   {
    "duration": 186,
    "start_time": "2022-09-28T04:45:52.802Z"
   },
   {
    "duration": 1741,
    "start_time": "2022-09-28T04:45:52.990Z"
   },
   {
    "duration": 1444,
    "start_time": "2022-09-28T04:45:54.733Z"
   },
   {
    "duration": 13,
    "start_time": "2022-09-28T04:45:56.179Z"
   },
   {
    "duration": 320,
    "start_time": "2022-09-28T04:45:56.194Z"
   },
   {
    "duration": 523,
    "start_time": "2022-09-28T04:45:56.517Z"
   },
   {
    "duration": 52,
    "start_time": "2022-09-28T04:45:57.042Z"
   },
   {
    "duration": 58,
    "start_time": "2022-09-28T04:45:57.096Z"
   },
   {
    "duration": 64,
    "start_time": "2022-09-28T04:45:57.156Z"
   },
   {
    "duration": 21,
    "start_time": "2022-09-28T04:45:57.221Z"
   },
   {
    "duration": 154,
    "start_time": "2022-09-28T04:45:57.244Z"
   },
   {
    "duration": 5,
    "start_time": "2022-09-28T04:45:57.399Z"
   },
   {
    "duration": 47,
    "start_time": "2022-09-28T04:45:57.406Z"
   },
   {
    "duration": 267,
    "start_time": "2022-09-28T04:45:57.455Z"
   },
   {
    "duration": 387,
    "start_time": "2022-09-28T04:45:57.724Z"
   },
   {
    "duration": 14128,
    "start_time": "2022-09-28T04:47:14.693Z"
   },
   {
    "duration": 1984,
    "start_time": "2022-09-28T04:48:19.614Z"
   },
   {
    "duration": 1525,
    "start_time": "2022-09-28T04:48:51.475Z"
   },
   {
    "duration": 142,
    "start_time": "2022-09-28T04:51:35.102Z"
   },
   {
    "duration": 50,
    "start_time": "2022-09-28T04:51:39.502Z"
   },
   {
    "duration": 1439,
    "start_time": "2022-09-28T04:51:40.615Z"
   },
   {
    "duration": 1761,
    "start_time": "2022-09-28T04:56:11.192Z"
   },
   {
    "duration": 188,
    "start_time": "2022-09-28T05:01:50.432Z"
   },
   {
    "duration": 265,
    "start_time": "2022-09-28T05:02:03.753Z"
   },
   {
    "duration": 175,
    "start_time": "2022-09-28T05:03:31.672Z"
   },
   {
    "duration": 1064,
    "start_time": "2022-09-28T05:08:20.518Z"
   },
   {
    "duration": 859,
    "start_time": "2022-09-28T05:08:21.584Z"
   },
   {
    "duration": 104,
    "start_time": "2022-09-28T05:08:22.444Z"
   },
   {
    "duration": 98,
    "start_time": "2022-09-28T05:08:22.550Z"
   },
   {
    "duration": 32,
    "start_time": "2022-09-28T05:08:22.650Z"
   },
   {
    "duration": 1764,
    "start_time": "2022-09-28T05:08:22.684Z"
   },
   {
    "duration": 122,
    "start_time": "2022-09-28T05:08:24.450Z"
   },
   {
    "duration": 0,
    "start_time": "2022-09-28T05:08:24.574Z"
   },
   {
    "duration": 0,
    "start_time": "2022-09-28T05:08:24.576Z"
   },
   {
    "duration": 0,
    "start_time": "2022-09-28T05:08:24.577Z"
   },
   {
    "duration": 0,
    "start_time": "2022-09-28T05:08:24.578Z"
   },
   {
    "duration": 0,
    "start_time": "2022-09-28T05:08:24.580Z"
   },
   {
    "duration": 0,
    "start_time": "2022-09-28T05:08:24.581Z"
   },
   {
    "duration": 0,
    "start_time": "2022-09-28T05:08:24.582Z"
   },
   {
    "duration": 0,
    "start_time": "2022-09-28T05:08:24.583Z"
   },
   {
    "duration": 0,
    "start_time": "2022-09-28T05:08:24.584Z"
   },
   {
    "duration": 0,
    "start_time": "2022-09-28T05:08:24.586Z"
   },
   {
    "duration": 0,
    "start_time": "2022-09-28T05:08:24.587Z"
   },
   {
    "duration": 0,
    "start_time": "2022-09-28T05:08:24.590Z"
   },
   {
    "duration": 0,
    "start_time": "2022-09-28T05:08:24.592Z"
   },
   {
    "duration": 0,
    "start_time": "2022-09-28T05:08:24.593Z"
   },
   {
    "duration": 0,
    "start_time": "2022-09-28T05:08:24.594Z"
   },
   {
    "duration": 165,
    "start_time": "2022-09-28T05:08:42.068Z"
   },
   {
    "duration": 172,
    "start_time": "2022-09-28T05:08:52.806Z"
   },
   {
    "duration": 1859,
    "start_time": "2022-09-28T05:11:32.553Z"
   },
   {
    "duration": 2182,
    "start_time": "2022-09-28T05:11:45.614Z"
   },
   {
    "duration": 2144,
    "start_time": "2022-09-28T05:12:15.448Z"
   },
   {
    "duration": 2041,
    "start_time": "2022-09-28T05:16:29.714Z"
   },
   {
    "duration": 1190,
    "start_time": "2022-09-29T21:00:14.774Z"
   },
   {
    "duration": 3084,
    "start_time": "2022-09-29T21:00:15.966Z"
   },
   {
    "duration": 125,
    "start_time": "2022-09-29T21:00:19.052Z"
   },
   {
    "duration": 98,
    "start_time": "2022-09-29T21:00:19.179Z"
   },
   {
    "duration": 22,
    "start_time": "2022-09-29T21:00:19.278Z"
   },
   {
    "duration": 66,
    "start_time": "2022-09-29T21:00:19.302Z"
   },
   {
    "duration": 0,
    "start_time": "2022-09-29T21:00:19.370Z"
   },
   {
    "duration": 0,
    "start_time": "2022-09-29T21:00:19.371Z"
   },
   {
    "duration": 0,
    "start_time": "2022-09-29T21:00:19.372Z"
   },
   {
    "duration": 0,
    "start_time": "2022-09-29T21:00:19.373Z"
   },
   {
    "duration": 0,
    "start_time": "2022-09-29T21:00:19.374Z"
   },
   {
    "duration": 0,
    "start_time": "2022-09-29T21:00:19.376Z"
   },
   {
    "duration": 0,
    "start_time": "2022-09-29T21:00:19.377Z"
   },
   {
    "duration": 0,
    "start_time": "2022-09-29T21:00:19.378Z"
   },
   {
    "duration": 0,
    "start_time": "2022-09-29T21:00:19.380Z"
   },
   {
    "duration": 0,
    "start_time": "2022-09-29T21:00:19.381Z"
   },
   {
    "duration": 0,
    "start_time": "2022-09-29T21:00:19.383Z"
   },
   {
    "duration": 0,
    "start_time": "2022-09-29T21:00:19.385Z"
   },
   {
    "duration": 0,
    "start_time": "2022-09-29T21:00:19.386Z"
   },
   {
    "duration": 0,
    "start_time": "2022-09-29T21:00:19.387Z"
   },
   {
    "duration": 0,
    "start_time": "2022-09-29T21:00:19.389Z"
   },
   {
    "duration": 1091,
    "start_time": "2022-09-29T21:01:27.533Z"
   },
   {
    "duration": 845,
    "start_time": "2022-09-29T21:01:28.625Z"
   },
   {
    "duration": 104,
    "start_time": "2022-09-29T21:01:29.472Z"
   },
   {
    "duration": 110,
    "start_time": "2022-09-29T21:01:29.578Z"
   },
   {
    "duration": 25,
    "start_time": "2022-09-29T21:01:29.689Z"
   },
   {
    "duration": 1305,
    "start_time": "2022-09-29T21:01:29.721Z"
   },
   {
    "duration": 15,
    "start_time": "2022-09-29T21:01:31.028Z"
   },
   {
    "duration": 389,
    "start_time": "2022-09-29T21:01:31.045Z"
   },
   {
    "duration": 457,
    "start_time": "2022-09-29T21:01:31.436Z"
   },
   {
    "duration": 49,
    "start_time": "2022-09-29T21:01:31.895Z"
   },
   {
    "duration": 72,
    "start_time": "2022-09-29T21:01:31.945Z"
   },
   {
    "duration": 62,
    "start_time": "2022-09-29T21:01:32.019Z"
   },
   {
    "duration": 27,
    "start_time": "2022-09-29T21:01:32.082Z"
   },
   {
    "duration": 164,
    "start_time": "2022-09-29T21:01:32.110Z"
   },
   {
    "duration": 4,
    "start_time": "2022-09-29T21:01:32.275Z"
   },
   {
    "duration": 87,
    "start_time": "2022-09-29T21:01:32.280Z"
   },
   {
    "duration": 191,
    "start_time": "2022-09-29T21:01:32.369Z"
   },
   {
    "duration": 1246,
    "start_time": "2022-09-29T21:01:47.128Z"
   },
   {
    "duration": 878,
    "start_time": "2022-09-29T21:01:48.376Z"
   },
   {
    "duration": 107,
    "start_time": "2022-09-29T21:01:49.255Z"
   },
   {
    "duration": 98,
    "start_time": "2022-09-29T21:01:49.364Z"
   },
   {
    "duration": 24,
    "start_time": "2022-09-29T21:01:49.464Z"
   },
   {
    "duration": 1268,
    "start_time": "2022-09-29T21:01:49.489Z"
   },
   {
    "duration": 13,
    "start_time": "2022-09-29T21:01:50.758Z"
   },
   {
    "duration": 342,
    "start_time": "2022-09-29T21:01:50.773Z"
   },
   {
    "duration": 475,
    "start_time": "2022-09-29T21:01:51.123Z"
   },
   {
    "duration": 43,
    "start_time": "2022-09-29T21:01:51.599Z"
   },
   {
    "duration": 52,
    "start_time": "2022-09-29T21:01:51.643Z"
   },
   {
    "duration": 64,
    "start_time": "2022-09-29T21:01:51.696Z"
   },
   {
    "duration": 256,
    "start_time": "2022-09-29T21:05:23.298Z"
   },
   {
    "duration": 314,
    "start_time": "2022-09-29T21:05:26.042Z"
   },
   {
    "duration": 1880,
    "start_time": "2022-09-29T21:06:32.782Z"
   },
   {
    "duration": 2034,
    "start_time": "2022-09-29T21:07:35.996Z"
   },
   {
    "duration": 2279,
    "start_time": "2022-09-29T21:09:04.406Z"
   },
   {
    "duration": 2045,
    "start_time": "2022-09-29T21:09:34.467Z"
   },
   {
    "duration": 2120,
    "start_time": "2022-09-29T21:10:16.858Z"
   },
   {
    "duration": 2050,
    "start_time": "2022-09-29T21:11:24.918Z"
   },
   {
    "duration": 2143,
    "start_time": "2022-09-29T21:11:40.330Z"
   },
   {
    "duration": 2088,
    "start_time": "2022-09-29T21:13:47.195Z"
   },
   {
    "duration": 1919,
    "start_time": "2022-09-29T21:16:09.047Z"
   },
   {
    "duration": 2127,
    "start_time": "2022-09-29T21:16:39.229Z"
   },
   {
    "duration": 16,
    "start_time": "2022-09-29T21:19:17.603Z"
   },
   {
    "duration": 24,
    "start_time": "2022-09-29T21:21:42.703Z"
   },
   {
    "duration": 365,
    "start_time": "2022-09-29T21:22:49.475Z"
   },
   {
    "duration": 3920,
    "start_time": "2022-09-29T21:22:57.745Z"
   },
   {
    "duration": 3728,
    "start_time": "2022-09-29T21:23:22.220Z"
   },
   {
    "duration": 3810,
    "start_time": "2022-09-29T21:23:47.123Z"
   },
   {
    "duration": 2021,
    "start_time": "2022-09-29T21:24:26.956Z"
   },
   {
    "duration": 3713,
    "start_time": "2022-09-29T21:24:43.999Z"
   },
   {
    "duration": 14,
    "start_time": "2022-09-29T21:25:01.969Z"
   },
   {
    "duration": 4,
    "start_time": "2022-09-29T21:25:11.513Z"
   },
   {
    "duration": 4,
    "start_time": "2022-09-29T21:25:16.398Z"
   },
   {
    "duration": 3726,
    "start_time": "2022-09-29T21:25:31.882Z"
   },
   {
    "duration": 43,
    "start_time": "2022-09-29T21:26:07.945Z"
   },
   {
    "duration": 28,
    "start_time": "2022-09-29T21:26:14.202Z"
   },
   {
    "duration": 4019,
    "start_time": "2022-09-29T21:26:45.502Z"
   },
   {
    "duration": 4175,
    "start_time": "2022-09-29T21:27:17.435Z"
   },
   {
    "duration": 3852,
    "start_time": "2022-09-29T21:27:26.737Z"
   },
   {
    "duration": 2227,
    "start_time": "2022-09-29T21:27:54.333Z"
   },
   {
    "duration": 1949,
    "start_time": "2022-09-29T21:28:25.062Z"
   },
   {
    "duration": 1783,
    "start_time": "2022-09-29T21:28:37.320Z"
   },
   {
    "duration": 1751,
    "start_time": "2022-09-29T21:28:51.288Z"
   },
   {
    "duration": 1644,
    "start_time": "2022-09-29T21:29:02.849Z"
   },
   {
    "duration": 1964,
    "start_time": "2022-09-29T21:29:26.401Z"
   },
   {
    "duration": 487,
    "start_time": "2022-09-29T21:30:19.460Z"
   },
   {
    "duration": 448,
    "start_time": "2022-09-29T21:30:33.802Z"
   },
   {
    "duration": 488,
    "start_time": "2022-09-29T21:30:46.476Z"
   },
   {
    "duration": 623,
    "start_time": "2022-09-29T21:30:57.077Z"
   },
   {
    "duration": 13,
    "start_time": "2022-09-29T21:32:08.868Z"
   },
   {
    "duration": 12,
    "start_time": "2022-09-29T21:32:17.645Z"
   },
   {
    "duration": 1947,
    "start_time": "2022-09-29T21:33:04.020Z"
   },
   {
    "duration": 1928,
    "start_time": "2022-09-29T21:33:17.320Z"
   },
   {
    "duration": 1975,
    "start_time": "2022-09-29T21:33:36.587Z"
   },
   {
    "duration": 2043,
    "start_time": "2022-09-29T21:33:43.302Z"
   },
   {
    "duration": 1888,
    "start_time": "2022-09-29T21:33:50.080Z"
   },
   {
    "duration": 11,
    "start_time": "2022-09-29T21:34:14.569Z"
   },
   {
    "duration": 163,
    "start_time": "2022-09-29T21:34:31.017Z"
   },
   {
    "duration": 19,
    "start_time": "2022-09-29T21:34:52.322Z"
   },
   {
    "duration": 20,
    "start_time": "2022-09-29T21:35:00.492Z"
   },
   {
    "duration": 30,
    "start_time": "2022-09-29T21:35:41.749Z"
   },
   {
    "duration": 12,
    "start_time": "2022-09-29T21:36:44.017Z"
   },
   {
    "duration": 11,
    "start_time": "2022-09-29T21:37:12.401Z"
   },
   {
    "duration": 11,
    "start_time": "2022-09-29T21:37:39.699Z"
   },
   {
    "duration": 29,
    "start_time": "2022-09-29T21:37:48.333Z"
   },
   {
    "duration": 26,
    "start_time": "2022-09-29T21:38:01.714Z"
   },
   {
    "duration": 30,
    "start_time": "2022-09-29T21:38:12.755Z"
   },
   {
    "duration": 8,
    "start_time": "2022-09-29T21:39:13.233Z"
   },
   {
    "duration": 7,
    "start_time": "2022-09-29T21:39:19.163Z"
   },
   {
    "duration": 9,
    "start_time": "2022-09-29T21:39:26.165Z"
   },
   {
    "duration": 10,
    "start_time": "2022-09-29T21:39:36.136Z"
   },
   {
    "duration": 9,
    "start_time": "2022-09-29T21:39:42.221Z"
   },
   {
    "duration": 8,
    "start_time": "2022-09-29T21:39:49.873Z"
   },
   {
    "duration": 19,
    "start_time": "2022-09-29T21:40:40.599Z"
   },
   {
    "duration": 15,
    "start_time": "2022-09-29T21:41:21.333Z"
   },
   {
    "duration": 38,
    "start_time": "2022-09-29T21:41:34.440Z"
   },
   {
    "duration": 7,
    "start_time": "2022-09-29T21:42:46.420Z"
   },
   {
    "duration": 50994,
    "start_time": "2022-09-29T21:43:53.533Z"
   },
   {
    "duration": 3649,
    "start_time": "2022-09-29T21:48:46.854Z"
   },
   {
    "duration": 2242,
    "start_time": "2022-09-29T21:50:53.369Z"
   },
   {
    "duration": 13,
    "start_time": "2022-09-29T21:52:26.845Z"
   },
   {
    "duration": 16,
    "start_time": "2022-09-29T21:52:33.738Z"
   },
   {
    "duration": 18,
    "start_time": "2022-09-29T21:52:37.337Z"
   },
   {
    "duration": 14,
    "start_time": "2022-09-29T21:53:02.601Z"
   },
   {
    "duration": 32,
    "start_time": "2022-09-29T21:54:28.234Z"
   },
   {
    "duration": 73,
    "start_time": "2022-09-29T21:56:45.761Z"
   },
   {
    "duration": 8,
    "start_time": "2022-09-29T21:56:52.444Z"
   },
   {
    "duration": 10,
    "start_time": "2022-09-29T21:57:02.371Z"
   },
   {
    "duration": 28,
    "start_time": "2022-09-29T21:57:12.062Z"
   },
   {
    "duration": 37,
    "start_time": "2022-09-29T21:57:19.511Z"
   },
   {
    "duration": 31,
    "start_time": "2022-09-29T21:57:37.792Z"
   },
   {
    "duration": 33,
    "start_time": "2022-09-29T21:57:42.786Z"
   },
   {
    "duration": 32,
    "start_time": "2022-09-29T21:57:52.636Z"
   },
   {
    "duration": 2187,
    "start_time": "2022-09-29T21:59:24.833Z"
   },
   {
    "duration": 1939,
    "start_time": "2022-09-29T21:59:57.349Z"
   },
   {
    "duration": 33,
    "start_time": "2022-09-29T22:00:36.564Z"
   },
   {
    "duration": 17326,
    "start_time": "2022-09-29T22:01:11.486Z"
   },
   {
    "duration": 74,
    "start_time": "2022-09-29T22:03:19.738Z"
   },
   {
    "duration": 15204,
    "start_time": "2022-09-29T22:03:39.345Z"
   },
   {
    "duration": 15532,
    "start_time": "2022-09-29T22:04:32.210Z"
   },
   {
    "duration": 12,
    "start_time": "2022-09-29T22:06:53.577Z"
   },
   {
    "duration": 51,
    "start_time": "2022-09-29T22:06:57.519Z"
   },
   {
    "duration": 12,
    "start_time": "2022-09-29T22:06:58.840Z"
   },
   {
    "duration": 31,
    "start_time": "2022-09-29T22:07:23.109Z"
   },
   {
    "duration": 1701,
    "start_time": "2022-09-29T22:07:24.061Z"
   },
   {
    "duration": 5,
    "start_time": "2022-09-29T22:09:44.205Z"
   },
   {
    "duration": 276,
    "start_time": "2022-09-29T22:10:08.008Z"
   },
   {
    "duration": 12,
    "start_time": "2022-09-29T22:13:08.148Z"
   },
   {
    "duration": 12,
    "start_time": "2022-09-29T22:13:18.594Z"
   },
   {
    "duration": 68,
    "start_time": "2022-09-29T22:14:49.784Z"
   },
   {
    "duration": 12,
    "start_time": "2022-09-29T22:14:51.841Z"
   },
   {
    "duration": 27,
    "start_time": "2022-09-29T22:16:50.684Z"
   },
   {
    "duration": 506,
    "start_time": "2022-09-29T22:16:58.033Z"
   },
   {
    "duration": 1361,
    "start_time": "2022-09-29T22:17:29.244Z"
   },
   {
    "duration": 804,
    "start_time": "2022-09-29T22:18:02.514Z"
   },
   {
    "duration": 263,
    "start_time": "2022-09-29T22:18:29.861Z"
   },
   {
    "duration": 5912,
    "start_time": "2022-09-29T22:19:21.388Z"
   },
   {
    "duration": 98,
    "start_time": "2022-09-29T22:20:54.946Z"
   },
   {
    "duration": 39,
    "start_time": "2022-09-29T22:21:02.111Z"
   },
   {
    "duration": 8958,
    "start_time": "2022-09-29T22:21:04.644Z"
   },
   {
    "duration": 40,
    "start_time": "2022-09-29T22:21:49.642Z"
   },
   {
    "duration": 5193,
    "start_time": "2022-09-29T22:21:53.055Z"
   },
   {
    "duration": 4735,
    "start_time": "2022-09-29T22:22:58.047Z"
   },
   {
    "duration": 4716,
    "start_time": "2022-09-29T22:24:22.793Z"
   },
   {
    "duration": 43,
    "start_time": "2022-09-29T22:25:56.790Z"
   },
   {
    "duration": 31,
    "start_time": "2022-09-29T22:27:13.810Z"
   },
   {
    "duration": 14,
    "start_time": "2022-09-29T22:27:55.362Z"
   },
   {
    "duration": 2097,
    "start_time": "2022-09-29T22:28:14.471Z"
   },
   {
    "duration": 32,
    "start_time": "2022-09-29T22:28:50.721Z"
   },
   {
    "duration": 187,
    "start_time": "2022-09-29T22:29:45.464Z"
   },
   {
    "duration": 19,
    "start_time": "2022-09-29T22:31:22.019Z"
   },
   {
    "duration": 13,
    "start_time": "2022-09-29T22:31:30.833Z"
   },
   {
    "duration": 13,
    "start_time": "2022-09-29T22:31:34.296Z"
   },
   {
    "duration": 1284,
    "start_time": "2022-09-30T08:56:52.410Z"
   },
   {
    "duration": 3015,
    "start_time": "2022-09-30T08:56:53.696Z"
   },
   {
    "duration": 120,
    "start_time": "2022-09-30T08:56:56.713Z"
   },
   {
    "duration": 96,
    "start_time": "2022-09-30T08:56:56.835Z"
   },
   {
    "duration": 23,
    "start_time": "2022-09-30T08:56:56.935Z"
   },
   {
    "duration": 1366,
    "start_time": "2022-09-30T08:56:56.960Z"
   },
   {
    "duration": 12,
    "start_time": "2022-09-30T08:56:58.328Z"
   },
   {
    "duration": 289,
    "start_time": "2022-09-30T08:56:58.342Z"
   },
   {
    "duration": 460,
    "start_time": "2022-09-30T08:56:58.633Z"
   },
   {
    "duration": 54,
    "start_time": "2022-09-30T08:56:59.095Z"
   },
   {
    "duration": 61,
    "start_time": "2022-09-30T08:56:59.151Z"
   },
   {
    "duration": 57,
    "start_time": "2022-09-30T08:56:59.213Z"
   },
   {
    "duration": 2122,
    "start_time": "2022-09-30T08:56:59.272Z"
   },
   {
    "duration": 11,
    "start_time": "2022-09-30T08:57:01.397Z"
   },
   {
    "duration": 2859,
    "start_time": "2022-09-30T08:57:01.409Z"
   },
   {
    "duration": 55233,
    "start_time": "2022-09-30T08:57:04.271Z"
   },
   {
    "duration": 2145,
    "start_time": "2022-09-30T08:57:59.505Z"
   },
   {
    "duration": 17521,
    "start_time": "2022-09-30T08:58:01.652Z"
   },
   {
    "duration": 30,
    "start_time": "2022-09-30T08:58:19.175Z"
   },
   {
    "duration": 5693,
    "start_time": "2022-09-30T08:58:19.207Z"
   },
   {
    "duration": 94,
    "start_time": "2022-09-30T08:58:24.901Z"
   },
   {
    "duration": 0,
    "start_time": "2022-09-30T08:58:24.996Z"
   },
   {
    "duration": 0,
    "start_time": "2022-09-30T08:58:24.997Z"
   },
   {
    "duration": 0,
    "start_time": "2022-09-30T08:58:24.998Z"
   },
   {
    "duration": 1987,
    "start_time": "2022-09-30T09:05:07.907Z"
   },
   {
    "duration": 2022,
    "start_time": "2022-09-30T09:11:07.327Z"
   },
   {
    "duration": 10,
    "start_time": "2022-09-30T09:11:46.214Z"
   },
   {
    "duration": 8,
    "start_time": "2022-09-30T09:12:56.427Z"
   },
   {
    "duration": 8,
    "start_time": "2022-09-30T09:13:07.115Z"
   },
   {
    "duration": 1950,
    "start_time": "2022-09-30T09:16:05.917Z"
   },
   {
    "duration": 1925,
    "start_time": "2022-09-30T09:16:21.540Z"
   },
   {
    "duration": 833,
    "start_time": "2022-09-30T09:19:07.730Z"
   },
   {
    "duration": 599,
    "start_time": "2022-09-30T09:19:46.962Z"
   },
   {
    "duration": 804,
    "start_time": "2022-09-30T09:20:22.320Z"
   },
   {
    "duration": 557,
    "start_time": "2022-09-30T09:20:39.914Z"
   },
   {
    "duration": 741,
    "start_time": "2022-09-30T09:21:05.330Z"
   },
   {
    "duration": 8,
    "start_time": "2022-09-30T09:21:47.168Z"
   },
   {
    "duration": 7,
    "start_time": "2022-09-30T09:28:23.110Z"
   },
   {
    "duration": 1948,
    "start_time": "2022-09-30T09:28:35.194Z"
   },
   {
    "duration": 9,
    "start_time": "2022-09-30T09:35:45.441Z"
   },
   {
    "duration": 9,
    "start_time": "2022-09-30T09:35:51.142Z"
   },
   {
    "duration": 12,
    "start_time": "2022-09-30T09:36:05.214Z"
   },
   {
    "duration": 2160,
    "start_time": "2022-09-30T09:37:02.421Z"
   },
   {
    "duration": 11,
    "start_time": "2022-09-30T09:37:58.081Z"
   },
   {
    "duration": 10,
    "start_time": "2022-09-30T09:38:03.112Z"
   },
   {
    "duration": 10,
    "start_time": "2022-09-30T09:38:07.223Z"
   },
   {
    "duration": 30,
    "start_time": "2022-09-30T09:38:22.718Z"
   },
   {
    "duration": 4636,
    "start_time": "2022-09-30T09:38:26.025Z"
   },
   {
    "duration": 1700,
    "start_time": "2022-09-30T09:38:46.715Z"
   },
   {
    "duration": 1483,
    "start_time": "2022-09-30T09:40:21.076Z"
   },
   {
    "duration": 1491,
    "start_time": "2022-09-30T09:40:31.446Z"
   },
   {
    "duration": 1790,
    "start_time": "2022-09-30T09:40:45.006Z"
   },
   {
    "duration": 1892,
    "start_time": "2022-09-30T09:41:06.919Z"
   },
   {
    "duration": 1844,
    "start_time": "2022-09-30T09:41:14.783Z"
   },
   {
    "duration": 1741,
    "start_time": "2022-09-30T09:41:26.788Z"
   },
   {
    "duration": 1743,
    "start_time": "2022-09-30T09:41:37.740Z"
   },
   {
    "duration": 1651,
    "start_time": "2022-09-30T09:42:41.831Z"
   },
   {
    "duration": 7,
    "start_time": "2022-09-30T09:46:14.763Z"
   },
   {
    "duration": 35,
    "start_time": "2022-09-30T09:46:33.826Z"
   },
   {
    "duration": 29,
    "start_time": "2022-09-30T09:46:37.923Z"
   },
   {
    "duration": 1092,
    "start_time": "2022-09-30T09:47:29.128Z"
   },
   {
    "duration": 854,
    "start_time": "2022-09-30T09:47:30.223Z"
   },
   {
    "duration": 112,
    "start_time": "2022-09-30T09:47:31.079Z"
   },
   {
    "duration": 95,
    "start_time": "2022-09-30T09:47:31.193Z"
   },
   {
    "duration": 22,
    "start_time": "2022-09-30T09:47:31.289Z"
   },
   {
    "duration": 1228,
    "start_time": "2022-09-30T09:47:31.313Z"
   },
   {
    "duration": 11,
    "start_time": "2022-09-30T09:47:32.543Z"
   },
   {
    "duration": 304,
    "start_time": "2022-09-30T09:47:32.556Z"
   },
   {
    "duration": 474,
    "start_time": "2022-09-30T09:47:32.861Z"
   },
   {
    "duration": 43,
    "start_time": "2022-09-30T09:47:33.338Z"
   },
   {
    "duration": 69,
    "start_time": "2022-09-30T09:47:33.382Z"
   },
   {
    "duration": 47,
    "start_time": "2022-09-30T09:47:33.452Z"
   },
   {
    "duration": 1812,
    "start_time": "2022-09-30T09:47:33.500Z"
   },
   {
    "duration": 15,
    "start_time": "2022-09-30T09:47:35.313Z"
   },
   {
    "duration": 90,
    "start_time": "2022-09-30T09:47:35.329Z"
   },
   {
    "duration": 0,
    "start_time": "2022-09-30T09:47:35.421Z"
   },
   {
    "duration": 0,
    "start_time": "2022-09-30T09:47:35.423Z"
   },
   {
    "duration": 0,
    "start_time": "2022-09-30T09:47:35.424Z"
   },
   {
    "duration": 0,
    "start_time": "2022-09-30T09:47:35.425Z"
   },
   {
    "duration": 0,
    "start_time": "2022-09-30T09:47:35.426Z"
   },
   {
    "duration": 0,
    "start_time": "2022-09-30T09:47:35.426Z"
   },
   {
    "duration": 0,
    "start_time": "2022-09-30T09:47:35.428Z"
   },
   {
    "duration": 0,
    "start_time": "2022-09-30T09:47:35.429Z"
   },
   {
    "duration": 0,
    "start_time": "2022-09-30T09:47:35.430Z"
   },
   {
    "duration": 0,
    "start_time": "2022-09-30T09:47:35.431Z"
   },
   {
    "duration": 0,
    "start_time": "2022-09-30T09:47:35.432Z"
   },
   {
    "duration": 1105,
    "start_time": "2022-09-30T09:48:03.614Z"
   },
   {
    "duration": 901,
    "start_time": "2022-09-30T09:48:04.721Z"
   },
   {
    "duration": 112,
    "start_time": "2022-09-30T09:48:05.623Z"
   },
   {
    "duration": 87,
    "start_time": "2022-09-30T09:48:05.736Z"
   },
   {
    "duration": 23,
    "start_time": "2022-09-30T09:48:05.825Z"
   },
   {
    "duration": 1287,
    "start_time": "2022-09-30T09:48:05.849Z"
   },
   {
    "duration": 13,
    "start_time": "2022-09-30T09:48:07.138Z"
   },
   {
    "duration": 321,
    "start_time": "2022-09-30T09:48:07.152Z"
   },
   {
    "duration": 458,
    "start_time": "2022-09-30T09:48:07.475Z"
   },
   {
    "duration": 33,
    "start_time": "2022-09-30T09:48:07.934Z"
   },
   {
    "duration": 66,
    "start_time": "2022-09-30T09:48:07.968Z"
   },
   {
    "duration": 48,
    "start_time": "2022-09-30T09:48:08.036Z"
   },
   {
    "duration": 1795,
    "start_time": "2022-09-30T09:48:08.085Z"
   },
   {
    "duration": 11,
    "start_time": "2022-09-30T09:48:09.882Z"
   },
   {
    "duration": 7,
    "start_time": "2022-09-30T09:48:09.894Z"
   },
   {
    "duration": 50422,
    "start_time": "2022-09-30T09:48:09.902Z"
   },
   {
    "duration": 2106,
    "start_time": "2022-09-30T09:49:00.326Z"
   },
   {
    "duration": 10,
    "start_time": "2022-09-30T09:49:02.434Z"
   },
   {
    "duration": 16765,
    "start_time": "2022-09-30T09:49:02.445Z"
   },
   {
    "duration": 39,
    "start_time": "2022-09-30T09:49:19.213Z"
   },
   {
    "duration": 1632,
    "start_time": "2022-09-30T09:49:19.254Z"
   },
   {
    "duration": 2,
    "start_time": "2022-09-30T09:49:20.888Z"
   },
   {
    "duration": 130,
    "start_time": "2022-09-30T09:49:20.892Z"
   },
   {
    "duration": 87,
    "start_time": "2022-09-30T09:49:21.024Z"
   },
   {
    "duration": 229,
    "start_time": "2022-09-30T09:49:21.122Z"
   },
   {
    "duration": 870,
    "start_time": "2022-09-30T09:55:03.358Z"
   },
   {
    "duration": 210,
    "start_time": "2022-09-30T10:00:46.891Z"
   },
   {
    "duration": 20,
    "start_time": "2022-09-30T10:02:52.823Z"
   },
   {
    "duration": 27,
    "start_time": "2022-09-30T10:02:58.934Z"
   },
   {
    "duration": 2,
    "start_time": "2022-09-30T10:03:59.360Z"
   },
   {
    "duration": 3,
    "start_time": "2022-09-30T10:04:02.764Z"
   },
   {
    "duration": 26,
    "start_time": "2022-09-30T10:04:17.837Z"
   },
   {
    "duration": 27,
    "start_time": "2022-09-30T10:04:21.123Z"
   },
   {
    "duration": 28,
    "start_time": "2022-09-30T10:04:29.711Z"
   },
   {
    "duration": 3,
    "start_time": "2022-09-30T10:04:33.038Z"
   },
   {
    "duration": 120,
    "start_time": "2022-09-30T10:04:41.760Z"
   },
   {
    "duration": 28,
    "start_time": "2022-09-30T10:04:47.620Z"
   },
   {
    "duration": 1296,
    "start_time": "2022-09-30T10:08:08.411Z"
   },
   {
    "duration": 4,
    "start_time": "2022-09-30T10:08:26.811Z"
   },
   {
    "duration": 1300,
    "start_time": "2022-09-30T10:08:48.662Z"
   },
   {
    "duration": 811,
    "start_time": "2022-09-30T10:08:49.964Z"
   },
   {
    "duration": 100,
    "start_time": "2022-09-30T10:08:50.776Z"
   },
   {
    "duration": 83,
    "start_time": "2022-09-30T10:08:50.877Z"
   },
   {
    "duration": 23,
    "start_time": "2022-09-30T10:08:50.962Z"
   },
   {
    "duration": 1243,
    "start_time": "2022-09-30T10:08:50.986Z"
   },
   {
    "duration": 12,
    "start_time": "2022-09-30T10:08:52.231Z"
   },
   {
    "duration": 293,
    "start_time": "2022-09-30T10:08:52.245Z"
   },
   {
    "duration": 428,
    "start_time": "2022-09-30T10:08:52.539Z"
   },
   {
    "duration": 34,
    "start_time": "2022-09-30T10:08:52.969Z"
   },
   {
    "duration": 63,
    "start_time": "2022-09-30T10:08:53.004Z"
   },
   {
    "duration": 57,
    "start_time": "2022-09-30T10:08:53.069Z"
   },
   {
    "duration": 1757,
    "start_time": "2022-09-30T10:08:53.127Z"
   },
   {
    "duration": 13,
    "start_time": "2022-09-30T10:08:54.887Z"
   },
   {
    "duration": 22,
    "start_time": "2022-09-30T10:08:54.902Z"
   },
   {
    "duration": 50255,
    "start_time": "2022-09-30T10:08:54.926Z"
   },
   {
    "duration": 2292,
    "start_time": "2022-09-30T10:09:45.183Z"
   },
   {
    "duration": 11,
    "start_time": "2022-09-30T10:09:47.477Z"
   },
   {
    "duration": 17653,
    "start_time": "2022-09-30T10:09:47.490Z"
   },
   {
    "duration": 31,
    "start_time": "2022-09-30T10:10:05.144Z"
   },
   {
    "duration": 1575,
    "start_time": "2022-09-30T10:10:05.177Z"
   },
   {
    "duration": 2,
    "start_time": "2022-09-30T10:10:06.754Z"
   },
   {
    "duration": 7,
    "start_time": "2022-09-30T10:10:06.758Z"
   },
   {
    "duration": 31,
    "start_time": "2022-09-30T10:10:06.767Z"
   },
   {
    "duration": 131,
    "start_time": "2022-09-30T10:10:06.800Z"
   },
   {
    "duration": 153,
    "start_time": "2022-09-30T10:10:06.933Z"
   },
   {
    "duration": 1,
    "start_time": "2022-09-30T10:10:07.087Z"
   },
   {
    "duration": 30,
    "start_time": "2022-09-30T10:10:44.939Z"
   },
   {
    "duration": 174,
    "start_time": "2022-09-30T10:10:47.313Z"
   },
   {
    "duration": 4,
    "start_time": "2022-09-30T10:10:51.907Z"
   },
   {
    "duration": 1346,
    "start_time": "2022-09-30T10:10:55.855Z"
   },
   {
    "duration": 4,
    "start_time": "2022-09-30T10:11:00.094Z"
   },
   {
    "duration": 13,
    "start_time": "2022-09-30T10:11:15.877Z"
   },
   {
    "duration": 13,
    "start_time": "2022-09-30T10:11:22.911Z"
   },
   {
    "duration": 1304,
    "start_time": "2022-09-30T10:12:37.648Z"
   },
   {
    "duration": 894,
    "start_time": "2022-09-30T10:12:38.953Z"
   },
   {
    "duration": 108,
    "start_time": "2022-09-30T10:12:39.849Z"
   },
   {
    "duration": 115,
    "start_time": "2022-09-30T10:12:39.959Z"
   },
   {
    "duration": 24,
    "start_time": "2022-09-30T10:12:40.076Z"
   },
   {
    "duration": 1251,
    "start_time": "2022-09-30T10:12:40.102Z"
   },
   {
    "duration": 13,
    "start_time": "2022-09-30T10:12:41.354Z"
   },
   {
    "duration": 319,
    "start_time": "2022-09-30T10:12:41.369Z"
   },
   {
    "duration": 556,
    "start_time": "2022-09-30T10:12:41.689Z"
   },
   {
    "duration": 40,
    "start_time": "2022-09-30T10:12:42.249Z"
   },
   {
    "duration": 75,
    "start_time": "2022-09-30T10:12:42.291Z"
   },
   {
    "duration": 62,
    "start_time": "2022-09-30T10:12:42.368Z"
   },
   {
    "duration": 3,
    "start_time": "2022-09-30T10:12:42.432Z"
   },
   {
    "duration": 29,
    "start_time": "2022-09-30T10:12:42.436Z"
   },
   {
    "duration": 29,
    "start_time": "2022-09-30T10:12:42.467Z"
   },
   {
    "duration": 23,
    "start_time": "2022-09-30T10:12:42.498Z"
   },
   {
    "duration": 35,
    "start_time": "2022-09-30T10:12:42.523Z"
   },
   {
    "duration": 29,
    "start_time": "2022-09-30T10:12:42.560Z"
   },
   {
    "duration": 25,
    "start_time": "2022-09-30T10:12:42.592Z"
   },
   {
    "duration": 28,
    "start_time": "2022-09-30T10:12:42.619Z"
   },
   {
    "duration": 37,
    "start_time": "2022-09-30T10:12:42.648Z"
   },
   {
    "duration": 20,
    "start_time": "2022-09-30T10:12:42.686Z"
   },
   {
    "duration": 27,
    "start_time": "2022-09-30T10:12:42.707Z"
   },
   {
    "duration": 37,
    "start_time": "2022-09-30T10:12:42.736Z"
   },
   {
    "duration": 132,
    "start_time": "2022-09-30T10:12:42.774Z"
   },
   {
    "duration": 52,
    "start_time": "2022-09-30T10:12:42.907Z"
   },
   {
    "duration": 182,
    "start_time": "2022-09-30T10:12:42.961Z"
   },
   {
    "duration": 4,
    "start_time": "2022-09-30T10:12:43.145Z"
   },
   {
    "duration": 14,
    "start_time": "2022-09-30T10:12:46.452Z"
   },
   {
    "duration": 4,
    "start_time": "2022-09-30T10:12:52.807Z"
   },
   {
    "duration": 15,
    "start_time": "2022-09-30T10:13:01.723Z"
   },
   {
    "duration": 57,
    "start_time": "2022-09-30T10:14:59.422Z"
   },
   {
    "duration": 115,
    "start_time": "2022-09-30T10:16:31.612Z"
   },
   {
    "duration": 3186,
    "start_time": "2022-09-30T10:16:52.222Z"
   },
   {
    "duration": 3,
    "start_time": "2022-09-30T10:21:43.076Z"
   },
   {
    "duration": 4,
    "start_time": "2022-09-30T10:21:47.211Z"
   },
   {
    "duration": 3,
    "start_time": "2022-09-30T10:22:04.671Z"
   },
   {
    "duration": 4,
    "start_time": "2022-09-30T10:22:05.315Z"
   },
   {
    "duration": 221,
    "start_time": "2022-09-30T10:22:26.518Z"
   },
   {
    "duration": 219,
    "start_time": "2022-09-30T10:22:34.322Z"
   },
   {
    "duration": 3,
    "start_time": "2022-09-30T10:23:03.310Z"
   },
   {
    "duration": 4,
    "start_time": "2022-09-30T10:23:16.239Z"
   },
   {
    "duration": 8,
    "start_time": "2022-09-30T10:28:29.573Z"
   },
   {
    "duration": 9,
    "start_time": "2022-09-30T10:30:46.442Z"
   },
   {
    "duration": 9,
    "start_time": "2022-09-30T10:31:04.719Z"
   },
   {
    "duration": 142,
    "start_time": "2022-09-30T10:32:36.616Z"
   },
   {
    "duration": 115,
    "start_time": "2022-09-30T10:32:40.194Z"
   },
   {
    "duration": 10,
    "start_time": "2022-09-30T10:33:29.911Z"
   },
   {
    "duration": 3,
    "start_time": "2022-09-30T10:34:19.016Z"
   },
   {
    "duration": 10,
    "start_time": "2022-09-30T10:34:19.705Z"
   },
   {
    "duration": 3,
    "start_time": "2022-09-30T10:34:31.966Z"
   },
   {
    "duration": 9,
    "start_time": "2022-09-30T10:34:32.563Z"
   },
   {
    "duration": 32948,
    "start_time": "2022-09-30T10:34:38.306Z"
   },
   {
    "duration": 29557,
    "start_time": "2022-09-30T10:35:29.545Z"
   },
   {
    "duration": 3,
    "start_time": "2022-09-30T10:36:13.547Z"
   },
   {
    "duration": 58280,
    "start_time": "2022-09-30T10:36:15.062Z"
   },
   {
    "duration": 1400,
    "start_time": "2022-09-30T11:15:56.229Z"
   },
   {
    "duration": 915,
    "start_time": "2022-09-30T11:15:57.631Z"
   },
   {
    "duration": 107,
    "start_time": "2022-09-30T11:15:58.548Z"
   },
   {
    "duration": 90,
    "start_time": "2022-09-30T11:15:58.657Z"
   },
   {
    "duration": 26,
    "start_time": "2022-09-30T11:15:58.749Z"
   },
   {
    "duration": 1267,
    "start_time": "2022-09-30T11:15:58.777Z"
   },
   {
    "duration": 13,
    "start_time": "2022-09-30T11:16:00.045Z"
   },
   {
    "duration": 318,
    "start_time": "2022-09-30T11:16:00.060Z"
   },
   {
    "duration": 512,
    "start_time": "2022-09-30T11:16:00.380Z"
   },
   {
    "duration": 44,
    "start_time": "2022-09-30T11:16:00.894Z"
   },
   {
    "duration": 54,
    "start_time": "2022-09-30T11:16:00.939Z"
   },
   {
    "duration": 69,
    "start_time": "2022-09-30T11:16:00.995Z"
   },
   {
    "duration": 2,
    "start_time": "2022-09-30T11:16:01.066Z"
   },
   {
    "duration": 16,
    "start_time": "2022-09-30T11:16:01.070Z"
   },
   {
    "duration": 17,
    "start_time": "2022-09-30T11:16:01.087Z"
   },
   {
    "duration": 22,
    "start_time": "2022-09-30T11:16:01.105Z"
   },
   {
    "duration": 17,
    "start_time": "2022-09-30T11:16:01.128Z"
   },
   {
    "duration": 22,
    "start_time": "2022-09-30T11:16:01.146Z"
   },
   {
    "duration": 19,
    "start_time": "2022-09-30T11:16:01.170Z"
   },
   {
    "duration": 17,
    "start_time": "2022-09-30T11:16:01.190Z"
   },
   {
    "duration": 10,
    "start_time": "2022-09-30T11:16:01.208Z"
   },
   {
    "duration": 12,
    "start_time": "2022-09-30T11:16:01.219Z"
   },
   {
    "duration": 20,
    "start_time": "2022-09-30T11:16:01.232Z"
   },
   {
    "duration": 54,
    "start_time": "2022-09-30T11:16:01.254Z"
   },
   {
    "duration": 146,
    "start_time": "2022-09-30T11:16:01.310Z"
   },
   {
    "duration": 50,
    "start_time": "2022-09-30T11:16:01.457Z"
   },
   {
    "duration": 186,
    "start_time": "2022-09-30T11:16:01.509Z"
   },
   {
    "duration": 24,
    "start_time": "2022-09-30T11:16:01.698Z"
   },
   {
    "duration": 77,
    "start_time": "2022-09-30T11:16:01.723Z"
   },
   {
    "duration": 2,
    "start_time": "2022-09-30T11:16:01.802Z"
   },
   {
    "duration": 266,
    "start_time": "2022-09-30T11:16:01.806Z"
   },
   {
    "duration": 2,
    "start_time": "2022-09-30T11:16:02.074Z"
   },
   {
    "duration": 10,
    "start_time": "2022-09-30T11:16:02.078Z"
   },
   {
    "duration": 56600,
    "start_time": "2022-09-30T11:16:02.089Z"
   },
   {
    "duration": 95,
    "start_time": "2022-09-30T11:16:58.691Z"
   },
   {
    "duration": 986,
    "start_time": "2022-09-30T11:19:39.718Z"
   },
   {
    "duration": 4154,
    "start_time": "2022-09-30T11:20:38.774Z"
   },
   {
    "duration": 0,
    "start_time": "2022-09-30T11:20:42.929Z"
   },
   {
    "duration": 658,
    "start_time": "2022-09-30T11:21:04.479Z"
   },
   {
    "duration": 247626,
    "start_time": "2022-09-30T11:21:16.010Z"
   },
   {
    "duration": 2804,
    "start_time": "2022-09-30T11:27:01.208Z"
   },
   {
    "duration": 16,
    "start_time": "2022-09-30T11:38:50.065Z"
   },
   {
    "duration": 16,
    "start_time": "2022-09-30T11:40:49.027Z"
   },
   {
    "duration": 18,
    "start_time": "2022-09-30T11:41:40.022Z"
   },
   {
    "duration": 25,
    "start_time": "2022-09-30T11:56:58.848Z"
   },
   {
    "duration": 17,
    "start_time": "2022-09-30T11:57:02.606Z"
   },
   {
    "duration": 137,
    "start_time": "2022-09-30T11:57:14.460Z"
   },
   {
    "duration": 45,
    "start_time": "2022-09-30T11:57:20.405Z"
   },
   {
    "duration": 28,
    "start_time": "2022-09-30T11:57:31.349Z"
   },
   {
    "duration": 31,
    "start_time": "2022-09-30T11:57:33.903Z"
   },
   {
    "duration": 3,
    "start_time": "2022-09-30T13:49:16.460Z"
   },
   {
    "duration": 20,
    "start_time": "2022-09-30T13:51:10.238Z"
   },
   {
    "duration": 36,
    "start_time": "2022-09-30T13:51:46.059Z"
   },
   {
    "duration": 116,
    "start_time": "2022-09-30T13:53:08.057Z"
   },
   {
    "duration": 32,
    "start_time": "2022-09-30T13:53:09.152Z"
   },
   {
    "duration": 22,
    "start_time": "2022-09-30T13:54:14.714Z"
   },
   {
    "duration": 11,
    "start_time": "2022-09-30T13:58:50.902Z"
   },
   {
    "duration": 3,
    "start_time": "2022-09-30T13:59:34.539Z"
   },
   {
    "duration": 14,
    "start_time": "2022-09-30T13:59:38.051Z"
   },
   {
    "duration": 16,
    "start_time": "2022-09-30T13:59:59.851Z"
   },
   {
    "duration": 93,
    "start_time": "2022-09-30T14:00:02.749Z"
   },
   {
    "duration": 92,
    "start_time": "2022-09-30T14:00:04.608Z"
   },
   {
    "duration": 16005,
    "start_time": "2022-09-30T14:00:08.331Z"
   },
   {
    "duration": 11376,
    "start_time": "2022-09-30T14:01:15.154Z"
   },
   {
    "duration": 29,
    "start_time": "2022-09-30T14:09:39.417Z"
   },
   {
    "duration": 4,
    "start_time": "2022-09-30T14:10:20.289Z"
   },
   {
    "duration": 5,
    "start_time": "2022-09-30T14:11:11.701Z"
   },
   {
    "duration": 1990,
    "start_time": "2022-09-30T14:11:19.457Z"
   },
   {
    "duration": 5,
    "start_time": "2022-09-30T14:14:02.987Z"
   },
   {
    "duration": 30630,
    "start_time": "2022-09-30T14:14:05.735Z"
   },
   {
    "duration": 4,
    "start_time": "2022-09-30T14:15:29.772Z"
   },
   {
    "duration": 4,
    "start_time": "2022-09-30T14:16:43.014Z"
   },
   {
    "duration": 1713,
    "start_time": "2022-09-30T14:40:24.020Z"
   },
   {
    "duration": 877,
    "start_time": "2022-09-30T14:40:25.735Z"
   },
   {
    "duration": 99,
    "start_time": "2022-09-30T14:40:26.614Z"
   },
   {
    "duration": 79,
    "start_time": "2022-09-30T14:40:26.722Z"
   },
   {
    "duration": 35,
    "start_time": "2022-09-30T14:40:26.802Z"
   },
   {
    "duration": 1251,
    "start_time": "2022-09-30T14:40:26.839Z"
   },
   {
    "duration": 13,
    "start_time": "2022-09-30T14:40:28.092Z"
   },
   {
    "duration": 305,
    "start_time": "2022-09-30T14:40:28.106Z"
   },
   {
    "duration": 504,
    "start_time": "2022-09-30T14:40:28.413Z"
   },
   {
    "duration": 41,
    "start_time": "2022-09-30T14:40:28.921Z"
   },
   {
    "duration": 64,
    "start_time": "2022-09-30T14:40:28.963Z"
   },
   {
    "duration": 49,
    "start_time": "2022-09-30T14:40:29.029Z"
   },
   {
    "duration": 3,
    "start_time": "2022-09-30T14:40:29.079Z"
   },
   {
    "duration": 6,
    "start_time": "2022-09-30T14:40:29.083Z"
   },
   {
    "duration": 5,
    "start_time": "2022-09-30T14:40:29.091Z"
   },
   {
    "duration": 5,
    "start_time": "2022-09-30T14:40:29.097Z"
   },
   {
    "duration": 18,
    "start_time": "2022-09-30T14:40:29.104Z"
   },
   {
    "duration": 5,
    "start_time": "2022-09-30T14:40:29.123Z"
   },
   {
    "duration": 8,
    "start_time": "2022-09-30T14:40:29.129Z"
   },
   {
    "duration": 7,
    "start_time": "2022-09-30T14:40:29.139Z"
   },
   {
    "duration": 7,
    "start_time": "2022-09-30T14:40:29.147Z"
   },
   {
    "duration": 7,
    "start_time": "2022-09-30T14:40:29.155Z"
   },
   {
    "duration": 6,
    "start_time": "2022-09-30T14:40:29.164Z"
   },
   {
    "duration": 29,
    "start_time": "2022-09-30T14:40:29.171Z"
   },
   {
    "duration": 135,
    "start_time": "2022-09-30T14:40:29.202Z"
   },
   {
    "duration": 53,
    "start_time": "2022-09-30T14:40:29.339Z"
   },
   {
    "duration": 176,
    "start_time": "2022-09-30T14:40:29.393Z"
   },
   {
    "duration": 13,
    "start_time": "2022-09-30T14:40:29.572Z"
   },
   {
    "duration": 78,
    "start_time": "2022-09-30T14:40:29.587Z"
   },
   {
    "duration": 3,
    "start_time": "2022-09-30T14:40:29.667Z"
   },
   {
    "duration": 252,
    "start_time": "2022-09-30T14:40:29.672Z"
   },
   {
    "duration": 22,
    "start_time": "2022-09-30T14:40:29.926Z"
   },
   {
    "duration": 124,
    "start_time": "2022-09-30T14:40:29.949Z"
   },
   {
    "duration": 102,
    "start_time": "2022-09-30T14:40:30.074Z"
   },
   {
    "duration": 31,
    "start_time": "2022-09-30T14:40:30.178Z"
   },
   {
    "duration": 12,
    "start_time": "2022-09-30T14:40:30.211Z"
   },
   {
    "duration": 1362,
    "start_time": "2022-09-30T14:41:23.221Z"
   },
   {
    "duration": 825,
    "start_time": "2022-09-30T14:41:24.585Z"
   },
   {
    "duration": 99,
    "start_time": "2022-09-30T14:41:25.411Z"
   },
   {
    "duration": 85,
    "start_time": "2022-09-30T14:41:25.512Z"
   },
   {
    "duration": 39,
    "start_time": "2022-09-30T14:41:25.600Z"
   },
   {
    "duration": 1279,
    "start_time": "2022-09-30T14:41:25.641Z"
   },
   {
    "duration": 12,
    "start_time": "2022-09-30T14:41:26.922Z"
   },
   {
    "duration": 296,
    "start_time": "2022-09-30T14:41:26.936Z"
   },
   {
    "duration": 476,
    "start_time": "2022-09-30T14:41:27.233Z"
   },
   {
    "duration": 47,
    "start_time": "2022-09-30T14:41:27.711Z"
   },
   {
    "duration": 64,
    "start_time": "2022-09-30T14:41:27.760Z"
   },
   {
    "duration": 53,
    "start_time": "2022-09-30T14:41:27.826Z"
   },
   {
    "duration": 2,
    "start_time": "2022-09-30T14:41:27.881Z"
   },
   {
    "duration": 6,
    "start_time": "2022-09-30T14:41:27.886Z"
   },
   {
    "duration": 15,
    "start_time": "2022-09-30T14:41:27.894Z"
   },
   {
    "duration": 12,
    "start_time": "2022-09-30T14:41:27.910Z"
   },
   {
    "duration": 12,
    "start_time": "2022-09-30T14:41:27.923Z"
   },
   {
    "duration": 6,
    "start_time": "2022-09-30T14:41:27.936Z"
   },
   {
    "duration": 7,
    "start_time": "2022-09-30T14:41:27.943Z"
   },
   {
    "duration": 9,
    "start_time": "2022-09-30T14:41:27.951Z"
   },
   {
    "duration": 6,
    "start_time": "2022-09-30T14:41:27.962Z"
   },
   {
    "duration": 6,
    "start_time": "2022-09-30T14:41:27.969Z"
   },
   {
    "duration": 6,
    "start_time": "2022-09-30T14:41:27.977Z"
   },
   {
    "duration": 37,
    "start_time": "2022-09-30T14:41:27.984Z"
   },
   {
    "duration": 124,
    "start_time": "2022-09-30T14:41:28.023Z"
   },
   {
    "duration": 54,
    "start_time": "2022-09-30T14:41:28.148Z"
   },
   {
    "duration": 176,
    "start_time": "2022-09-30T14:41:28.204Z"
   },
   {
    "duration": 12,
    "start_time": "2022-09-30T14:41:28.383Z"
   },
   {
    "duration": 72,
    "start_time": "2022-09-30T14:41:28.397Z"
   },
   {
    "duration": 3,
    "start_time": "2022-09-30T14:41:28.470Z"
   },
   {
    "duration": 235,
    "start_time": "2022-09-30T14:41:28.474Z"
   },
   {
    "duration": 24,
    "start_time": "2022-09-30T14:41:28.710Z"
   },
   {
    "duration": 120,
    "start_time": "2022-09-30T14:41:28.735Z"
   },
   {
    "duration": 101,
    "start_time": "2022-09-30T14:41:28.856Z"
   },
   {
    "duration": 28,
    "start_time": "2022-09-30T14:41:28.959Z"
   },
   {
    "duration": 4,
    "start_time": "2022-09-30T14:41:28.989Z"
   },
   {
    "duration": 939038,
    "start_time": "2022-09-30T14:41:47.054Z"
   },
   {
    "duration": 1804053,
    "start_time": "2022-09-30T14:59:31.944Z"
   },
   {
    "duration": 1452,
    "start_time": "2022-10-01T07:43:07.041Z"
   },
   {
    "duration": 1080,
    "start_time": "2022-10-01T07:43:08.495Z"
   },
   {
    "duration": 99,
    "start_time": "2022-10-01T07:43:09.576Z"
   },
   {
    "duration": 87,
    "start_time": "2022-10-01T07:43:09.677Z"
   },
   {
    "duration": 34,
    "start_time": "2022-10-01T07:43:09.766Z"
   },
   {
    "duration": 1250,
    "start_time": "2022-10-01T07:43:09.802Z"
   },
   {
    "duration": 12,
    "start_time": "2022-10-01T07:43:11.053Z"
   },
   {
    "duration": 292,
    "start_time": "2022-10-01T07:43:11.066Z"
   },
   {
    "duration": 447,
    "start_time": "2022-10-01T07:43:11.359Z"
   },
   {
    "duration": 38,
    "start_time": "2022-10-01T07:43:11.807Z"
   },
   {
    "duration": 65,
    "start_time": "2022-10-01T07:43:11.847Z"
   },
   {
    "duration": 45,
    "start_time": "2022-10-01T07:43:11.914Z"
   },
   {
    "duration": 2,
    "start_time": "2022-10-01T07:43:11.961Z"
   },
   {
    "duration": 3,
    "start_time": "2022-10-01T07:43:11.966Z"
   },
   {
    "duration": 5,
    "start_time": "2022-10-01T07:43:11.970Z"
   },
   {
    "duration": 4,
    "start_time": "2022-10-01T07:43:11.976Z"
   },
   {
    "duration": 18,
    "start_time": "2022-10-01T07:43:11.982Z"
   },
   {
    "duration": 5,
    "start_time": "2022-10-01T07:43:12.001Z"
   },
   {
    "duration": 5,
    "start_time": "2022-10-01T07:43:12.007Z"
   },
   {
    "duration": 11,
    "start_time": "2022-10-01T07:43:12.013Z"
   },
   {
    "duration": 5,
    "start_time": "2022-10-01T07:43:12.026Z"
   },
   {
    "duration": 4,
    "start_time": "2022-10-01T07:43:12.032Z"
   },
   {
    "duration": 5,
    "start_time": "2022-10-01T07:43:12.038Z"
   },
   {
    "duration": 23,
    "start_time": "2022-10-01T07:43:12.044Z"
   },
   {
    "duration": 154,
    "start_time": "2022-10-01T07:43:12.069Z"
   },
   {
    "duration": 50,
    "start_time": "2022-10-01T07:43:12.225Z"
   },
   {
    "duration": 181,
    "start_time": "2022-10-01T07:43:12.276Z"
   },
   {
    "duration": 13,
    "start_time": "2022-10-01T07:43:12.459Z"
   },
   {
    "duration": 78,
    "start_time": "2022-10-01T07:43:12.473Z"
   },
   {
    "duration": 2,
    "start_time": "2022-10-01T07:43:12.553Z"
   },
   {
    "duration": 243,
    "start_time": "2022-10-01T07:43:12.557Z"
   },
   {
    "duration": 20,
    "start_time": "2022-10-01T07:43:12.802Z"
   },
   {
    "duration": 122,
    "start_time": "2022-10-01T07:43:12.824Z"
   },
   {
    "duration": 108,
    "start_time": "2022-10-01T07:43:12.947Z"
   },
   {
    "duration": 29,
    "start_time": "2022-10-01T07:43:13.057Z"
   },
   {
    "duration": 14,
    "start_time": "2022-10-01T07:43:13.088Z"
   },
   {
    "duration": 102,
    "start_time": "2022-10-01T07:45:26.099Z"
   },
   {
    "duration": 2,
    "start_time": "2022-10-01T07:45:29.736Z"
   },
   {
    "duration": 10367986,
    "start_time": "2022-10-01T07:45:31.241Z"
   },
   {
    "duration": 1686,
    "start_time": "2022-10-02T18:11:48.034Z"
   },
   {
    "duration": 1238,
    "start_time": "2022-10-02T18:11:49.722Z"
   },
   {
    "duration": 126,
    "start_time": "2022-10-02T18:11:50.962Z"
   },
   {
    "duration": 90,
    "start_time": "2022-10-02T18:11:51.090Z"
   },
   {
    "duration": 36,
    "start_time": "2022-10-02T18:11:51.181Z"
   },
   {
    "duration": 1485,
    "start_time": "2022-10-02T18:11:51.219Z"
   },
   {
    "duration": 15,
    "start_time": "2022-10-02T18:11:52.710Z"
   },
   {
    "duration": 351,
    "start_time": "2022-10-02T18:11:52.727Z"
   },
   {
    "duration": 405,
    "start_time": "2022-10-02T18:11:53.079Z"
   },
   {
    "duration": 48,
    "start_time": "2022-10-02T18:11:53.487Z"
   },
   {
    "duration": 29,
    "start_time": "2022-10-02T18:11:53.537Z"
   },
   {
    "duration": 61,
    "start_time": "2022-10-02T18:11:53.568Z"
   },
   {
    "duration": 3,
    "start_time": "2022-10-02T18:11:53.630Z"
   },
   {
    "duration": 7,
    "start_time": "2022-10-02T18:11:53.635Z"
   },
   {
    "duration": 8,
    "start_time": "2022-10-02T18:11:53.643Z"
   },
   {
    "duration": 7,
    "start_time": "2022-10-02T18:11:53.653Z"
   },
   {
    "duration": 10,
    "start_time": "2022-10-02T18:11:53.662Z"
   },
   {
    "duration": 5,
    "start_time": "2022-10-02T18:11:53.673Z"
   },
   {
    "duration": 6,
    "start_time": "2022-10-02T18:11:53.680Z"
   },
   {
    "duration": 9,
    "start_time": "2022-10-02T18:11:53.688Z"
   },
   {
    "duration": 6,
    "start_time": "2022-10-02T18:11:53.699Z"
   },
   {
    "duration": 3,
    "start_time": "2022-10-02T18:11:53.710Z"
   },
   {
    "duration": 9,
    "start_time": "2022-10-02T18:11:53.714Z"
   },
   {
    "duration": 25,
    "start_time": "2022-10-02T18:11:53.725Z"
   },
   {
    "duration": 190,
    "start_time": "2022-10-02T18:11:53.751Z"
   },
   {
    "duration": 46,
    "start_time": "2022-10-02T18:11:53.943Z"
   },
   {
    "duration": 239,
    "start_time": "2022-10-02T18:11:53.991Z"
   },
   {
    "duration": 14,
    "start_time": "2022-10-02T18:11:54.233Z"
   },
   {
    "duration": 60,
    "start_time": "2022-10-02T18:11:54.249Z"
   },
   {
    "duration": 4,
    "start_time": "2022-10-02T18:11:54.310Z"
   },
   {
    "duration": 270,
    "start_time": "2022-10-02T18:11:54.316Z"
   },
   {
    "duration": 22,
    "start_time": "2022-10-02T18:11:54.588Z"
   },
   {
    "duration": 129,
    "start_time": "2022-10-02T18:11:54.611Z"
   },
   {
    "duration": 111,
    "start_time": "2022-10-02T18:11:54.741Z"
   },
   {
    "duration": 33,
    "start_time": "2022-10-02T18:11:54.854Z"
   },
   {
    "duration": 5,
    "start_time": "2022-10-02T18:11:54.889Z"
   },
   {
    "duration": 3,
    "start_time": "2022-10-02T18:12:57.366Z"
   },
   {
    "duration": 16187,
    "start_time": "2022-10-02T18:13:03.064Z"
   },
   {
    "duration": 1437,
    "start_time": "2022-10-02T18:15:45.325Z"
   },
   {
    "duration": 1107,
    "start_time": "2022-10-02T18:15:46.764Z"
   },
   {
    "duration": 131,
    "start_time": "2022-10-02T18:15:47.873Z"
   },
   {
    "duration": 104,
    "start_time": "2022-10-02T18:15:48.009Z"
   },
   {
    "duration": 33,
    "start_time": "2022-10-02T18:15:48.116Z"
   },
   {
    "duration": 1692,
    "start_time": "2022-10-02T18:15:48.151Z"
   },
   {
    "duration": 14,
    "start_time": "2022-10-02T18:15:49.844Z"
   },
   {
    "duration": 400,
    "start_time": "2022-10-02T18:15:49.860Z"
   },
   {
    "duration": 478,
    "start_time": "2022-10-02T18:15:50.263Z"
   },
   {
    "duration": 42,
    "start_time": "2022-10-02T18:15:50.742Z"
   },
   {
    "duration": 58,
    "start_time": "2022-10-02T18:15:50.785Z"
   },
   {
    "duration": 83,
    "start_time": "2022-10-02T18:15:50.844Z"
   },
   {
    "duration": 4,
    "start_time": "2022-10-02T18:15:50.930Z"
   },
   {
    "duration": 26,
    "start_time": "2022-10-02T18:15:50.937Z"
   },
   {
    "duration": 20,
    "start_time": "2022-10-02T18:15:50.964Z"
   },
   {
    "duration": 14,
    "start_time": "2022-10-02T18:15:50.985Z"
   },
   {
    "duration": 29,
    "start_time": "2022-10-02T18:15:51.001Z"
   },
   {
    "duration": 31,
    "start_time": "2022-10-02T18:15:51.032Z"
   },
   {
    "duration": 23,
    "start_time": "2022-10-02T18:15:51.065Z"
   },
   {
    "duration": 15,
    "start_time": "2022-10-02T18:15:51.090Z"
   },
   {
    "duration": 21,
    "start_time": "2022-10-02T18:15:51.107Z"
   },
   {
    "duration": 20,
    "start_time": "2022-10-02T18:15:51.130Z"
   },
   {
    "duration": 23,
    "start_time": "2022-10-02T18:15:51.152Z"
   },
   {
    "duration": 43,
    "start_time": "2022-10-02T18:15:51.177Z"
   },
   {
    "duration": 166,
    "start_time": "2022-10-02T18:15:51.221Z"
   },
   {
    "duration": 74,
    "start_time": "2022-10-02T18:15:51.389Z"
   },
   {
    "duration": 236,
    "start_time": "2022-10-02T18:15:51.464Z"
   },
   {
    "duration": 22,
    "start_time": "2022-10-02T18:15:51.701Z"
   },
   {
    "duration": 59,
    "start_time": "2022-10-02T18:15:51.725Z"
   },
   {
    "duration": 3,
    "start_time": "2022-10-02T18:15:51.786Z"
   },
   {
    "duration": 344,
    "start_time": "2022-10-02T18:15:51.791Z"
   },
   {
    "duration": 23,
    "start_time": "2022-10-02T18:15:52.137Z"
   },
   {
    "duration": 138,
    "start_time": "2022-10-02T18:15:52.162Z"
   },
   {
    "duration": 117,
    "start_time": "2022-10-02T18:15:52.302Z"
   },
   {
    "duration": 40,
    "start_time": "2022-10-02T18:15:52.421Z"
   },
   {
    "duration": 6,
    "start_time": "2022-10-02T18:15:52.464Z"
   },
   {
    "duration": 14592,
    "start_time": "2022-10-02T18:15:57.023Z"
   },
   {
    "duration": 3,
    "start_time": "2022-10-02T18:16:25.765Z"
   },
   {
    "duration": 1553,
    "start_time": "2022-10-02T18:16:36.838Z"
   },
   {
    "duration": 97804,
    "start_time": "2022-10-02T18:17:09.041Z"
   },
   {
    "duration": 3,
    "start_time": "2022-10-02T18:18:59.786Z"
   },
   {
    "duration": 2,
    "start_time": "2022-10-02T18:19:01.170Z"
   },
   {
    "duration": 32669,
    "start_time": "2022-10-02T18:19:03.268Z"
   },
   {
    "duration": 45,
    "start_time": "2022-10-02T18:19:35.939Z"
   },
   {
    "duration": 54,
    "start_time": "2022-10-02T18:19:36.744Z"
   },
   {
    "duration": 2,
    "start_time": "2022-10-02T18:19:40.144Z"
   },
   {
    "duration": 3,
    "start_time": "2022-10-02T18:19:41.869Z"
   },
   {
    "duration": 64721,
    "start_time": "2022-10-02T18:19:50.177Z"
   },
   {
    "duration": 1393,
    "start_time": "2022-10-02T18:28:49.064Z"
   },
   {
    "duration": 938,
    "start_time": "2022-10-02T18:28:50.459Z"
   },
   {
    "duration": 123,
    "start_time": "2022-10-02T18:28:51.399Z"
   },
   {
    "duration": 95,
    "start_time": "2022-10-02T18:28:51.524Z"
   },
   {
    "duration": 21,
    "start_time": "2022-10-02T18:28:51.620Z"
   },
   {
    "duration": 1539,
    "start_time": "2022-10-02T18:28:51.643Z"
   },
   {
    "duration": 13,
    "start_time": "2022-10-02T18:28:53.183Z"
   },
   {
    "duration": 325,
    "start_time": "2022-10-02T18:28:53.198Z"
   },
   {
    "duration": 439,
    "start_time": "2022-10-02T18:28:53.525Z"
   },
   {
    "duration": 49,
    "start_time": "2022-10-02T18:28:53.967Z"
   },
   {
    "duration": 33,
    "start_time": "2022-10-02T18:28:54.017Z"
   },
   {
    "duration": 62,
    "start_time": "2022-10-02T18:28:54.052Z"
   },
   {
    "duration": 3,
    "start_time": "2022-10-02T18:28:54.117Z"
   },
   {
    "duration": 5,
    "start_time": "2022-10-02T18:28:54.122Z"
   },
   {
    "duration": 4,
    "start_time": "2022-10-02T18:28:54.129Z"
   },
   {
    "duration": 6,
    "start_time": "2022-10-02T18:28:54.134Z"
   },
   {
    "duration": 8,
    "start_time": "2022-10-02T18:28:54.141Z"
   },
   {
    "duration": 6,
    "start_time": "2022-10-02T18:28:54.152Z"
   },
   {
    "duration": 6,
    "start_time": "2022-10-02T18:28:54.159Z"
   },
   {
    "duration": 8,
    "start_time": "2022-10-02T18:28:54.166Z"
   },
   {
    "duration": 9,
    "start_time": "2022-10-02T18:28:54.175Z"
   },
   {
    "duration": 5,
    "start_time": "2022-10-02T18:28:54.185Z"
   },
   {
    "duration": 17,
    "start_time": "2022-10-02T18:28:54.192Z"
   },
   {
    "duration": 28,
    "start_time": "2022-10-02T18:28:54.211Z"
   },
   {
    "duration": 155,
    "start_time": "2022-10-02T18:28:54.241Z"
   },
   {
    "duration": 63,
    "start_time": "2022-10-02T18:28:54.397Z"
   },
   {
    "duration": 200,
    "start_time": "2022-10-02T18:28:54.462Z"
   },
   {
    "duration": 13,
    "start_time": "2022-10-02T18:28:54.665Z"
   },
   {
    "duration": 65,
    "start_time": "2022-10-02T18:28:54.679Z"
   },
   {
    "duration": 3,
    "start_time": "2022-10-02T18:28:54.745Z"
   },
   {
    "duration": 272,
    "start_time": "2022-10-02T18:28:54.749Z"
   },
   {
    "duration": 21,
    "start_time": "2022-10-02T18:28:55.023Z"
   },
   {
    "duration": 133,
    "start_time": "2022-10-02T18:28:55.045Z"
   },
   {
    "duration": 102,
    "start_time": "2022-10-02T18:28:55.180Z"
   },
   {
    "duration": 32,
    "start_time": "2022-10-02T18:28:55.284Z"
   },
   {
    "duration": 4,
    "start_time": "2022-10-02T18:28:55.318Z"
   },
   {
    "duration": 122,
    "start_time": "2022-10-02T18:29:00.491Z"
   },
   {
    "duration": 3,
    "start_time": "2022-10-02T18:29:38.629Z"
   },
   {
    "duration": 8,
    "start_time": "2022-10-02T18:29:41.352Z"
   },
   {
    "duration": 3,
    "start_time": "2022-10-02T18:29:48.027Z"
   },
   {
    "duration": 2,
    "start_time": "2022-10-02T18:30:09.519Z"
   },
   {
    "duration": 0,
    "start_time": "2022-10-02T18:49:07.681Z"
   },
   {
    "duration": 1518,
    "start_time": "2022-10-02T18:51:14.445Z"
   },
   {
    "duration": 954,
    "start_time": "2022-10-02T18:51:15.965Z"
   },
   {
    "duration": 128,
    "start_time": "2022-10-02T18:51:16.922Z"
   },
   {
    "duration": 116,
    "start_time": "2022-10-02T18:51:17.052Z"
   },
   {
    "duration": 21,
    "start_time": "2022-10-02T18:51:17.170Z"
   },
   {
    "duration": 1536,
    "start_time": "2022-10-02T18:51:17.193Z"
   },
   {
    "duration": 13,
    "start_time": "2022-10-02T18:51:18.730Z"
   },
   {
    "duration": 324,
    "start_time": "2022-10-02T18:51:18.744Z"
   },
   {
    "duration": 452,
    "start_time": "2022-10-02T18:51:19.070Z"
   },
   {
    "duration": 44,
    "start_time": "2022-10-02T18:51:19.524Z"
   },
   {
    "duration": 46,
    "start_time": "2022-10-02T18:51:19.569Z"
   },
   {
    "duration": 42,
    "start_time": "2022-10-02T18:51:19.617Z"
   },
   {
    "duration": 2,
    "start_time": "2022-10-02T18:51:19.661Z"
   },
   {
    "duration": 5,
    "start_time": "2022-10-02T18:51:19.666Z"
   },
   {
    "duration": 7,
    "start_time": "2022-10-02T18:51:19.672Z"
   },
   {
    "duration": 5,
    "start_time": "2022-10-02T18:51:19.680Z"
   },
   {
    "duration": 5,
    "start_time": "2022-10-02T18:51:19.686Z"
   },
   {
    "duration": 3,
    "start_time": "2022-10-02T18:51:19.709Z"
   },
   {
    "duration": 4,
    "start_time": "2022-10-02T18:51:19.714Z"
   },
   {
    "duration": 9,
    "start_time": "2022-10-02T18:51:19.720Z"
   },
   {
    "duration": 5,
    "start_time": "2022-10-02T18:51:19.730Z"
   },
   {
    "duration": 7,
    "start_time": "2022-10-02T18:51:19.736Z"
   },
   {
    "duration": 6,
    "start_time": "2022-10-02T18:51:19.744Z"
   },
   {
    "duration": 31,
    "start_time": "2022-10-02T18:51:19.752Z"
   },
   {
    "duration": 163,
    "start_time": "2022-10-02T18:51:19.785Z"
   },
   {
    "duration": 75,
    "start_time": "2022-10-02T18:51:19.950Z"
   },
   {
    "duration": 193,
    "start_time": "2022-10-02T18:51:20.027Z"
   },
   {
    "duration": 14,
    "start_time": "2022-10-02T18:51:20.222Z"
   },
   {
    "duration": 50,
    "start_time": "2022-10-02T18:51:20.237Z"
   },
   {
    "duration": 20,
    "start_time": "2022-10-02T18:51:20.289Z"
   },
   {
    "duration": 294,
    "start_time": "2022-10-02T18:51:20.312Z"
   },
   {
    "duration": 27,
    "start_time": "2022-10-02T18:51:20.609Z"
   },
   {
    "duration": 130,
    "start_time": "2022-10-02T18:51:20.638Z"
   },
   {
    "duration": 118,
    "start_time": "2022-10-02T18:51:20.769Z"
   },
   {
    "duration": 36,
    "start_time": "2022-10-02T18:51:20.888Z"
   },
   {
    "duration": 5,
    "start_time": "2022-10-02T18:51:20.925Z"
   },
   {
    "duration": 3,
    "start_time": "2022-10-02T18:51:25.434Z"
   },
   {
    "duration": 4,
    "start_time": "2022-10-02T18:51:26.803Z"
   },
   {
    "duration": 3,
    "start_time": "2022-10-02T18:51:29.648Z"
   },
   {
    "duration": 601576,
    "start_time": "2022-10-02T18:51:35.603Z"
   },
   {
    "duration": 2,
    "start_time": "2022-10-02T19:07:00.133Z"
   },
   {
    "duration": 772062,
    "start_time": "2022-10-02T19:07:01.572Z"
   },
   {
    "duration": 4,
    "start_time": "2022-10-02T19:19:53.636Z"
   },
   {
    "duration": 5,
    "start_time": "2022-10-02T19:20:54.442Z"
   },
   {
    "duration": 3,
    "start_time": "2022-10-02T19:22:33.530Z"
   },
   {
    "duration": 9,
    "start_time": "2022-10-02T19:23:05.827Z"
   },
   {
    "duration": 12,
    "start_time": "2022-10-02T19:23:28.021Z"
   },
   {
    "duration": 9,
    "start_time": "2022-10-02T19:23:33.695Z"
   },
   {
    "duration": 20,
    "start_time": "2022-10-02T19:23:56.347Z"
   },
   {
    "duration": 10,
    "start_time": "2022-10-02T19:24:34.225Z"
   },
   {
    "duration": 8,
    "start_time": "2022-10-02T19:27:52.097Z"
   },
   {
    "duration": 3,
    "start_time": "2022-10-02T19:29:24.804Z"
   },
   {
    "duration": 3,
    "start_time": "2022-10-02T19:29:31.750Z"
   },
   {
    "duration": 4,
    "start_time": "2022-10-02T19:29:46.471Z"
   },
   {
    "duration": 3,
    "start_time": "2022-10-02T19:30:54.286Z"
   },
   {
    "duration": 3,
    "start_time": "2022-10-02T19:30:58.771Z"
   },
   {
    "duration": 31,
    "start_time": "2022-10-02T19:32:04.290Z"
   },
   {
    "duration": 10,
    "start_time": "2022-10-02T19:32:24.854Z"
   },
   {
    "duration": 18,
    "start_time": "2022-10-02T19:32:28.408Z"
   },
   {
    "duration": 8,
    "start_time": "2022-10-02T19:33:46.432Z"
   },
   {
    "duration": 9,
    "start_time": "2022-10-02T19:34:46.900Z"
   },
   {
    "duration": 23,
    "start_time": "2022-10-02T19:34:50.167Z"
   },
   {
    "duration": 34,
    "start_time": "2022-10-02T19:35:15.973Z"
   },
   {
    "duration": 8,
    "start_time": "2022-10-02T19:35:23.717Z"
   },
   {
    "duration": 4,
    "start_time": "2022-10-02T19:35:33.019Z"
   },
   {
    "duration": 7,
    "start_time": "2022-10-02T19:35:36.382Z"
   },
   {
    "duration": 22,
    "start_time": "2022-10-02T19:35:57.584Z"
   },
   {
    "duration": 9,
    "start_time": "2022-10-02T19:36:16.584Z"
   },
   {
    "duration": 12,
    "start_time": "2022-10-02T19:36:20.881Z"
   },
   {
    "duration": 4,
    "start_time": "2022-10-02T19:37:08.448Z"
   },
   {
    "duration": 12,
    "start_time": "2022-10-02T19:37:12.476Z"
   },
   {
    "duration": 4,
    "start_time": "2022-10-02T19:37:27.197Z"
   },
   {
    "duration": 7,
    "start_time": "2022-10-02T19:37:31.770Z"
   },
   {
    "duration": 8,
    "start_time": "2022-10-02T19:37:47.768Z"
   },
   {
    "duration": 9,
    "start_time": "2022-10-02T19:37:55.095Z"
   },
   {
    "duration": 4,
    "start_time": "2022-10-02T19:38:31.529Z"
   },
   {
    "duration": 4,
    "start_time": "2022-10-02T19:39:23.108Z"
   },
   {
    "duration": 4,
    "start_time": "2022-10-02T19:39:26.475Z"
   },
   {
    "duration": 62,
    "start_time": "2022-10-02T19:40:43.005Z"
   },
   {
    "duration": 27,
    "start_time": "2022-10-02T19:40:49.221Z"
   },
   {
    "duration": 42,
    "start_time": "2022-10-02T19:40:54.941Z"
   },
   {
    "duration": 40,
    "start_time": "2022-10-02T19:41:03.646Z"
   },
   {
    "duration": 14,
    "start_time": "2022-10-02T19:41:22.664Z"
   },
   {
    "duration": 12,
    "start_time": "2022-10-02T19:42:07.285Z"
   },
   {
    "duration": 8,
    "start_time": "2022-10-02T19:44:28.570Z"
   },
   {
    "duration": 4,
    "start_time": "2022-10-02T19:44:50.866Z"
   },
   {
    "duration": 3,
    "start_time": "2022-10-02T19:46:30.023Z"
   },
   {
    "duration": 8,
    "start_time": "2022-10-02T19:46:30.732Z"
   },
   {
    "duration": 3,
    "start_time": "2022-10-02T19:47:45.061Z"
   },
   {
    "duration": 2,
    "start_time": "2022-10-02T19:47:45.935Z"
   },
   {
    "duration": 3,
    "start_time": "2022-10-02T19:47:48.842Z"
   },
   {
    "duration": 3682409,
    "start_time": "2022-10-02T19:47:54.879Z"
   },
   {
    "duration": 4,
    "start_time": "2022-10-03T03:07:43.058Z"
   },
   {
    "duration": 11,
    "start_time": "2022-10-03T03:07:52.041Z"
   },
   {
    "duration": 4,
    "start_time": "2022-10-03T03:08:02.415Z"
   },
   {
    "duration": 3,
    "start_time": "2022-10-03T03:08:11.077Z"
   },
   {
    "duration": 9,
    "start_time": "2022-10-03T03:08:12.707Z"
   },
   {
    "duration": 4,
    "start_time": "2022-10-03T03:08:19.724Z"
   },
   {
    "duration": 9,
    "start_time": "2022-10-03T03:08:21.183Z"
   },
   {
    "duration": 2,
    "start_time": "2022-10-03T12:34:16.124Z"
   },
   {
    "duration": 9,
    "start_time": "2022-10-03T13:05:43.300Z"
   },
   {
    "duration": 8612,
    "start_time": "2022-10-03T13:06:41.799Z"
   },
   {
    "duration": 13,
    "start_time": "2022-10-03T13:10:23.780Z"
   },
   {
    "duration": 8,
    "start_time": "2022-10-03T13:10:37.470Z"
   },
   {
    "duration": 14,
    "start_time": "2022-10-03T13:13:02.780Z"
   },
   {
    "duration": 7830,
    "start_time": "2022-10-03T13:13:09.381Z"
   },
   {
    "duration": 7839,
    "start_time": "2022-10-03T13:13:36.776Z"
   },
   {
    "duration": 4,
    "start_time": "2022-10-03T13:13:52.656Z"
   },
   {
    "duration": 12,
    "start_time": "2022-10-03T13:13:53.730Z"
   },
   {
    "duration": 4,
    "start_time": "2022-10-03T14:10:15.988Z"
   },
   {
    "duration": 4,
    "start_time": "2022-10-03T14:20:53.744Z"
   },
   {
    "duration": 4,
    "start_time": "2022-10-03T14:21:54.989Z"
   },
   {
    "duration": 3,
    "start_time": "2022-10-03T15:26:17.368Z"
   },
   {
    "duration": 3,
    "start_time": "2022-10-03T15:27:11.861Z"
   },
   {
    "duration": 2,
    "start_time": "2022-10-03T15:27:19.858Z"
   },
   {
    "duration": 8,
    "start_time": "2022-10-03T15:27:31.663Z"
   },
   {
    "duration": 5,
    "start_time": "2022-10-03T15:27:59.351Z"
   },
   {
    "duration": 3,
    "start_time": "2022-10-03T15:28:04.761Z"
   },
   {
    "duration": 14,
    "start_time": "2022-10-03T15:29:07.141Z"
   },
   {
    "duration": 2724578,
    "start_time": "2022-10-03T15:34:55.315Z"
   },
   {
    "duration": 0,
    "start_time": "2022-10-03T16:20:19.896Z"
   },
   {
    "duration": 10,
    "start_time": "2022-10-03T16:21:30.248Z"
   },
   {
    "duration": 9,
    "start_time": "2022-10-03T16:21:58.905Z"
   },
   {
    "duration": 8,
    "start_time": "2022-10-03T16:23:06.086Z"
   },
   {
    "duration": 7742807,
    "start_time": "2022-10-03T16:24:37.189Z"
   },
   {
    "duration": 3,
    "start_time": "2022-10-03T18:33:39.998Z"
   },
   {
    "duration": 19,
    "start_time": "2022-10-03T18:33:40.003Z"
   },
   {
    "duration": 1880,
    "start_time": "2022-10-04T12:51:36.591Z"
   },
   {
    "duration": 1514,
    "start_time": "2022-10-04T12:51:38.473Z"
   },
   {
    "duration": 136,
    "start_time": "2022-10-04T12:51:39.989Z"
   },
   {
    "duration": 135,
    "start_time": "2022-10-04T12:51:40.128Z"
   },
   {
    "duration": 41,
    "start_time": "2022-10-04T12:51:40.265Z"
   },
   {
    "duration": 1658,
    "start_time": "2022-10-04T12:51:40.308Z"
   },
   {
    "duration": 18,
    "start_time": "2022-10-04T12:51:41.968Z"
   },
   {
    "duration": 387,
    "start_time": "2022-10-04T12:51:41.988Z"
   },
   {
    "duration": 678,
    "start_time": "2022-10-04T12:51:42.378Z"
   },
   {
    "duration": 58,
    "start_time": "2022-10-04T12:51:43.059Z"
   },
   {
    "duration": 86,
    "start_time": "2022-10-04T12:51:43.119Z"
   },
   {
    "duration": 66,
    "start_time": "2022-10-04T12:51:43.207Z"
   },
   {
    "duration": 3,
    "start_time": "2022-10-04T12:51:43.275Z"
   },
   {
    "duration": 9,
    "start_time": "2022-10-04T12:51:43.279Z"
   },
   {
    "duration": 8,
    "start_time": "2022-10-04T12:51:43.290Z"
   },
   {
    "duration": 6,
    "start_time": "2022-10-04T12:51:43.300Z"
   },
   {
    "duration": 13,
    "start_time": "2022-10-04T12:51:43.308Z"
   },
   {
    "duration": 13,
    "start_time": "2022-10-04T12:51:43.323Z"
   },
   {
    "duration": 7,
    "start_time": "2022-10-04T12:51:43.337Z"
   },
   {
    "duration": 9,
    "start_time": "2022-10-04T12:51:43.346Z"
   },
   {
    "duration": 8,
    "start_time": "2022-10-04T12:51:43.357Z"
   },
   {
    "duration": 12,
    "start_time": "2022-10-04T12:51:43.367Z"
   },
   {
    "duration": 14,
    "start_time": "2022-10-04T12:51:43.380Z"
   },
   {
    "duration": 42,
    "start_time": "2022-10-04T12:51:43.396Z"
   },
   {
    "duration": 147,
    "start_time": "2022-10-04T12:51:43.440Z"
   },
   {
    "duration": 71,
    "start_time": "2022-10-04T12:51:43.589Z"
   },
   {
    "duration": 200,
    "start_time": "2022-10-04T12:51:43.662Z"
   },
   {
    "duration": 17,
    "start_time": "2022-10-04T12:51:43.865Z"
   },
   {
    "duration": 87,
    "start_time": "2022-10-04T12:51:43.884Z"
   },
   {
    "duration": 3,
    "start_time": "2022-10-04T12:51:43.973Z"
   },
   {
    "duration": 276,
    "start_time": "2022-10-04T12:51:43.978Z"
   },
   {
    "duration": 25,
    "start_time": "2022-10-04T12:51:44.256Z"
   },
   {
    "duration": 140,
    "start_time": "2022-10-04T12:51:44.283Z"
   },
   {
    "duration": 133,
    "start_time": "2022-10-04T12:51:44.425Z"
   },
   {
    "duration": 37,
    "start_time": "2022-10-04T12:51:44.560Z"
   },
   {
    "duration": 6,
    "start_time": "2022-10-04T12:51:44.598Z"
   },
   {
    "duration": 19,
    "start_time": "2022-10-04T12:51:44.605Z"
   },
   {
    "duration": 28,
    "start_time": "2022-10-04T12:51:44.626Z"
   },
   {
    "duration": 3,
    "start_time": "2022-10-04T12:53:20.500Z"
   },
   {
    "duration": 5,
    "start_time": "2022-10-04T12:54:25.654Z"
   },
   {
    "duration": 149,
    "start_time": "2022-10-04T12:56:44.542Z"
   },
   {
    "duration": 25,
    "start_time": "2022-10-04T12:56:47.956Z"
   },
   {
    "duration": 30,
    "start_time": "2022-10-04T12:56:53.806Z"
   },
   {
    "duration": 117,
    "start_time": "2022-10-04T12:57:05.861Z"
   },
   {
    "duration": 31,
    "start_time": "2022-10-04T12:57:08.840Z"
   },
   {
    "duration": 5720,
    "start_time": "2022-10-04T13:00:20.345Z"
   },
   {
    "duration": 5,
    "start_time": "2022-10-04T13:01:21.677Z"
   },
   {
    "duration": 50,
    "start_time": "2022-10-04T13:03:09.827Z"
   },
   {
    "duration": 5,
    "start_time": "2022-10-04T13:03:35.232Z"
   },
   {
    "duration": 3,
    "start_time": "2022-10-04T13:07:41.215Z"
   },
   {
    "duration": 4,
    "start_time": "2022-10-04T13:07:49.013Z"
   },
   {
    "duration": 6,
    "start_time": "2022-10-04T13:07:49.707Z"
   },
   {
    "duration": 3,
    "start_time": "2022-10-04T13:07:56.141Z"
   },
   {
    "duration": 3,
    "start_time": "2022-10-04T13:08:29.072Z"
   },
   {
    "duration": 3,
    "start_time": "2022-10-04T13:08:30.133Z"
   },
   {
    "duration": 16,
    "start_time": "2022-10-04T13:08:30.721Z"
   },
   {
    "duration": 3,
    "start_time": "2022-10-04T13:08:53.009Z"
   },
   {
    "duration": 3,
    "start_time": "2022-10-04T13:08:58.378Z"
   },
   {
    "duration": 4,
    "start_time": "2022-10-04T13:08:59.130Z"
   },
   {
    "duration": 6,
    "start_time": "2022-10-04T13:09:02.675Z"
   },
   {
    "duration": 8,
    "start_time": "2022-10-04T13:09:10.253Z"
   },
   {
    "duration": 5,
    "start_time": "2022-10-04T13:12:43.415Z"
   },
   {
    "duration": 11,
    "start_time": "2022-10-04T13:13:00.961Z"
   },
   {
    "duration": 38217,
    "start_time": "2022-10-04T13:13:08.628Z"
   },
   {
    "duration": 5,
    "start_time": "2022-10-04T13:13:56.611Z"
   },
   {
    "duration": 5,
    "start_time": "2022-10-04T13:14:16.248Z"
   },
   {
    "duration": 3,
    "start_time": "2022-10-04T13:14:48.972Z"
   },
   {
    "duration": 7602,
    "start_time": "2022-10-04T13:14:51.368Z"
   },
   {
    "duration": 3,
    "start_time": "2022-10-04T13:15:03.027Z"
   },
   {
    "duration": 5,
    "start_time": "2022-10-04T13:15:06.019Z"
   },
   {
    "duration": 12,
    "start_time": "2022-10-04T13:15:16.724Z"
   },
   {
    "duration": 16,
    "start_time": "2022-10-04T13:15:17.951Z"
   },
   {
    "duration": 2,
    "start_time": "2022-10-04T13:17:17.662Z"
   },
   {
    "duration": 7,
    "start_time": "2022-10-04T13:21:53.892Z"
   },
   {
    "duration": 18799,
    "start_time": "2022-10-04T13:22:05.302Z"
   },
   {
    "duration": 4,
    "start_time": "2022-10-04T13:24:49.438Z"
   },
   {
    "duration": 5,
    "start_time": "2022-10-04T13:24:53.922Z"
   },
   {
    "duration": 5,
    "start_time": "2022-10-04T13:25:03.638Z"
   },
   {
    "duration": 18381,
    "start_time": "2022-10-04T13:25:23.041Z"
   },
   {
    "duration": 3,
    "start_time": "2022-10-04T13:25:43.601Z"
   },
   {
    "duration": 35539,
    "start_time": "2022-10-04T13:25:44.249Z"
   },
   {
    "duration": 2592,
    "start_time": "2022-10-04T13:30:53.464Z"
   },
   {
    "duration": 11,
    "start_time": "2022-10-04T13:31:19.325Z"
   },
   {
    "duration": 10,
    "start_time": "2022-10-04T13:34:21.295Z"
   },
   {
    "duration": 11,
    "start_time": "2022-10-04T13:34:31.267Z"
   },
   {
    "duration": 9,
    "start_time": "2022-10-04T13:35:09.155Z"
   },
   {
    "duration": 30,
    "start_time": "2022-10-04T13:35:49.925Z"
   },
   {
    "duration": 10,
    "start_time": "2022-10-04T13:36:07.789Z"
   },
   {
    "duration": 4,
    "start_time": "2022-10-04T13:36:21.921Z"
   },
   {
    "duration": 12,
    "start_time": "2022-10-04T13:36:48.181Z"
   },
   {
    "duration": 56,
    "start_time": "2022-10-04T13:37:38.500Z"
   },
   {
    "duration": 5,
    "start_time": "2022-10-04T13:37:41.297Z"
   },
   {
    "duration": 11,
    "start_time": "2022-10-04T13:38:29.005Z"
   },
   {
    "duration": 12,
    "start_time": "2022-10-04T13:38:44.605Z"
   },
   {
    "duration": 4,
    "start_time": "2022-10-04T13:39:32.516Z"
   },
   {
    "duration": 11,
    "start_time": "2022-10-04T13:39:37.100Z"
   },
   {
    "duration": 3,
    "start_time": "2022-10-04T13:41:01.055Z"
   },
   {
    "duration": 12,
    "start_time": "2022-10-04T13:41:23.806Z"
   },
   {
    "duration": 4,
    "start_time": "2022-10-04T13:41:44.365Z"
   },
   {
    "duration": 4,
    "start_time": "2022-10-04T13:41:44.976Z"
   },
   {
    "duration": 8,
    "start_time": "2022-10-04T13:42:17.347Z"
   },
   {
    "duration": 9,
    "start_time": "2022-10-04T13:42:38.228Z"
   },
   {
    "duration": 12,
    "start_time": "2022-10-04T13:43:36.126Z"
   },
   {
    "duration": 7,
    "start_time": "2022-10-04T13:48:45.173Z"
   },
   {
    "duration": 4,
    "start_time": "2022-10-04T13:49:27.927Z"
   },
   {
    "duration": 10,
    "start_time": "2022-10-04T13:49:32.139Z"
   },
   {
    "duration": 8,
    "start_time": "2022-10-04T13:49:41.106Z"
   },
   {
    "duration": 5,
    "start_time": "2022-10-04T13:50:02.720Z"
   },
   {
    "duration": 8,
    "start_time": "2022-10-04T13:50:09.577Z"
   },
   {
    "duration": 95182,
    "start_time": "2022-10-04T13:51:16.027Z"
   },
   {
    "duration": 3,
    "start_time": "2022-10-04T14:01:00.097Z"
   },
   {
    "duration": 34,
    "start_time": "2022-10-04T14:01:02.244Z"
   },
   {
    "duration": 4,
    "start_time": "2022-10-04T14:02:15.244Z"
   },
   {
    "duration": 30,
    "start_time": "2022-10-04T14:02:17.185Z"
   },
   {
    "duration": 4,
    "start_time": "2022-10-04T14:04:08.050Z"
   },
   {
    "duration": 30,
    "start_time": "2022-10-04T14:04:08.862Z"
   },
   {
    "duration": 5,
    "start_time": "2022-10-04T14:05:49.955Z"
   },
   {
    "duration": 29,
    "start_time": "2022-10-04T14:05:50.489Z"
   },
   {
    "duration": 4,
    "start_time": "2022-10-04T14:06:31.868Z"
   },
   {
    "duration": 3,
    "start_time": "2022-10-04T14:06:47.208Z"
   },
   {
    "duration": 29,
    "start_time": "2022-10-04T14:06:47.832Z"
   },
   {
    "duration": 33,
    "start_time": "2022-10-04T14:07:07.796Z"
   },
   {
    "duration": 3,
    "start_time": "2022-10-04T14:07:10.336Z"
   },
   {
    "duration": 4,
    "start_time": "2022-10-04T14:07:11.009Z"
   },
   {
    "duration": 48,
    "start_time": "2022-10-04T14:07:11.418Z"
   },
   {
    "duration": 5,
    "start_time": "2022-10-04T14:07:42.575Z"
   },
   {
    "duration": 4,
    "start_time": "2022-10-04T14:08:00.820Z"
   },
   {
    "duration": 28609,
    "start_time": "2022-10-04T14:08:01.544Z"
   },
   {
    "duration": 3,
    "start_time": "2022-10-04T14:28:20.153Z"
   },
   {
    "duration": 132061,
    "start_time": "2022-10-04T14:28:22.422Z"
   },
   {
    "duration": 2,
    "start_time": "2022-10-04T15:07:22.772Z"
   },
   {
    "duration": 4,
    "start_time": "2022-10-04T15:07:24.653Z"
   },
   {
    "duration": 146516,
    "start_time": "2022-10-04T15:07:26.510Z"
   },
   {
    "duration": 4,
    "start_time": "2022-10-04T15:33:37.224Z"
   },
   {
    "duration": 4,
    "start_time": "2022-10-04T15:34:52.876Z"
   },
   {
    "duration": 6,
    "start_time": "2022-10-04T15:34:59.451Z"
   },
   {
    "duration": 12,
    "start_time": "2022-10-04T15:40:06.451Z"
   },
   {
    "duration": 5,
    "start_time": "2022-10-04T15:41:04.260Z"
   },
   {
    "duration": 10,
    "start_time": "2022-10-04T15:41:13.571Z"
   },
   {
    "duration": 11,
    "start_time": "2022-10-04T15:42:33.577Z"
   },
   {
    "duration": 11,
    "start_time": "2022-10-04T15:42:49.231Z"
   },
   {
    "duration": 8,
    "start_time": "2022-10-04T18:45:07.426Z"
   },
   {
    "duration": 3,
    "start_time": "2022-10-04T18:45:33.408Z"
   },
   {
    "duration": 45,
    "start_time": "2022-10-04T18:45:39.536Z"
   },
   {
    "duration": 1603,
    "start_time": "2022-10-04T18:45:45.772Z"
   },
   {
    "duration": 1144,
    "start_time": "2022-10-04T18:45:47.377Z"
   },
   {
    "duration": 120,
    "start_time": "2022-10-04T18:45:48.523Z"
   },
   {
    "duration": 95,
    "start_time": "2022-10-04T18:45:48.644Z"
   },
   {
    "duration": 17,
    "start_time": "2022-10-04T18:45:48.741Z"
   },
   {
    "duration": 1450,
    "start_time": "2022-10-04T18:45:48.759Z"
   },
   {
    "duration": 11,
    "start_time": "2022-10-04T18:45:50.210Z"
   },
   {
    "duration": 287,
    "start_time": "2022-10-04T18:45:50.222Z"
   },
   {
    "duration": 346,
    "start_time": "2022-10-04T18:45:50.511Z"
   },
   {
    "duration": 38,
    "start_time": "2022-10-04T18:45:50.859Z"
   },
   {
    "duration": 42,
    "start_time": "2022-10-04T18:45:50.910Z"
   },
   {
    "duration": 54,
    "start_time": "2022-10-04T18:45:50.954Z"
   },
   {
    "duration": 3,
    "start_time": "2022-10-04T18:45:51.010Z"
   },
   {
    "duration": 6,
    "start_time": "2022-10-04T18:45:51.015Z"
   },
   {
    "duration": 4,
    "start_time": "2022-10-04T18:45:51.023Z"
   },
   {
    "duration": 4,
    "start_time": "2022-10-04T18:45:51.029Z"
   },
   {
    "duration": 7,
    "start_time": "2022-10-04T18:45:51.035Z"
   },
   {
    "duration": 8,
    "start_time": "2022-10-04T18:45:51.043Z"
   },
   {
    "duration": 10,
    "start_time": "2022-10-04T18:45:51.053Z"
   },
   {
    "duration": 5,
    "start_time": "2022-10-04T18:45:51.065Z"
   },
   {
    "duration": 4,
    "start_time": "2022-10-04T18:45:51.072Z"
   },
   {
    "duration": 9,
    "start_time": "2022-10-04T18:45:51.078Z"
   },
   {
    "duration": 5,
    "start_time": "2022-10-04T18:45:51.089Z"
   },
   {
    "duration": 25,
    "start_time": "2022-10-04T18:45:51.109Z"
   },
   {
    "duration": 147,
    "start_time": "2022-10-04T18:45:51.136Z"
   },
   {
    "duration": 59,
    "start_time": "2022-10-04T18:45:51.284Z"
   },
   {
    "duration": 174,
    "start_time": "2022-10-04T18:45:51.344Z"
   },
   {
    "duration": 13,
    "start_time": "2022-10-04T18:45:51.519Z"
   },
   {
    "duration": 42,
    "start_time": "2022-10-04T18:45:51.535Z"
   },
   {
    "duration": 3,
    "start_time": "2022-10-04T18:45:51.579Z"
   },
   {
    "duration": 275,
    "start_time": "2022-10-04T18:45:51.584Z"
   },
   {
    "duration": 21,
    "start_time": "2022-10-04T18:45:51.861Z"
   },
   {
    "duration": 97,
    "start_time": "2022-10-04T18:45:51.883Z"
   },
   {
    "duration": 0,
    "start_time": "2022-10-04T18:45:51.981Z"
   },
   {
    "duration": 0,
    "start_time": "2022-10-04T18:45:51.982Z"
   },
   {
    "duration": 0,
    "start_time": "2022-10-04T18:45:51.984Z"
   },
   {
    "duration": 1,
    "start_time": "2022-10-04T18:45:51.985Z"
   },
   {
    "duration": 0,
    "start_time": "2022-10-04T18:45:51.987Z"
   },
   {
    "duration": 3,
    "start_time": "2022-10-04T18:45:55.541Z"
   },
   {
    "duration": 117,
    "start_time": "2022-10-04T18:45:57.962Z"
   },
   {
    "duration": 95,
    "start_time": "2022-10-04T18:46:33.553Z"
   },
   {
    "duration": 92,
    "start_time": "2022-10-04T18:46:35.257Z"
   },
   {
    "duration": 33,
    "start_time": "2022-10-04T18:46:36.238Z"
   },
   {
    "duration": 3,
    "start_time": "2022-10-04T18:46:42.182Z"
   },
   {
    "duration": 11,
    "start_time": "2022-10-04T18:46:44.828Z"
   },
   {
    "duration": 4,
    "start_time": "2022-10-04T18:46:47.538Z"
   },
   {
    "duration": 2,
    "start_time": "2022-10-04T18:46:50.590Z"
   },
   {
    "duration": 3839,
    "start_time": "2022-10-04T18:46:52.073Z"
   },
   {
    "duration": 11,
    "start_time": "2022-10-04T18:46:58.203Z"
   },
   {
    "duration": 1709,
    "start_time": "2022-10-04T18:47:00.006Z"
   },
   {
    "duration": 3,
    "start_time": "2022-10-04T18:47:16.484Z"
   },
   {
    "duration": 4,
    "start_time": "2022-10-04T18:47:17.524Z"
   },
   {
    "duration": 13,
    "start_time": "2022-10-04T18:47:18.374Z"
   },
   {
    "duration": 3,
    "start_time": "2022-10-04T18:47:21.470Z"
   },
   {
    "duration": 3,
    "start_time": "2022-10-04T18:47:22.025Z"
   },
   {
    "duration": 7,
    "start_time": "2022-10-04T18:47:23.156Z"
   },
   {
    "duration": 2,
    "start_time": "2022-10-04T18:47:43.270Z"
   },
   {
    "duration": 2,
    "start_time": "2022-10-04T18:47:46.054Z"
   },
   {
    "duration": 8,
    "start_time": "2022-10-04T18:47:51.602Z"
   },
   {
    "duration": 105332,
    "start_time": "2022-10-04T18:48:17.413Z"
   },
   {
    "duration": 14,
    "start_time": "2022-10-04T18:50:34.316Z"
   },
   {
    "duration": 10,
    "start_time": "2022-10-04T18:50:43.685Z"
   },
   {
    "duration": 11,
    "start_time": "2022-10-04T18:50:50.890Z"
   },
   {
    "duration": 10,
    "start_time": "2022-10-04T18:51:17.265Z"
   },
   {
    "duration": 13,
    "start_time": "2022-10-04T18:52:55.159Z"
   },
   {
    "duration": 4,
    "start_time": "2022-10-04T18:55:04.551Z"
   },
   {
    "duration": 4,
    "start_time": "2022-10-04T18:55:45.888Z"
   },
   {
    "duration": 10,
    "start_time": "2022-10-04T18:59:42.875Z"
   },
   {
    "duration": 10,
    "start_time": "2022-10-04T18:59:45.589Z"
   },
   {
    "duration": 10,
    "start_time": "2022-10-04T19:00:03.178Z"
   },
   {
    "duration": 10,
    "start_time": "2022-10-04T19:00:05.514Z"
   },
   {
    "duration": 3,
    "start_time": "2022-10-04T19:02:08.104Z"
   },
   {
    "duration": 3,
    "start_time": "2022-10-04T19:02:08.880Z"
   },
   {
    "duration": 3,
    "start_time": "2022-10-04T19:02:26.127Z"
   },
   {
    "duration": 1351665,
    "start_time": "2022-10-04T19:02:43.020Z"
   },
   {
    "duration": 4,
    "start_time": "2022-10-04T19:25:14.686Z"
   },
   {
    "duration": 3,
    "start_time": "2022-10-04T19:25:21.731Z"
   },
   {
    "duration": 2,
    "start_time": "2022-10-04T19:25:40.218Z"
   },
   {
    "duration": 10199593,
    "start_time": "2022-10-04T19:25:42.971Z"
   },
   {
    "duration": 4,
    "start_time": "2022-10-05T04:33:45.046Z"
   },
   {
    "duration": 3,
    "start_time": "2022-10-05T04:34:14.615Z"
   },
   {
    "duration": 4,
    "start_time": "2022-10-05T06:43:36.625Z"
   },
   {
    "duration": 4,
    "start_time": "2022-10-05T06:43:45.241Z"
   },
   {
    "duration": 10,
    "start_time": "2022-10-05T06:44:49.764Z"
   },
   {
    "duration": 12,
    "start_time": "2022-10-05T06:44:58.113Z"
   },
   {
    "duration": 13,
    "start_time": "2022-10-05T06:46:06.196Z"
   },
   {
    "duration": 3,
    "start_time": "2022-10-05T06:50:38.758Z"
   },
   {
    "duration": 3,
    "start_time": "2022-10-05T06:50:41.966Z"
   },
   {
    "duration": 3,
    "start_time": "2022-10-05T06:50:44.803Z"
   },
   {
    "duration": 3,
    "start_time": "2022-10-05T06:52:50.988Z"
   },
   {
    "duration": 8557228,
    "start_time": "2022-10-05T06:52:58.527Z"
   },
   {
    "duration": 4,
    "start_time": "2022-10-05T09:22:59.359Z"
   },
   {
    "duration": 10,
    "start_time": "2022-10-05T09:23:10.005Z"
   },
   {
    "duration": 9,
    "start_time": "2022-10-05T09:23:19.676Z"
   },
   {
    "duration": 12,
    "start_time": "2022-10-05T09:24:43.091Z"
   },
   {
    "duration": 11,
    "start_time": "2022-10-05T09:24:56.069Z"
   },
   {
    "duration": 13,
    "start_time": "2022-10-05T09:25:07.188Z"
   },
   {
    "duration": 6,
    "start_time": "2022-10-05T09:25:52.244Z"
   },
   {
    "duration": 4,
    "start_time": "2022-10-05T09:26:48.583Z"
   },
   {
    "duration": 8,
    "start_time": "2022-10-05T09:27:32.601Z"
   },
   {
    "duration": 3,
    "start_time": "2022-10-05T09:27:46.238Z"
   },
   {
    "duration": 4,
    "start_time": "2022-10-05T09:27:53.675Z"
   },
   {
    "duration": 8,
    "start_time": "2022-10-05T09:28:00.991Z"
   },
   {
    "duration": 3,
    "start_time": "2022-10-05T09:28:36.365Z"
   },
   {
    "duration": 4,
    "start_time": "2022-10-05T09:33:08.250Z"
   },
   {
    "duration": 10,
    "start_time": "2022-10-05T09:33:53.219Z"
   },
   {
    "duration": 4,
    "start_time": "2022-10-05T09:36:00.687Z"
   },
   {
    "duration": 4,
    "start_time": "2022-10-05T09:36:15.730Z"
   },
   {
    "duration": 3,
    "start_time": "2022-10-05T09:37:15.398Z"
   },
   {
    "duration": 8,
    "start_time": "2022-10-05T09:37:22.735Z"
   },
   {
    "duration": 9,
    "start_time": "2022-10-05T09:37:46.415Z"
   },
   {
    "duration": 10,
    "start_time": "2022-10-05T09:38:02.057Z"
   },
   {
    "duration": 10,
    "start_time": "2022-10-05T09:38:08.524Z"
   },
   {
    "duration": 4,
    "start_time": "2022-10-05T09:39:35.046Z"
   },
   {
    "duration": 9,
    "start_time": "2022-10-05T09:39:46.135Z"
   },
   {
    "duration": 3,
    "start_time": "2022-10-05T09:40:42.648Z"
   },
   {
    "duration": 40,
    "start_time": "2022-10-05T09:40:45.446Z"
   },
   {
    "duration": 71,
    "start_time": "2022-10-05T09:40:58.381Z"
   },
   {
    "duration": 8,
    "start_time": "2022-10-05T09:41:36.070Z"
   },
   {
    "duration": 12,
    "start_time": "2022-10-05T09:41:45.125Z"
   },
   {
    "duration": 9,
    "start_time": "2022-10-05T09:41:47.677Z"
   },
   {
    "duration": 4,
    "start_time": "2022-10-05T09:42:17.702Z"
   },
   {
    "duration": 3,
    "start_time": "2022-10-05T09:42:25.567Z"
   },
   {
    "duration": 38,
    "start_time": "2022-10-05T09:42:32.315Z"
   },
   {
    "duration": 65,
    "start_time": "2022-10-05T09:42:33.782Z"
   },
   {
    "duration": 4,
    "start_time": "2022-10-05T09:43:19.457Z"
   },
   {
    "duration": 9,
    "start_time": "2022-10-05T09:43:55.209Z"
   },
   {
    "duration": 10,
    "start_time": "2022-10-05T09:44:09.329Z"
   },
   {
    "duration": 9,
    "start_time": "2022-10-05T09:44:16.446Z"
   },
   {
    "duration": 9,
    "start_time": "2022-10-05T09:44:18.550Z"
   },
   {
    "duration": 2,
    "start_time": "2022-10-05T09:44:37.836Z"
   },
   {
    "duration": 3,
    "start_time": "2022-10-05T09:44:39.194Z"
   },
   {
    "duration": 3,
    "start_time": "2022-10-05T09:44:53.342Z"
   },
   {
    "duration": 4,
    "start_time": "2022-10-05T09:45:01.965Z"
   },
   {
    "duration": 3,
    "start_time": "2022-10-05T09:45:22.094Z"
   },
   {
    "duration": 4,
    "start_time": "2022-10-05T09:45:22.638Z"
   },
   {
    "duration": 4,
    "start_time": "2022-10-05T09:45:32.090Z"
   },
   {
    "duration": 4,
    "start_time": "2022-10-05T09:45:32.649Z"
   },
   {
    "duration": 3,
    "start_time": "2022-10-05T09:45:39.879Z"
   },
   {
    "duration": 4,
    "start_time": "2022-10-05T09:45:41.232Z"
   },
   {
    "duration": 41,
    "start_time": "2022-10-05T09:45:46.711Z"
   },
   {
    "duration": 62,
    "start_time": "2022-10-05T09:46:15.139Z"
   },
   {
    "duration": 8,
    "start_time": "2022-10-05T09:46:40.054Z"
   },
   {
    "duration": 10,
    "start_time": "2022-10-05T09:46:49.590Z"
   },
   {
    "duration": 9,
    "start_time": "2022-10-05T09:46:52.391Z"
   },
   {
    "duration": 4,
    "start_time": "2022-10-05T09:47:12.048Z"
   },
   {
    "duration": 4,
    "start_time": "2022-10-05T09:47:15.088Z"
   },
   {
    "duration": 6,
    "start_time": "2022-10-05T09:48:24.337Z"
   },
   {
    "duration": 64,
    "start_time": "2022-10-05T09:48:29.196Z"
   },
   {
    "duration": 32,
    "start_time": "2022-10-05T09:48:55.047Z"
   },
   {
    "duration": 8,
    "start_time": "2022-10-05T09:49:17.816Z"
   },
   {
    "duration": 7,
    "start_time": "2022-10-05T09:49:32.999Z"
   },
   {
    "duration": 8,
    "start_time": "2022-10-05T09:49:41.898Z"
   },
   {
    "duration": 6,
    "start_time": "2022-10-05T09:49:56.886Z"
   },
   {
    "duration": 9,
    "start_time": "2022-10-05T09:49:57.672Z"
   },
   {
    "duration": 10,
    "start_time": "2022-10-05T09:50:17.708Z"
   },
   {
    "duration": 4,
    "start_time": "2022-10-05T09:51:36.824Z"
   },
   {
    "duration": 10,
    "start_time": "2022-10-05T09:54:43.063Z"
   },
   {
    "duration": 6,
    "start_time": "2022-10-05T09:54:50.206Z"
   },
   {
    "duration": 64,
    "start_time": "2022-10-05T09:54:51.638Z"
   },
   {
    "duration": 10,
    "start_time": "2022-10-05T09:55:39.705Z"
   },
   {
    "duration": 5,
    "start_time": "2022-10-05T09:55:43.779Z"
   },
   {
    "duration": 81,
    "start_time": "2022-10-05T09:55:44.468Z"
   },
   {
    "duration": 8,
    "start_time": "2022-10-05T09:56:20.154Z"
   },
   {
    "duration": 7,
    "start_time": "2022-10-05T09:56:24.775Z"
   },
   {
    "duration": 9,
    "start_time": "2022-10-05T09:56:28.310Z"
   },
   {
    "duration": 4,
    "start_time": "2022-10-05T09:56:40.239Z"
   },
   {
    "duration": 4,
    "start_time": "2022-10-05T09:56:40.973Z"
   },
   {
    "duration": 9,
    "start_time": "2022-10-05T09:56:42.087Z"
   },
   {
    "duration": 7,
    "start_time": "2022-10-05T09:56:49.077Z"
   },
   {
    "duration": 5,
    "start_time": "2022-10-05T09:56:49.615Z"
   },
   {
    "duration": 11,
    "start_time": "2022-10-05T09:56:50.771Z"
   },
   {
    "duration": 4,
    "start_time": "2022-10-05T09:57:08.461Z"
   },
   {
    "duration": 2,
    "start_time": "2022-10-05T09:57:22.768Z"
   },
   {
    "duration": 7,
    "start_time": "2022-10-05T09:57:29.764Z"
   },
   {
    "duration": 64,
    "start_time": "2022-10-05T09:57:32.093Z"
   },
   {
    "duration": 4,
    "start_time": "2022-10-05T09:57:50.070Z"
   },
   {
    "duration": 1057,
    "start_time": "2022-10-05T09:59:10.878Z"
   },
   {
    "duration": 4,
    "start_time": "2022-10-05T09:59:16.842Z"
   },
   {
    "duration": 75,
    "start_time": "2022-10-05T09:59:24.607Z"
   },
   {
    "duration": 4,
    "start_time": "2022-10-05T09:59:52.001Z"
   },
   {
    "duration": 5,
    "start_time": "2022-10-05T09:59:59.802Z"
   },
   {
    "duration": 65,
    "start_time": "2022-10-05T10:00:02.029Z"
   },
   {
    "duration": 15,
    "start_time": "2022-10-05T10:00:37.649Z"
   },
   {
    "duration": 63,
    "start_time": "2022-10-05T10:00:43.655Z"
   },
   {
    "duration": 8,
    "start_time": "2022-10-05T10:02:15.948Z"
   },
   {
    "duration": 8,
    "start_time": "2022-10-05T10:02:24.571Z"
   },
   {
    "duration": 10,
    "start_time": "2022-10-05T10:02:26.488Z"
   },
   {
    "duration": 9,
    "start_time": "2022-10-05T10:03:50.182Z"
   },
   {
    "duration": 15,
    "start_time": "2022-10-05T10:03:50.786Z"
   },
   {
    "duration": 2,
    "start_time": "2022-10-05T10:04:29.324Z"
   },
   {
    "duration": 9,
    "start_time": "2022-10-05T10:04:35.736Z"
   },
   {
    "duration": 10,
    "start_time": "2022-10-05T10:04:37.756Z"
   },
   {
    "duration": 8,
    "start_time": "2022-10-05T10:04:55.592Z"
   },
   {
    "duration": 12,
    "start_time": "2022-10-05T10:04:56.309Z"
   },
   {
    "duration": 4,
    "start_time": "2022-10-05T10:05:00.271Z"
   },
   {
    "duration": 3,
    "start_time": "2022-10-05T10:05:22.789Z"
   },
   {
    "duration": 8,
    "start_time": "2022-10-05T10:05:31.611Z"
   },
   {
    "duration": 4,
    "start_time": "2022-10-05T10:05:59.818Z"
   },
   {
    "duration": 8,
    "start_time": "2022-10-05T10:06:52.790Z"
   },
   {
    "duration": 3,
    "start_time": "2022-10-05T10:09:29.806Z"
   },
   {
    "duration": 2,
    "start_time": "2022-10-05T10:09:31.560Z"
   },
   {
    "duration": 10230881,
    "start_time": "2022-10-05T10:09:44.703Z"
   },
   {
    "duration": 4,
    "start_time": "2022-10-05T13:10:27.798Z"
   },
   {
    "duration": 3,
    "start_time": "2022-10-05T13:10:32.464Z"
   },
   {
    "duration": 7,
    "start_time": "2022-10-05T13:10:34.070Z"
   },
   {
    "duration": 68,
    "start_time": "2022-10-05T13:10:38.123Z"
   },
   {
    "duration": 8,
    "start_time": "2022-10-05T13:10:53.149Z"
   },
   {
    "duration": 7,
    "start_time": "2022-10-05T13:10:57.108Z"
   },
   {
    "duration": 8,
    "start_time": "2022-10-05T13:10:57.683Z"
   },
   {
    "duration": 7,
    "start_time": "2022-10-05T13:11:09.070Z"
   },
   {
    "duration": 10,
    "start_time": "2022-10-05T13:11:09.601Z"
   },
   {
    "duration": 7,
    "start_time": "2022-10-05T13:11:16.195Z"
   },
   {
    "duration": 65,
    "start_time": "2022-10-05T13:11:16.912Z"
   },
   {
    "duration": 5,
    "start_time": "2022-10-05T13:12:24.558Z"
   },
   {
    "duration": 5,
    "start_time": "2022-10-05T13:12:40.836Z"
   },
   {
    "duration": 2,
    "start_time": "2022-10-05T13:13:16.553Z"
   },
   {
    "duration": 8,
    "start_time": "2022-10-05T13:13:21.272Z"
   },
   {
    "duration": 116,
    "start_time": "2022-10-05T13:13:22.340Z"
   },
   {
    "duration": 10,
    "start_time": "2022-10-05T13:13:52.570Z"
   },
   {
    "duration": 0,
    "start_time": "2022-10-05T13:13:52.582Z"
   },
   {
    "duration": 65,
    "start_time": "2022-10-05T13:13:52.587Z"
   },
   {
    "duration": 12,
    "start_time": "2022-10-05T13:13:52.654Z"
   },
   {
    "duration": 0,
    "start_time": "2022-10-05T13:13:52.669Z"
   },
   {
    "duration": 0,
    "start_time": "2022-10-05T13:13:52.670Z"
   },
   {
    "duration": 0,
    "start_time": "2022-10-05T13:13:52.671Z"
   },
   {
    "duration": 0,
    "start_time": "2022-10-05T13:13:52.672Z"
   },
   {
    "duration": 0,
    "start_time": "2022-10-05T13:13:52.674Z"
   },
   {
    "duration": 0,
    "start_time": "2022-10-05T13:13:52.675Z"
   },
   {
    "duration": 0,
    "start_time": "2022-10-05T13:13:52.677Z"
   },
   {
    "duration": 0,
    "start_time": "2022-10-05T13:13:52.678Z"
   },
   {
    "duration": 0,
    "start_time": "2022-10-05T13:13:52.679Z"
   },
   {
    "duration": 28,
    "start_time": "2022-10-05T13:13:52.681Z"
   },
   {
    "duration": 3,
    "start_time": "2022-10-05T13:13:52.716Z"
   },
   {
    "duration": 5,
    "start_time": "2022-10-05T13:13:52.721Z"
   },
   {
    "duration": 3,
    "start_time": "2022-10-05T13:13:52.747Z"
   },
   {
    "duration": 18,
    "start_time": "2022-10-05T13:13:52.752Z"
   },
   {
    "duration": 10,
    "start_time": "2022-10-05T13:13:52.772Z"
   },
   {
    "duration": 8,
    "start_time": "2022-10-05T13:13:52.783Z"
   },
   {
    "duration": 5,
    "start_time": "2022-10-05T13:13:52.792Z"
   },
   {
    "duration": 3,
    "start_time": "2022-10-05T13:13:52.813Z"
   },
   {
    "duration": 6,
    "start_time": "2022-10-05T13:13:52.818Z"
   },
   {
    "duration": 16,
    "start_time": "2022-10-05T13:13:52.826Z"
   },
   {
    "duration": 114,
    "start_time": "2022-10-05T13:13:52.866Z"
   },
   {
    "duration": 51,
    "start_time": "2022-10-05T13:13:52.982Z"
   },
   {
    "duration": 210,
    "start_time": "2022-10-05T13:13:53.034Z"
   },
   {
    "duration": 17,
    "start_time": "2022-10-05T13:13:53.245Z"
   },
   {
    "duration": 64,
    "start_time": "2022-10-05T13:13:53.264Z"
   },
   {
    "duration": 3,
    "start_time": "2022-10-05T13:13:53.330Z"
   },
   {
    "duration": 264,
    "start_time": "2022-10-05T13:13:53.334Z"
   },
   {
    "duration": 17,
    "start_time": "2022-10-05T13:13:53.599Z"
   },
   {
    "duration": 111,
    "start_time": "2022-10-05T13:13:53.617Z"
   },
   {
    "duration": 103,
    "start_time": "2022-10-05T13:13:53.730Z"
   },
   {
    "duration": 28,
    "start_time": "2022-10-05T13:13:53.835Z"
   },
   {
    "duration": 4,
    "start_time": "2022-10-05T13:13:53.864Z"
   },
   {
    "duration": 33,
    "start_time": "2022-10-05T13:13:53.869Z"
   },
   {
    "duration": 24,
    "start_time": "2022-10-05T13:13:53.904Z"
   },
   {
    "duration": 8,
    "start_time": "2022-10-05T13:14:17.264Z"
   },
   {
    "duration": 65,
    "start_time": "2022-10-05T13:14:20.722Z"
   },
   {
    "duration": 5,
    "start_time": "2022-10-05T13:15:02.602Z"
   },
   {
    "duration": 1593,
    "start_time": "2022-10-05T13:17:08.888Z"
   },
   {
    "duration": 0,
    "start_time": "2022-10-05T13:17:10.484Z"
   },
   {
    "duration": 0,
    "start_time": "2022-10-05T13:17:10.485Z"
   },
   {
    "duration": 0,
    "start_time": "2022-10-05T13:17:10.486Z"
   },
   {
    "duration": 0,
    "start_time": "2022-10-05T13:17:10.486Z"
   },
   {
    "duration": 0,
    "start_time": "2022-10-05T13:17:10.488Z"
   },
   {
    "duration": 0,
    "start_time": "2022-10-05T13:17:10.488Z"
   },
   {
    "duration": 0,
    "start_time": "2022-10-05T13:17:10.489Z"
   },
   {
    "duration": 0,
    "start_time": "2022-10-05T13:17:10.490Z"
   },
   {
    "duration": 0,
    "start_time": "2022-10-05T13:17:10.491Z"
   },
   {
    "duration": 0,
    "start_time": "2022-10-05T13:17:10.492Z"
   },
   {
    "duration": 0,
    "start_time": "2022-10-05T13:17:10.493Z"
   },
   {
    "duration": 0,
    "start_time": "2022-10-05T13:17:10.493Z"
   },
   {
    "duration": 0,
    "start_time": "2022-10-05T13:17:10.494Z"
   },
   {
    "duration": 0,
    "start_time": "2022-10-05T13:17:10.495Z"
   },
   {
    "duration": 0,
    "start_time": "2022-10-05T13:17:10.509Z"
   },
   {
    "duration": 0,
    "start_time": "2022-10-05T13:17:10.510Z"
   },
   {
    "duration": 0,
    "start_time": "2022-10-05T13:17:10.511Z"
   },
   {
    "duration": 0,
    "start_time": "2022-10-05T13:17:10.511Z"
   },
   {
    "duration": 0,
    "start_time": "2022-10-05T13:17:10.512Z"
   },
   {
    "duration": 0,
    "start_time": "2022-10-05T13:17:10.513Z"
   },
   {
    "duration": 0,
    "start_time": "2022-10-05T13:17:10.514Z"
   },
   {
    "duration": 0,
    "start_time": "2022-10-05T13:17:10.514Z"
   },
   {
    "duration": 0,
    "start_time": "2022-10-05T13:17:10.515Z"
   },
   {
    "duration": 0,
    "start_time": "2022-10-05T13:17:10.516Z"
   },
   {
    "duration": 0,
    "start_time": "2022-10-05T13:17:10.517Z"
   },
   {
    "duration": 0,
    "start_time": "2022-10-05T13:17:10.517Z"
   },
   {
    "duration": 0,
    "start_time": "2022-10-05T13:17:10.518Z"
   },
   {
    "duration": 0,
    "start_time": "2022-10-05T13:17:10.519Z"
   },
   {
    "duration": 0,
    "start_time": "2022-10-05T13:17:10.520Z"
   },
   {
    "duration": 0,
    "start_time": "2022-10-05T13:17:10.520Z"
   },
   {
    "duration": 0,
    "start_time": "2022-10-05T13:17:10.521Z"
   },
   {
    "duration": 0,
    "start_time": "2022-10-05T13:17:10.522Z"
   },
   {
    "duration": 0,
    "start_time": "2022-10-05T13:17:10.523Z"
   },
   {
    "duration": 0,
    "start_time": "2022-10-05T13:17:10.523Z"
   },
   {
    "duration": 4,
    "start_time": "2022-10-05T13:17:26.417Z"
   },
   {
    "duration": 12,
    "start_time": "2022-10-05T13:17:38.073Z"
   },
   {
    "duration": 2,
    "start_time": "2022-10-05T13:17:47.109Z"
   },
   {
    "duration": 12,
    "start_time": "2022-10-05T13:17:47.943Z"
   },
   {
    "duration": 4,
    "start_time": "2022-10-05T13:18:38.133Z"
   },
   {
    "duration": 1036,
    "start_time": "2022-10-05T13:18:38.141Z"
   },
   {
    "duration": 120,
    "start_time": "2022-10-05T13:18:39.179Z"
   },
   {
    "duration": 91,
    "start_time": "2022-10-05T13:18:39.301Z"
   },
   {
    "duration": 33,
    "start_time": "2022-10-05T13:18:39.394Z"
   },
   {
    "duration": 1500,
    "start_time": "2022-10-05T13:18:39.429Z"
   },
   {
    "duration": 13,
    "start_time": "2022-10-05T13:18:40.930Z"
   },
   {
    "duration": 336,
    "start_time": "2022-10-05T13:18:40.944Z"
   },
   {
    "duration": 497,
    "start_time": "2022-10-05T13:18:41.282Z"
   },
   {
    "duration": 47,
    "start_time": "2022-10-05T13:18:41.780Z"
   },
   {
    "duration": 29,
    "start_time": "2022-10-05T13:18:41.831Z"
   },
   {
    "duration": 63,
    "start_time": "2022-10-05T13:18:41.861Z"
   },
   {
    "duration": 2,
    "start_time": "2022-10-05T13:18:41.926Z"
   },
   {
    "duration": 7,
    "start_time": "2022-10-05T13:18:41.929Z"
   },
   {
    "duration": 7,
    "start_time": "2022-10-05T13:18:41.937Z"
   },
   {
    "duration": 4,
    "start_time": "2022-10-05T13:18:41.946Z"
   },
   {
    "duration": 5,
    "start_time": "2022-10-05T13:18:41.952Z"
   },
   {
    "duration": 7,
    "start_time": "2022-10-05T13:18:41.958Z"
   },
   {
    "duration": 6,
    "start_time": "2022-10-05T13:18:41.966Z"
   },
   {
    "duration": 11,
    "start_time": "2022-10-05T13:18:41.973Z"
   },
   {
    "duration": 6,
    "start_time": "2022-10-05T13:18:41.985Z"
   },
   {
    "duration": 4,
    "start_time": "2022-10-05T13:18:41.993Z"
   },
   {
    "duration": 11,
    "start_time": "2022-10-05T13:18:41.998Z"
   },
   {
    "duration": 30,
    "start_time": "2022-10-05T13:18:42.011Z"
   },
   {
    "duration": 146,
    "start_time": "2022-10-05T13:18:42.042Z"
   },
   {
    "duration": 60,
    "start_time": "2022-10-05T13:18:42.190Z"
   },
   {
    "duration": 203,
    "start_time": "2022-10-05T13:18:42.252Z"
   },
   {
    "duration": 15,
    "start_time": "2022-10-05T13:18:42.456Z"
   },
   {
    "duration": 60,
    "start_time": "2022-10-05T13:18:42.474Z"
   },
   {
    "duration": 3,
    "start_time": "2022-10-05T13:18:42.535Z"
   },
   {
    "duration": 271,
    "start_time": "2022-10-05T13:18:42.539Z"
   },
   {
    "duration": 18,
    "start_time": "2022-10-05T13:18:42.812Z"
   },
   {
    "duration": 132,
    "start_time": "2022-10-05T13:18:42.831Z"
   },
   {
    "duration": 103,
    "start_time": "2022-10-05T13:18:42.965Z"
   },
   {
    "duration": 26,
    "start_time": "2022-10-05T13:18:43.070Z"
   },
   {
    "duration": 12,
    "start_time": "2022-10-05T13:18:43.097Z"
   },
   {
    "duration": 20,
    "start_time": "2022-10-05T13:18:43.112Z"
   },
   {
    "duration": 9,
    "start_time": "2022-10-05T13:18:43.133Z"
   },
   {
    "duration": 6,
    "start_time": "2022-10-05T13:18:43.143Z"
   },
   {
    "duration": 5364,
    "start_time": "2022-10-05T13:18:43.151Z"
   },
   {
    "duration": 11,
    "start_time": "2022-10-05T13:18:48.519Z"
   },
   {
    "duration": 110,
    "start_time": "2022-10-05T13:18:48.611Z"
   },
   {
    "duration": 1890,
    "start_time": "2022-10-05T13:18:48.723Z"
   },
   {
    "duration": 4,
    "start_time": "2022-10-05T13:18:50.614Z"
   },
   {
    "duration": 110,
    "start_time": "2022-10-05T13:18:50.620Z"
   },
   {
    "duration": 20,
    "start_time": "2022-10-05T13:18:50.732Z"
   },
   {
    "duration": 4,
    "start_time": "2022-10-05T13:18:50.754Z"
   },
   {
    "duration": 7,
    "start_time": "2022-10-05T13:18:50.759Z"
   },
   {
    "duration": 13,
    "start_time": "2022-10-05T13:18:50.767Z"
   },
   {
    "duration": 7,
    "start_time": "2022-10-05T13:18:50.782Z"
   },
   {
    "duration": 8,
    "start_time": "2022-10-05T13:18:50.791Z"
   },
   {
    "duration": 3913,
    "start_time": "2022-10-05T13:18:50.801Z"
   },
   {
    "duration": 3,
    "start_time": "2022-10-05T13:18:54.715Z"
   },
   {
    "duration": 7,
    "start_time": "2022-10-05T13:18:54.721Z"
   },
   {
    "duration": 22,
    "start_time": "2022-10-05T13:18:54.730Z"
   },
   {
    "duration": 28,
    "start_time": "2022-10-05T13:18:54.754Z"
   },
   {
    "duration": 4,
    "start_time": "2022-10-05T13:18:54.784Z"
   },
   {
    "duration": 8,
    "start_time": "2022-10-05T13:18:54.790Z"
   },
   {
    "duration": 137148,
    "start_time": "2022-10-05T13:18:54.800Z"
   },
   {
    "duration": 2,
    "start_time": "2022-10-05T13:21:11.950Z"
   },
   {
    "duration": 6,
    "start_time": "2022-10-05T13:21:11.954Z"
   },
   {
    "duration": 14,
    "start_time": "2022-10-05T13:21:11.961Z"
   },
   {
    "duration": 0,
    "start_time": "2022-10-05T13:21:11.976Z"
   },
   {
    "duration": 0,
    "start_time": "2022-10-05T13:21:11.977Z"
   },
   {
    "duration": 2,
    "start_time": "2022-10-05T13:21:31.811Z"
   },
   {
    "duration": 5,
    "start_time": "2022-10-05T13:21:32.917Z"
   },
   {
    "duration": 7,
    "start_time": "2022-10-05T13:21:42.023Z"
   },
   {
    "duration": 85,
    "start_time": "2022-10-05T13:21:43.395Z"
   },
   {
    "duration": 3,
    "start_time": "2022-10-05T13:23:09.571Z"
   },
   {
    "duration": 3285,
    "start_time": "2022-10-05T13:23:11.343Z"
   },
   {
    "duration": 3,
    "start_time": "2022-10-05T13:23:19.795Z"
   },
   {
    "duration": 4,
    "start_time": "2022-10-05T13:23:21.163Z"
   },
   {
    "duration": 8,
    "start_time": "2022-10-05T13:23:26.083Z"
   },
   {
    "duration": 81,
    "start_time": "2022-10-05T13:23:27.010Z"
   },
   {
    "duration": 3,
    "start_time": "2022-10-05T13:28:00.835Z"
   },
   {
    "duration": 3,
    "start_time": "2022-10-05T13:28:02.051Z"
   },
   {
    "duration": 3,
    "start_time": "2022-10-05T13:28:02.970Z"
   },
   {
    "duration": 635939,
    "start_time": "2022-10-05T13:28:05.075Z"
   },
   {
    "duration": 3,
    "start_time": "2022-10-05T13:39:59.282Z"
   },
   {
    "duration": 8,
    "start_time": "2022-10-05T13:40:03.837Z"
   },
   {
    "duration": 67,
    "start_time": "2022-10-05T13:40:04.991Z"
   },
   {
    "duration": 5,
    "start_time": "2022-10-05T13:40:48.227Z"
   },
   {
    "duration": 8,
    "start_time": "2022-10-05T13:41:20.382Z"
   },
   {
    "duration": 3,
    "start_time": "2022-10-05T13:41:39.884Z"
   },
   {
    "duration": 17,
    "start_time": "2022-10-05T13:41:48.769Z"
   },
   {
    "duration": 4,
    "start_time": "2022-10-05T13:41:57.901Z"
   },
   {
    "duration": 4,
    "start_time": "2022-10-05T13:42:02.473Z"
   },
   {
    "duration": 12,
    "start_time": "2022-10-05T13:42:12.024Z"
   },
   {
    "duration": 8,
    "start_time": "2022-10-05T13:42:35.500Z"
   },
   {
    "duration": 6,
    "start_time": "2022-10-05T13:42:38.568Z"
   },
   {
    "duration": 8,
    "start_time": "2022-10-05T13:43:11.132Z"
   },
   {
    "duration": 7,
    "start_time": "2022-10-05T13:43:22.150Z"
   },
   {
    "duration": 9,
    "start_time": "2022-10-05T13:43:22.635Z"
   },
   {
    "duration": 8,
    "start_time": "2022-10-05T13:43:31.837Z"
   },
   {
    "duration": 9,
    "start_time": "2022-10-05T13:43:33.636Z"
   },
   {
    "duration": 7,
    "start_time": "2022-10-05T13:43:56.853Z"
   },
   {
    "duration": 9,
    "start_time": "2022-10-05T13:43:57.538Z"
   },
   {
    "duration": 7,
    "start_time": "2022-10-05T13:44:28.627Z"
   },
   {
    "duration": 10,
    "start_time": "2022-10-05T13:44:29.123Z"
   },
   {
    "duration": 4,
    "start_time": "2022-10-05T13:45:20.840Z"
   },
   {
    "duration": 9,
    "start_time": "2022-10-05T13:45:21.844Z"
   },
   {
    "duration": 7,
    "start_time": "2022-10-05T13:45:25.579Z"
   },
   {
    "duration": 9,
    "start_time": "2022-10-05T13:48:48.715Z"
   },
   {
    "duration": 9,
    "start_time": "2022-10-05T13:48:50.280Z"
   },
   {
    "duration": 4,
    "start_time": "2022-10-05T13:49:34.895Z"
   },
   {
    "duration": 12,
    "start_time": "2022-10-05T13:49:36.508Z"
   },
   {
    "duration": 8,
    "start_time": "2022-10-05T13:50:15.529Z"
   },
   {
    "duration": 3,
    "start_time": "2022-10-05T13:50:51.520Z"
   },
   {
    "duration": 10,
    "start_time": "2022-10-05T13:50:58.033Z"
   },
   {
    "duration": 10,
    "start_time": "2022-10-05T13:51:01.856Z"
   },
   {
    "duration": 8,
    "start_time": "2022-10-05T13:51:16.668Z"
   },
   {
    "duration": 8,
    "start_time": "2022-10-05T13:51:23.703Z"
   },
   {
    "duration": 5,
    "start_time": "2022-10-05T13:53:14.643Z"
   },
   {
    "duration": 143,
    "start_time": "2022-10-05T14:03:21.911Z"
   },
   {
    "duration": 24,
    "start_time": "2022-10-05T14:06:36.663Z"
   },
   {
    "duration": 3,
    "start_time": "2022-10-05T14:09:38.627Z"
   },
   {
    "duration": 189554,
    "start_time": "2022-10-05T14:30:33.008Z"
   },
   {
    "duration": 17,
    "start_time": "2022-10-05T14:35:58.927Z"
   },
   {
    "duration": 10,
    "start_time": "2022-10-05T14:36:19.507Z"
   },
   {
    "duration": 8,
    "start_time": "2022-10-05T14:36:32.945Z"
   },
   {
    "duration": 10,
    "start_time": "2022-10-05T14:36:34.243Z"
   },
   {
    "duration": 10,
    "start_time": "2022-10-05T14:38:02.423Z"
   },
   {
    "duration": 13,
    "start_time": "2022-10-05T14:38:38.120Z"
   },
   {
    "duration": 3,
    "start_time": "2022-10-05T14:39:36.239Z"
   },
   {
    "duration": 8,
    "start_time": "2022-10-05T14:39:39.449Z"
   },
   {
    "duration": 2,
    "start_time": "2022-10-05T14:40:57.167Z"
   },
   {
    "duration": 2,
    "start_time": "2022-10-05T14:40:58.369Z"
   },
   {
    "duration": 2,
    "start_time": "2022-10-05T14:41:02.833Z"
   },
   {
    "duration": 196140,
    "start_time": "2022-10-05T14:41:05.305Z"
   },
   {
    "duration": 8,
    "start_time": "2022-10-05T14:44:28.444Z"
   },
   {
    "duration": 2,
    "start_time": "2022-10-05T14:44:31.335Z"
   },
   {
    "duration": 10,
    "start_time": "2022-10-05T14:44:35.768Z"
   },
   {
    "duration": 9,
    "start_time": "2022-10-05T14:44:45.103Z"
   },
   {
    "duration": 3,
    "start_time": "2022-10-05T14:51:55.124Z"
   },
   {
    "duration": 2,
    "start_time": "2022-10-05T14:52:09.856Z"
   },
   {
    "duration": 4,
    "start_time": "2022-10-05T14:54:08.793Z"
   },
   {
    "duration": 63,
    "start_time": "2022-10-05T14:54:39.586Z"
   },
   {
    "duration": 872,
    "start_time": "2022-10-05T14:54:46.124Z"
   },
   {
    "duration": 114,
    "start_time": "2022-10-05T14:54:50.137Z"
   },
   {
    "duration": 1427,
    "start_time": "2022-10-05T14:56:06.876Z"
   },
   {
    "duration": 755,
    "start_time": "2022-10-05T14:56:19.101Z"
   },
   {
    "duration": 27,
    "start_time": "2022-10-05T14:57:00.588Z"
   },
   {
    "duration": 63,
    "start_time": "2022-10-05T14:58:40.306Z"
   },
   {
    "duration": 72,
    "start_time": "2022-10-05T14:59:05.678Z"
   },
   {
    "duration": 120,
    "start_time": "2022-10-05T14:59:37.564Z"
   },
   {
    "duration": 107,
    "start_time": "2022-10-05T15:02:28.705Z"
   },
   {
    "duration": 126,
    "start_time": "2022-10-05T15:02:38.056Z"
   },
   {
    "duration": 108,
    "start_time": "2022-10-05T15:02:49.353Z"
   },
   {
    "duration": 105,
    "start_time": "2022-10-05T15:03:02.760Z"
   },
   {
    "duration": 86,
    "start_time": "2022-10-05T15:08:28.239Z"
   },
   {
    "duration": 84,
    "start_time": "2022-10-05T15:08:34.383Z"
   },
   {
    "duration": 58,
    "start_time": "2022-10-05T15:12:46.172Z"
   },
   {
    "duration": 1369,
    "start_time": "2022-10-05T15:12:51.830Z"
   },
   {
    "duration": 746,
    "start_time": "2022-10-05T15:12:53.200Z"
   },
   {
    "duration": 24,
    "start_time": "2022-10-05T15:12:53.950Z"
   },
   {
    "duration": 117,
    "start_time": "2022-10-05T15:12:53.977Z"
   },
   {
    "duration": 116,
    "start_time": "2022-10-05T15:12:54.096Z"
   },
   {
    "duration": 69,
    "start_time": "2022-10-05T15:12:54.214Z"
   },
   {
    "duration": 20,
    "start_time": "2022-10-05T15:12:56.742Z"
   },
   {
    "duration": 123,
    "start_time": "2022-10-05T15:13:42.198Z"
   },
   {
    "duration": 122,
    "start_time": "2022-10-05T15:13:49.049Z"
   },
   {
    "duration": 1427,
    "start_time": "2022-10-05T15:15:01.166Z"
   },
   {
    "duration": 13,
    "start_time": "2022-10-05T15:15:45.600Z"
   },
   {
    "duration": 310,
    "start_time": "2022-10-05T15:15:46.113Z"
   },
   {
    "duration": 91,
    "start_time": "2022-10-05T15:16:09.471Z"
   },
   {
    "duration": 188,
    "start_time": "2022-10-05T15:16:13.542Z"
   },
   {
    "duration": 91,
    "start_time": "2022-10-05T15:16:19.827Z"
   },
   {
    "duration": 62,
    "start_time": "2022-10-05T15:16:27.381Z"
   },
   {
    "duration": 111,
    "start_time": "2022-10-05T15:16:30.934Z"
   },
   {
    "duration": 411,
    "start_time": "2022-10-05T15:16:43.484Z"
   },
   {
    "duration": 381,
    "start_time": "2022-10-05T15:19:47.893Z"
   },
   {
    "duration": 409,
    "start_time": "2022-10-05T15:19:52.042Z"
   },
   {
    "duration": 7,
    "start_time": "2022-10-05T15:19:59.119Z"
   },
   {
    "duration": 31,
    "start_time": "2022-10-05T15:20:02.585Z"
   },
   {
    "duration": 49,
    "start_time": "2022-10-05T15:20:24.606Z"
   },
   {
    "duration": 84,
    "start_time": "2022-10-07T08:24:54.488Z"
   },
   {
    "duration": 87,
    "start_time": "2022-10-07T08:58:57.382Z"
   },
   {
    "duration": 1777,
    "start_time": "2022-10-07T09:02:12.881Z"
   },
   {
    "duration": 5,
    "start_time": "2022-10-07T09:02:36.662Z"
   },
   {
    "duration": 1454,
    "start_time": "2022-10-07T09:07:19.113Z"
   },
   {
    "duration": 3,
    "start_time": "2022-10-07T09:07:34.224Z"
   },
   {
    "duration": 2844,
    "start_time": "2022-10-07T09:07:36.168Z"
   },
   {
    "duration": 27,
    "start_time": "2022-10-07T09:07:45.890Z"
   },
   {
    "duration": 114,
    "start_time": "2022-10-07T09:21:04.441Z"
   },
   {
    "duration": 5,
    "start_time": "2022-10-07T09:21:39.881Z"
   },
   {
    "duration": 100,
    "start_time": "2022-10-07T09:29:03.327Z"
   },
   {
    "duration": 76,
    "start_time": "2022-10-07T09:30:57.767Z"
   },
   {
    "duration": 60,
    "start_time": "2022-10-07T09:31:28.614Z"
   },
   {
    "duration": 393,
    "start_time": "2022-10-07T09:35:40.274Z"
   },
   {
    "duration": 26,
    "start_time": "2022-10-07T09:35:46.444Z"
   },
   {
    "duration": 170,
    "start_time": "2022-10-07T09:36:35.437Z"
   },
   {
    "duration": 160,
    "start_time": "2022-10-07T09:36:56.118Z"
   },
   {
    "duration": 94,
    "start_time": "2022-10-07T09:37:09.017Z"
   },
   {
    "duration": 258,
    "start_time": "2022-10-07T09:37:18.368Z"
   },
   {
    "duration": 161,
    "start_time": "2022-10-07T09:37:53.826Z"
   },
   {
    "duration": 163,
    "start_time": "2022-10-07T09:38:04.349Z"
   },
   {
    "duration": 50,
    "start_time": "2022-10-07T09:47:10.266Z"
   },
   {
    "duration": 1311,
    "start_time": "2022-10-07T09:56:09.550Z"
   },
   {
    "duration": 27,
    "start_time": "2022-10-07T09:57:12.362Z"
   },
   {
    "duration": 1426,
    "start_time": "2022-10-07T09:57:18.787Z"
   },
   {
    "duration": 51,
    "start_time": "2022-10-07T14:31:14.563Z"
   },
   {
    "duration": 1728,
    "start_time": "2022-10-07T14:31:19.281Z"
   },
   {
    "duration": 2,
    "start_time": "2022-10-07T14:31:21.011Z"
   },
   {
    "duration": 1043,
    "start_time": "2022-10-07T14:31:21.015Z"
   },
   {
    "duration": 24,
    "start_time": "2022-10-07T14:31:22.060Z"
   },
   {
    "duration": 109,
    "start_time": "2022-10-07T14:31:22.085Z"
   },
   {
    "duration": 108,
    "start_time": "2022-10-07T14:31:22.196Z"
   },
   {
    "duration": 66,
    "start_time": "2022-10-07T14:31:22.309Z"
   },
   {
    "duration": 200,
    "start_time": "2022-10-07T14:31:22.377Z"
   },
   {
    "duration": 1626,
    "start_time": "2022-10-07T14:31:25.634Z"
   },
   {
    "duration": 1631,
    "start_time": "2022-10-07T14:31:39.293Z"
   },
   {
    "duration": 13,
    "start_time": "2022-10-07T14:35:25.730Z"
   },
   {
    "duration": 450,
    "start_time": "2022-10-07T14:35:26.534Z"
   },
   {
    "duration": 409,
    "start_time": "2022-10-07T14:35:36.675Z"
   },
   {
    "duration": 428,
    "start_time": "2022-10-07T14:35:45.009Z"
   },
   {
    "duration": 100,
    "start_time": "2022-10-07T14:41:17.654Z"
   },
   {
    "duration": 21,
    "start_time": "2022-10-07T14:53:36.654Z"
   },
   {
    "duration": 177,
    "start_time": "2022-10-07T14:55:16.408Z"
   },
   {
    "duration": 25,
    "start_time": "2022-10-07T14:55:27.241Z"
   },
   {
    "duration": 279,
    "start_time": "2022-10-07T14:55:43.654Z"
   },
   {
    "duration": 15,
    "start_time": "2022-10-07T14:55:56.365Z"
   },
   {
    "duration": 14,
    "start_time": "2022-10-07T14:56:11.058Z"
   },
   {
    "duration": 12,
    "start_time": "2022-10-07T14:56:33.931Z"
   },
   {
    "duration": 9,
    "start_time": "2022-10-07T14:56:35.994Z"
   },
   {
    "duration": 9,
    "start_time": "2022-10-07T14:56:48.349Z"
   },
   {
    "duration": 87,
    "start_time": "2022-10-07T14:56:50.935Z"
   },
   {
    "duration": 436,
    "start_time": "2022-10-07T14:59:23.389Z"
   },
   {
    "duration": 380,
    "start_time": "2022-10-07T14:59:28.014Z"
   },
   {
    "duration": 8,
    "start_time": "2022-10-07T14:59:39.545Z"
   },
   {
    "duration": 54,
    "start_time": "2022-10-07T14:59:45.948Z"
   },
   {
    "duration": 73,
    "start_time": "2022-10-07T14:59:48.984Z"
   },
   {
    "duration": 11,
    "start_time": "2022-10-07T15:02:13.773Z"
   },
   {
    "duration": 14,
    "start_time": "2022-10-07T15:02:24.867Z"
   },
   {
    "duration": 11,
    "start_time": "2022-10-07T15:15:47.990Z"
   },
   {
    "duration": 10,
    "start_time": "2022-10-07T15:15:55.945Z"
   },
   {
    "duration": 11,
    "start_time": "2022-10-07T15:16:13.439Z"
   },
   {
    "duration": 49,
    "start_time": "2022-10-07T15:16:56.190Z"
   },
   {
    "duration": 26,
    "start_time": "2022-10-07T15:17:13.827Z"
   },
   {
    "duration": 19,
    "start_time": "2022-10-07T15:17:59.042Z"
   },
   {
    "duration": 17,
    "start_time": "2022-10-07T15:18:03.667Z"
   },
   {
    "duration": 17,
    "start_time": "2022-10-07T15:18:14.786Z"
   },
   {
    "duration": 10,
    "start_time": "2022-10-07T15:18:20.731Z"
   },
   {
    "duration": 3,
    "start_time": "2022-10-07T15:18:57.068Z"
   },
   {
    "duration": 1622,
    "start_time": "2022-10-07T15:19:09.977Z"
   },
   {
    "duration": 1719,
    "start_time": "2022-10-07T15:27:06.062Z"
   },
   {
    "duration": 232,
    "start_time": "2022-10-07T15:49:04.056Z"
   },
   {
    "duration": 219,
    "start_time": "2022-10-07T15:49:18.610Z"
   },
   {
    "duration": 1709,
    "start_time": "2022-10-07T15:49:57.577Z"
   },
   {
    "duration": 1688,
    "start_time": "2022-10-07T15:50:30.089Z"
   },
   {
    "duration": 1688,
    "start_time": "2022-10-07T15:50:37.404Z"
   },
   {
    "duration": 1682,
    "start_time": "2022-10-07T15:51:07.280Z"
   },
   {
    "duration": 1663,
    "start_time": "2022-10-07T16:54:18.817Z"
   },
   {
    "duration": 4,
    "start_time": "2022-10-07T17:15:36.089Z"
   },
   {
    "duration": 66,
    "start_time": "2022-10-07T17:17:27.368Z"
   },
   {
    "duration": 58,
    "start_time": "2022-10-07T19:31:04.212Z"
   },
   {
    "duration": 1601,
    "start_time": "2022-10-07T19:31:08.462Z"
   },
   {
    "duration": 3,
    "start_time": "2022-10-07T19:31:10.065Z"
   },
   {
    "duration": 1129,
    "start_time": "2022-10-07T19:31:10.069Z"
   },
   {
    "duration": 28,
    "start_time": "2022-10-07T19:31:11.200Z"
   },
   {
    "duration": 135,
    "start_time": "2022-10-07T19:31:11.230Z"
   },
   {
    "duration": 122,
    "start_time": "2022-10-07T19:31:11.367Z"
   },
   {
    "duration": 89,
    "start_time": "2022-10-07T19:31:11.491Z"
   },
   {
    "duration": 221,
    "start_time": "2022-10-07T19:31:11.582Z"
   },
   {
    "duration": 2075,
    "start_time": "2022-10-07T19:31:11.812Z"
   },
   {
    "duration": 294,
    "start_time": "2022-10-07T19:31:36.388Z"
   },
   {
    "duration": 320,
    "start_time": "2022-10-07T19:31:53.738Z"
   },
   {
    "duration": 39,
    "start_time": "2022-10-07T19:33:14.971Z"
   },
   {
    "duration": 80,
    "start_time": "2022-10-07T19:35:11.165Z"
   },
   {
    "duration": 13,
    "start_time": "2022-10-07T19:38:23.815Z"
   },
   {
    "duration": 4,
    "start_time": "2022-10-07T19:38:27.525Z"
   },
   {
    "duration": 3,
    "start_time": "2022-10-07T19:38:37.294Z"
   },
   {
    "duration": 90,
    "start_time": "2022-10-07T19:38:43.859Z"
   },
   {
    "duration": 38,
    "start_time": "2022-10-07T19:39:35.130Z"
   },
   {
    "duration": 2204,
    "start_time": "2022-10-07T19:42:40.696Z"
   },
   {
    "duration": 2029,
    "start_time": "2022-10-07T19:43:23.797Z"
   },
   {
    "duration": 12,
    "start_time": "2022-10-07T19:43:53.997Z"
   },
   {
    "duration": 5,
    "start_time": "2022-10-07T19:50:55.849Z"
   },
   {
    "duration": 41,
    "start_time": "2022-10-07T19:51:15.129Z"
   },
   {
    "duration": 5,
    "start_time": "2022-10-07T19:51:49.400Z"
   },
   {
    "duration": 1872,
    "start_time": "2022-10-07T19:51:50.374Z"
   },
   {
    "duration": 6,
    "start_time": "2022-10-07T19:52:17.523Z"
   },
   {
    "duration": 1966,
    "start_time": "2022-10-07T19:52:18.218Z"
   },
   {
    "duration": 60,
    "start_time": "2022-10-07T19:52:41.628Z"
   },
   {
    "duration": 2181,
    "start_time": "2022-10-07T19:52:42.518Z"
   },
   {
    "duration": 5,
    "start_time": "2022-10-07T19:52:59.845Z"
   },
   {
    "duration": 2083,
    "start_time": "2022-10-07T19:53:00.508Z"
   },
   {
    "duration": 5,
    "start_time": "2022-10-07T19:53:21.838Z"
   },
   {
    "duration": 1884,
    "start_time": "2022-10-07T19:53:31.764Z"
   },
   {
    "duration": 44,
    "start_time": "2022-10-08T05:31:28.321Z"
   },
   {
    "duration": 1534,
    "start_time": "2022-10-08T05:31:33.200Z"
   },
   {
    "duration": 4,
    "start_time": "2022-10-08T05:31:34.736Z"
   },
   {
    "duration": 1098,
    "start_time": "2022-10-08T05:31:34.742Z"
   },
   {
    "duration": 25,
    "start_time": "2022-10-08T05:31:35.843Z"
   },
   {
    "duration": 114,
    "start_time": "2022-10-08T05:31:35.870Z"
   },
   {
    "duration": 107,
    "start_time": "2022-10-08T05:31:35.986Z"
   },
   {
    "duration": 83,
    "start_time": "2022-10-08T05:31:36.095Z"
   },
   {
    "duration": 186,
    "start_time": "2022-10-08T05:31:36.180Z"
   },
   {
    "duration": 1621,
    "start_time": "2022-10-08T05:31:36.367Z"
   },
   {
    "duration": 337,
    "start_time": "2022-10-08T05:31:37.990Z"
   },
   {
    "duration": 90,
    "start_time": "2022-10-08T05:31:38.329Z"
   },
   {
    "duration": 40,
    "start_time": "2022-10-08T05:31:38.421Z"
   },
   {
    "duration": 12,
    "start_time": "2022-10-08T05:31:43.278Z"
   },
   {
    "duration": 32,
    "start_time": "2022-10-08T05:39:47.985Z"
   },
   {
    "duration": 29,
    "start_time": "2022-10-08T05:40:37.845Z"
   },
   {
    "duration": 30,
    "start_time": "2022-10-08T05:46:01.982Z"
   },
   {
    "duration": 23,
    "start_time": "2022-10-08T05:46:33.845Z"
   },
   {
    "duration": 18,
    "start_time": "2022-10-08T05:47:58.891Z"
   },
   {
    "duration": 5,
    "start_time": "2022-10-08T05:50:39.697Z"
   },
   {
    "duration": 1855,
    "start_time": "2022-10-08T05:51:26.107Z"
   },
   {
    "duration": 62,
    "start_time": "2022-10-08T06:02:16.954Z"
   },
   {
    "duration": 15,
    "start_time": "2022-10-08T06:05:27.832Z"
   },
   {
    "duration": 13,
    "start_time": "2022-10-08T06:10:48.045Z"
   },
   {
    "duration": 14,
    "start_time": "2022-10-08T06:10:53.206Z"
   },
   {
    "duration": 12,
    "start_time": "2022-10-08T06:15:10.512Z"
   },
   {
    "duration": 12,
    "start_time": "2022-10-08T06:15:14.697Z"
   },
   {
    "duration": 13,
    "start_time": "2022-10-08T06:15:30.105Z"
   },
   {
    "duration": 1194,
    "start_time": "2022-10-08T06:17:09.150Z"
   },
   {
    "duration": 5,
    "start_time": "2022-10-08T06:17:13.597Z"
   },
   {
    "duration": 11,
    "start_time": "2022-10-08T06:17:17.852Z"
   },
   {
    "duration": 10,
    "start_time": "2022-10-08T06:17:20.262Z"
   },
   {
    "duration": 3,
    "start_time": "2022-10-08T06:18:20.202Z"
   },
   {
    "duration": 4,
    "start_time": "2022-10-08T06:18:50.248Z"
   },
   {
    "duration": 1731,
    "start_time": "2022-10-08T06:18:58.941Z"
   },
   {
    "duration": 4,
    "start_time": "2022-10-08T06:19:40.507Z"
   },
   {
    "duration": 15,
    "start_time": "2022-10-08T06:19:44.744Z"
   },
   {
    "duration": 4,
    "start_time": "2022-10-08T06:19:54.601Z"
   },
   {
    "duration": 516,
    "start_time": "2022-10-08T06:20:01.061Z"
   },
   {
    "duration": 5,
    "start_time": "2022-10-08T06:20:08.802Z"
   },
   {
    "duration": 1904,
    "start_time": "2022-10-08T06:20:11.076Z"
   },
   {
    "duration": 5,
    "start_time": "2022-10-08T06:20:20.332Z"
   },
   {
    "duration": 1922,
    "start_time": "2022-10-08T06:20:26.876Z"
   },
   {
    "duration": 4,
    "start_time": "2022-10-08T06:20:43.191Z"
   },
   {
    "duration": 1945,
    "start_time": "2022-10-08T06:20:46.068Z"
   },
   {
    "duration": 1864,
    "start_time": "2022-10-08T06:21:25.006Z"
   },
   {
    "duration": 4,
    "start_time": "2022-10-08T06:22:50.706Z"
   },
   {
    "duration": 1731,
    "start_time": "2022-10-08T06:22:57.168Z"
   },
   {
    "duration": 1710,
    "start_time": "2022-10-08T06:23:59.696Z"
   },
   {
    "duration": 1845,
    "start_time": "2022-10-08T06:24:18.687Z"
   },
   {
    "duration": 1901,
    "start_time": "2022-10-08T06:25:18.253Z"
   },
   {
    "duration": 1767,
    "start_time": "2022-10-08T06:25:44.882Z"
   },
   {
    "duration": 1708,
    "start_time": "2022-10-08T06:25:57.223Z"
   },
   {
    "duration": 1827,
    "start_time": "2022-10-08T06:26:07.629Z"
   },
   {
    "duration": 1847,
    "start_time": "2022-10-08T06:26:53.768Z"
   },
   {
    "duration": 2006,
    "start_time": "2022-10-08T06:27:04.046Z"
   },
   {
    "duration": 1754,
    "start_time": "2022-10-08T06:27:10.580Z"
   },
   {
    "duration": 1732,
    "start_time": "2022-10-08T06:27:25.590Z"
   },
   {
    "duration": 18,
    "start_time": "2022-10-08T06:30:24.592Z"
   },
   {
    "duration": 852,
    "start_time": "2022-10-08T06:31:19.826Z"
   },
   {
    "duration": 19,
    "start_time": "2022-10-08T06:32:10.144Z"
   },
   {
    "duration": 15,
    "start_time": "2022-10-08T06:32:14.110Z"
   },
   {
    "duration": 15,
    "start_time": "2022-10-08T06:32:23.615Z"
   },
   {
    "duration": 4,
    "start_time": "2022-10-08T06:33:07.333Z"
   },
   {
    "duration": 4,
    "start_time": "2022-10-08T06:33:10.539Z"
   },
   {
    "duration": 12,
    "start_time": "2022-10-08T06:33:45.514Z"
   },
   {
    "duration": 32,
    "start_time": "2022-10-08T06:33:56.761Z"
   },
   {
    "duration": 15,
    "start_time": "2022-10-08T06:34:46.261Z"
   },
   {
    "duration": 15,
    "start_time": "2022-10-08T06:34:52.506Z"
   },
   {
    "duration": 10,
    "start_time": "2022-10-08T06:35:12.370Z"
   },
   {
    "duration": 9,
    "start_time": "2022-10-08T08:44:53.101Z"
   },
   {
    "duration": 50,
    "start_time": "2022-10-08T11:59:49.656Z"
   },
   {
    "duration": 1580,
    "start_time": "2022-10-08T11:59:53.645Z"
   },
   {
    "duration": 2,
    "start_time": "2022-10-08T11:59:55.227Z"
   },
   {
    "duration": 1033,
    "start_time": "2022-10-08T11:59:55.231Z"
   },
   {
    "duration": 23,
    "start_time": "2022-10-08T11:59:56.266Z"
   },
   {
    "duration": 115,
    "start_time": "2022-10-08T11:59:56.290Z"
   },
   {
    "duration": 114,
    "start_time": "2022-10-08T11:59:56.407Z"
   },
   {
    "duration": 77,
    "start_time": "2022-10-08T11:59:56.523Z"
   },
   {
    "duration": 179,
    "start_time": "2022-10-08T11:59:56.602Z"
   },
   {
    "duration": 1692,
    "start_time": "2022-10-08T11:59:56.783Z"
   },
   {
    "duration": 311,
    "start_time": "2022-10-08T11:59:58.478Z"
   },
   {
    "duration": 72,
    "start_time": "2022-10-08T11:59:58.791Z"
   },
   {
    "duration": 15,
    "start_time": "2022-10-08T11:59:58.864Z"
   },
   {
    "duration": 5,
    "start_time": "2022-10-08T11:59:58.880Z"
   },
   {
    "duration": 2077,
    "start_time": "2022-10-08T12:00:01.255Z"
   },
   {
    "duration": 1861,
    "start_time": "2022-10-08T12:00:14.233Z"
   },
   {
    "duration": 2016,
    "start_time": "2022-10-08T12:00:26.327Z"
   },
   {
    "duration": 1794,
    "start_time": "2022-10-08T12:01:34.041Z"
   },
   {
    "duration": 1860,
    "start_time": "2022-10-08T12:02:07.772Z"
   },
   {
    "duration": 1766,
    "start_time": "2022-10-08T12:02:28.834Z"
   },
   {
    "duration": 1662,
    "start_time": "2022-10-08T12:02:52.956Z"
   },
   {
    "duration": 18,
    "start_time": "2022-10-08T12:03:51.882Z"
   },
   {
    "duration": 1647,
    "start_time": "2022-10-08T12:04:49.511Z"
   },
   {
    "duration": 1746,
    "start_time": "2022-10-08T12:05:40.118Z"
   },
   {
    "duration": 687,
    "start_time": "2022-10-08T12:06:29.083Z"
   },
   {
    "duration": 536,
    "start_time": "2022-10-08T12:06:42.049Z"
   },
   {
    "duration": 504,
    "start_time": "2022-10-08T12:07:16.742Z"
   },
   {
    "duration": 504,
    "start_time": "2022-10-08T12:07:26.929Z"
   },
   {
    "duration": 540,
    "start_time": "2022-10-08T12:07:35.755Z"
   },
   {
    "duration": 6,
    "start_time": "2022-10-08T12:07:42.238Z"
   },
   {
    "duration": 18,
    "start_time": "2022-10-08T12:08:00.614Z"
   },
   {
    "duration": 6,
    "start_time": "2022-10-08T12:08:10.123Z"
   },
   {
    "duration": 16,
    "start_time": "2022-10-08T12:09:27.518Z"
   },
   {
    "duration": 1631,
    "start_time": "2022-10-08T12:09:48.802Z"
   },
   {
    "duration": 1774,
    "start_time": "2022-10-08T12:12:09.590Z"
   },
   {
    "duration": 1677,
    "start_time": "2022-10-08T12:12:19.554Z"
   },
   {
    "duration": 1684,
    "start_time": "2022-10-08T12:12:28.946Z"
   },
   {
    "duration": 1763,
    "start_time": "2022-10-08T12:12:40.876Z"
   },
   {
    "duration": 1728,
    "start_time": "2022-10-08T12:12:50.104Z"
   },
   {
    "duration": 1614,
    "start_time": "2022-10-08T12:12:56.773Z"
   },
   {
    "duration": 48,
    "start_time": "2022-10-08T12:13:18.143Z"
   },
   {
    "duration": 51,
    "start_time": "2022-10-08T12:13:24.317Z"
   },
   {
    "duration": 1903,
    "start_time": "2022-10-08T12:13:32.206Z"
   },
   {
    "duration": 1745,
    "start_time": "2022-10-08T12:13:57.270Z"
   },
   {
    "duration": 5,
    "start_time": "2022-10-08T12:20:11.089Z"
   },
   {
    "duration": 1626,
    "start_time": "2022-10-08T12:20:35.305Z"
   },
   {
    "duration": 2235,
    "start_time": "2022-10-08T12:21:41.064Z"
   },
   {
    "duration": 1954,
    "start_time": "2022-10-08T12:21:58.514Z"
   },
   {
    "duration": 2005,
    "start_time": "2022-10-08T12:22:36.627Z"
   },
   {
    "duration": 8,
    "start_time": "2022-10-08T12:23:30.182Z"
   },
   {
    "duration": 6,
    "start_time": "2022-10-08T12:23:59.622Z"
   },
   {
    "duration": 167,
    "start_time": "2022-10-08T12:28:07.653Z"
   },
   {
    "duration": 2676,
    "start_time": "2022-10-08T12:28:14.895Z"
   },
   {
    "duration": 2693,
    "start_time": "2022-10-08T12:29:39.781Z"
   },
   {
    "duration": 392,
    "start_time": "2022-10-08T12:31:17.048Z"
   },
   {
    "duration": 349,
    "start_time": "2022-10-08T12:33:30.905Z"
   },
   {
    "duration": 8,
    "start_time": "2022-10-08T12:34:03.663Z"
   },
   {
    "duration": 9,
    "start_time": "2022-10-08T12:34:09.908Z"
   },
   {
    "duration": 378,
    "start_time": "2022-10-08T12:34:20.546Z"
   },
   {
    "duration": 343,
    "start_time": "2022-10-08T12:34:27.399Z"
   },
   {
    "duration": 427,
    "start_time": "2022-10-08T12:35:19.994Z"
   },
   {
    "duration": 344,
    "start_time": "2022-10-08T12:35:40.072Z"
   },
   {
    "duration": 144,
    "start_time": "2022-10-08T12:35:59.239Z"
   },
   {
    "duration": 377,
    "start_time": "2022-10-08T12:36:08.945Z"
   },
   {
    "duration": 139,
    "start_time": "2022-10-08T12:39:06.387Z"
   },
   {
    "duration": 179,
    "start_time": "2022-10-08T12:39:12.452Z"
   },
   {
    "duration": 1383,
    "start_time": "2022-10-08T12:44:37.045Z"
   },
   {
    "duration": 4,
    "start_time": "2022-10-08T12:44:38.430Z"
   },
   {
    "duration": 826,
    "start_time": "2022-10-08T12:44:38.436Z"
   },
   {
    "duration": 23,
    "start_time": "2022-10-08T12:44:39.264Z"
   },
   {
    "duration": 125,
    "start_time": "2022-10-08T12:44:39.289Z"
   },
   {
    "duration": 116,
    "start_time": "2022-10-08T12:44:39.415Z"
   },
   {
    "duration": 90,
    "start_time": "2022-10-08T12:44:39.533Z"
   },
   {
    "duration": 180,
    "start_time": "2022-10-08T12:44:39.625Z"
   },
   {
    "duration": 1711,
    "start_time": "2022-10-08T12:44:39.809Z"
   },
   {
    "duration": 304,
    "start_time": "2022-10-08T12:44:41.523Z"
   },
   {
    "duration": 81,
    "start_time": "2022-10-08T12:44:41.829Z"
   },
   {
    "duration": 18,
    "start_time": "2022-10-08T12:44:41.912Z"
   },
   {
    "duration": 14,
    "start_time": "2022-10-08T12:44:41.932Z"
   },
   {
    "duration": 2103,
    "start_time": "2022-10-08T12:44:41.947Z"
   },
   {
    "duration": 10,
    "start_time": "2022-10-08T12:44:44.052Z"
   },
   {
    "duration": 1688,
    "start_time": "2022-10-08T12:44:44.064Z"
   },
   {
    "duration": 15,
    "start_time": "2022-10-08T12:44:45.754Z"
   },
   {
    "duration": 39,
    "start_time": "2022-10-08T12:44:45.770Z"
   },
   {
    "duration": 1717,
    "start_time": "2022-10-08T12:44:45.811Z"
   },
   {
    "duration": 1787,
    "start_time": "2022-10-08T12:44:47.530Z"
   },
   {
    "duration": 25,
    "start_time": "2022-10-08T12:45:20.596Z"
   },
   {
    "duration": 387,
    "start_time": "2022-10-08T12:46:15.633Z"
   },
   {
    "duration": 246,
    "start_time": "2022-10-08T12:46:36.302Z"
   },
   {
    "duration": 377,
    "start_time": "2022-10-08T12:46:46.078Z"
   },
   {
    "duration": 9,
    "start_time": "2022-10-08T12:47:50.784Z"
   },
   {
    "duration": 131,
    "start_time": "2022-10-08T12:47:54.242Z"
   },
   {
    "duration": 452,
    "start_time": "2022-10-08T12:49:25.940Z"
   },
   {
    "duration": 1427,
    "start_time": "2022-10-08T13:03:45.687Z"
   },
   {
    "duration": 3,
    "start_time": "2022-10-08T13:03:47.116Z"
   },
   {
    "duration": 1061,
    "start_time": "2022-10-08T13:03:47.120Z"
   },
   {
    "duration": 29,
    "start_time": "2022-10-08T13:03:48.183Z"
   },
   {
    "duration": 125,
    "start_time": "2022-10-08T13:03:48.214Z"
   },
   {
    "duration": 115,
    "start_time": "2022-10-08T13:03:48.341Z"
   },
   {
    "duration": 80,
    "start_time": "2022-10-08T13:03:48.457Z"
   },
   {
    "duration": 190,
    "start_time": "2022-10-08T13:03:48.538Z"
   },
   {
    "duration": 1702,
    "start_time": "2022-10-08T13:03:48.730Z"
   },
   {
    "duration": 325,
    "start_time": "2022-10-08T13:03:50.434Z"
   },
   {
    "duration": 75,
    "start_time": "2022-10-08T13:03:50.761Z"
   },
   {
    "duration": 16,
    "start_time": "2022-10-08T13:03:50.837Z"
   },
   {
    "duration": 5,
    "start_time": "2022-10-08T13:03:50.855Z"
   },
   {
    "duration": 2035,
    "start_time": "2022-10-08T13:03:50.861Z"
   },
   {
    "duration": 15,
    "start_time": "2022-10-08T13:03:52.897Z"
   },
   {
    "duration": 1704,
    "start_time": "2022-10-08T13:03:52.913Z"
   },
   {
    "duration": 15,
    "start_time": "2022-10-08T13:03:54.619Z"
   },
   {
    "duration": 11,
    "start_time": "2022-10-08T13:03:54.636Z"
   },
   {
    "duration": 1740,
    "start_time": "2022-10-08T13:03:54.649Z"
   },
   {
    "duration": 1827,
    "start_time": "2022-10-08T13:03:56.390Z"
   },
   {
    "duration": 1404,
    "start_time": "2022-10-08T13:05:36.507Z"
   },
   {
    "duration": 4,
    "start_time": "2022-10-08T13:05:37.913Z"
   },
   {
    "duration": 783,
    "start_time": "2022-10-08T13:05:37.918Z"
   },
   {
    "duration": 28,
    "start_time": "2022-10-08T13:05:38.704Z"
   },
   {
    "duration": 132,
    "start_time": "2022-10-08T13:05:38.733Z"
   },
   {
    "duration": 123,
    "start_time": "2022-10-08T13:05:38.867Z"
   },
   {
    "duration": 83,
    "start_time": "2022-10-08T13:05:38.991Z"
   },
   {
    "duration": 198,
    "start_time": "2022-10-08T13:05:39.076Z"
   },
   {
    "duration": 1682,
    "start_time": "2022-10-08T13:05:39.275Z"
   },
   {
    "duration": 320,
    "start_time": "2022-10-08T13:05:40.959Z"
   },
   {
    "duration": 83,
    "start_time": "2022-10-08T13:05:41.280Z"
   },
   {
    "duration": 15,
    "start_time": "2022-10-08T13:05:41.364Z"
   },
   {
    "duration": 4,
    "start_time": "2022-10-08T13:05:41.381Z"
   },
   {
    "duration": 2047,
    "start_time": "2022-10-08T13:05:41.387Z"
   },
   {
    "duration": 9,
    "start_time": "2022-10-08T13:05:43.435Z"
   },
   {
    "duration": 1674,
    "start_time": "2022-10-08T13:05:43.446Z"
   },
   {
    "duration": 15,
    "start_time": "2022-10-08T13:05:45.122Z"
   },
   {
    "duration": 24,
    "start_time": "2022-10-08T13:05:45.139Z"
   },
   {
    "duration": 1638,
    "start_time": "2022-10-08T13:05:45.164Z"
   },
   {
    "duration": 1798,
    "start_time": "2022-10-08T13:05:46.803Z"
   },
   {
    "duration": 4,
    "start_time": "2022-10-08T13:06:15.902Z"
   },
   {
    "duration": 335,
    "start_time": "2022-10-08T13:06:27.350Z"
   },
   {
    "duration": 417,
    "start_time": "2022-10-08T13:07:06.130Z"
   },
   {
    "duration": 234,
    "start_time": "2022-10-08T13:07:34.129Z"
   },
   {
    "duration": 6,
    "start_time": "2022-10-08T13:07:47.742Z"
   },
   {
    "duration": 18,
    "start_time": "2022-10-08T13:08:35.916Z"
   },
   {
    "duration": 285,
    "start_time": "2022-10-08T13:08:42.376Z"
   },
   {
    "duration": 374,
    "start_time": "2022-10-08T13:09:14.346Z"
   },
   {
    "duration": 185,
    "start_time": "2022-10-08T13:10:25.378Z"
   },
   {
    "duration": 1404,
    "start_time": "2022-10-08T13:12:02.418Z"
   },
   {
    "duration": 3,
    "start_time": "2022-10-08T13:12:03.825Z"
   },
   {
    "duration": 796,
    "start_time": "2022-10-08T13:12:03.830Z"
   },
   {
    "duration": 26,
    "start_time": "2022-10-08T13:12:04.628Z"
   },
   {
    "duration": 120,
    "start_time": "2022-10-08T13:12:04.655Z"
   },
   {
    "duration": 125,
    "start_time": "2022-10-08T13:12:04.777Z"
   },
   {
    "duration": 72,
    "start_time": "2022-10-08T13:12:04.909Z"
   },
   {
    "duration": 191,
    "start_time": "2022-10-08T13:12:04.982Z"
   },
   {
    "duration": 1672,
    "start_time": "2022-10-08T13:12:05.174Z"
   },
   {
    "duration": 340,
    "start_time": "2022-10-08T13:12:06.848Z"
   },
   {
    "duration": 75,
    "start_time": "2022-10-08T13:12:07.190Z"
   },
   {
    "duration": 15,
    "start_time": "2022-10-08T13:12:07.267Z"
   },
   {
    "duration": 5,
    "start_time": "2022-10-08T13:12:07.283Z"
   },
   {
    "duration": 1970,
    "start_time": "2022-10-08T13:12:07.289Z"
   },
   {
    "duration": 10,
    "start_time": "2022-10-08T13:12:09.261Z"
   },
   {
    "duration": 1724,
    "start_time": "2022-10-08T13:12:09.273Z"
   },
   {
    "duration": 22,
    "start_time": "2022-10-08T13:12:10.998Z"
   },
   {
    "duration": 12,
    "start_time": "2022-10-08T13:12:11.022Z"
   },
   {
    "duration": 1724,
    "start_time": "2022-10-08T13:12:11.035Z"
   },
   {
    "duration": 1858,
    "start_time": "2022-10-08T13:12:12.761Z"
   },
   {
    "duration": 17,
    "start_time": "2022-10-08T13:12:28.044Z"
   },
   {
    "duration": 304,
    "start_time": "2022-10-08T13:12:32.569Z"
   },
   {
    "duration": 322,
    "start_time": "2022-10-08T13:13:18.791Z"
   },
   {
    "duration": 262,
    "start_time": "2022-10-08T13:13:29.125Z"
   },
   {
    "duration": 260,
    "start_time": "2022-10-08T13:13:36.246Z"
   },
   {
    "duration": 636,
    "start_time": "2022-10-08T13:14:02.694Z"
   },
   {
    "duration": 2025,
    "start_time": "2022-10-08T13:14:39.470Z"
   },
   {
    "duration": 720,
    "start_time": "2022-10-08T13:14:52.345Z"
   },
   {
    "duration": 323,
    "start_time": "2022-10-08T13:15:06.988Z"
   },
   {
    "duration": 6,
    "start_time": "2022-10-08T13:17:58.544Z"
   },
   {
    "duration": 4,
    "start_time": "2022-10-08T13:18:02.059Z"
   },
   {
    "duration": 5,
    "start_time": "2022-10-08T13:18:13.120Z"
   },
   {
    "duration": 2464,
    "start_time": "2022-10-08T13:19:18.632Z"
   },
   {
    "duration": 9,
    "start_time": "2022-10-08T13:19:24.178Z"
   },
   {
    "duration": 2505,
    "start_time": "2022-10-08T13:19:26.188Z"
   },
   {
    "duration": 198,
    "start_time": "2022-10-08T13:19:40.932Z"
   },
   {
    "duration": 135,
    "start_time": "2022-10-08T13:20:05.061Z"
   },
   {
    "duration": 8,
    "start_time": "2022-10-08T13:21:39.158Z"
   },
   {
    "duration": 12,
    "start_time": "2022-10-08T13:22:03.977Z"
   },
   {
    "duration": 543,
    "start_time": "2022-10-08T13:22:25.493Z"
   },
   {
    "duration": 358,
    "start_time": "2022-10-08T13:31:33.220Z"
   },
   {
    "duration": 53,
    "start_time": "2022-10-08T13:32:56.461Z"
   },
   {
    "duration": 422,
    "start_time": "2022-10-08T13:33:00.544Z"
   },
   {
    "duration": 41,
    "start_time": "2022-10-08T13:36:49.315Z"
   },
   {
    "duration": 4,
    "start_time": "2022-10-08T13:37:05.218Z"
   },
   {
    "duration": 707,
    "start_time": "2022-10-08T13:37:26.686Z"
   },
   {
    "duration": 4,
    "start_time": "2022-10-08T13:39:09.886Z"
   },
   {
    "duration": 1868,
    "start_time": "2022-10-08T13:39:19.029Z"
   },
   {
    "duration": 812,
    "start_time": "2022-10-08T13:40:12.519Z"
   },
   {
    "duration": 6,
    "start_time": "2022-10-08T13:40:32.719Z"
   },
   {
    "duration": 768,
    "start_time": "2022-10-08T13:40:35.971Z"
   },
   {
    "duration": 663,
    "start_time": "2022-10-08T13:40:45.746Z"
   },
   {
    "duration": 4,
    "start_time": "2022-10-08T13:40:59.708Z"
   },
   {
    "duration": 12,
    "start_time": "2022-10-08T13:41:01.838Z"
   },
   {
    "duration": 739,
    "start_time": "2022-10-08T13:41:02.305Z"
   },
   {
    "duration": 5,
    "start_time": "2022-10-08T13:41:43.611Z"
   },
   {
    "duration": 1831,
    "start_time": "2022-10-08T13:41:46.464Z"
   },
   {
    "duration": 6,
    "start_time": "2022-10-08T13:42:06.861Z"
   },
   {
    "duration": 1892,
    "start_time": "2022-10-08T13:42:14.447Z"
   },
   {
    "duration": 44,
    "start_time": "2022-10-08T13:43:31.625Z"
   },
   {
    "duration": 9,
    "start_time": "2022-10-08T13:43:32.374Z"
   },
   {
    "duration": 716,
    "start_time": "2022-10-08T13:43:33.505Z"
   },
   {
    "duration": 4,
    "start_time": "2022-10-08T13:43:48.857Z"
   },
   {
    "duration": 661,
    "start_time": "2022-10-08T13:43:49.442Z"
   },
   {
    "duration": 5,
    "start_time": "2022-10-08T13:44:03.556Z"
   },
   {
    "duration": 712,
    "start_time": "2022-10-08T13:44:04.174Z"
   },
   {
    "duration": 639,
    "start_time": "2022-10-08T13:44:14.702Z"
   },
   {
    "duration": 5,
    "start_time": "2022-10-08T13:44:24.174Z"
   },
   {
    "duration": 833,
    "start_time": "2022-10-08T13:44:25.002Z"
   },
   {
    "duration": 3,
    "start_time": "2022-10-08T13:44:49.507Z"
   },
   {
    "duration": 364,
    "start_time": "2022-10-08T13:44:50.043Z"
   },
   {
    "duration": 1378,
    "start_time": "2022-10-08T13:46:52.954Z"
   },
   {
    "duration": 3,
    "start_time": "2022-10-08T13:46:54.334Z"
   },
   {
    "duration": 770,
    "start_time": "2022-10-08T13:46:54.338Z"
   },
   {
    "duration": 27,
    "start_time": "2022-10-08T13:46:55.111Z"
   },
   {
    "duration": 122,
    "start_time": "2022-10-08T13:46:55.140Z"
   },
   {
    "duration": 117,
    "start_time": "2022-10-08T13:46:55.264Z"
   },
   {
    "duration": 80,
    "start_time": "2022-10-08T13:46:55.383Z"
   },
   {
    "duration": 189,
    "start_time": "2022-10-08T13:46:55.465Z"
   },
   {
    "duration": 1659,
    "start_time": "2022-10-08T13:46:55.656Z"
   },
   {
    "duration": 313,
    "start_time": "2022-10-08T13:46:57.317Z"
   },
   {
    "duration": 82,
    "start_time": "2022-10-08T13:46:57.632Z"
   },
   {
    "duration": 16,
    "start_time": "2022-10-08T13:46:57.716Z"
   },
   {
    "duration": 5,
    "start_time": "2022-10-08T13:46:57.733Z"
   },
   {
    "duration": 2046,
    "start_time": "2022-10-08T13:46:57.739Z"
   },
   {
    "duration": 10,
    "start_time": "2022-10-08T13:46:59.787Z"
   },
   {
    "duration": 1680,
    "start_time": "2022-10-08T13:46:59.808Z"
   },
   {
    "duration": 25,
    "start_time": "2022-10-08T13:47:01.490Z"
   },
   {
    "duration": 12,
    "start_time": "2022-10-08T13:47:01.516Z"
   },
   {
    "duration": 1742,
    "start_time": "2022-10-08T13:47:01.530Z"
   },
   {
    "duration": 1866,
    "start_time": "2022-10-08T13:47:03.273Z"
   },
   {
    "duration": 4,
    "start_time": "2022-10-08T13:47:09.738Z"
   },
   {
    "duration": 4,
    "start_time": "2022-10-08T13:47:42.318Z"
   },
   {
    "duration": 120,
    "start_time": "2022-10-08T13:47:46.903Z"
   },
   {
    "duration": 384,
    "start_time": "2022-10-08T13:47:48.838Z"
   },
   {
    "duration": 392,
    "start_time": "2022-10-08T13:48:54.095Z"
   },
   {
    "duration": 28,
    "start_time": "2022-10-08T13:50:07.391Z"
   },
   {
    "duration": 11,
    "start_time": "2022-10-08T13:50:18.885Z"
   },
   {
    "duration": 167,
    "start_time": "2022-10-08T13:50:27.850Z"
   },
   {
    "duration": 175329,
    "start_time": "2022-10-08T13:50:39.600Z"
   },
   {
    "duration": 3,
    "start_time": "2022-10-08T13:53:34.931Z"
   },
   {
    "duration": 4,
    "start_time": "2022-10-08T13:54:26.198Z"
   },
   {
    "duration": 1456,
    "start_time": "2022-10-08T13:59:55.577Z"
   },
   {
    "duration": 3,
    "start_time": "2022-10-08T13:59:57.035Z"
   },
   {
    "duration": 754,
    "start_time": "2022-10-08T13:59:57.040Z"
   },
   {
    "duration": 37,
    "start_time": "2022-10-08T13:59:57.796Z"
   },
   {
    "duration": 122,
    "start_time": "2022-10-08T13:59:57.835Z"
   },
   {
    "duration": 118,
    "start_time": "2022-10-08T13:59:57.959Z"
   },
   {
    "duration": 84,
    "start_time": "2022-10-08T13:59:58.078Z"
   },
   {
    "duration": 211,
    "start_time": "2022-10-08T13:59:58.164Z"
   },
   {
    "duration": 1898,
    "start_time": "2022-10-08T13:59:58.376Z"
   },
   {
    "duration": 324,
    "start_time": "2022-10-08T14:00:00.277Z"
   },
   {
    "duration": 75,
    "start_time": "2022-10-08T14:00:00.602Z"
   },
   {
    "duration": 16,
    "start_time": "2022-10-08T14:00:00.678Z"
   },
   {
    "duration": 5,
    "start_time": "2022-10-08T14:00:00.708Z"
   },
   {
    "duration": 2088,
    "start_time": "2022-10-08T14:00:00.715Z"
   },
   {
    "duration": 11,
    "start_time": "2022-10-08T14:00:02.805Z"
   },
   {
    "duration": 1712,
    "start_time": "2022-10-08T14:00:02.818Z"
   },
   {
    "duration": 14,
    "start_time": "2022-10-08T14:00:04.532Z"
   },
   {
    "duration": 15,
    "start_time": "2022-10-08T14:00:04.548Z"
   },
   {
    "duration": 1662,
    "start_time": "2022-10-08T14:00:04.564Z"
   },
   {
    "duration": 1779,
    "start_time": "2022-10-08T14:00:06.228Z"
   },
   {
    "duration": 4,
    "start_time": "2022-10-08T14:01:46.850Z"
   },
   {
    "duration": 1476,
    "start_time": "2022-10-08T14:03:10.789Z"
   },
   {
    "duration": 4,
    "start_time": "2022-10-08T14:03:12.267Z"
   },
   {
    "duration": 813,
    "start_time": "2022-10-08T14:03:12.272Z"
   },
   {
    "duration": 34,
    "start_time": "2022-10-08T14:03:13.088Z"
   },
   {
    "duration": 122,
    "start_time": "2022-10-08T14:03:13.124Z"
   },
   {
    "duration": 126,
    "start_time": "2022-10-08T14:03:13.248Z"
   },
   {
    "duration": 78,
    "start_time": "2022-10-08T14:03:13.375Z"
   },
   {
    "duration": 187,
    "start_time": "2022-10-08T14:03:13.454Z"
   },
   {
    "duration": 1739,
    "start_time": "2022-10-08T14:03:13.643Z"
   },
   {
    "duration": 334,
    "start_time": "2022-10-08T14:03:15.385Z"
   },
   {
    "duration": 74,
    "start_time": "2022-10-08T14:03:15.720Z"
   },
   {
    "duration": 26,
    "start_time": "2022-10-08T14:03:15.796Z"
   },
   {
    "duration": 5,
    "start_time": "2022-10-08T14:03:15.823Z"
   },
   {
    "duration": 1911,
    "start_time": "2022-10-08T14:03:15.829Z"
   },
   {
    "duration": 10,
    "start_time": "2022-10-08T14:03:17.741Z"
   },
   {
    "duration": 1739,
    "start_time": "2022-10-08T14:03:17.753Z"
   },
   {
    "duration": 20,
    "start_time": "2022-10-08T14:03:19.494Z"
   },
   {
    "duration": 12,
    "start_time": "2022-10-08T14:03:19.515Z"
   },
   {
    "duration": 1935,
    "start_time": "2022-10-08T14:03:19.528Z"
   },
   {
    "duration": 182,
    "start_time": "2022-10-08T14:03:51.256Z"
   },
   {
    "duration": 1421,
    "start_time": "2022-10-08T14:09:19.280Z"
   },
   {
    "duration": 7,
    "start_time": "2022-10-08T14:09:20.702Z"
   },
   {
    "duration": 773,
    "start_time": "2022-10-08T14:09:20.710Z"
   },
   {
    "duration": 31,
    "start_time": "2022-10-08T14:09:21.485Z"
   },
   {
    "duration": 120,
    "start_time": "2022-10-08T14:09:21.518Z"
   },
   {
    "duration": 126,
    "start_time": "2022-10-08T14:09:21.640Z"
   },
   {
    "duration": 85,
    "start_time": "2022-10-08T14:09:21.767Z"
   },
   {
    "duration": 193,
    "start_time": "2022-10-08T14:09:21.854Z"
   },
   {
    "duration": 1741,
    "start_time": "2022-10-08T14:09:22.049Z"
   },
   {
    "duration": 337,
    "start_time": "2022-10-08T14:09:23.794Z"
   },
   {
    "duration": 90,
    "start_time": "2022-10-08T14:09:24.132Z"
   },
   {
    "duration": 17,
    "start_time": "2022-10-08T14:09:24.223Z"
   },
   {
    "duration": 5,
    "start_time": "2022-10-08T14:09:24.241Z"
   },
   {
    "duration": 1979,
    "start_time": "2022-10-08T14:09:24.247Z"
   },
   {
    "duration": 10,
    "start_time": "2022-10-08T14:09:26.227Z"
   },
   {
    "duration": 1605,
    "start_time": "2022-10-08T14:09:26.239Z"
   },
   {
    "duration": 16,
    "start_time": "2022-10-08T14:09:27.845Z"
   },
   {
    "duration": 15,
    "start_time": "2022-10-08T14:09:27.862Z"
   },
   {
    "duration": 1879,
    "start_time": "2022-10-08T14:09:27.879Z"
   },
   {
    "duration": 5,
    "start_time": "2022-10-08T14:09:44.801Z"
   },
   {
    "duration": 708,
    "start_time": "2022-10-08T14:09:49.336Z"
   },
   {
    "duration": 4,
    "start_time": "2022-10-08T14:10:26.664Z"
   },
   {
    "duration": 750,
    "start_time": "2022-10-08T14:10:27.521Z"
   },
   {
    "duration": 4,
    "start_time": "2022-10-08T14:11:36.940Z"
   },
   {
    "duration": 4,
    "start_time": "2022-10-08T14:11:44.703Z"
   },
   {
    "duration": 685,
    "start_time": "2022-10-08T14:11:46.653Z"
   },
   {
    "duration": 4,
    "start_time": "2022-10-08T14:11:51.448Z"
   },
   {
    "duration": 696,
    "start_time": "2022-10-08T14:11:56.541Z"
   },
   {
    "duration": 4,
    "start_time": "2022-10-08T14:12:57.954Z"
   },
   {
    "duration": 2042,
    "start_time": "2022-10-08T14:13:02.415Z"
   },
   {
    "duration": 4,
    "start_time": "2022-10-08T14:15:20.186Z"
   },
   {
    "duration": 1814,
    "start_time": "2022-10-08T14:15:21.781Z"
   },
   {
    "duration": 20,
    "start_time": "2022-10-08T14:28:40.009Z"
   },
   {
    "duration": 244,
    "start_time": "2022-10-08T14:29:36.532Z"
   },
   {
    "duration": 248,
    "start_time": "2022-10-08T14:29:43.285Z"
   },
   {
    "duration": 5,
    "start_time": "2022-10-08T14:31:07.559Z"
   },
   {
    "duration": 1987,
    "start_time": "2022-10-08T14:31:14.434Z"
   },
   {
    "duration": 1740,
    "start_time": "2022-10-08T14:32:24.648Z"
   },
   {
    "duration": 1892,
    "start_time": "2022-10-08T14:32:37.901Z"
   },
   {
    "duration": 1975,
    "start_time": "2022-10-08T14:32:42.730Z"
   },
   {
    "duration": 1845,
    "start_time": "2022-10-08T14:33:07.168Z"
   },
   {
    "duration": 1862,
    "start_time": "2022-10-08T14:33:43.991Z"
   },
   {
    "duration": 2055,
    "start_time": "2022-10-08T14:34:08.007Z"
   },
   {
    "duration": 1969,
    "start_time": "2022-10-08T14:34:40.490Z"
   },
   {
    "duration": 1996,
    "start_time": "2022-10-08T14:35:52.556Z"
   },
   {
    "duration": 8,
    "start_time": "2022-10-08T14:36:10.255Z"
   },
   {
    "duration": 1846,
    "start_time": "2022-10-08T14:36:28.611Z"
   },
   {
    "duration": 2115,
    "start_time": "2022-10-08T14:36:36.817Z"
   },
   {
    "duration": 1932,
    "start_time": "2022-10-08T14:36:43.840Z"
   },
   {
    "duration": 9,
    "start_time": "2022-10-08T14:37:25.289Z"
   },
   {
    "duration": 3,
    "start_time": "2022-10-08T14:37:51.522Z"
   },
   {
    "duration": 2127,
    "start_time": "2022-10-08T14:37:59.723Z"
   },
   {
    "duration": 2146,
    "start_time": "2022-10-08T14:38:21.570Z"
   },
   {
    "duration": 1973,
    "start_time": "2022-10-08T14:38:35.838Z"
   },
   {
    "duration": 1950,
    "start_time": "2022-10-08T14:38:44.395Z"
   },
   {
    "duration": 1945,
    "start_time": "2022-10-08T14:38:53.320Z"
   },
   {
    "duration": 2049,
    "start_time": "2022-10-08T14:39:00.460Z"
   },
   {
    "duration": 1922,
    "start_time": "2022-10-08T14:39:11.648Z"
   },
   {
    "duration": 8,
    "start_time": "2022-10-08T14:39:28.942Z"
   },
   {
    "duration": 9,
    "start_time": "2022-10-08T14:39:34.051Z"
   },
   {
    "duration": 11,
    "start_time": "2022-10-08T14:39:40.692Z"
   },
   {
    "duration": 1857,
    "start_time": "2022-10-08T14:42:05.898Z"
   },
   {
    "duration": 9,
    "start_time": "2022-10-08T14:42:26.381Z"
   },
   {
    "duration": 12,
    "start_time": "2022-10-08T14:43:00.963Z"
   },
   {
    "duration": 5,
    "start_time": "2022-10-08T14:43:17.340Z"
   },
   {
    "duration": 8,
    "start_time": "2022-10-08T14:43:21.598Z"
   },
   {
    "duration": 828,
    "start_time": "2022-10-08T14:43:27.634Z"
   },
   {
    "duration": 7,
    "start_time": "2022-10-08T14:43:33.160Z"
   },
   {
    "duration": 2058,
    "start_time": "2022-10-08T14:43:38.030Z"
   },
   {
    "duration": 1945,
    "start_time": "2022-10-08T14:43:48.400Z"
   },
   {
    "duration": 1871,
    "start_time": "2022-10-08T14:43:56.564Z"
   },
   {
    "duration": 9,
    "start_time": "2022-10-08T14:44:12.726Z"
   },
   {
    "duration": 1807,
    "start_time": "2022-10-08T14:44:34.198Z"
   },
   {
    "duration": 8,
    "start_time": "2022-10-08T14:44:50.962Z"
   },
   {
    "duration": 7,
    "start_time": "2022-10-08T14:47:14.754Z"
   },
   {
    "duration": 691,
    "start_time": "2022-10-08T14:47:20.435Z"
   },
   {
    "duration": 4,
    "start_time": "2022-10-08T14:51:53.535Z"
   },
   {
    "duration": 5,
    "start_time": "2022-10-08T14:55:57.499Z"
   },
   {
    "duration": 1988,
    "start_time": "2022-10-08T14:56:35.938Z"
   },
   {
    "duration": 10,
    "start_time": "2022-10-08T14:58:06.643Z"
   },
   {
    "duration": 5,
    "start_time": "2022-10-08T14:58:56.094Z"
   },
   {
    "duration": 30,
    "start_time": "2022-10-08T14:59:04.395Z"
   },
   {
    "duration": 1723,
    "start_time": "2022-10-08T15:00:04.701Z"
   },
   {
    "duration": 108,
    "start_time": "2022-10-08T15:00:18.390Z"
   },
   {
    "duration": 33,
    "start_time": "2022-10-08T15:00:35.626Z"
   },
   {
    "duration": 36,
    "start_time": "2022-10-08T15:00:48.902Z"
   },
   {
    "duration": 21,
    "start_time": "2022-10-08T15:01:03.364Z"
   },
   {
    "duration": 22,
    "start_time": "2022-10-08T15:01:17.108Z"
   },
   {
    "duration": 22,
    "start_time": "2022-10-08T15:01:23.234Z"
   },
   {
    "duration": 24,
    "start_time": "2022-10-08T15:01:32.138Z"
   },
   {
    "duration": 1893,
    "start_time": "2022-10-08T15:02:54.566Z"
   },
   {
    "duration": 2001,
    "start_time": "2022-10-08T15:03:44.067Z"
   },
   {
    "duration": 1969,
    "start_time": "2022-10-08T15:03:51.215Z"
   },
   {
    "duration": 1904,
    "start_time": "2022-10-08T15:04:03.770Z"
   },
   {
    "duration": 2062,
    "start_time": "2022-10-08T15:05:28.776Z"
   },
   {
    "duration": 1940,
    "start_time": "2022-10-08T15:05:50.304Z"
   },
   {
    "duration": 8,
    "start_time": "2022-10-08T15:08:14.674Z"
   },
   {
    "duration": 8,
    "start_time": "2022-10-08T15:09:05.327Z"
   },
   {
    "duration": 17,
    "start_time": "2022-10-08T15:12:20.618Z"
   },
   {
    "duration": 12,
    "start_time": "2022-10-08T15:12:35.629Z"
   },
   {
    "duration": 38,
    "start_time": "2022-10-08T15:18:58.619Z"
   },
   {
    "duration": 8,
    "start_time": "2022-10-08T15:28:05.637Z"
   },
   {
    "duration": 3,
    "start_time": "2022-10-08T15:28:27.174Z"
   },
   {
    "duration": 4,
    "start_time": "2022-10-08T15:30:47.964Z"
   },
   {
    "duration": 20,
    "start_time": "2022-10-08T15:32:42.590Z"
   },
   {
    "duration": 169,
    "start_time": "2022-10-08T15:34:32.677Z"
   },
   {
    "duration": 1944,
    "start_time": "2022-10-08T15:35:21.825Z"
   },
   {
    "duration": 4,
    "start_time": "2022-10-08T15:35:54.035Z"
   },
   {
    "duration": 4,
    "start_time": "2022-10-08T15:36:24.792Z"
   },
   {
    "duration": 4,
    "start_time": "2022-10-08T15:36:32.939Z"
   },
   {
    "duration": 11,
    "start_time": "2022-10-08T15:36:39.167Z"
   },
   {
    "duration": 3,
    "start_time": "2022-10-08T15:37:54.220Z"
   },
   {
    "duration": 1813,
    "start_time": "2022-10-08T15:41:29.694Z"
   },
   {
    "duration": 1771,
    "start_time": "2022-10-08T15:41:37.928Z"
   },
   {
    "duration": 1969,
    "start_time": "2022-10-08T15:41:51.258Z"
   },
   {
    "duration": 1795,
    "start_time": "2022-10-08T15:43:17.635Z"
   },
   {
    "duration": 63,
    "start_time": "2022-10-08T15:43:48.777Z"
   },
   {
    "duration": 1897,
    "start_time": "2022-10-08T15:44:14.069Z"
   },
   {
    "duration": 1837,
    "start_time": "2022-10-08T15:47:19.932Z"
   },
   {
    "duration": 1922,
    "start_time": "2022-10-08T15:55:32.852Z"
   },
   {
    "duration": 1928,
    "start_time": "2022-10-08T15:57:26.727Z"
   },
   {
    "duration": 55,
    "start_time": "2022-10-08T15:59:00.213Z"
   },
   {
    "duration": 1362,
    "start_time": "2022-10-08T15:59:49.552Z"
   },
   {
    "duration": 3,
    "start_time": "2022-10-08T15:59:50.916Z"
   },
   {
    "duration": 763,
    "start_time": "2022-10-08T15:59:50.920Z"
   },
   {
    "duration": 25,
    "start_time": "2022-10-08T15:59:51.685Z"
   },
   {
    "duration": 124,
    "start_time": "2022-10-08T15:59:51.711Z"
   },
   {
    "duration": 113,
    "start_time": "2022-10-08T15:59:51.836Z"
   },
   {
    "duration": 84,
    "start_time": "2022-10-08T15:59:51.951Z"
   },
   {
    "duration": 192,
    "start_time": "2022-10-08T15:59:52.037Z"
   },
   {
    "duration": 5,
    "start_time": "2022-10-08T15:59:52.231Z"
   },
   {
    "duration": 2132,
    "start_time": "2022-10-08T15:59:52.238Z"
   },
   {
    "duration": 11,
    "start_time": "2022-10-08T15:59:54.371Z"
   },
   {
    "duration": 181,
    "start_time": "2022-10-08T15:59:54.383Z"
   },
   {
    "duration": 0,
    "start_time": "2022-10-08T15:59:54.566Z"
   },
   {
    "duration": 0,
    "start_time": "2022-10-08T15:59:54.567Z"
   },
   {
    "duration": 0,
    "start_time": "2022-10-08T15:59:54.568Z"
   },
   {
    "duration": 0,
    "start_time": "2022-10-08T15:59:54.569Z"
   },
   {
    "duration": 0,
    "start_time": "2022-10-08T15:59:54.570Z"
   },
   {
    "duration": 0,
    "start_time": "2022-10-08T15:59:54.571Z"
   },
   {
    "duration": 0,
    "start_time": "2022-10-08T15:59:54.572Z"
   },
   {
    "duration": 0,
    "start_time": "2022-10-08T15:59:54.573Z"
   },
   {
    "duration": 4,
    "start_time": "2022-10-08T16:00:26.866Z"
   },
   {
    "duration": 40,
    "start_time": "2022-10-08T16:00:33.186Z"
   },
   {
    "duration": 139,
    "start_time": "2022-10-08T16:11:33.401Z"
   },
   {
    "duration": 61,
    "start_time": "2022-10-08T16:13:07.614Z"
   },
   {
    "duration": 38,
    "start_time": "2022-10-08T16:14:11.893Z"
   },
   {
    "duration": 2097,
    "start_time": "2022-10-08T16:14:20.613Z"
   },
   {
    "duration": 30,
    "start_time": "2022-10-08T16:17:59.943Z"
   },
   {
    "duration": 65,
    "start_time": "2022-10-08T16:18:14.902Z"
   },
   {
    "duration": 1855,
    "start_time": "2022-10-08T16:18:23.983Z"
   },
   {
    "duration": 17,
    "start_time": "2022-10-08T16:18:30.443Z"
   },
   {
    "duration": 27,
    "start_time": "2022-10-08T16:34:43.670Z"
   },
   {
    "duration": 152,
    "start_time": "2022-10-08T16:35:43.534Z"
   },
   {
    "duration": 147,
    "start_time": "2022-10-08T16:36:03.727Z"
   },
   {
    "duration": 24,
    "start_time": "2022-10-08T16:36:30.183Z"
   },
   {
    "duration": 173,
    "start_time": "2022-10-08T16:36:41.208Z"
   },
   {
    "duration": 30,
    "start_time": "2022-10-08T16:36:51.101Z"
   },
   {
    "duration": 154,
    "start_time": "2022-10-08T16:36:54.009Z"
   },
   {
    "duration": 1410,
    "start_time": "2022-10-08T16:37:20.008Z"
   },
   {
    "duration": 3,
    "start_time": "2022-10-08T16:37:21.419Z"
   },
   {
    "duration": 779,
    "start_time": "2022-10-08T16:37:21.423Z"
   },
   {
    "duration": 27,
    "start_time": "2022-10-08T16:37:22.203Z"
   },
   {
    "duration": 121,
    "start_time": "2022-10-08T16:37:22.232Z"
   },
   {
    "duration": 123,
    "start_time": "2022-10-08T16:37:22.354Z"
   },
   {
    "duration": 91,
    "start_time": "2022-10-08T16:37:22.478Z"
   },
   {
    "duration": 218,
    "start_time": "2022-10-08T16:37:22.572Z"
   },
   {
    "duration": 5,
    "start_time": "2022-10-08T16:37:22.792Z"
   },
   {
    "duration": 1942,
    "start_time": "2022-10-08T16:37:22.799Z"
   },
   {
    "duration": 14,
    "start_time": "2022-10-08T16:37:24.743Z"
   },
   {
    "duration": 2038,
    "start_time": "2022-10-08T16:37:24.759Z"
   },
   {
    "duration": 21,
    "start_time": "2022-10-08T16:37:26.799Z"
   },
   {
    "duration": 34,
    "start_time": "2022-10-08T16:37:26.822Z"
   },
   {
    "duration": 2016,
    "start_time": "2022-10-08T16:37:26.858Z"
   },
   {
    "duration": 21,
    "start_time": "2022-10-08T16:37:28.876Z"
   },
   {
    "duration": 1701,
    "start_time": "2022-10-08T16:37:28.909Z"
   },
   {
    "duration": 292,
    "start_time": "2022-10-08T16:37:30.613Z"
   },
   {
    "duration": 74,
    "start_time": "2022-10-08T16:37:30.908Z"
   },
   {
    "duration": 28,
    "start_time": "2022-10-08T16:37:30.984Z"
   },
   {
    "duration": 267,
    "start_time": "2022-10-08T16:37:33.027Z"
   },
   {
    "duration": 257,
    "start_time": "2022-10-08T16:37:42.011Z"
   },
   {
    "duration": 251,
    "start_time": "2022-10-08T16:40:43.563Z"
   },
   {
    "duration": 235,
    "start_time": "2022-10-08T16:40:46.949Z"
   },
   {
    "duration": 235,
    "start_time": "2022-10-08T16:42:09.210Z"
   },
   {
    "duration": 275,
    "start_time": "2022-10-08T16:42:35.943Z"
   },
   {
    "duration": 228,
    "start_time": "2022-10-08T16:42:47.042Z"
   },
   {
    "duration": 235,
    "start_time": "2022-10-08T16:43:50.175Z"
   },
   {
    "duration": 468,
    "start_time": "2022-10-08T16:45:31.731Z"
   },
   {
    "duration": 124,
    "start_time": "2022-10-08T16:45:35.444Z"
   },
   {
    "duration": 4,
    "start_time": "2022-10-08T16:45:39.953Z"
   },
   {
    "duration": 3,
    "start_time": "2022-10-08T16:46:01.452Z"
   },
   {
    "duration": 1404,
    "start_time": "2022-10-08T16:46:14.527Z"
   },
   {
    "duration": 3,
    "start_time": "2022-10-08T16:46:15.933Z"
   },
   {
    "duration": 757,
    "start_time": "2022-10-08T16:46:15.937Z"
   },
   {
    "duration": 26,
    "start_time": "2022-10-08T16:46:16.696Z"
   },
   {
    "duration": 118,
    "start_time": "2022-10-08T16:46:16.723Z"
   },
   {
    "duration": 121,
    "start_time": "2022-10-08T16:46:16.842Z"
   },
   {
    "duration": 79,
    "start_time": "2022-10-08T16:46:16.964Z"
   },
   {
    "duration": 211,
    "start_time": "2022-10-08T16:46:17.045Z"
   },
   {
    "duration": 6,
    "start_time": "2022-10-08T16:46:17.258Z"
   },
   {
    "duration": 1965,
    "start_time": "2022-10-08T16:46:17.266Z"
   },
   {
    "duration": 13,
    "start_time": "2022-10-08T16:46:19.232Z"
   },
   {
    "duration": 2051,
    "start_time": "2022-10-08T16:46:19.246Z"
   },
   {
    "duration": 26,
    "start_time": "2022-10-08T16:46:21.298Z"
   },
   {
    "duration": 13,
    "start_time": "2022-10-08T16:46:21.325Z"
   },
   {
    "duration": 2108,
    "start_time": "2022-10-08T16:46:21.339Z"
   },
   {
    "duration": 21,
    "start_time": "2022-10-08T16:46:23.448Z"
   },
   {
    "duration": 1742,
    "start_time": "2022-10-08T16:46:23.470Z"
   },
   {
    "duration": 279,
    "start_time": "2022-10-08T16:46:25.214Z"
   },
   {
    "duration": 75,
    "start_time": "2022-10-08T16:46:25.495Z"
   },
   {
    "duration": 15,
    "start_time": "2022-10-08T16:46:25.571Z"
   },
   {
    "duration": 4,
    "start_time": "2022-10-08T16:46:25.587Z"
   },
   {
    "duration": 2,
    "start_time": "2022-10-08T16:46:25.610Z"
   },
   {
    "duration": 151,
    "start_time": "2022-10-08T16:46:25.613Z"
   },
   {
    "duration": 64,
    "start_time": "2022-10-08T16:46:25.766Z"
   },
   {
    "duration": 187,
    "start_time": "2022-10-08T16:46:25.832Z"
   },
   {
    "duration": 200,
    "start_time": "2022-10-08T16:46:26.021Z"
   },
   {
    "duration": 197,
    "start_time": "2022-10-08T16:46:26.223Z"
   },
   {
    "duration": 389,
    "start_time": "2022-10-08T16:46:26.424Z"
   },
   {
    "duration": 4,
    "start_time": "2022-10-08T16:46:31.271Z"
   },
   {
    "duration": 57,
    "start_time": "2022-10-08T16:49:47.890Z"
   },
   {
    "duration": 44,
    "start_time": "2022-10-08T20:50:58.547Z"
   },
   {
    "duration": 1444,
    "start_time": "2022-10-08T20:51:02.669Z"
   },
   {
    "duration": 2,
    "start_time": "2022-10-08T20:51:04.116Z"
   },
   {
    "duration": 2742,
    "start_time": "2022-10-08T20:51:04.121Z"
   },
   {
    "duration": 24,
    "start_time": "2022-10-08T20:51:06.865Z"
   },
   {
    "duration": 102,
    "start_time": "2022-10-08T20:51:06.890Z"
   },
   {
    "duration": 108,
    "start_time": "2022-10-08T20:51:06.993Z"
   },
   {
    "duration": 72,
    "start_time": "2022-10-08T20:51:07.103Z"
   },
   {
    "duration": 172,
    "start_time": "2022-10-08T20:51:07.176Z"
   },
   {
    "duration": 5,
    "start_time": "2022-10-08T20:51:07.349Z"
   },
   {
    "duration": 1847,
    "start_time": "2022-10-08T20:51:07.358Z"
   },
   {
    "duration": 17,
    "start_time": "2022-10-08T20:51:09.207Z"
   },
   {
    "duration": 1859,
    "start_time": "2022-10-08T20:51:09.226Z"
   },
   {
    "duration": 36,
    "start_time": "2022-10-08T20:51:11.087Z"
   },
   {
    "duration": 19,
    "start_time": "2022-10-08T20:51:11.125Z"
   },
   {
    "duration": 2055,
    "start_time": "2022-10-08T20:51:11.146Z"
   },
   {
    "duration": 27,
    "start_time": "2022-10-08T20:51:13.203Z"
   },
   {
    "duration": 1436,
    "start_time": "2022-10-08T20:51:13.232Z"
   },
   {
    "duration": 274,
    "start_time": "2022-10-08T20:51:14.669Z"
   },
   {
    "duration": 70,
    "start_time": "2022-10-08T20:51:14.944Z"
   },
   {
    "duration": 16,
    "start_time": "2022-10-08T20:51:15.022Z"
   },
   {
    "duration": 18,
    "start_time": "2022-10-08T20:51:15.040Z"
   },
   {
    "duration": 132,
    "start_time": "2022-10-08T20:51:15.059Z"
   },
   {
    "duration": 72,
    "start_time": "2022-10-08T20:51:15.192Z"
   },
   {
    "duration": 202,
    "start_time": "2022-10-08T20:51:15.265Z"
   },
   {
    "duration": 208,
    "start_time": "2022-10-08T20:51:15.469Z"
   },
   {
    "duration": 202,
    "start_time": "2022-10-08T20:51:15.678Z"
   },
   {
    "duration": 423,
    "start_time": "2022-10-08T20:51:15.882Z"
   },
   {
    "duration": 4,
    "start_time": "2022-10-08T20:51:16.307Z"
   },
   {
    "duration": 18,
    "start_time": "2022-10-08T20:51:19.363Z"
   },
   {
    "duration": 56,
    "start_time": "2022-10-08T20:51:23.234Z"
   },
   {
    "duration": 22,
    "start_time": "2022-10-08T20:53:20.771Z"
   },
   {
    "duration": 67,
    "start_time": "2022-10-08T20:57:02.019Z"
   },
   {
    "duration": 55,
    "start_time": "2022-10-08T21:00:19.662Z"
   },
   {
    "duration": 5,
    "start_time": "2022-10-08T21:01:00.739Z"
   },
   {
    "duration": 83,
    "start_time": "2022-10-08T21:03:34.818Z"
   },
   {
    "duration": 83,
    "start_time": "2022-10-08T21:03:50.612Z"
   },
   {
    "duration": 86,
    "start_time": "2022-10-08T21:03:55.838Z"
   },
   {
    "duration": 10,
    "start_time": "2022-10-08T21:08:25.565Z"
   },
   {
    "duration": 24,
    "start_time": "2022-10-08T21:08:58.288Z"
   },
   {
    "duration": 59,
    "start_time": "2022-10-08T21:09:08.491Z"
   },
   {
    "duration": 66,
    "start_time": "2022-10-08T21:10:39.789Z"
   },
   {
    "duration": 78,
    "start_time": "2022-10-08T21:13:40.986Z"
   },
   {
    "duration": 60,
    "start_time": "2022-10-08T21:13:56.834Z"
   },
   {
    "duration": 62,
    "start_time": "2022-10-08T21:14:07.040Z"
   },
   {
    "duration": 14,
    "start_time": "2022-10-08T21:14:20.542Z"
   },
   {
    "duration": 16,
    "start_time": "2022-10-08T21:15:28.280Z"
   },
   {
    "duration": 139,
    "start_time": "2022-10-08T21:16:22.730Z"
   },
   {
    "duration": 124,
    "start_time": "2022-10-08T21:16:27.516Z"
   },
   {
    "duration": 133,
    "start_time": "2022-10-08T21:16:50.015Z"
   },
   {
    "duration": 89,
    "start_time": "2022-10-08T21:20:27.637Z"
   },
   {
    "duration": 15,
    "start_time": "2022-10-08T21:20:41.194Z"
   },
   {
    "duration": 11,
    "start_time": "2022-10-08T21:20:50.834Z"
   },
   {
    "duration": 37,
    "start_time": "2022-10-08T21:20:54.043Z"
   },
   {
    "duration": 92,
    "start_time": "2022-10-08T21:21:46.788Z"
   },
   {
    "duration": 14,
    "start_time": "2022-10-08T21:22:02.062Z"
   },
   {
    "duration": 131,
    "start_time": "2022-10-08T21:22:03.395Z"
   },
   {
    "duration": 133,
    "start_time": "2022-10-08T21:22:04.992Z"
   },
   {
    "duration": 4,
    "start_time": "2022-10-08T21:22:32.915Z"
   },
   {
    "duration": 14,
    "start_time": "2022-10-08T21:22:37.235Z"
   },
   {
    "duration": 13,
    "start_time": "2022-10-08T21:25:06.881Z"
   },
   {
    "duration": 127,
    "start_time": "2022-10-08T21:25:07.685Z"
   },
   {
    "duration": 113,
    "start_time": "2022-10-08T21:25:11.192Z"
   },
   {
    "duration": 99,
    "start_time": "2022-10-08T21:25:32.616Z"
   },
   {
    "duration": 170,
    "start_time": "2022-10-08T21:26:19.361Z"
   },
   {
    "duration": 164,
    "start_time": "2022-10-08T21:26:43.530Z"
   },
   {
    "duration": 164,
    "start_time": "2022-10-08T21:26:45.773Z"
   },
   {
    "duration": 15,
    "start_time": "2022-10-08T21:29:12.936Z"
   },
   {
    "duration": 168,
    "start_time": "2022-10-08T21:29:33.719Z"
   },
   {
    "duration": 165,
    "start_time": "2022-10-08T21:31:39.421Z"
   },
   {
    "duration": 157,
    "start_time": "2022-10-08T21:31:53.836Z"
   },
   {
    "duration": 15,
    "start_time": "2022-10-08T21:33:04.468Z"
   },
   {
    "duration": 13,
    "start_time": "2022-10-08T21:33:13.929Z"
   },
   {
    "duration": 122,
    "start_time": "2022-10-08T21:33:17.036Z"
   },
   {
    "duration": 164,
    "start_time": "2022-10-08T21:33:26.268Z"
   },
   {
    "duration": 14,
    "start_time": "2022-10-08T21:33:57.687Z"
   },
   {
    "duration": 135,
    "start_time": "2022-10-08T21:33:59.554Z"
   },
   {
    "duration": 187,
    "start_time": "2022-10-08T21:34:00.471Z"
   },
   {
    "duration": 3,
    "start_time": "2022-10-08T21:35:47.761Z"
   },
   {
    "duration": 4,
    "start_time": "2022-10-08T21:37:45.499Z"
   },
   {
    "duration": 8,
    "start_time": "2022-10-08T21:39:20.887Z"
   },
   {
    "duration": 3,
    "start_time": "2022-10-08T21:40:30.074Z"
   },
   {
    "duration": 4,
    "start_time": "2022-10-08T21:50:41.717Z"
   },
   {
    "duration": 3,
    "start_time": "2022-10-08T21:50:57.996Z"
   },
   {
    "duration": 3,
    "start_time": "2022-10-08T21:51:01.097Z"
   },
   {
    "duration": 132,
    "start_time": "2022-10-08T21:51:04.814Z"
   },
   {
    "duration": 77,
    "start_time": "2022-10-08T21:51:25.205Z"
   },
   {
    "duration": 264,
    "start_time": "2022-10-08T21:51:37.712Z"
   },
   {
    "duration": 4,
    "start_time": "2022-10-08T21:52:21.116Z"
   },
   {
    "duration": 3,
    "start_time": "2022-10-08T21:52:21.134Z"
   },
   {
    "duration": 662,
    "start_time": "2022-10-08T21:52:21.138Z"
   },
   {
    "duration": 21,
    "start_time": "2022-10-08T21:52:21.802Z"
   },
   {
    "duration": 105,
    "start_time": "2022-10-08T21:52:21.825Z"
   },
   {
    "duration": 97,
    "start_time": "2022-10-08T21:52:21.932Z"
   },
   {
    "duration": 59,
    "start_time": "2022-10-08T21:52:22.031Z"
   },
   {
    "duration": 177,
    "start_time": "2022-10-08T21:52:22.092Z"
   },
   {
    "duration": 5,
    "start_time": "2022-10-08T21:52:22.270Z"
   },
   {
    "duration": 1848,
    "start_time": "2022-10-08T21:52:22.276Z"
   },
   {
    "duration": 16,
    "start_time": "2022-10-08T21:52:24.126Z"
   },
   {
    "duration": 1682,
    "start_time": "2022-10-08T21:52:24.145Z"
   },
   {
    "duration": 27,
    "start_time": "2022-10-08T21:52:25.829Z"
   },
   {
    "duration": 25,
    "start_time": "2022-10-08T21:52:25.858Z"
   },
   {
    "duration": 1750,
    "start_time": "2022-10-08T21:52:25.885Z"
   },
   {
    "duration": 25,
    "start_time": "2022-10-08T21:52:27.637Z"
   },
   {
    "duration": 1405,
    "start_time": "2022-10-08T21:52:27.664Z"
   },
   {
    "duration": 241,
    "start_time": "2022-10-08T21:52:29.071Z"
   },
   {
    "duration": 75,
    "start_time": "2022-10-08T21:52:29.314Z"
   },
   {
    "duration": 15,
    "start_time": "2022-10-08T21:52:29.390Z"
   },
   {
    "duration": 3,
    "start_time": "2022-10-08T21:52:29.422Z"
   },
   {
    "duration": 128,
    "start_time": "2022-10-08T21:52:29.426Z"
   },
   {
    "duration": 55,
    "start_time": "2022-10-08T21:52:29.555Z"
   },
   {
    "duration": 189,
    "start_time": "2022-10-08T21:52:29.611Z"
   },
   {
    "duration": 185,
    "start_time": "2022-10-08T21:52:29.802Z"
   },
   {
    "duration": 198,
    "start_time": "2022-10-08T21:52:29.988Z"
   },
   {
    "duration": 390,
    "start_time": "2022-10-08T21:52:30.188Z"
   },
   {
    "duration": 3,
    "start_time": "2022-10-08T21:52:30.580Z"
   },
   {
    "duration": 101,
    "start_time": "2022-10-08T21:52:30.584Z"
   },
   {
    "duration": 83,
    "start_time": "2022-10-08T21:52:30.688Z"
   },
   {
    "duration": 82,
    "start_time": "2022-10-08T21:52:30.772Z"
   },
   {
    "duration": 18,
    "start_time": "2022-10-08T21:52:30.855Z"
   },
   {
    "duration": 64,
    "start_time": "2022-10-08T21:52:30.874Z"
   },
   {
    "duration": 12,
    "start_time": "2022-10-08T21:52:30.939Z"
   },
   {
    "duration": 142,
    "start_time": "2022-10-08T21:52:30.952Z"
   },
   {
    "duration": 169,
    "start_time": "2022-10-08T21:52:31.096Z"
   },
   {
    "duration": 4,
    "start_time": "2022-10-08T21:52:31.266Z"
   },
   {
    "duration": 11,
    "start_time": "2022-10-08T21:52:31.271Z"
   },
   {
    "duration": 8,
    "start_time": "2022-10-08T21:52:49.015Z"
   },
   {
    "duration": 2,
    "start_time": "2022-10-08T21:52:53.907Z"
   },
   {
    "duration": 3,
    "start_time": "2022-10-08T21:52:55.123Z"
   },
   {
    "duration": 228,
    "start_time": "2022-10-08T21:52:56.347Z"
   },
   {
    "duration": 14,
    "start_time": "2022-10-08T21:53:10.236Z"
   },
   {
    "duration": 125,
    "start_time": "2022-10-08T21:53:42.293Z"
   },
   {
    "duration": 152,
    "start_time": "2022-10-08T21:53:44.401Z"
   },
   {
    "duration": 15,
    "start_time": "2022-10-08T21:53:52.473Z"
   },
   {
    "duration": 124,
    "start_time": "2022-10-08T21:54:05.648Z"
   },
   {
    "duration": 15,
    "start_time": "2022-10-08T21:54:07.887Z"
   },
   {
    "duration": 16,
    "start_time": "2022-10-08T21:54:30.670Z"
   },
   {
    "duration": 14,
    "start_time": "2022-10-08T21:54:41.703Z"
   },
   {
    "duration": 134,
    "start_time": "2022-10-08T21:55:43.101Z"
   },
   {
    "duration": 15,
    "start_time": "2022-10-08T21:55:52.340Z"
   },
   {
    "duration": 131,
    "start_time": "2022-10-08T21:56:26.714Z"
   },
   {
    "duration": 130,
    "start_time": "2022-10-08T21:56:39.722Z"
   },
   {
    "duration": 23,
    "start_time": "2022-10-08T21:56:43.919Z"
   },
   {
    "duration": 15,
    "start_time": "2022-10-08T21:56:48.457Z"
   },
   {
    "duration": 10,
    "start_time": "2022-10-08T21:56:57.169Z"
   },
   {
    "duration": 20,
    "start_time": "2022-10-08T21:56:58.454Z"
   },
   {
    "duration": 47,
    "start_time": "2022-10-08T21:57:15.288Z"
   },
   {
    "duration": 22,
    "start_time": "2022-10-08T21:57:15.822Z"
   },
   {
    "duration": 3,
    "start_time": "2022-10-08T21:57:28.006Z"
   },
   {
    "duration": 2,
    "start_time": "2022-10-08T21:57:38.996Z"
   },
   {
    "duration": 3,
    "start_time": "2022-10-08T21:57:39.881Z"
   },
   {
    "duration": 110,
    "start_time": "2022-10-08T21:57:57.471Z"
   },
   {
    "duration": 24,
    "start_time": "2022-10-08T21:58:16.935Z"
   },
   {
    "duration": 55,
    "start_time": "2022-10-08T21:58:19.080Z"
   },
   {
    "duration": 57,
    "start_time": "2022-10-08T21:58:49.995Z"
   },
   {
    "duration": 12,
    "start_time": "2022-10-08T21:58:57.290Z"
   },
   {
    "duration": 157,
    "start_time": "2022-10-08T21:59:04.889Z"
   },
   {
    "duration": 140,
    "start_time": "2022-10-08T21:59:11.501Z"
   },
   {
    "duration": 3132,
    "start_time": "2022-10-08T21:59:21.966Z"
   },
   {
    "duration": 5,
    "start_time": "2022-10-08T21:59:31.574Z"
   },
   {
    "duration": 5,
    "start_time": "2022-10-08T21:59:49.359Z"
   },
   {
    "duration": 5,
    "start_time": "2022-10-08T21:59:56.057Z"
   },
   {
    "duration": 7,
    "start_time": "2022-10-08T21:59:57.491Z"
   },
   {
    "duration": 4,
    "start_time": "2022-10-08T22:01:36.499Z"
   },
   {
    "duration": 7,
    "start_time": "2022-10-08T22:01:37.349Z"
   },
   {
    "duration": 4,
    "start_time": "2022-10-08T22:03:03.605Z"
   },
   {
    "duration": 4,
    "start_time": "2022-10-08T22:03:24.883Z"
   },
   {
    "duration": 4,
    "start_time": "2022-10-08T22:08:43.733Z"
   },
   {
    "duration": 6,
    "start_time": "2022-10-08T22:08:47.734Z"
   },
   {
    "duration": 15,
    "start_time": "2022-10-08T22:09:03.729Z"
   },
   {
    "duration": 2,
    "start_time": "2022-10-08T22:09:29.172Z"
   },
   {
    "duration": 8,
    "start_time": "2022-10-08T22:10:28.909Z"
   },
   {
    "duration": 4,
    "start_time": "2022-10-08T22:11:17.283Z"
   },
   {
    "duration": 6,
    "start_time": "2022-10-08T22:11:18.848Z"
   },
   {
    "duration": 6,
    "start_time": "2022-10-08T22:11:23.283Z"
   },
   {
    "duration": 8,
    "start_time": "2022-10-08T22:11:25.694Z"
   },
   {
    "duration": 5,
    "start_time": "2022-10-08T22:15:42.707Z"
   },
   {
    "duration": 2,
    "start_time": "2022-10-08T22:15:53.593Z"
   },
   {
    "duration": 2,
    "start_time": "2022-10-08T22:15:55.738Z"
   },
   {
    "duration": 3,
    "start_time": "2022-10-08T22:16:01.150Z"
   },
   {
    "duration": 77,
    "start_time": "2022-10-08T22:16:49.765Z"
   },
   {
    "duration": 2,
    "start_time": "2022-10-08T22:16:52.869Z"
   },
   {
    "duration": 9313,
    "start_time": "2022-10-08T22:16:59.154Z"
   },
   {
    "duration": 7,
    "start_time": "2022-10-08T22:17:27.910Z"
   },
   {
    "duration": 9,
    "start_time": "2022-10-08T22:17:33.405Z"
   },
   {
    "duration": 3,
    "start_time": "2022-10-08T22:18:24.935Z"
   },
   {
    "duration": 6,
    "start_time": "2022-10-08T22:18:31.561Z"
   },
   {
    "duration": 9,
    "start_time": "2022-10-08T22:18:33.916Z"
   },
   {
    "duration": 9,
    "start_time": "2022-10-08T22:19:29.044Z"
   },
   {
    "duration": 5,
    "start_time": "2022-10-08T22:20:24.645Z"
   },
   {
    "duration": 4,
    "start_time": "2022-10-08T22:20:40.410Z"
   },
   {
    "duration": 4,
    "start_time": "2022-10-08T22:21:23.506Z"
   },
   {
    "duration": 4,
    "start_time": "2022-10-08T22:21:25.465Z"
   },
   {
    "duration": 7,
    "start_time": "2022-10-08T22:21:26.974Z"
   },
   {
    "duration": 3,
    "start_time": "2022-10-08T22:26:07.950Z"
   },
   {
    "duration": 3,
    "start_time": "2022-10-08T22:26:18.479Z"
   },
   {
    "duration": 9,
    "start_time": "2022-10-08T22:26:34.838Z"
   },
   {
    "duration": 3,
    "start_time": "2022-10-08T22:27:49.404Z"
   },
   {
    "duration": 10,
    "start_time": "2022-10-08T22:27:59.135Z"
   },
   {
    "duration": 16,
    "start_time": "2022-10-08T22:28:14.454Z"
   },
   {
    "duration": 14,
    "start_time": "2022-10-08T22:28:25.215Z"
   },
   {
    "duration": 4,
    "start_time": "2022-10-08T22:28:57.888Z"
   },
   {
    "duration": 8,
    "start_time": "2022-10-08T22:29:05.299Z"
   },
   {
    "duration": 3,
    "start_time": "2022-10-08T22:34:48.849Z"
   },
   {
    "duration": 3,
    "start_time": "2022-10-08T22:34:52.317Z"
   },
   {
    "duration": 2,
    "start_time": "2022-10-08T22:35:01.714Z"
   },
   {
    "duration": 213,
    "start_time": "2022-10-08T22:35:25.564Z"
   },
   {
    "duration": 2,
    "start_time": "2022-10-08T22:35:29.065Z"
   },
   {
    "duration": 2,
    "start_time": "2022-10-08T22:35:29.583Z"
   },
   {
    "duration": 2,
    "start_time": "2022-10-08T22:35:30.985Z"
   },
   {
    "duration": 319,
    "start_time": "2022-10-08T22:35:30.990Z"
   },
   {
    "duration": 8,
    "start_time": "2022-10-08T22:46:13.715Z"
   },
   {
    "duration": 111,
    "start_time": "2022-10-08T22:46:46.968Z"
   },
   {
    "duration": 17,
    "start_time": "2022-10-08T22:47:32.858Z"
   },
   {
    "duration": 17,
    "start_time": "2022-10-08T22:47:45.758Z"
   },
   {
    "duration": 45485,
    "start_time": "2022-10-08T22:48:01.237Z"
   },
   {
    "duration": 11,
    "start_time": "2022-10-08T22:49:18.837Z"
   },
   {
    "duration": 6,
    "start_time": "2022-10-08T22:49:26.981Z"
   },
   {
    "duration": 9,
    "start_time": "2022-10-08T22:49:44.569Z"
   },
   {
    "duration": 3,
    "start_time": "2022-10-08T22:50:38.700Z"
   },
   {
    "duration": 2,
    "start_time": "2022-10-08T22:52:08.201Z"
   },
   {
    "duration": 2,
    "start_time": "2022-10-08T22:52:09.095Z"
   },
   {
    "duration": 2,
    "start_time": "2022-10-08T22:52:10.334Z"
   },
   {
    "duration": 64504,
    "start_time": "2022-10-08T22:52:11.130Z"
   },
   {
    "duration": 6,
    "start_time": "2022-10-08T22:53:15.638Z"
   },
   {
    "duration": 15,
    "start_time": "2022-10-08T22:53:15.645Z"
   },
   {
    "duration": 3,
    "start_time": "2022-10-08T22:58:07.241Z"
   },
   {
    "duration": 6638,
    "start_time": "2022-10-08T22:58:08.190Z"
   },
   {
    "duration": 4,
    "start_time": "2022-10-08T23:01:43.771Z"
   },
   {
    "duration": 2,
    "start_time": "2022-10-08T23:02:30.101Z"
   },
   {
    "duration": 2,
    "start_time": "2022-10-08T23:02:31.303Z"
   },
   {
    "duration": 3,
    "start_time": "2022-10-08T23:02:32.082Z"
   },
   {
    "duration": 10345,
    "start_time": "2022-10-08T23:02:32.780Z"
   },
   {
    "duration": 3,
    "start_time": "2022-10-08T23:05:54.888Z"
   },
   {
    "duration": 131,
    "start_time": "2022-10-08T23:07:42.126Z"
   },
   {
    "duration": 2,
    "start_time": "2022-10-08T23:07:45.771Z"
   },
   {
    "duration": 135,
    "start_time": "2022-10-08T23:07:46.526Z"
   },
   {
    "duration": 3,
    "start_time": "2022-10-08T23:08:20.710Z"
   },
   {
    "duration": 10164,
    "start_time": "2022-10-08T23:08:21.562Z"
   },
   {
    "duration": 3,
    "start_time": "2022-10-08T23:08:41.050Z"
   },
   {
    "duration": 3,
    "start_time": "2022-10-08T23:08:41.729Z"
   },
   {
    "duration": 3,
    "start_time": "2022-10-08T23:08:42.605Z"
   },
   {
    "duration": 10360,
    "start_time": "2022-10-08T23:08:43.463Z"
   },
   {
    "duration": 9,
    "start_time": "2022-10-08T23:08:59.845Z"
   },
   {
    "duration": 10,
    "start_time": "2022-10-08T23:09:00.460Z"
   },
   {
    "duration": 89,
    "start_time": "2022-10-08T23:12:26.744Z"
   },
   {
    "duration": 3,
    "start_time": "2022-10-08T23:12:52.335Z"
   },
   {
    "duration": 10476,
    "start_time": "2022-10-08T23:13:03.263Z"
   },
   {
    "duration": 5,
    "start_time": "2022-10-08T23:13:43.899Z"
   },
   {
    "duration": 9,
    "start_time": "2022-10-08T23:13:44.772Z"
   },
   {
    "duration": 9,
    "start_time": "2022-10-08T23:14:45.738Z"
   },
   {
    "duration": 8,
    "start_time": "2022-10-08T23:15:39.340Z"
   },
   {
    "duration": 9,
    "start_time": "2022-10-08T23:15:45.558Z"
   },
   {
    "duration": 3,
    "start_time": "2022-10-08T23:19:26.146Z"
   },
   {
    "duration": 10241,
    "start_time": "2022-10-08T23:19:26.988Z"
   },
   {
    "duration": 2,
    "start_time": "2022-10-08T23:19:41.032Z"
   },
   {
    "duration": 10703,
    "start_time": "2022-10-08T23:19:42.623Z"
   },
   {
    "duration": 2,
    "start_time": "2022-10-08T23:36:56.448Z"
   },
   {
    "duration": 2,
    "start_time": "2022-10-08T23:37:07.440Z"
   },
   {
    "duration": 10516,
    "start_time": "2022-10-08T23:37:07.522Z"
   },
   {
    "duration": 6,
    "start_time": "2022-10-08T23:37:18.040Z"
   },
   {
    "duration": 2,
    "start_time": "2022-10-08T23:37:36.278Z"
   },
   {
    "duration": 3,
    "start_time": "2022-10-08T23:37:37.442Z"
   },
   {
    "duration": 10425,
    "start_time": "2022-10-08T23:37:41.301Z"
   },
   {
    "duration": 3,
    "start_time": "2022-10-08T23:40:08.358Z"
   },
   {
    "duration": 11069,
    "start_time": "2022-10-08T23:40:09.170Z"
   },
   {
    "duration": 3,
    "start_time": "2022-10-08T23:40:27.843Z"
   },
   {
    "duration": 2,
    "start_time": "2022-10-08T23:40:28.522Z"
   },
   {
    "duration": 182,
    "start_time": "2022-10-08T23:40:29.096Z"
   },
   {
    "duration": 2,
    "start_time": "2022-10-08T23:40:45.589Z"
   },
   {
    "duration": 2,
    "start_time": "2022-10-08T23:40:46.192Z"
   },
   {
    "duration": 53964,
    "start_time": "2022-10-08T23:40:46.863Z"
   },
   {
    "duration": 6,
    "start_time": "2022-10-08T23:41:48.538Z"
   },
   {
    "duration": 10,
    "start_time": "2022-10-08T23:41:49.141Z"
   },
   {
    "duration": 2,
    "start_time": "2022-10-08T23:45:38.507Z"
   },
   {
    "duration": 3,
    "start_time": "2022-10-08T23:45:39.239Z"
   },
   {
    "duration": 98,
    "start_time": "2022-10-08T23:45:39.791Z"
   },
   {
    "duration": 3,
    "start_time": "2022-10-08T23:45:48.695Z"
   },
   {
    "duration": 115,
    "start_time": "2022-10-08T23:45:49.605Z"
   },
   {
    "duration": 2,
    "start_time": "2022-10-08T23:45:55.871Z"
   },
   {
    "duration": 10640,
    "start_time": "2022-10-08T23:45:56.792Z"
   },
   {
    "duration": 3,
    "start_time": "2022-10-08T23:47:46.088Z"
   },
   {
    "duration": 10706,
    "start_time": "2022-10-08T23:47:46.733Z"
   },
   {
    "duration": 4,
    "start_time": "2022-10-09T00:17:52.561Z"
   },
   {
    "duration": 3,
    "start_time": "2022-10-09T00:18:03.092Z"
   },
   {
    "duration": 3,
    "start_time": "2022-10-09T00:18:03.936Z"
   },
   {
    "duration": 1694,
    "start_time": "2022-10-09T05:35:46.180Z"
   },
   {
    "duration": 4,
    "start_time": "2022-10-09T05:35:47.876Z"
   },
   {
    "duration": 1117,
    "start_time": "2022-10-09T05:35:47.882Z"
   },
   {
    "duration": 26,
    "start_time": "2022-10-09T05:35:49.001Z"
   },
   {
    "duration": 129,
    "start_time": "2022-10-09T05:35:49.028Z"
   },
   {
    "duration": 120,
    "start_time": "2022-10-09T05:35:49.158Z"
   },
   {
    "duration": 80,
    "start_time": "2022-10-09T05:35:49.279Z"
   },
   {
    "duration": 191,
    "start_time": "2022-10-09T05:35:49.361Z"
   },
   {
    "duration": 5,
    "start_time": "2022-10-09T05:35:49.554Z"
   },
   {
    "duration": 2106,
    "start_time": "2022-10-09T05:35:49.561Z"
   },
   {
    "duration": 18,
    "start_time": "2022-10-09T05:35:51.669Z"
   },
   {
    "duration": 2497,
    "start_time": "2022-10-09T05:35:51.689Z"
   },
   {
    "duration": 31,
    "start_time": "2022-10-09T05:35:54.192Z"
   },
   {
    "duration": 23,
    "start_time": "2022-10-09T05:35:54.235Z"
   },
   {
    "duration": 2156,
    "start_time": "2022-10-09T05:35:54.261Z"
   },
   {
    "duration": 35,
    "start_time": "2022-10-09T05:35:56.419Z"
   },
   {
    "duration": 1788,
    "start_time": "2022-10-09T05:35:56.456Z"
   },
   {
    "duration": 297,
    "start_time": "2022-10-09T05:35:58.246Z"
   },
   {
    "duration": 74,
    "start_time": "2022-10-09T05:35:58.545Z"
   },
   {
    "duration": 26,
    "start_time": "2022-10-09T05:35:58.620Z"
   },
   {
    "duration": 4,
    "start_time": "2022-10-09T05:35:58.648Z"
   },
   {
    "duration": 197,
    "start_time": "2022-10-09T05:35:58.654Z"
   },
   {
    "duration": 59,
    "start_time": "2022-10-09T05:35:58.852Z"
   },
   {
    "duration": 208,
    "start_time": "2022-10-09T05:35:58.913Z"
   },
   {
    "duration": 222,
    "start_time": "2022-10-09T05:35:59.122Z"
   },
   {
    "duration": 203,
    "start_time": "2022-10-09T05:35:59.346Z"
   },
   {
    "duration": 435,
    "start_time": "2022-10-09T05:35:59.551Z"
   },
   {
    "duration": 3,
    "start_time": "2022-10-09T05:35:59.990Z"
   },
   {
    "duration": 98,
    "start_time": "2022-10-09T05:35:59.994Z"
   },
   {
    "duration": 116,
    "start_time": "2022-10-09T05:36:00.093Z"
   },
   {
    "duration": 105,
    "start_time": "2022-10-09T05:36:00.210Z"
   },
   {
    "duration": 21,
    "start_time": "2022-10-09T05:36:00.317Z"
   },
   {
    "duration": 52,
    "start_time": "2022-10-09T05:36:00.339Z"
   },
   {
    "duration": 13,
    "start_time": "2022-10-09T05:36:00.392Z"
   },
   {
    "duration": 227,
    "start_time": "2022-10-09T05:36:00.407Z"
   },
   {
    "duration": 149,
    "start_time": "2022-10-09T05:36:00.636Z"
   },
   {
    "duration": 4,
    "start_time": "2022-10-09T05:36:00.787Z"
   },
   {
    "duration": 28,
    "start_time": "2022-10-09T05:36:00.792Z"
   },
   {
    "duration": 148,
    "start_time": "2022-10-09T05:36:00.822Z"
   },
   {
    "duration": 4,
    "start_time": "2022-10-09T05:36:00.972Z"
   },
   {
    "duration": 31,
    "start_time": "2022-10-09T05:36:00.978Z"
   },
   {
    "duration": 14,
    "start_time": "2022-10-09T05:36:01.010Z"
   },
   {
    "duration": 30,
    "start_time": "2022-10-09T05:36:01.025Z"
   },
   {
    "duration": 36,
    "start_time": "2022-10-09T05:36:01.057Z"
   },
   {
    "duration": 130,
    "start_time": "2022-10-09T05:36:01.095Z"
   },
   {
    "duration": 0,
    "start_time": "2022-10-09T05:36:01.226Z"
   },
   {
    "duration": 0,
    "start_time": "2022-10-09T05:36:01.233Z"
   },
   {
    "duration": 0,
    "start_time": "2022-10-09T05:36:01.234Z"
   },
   {
    "duration": 0,
    "start_time": "2022-10-09T05:36:01.236Z"
   },
   {
    "duration": 0,
    "start_time": "2022-10-09T05:36:01.237Z"
   },
   {
    "duration": 0,
    "start_time": "2022-10-09T05:36:01.238Z"
   },
   {
    "duration": 0,
    "start_time": "2022-10-09T05:36:01.239Z"
   },
   {
    "duration": 0,
    "start_time": "2022-10-09T05:36:01.240Z"
   },
   {
    "duration": 0,
    "start_time": "2022-10-09T05:36:01.241Z"
   },
   {
    "duration": 0,
    "start_time": "2022-10-09T05:36:01.243Z"
   },
   {
    "duration": 0,
    "start_time": "2022-10-09T05:36:01.244Z"
   },
   {
    "duration": 0,
    "start_time": "2022-10-09T05:36:01.245Z"
   },
   {
    "duration": 0,
    "start_time": "2022-10-09T05:36:01.247Z"
   },
   {
    "duration": 0,
    "start_time": "2022-10-09T05:36:01.248Z"
   },
   {
    "duration": 0,
    "start_time": "2022-10-09T05:36:01.249Z"
   },
   {
    "duration": 0,
    "start_time": "2022-10-09T05:36:01.251Z"
   },
   {
    "duration": 0,
    "start_time": "2022-10-09T05:36:01.252Z"
   },
   {
    "duration": 0,
    "start_time": "2022-10-09T05:36:01.253Z"
   },
   {
    "duration": 0,
    "start_time": "2022-10-09T05:36:01.254Z"
   },
   {
    "duration": 0,
    "start_time": "2022-10-09T05:36:01.255Z"
   },
   {
    "duration": 4,
    "start_time": "2022-10-09T05:37:13.719Z"
   },
   {
    "duration": 3,
    "start_time": "2022-10-09T05:37:19.169Z"
   },
   {
    "duration": 219436,
    "start_time": "2022-10-09T05:37:20.112Z"
   },
   {
    "duration": 3,
    "start_time": "2022-10-09T05:40:59.550Z"
   },
   {
    "duration": 2,
    "start_time": "2022-10-09T05:43:05.212Z"
   },
   {
    "duration": 143871,
    "start_time": "2022-10-09T05:43:06.670Z"
   },
   {
    "duration": 9,
    "start_time": "2022-10-09T05:45:41.505Z"
   },
   {
    "duration": 9,
    "start_time": "2022-10-09T05:45:41.545Z"
   },
   {
    "duration": 5,
    "start_time": "2022-10-09T05:46:23.448Z"
   },
   {
    "duration": 3,
    "start_time": "2022-10-09T05:46:36.156Z"
   },
   {
    "duration": 4,
    "start_time": "2022-10-09T05:46:37.043Z"
   },
   {
    "duration": 3,
    "start_time": "2022-10-09T05:47:43.123Z"
   },
   {
    "duration": 7830,
    "start_time": "2022-10-09T05:47:45.106Z"
   },
   {
    "duration": 4,
    "start_time": "2022-10-09T05:48:01.657Z"
   },
   {
    "duration": 6,
    "start_time": "2022-10-09T05:48:46.935Z"
   },
   {
    "duration": 8,
    "start_time": "2022-10-09T05:48:47.973Z"
   },
   {
    "duration": 8,
    "start_time": "2022-10-09T05:49:13.716Z"
   },
   {
    "duration": 4,
    "start_time": "2022-10-09T05:49:30.136Z"
   },
   {
    "duration": 8,
    "start_time": "2022-10-09T05:49:39.551Z"
   },
   {
    "duration": 3,
    "start_time": "2022-10-09T05:50:20.976Z"
   },
   {
    "duration": 22057,
    "start_time": "2022-10-09T05:50:21.594Z"
   },
   {
    "duration": 6,
    "start_time": "2022-10-09T05:50:48.282Z"
   },
   {
    "duration": 9,
    "start_time": "2022-10-09T05:50:48.888Z"
   },
   {
    "duration": 3,
    "start_time": "2022-10-09T05:51:42.176Z"
   },
   {
    "duration": 3,
    "start_time": "2022-10-09T05:51:43.271Z"
   },
   {
    "duration": 3,
    "start_time": "2022-10-09T05:51:48.216Z"
   },
   {
    "duration": 9122,
    "start_time": "2022-10-09T05:51:49.617Z"
   },
   {
    "duration": 7,
    "start_time": "2022-10-09T05:52:00.460Z"
   },
   {
    "duration": 8,
    "start_time": "2022-10-09T05:52:01.343Z"
   },
   {
    "duration": 3,
    "start_time": "2022-10-09T05:54:44.882Z"
   },
   {
    "duration": 3,
    "start_time": "2022-10-09T05:56:19.000Z"
   },
   {
    "duration": 54,
    "start_time": "2022-10-09T05:56:20.400Z"
   },
   {
    "duration": 3,
    "start_time": "2022-10-09T05:56:33.578Z"
   },
   {
    "duration": 3,
    "start_time": "2022-10-09T05:56:40.021Z"
   },
   {
    "duration": 47,
    "start_time": "2022-10-09T05:56:42.847Z"
   },
   {
    "duration": 2,
    "start_time": "2022-10-09T05:56:48.348Z"
   },
   {
    "duration": 3,
    "start_time": "2022-10-09T05:56:49.010Z"
   },
   {
    "duration": 2328,
    "start_time": "2022-10-09T05:56:49.706Z"
   },
   {
    "duration": 6,
    "start_time": "2022-10-09T05:57:08.981Z"
   },
   {
    "duration": 10,
    "start_time": "2022-10-09T05:57:18.519Z"
   },
   {
    "duration": 5,
    "start_time": "2022-10-09T05:58:18.359Z"
   },
   {
    "duration": 10,
    "start_time": "2022-10-09T06:00:09.116Z"
   },
   {
    "duration": 10,
    "start_time": "2022-10-09T06:00:13.177Z"
   },
   {
    "duration": 4,
    "start_time": "2022-10-09T06:00:22.737Z"
   },
   {
    "duration": 4,
    "start_time": "2022-10-09T06:00:23.452Z"
   },
   {
    "duration": 9,
    "start_time": "2022-10-09T06:00:27.177Z"
   },
   {
    "duration": 3,
    "start_time": "2022-10-09T06:01:56.261Z"
   },
   {
    "duration": 3,
    "start_time": "2022-10-09T06:01:56.798Z"
   },
   {
    "duration": 11844,
    "start_time": "2022-10-09T06:01:57.398Z"
   },
   {
    "duration": 6,
    "start_time": "2022-10-09T06:02:31.434Z"
   },
   {
    "duration": 11,
    "start_time": "2022-10-09T06:02:34.235Z"
   },
   {
    "duration": 10,
    "start_time": "2022-10-09T06:02:51.383Z"
   },
   {
    "duration": 55945,
    "start_time": "2022-10-09T06:03:03.390Z"
   },
   {
    "duration": 11,
    "start_time": "2022-10-09T06:04:24.189Z"
   },
   {
    "duration": 10,
    "start_time": "2022-10-09T06:05:02.256Z"
   },
   {
    "duration": 7,
    "start_time": "2022-10-09T06:05:11.694Z"
   },
   {
    "duration": 10,
    "start_time": "2022-10-09T06:05:29.118Z"
   },
   {
    "duration": 4,
    "start_time": "2022-10-09T06:07:27.206Z"
   },
   {
    "duration": 18907,
    "start_time": "2022-10-09T06:07:31.134Z"
   },
   {
    "duration": 4,
    "start_time": "2022-10-09T06:08:00.921Z"
   },
   {
    "duration": 13486,
    "start_time": "2022-10-09T06:08:04.255Z"
   },
   {
    "duration": 4,
    "start_time": "2022-10-09T06:08:55.408Z"
   },
   {
    "duration": 11422,
    "start_time": "2022-10-09T06:08:59.412Z"
   },
   {
    "duration": 4,
    "start_time": "2022-10-09T06:10:20.890Z"
   },
   {
    "duration": 4,
    "start_time": "2022-10-09T06:10:24.347Z"
   },
   {
    "duration": 12621,
    "start_time": "2022-10-09T06:10:27.616Z"
   },
   {
    "duration": 4,
    "start_time": "2022-10-09T06:11:02.442Z"
   },
   {
    "duration": 12141,
    "start_time": "2022-10-09T06:11:05.299Z"
   },
   {
    "duration": 2,
    "start_time": "2022-10-09T06:12:07.985Z"
   },
   {
    "duration": 11801,
    "start_time": "2022-10-09T06:12:08.940Z"
   },
   {
    "duration": 7,
    "start_time": "2022-10-09T06:12:23.894Z"
   },
   {
    "duration": 10,
    "start_time": "2022-10-09T06:12:27.636Z"
   },
   {
    "duration": 1390,
    "start_time": "2022-10-09T06:13:04.342Z"
   },
   {
    "duration": 3,
    "start_time": "2022-10-09T06:13:05.734Z"
   },
   {
    "duration": 806,
    "start_time": "2022-10-09T06:13:05.739Z"
   },
   {
    "duration": 27,
    "start_time": "2022-10-09T06:13:06.547Z"
   },
   {
    "duration": 138,
    "start_time": "2022-10-09T06:13:06.575Z"
   },
   {
    "duration": 130,
    "start_time": "2022-10-09T06:13:06.715Z"
   },
   {
    "duration": 70,
    "start_time": "2022-10-09T06:13:06.847Z"
   },
   {
    "duration": 207,
    "start_time": "2022-10-09T06:13:06.918Z"
   },
   {
    "duration": 10,
    "start_time": "2022-10-09T06:13:07.126Z"
   },
   {
    "duration": 1989,
    "start_time": "2022-10-09T06:13:07.138Z"
   },
   {
    "duration": 14,
    "start_time": "2022-10-09T06:13:09.133Z"
   },
   {
    "duration": 2017,
    "start_time": "2022-10-09T06:13:09.149Z"
   },
   {
    "duration": 26,
    "start_time": "2022-10-09T06:13:11.167Z"
   },
   {
    "duration": 17,
    "start_time": "2022-10-09T06:13:11.194Z"
   },
   {
    "duration": 1945,
    "start_time": "2022-10-09T06:13:11.212Z"
   },
   {
    "duration": 24,
    "start_time": "2022-10-09T06:13:13.159Z"
   },
   {
    "duration": 1699,
    "start_time": "2022-10-09T06:13:13.185Z"
   },
   {
    "duration": 278,
    "start_time": "2022-10-09T06:13:14.885Z"
   },
   {
    "duration": 85,
    "start_time": "2022-10-09T06:13:15.165Z"
   },
   {
    "duration": 16,
    "start_time": "2022-10-09T06:13:15.252Z"
   },
   {
    "duration": 18,
    "start_time": "2022-10-09T06:13:15.270Z"
   },
   {
    "duration": 172,
    "start_time": "2022-10-09T06:13:15.290Z"
   },
   {
    "duration": 57,
    "start_time": "2022-10-09T06:13:15.464Z"
   },
   {
    "duration": 210,
    "start_time": "2022-10-09T06:13:15.523Z"
   },
   {
    "duration": 202,
    "start_time": "2022-10-09T06:13:15.735Z"
   },
   {
    "duration": 198,
    "start_time": "2022-10-09T06:13:15.939Z"
   },
   {
    "duration": 460,
    "start_time": "2022-10-09T06:13:16.139Z"
   },
   {
    "duration": 4,
    "start_time": "2022-10-09T06:13:16.603Z"
   },
   {
    "duration": 80,
    "start_time": "2022-10-09T06:13:16.609Z"
   },
   {
    "duration": 122,
    "start_time": "2022-10-09T06:13:16.690Z"
   },
   {
    "duration": 104,
    "start_time": "2022-10-09T06:13:16.814Z"
   },
   {
    "duration": 24,
    "start_time": "2022-10-09T06:13:16.920Z"
   },
   {
    "duration": 58,
    "start_time": "2022-10-09T06:13:16.946Z"
   },
   {
    "duration": 28,
    "start_time": "2022-10-09T06:13:17.005Z"
   },
   {
    "duration": 192,
    "start_time": "2022-10-09T06:13:17.035Z"
   },
   {
    "duration": 147,
    "start_time": "2022-10-09T06:13:17.228Z"
   },
   {
    "duration": 4,
    "start_time": "2022-10-09T06:13:17.377Z"
   },
   {
    "duration": 18,
    "start_time": "2022-10-09T06:13:17.382Z"
   },
   {
    "duration": 136,
    "start_time": "2022-10-09T06:13:17.401Z"
   },
   {
    "duration": 5,
    "start_time": "2022-10-09T06:13:17.538Z"
   },
   {
    "duration": 11,
    "start_time": "2022-10-09T06:13:17.544Z"
   },
   {
    "duration": 6,
    "start_time": "2022-10-09T06:13:17.556Z"
   },
   {
    "duration": 23,
    "start_time": "2022-10-09T06:13:17.563Z"
   },
   {
    "duration": 2,
    "start_time": "2022-10-09T06:14:09.451Z"
   },
   {
    "duration": 175,
    "start_time": "2022-10-09T06:14:18.110Z"
   },
   {
    "duration": 2,
    "start_time": "2022-10-09T06:14:20.649Z"
   },
   {
    "duration": 127414,
    "start_time": "2022-10-09T06:14:21.423Z"
   },
   {
    "duration": 7,
    "start_time": "2022-10-09T06:17:11.609Z"
   },
   {
    "duration": 9,
    "start_time": "2022-10-09T06:17:15.690Z"
   },
   {
    "duration": 12,
    "start_time": "2022-10-09T06:17:30.826Z"
   },
   {
    "duration": 10892,
    "start_time": "2022-10-09T06:18:08.945Z"
   },
   {
    "duration": 4,
    "start_time": "2022-10-09T06:18:58.166Z"
   },
   {
    "duration": 12121,
    "start_time": "2022-10-09T06:19:26.418Z"
   },
   {
    "duration": 11489,
    "start_time": "2022-10-09T06:19:45.451Z"
   },
   {
    "duration": 1350,
    "start_time": "2022-10-09T06:24:17.168Z"
   },
   {
    "duration": 3,
    "start_time": "2022-10-09T06:24:18.520Z"
   },
   {
    "duration": 783,
    "start_time": "2022-10-09T06:24:18.524Z"
   },
   {
    "duration": 29,
    "start_time": "2022-10-09T06:24:19.309Z"
   },
   {
    "duration": 131,
    "start_time": "2022-10-09T06:24:19.340Z"
   },
   {
    "duration": 125,
    "start_time": "2022-10-09T06:24:19.473Z"
   },
   {
    "duration": 84,
    "start_time": "2022-10-09T06:24:19.599Z"
   },
   {
    "duration": 218,
    "start_time": "2022-10-09T06:24:19.685Z"
   },
   {
    "duration": 5,
    "start_time": "2022-10-09T06:24:19.904Z"
   },
   {
    "duration": 1936,
    "start_time": "2022-10-09T06:24:19.910Z"
   },
   {
    "duration": 15,
    "start_time": "2022-10-09T06:24:21.847Z"
   },
   {
    "duration": 1982,
    "start_time": "2022-10-09T06:24:21.864Z"
   },
   {
    "duration": 23,
    "start_time": "2022-10-09T06:24:23.848Z"
   },
   {
    "duration": 15,
    "start_time": "2022-10-09T06:24:23.874Z"
   },
   {
    "duration": 1927,
    "start_time": "2022-10-09T06:24:23.890Z"
   },
   {
    "duration": 26,
    "start_time": "2022-10-09T06:24:25.819Z"
   },
   {
    "duration": 1764,
    "start_time": "2022-10-09T06:24:25.846Z"
   },
   {
    "duration": 264,
    "start_time": "2022-10-09T06:24:27.612Z"
   },
   {
    "duration": 75,
    "start_time": "2022-10-09T06:24:27.878Z"
   },
   {
    "duration": 16,
    "start_time": "2022-10-09T06:24:27.954Z"
   },
   {
    "duration": 3,
    "start_time": "2022-10-09T06:24:27.972Z"
   },
   {
    "duration": 181,
    "start_time": "2022-10-09T06:24:27.976Z"
   },
   {
    "duration": 58,
    "start_time": "2022-10-09T06:24:28.161Z"
   },
   {
    "duration": 206,
    "start_time": "2022-10-09T06:24:28.220Z"
   },
   {
    "duration": 207,
    "start_time": "2022-10-09T06:24:28.427Z"
   },
   {
    "duration": 216,
    "start_time": "2022-10-09T06:24:28.636Z"
   },
   {
    "duration": 385,
    "start_time": "2022-10-09T06:24:28.854Z"
   },
   {
    "duration": 4,
    "start_time": "2022-10-09T06:24:29.241Z"
   },
   {
    "duration": 88,
    "start_time": "2022-10-09T06:24:29.246Z"
   },
   {
    "duration": 115,
    "start_time": "2022-10-09T06:24:29.336Z"
   },
   {
    "duration": 96,
    "start_time": "2022-10-09T06:24:29.453Z"
   },
   {
    "duration": 16,
    "start_time": "2022-10-09T06:24:29.551Z"
   },
   {
    "duration": 70,
    "start_time": "2022-10-09T06:24:29.568Z"
   },
   {
    "duration": 12,
    "start_time": "2022-10-09T06:24:29.640Z"
   },
   {
    "duration": 205,
    "start_time": "2022-10-09T06:24:29.654Z"
   },
   {
    "duration": 149,
    "start_time": "2022-10-09T06:24:29.860Z"
   },
   {
    "duration": 4,
    "start_time": "2022-10-09T06:24:30.011Z"
   },
   {
    "duration": 22,
    "start_time": "2022-10-09T06:24:30.016Z"
   },
   {
    "duration": 138,
    "start_time": "2022-10-09T06:24:30.040Z"
   },
   {
    "duration": 3,
    "start_time": "2022-10-09T06:24:30.180Z"
   },
   {
    "duration": 11,
    "start_time": "2022-10-09T06:24:30.187Z"
   },
   {
    "duration": 6,
    "start_time": "2022-10-09T06:24:30.199Z"
   },
   {
    "duration": 12,
    "start_time": "2022-10-09T06:24:30.207Z"
   },
   {
    "duration": 13,
    "start_time": "2022-10-09T06:24:30.221Z"
   },
   {
    "duration": 9,
    "start_time": "2022-10-09T06:24:30.235Z"
   },
   {
    "duration": 62394,
    "start_time": "2022-10-09T06:24:30.245Z"
   },
   {
    "duration": 283,
    "start_time": "2022-10-09T06:25:32.642Z"
   },
   {
    "duration": 0,
    "start_time": "2022-10-09T06:25:32.933Z"
   },
   {
    "duration": 0,
    "start_time": "2022-10-09T06:25:32.935Z"
   },
   {
    "duration": 0,
    "start_time": "2022-10-09T06:25:32.936Z"
   },
   {
    "duration": 0,
    "start_time": "2022-10-09T06:25:32.937Z"
   },
   {
    "duration": 0,
    "start_time": "2022-10-09T06:25:32.938Z"
   },
   {
    "duration": 0,
    "start_time": "2022-10-09T06:25:32.939Z"
   },
   {
    "duration": 0,
    "start_time": "2022-10-09T06:25:32.940Z"
   },
   {
    "duration": 0,
    "start_time": "2022-10-09T06:25:32.940Z"
   },
   {
    "duration": 0,
    "start_time": "2022-10-09T06:25:32.941Z"
   },
   {
    "duration": 0,
    "start_time": "2022-10-09T06:25:32.942Z"
   },
   {
    "duration": 0,
    "start_time": "2022-10-09T06:25:32.943Z"
   },
   {
    "duration": 0,
    "start_time": "2022-10-09T06:25:32.944Z"
   },
   {
    "duration": 0,
    "start_time": "2022-10-09T06:25:32.945Z"
   },
   {
    "duration": 0,
    "start_time": "2022-10-09T06:25:32.946Z"
   },
   {
    "duration": 0,
    "start_time": "2022-10-09T06:25:32.947Z"
   },
   {
    "duration": 0,
    "start_time": "2022-10-09T06:25:32.948Z"
   },
   {
    "duration": 0,
    "start_time": "2022-10-09T06:25:32.949Z"
   },
   {
    "duration": 0,
    "start_time": "2022-10-09T06:25:32.950Z"
   },
   {
    "duration": 0,
    "start_time": "2022-10-09T06:25:32.951Z"
   },
   {
    "duration": 8,
    "start_time": "2022-10-09T06:25:42.104Z"
   },
   {
    "duration": 11,
    "start_time": "2022-10-09T06:25:44.492Z"
   },
   {
    "duration": 3,
    "start_time": "2022-10-09T06:25:49.712Z"
   },
   {
    "duration": 3,
    "start_time": "2022-10-09T06:25:52.428Z"
   },
   {
    "duration": 3,
    "start_time": "2022-10-09T06:26:02.740Z"
   },
   {
    "duration": 1388,
    "start_time": "2022-10-09T06:31:40.765Z"
   },
   {
    "duration": 4,
    "start_time": "2022-10-09T06:31:42.154Z"
   },
   {
    "duration": 768,
    "start_time": "2022-10-09T06:31:42.159Z"
   },
   {
    "duration": 27,
    "start_time": "2022-10-09T06:31:42.928Z"
   },
   {
    "duration": 130,
    "start_time": "2022-10-09T06:31:42.956Z"
   },
   {
    "duration": 124,
    "start_time": "2022-10-09T06:31:43.087Z"
   },
   {
    "duration": 73,
    "start_time": "2022-10-09T06:31:43.213Z"
   },
   {
    "duration": 196,
    "start_time": "2022-10-09T06:31:43.288Z"
   },
   {
    "duration": 5,
    "start_time": "2022-10-09T06:31:43.485Z"
   },
   {
    "duration": 1955,
    "start_time": "2022-10-09T06:31:43.492Z"
   },
   {
    "duration": 15,
    "start_time": "2022-10-09T06:31:45.449Z"
   },
   {
    "duration": 2074,
    "start_time": "2022-10-09T06:31:45.466Z"
   },
   {
    "duration": 25,
    "start_time": "2022-10-09T06:31:47.543Z"
   },
   {
    "duration": 16,
    "start_time": "2022-10-09T06:31:47.570Z"
   },
   {
    "duration": 1927,
    "start_time": "2022-10-09T06:31:47.588Z"
   },
   {
    "duration": 39,
    "start_time": "2022-10-09T06:31:49.516Z"
   },
   {
    "duration": 2096,
    "start_time": "2022-10-09T06:31:49.556Z"
   },
   {
    "duration": 582,
    "start_time": "2022-10-09T06:31:51.654Z"
   },
   {
    "duration": 130,
    "start_time": "2022-10-09T06:31:52.237Z"
   },
   {
    "duration": 70,
    "start_time": "2022-10-09T06:31:52.369Z"
   },
   {
    "duration": 3,
    "start_time": "2022-10-09T06:31:52.441Z"
   },
   {
    "duration": 237,
    "start_time": "2022-10-09T06:31:52.445Z"
   },
   {
    "duration": 60,
    "start_time": "2022-10-09T06:31:52.684Z"
   },
   {
    "duration": 203,
    "start_time": "2022-10-09T06:31:52.746Z"
   },
   {
    "duration": 216,
    "start_time": "2022-10-09T06:31:52.950Z"
   },
   {
    "duration": 214,
    "start_time": "2022-10-09T06:31:53.168Z"
   },
   {
    "duration": 413,
    "start_time": "2022-10-09T06:31:53.384Z"
   },
   {
    "duration": 3,
    "start_time": "2022-10-09T06:31:53.801Z"
   },
   {
    "duration": 88,
    "start_time": "2022-10-09T06:31:53.806Z"
   },
   {
    "duration": 114,
    "start_time": "2022-10-09T06:31:53.896Z"
   },
   {
    "duration": 100,
    "start_time": "2022-10-09T06:31:54.012Z"
   },
   {
    "duration": 26,
    "start_time": "2022-10-09T06:31:54.114Z"
   },
   {
    "duration": 55,
    "start_time": "2022-10-09T06:31:54.141Z"
   },
   {
    "duration": 14,
    "start_time": "2022-10-09T06:31:54.199Z"
   },
   {
    "duration": 201,
    "start_time": "2022-10-09T06:31:54.233Z"
   },
   {
    "duration": 155,
    "start_time": "2022-10-09T06:31:54.436Z"
   },
   {
    "duration": 4,
    "start_time": "2022-10-09T06:31:54.593Z"
   },
   {
    "duration": 36,
    "start_time": "2022-10-09T06:31:54.598Z"
   },
   {
    "duration": 144,
    "start_time": "2022-10-09T06:31:54.635Z"
   },
   {
    "duration": 4,
    "start_time": "2022-10-09T06:31:54.781Z"
   },
   {
    "duration": 27,
    "start_time": "2022-10-09T06:31:54.787Z"
   },
   {
    "duration": 28,
    "start_time": "2022-10-09T06:31:54.816Z"
   },
   {
    "duration": 44,
    "start_time": "2022-10-09T06:31:54.845Z"
   },
   {
    "duration": 22,
    "start_time": "2022-10-09T06:31:54.890Z"
   },
   {
    "duration": 22,
    "start_time": "2022-10-09T06:31:54.914Z"
   },
   {
    "duration": 67504,
    "start_time": "2022-10-09T06:31:54.938Z"
   },
   {
    "duration": 91,
    "start_time": "2022-10-09T06:33:02.444Z"
   },
   {
    "duration": 112,
    "start_time": "2022-10-09T06:33:02.537Z"
   },
   {
    "duration": 4,
    "start_time": "2022-10-09T06:33:02.651Z"
   },
   {
    "duration": 13,
    "start_time": "2022-10-09T06:33:02.656Z"
   },
   {
    "duration": 9494269,
    "start_time": "2022-10-09T06:33:02.670Z"
   },
   {
    "duration": 7,
    "start_time": "2022-10-09T09:11:16.950Z"
   },
   {
    "duration": 136,
    "start_time": "2022-10-09T09:11:16.958Z"
   },
   {
    "duration": 0,
    "start_time": "2022-10-09T09:11:17.095Z"
   },
   {
    "duration": 0,
    "start_time": "2022-10-09T09:11:17.098Z"
   },
   {
    "duration": 0,
    "start_time": "2022-10-09T09:11:17.099Z"
   },
   {
    "duration": 0,
    "start_time": "2022-10-09T09:11:17.100Z"
   },
   {
    "duration": 0,
    "start_time": "2022-10-09T09:11:17.101Z"
   },
   {
    "duration": 0,
    "start_time": "2022-10-09T09:11:17.103Z"
   },
   {
    "duration": 0,
    "start_time": "2022-10-09T09:11:17.104Z"
   },
   {
    "duration": 0,
    "start_time": "2022-10-09T09:11:17.106Z"
   },
   {
    "duration": 0,
    "start_time": "2022-10-09T09:11:17.108Z"
   },
   {
    "duration": 0,
    "start_time": "2022-10-09T09:11:17.109Z"
   },
   {
    "duration": 0,
    "start_time": "2022-10-09T09:11:17.135Z"
   },
   {
    "duration": 0,
    "start_time": "2022-10-09T09:11:17.136Z"
   },
   {
    "duration": 62,
    "start_time": "2022-10-09T09:20:33.061Z"
   },
   {
    "duration": 4,
    "start_time": "2022-10-09T09:21:16.502Z"
   },
   {
    "duration": 2,
    "start_time": "2022-10-09T09:21:18.120Z"
   },
   {
    "duration": 3,
    "start_time": "2022-10-09T09:21:21.409Z"
   },
   {
    "duration": 6798235,
    "start_time": "2022-10-09T09:21:21.952Z"
   },
   {
    "duration": 9,
    "start_time": "2022-10-09T11:37:48.536Z"
   },
   {
    "duration": 9,
    "start_time": "2022-10-09T11:37:50.282Z"
   },
   {
    "duration": 2,
    "start_time": "2022-10-09T11:38:10.941Z"
   },
   {
    "duration": 3,
    "start_time": "2022-10-09T11:38:12.465Z"
   },
   {
    "duration": 4841137,
    "start_time": "2022-10-09T11:38:21.322Z"
   },
   {
    "duration": 7,
    "start_time": "2022-10-09T13:02:06.645Z"
   },
   {
    "duration": 9,
    "start_time": "2022-10-09T13:02:19.018Z"
   },
   {
    "duration": 10,
    "start_time": "2022-10-09T13:03:47.012Z"
   },
   {
    "duration": 90,
    "start_time": "2022-10-09T13:14:38.726Z"
   },
   {
    "duration": 4,
    "start_time": "2022-10-09T13:21:45.300Z"
   },
   {
    "duration": 39,
    "start_time": "2022-10-09T13:24:12.933Z"
   },
   {
    "duration": 38,
    "start_time": "2022-10-09T13:24:31.170Z"
   },
   {
    "duration": 35,
    "start_time": "2022-10-09T13:24:42.942Z"
   },
   {
    "duration": 34,
    "start_time": "2022-10-09T13:24:47.544Z"
   },
   {
    "duration": 36,
    "start_time": "2022-10-09T13:24:51.407Z"
   },
   {
    "duration": 4,
    "start_time": "2022-10-09T13:43:19.053Z"
   },
   {
    "duration": 4,
    "start_time": "2022-10-09T13:43:33.975Z"
   },
   {
    "duration": 40,
    "start_time": "2022-10-10T08:31:51.296Z"
   },
   {
    "duration": 1500,
    "start_time": "2022-10-10T08:32:44.235Z"
   },
   {
    "duration": 3,
    "start_time": "2022-10-10T08:32:45.737Z"
   },
   {
    "duration": 2846,
    "start_time": "2022-10-10T08:32:45.741Z"
   },
   {
    "duration": 24,
    "start_time": "2022-10-10T08:32:48.589Z"
   },
   {
    "duration": 98,
    "start_time": "2022-10-10T08:32:48.616Z"
   },
   {
    "duration": 100,
    "start_time": "2022-10-10T08:32:48.716Z"
   },
   {
    "duration": 62,
    "start_time": "2022-10-10T08:32:48.818Z"
   },
   {
    "duration": 170,
    "start_time": "2022-10-10T08:32:48.882Z"
   },
   {
    "duration": 5,
    "start_time": "2022-10-10T08:32:49.055Z"
   },
   {
    "duration": 1843,
    "start_time": "2022-10-10T08:32:49.062Z"
   },
   {
    "duration": 14,
    "start_time": "2022-10-10T08:32:50.907Z"
   },
   {
    "duration": 1783,
    "start_time": "2022-10-10T08:32:50.922Z"
   },
   {
    "duration": 19,
    "start_time": "2022-10-10T08:32:52.707Z"
   },
   {
    "duration": 17,
    "start_time": "2022-10-10T08:32:52.729Z"
   },
   {
    "duration": 1756,
    "start_time": "2022-10-10T08:32:52.748Z"
   },
   {
    "duration": 24,
    "start_time": "2022-10-10T08:32:54.506Z"
   },
   {
    "duration": 1380,
    "start_time": "2022-10-10T08:32:54.531Z"
   },
   {
    "duration": 258,
    "start_time": "2022-10-10T08:32:55.913Z"
   },
   {
    "duration": 77,
    "start_time": "2022-10-10T08:32:56.173Z"
   },
   {
    "duration": 17,
    "start_time": "2022-10-10T08:32:56.251Z"
   },
   {
    "duration": 4,
    "start_time": "2022-10-10T08:32:56.269Z"
   },
   {
    "duration": 152,
    "start_time": "2022-10-10T08:32:56.274Z"
   },
   {
    "duration": 63,
    "start_time": "2022-10-10T08:32:56.428Z"
   },
   {
    "duration": 171,
    "start_time": "2022-10-10T08:32:56.492Z"
   },
   {
    "duration": 193,
    "start_time": "2022-10-10T08:32:56.664Z"
   },
   {
    "duration": 192,
    "start_time": "2022-10-10T08:32:56.859Z"
   },
   {
    "duration": 381,
    "start_time": "2022-10-10T08:32:57.053Z"
   },
   {
    "duration": 97,
    "start_time": "2022-10-10T08:32:57.435Z"
   },
   {
    "duration": 0,
    "start_time": "2022-10-10T08:32:57.535Z"
   },
   {
    "duration": 0,
    "start_time": "2022-10-10T08:32:57.536Z"
   },
   {
    "duration": 0,
    "start_time": "2022-10-10T08:32:57.537Z"
   },
   {
    "duration": 0,
    "start_time": "2022-10-10T08:32:57.538Z"
   },
   {
    "duration": 0,
    "start_time": "2022-10-10T08:32:57.539Z"
   },
   {
    "duration": 0,
    "start_time": "2022-10-10T08:32:57.540Z"
   },
   {
    "duration": 0,
    "start_time": "2022-10-10T08:32:57.541Z"
   },
   {
    "duration": 0,
    "start_time": "2022-10-10T08:32:57.542Z"
   },
   {
    "duration": 0,
    "start_time": "2022-10-10T08:32:57.543Z"
   },
   {
    "duration": 0,
    "start_time": "2022-10-10T08:32:57.544Z"
   },
   {
    "duration": 1,
    "start_time": "2022-10-10T08:32:57.544Z"
   },
   {
    "duration": 0,
    "start_time": "2022-10-10T08:32:57.545Z"
   },
   {
    "duration": 0,
    "start_time": "2022-10-10T08:32:57.546Z"
   },
   {
    "duration": 0,
    "start_time": "2022-10-10T08:32:57.547Z"
   },
   {
    "duration": 0,
    "start_time": "2022-10-10T08:32:57.548Z"
   },
   {
    "duration": 0,
    "start_time": "2022-10-10T08:32:57.549Z"
   },
   {
    "duration": 0,
    "start_time": "2022-10-10T08:32:57.549Z"
   },
   {
    "duration": 0,
    "start_time": "2022-10-10T08:32:57.550Z"
   },
   {
    "duration": 0,
    "start_time": "2022-10-10T08:32:57.551Z"
   },
   {
    "duration": 0,
    "start_time": "2022-10-10T08:32:57.552Z"
   },
   {
    "duration": 0,
    "start_time": "2022-10-10T08:32:57.553Z"
   },
   {
    "duration": 0,
    "start_time": "2022-10-10T08:32:57.554Z"
   },
   {
    "duration": 0,
    "start_time": "2022-10-10T08:32:57.555Z"
   },
   {
    "duration": 0,
    "start_time": "2022-10-10T08:32:57.556Z"
   },
   {
    "duration": 0,
    "start_time": "2022-10-10T08:32:57.557Z"
   },
   {
    "duration": 0,
    "start_time": "2022-10-10T08:32:57.558Z"
   },
   {
    "duration": 0,
    "start_time": "2022-10-10T08:32:57.559Z"
   },
   {
    "duration": 0,
    "start_time": "2022-10-10T08:32:57.559Z"
   },
   {
    "duration": 0,
    "start_time": "2022-10-10T08:32:57.560Z"
   },
   {
    "duration": 0,
    "start_time": "2022-10-10T08:32:57.561Z"
   },
   {
    "duration": 0,
    "start_time": "2022-10-10T08:32:57.562Z"
   },
   {
    "duration": 0,
    "start_time": "2022-10-10T08:32:57.563Z"
   },
   {
    "duration": 0,
    "start_time": "2022-10-10T08:32:57.564Z"
   },
   {
    "duration": 0,
    "start_time": "2022-10-10T08:32:57.565Z"
   },
   {
    "duration": 0,
    "start_time": "2022-10-10T08:32:57.566Z"
   },
   {
    "duration": 0,
    "start_time": "2022-10-10T08:32:57.566Z"
   },
   {
    "duration": 78,
    "start_time": "2022-10-10T08:33:11.191Z"
   },
   {
    "duration": 135,
    "start_time": "2022-10-10T08:33:14.352Z"
   },
   {
    "duration": 4,
    "start_time": "2022-10-10T08:33:16.811Z"
   },
   {
    "duration": 15,
    "start_time": "2022-10-10T08:35:15.154Z"
   },
   {
    "duration": 51,
    "start_time": "2022-10-10T08:35:17.252Z"
   },
   {
    "duration": 13,
    "start_time": "2022-10-10T08:35:20.120Z"
   },
   {
    "duration": 166,
    "start_time": "2022-10-10T08:35:21.292Z"
   },
   {
    "duration": 152,
    "start_time": "2022-10-10T08:35:26.270Z"
   },
   {
    "duration": 4,
    "start_time": "2022-10-10T08:35:30.572Z"
   },
   {
    "duration": 8,
    "start_time": "2022-10-10T08:35:31.604Z"
   },
   {
    "duration": 124,
    "start_time": "2022-10-10T08:35:32.301Z"
   },
   {
    "duration": 4,
    "start_time": "2022-10-10T08:36:27.688Z"
   },
   {
    "duration": 8,
    "start_time": "2022-10-10T08:36:30.792Z"
   },
   {
    "duration": 4,
    "start_time": "2022-10-10T08:36:33.964Z"
   },
   {
    "duration": 3,
    "start_time": "2022-10-10T08:36:43.734Z"
   },
   {
    "duration": 3,
    "start_time": "2022-10-10T08:36:49.449Z"
   },
   {
    "duration": 4,
    "start_time": "2022-10-10T08:36:50.151Z"
   },
   {
    "duration": 2222,
    "start_time": "2022-10-10T08:36:53.191Z"
   },
   {
    "duration": 6,
    "start_time": "2022-10-10T08:36:57.504Z"
   },
   {
    "duration": 10,
    "start_time": "2022-10-10T08:36:58.560Z"
   },
   {
    "duration": 3,
    "start_time": "2022-10-10T08:37:03.351Z"
   },
   {
    "duration": 3,
    "start_time": "2022-10-10T08:37:05.893Z"
   },
   {
    "duration": 425060,
    "start_time": "2022-10-10T08:37:06.832Z"
   },
   {
    "duration": 7,
    "start_time": "2022-10-10T08:56:09.872Z"
   },
   {
    "duration": 41,
    "start_time": "2022-10-10T08:56:10.520Z"
   },
   {
    "duration": 3,
    "start_time": "2022-10-10T08:56:13.196Z"
   },
   {
    "duration": 2,
    "start_time": "2022-10-10T08:56:14.056Z"
   },
   {
    "duration": 3,
    "start_time": "2022-10-10T08:56:14.715Z"
   },
   {
    "duration": 1756053,
    "start_time": "2022-10-10T08:56:16.210Z"
   },
   {
    "duration": 6,
    "start_time": "2022-10-10T09:32:38.294Z"
   },
   {
    "duration": 8,
    "start_time": "2022-10-10T09:32:40.626Z"
   },
   {
    "duration": 2,
    "start_time": "2022-10-10T09:32:46.225Z"
   },
   {
    "duration": 2,
    "start_time": "2022-10-10T09:32:49.365Z"
   },
   {
    "duration": 3020765,
    "start_time": "2022-10-10T09:32:50.365Z"
   },
   {
    "duration": 9,
    "start_time": "2022-10-10T10:23:11.132Z"
   },
   {
    "duration": 0,
    "start_time": "2022-10-10T10:23:11.142Z"
   },
   {
    "duration": 0,
    "start_time": "2022-10-10T10:23:11.143Z"
   },
   {
    "duration": 9,
    "start_time": "2022-10-10T10:23:18.218Z"
   },
   {
    "duration": 153,
    "start_time": "2022-10-10T10:27:30.530Z"
   },
   {
    "duration": 157,
    "start_time": "2022-10-10T10:27:38.939Z"
   },
   {
    "duration": 148,
    "start_time": "2022-10-10T10:27:45.381Z"
   },
   {
    "duration": 173,
    "start_time": "2022-10-10T10:28:00.374Z"
   },
   {
    "duration": 167,
    "start_time": "2022-10-10T10:28:16.182Z"
   },
   {
    "duration": 154,
    "start_time": "2022-10-10T10:28:24.659Z"
   },
   {
    "duration": 284,
    "start_time": "2022-10-10T10:28:45.679Z"
   },
   {
    "duration": 266,
    "start_time": "2022-10-10T10:28:58.549Z"
   },
   {
    "duration": 265,
    "start_time": "2022-10-10T10:29:46.079Z"
   },
   {
    "duration": 9,
    "start_time": "2022-10-10T11:14:20.555Z"
   },
   {
    "duration": 5,
    "start_time": "2022-10-10T11:16:17.373Z"
   },
   {
    "duration": 274,
    "start_time": "2022-10-10T11:16:30.390Z"
   },
   {
    "duration": 3,
    "start_time": "2022-10-10T11:26:13.453Z"
   },
   {
    "duration": 300,
    "start_time": "2022-10-10T11:26:14.844Z"
   },
   {
    "duration": 4,
    "start_time": "2022-10-10T11:26:37.748Z"
   },
   {
    "duration": 267,
    "start_time": "2022-10-10T11:26:38.982Z"
   },
   {
    "duration": 4,
    "start_time": "2022-10-10T11:27:04.511Z"
   },
   {
    "duration": 382642,
    "start_time": "2022-10-10T11:27:05.462Z"
   },
   {
    "duration": 6,
    "start_time": "2022-10-10T11:33:51.069Z"
   },
   {
    "duration": 4,
    "start_time": "2022-10-10T11:33:58.914Z"
   },
   {
    "duration": 279,
    "start_time": "2022-10-10T11:34:00.309Z"
   },
   {
    "duration": 4,
    "start_time": "2022-10-10T11:34:14.129Z"
   },
   {
    "duration": 279,
    "start_time": "2022-10-10T11:34:16.073Z"
   },
   {
    "duration": 4,
    "start_time": "2022-10-10T11:34:26.647Z"
   },
   {
    "duration": 284,
    "start_time": "2022-10-10T11:34:28.480Z"
   },
   {
    "duration": 4,
    "start_time": "2022-10-10T11:34:40.041Z"
   },
   {
    "duration": 278,
    "start_time": "2022-10-10T11:34:42.789Z"
   },
   {
    "duration": 4,
    "start_time": "2022-10-10T11:36:03.841Z"
   },
   {
    "duration": 144,
    "start_time": "2022-10-10T11:36:05.028Z"
   },
   {
    "duration": 4,
    "start_time": "2022-10-10T11:36:53.730Z"
   },
   {
    "duration": 150,
    "start_time": "2022-10-10T11:36:56.361Z"
   },
   {
    "duration": 3,
    "start_time": "2022-10-10T11:37:59.591Z"
   },
   {
    "duration": 254,
    "start_time": "2022-10-10T11:38:01.419Z"
   },
   {
    "duration": 3,
    "start_time": "2022-10-10T11:38:15.841Z"
   },
   {
    "duration": 175,
    "start_time": "2022-10-10T11:38:17.881Z"
   },
   {
    "duration": 4,
    "start_time": "2022-10-10T11:40:54.022Z"
   },
   {
    "duration": 3,
    "start_time": "2022-10-10T11:41:03.120Z"
   },
   {
    "duration": 3,
    "start_time": "2022-10-10T11:41:12.302Z"
   },
   {
    "duration": 4,
    "start_time": "2022-10-10T11:41:26.753Z"
   },
   {
    "duration": 155,
    "start_time": "2022-10-10T11:41:28.795Z"
   },
   {
    "duration": 12,
    "start_time": "2022-10-10T11:43:30.366Z"
   },
   {
    "duration": 4,
    "start_time": "2022-10-10T11:44:02.327Z"
   },
   {
    "duration": 3,
    "start_time": "2022-10-10T11:44:10.741Z"
   },
   {
    "duration": 4,
    "start_time": "2022-10-10T11:46:58.416Z"
   },
   {
    "duration": 184,
    "start_time": "2022-10-10T11:47:06.000Z"
   },
   {
    "duration": 6,
    "start_time": "2022-10-10T11:50:30.800Z"
   },
   {
    "duration": 151,
    "start_time": "2022-10-10T11:50:33.862Z"
   },
   {
    "duration": 5,
    "start_time": "2022-10-10T11:50:40.198Z"
   },
   {
    "duration": 352,
    "start_time": "2022-10-10T11:50:41.840Z"
   },
   {
    "duration": 9,
    "start_time": "2022-10-10T11:53:29.881Z"
   },
   {
    "duration": 273,
    "start_time": "2022-10-10T11:54:01.503Z"
   },
   {
    "duration": 5,
    "start_time": "2022-10-10T11:58:32.808Z"
   },
   {
    "duration": 330,
    "start_time": "2022-10-10T11:58:36.131Z"
   },
   {
    "duration": 297,
    "start_time": "2022-10-10T12:00:10.660Z"
   },
   {
    "duration": 5,
    "start_time": "2022-10-10T12:01:08.968Z"
   },
   {
    "duration": 287,
    "start_time": "2022-10-10T12:01:11.731Z"
   },
   {
    "duration": 271,
    "start_time": "2022-10-10T12:01:14.200Z"
   },
   {
    "duration": 4,
    "start_time": "2022-10-10T12:01:48.720Z"
   },
   {
    "duration": 300,
    "start_time": "2022-10-10T12:01:50.586Z"
   },
   {
    "duration": 4,
    "start_time": "2022-10-10T12:02:19.048Z"
   },
   {
    "duration": 269,
    "start_time": "2022-10-10T12:02:21.188Z"
   },
   {
    "duration": 5,
    "start_time": "2022-10-10T12:02:42.820Z"
   },
   {
    "duration": 263,
    "start_time": "2022-10-10T12:02:45.110Z"
   },
   {
    "duration": 239,
    "start_time": "2022-10-10T12:03:40.929Z"
   },
   {
    "duration": 287,
    "start_time": "2022-10-10T12:04:27.679Z"
   },
   {
    "duration": 5,
    "start_time": "2022-10-10T12:07:15.431Z"
   },
   {
    "duration": 273,
    "start_time": "2022-10-10T12:07:20.808Z"
   },
   {
    "duration": 282,
    "start_time": "2022-10-10T12:07:25.780Z"
   },
   {
    "duration": 378,
    "start_time": "2022-10-10T12:07:35.481Z"
   },
   {
    "duration": 4,
    "start_time": "2022-10-10T12:08:19.300Z"
   },
   {
    "duration": 4,
    "start_time": "2022-10-10T12:09:01.088Z"
   },
   {
    "duration": 8,
    "start_time": "2022-10-10T12:09:15.916Z"
   },
   {
    "duration": 298,
    "start_time": "2022-10-10T12:09:20.232Z"
   },
   {
    "duration": 279,
    "start_time": "2022-10-10T12:09:28.600Z"
   },
   {
    "duration": 304,
    "start_time": "2022-10-10T12:09:45.940Z"
   },
   {
    "duration": 84,
    "start_time": "2022-10-10T12:10:15.612Z"
   },
   {
    "duration": 279,
    "start_time": "2022-10-10T12:10:22.097Z"
   },
   {
    "duration": 295,
    "start_time": "2022-10-10T12:11:05.485Z"
   },
   {
    "duration": 71,
    "start_time": "2022-10-10T12:11:24.366Z"
   },
   {
    "duration": 312,
    "start_time": "2022-10-10T12:11:43.564Z"
   },
   {
    "duration": 9,
    "start_time": "2022-10-10T12:13:30.016Z"
   },
   {
    "duration": 7,
    "start_time": "2022-10-10T12:13:59.021Z"
   },
   {
    "duration": 8,
    "start_time": "2022-10-10T12:14:04.790Z"
   },
   {
    "duration": 6,
    "start_time": "2022-10-10T12:14:09.560Z"
   },
   {
    "duration": 7,
    "start_time": "2022-10-10T12:14:13.021Z"
   },
   {
    "duration": 9,
    "start_time": "2022-10-10T12:14:14.532Z"
   },
   {
    "duration": 98,
    "start_time": "2022-10-10T12:16:34.140Z"
   },
   {
    "duration": 12,
    "start_time": "2022-10-10T12:16:39.300Z"
   },
   {
    "duration": 5,
    "start_time": "2022-10-10T12:16:59.340Z"
   },
   {
    "duration": 5,
    "start_time": "2022-10-10T12:19:00.789Z"
   },
   {
    "duration": 1661,
    "start_time": "2022-10-10T12:19:04.180Z"
   },
   {
    "duration": 225,
    "start_time": "2022-10-10T12:20:39.196Z"
   },
   {
    "duration": 4,
    "start_time": "2022-10-10T12:20:46.141Z"
   },
   {
    "duration": 14,
    "start_time": "2022-10-10T12:20:48.180Z"
   },
   {
    "duration": 168,
    "start_time": "2022-10-10T12:20:57.836Z"
   },
   {
    "duration": 5,
    "start_time": "2022-10-10T12:21:12.232Z"
   },
   {
    "duration": 280,
    "start_time": "2022-10-10T12:21:13.796Z"
   },
   {
    "duration": 5,
    "start_time": "2022-10-10T12:22:17.080Z"
   },
   {
    "duration": 13,
    "start_time": "2022-10-10T12:22:44.580Z"
   },
   {
    "duration": 267,
    "start_time": "2022-10-10T12:22:53.821Z"
   },
   {
    "duration": 17,
    "start_time": "2022-10-10T12:23:37.102Z"
   },
   {
    "duration": 380,
    "start_time": "2022-10-10T12:23:41.140Z"
   },
   {
    "duration": 6,
    "start_time": "2022-10-10T12:24:30.827Z"
   },
   {
    "duration": 281,
    "start_time": "2022-10-10T12:24:37.099Z"
   },
   {
    "duration": 260,
    "start_time": "2022-10-10T12:24:48.521Z"
   },
   {
    "duration": 271,
    "start_time": "2022-10-10T12:24:54.520Z"
   },
   {
    "duration": 5,
    "start_time": "2022-10-10T12:37:17.745Z"
   },
   {
    "duration": 282,
    "start_time": "2022-10-10T12:37:19.393Z"
   },
   {
    "duration": 261,
    "start_time": "2022-10-10T12:37:57.222Z"
   },
   {
    "duration": 310,
    "start_time": "2022-10-10T12:38:11.241Z"
   },
   {
    "duration": 275,
    "start_time": "2022-10-10T12:38:39.420Z"
   },
   {
    "duration": 297,
    "start_time": "2022-10-10T12:38:46.480Z"
   },
   {
    "duration": 75,
    "start_time": "2022-10-10T12:41:32.792Z"
   },
   {
    "duration": 98,
    "start_time": "2022-10-10T12:43:03.708Z"
   },
   {
    "duration": 85,
    "start_time": "2022-10-10T12:45:11.209Z"
   },
   {
    "duration": 81,
    "start_time": "2022-10-10T12:46:03.608Z"
   },
   {
    "duration": 3,
    "start_time": "2022-10-10T12:47:42.115Z"
   },
   {
    "duration": 4,
    "start_time": "2022-10-10T12:47:43.580Z"
   },
   {
    "duration": 2566,
    "start_time": "2022-10-10T12:47:44.949Z"
   },
   {
    "duration": 9,
    "start_time": "2022-10-10T12:47:55.243Z"
   },
   {
    "duration": 10,
    "start_time": "2022-10-10T12:48:12.472Z"
   },
   {
    "duration": 12,
    "start_time": "2022-10-10T12:50:12.462Z"
   },
   {
    "duration": 1936,
    "start_time": "2022-10-10T12:50:17.236Z"
   },
   {
    "duration": 15,
    "start_time": "2022-10-10T12:50:28.416Z"
   },
   {
    "duration": 1255,
    "start_time": "2022-10-10T12:54:01.868Z"
   },
   {
    "duration": 15,
    "start_time": "2022-10-10T12:54:15.522Z"
   },
   {
    "duration": 14,
    "start_time": "2022-10-10T12:54:30.379Z"
   },
   {
    "duration": 21,
    "start_time": "2022-10-10T12:55:55.998Z"
   },
   {
    "duration": 15,
    "start_time": "2022-10-10T12:56:02.609Z"
   },
   {
    "duration": 14,
    "start_time": "2022-10-10T12:56:08.320Z"
   },
   {
    "duration": 18,
    "start_time": "2022-10-10T12:58:28.947Z"
   },
   {
    "duration": 17,
    "start_time": "2022-10-10T12:58:38.130Z"
   },
   {
    "duration": 19,
    "start_time": "2022-10-10T12:58:58.088Z"
   },
   {
    "duration": 22,
    "start_time": "2022-10-10T12:59:16.114Z"
   },
   {
    "duration": 26,
    "start_time": "2022-10-10T12:59:22.510Z"
   },
   {
    "duration": 19,
    "start_time": "2022-10-10T13:01:07.056Z"
   },
   {
    "duration": 20,
    "start_time": "2022-10-10T13:01:24.237Z"
   },
   {
    "duration": 24,
    "start_time": "2022-10-10T13:01:37.626Z"
   },
   {
    "duration": 25,
    "start_time": "2022-10-10T13:03:01.899Z"
   },
   {
    "duration": 16,
    "start_time": "2022-10-10T13:03:07.278Z"
   },
   {
    "duration": 22,
    "start_time": "2022-10-10T13:03:11.911Z"
   },
   {
    "duration": 30,
    "start_time": "2022-10-10T13:03:35.469Z"
   },
   {
    "duration": 25,
    "start_time": "2022-10-10T13:06:08.849Z"
   },
   {
    "duration": 31,
    "start_time": "2022-10-10T13:06:27.489Z"
   },
   {
    "duration": 27,
    "start_time": "2022-10-10T13:06:36.330Z"
   },
   {
    "duration": 105,
    "start_time": "2022-10-10T13:10:08.791Z"
   },
   {
    "duration": 34,
    "start_time": "2022-10-10T13:11:04.570Z"
   },
   {
    "duration": 5,
    "start_time": "2022-10-10T13:12:54.930Z"
   },
   {
    "duration": 35,
    "start_time": "2022-10-10T13:13:00.869Z"
   },
   {
    "duration": 4,
    "start_time": "2022-10-10T13:14:33.289Z"
   },
   {
    "duration": 43,
    "start_time": "2022-10-10T13:14:36.217Z"
   },
   {
    "duration": 12,
    "start_time": "2022-10-10T13:21:54.693Z"
   },
   {
    "duration": 16,
    "start_time": "2022-10-10T13:29:22.728Z"
   },
   {
    "duration": 3,
    "start_time": "2022-10-10T13:35:44.796Z"
   },
   {
    "duration": 10,
    "start_time": "2022-10-10T13:39:48.768Z"
   },
   {
    "duration": 4,
    "start_time": "2022-10-10T13:41:36.768Z"
   },
   {
    "duration": 3,
    "start_time": "2022-10-10T13:42:18.327Z"
   },
   {
    "duration": 1529,
    "start_time": "2022-10-10T13:44:05.640Z"
   },
   {
    "duration": 4,
    "start_time": "2022-10-10T13:44:12.136Z"
   },
   {
    "duration": 4,
    "start_time": "2022-10-10T13:45:43.828Z"
   },
   {
    "duration": 6,
    "start_time": "2022-10-10T13:45:47.317Z"
   },
   {
    "duration": 1594,
    "start_time": "2022-10-10T13:47:37.561Z"
   },
   {
    "duration": 1501,
    "start_time": "2022-10-10T13:47:42.925Z"
   },
   {
    "duration": 1583,
    "start_time": "2022-10-10T13:47:46.284Z"
   },
   {
    "duration": 8,
    "start_time": "2022-10-10T13:59:20.016Z"
   },
   {
    "duration": 3,
    "start_time": "2022-10-10T13:59:53.496Z"
   },
   {
    "duration": 3,
    "start_time": "2022-10-10T13:59:58.287Z"
   },
   {
    "duration": 2,
    "start_time": "2022-10-10T14:00:04.788Z"
   },
   {
    "duration": 6,
    "start_time": "2022-10-10T14:08:44.088Z"
   },
   {
    "duration": 3,
    "start_time": "2022-10-10T14:09:39.547Z"
   },
   {
    "duration": 5,
    "start_time": "2022-10-10T14:10:14.868Z"
   },
   {
    "duration": 2,
    "start_time": "2022-10-10T14:10:23.860Z"
   },
   {
    "duration": 8,
    "start_time": "2022-10-10T14:10:24.408Z"
   },
   {
    "duration": 3,
    "start_time": "2022-10-10T14:10:25.029Z"
   },
   {
    "duration": 4,
    "start_time": "2022-10-10T14:10:25.770Z"
   },
   {
    "duration": 4,
    "start_time": "2022-10-10T14:10:33.650Z"
   },
   {
    "duration": 5,
    "start_time": "2022-10-10T14:10:34.079Z"
   },
   {
    "duration": 3,
    "start_time": "2022-10-10T14:10:34.660Z"
   },
   {
    "duration": 7,
    "start_time": "2022-10-10T14:10:35.216Z"
   },
   {
    "duration": 2,
    "start_time": "2022-10-10T14:13:09.088Z"
   },
   {
    "duration": 4,
    "start_time": "2022-10-10T14:13:12.456Z"
   },
   {
    "duration": 3,
    "start_time": "2022-10-10T14:13:46.188Z"
   },
   {
    "duration": 3,
    "start_time": "2022-10-10T14:13:46.727Z"
   },
   {
    "duration": 4,
    "start_time": "2022-10-10T14:13:58.467Z"
   },
   {
    "duration": 4,
    "start_time": "2022-10-10T14:13:59.262Z"
   },
   {
    "duration": 3,
    "start_time": "2022-10-10T14:14:02.908Z"
   },
   {
    "duration": 4,
    "start_time": "2022-10-10T14:14:03.988Z"
   },
   {
    "duration": 3,
    "start_time": "2022-10-10T14:17:21.489Z"
   },
   {
    "duration": 3,
    "start_time": "2022-10-10T14:18:35.908Z"
   },
   {
    "duration": 3,
    "start_time": "2022-10-10T14:20:13.764Z"
   },
   {
    "duration": 5,
    "start_time": "2022-10-10T14:29:11.687Z"
   },
   {
    "duration": 2,
    "start_time": "2022-10-10T14:29:47.854Z"
   },
   {
    "duration": 1705,
    "start_time": "2022-10-10T14:40:07.425Z"
   },
   {
    "duration": 3,
    "start_time": "2022-10-10T14:40:53.603Z"
   },
   {
    "duration": 734,
    "start_time": "2022-10-10T14:40:56.294Z"
   },
   {
    "duration": 26,
    "start_time": "2022-10-10T14:41:00.906Z"
   },
   {
    "duration": 102,
    "start_time": "2022-10-10T14:41:39.268Z"
   },
   {
    "duration": 73,
    "start_time": "2022-10-10T14:41:51.983Z"
   },
   {
    "duration": 164,
    "start_time": "2022-10-10T14:42:06.917Z"
   },
   {
    "duration": 72,
    "start_time": "2022-10-10T14:43:01.932Z"
   },
   {
    "duration": 7,
    "start_time": "2022-10-10T14:46:41.367Z"
   },
   {
    "duration": 1937,
    "start_time": "2022-10-10T14:47:06.695Z"
   },
   {
    "duration": 15,
    "start_time": "2022-10-10T14:47:44.708Z"
   },
   {
    "duration": 2040,
    "start_time": "2022-10-10T14:48:27.610Z"
   },
   {
    "duration": 20,
    "start_time": "2022-10-10T14:48:59.051Z"
   },
   {
    "duration": 1375,
    "start_time": "2022-10-10T14:49:39.140Z"
   },
   {
    "duration": 3,
    "start_time": "2022-10-10T14:49:40.518Z"
   },
   {
    "duration": 730,
    "start_time": "2022-10-10T14:49:40.523Z"
   },
   {
    "duration": 23,
    "start_time": "2022-10-10T14:49:41.255Z"
   },
   {
    "duration": 134,
    "start_time": "2022-10-10T14:49:41.280Z"
   },
   {
    "duration": 110,
    "start_time": "2022-10-10T14:49:41.416Z"
   },
   {
    "duration": 90,
    "start_time": "2022-10-10T14:49:41.528Z"
   },
   {
    "duration": 179,
    "start_time": "2022-10-10T14:49:41.620Z"
   },
   {
    "duration": 9,
    "start_time": "2022-10-10T14:49:41.801Z"
   },
   {
    "duration": 1951,
    "start_time": "2022-10-10T14:49:41.813Z"
   },
   {
    "duration": 15,
    "start_time": "2022-10-10T14:49:43.766Z"
   },
   {
    "duration": 2069,
    "start_time": "2022-10-10T14:49:43.783Z"
   },
   {
    "duration": 23,
    "start_time": "2022-10-10T14:49:48.397Z"
   },
   {
    "duration": 17,
    "start_time": "2022-10-10T14:50:18.529Z"
   },
   {
    "duration": 1953,
    "start_time": "2022-10-10T14:51:19.257Z"
   },
   {
    "duration": 29,
    "start_time": "2022-10-10T14:51:44.596Z"
   },
   {
    "duration": 1529,
    "start_time": "2022-10-10T14:52:18.745Z"
   },
   {
    "duration": 275,
    "start_time": "2022-10-10T14:53:03.761Z"
   },
   {
    "duration": 80,
    "start_time": "2022-10-10T14:53:13.089Z"
   },
   {
    "duration": 17,
    "start_time": "2022-10-10T14:53:33.537Z"
   },
   {
    "duration": 4,
    "start_time": "2022-10-10T14:54:02.637Z"
   },
   {
    "duration": 135,
    "start_time": "2022-10-10T14:54:09.496Z"
   },
   {
    "duration": 69,
    "start_time": "2022-10-10T14:54:35.773Z"
   },
   {
    "duration": 171,
    "start_time": "2022-10-10T14:55:00.617Z"
   },
   {
    "duration": 39,
    "start_time": "2022-10-10T14:55:34.217Z"
   },
   {
    "duration": 186,
    "start_time": "2022-10-10T14:55:55.769Z"
   },
   {
    "duration": 192,
    "start_time": "2022-10-10T14:56:03.097Z"
   },
   {
    "duration": 431,
    "start_time": "2022-10-10T14:56:18.709Z"
   },
   {
    "duration": 75,
    "start_time": "2022-10-10T14:57:51.198Z"
   },
   {
    "duration": 146,
    "start_time": "2022-10-10T14:58:10.920Z"
   },
   {
    "duration": 67,
    "start_time": "2022-10-10T14:58:46.627Z"
   },
   {
    "duration": 64,
    "start_time": "2022-10-10T14:58:52.137Z"
   },
   {
    "duration": 127,
    "start_time": "2022-10-10T14:59:01.138Z"
   },
   {
    "duration": 4,
    "start_time": "2022-10-10T14:59:29.206Z"
   },
   {
    "duration": 114,
    "start_time": "2022-10-10T15:05:29.437Z"
   },
   {
    "duration": 19,
    "start_time": "2022-10-10T15:22:07.078Z"
   },
   {
    "duration": 105,
    "start_time": "2022-10-10T15:23:39.938Z"
   },
   {
    "duration": 19,
    "start_time": "2022-10-10T15:24:01.797Z"
   },
   {
    "duration": 23,
    "start_time": "2022-10-10T15:24:11.745Z"
   },
   {
    "duration": 83,
    "start_time": "2022-10-10T15:31:31.255Z"
   },
   {
    "duration": 10,
    "start_time": "2022-10-10T15:31:38.722Z"
   },
   {
    "duration": 51,
    "start_time": "2022-10-10T15:31:45.698Z"
   },
   {
    "duration": 20,
    "start_time": "2022-10-10T15:31:48.638Z"
   },
   {
    "duration": 202,
    "start_time": "2022-10-10T15:36:39.820Z"
   },
   {
    "duration": 520,
    "start_time": "2022-10-10T16:03:37.728Z"
   },
   {
    "duration": 13,
    "start_time": "2022-10-10T16:03:39.776Z"
   },
   {
    "duration": 8,
    "start_time": "2022-10-10T16:03:51.051Z"
   },
   {
    "duration": 191,
    "start_time": "2022-10-10T16:03:53.436Z"
   },
   {
    "duration": 10,
    "start_time": "2022-10-10T16:04:17.429Z"
   },
   {
    "duration": 176,
    "start_time": "2022-10-10T16:04:19.270Z"
   },
   {
    "duration": 16,
    "start_time": "2022-10-10T16:04:26.929Z"
   },
   {
    "duration": 127,
    "start_time": "2022-10-10T16:04:34.049Z"
   },
   {
    "duration": 3,
    "start_time": "2022-10-10T16:05:29.277Z"
   },
   {
    "duration": 44,
    "start_time": "2022-10-10T17:58:34.665Z"
   },
   {
    "duration": 1535,
    "start_time": "2022-10-10T17:58:37.993Z"
   },
   {
    "duration": 4,
    "start_time": "2022-10-10T17:58:39.530Z"
   },
   {
    "duration": 2666,
    "start_time": "2022-10-10T17:58:39.535Z"
   },
   {
    "duration": 27,
    "start_time": "2022-10-10T17:58:42.202Z"
   },
   {
    "duration": 106,
    "start_time": "2022-10-10T17:58:42.231Z"
   },
   {
    "duration": 107,
    "start_time": "2022-10-10T17:58:42.338Z"
   },
   {
    "duration": 81,
    "start_time": "2022-10-10T17:58:42.446Z"
   },
   {
    "duration": 175,
    "start_time": "2022-10-10T17:58:42.529Z"
   },
   {
    "duration": 5,
    "start_time": "2022-10-10T17:58:42.706Z"
   },
   {
    "duration": 2099,
    "start_time": "2022-10-10T17:58:42.713Z"
   },
   {
    "duration": 13,
    "start_time": "2022-10-10T17:58:44.814Z"
   },
   {
    "duration": 2227,
    "start_time": "2022-10-10T17:58:44.829Z"
   },
   {
    "duration": 19,
    "start_time": "2022-10-10T17:58:47.058Z"
   },
   {
    "duration": 26,
    "start_time": "2022-10-10T17:58:47.080Z"
   },
   {
    "duration": 2004,
    "start_time": "2022-10-10T17:58:47.108Z"
   },
   {
    "duration": 24,
    "start_time": "2022-10-10T17:58:49.114Z"
   },
   {
    "duration": 1488,
    "start_time": "2022-10-10T17:58:49.139Z"
   },
   {
    "duration": 269,
    "start_time": "2022-10-10T17:58:50.629Z"
   },
   {
    "duration": 70,
    "start_time": "2022-10-10T17:58:50.900Z"
   },
   {
    "duration": 32,
    "start_time": "2022-10-10T17:58:50.972Z"
   },
   {
    "duration": 3,
    "start_time": "2022-10-10T17:58:51.007Z"
   },
   {
    "duration": 144,
    "start_time": "2022-10-10T17:58:51.012Z"
   },
   {
    "duration": 69,
    "start_time": "2022-10-10T17:58:51.158Z"
   },
   {
    "duration": 171,
    "start_time": "2022-10-10T17:58:51.229Z"
   },
   {
    "duration": 204,
    "start_time": "2022-10-10T17:58:51.402Z"
   },
   {
    "duration": 203,
    "start_time": "2022-10-10T17:58:51.607Z"
   },
   {
    "duration": 420,
    "start_time": "2022-10-10T17:58:51.812Z"
   },
   {
    "duration": 76,
    "start_time": "2022-10-10T17:58:52.234Z"
   },
   {
    "duration": 150,
    "start_time": "2022-10-10T17:58:52.311Z"
   },
   {
    "duration": 3,
    "start_time": "2022-10-10T17:58:52.463Z"
   },
   {
    "duration": 28,
    "start_time": "2022-10-10T17:58:52.468Z"
   },
   {
    "duration": 14,
    "start_time": "2022-10-10T17:58:52.497Z"
   },
   {
    "duration": 52,
    "start_time": "2022-10-10T17:58:52.513Z"
   },
   {
    "duration": 41,
    "start_time": "2022-10-10T17:58:52.567Z"
   },
   {
    "duration": 199,
    "start_time": "2022-10-10T17:58:52.610Z"
   },
   {
    "duration": 18,
    "start_time": "2022-10-10T17:58:52.810Z"
   },
   {
    "duration": 161,
    "start_time": "2022-10-10T17:58:52.830Z"
   },
   {
    "duration": 9,
    "start_time": "2022-10-10T17:58:55.839Z"
   },
   {
    "duration": 3,
    "start_time": "2022-10-10T18:01:41.724Z"
   },
   {
    "duration": 124,
    "start_time": "2022-10-10T18:20:54.141Z"
   },
   {
    "duration": 51,
    "start_time": "2022-10-11T09:42:32.357Z"
   },
   {
    "duration": 1764,
    "start_time": "2022-10-11T14:52:18.945Z"
   },
   {
    "duration": 4,
    "start_time": "2022-10-11T14:52:20.711Z"
   },
   {
    "duration": 3210,
    "start_time": "2022-10-11T14:52:20.716Z"
   },
   {
    "duration": 25,
    "start_time": "2022-10-11T14:52:23.928Z"
   },
   {
    "duration": 121,
    "start_time": "2022-10-11T14:52:23.955Z"
   },
   {
    "duration": 133,
    "start_time": "2022-10-11T14:52:24.078Z"
   },
   {
    "duration": 89,
    "start_time": "2022-10-11T14:52:24.213Z"
   },
   {
    "duration": 189,
    "start_time": "2022-10-11T14:52:24.304Z"
   },
   {
    "duration": 8,
    "start_time": "2022-10-11T14:52:24.495Z"
   },
   {
    "duration": 2284,
    "start_time": "2022-10-11T14:52:24.506Z"
   },
   {
    "duration": 18,
    "start_time": "2022-10-11T14:52:26.795Z"
   },
   {
    "duration": 2348,
    "start_time": "2022-10-11T14:52:26.816Z"
   },
   {
    "duration": 19,
    "start_time": "2022-10-11T14:52:29.166Z"
   },
   {
    "duration": 23,
    "start_time": "2022-10-11T14:52:29.206Z"
   },
   {
    "duration": 3410,
    "start_time": "2022-10-11T14:52:29.230Z"
   },
   {
    "duration": 26,
    "start_time": "2022-10-11T14:52:32.641Z"
   },
   {
    "duration": 1835,
    "start_time": "2022-10-11T14:52:32.668Z"
   },
   {
    "duration": 319,
    "start_time": "2022-10-11T14:52:34.505Z"
   },
   {
    "duration": 93,
    "start_time": "2022-10-11T14:52:34.826Z"
   },
   {
    "duration": 18,
    "start_time": "2022-10-11T14:52:34.921Z"
   },
   {
    "duration": 3,
    "start_time": "2022-10-11T14:52:34.941Z"
   },
   {
    "duration": 180,
    "start_time": "2022-10-11T14:52:34.946Z"
   },
   {
    "duration": 81,
    "start_time": "2022-10-11T14:52:35.128Z"
   },
   {
    "duration": 194,
    "start_time": "2022-10-11T14:52:35.211Z"
   },
   {
    "duration": 224,
    "start_time": "2022-10-11T14:52:35.407Z"
   },
   {
    "duration": 247,
    "start_time": "2022-10-11T14:52:35.634Z"
   },
   {
    "duration": 465,
    "start_time": "2022-10-11T14:52:35.883Z"
   },
   {
    "duration": 93,
    "start_time": "2022-10-11T14:52:36.354Z"
   },
   {
    "duration": 190,
    "start_time": "2022-10-11T14:52:36.449Z"
   },
   {
    "duration": 5,
    "start_time": "2022-10-11T14:52:36.641Z"
   },
   {
    "duration": 62,
    "start_time": "2022-10-11T14:52:36.648Z"
   },
   {
    "duration": 20,
    "start_time": "2022-10-11T14:52:36.712Z"
   },
   {
    "duration": 91,
    "start_time": "2022-10-11T14:52:36.734Z"
   },
   {
    "duration": 11,
    "start_time": "2022-10-11T14:52:36.828Z"
   },
   {
    "duration": 279,
    "start_time": "2022-10-11T14:52:36.842Z"
   },
   {
    "duration": 18,
    "start_time": "2022-10-11T14:52:37.124Z"
   },
   {
    "duration": 160,
    "start_time": "2022-10-11T14:52:37.143Z"
   },
   {
    "duration": 11,
    "start_time": "2022-10-11T14:52:37.310Z"
   },
   {
    "duration": 4,
    "start_time": "2022-10-11T14:52:37.323Z"
   },
   {
    "duration": 148,
    "start_time": "2022-10-11T14:52:37.328Z"
   },
   {
    "duration": 4,
    "start_time": "2022-10-11T14:52:37.478Z"
   },
   {
    "duration": 28,
    "start_time": "2022-10-11T14:52:37.483Z"
   },
   {
    "duration": 15,
    "start_time": "2022-10-11T14:52:37.512Z"
   },
   {
    "duration": 5,
    "start_time": "2022-10-11T14:52:37.529Z"
   },
   {
    "duration": 6,
    "start_time": "2022-10-11T14:52:37.536Z"
   },
   {
    "duration": 7374,
    "start_time": "2022-10-11T14:52:37.543Z"
   },
   {
    "duration": 22,
    "start_time": "2022-10-11T14:52:44.995Z"
   },
   {
    "duration": 7,
    "start_time": "2022-10-11T14:52:45.096Z"
   },
   {
    "duration": 5,
    "start_time": "2022-10-11T14:52:45.105Z"
   },
   {
    "duration": 321990,
    "start_time": "2022-10-11T14:52:45.112Z"
   },
   {
    "duration": 8,
    "start_time": "2022-10-11T14:58:07.104Z"
   },
   {
    "duration": 9,
    "start_time": "2022-10-11T14:58:07.114Z"
   },
   {
    "duration": 6,
    "start_time": "2022-10-11T14:58:07.124Z"
   },
   {
    "duration": 16,
    "start_time": "2022-10-11T14:58:07.132Z"
   },
   {
    "duration": 35923,
    "start_time": "2022-10-11T14:58:07.149Z"
   },
   {
    "duration": 7,
    "start_time": "2022-10-11T14:58:43.074Z"
   },
   {
    "duration": 5,
    "start_time": "2022-10-11T14:58:43.083Z"
   },
   {
    "duration": 10,
    "start_time": "2022-10-11T14:58:43.089Z"
   },
   {
    "duration": 1154820,
    "start_time": "2022-10-11T14:58:43.101Z"
   },
   {
    "duration": 72,
    "start_time": "2022-10-11T15:17:57.923Z"
   },
   {
    "duration": 15,
    "start_time": "2022-10-11T15:17:57.997Z"
   },
   {
    "duration": 14,
    "start_time": "2022-10-11T15:17:58.014Z"
   },
   {
    "duration": 6,
    "start_time": "2022-10-11T15:17:58.030Z"
   },
   {
    "duration": 343,
    "start_time": "2022-10-11T15:17:58.038Z"
   },
   {
    "duration": 335,
    "start_time": "2022-10-11T15:17:58.383Z"
   },
   {
    "duration": 333,
    "start_time": "2022-10-11T15:17:58.722Z"
   },
   {
    "duration": 49,
    "start_time": "2022-10-11T15:17:59.057Z"
   },
   {
    "duration": 138,
    "start_time": "2022-10-11T15:17:59.108Z"
   },
   {
    "duration": 0,
    "start_time": "2022-10-11T15:17:59.247Z"
   },
   {
    "duration": 0,
    "start_time": "2022-10-11T15:17:59.249Z"
   },
   {
    "duration": 0,
    "start_time": "2022-10-11T15:17:59.250Z"
   },
   {
    "duration": 0,
    "start_time": "2022-10-11T15:17:59.252Z"
   },
   {
    "duration": 0,
    "start_time": "2022-10-11T15:17:59.253Z"
   },
   {
    "duration": 0,
    "start_time": "2022-10-11T15:17:59.255Z"
   },
   {
    "duration": 28,
    "start_time": "2022-10-11T15:19:15.254Z"
   },
   {
    "duration": 5,
    "start_time": "2022-10-11T15:19:36.833Z"
   },
   {
    "duration": 36,
    "start_time": "2022-10-11T15:19:40.071Z"
   },
   {
    "duration": 4,
    "start_time": "2022-10-11T15:19:59.156Z"
   },
   {
    "duration": 5,
    "start_time": "2022-10-11T15:20:11.697Z"
   },
   {
    "duration": 43,
    "start_time": "2022-10-11T15:20:16.737Z"
   },
   {
    "duration": 5,
    "start_time": "2022-10-11T15:20:45.796Z"
   },
   {
    "duration": 36,
    "start_time": "2022-10-11T15:20:49.034Z"
   },
   {
    "duration": 16,
    "start_time": "2022-10-11T15:21:00.457Z"
   },
   {
    "duration": 13,
    "start_time": "2022-10-11T15:21:23.376Z"
   },
   {
    "duration": 2,
    "start_time": "2022-10-11T15:21:35.813Z"
   },
   {
    "duration": 140,
    "start_time": "2022-10-11T15:21:38.096Z"
   },
   {
    "duration": 6,
    "start_time": "2022-10-11T15:21:40.635Z"
   },
   {
    "duration": 4,
    "start_time": "2022-10-11T15:21:44.876Z"
   },
   {
    "duration": 4,
    "start_time": "2022-10-11T15:25:06.157Z"
   },
   {
    "duration": 1864,
    "start_time": "2022-10-11T18:27:14.571Z"
   },
   {
    "duration": 5,
    "start_time": "2022-10-11T18:27:16.437Z"
   },
   {
    "duration": 3336,
    "start_time": "2022-10-11T18:27:16.444Z"
   },
   {
    "duration": 34,
    "start_time": "2022-10-11T18:27:19.783Z"
   },
   {
    "duration": 158,
    "start_time": "2022-10-11T18:27:19.820Z"
   },
   {
    "duration": 159,
    "start_time": "2022-10-11T18:27:19.980Z"
   },
   {
    "duration": 98,
    "start_time": "2022-10-11T18:27:20.140Z"
   },
   {
    "duration": 232,
    "start_time": "2022-10-11T18:27:20.240Z"
   },
   {
    "duration": 22,
    "start_time": "2022-10-11T18:27:20.475Z"
   },
   {
    "duration": 2497,
    "start_time": "2022-10-11T18:27:20.505Z"
   },
   {
    "duration": 16,
    "start_time": "2022-10-11T18:27:23.007Z"
   },
   {
    "duration": 3696,
    "start_time": "2022-10-11T18:27:23.025Z"
   },
   {
    "duration": 87,
    "start_time": "2022-10-11T18:27:26.724Z"
   },
   {
    "duration": 18,
    "start_time": "2022-10-11T18:27:26.813Z"
   },
   {
    "duration": 4382,
    "start_time": "2022-10-11T18:27:26.833Z"
   },
   {
    "duration": 27,
    "start_time": "2022-10-11T18:27:31.217Z"
   },
   {
    "duration": 2365,
    "start_time": "2022-10-11T18:27:31.246Z"
   },
   {
    "duration": 420,
    "start_time": "2022-10-11T18:27:33.613Z"
   },
   {
    "duration": 96,
    "start_time": "2022-10-11T18:27:34.034Z"
   },
   {
    "duration": 18,
    "start_time": "2022-10-11T18:27:34.131Z"
   },
   {
    "duration": 10,
    "start_time": "2022-10-11T18:27:34.151Z"
   },
   {
    "duration": 226,
    "start_time": "2022-10-11T18:27:34.163Z"
   },
   {
    "duration": 73,
    "start_time": "2022-10-11T18:27:34.391Z"
   },
   {
    "duration": 257,
    "start_time": "2022-10-11T18:27:34.465Z"
   },
   {
    "duration": 276,
    "start_time": "2022-10-11T18:27:34.723Z"
   },
   {
    "duration": 256,
    "start_time": "2022-10-11T18:27:35.003Z"
   },
   {
    "duration": 493,
    "start_time": "2022-10-11T18:27:35.261Z"
   },
   {
    "duration": 88,
    "start_time": "2022-10-11T18:27:35.758Z"
   },
   {
    "duration": 219,
    "start_time": "2022-10-11T18:27:35.847Z"
   },
   {
    "duration": 4,
    "start_time": "2022-10-11T18:27:36.068Z"
   },
   {
    "duration": 47,
    "start_time": "2022-10-11T18:27:36.074Z"
   },
   {
    "duration": 16,
    "start_time": "2022-10-11T18:27:36.123Z"
   },
   {
    "duration": 70,
    "start_time": "2022-10-11T18:27:36.141Z"
   },
   {
    "duration": 10,
    "start_time": "2022-10-11T18:27:36.214Z"
   },
   {
    "duration": 240,
    "start_time": "2022-10-11T18:27:36.226Z"
   },
   {
    "duration": 27,
    "start_time": "2022-10-11T18:27:36.468Z"
   },
   {
    "duration": 175,
    "start_time": "2022-10-11T18:27:36.500Z"
   },
   {
    "duration": 18,
    "start_time": "2022-10-11T18:27:36.677Z"
   },
   {
    "duration": 5,
    "start_time": "2022-10-11T18:27:36.699Z"
   },
   {
    "duration": 164,
    "start_time": "2022-10-11T18:27:36.706Z"
   },
   {
    "duration": 5,
    "start_time": "2022-10-11T18:27:36.872Z"
   },
   {
    "duration": 25,
    "start_time": "2022-10-11T18:27:36.879Z"
   },
   {
    "duration": 6,
    "start_time": "2022-10-11T18:27:36.909Z"
   },
   {
    "duration": 7,
    "start_time": "2022-10-11T18:27:36.917Z"
   },
   {
    "duration": 6,
    "start_time": "2022-10-11T18:27:36.925Z"
   },
   {
    "duration": 171876,
    "start_time": "2022-10-11T18:27:36.932Z"
   },
   {
    "duration": 81,
    "start_time": "2022-10-11T18:30:28.812Z"
   },
   {
    "duration": 25,
    "start_time": "2022-10-11T18:30:28.898Z"
   },
   {
    "duration": 75,
    "start_time": "2022-10-11T18:30:28.925Z"
   },
   {
    "duration": 7486261,
    "start_time": "2022-10-11T18:30:29.001Z"
   },
   {
    "duration": 7,
    "start_time": "2022-10-11T20:35:15.264Z"
   },
   {
    "duration": 56,
    "start_time": "2022-10-11T20:35:15.273Z"
   },
   {
    "duration": 19,
    "start_time": "2022-10-11T20:35:15.331Z"
   },
   {
    "duration": 30,
    "start_time": "2022-10-11T20:35:15.353Z"
   },
   {
    "duration": 7985122,
    "start_time": "2022-10-11T20:35:15.386Z"
   },
   {
    "duration": 7,
    "start_time": "2022-10-11T22:48:20.510Z"
   },
   {
    "duration": 7,
    "start_time": "2022-10-11T22:48:20.519Z"
   },
   {
    "duration": 8,
    "start_time": "2022-10-11T22:48:20.527Z"
   },
   {
    "duration": 5667474,
    "start_time": "2022-10-11T22:48:20.537Z"
   },
   {
    "duration": 6,
    "start_time": "2022-10-12T00:22:48.013Z"
   },
   {
    "duration": 16,
    "start_time": "2022-10-12T00:22:48.020Z"
   },
   {
    "duration": 8,
    "start_time": "2022-10-12T00:22:48.037Z"
   },
   {
    "duration": 42,
    "start_time": "2022-10-12T00:22:48.047Z"
   },
   {
    "duration": 277,
    "start_time": "2022-10-12T00:22:48.091Z"
   },
   {
    "duration": 329,
    "start_time": "2022-10-12T00:22:48.370Z"
   },
   {
    "duration": 390,
    "start_time": "2022-10-12T00:22:48.701Z"
   },
   {
    "duration": 28,
    "start_time": "2022-10-12T00:22:49.093Z"
   },
   {
    "duration": 30,
    "start_time": "2022-10-12T00:22:49.123Z"
   },
   {
    "duration": 45,
    "start_time": "2022-10-12T00:22:49.155Z"
   },
   {
    "duration": 12,
    "start_time": "2022-10-12T00:22:49.202Z"
   },
   {
    "duration": 3,
    "start_time": "2022-10-12T00:22:49.215Z"
   },
   {
    "duration": 3938,
    "start_time": "2022-10-12T00:22:49.219Z"
   },
   {
    "duration": 4,
    "start_time": "2022-10-12T00:22:53.159Z"
   },
   {
    "duration": 12,
    "start_time": "2022-10-12T00:22:53.165Z"
   },
   {
    "duration": 14,
    "start_time": "2022-10-12T00:22:53.178Z"
   },
   {
    "duration": 3,
    "start_time": "2022-10-12T05:56:51.261Z"
   },
   {
    "duration": 141,
    "start_time": "2022-10-12T05:56:54.845Z"
   },
   {
    "duration": 1411,
    "start_time": "2022-10-12T05:57:07.026Z"
   },
   {
    "duration": 6,
    "start_time": "2022-10-12T05:57:15.873Z"
   },
   {
    "duration": 6,
    "start_time": "2022-10-12T05:57:18.487Z"
   },
   {
    "duration": 4,
    "start_time": "2022-10-12T05:57:30.442Z"
   },
   {
    "duration": 48,
    "start_time": "2022-10-12T10:46:56.812Z"
   },
   {
    "duration": 1587,
    "start_time": "2022-10-13T08:33:53.373Z"
   },
   {
    "duration": 4,
    "start_time": "2022-10-13T08:33:54.962Z"
   },
   {
    "duration": 2700,
    "start_time": "2022-10-13T08:33:54.968Z"
   },
   {
    "duration": 25,
    "start_time": "2022-10-13T08:33:57.670Z"
   },
   {
    "duration": 102,
    "start_time": "2022-10-13T08:33:57.697Z"
   },
   {
    "duration": 115,
    "start_time": "2022-10-13T08:33:57.801Z"
   },
   {
    "duration": 62,
    "start_time": "2022-10-13T08:33:57.921Z"
   },
   {
    "duration": 185,
    "start_time": "2022-10-13T08:33:57.985Z"
   },
   {
    "duration": 6,
    "start_time": "2022-10-13T08:33:58.171Z"
   },
   {
    "duration": 1901,
    "start_time": "2022-10-13T08:33:58.178Z"
   },
   {
    "duration": 14,
    "start_time": "2022-10-13T08:34:00.080Z"
   },
   {
    "duration": 2121,
    "start_time": "2022-10-13T08:34:00.096Z"
   },
   {
    "duration": 19,
    "start_time": "2022-10-13T08:34:02.218Z"
   },
   {
    "duration": 16,
    "start_time": "2022-10-13T08:34:02.239Z"
   },
   {
    "duration": 1939,
    "start_time": "2022-10-13T08:34:02.256Z"
   },
   {
    "duration": 30,
    "start_time": "2022-10-13T08:34:04.196Z"
   },
   {
    "duration": 1532,
    "start_time": "2022-10-13T08:34:04.227Z"
   },
   {
    "duration": 285,
    "start_time": "2022-10-13T08:34:05.760Z"
   },
   {
    "duration": 107,
    "start_time": "2022-10-13T08:34:06.048Z"
   },
   {
    "duration": 21,
    "start_time": "2022-10-13T08:34:06.157Z"
   },
   {
    "duration": 5,
    "start_time": "2022-10-13T08:34:06.180Z"
   },
   {
    "duration": 154,
    "start_time": "2022-10-13T08:34:06.187Z"
   },
   {
    "duration": 65,
    "start_time": "2022-10-13T08:34:06.342Z"
   },
   {
    "duration": 201,
    "start_time": "2022-10-13T08:34:06.409Z"
   },
   {
    "duration": 220,
    "start_time": "2022-10-13T08:34:06.612Z"
   },
   {
    "duration": 209,
    "start_time": "2022-10-13T08:34:06.834Z"
   },
   {
    "duration": 395,
    "start_time": "2022-10-13T08:34:07.044Z"
   },
   {
    "duration": 82,
    "start_time": "2022-10-13T08:34:07.441Z"
   },
   {
    "duration": 184,
    "start_time": "2022-10-13T08:34:07.525Z"
   },
   {
    "duration": 11,
    "start_time": "2022-10-13T08:34:07.711Z"
   },
   {
    "duration": 20,
    "start_time": "2022-10-13T08:34:07.724Z"
   },
   {
    "duration": 16,
    "start_time": "2022-10-13T08:34:07.746Z"
   },
   {
    "duration": 102,
    "start_time": "2022-10-13T08:34:07.764Z"
   },
   {
    "duration": 9,
    "start_time": "2022-10-13T08:34:07.868Z"
   },
   {
    "duration": 198,
    "start_time": "2022-10-13T08:34:07.880Z"
   },
   {
    "duration": 15,
    "start_time": "2022-10-13T08:34:08.079Z"
   },
   {
    "duration": 158,
    "start_time": "2022-10-13T08:34:08.096Z"
   },
   {
    "duration": 8,
    "start_time": "2022-10-13T08:34:08.256Z"
   },
   {
    "duration": 2,
    "start_time": "2022-10-13T08:34:08.266Z"
   },
   {
    "duration": 140,
    "start_time": "2022-10-13T08:34:08.270Z"
   },
   {
    "duration": 6,
    "start_time": "2022-10-13T08:34:11.392Z"
   },
   {
    "duration": 11,
    "start_time": "2022-10-13T08:34:12.645Z"
   },
   {
    "duration": 6,
    "start_time": "2022-10-13T08:34:13.972Z"
   },
   {
    "duration": 3,
    "start_time": "2022-10-13T08:34:25.904Z"
   },
   {
    "duration": 6,
    "start_time": "2022-10-13T08:34:26.600Z"
   },
   {
    "duration": 5,
    "start_time": "2022-10-13T08:34:28.458Z"
   },
   {
    "duration": 9,
    "start_time": "2022-10-13T08:34:48.832Z"
   },
   {
    "duration": 2,
    "start_time": "2022-10-13T08:34:51.804Z"
   },
   {
    "duration": 173,
    "start_time": "2022-10-13T08:36:13.403Z"
   },
   {
    "duration": 14,
    "start_time": "2022-10-13T08:36:24.263Z"
   },
   {
    "duration": 3,
    "start_time": "2022-10-13T08:37:30.863Z"
   },
   {
    "duration": 4,
    "start_time": "2022-10-13T08:41:59.702Z"
   },
   {
    "duration": 7,
    "start_time": "2022-10-13T08:55:32.006Z"
   },
   {
    "duration": 3,
    "start_time": "2022-10-13T09:01:58.246Z"
   },
   {
    "duration": 96,
    "start_time": "2022-10-13T09:01:58.859Z"
   },
   {
    "duration": 12,
    "start_time": "2022-10-13T09:02:30.606Z"
   },
   {
    "duration": 2,
    "start_time": "2022-10-13T09:03:12.035Z"
   },
   {
    "duration": 3,
    "start_time": "2022-10-13T09:03:12.665Z"
   },
   {
    "duration": 3,
    "start_time": "2022-10-13T09:03:53.885Z"
   },
   {
    "duration": 583612,
    "start_time": "2022-10-13T09:06:22.904Z"
   },
   {
    "duration": 86,
    "start_time": "2022-10-13T09:17:10.527Z"
   },
   {
    "duration": 4,
    "start_time": "2022-10-13T09:18:35.243Z"
   },
   {
    "duration": 9,
    "start_time": "2022-10-13T09:22:48.776Z"
   },
   {
    "duration": 9,
    "start_time": "2022-10-13T09:23:09.765Z"
   },
   {
    "duration": 4,
    "start_time": "2022-10-13T09:23:35.426Z"
   },
   {
    "duration": 13,
    "start_time": "2022-10-13T09:23:46.865Z"
   },
   {
    "duration": 6,
    "start_time": "2022-10-13T09:23:58.804Z"
   },
   {
    "duration": 4,
    "start_time": "2022-10-13T09:24:09.785Z"
   },
   {
    "duration": 8,
    "start_time": "2022-10-13T09:24:27.725Z"
   },
   {
    "duration": 9,
    "start_time": "2022-10-13T09:24:31.864Z"
   },
   {
    "duration": 6,
    "start_time": "2022-10-13T09:24:43.444Z"
   },
   {
    "duration": 8,
    "start_time": "2022-10-13T09:24:44.936Z"
   },
   {
    "duration": 7,
    "start_time": "2022-10-13T09:25:07.713Z"
   },
   {
    "duration": 10,
    "start_time": "2022-10-13T09:25:10.436Z"
   },
   {
    "duration": 4,
    "start_time": "2022-10-13T09:26:03.624Z"
   },
   {
    "duration": 3,
    "start_time": "2022-10-13T09:27:16.646Z"
   },
   {
    "duration": 590206,
    "start_time": "2022-10-13T09:27:21.207Z"
   },
   {
    "duration": 5,
    "start_time": "2022-10-13T09:37:30.321Z"
   },
   {
    "duration": 10,
    "start_time": "2022-10-13T09:38:07.322Z"
   },
   {
    "duration": 13,
    "start_time": "2022-10-13T09:38:09.697Z"
   },
   {
    "duration": 7,
    "start_time": "2022-10-13T09:39:17.523Z"
   },
   {
    "duration": 11,
    "start_time": "2022-10-13T09:39:19.475Z"
   },
   {
    "duration": 3,
    "start_time": "2022-10-13T09:41:44.963Z"
   },
   {
    "duration": 2,
    "start_time": "2022-10-13T09:41:45.544Z"
   },
   {
    "duration": 297219,
    "start_time": "2022-10-13T09:42:10.324Z"
   },
   {
    "duration": 2,
    "start_time": "2022-10-13T09:54:43.654Z"
   },
   {
    "duration": 3,
    "start_time": "2022-10-13T09:57:57.223Z"
   },
   {
    "duration": 1382,
    "start_time": "2022-10-13T10:03:51.889Z"
   },
   {
    "duration": 4,
    "start_time": "2022-10-13T10:03:53.273Z"
   },
   {
    "duration": 728,
    "start_time": "2022-10-13T10:03:53.278Z"
   },
   {
    "duration": 27,
    "start_time": "2022-10-13T10:03:54.008Z"
   },
   {
    "duration": 105,
    "start_time": "2022-10-13T10:03:54.036Z"
   },
   {
    "duration": 105,
    "start_time": "2022-10-13T10:03:54.143Z"
   },
   {
    "duration": 73,
    "start_time": "2022-10-13T10:03:54.250Z"
   },
   {
    "duration": 168,
    "start_time": "2022-10-13T10:03:54.325Z"
   },
   {
    "duration": 6,
    "start_time": "2022-10-13T10:03:54.495Z"
   },
   {
    "duration": 1935,
    "start_time": "2022-10-13T10:03:54.503Z"
   },
   {
    "duration": 16,
    "start_time": "2022-10-13T10:03:56.440Z"
   },
   {
    "duration": 2068,
    "start_time": "2022-10-13T10:03:56.457Z"
   },
   {
    "duration": 21,
    "start_time": "2022-10-13T10:03:58.527Z"
   },
   {
    "duration": 18,
    "start_time": "2022-10-13T10:03:58.549Z"
   },
   {
    "duration": 1945,
    "start_time": "2022-10-13T10:03:58.569Z"
   },
   {
    "duration": 27,
    "start_time": "2022-10-13T10:04:00.521Z"
   },
   {
    "duration": 1511,
    "start_time": "2022-10-13T10:04:00.549Z"
   },
   {
    "duration": 271,
    "start_time": "2022-10-13T10:04:02.062Z"
   },
   {
    "duration": 74,
    "start_time": "2022-10-13T10:04:02.334Z"
   },
   {
    "duration": 28,
    "start_time": "2022-10-13T10:04:02.410Z"
   },
   {
    "duration": 4,
    "start_time": "2022-10-13T10:04:02.439Z"
   },
   {
    "duration": 148,
    "start_time": "2022-10-13T10:04:02.444Z"
   },
   {
    "duration": 77,
    "start_time": "2022-10-13T10:04:02.593Z"
   },
   {
    "duration": 181,
    "start_time": "2022-10-13T10:04:02.672Z"
   },
   {
    "duration": 205,
    "start_time": "2022-10-13T10:04:02.854Z"
   },
   {
    "duration": 202,
    "start_time": "2022-10-13T10:04:03.061Z"
   },
   {
    "duration": 389,
    "start_time": "2022-10-13T10:04:03.265Z"
   },
   {
    "duration": 84,
    "start_time": "2022-10-13T10:04:03.657Z"
   },
   {
    "duration": 148,
    "start_time": "2022-10-13T10:04:03.743Z"
   },
   {
    "duration": 4,
    "start_time": "2022-10-13T10:04:03.893Z"
   },
   {
    "duration": 42,
    "start_time": "2022-10-13T10:04:03.898Z"
   },
   {
    "duration": 16,
    "start_time": "2022-10-13T10:04:03.941Z"
   },
   {
    "duration": 66,
    "start_time": "2022-10-13T10:04:03.958Z"
   },
   {
    "duration": 29,
    "start_time": "2022-10-13T10:04:04.026Z"
   },
   {
    "duration": 192,
    "start_time": "2022-10-13T10:04:04.056Z"
   },
   {
    "duration": 15,
    "start_time": "2022-10-13T10:04:04.250Z"
   },
   {
    "duration": 164,
    "start_time": "2022-10-13T10:04:04.267Z"
   },
   {
    "duration": 10,
    "start_time": "2022-10-13T10:04:04.432Z"
   },
   {
    "duration": 9,
    "start_time": "2022-10-13T10:04:04.444Z"
   },
   {
    "duration": 134,
    "start_time": "2022-10-13T10:04:04.455Z"
   },
   {
    "duration": 4,
    "start_time": "2022-10-13T10:04:16.440Z"
   },
   {
    "duration": 8,
    "start_time": "2022-10-13T10:04:17.621Z"
   },
   {
    "duration": 5,
    "start_time": "2022-10-13T10:04:18.409Z"
   },
   {
    "duration": 6,
    "start_time": "2022-10-13T10:04:32.508Z"
   },
   {
    "duration": 3,
    "start_time": "2022-10-13T10:04:39.769Z"
   },
   {
    "duration": 3,
    "start_time": "2022-10-13T10:04:40.560Z"
   },
   {
    "duration": 1379,
    "start_time": "2022-10-13T10:45:41.580Z"
   },
   {
    "duration": 3,
    "start_time": "2022-10-13T10:45:42.961Z"
   },
   {
    "duration": 746,
    "start_time": "2022-10-13T10:45:42.966Z"
   },
   {
    "duration": 28,
    "start_time": "2022-10-13T10:45:43.713Z"
   },
   {
    "duration": 117,
    "start_time": "2022-10-13T10:45:43.744Z"
   },
   {
    "duration": 123,
    "start_time": "2022-10-13T10:45:43.863Z"
   },
   {
    "duration": 71,
    "start_time": "2022-10-13T10:45:43.987Z"
   },
   {
    "duration": 169,
    "start_time": "2022-10-13T10:45:44.060Z"
   },
   {
    "duration": 5,
    "start_time": "2022-10-13T10:45:44.230Z"
   },
   {
    "duration": 1966,
    "start_time": "2022-10-13T10:45:44.237Z"
   },
   {
    "duration": 28,
    "start_time": "2022-10-13T10:45:46.204Z"
   },
   {
    "duration": 1890,
    "start_time": "2022-10-13T10:45:46.234Z"
   },
   {
    "duration": 19,
    "start_time": "2022-10-13T10:45:48.125Z"
   },
   {
    "duration": 15,
    "start_time": "2022-10-13T10:45:48.147Z"
   },
   {
    "duration": 1893,
    "start_time": "2022-10-13T10:45:48.163Z"
   },
   {
    "duration": 28,
    "start_time": "2022-10-13T10:45:50.057Z"
   },
   {
    "duration": 1485,
    "start_time": "2022-10-13T10:45:50.087Z"
   },
   {
    "duration": 263,
    "start_time": "2022-10-13T10:45:51.574Z"
   },
   {
    "duration": 69,
    "start_time": "2022-10-13T10:45:51.839Z"
   },
   {
    "duration": 144,
    "start_time": "2022-10-13T10:45:51.910Z"
   },
   {
    "duration": 320,
    "start_time": "2022-10-13T10:45:52.056Z"
   },
   {
    "duration": 150,
    "start_time": "2022-10-13T10:45:52.377Z"
   },
   {
    "duration": 59,
    "start_time": "2022-10-13T10:45:52.530Z"
   },
   {
    "duration": 175,
    "start_time": "2022-10-13T10:45:52.590Z"
   },
   {
    "duration": 201,
    "start_time": "2022-10-13T10:45:52.767Z"
   },
   {
    "duration": 221,
    "start_time": "2022-10-13T10:45:52.969Z"
   },
   {
    "duration": 410,
    "start_time": "2022-10-13T10:45:53.192Z"
   },
   {
    "duration": 83,
    "start_time": "2022-10-13T10:45:53.604Z"
   },
   {
    "duration": 152,
    "start_time": "2022-10-13T10:45:53.689Z"
   },
   {
    "duration": 4,
    "start_time": "2022-10-13T10:45:53.843Z"
   },
   {
    "duration": 48,
    "start_time": "2022-10-13T10:45:53.848Z"
   },
   {
    "duration": 57,
    "start_time": "2022-10-13T10:45:53.898Z"
   },
   {
    "duration": 69,
    "start_time": "2022-10-13T10:45:53.957Z"
   },
   {
    "duration": 9,
    "start_time": "2022-10-13T10:45:54.028Z"
   },
   {
    "duration": 180,
    "start_time": "2022-10-13T10:45:54.039Z"
   },
   {
    "duration": 13,
    "start_time": "2022-10-13T10:45:54.221Z"
   },
   {
    "duration": 148,
    "start_time": "2022-10-13T10:45:54.236Z"
   },
   {
    "duration": 8,
    "start_time": "2022-10-13T10:45:54.385Z"
   },
   {
    "duration": 15,
    "start_time": "2022-10-13T10:45:54.395Z"
   },
   {
    "duration": 160,
    "start_time": "2022-10-13T10:45:54.411Z"
   },
   {
    "duration": 5,
    "start_time": "2022-10-13T10:46:00.379Z"
   },
   {
    "duration": 9,
    "start_time": "2022-10-13T10:46:00.863Z"
   },
   {
    "duration": 7,
    "start_time": "2022-10-13T10:46:01.379Z"
   },
   {
    "duration": 8,
    "start_time": "2022-10-13T10:46:08.512Z"
   },
   {
    "duration": 3,
    "start_time": "2022-10-13T10:46:25.670Z"
   },
   {
    "duration": 3,
    "start_time": "2022-10-13T10:46:28.110Z"
   },
   {
    "duration": 4233,
    "start_time": "2022-10-13T10:46:30.111Z"
   },
   {
    "duration": 3,
    "start_time": "2022-10-13T10:46:45.383Z"
   },
   {
    "duration": 2,
    "start_time": "2022-10-13T10:46:46.031Z"
   },
   {
    "duration": 42904,
    "start_time": "2022-10-13T10:46:46.832Z"
   },
   {
    "duration": 101,
    "start_time": "2022-10-13T10:47:34.368Z"
   },
   {
    "duration": 72067,
    "start_time": "2022-10-13T10:47:46.479Z"
   },
   {
    "duration": 11,
    "start_time": "2022-10-13T10:49:23.335Z"
   },
   {
    "duration": 7,
    "start_time": "2022-10-13T10:49:54.612Z"
   },
   {
    "duration": 8,
    "start_time": "2022-10-13T10:50:15.202Z"
   },
   {
    "duration": 1327,
    "start_time": "2022-10-13T10:52:11.575Z"
   },
   {
    "duration": 3,
    "start_time": "2022-10-13T10:52:12.904Z"
   },
   {
    "duration": 691,
    "start_time": "2022-10-13T10:52:12.908Z"
   },
   {
    "duration": 33,
    "start_time": "2022-10-13T10:52:13.601Z"
   },
   {
    "duration": 106,
    "start_time": "2022-10-13T10:52:13.635Z"
   },
   {
    "duration": 102,
    "start_time": "2022-10-13T10:52:13.743Z"
   },
   {
    "duration": 84,
    "start_time": "2022-10-13T10:52:13.847Z"
   },
   {
    "duration": 169,
    "start_time": "2022-10-13T10:52:13.933Z"
   },
   {
    "duration": 5,
    "start_time": "2022-10-13T10:52:14.104Z"
   },
   {
    "duration": 1842,
    "start_time": "2022-10-13T10:52:14.111Z"
   },
   {
    "duration": 13,
    "start_time": "2022-10-13T10:52:15.954Z"
   },
   {
    "duration": 2004,
    "start_time": "2022-10-13T10:52:15.969Z"
   },
   {
    "duration": 19,
    "start_time": "2022-10-13T10:52:17.975Z"
   },
   {
    "duration": 30,
    "start_time": "2022-10-13T10:52:17.995Z"
   },
   {
    "duration": 2077,
    "start_time": "2022-10-13T10:52:18.026Z"
   },
   {
    "duration": 32,
    "start_time": "2022-10-13T10:52:20.104Z"
   },
   {
    "duration": 1491,
    "start_time": "2022-10-13T10:52:20.137Z"
   },
   {
    "duration": 276,
    "start_time": "2022-10-13T10:52:21.630Z"
   },
   {
    "duration": 77,
    "start_time": "2022-10-13T10:52:21.908Z"
   },
   {
    "duration": 16,
    "start_time": "2022-10-13T10:52:21.987Z"
   },
   {
    "duration": 19,
    "start_time": "2022-10-13T10:52:22.004Z"
   },
   {
    "duration": 140,
    "start_time": "2022-10-13T10:52:22.025Z"
   },
   {
    "duration": 55,
    "start_time": "2022-10-13T10:52:22.167Z"
   },
   {
    "duration": 174,
    "start_time": "2022-10-13T10:52:22.223Z"
   },
   {
    "duration": 194,
    "start_time": "2022-10-13T10:52:22.399Z"
   },
   {
    "duration": 208,
    "start_time": "2022-10-13T10:52:22.595Z"
   },
   {
    "duration": 404,
    "start_time": "2022-10-13T10:52:22.804Z"
   },
   {
    "duration": 73,
    "start_time": "2022-10-13T10:52:23.211Z"
   },
   {
    "duration": 140,
    "start_time": "2022-10-13T10:52:23.285Z"
   },
   {
    "duration": 3,
    "start_time": "2022-10-13T10:52:23.427Z"
   },
   {
    "duration": 27,
    "start_time": "2022-10-13T10:52:23.431Z"
   },
   {
    "duration": 22,
    "start_time": "2022-10-13T10:52:23.459Z"
   },
   {
    "duration": 52,
    "start_time": "2022-10-13T10:52:23.482Z"
   },
   {
    "duration": 8,
    "start_time": "2022-10-13T10:52:23.536Z"
   },
   {
    "duration": 182,
    "start_time": "2022-10-13T10:52:23.545Z"
   },
   {
    "duration": 14,
    "start_time": "2022-10-13T10:52:23.728Z"
   },
   {
    "duration": 143,
    "start_time": "2022-10-13T10:52:23.744Z"
   },
   {
    "duration": 7,
    "start_time": "2022-10-13T10:52:23.889Z"
   },
   {
    "duration": 15,
    "start_time": "2022-10-13T10:52:23.897Z"
   },
   {
    "duration": 157,
    "start_time": "2022-10-13T10:52:23.913Z"
   },
   {
    "duration": 5,
    "start_time": "2022-10-13T10:52:24.072Z"
   },
   {
    "duration": 55,
    "start_time": "2022-10-13T10:52:24.078Z"
   },
   {
    "duration": 31,
    "start_time": "2022-10-13T10:52:24.134Z"
   },
   {
    "duration": 41,
    "start_time": "2022-10-13T10:52:24.166Z"
   },
   {
    "duration": 28,
    "start_time": "2022-10-13T10:52:24.208Z"
   },
   {
    "duration": 68687,
    "start_time": "2022-10-13T10:52:24.237Z"
   },
   {
    "duration": 96,
    "start_time": "2022-10-13T10:53:32.929Z"
   },
   {
    "duration": 101,
    "start_time": "2022-10-13T10:53:33.031Z"
   },
   {
    "duration": 9,
    "start_time": "2022-10-13T10:53:33.133Z"
   },
   {
    "duration": 5607899,
    "start_time": "2022-10-13T10:53:33.143Z"
   },
   {
    "duration": 6,
    "start_time": "2022-10-13T12:27:01.044Z"
   },
   {
    "duration": 34,
    "start_time": "2022-10-13T12:27:01.051Z"
   },
   {
    "duration": 10,
    "start_time": "2022-10-13T12:27:01.087Z"
   },
   {
    "duration": 14,
    "start_time": "2022-10-13T12:27:01.099Z"
   },
   {
    "duration": 6241246,
    "start_time": "2022-10-13T12:27:01.115Z"
   },
   {
    "duration": 6,
    "start_time": "2022-10-13T14:11:02.363Z"
   },
   {
    "duration": 31,
    "start_time": "2022-10-13T14:11:02.371Z"
   },
   {
    "duration": 25,
    "start_time": "2022-10-13T14:11:02.404Z"
   },
   {
    "duration": 6000091,
    "start_time": "2022-10-13T14:11:02.431Z"
   },
   {
    "duration": 8,
    "start_time": "2022-10-13T15:51:02.523Z"
   },
   {
    "duration": 24,
    "start_time": "2022-10-13T15:51:02.533Z"
   },
   {
    "duration": 24,
    "start_time": "2022-10-13T15:51:02.558Z"
   },
   {
    "duration": 7,
    "start_time": "2022-10-13T15:51:02.583Z"
   },
   {
    "duration": 300,
    "start_time": "2022-10-13T15:51:02.592Z"
   },
   {
    "duration": 296,
    "start_time": "2022-10-13T15:51:02.894Z"
   },
   {
    "duration": 402,
    "start_time": "2022-10-13T15:51:03.192Z"
   },
   {
    "duration": 37,
    "start_time": "2022-10-13T15:51:03.595Z"
   },
   {
    "duration": 28,
    "start_time": "2022-10-13T15:51:03.633Z"
   },
   {
    "duration": 12,
    "start_time": "2022-10-13T15:51:03.663Z"
   },
   {
    "duration": 52,
    "start_time": "2022-10-13T15:51:03.678Z"
   },
   {
    "duration": 11,
    "start_time": "2022-10-13T16:01:38.339Z"
   },
   {
    "duration": 3,
    "start_time": "2022-10-13T16:01:51.604Z"
   },
   {
    "duration": 14,
    "start_time": "2022-10-13T16:01:58.890Z"
   },
   {
    "duration": 4,
    "start_time": "2022-10-13T16:02:13.302Z"
   },
   {
    "duration": 7,
    "start_time": "2022-10-13T16:03:36.033Z"
   },
   {
    "duration": 3,
    "start_time": "2022-10-13T16:05:30.605Z"
   },
   {
    "duration": 3,
    "start_time": "2022-10-13T16:05:38.947Z"
   },
   {
    "duration": 589660,
    "start_time": "2022-10-13T16:05:58.806Z"
   },
   {
    "duration": 7,
    "start_time": "2022-10-13T16:27:01.837Z"
   },
   {
    "duration": 306152,
    "start_time": "2022-10-13T16:30:52.937Z"
   },
   {
    "duration": 2,
    "start_time": "2022-10-13T16:36:18.802Z"
   },
   {
    "duration": 2,
    "start_time": "2022-10-13T16:36:23.814Z"
   },
   {
    "duration": 2429370,
    "start_time": "2022-10-13T16:36:34.601Z"
   },
   {
    "duration": 8,
    "start_time": "2022-10-13T17:18:58.310Z"
   },
   {
    "duration": 683316,
    "start_time": "2022-10-13T17:19:04.724Z"
   },
   {
    "duration": 3,
    "start_time": "2022-10-13T17:32:19.006Z"
   },
   {
    "duration": 304,
    "start_time": "2022-10-13T17:32:25.586Z"
   },
   {
    "duration": 5,
    "start_time": "2022-10-13T17:35:58.972Z"
   },
   {
    "duration": 317,
    "start_time": "2022-10-13T17:36:35.285Z"
   },
   {
    "duration": 284,
    "start_time": "2022-10-13T17:36:43.405Z"
   },
   {
    "duration": 4,
    "start_time": "2022-10-13T17:37:12.134Z"
   },
   {
    "duration": 306,
    "start_time": "2022-10-13T17:37:27.638Z"
   },
   {
    "duration": 362,
    "start_time": "2022-10-13T17:38:09.366Z"
   },
   {
    "duration": 323,
    "start_time": "2022-10-13T17:38:17.586Z"
   },
   {
    "duration": 296,
    "start_time": "2022-10-13T17:38:38.054Z"
   },
   {
    "duration": 304,
    "start_time": "2022-10-13T17:39:33.246Z"
   },
   {
    "duration": 3,
    "start_time": "2022-10-13T17:40:18.466Z"
   },
   {
    "duration": 930,
    "start_time": "2022-10-13T17:41:02.966Z"
   },
   {
    "duration": 4,
    "start_time": "2022-10-13T17:41:30.966Z"
   },
   {
    "duration": 6,
    "start_time": "2022-10-13T17:41:39.088Z"
   },
   {
    "duration": 4,
    "start_time": "2022-10-13T17:41:42.107Z"
   }
  ],
  "kernelspec": {
   "display_name": "Python 3 (ipykernel)",
   "language": "python",
   "name": "python3"
  },
  "language_info": {
   "codemirror_mode": {
    "name": "ipython",
    "version": 3
   },
   "file_extension": ".py",
   "mimetype": "text/x-python",
   "name": "python",
   "nbconvert_exporter": "python",
   "pygments_lexer": "ipython3",
   "version": "3.9.5"
  },
  "toc": {
   "base_numbering": 1,
   "nav_menu": {},
   "number_sections": true,
   "sideBar": true,
   "skip_h1_title": true,
   "title_cell": "Table of Contents",
   "title_sidebar": "Contents",
   "toc_cell": false,
   "toc_position": {
    "height": "567px",
    "left": "1px",
    "top": "162.141px",
    "width": "314px"
   },
   "toc_section_display": true,
   "toc_window_display": true
  }
 },
 "nbformat": 4,
 "nbformat_minor": 2
}
