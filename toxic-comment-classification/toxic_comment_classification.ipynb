{
 "cells": [
  {
   "cell_type": "markdown",
   "metadata": {
    "id": "1QWnp3qkRjjl"
   },
   "source": [
    "# Классификация токсичных комментариев"
   ]
  },
  {
   "cell_type": "markdown",
   "metadata": {
    "id": "I-0GDDuMRy9w"
   },
   "source": [
    "## Задача <a class = \"tocSkip\">"
   ]
  },
  {
   "cell_type": "markdown",
   "metadata": {
    "id": "wwjZWWaxTL7N"
   },
   "source": [
    "Построить модель для классификации токсичных комментариев пользователей к описаниям товаров интернет-магазина.\n",
    "\n",
    "На основании предсказаний модели токсичные комментарии будут отправляться на модерацию.\n",
    "\n",
    "Модель дожна демонстрировать качество прогноза `F1` не ниже 0.75. "
   ]
  },
  {
   "cell_type": "markdown",
   "metadata": {
    "id": "iyE0GnarTQeG"
   },
   "source": [
    "## Предоставленные данные <a class = \"tocSkip\">"
   ]
  },
  {
   "cell_type": "markdown",
   "metadata": {
    "id": "I2XcZp6HTQn_"
   },
   "source": [
    "Набор комментариев с разметкой их токсичности.\n",
    "\n",
    "Согласно описанию к данным:\n",
    "\n",
    "- столбец `text` — текст комментария;\n",
    "- столбец `toxic` — указание на токсичность (целевой признак)."
   ]
  },
  {
   "cell_type": "markdown",
   "metadata": {
    "id": "aLY7XKlfTQw1"
   },
   "source": [
    "## План работы <a class = \"tocSkip\">"
   ]
  },
  {
   "cell_type": "markdown",
   "metadata": {
    "id": "e1B9MAP2TQ1i"
   },
   "source": [
    "Работа будет включать пять этапов:\n",
    "    \n",
    "1. загрузка и изучение данных;\n",
    "2. подготовка к обучению;\n",
    "3. обучение моделей;\n",
    "4. анализ моделей; и\n",
    "5. выбор и тестирование лучшей модели."
   ]
  },
  {
   "cell_type": "markdown",
   "metadata": {
    "id": "Pjmwa37iSMn7"
   },
   "source": [
    "## Подготовка к работе <a class = \"tocSkip\">"
   ]
  },
  {
   "cell_type": "markdown",
   "metadata": {
    "id": "poZqV1VOUwOh"
   },
   "source": [
    "До начала работы загрузим недостающие модули *catboost*, *evaluate* и *transformers*:"
   ]
  },
  {
   "cell_type": "code",
   "execution_count": 1,
   "metadata": {
    "colab": {
     "base_uri": "https://localhost:8080/"
    },
    "id": "1kW7bFsAgGRQ",
    "outputId": "19e29a10-8ccb-497b-fa58-f2b65e88f116"
   },
   "outputs": [
    {
     "name": "stdout",
     "output_type": "stream",
     "text": [
      "Looking in indexes: https://pypi.org/simple, https://us-python.pkg.dev/colab-wheels/public/simple/\n",
      "Collecting catboost\n",
      "  Downloading catboost-1.1-cp37-none-manylinux1_x86_64.whl (76.8 MB)\n",
      "\u001b[K     |████████████████████████████████| 76.8 MB 1.6 MB/s \n",
      "\u001b[?25hRequirement already satisfied: numpy>=1.16.0 in /usr/local/lib/python3.7/dist-packages (from catboost) (1.21.6)\n",
      "Requirement already satisfied: plotly in /usr/local/lib/python3.7/dist-packages (from catboost) (5.5.0)\n",
      "Requirement already satisfied: pandas>=0.24.0 in /usr/local/lib/python3.7/dist-packages (from catboost) (1.3.5)\n",
      "Requirement already satisfied: scipy in /usr/local/lib/python3.7/dist-packages (from catboost) (1.7.3)\n",
      "Requirement already satisfied: matplotlib in /usr/local/lib/python3.7/dist-packages (from catboost) (3.2.2)\n",
      "Requirement already satisfied: six in /usr/local/lib/python3.7/dist-packages (from catboost) (1.15.0)\n",
      "Requirement already satisfied: graphviz in /usr/local/lib/python3.7/dist-packages (from catboost) (0.10.1)\n",
      "Requirement already satisfied: pytz>=2017.3 in /usr/local/lib/python3.7/dist-packages (from pandas>=0.24.0->catboost) (2022.5)\n",
      "Requirement already satisfied: python-dateutil>=2.7.3 in /usr/local/lib/python3.7/dist-packages (from pandas>=0.24.0->catboost) (2.8.2)\n",
      "Requirement already satisfied: kiwisolver>=1.0.1 in /usr/local/lib/python3.7/dist-packages (from matplotlib->catboost) (1.4.4)\n",
      "Requirement already satisfied: cycler>=0.10 in /usr/local/lib/python3.7/dist-packages (from matplotlib->catboost) (0.11.0)\n",
      "Requirement already satisfied: pyparsing!=2.0.4,!=2.1.2,!=2.1.6,>=2.0.1 in /usr/local/lib/python3.7/dist-packages (from matplotlib->catboost) (3.0.9)\n",
      "Requirement already satisfied: typing-extensions in /usr/local/lib/python3.7/dist-packages (from kiwisolver>=1.0.1->matplotlib->catboost) (4.1.1)\n",
      "Requirement already satisfied: tenacity>=6.2.0 in /usr/local/lib/python3.7/dist-packages (from plotly->catboost) (8.1.0)\n",
      "Installing collected packages: catboost\n",
      "Successfully installed catboost-1.1\n"
     ]
    }
   ],
   "source": [
    "pip install catboost"
   ]
  },
  {
   "cell_type": "code",
   "execution_count": 2,
   "metadata": {
    "colab": {
     "base_uri": "https://localhost:8080/"
    },
    "id": "WbMZGXFAjTw5",
    "outputId": "1165e181-bf58-4ae7-eed0-f5c937576dff"
   },
   "outputs": [
    {
     "name": "stdout",
     "output_type": "stream",
     "text": [
      "Looking in indexes: https://pypi.org/simple, https://us-python.pkg.dev/colab-wheels/public/simple/\n",
      "Collecting evaluate\n",
      "  Downloading evaluate-0.3.0-py3-none-any.whl (72 kB)\n",
      "\u001b[K     |████████████████████████████████| 72 kB 1.6 MB/s \n",
      "\u001b[?25hRequirement already satisfied: packaging in /usr/local/lib/python3.7/dist-packages (from evaluate) (21.3)\n",
      "Requirement already satisfied: numpy>=1.17 in /usr/local/lib/python3.7/dist-packages (from evaluate) (1.21.6)\n",
      "Requirement already satisfied: dill in /usr/local/lib/python3.7/dist-packages (from evaluate) (0.3.5.1)\n",
      "Collecting multiprocess\n",
      "  Downloading multiprocess-0.70.14-py37-none-any.whl (115 kB)\n",
      "\u001b[K     |████████████████████████████████| 115 kB 70.9 MB/s \n",
      "\u001b[?25hRequirement already satisfied: fsspec[http]>=2021.05.0 in /usr/local/lib/python3.7/dist-packages (from evaluate) (2022.10.0)\n",
      "Requirement already satisfied: requests>=2.19.0 in /usr/local/lib/python3.7/dist-packages (from evaluate) (2.23.0)\n",
      "Requirement already satisfied: importlib-metadata in /usr/local/lib/python3.7/dist-packages (from evaluate) (4.13.0)\n",
      "Collecting responses<0.19\n",
      "  Downloading responses-0.18.0-py3-none-any.whl (38 kB)\n",
      "Requirement already satisfied: pandas in /usr/local/lib/python3.7/dist-packages (from evaluate) (1.3.5)\n",
      "Collecting xxhash\n",
      "  Downloading xxhash-3.1.0-cp37-cp37m-manylinux_2_17_x86_64.manylinux2014_x86_64.whl (212 kB)\n",
      "\u001b[K     |████████████████████████████████| 212 kB 72.1 MB/s \n",
      "\u001b[?25hRequirement already satisfied: tqdm>=4.62.1 in /usr/local/lib/python3.7/dist-packages (from evaluate) (4.64.1)\n",
      "Collecting huggingface-hub>=0.7.0\n",
      "  Downloading huggingface_hub-0.10.1-py3-none-any.whl (163 kB)\n",
      "\u001b[K     |████████████████████████████████| 163 kB 75.0 MB/s \n",
      "\u001b[?25hCollecting datasets>=2.0.0\n",
      "  Downloading datasets-2.6.1-py3-none-any.whl (441 kB)\n",
      "\u001b[K     |████████████████████████████████| 441 kB 72.7 MB/s \n",
      "\u001b[?25hRequirement already satisfied: pyyaml>=5.1 in /usr/local/lib/python3.7/dist-packages (from datasets>=2.0.0->evaluate) (6.0)\n",
      "Requirement already satisfied: aiohttp in /usr/local/lib/python3.7/dist-packages (from datasets>=2.0.0->evaluate) (3.8.3)\n",
      "Requirement already satisfied: pyarrow>=6.0.0 in /usr/local/lib/python3.7/dist-packages (from datasets>=2.0.0->evaluate) (6.0.1)\n",
      "Requirement already satisfied: async-timeout<5.0,>=4.0.0a3 in /usr/local/lib/python3.7/dist-packages (from aiohttp->datasets>=2.0.0->evaluate) (4.0.2)\n",
      "Requirement already satisfied: frozenlist>=1.1.1 in /usr/local/lib/python3.7/dist-packages (from aiohttp->datasets>=2.0.0->evaluate) (1.3.1)\n",
      "Requirement already satisfied: attrs>=17.3.0 in /usr/local/lib/python3.7/dist-packages (from aiohttp->datasets>=2.0.0->evaluate) (22.1.0)\n",
      "Requirement already satisfied: aiosignal>=1.1.2 in /usr/local/lib/python3.7/dist-packages (from aiohttp->datasets>=2.0.0->evaluate) (1.2.0)\n",
      "Requirement already satisfied: typing-extensions>=3.7.4 in /usr/local/lib/python3.7/dist-packages (from aiohttp->datasets>=2.0.0->evaluate) (4.1.1)\n",
      "Requirement already satisfied: yarl<2.0,>=1.0 in /usr/local/lib/python3.7/dist-packages (from aiohttp->datasets>=2.0.0->evaluate) (1.8.1)\n",
      "Requirement already satisfied: asynctest==0.13.0 in /usr/local/lib/python3.7/dist-packages (from aiohttp->datasets>=2.0.0->evaluate) (0.13.0)\n",
      "Requirement already satisfied: multidict<7.0,>=4.5 in /usr/local/lib/python3.7/dist-packages (from aiohttp->datasets>=2.0.0->evaluate) (6.0.2)\n",
      "Requirement already satisfied: charset-normalizer<3.0,>=2.0 in /usr/local/lib/python3.7/dist-packages (from aiohttp->datasets>=2.0.0->evaluate) (2.1.1)\n",
      "Requirement already satisfied: filelock in /usr/local/lib/python3.7/dist-packages (from huggingface-hub>=0.7.0->evaluate) (3.8.0)\n",
      "Requirement already satisfied: pyparsing!=3.0.5,>=2.0.2 in /usr/local/lib/python3.7/dist-packages (from packaging->evaluate) (3.0.9)\n",
      "Requirement already satisfied: certifi>=2017.4.17 in /usr/local/lib/python3.7/dist-packages (from requests>=2.19.0->evaluate) (2022.9.24)\n",
      "Requirement already satisfied: idna<3,>=2.5 in /usr/local/lib/python3.7/dist-packages (from requests>=2.19.0->evaluate) (2.10)\n",
      "Requirement already satisfied: urllib3!=1.25.0,!=1.25.1,<1.26,>=1.21.1 in /usr/local/lib/python3.7/dist-packages (from requests>=2.19.0->evaluate) (1.24.3)\n",
      "Requirement already satisfied: chardet<4,>=3.0.2 in /usr/local/lib/python3.7/dist-packages (from requests>=2.19.0->evaluate) (3.0.4)\n",
      "Collecting urllib3!=1.25.0,!=1.25.1,<1.26,>=1.21.1\n",
      "  Downloading urllib3-1.25.11-py2.py3-none-any.whl (127 kB)\n",
      "\u001b[K     |████████████████████████████████| 127 kB 74.9 MB/s \n",
      "\u001b[?25hRequirement already satisfied: zipp>=0.5 in /usr/local/lib/python3.7/dist-packages (from importlib-metadata->evaluate) (3.9.0)\n",
      "Collecting multiprocess\n",
      "  Downloading multiprocess-0.70.13-py37-none-any.whl (115 kB)\n",
      "\u001b[K     |████████████████████████████████| 115 kB 42.9 MB/s \n",
      "\u001b[?25hRequirement already satisfied: python-dateutil>=2.7.3 in /usr/local/lib/python3.7/dist-packages (from pandas->evaluate) (2.8.2)\n",
      "Requirement already satisfied: pytz>=2017.3 in /usr/local/lib/python3.7/dist-packages (from pandas->evaluate) (2022.5)\n",
      "Requirement already satisfied: six>=1.5 in /usr/local/lib/python3.7/dist-packages (from python-dateutil>=2.7.3->pandas->evaluate) (1.15.0)\n",
      "Installing collected packages: urllib3, xxhash, responses, multiprocess, huggingface-hub, datasets, evaluate\n",
      "  Attempting uninstall: urllib3\n",
      "    Found existing installation: urllib3 1.24.3\n",
      "    Uninstalling urllib3-1.24.3:\n",
      "      Successfully uninstalled urllib3-1.24.3\n",
      "Successfully installed datasets-2.6.1 evaluate-0.3.0 huggingface-hub-0.10.1 multiprocess-0.70.13 responses-0.18.0 urllib3-1.25.11 xxhash-3.1.0\n"
     ]
    }
   ],
   "source": [
    "pip install evaluate"
   ]
  },
  {
   "cell_type": "code",
   "execution_count": 3,
   "metadata": {
    "colab": {
     "base_uri": "https://localhost:8080/"
    },
    "id": "7gG1ejwB6zxe",
    "outputId": "4f48a481-3511-43eb-c2a7-7d00f8d8568d"
   },
   "outputs": [
    {
     "name": "stdout",
     "output_type": "stream",
     "text": [
      "Looking in indexes: https://pypi.org/simple, https://us-python.pkg.dev/colab-wheels/public/simple/\n",
      "Collecting transformers\n",
      "  Downloading transformers-4.23.1-py3-none-any.whl (5.3 MB)\n",
      "\u001b[K     |████████████████████████████████| 5.3 MB 35.4 MB/s \n",
      "\u001b[?25hRequirement already satisfied: importlib-metadata in /usr/local/lib/python3.7/dist-packages (from transformers) (4.13.0)\n",
      "Requirement already satisfied: requests in /usr/local/lib/python3.7/dist-packages (from transformers) (2.23.0)\n",
      "Requirement already satisfied: tqdm>=4.27 in /usr/local/lib/python3.7/dist-packages (from transformers) (4.64.1)\n",
      "Requirement already satisfied: packaging>=20.0 in /usr/local/lib/python3.7/dist-packages (from transformers) (21.3)\n",
      "Collecting tokenizers!=0.11.3,<0.14,>=0.11.1\n",
      "  Downloading tokenizers-0.13.1-cp37-cp37m-manylinux_2_17_x86_64.manylinux2014_x86_64.whl (7.6 MB)\n",
      "\u001b[K     |████████████████████████████████| 7.6 MB 50.5 MB/s \n",
      "\u001b[?25hRequirement already satisfied: filelock in /usr/local/lib/python3.7/dist-packages (from transformers) (3.8.0)\n",
      "Requirement already satisfied: numpy>=1.17 in /usr/local/lib/python3.7/dist-packages (from transformers) (1.21.6)\n",
      "Requirement already satisfied: huggingface-hub<1.0,>=0.10.0 in /usr/local/lib/python3.7/dist-packages (from transformers) (0.10.1)\n",
      "Requirement already satisfied: regex!=2019.12.17 in /usr/local/lib/python3.7/dist-packages (from transformers) (2022.6.2)\n",
      "Requirement already satisfied: pyyaml>=5.1 in /usr/local/lib/python3.7/dist-packages (from transformers) (6.0)\n",
      "Requirement already satisfied: typing-extensions>=3.7.4.3 in /usr/local/lib/python3.7/dist-packages (from huggingface-hub<1.0,>=0.10.0->transformers) (4.1.1)\n",
      "Requirement already satisfied: pyparsing!=3.0.5,>=2.0.2 in /usr/local/lib/python3.7/dist-packages (from packaging>=20.0->transformers) (3.0.9)\n",
      "Requirement already satisfied: zipp>=0.5 in /usr/local/lib/python3.7/dist-packages (from importlib-metadata->transformers) (3.9.0)\n",
      "Requirement already satisfied: urllib3!=1.25.0,!=1.25.1,<1.26,>=1.21.1 in /usr/local/lib/python3.7/dist-packages (from requests->transformers) (1.25.11)\n",
      "Requirement already satisfied: certifi>=2017.4.17 in /usr/local/lib/python3.7/dist-packages (from requests->transformers) (2022.9.24)\n",
      "Requirement already satisfied: idna<3,>=2.5 in /usr/local/lib/python3.7/dist-packages (from requests->transformers) (2.10)\n",
      "Requirement already satisfied: chardet<4,>=3.0.2 in /usr/local/lib/python3.7/dist-packages (from requests->transformers) (3.0.4)\n",
      "Installing collected packages: tokenizers, transformers\n",
      "Successfully installed tokenizers-0.13.1 transformers-4.23.1\n"
     ]
    }
   ],
   "source": [
    "pip install transformers"
   ]
  },
  {
   "cell_type": "markdown",
   "metadata": {
    "id": "Fgk55DS-U4kH"
   },
   "source": [
    "Также загрузим необходимые библиотеки:"
   ]
  },
  {
   "cell_type": "code",
   "execution_count": 4,
   "metadata": {
    "id": "ABvSM3vHhNbo"
   },
   "outputs": [],
   "source": [
    "# импорт библиотек\n",
    "\n",
    "# gc, torch, numpy, pandas\n",
    "import os\n",
    "import gc\n",
    "import torch\n",
    "import numpy as np\n",
    "import pandas as pd\n",
    "\n",
    "# визуализация\n",
    "import seaborn as sns\n",
    "from tqdm import notebook\n",
    "import matplotlib.pyplot as plt\n",
    "from sklearn.metrics import ConfusionMatrixDisplay\n",
    "\n",
    "\n",
    "# подготовка данных\n",
    "from datasets import Dataset\n",
    "from datasets import load_from_disk\n",
    "from transformers import DefaultDataCollator\n",
    "from sklearn.model_selection import train_test_split\n",
    "from transformers import DistilBertModel, DistilBertTokenizerFast\n",
    "\n",
    "\n",
    "# модели машинного обучения\n",
    "from catboost import CatBoostClassifier\n",
    "from sklearn.linear_model import RidgeClassifier\n",
    "from sklearn.ensemble import RandomForestRegressor\n",
    "from sklearn.ensemble import RandomForestClassifier\n",
    "from sklearn.linear_model import LogisticRegression\n",
    "from transformers import DistilBertForSequenceClassification\n",
    "\n",
    "\n",
    "# обучение и анализ моделей\n",
    "import evaluate\n",
    "from sklearn.metrics import f1_score\n",
    "from sklearn.metrics import confusion_matrix\n",
    "from transformers import Trainer, TrainingArguments\n",
    "from sklearn.model_selection import RandomizedSearchCV"
   ]
  },
  {
   "cell_type": "markdown",
   "metadata": {
    "id": "sQmr4byK4VSm"
   },
   "source": [
    "Наконец, установим возможность использования GPU для ускорения вычислений:"
   ]
  },
  {
   "cell_type": "code",
   "execution_count": 5,
   "metadata": {
    "id": "X7mTZO_tUKnz"
   },
   "outputs": [],
   "source": [
    "# установка использования GPU\n",
    "device = \"cuda:0\" if torch.cuda.is_available() else \"cpu\""
   ]
  },
  {
   "cell_type": "markdown",
   "metadata": {
    "id": "LLSO6JasR5e8"
   },
   "source": [
    "## Загрузка и изучение данных"
   ]
  },
  {
   "cell_type": "markdown",
   "metadata": {
    "id": "VsxW8hRvSlkz"
   },
   "source": [
    "Прочитаем файл с данными:"
   ]
  },
  {
   "cell_type": "code",
   "execution_count": 6,
   "metadata": {
    "id": "okiFG-LniRCS"
   },
   "outputs": [],
   "source": [
    "# подключение google drive\n",
    "from google.colab import drive\n",
    "drive.mount('/content/drive')\n",
    "\n",
    "# указание пути к данным\n",
    "path = '/content/drive/MyDrive/yandex-practicum-data-science-course-projects/toxic-comment-classification'"
   ]
  },
  {
   "cell_type": "code",
   "execution_count": 7,
   "metadata": {
    "id": "nxjItKMWNO6H"
   },
   "outputs": [],
   "source": [
    "# чтение файла с данными\n",
    "df = pd.read_csv(os.path.join(path, 'toxic_comments.csv'))"
   ]
  },
  {
   "cell_type": "markdown",
   "metadata": {
    "id": "EWohjv85W64O"
   },
   "source": [
    "Изучим 5 случайных объектов датасета:"
   ]
  },
  {
   "cell_type": "code",
   "execution_count": 8,
   "metadata": {
    "colab": {
     "base_uri": "https://localhost:8080/",
     "height": 206
    },
    "id": "gW7erG86W7Qb",
    "outputId": "77bd2e06-c742-4ea8-f90a-14bcbe0f4475"
   },
   "outputs": [
    {
     "data": {
      "text/html": [
       "\n",
       "  <div id=\"df-64afab6b-41b4-40e4-8c9c-c45837e64526\">\n",
       "    <div class=\"colab-df-container\">\n",
       "      <div>\n",
       "<style scoped>\n",
       "    .dataframe tbody tr th:only-of-type {\n",
       "        vertical-align: middle;\n",
       "    }\n",
       "\n",
       "    .dataframe tbody tr th {\n",
       "        vertical-align: top;\n",
       "    }\n",
       "\n",
       "    .dataframe thead th {\n",
       "        text-align: right;\n",
       "    }\n",
       "</style>\n",
       "<table border=\"1\" class=\"dataframe\">\n",
       "  <thead>\n",
       "    <tr style=\"text-align: right;\">\n",
       "      <th></th>\n",
       "      <th>Unnamed: 0</th>\n",
       "      <th>text</th>\n",
       "      <th>toxic</th>\n",
       "    </tr>\n",
       "  </thead>\n",
       "  <tbody>\n",
       "    <tr>\n",
       "      <th>109486</th>\n",
       "      <td>109583</td>\n",
       "      <td>Expert Categorizers  \\n\\nWhy is there no menti...</td>\n",
       "      <td>0</td>\n",
       "    </tr>\n",
       "    <tr>\n",
       "      <th>104980</th>\n",
       "      <td>105077</td>\n",
       "      <td>\"\\n\\n Noise \\n\\nfart*  talk. \"</td>\n",
       "      <td>1</td>\n",
       "    </tr>\n",
       "    <tr>\n",
       "      <th>82166</th>\n",
       "      <td>82244</td>\n",
       "      <td>An indefinite block is appropriate, even for a...</td>\n",
       "      <td>0</td>\n",
       "    </tr>\n",
       "    <tr>\n",
       "      <th>18721</th>\n",
       "      <td>18740</td>\n",
       "      <td>I don't understand why we have a screenshot of...</td>\n",
       "      <td>0</td>\n",
       "    </tr>\n",
       "    <tr>\n",
       "      <th>128178</th>\n",
       "      <td>128310</td>\n",
       "      <td>Hello! Some of the people, places or things yo...</td>\n",
       "      <td>0</td>\n",
       "    </tr>\n",
       "  </tbody>\n",
       "</table>\n",
       "</div>\n",
       "      <button class=\"colab-df-convert\" onclick=\"convertToInteractive('df-64afab6b-41b4-40e4-8c9c-c45837e64526')\"\n",
       "              title=\"Convert this dataframe to an interactive table.\"\n",
       "              style=\"display:none;\">\n",
       "        \n",
       "  <svg xmlns=\"http://www.w3.org/2000/svg\" height=\"24px\"viewBox=\"0 0 24 24\"\n",
       "       width=\"24px\">\n",
       "    <path d=\"M0 0h24v24H0V0z\" fill=\"none\"/>\n",
       "    <path d=\"M18.56 5.44l.94 2.06.94-2.06 2.06-.94-2.06-.94-.94-2.06-.94 2.06-2.06.94zm-11 1L8.5 8.5l.94-2.06 2.06-.94-2.06-.94L8.5 2.5l-.94 2.06-2.06.94zm10 10l.94 2.06.94-2.06 2.06-.94-2.06-.94-.94-2.06-.94 2.06-2.06.94z\"/><path d=\"M17.41 7.96l-1.37-1.37c-.4-.4-.92-.59-1.43-.59-.52 0-1.04.2-1.43.59L10.3 9.45l-7.72 7.72c-.78.78-.78 2.05 0 2.83L4 21.41c.39.39.9.59 1.41.59.51 0 1.02-.2 1.41-.59l7.78-7.78 2.81-2.81c.8-.78.8-2.07 0-2.86zM5.41 20L4 18.59l7.72-7.72 1.47 1.35L5.41 20z\"/>\n",
       "  </svg>\n",
       "      </button>\n",
       "      \n",
       "  <style>\n",
       "    .colab-df-container {\n",
       "      display:flex;\n",
       "      flex-wrap:wrap;\n",
       "      gap: 12px;\n",
       "    }\n",
       "\n",
       "    .colab-df-convert {\n",
       "      background-color: #E8F0FE;\n",
       "      border: none;\n",
       "      border-radius: 50%;\n",
       "      cursor: pointer;\n",
       "      display: none;\n",
       "      fill: #1967D2;\n",
       "      height: 32px;\n",
       "      padding: 0 0 0 0;\n",
       "      width: 32px;\n",
       "    }\n",
       "\n",
       "    .colab-df-convert:hover {\n",
       "      background-color: #E2EBFA;\n",
       "      box-shadow: 0px 1px 2px rgba(60, 64, 67, 0.3), 0px 1px 3px 1px rgba(60, 64, 67, 0.15);\n",
       "      fill: #174EA6;\n",
       "    }\n",
       "\n",
       "    [theme=dark] .colab-df-convert {\n",
       "      background-color: #3B4455;\n",
       "      fill: #D2E3FC;\n",
       "    }\n",
       "\n",
       "    [theme=dark] .colab-df-convert:hover {\n",
       "      background-color: #434B5C;\n",
       "      box-shadow: 0px 1px 3px 1px rgba(0, 0, 0, 0.15);\n",
       "      filter: drop-shadow(0px 1px 2px rgba(0, 0, 0, 0.3));\n",
       "      fill: #FFFFFF;\n",
       "    }\n",
       "  </style>\n",
       "\n",
       "      <script>\n",
       "        const buttonEl =\n",
       "          document.querySelector('#df-64afab6b-41b4-40e4-8c9c-c45837e64526 button.colab-df-convert');\n",
       "        buttonEl.style.display =\n",
       "          google.colab.kernel.accessAllowed ? 'block' : 'none';\n",
       "\n",
       "        async function convertToInteractive(key) {\n",
       "          const element = document.querySelector('#df-64afab6b-41b4-40e4-8c9c-c45837e64526');\n",
       "          const dataTable =\n",
       "            await google.colab.kernel.invokeFunction('convertToInteractive',\n",
       "                                                     [key], {});\n",
       "          if (!dataTable) return;\n",
       "\n",
       "          const docLinkHtml = 'Like what you see? Visit the ' +\n",
       "            '<a target=\"_blank\" href=https://colab.research.google.com/notebooks/data_table.ipynb>data table notebook</a>'\n",
       "            + ' to learn more about interactive tables.';\n",
       "          element.innerHTML = '';\n",
       "          dataTable['output_type'] = 'display_data';\n",
       "          await google.colab.output.renderOutput(dataTable, element);\n",
       "          const docLink = document.createElement('div');\n",
       "          docLink.innerHTML = docLinkHtml;\n",
       "          element.appendChild(docLink);\n",
       "        }\n",
       "      </script>\n",
       "    </div>\n",
       "  </div>\n",
       "  "
      ],
      "text/plain": [
       "        Unnamed: 0                                               text  toxic\n",
       "109486      109583  Expert Categorizers  \\n\\nWhy is there no menti...      0\n",
       "104980      105077                     \"\\n\\n Noise \\n\\nfart*  talk. \"      1\n",
       "82166        82244  An indefinite block is appropriate, even for a...      0\n",
       "18721        18740  I don't understand why we have a screenshot of...      0\n",
       "128178      128310  Hello! Some of the people, places or things yo...      0"
      ]
     },
     "execution_count": 8,
     "metadata": {},
     "output_type": "execute_result"
    }
   ],
   "source": [
    "# чтение файла с данными\n",
    "df.sample(5, random_state=12345)"
   ]
  },
  {
   "cell_type": "markdown",
   "metadata": {
    "id": "Q18_B2gmXn8E"
   },
   "source": [
    "Мы видим, что:\n",
    "\n",
    "- один объект содержит информацию об одном комментарии;\n",
    "- по каждому объекту доступно 3 признака; помимо признаков *text* и *toxic*, указанных в описании к данным, также есть количественный признак *Unnamed: 0* (который возник при сохранении датасета и не является информативным для нашей работы);\n",
    "- язык комментариев - английский;\n",
    "- исходя из текста комментария объекта с индексом *104980*, значение 1 признака *toxic* указывает, что комментарий является токсичным."
   ]
  },
  {
   "cell_type": "markdown",
   "metadata": {
    "id": "F51YZ5ooZws0"
   },
   "source": [
    "Также изучим общую информацию о датасете:"
   ]
  },
  {
   "cell_type": "code",
   "execution_count": 9,
   "metadata": {
    "colab": {
     "base_uri": "https://localhost:8080/"
    },
    "id": "Iw7Kp78DZx8v",
    "outputId": "e01faa48-f22f-4367-eaf3-362efd8f90c5"
   },
   "outputs": [
    {
     "name": "stdout",
     "output_type": "stream",
     "text": [
      "<class 'pandas.core.frame.DataFrame'>\n",
      "RangeIndex: 159292 entries, 0 to 159291\n",
      "Data columns (total 3 columns):\n",
      " #   Column      Non-Null Count   Dtype \n",
      "---  ------      --------------   ----- \n",
      " 0   Unnamed: 0  159292 non-null  int64 \n",
      " 1   text        159292 non-null  object\n",
      " 2   toxic       159292 non-null  int64 \n",
      "dtypes: int64(2), object(1)\n",
      "memory usage: 3.6+ MB\n"
     ]
    }
   ],
   "source": [
    "# вывод на экран общей информации о датасете \n",
    "df.info()"
   ]
  },
  {
   "cell_type": "markdown",
   "metadata": {
    "id": "tKAfeDzZZ2KB"
   },
   "source": [
    "Мы видим, что:\n",
    "\n",
    "- в датасете 159 292 объекта;\n",
    "- в датасете нет пропусков."
   ]
  },
  {
   "cell_type": "markdown",
   "metadata": {
    "id": "pHdwukEcbyFF"
   },
   "source": [
    "Проверим датасет на явные дубликаты:"
   ]
  },
  {
   "cell_type": "code",
   "execution_count": 10,
   "metadata": {
    "colab": {
     "base_uri": "https://localhost:8080/"
    },
    "id": "3IRdfg0Rb1xv",
    "outputId": "a7648d56-7b47-4908-c852-a26eba6f3ea6"
   },
   "outputs": [
    {
     "name": "stdout",
     "output_type": "stream",
     "text": [
      "Количество явных дубликатов: 0\n"
     ]
    }
   ],
   "source": [
    "# подсчет и вывод на экран количества явных дубликатов\n",
    "print('Количество явных дубликатов:', df.duplicated().sum())"
   ]
  },
  {
   "cell_type": "markdown",
   "metadata": {
    "id": "i2QBa713cAjZ"
   },
   "source": [
    "Изучим по пять случайных токсичных и нетоксичных комментариев:"
   ]
  },
  {
   "cell_type": "code",
   "execution_count": 11,
   "metadata": {
    "colab": {
     "base_uri": "https://localhost:8080/"
    },
    "id": "bm45p2ZMcKP8",
    "outputId": "9342bdda-e257-498f-cb23-074cfd3bc96a",
    "scrolled": true
   },
   "outputs": [
    {
     "name": "stdout",
     "output_type": "stream",
     "text": [
      "Нетоксичные комментарии:\n",
      "\n",
      "\"\n",
      "\n",
      "more evidence against Big.P\n",
      "\n",
      "Look at this strange message posted to crz.russian's talk page, posted about 12 hours after the \"\"zigz0gger\"\" vandalism\n",
      "\n",
      "http://en.wikipedia.org/w/index.php?title=User_talk:Crzrussian&oldid;=54387929#Camara_AfD\n",
      "\n",
      "The message includes this attack\n",
      "\n",
      "\"\"If it's any indication, your demeanor also drives me crazy- if you read anything I've placed on your talk page lately, you can see that my tone is one of consensus building, or trying to solve this problem between us, while little barbs like these from you demonstrate your lack of ability to work with others, especially those who have different opinions from you. In my months of editing on Wikipedia, I have never a more pompous editor who has such terrible faith in others and one who will stop at nothing to let their opinions prevail\"\"\n",
      "\n",
      "and concludes with a threat:\n",
      "\n",
      "\"\"This is your last warning. If you continue to make personal attacks, you may be blocked for disruption. I'm tired of you constantly harassing me on Wikipedia, directly and indirectly. I told you if you left me alone, I'd leave you alone. Please consider those words wisely.\"\"\n",
      "\n",
      "Note that this came about because Big.P was criticized for sockpupptry, exactly what I am accusing him of doing right now.\"\n",
      "--------------------------------------------------------------------------------\n",
      "\n",
      "Thank you. I didn't know.\n",
      "--------------------------------------------------------------------------------\n",
      "\n",
      "Keep the article \n",
      "\n",
      "Seems to me that reasons for whitch this article has been kept from 2005 are still valid tooday. Also it seems to me that there is new form of vandalisam in progress, nominate for deletion and if no one responds in 5 days article is deleted.\n",
      "--------------------------------------------------------------------------------\n",
      "\n",
      "I dont replace them with blank pages. I remove them because they are uproved theories. And no one can use wikipedia for propaganda. If you are a counter-vandalist warn other users who vandals PKK article they remove the photo without showing no reason.\n",
      "--------------------------------------------------------------------------------\n",
      "\n",
      "Make it a category under Indian cuisine\n",
      "Someone proficient please make a new category as Karnataka cuisine under Indian cuisine.\n",
      "--------------------------------------------------------------------------------\n",
      "\n",
      "\n",
      "\n",
      "Токсичные комментарии:\n",
      "\n",
      "I forgot to log on with my username, I corrected my mistake when addressing Marcus, I honestly don't see what the problem is, I don't use that Anon IP on wikipedia so its not a sockpuppet of me. Anyway Dick in that context refers to Don't be a Dick, if you had bothered to do your homework you would have known that, one could label Wiki:dick in this case as personal attack but personal attacks are not vandalism, so get your facts straight.\n",
      "--------------------------------------------------------------------------------\n",
      "\n",
      "Richard is a gay dancing HOBO>HOBO>HOBO!\n",
      "--------------------------------------------------------------------------------\n",
      "\n",
      "Stop removing my edits! \n",
      "Why do you insist on being a flaming asscake?\n",
      "--------------------------------------------------------------------------------\n",
      "\n",
      "Stop your bullshit. I'll remove that nonsense crap.\n",
      "--------------------------------------------------------------------------------\n",
      "\n",
      "this is a pile of bull i didnt do any of this!!!!!!!!!!1111\n",
      "--------------------------------------------------------------------------------\n",
      "\n",
      "\n",
      "\n"
     ]
    }
   ],
   "source": [
    "# вывод на экран по 5 случайных токсичных и нетоксичных комментариев\n",
    "for i, label in enumerate(['Нетоксичные комментарии:', 'Токсичные комментарии:']):\n",
    "  print(label)\n",
    "  print()\n",
    "  for text in df[df['toxic'] == i].sample(5, random_state=12345)['text']:\n",
    "    print(text)\n",
    "    print('-' * 80)\n",
    "    print()\n",
    "  print()\n",
    "  print()"
   ]
  },
  {
   "cell_type": "markdown",
   "metadata": {
    "id": "15aaDc8YdkuR"
   },
   "source": [
    "Мы видим, что в токсичных комментариях используются обсценная лексика и восклицательные знаки."
   ]
  },
  {
   "cell_type": "markdown",
   "metadata": {
    "id": "hOdGmNX3dtXs"
   },
   "source": [
    "Изучим распределение целевого признака:"
   ]
  },
  {
   "cell_type": "code",
   "execution_count": 12,
   "metadata": {
    "colab": {
     "base_uri": "https://localhost:8080/"
    },
    "id": "wXJBaptWduva",
    "outputId": "f4aee14e-566e-4b02-efe2-f4ca67cadc1c"
   },
   "outputs": [
    {
     "data": {
      "text/plain": [
       "0    89.838787\n",
       "1    10.161213\n",
       "Name: toxic, dtype: float64"
      ]
     },
     "execution_count": 12,
     "metadata": {},
     "output_type": "execute_result"
    }
   ],
   "source": [
    "# вывод на экран процента токичных и нетоксичных комментариев\n",
    "df['toxic'].value_counts()/len(df)*100"
   ]
  },
  {
   "cell_type": "markdown",
   "metadata": {
    "id": "yYbJC376dx2H"
   },
   "source": [
    "Мы видим, что предоставленные данные несбалансированы: токсичные комментарии составляют ~10%.\n",
    "\n",
    "Поскольку мы решаем задачу классификации, данное обстоятельство необходимо учитывать при обучении моделей."
   ]
  },
  {
   "cell_type": "markdown",
   "metadata": {
    "id": "80n1YL6QXr5p"
   },
   "source": [
    "### Выводы"
   ]
  },
  {
   "cell_type": "markdown",
   "metadata": {
    "id": "5WP0k-3-Xr_m"
   },
   "source": [
    "По результатам изучения данных мы пришли к следующим выводам:\n",
    "\n",
    "- в датасете 159 292 объекта;\n",
    "- один объект содержит информацию об одном комментарии;\n",
    "- по каждому объекту доступно 3 признака; помимо признаков *text* и *toxic*, указанных в описании к данным, также есть количественный признак *Unnamed: 0* (который возник при сохранении датасета и не является информативным для нашей работы);\n",
    "- язык комментариев - английский;\n",
    "- в токсичных комментариях используются обсценная лексика и восклицательные знаки;\n",
    "- предоставленные данные несбалансированы: токсичные комментарии составляют ~10%; поскольку мы решаем задачу классификации, данное обстоятельство необходимо учитывать при обучении моделей;\n",
    "- в датасете нет пропусков и явных дубликатов.\n",
    "\n",
    "Теперь мы можем перейти к подготовке к обучению."
   ]
  },
  {
   "cell_type": "markdown",
   "metadata": {
    "id": "bpEHtb2wSYzG"
   },
   "source": [
    "## Подготовка к обучению"
   ]
  },
  {
   "cell_type": "markdown",
   "metadata": {
    "id": "LCz7tB93wMjE"
   },
   "source": [
    "В ходе подготовки к обучению мы:\n",
    "- удалим столбец *Unnamed: 0*;\n",
    "- переименуем столбец *toxic*;\n",
    "- разделим данные на обучающие, валидационную и тестовую выборки;\n",
    "- конвертируем выборки в датасеты;\n",
    "- токенизируем комментарии;\n",
    "- проведем подготовку к обучению *DistilBertForSequenceClassification*;\n",
    "- создадим признаки-эмбеддинги и целевой признак для не-*BERT* моделей;\n",
    "- создадим функции для оптимизации обучения не-*BERT* моделей."
   ]
  },
  {
   "cell_type": "markdown",
   "metadata": {
    "id": "X26c27DWwMw1"
   },
   "source": [
    "### Удаление столбца *Unnamed: 0* "
   ]
  },
  {
   "cell_type": "markdown",
   "metadata": {
    "id": "hx6KFjW7yKNc"
   },
   "source": [
    "Удалим столбец *Unnamed: 0*, который не содержит необходимой для работы информации:"
   ]
  },
  {
   "cell_type": "code",
   "execution_count": 13,
   "metadata": {
    "colab": {
     "base_uri": "https://localhost:8080/"
    },
    "id": "Mx0euFlxQyEb",
    "outputId": "6669d17e-0e10-4154-9616-195b02c39c9d"
   },
   "outputs": [
    {
     "data": {
      "text/plain": [
       "Index(['text', 'toxic'], dtype='object')"
      ]
     },
     "execution_count": 13,
     "metadata": {},
     "output_type": "execute_result"
    }
   ],
   "source": [
    "# удаление столбца Unnamed: 0\n",
    "df.drop(columns='Unnamed: 0', inplace=True)\n",
    "\n",
    "# проверка удаления столбца\n",
    "df.columns"
   ]
  },
  {
   "cell_type": "markdown",
   "metadata": {
    "id": "Y0UlRnT7yYgD"
   },
   "source": [
    "### Переименование столбца *toxic*"
   ]
  },
  {
   "cell_type": "markdown",
   "metadata": {
    "id": "BWPOrj9AyhaF"
   },
   "source": [
    "Мы планируем генерировать признаки и обучать модели при помощи моделей *BERT*, которые предъявляют специальные требования к названию столбца с целевым признаком. Для их соблюдения переименуем столбец *toxic*:"
   ]
  },
  {
   "cell_type": "code",
   "execution_count": 14,
   "metadata": {
    "colab": {
     "base_uri": "https://localhost:8080/"
    },
    "id": "M4pKpTMjyhkd",
    "outputId": "cf3be30f-941c-4746-ea38-308d4a0b263b"
   },
   "outputs": [
    {
     "data": {
      "text/plain": [
       "Index(['text', 'label'], dtype='object')"
      ]
     },
     "execution_count": 14,
     "metadata": {},
     "output_type": "execute_result"
    }
   ],
   "source": [
    "# переименование столбца toxic\n",
    "df.rename(columns={'toxic': 'label'}, inplace=True)\n",
    "\n",
    "# проверка переименования столбца\n",
    "df.columns"
   ]
  },
  {
   "cell_type": "markdown",
   "metadata": {
    "id": "VAXihiHI1Ubc"
   },
   "source": [
    "### Разделение данных на обучающие, валидационную и тестовую выборки"
   ]
  },
  {
   "cell_type": "markdown",
   "metadata": {
    "id": "lEkGU2I81jgQ"
   },
   "source": [
    "Разделим данные на обучающую, валидационную и тестовую выборки в пропорции 3:1:1:\n",
    "- мы будем использовать валидационную выборку только для обучения модели *DistilBertForSequenceClassification* (из-за ресурсозатратности данного процесса)\n",
    "- для обучения иных моделей мы будем использовать кросс-валидацию на объединенной обучающей и валидационной выборках (для повышения качества валидации).\n",
    "\n",
    "Поскольку наши данные не сбалансированы, при разделении данных на выборки мы будем проводить стратификацию по целевому признаку."
   ]
  },
  {
   "cell_type": "code",
   "execution_count": 15,
   "metadata": {
    "colab": {
     "base_uri": "https://localhost:8080/"
    },
    "id": "ls-TwZjV1vkp",
    "outputId": "62e601bd-d819-4c5c-d031-29b645c1ad32"
   },
   "outputs": [
    {
     "name": "stdout",
     "output_type": "stream",
     "text": [
      "(127433, 2)\n",
      "0    89.838582\n",
      "1    10.161418\n",
      "Name: label, dtype: float64\n",
      "\n",
      "(95574, 2)\n",
      "0    89.838241\n",
      "1    10.161759\n",
      "Name: label, dtype: float64\n",
      "\n",
      "(31859, 2)\n",
      "0    89.839606\n",
      "1    10.160394\n",
      "Name: label, dtype: float64\n",
      "\n",
      "(31859, 2)\n",
      "0    89.839606\n",
      "1    10.160394\n",
      "Name: label, dtype: float64\n",
      "\n"
     ]
    }
   ],
   "source": [
    "# разделение данных на обучающие, валидационную и тестовую выборки\n",
    "df_trainval, df_test = train_test_split(\n",
    "    df, test_size=0.2, stratify=df['label'], random_state=12345)\n",
    "df_train, df_val = train_test_split(\n",
    "    df_trainval, test_size=0.25, stratify=df_trainval['label'], random_state=12345)\n",
    "\n",
    "# проверка разделения данных\n",
    "for dataframe in df_trainval, df_train, df_val, df_test:\n",
    "  print(dataframe.shape)\n",
    "  print(dataframe['label'].value_counts()/len(dataframe)*100)\n",
    "  print()"
   ]
  },
  {
   "cell_type": "markdown",
   "metadata": {
    "id": "QlNwP9uABbmm"
   },
   "source": [
    "### Конвертация выборок в датасеты"
   ]
  },
  {
   "cell_type": "markdown",
   "metadata": {
    "id": "lD7QPJzECKOP"
   },
   "source": [
    "Для подготовки и обучения данных с использованием инструментов *Hugging Face* конвертируем выборки в объекты класса *Dataset*\n",
    "\n",
    "Для оптимизиации памяти после конвертации удалим исходные выборки."
   ]
  },
  {
   "cell_type": "code",
   "execution_count": 16,
   "metadata": {
    "colab": {
     "base_uri": "https://localhost:8080/"
    },
    "id": "PCI-0cpX5r8n",
    "outputId": "4574dd43-8c31-4eff-d887-607aef21cce9"
   },
   "outputs": [
    {
     "name": "stdout",
     "output_type": "stream",
     "text": [
      "(127433, 3)\n",
      "Dataset({\n",
      "    features: ['text', 'label', '__index_level_0__'],\n",
      "    num_rows: 127433\n",
      "})\n",
      "--------------------------------------------------------------------------------\n",
      "\n",
      "(95574, 3)\n",
      "Dataset({\n",
      "    features: ['text', 'label', '__index_level_0__'],\n",
      "    num_rows: 95574\n",
      "})\n",
      "--------------------------------------------------------------------------------\n",
      "\n",
      "(31859, 3)\n",
      "Dataset({\n",
      "    features: ['text', 'label', '__index_level_0__'],\n",
      "    num_rows: 31859\n",
      "})\n",
      "--------------------------------------------------------------------------------\n",
      "\n",
      "(31859, 3)\n",
      "Dataset({\n",
      "    features: ['text', 'label', '__index_level_0__'],\n",
      "    num_rows: 31859\n",
      "})\n",
      "--------------------------------------------------------------------------------\n",
      "\n"
     ]
    }
   ],
   "source": [
    "# создание обучающих, валидационного и тестовых датасетов\n",
    "ds_trainval = Dataset.from_pandas(df_trainval)\n",
    "ds_train = Dataset.from_pandas(df_train)\n",
    "ds_val = Dataset.from_pandas(df_val)\n",
    "ds_test = Dataset.from_pandas(df_test)\n",
    "\n",
    "# проверка создания датасетов\n",
    "for ds in ds_trainval, ds_train, ds_val, ds_test:\n",
    "  print(ds.shape)\n",
    "  print(ds)\n",
    "  print('-' * 80)\n",
    "  print()"
   ]
  },
  {
   "cell_type": "markdown",
   "metadata": {
    "id": "tHwIbsZD6VOi"
   },
   "source": [
    "Для оптимизации памяти удалим выборки в формате датафреймов:"
   ]
  },
  {
   "cell_type": "markdown",
   "metadata": {
    "id": "kxbrDtdZFrgV"
   },
   "source": [
    "### Токенизация комментариев"
   ]
  },
  {
   "cell_type": "markdown",
   "metadata": {
    "id": "gx2-Wq-y6qok"
   },
   "source": [
    "Для токенизации мы будем использовать предобученный токенизатор *DistilBertTokenizerFast*:\n"
   ]
  },
  {
   "cell_type": "code",
   "execution_count": 17,
   "metadata": {
    "colab": {
     "base_uri": "https://localhost:8080/",
     "height": 145,
     "referenced_widgets": [
      "3fb6eda9c1f94a00a25eee6526d4736e",
      "0dcbd90b1ef148aa864a4665e486a4ee",
      "979b6f0e5258455c818dd2ef132c159c",
      "e20533f814ac4c26b5890aec9e8afd14",
      "c1b88c1abfa64bcca3360ea61a5a2348",
      "e9e3050bbeff4439b69a34072bcf5530",
      "01d0fca6453e41ca9acb5490131a65df",
      "f9243dc0202b4755b60cd8297aeb4c5d",
      "285e13b96a224f6480aebf6277782110",
      "7c09c1e8472042a8a4abe4c0f2c008de",
      "2d195d650e8742cfa6967b0c63b2513f",
      "efd234af4f4b4e8a8d86b9a0465d7330",
      "125ba4df24f54da687dbf2b0809f66f0",
      "6803c57dd76a47b0a6501763232d0d28",
      "b53bcb99a11e4b879e07403c2ab6f285",
      "d96ab714019d4e4ead7b1e2f231b0922",
      "42f812199a2b496d981fdf0b6913745e",
      "1433857d2833475fb6e172986afb5eaa",
      "c9c62981483444c38845dd23ca7cc5f7",
      "75cfdeac0d3244fca6ea998376d84a52",
      "ca12df8e331b4853bb1158a4641b9557",
      "c06d7eeda76e41549f441b07b5198ff9",
      "fee86760cc04433cacbfb461c47b56f2",
      "3d8de27bc2f14937ab0ed4d1707c9f94",
      "defade6b02564ac7b892606c9c251fae",
      "86cf94cd1b2a457eae231dbdf8c38e63",
      "e88ee1eac0e14c58869d9f4209ea12e7",
      "0d2cad4718694ef5bc4ad026aa3c246a",
      "a84863c816664934b2d3f17d108b85c6",
      "9454645d491a45c495ca076316b5b758",
      "fa1258556ea7456b8807aa9353ec9999",
      "93f4fec4b2634f2fa0f45dde6e5aa8b1",
      "16488831e9214742bba052037b207231",
      "e3182d23cb5547ffbadcf72904362259",
      "a2f37338e7514533b49f0e1cf3ee6a21",
      "adc26767279b42988a2fd63c46ae2035",
      "c5e3ebed42214677ac60650a95463485",
      "e0ae233765df42a7b1237353f8eccf5d",
      "008054f1f4f341bd8e145fc087598346",
      "9302dec3381f4fb180d823b944b8c75f",
      "70f90553eb83438cb7a34aafa839d6d5",
      "8225870a40874769b02d6347bdd9584f",
      "a8a9022ff5b647758703af9dbb2187c3",
      "01ea54d19c264b7c981ae48fa6269925"
     ]
    },
    "id": "HIRFG2Gcjv2J",
    "outputId": "01c664a0-a6c0-4548-9470-b063958e20dc"
   },
   "outputs": [
    {
     "data": {
      "application/vnd.jupyter.widget-view+json": {
       "model_id": "3fb6eda9c1f94a00a25eee6526d4736e",
       "version_major": 2,
       "version_minor": 0
      },
      "text/plain": [
       "Downloading:   0%|          | 0.00/28.0 [00:00<?, ?B/s]"
      ]
     },
     "metadata": {},
     "output_type": "display_data"
    },
    {
     "data": {
      "application/vnd.jupyter.widget-view+json": {
       "model_id": "efd234af4f4b4e8a8d86b9a0465d7330",
       "version_major": 2,
       "version_minor": 0
      },
      "text/plain": [
       "Downloading:   0%|          | 0.00/232k [00:00<?, ?B/s]"
      ]
     },
     "metadata": {},
     "output_type": "display_data"
    },
    {
     "data": {
      "application/vnd.jupyter.widget-view+json": {
       "model_id": "fee86760cc04433cacbfb461c47b56f2",
       "version_major": 2,
       "version_minor": 0
      },
      "text/plain": [
       "Downloading:   0%|          | 0.00/466k [00:00<?, ?B/s]"
      ]
     },
     "metadata": {},
     "output_type": "display_data"
    },
    {
     "data": {
      "application/vnd.jupyter.widget-view+json": {
       "model_id": "e3182d23cb5547ffbadcf72904362259",
       "version_major": 2,
       "version_minor": 0
      },
      "text/plain": [
       "Downloading:   0%|          | 0.00/483 [00:00<?, ?B/s]"
      ]
     },
     "metadata": {},
     "output_type": "display_data"
    }
   ],
   "source": [
    "# создание токенизатора\n",
    "tokenizer = DistilBertTokenizerFast.from_pretrained('distilbert-base-uncased')"
   ]
  },
  {
   "cell_type": "markdown",
   "metadata": {
    "id": "pbo-rpzE_pSP"
   },
   "source": [
    "До начала токенцизации  функцию *tokenize*:"
   ]
  },
  {
   "cell_type": "code",
   "execution_count": 18,
   "metadata": {
    "id": "i9CqNxdMOpht"
   },
   "outputs": [],
   "source": [
    "# создание функции tokenize\n",
    "def tokenize(example):\n",
    "    '''\n",
    "    Функция:\n",
    "    - токенизирует текст, при помощи ранее созданного токенизатора,\n",
    "    - обрезает текст до 512 токенов (максимального размера, с которым может работать модель\n",
    "    DistilBert, которую мы планируем использовать в дальнейшем);\n",
    "    - применяет метод padding, и\n",
    "    возвращет input_ids и attention_mask\n",
    "\n",
    "    Входные параметры:\n",
    "    - example - объект, содержащий текст.\n",
    "    \n",
    "    '''\n",
    "    \n",
    "    return tokenizer(example['text'], max_length=512, padding='max_length', \n",
    "                     truncation=True)"
   ]
  },
  {
   "cell_type": "markdown",
   "metadata": {
    "id": "nrgCQF61_TcT"
   },
   "source": [
    "Токенизируем комментарии (после токенизации нам больше не нужны сами тексты комментариев, поэтому удалим их):"
   ]
  },
  {
   "cell_type": "code",
   "execution_count": 19,
   "metadata": {
    "colab": {
     "base_uri": "https://localhost:8080/",
     "height": 808,
     "referenced_widgets": [
      "4d4dd1423cf54abf8c6312418f55ffd1",
      "cd2dd183a8b54cfdb4dbd78cb2401ca9",
      "bcbfcc50c86b40e58ce540e7767b345e",
      "76d30d00b02a4727befaeef882a4f841",
      "f6f5a97e9c6a47229c92c185f388fba5",
      "ebb77c97dc8e44f9b153157a4619b0a2",
      "243072a6dfe14934b30af475332949a0",
      "8ebae29185d14a459e1e7e46ad44db31",
      "1f55de4f36e24a2497f93365e794d423",
      "ad4aa8406a164889856d51f0380e7e4d",
      "188d3e574a3e4f4b9f4e02ca066669aa",
      "15fdde10e04b4b8694364ace76257ba4",
      "09f361604f4d407781296888ebdfeab5",
      "a5e7dad525ed4b00bbb03eb8fdb74643",
      "c77629cf3c5b452ca5acec1defae2917",
      "410c3a25cde547218869013148eb6745",
      "51e3578ca5264d5bb3c2136d32b102de",
      "f88183a67f24491382f1cfbc5d210048",
      "652b33b533124dd19c0bfa87223c581b",
      "d7f3bab903e04042a38579759dec9e9a",
      "bb3ddeec326246ba97375be2ad065ed4",
      "bb74f39586d54f4f8611ced294a4e62a",
      "3c046ed1508e408c8861a5c062dad51b",
      "1e10fcc7f270465a86ea333788b76e32",
      "122982ce203041b1ae9266920551d730",
      "a1205b8a5abc49f0bb71efa0e22522e0",
      "01c3f0d9c3e8464cb40dc0c7997ba825",
      "c37587051114454189d531e25901e894",
      "54c231a4b46e44299ea27161e854c20c",
      "c322c30fb72c49798b59a190ce5bb81e",
      "c9cb8b3dc01648a3aabb8f48e17119b8",
      "79e4ea3c621f47b0b1077cd3355b2aff",
      "3ef578f70eea45acbc5decace6fc1976",
      "2b34ed395aa04d1ba3613660860e2bfd",
      "a78d121d1d6a49e8a0af8a709e2d2ce5",
      "c2d0c92f809148b5b2db7fed1165af62",
      "e7ac01db0178459ca000861d16ce3ddc",
      "e56276955aaa4f10b189467f8248f6dc",
      "65e3f7ec34874cbeae324d97fb1739df",
      "03e9f6447bd34b6c9da06c9c6966c399",
      "b81b0268b1714b8aa37a55add27d9164",
      "7075272107ea43c9bb1390a934e01d99",
      "df1b018efd8c444985d9e82eba091bb4",
      "7d78d94beb6a45ac882c7d9deecfe2e5"
     ]
    },
    "id": "CpUvLTf9R1cS",
    "outputId": "cd58ad5f-fe59-4e6c-963c-000369e0c4e1"
   },
   "outputs": [
    {
     "data": {
      "application/vnd.jupyter.widget-view+json": {
       "model_id": "4d4dd1423cf54abf8c6312418f55ffd1",
       "version_major": 2,
       "version_minor": 0
      },
      "text/plain": [
       "  0%|          | 0/15930 [00:00<?, ?ba/s]"
      ]
     },
     "metadata": {},
     "output_type": "display_data"
    },
    {
     "data": {
      "application/vnd.jupyter.widget-view+json": {
       "model_id": "15fdde10e04b4b8694364ace76257ba4",
       "version_major": 2,
       "version_minor": 0
      },
      "text/plain": [
       "  0%|          | 0/11947 [00:00<?, ?ba/s]"
      ]
     },
     "metadata": {},
     "output_type": "display_data"
    },
    {
     "data": {
      "application/vnd.jupyter.widget-view+json": {
       "model_id": "3c046ed1508e408c8861a5c062dad51b",
       "version_major": 2,
       "version_minor": 0
      },
      "text/plain": [
       "  0%|          | 0/3983 [00:00<?, ?ba/s]"
      ]
     },
     "metadata": {},
     "output_type": "display_data"
    },
    {
     "data": {
      "application/vnd.jupyter.widget-view+json": {
       "model_id": "2b34ed395aa04d1ba3613660860e2bfd",
       "version_major": 2,
       "version_minor": 0
      },
      "text/plain": [
       "  0%|          | 0/3983 [00:00<?, ?ba/s]"
      ]
     },
     "metadata": {},
     "output_type": "display_data"
    },
    {
     "name": "stdout",
     "output_type": "stream",
     "text": [
      "Dataset({\n",
      "    features: ['label', 'input_ids', 'attention_mask'],\n",
      "    num_rows: 127433\n",
      "})\n",
      "label : 0\n",
      "input_ids : [101, 1043, 1024, 6205, 2053, 1010, 3374, 1010, 2017, 2007, 2115, 16913, 18513, 2015, 2031, 3013, 3064, 2041, 2195, 2951, 2015, 1998, 2070, 4933, 4496, 4895, 8557, 3993, 4496, 4895, 6198, 3085, 1012, 2023, 2442, 2022, 6377, 1010, 1998, 1045, 2106, 2009, 1012, 2115, 2147, 2003, 19804, 8586, 19210, 1010, 2021, 15275, 6276, 2015, 2024, 2025, 1012, 15068, 2130, 3478, 2000, 4863, 1005, 2339, 1005, 1996, 4517, 5081, 5360, 2250, 14821, 2015, 1010, 2023, 2003, 2025, 2061, 20610, 2000, 4863, 1010, 4496, 4654, 5051, 13247, 2135, 2001, 1999, 1005, 2753, 2015, 1012, 2502, 28987, 3490, 17210, 2205, 2000, 2022, 3855, 1012, 2633, 1010, 2065, 2017, 2052, 5667, 2147, 1999, 1996, 1043, 1012, 6205, 2099, 2017, 2071, 2079, 2009, 1999, 1996, 4433, 3931, 2556, 1999, 1996, 2831, 1012, 102, 0, 0, 0, 0, 0, 0, 0, 0, 0, 0, 0, 0, 0, 0, 0, 0, 0, 0, 0, 0, 0, 0, 0, 0, 0, 0, 0, 0, 0, 0, 0, 0, 0, 0, 0, 0, 0, 0, 0, 0, 0, 0, 0, 0, 0, 0, 0, 0, 0, 0, 0, 0, 0, 0, 0, 0, 0, 0, 0, 0, 0, 0, 0, 0, 0, 0, 0, 0, 0, 0, 0, 0, 0, 0, 0, 0, 0, 0, 0, 0, 0, 0, 0, 0, 0, 0, 0, 0, 0, 0, 0, 0, 0, 0, 0, 0, 0, 0, 0, 0, 0, 0, 0, 0, 0, 0, 0, 0, 0, 0, 0, 0, 0, 0, 0, 0, 0, 0, 0, 0, 0, 0, 0, 0, 0, 0, 0, 0, 0, 0, 0, 0, 0, 0, 0, 0, 0, 0, 0, 0, 0, 0, 0, 0, 0, 0, 0, 0, 0, 0, 0, 0, 0, 0, 0, 0, 0, 0, 0, 0, 0, 0, 0, 0, 0, 0, 0, 0, 0, 0, 0, 0, 0, 0, 0, 0, 0, 0, 0, 0, 0, 0, 0, 0, 0, 0, 0, 0, 0, 0, 0, 0, 0, 0, 0, 0, 0, 0, 0, 0, 0, 0, 0, 0, 0, 0, 0, 0, 0, 0, 0, 0, 0, 0, 0, 0, 0, 0, 0, 0, 0, 0, 0, 0, 0, 0, 0, 0, 0, 0, 0, 0, 0, 0, 0, 0, 0, 0, 0, 0, 0, 0, 0, 0, 0, 0, 0, 0, 0, 0, 0, 0, 0, 0, 0, 0, 0, 0, 0, 0, 0, 0, 0, 0, 0, 0, 0, 0, 0, 0, 0, 0, 0, 0, 0, 0, 0, 0, 0, 0, 0, 0, 0, 0, 0, 0, 0, 0, 0, 0, 0, 0, 0, 0, 0, 0, 0, 0, 0, 0, 0, 0, 0, 0, 0, 0, 0, 0, 0, 0, 0, 0, 0, 0, 0, 0, 0, 0, 0, 0, 0, 0, 0, 0, 0, 0, 0, 0, 0, 0, 0, 0, 0, 0, 0, 0, 0, 0, 0, 0, 0, 0, 0, 0, 0, 0, 0, 0, 0, 0, 0, 0, 0, 0, 0, 0, 0, 0, 0, 0, 0, 0, 0, 0, 0, 0, 0, 0, 0, 0, 0, 0, 0, 0, 0, 0, 0, 0, 0, 0, 0, 0, 0, 0]\n",
      "attention_mask : [1, 1, 1, 1, 1, 1, 1, 1, 1, 1, 1, 1, 1, 1, 1, 1, 1, 1, 1, 1, 1, 1, 1, 1, 1, 1, 1, 1, 1, 1, 1, 1, 1, 1, 1, 1, 1, 1, 1, 1, 1, 1, 1, 1, 1, 1, 1, 1, 1, 1, 1, 1, 1, 1, 1, 1, 1, 1, 1, 1, 1, 1, 1, 1, 1, 1, 1, 1, 1, 1, 1, 1, 1, 1, 1, 1, 1, 1, 1, 1, 1, 1, 1, 1, 1, 1, 1, 1, 1, 1, 1, 1, 1, 1, 1, 1, 1, 1, 1, 1, 1, 1, 1, 1, 1, 1, 1, 1, 1, 1, 1, 1, 1, 1, 1, 1, 1, 1, 1, 1, 1, 1, 1, 1, 1, 1, 1, 1, 0, 0, 0, 0, 0, 0, 0, 0, 0, 0, 0, 0, 0, 0, 0, 0, 0, 0, 0, 0, 0, 0, 0, 0, 0, 0, 0, 0, 0, 0, 0, 0, 0, 0, 0, 0, 0, 0, 0, 0, 0, 0, 0, 0, 0, 0, 0, 0, 0, 0, 0, 0, 0, 0, 0, 0, 0, 0, 0, 0, 0, 0, 0, 0, 0, 0, 0, 0, 0, 0, 0, 0, 0, 0, 0, 0, 0, 0, 0, 0, 0, 0, 0, 0, 0, 0, 0, 0, 0, 0, 0, 0, 0, 0, 0, 0, 0, 0, 0, 0, 0, 0, 0, 0, 0, 0, 0, 0, 0, 0, 0, 0, 0, 0, 0, 0, 0, 0, 0, 0, 0, 0, 0, 0, 0, 0, 0, 0, 0, 0, 0, 0, 0, 0, 0, 0, 0, 0, 0, 0, 0, 0, 0, 0, 0, 0, 0, 0, 0, 0, 0, 0, 0, 0, 0, 0, 0, 0, 0, 0, 0, 0, 0, 0, 0, 0, 0, 0, 0, 0, 0, 0, 0, 0, 0, 0, 0, 0, 0, 0, 0, 0, 0, 0, 0, 0, 0, 0, 0, 0, 0, 0, 0, 0, 0, 0, 0, 0, 0, 0, 0, 0, 0, 0, 0, 0, 0, 0, 0, 0, 0, 0, 0, 0, 0, 0, 0, 0, 0, 0, 0, 0, 0, 0, 0, 0, 0, 0, 0, 0, 0, 0, 0, 0, 0, 0, 0, 0, 0, 0, 0, 0, 0, 0, 0, 0, 0, 0, 0, 0, 0, 0, 0, 0, 0, 0, 0, 0, 0, 0, 0, 0, 0, 0, 0, 0, 0, 0, 0, 0, 0, 0, 0, 0, 0, 0, 0, 0, 0, 0, 0, 0, 0, 0, 0, 0, 0, 0, 0, 0, 0, 0, 0, 0, 0, 0, 0, 0, 0, 0, 0, 0, 0, 0, 0, 0, 0, 0, 0, 0, 0, 0, 0, 0, 0, 0, 0, 0, 0, 0, 0, 0, 0, 0, 0, 0, 0, 0, 0, 0, 0, 0, 0, 0, 0, 0, 0, 0, 0, 0, 0, 0, 0, 0, 0, 0, 0, 0, 0, 0, 0, 0, 0, 0, 0, 0, 0, 0, 0, 0, 0, 0, 0, 0, 0, 0, 0, 0, 0, 0, 0, 0, 0, 0, 0, 0, 0, 0, 0, 0, 0, 0, 0, 0]\n",
      "--------------------------------------------------------------------------------\n",
      "\n",
      "Dataset({\n",
      "    features: ['label', 'input_ids', 'attention_mask'],\n",
      "    num_rows: 95574\n",
      "})\n",
      "label : 0\n",
      "input_ids : [101, 1043, 1024, 6205, 2053, 1010, 3374, 1010, 2017, 2007, 2115, 16913, 18513, 2015, 2031, 3013, 3064, 2041, 2195, 2951, 2015, 1998, 2070, 4933, 4496, 4895, 8557, 3993, 4496, 4895, 6198, 3085, 1012, 2023, 2442, 2022, 6377, 1010, 1998, 1045, 2106, 2009, 1012, 2115, 2147, 2003, 19804, 8586, 19210, 1010, 2021, 15275, 6276, 2015, 2024, 2025, 1012, 15068, 2130, 3478, 2000, 4863, 1005, 2339, 1005, 1996, 4517, 5081, 5360, 2250, 14821, 2015, 1010, 2023, 2003, 2025, 2061, 20610, 2000, 4863, 1010, 4496, 4654, 5051, 13247, 2135, 2001, 1999, 1005, 2753, 2015, 1012, 2502, 28987, 3490, 17210, 2205, 2000, 2022, 3855, 1012, 2633, 1010, 2065, 2017, 2052, 5667, 2147, 1999, 1996, 1043, 1012, 6205, 2099, 2017, 2071, 2079, 2009, 1999, 1996, 4433, 3931, 2556, 1999, 1996, 2831, 1012, 102, 0, 0, 0, 0, 0, 0, 0, 0, 0, 0, 0, 0, 0, 0, 0, 0, 0, 0, 0, 0, 0, 0, 0, 0, 0, 0, 0, 0, 0, 0, 0, 0, 0, 0, 0, 0, 0, 0, 0, 0, 0, 0, 0, 0, 0, 0, 0, 0, 0, 0, 0, 0, 0, 0, 0, 0, 0, 0, 0, 0, 0, 0, 0, 0, 0, 0, 0, 0, 0, 0, 0, 0, 0, 0, 0, 0, 0, 0, 0, 0, 0, 0, 0, 0, 0, 0, 0, 0, 0, 0, 0, 0, 0, 0, 0, 0, 0, 0, 0, 0, 0, 0, 0, 0, 0, 0, 0, 0, 0, 0, 0, 0, 0, 0, 0, 0, 0, 0, 0, 0, 0, 0, 0, 0, 0, 0, 0, 0, 0, 0, 0, 0, 0, 0, 0, 0, 0, 0, 0, 0, 0, 0, 0, 0, 0, 0, 0, 0, 0, 0, 0, 0, 0, 0, 0, 0, 0, 0, 0, 0, 0, 0, 0, 0, 0, 0, 0, 0, 0, 0, 0, 0, 0, 0, 0, 0, 0, 0, 0, 0, 0, 0, 0, 0, 0, 0, 0, 0, 0, 0, 0, 0, 0, 0, 0, 0, 0, 0, 0, 0, 0, 0, 0, 0, 0, 0, 0, 0, 0, 0, 0, 0, 0, 0, 0, 0, 0, 0, 0, 0, 0, 0, 0, 0, 0, 0, 0, 0, 0, 0, 0, 0, 0, 0, 0, 0, 0, 0, 0, 0, 0, 0, 0, 0, 0, 0, 0, 0, 0, 0, 0, 0, 0, 0, 0, 0, 0, 0, 0, 0, 0, 0, 0, 0, 0, 0, 0, 0, 0, 0, 0, 0, 0, 0, 0, 0, 0, 0, 0, 0, 0, 0, 0, 0, 0, 0, 0, 0, 0, 0, 0, 0, 0, 0, 0, 0, 0, 0, 0, 0, 0, 0, 0, 0, 0, 0, 0, 0, 0, 0, 0, 0, 0, 0, 0, 0, 0, 0, 0, 0, 0, 0, 0, 0, 0, 0, 0, 0, 0, 0, 0, 0, 0, 0, 0, 0, 0, 0, 0, 0, 0, 0, 0, 0, 0, 0, 0, 0, 0, 0, 0, 0, 0, 0, 0, 0, 0, 0, 0, 0, 0, 0, 0, 0, 0, 0, 0, 0, 0, 0, 0, 0, 0, 0, 0, 0, 0, 0, 0, 0, 0, 0, 0, 0]\n",
      "attention_mask : [1, 1, 1, 1, 1, 1, 1, 1, 1, 1, 1, 1, 1, 1, 1, 1, 1, 1, 1, 1, 1, 1, 1, 1, 1, 1, 1, 1, 1, 1, 1, 1, 1, 1, 1, 1, 1, 1, 1, 1, 1, 1, 1, 1, 1, 1, 1, 1, 1, 1, 1, 1, 1, 1, 1, 1, 1, 1, 1, 1, 1, 1, 1, 1, 1, 1, 1, 1, 1, 1, 1, 1, 1, 1, 1, 1, 1, 1, 1, 1, 1, 1, 1, 1, 1, 1, 1, 1, 1, 1, 1, 1, 1, 1, 1, 1, 1, 1, 1, 1, 1, 1, 1, 1, 1, 1, 1, 1, 1, 1, 1, 1, 1, 1, 1, 1, 1, 1, 1, 1, 1, 1, 1, 1, 1, 1, 1, 1, 0, 0, 0, 0, 0, 0, 0, 0, 0, 0, 0, 0, 0, 0, 0, 0, 0, 0, 0, 0, 0, 0, 0, 0, 0, 0, 0, 0, 0, 0, 0, 0, 0, 0, 0, 0, 0, 0, 0, 0, 0, 0, 0, 0, 0, 0, 0, 0, 0, 0, 0, 0, 0, 0, 0, 0, 0, 0, 0, 0, 0, 0, 0, 0, 0, 0, 0, 0, 0, 0, 0, 0, 0, 0, 0, 0, 0, 0, 0, 0, 0, 0, 0, 0, 0, 0, 0, 0, 0, 0, 0, 0, 0, 0, 0, 0, 0, 0, 0, 0, 0, 0, 0, 0, 0, 0, 0, 0, 0, 0, 0, 0, 0, 0, 0, 0, 0, 0, 0, 0, 0, 0, 0, 0, 0, 0, 0, 0, 0, 0, 0, 0, 0, 0, 0, 0, 0, 0, 0, 0, 0, 0, 0, 0, 0, 0, 0, 0, 0, 0, 0, 0, 0, 0, 0, 0, 0, 0, 0, 0, 0, 0, 0, 0, 0, 0, 0, 0, 0, 0, 0, 0, 0, 0, 0, 0, 0, 0, 0, 0, 0, 0, 0, 0, 0, 0, 0, 0, 0, 0, 0, 0, 0, 0, 0, 0, 0, 0, 0, 0, 0, 0, 0, 0, 0, 0, 0, 0, 0, 0, 0, 0, 0, 0, 0, 0, 0, 0, 0, 0, 0, 0, 0, 0, 0, 0, 0, 0, 0, 0, 0, 0, 0, 0, 0, 0, 0, 0, 0, 0, 0, 0, 0, 0, 0, 0, 0, 0, 0, 0, 0, 0, 0, 0, 0, 0, 0, 0, 0, 0, 0, 0, 0, 0, 0, 0, 0, 0, 0, 0, 0, 0, 0, 0, 0, 0, 0, 0, 0, 0, 0, 0, 0, 0, 0, 0, 0, 0, 0, 0, 0, 0, 0, 0, 0, 0, 0, 0, 0, 0, 0, 0, 0, 0, 0, 0, 0, 0, 0, 0, 0, 0, 0, 0, 0, 0, 0, 0, 0, 0, 0, 0, 0, 0, 0, 0, 0, 0, 0, 0, 0, 0, 0, 0, 0, 0, 0, 0, 0, 0, 0, 0, 0, 0, 0, 0, 0, 0, 0, 0, 0, 0, 0, 0, 0, 0, 0, 0, 0, 0, 0, 0, 0, 0, 0, 0, 0, 0, 0, 0, 0, 0, 0, 0, 0, 0, 0, 0, 0, 0, 0, 0, 0, 0]\n",
      "--------------------------------------------------------------------------------\n",
      "\n",
      "Dataset({\n",
      "    features: ['label', 'input_ids', 'attention_mask'],\n",
      "    num_rows: 31859\n",
      "})\n",
      "label : 0\n",
      "input_ids : [101, 1043, 1024, 6205, 2053, 1010, 3374, 1010, 2017, 2007, 2115, 16913, 18513, 2015, 2031, 3013, 3064, 2041, 2195, 2951, 2015, 1998, 2070, 4933, 4496, 4895, 8557, 3993, 4496, 4895, 6198, 3085, 1012, 2023, 2442, 2022, 6377, 1010, 1998, 1045, 2106, 2009, 1012, 2115, 2147, 2003, 19804, 8586, 19210, 1010, 2021, 15275, 6276, 2015, 2024, 2025, 1012, 15068, 2130, 3478, 2000, 4863, 1005, 2339, 1005, 1996, 4517, 5081, 5360, 2250, 14821, 2015, 1010, 2023, 2003, 2025, 2061, 20610, 2000, 4863, 1010, 4496, 4654, 5051, 13247, 2135, 2001, 1999, 1005, 2753, 2015, 1012, 2502, 28987, 3490, 17210, 2205, 2000, 2022, 3855, 1012, 2633, 1010, 2065, 2017, 2052, 5667, 2147, 1999, 1996, 1043, 1012, 6205, 2099, 2017, 2071, 2079, 2009, 1999, 1996, 4433, 3931, 2556, 1999, 1996, 2831, 1012, 102, 0, 0, 0, 0, 0, 0, 0, 0, 0, 0, 0, 0, 0, 0, 0, 0, 0, 0, 0, 0, 0, 0, 0, 0, 0, 0, 0, 0, 0, 0, 0, 0, 0, 0, 0, 0, 0, 0, 0, 0, 0, 0, 0, 0, 0, 0, 0, 0, 0, 0, 0, 0, 0, 0, 0, 0, 0, 0, 0, 0, 0, 0, 0, 0, 0, 0, 0, 0, 0, 0, 0, 0, 0, 0, 0, 0, 0, 0, 0, 0, 0, 0, 0, 0, 0, 0, 0, 0, 0, 0, 0, 0, 0, 0, 0, 0, 0, 0, 0, 0, 0, 0, 0, 0, 0, 0, 0, 0, 0, 0, 0, 0, 0, 0, 0, 0, 0, 0, 0, 0, 0, 0, 0, 0, 0, 0, 0, 0, 0, 0, 0, 0, 0, 0, 0, 0, 0, 0, 0, 0, 0, 0, 0, 0, 0, 0, 0, 0, 0, 0, 0, 0, 0, 0, 0, 0, 0, 0, 0, 0, 0, 0, 0, 0, 0, 0, 0, 0, 0, 0, 0, 0, 0, 0, 0, 0, 0, 0, 0, 0, 0, 0, 0, 0, 0, 0, 0, 0, 0, 0, 0, 0, 0, 0, 0, 0, 0, 0, 0, 0, 0, 0, 0, 0, 0, 0, 0, 0, 0, 0, 0, 0, 0, 0, 0, 0, 0, 0, 0, 0, 0, 0, 0, 0, 0, 0, 0, 0, 0, 0, 0, 0, 0, 0, 0, 0, 0, 0, 0, 0, 0, 0, 0, 0, 0, 0, 0, 0, 0, 0, 0, 0, 0, 0, 0, 0, 0, 0, 0, 0, 0, 0, 0, 0, 0, 0, 0, 0, 0, 0, 0, 0, 0, 0, 0, 0, 0, 0, 0, 0, 0, 0, 0, 0, 0, 0, 0, 0, 0, 0, 0, 0, 0, 0, 0, 0, 0, 0, 0, 0, 0, 0, 0, 0, 0, 0, 0, 0, 0, 0, 0, 0, 0, 0, 0, 0, 0, 0, 0, 0, 0, 0, 0, 0, 0, 0, 0, 0, 0, 0, 0, 0, 0, 0, 0, 0, 0, 0, 0, 0, 0, 0, 0, 0, 0, 0, 0, 0, 0, 0, 0, 0, 0, 0, 0, 0, 0, 0, 0, 0, 0, 0, 0, 0, 0, 0, 0, 0, 0, 0, 0, 0, 0, 0, 0, 0, 0, 0, 0, 0, 0, 0, 0, 0]\n",
      "attention_mask : [1, 1, 1, 1, 1, 1, 1, 1, 1, 1, 1, 1, 1, 1, 1, 1, 1, 1, 1, 1, 1, 1, 1, 1, 1, 1, 1, 1, 1, 1, 1, 1, 1, 1, 1, 1, 1, 1, 1, 1, 1, 1, 1, 1, 1, 1, 1, 1, 1, 1, 1, 1, 1, 1, 1, 1, 1, 1, 1, 1, 1, 1, 1, 1, 1, 1, 1, 1, 1, 1, 1, 1, 1, 1, 1, 1, 1, 1, 1, 1, 1, 1, 1, 1, 1, 1, 1, 1, 1, 1, 1, 1, 1, 1, 1, 1, 1, 1, 1, 1, 1, 1, 1, 1, 1, 1, 1, 1, 1, 1, 1, 1, 1, 1, 1, 1, 1, 1, 1, 1, 1, 1, 1, 1, 1, 1, 1, 1, 0, 0, 0, 0, 0, 0, 0, 0, 0, 0, 0, 0, 0, 0, 0, 0, 0, 0, 0, 0, 0, 0, 0, 0, 0, 0, 0, 0, 0, 0, 0, 0, 0, 0, 0, 0, 0, 0, 0, 0, 0, 0, 0, 0, 0, 0, 0, 0, 0, 0, 0, 0, 0, 0, 0, 0, 0, 0, 0, 0, 0, 0, 0, 0, 0, 0, 0, 0, 0, 0, 0, 0, 0, 0, 0, 0, 0, 0, 0, 0, 0, 0, 0, 0, 0, 0, 0, 0, 0, 0, 0, 0, 0, 0, 0, 0, 0, 0, 0, 0, 0, 0, 0, 0, 0, 0, 0, 0, 0, 0, 0, 0, 0, 0, 0, 0, 0, 0, 0, 0, 0, 0, 0, 0, 0, 0, 0, 0, 0, 0, 0, 0, 0, 0, 0, 0, 0, 0, 0, 0, 0, 0, 0, 0, 0, 0, 0, 0, 0, 0, 0, 0, 0, 0, 0, 0, 0, 0, 0, 0, 0, 0, 0, 0, 0, 0, 0, 0, 0, 0, 0, 0, 0, 0, 0, 0, 0, 0, 0, 0, 0, 0, 0, 0, 0, 0, 0, 0, 0, 0, 0, 0, 0, 0, 0, 0, 0, 0, 0, 0, 0, 0, 0, 0, 0, 0, 0, 0, 0, 0, 0, 0, 0, 0, 0, 0, 0, 0, 0, 0, 0, 0, 0, 0, 0, 0, 0, 0, 0, 0, 0, 0, 0, 0, 0, 0, 0, 0, 0, 0, 0, 0, 0, 0, 0, 0, 0, 0, 0, 0, 0, 0, 0, 0, 0, 0, 0, 0, 0, 0, 0, 0, 0, 0, 0, 0, 0, 0, 0, 0, 0, 0, 0, 0, 0, 0, 0, 0, 0, 0, 0, 0, 0, 0, 0, 0, 0, 0, 0, 0, 0, 0, 0, 0, 0, 0, 0, 0, 0, 0, 0, 0, 0, 0, 0, 0, 0, 0, 0, 0, 0, 0, 0, 0, 0, 0, 0, 0, 0, 0, 0, 0, 0, 0, 0, 0, 0, 0, 0, 0, 0, 0, 0, 0, 0, 0, 0, 0, 0, 0, 0, 0, 0, 0, 0, 0, 0, 0, 0, 0, 0, 0, 0, 0, 0, 0, 0, 0, 0, 0, 0, 0, 0, 0, 0, 0, 0, 0, 0, 0, 0, 0, 0, 0, 0, 0, 0, 0, 0, 0, 0, 0, 0, 0]\n",
      "--------------------------------------------------------------------------------\n",
      "\n",
      "Dataset({\n",
      "    features: ['label', 'input_ids', 'attention_mask'],\n",
      "    num_rows: 31859\n",
      "})\n",
      "label : 0\n",
      "input_ids : [101, 1043, 1024, 6205, 2053, 1010, 3374, 1010, 2017, 2007, 2115, 16913, 18513, 2015, 2031, 3013, 3064, 2041, 2195, 2951, 2015, 1998, 2070, 4933, 4496, 4895, 8557, 3993, 4496, 4895, 6198, 3085, 1012, 2023, 2442, 2022, 6377, 1010, 1998, 1045, 2106, 2009, 1012, 2115, 2147, 2003, 19804, 8586, 19210, 1010, 2021, 15275, 6276, 2015, 2024, 2025, 1012, 15068, 2130, 3478, 2000, 4863, 1005, 2339, 1005, 1996, 4517, 5081, 5360, 2250, 14821, 2015, 1010, 2023, 2003, 2025, 2061, 20610, 2000, 4863, 1010, 4496, 4654, 5051, 13247, 2135, 2001, 1999, 1005, 2753, 2015, 1012, 2502, 28987, 3490, 17210, 2205, 2000, 2022, 3855, 1012, 2633, 1010, 2065, 2017, 2052, 5667, 2147, 1999, 1996, 1043, 1012, 6205, 2099, 2017, 2071, 2079, 2009, 1999, 1996, 4433, 3931, 2556, 1999, 1996, 2831, 1012, 102, 0, 0, 0, 0, 0, 0, 0, 0, 0, 0, 0, 0, 0, 0, 0, 0, 0, 0, 0, 0, 0, 0, 0, 0, 0, 0, 0, 0, 0, 0, 0, 0, 0, 0, 0, 0, 0, 0, 0, 0, 0, 0, 0, 0, 0, 0, 0, 0, 0, 0, 0, 0, 0, 0, 0, 0, 0, 0, 0, 0, 0, 0, 0, 0, 0, 0, 0, 0, 0, 0, 0, 0, 0, 0, 0, 0, 0, 0, 0, 0, 0, 0, 0, 0, 0, 0, 0, 0, 0, 0, 0, 0, 0, 0, 0, 0, 0, 0, 0, 0, 0, 0, 0, 0, 0, 0, 0, 0, 0, 0, 0, 0, 0, 0, 0, 0, 0, 0, 0, 0, 0, 0, 0, 0, 0, 0, 0, 0, 0, 0, 0, 0, 0, 0, 0, 0, 0, 0, 0, 0, 0, 0, 0, 0, 0, 0, 0, 0, 0, 0, 0, 0, 0, 0, 0, 0, 0, 0, 0, 0, 0, 0, 0, 0, 0, 0, 0, 0, 0, 0, 0, 0, 0, 0, 0, 0, 0, 0, 0, 0, 0, 0, 0, 0, 0, 0, 0, 0, 0, 0, 0, 0, 0, 0, 0, 0, 0, 0, 0, 0, 0, 0, 0, 0, 0, 0, 0, 0, 0, 0, 0, 0, 0, 0, 0, 0, 0, 0, 0, 0, 0, 0, 0, 0, 0, 0, 0, 0, 0, 0, 0, 0, 0, 0, 0, 0, 0, 0, 0, 0, 0, 0, 0, 0, 0, 0, 0, 0, 0, 0, 0, 0, 0, 0, 0, 0, 0, 0, 0, 0, 0, 0, 0, 0, 0, 0, 0, 0, 0, 0, 0, 0, 0, 0, 0, 0, 0, 0, 0, 0, 0, 0, 0, 0, 0, 0, 0, 0, 0, 0, 0, 0, 0, 0, 0, 0, 0, 0, 0, 0, 0, 0, 0, 0, 0, 0, 0, 0, 0, 0, 0, 0, 0, 0, 0, 0, 0, 0, 0, 0, 0, 0, 0, 0, 0, 0, 0, 0, 0, 0, 0, 0, 0, 0, 0, 0, 0, 0, 0, 0, 0, 0, 0, 0, 0, 0, 0, 0, 0, 0, 0, 0, 0, 0, 0, 0, 0, 0, 0, 0, 0, 0, 0, 0, 0, 0, 0, 0, 0, 0, 0, 0, 0, 0, 0, 0, 0, 0, 0, 0, 0, 0, 0, 0]\n",
      "attention_mask : [1, 1, 1, 1, 1, 1, 1, 1, 1, 1, 1, 1, 1, 1, 1, 1, 1, 1, 1, 1, 1, 1, 1, 1, 1, 1, 1, 1, 1, 1, 1, 1, 1, 1, 1, 1, 1, 1, 1, 1, 1, 1, 1, 1, 1, 1, 1, 1, 1, 1, 1, 1, 1, 1, 1, 1, 1, 1, 1, 1, 1, 1, 1, 1, 1, 1, 1, 1, 1, 1, 1, 1, 1, 1, 1, 1, 1, 1, 1, 1, 1, 1, 1, 1, 1, 1, 1, 1, 1, 1, 1, 1, 1, 1, 1, 1, 1, 1, 1, 1, 1, 1, 1, 1, 1, 1, 1, 1, 1, 1, 1, 1, 1, 1, 1, 1, 1, 1, 1, 1, 1, 1, 1, 1, 1, 1, 1, 1, 0, 0, 0, 0, 0, 0, 0, 0, 0, 0, 0, 0, 0, 0, 0, 0, 0, 0, 0, 0, 0, 0, 0, 0, 0, 0, 0, 0, 0, 0, 0, 0, 0, 0, 0, 0, 0, 0, 0, 0, 0, 0, 0, 0, 0, 0, 0, 0, 0, 0, 0, 0, 0, 0, 0, 0, 0, 0, 0, 0, 0, 0, 0, 0, 0, 0, 0, 0, 0, 0, 0, 0, 0, 0, 0, 0, 0, 0, 0, 0, 0, 0, 0, 0, 0, 0, 0, 0, 0, 0, 0, 0, 0, 0, 0, 0, 0, 0, 0, 0, 0, 0, 0, 0, 0, 0, 0, 0, 0, 0, 0, 0, 0, 0, 0, 0, 0, 0, 0, 0, 0, 0, 0, 0, 0, 0, 0, 0, 0, 0, 0, 0, 0, 0, 0, 0, 0, 0, 0, 0, 0, 0, 0, 0, 0, 0, 0, 0, 0, 0, 0, 0, 0, 0, 0, 0, 0, 0, 0, 0, 0, 0, 0, 0, 0, 0, 0, 0, 0, 0, 0, 0, 0, 0, 0, 0, 0, 0, 0, 0, 0, 0, 0, 0, 0, 0, 0, 0, 0, 0, 0, 0, 0, 0, 0, 0, 0, 0, 0, 0, 0, 0, 0, 0, 0, 0, 0, 0, 0, 0, 0, 0, 0, 0, 0, 0, 0, 0, 0, 0, 0, 0, 0, 0, 0, 0, 0, 0, 0, 0, 0, 0, 0, 0, 0, 0, 0, 0, 0, 0, 0, 0, 0, 0, 0, 0, 0, 0, 0, 0, 0, 0, 0, 0, 0, 0, 0, 0, 0, 0, 0, 0, 0, 0, 0, 0, 0, 0, 0, 0, 0, 0, 0, 0, 0, 0, 0, 0, 0, 0, 0, 0, 0, 0, 0, 0, 0, 0, 0, 0, 0, 0, 0, 0, 0, 0, 0, 0, 0, 0, 0, 0, 0, 0, 0, 0, 0, 0, 0, 0, 0, 0, 0, 0, 0, 0, 0, 0, 0, 0, 0, 0, 0, 0, 0, 0, 0, 0, 0, 0, 0, 0, 0, 0, 0, 0, 0, 0, 0, 0, 0, 0, 0, 0, 0, 0, 0, 0, 0, 0, 0, 0, 0, 0, 0, 0, 0, 0, 0, 0, 0, 0, 0, 0, 0, 0, 0, 0, 0, 0, 0, 0, 0, 0, 0, 0, 0, 0, 0, 0, 0, 0, 0, 0]\n",
      "--------------------------------------------------------------------------------\n",
      "\n"
     ]
    }
   ],
   "source": [
    "# токенизация комментариев\n",
    "ds_trainval = ds_trainval.map(tokenize, batched=True, batch_size=8,\n",
    "                              remove_columns=['text', '__index_level_0__'],)\n",
    "ds_train = ds_train.map(tokenize, batched=True, batch_size=8,\n",
    "                        remove_columns=['text', '__index_level_0__'])\n",
    "ds_val = ds_val.map(tokenize, batched=True, batch_size=8,\n",
    "                    remove_columns=['text', '__index_level_0__'])\n",
    "ds_test = ds_test.map(tokenize, batched=True, batch_size=8,\n",
    "                      remove_columns=['text', '__index_level_0__'])\n",
    "\n",
    "# проверка токенизации комментариев\n",
    "for ds in ds_trainval, ds_train, ds_val, ds_test:\n",
    "  print(ds)\n",
    "  for key, value in ds_test[0].items():\n",
    "    print(key, ':', value)\n",
    "  print('-' * 80)\n",
    "  print()"
   ]
  },
  {
   "cell_type": "markdown",
   "metadata": {
    "id": "NwNbLya3DkAZ"
   },
   "source": [
    "### Подготовка к обучению *DistilBertForSequenceClassification*"
   ]
  },
  {
   "cell_type": "markdown",
   "metadata": {
    "id": "iU3hcPxQhCH1"
   },
   "source": [
    "Для обучения модели *DistilBertForSequenceClassification*:\n",
    "- создадим объект класса *DefaultDataCollator* (для передачи модели данных батчами); и\n",
    "- создадим функцию *compute_metrics* (для рассчета метрик *accuracy*, *f1*, *precision* и *recall*).\n"
   ]
  },
  {
   "cell_type": "code",
   "execution_count": 20,
   "metadata": {
    "id": "rQmgjsuAhGQs"
   },
   "outputs": [],
   "source": [
    "# создание DefaultDataCollator\n",
    "data_collator = DefaultDataCollator()"
   ]
  },
  {
   "cell_type": "code",
   "execution_count": 21,
   "metadata": {
    "colab": {
     "base_uri": "https://localhost:8080/",
     "height": 145,
     "referenced_widgets": [
      "1a935cd50f61471e9c3ec5d09f491f7a",
      "a3fd97c05fc44adcaeb50edc9eb18469",
      "0093142727a24d2a968583d2bea1d45b",
      "7224c2dcea654f1eb342ed9d330cb208",
      "506c66c4ca8e4d3ca14e73467c53ffe4",
      "c105fc2ac07e4793943b53dfb61d90e6",
      "03635bff0c834dcdbaee0a6b9a625c52",
      "3c5fc34f7c564520b0d31ad62b05ded2",
      "b6b24ce4bcda4eb785dead8dc2445bf5",
      "a467ffab1c6944dd8ae188625aa4625d",
      "2f4a0f35c63749e4a2bc0b221d17b3cf",
      "25ef9347f60f42818c9b66e62abe68fc",
      "07a8dc804e524c638f2de2c9fd264a5c",
      "f058678569b540f6847405bf9fdcc705",
      "94ab3698ee344b81b1b5757bd8e723da",
      "f6916869c95341dc9a05b2d9d59136b7",
      "9fde09629de84574866fe78e0d37ffcb",
      "248d9821545d42d997bef6d8fcbeeec1",
      "80a260b61fdf4cfb9729252544902c3e",
      "a12e337d20ea48ab939eadbbcd969193",
      "bdbfa937080442e99191cc2b1b075782",
      "52b99b21e54746d4b436e7199c263634",
      "6ef506b4ee8c4e9eb7d2737ff2ca8e93",
      "8d11f92c88b24c8abb94f14b6e50e60a",
      "8a88b672d2ca4ecd8deed24886ccc829",
      "b3dedea5ae724785b9b62f65ecad04e6",
      "881059197de4403c94bbf5068d9844c1",
      "683797832e6242aaa9ef2ba48780beeb",
      "c720652aeccd4ceb83e33757c906d95e",
      "69104b03f1464520b9bb6b8b609fc6fe",
      "8ebf7672a9064c23b106894fd1dbb88d",
      "e0a6af1f548d4d79a10ce77078db542d",
      "e252f5954e7d45938424bf2cbb0bff1a",
      "4660060ab670435e909f9ec6bf69b5c7",
      "701d42aa48fa4f3eaa06d3b907182c38",
      "5c2a183b37a7466493bd8e8a90203db8",
      "45f3a78f96ca41feb391fd1dd4caf794",
      "7f3db947b0e743079292e4dd1507c959",
      "0d054c8f9df7428d855dda4736f42bc0",
      "e85cb219455947e7ba8f76048ce017f6",
      "81b47618c92e40528d45785dfdc8c548",
      "e6322b040b2740c5bc4253418901c29f",
      "3af675e3e05d420b9936ef9a9ecf90f3",
      "096c68a66a794001848e4078fe2f2bcd"
     ]
    },
    "id": "tKLJlZBNOsqN",
    "outputId": "e8e92335-b677-4216-cc0c-2bebdccb7ce7",
    "scrolled": false
   },
   "outputs": [
    {
     "data": {
      "application/vnd.jupyter.widget-view+json": {
       "model_id": "1a935cd50f61471e9c3ec5d09f491f7a",
       "version_major": 2,
       "version_minor": 0
      },
      "text/plain": [
       "Downloading builder script:   0%|          | 0.00/4.20k [00:00<?, ?B/s]"
      ]
     },
     "metadata": {},
     "output_type": "display_data"
    },
    {
     "data": {
      "application/vnd.jupyter.widget-view+json": {
       "model_id": "25ef9347f60f42818c9b66e62abe68fc",
       "version_major": 2,
       "version_minor": 0
      },
      "text/plain": [
       "Downloading builder script:   0%|          | 0.00/6.77k [00:00<?, ?B/s]"
      ]
     },
     "metadata": {},
     "output_type": "display_data"
    },
    {
     "data": {
      "application/vnd.jupyter.widget-view+json": {
       "model_id": "6ef506b4ee8c4e9eb7d2737ff2ca8e93",
       "version_major": 2,
       "version_minor": 0
      },
      "text/plain": [
       "Downloading builder script:   0%|          | 0.00/7.55k [00:00<?, ?B/s]"
      ]
     },
     "metadata": {},
     "output_type": "display_data"
    },
    {
     "data": {
      "application/vnd.jupyter.widget-view+json": {
       "model_id": "4660060ab670435e909f9ec6bf69b5c7",
       "version_major": 2,
       "version_minor": 0
      },
      "text/plain": [
       "Downloading builder script:   0%|          | 0.00/7.36k [00:00<?, ?B/s]"
      ]
     },
     "metadata": {},
     "output_type": "display_data"
    }
   ],
   "source": [
    "# создание переменной с метриками, визуализируемыми при обучении DistilBertForSequenceClassification\n",
    "clf_metrics = evaluate.combine([\"accuracy\", \"f1\", \"precision\", \"recall\"])"
   ]
  },
  {
   "cell_type": "code",
   "execution_count": 22,
   "metadata": {
    "id": "zaQ6aijJO_XQ"
   },
   "outputs": [],
   "source": [
    "def compute_metrics(eval_pred):\n",
    "  '''\n",
    "  Функция рассчитывает метрики accuracy, f1, precision и recall.\n",
    "\n",
    "  Входные параметры:\n",
    "  - eval_pred - результаты разботы Trainer\n",
    "\n",
    "  Возвращаемые значения: \n",
    "  - рассчитанные метрики\n",
    "\n",
    "  '''\n",
    "\n",
    "  logits, labels = eval_pred\n",
    "  predictions = np.argmax(logits, axis=-1)\n",
    "\n",
    "  return clf_metrics.compute(predictions=predictions, references=labels)"
   ]
  },
  {
   "cell_type": "markdown",
   "metadata": {
    "id": "_twvPjtyYl_t"
   },
   "source": [
    "### Создание признаков-эмбеддингов и целевого признака для не-*BERT* моделей"
   ]
  },
  {
   "cell_type": "markdown",
   "metadata": {
    "id": "mv6h_ginDN5S"
   },
   "source": [
    "Создадим признаки-эмбеддинги для не-*BERT* моделей при помощи предобученной модели *DistilBertModel*."
   ]
  },
  {
   "cell_type": "code",
   "execution_count": 23,
   "metadata": {
    "colab": {
     "base_uri": "https://localhost:8080/",
     "height": 123,
     "referenced_widgets": [
      "4eef64b9c0a84a3ea36bd3a49aab8a79",
      "4918767075cc4f489b058daa2279de2d",
      "02fc60962b7c4b7e9f0c2060a409d9c2",
      "0ed52e172dab46d39fe8546eb7da6b3c",
      "8eb3c56c9d57475084aa831019563d80",
      "7a93e682ad6b429380d1a8f766bb41b3",
      "672a391a234249c0a3a7bb18d0993623",
      "42b083ff60fe4f80b6ec1007d8c17237",
      "f29e3ef047d74aa99020c8734f145d80",
      "011647cf9c3e46d0a9d68e9a94df2269",
      "ead0105a3ec34d22aa293ec4aaa58fef"
     ]
    },
    "id": "ATlfHuWOZC1p",
    "outputId": "a36b1ae4-2c26-4bbb-c7ea-c12c4bf914d2"
   },
   "outputs": [
    {
     "data": {
      "application/vnd.jupyter.widget-view+json": {
       "model_id": "4eef64b9c0a84a3ea36bd3a49aab8a79",
       "version_major": 2,
       "version_minor": 0
      },
      "text/plain": [
       "Downloading:   0%|          | 0.00/268M [00:00<?, ?B/s]"
      ]
     },
     "metadata": {},
     "output_type": "display_data"
    },
    {
     "name": "stderr",
     "output_type": "stream",
     "text": [
      "Some weights of the model checkpoint at distilbert-base-uncased were not used when initializing DistilBertModel: ['vocab_transform.bias', 'vocab_layer_norm.bias', 'vocab_transform.weight', 'vocab_projector.bias', 'vocab_projector.weight', 'vocab_layer_norm.weight']\n",
      "- This IS expected if you are initializing DistilBertModel from the checkpoint of a model trained on another task or with another architecture (e.g. initializing a BertForSequenceClassification model from a BertForPreTraining model).\n",
      "- This IS NOT expected if you are initializing DistilBertModel from the checkpoint of a model that you expect to be exactly identical (initializing a BertForSequenceClassification model from a BertForSequenceClassification model).\n"
     ]
    }
   ],
   "source": [
    "# создание препроцессинговой модели\n",
    "preprocessing_model = DistilBertModel.from_pretrained('distilbert-base-uncased').to(device)"
   ]
  },
  {
   "cell_type": "markdown",
   "metadata": {
    "id": "ezo-O9y7D3w8"
   },
   "source": [
    "Для целей оптимизации процесса создадим функцию *extract_features*: "
   ]
  },
  {
   "cell_type": "code",
   "execution_count": 24,
   "metadata": {
    "id": "4ePb5G8IYkWd"
   },
   "outputs": [],
   "source": [
    "# создание функции extract_features\n",
    "def extract_features(dataset: Dataset):\n",
    "  '''\n",
    "  Функция создает embeddings при помощи DistilBertModel.\n",
    "\n",
    "  Входные параметры:\n",
    "  - dataset - датасет с токенизированным текстом;\n",
    "\n",
    "  Возвращаемые значения:\n",
    "  - features - созданные embeddings\n",
    "\n",
    "  '''\n",
    "\n",
    "  input_ids = dataset['input_ids']\n",
    "  attention_mask = dataset['attention_mask']\n",
    "\n",
    "  batch_size = 64\n",
    "  embeddings = []\n",
    "\n",
    "  for i in notebook.tqdm(range((dataset.shape[0] // batch_size)+1)):\n",
    "    input_ids_batch = torch.tensor(input_ids[batch_size*i:batch_size*(i+1)]).to(device)\n",
    "    attention_mask_batch = torch.tensor(attention_mask[batch_size*i:batch_size*(i+1)]).to(device)\n",
    "    \n",
    "    with torch.no_grad():\n",
    "      batch_embeddings = preprocessing_model(input_ids=input_ids_batch, \n",
    "                                             attention_mask=attention_mask_batch)\n",
    "        \n",
    "    embeddings.append(batch_embeddings[0][:,0,:].cpu().numpy())\n",
    "        \n",
    "  features = np.concatenate(embeddings)\n",
    "\n",
    "  return features"
   ]
  },
  {
   "cell_type": "markdown",
   "metadata": {
    "id": "xGLx8PNuIlaf"
   },
   "source": [
    "В ходе обучения не-*BERT* моделей мы будем подбирать их гиперпараметры при помощи кросс-валидации, поэтому на данном этапе мы создадим признаки только для расширенной обучающей (*trainval*) и тестовой выборок:"
   ]
  },
  {
   "cell_type": "code",
   "execution_count": 25,
   "metadata": {
    "colab": {
     "base_uri": "https://localhost:8080/",
     "height": 81,
     "referenced_widgets": [
      "887af80c15fb4ae79071a7941b489fd2",
      "6fcf88bb4a3946a9a2f46bb46e6dad98",
      "f85cd62d9b9b4871b864ee675204fbd3",
      "fb2595985e224bb0b1663f0d08b26e88",
      "0a9d8dc929b54011b069125396cf0b72",
      "1734f0a45db64934a3fc56515a09d7aa",
      "8019ac00a3e54aa4858e83c9672ab8da",
      "90a424b498784c9ca38c6c89e5cd8297",
      "2a218462dade4a6996bd74bd5e1db26d",
      "3a06990deb7649228d22070810c5fdf8",
      "063f09effd9f4e019b68cfc198b4364a",
      "4749ea56ed2641af9a2773c9786563b3",
      "fc7be0b0ac794816a62ffd1beaa123b8",
      "8f169a6c3b46480cbb1e2382ee1f211c",
      "048916f458894314919ea80b5f85ef70",
      "4eea78943c604d168f89ba14b3e97260",
      "1fcc3b588d1d4202b8cc547df695ac2d",
      "cc945f1f5ce944098dd4d267de776584",
      "70bd13e2b3834da88c34b9adb2f1b0c6",
      "1164829ebf3548f792d0c547aee02400",
      "7f04c782ffb346028cf9b64616004d46",
      "503df95c3a1f4cc796cb68aa314ed911"
     ]
    },
    "id": "QyjbS6Ggd8xz",
    "outputId": "13fecae9-56f5-46b6-dab4-d9502e3c11f4"
   },
   "outputs": [
    {
     "data": {
      "application/vnd.jupyter.widget-view+json": {
       "model_id": "887af80c15fb4ae79071a7941b489fd2",
       "version_major": 2,
       "version_minor": 0
      },
      "text/plain": [
       "  0%|          | 0/1992 [00:00<?, ?it/s]"
      ]
     },
     "metadata": {},
     "output_type": "display_data"
    },
    {
     "data": {
      "application/vnd.jupyter.widget-view+json": {
       "model_id": "4749ea56ed2641af9a2773c9786563b3",
       "version_major": 2,
       "version_minor": 0
      },
      "text/plain": [
       "  0%|          | 0/498 [00:00<?, ?it/s]"
      ]
     },
     "metadata": {},
     "output_type": "display_data"
    }
   ],
   "source": [
    "# создание признаков\n",
    "features_trainval = extract_features(ds_trainval)\n",
    "features_test = extract_features(ds_test)"
   ]
  },
  {
   "cell_type": "code",
   "execution_count": 26,
   "metadata": {
    "id": "zyHOay40hHaF"
   },
   "outputs": [],
   "source": [
    "# применение garbage collector и отчистка кэша GPU\n",
    "gc.collect()\n",
    "torch.cuda.empty_cache()"
   ]
  },
  {
   "cell_type": "markdown",
   "metadata": {
    "id": "H_lt0VFcIyNA"
   },
   "source": [
    "Для этих же выборок сохраним целевой признак в отдельную переменную"
   ]
  },
  {
   "cell_type": "code",
   "execution_count": 27,
   "metadata": {
    "id": "iMQUal_WIx-q"
   },
   "outputs": [],
   "source": [
    "# сохранение целевого признака в отдельную переменную\n",
    "target_trainval = ds_trainval['label']\n",
    "target_test = ds_test['label']"
   ]
  },
  {
   "cell_type": "markdown",
   "metadata": {
    "id": "o3-nDGHVRFLw"
   },
   "source": [
    "### Cоздание функций для оптимизации обучения не-*BERT* моделей"
   ]
  },
  {
   "cell_type": "markdown",
   "metadata": {
    "id": "qu0RDdc4Rgzs"
   },
   "source": [
    "Для удобства обучения и анализа не-*BERT* моделей создадим следующие функции:\n",
    "- *add_to_comparison* (для сохранения параметров и метрик модели в сравнительную таблицу); и\n",
    "- *run_random_search* (для проведения подбора гиперпараметров при помощи *RandomizedSearchCV*)."
   ]
  },
  {
   "cell_type": "code",
   "execution_count": 28,
   "metadata": {
    "colab": {
     "base_uri": "https://localhost:8080/",
     "height": 49
    },
    "id": "soPQzxstRcwT",
    "outputId": "993b70f3-7d61-4eb6-d2a4-83c6a3252415"
   },
   "outputs": [
    {
     "data": {
      "text/html": [
       "\n",
       "  <div id=\"df-bc362ed6-6451-4733-8ac3-a8eb983b1060\">\n",
       "    <div class=\"colab-df-container\">\n",
       "      <div>\n",
       "<style scoped>\n",
       "    .dataframe tbody tr th:only-of-type {\n",
       "        vertical-align: middle;\n",
       "    }\n",
       "\n",
       "    .dataframe tbody tr th {\n",
       "        vertical-align: top;\n",
       "    }\n",
       "\n",
       "    .dataframe thead th {\n",
       "        text-align: right;\n",
       "    }\n",
       "</style>\n",
       "<table border=\"1\" class=\"dataframe\">\n",
       "  <thead>\n",
       "    <tr style=\"text-align: right;\">\n",
       "      <th></th>\n",
       "      <th>algorithm</th>\n",
       "      <th>preprocessing</th>\n",
       "      <th>best_f1</th>\n",
       "      <th>best_params</th>\n",
       "      <th>model</th>\n",
       "    </tr>\n",
       "  </thead>\n",
       "  <tbody>\n",
       "  </tbody>\n",
       "</table>\n",
       "</div>\n",
       "      <button class=\"colab-df-convert\" onclick=\"convertToInteractive('df-bc362ed6-6451-4733-8ac3-a8eb983b1060')\"\n",
       "              title=\"Convert this dataframe to an interactive table.\"\n",
       "              style=\"display:none;\">\n",
       "        \n",
       "  <svg xmlns=\"http://www.w3.org/2000/svg\" height=\"24px\"viewBox=\"0 0 24 24\"\n",
       "       width=\"24px\">\n",
       "    <path d=\"M0 0h24v24H0V0z\" fill=\"none\"/>\n",
       "    <path d=\"M18.56 5.44l.94 2.06.94-2.06 2.06-.94-2.06-.94-.94-2.06-.94 2.06-2.06.94zm-11 1L8.5 8.5l.94-2.06 2.06-.94-2.06-.94L8.5 2.5l-.94 2.06-2.06.94zm10 10l.94 2.06.94-2.06 2.06-.94-2.06-.94-.94-2.06-.94 2.06-2.06.94z\"/><path d=\"M17.41 7.96l-1.37-1.37c-.4-.4-.92-.59-1.43-.59-.52 0-1.04.2-1.43.59L10.3 9.45l-7.72 7.72c-.78.78-.78 2.05 0 2.83L4 21.41c.39.39.9.59 1.41.59.51 0 1.02-.2 1.41-.59l7.78-7.78 2.81-2.81c.8-.78.8-2.07 0-2.86zM5.41 20L4 18.59l7.72-7.72 1.47 1.35L5.41 20z\"/>\n",
       "  </svg>\n",
       "      </button>\n",
       "      \n",
       "  <style>\n",
       "    .colab-df-container {\n",
       "      display:flex;\n",
       "      flex-wrap:wrap;\n",
       "      gap: 12px;\n",
       "    }\n",
       "\n",
       "    .colab-df-convert {\n",
       "      background-color: #E8F0FE;\n",
       "      border: none;\n",
       "      border-radius: 50%;\n",
       "      cursor: pointer;\n",
       "      display: none;\n",
       "      fill: #1967D2;\n",
       "      height: 32px;\n",
       "      padding: 0 0 0 0;\n",
       "      width: 32px;\n",
       "    }\n",
       "\n",
       "    .colab-df-convert:hover {\n",
       "      background-color: #E2EBFA;\n",
       "      box-shadow: 0px 1px 2px rgba(60, 64, 67, 0.3), 0px 1px 3px 1px rgba(60, 64, 67, 0.15);\n",
       "      fill: #174EA6;\n",
       "    }\n",
       "\n",
       "    [theme=dark] .colab-df-convert {\n",
       "      background-color: #3B4455;\n",
       "      fill: #D2E3FC;\n",
       "    }\n",
       "\n",
       "    [theme=dark] .colab-df-convert:hover {\n",
       "      background-color: #434B5C;\n",
       "      box-shadow: 0px 1px 3px 1px rgba(0, 0, 0, 0.15);\n",
       "      filter: drop-shadow(0px 1px 2px rgba(0, 0, 0, 0.3));\n",
       "      fill: #FFFFFF;\n",
       "    }\n",
       "  </style>\n",
       "\n",
       "      <script>\n",
       "        const buttonEl =\n",
       "          document.querySelector('#df-bc362ed6-6451-4733-8ac3-a8eb983b1060 button.colab-df-convert');\n",
       "        buttonEl.style.display =\n",
       "          google.colab.kernel.accessAllowed ? 'block' : 'none';\n",
       "\n",
       "        async function convertToInteractive(key) {\n",
       "          const element = document.querySelector('#df-bc362ed6-6451-4733-8ac3-a8eb983b1060');\n",
       "          const dataTable =\n",
       "            await google.colab.kernel.invokeFunction('convertToInteractive',\n",
       "                                                     [key], {});\n",
       "          if (!dataTable) return;\n",
       "\n",
       "          const docLinkHtml = 'Like what you see? Visit the ' +\n",
       "            '<a target=\"_blank\" href=https://colab.research.google.com/notebooks/data_table.ipynb>data table notebook</a>'\n",
       "            + ' to learn more about interactive tables.';\n",
       "          element.innerHTML = '';\n",
       "          dataTable['output_type'] = 'display_data';\n",
       "          await google.colab.output.renderOutput(dataTable, element);\n",
       "          const docLink = document.createElement('div');\n",
       "          docLink.innerHTML = docLinkHtml;\n",
       "          element.appendChild(docLink);\n",
       "        }\n",
       "      </script>\n",
       "    </div>\n",
       "  </div>\n",
       "  "
      ],
      "text/plain": [
       "Empty DataFrame\n",
       "Columns: [algorithm, preprocessing, best_f1, best_params, model]\n",
       "Index: []"
      ]
     },
     "execution_count": 28,
     "metadata": {},
     "output_type": "execute_result"
    }
   ],
   "source": [
    "# создание списка имен столбцов таблицы для сравнения моделей\n",
    "models_results_col_names = ['algorithm', 'preprocessing', 'best_f1', \n",
    "                            'best_params', 'model']\n",
    "\n",
    "# создание таблицы для сравнения моделей\n",
    "models_results = pd.DataFrame([], columns=models_results_col_names)\n",
    "\n",
    "# проверка создания таблицы\n",
    "models_results"
   ]
  },
  {
   "cell_type": "code",
   "execution_count": 29,
   "metadata": {
    "id": "c9kpsCfSUBTH"
   },
   "outputs": [],
   "source": [
    "# создание функции add_to_comparison\n",
    "def add_to_comparison(rsearch):\n",
    "    '''\n",
    "    Функция сохраняет параметры и метрики лучшей подобранной RandomizedSearchCV модели \n",
    "    в сравнительную таблицу.\n",
    "    \n",
    "    Входные параметры:\n",
    "    - rsearch - результаты оптимизации гиперпараметров при помощи RandomizedSearchCV.\n",
    "    '''\n",
    "    \n",
    "    algorithm = type(rsearch.best_estimator_).__name__\n",
    "    best_score = abs(rsearch.best_score_)\n",
    "    best_params = rsearch.best_params_\n",
    "    model = rsearch.best_estimator_\n",
    "    \n",
    "    model_metrics = [algorithm, 'tokenization + embeddings extraction', \n",
    "                     best_score, best_params, model]\n",
    "    \n",
    "    models_results.loc[len(models_results)] = model_metrics"
   ]
  },
  {
   "cell_type": "code",
   "execution_count": 51,
   "metadata": {
    "id": "25ifb2UFS8Vi"
   },
   "outputs": [],
   "source": [
    "# создание функции run_random_search\n",
    "def run_random_search(model, param_distributions:dict, n_iter:int):\n",
    "    '''\n",
    "    Функция:\n",
    "    - оптимизирует гиперпараметры при помощи RandomizedSearchCV;\n",
    "    - сохраняет параметры и метрики лучшей модели в сравнительную таблицу при помощи\n",
    "    функции add_to_comparison; и\n",
    "    - выводит на экран:\n",
    "      - лучшее среднее значение F1;\n",
    "      - лучшие значения гиперпараметров.\n",
    "    \n",
    "    Входные параметры:\n",
    "    - model - модель, для которой необходимо оптимизировать гиперпараметры\n",
    "    - param_distributions - словарь с возможными значениями оптимизируемых \n",
    "    гиперпараметров;\n",
    "    - n_iter - количество итераций RandomizedSearchCV.\n",
    "    '''\n",
    "    \n",
    "    rsearch = RandomizedSearchCV(estimator=model, \n",
    "                                 param_distributions=param_distributions, \n",
    "                                 n_iter=n_iter, \n",
    "                                 cv=3,\n",
    "                                 verbose=1,\n",
    "                                 random_state=12345,\n",
    "                                 refit=True,\n",
    "                                 scoring='f1')\n",
    "    \n",
    "    rsearch.fit(features_trainval, target_trainval)\n",
    "    \n",
    "    add_to_comparison(rsearch)\n",
    "\n",
    "    print()\n",
    "    print('Лучшее среднее значение F1:', rsearch.best_score_)\n",
    "    print('Лучшие значения гиперпараметров:', rsearch.best_params_)"
   ]
  },
  {
   "cell_type": "markdown",
   "metadata": {
    "id": "si2qZI9jVrWk"
   },
   "source": [
    "### Выводы"
   ]
  },
  {
   "cell_type": "markdown",
   "metadata": {
    "id": "3jThusTKVrJT"
   },
   "source": [
    "В ходе подготовки к обучению мы:\n",
    "- удалили неинформативный столбец *Unnamed: 0*;\n",
    "- переименовали столбец *toxic* в соответствии с требованиями моделей *BERT*, которые мы планируем использовать в дальнейшем;\n",
    "- разделили данные на обучающие, валидационную и тестовую выборки в пропорции 3:1:1;\n",
    "- конвертировали выборки в объекты класса Dataset (для дальнейшего использования инструментов *Hugging Face*);\n",
    "- токенизирировали комментарии при помощи предобученного токенизатора *DistilBertTokenizerFast*;\n",
    "- провели подготовку к обучению *DistilBertForSequenceClassification*:\n",
    "  - создали объект класса *DefaultDataCollator* (для передачи модели данных батчами); и\n",
    "  - создали функцию *compute_metrics* (для рассчета метрик *accuracy*, *f1*, *precision* и *recall*);\n",
    "- создали признаки-эмбеддинги и целевой признак для не-*BERT* моделей;\n",
    "- создали функции для оптимизации обучения не-*BERT* моделей:\n",
    "  - *add_to_comparison* (для сохранения параметров и метрик модели в сравнительную таблицу); и\n",
    "  - *run_random_search* (для проведения подбора гиперпараметров при помощи *RandomizedSearchCV*).\n",
    "\n",
    "Теперь мы можем перейти к обучению моделей."
   ]
  },
  {
   "cell_type": "markdown",
   "metadata": {
    "id": "FSg-PC7vMGeU"
   },
   "source": [
    "## Обучение моделей"
   ]
  },
  {
   "cell_type": "markdown",
   "metadata": {
    "id": "n2oIMOuRNrMt"
   },
   "source": [
    "На данном этапе мы обучим 5 моделей:\n",
    "- *LogisticRegression*;\n",
    "- *RidgeClassifier*;\n",
    "- *RandomForestClassifier*;\n",
    "- *CatBoostClassifier*; и\n",
    "- *DistilBertForSequenceClassification*.\n",
    "\n",
    "В рамках обучения мы:\n",
    "- для первых четырех моделей (за исключением *LogisticRegression*) оптимизируем значения гиперпараметров, чтобы получить лучшее среднее значение *F1* (используя кросс-валидацию);\n",
    "- для последней модели - переобучим модель на обучающей выборке с проверкой результатов на валидационной выборке."
   ]
  },
  {
   "cell_type": "markdown",
   "metadata": {
    "id": "cZSpzK_-Nwle"
   },
   "source": [
    "### LogisticRegression"
   ]
  },
  {
   "cell_type": "code",
   "execution_count": 31,
   "metadata": {
    "id": "oWzPzmoaOmEj"
   },
   "outputs": [],
   "source": [
    "# создание модели\n",
    "clf = LogisticRegression(max_iter=3000, class_weight='balanced', random_state=12345)"
   ]
  },
  {
   "cell_type": "code",
   "execution_count": 32,
   "metadata": {
    "id": "ToudwpAsPcgN"
   },
   "outputs": [],
   "source": [
    "# создание словаря с возможными значениями оптимизируемых гиперпараметров\n",
    "param_distributions = {'solver': ['sag'],\n",
    "                       'penalty': ['none']}"
   ]
  },
  {
   "cell_type": "code",
   "execution_count": 33,
   "metadata": {
    "colab": {
     "base_uri": "https://localhost:8080/"
    },
    "id": "h-9uc3kOfHQ-",
    "outputId": "4b2a6cad-5b97-4a38-aecc-df95fcd1dbc5"
   },
   "outputs": [
    {
     "name": "stdout",
     "output_type": "stream",
     "text": [
      "Fitting 3 folds for each of 1 candidates, totalling 3 fits\n",
      "\n",
      "Лучшее среднее значение F1: 0.6630641308755283\n",
      "Лучшие значения гиперпараметров: {'solver': 'sag', 'penalty': 'none'}\n",
      "CPU times: user 1min 10s, sys: 553 ms, total: 1min 10s\n",
      "Wall time: 3min 51s\n"
     ]
    }
   ],
   "source": [
    "%%time\n",
    "\n",
    "# применение функции run_random_search\n",
    "run_random_search(clf, param_distributions, 1)"
   ]
  },
  {
   "cell_type": "markdown",
   "metadata": {
    "id": "9p35aOGylf-e"
   },
   "source": [
    "### RidgeClassifier"
   ]
  },
  {
   "cell_type": "code",
   "execution_count": 34,
   "metadata": {
    "id": "qQGxMNZUQ22A"
   },
   "outputs": [],
   "source": [
    "# создание модели\n",
    "clf = RidgeClassifier(class_weight='balanced')"
   ]
  },
  {
   "cell_type": "code",
   "execution_count": 35,
   "metadata": {
    "id": "ZBiE1JLNSD1m"
   },
   "outputs": [],
   "source": [
    "# создание словаря с возможными значениями оптимизируемых гиперпараметров\n",
    "param_distributions = {'alpha': np.arange(0.01, 10, 0.01)}"
   ]
  },
  {
   "cell_type": "code",
   "execution_count": 36,
   "metadata": {
    "colab": {
     "base_uri": "https://localhost:8080/"
    },
    "id": "rU7X5olMT3pt",
    "outputId": "51100205-adfc-4bed-da3a-03a2d190c705"
   },
   "outputs": [
    {
     "name": "stdout",
     "output_type": "stream",
     "text": [
      "Fitting 3 folds for each of 30 candidates, totalling 90 fits\n"
     ]
    },
    {
     "name": "stderr",
     "output_type": "stream",
     "text": [
      "/usr/local/lib/python3.7/dist-packages/joblib/externals/loky/process_executor.py:703: UserWarning: A worker stopped while some jobs were given to the executor. This can be caused by a too short worker timeout or by a memory leak.\n",
      "  \"timeout or by a memory leak.\", UserWarning\n"
     ]
    },
    {
     "name": "stdout",
     "output_type": "stream",
     "text": [
      "\n",
      "Лучшее среднее значение F1: 0.6471908469138046\n",
      "Лучшие значения гиперпараметров: {'alpha': 9.42}\n",
      "CPU times: user 35.9 s, sys: 1.15 s, total: 37.1 s\n",
      "Wall time: 2min 2s\n"
     ]
    }
   ],
   "source": [
    "%%time\n",
    "\n",
    "# применение функции run_random_search\n",
    "run_random_search(clf, param_distributions, 30)"
   ]
  },
  {
   "cell_type": "markdown",
   "metadata": {
    "id": "I-KgimoHfkKp"
   },
   "source": [
    "### RandomForestClassifier"
   ]
  },
  {
   "cell_type": "code",
   "execution_count": 37,
   "metadata": {
    "id": "XwpadKRfQ2mY"
   },
   "outputs": [],
   "source": [
    "# создание модели\n",
    "clf = RandomForestClassifier(class_weight='balanced', random_state=12345)"
   ]
  },
  {
   "cell_type": "code",
   "execution_count": 38,
   "metadata": {
    "id": "Y2cuBfNOfh1s"
   },
   "outputs": [],
   "source": [
    "# создание словаря с возможными значениями оптимизируемых гиперпараметров\n",
    "param_distributions = {'max_depth': [4, 8, 12, 16],\n",
    "                       'n_estimators': [50, 100, 150, 200]}"
   ]
  },
  {
   "cell_type": "code",
   "execution_count": 39,
   "metadata": {
    "colab": {
     "base_uri": "https://localhost:8080/"
    },
    "id": "8w8z1ykIYTXQ",
    "outputId": "1ae547ca-2718-41a1-cb09-5ea83456fa21"
   },
   "outputs": [
    {
     "name": "stdout",
     "output_type": "stream",
     "text": [
      "Fitting 3 folds for each of 16 candidates, totalling 48 fits\n",
      "\n",
      "Лучшее среднее значение F1: 0.6758952463656008\n",
      "Лучшие значения гиперпараметров: {'n_estimators': 200, 'max_depth': 12}\n",
      "CPU times: user 10min 41s, sys: 5.31 s, total: 10min 46s\n",
      "Wall time: 2h 29s\n"
     ]
    }
   ],
   "source": [
    "%%time\n",
    "\n",
    "# применение функции run_random_search\n",
    "run_random_search(clf, param_distributions, 16)"
   ]
  },
  {
   "cell_type": "markdown",
   "metadata": {
    "id": "ec9PkXkgfYOF"
   },
   "source": [
    "### CatboostClassifier"
   ]
  },
  {
   "cell_type": "code",
   "execution_count": 55,
   "metadata": {
    "id": "xrbrDRL1g-I2"
   },
   "outputs": [],
   "source": [
    "# создание словаря с параметрами модели\n",
    "clf_params = {'random_state': 12345,\n",
    "              'verbose':100,\n",
    "              'class_weights': [1,9],\n",
    "              'task_type': 'GPU',\n",
    "              'devices': '0:1',\n",
    "              'early_stopping_rounds': 200}"
   ]
  },
  {
   "cell_type": "code",
   "execution_count": 56,
   "metadata": {
    "id": "0JE-ZFCqejdh"
   },
   "outputs": [],
   "source": [
    "# создание модели\n",
    "clf = CatBoostClassifier(**clf_params)"
   ]
  },
  {
   "cell_type": "code",
   "execution_count": 57,
   "metadata": {
    "id": "sQSI-uYTiWxp"
   },
   "outputs": [],
   "source": [
    "# создание словаря с возможными значениями оптимизируемых гиперпараметров\n",
    "param_distributions = {'learning_rate': [0.3, 0.1, 0.05],\n",
    "                       'iterations': [3000, 5000],\n",
    "                       'max_depth': [6, 8, 10]}"
   ]
  },
  {
   "cell_type": "code",
   "execution_count": 58,
   "metadata": {
    "colab": {
     "base_uri": "https://localhost:8080/"
    },
    "id": "DqEMco9hiiZo",
    "outputId": "55149277-516a-4121-b1d9-10331b59ee29"
   },
   "outputs": [
    {
     "name": "stdout",
     "output_type": "stream",
     "text": [
      "Fitting 3 folds for each of 18 candidates, totalling 54 fits\n"
     ]
    },
    {
     "name": "stderr",
     "output_type": "stream",
     "text": [
      "Warning: less than 75% gpu memory available for training. Free: 7395.75 Total: 15109.75\n"
     ]
    },
    {
     "name": "stdout",
     "output_type": "stream",
     "text": [
      "0:\tlearn: 0.5231715\ttotal: 33ms\tremaining: 1m 38s\n",
      "100:\tlearn: 0.1851436\ttotal: 1.84s\tremaining: 52.7s\n",
      "200:\tlearn: 0.1348747\ttotal: 3.44s\tremaining: 47.9s\n",
      "300:\tlearn: 0.1006392\ttotal: 5.11s\tremaining: 45.8s\n",
      "400:\tlearn: 0.0770143\ttotal: 6.79s\tremaining: 44s\n",
      "500:\tlearn: 0.0600064\ttotal: 8.47s\tremaining: 42.3s\n",
      "600:\tlearn: 0.0474605\ttotal: 10.2s\tremaining: 40.5s\n",
      "700:\tlearn: 0.0383074\ttotal: 11.8s\tremaining: 38.6s\n",
      "800:\tlearn: 0.0311846\ttotal: 13.4s\tremaining: 36.8s\n",
      "900:\tlearn: 0.0256868\ttotal: 15.1s\tremaining: 35.1s\n",
      "1000:\tlearn: 0.0210114\ttotal: 16.7s\tremaining: 33.4s\n",
      "1100:\tlearn: 0.0171793\ttotal: 18.4s\tremaining: 31.7s\n",
      "1200:\tlearn: 0.0142442\ttotal: 20s\tremaining: 30s\n",
      "1300:\tlearn: 0.0119420\ttotal: 21.6s\tremaining: 28.2s\n",
      "1400:\tlearn: 0.0101200\ttotal: 23.3s\tremaining: 26.6s\n",
      "1500:\tlearn: 0.0086052\ttotal: 24.9s\tremaining: 24.9s\n",
      "1600:\tlearn: 0.0073835\ttotal: 26.6s\tremaining: 23.2s\n",
      "1700:\tlearn: 0.0064270\ttotal: 28.2s\tremaining: 21.5s\n",
      "1800:\tlearn: 0.0056107\ttotal: 29.8s\tremaining: 19.8s\n",
      "1900:\tlearn: 0.0049996\ttotal: 31.4s\tremaining: 18.1s\n",
      "2000:\tlearn: 0.0044608\ttotal: 33s\tremaining: 16.5s\n",
      "2100:\tlearn: 0.0040308\ttotal: 34.6s\tremaining: 14.8s\n",
      "2200:\tlearn: 0.0036425\ttotal: 36.1s\tremaining: 13.1s\n",
      "2300:\tlearn: 0.0033617\ttotal: 37.6s\tremaining: 11.4s\n",
      "2400:\tlearn: 0.0030899\ttotal: 39.1s\tremaining: 9.77s\n",
      "2500:\tlearn: 0.0028765\ttotal: 40.7s\tremaining: 8.13s\n",
      "2600:\tlearn: 0.0027125\ttotal: 42.2s\tremaining: 6.47s\n",
      "2700:\tlearn: 0.0025561\ttotal: 43.7s\tremaining: 4.84s\n",
      "2800:\tlearn: 0.0024253\ttotal: 45.2s\tremaining: 3.21s\n",
      "2900:\tlearn: 0.0023147\ttotal: 46.7s\tremaining: 1.59s\n",
      "2999:\tlearn: 0.0021972\ttotal: 48.2s\tremaining: 0us\n"
     ]
    },
    {
     "name": "stderr",
     "output_type": "stream",
     "text": [
      "Warning: less than 75% gpu memory available for training. Free: 7395.75 Total: 15109.75\n"
     ]
    },
    {
     "name": "stdout",
     "output_type": "stream",
     "text": [
      "0:\tlearn: 0.5199923\ttotal: 33.2ms\tremaining: 1m 39s\n",
      "100:\tlearn: 0.1850784\ttotal: 1.8s\tremaining: 51.8s\n",
      "200:\tlearn: 0.1339480\ttotal: 3.47s\tremaining: 48.3s\n",
      "300:\tlearn: 0.1004262\ttotal: 5.11s\tremaining: 45.8s\n",
      "400:\tlearn: 0.0769808\ttotal: 6.76s\tremaining: 43.8s\n",
      "500:\tlearn: 0.0596397\ttotal: 8.47s\tremaining: 42.3s\n",
      "600:\tlearn: 0.0471492\ttotal: 10.1s\tremaining: 40.4s\n",
      "700:\tlearn: 0.0378917\ttotal: 11.8s\tremaining: 38.6s\n",
      "800:\tlearn: 0.0309273\ttotal: 13.4s\tremaining: 36.8s\n",
      "900:\tlearn: 0.0249405\ttotal: 15s\tremaining: 35s\n",
      "1000:\tlearn: 0.0207123\ttotal: 16.6s\tremaining: 33.3s\n",
      "1100:\tlearn: 0.0169731\ttotal: 18.3s\tremaining: 31.6s\n",
      "1200:\tlearn: 0.0141615\ttotal: 19.9s\tremaining: 29.9s\n",
      "1300:\tlearn: 0.0119590\ttotal: 21.5s\tremaining: 28.1s\n",
      "1400:\tlearn: 0.0102067\ttotal: 23.1s\tremaining: 26.4s\n",
      "1500:\tlearn: 0.0088569\ttotal: 24.7s\tremaining: 24.7s\n",
      "1600:\tlearn: 0.0077854\ttotal: 26.3s\tremaining: 23s\n",
      "1700:\tlearn: 0.0069147\ttotal: 27.8s\tremaining: 21.3s\n",
      "1800:\tlearn: 0.0061736\ttotal: 29.4s\tremaining: 19.6s\n",
      "1900:\tlearn: 0.0056685\ttotal: 31s\tremaining: 17.9s\n",
      "2000:\tlearn: 0.0052546\ttotal: 32.5s\tremaining: 16.2s\n",
      "2100:\tlearn: 0.0048933\ttotal: 34s\tremaining: 14.5s\n",
      "2200:\tlearn: 0.0045643\ttotal: 35.5s\tremaining: 12.9s\n",
      "2300:\tlearn: 0.0042895\ttotal: 37s\tremaining: 11.2s\n",
      "2400:\tlearn: 0.0040284\ttotal: 38.5s\tremaining: 9.6s\n",
      "2500:\tlearn: 0.0038343\ttotal: 40s\tremaining: 7.98s\n",
      "2600:\tlearn: 0.0036812\ttotal: 41.4s\tremaining: 6.36s\n",
      "2700:\tlearn: 0.0035126\ttotal: 42.9s\tremaining: 4.75s\n",
      "2800:\tlearn: 0.0033766\ttotal: 44.4s\tremaining: 3.15s\n",
      "2900:\tlearn: 0.0032541\ttotal: 45.8s\tremaining: 1.56s\n",
      "2999:\tlearn: 0.0031320\ttotal: 47.3s\tremaining: 0us\n"
     ]
    },
    {
     "name": "stderr",
     "output_type": "stream",
     "text": [
      "Warning: less than 75% gpu memory available for training. Free: 7395.75 Total: 15109.75\n"
     ]
    },
    {
     "name": "stdout",
     "output_type": "stream",
     "text": [
      "0:\tlearn: 0.5240552\ttotal: 37.1ms\tremaining: 1m 51s\n",
      "100:\tlearn: 0.1860230\ttotal: 1.81s\tremaining: 52s\n",
      "200:\tlearn: 0.1339271\ttotal: 3.47s\tremaining: 48.3s\n",
      "300:\tlearn: 0.1004616\ttotal: 5.19s\tremaining: 46.5s\n",
      "400:\tlearn: 0.0770163\ttotal: 6.87s\tremaining: 44.5s\n",
      "500:\tlearn: 0.0598500\ttotal: 8.55s\tremaining: 42.6s\n",
      "600:\tlearn: 0.0472035\ttotal: 10.2s\tremaining: 40.6s\n",
      "700:\tlearn: 0.0379063\ttotal: 11.9s\tremaining: 38.9s\n",
      "800:\tlearn: 0.0306106\ttotal: 13.5s\tremaining: 37.1s\n",
      "900:\tlearn: 0.0249573\ttotal: 15.1s\tremaining: 35.3s\n",
      "1000:\tlearn: 0.0206115\ttotal: 16.8s\tremaining: 33.5s\n",
      "1100:\tlearn: 0.0170601\ttotal: 18.4s\tremaining: 31.7s\n",
      "1200:\tlearn: 0.0142008\ttotal: 20s\tremaining: 29.9s\n",
      "1300:\tlearn: 0.0118252\ttotal: 21.6s\tremaining: 28.2s\n",
      "1400:\tlearn: 0.0100843\ttotal: 23.2s\tremaining: 26.5s\n",
      "1500:\tlearn: 0.0085088\ttotal: 24.9s\tremaining: 24.8s\n",
      "1600:\tlearn: 0.0072778\ttotal: 26.5s\tremaining: 23.2s\n",
      "1700:\tlearn: 0.0062804\ttotal: 28.1s\tremaining: 21.5s\n",
      "1800:\tlearn: 0.0054244\ttotal: 29.7s\tremaining: 19.8s\n",
      "1900:\tlearn: 0.0047919\ttotal: 31.3s\tremaining: 18.1s\n",
      "2000:\tlearn: 0.0042432\ttotal: 32.9s\tremaining: 16.4s\n",
      "2100:\tlearn: 0.0038225\ttotal: 34.5s\tremaining: 14.7s\n",
      "2200:\tlearn: 0.0034817\ttotal: 36s\tremaining: 13.1s\n",
      "2300:\tlearn: 0.0031812\ttotal: 37.5s\tremaining: 11.4s\n",
      "2400:\tlearn: 0.0028994\ttotal: 39.1s\tremaining: 9.75s\n",
      "2500:\tlearn: 0.0027007\ttotal: 40.6s\tremaining: 8.1s\n",
      "2600:\tlearn: 0.0025040\ttotal: 42.1s\tremaining: 6.46s\n",
      "2700:\tlearn: 0.0023440\ttotal: 43.6s\tremaining: 4.83s\n",
      "2800:\tlearn: 0.0022017\ttotal: 45.1s\tremaining: 3.2s\n",
      "2900:\tlearn: 0.0020855\ttotal: 46.5s\tremaining: 1.59s\n",
      "2999:\tlearn: 0.0019686\ttotal: 48s\tremaining: 0us\n"
     ]
    },
    {
     "name": "stderr",
     "output_type": "stream",
     "text": [
      "Warning: less than 75% gpu memory available for training. Free: 7395.75 Total: 15109.75\n"
     ]
    },
    {
     "name": "stdout",
     "output_type": "stream",
     "text": [
      "0:\tlearn: 0.5041313\ttotal: 75ms\tremaining: 3m 44s\n",
      "100:\tlearn: 0.1134908\ttotal: 3.67s\tremaining: 1m 45s\n",
      "200:\tlearn: 0.0559355\ttotal: 7.12s\tremaining: 1m 39s\n",
      "300:\tlearn: 0.0324162\ttotal: 10.4s\tremaining: 1m 33s\n",
      "400:\tlearn: 0.0198517\ttotal: 13.8s\tremaining: 1m 29s\n",
      "500:\tlearn: 0.0125844\ttotal: 17.1s\tremaining: 1m 25s\n",
      "600:\tlearn: 0.0084905\ttotal: 20.5s\tremaining: 1m 21s\n",
      "700:\tlearn: 0.0060237\ttotal: 23.8s\tremaining: 1m 17s\n",
      "800:\tlearn: 0.0045931\ttotal: 27s\tremaining: 1m 14s\n",
      "900:\tlearn: 0.0037126\ttotal: 30.1s\tremaining: 1m 10s\n",
      "1000:\tlearn: 0.0031315\ttotal: 33.2s\tremaining: 1m 6s\n",
      "1100:\tlearn: 0.0026927\ttotal: 36.2s\tremaining: 1m 2s\n",
      "1200:\tlearn: 0.0023618\ttotal: 39.2s\tremaining: 58.7s\n",
      "1300:\tlearn: 0.0021011\ttotal: 42.2s\tremaining: 55.1s\n",
      "1400:\tlearn: 0.0019078\ttotal: 45.1s\tremaining: 51.5s\n",
      "1500:\tlearn: 0.0017647\ttotal: 48s\tremaining: 47.9s\n",
      "1600:\tlearn: 0.0016242\ttotal: 50.9s\tremaining: 44.5s\n",
      "1700:\tlearn: 0.0015013\ttotal: 53.8s\tremaining: 41.1s\n",
      "1800:\tlearn: 0.0014088\ttotal: 56.6s\tremaining: 37.7s\n",
      "1900:\tlearn: 0.0013246\ttotal: 59.4s\tremaining: 34.3s\n",
      "2000:\tlearn: 0.0012490\ttotal: 1m 2s\tremaining: 31.1s\n",
      "2100:\tlearn: 0.0011893\ttotal: 1m 5s\tremaining: 27.9s\n",
      "2200:\tlearn: 0.0011273\ttotal: 1m 7s\tremaining: 24.7s\n",
      "2300:\tlearn: 0.0010807\ttotal: 1m 10s\tremaining: 21.5s\n",
      "2400:\tlearn: 0.0010295\ttotal: 1m 13s\tremaining: 18.4s\n",
      "2500:\tlearn: 0.0009924\ttotal: 1m 16s\tremaining: 15.2s\n",
      "2600:\tlearn: 0.0009591\ttotal: 1m 19s\tremaining: 12.1s\n",
      "2700:\tlearn: 0.0009254\ttotal: 1m 21s\tremaining: 9.06s\n",
      "2800:\tlearn: 0.0009018\ttotal: 1m 24s\tremaining: 6.01s\n",
      "2900:\tlearn: 0.0008742\ttotal: 1m 27s\tremaining: 2.98s\n",
      "2999:\tlearn: 0.0008480\ttotal: 1m 29s\tremaining: 0us\n"
     ]
    },
    {
     "name": "stderr",
     "output_type": "stream",
     "text": [
      "Warning: less than 75% gpu memory available for training. Free: 7395.75 Total: 15109.75\n"
     ]
    },
    {
     "name": "stdout",
     "output_type": "stream",
     "text": [
      "0:\tlearn: 0.5004384\ttotal: 76.2ms\tremaining: 3m 48s\n",
      "100:\tlearn: 0.1134982\ttotal: 3.65s\tremaining: 1m 44s\n",
      "200:\tlearn: 0.0566823\ttotal: 7.11s\tremaining: 1m 39s\n",
      "300:\tlearn: 0.0328822\ttotal: 10.5s\tremaining: 1m 33s\n",
      "400:\tlearn: 0.0206509\ttotal: 13.8s\tremaining: 1m 29s\n",
      "500:\tlearn: 0.0138795\ttotal: 17.1s\tremaining: 1m 25s\n",
      "600:\tlearn: 0.0097030\ttotal: 20.4s\tremaining: 1m 21s\n",
      "700:\tlearn: 0.0071391\ttotal: 23.6s\tremaining: 1m 17s\n",
      "800:\tlearn: 0.0057794\ttotal: 26.7s\tremaining: 1m 13s\n",
      "900:\tlearn: 0.0048568\ttotal: 29.7s\tremaining: 1m 9s\n",
      "1000:\tlearn: 0.0042266\ttotal: 32.8s\tremaining: 1m 5s\n",
      "1100:\tlearn: 0.0038512\ttotal: 35.7s\tremaining: 1m 1s\n",
      "1200:\tlearn: 0.0035014\ttotal: 38.6s\tremaining: 57.8s\n",
      "1300:\tlearn: 0.0032209\ttotal: 41.5s\tremaining: 54.2s\n",
      "1400:\tlearn: 0.0029805\ttotal: 44.3s\tremaining: 50.6s\n",
      "1500:\tlearn: 0.0027864\ttotal: 47.2s\tremaining: 47.1s\n",
      "1600:\tlearn: 0.0026296\ttotal: 50.1s\tremaining: 43.8s\n",
      "1700:\tlearn: 0.0024743\ttotal: 52.9s\tremaining: 40.4s\n",
      "1800:\tlearn: 0.0023600\ttotal: 55.7s\tremaining: 37.1s\n",
      "1900:\tlearn: 0.0022501\ttotal: 58.5s\tremaining: 33.8s\n",
      "2000:\tlearn: 0.0021592\ttotal: 1m 1s\tremaining: 30.6s\n",
      "2100:\tlearn: 0.0020688\ttotal: 1m 4s\tremaining: 27.4s\n",
      "2200:\tlearn: 0.0019994\ttotal: 1m 6s\tremaining: 24.3s\n",
      "2300:\tlearn: 0.0019309\ttotal: 1m 9s\tremaining: 21.1s\n",
      "2400:\tlearn: 0.0018567\ttotal: 1m 12s\tremaining: 18.1s\n",
      "2500:\tlearn: 0.0017978\ttotal: 1m 15s\tremaining: 15s\n",
      "2600:\tlearn: 0.0017557\ttotal: 1m 17s\tremaining: 11.9s\n",
      "2700:\tlearn: 0.0017019\ttotal: 1m 20s\tremaining: 8.92s\n",
      "2800:\tlearn: 0.0016586\ttotal: 1m 23s\tremaining: 5.92s\n",
      "2900:\tlearn: 0.0016154\ttotal: 1m 26s\tremaining: 2.94s\n",
      "2999:\tlearn: 0.0015773\ttotal: 1m 28s\tremaining: 0us\n"
     ]
    },
    {
     "name": "stderr",
     "output_type": "stream",
     "text": [
      "Warning: less than 75% gpu memory available for training. Free: 7395.75 Total: 15109.75\n"
     ]
    },
    {
     "name": "stdout",
     "output_type": "stream",
     "text": [
      "0:\tlearn: 0.5058520\ttotal: 75ms\tremaining: 3m 44s\n",
      "100:\tlearn: 0.1143928\ttotal: 3.67s\tremaining: 1m 45s\n",
      "200:\tlearn: 0.0564562\ttotal: 7.12s\tremaining: 1m 39s\n",
      "300:\tlearn: 0.0315481\ttotal: 10.5s\tremaining: 1m 33s\n",
      "400:\tlearn: 0.0197450\ttotal: 13.8s\tremaining: 1m 29s\n",
      "500:\tlearn: 0.0127212\ttotal: 17.1s\tremaining: 1m 25s\n",
      "600:\tlearn: 0.0082896\ttotal: 20.5s\tremaining: 1m 21s\n",
      "700:\tlearn: 0.0058340\ttotal: 23.8s\tremaining: 1m 18s\n",
      "800:\tlearn: 0.0044196\ttotal: 27s\tremaining: 1m 14s\n",
      "900:\tlearn: 0.0035815\ttotal: 30.2s\tremaining: 1m 10s\n",
      "1000:\tlearn: 0.0029760\ttotal: 33.3s\tremaining: 1m 6s\n",
      "1100:\tlearn: 0.0025353\ttotal: 36.3s\tremaining: 1m 2s\n",
      "1200:\tlearn: 0.0021937\ttotal: 39.3s\tremaining: 58.9s\n",
      "1300:\tlearn: 0.0019225\ttotal: 42.3s\tremaining: 55.2s\n",
      "1400:\tlearn: 0.0017208\ttotal: 45.3s\tremaining: 51.6s\n",
      "1500:\tlearn: 0.0015725\ttotal: 48.2s\tremaining: 48.1s\n",
      "1600:\tlearn: 0.0014377\ttotal: 51.1s\tremaining: 44.6s\n",
      "1700:\tlearn: 0.0013235\ttotal: 54s\tremaining: 41.2s\n",
      "1800:\tlearn: 0.0012271\ttotal: 56.9s\tremaining: 37.9s\n",
      "1900:\tlearn: 0.0011367\ttotal: 59.8s\tremaining: 34.6s\n",
      "2000:\tlearn: 0.0010609\ttotal: 1m 2s\tremaining: 31.3s\n",
      "2100:\tlearn: 0.0009935\ttotal: 1m 5s\tremaining: 28s\n",
      "2200:\tlearn: 0.0009327\ttotal: 1m 8s\tremaining: 24.8s\n",
      "2300:\tlearn: 0.0008843\ttotal: 1m 11s\tremaining: 21.6s\n",
      "2400:\tlearn: 0.0008414\ttotal: 1m 13s\tremaining: 18.4s\n",
      "2500:\tlearn: 0.0008058\ttotal: 1m 16s\tremaining: 15.3s\n",
      "2600:\tlearn: 0.0007661\ttotal: 1m 19s\tremaining: 12.2s\n",
      "2700:\tlearn: 0.0007351\ttotal: 1m 22s\tremaining: 9.1s\n",
      "2800:\tlearn: 0.0007050\ttotal: 1m 24s\tremaining: 6.04s\n",
      "2900:\tlearn: 0.0006793\ttotal: 1m 27s\tremaining: 2.99s\n",
      "2999:\tlearn: 0.0006549\ttotal: 1m 30s\tremaining: 0us\n"
     ]
    },
    {
     "name": "stderr",
     "output_type": "stream",
     "text": [
      "Warning: less than 75% gpu memory available for training. Free: 7395.75 Total: 15109.75\n"
     ]
    },
    {
     "name": "stdout",
     "output_type": "stream",
     "text": [
      "0:\tlearn: 0.4806922\ttotal: 206ms\tremaining: 10m 17s\n",
      "100:\tlearn: 0.0362729\ttotal: 9.6s\tremaining: 4m 35s\n",
      "200:\tlearn: 0.0131252\ttotal: 18.3s\tremaining: 4m 14s\n",
      "300:\tlearn: 0.0062861\ttotal: 26.9s\tremaining: 4m\n",
      "400:\tlearn: 0.0037368\ttotal: 35.2s\tremaining: 3m 48s\n",
      "500:\tlearn: 0.0027518\ttotal: 43.1s\tremaining: 3m 34s\n",
      "600:\tlearn: 0.0021775\ttotal: 50.7s\tremaining: 3m 22s\n",
      "700:\tlearn: 0.0017769\ttotal: 58.3s\tremaining: 3m 11s\n",
      "800:\tlearn: 0.0015219\ttotal: 1m 5s\tremaining: 3m\n",
      "900:\tlearn: 0.0013424\ttotal: 1m 12s\tremaining: 2m 49s\n",
      "1000:\tlearn: 0.0011950\ttotal: 1m 20s\tremaining: 2m 40s\n",
      "1100:\tlearn: 0.0010832\ttotal: 1m 27s\tremaining: 2m 30s\n",
      "1200:\tlearn: 0.0009954\ttotal: 1m 34s\tremaining: 2m 21s\n",
      "1300:\tlearn: 0.0009222\ttotal: 1m 41s\tremaining: 2m 12s\n",
      "1400:\tlearn: 0.0008603\ttotal: 1m 48s\tremaining: 2m 3s\n",
      "1500:\tlearn: 0.0008144\ttotal: 1m 55s\tremaining: 1m 55s\n",
      "1600:\tlearn: 0.0007659\ttotal: 2m 2s\tremaining: 1m 47s\n",
      "1700:\tlearn: 0.0007256\ttotal: 2m 9s\tremaining: 1m 39s\n",
      "1800:\tlearn: 0.0006827\ttotal: 2m 16s\tremaining: 1m 31s\n",
      "1900:\tlearn: 0.0006531\ttotal: 2m 23s\tremaining: 1m 23s\n",
      "2000:\tlearn: 0.0006204\ttotal: 2m 30s\tremaining: 1m 15s\n",
      "2100:\tlearn: 0.0005956\ttotal: 2m 37s\tremaining: 1m 7s\n",
      "2200:\tlearn: 0.0005703\ttotal: 2m 44s\tremaining: 59.8s\n",
      "2300:\tlearn: 0.0005494\ttotal: 2m 51s\tremaining: 52.2s\n",
      "2400:\tlearn: 0.0005285\ttotal: 2m 58s\tremaining: 44.6s\n",
      "2500:\tlearn: 0.0005115\ttotal: 3m 5s\tremaining: 37s\n",
      "2600:\tlearn: 0.0004937\ttotal: 3m 12s\tremaining: 29.5s\n",
      "2700:\tlearn: 0.0004794\ttotal: 3m 19s\tremaining: 22.1s\n",
      "2800:\tlearn: 0.0004665\ttotal: 3m 26s\tremaining: 14.7s\n",
      "2900:\tlearn: 0.0004539\ttotal: 3m 33s\tremaining: 7.28s\n",
      "2999:\tlearn: 0.0004420\ttotal: 3m 40s\tremaining: 0us\n"
     ]
    },
    {
     "name": "stderr",
     "output_type": "stream",
     "text": [
      "Warning: less than 75% gpu memory available for training. Free: 7395.75 Total: 15109.75\n"
     ]
    },
    {
     "name": "stdout",
     "output_type": "stream",
     "text": [
      "0:\tlearn: 0.4755341\ttotal: 189ms\tremaining: 9m 26s\n",
      "100:\tlearn: 0.0383089\ttotal: 9.49s\tremaining: 4m 32s\n",
      "200:\tlearn: 0.0140028\ttotal: 18.1s\tremaining: 4m 12s\n",
      "300:\tlearn: 0.0070686\ttotal: 26.5s\tremaining: 3m 58s\n",
      "400:\tlearn: 0.0048890\ttotal: 34.5s\tremaining: 3m 43s\n",
      "500:\tlearn: 0.0038292\ttotal: 42.1s\tremaining: 3m 29s\n",
      "600:\tlearn: 0.0032112\ttotal: 49.4s\tremaining: 3m 17s\n",
      "700:\tlearn: 0.0027600\ttotal: 56.7s\tremaining: 3m 6s\n",
      "800:\tlearn: 0.0024740\ttotal: 1m 3s\tremaining: 2m 55s\n",
      "900:\tlearn: 0.0022350\ttotal: 1m 10s\tremaining: 2m 45s\n",
      "1000:\tlearn: 0.0020527\ttotal: 1m 17s\tremaining: 2m 35s\n",
      "1100:\tlearn: 0.0019317\ttotal: 1m 24s\tremaining: 2m 26s\n",
      "1200:\tlearn: 0.0018149\ttotal: 1m 31s\tremaining: 2m 17s\n",
      "1300:\tlearn: 0.0017143\ttotal: 1m 38s\tremaining: 2m 9s\n",
      "1400:\tlearn: 0.0016264\ttotal: 1m 45s\tremaining: 2m\n",
      "1500:\tlearn: 0.0015493\ttotal: 1m 52s\tremaining: 1m 52s\n",
      "1600:\tlearn: 0.0014830\ttotal: 1m 59s\tremaining: 1m 44s\n",
      "1700:\tlearn: 0.0014125\ttotal: 2m 6s\tremaining: 1m 36s\n",
      "1800:\tlearn: 0.0013612\ttotal: 2m 13s\tremaining: 1m 28s\n",
      "1900:\tlearn: 0.0013060\ttotal: 2m 20s\tremaining: 1m 21s\n",
      "2000:\tlearn: 0.0012604\ttotal: 2m 27s\tremaining: 1m 13s\n",
      "2100:\tlearn: 0.0012142\ttotal: 2m 34s\tremaining: 1m 6s\n",
      "2200:\tlearn: 0.0011780\ttotal: 2m 41s\tremaining: 58.6s\n",
      "2300:\tlearn: 0.0011447\ttotal: 2m 48s\tremaining: 51.1s\n",
      "2400:\tlearn: 0.0011061\ttotal: 2m 55s\tremaining: 43.7s\n",
      "2500:\tlearn: 0.0010757\ttotal: 3m 2s\tremaining: 36.4s\n",
      "2600:\tlearn: 0.0010507\ttotal: 3m 9s\tremaining: 29s\n",
      "2700:\tlearn: 0.0010259\ttotal: 3m 15s\tremaining: 21.7s\n",
      "2800:\tlearn: 0.0010026\ttotal: 3m 22s\tremaining: 14.4s\n",
      "2900:\tlearn: 0.0009791\ttotal: 3m 29s\tremaining: 7.16s\n",
      "2999:\tlearn: 0.0009584\ttotal: 3m 36s\tremaining: 0us\n"
     ]
    },
    {
     "name": "stderr",
     "output_type": "stream",
     "text": [
      "Warning: less than 75% gpu memory available for training. Free: 7395.75 Total: 15109.75\n"
     ]
    },
    {
     "name": "stdout",
     "output_type": "stream",
     "text": [
      "0:\tlearn: 0.4800511\ttotal: 201ms\tremaining: 10m 2s\n",
      "100:\tlearn: 0.0371847\ttotal: 9.52s\tremaining: 4m 33s\n",
      "200:\tlearn: 0.0117915\ttotal: 18.3s\tremaining: 4m 14s\n",
      "300:\tlearn: 0.0053671\ttotal: 27s\tremaining: 4m 2s\n",
      "400:\tlearn: 0.0032552\ttotal: 35.3s\tremaining: 3m 49s\n",
      "500:\tlearn: 0.0022870\ttotal: 43.3s\tremaining: 3m 36s\n",
      "600:\tlearn: 0.0017747\ttotal: 51.1s\tremaining: 3m 24s\n",
      "700:\tlearn: 0.0014844\ttotal: 58.6s\tremaining: 3m 12s\n",
      "800:\tlearn: 0.0012746\ttotal: 1m 5s\tremaining: 3m\n",
      "900:\tlearn: 0.0011100\ttotal: 1m 13s\tremaining: 2m 50s\n",
      "1000:\tlearn: 0.0009699\ttotal: 1m 20s\tremaining: 2m 40s\n",
      "1100:\tlearn: 0.0008628\ttotal: 1m 27s\tremaining: 2m 31s\n",
      "1200:\tlearn: 0.0007921\ttotal: 1m 34s\tremaining: 2m 22s\n",
      "1300:\tlearn: 0.0007224\ttotal: 1m 42s\tremaining: 2m 13s\n",
      "1400:\tlearn: 0.0006694\ttotal: 1m 49s\tremaining: 2m 4s\n",
      "1500:\tlearn: 0.0006212\ttotal: 1m 56s\tremaining: 1m 56s\n",
      "1600:\tlearn: 0.0005786\ttotal: 2m 3s\tremaining: 1m 47s\n",
      "1700:\tlearn: 0.0005380\ttotal: 2m 10s\tremaining: 1m 39s\n",
      "1800:\tlearn: 0.0005055\ttotal: 2m 17s\tremaining: 1m 31s\n",
      "1900:\tlearn: 0.0004747\ttotal: 2m 24s\tremaining: 1m 23s\n",
      "2000:\tlearn: 0.0004511\ttotal: 2m 31s\tremaining: 1m 15s\n",
      "2100:\tlearn: 0.0004252\ttotal: 2m 38s\tremaining: 1m 8s\n",
      "2200:\tlearn: 0.0004065\ttotal: 2m 45s\tremaining: 1m\n",
      "2300:\tlearn: 0.0003873\ttotal: 2m 52s\tremaining: 52.5s\n",
      "2400:\tlearn: 0.0003705\ttotal: 2m 59s\tremaining: 44.9s\n",
      "2500:\tlearn: 0.0003575\ttotal: 3m 6s\tremaining: 37.3s\n",
      "2600:\tlearn: 0.0003431\ttotal: 3m 13s\tremaining: 29.7s\n",
      "2700:\tlearn: 0.0003297\ttotal: 3m 20s\tremaining: 22.2s\n",
      "2800:\tlearn: 0.0003174\ttotal: 3m 27s\tremaining: 14.8s\n",
      "2900:\tlearn: 0.0003065\ttotal: 3m 34s\tremaining: 7.33s\n",
      "2999:\tlearn: 0.0002972\ttotal: 3m 41s\tremaining: 0us\n"
     ]
    },
    {
     "name": "stderr",
     "output_type": "stream",
     "text": [
      "Warning: less than 75% gpu memory available for training. Free: 7395.75 Total: 15109.75\n"
     ]
    },
    {
     "name": "stdout",
     "output_type": "stream",
     "text": [
      "0:\tlearn: 0.6253760\ttotal: 33.5ms\tremaining: 1m 40s\n",
      "100:\tlearn: 0.2390777\ttotal: 1.9s\tremaining: 54.6s\n",
      "200:\tlearn: 0.2037078\ttotal: 3.55s\tremaining: 49.5s\n",
      "300:\tlearn: 0.1783377\ttotal: 5.22s\tremaining: 46.8s\n",
      "400:\tlearn: 0.1584251\ttotal: 6.86s\tremaining: 44.4s\n",
      "500:\tlearn: 0.1411021\ttotal: 8.51s\tremaining: 42.4s\n",
      "600:\tlearn: 0.1261479\ttotal: 10.2s\tremaining: 40.6s\n",
      "700:\tlearn: 0.1137513\ttotal: 11.9s\tremaining: 38.9s\n",
      "800:\tlearn: 0.1028581\ttotal: 13.5s\tremaining: 37.2s\n",
      "900:\tlearn: 0.0932212\ttotal: 15.2s\tremaining: 35.5s\n",
      "1000:\tlearn: 0.0846826\ttotal: 16.9s\tremaining: 33.8s\n",
      "1100:\tlearn: 0.0772704\ttotal: 18.6s\tremaining: 32s\n",
      "1200:\tlearn: 0.0704519\ttotal: 20.2s\tremaining: 30.3s\n",
      "1300:\tlearn: 0.0645789\ttotal: 21.9s\tremaining: 28.6s\n",
      "1400:\tlearn: 0.0593125\ttotal: 23.6s\tremaining: 26.9s\n",
      "1500:\tlearn: 0.0546535\ttotal: 25.3s\tremaining: 25.3s\n",
      "1600:\tlearn: 0.0505597\ttotal: 26.9s\tremaining: 23.5s\n",
      "1700:\tlearn: 0.0466225\ttotal: 28.6s\tremaining: 21.9s\n",
      "1800:\tlearn: 0.0431487\ttotal: 30.3s\tremaining: 20.2s\n",
      "1900:\tlearn: 0.0399522\ttotal: 31.9s\tremaining: 18.5s\n",
      "2000:\tlearn: 0.0369834\ttotal: 33.6s\tremaining: 16.8s\n",
      "2100:\tlearn: 0.0342136\ttotal: 35.3s\tremaining: 15.1s\n",
      "2200:\tlearn: 0.0317125\ttotal: 37s\tremaining: 13.4s\n",
      "2300:\tlearn: 0.0295189\ttotal: 38.7s\tremaining: 11.7s\n",
      "2400:\tlearn: 0.0274910\ttotal: 40.3s\tremaining: 10.1s\n",
      "2500:\tlearn: 0.0255572\ttotal: 42s\tremaining: 8.38s\n",
      "2600:\tlearn: 0.0238070\ttotal: 43.6s\tremaining: 6.7s\n",
      "2700:\tlearn: 0.0221939\ttotal: 45.3s\tremaining: 5.01s\n",
      "2800:\tlearn: 0.0208145\ttotal: 47s\tremaining: 3.34s\n",
      "2900:\tlearn: 0.0193980\ttotal: 48.7s\tremaining: 1.66s\n",
      "2999:\tlearn: 0.0181181\ttotal: 50.3s\tremaining: 0us\n"
     ]
    },
    {
     "name": "stderr",
     "output_type": "stream",
     "text": [
      "Warning: less than 75% gpu memory available for training. Free: 7395.75 Total: 15109.75\n"
     ]
    },
    {
     "name": "stdout",
     "output_type": "stream",
     "text": [
      "0:\tlearn: 0.6237087\ttotal: 32.9ms\tremaining: 1m 38s\n",
      "100:\tlearn: 0.2383012\ttotal: 1.86s\tremaining: 53.4s\n",
      "200:\tlearn: 0.2029160\ttotal: 3.5s\tremaining: 48.8s\n",
      "300:\tlearn: 0.1770079\ttotal: 5.16s\tremaining: 46.3s\n",
      "400:\tlearn: 0.1572439\ttotal: 6.81s\tremaining: 44.1s\n",
      "500:\tlearn: 0.1407147\ttotal: 8.46s\tremaining: 42.2s\n",
      "600:\tlearn: 0.1260890\ttotal: 10.2s\tremaining: 40.5s\n",
      "700:\tlearn: 0.1137730\ttotal: 11.8s\tremaining: 38.8s\n",
      "800:\tlearn: 0.1028894\ttotal: 13.5s\tremaining: 37s\n",
      "900:\tlearn: 0.0932676\ttotal: 15.2s\tremaining: 35.3s\n",
      "1000:\tlearn: 0.0850654\ttotal: 16.8s\tremaining: 33.6s\n",
      "1100:\tlearn: 0.0775723\ttotal: 18.5s\tremaining: 32s\n",
      "1200:\tlearn: 0.0706626\ttotal: 20.2s\tremaining: 30.3s\n",
      "1300:\tlearn: 0.0646510\ttotal: 21.9s\tremaining: 28.6s\n",
      "1400:\tlearn: 0.0593969\ttotal: 23.6s\tremaining: 26.9s\n",
      "1500:\tlearn: 0.0548452\ttotal: 25.2s\tremaining: 25.2s\n",
      "1600:\tlearn: 0.0504771\ttotal: 26.9s\tremaining: 23.5s\n",
      "1700:\tlearn: 0.0466550\ttotal: 28.6s\tremaining: 21.8s\n",
      "1800:\tlearn: 0.0431682\ttotal: 30.2s\tremaining: 20.1s\n",
      "1900:\tlearn: 0.0399836\ttotal: 31.9s\tremaining: 18.4s\n",
      "2000:\tlearn: 0.0371258\ttotal: 33.6s\tremaining: 16.8s\n",
      "2100:\tlearn: 0.0344647\ttotal: 35.2s\tremaining: 15.1s\n",
      "2200:\tlearn: 0.0320768\ttotal: 36.9s\tremaining: 13.4s\n",
      "2300:\tlearn: 0.0299398\ttotal: 38.5s\tremaining: 11.7s\n",
      "2400:\tlearn: 0.0277800\ttotal: 40.3s\tremaining: 10s\n",
      "2500:\tlearn: 0.0259157\ttotal: 41.9s\tremaining: 8.36s\n",
      "2600:\tlearn: 0.0240996\ttotal: 43.6s\tremaining: 6.68s\n",
      "2700:\tlearn: 0.0225003\ttotal: 45.2s\tremaining: 5.01s\n",
      "2800:\tlearn: 0.0210197\ttotal: 46.9s\tremaining: 3.33s\n",
      "2900:\tlearn: 0.0196796\ttotal: 48.6s\tremaining: 1.66s\n",
      "2999:\tlearn: 0.0184879\ttotal: 50.2s\tremaining: 0us\n"
     ]
    },
    {
     "name": "stderr",
     "output_type": "stream",
     "text": [
      "Warning: less than 75% gpu memory available for training. Free: 7395.75 Total: 15109.75\n"
     ]
    },
    {
     "name": "stdout",
     "output_type": "stream",
     "text": [
      "0:\tlearn: 0.6257586\ttotal: 34.1ms\tremaining: 1m 42s\n",
      "100:\tlearn: 0.2391362\ttotal: 1.9s\tremaining: 54.6s\n",
      "200:\tlearn: 0.2024205\ttotal: 3.54s\tremaining: 49.2s\n",
      "300:\tlearn: 0.1767800\ttotal: 5.17s\tremaining: 46.4s\n",
      "400:\tlearn: 0.1562094\ttotal: 6.83s\tremaining: 44.3s\n",
      "500:\tlearn: 0.1397232\ttotal: 8.45s\tremaining: 42.2s\n",
      "600:\tlearn: 0.1249093\ttotal: 10.1s\tremaining: 40.4s\n",
      "700:\tlearn: 0.1126885\ttotal: 11.8s\tremaining: 38.8s\n",
      "800:\tlearn: 0.1017860\ttotal: 13.5s\tremaining: 37s\n",
      "900:\tlearn: 0.0924699\ttotal: 15.2s\tremaining: 35.3s\n",
      "1000:\tlearn: 0.0840916\ttotal: 16.8s\tremaining: 33.6s\n",
      "1100:\tlearn: 0.0763496\ttotal: 18.5s\tremaining: 32s\n",
      "1200:\tlearn: 0.0697956\ttotal: 20.2s\tremaining: 30.2s\n",
      "1300:\tlearn: 0.0639052\ttotal: 21.8s\tremaining: 28.5s\n",
      "1400:\tlearn: 0.0585056\ttotal: 23.5s\tremaining: 26.9s\n",
      "1500:\tlearn: 0.0537392\ttotal: 25.2s\tremaining: 25.2s\n",
      "1600:\tlearn: 0.0493784\ttotal: 26.9s\tremaining: 23.5s\n",
      "1700:\tlearn: 0.0455469\ttotal: 28.6s\tremaining: 21.8s\n",
      "1800:\tlearn: 0.0422224\ttotal: 30.2s\tremaining: 20.1s\n",
      "1900:\tlearn: 0.0390109\ttotal: 31.9s\tremaining: 18.4s\n",
      "2000:\tlearn: 0.0361980\ttotal: 33.6s\tremaining: 16.8s\n",
      "2100:\tlearn: 0.0335225\ttotal: 35.3s\tremaining: 15.1s\n",
      "2200:\tlearn: 0.0311002\ttotal: 36.9s\tremaining: 13.4s\n",
      "2300:\tlearn: 0.0288902\ttotal: 38.6s\tremaining: 11.7s\n",
      "2400:\tlearn: 0.0268892\ttotal: 40.3s\tremaining: 10s\n",
      "2500:\tlearn: 0.0250250\ttotal: 41.9s\tremaining: 8.37s\n",
      "2600:\tlearn: 0.0232674\ttotal: 43.6s\tremaining: 6.69s\n",
      "2700:\tlearn: 0.0216369\ttotal: 45.3s\tremaining: 5.01s\n",
      "2800:\tlearn: 0.0202492\ttotal: 47s\tremaining: 3.34s\n",
      "2900:\tlearn: 0.0189190\ttotal: 48.6s\tremaining: 1.66s\n",
      "2999:\tlearn: 0.0177017\ttotal: 50.3s\tremaining: 0us\n"
     ]
    },
    {
     "name": "stderr",
     "output_type": "stream",
     "text": [
      "Warning: less than 75% gpu memory available for training. Free: 7395.75 Total: 15109.75\n"
     ]
    },
    {
     "name": "stdout",
     "output_type": "stream",
     "text": [
      "0:\tlearn: 0.6167377\ttotal: 75.6ms\tremaining: 3m 46s\n",
      "100:\tlearn: 0.1900492\ttotal: 3.77s\tremaining: 1m 48s\n",
      "200:\tlearn: 0.1382902\ttotal: 7.28s\tremaining: 1m 41s\n",
      "300:\tlearn: 0.1037097\ttotal: 10.8s\tremaining: 1m 36s\n",
      "400:\tlearn: 0.0795316\ttotal: 14.3s\tremaining: 1m 32s\n",
      "500:\tlearn: 0.0623199\ttotal: 17.9s\tremaining: 1m 29s\n",
      "600:\tlearn: 0.0498345\ttotal: 21.3s\tremaining: 1m 25s\n",
      "700:\tlearn: 0.0402052\ttotal: 24.8s\tremaining: 1m 21s\n",
      "800:\tlearn: 0.0329591\ttotal: 28.3s\tremaining: 1m 17s\n",
      "900:\tlearn: 0.0274523\ttotal: 31.7s\tremaining: 1m 13s\n",
      "1000:\tlearn: 0.0230983\ttotal: 35.2s\tremaining: 1m 10s\n",
      "1100:\tlearn: 0.0194183\ttotal: 38.7s\tremaining: 1m 6s\n",
      "1200:\tlearn: 0.0165621\ttotal: 42.1s\tremaining: 1m 2s\n",
      "1300:\tlearn: 0.0140443\ttotal: 45.5s\tremaining: 59.4s\n",
      "1400:\tlearn: 0.0118749\ttotal: 49s\tremaining: 55.9s\n",
      "1500:\tlearn: 0.0102260\ttotal: 52.4s\tremaining: 52.3s\n",
      "1600:\tlearn: 0.0088623\ttotal: 55.8s\tremaining: 48.7s\n",
      "1700:\tlearn: 0.0077948\ttotal: 59.1s\tremaining: 45.1s\n",
      "1800:\tlearn: 0.0068975\ttotal: 1m 2s\tremaining: 41.6s\n",
      "1900:\tlearn: 0.0061721\ttotal: 1m 5s\tremaining: 38s\n",
      "2000:\tlearn: 0.0055626\ttotal: 1m 8s\tremaining: 34.4s\n",
      "2100:\tlearn: 0.0050332\ttotal: 1m 12s\tremaining: 30.9s\n",
      "2200:\tlearn: 0.0045666\ttotal: 1m 15s\tremaining: 27.4s\n",
      "2300:\tlearn: 0.0042347\ttotal: 1m 18s\tremaining: 23.9s\n",
      "2400:\tlearn: 0.0039233\ttotal: 1m 21s\tremaining: 20.4s\n",
      "2500:\tlearn: 0.0036574\ttotal: 1m 24s\tremaining: 16.9s\n",
      "2600:\tlearn: 0.0034422\ttotal: 1m 27s\tremaining: 13.5s\n",
      "2700:\tlearn: 0.0032565\ttotal: 1m 30s\tremaining: 10.1s\n",
      "2800:\tlearn: 0.0031000\ttotal: 1m 33s\tremaining: 6.67s\n",
      "2900:\tlearn: 0.0029588\ttotal: 1m 36s\tremaining: 3.31s\n",
      "2999:\tlearn: 0.0028132\ttotal: 1m 39s\tremaining: 0us\n"
     ]
    },
    {
     "name": "stderr",
     "output_type": "stream",
     "text": [
      "Warning: less than 75% gpu memory available for training. Free: 7395.75 Total: 15109.75\n"
     ]
    },
    {
     "name": "stdout",
     "output_type": "stream",
     "text": [
      "0:\tlearn: 0.6147326\ttotal: 82.3ms\tremaining: 4m 6s\n",
      "100:\tlearn: 0.1909172\ttotal: 3.79s\tremaining: 1m 48s\n",
      "200:\tlearn: 0.1379530\ttotal: 7.27s\tremaining: 1m 41s\n",
      "300:\tlearn: 0.1030990\ttotal: 10.8s\tremaining: 1m 37s\n",
      "400:\tlearn: 0.0786752\ttotal: 14.4s\tremaining: 1m 33s\n",
      "500:\tlearn: 0.0616074\ttotal: 17.9s\tremaining: 1m 29s\n",
      "600:\tlearn: 0.0496195\ttotal: 21.4s\tremaining: 1m 25s\n",
      "700:\tlearn: 0.0406320\ttotal: 24.8s\tremaining: 1m 21s\n",
      "800:\tlearn: 0.0333797\ttotal: 28.3s\tremaining: 1m 17s\n",
      "900:\tlearn: 0.0280038\ttotal: 31.7s\tremaining: 1m 13s\n",
      "1000:\tlearn: 0.0235802\ttotal: 35.2s\tremaining: 1m 10s\n",
      "1100:\tlearn: 0.0200212\ttotal: 38.6s\tremaining: 1m 6s\n",
      "1200:\tlearn: 0.0169303\ttotal: 42s\tremaining: 1m 2s\n",
      "1300:\tlearn: 0.0144524\ttotal: 45.4s\tremaining: 59.3s\n",
      "1400:\tlearn: 0.0124249\ttotal: 48.8s\tremaining: 55.7s\n",
      "1500:\tlearn: 0.0109483\ttotal: 52.1s\tremaining: 52.1s\n",
      "1600:\tlearn: 0.0097937\ttotal: 55.4s\tremaining: 48.4s\n",
      "1700:\tlearn: 0.0087786\ttotal: 58.6s\tremaining: 44.8s\n",
      "1800:\tlearn: 0.0079678\ttotal: 1m 1s\tremaining: 41.2s\n",
      "1900:\tlearn: 0.0073026\ttotal: 1m 4s\tremaining: 37.6s\n",
      "2000:\tlearn: 0.0067362\ttotal: 1m 8s\tremaining: 34s\n",
      "2100:\tlearn: 0.0063033\ttotal: 1m 11s\tremaining: 30.4s\n",
      "2200:\tlearn: 0.0059097\ttotal: 1m 14s\tremaining: 26.9s\n",
      "2300:\tlearn: 0.0055667\ttotal: 1m 17s\tremaining: 23.5s\n",
      "2400:\tlearn: 0.0052202\ttotal: 1m 20s\tremaining: 20s\n",
      "2500:\tlearn: 0.0049450\ttotal: 1m 23s\tremaining: 16.6s\n",
      "2600:\tlearn: 0.0047218\ttotal: 1m 26s\tremaining: 13.2s\n",
      "2700:\tlearn: 0.0044820\ttotal: 1m 29s\tremaining: 9.87s\n",
      "2800:\tlearn: 0.0042908\ttotal: 1m 32s\tremaining: 6.54s\n",
      "2900:\tlearn: 0.0041430\ttotal: 1m 34s\tremaining: 3.24s\n",
      "2999:\tlearn: 0.0039946\ttotal: 1m 37s\tremaining: 0us\n"
     ]
    },
    {
     "name": "stderr",
     "output_type": "stream",
     "text": [
      "Warning: less than 75% gpu memory available for training. Free: 7395.75 Total: 15109.75\n"
     ]
    },
    {
     "name": "stdout",
     "output_type": "stream",
     "text": [
      "0:\tlearn: 0.6175371\ttotal: 75.3ms\tremaining: 3m 45s\n",
      "100:\tlearn: 0.1893667\ttotal: 3.82s\tremaining: 1m 49s\n",
      "200:\tlearn: 0.1375502\ttotal: 7.31s\tremaining: 1m 41s\n",
      "300:\tlearn: 0.1025378\ttotal: 10.9s\tremaining: 1m 37s\n",
      "400:\tlearn: 0.0779092\ttotal: 14.5s\tremaining: 1m 33s\n",
      "500:\tlearn: 0.0616344\ttotal: 18s\tremaining: 1m 29s\n",
      "600:\tlearn: 0.0491214\ttotal: 21.5s\tremaining: 1m 25s\n",
      "700:\tlearn: 0.0396168\ttotal: 25s\tremaining: 1m 22s\n",
      "800:\tlearn: 0.0326709\ttotal: 28.5s\tremaining: 1m 18s\n",
      "900:\tlearn: 0.0273094\ttotal: 31.9s\tremaining: 1m 14s\n",
      "1000:\tlearn: 0.0227687\ttotal: 35.4s\tremaining: 1m 10s\n",
      "1100:\tlearn: 0.0191230\ttotal: 38.8s\tremaining: 1m 6s\n",
      "1200:\tlearn: 0.0161949\ttotal: 42.2s\tremaining: 1m 3s\n",
      "1300:\tlearn: 0.0138146\ttotal: 45.7s\tremaining: 59.6s\n",
      "1400:\tlearn: 0.0117460\ttotal: 49.1s\tremaining: 56s\n",
      "1500:\tlearn: 0.0101226\ttotal: 52.5s\tremaining: 52.4s\n",
      "1600:\tlearn: 0.0087564\ttotal: 55.9s\tremaining: 48.8s\n",
      "1700:\tlearn: 0.0076459\ttotal: 59.2s\tremaining: 45.2s\n",
      "1800:\tlearn: 0.0067146\ttotal: 1m 2s\tremaining: 41.7s\n",
      "1900:\tlearn: 0.0059768\ttotal: 1m 5s\tremaining: 38.1s\n",
      "2000:\tlearn: 0.0053662\ttotal: 1m 9s\tremaining: 34.5s\n",
      "2100:\tlearn: 0.0048603\ttotal: 1m 12s\tremaining: 31s\n",
      "2200:\tlearn: 0.0044839\ttotal: 1m 15s\tremaining: 27.5s\n",
      "2300:\tlearn: 0.0041037\ttotal: 1m 18s\tremaining: 23.9s\n",
      "2400:\tlearn: 0.0037631\ttotal: 1m 21s\tremaining: 20.4s\n",
      "2500:\tlearn: 0.0035019\ttotal: 1m 25s\tremaining: 17s\n",
      "2600:\tlearn: 0.0032730\ttotal: 1m 28s\tremaining: 13.5s\n",
      "2700:\tlearn: 0.0030847\ttotal: 1m 31s\tremaining: 10.1s\n",
      "2800:\tlearn: 0.0029059\ttotal: 1m 34s\tremaining: 6.7s\n",
      "2900:\tlearn: 0.0027573\ttotal: 1m 37s\tremaining: 3.32s\n",
      "2999:\tlearn: 0.0026030\ttotal: 1m 40s\tremaining: 0us\n"
     ]
    },
    {
     "name": "stderr",
     "output_type": "stream",
     "text": [
      "Warning: less than 75% gpu memory available for training. Free: 7395.75 Total: 15109.75\n"
     ]
    },
    {
     "name": "stdout",
     "output_type": "stream",
     "text": [
      "0:\tlearn: 0.6053624\ttotal: 216ms\tremaining: 10m 46s\n",
      "100:\tlearn: 0.1037083\ttotal: 10.2s\tremaining: 4m 52s\n",
      "200:\tlearn: 0.0528132\ttotal: 19.7s\tremaining: 4m 34s\n",
      "300:\tlearn: 0.0318230\ttotal: 29s\tremaining: 4m 19s\n",
      "400:\tlearn: 0.0205059\ttotal: 38.1s\tremaining: 4m 6s\n",
      "500:\tlearn: 0.0137097\ttotal: 47.2s\tremaining: 3m 55s\n",
      "600:\tlearn: 0.0094135\ttotal: 56.4s\tremaining: 3m 45s\n",
      "700:\tlearn: 0.0070161\ttotal: 1m 5s\tremaining: 3m 33s\n",
      "800:\tlearn: 0.0055723\ttotal: 1m 13s\tremaining: 3m 22s\n",
      "900:\tlearn: 0.0046091\ttotal: 1m 22s\tremaining: 3m 11s\n",
      "1000:\tlearn: 0.0038949\ttotal: 1m 30s\tremaining: 3m\n",
      "1100:\tlearn: 0.0034386\ttotal: 1m 38s\tremaining: 2m 49s\n",
      "1200:\tlearn: 0.0030841\ttotal: 1m 46s\tremaining: 2m 38s\n",
      "1300:\tlearn: 0.0027857\ttotal: 1m 53s\tremaining: 2m 28s\n",
      "1400:\tlearn: 0.0025317\ttotal: 2m 1s\tremaining: 2m 18s\n",
      "1500:\tlearn: 0.0023487\ttotal: 2m 9s\tremaining: 2m 8s\n",
      "1600:\tlearn: 0.0021751\ttotal: 2m 16s\tremaining: 1m 59s\n",
      "1700:\tlearn: 0.0020024\ttotal: 2m 24s\tremaining: 1m 50s\n",
      "1800:\tlearn: 0.0018748\ttotal: 2m 32s\tremaining: 1m 41s\n",
      "1900:\tlearn: 0.0017672\ttotal: 2m 39s\tremaining: 1m 32s\n",
      "2000:\tlearn: 0.0016700\ttotal: 2m 47s\tremaining: 1m 23s\n",
      "2100:\tlearn: 0.0015829\ttotal: 2m 54s\tremaining: 1m 14s\n",
      "2200:\tlearn: 0.0014959\ttotal: 3m 2s\tremaining: 1m 6s\n",
      "2300:\tlearn: 0.0014340\ttotal: 3m 9s\tremaining: 57.5s\n",
      "2400:\tlearn: 0.0013660\ttotal: 3m 16s\tremaining: 49.1s\n",
      "2500:\tlearn: 0.0013142\ttotal: 3m 23s\tremaining: 40.7s\n",
      "2600:\tlearn: 0.0012735\ttotal: 3m 31s\tremaining: 32.4s\n",
      "2700:\tlearn: 0.0012286\ttotal: 3m 38s\tremaining: 24.2s\n",
      "2800:\tlearn: 0.0011918\ttotal: 3m 45s\tremaining: 16s\n",
      "2900:\tlearn: 0.0011573\ttotal: 3m 52s\tremaining: 7.94s\n",
      "2999:\tlearn: 0.0011204\ttotal: 3m 59s\tremaining: 0us\n"
     ]
    },
    {
     "name": "stderr",
     "output_type": "stream",
     "text": [
      "Warning: less than 75% gpu memory available for training. Free: 7395.75 Total: 15109.75\n"
     ]
    },
    {
     "name": "stdout",
     "output_type": "stream",
     "text": [
      "0:\tlearn: 0.6020396\ttotal: 228ms\tremaining: 11m 24s\n",
      "100:\tlearn: 0.1071316\ttotal: 10.1s\tremaining: 4m 50s\n",
      "200:\tlearn: 0.0541977\ttotal: 19.6s\tremaining: 4m 33s\n",
      "300:\tlearn: 0.0326484\ttotal: 28.8s\tremaining: 4m 18s\n",
      "400:\tlearn: 0.0212556\ttotal: 37.9s\tremaining: 4m 5s\n",
      "500:\tlearn: 0.0145384\ttotal: 46.9s\tremaining: 3m 54s\n",
      "600:\tlearn: 0.0108024\ttotal: 55.7s\tremaining: 3m 42s\n",
      "700:\tlearn: 0.0082519\ttotal: 1m 4s\tremaining: 3m 30s\n",
      "800:\tlearn: 0.0068214\ttotal: 1m 12s\tremaining: 3m 19s\n",
      "900:\tlearn: 0.0058436\ttotal: 1m 20s\tremaining: 3m 7s\n",
      "1000:\tlearn: 0.0051451\ttotal: 1m 28s\tremaining: 2m 56s\n",
      "1100:\tlearn: 0.0047191\ttotal: 1m 35s\tremaining: 2m 45s\n",
      "1200:\tlearn: 0.0042691\ttotal: 1m 43s\tremaining: 2m 34s\n",
      "1300:\tlearn: 0.0039874\ttotal: 1m 50s\tremaining: 2m 24s\n",
      "1400:\tlearn: 0.0037167\ttotal: 1m 58s\tremaining: 2m 14s\n",
      "1500:\tlearn: 0.0034995\ttotal: 2m 5s\tremaining: 2m 5s\n",
      "1600:\tlearn: 0.0033225\ttotal: 2m 12s\tremaining: 1m 56s\n",
      "1700:\tlearn: 0.0031321\ttotal: 2m 20s\tremaining: 1m 47s\n",
      "1800:\tlearn: 0.0029968\ttotal: 2m 27s\tremaining: 1m 38s\n",
      "1900:\tlearn: 0.0028762\ttotal: 2m 34s\tremaining: 1m 29s\n",
      "2000:\tlearn: 0.0027656\ttotal: 2m 41s\tremaining: 1m 20s\n",
      "2100:\tlearn: 0.0026603\ttotal: 2m 49s\tremaining: 1m 12s\n",
      "2200:\tlearn: 0.0025650\ttotal: 2m 56s\tremaining: 1m 3s\n",
      "2300:\tlearn: 0.0024696\ttotal: 3m 3s\tremaining: 55.7s\n",
      "2400:\tlearn: 0.0023818\ttotal: 3m 10s\tremaining: 47.5s\n",
      "2500:\tlearn: 0.0023085\ttotal: 3m 17s\tremaining: 39.4s\n",
      "2600:\tlearn: 0.0022512\ttotal: 3m 24s\tremaining: 31.4s\n",
      "2700:\tlearn: 0.0021843\ttotal: 3m 31s\tremaining: 23.4s\n",
      "2800:\tlearn: 0.0021249\ttotal: 3m 38s\tremaining: 15.5s\n",
      "2900:\tlearn: 0.0020754\ttotal: 3m 45s\tremaining: 7.7s\n",
      "2999:\tlearn: 0.0020247\ttotal: 3m 52s\tremaining: 0us\n"
     ]
    },
    {
     "name": "stderr",
     "output_type": "stream",
     "text": [
      "Warning: less than 75% gpu memory available for training. Free: 7395.75 Total: 15109.75\n"
     ]
    },
    {
     "name": "stdout",
     "output_type": "stream",
     "text": [
      "0:\tlearn: 0.6051031\ttotal: 201ms\tremaining: 10m 1s\n",
      "100:\tlearn: 0.1038957\ttotal: 10.1s\tremaining: 4m 50s\n",
      "200:\tlearn: 0.0531905\ttotal: 19.6s\tremaining: 4m 33s\n",
      "300:\tlearn: 0.0318329\ttotal: 28.9s\tremaining: 4m 18s\n",
      "400:\tlearn: 0.0209868\ttotal: 38s\tremaining: 4m 6s\n",
      "500:\tlearn: 0.0137746\ttotal: 47.2s\tremaining: 3m 55s\n",
      "600:\tlearn: 0.0095981\ttotal: 56.2s\tremaining: 3m 44s\n",
      "700:\tlearn: 0.0070523\ttotal: 1m 5s\tremaining: 3m 33s\n",
      "800:\tlearn: 0.0055682\ttotal: 1m 13s\tremaining: 3m 22s\n",
      "900:\tlearn: 0.0045329\ttotal: 1m 21s\tremaining: 3m 10s\n",
      "1000:\tlearn: 0.0038228\ttotal: 1m 30s\tremaining: 3m\n",
      "1100:\tlearn: 0.0032796\ttotal: 1m 38s\tremaining: 2m 49s\n",
      "1200:\tlearn: 0.0028941\ttotal: 1m 46s\tremaining: 2m 39s\n",
      "1300:\tlearn: 0.0025877\ttotal: 1m 54s\tremaining: 2m 28s\n",
      "1400:\tlearn: 0.0023212\ttotal: 2m 2s\tremaining: 2m 19s\n",
      "1500:\tlearn: 0.0021249\ttotal: 2m 9s\tremaining: 2m 9s\n",
      "1600:\tlearn: 0.0019649\ttotal: 2m 17s\tremaining: 2m\n",
      "1700:\tlearn: 0.0018018\ttotal: 2m 25s\tremaining: 1m 50s\n",
      "1800:\tlearn: 0.0016795\ttotal: 2m 32s\tremaining: 1m 41s\n",
      "1900:\tlearn: 0.0015592\ttotal: 2m 40s\tremaining: 1m 32s\n",
      "2000:\tlearn: 0.0014598\ttotal: 2m 47s\tremaining: 1m 23s\n",
      "2100:\tlearn: 0.0013688\ttotal: 2m 55s\tremaining: 1m 14s\n",
      "2200:\tlearn: 0.0012977\ttotal: 3m 2s\tremaining: 1m 6s\n",
      "2300:\tlearn: 0.0012268\ttotal: 3m 10s\tremaining: 57.7s\n",
      "2400:\tlearn: 0.0011682\ttotal: 3m 17s\tremaining: 49.2s\n",
      "2500:\tlearn: 0.0011145\ttotal: 3m 24s\tremaining: 40.9s\n",
      "2600:\tlearn: 0.0010593\ttotal: 3m 32s\tremaining: 32.5s\n",
      "2700:\tlearn: 0.0010172\ttotal: 3m 39s\tremaining: 24.3s\n",
      "2800:\tlearn: 0.0009741\ttotal: 3m 46s\tremaining: 16.1s\n",
      "2900:\tlearn: 0.0009368\ttotal: 3m 53s\tremaining: 7.98s\n",
      "2999:\tlearn: 0.0009032\ttotal: 4m\tremaining: 0us\n"
     ]
    },
    {
     "name": "stderr",
     "output_type": "stream",
     "text": [
      "Warning: less than 75% gpu memory available for training. Free: 7395.75 Total: 15109.75\n"
     ]
    },
    {
     "name": "stdout",
     "output_type": "stream",
     "text": [
      "0:\tlearn: 0.6578175\ttotal: 33.2ms\tremaining: 1m 39s\n",
      "100:\tlearn: 0.2701996\ttotal: 1.95s\tremaining: 55.9s\n",
      "200:\tlearn: 0.2381224\ttotal: 3.63s\tremaining: 50.6s\n",
      "300:\tlearn: 0.2177546\ttotal: 5.28s\tremaining: 47.4s\n",
      "400:\tlearn: 0.2015909\ttotal: 6.91s\tremaining: 44.8s\n",
      "500:\tlearn: 0.1882053\ttotal: 8.58s\tremaining: 42.8s\n",
      "600:\tlearn: 0.1762095\ttotal: 10.2s\tremaining: 40.8s\n",
      "700:\tlearn: 0.1658309\ttotal: 11.9s\tremaining: 38.9s\n",
      "800:\tlearn: 0.1561535\ttotal: 13.5s\tremaining: 37.2s\n",
      "900:\tlearn: 0.1471782\ttotal: 15.2s\tremaining: 35.4s\n",
      "1000:\tlearn: 0.1389006\ttotal: 16.9s\tremaining: 33.7s\n",
      "1100:\tlearn: 0.1314200\ttotal: 18.5s\tremaining: 32s\n",
      "1200:\tlearn: 0.1246154\ttotal: 20.2s\tremaining: 30.3s\n",
      "1300:\tlearn: 0.1180215\ttotal: 21.9s\tremaining: 28.6s\n",
      "1400:\tlearn: 0.1118916\ttotal: 23.6s\tremaining: 27s\n",
      "1500:\tlearn: 0.1063033\ttotal: 25.3s\tremaining: 25.3s\n",
      "1600:\tlearn: 0.1011567\ttotal: 27s\tremaining: 23.6s\n",
      "1700:\tlearn: 0.0960802\ttotal: 28.7s\tremaining: 22s\n",
      "1800:\tlearn: 0.0913369\ttotal: 30.5s\tremaining: 20.3s\n",
      "1900:\tlearn: 0.0869716\ttotal: 32.2s\tremaining: 18.6s\n",
      "2000:\tlearn: 0.0829305\ttotal: 33.9s\tremaining: 16.9s\n",
      "2100:\tlearn: 0.0791364\ttotal: 35.5s\tremaining: 15.2s\n",
      "2200:\tlearn: 0.0754314\ttotal: 37.2s\tremaining: 13.5s\n",
      "2300:\tlearn: 0.0720396\ttotal: 38.9s\tremaining: 11.8s\n",
      "2400:\tlearn: 0.0688911\ttotal: 40.6s\tremaining: 10.1s\n",
      "2500:\tlearn: 0.0658693\ttotal: 42.3s\tremaining: 8.44s\n",
      "2600:\tlearn: 0.0629549\ttotal: 44s\tremaining: 6.74s\n",
      "2700:\tlearn: 0.0602881\ttotal: 45.6s\tremaining: 5.05s\n",
      "2800:\tlearn: 0.0577772\ttotal: 47.3s\tremaining: 3.36s\n",
      "2900:\tlearn: 0.0553828\ttotal: 49s\tremaining: 1.67s\n",
      "2999:\tlearn: 0.0531628\ttotal: 50.6s\tremaining: 0us\n"
     ]
    },
    {
     "name": "stderr",
     "output_type": "stream",
     "text": [
      "Warning: less than 75% gpu memory available for training. Free: 7395.75 Total: 15109.75\n"
     ]
    },
    {
     "name": "stdout",
     "output_type": "stream",
     "text": [
      "0:\tlearn: 0.6568979\ttotal: 34.6ms\tremaining: 1m 43s\n",
      "100:\tlearn: 0.2698415\ttotal: 1.94s\tremaining: 55.7s\n",
      "200:\tlearn: 0.2381860\ttotal: 3.61s\tremaining: 50.3s\n",
      "300:\tlearn: 0.2174170\ttotal: 5.25s\tremaining: 47.1s\n",
      "400:\tlearn: 0.2020696\ttotal: 6.86s\tremaining: 44.5s\n",
      "500:\tlearn: 0.1883899\ttotal: 8.49s\tremaining: 42.3s\n",
      "600:\tlearn: 0.1764560\ttotal: 10.1s\tremaining: 40.4s\n",
      "700:\tlearn: 0.1654733\ttotal: 11.8s\tremaining: 38.7s\n",
      "800:\tlearn: 0.1561251\ttotal: 13.4s\tremaining: 36.8s\n",
      "900:\tlearn: 0.1471184\ttotal: 15.1s\tremaining: 35.1s\n",
      "1000:\tlearn: 0.1390152\ttotal: 16.7s\tremaining: 33.4s\n",
      "1100:\tlearn: 0.1314260\ttotal: 18.4s\tremaining: 31.7s\n",
      "1200:\tlearn: 0.1243218\ttotal: 20.1s\tremaining: 30.1s\n",
      "1300:\tlearn: 0.1178241\ttotal: 21.8s\tremaining: 28.4s\n",
      "1400:\tlearn: 0.1118084\ttotal: 23.5s\tremaining: 26.8s\n",
      "1500:\tlearn: 0.1062659\ttotal: 25.2s\tremaining: 25.1s\n",
      "1600:\tlearn: 0.1010672\ttotal: 26.9s\tremaining: 23.5s\n",
      "1700:\tlearn: 0.0961248\ttotal: 28.6s\tremaining: 21.8s\n",
      "1800:\tlearn: 0.0913792\ttotal: 30.3s\tremaining: 20.2s\n",
      "1900:\tlearn: 0.0870269\ttotal: 32s\tremaining: 18.5s\n",
      "2000:\tlearn: 0.0830249\ttotal: 33.7s\tremaining: 16.8s\n",
      "2100:\tlearn: 0.0792537\ttotal: 35.4s\tremaining: 15.1s\n",
      "2200:\tlearn: 0.0756939\ttotal: 37.1s\tremaining: 13.5s\n",
      "2300:\tlearn: 0.0722281\ttotal: 38.7s\tremaining: 11.8s\n",
      "2400:\tlearn: 0.0690576\ttotal: 40.4s\tremaining: 10.1s\n",
      "2500:\tlearn: 0.0660208\ttotal: 42.1s\tremaining: 8.39s\n",
      "2600:\tlearn: 0.0632259\ttotal: 43.8s\tremaining: 6.71s\n",
      "2700:\tlearn: 0.0604546\ttotal: 45.4s\tremaining: 5.03s\n",
      "2800:\tlearn: 0.0579181\ttotal: 47.1s\tremaining: 3.35s\n",
      "2900:\tlearn: 0.0555587\ttotal: 48.8s\tremaining: 1.67s\n",
      "2999:\tlearn: 0.0532692\ttotal: 50.4s\tremaining: 0us\n"
     ]
    },
    {
     "name": "stderr",
     "output_type": "stream",
     "text": [
      "Warning: less than 75% gpu memory available for training. Free: 7395.75 Total: 15109.75\n"
     ]
    },
    {
     "name": "stdout",
     "output_type": "stream",
     "text": [
      "0:\tlearn: 0.6580212\ttotal: 40.9ms\tremaining: 2m 2s\n",
      "100:\tlearn: 0.2703593\ttotal: 1.93s\tremaining: 55.3s\n",
      "200:\tlearn: 0.2377177\ttotal: 3.61s\tremaining: 50.3s\n",
      "300:\tlearn: 0.2172986\ttotal: 5.25s\tremaining: 47.1s\n",
      "400:\tlearn: 0.2011743\ttotal: 6.87s\tremaining: 44.5s\n",
      "500:\tlearn: 0.1874349\ttotal: 8.53s\tremaining: 42.5s\n",
      "600:\tlearn: 0.1754440\ttotal: 10.2s\tremaining: 40.7s\n",
      "700:\tlearn: 0.1646615\ttotal: 11.8s\tremaining: 38.8s\n",
      "800:\tlearn: 0.1549860\ttotal: 13.5s\tremaining: 37.1s\n",
      "900:\tlearn: 0.1461047\ttotal: 15.2s\tremaining: 35.4s\n",
      "1000:\tlearn: 0.1380134\ttotal: 16.9s\tremaining: 33.7s\n",
      "1100:\tlearn: 0.1303419\ttotal: 18.6s\tremaining: 32s\n",
      "1200:\tlearn: 0.1234667\ttotal: 20.2s\tremaining: 30.3s\n",
      "1300:\tlearn: 0.1168988\ttotal: 21.9s\tremaining: 28.6s\n",
      "1400:\tlearn: 0.1108418\ttotal: 23.6s\tremaining: 27s\n",
      "1500:\tlearn: 0.1051837\ttotal: 25.3s\tremaining: 25.3s\n",
      "1600:\tlearn: 0.0999833\ttotal: 27s\tremaining: 23.6s\n",
      "1700:\tlearn: 0.0950715\ttotal: 28.7s\tremaining: 21.9s\n",
      "1800:\tlearn: 0.0905539\ttotal: 30.4s\tremaining: 20.2s\n",
      "1900:\tlearn: 0.0862570\ttotal: 32.1s\tremaining: 18.6s\n",
      "2000:\tlearn: 0.0822317\ttotal: 33.8s\tremaining: 16.9s\n",
      "2100:\tlearn: 0.0785385\ttotal: 35.5s\tremaining: 15.2s\n",
      "2200:\tlearn: 0.0748141\ttotal: 37.2s\tremaining: 13.5s\n",
      "2300:\tlearn: 0.0713373\ttotal: 38.8s\tremaining: 11.8s\n",
      "2400:\tlearn: 0.0681152\ttotal: 40.5s\tremaining: 10.1s\n",
      "2500:\tlearn: 0.0651531\ttotal: 42.2s\tremaining: 8.43s\n",
      "2600:\tlearn: 0.0623077\ttotal: 43.9s\tremaining: 6.73s\n",
      "2700:\tlearn: 0.0596549\ttotal: 45.6s\tremaining: 5.05s\n",
      "2800:\tlearn: 0.0570416\ttotal: 47.3s\tremaining: 3.36s\n",
      "2900:\tlearn: 0.0547240\ttotal: 48.9s\tremaining: 1.67s\n",
      "2999:\tlearn: 0.0524489\ttotal: 50.6s\tremaining: 0us\n"
     ]
    },
    {
     "name": "stderr",
     "output_type": "stream",
     "text": [
      "Warning: less than 75% gpu memory available for training. Free: 7395.75 Total: 15109.75\n"
     ]
    },
    {
     "name": "stdout",
     "output_type": "stream",
     "text": [
      "0:\tlearn: 0.6531801\ttotal: 75.3ms\tremaining: 3m 45s\n",
      "100:\tlearn: 0.2305413\ttotal: 3.9s\tremaining: 1m 51s\n",
      "200:\tlearn: 0.1869559\ttotal: 7.47s\tremaining: 1m 43s\n",
      "300:\tlearn: 0.1571236\ttotal: 11s\tremaining: 1m 38s\n",
      "400:\tlearn: 0.1347159\ttotal: 14.5s\tremaining: 1m 34s\n",
      "500:\tlearn: 0.1157963\ttotal: 18.1s\tremaining: 1m 30s\n",
      "600:\tlearn: 0.0998912\ttotal: 21.7s\tremaining: 1m 26s\n",
      "700:\tlearn: 0.0868815\ttotal: 25.3s\tremaining: 1m 23s\n",
      "800:\tlearn: 0.0761668\ttotal: 28.9s\tremaining: 1m 19s\n",
      "900:\tlearn: 0.0670762\ttotal: 32.5s\tremaining: 1m 15s\n",
      "1000:\tlearn: 0.0593172\ttotal: 36s\tremaining: 1m 11s\n",
      "1100:\tlearn: 0.0533823\ttotal: 39.5s\tremaining: 1m 8s\n",
      "1200:\tlearn: 0.0477369\ttotal: 43s\tremaining: 1m 4s\n",
      "1300:\tlearn: 0.0429015\ttotal: 46.5s\tremaining: 1m\n",
      "1400:\tlearn: 0.0387156\ttotal: 50s\tremaining: 57s\n",
      "1500:\tlearn: 0.0350527\ttotal: 53.4s\tremaining: 53.3s\n",
      "1600:\tlearn: 0.0318244\ttotal: 56.8s\tremaining: 49.7s\n",
      "1700:\tlearn: 0.0290639\ttotal: 1m\tremaining: 46s\n",
      "1800:\tlearn: 0.0265579\ttotal: 1m 3s\tremaining: 42.4s\n",
      "1900:\tlearn: 0.0241859\ttotal: 1m 7s\tremaining: 38.8s\n",
      "2000:\tlearn: 0.0221547\ttotal: 1m 10s\tremaining: 35.2s\n",
      "2100:\tlearn: 0.0202644\ttotal: 1m 13s\tremaining: 31.7s\n",
      "2200:\tlearn: 0.0184936\ttotal: 1m 17s\tremaining: 28.1s\n",
      "2300:\tlearn: 0.0169734\ttotal: 1m 20s\tremaining: 24.6s\n",
      "2400:\tlearn: 0.0155979\ttotal: 1m 24s\tremaining: 21s\n",
      "2500:\tlearn: 0.0143994\ttotal: 1m 27s\tremaining: 17.5s\n",
      "2600:\tlearn: 0.0132393\ttotal: 1m 31s\tremaining: 14s\n",
      "2700:\tlearn: 0.0122195\ttotal: 1m 34s\tremaining: 10.5s\n",
      "2800:\tlearn: 0.0113151\ttotal: 1m 37s\tremaining: 6.96s\n",
      "2900:\tlearn: 0.0104803\ttotal: 1m 41s\tremaining: 3.46s\n",
      "2999:\tlearn: 0.0097126\ttotal: 1m 44s\tremaining: 0us\n"
     ]
    },
    {
     "name": "stderr",
     "output_type": "stream",
     "text": [
      "Warning: less than 75% gpu memory available for training. Free: 7395.75 Total: 15109.75\n"
     ]
    },
    {
     "name": "stdout",
     "output_type": "stream",
     "text": [
      "0:\tlearn: 0.6520644\ttotal: 76.3ms\tremaining: 3m 48s\n",
      "100:\tlearn: 0.2323292\ttotal: 3.91s\tremaining: 1m 52s\n",
      "200:\tlearn: 0.1880084\ttotal: 7.46s\tremaining: 1m 43s\n",
      "300:\tlearn: 0.1575891\ttotal: 11s\tremaining: 1m 38s\n",
      "400:\tlearn: 0.1347127\ttotal: 14.6s\tremaining: 1m 34s\n",
      "500:\tlearn: 0.1156423\ttotal: 18.2s\tremaining: 1m 30s\n",
      "600:\tlearn: 0.1002582\ttotal: 21.8s\tremaining: 1m 26s\n",
      "700:\tlearn: 0.0873258\ttotal: 25.4s\tremaining: 1m 23s\n",
      "800:\tlearn: 0.0764576\ttotal: 29s\tremaining: 1m 19s\n",
      "900:\tlearn: 0.0674494\ttotal: 32.5s\tremaining: 1m 15s\n",
      "1000:\tlearn: 0.0596000\ttotal: 36.1s\tremaining: 1m 12s\n",
      "1100:\tlearn: 0.0531082\ttotal: 39.6s\tremaining: 1m 8s\n",
      "1200:\tlearn: 0.0474719\ttotal: 43.1s\tremaining: 1m 4s\n",
      "1300:\tlearn: 0.0426989\ttotal: 46.6s\tremaining: 1m\n",
      "1400:\tlearn: 0.0384230\ttotal: 50.1s\tremaining: 57.1s\n",
      "1500:\tlearn: 0.0349217\ttotal: 53.5s\tremaining: 53.4s\n",
      "1600:\tlearn: 0.0318432\ttotal: 56.9s\tremaining: 49.7s\n",
      "1700:\tlearn: 0.0289630\ttotal: 1m\tremaining: 46s\n",
      "1800:\tlearn: 0.0264606\ttotal: 1m 3s\tremaining: 42.4s\n",
      "1900:\tlearn: 0.0242183\ttotal: 1m 7s\tremaining: 38.8s\n",
      "2000:\tlearn: 0.0222283\ttotal: 1m 10s\tremaining: 35.2s\n",
      "2100:\tlearn: 0.0203865\ttotal: 1m 13s\tremaining: 31.6s\n",
      "2200:\tlearn: 0.0187460\ttotal: 1m 17s\tremaining: 28.1s\n",
      "2300:\tlearn: 0.0172896\ttotal: 1m 20s\tremaining: 24.5s\n",
      "2400:\tlearn: 0.0160237\ttotal: 1m 23s\tremaining: 21s\n",
      "2500:\tlearn: 0.0147984\ttotal: 1m 27s\tremaining: 17.4s\n",
      "2600:\tlearn: 0.0137275\ttotal: 1m 30s\tremaining: 13.9s\n",
      "2700:\tlearn: 0.0127523\ttotal: 1m 34s\tremaining: 10.4s\n",
      "2800:\tlearn: 0.0119529\ttotal: 1m 37s\tremaining: 6.92s\n",
      "2900:\tlearn: 0.0111903\ttotal: 1m 40s\tremaining: 3.44s\n",
      "2999:\tlearn: 0.0104856\ttotal: 1m 44s\tremaining: 0us\n"
     ]
    },
    {
     "name": "stderr",
     "output_type": "stream",
     "text": [
      "Warning: less than 75% gpu memory available for training. Free: 7395.75 Total: 15109.75\n"
     ]
    },
    {
     "name": "stdout",
     "output_type": "stream",
     "text": [
      "0:\tlearn: 0.6536127\ttotal: 79.6ms\tremaining: 3m 58s\n",
      "100:\tlearn: 0.2328944\ttotal: 3.92s\tremaining: 1m 52s\n",
      "200:\tlearn: 0.1874443\ttotal: 7.47s\tremaining: 1m 44s\n",
      "300:\tlearn: 0.1580221\ttotal: 11s\tremaining: 1m 38s\n",
      "400:\tlearn: 0.1346947\ttotal: 14.6s\tremaining: 1m 34s\n",
      "500:\tlearn: 0.1161330\ttotal: 18.1s\tremaining: 1m 30s\n",
      "600:\tlearn: 0.1003270\ttotal: 21.7s\tremaining: 1m 26s\n",
      "700:\tlearn: 0.0873374\ttotal: 25.3s\tremaining: 1m 22s\n",
      "800:\tlearn: 0.0766006\ttotal: 28.9s\tremaining: 1m 19s\n",
      "900:\tlearn: 0.0675730\ttotal: 32.4s\tremaining: 1m 15s\n",
      "1000:\tlearn: 0.0595608\ttotal: 36s\tremaining: 1m 11s\n",
      "1100:\tlearn: 0.0529730\ttotal: 39.5s\tremaining: 1m 8s\n",
      "1200:\tlearn: 0.0476147\ttotal: 43s\tremaining: 1m 4s\n",
      "1300:\tlearn: 0.0428823\ttotal: 46.4s\tremaining: 1m\n",
      "1400:\tlearn: 0.0387027\ttotal: 49.8s\tremaining: 56.9s\n",
      "1500:\tlearn: 0.0348966\ttotal: 53.3s\tremaining: 53.2s\n",
      "1600:\tlearn: 0.0316257\ttotal: 56.7s\tremaining: 49.6s\n",
      "1700:\tlearn: 0.0286633\ttotal: 1m\tremaining: 46s\n",
      "1800:\tlearn: 0.0260370\ttotal: 1m 3s\tremaining: 42.4s\n",
      "1900:\tlearn: 0.0236571\ttotal: 1m 7s\tremaining: 38.8s\n",
      "2000:\tlearn: 0.0216219\ttotal: 1m 10s\tremaining: 35.2s\n",
      "2100:\tlearn: 0.0197666\ttotal: 1m 13s\tremaining: 31.6s\n",
      "2200:\tlearn: 0.0182101\ttotal: 1m 17s\tremaining: 28.1s\n",
      "2300:\tlearn: 0.0166841\ttotal: 1m 20s\tremaining: 24.5s\n",
      "2400:\tlearn: 0.0153633\ttotal: 1m 24s\tremaining: 21s\n",
      "2500:\tlearn: 0.0141241\ttotal: 1m 27s\tremaining: 17.5s\n",
      "2600:\tlearn: 0.0130405\ttotal: 1m 30s\tremaining: 14s\n",
      "2700:\tlearn: 0.0120422\ttotal: 1m 34s\tremaining: 10.4s\n",
      "2800:\tlearn: 0.0111225\ttotal: 1m 37s\tremaining: 6.94s\n",
      "2900:\tlearn: 0.0103338\ttotal: 1m 41s\tremaining: 3.45s\n",
      "2999:\tlearn: 0.0095890\ttotal: 1m 44s\tremaining: 0us\n"
     ]
    },
    {
     "name": "stderr",
     "output_type": "stream",
     "text": [
      "Warning: less than 75% gpu memory available for training. Free: 7395.75 Total: 15109.75\n"
     ]
    },
    {
     "name": "stdout",
     "output_type": "stream",
     "text": [
      "0:\tlearn: 0.6469774\ttotal: 203ms\tremaining: 10m 10s\n",
      "100:\tlearn: 0.1624693\ttotal: 10.3s\tremaining: 4m 56s\n",
      "200:\tlearn: 0.1040575\ttotal: 20.2s\tremaining: 4m 41s\n",
      "300:\tlearn: 0.0712015\ttotal: 30s\tremaining: 4m 29s\n",
      "400:\tlearn: 0.0521739\ttotal: 39.6s\tremaining: 4m 16s\n",
      "500:\tlearn: 0.0392633\ttotal: 48.9s\tremaining: 4m 4s\n",
      "600:\tlearn: 0.0310076\ttotal: 58s\tremaining: 3m 51s\n",
      "700:\tlearn: 0.0244914\ttotal: 1m 7s\tremaining: 3m 40s\n",
      "800:\tlearn: 0.0197583\ttotal: 1m 16s\tremaining: 3m 28s\n",
      "900:\tlearn: 0.0159832\ttotal: 1m 25s\tremaining: 3m 18s\n",
      "1000:\tlearn: 0.0130863\ttotal: 1m 34s\tremaining: 3m 8s\n",
      "1100:\tlearn: 0.0109362\ttotal: 1m 43s\tremaining: 2m 58s\n",
      "1200:\tlearn: 0.0093115\ttotal: 1m 52s\tremaining: 2m 48s\n",
      "1300:\tlearn: 0.0079610\ttotal: 2m 1s\tremaining: 2m 38s\n",
      "1400:\tlearn: 0.0069657\ttotal: 2m 9s\tremaining: 2m 28s\n",
      "1500:\tlearn: 0.0061913\ttotal: 2m 18s\tremaining: 2m 18s\n",
      "1600:\tlearn: 0.0055741\ttotal: 2m 26s\tremaining: 2m 8s\n",
      "1700:\tlearn: 0.0050313\ttotal: 2m 35s\tremaining: 1m 58s\n",
      "1800:\tlearn: 0.0045688\ttotal: 2m 43s\tremaining: 1m 49s\n",
      "1900:\tlearn: 0.0042101\ttotal: 2m 52s\tremaining: 1m 39s\n",
      "2000:\tlearn: 0.0038754\ttotal: 3m\tremaining: 1m 30s\n",
      "2100:\tlearn: 0.0035916\ttotal: 3m 8s\tremaining: 1m 20s\n",
      "2200:\tlearn: 0.0033329\ttotal: 3m 16s\tremaining: 1m 11s\n",
      "2300:\tlearn: 0.0031398\ttotal: 3m 24s\tremaining: 1m 2s\n",
      "2400:\tlearn: 0.0029512\ttotal: 3m 32s\tremaining: 53.1s\n",
      "2500:\tlearn: 0.0028008\ttotal: 3m 40s\tremaining: 44s\n",
      "2600:\tlearn: 0.0026760\ttotal: 3m 48s\tremaining: 35s\n",
      "2700:\tlearn: 0.0025651\ttotal: 3m 55s\tremaining: 26.1s\n",
      "2800:\tlearn: 0.0024570\ttotal: 4m 3s\tremaining: 17.3s\n",
      "2900:\tlearn: 0.0023619\ttotal: 4m 11s\tremaining: 8.57s\n",
      "2999:\tlearn: 0.0022585\ttotal: 4m 18s\tremaining: 0us\n"
     ]
    },
    {
     "name": "stderr",
     "output_type": "stream",
     "text": [
      "Warning: less than 75% gpu memory available for training. Free: 7395.75 Total: 15109.75\n"
     ]
    },
    {
     "name": "stdout",
     "output_type": "stream",
     "text": [
      "0:\tlearn: 0.6450576\ttotal: 191ms\tremaining: 9m 32s\n",
      "100:\tlearn: 0.1623622\ttotal: 10.3s\tremaining: 4m 54s\n",
      "200:\tlearn: 0.1029432\ttotal: 20.2s\tremaining: 4m 40s\n",
      "300:\tlearn: 0.0707888\ttotal: 30s\tremaining: 4m 28s\n",
      "400:\tlearn: 0.0516398\ttotal: 39.6s\tremaining: 4m 16s\n",
      "500:\tlearn: 0.0391609\ttotal: 48.9s\tremaining: 4m 4s\n",
      "600:\tlearn: 0.0304623\ttotal: 58.1s\tremaining: 3m 52s\n",
      "700:\tlearn: 0.0249603\ttotal: 1m 6s\tremaining: 3m 39s\n",
      "800:\tlearn: 0.0202935\ttotal: 1m 15s\tremaining: 3m 28s\n",
      "900:\tlearn: 0.0166238\ttotal: 1m 24s\tremaining: 3m 17s\n",
      "1000:\tlearn: 0.0139258\ttotal: 1m 33s\tremaining: 3m 7s\n",
      "1100:\tlearn: 0.0118726\ttotal: 1m 42s\tremaining: 2m 56s\n",
      "1200:\tlearn: 0.0103331\ttotal: 1m 51s\tremaining: 2m 46s\n",
      "1300:\tlearn: 0.0090718\ttotal: 1m 59s\tremaining: 2m 36s\n",
      "1400:\tlearn: 0.0080932\ttotal: 2m 8s\tremaining: 2m 26s\n",
      "1500:\tlearn: 0.0073501\ttotal: 2m 16s\tremaining: 2m 16s\n",
      "1600:\tlearn: 0.0067609\ttotal: 2m 24s\tremaining: 2m 6s\n",
      "1700:\tlearn: 0.0062349\ttotal: 2m 32s\tremaining: 1m 56s\n",
      "1800:\tlearn: 0.0058457\ttotal: 2m 40s\tremaining: 1m 46s\n",
      "1900:\tlearn: 0.0054801\ttotal: 2m 48s\tremaining: 1m 37s\n",
      "2000:\tlearn: 0.0051535\ttotal: 2m 55s\tremaining: 1m 27s\n",
      "2100:\tlearn: 0.0048881\ttotal: 3m 3s\tremaining: 1m 18s\n",
      "2200:\tlearn: 0.0046488\ttotal: 3m 11s\tremaining: 1m 9s\n",
      "2300:\tlearn: 0.0044365\ttotal: 3m 18s\tremaining: 1m\n",
      "2400:\tlearn: 0.0042222\ttotal: 3m 26s\tremaining: 51.5s\n",
      "2500:\tlearn: 0.0040556\ttotal: 3m 34s\tremaining: 42.7s\n",
      "2600:\tlearn: 0.0039178\ttotal: 3m 41s\tremaining: 34s\n",
      "2700:\tlearn: 0.0037783\ttotal: 3m 48s\tremaining: 25.3s\n",
      "2800:\tlearn: 0.0036536\ttotal: 3m 56s\tremaining: 16.8s\n",
      "2900:\tlearn: 0.0035520\ttotal: 4m 3s\tremaining: 8.31s\n",
      "2999:\tlearn: 0.0034418\ttotal: 4m 10s\tremaining: 0us\n"
     ]
    },
    {
     "name": "stderr",
     "output_type": "stream",
     "text": [
      "Warning: less than 75% gpu memory available for training. Free: 7395.75 Total: 15109.75\n"
     ]
    },
    {
     "name": "stdout",
     "output_type": "stream",
     "text": [
      "0:\tlearn: 0.6468412\ttotal: 187ms\tremaining: 9m 21s\n",
      "100:\tlearn: 0.1634208\ttotal: 10.2s\tremaining: 4m 53s\n",
      "200:\tlearn: 0.1043798\ttotal: 20.1s\tremaining: 4m 39s\n",
      "300:\tlearn: 0.0720552\ttotal: 29.9s\tremaining: 4m 27s\n",
      "400:\tlearn: 0.0522331\ttotal: 39.5s\tremaining: 4m 15s\n",
      "500:\tlearn: 0.0393075\ttotal: 48.8s\tremaining: 4m 3s\n",
      "600:\tlearn: 0.0305756\ttotal: 57.9s\tremaining: 3m 51s\n",
      "700:\tlearn: 0.0242707\ttotal: 1m 6s\tremaining: 3m 39s\n",
      "800:\tlearn: 0.0196204\ttotal: 1m 15s\tremaining: 3m 28s\n",
      "900:\tlearn: 0.0158829\ttotal: 1m 25s\tremaining: 3m 18s\n",
      "1000:\tlearn: 0.0129819\ttotal: 1m 34s\tremaining: 3m 8s\n",
      "1100:\tlearn: 0.0106240\ttotal: 1m 43s\tremaining: 2m 58s\n",
      "1200:\tlearn: 0.0089612\ttotal: 1m 52s\tremaining: 2m 48s\n",
      "1300:\tlearn: 0.0076578\ttotal: 2m 1s\tremaining: 2m 38s\n",
      "1400:\tlearn: 0.0066278\ttotal: 2m 10s\tremaining: 2m 28s\n",
      "1500:\tlearn: 0.0058998\ttotal: 2m 18s\tremaining: 2m 18s\n",
      "1600:\tlearn: 0.0052115\ttotal: 2m 27s\tremaining: 2m 8s\n",
      "1700:\tlearn: 0.0046567\ttotal: 2m 35s\tremaining: 1m 58s\n",
      "1800:\tlearn: 0.0042401\ttotal: 2m 44s\tremaining: 1m 49s\n",
      "1900:\tlearn: 0.0038602\ttotal: 2m 52s\tremaining: 1m 39s\n",
      "2000:\tlearn: 0.0035399\ttotal: 3m\tremaining: 1m 30s\n",
      "2100:\tlearn: 0.0032746\ttotal: 3m 9s\tremaining: 1m 20s\n",
      "2200:\tlearn: 0.0030724\ttotal: 3m 17s\tremaining: 1m 11s\n",
      "2300:\tlearn: 0.0028658\ttotal: 3m 25s\tremaining: 1m 2s\n",
      "2400:\tlearn: 0.0026868\ttotal: 3m 33s\tremaining: 53.2s\n",
      "2500:\tlearn: 0.0025546\ttotal: 3m 41s\tremaining: 44.1s\n",
      "2600:\tlearn: 0.0024103\ttotal: 3m 48s\tremaining: 35.1s\n",
      "2700:\tlearn: 0.0022945\ttotal: 3m 56s\tremaining: 26.2s\n",
      "2800:\tlearn: 0.0021941\ttotal: 4m 4s\tremaining: 17.4s\n",
      "2900:\tlearn: 0.0021041\ttotal: 4m 11s\tremaining: 8.6s\n",
      "2999:\tlearn: 0.0020103\ttotal: 4m 19s\tremaining: 0us\n"
     ]
    },
    {
     "name": "stderr",
     "output_type": "stream",
     "text": [
      "Warning: less than 75% gpu memory available for training. Free: 7395.75 Total: 15109.75\n"
     ]
    },
    {
     "name": "stdout",
     "output_type": "stream",
     "text": [
      "0:\tlearn: 0.5231714\ttotal: 33ms\tremaining: 2m 44s\n",
      "100:\tlearn: 0.1851433\ttotal: 1.79s\tremaining: 1m 26s\n",
      "200:\tlearn: 0.1348746\ttotal: 3.42s\tremaining: 1m 21s\n",
      "300:\tlearn: 0.1006393\ttotal: 5.11s\tremaining: 1m 19s\n",
      "400:\tlearn: 0.0770146\ttotal: 6.78s\tremaining: 1m 17s\n",
      "500:\tlearn: 0.0600066\ttotal: 8.43s\tremaining: 1m 15s\n",
      "600:\tlearn: 0.0474606\ttotal: 10.1s\tremaining: 1m 13s\n",
      "700:\tlearn: 0.0383074\ttotal: 11.7s\tremaining: 1m 11s\n",
      "800:\tlearn: 0.0311848\ttotal: 13.4s\tremaining: 1m 10s\n",
      "900:\tlearn: 0.0256869\ttotal: 15s\tremaining: 1m 8s\n",
      "1000:\tlearn: 0.0210116\ttotal: 16.7s\tremaining: 1m 6s\n",
      "1100:\tlearn: 0.0171794\ttotal: 18.3s\tremaining: 1m 4s\n",
      "1200:\tlearn: 0.0141657\ttotal: 20s\tremaining: 1m 3s\n",
      "1300:\tlearn: 0.0117408\ttotal: 21.6s\tremaining: 1m 1s\n",
      "1400:\tlearn: 0.0099372\ttotal: 23.2s\tremaining: 59.7s\n",
      "1500:\tlearn: 0.0085313\ttotal: 24.9s\tremaining: 57.9s\n",
      "1600:\tlearn: 0.0072811\ttotal: 26.5s\tremaining: 56.2s\n",
      "1700:\tlearn: 0.0063438\ttotal: 28.1s\tremaining: 54.5s\n",
      "1800:\tlearn: 0.0055974\ttotal: 29.7s\tremaining: 52.7s\n",
      "1900:\tlearn: 0.0049575\ttotal: 31.3s\tremaining: 51s\n",
      "2000:\tlearn: 0.0043899\ttotal: 32.9s\tremaining: 49.3s\n",
      "2100:\tlearn: 0.0039495\ttotal: 34.5s\tremaining: 47.6s\n",
      "2200:\tlearn: 0.0035721\ttotal: 36s\tremaining: 45.8s\n",
      "2300:\tlearn: 0.0032954\ttotal: 37.6s\tremaining: 44.1s\n",
      "2400:\tlearn: 0.0030341\ttotal: 39.1s\tremaining: 42.4s\n",
      "2500:\tlearn: 0.0028258\ttotal: 40.7s\tremaining: 40.6s\n",
      "2600:\tlearn: 0.0026737\ttotal: 42.2s\tremaining: 38.9s\n",
      "2700:\tlearn: 0.0025131\ttotal: 43.7s\tremaining: 37.2s\n",
      "2800:\tlearn: 0.0023727\ttotal: 45.2s\tremaining: 35.5s\n",
      "2900:\tlearn: 0.0022649\ttotal: 46.7s\tremaining: 33.8s\n",
      "3000:\tlearn: 0.0021473\ttotal: 48.2s\tremaining: 32.1s\n",
      "3100:\tlearn: 0.0020620\ttotal: 49.7s\tremaining: 30.4s\n",
      "3200:\tlearn: 0.0019651\ttotal: 51.1s\tremaining: 28.7s\n",
      "3300:\tlearn: 0.0018828\ttotal: 52.6s\tremaining: 27.1s\n",
      "3400:\tlearn: 0.0018124\ttotal: 54.1s\tremaining: 25.4s\n",
      "3500:\tlearn: 0.0017587\ttotal: 55.5s\tremaining: 23.8s\n",
      "3600:\tlearn: 0.0017063\ttotal: 56.9s\tremaining: 22.1s\n",
      "3700:\tlearn: 0.0016481\ttotal: 58.4s\tremaining: 20.5s\n",
      "3800:\tlearn: 0.0015961\ttotal: 59.9s\tremaining: 18.9s\n",
      "3900:\tlearn: 0.0015466\ttotal: 1m 1s\tremaining: 17.3s\n",
      "4000:\tlearn: 0.0014983\ttotal: 1m 2s\tremaining: 15.7s\n",
      "4100:\tlearn: 0.0014528\ttotal: 1m 4s\tremaining: 14.1s\n",
      "4200:\tlearn: 0.0014141\ttotal: 1m 5s\tremaining: 12.5s\n",
      "4300:\tlearn: 0.0013820\ttotal: 1m 7s\tremaining: 10.9s\n",
      "4400:\tlearn: 0.0013418\ttotal: 1m 8s\tremaining: 9.32s\n",
      "4500:\tlearn: 0.0013119\ttotal: 1m 9s\tremaining: 7.75s\n",
      "4600:\tlearn: 0.0012829\ttotal: 1m 11s\tremaining: 6.19s\n",
      "4700:\tlearn: 0.0012504\ttotal: 1m 12s\tremaining: 4.63s\n",
      "4800:\tlearn: 0.0012197\ttotal: 1m 14s\tremaining: 3.08s\n",
      "4900:\tlearn: 0.0011973\ttotal: 1m 15s\tremaining: 1.53s\n",
      "4999:\tlearn: 0.0011737\ttotal: 1m 17s\tremaining: 0us\n"
     ]
    },
    {
     "name": "stderr",
     "output_type": "stream",
     "text": [
      "Warning: less than 75% gpu memory available for training. Free: 7395.75 Total: 15109.75\n"
     ]
    },
    {
     "name": "stdout",
     "output_type": "stream",
     "text": [
      "0:\tlearn: 0.5199923\ttotal: 33ms\tremaining: 2m 45s\n",
      "100:\tlearn: 0.1850780\ttotal: 1.81s\tremaining: 1m 27s\n",
      "200:\tlearn: 0.1339479\ttotal: 3.44s\tremaining: 1m 22s\n",
      "300:\tlearn: 0.1004262\ttotal: 5.09s\tremaining: 1m 19s\n",
      "400:\tlearn: 0.0769805\ttotal: 6.72s\tremaining: 1m 17s\n",
      "500:\tlearn: 0.0597806\ttotal: 8.39s\tremaining: 1m 15s\n",
      "600:\tlearn: 0.0476232\ttotal: 10s\tremaining: 1m 13s\n",
      "700:\tlearn: 0.0380827\ttotal: 11.7s\tremaining: 1m 11s\n",
      "800:\tlearn: 0.0309339\ttotal: 13.3s\tremaining: 1m 9s\n",
      "900:\tlearn: 0.0255317\ttotal: 14.9s\tremaining: 1m 7s\n",
      "1000:\tlearn: 0.0209500\ttotal: 16.6s\tremaining: 1m 6s\n",
      "1100:\tlearn: 0.0174515\ttotal: 18.2s\tremaining: 1m 4s\n",
      "1200:\tlearn: 0.0146031\ttotal: 19.8s\tremaining: 1m 2s\n",
      "1300:\tlearn: 0.0122931\ttotal: 21.5s\tremaining: 1m 1s\n",
      "1400:\tlearn: 0.0105023\ttotal: 23.1s\tremaining: 59.3s\n",
      "1500:\tlearn: 0.0092169\ttotal: 24.7s\tremaining: 57.5s\n",
      "1600:\tlearn: 0.0080605\ttotal: 26.3s\tremaining: 55.7s\n",
      "1700:\tlearn: 0.0071057\ttotal: 27.8s\tremaining: 54s\n",
      "1800:\tlearn: 0.0064127\ttotal: 29.4s\tremaining: 52.2s\n",
      "1900:\tlearn: 0.0058800\ttotal: 30.9s\tremaining: 50.4s\n",
      "2000:\tlearn: 0.0054160\ttotal: 32.5s\tremaining: 48.7s\n",
      "2100:\tlearn: 0.0050256\ttotal: 34s\tremaining: 46.9s\n",
      "2200:\tlearn: 0.0047183\ttotal: 35.5s\tremaining: 45.2s\n",
      "2300:\tlearn: 0.0044121\ttotal: 37s\tremaining: 43.4s\n",
      "2400:\tlearn: 0.0041383\ttotal: 38.5s\tremaining: 41.7s\n",
      "2500:\tlearn: 0.0039256\ttotal: 40s\tremaining: 40s\n",
      "2600:\tlearn: 0.0037382\ttotal: 41.5s\tremaining: 38.2s\n",
      "2700:\tlearn: 0.0035704\ttotal: 42.9s\tremaining: 36.5s\n",
      "2800:\tlearn: 0.0034386\ttotal: 44.4s\tremaining: 34.8s\n",
      "2900:\tlearn: 0.0033158\ttotal: 45.8s\tremaining: 33.2s\n",
      "3000:\tlearn: 0.0031869\ttotal: 47.3s\tremaining: 31.5s\n",
      "3100:\tlearn: 0.0030776\ttotal: 48.7s\tremaining: 29.8s\n",
      "3200:\tlearn: 0.0029757\ttotal: 50.2s\tremaining: 28.2s\n",
      "3300:\tlearn: 0.0028781\ttotal: 51.7s\tremaining: 26.6s\n",
      "3400:\tlearn: 0.0028003\ttotal: 53.1s\tremaining: 25s\n",
      "3500:\tlearn: 0.0027332\ttotal: 54.6s\tremaining: 23.4s\n",
      "3600:\tlearn: 0.0026702\ttotal: 56s\tremaining: 21.8s\n",
      "3700:\tlearn: 0.0026078\ttotal: 57.4s\tremaining: 20.2s\n",
      "3800:\tlearn: 0.0025483\ttotal: 58.9s\tremaining: 18.6s\n",
      "3900:\tlearn: 0.0024919\ttotal: 1m\tremaining: 17s\n",
      "4000:\tlearn: 0.0024339\ttotal: 1m 1s\tremaining: 15.4s\n",
      "4100:\tlearn: 0.0023808\ttotal: 1m 3s\tremaining: 13.8s\n",
      "4200:\tlearn: 0.0023283\ttotal: 1m 4s\tremaining: 12.3s\n",
      "4300:\tlearn: 0.0022813\ttotal: 1m 6s\tremaining: 10.7s\n",
      "4400:\tlearn: 0.0022381\ttotal: 1m 7s\tremaining: 9.18s\n",
      "4500:\tlearn: 0.0022008\ttotal: 1m 8s\tremaining: 7.63s\n",
      "4600:\tlearn: 0.0021589\ttotal: 1m 10s\tremaining: 6.09s\n",
      "4700:\tlearn: 0.0021180\ttotal: 1m 11s\tremaining: 4.56s\n",
      "4800:\tlearn: 0.0020868\ttotal: 1m 13s\tremaining: 3.03s\n",
      "4900:\tlearn: 0.0020596\ttotal: 1m 14s\tremaining: 1.5s\n",
      "4999:\tlearn: 0.0020248\ttotal: 1m 15s\tremaining: 0us\n"
     ]
    },
    {
     "name": "stderr",
     "output_type": "stream",
     "text": [
      "Warning: less than 75% gpu memory available for training. Free: 7395.75 Total: 15109.75\n"
     ]
    },
    {
     "name": "stdout",
     "output_type": "stream",
     "text": [
      "0:\tlearn: 0.5240553\ttotal: 32.9ms\tremaining: 2m 44s\n",
      "100:\tlearn: 0.1860221\ttotal: 1.84s\tremaining: 1m 29s\n",
      "200:\tlearn: 0.1339268\ttotal: 3.48s\tremaining: 1m 23s\n",
      "300:\tlearn: 0.1004616\ttotal: 5.12s\tremaining: 1m 19s\n",
      "400:\tlearn: 0.0770163\ttotal: 6.78s\tremaining: 1m 17s\n",
      "500:\tlearn: 0.0598500\ttotal: 8.43s\tremaining: 1m 15s\n",
      "600:\tlearn: 0.0471681\ttotal: 10.1s\tremaining: 1m 13s\n",
      "700:\tlearn: 0.0375764\ttotal: 11.7s\tremaining: 1m 11s\n",
      "800:\tlearn: 0.0303427\ttotal: 13.3s\tremaining: 1m 9s\n",
      "900:\tlearn: 0.0244003\ttotal: 15s\tremaining: 1m 8s\n",
      "1000:\tlearn: 0.0199288\ttotal: 16.6s\tremaining: 1m 6s\n",
      "1100:\tlearn: 0.0163795\ttotal: 18.3s\tremaining: 1m 4s\n",
      "1200:\tlearn: 0.0135681\ttotal: 19.9s\tremaining: 1m 2s\n",
      "1300:\tlearn: 0.0113849\ttotal: 21.5s\tremaining: 1m 1s\n",
      "1400:\tlearn: 0.0095843\ttotal: 23.2s\tremaining: 59.5s\n",
      "1500:\tlearn: 0.0082387\ttotal: 24.8s\tremaining: 57.7s\n",
      "1600:\tlearn: 0.0070207\ttotal: 26.4s\tremaining: 56.1s\n",
      "1700:\tlearn: 0.0060741\ttotal: 28.1s\tremaining: 54.4s\n",
      "1800:\tlearn: 0.0053421\ttotal: 29.6s\tremaining: 52.6s\n",
      "1900:\tlearn: 0.0047276\ttotal: 31.2s\tremaining: 50.9s\n",
      "2000:\tlearn: 0.0041706\ttotal: 32.8s\tremaining: 49.2s\n",
      "2100:\tlearn: 0.0037476\ttotal: 34.4s\tremaining: 47.5s\n",
      "2200:\tlearn: 0.0034181\ttotal: 36s\tremaining: 45.7s\n",
      "2300:\tlearn: 0.0031235\ttotal: 37.5s\tremaining: 44s\n",
      "2400:\tlearn: 0.0028727\ttotal: 39s\tremaining: 42.3s\n",
      "2500:\tlearn: 0.0026562\ttotal: 40.6s\tremaining: 40.5s\n",
      "2600:\tlearn: 0.0024599\ttotal: 42.1s\tremaining: 38.8s\n",
      "2700:\tlearn: 0.0022972\ttotal: 43.6s\tremaining: 37.1s\n",
      "2800:\tlearn: 0.0021590\ttotal: 45.1s\tremaining: 35.4s\n",
      "2900:\tlearn: 0.0020481\ttotal: 46.6s\tremaining: 33.7s\n",
      "3000:\tlearn: 0.0019347\ttotal: 48s\tremaining: 32s\n",
      "3100:\tlearn: 0.0018339\ttotal: 49.5s\tremaining: 30.3s\n",
      "3200:\tlearn: 0.0017470\ttotal: 51s\tremaining: 28.7s\n",
      "3300:\tlearn: 0.0016687\ttotal: 52.5s\tremaining: 27s\n",
      "3400:\tlearn: 0.0016030\ttotal: 54s\tremaining: 25.4s\n",
      "3500:\tlearn: 0.0015378\ttotal: 55.4s\tremaining: 23.7s\n",
      "3600:\tlearn: 0.0014716\ttotal: 56.9s\tremaining: 22.1s\n",
      "3700:\tlearn: 0.0014128\ttotal: 58.4s\tremaining: 20.5s\n",
      "3800:\tlearn: 0.0013604\ttotal: 59.9s\tremaining: 18.9s\n",
      "3900:\tlearn: 0.0013135\ttotal: 1m 1s\tremaining: 17.3s\n",
      "4000:\tlearn: 0.0012706\ttotal: 1m 2s\tremaining: 15.7s\n",
      "4100:\tlearn: 0.0012214\ttotal: 1m 4s\tremaining: 14.1s\n",
      "4200:\tlearn: 0.0011816\ttotal: 1m 5s\tremaining: 12.5s\n",
      "4300:\tlearn: 0.0011441\ttotal: 1m 7s\tremaining: 10.9s\n",
      "4400:\tlearn: 0.0011088\ttotal: 1m 8s\tremaining: 9.33s\n",
      "4500:\tlearn: 0.0010725\ttotal: 1m 10s\tremaining: 7.76s\n",
      "4600:\tlearn: 0.0010433\ttotal: 1m 11s\tremaining: 6.19s\n",
      "4700:\tlearn: 0.0010177\ttotal: 1m 12s\tremaining: 4.63s\n",
      "4800:\tlearn: 0.0009925\ttotal: 1m 14s\tremaining: 3.08s\n",
      "4900:\tlearn: 0.0009710\ttotal: 1m 15s\tremaining: 1.53s\n",
      "4999:\tlearn: 0.0009502\ttotal: 1m 17s\tremaining: 0us\n"
     ]
    },
    {
     "name": "stderr",
     "output_type": "stream",
     "text": [
      "Warning: less than 75% gpu memory available for training. Free: 7395.75 Total: 15109.75\n"
     ]
    },
    {
     "name": "stdout",
     "output_type": "stream",
     "text": [
      "0:\tlearn: 0.5041313\ttotal: 75.2ms\tremaining: 6m 16s\n",
      "100:\tlearn: 0.1134908\ttotal: 3.67s\tremaining: 2m 57s\n",
      "200:\tlearn: 0.0559355\ttotal: 7.09s\tremaining: 2m 49s\n",
      "300:\tlearn: 0.0324162\ttotal: 10.4s\tremaining: 2m 42s\n",
      "400:\tlearn: 0.0198517\ttotal: 13.8s\tremaining: 2m 37s\n",
      "500:\tlearn: 0.0125844\ttotal: 17.1s\tremaining: 2m 33s\n",
      "600:\tlearn: 0.0084905\ttotal: 20.4s\tremaining: 2m 29s\n",
      "700:\tlearn: 0.0060237\ttotal: 23.7s\tremaining: 2m 25s\n",
      "800:\tlearn: 0.0045931\ttotal: 27s\tremaining: 2m 21s\n",
      "900:\tlearn: 0.0037126\ttotal: 30.1s\tremaining: 2m 17s\n",
      "1000:\tlearn: 0.0031315\ttotal: 33.2s\tremaining: 2m 12s\n",
      "1100:\tlearn: 0.0026927\ttotal: 36.3s\tremaining: 2m 8s\n",
      "1200:\tlearn: 0.0023618\ttotal: 39.3s\tremaining: 2m 4s\n",
      "1300:\tlearn: 0.0021011\ttotal: 42.2s\tremaining: 2m\n",
      "1400:\tlearn: 0.0019078\ttotal: 45.2s\tremaining: 1m 56s\n",
      "1500:\tlearn: 0.0017647\ttotal: 48.1s\tremaining: 1m 52s\n",
      "1600:\tlearn: 0.0016242\ttotal: 51s\tremaining: 1m 48s\n",
      "1700:\tlearn: 0.0015013\ttotal: 53.9s\tremaining: 1m 44s\n",
      "1800:\tlearn: 0.0014088\ttotal: 56.8s\tremaining: 1m 40s\n",
      "1900:\tlearn: 0.0013246\ttotal: 59.6s\tremaining: 1m 37s\n",
      "2000:\tlearn: 0.0012490\ttotal: 1m 2s\tremaining: 1m 33s\n",
      "2100:\tlearn: 0.0011893\ttotal: 1m 5s\tremaining: 1m 30s\n",
      "2200:\tlearn: 0.0011273\ttotal: 1m 8s\tremaining: 1m 26s\n",
      "2300:\tlearn: 0.0010807\ttotal: 1m 10s\tremaining: 1m 23s\n",
      "2400:\tlearn: 0.0010295\ttotal: 1m 13s\tremaining: 1m 19s\n",
      "2500:\tlearn: 0.0009924\ttotal: 1m 16s\tremaining: 1m 16s\n",
      "2600:\tlearn: 0.0009591\ttotal: 1m 19s\tremaining: 1m 13s\n",
      "2700:\tlearn: 0.0009251\ttotal: 1m 21s\tremaining: 1m 9s\n",
      "2800:\tlearn: 0.0008993\ttotal: 1m 24s\tremaining: 1m 6s\n",
      "2900:\tlearn: 0.0008717\ttotal: 1m 27s\tremaining: 1m 3s\n",
      "3000:\tlearn: 0.0008453\ttotal: 1m 30s\tremaining: 1m\n",
      "3100:\tlearn: 0.0008239\ttotal: 1m 32s\tremaining: 56.9s\n",
      "3200:\tlearn: 0.0008021\ttotal: 1m 35s\tremaining: 53.7s\n",
      "3300:\tlearn: 0.0007783\ttotal: 1m 38s\tremaining: 50.6s\n",
      "3400:\tlearn: 0.0007597\ttotal: 1m 41s\tremaining: 47.5s\n",
      "3500:\tlearn: 0.0007430\ttotal: 1m 43s\tremaining: 44.4s\n",
      "3600:\tlearn: 0.0007260\ttotal: 1m 46s\tremaining: 41.4s\n",
      "3700:\tlearn: 0.0007080\ttotal: 1m 49s\tremaining: 38.3s\n",
      "3800:\tlearn: 0.0006942\ttotal: 1m 51s\tremaining: 35.3s\n",
      "3900:\tlearn: 0.0006764\ttotal: 1m 54s\tremaining: 32.3s\n",
      "4000:\tlearn: 0.0006601\ttotal: 1m 57s\tremaining: 29.3s\n",
      "4100:\tlearn: 0.0006439\ttotal: 2m\tremaining: 26.4s\n",
      "4200:\tlearn: 0.0006296\ttotal: 2m 2s\tremaining: 23.4s\n",
      "4300:\tlearn: 0.0006171\ttotal: 2m 5s\tremaining: 20.4s\n",
      "4400:\tlearn: 0.0006049\ttotal: 2m 8s\tremaining: 17.5s\n",
      "4500:\tlearn: 0.0005930\ttotal: 2m 11s\tremaining: 14.5s\n",
      "4600:\tlearn: 0.0005834\ttotal: 2m 13s\tremaining: 11.6s\n",
      "4700:\tlearn: 0.0005737\ttotal: 2m 16s\tremaining: 8.68s\n",
      "4800:\tlearn: 0.0005618\ttotal: 2m 19s\tremaining: 5.77s\n",
      "4900:\tlearn: 0.0005528\ttotal: 2m 21s\tremaining: 2.87s\n",
      "4999:\tlearn: 0.0005431\ttotal: 2m 24s\tremaining: 0us\n"
     ]
    },
    {
     "name": "stderr",
     "output_type": "stream",
     "text": [
      "Warning: less than 75% gpu memory available for training. Free: 7395.75 Total: 15109.75\n"
     ]
    },
    {
     "name": "stdout",
     "output_type": "stream",
     "text": [
      "0:\tlearn: 0.5004384\ttotal: 76.3ms\tremaining: 6m 21s\n",
      "100:\tlearn: 0.1134982\ttotal: 3.62s\tremaining: 2m 55s\n",
      "200:\tlearn: 0.0566824\ttotal: 7.07s\tremaining: 2m 48s\n",
      "300:\tlearn: 0.0328822\ttotal: 10.4s\tremaining: 2m 42s\n",
      "400:\tlearn: 0.0206509\ttotal: 13.7s\tremaining: 2m 37s\n",
      "500:\tlearn: 0.0138795\ttotal: 17s\tremaining: 2m 32s\n",
      "600:\tlearn: 0.0097030\ttotal: 20.3s\tremaining: 2m 28s\n",
      "700:\tlearn: 0.0071391\ttotal: 23.5s\tremaining: 2m 24s\n",
      "800:\tlearn: 0.0057794\ttotal: 26.6s\tremaining: 2m 19s\n",
      "900:\tlearn: 0.0048568\ttotal: 29.6s\tremaining: 2m 14s\n",
      "1000:\tlearn: 0.0042266\ttotal: 32.6s\tremaining: 2m 10s\n",
      "1100:\tlearn: 0.0038512\ttotal: 35.5s\tremaining: 2m 5s\n",
      "1200:\tlearn: 0.0035014\ttotal: 38.4s\tremaining: 2m 1s\n",
      "1300:\tlearn: 0.0032209\ttotal: 41.3s\tremaining: 1m 57s\n",
      "1400:\tlearn: 0.0029805\ttotal: 44.1s\tremaining: 1m 53s\n",
      "1500:\tlearn: 0.0027864\ttotal: 47s\tremaining: 1m 49s\n",
      "1600:\tlearn: 0.0026296\ttotal: 49.8s\tremaining: 1m 45s\n",
      "1700:\tlearn: 0.0024743\ttotal: 52.6s\tremaining: 1m 41s\n",
      "1800:\tlearn: 0.0023600\ttotal: 55.4s\tremaining: 1m 38s\n",
      "1900:\tlearn: 0.0022501\ttotal: 58.2s\tremaining: 1m 34s\n",
      "2000:\tlearn: 0.0021592\ttotal: 1m\tremaining: 1m 31s\n",
      "2100:\tlearn: 0.0020688\ttotal: 1m 3s\tremaining: 1m 27s\n",
      "2200:\tlearn: 0.0019994\ttotal: 1m 6s\tremaining: 1m 24s\n",
      "2300:\tlearn: 0.0019309\ttotal: 1m 9s\tremaining: 1m 21s\n",
      "2400:\tlearn: 0.0018567\ttotal: 1m 11s\tremaining: 1m 17s\n",
      "2500:\tlearn: 0.0017978\ttotal: 1m 14s\tremaining: 1m 14s\n",
      "2600:\tlearn: 0.0017557\ttotal: 1m 17s\tremaining: 1m 11s\n",
      "2700:\tlearn: 0.0017019\ttotal: 1m 20s\tremaining: 1m 8s\n",
      "2800:\tlearn: 0.0016586\ttotal: 1m 22s\tremaining: 1m 5s\n",
      "2900:\tlearn: 0.0016154\ttotal: 1m 25s\tremaining: 1m 1s\n",
      "3000:\tlearn: 0.0015772\ttotal: 1m 28s\tremaining: 58.8s\n",
      "3100:\tlearn: 0.0015425\ttotal: 1m 31s\tremaining: 55.8s\n",
      "3200:\tlearn: 0.0015108\ttotal: 1m 33s\tremaining: 52.7s\n",
      "3300:\tlearn: 0.0014761\ttotal: 1m 36s\tremaining: 49.6s\n",
      "3400:\tlearn: 0.0014500\ttotal: 1m 39s\tremaining: 46.6s\n",
      "3500:\tlearn: 0.0014246\ttotal: 1m 41s\tremaining: 43.6s\n",
      "3600:\tlearn: 0.0013976\ttotal: 1m 44s\tremaining: 40.6s\n",
      "3700:\tlearn: 0.0013735\ttotal: 1m 47s\tremaining: 37.7s\n",
      "3800:\tlearn: 0.0013481\ttotal: 1m 49s\tremaining: 34.7s\n",
      "3900:\tlearn: 0.0013245\ttotal: 1m 52s\tremaining: 31.7s\n",
      "4000:\tlearn: 0.0013033\ttotal: 1m 55s\tremaining: 28.8s\n",
      "4100:\tlearn: 0.0012821\ttotal: 1m 58s\tremaining: 25.9s\n",
      "4200:\tlearn: 0.0012588\ttotal: 2m\tremaining: 23s\n",
      "4300:\tlearn: 0.0012385\ttotal: 2m 3s\tremaining: 20.1s\n",
      "4400:\tlearn: 0.0012192\ttotal: 2m 6s\tremaining: 17.2s\n",
      "4500:\tlearn: 0.0012003\ttotal: 2m 8s\tremaining: 14.3s\n",
      "4600:\tlearn: 0.0011813\ttotal: 2m 11s\tremaining: 11.4s\n",
      "4700:\tlearn: 0.0011633\ttotal: 2m 14s\tremaining: 8.55s\n",
      "4800:\tlearn: 0.0011480\ttotal: 2m 17s\tremaining: 5.68s\n",
      "4900:\tlearn: 0.0011325\ttotal: 2m 19s\tremaining: 2.82s\n",
      "4999:\tlearn: 0.0011189\ttotal: 2m 22s\tremaining: 0us\n"
     ]
    },
    {
     "name": "stderr",
     "output_type": "stream",
     "text": [
      "Warning: less than 75% gpu memory available for training. Free: 7395.75 Total: 15109.75\n"
     ]
    },
    {
     "name": "stdout",
     "output_type": "stream",
     "text": [
      "0:\tlearn: 0.5058519\ttotal: 75.4ms\tremaining: 6m 16s\n",
      "100:\tlearn: 0.1143928\ttotal: 3.65s\tremaining: 2m 57s\n",
      "200:\tlearn: 0.0564562\ttotal: 7.11s\tremaining: 2m 49s\n",
      "300:\tlearn: 0.0315481\ttotal: 10.5s\tremaining: 2m 43s\n",
      "400:\tlearn: 0.0197450\ttotal: 13.8s\tremaining: 2m 38s\n",
      "500:\tlearn: 0.0127212\ttotal: 17.1s\tremaining: 2m 33s\n",
      "600:\tlearn: 0.0082896\ttotal: 20.5s\tremaining: 2m 30s\n",
      "700:\tlearn: 0.0058340\ttotal: 23.8s\tremaining: 2m 26s\n",
      "800:\tlearn: 0.0044196\ttotal: 27.1s\tremaining: 2m 21s\n",
      "900:\tlearn: 0.0035815\ttotal: 30.2s\tremaining: 2m 17s\n",
      "1000:\tlearn: 0.0029760\ttotal: 33.3s\tremaining: 2m 12s\n",
      "1100:\tlearn: 0.0025353\ttotal: 36.3s\tremaining: 2m 8s\n",
      "1200:\tlearn: 0.0021937\ttotal: 39.3s\tremaining: 2m 4s\n",
      "1300:\tlearn: 0.0019225\ttotal: 42.3s\tremaining: 2m\n",
      "1400:\tlearn: 0.0017208\ttotal: 45.2s\tremaining: 1m 56s\n",
      "1500:\tlearn: 0.0015725\ttotal: 48.1s\tremaining: 1m 52s\n",
      "1600:\tlearn: 0.0014377\ttotal: 51s\tremaining: 1m 48s\n",
      "1700:\tlearn: 0.0013208\ttotal: 53.9s\tremaining: 1m 44s\n",
      "1800:\tlearn: 0.0012255\ttotal: 56.8s\tremaining: 1m 40s\n",
      "1900:\tlearn: 0.0011316\ttotal: 59.7s\tremaining: 1m 37s\n",
      "2000:\tlearn: 0.0010566\ttotal: 1m 2s\tremaining: 1m 33s\n",
      "2100:\tlearn: 0.0009889\ttotal: 1m 5s\tremaining: 1m 30s\n",
      "2200:\tlearn: 0.0009416\ttotal: 1m 8s\tremaining: 1m 26s\n",
      "2300:\tlearn: 0.0008929\ttotal: 1m 10s\tremaining: 1m 23s\n",
      "2400:\tlearn: 0.0008457\ttotal: 1m 13s\tremaining: 1m 19s\n",
      "2500:\tlearn: 0.0008077\ttotal: 1m 16s\tremaining: 1m 16s\n",
      "2600:\tlearn: 0.0007678\ttotal: 1m 19s\tremaining: 1m 13s\n",
      "2700:\tlearn: 0.0007365\ttotal: 1m 22s\tremaining: 1m 9s\n",
      "2800:\tlearn: 0.0007054\ttotal: 1m 24s\tremaining: 1m 6s\n",
      "2900:\tlearn: 0.0006794\ttotal: 1m 27s\tremaining: 1m 3s\n",
      "3000:\tlearn: 0.0006535\ttotal: 1m 30s\tremaining: 1m\n",
      "3100:\tlearn: 0.0006269\ttotal: 1m 33s\tremaining: 57.1s\n",
      "3200:\tlearn: 0.0006043\ttotal: 1m 35s\tremaining: 53.9s\n",
      "3300:\tlearn: 0.0005825\ttotal: 1m 38s\tremaining: 50.8s\n",
      "3400:\tlearn: 0.0005641\ttotal: 1m 41s\tremaining: 47.7s\n",
      "3500:\tlearn: 0.0005472\ttotal: 1m 44s\tremaining: 44.6s\n",
      "3600:\tlearn: 0.0005312\ttotal: 1m 46s\tremaining: 41.5s\n",
      "3700:\tlearn: 0.0005163\ttotal: 1m 49s\tremaining: 38.5s\n",
      "3800:\tlearn: 0.0005016\ttotal: 1m 52s\tremaining: 35.4s\n",
      "3900:\tlearn: 0.0004892\ttotal: 1m 55s\tremaining: 32.4s\n",
      "4000:\tlearn: 0.0004766\ttotal: 1m 57s\tremaining: 29.4s\n",
      "4100:\tlearn: 0.0004633\ttotal: 2m\tremaining: 26.4s\n",
      "4200:\tlearn: 0.0004500\ttotal: 2m 3s\tremaining: 23.4s\n",
      "4300:\tlearn: 0.0004403\ttotal: 2m 5s\tremaining: 20.5s\n",
      "4400:\tlearn: 0.0004288\ttotal: 2m 8s\tremaining: 17.5s\n",
      "4500:\tlearn: 0.0004167\ttotal: 2m 11s\tremaining: 14.6s\n",
      "4600:\tlearn: 0.0004072\ttotal: 2m 14s\tremaining: 11.6s\n",
      "4700:\tlearn: 0.0003983\ttotal: 2m 16s\tremaining: 8.7s\n",
      "4800:\tlearn: 0.0003898\ttotal: 2m 19s\tremaining: 5.78s\n",
      "4900:\tlearn: 0.0003821\ttotal: 2m 22s\tremaining: 2.87s\n",
      "4999:\tlearn: 0.0003749\ttotal: 2m 24s\tremaining: 0us\n"
     ]
    },
    {
     "name": "stderr",
     "output_type": "stream",
     "text": [
      "Warning: less than 75% gpu memory available for training. Free: 7395.75 Total: 15109.75\n"
     ]
    },
    {
     "name": "stdout",
     "output_type": "stream",
     "text": [
      "0:\tlearn: 0.4806922\ttotal: 187ms\tremaining: 15m 35s\n",
      "100:\tlearn: 0.0362729\ttotal: 9.59s\tremaining: 7m 45s\n",
      "200:\tlearn: 0.0131252\ttotal: 18.2s\tremaining: 7m 15s\n",
      "300:\tlearn: 0.0062861\ttotal: 26.8s\tremaining: 6m 58s\n",
      "400:\tlearn: 0.0037368\ttotal: 35.1s\tremaining: 6m 42s\n",
      "500:\tlearn: 0.0027518\ttotal: 42.9s\tremaining: 6m 25s\n",
      "600:\tlearn: 0.0021775\ttotal: 50.5s\tremaining: 6m 9s\n",
      "700:\tlearn: 0.0017769\ttotal: 58s\tremaining: 5m 55s\n",
      "800:\tlearn: 0.0015219\ttotal: 1m 5s\tremaining: 5m 42s\n",
      "900:\tlearn: 0.0013424\ttotal: 1m 12s\tremaining: 5m 30s\n",
      "1000:\tlearn: 0.0011950\ttotal: 1m 19s\tremaining: 5m 19s\n",
      "1100:\tlearn: 0.0010832\ttotal: 1m 27s\tremaining: 5m 8s\n",
      "1200:\tlearn: 0.0009954\ttotal: 1m 34s\tremaining: 4m 58s\n",
      "1300:\tlearn: 0.0009222\ttotal: 1m 41s\tremaining: 4m 48s\n",
      "1400:\tlearn: 0.0008603\ttotal: 1m 48s\tremaining: 4m 38s\n",
      "1500:\tlearn: 0.0008144\ttotal: 1m 55s\tremaining: 4m 28s\n",
      "1600:\tlearn: 0.0007659\ttotal: 2m 2s\tremaining: 4m 20s\n",
      "1700:\tlearn: 0.0007256\ttotal: 2m 9s\tremaining: 4m 10s\n",
      "1800:\tlearn: 0.0006827\ttotal: 2m 16s\tremaining: 4m 2s\n",
      "1900:\tlearn: 0.0006531\ttotal: 2m 23s\tremaining: 3m 53s\n",
      "2000:\tlearn: 0.0006204\ttotal: 2m 30s\tremaining: 3m 45s\n",
      "2100:\tlearn: 0.0005956\ttotal: 2m 37s\tremaining: 3m 37s\n",
      "2200:\tlearn: 0.0005703\ttotal: 2m 44s\tremaining: 3m 28s\n",
      "2300:\tlearn: 0.0005494\ttotal: 2m 51s\tremaining: 3m 20s\n",
      "2400:\tlearn: 0.0005285\ttotal: 2m 58s\tremaining: 3m 12s\n",
      "2500:\tlearn: 0.0005116\ttotal: 3m 5s\tremaining: 3m 5s\n",
      "2600:\tlearn: 0.0004948\ttotal: 3m 12s\tremaining: 2m 57s\n",
      "2700:\tlearn: 0.0004800\ttotal: 3m 18s\tremaining: 2m 49s\n",
      "2800:\tlearn: 0.0004667\ttotal: 3m 25s\tremaining: 2m 41s\n",
      "2900:\tlearn: 0.0004548\ttotal: 3m 32s\tremaining: 2m 33s\n",
      "3000:\tlearn: 0.0004426\ttotal: 3m 39s\tremaining: 2m 26s\n",
      "3100:\tlearn: 0.0004308\ttotal: 3m 46s\tremaining: 2m 18s\n",
      "3200:\tlearn: 0.0004204\ttotal: 3m 53s\tremaining: 2m 11s\n",
      "3300:\tlearn: 0.0004110\ttotal: 4m\tremaining: 2m 3s\n",
      "3400:\tlearn: 0.0004019\ttotal: 4m 7s\tremaining: 1m 56s\n",
      "3500:\tlearn: 0.0003923\ttotal: 4m 14s\tremaining: 1m 48s\n",
      "3600:\tlearn: 0.0003844\ttotal: 4m 20s\tremaining: 1m 41s\n",
      "3700:\tlearn: 0.0003764\ttotal: 4m 27s\tremaining: 1m 33s\n",
      "3800:\tlearn: 0.0003690\ttotal: 4m 34s\tremaining: 1m 26s\n",
      "3900:\tlearn: 0.0003615\ttotal: 4m 41s\tremaining: 1m 19s\n",
      "4000:\tlearn: 0.0003541\ttotal: 4m 48s\tremaining: 1m 12s\n",
      "4100:\tlearn: 0.0003470\ttotal: 4m 55s\tremaining: 1m 4s\n",
      "4200:\tlearn: 0.0003406\ttotal: 5m 2s\tremaining: 57.5s\n",
      "4300:\tlearn: 0.0003346\ttotal: 5m 9s\tremaining: 50.2s\n",
      "4400:\tlearn: 0.0003286\ttotal: 5m 16s\tremaining: 43s\n",
      "4500:\tlearn: 0.0003233\ttotal: 5m 22s\tremaining: 35.8s\n",
      "4600:\tlearn: 0.0003180\ttotal: 5m 29s\tremaining: 28.6s\n",
      "4700:\tlearn: 0.0003134\ttotal: 5m 36s\tremaining: 21.4s\n",
      "4800:\tlearn: 0.0003086\ttotal: 5m 43s\tremaining: 14.2s\n",
      "4900:\tlearn: 0.0003045\ttotal: 5m 50s\tremaining: 7.08s\n",
      "4999:\tlearn: 0.0003005\ttotal: 5m 57s\tremaining: 0us\n"
     ]
    },
    {
     "name": "stderr",
     "output_type": "stream",
     "text": [
      "Warning: less than 75% gpu memory available for training. Free: 7395.75 Total: 15109.75\n"
     ]
    },
    {
     "name": "stdout",
     "output_type": "stream",
     "text": [
      "0:\tlearn: 0.4755342\ttotal: 219ms\tremaining: 18m 13s\n",
      "100:\tlearn: 0.0383089\ttotal: 9.52s\tremaining: 7m 41s\n",
      "200:\tlearn: 0.0140028\ttotal: 18.2s\tremaining: 7m 13s\n",
      "300:\tlearn: 0.0070686\ttotal: 26.6s\tremaining: 6m 54s\n",
      "400:\tlearn: 0.0048890\ttotal: 34.5s\tremaining: 6m 35s\n",
      "500:\tlearn: 0.0038292\ttotal: 42.1s\tremaining: 6m 17s\n",
      "600:\tlearn: 0.0032112\ttotal: 49.5s\tremaining: 6m 2s\n",
      "700:\tlearn: 0.0027600\ttotal: 56.8s\tremaining: 5m 48s\n",
      "800:\tlearn: 0.0024740\ttotal: 1m 3s\tremaining: 5m 34s\n",
      "900:\tlearn: 0.0022350\ttotal: 1m 10s\tremaining: 5m 22s\n",
      "1000:\tlearn: 0.0020527\ttotal: 1m 18s\tremaining: 5m 11s\n",
      "1100:\tlearn: 0.0019317\ttotal: 1m 24s\tremaining: 5m\n",
      "1200:\tlearn: 0.0018149\ttotal: 1m 31s\tremaining: 4m 50s\n",
      "1300:\tlearn: 0.0017143\ttotal: 1m 38s\tremaining: 4m 41s\n",
      "1400:\tlearn: 0.0016264\ttotal: 1m 45s\tremaining: 4m 31s\n",
      "1500:\tlearn: 0.0015493\ttotal: 1m 52s\tremaining: 4m 22s\n",
      "1600:\tlearn: 0.0014830\ttotal: 1m 59s\tremaining: 4m 14s\n",
      "1700:\tlearn: 0.0014125\ttotal: 2m 6s\tremaining: 4m 5s\n",
      "1800:\tlearn: 0.0013612\ttotal: 2m 13s\tremaining: 3m 57s\n",
      "1900:\tlearn: 0.0013060\ttotal: 2m 20s\tremaining: 3m 49s\n",
      "2000:\tlearn: 0.0012604\ttotal: 2m 27s\tremaining: 3m 41s\n",
      "2100:\tlearn: 0.0012142\ttotal: 2m 34s\tremaining: 3m 33s\n",
      "2200:\tlearn: 0.0011780\ttotal: 2m 41s\tremaining: 3m 25s\n",
      "2300:\tlearn: 0.0011447\ttotal: 2m 48s\tremaining: 3m 17s\n",
      "2400:\tlearn: 0.0011061\ttotal: 2m 55s\tremaining: 3m 9s\n",
      "2500:\tlearn: 0.0010757\ttotal: 3m 2s\tremaining: 3m 2s\n",
      "2600:\tlearn: 0.0010507\ttotal: 3m 9s\tremaining: 2m 54s\n",
      "2700:\tlearn: 0.0010259\ttotal: 3m 15s\tremaining: 2m 46s\n",
      "2800:\tlearn: 0.0010027\ttotal: 3m 22s\tremaining: 2m 39s\n",
      "2900:\tlearn: 0.0009792\ttotal: 3m 29s\tremaining: 2m 31s\n",
      "3000:\tlearn: 0.0009591\ttotal: 3m 36s\tremaining: 2m 24s\n",
      "3100:\tlearn: 0.0009381\ttotal: 3m 43s\tremaining: 2m 16s\n",
      "3200:\tlearn: 0.0009190\ttotal: 3m 50s\tremaining: 2m 9s\n",
      "3300:\tlearn: 0.0009003\ttotal: 3m 56s\tremaining: 2m 1s\n",
      "3400:\tlearn: 0.0008864\ttotal: 4m 3s\tremaining: 1m 54s\n",
      "3500:\tlearn: 0.0008722\ttotal: 4m 10s\tremaining: 1m 47s\n",
      "3600:\tlearn: 0.0008573\ttotal: 4m 17s\tremaining: 1m 40s\n",
      "3700:\tlearn: 0.0008432\ttotal: 4m 24s\tremaining: 1m 32s\n",
      "3800:\tlearn: 0.0008301\ttotal: 4m 31s\tremaining: 1m 25s\n",
      "3900:\tlearn: 0.0008173\ttotal: 4m 37s\tremaining: 1m 18s\n",
      "4000:\tlearn: 0.0008053\ttotal: 4m 44s\tremaining: 1m 11s\n",
      "4100:\tlearn: 0.0007930\ttotal: 4m 51s\tremaining: 1m 3s\n",
      "4200:\tlearn: 0.0007812\ttotal: 4m 58s\tremaining: 56.8s\n",
      "4300:\tlearn: 0.0007698\ttotal: 5m 5s\tremaining: 49.6s\n",
      "4400:\tlearn: 0.0007588\ttotal: 5m 12s\tremaining: 42.5s\n",
      "4500:\tlearn: 0.0007491\ttotal: 5m 19s\tremaining: 35.4s\n",
      "4600:\tlearn: 0.0007374\ttotal: 5m 25s\tremaining: 28.3s\n",
      "4700:\tlearn: 0.0007275\ttotal: 5m 32s\tremaining: 21.2s\n",
      "4800:\tlearn: 0.0007192\ttotal: 5m 39s\tremaining: 14.1s\n",
      "4900:\tlearn: 0.0007105\ttotal: 5m 46s\tremaining: 7s\n",
      "4999:\tlearn: 0.0007037\ttotal: 5m 53s\tremaining: 0us\n"
     ]
    },
    {
     "name": "stderr",
     "output_type": "stream",
     "text": [
      "Warning: less than 75% gpu memory available for training. Free: 7395.75 Total: 15109.75\n"
     ]
    },
    {
     "name": "stdout",
     "output_type": "stream",
     "text": [
      "0:\tlearn: 0.4800510\ttotal: 217ms\tremaining: 18m 7s\n",
      "100:\tlearn: 0.0371847\ttotal: 9.56s\tremaining: 7m 43s\n",
      "200:\tlearn: 0.0117915\ttotal: 18.4s\tremaining: 7m 18s\n",
      "300:\tlearn: 0.0053671\ttotal: 27.1s\tremaining: 7m 2s\n",
      "400:\tlearn: 0.0032552\ttotal: 35.4s\tremaining: 6m 46s\n",
      "500:\tlearn: 0.0022870\ttotal: 43.3s\tremaining: 6m 29s\n",
      "600:\tlearn: 0.0017747\ttotal: 51.1s\tremaining: 6m 13s\n",
      "700:\tlearn: 0.0014844\ttotal: 58.6s\tremaining: 5m 59s\n",
      "800:\tlearn: 0.0012746\ttotal: 1m 5s\tremaining: 5m 45s\n",
      "900:\tlearn: 0.0011100\ttotal: 1m 13s\tremaining: 5m 32s\n",
      "1000:\tlearn: 0.0009699\ttotal: 1m 20s\tremaining: 5m 21s\n",
      "1100:\tlearn: 0.0008628\ttotal: 1m 27s\tremaining: 5m 10s\n",
      "1200:\tlearn: 0.0007921\ttotal: 1m 34s\tremaining: 5m\n",
      "1300:\tlearn: 0.0007224\ttotal: 1m 42s\tremaining: 4m 50s\n",
      "1400:\tlearn: 0.0006694\ttotal: 1m 49s\tremaining: 4m 40s\n",
      "1500:\tlearn: 0.0006212\ttotal: 1m 56s\tremaining: 4m 31s\n",
      "1600:\tlearn: 0.0005786\ttotal: 2m 3s\tremaining: 4m 22s\n",
      "1700:\tlearn: 0.0005380\ttotal: 2m 10s\tremaining: 4m 13s\n",
      "1800:\tlearn: 0.0005055\ttotal: 2m 17s\tremaining: 4m 4s\n",
      "1900:\tlearn: 0.0004747\ttotal: 2m 24s\tremaining: 3m 55s\n",
      "2000:\tlearn: 0.0004514\ttotal: 2m 31s\tremaining: 3m 47s\n",
      "2100:\tlearn: 0.0004285\ttotal: 2m 38s\tremaining: 3m 39s\n",
      "2200:\tlearn: 0.0004092\ttotal: 2m 45s\tremaining: 3m 30s\n",
      "2300:\tlearn: 0.0003892\ttotal: 2m 52s\tremaining: 3m 22s\n",
      "2400:\tlearn: 0.0003736\ttotal: 2m 59s\tremaining: 3m 14s\n",
      "2500:\tlearn: 0.0003595\ttotal: 3m 6s\tremaining: 3m 6s\n",
      "2600:\tlearn: 0.0003449\ttotal: 3m 13s\tremaining: 2m 58s\n",
      "2700:\tlearn: 0.0003321\ttotal: 3m 20s\tremaining: 2m 50s\n",
      "2800:\tlearn: 0.0003196\ttotal: 3m 27s\tremaining: 2m 43s\n",
      "2900:\tlearn: 0.0003086\ttotal: 3m 34s\tremaining: 2m 35s\n",
      "3000:\tlearn: 0.0002985\ttotal: 3m 41s\tremaining: 2m 27s\n",
      "3100:\tlearn: 0.0002887\ttotal: 3m 48s\tremaining: 2m 19s\n",
      "3200:\tlearn: 0.0002788\ttotal: 3m 55s\tremaining: 2m 12s\n",
      "3300:\tlearn: 0.0002693\ttotal: 4m 2s\tremaining: 2m 4s\n",
      "3400:\tlearn: 0.0002623\ttotal: 4m 9s\tremaining: 1m 57s\n",
      "3500:\tlearn: 0.0002547\ttotal: 4m 16s\tremaining: 1m 49s\n",
      "3600:\tlearn: 0.0002480\ttotal: 4m 23s\tremaining: 1m 42s\n",
      "3700:\tlearn: 0.0002408\ttotal: 4m 30s\tremaining: 1m 34s\n",
      "3800:\tlearn: 0.0002342\ttotal: 4m 37s\tremaining: 1m 27s\n",
      "3900:\tlearn: 0.0002286\ttotal: 4m 44s\tremaining: 1m 20s\n",
      "4000:\tlearn: 0.0002231\ttotal: 4m 51s\tremaining: 1m 12s\n",
      "4100:\tlearn: 0.0002183\ttotal: 4m 57s\tremaining: 1m 5s\n",
      "4200:\tlearn: 0.0002136\ttotal: 5m 4s\tremaining: 58s\n",
      "4300:\tlearn: 0.0002088\ttotal: 5m 11s\tremaining: 50.6s\n",
      "4400:\tlearn: 0.0002039\ttotal: 5m 18s\tremaining: 43.4s\n",
      "4500:\tlearn: 0.0001995\ttotal: 5m 25s\tremaining: 36.1s\n",
      "4600:\tlearn: 0.0001964\ttotal: 5m 32s\tremaining: 28.8s\n",
      "4700:\tlearn: 0.0001928\ttotal: 5m 39s\tremaining: 21.6s\n",
      "4800:\tlearn: 0.0001896\ttotal: 5m 46s\tremaining: 14.3s\n",
      "4900:\tlearn: 0.0001862\ttotal: 5m 52s\tremaining: 7.13s\n",
      "4999:\tlearn: 0.0001834\ttotal: 5m 59s\tremaining: 0us\n"
     ]
    },
    {
     "name": "stderr",
     "output_type": "stream",
     "text": [
      "Warning: less than 75% gpu memory available for training. Free: 7395.75 Total: 15109.75\n"
     ]
    },
    {
     "name": "stdout",
     "output_type": "stream",
     "text": [
      "0:\tlearn: 0.6253760\ttotal: 33.3ms\tremaining: 2m 46s\n",
      "100:\tlearn: 0.2390778\ttotal: 1.88s\tremaining: 1m 31s\n",
      "200:\tlearn: 0.2037079\ttotal: 3.5s\tremaining: 1m 23s\n",
      "300:\tlearn: 0.1783377\ttotal: 5.14s\tremaining: 1m 20s\n",
      "400:\tlearn: 0.1584254\ttotal: 6.76s\tremaining: 1m 17s\n",
      "500:\tlearn: 0.1411025\ttotal: 8.42s\tremaining: 1m 15s\n",
      "600:\tlearn: 0.1261481\ttotal: 10.1s\tremaining: 1m 13s\n",
      "700:\tlearn: 0.1137511\ttotal: 11.8s\tremaining: 1m 12s\n",
      "800:\tlearn: 0.1028579\ttotal: 13.5s\tremaining: 1m 10s\n",
      "900:\tlearn: 0.0932210\ttotal: 15.1s\tremaining: 1m 8s\n",
      "1000:\tlearn: 0.0846821\ttotal: 16.8s\tremaining: 1m 7s\n",
      "1100:\tlearn: 0.0772699\ttotal: 18.5s\tremaining: 1m 5s\n",
      "1200:\tlearn: 0.0704517\ttotal: 20.2s\tremaining: 1m 3s\n",
      "1300:\tlearn: 0.0645788\ttotal: 21.8s\tremaining: 1m 2s\n",
      "1400:\tlearn: 0.0592730\ttotal: 23.5s\tremaining: 1m\n",
      "1500:\tlearn: 0.0544753\ttotal: 25.2s\tremaining: 58.7s\n",
      "1600:\tlearn: 0.0503280\ttotal: 26.8s\tremaining: 57s\n",
      "1700:\tlearn: 0.0465236\ttotal: 28.5s\tremaining: 55.3s\n",
      "1800:\tlearn: 0.0429688\ttotal: 30.2s\tremaining: 53.6s\n",
      "1900:\tlearn: 0.0398155\ttotal: 31.9s\tremaining: 51.9s\n",
      "2000:\tlearn: 0.0369731\ttotal: 33.5s\tremaining: 50.3s\n",
      "2100:\tlearn: 0.0342483\ttotal: 35.2s\tremaining: 48.5s\n",
      "2200:\tlearn: 0.0318493\ttotal: 36.9s\tremaining: 46.9s\n",
      "2300:\tlearn: 0.0296199\ttotal: 38.5s\tremaining: 45.2s\n",
      "2400:\tlearn: 0.0276506\ttotal: 40.2s\tremaining: 43.5s\n",
      "2500:\tlearn: 0.0257462\ttotal: 41.8s\tremaining: 41.8s\n",
      "2600:\tlearn: 0.0241097\ttotal: 43.5s\tremaining: 40.1s\n",
      "2700:\tlearn: 0.0224805\ttotal: 45.1s\tremaining: 38.4s\n",
      "2800:\tlearn: 0.0210082\ttotal: 46.8s\tremaining: 36.7s\n",
      "2900:\tlearn: 0.0196166\ttotal: 48.5s\tremaining: 35.1s\n",
      "3000:\tlearn: 0.0183930\ttotal: 50.1s\tremaining: 33.4s\n",
      "3100:\tlearn: 0.0171788\ttotal: 51.8s\tremaining: 31.7s\n",
      "3200:\tlearn: 0.0160685\ttotal: 53.5s\tremaining: 30s\n",
      "3300:\tlearn: 0.0149946\ttotal: 55.1s\tremaining: 28.4s\n",
      "3400:\tlearn: 0.0140801\ttotal: 56.8s\tremaining: 26.7s\n",
      "3500:\tlearn: 0.0131781\ttotal: 58.5s\tremaining: 25s\n",
      "3600:\tlearn: 0.0124131\ttotal: 1m\tremaining: 23.3s\n",
      "3700:\tlearn: 0.0116391\ttotal: 1m 1s\tremaining: 21.7s\n",
      "3800:\tlearn: 0.0109206\ttotal: 1m 3s\tremaining: 20s\n",
      "3900:\tlearn: 0.0102981\ttotal: 1m 5s\tremaining: 18.3s\n",
      "4000:\tlearn: 0.0096770\ttotal: 1m 6s\tremaining: 16.6s\n",
      "4100:\tlearn: 0.0091394\ttotal: 1m 8s\tremaining: 15s\n",
      "4200:\tlearn: 0.0086744\ttotal: 1m 9s\tremaining: 13.3s\n",
      "4300:\tlearn: 0.0082055\ttotal: 1m 11s\tremaining: 11.6s\n",
      "4400:\tlearn: 0.0077924\ttotal: 1m 13s\tremaining: 9.94s\n",
      "4500:\tlearn: 0.0073982\ttotal: 1m 14s\tremaining: 8.28s\n",
      "4600:\tlearn: 0.0070599\ttotal: 1m 16s\tremaining: 6.61s\n",
      "4700:\tlearn: 0.0067119\ttotal: 1m 17s\tremaining: 4.96s\n",
      "4800:\tlearn: 0.0063604\ttotal: 1m 19s\tremaining: 3.3s\n",
      "4900:\tlearn: 0.0060578\ttotal: 1m 21s\tremaining: 1.64s\n",
      "4999:\tlearn: 0.0057878\ttotal: 1m 22s\tremaining: 0us\n"
     ]
    },
    {
     "name": "stderr",
     "output_type": "stream",
     "text": [
      "Warning: less than 75% gpu memory available for training. Free: 7395.75 Total: 15109.75\n"
     ]
    },
    {
     "name": "stdout",
     "output_type": "stream",
     "text": [
      "0:\tlearn: 0.6237088\ttotal: 32.6ms\tremaining: 2m 42s\n",
      "100:\tlearn: 0.2379602\ttotal: 1.86s\tremaining: 1m 30s\n",
      "200:\tlearn: 0.2025280\ttotal: 3.51s\tremaining: 1m 23s\n",
      "300:\tlearn: 0.1768033\ttotal: 5.15s\tremaining: 1m 20s\n",
      "400:\tlearn: 0.1570447\ttotal: 6.8s\tremaining: 1m 17s\n",
      "500:\tlearn: 0.1407643\ttotal: 8.45s\tremaining: 1m 15s\n",
      "600:\tlearn: 0.1260983\ttotal: 10.1s\tremaining: 1m 14s\n",
      "700:\tlearn: 0.1134707\ttotal: 11.8s\tremaining: 1m 12s\n",
      "800:\tlearn: 0.1028969\ttotal: 13.5s\tremaining: 1m 10s\n",
      "900:\tlearn: 0.0933534\ttotal: 15.2s\tremaining: 1m 8s\n",
      "1000:\tlearn: 0.0847465\ttotal: 16.9s\tremaining: 1m 7s\n",
      "1100:\tlearn: 0.0773601\ttotal: 18.5s\tremaining: 1m 5s\n",
      "1200:\tlearn: 0.0706704\ttotal: 20.2s\tremaining: 1m 3s\n",
      "1300:\tlearn: 0.0646830\ttotal: 21.9s\tremaining: 1m 2s\n",
      "1400:\tlearn: 0.0594242\ttotal: 23.6s\tremaining: 1m\n",
      "1500:\tlearn: 0.0548435\ttotal: 25.2s\tremaining: 58.8s\n",
      "1600:\tlearn: 0.0506944\ttotal: 26.9s\tremaining: 57.1s\n",
      "1700:\tlearn: 0.0466817\ttotal: 28.6s\tremaining: 55.5s\n",
      "1800:\tlearn: 0.0432253\ttotal: 30.3s\tremaining: 53.7s\n",
      "1900:\tlearn: 0.0400202\ttotal: 31.9s\tremaining: 52.1s\n",
      "2000:\tlearn: 0.0370749\ttotal: 33.6s\tremaining: 50.3s\n",
      "2100:\tlearn: 0.0344617\ttotal: 35.3s\tremaining: 48.7s\n",
      "2200:\tlearn: 0.0320145\ttotal: 36.9s\tremaining: 47s\n",
      "2300:\tlearn: 0.0297300\ttotal: 38.6s\tremaining: 45.3s\n",
      "2400:\tlearn: 0.0277635\ttotal: 40.3s\tremaining: 43.6s\n",
      "2500:\tlearn: 0.0258771\ttotal: 41.9s\tremaining: 41.9s\n",
      "2600:\tlearn: 0.0241413\ttotal: 43.6s\tremaining: 40.2s\n",
      "2700:\tlearn: 0.0225569\ttotal: 45.2s\tremaining: 38.5s\n",
      "2800:\tlearn: 0.0210717\ttotal: 46.9s\tremaining: 36.8s\n",
      "2900:\tlearn: 0.0197455\ttotal: 48.6s\tremaining: 35.1s\n",
      "3000:\tlearn: 0.0184620\ttotal: 50.2s\tremaining: 33.5s\n",
      "3100:\tlearn: 0.0173150\ttotal: 51.9s\tremaining: 31.8s\n",
      "3200:\tlearn: 0.0162512\ttotal: 53.5s\tremaining: 30.1s\n",
      "3300:\tlearn: 0.0152807\ttotal: 55.2s\tremaining: 28.4s\n",
      "3400:\tlearn: 0.0143746\ttotal: 56.8s\tremaining: 26.7s\n",
      "3500:\tlearn: 0.0135563\ttotal: 58.5s\tremaining: 25s\n",
      "3600:\tlearn: 0.0127811\ttotal: 1m\tremaining: 23.3s\n",
      "3700:\tlearn: 0.0120842\ttotal: 1m 1s\tremaining: 21.7s\n",
      "3800:\tlearn: 0.0114786\ttotal: 1m 3s\tremaining: 20s\n",
      "3900:\tlearn: 0.0108883\ttotal: 1m 4s\tremaining: 18.3s\n",
      "4000:\tlearn: 0.0103675\ttotal: 1m 6s\tremaining: 16.6s\n",
      "4100:\tlearn: 0.0098461\ttotal: 1m 8s\tremaining: 14.9s\n",
      "4200:\tlearn: 0.0093858\ttotal: 1m 9s\tremaining: 13.3s\n",
      "4300:\tlearn: 0.0089626\ttotal: 1m 11s\tremaining: 11.6s\n",
      "4400:\tlearn: 0.0086241\ttotal: 1m 12s\tremaining: 9.92s\n",
      "4500:\tlearn: 0.0082881\ttotal: 1m 14s\tremaining: 8.26s\n",
      "4600:\tlearn: 0.0079512\ttotal: 1m 16s\tremaining: 6.59s\n",
      "4700:\tlearn: 0.0076341\ttotal: 1m 17s\tremaining: 4.94s\n",
      "4800:\tlearn: 0.0073535\ttotal: 1m 19s\tremaining: 3.28s\n",
      "4900:\tlearn: 0.0070976\ttotal: 1m 20s\tremaining: 1.63s\n",
      "4999:\tlearn: 0.0068767\ttotal: 1m 22s\tremaining: 0us\n"
     ]
    },
    {
     "name": "stderr",
     "output_type": "stream",
     "text": [
      "Warning: less than 75% gpu memory available for training. Free: 7395.75 Total: 15109.75\n"
     ]
    },
    {
     "name": "stdout",
     "output_type": "stream",
     "text": [
      "0:\tlearn: 0.6257588\ttotal: 33ms\tremaining: 2m 44s\n",
      "100:\tlearn: 0.2391360\ttotal: 1.85s\tremaining: 1m 29s\n",
      "200:\tlearn: 0.2024203\ttotal: 3.49s\tremaining: 1m 23s\n",
      "300:\tlearn: 0.1767798\ttotal: 5.12s\tremaining: 1m 19s\n",
      "400:\tlearn: 0.1562094\ttotal: 6.77s\tremaining: 1m 17s\n",
      "500:\tlearn: 0.1397232\ttotal: 8.41s\tremaining: 1m 15s\n",
      "600:\tlearn: 0.1248968\ttotal: 10.1s\tremaining: 1m 13s\n",
      "700:\tlearn: 0.1125681\ttotal: 11.8s\tremaining: 1m 12s\n",
      "800:\tlearn: 0.1014835\ttotal: 13.4s\tremaining: 1m 10s\n",
      "900:\tlearn: 0.0919682\ttotal: 15.1s\tremaining: 1m 8s\n",
      "1000:\tlearn: 0.0837554\ttotal: 16.8s\tremaining: 1m 7s\n",
      "1100:\tlearn: 0.0763377\ttotal: 18.5s\tremaining: 1m 5s\n",
      "1200:\tlearn: 0.0697322\ttotal: 20.2s\tremaining: 1m 3s\n",
      "1300:\tlearn: 0.0636109\ttotal: 21.9s\tremaining: 1m 2s\n",
      "1400:\tlearn: 0.0584007\ttotal: 23.5s\tremaining: 1m\n",
      "1500:\tlearn: 0.0537233\ttotal: 25.2s\tremaining: 58.8s\n",
      "1600:\tlearn: 0.0493821\ttotal: 26.9s\tremaining: 57.1s\n",
      "1700:\tlearn: 0.0456245\ttotal: 28.6s\tremaining: 55.4s\n",
      "1800:\tlearn: 0.0421748\ttotal: 30.2s\tremaining: 53.7s\n",
      "1900:\tlearn: 0.0389640\ttotal: 31.9s\tremaining: 52s\n",
      "2000:\tlearn: 0.0361491\ttotal: 33.6s\tremaining: 50.3s\n",
      "2100:\tlearn: 0.0334757\ttotal: 35.3s\tremaining: 48.7s\n",
      "2200:\tlearn: 0.0311892\ttotal: 36.9s\tremaining: 46.9s\n",
      "2300:\tlearn: 0.0289942\ttotal: 38.6s\tremaining: 45.3s\n",
      "2400:\tlearn: 0.0269293\ttotal: 40.3s\tremaining: 43.6s\n",
      "2500:\tlearn: 0.0250296\ttotal: 41.9s\tremaining: 41.9s\n",
      "2600:\tlearn: 0.0232306\ttotal: 43.6s\tremaining: 40.2s\n",
      "2700:\tlearn: 0.0216546\ttotal: 45.3s\tremaining: 38.5s\n",
      "2800:\tlearn: 0.0202026\ttotal: 46.9s\tremaining: 36.9s\n",
      "2900:\tlearn: 0.0188551\ttotal: 48.6s\tremaining: 35.2s\n",
      "3000:\tlearn: 0.0176338\ttotal: 50.3s\tremaining: 33.5s\n",
      "3100:\tlearn: 0.0164118\ttotal: 52s\tremaining: 31.8s\n",
      "3200:\tlearn: 0.0153356\ttotal: 53.6s\tremaining: 30.1s\n",
      "3300:\tlearn: 0.0143488\ttotal: 55.3s\tremaining: 28.4s\n",
      "3400:\tlearn: 0.0134648\ttotal: 56.9s\tremaining: 26.8s\n",
      "3500:\tlearn: 0.0126062\ttotal: 58.6s\tremaining: 25.1s\n",
      "3600:\tlearn: 0.0118678\ttotal: 1m\tremaining: 23.4s\n",
      "3700:\tlearn: 0.0111344\ttotal: 1m 1s\tremaining: 21.7s\n",
      "3800:\tlearn: 0.0104485\ttotal: 1m 3s\tremaining: 20s\n",
      "3900:\tlearn: 0.0098774\ttotal: 1m 5s\tremaining: 18.3s\n",
      "4000:\tlearn: 0.0092655\ttotal: 1m 6s\tremaining: 16.7s\n",
      "4100:\tlearn: 0.0087355\ttotal: 1m 8s\tremaining: 15s\n",
      "4200:\tlearn: 0.0082510\ttotal: 1m 9s\tremaining: 13.3s\n",
      "4300:\tlearn: 0.0077967\ttotal: 1m 11s\tremaining: 11.6s\n",
      "4400:\tlearn: 0.0073895\ttotal: 1m 13s\tremaining: 9.96s\n",
      "4500:\tlearn: 0.0070257\ttotal: 1m 14s\tremaining: 8.29s\n",
      "4600:\tlearn: 0.0066896\ttotal: 1m 16s\tremaining: 6.63s\n",
      "4700:\tlearn: 0.0063910\ttotal: 1m 17s\tremaining: 4.96s\n",
      "4800:\tlearn: 0.0060936\ttotal: 1m 19s\tremaining: 3.3s\n",
      "4900:\tlearn: 0.0058132\ttotal: 1m 21s\tremaining: 1.64s\n",
      "4999:\tlearn: 0.0055606\ttotal: 1m 22s\tremaining: 0us\n"
     ]
    },
    {
     "name": "stderr",
     "output_type": "stream",
     "text": [
      "Warning: less than 75% gpu memory available for training. Free: 7395.75 Total: 15109.75\n"
     ]
    },
    {
     "name": "stdout",
     "output_type": "stream",
     "text": [
      "0:\tlearn: 0.6167377\ttotal: 74.8ms\tremaining: 6m 14s\n",
      "100:\tlearn: 0.1900492\ttotal: 3.76s\tremaining: 3m 2s\n",
      "200:\tlearn: 0.1382902\ttotal: 7.21s\tremaining: 2m 52s\n",
      "300:\tlearn: 0.1037097\ttotal: 10.8s\tremaining: 2m 47s\n",
      "400:\tlearn: 0.0795316\ttotal: 14.3s\tremaining: 2m 43s\n",
      "500:\tlearn: 0.0623199\ttotal: 17.8s\tremaining: 2m 39s\n",
      "600:\tlearn: 0.0498345\ttotal: 21.3s\tremaining: 2m 35s\n",
      "700:\tlearn: 0.0402052\ttotal: 24.7s\tremaining: 2m 31s\n",
      "800:\tlearn: 0.0329591\ttotal: 28.2s\tremaining: 2m 28s\n",
      "900:\tlearn: 0.0274523\ttotal: 31.7s\tremaining: 2m 24s\n",
      "1000:\tlearn: 0.0230983\ttotal: 35.1s\tremaining: 2m 20s\n",
      "1100:\tlearn: 0.0194183\ttotal: 38.6s\tremaining: 2m 16s\n",
      "1200:\tlearn: 0.0165621\ttotal: 42s\tremaining: 2m 12s\n",
      "1300:\tlearn: 0.0140443\ttotal: 45.5s\tremaining: 2m 9s\n",
      "1400:\tlearn: 0.0118749\ttotal: 49s\tremaining: 2m 5s\n",
      "1500:\tlearn: 0.0102260\ttotal: 52.4s\tremaining: 2m 2s\n",
      "1600:\tlearn: 0.0088623\ttotal: 55.8s\tremaining: 1m 58s\n",
      "1700:\tlearn: 0.0077948\ttotal: 59.1s\tremaining: 1m 54s\n",
      "1800:\tlearn: 0.0068975\ttotal: 1m 2s\tremaining: 1m 50s\n",
      "1900:\tlearn: 0.0061721\ttotal: 1m 5s\tremaining: 1m 47s\n",
      "2000:\tlearn: 0.0055626\ttotal: 1m 8s\tremaining: 1m 43s\n",
      "2100:\tlearn: 0.0050332\ttotal: 1m 12s\tremaining: 1m 39s\n",
      "2200:\tlearn: 0.0045666\ttotal: 1m 15s\tremaining: 1m 35s\n",
      "2300:\tlearn: 0.0042347\ttotal: 1m 18s\tremaining: 1m 32s\n",
      "2400:\tlearn: 0.0039233\ttotal: 1m 21s\tremaining: 1m 28s\n",
      "2500:\tlearn: 0.0036574\ttotal: 1m 24s\tremaining: 1m 24s\n",
      "2600:\tlearn: 0.0034422\ttotal: 1m 27s\tremaining: 1m 21s\n",
      "2700:\tlearn: 0.0032565\ttotal: 1m 30s\tremaining: 1m 17s\n",
      "2800:\tlearn: 0.0031000\ttotal: 1m 33s\tremaining: 1m 13s\n",
      "2900:\tlearn: 0.0029588\ttotal: 1m 36s\tremaining: 1m 10s\n",
      "3000:\tlearn: 0.0028122\ttotal: 1m 39s\tremaining: 1m 6s\n",
      "3100:\tlearn: 0.0026965\ttotal: 1m 42s\tremaining: 1m 3s\n",
      "3200:\tlearn: 0.0025754\ttotal: 1m 45s\tremaining: 59.5s\n",
      "3300:\tlearn: 0.0024643\ttotal: 1m 48s\tremaining: 56.1s\n",
      "3400:\tlearn: 0.0023674\ttotal: 1m 51s\tremaining: 52.6s\n",
      "3500:\tlearn: 0.0022852\ttotal: 1m 54s\tremaining: 49.2s\n",
      "3600:\tlearn: 0.0022173\ttotal: 1m 57s\tremaining: 45.7s\n",
      "3700:\tlearn: 0.0021430\ttotal: 2m\tremaining: 42.3s\n",
      "3800:\tlearn: 0.0020670\ttotal: 2m 3s\tremaining: 39s\n",
      "3900:\tlearn: 0.0020045\ttotal: 2m 6s\tremaining: 35.6s\n",
      "4000:\tlearn: 0.0019391\ttotal: 2m 9s\tremaining: 32.3s\n",
      "4100:\tlearn: 0.0018782\ttotal: 2m 12s\tremaining: 29s\n",
      "4200:\tlearn: 0.0018297\ttotal: 2m 15s\tremaining: 25.7s\n",
      "4300:\tlearn: 0.0017788\ttotal: 2m 18s\tremaining: 22.4s\n",
      "4400:\tlearn: 0.0017295\ttotal: 2m 20s\tremaining: 19.2s\n",
      "4500:\tlearn: 0.0016865\ttotal: 2m 23s\tremaining: 15.9s\n",
      "4600:\tlearn: 0.0016414\ttotal: 2m 26s\tremaining: 12.7s\n",
      "4700:\tlearn: 0.0015973\ttotal: 2m 29s\tremaining: 9.51s\n",
      "4800:\tlearn: 0.0015585\ttotal: 2m 32s\tremaining: 6.32s\n",
      "4900:\tlearn: 0.0015231\ttotal: 2m 35s\tremaining: 3.14s\n",
      "4999:\tlearn: 0.0014884\ttotal: 2m 38s\tremaining: 0us\n"
     ]
    },
    {
     "name": "stderr",
     "output_type": "stream",
     "text": [
      "Warning: less than 75% gpu memory available for training. Free: 7395.75 Total: 15109.75\n"
     ]
    },
    {
     "name": "stdout",
     "output_type": "stream",
     "text": [
      "0:\tlearn: 0.6147325\ttotal: 76ms\tremaining: 6m 20s\n",
      "100:\tlearn: 0.1909172\ttotal: 3.81s\tremaining: 3m 4s\n",
      "200:\tlearn: 0.1379530\ttotal: 7.27s\tremaining: 2m 53s\n",
      "300:\tlearn: 0.1030990\ttotal: 10.8s\tremaining: 2m 48s\n",
      "400:\tlearn: 0.0786752\ttotal: 14.4s\tremaining: 2m 44s\n",
      "500:\tlearn: 0.0616074\ttotal: 17.9s\tremaining: 2m 40s\n",
      "600:\tlearn: 0.0496195\ttotal: 21.3s\tremaining: 2m 36s\n",
      "700:\tlearn: 0.0406320\ttotal: 24.8s\tremaining: 2m 31s\n",
      "800:\tlearn: 0.0333797\ttotal: 28.2s\tremaining: 2m 28s\n",
      "900:\tlearn: 0.0280038\ttotal: 31.7s\tremaining: 2m 24s\n",
      "1000:\tlearn: 0.0235802\ttotal: 35.1s\tremaining: 2m 20s\n",
      "1100:\tlearn: 0.0200212\ttotal: 38.5s\tremaining: 2m 16s\n",
      "1200:\tlearn: 0.0169303\ttotal: 41.9s\tremaining: 2m 12s\n",
      "1300:\tlearn: 0.0144524\ttotal: 45.3s\tremaining: 2m 8s\n",
      "1400:\tlearn: 0.0124249\ttotal: 48.8s\tremaining: 2m 5s\n",
      "1500:\tlearn: 0.0109483\ttotal: 52s\tremaining: 2m 1s\n",
      "1600:\tlearn: 0.0097937\ttotal: 55.3s\tremaining: 1m 57s\n",
      "1700:\tlearn: 0.0087786\ttotal: 58.5s\tremaining: 1m 53s\n",
      "1800:\tlearn: 0.0079678\ttotal: 1m 1s\tremaining: 1m 49s\n",
      "1900:\tlearn: 0.0073026\ttotal: 1m 4s\tremaining: 1m 45s\n",
      "2000:\tlearn: 0.0067447\ttotal: 1m 7s\tremaining: 1m 41s\n",
      "2100:\tlearn: 0.0062956\ttotal: 1m 11s\tremaining: 1m 37s\n",
      "2200:\tlearn: 0.0059192\ttotal: 1m 14s\tremaining: 1m 34s\n",
      "2300:\tlearn: 0.0055991\ttotal: 1m 17s\tremaining: 1m 30s\n",
      "2400:\tlearn: 0.0052473\ttotal: 1m 20s\tremaining: 1m 26s\n",
      "2500:\tlearn: 0.0049848\ttotal: 1m 23s\tremaining: 1m 23s\n",
      "2600:\tlearn: 0.0047697\ttotal: 1m 26s\tremaining: 1m 19s\n",
      "2700:\tlearn: 0.0045309\ttotal: 1m 29s\tremaining: 1m 15s\n",
      "2800:\tlearn: 0.0043346\ttotal: 1m 31s\tremaining: 1m 12s\n",
      "2900:\tlearn: 0.0041701\ttotal: 1m 34s\tremaining: 1m 8s\n",
      "3000:\tlearn: 0.0040266\ttotal: 1m 37s\tremaining: 1m 5s\n",
      "3100:\tlearn: 0.0038849\ttotal: 1m 40s\tremaining: 1m 1s\n",
      "3200:\tlearn: 0.0037543\ttotal: 1m 43s\tremaining: 58.2s\n",
      "3300:\tlearn: 0.0036357\ttotal: 1m 46s\tremaining: 54.8s\n",
      "3400:\tlearn: 0.0035261\ttotal: 1m 49s\tremaining: 51.4s\n",
      "3500:\tlearn: 0.0034447\ttotal: 1m 52s\tremaining: 48s\n",
      "3600:\tlearn: 0.0033547\ttotal: 1m 54s\tremaining: 44.7s\n",
      "3700:\tlearn: 0.0032689\ttotal: 1m 57s\tremaining: 41.3s\n",
      "3800:\tlearn: 0.0031937\ttotal: 2m\tremaining: 38s\n",
      "3900:\tlearn: 0.0031157\ttotal: 2m 3s\tremaining: 34.8s\n",
      "4000:\tlearn: 0.0030455\ttotal: 2m 6s\tremaining: 31.5s\n",
      "4100:\tlearn: 0.0029759\ttotal: 2m 9s\tremaining: 28.3s\n",
      "4200:\tlearn: 0.0029099\ttotal: 2m 11s\tremaining: 25.1s\n",
      "4300:\tlearn: 0.0028473\ttotal: 2m 14s\tremaining: 21.9s\n",
      "4400:\tlearn: 0.0027892\ttotal: 2m 17s\tremaining: 18.7s\n",
      "4500:\tlearn: 0.0027349\ttotal: 2m 20s\tremaining: 15.6s\n",
      "4600:\tlearn: 0.0026821\ttotal: 2m 23s\tremaining: 12.4s\n",
      "4700:\tlearn: 0.0026271\ttotal: 2m 26s\tremaining: 9.29s\n",
      "4800:\tlearn: 0.0025829\ttotal: 2m 28s\tremaining: 6.17s\n",
      "4900:\tlearn: 0.0025368\ttotal: 2m 31s\tremaining: 3.06s\n",
      "4999:\tlearn: 0.0024978\ttotal: 2m 34s\tremaining: 0us\n"
     ]
    },
    {
     "name": "stderr",
     "output_type": "stream",
     "text": [
      "Warning: less than 75% gpu memory available for training. Free: 7395.75 Total: 15109.75\n"
     ]
    },
    {
     "name": "stdout",
     "output_type": "stream",
     "text": [
      "0:\tlearn: 0.6175372\ttotal: 76.3ms\tremaining: 6m 21s\n",
      "100:\tlearn: 0.1893667\ttotal: 3.77s\tremaining: 3m 2s\n",
      "200:\tlearn: 0.1375502\ttotal: 7.27s\tremaining: 2m 53s\n",
      "300:\tlearn: 0.1025378\ttotal: 10.8s\tremaining: 2m 48s\n",
      "400:\tlearn: 0.0779092\ttotal: 14.3s\tremaining: 2m 44s\n",
      "500:\tlearn: 0.0616344\ttotal: 17.8s\tremaining: 2m 39s\n",
      "600:\tlearn: 0.0491214\ttotal: 21.3s\tremaining: 2m 35s\n",
      "700:\tlearn: 0.0396168\ttotal: 24.8s\tremaining: 2m 32s\n",
      "800:\tlearn: 0.0326709\ttotal: 28.2s\tremaining: 2m 28s\n",
      "900:\tlearn: 0.0273094\ttotal: 31.6s\tremaining: 2m 23s\n",
      "1000:\tlearn: 0.0227687\ttotal: 35.1s\tremaining: 2m 20s\n",
      "1100:\tlearn: 0.0191230\ttotal: 38.5s\tremaining: 2m 16s\n",
      "1200:\tlearn: 0.0161949\ttotal: 42s\tremaining: 2m 12s\n",
      "1300:\tlearn: 0.0138146\ttotal: 45.3s\tremaining: 2m 8s\n",
      "1400:\tlearn: 0.0117460\ttotal: 48.8s\tremaining: 2m 5s\n",
      "1500:\tlearn: 0.0101226\ttotal: 52.1s\tremaining: 2m 1s\n",
      "1600:\tlearn: 0.0087564\ttotal: 55.5s\tremaining: 1m 57s\n",
      "1700:\tlearn: 0.0076459\ttotal: 58.8s\tremaining: 1m 54s\n",
      "1800:\tlearn: 0.0067146\ttotal: 1m 2s\tremaining: 1m 50s\n",
      "1900:\tlearn: 0.0059768\ttotal: 1m 5s\tremaining: 1m 46s\n",
      "2000:\tlearn: 0.0053662\ttotal: 1m 8s\tremaining: 1m 43s\n",
      "2100:\tlearn: 0.0048603\ttotal: 1m 11s\tremaining: 1m 39s\n",
      "2200:\tlearn: 0.0044839\ttotal: 1m 15s\tremaining: 1m 35s\n",
      "2300:\tlearn: 0.0041037\ttotal: 1m 18s\tremaining: 1m 31s\n",
      "2400:\tlearn: 0.0037631\ttotal: 1m 21s\tremaining: 1m 28s\n",
      "2500:\tlearn: 0.0035019\ttotal: 1m 24s\tremaining: 1m 24s\n",
      "2600:\tlearn: 0.0032730\ttotal: 1m 27s\tremaining: 1m 20s\n",
      "2700:\tlearn: 0.0030847\ttotal: 1m 30s\tremaining: 1m 17s\n",
      "2800:\tlearn: 0.0029059\ttotal: 1m 33s\tremaining: 1m 13s\n",
      "2900:\tlearn: 0.0027573\ttotal: 1m 36s\tremaining: 1m 9s\n",
      "3000:\tlearn: 0.0026019\ttotal: 1m 39s\tremaining: 1m 6s\n",
      "3100:\tlearn: 0.0024537\ttotal: 1m 42s\tremaining: 1m 2s\n",
      "3200:\tlearn: 0.0023403\ttotal: 1m 45s\tremaining: 59.4s\n",
      "3300:\tlearn: 0.0022330\ttotal: 1m 48s\tremaining: 56s\n",
      "3400:\tlearn: 0.0021388\ttotal: 1m 51s\tremaining: 52.5s\n",
      "3500:\tlearn: 0.0020517\ttotal: 1m 54s\tremaining: 49.1s\n",
      "3600:\tlearn: 0.0019664\ttotal: 1m 57s\tremaining: 45.7s\n",
      "3700:\tlearn: 0.0018878\ttotal: 2m\tremaining: 42.3s\n",
      "3800:\tlearn: 0.0018164\ttotal: 2m 3s\tremaining: 39s\n",
      "3900:\tlearn: 0.0017519\ttotal: 2m 6s\tremaining: 35.6s\n",
      "4000:\tlearn: 0.0016806\ttotal: 2m 9s\tremaining: 32.3s\n",
      "4100:\tlearn: 0.0016199\ttotal: 2m 12s\tremaining: 29s\n",
      "4200:\tlearn: 0.0015654\ttotal: 2m 15s\tremaining: 25.7s\n",
      "4300:\tlearn: 0.0015172\ttotal: 2m 18s\tremaining: 22.5s\n",
      "4400:\tlearn: 0.0014704\ttotal: 2m 21s\tremaining: 19.2s\n",
      "4500:\tlearn: 0.0014224\ttotal: 2m 24s\tremaining: 16s\n",
      "4600:\tlearn: 0.0013816\ttotal: 2m 26s\tremaining: 12.7s\n",
      "4700:\tlearn: 0.0013424\ttotal: 2m 29s\tremaining: 9.52s\n",
      "4800:\tlearn: 0.0013093\ttotal: 2m 32s\tremaining: 6.32s\n",
      "4900:\tlearn: 0.0012772\ttotal: 2m 35s\tremaining: 3.14s\n",
      "4999:\tlearn: 0.0012497\ttotal: 2m 38s\tremaining: 0us\n"
     ]
    },
    {
     "name": "stderr",
     "output_type": "stream",
     "text": [
      "Warning: less than 75% gpu memory available for training. Free: 7395.75 Total: 15109.75\n"
     ]
    },
    {
     "name": "stdout",
     "output_type": "stream",
     "text": [
      "0:\tlearn: 0.6053625\ttotal: 201ms\tremaining: 16m 42s\n",
      "100:\tlearn: 0.1037083\ttotal: 10.2s\tremaining: 8m 15s\n",
      "200:\tlearn: 0.0528132\ttotal: 19.8s\tremaining: 7m 51s\n",
      "300:\tlearn: 0.0318230\ttotal: 28.9s\tremaining: 7m 31s\n",
      "400:\tlearn: 0.0205059\ttotal: 38s\tremaining: 7m 16s\n",
      "500:\tlearn: 0.0137097\ttotal: 47.2s\tremaining: 7m 3s\n",
      "600:\tlearn: 0.0094135\ttotal: 56.3s\tremaining: 6m 52s\n",
      "700:\tlearn: 0.0070161\ttotal: 1m 5s\tremaining: 6m 39s\n",
      "800:\tlearn: 0.0055723\ttotal: 1m 13s\tremaining: 6m 25s\n",
      "900:\tlearn: 0.0046091\ttotal: 1m 21s\tremaining: 6m 12s\n",
      "1000:\tlearn: 0.0038949\ttotal: 1m 30s\tremaining: 6m\n",
      "1100:\tlearn: 0.0034386\ttotal: 1m 38s\tremaining: 5m 47s\n",
      "1200:\tlearn: 0.0030841\ttotal: 1m 45s\tremaining: 5m 35s\n",
      "1300:\tlearn: 0.0027857\ttotal: 1m 53s\tremaining: 5m 23s\n",
      "1400:\tlearn: 0.0025317\ttotal: 2m 1s\tremaining: 5m 11s\n",
      "1500:\tlearn: 0.0023487\ttotal: 2m 8s\tremaining: 5m\n",
      "1600:\tlearn: 0.0021751\ttotal: 2m 16s\tremaining: 4m 49s\n",
      "1700:\tlearn: 0.0020024\ttotal: 2m 24s\tremaining: 4m 39s\n",
      "1800:\tlearn: 0.0018748\ttotal: 2m 31s\tremaining: 4m 29s\n",
      "1900:\tlearn: 0.0017672\ttotal: 2m 39s\tremaining: 4m 19s\n",
      "2000:\tlearn: 0.0016700\ttotal: 2m 46s\tremaining: 4m 9s\n",
      "2100:\tlearn: 0.0015829\ttotal: 2m 53s\tremaining: 3m 59s\n",
      "2200:\tlearn: 0.0014959\ttotal: 3m 1s\tremaining: 3m 50s\n",
      "2300:\tlearn: 0.0014340\ttotal: 3m 8s\tremaining: 3m 41s\n",
      "2400:\tlearn: 0.0013660\ttotal: 3m 15s\tremaining: 3m 32s\n",
      "2500:\tlearn: 0.0013142\ttotal: 3m 23s\tremaining: 3m 23s\n",
      "2600:\tlearn: 0.0012735\ttotal: 3m 30s\tremaining: 3m 13s\n",
      "2700:\tlearn: 0.0012286\ttotal: 3m 37s\tremaining: 3m 5s\n",
      "2800:\tlearn: 0.0011918\ttotal: 3m 44s\tremaining: 2m 56s\n",
      "2900:\tlearn: 0.0011573\ttotal: 3m 51s\tremaining: 2m 47s\n",
      "3000:\tlearn: 0.0011204\ttotal: 3m 58s\tremaining: 2m 39s\n",
      "3100:\tlearn: 0.0010879\ttotal: 4m 6s\tremaining: 2m 30s\n",
      "3200:\tlearn: 0.0010578\ttotal: 4m 13s\tremaining: 2m 22s\n",
      "3300:\tlearn: 0.0010265\ttotal: 4m 20s\tremaining: 2m 13s\n",
      "3400:\tlearn: 0.0010012\ttotal: 4m 27s\tremaining: 2m 5s\n",
      "3500:\tlearn: 0.0009774\ttotal: 4m 34s\tremaining: 1m 57s\n",
      "3600:\tlearn: 0.0009544\ttotal: 4m 41s\tremaining: 1m 49s\n",
      "3700:\tlearn: 0.0009314\ttotal: 4m 48s\tremaining: 1m 41s\n",
      "3800:\tlearn: 0.0009091\ttotal: 4m 55s\tremaining: 1m 33s\n",
      "3900:\tlearn: 0.0008843\ttotal: 5m 2s\tremaining: 1m 25s\n",
      "4000:\tlearn: 0.0008641\ttotal: 5m 9s\tremaining: 1m 17s\n",
      "4100:\tlearn: 0.0008448\ttotal: 5m 16s\tremaining: 1m 9s\n",
      "4200:\tlearn: 0.0008245\ttotal: 5m 23s\tremaining: 1m 1s\n",
      "4300:\tlearn: 0.0008076\ttotal: 5m 31s\tremaining: 53.8s\n",
      "4400:\tlearn: 0.0007908\ttotal: 5m 38s\tremaining: 46s\n",
      "4500:\tlearn: 0.0007730\ttotal: 5m 45s\tremaining: 38.3s\n",
      "4600:\tlearn: 0.0007582\ttotal: 5m 52s\tremaining: 30.5s\n",
      "4700:\tlearn: 0.0007432\ttotal: 5m 59s\tremaining: 22.8s\n",
      "4800:\tlearn: 0.0007270\ttotal: 6m 6s\tremaining: 15.2s\n",
      "4900:\tlearn: 0.0007149\ttotal: 6m 13s\tremaining: 7.54s\n",
      "4999:\tlearn: 0.0007024\ttotal: 6m 20s\tremaining: 0us\n"
     ]
    },
    {
     "name": "stderr",
     "output_type": "stream",
     "text": [
      "Warning: less than 75% gpu memory available for training. Free: 7395.75 Total: 15109.75\n"
     ]
    },
    {
     "name": "stdout",
     "output_type": "stream",
     "text": [
      "0:\tlearn: 0.6020397\ttotal: 202ms\tremaining: 16m 49s\n",
      "100:\tlearn: 0.1071316\ttotal: 10.1s\tremaining: 8m 9s\n",
      "200:\tlearn: 0.0541977\ttotal: 19.6s\tremaining: 7m 47s\n",
      "300:\tlearn: 0.0326484\ttotal: 28.7s\tremaining: 7m 28s\n",
      "400:\tlearn: 0.0212556\ttotal: 37.8s\tremaining: 7m 13s\n",
      "500:\tlearn: 0.0145384\ttotal: 46.8s\tremaining: 7m\n",
      "600:\tlearn: 0.0108024\ttotal: 55.5s\tremaining: 6m 46s\n",
      "700:\tlearn: 0.0082519\ttotal: 1m 4s\tremaining: 6m 33s\n",
      "800:\tlearn: 0.0068214\ttotal: 1m 12s\tremaining: 6m 19s\n",
      "900:\tlearn: 0.0058436\ttotal: 1m 20s\tremaining: 6m 5s\n",
      "1000:\tlearn: 0.0051451\ttotal: 1m 27s\tremaining: 5m 51s\n",
      "1100:\tlearn: 0.0047191\ttotal: 1m 35s\tremaining: 5m 38s\n",
      "1200:\tlearn: 0.0042691\ttotal: 1m 43s\tremaining: 5m 26s\n",
      "1300:\tlearn: 0.0039874\ttotal: 1m 50s\tremaining: 5m 14s\n",
      "1400:\tlearn: 0.0037167\ttotal: 1m 57s\tremaining: 5m 2s\n",
      "1500:\tlearn: 0.0034995\ttotal: 2m 5s\tremaining: 4m 51s\n",
      "1600:\tlearn: 0.0033225\ttotal: 2m 12s\tremaining: 4m 41s\n",
      "1700:\tlearn: 0.0031321\ttotal: 2m 19s\tremaining: 4m 31s\n",
      "1800:\tlearn: 0.0029968\ttotal: 2m 27s\tremaining: 4m 21s\n",
      "1900:\tlearn: 0.0028762\ttotal: 2m 34s\tremaining: 4m 11s\n",
      "2000:\tlearn: 0.0027656\ttotal: 2m 41s\tremaining: 4m 1s\n",
      "2100:\tlearn: 0.0026603\ttotal: 2m 48s\tremaining: 3m 52s\n",
      "2200:\tlearn: 0.0025650\ttotal: 2m 55s\tremaining: 3m 43s\n",
      "2300:\tlearn: 0.0024696\ttotal: 3m 2s\tremaining: 3m 34s\n",
      "2400:\tlearn: 0.0023818\ttotal: 3m 9s\tremaining: 3m 25s\n",
      "2500:\tlearn: 0.0023085\ttotal: 3m 17s\tremaining: 3m 16s\n",
      "2600:\tlearn: 0.0022512\ttotal: 3m 24s\tremaining: 3m 8s\n",
      "2700:\tlearn: 0.0021843\ttotal: 3m 31s\tremaining: 2m 59s\n",
      "2800:\tlearn: 0.0021249\ttotal: 3m 38s\tremaining: 2m 51s\n",
      "2900:\tlearn: 0.0020754\ttotal: 3m 45s\tremaining: 2m 42s\n",
      "3000:\tlearn: 0.0020242\ttotal: 3m 52s\tremaining: 2m 34s\n",
      "3100:\tlearn: 0.0019812\ttotal: 3m 59s\tremaining: 2m 26s\n",
      "3200:\tlearn: 0.0019393\ttotal: 4m 6s\tremaining: 2m 18s\n",
      "3300:\tlearn: 0.0018989\ttotal: 4m 13s\tremaining: 2m 10s\n",
      "3400:\tlearn: 0.0018633\ttotal: 4m 20s\tremaining: 2m 2s\n",
      "3500:\tlearn: 0.0018308\ttotal: 4m 27s\tremaining: 1m 54s\n",
      "3600:\tlearn: 0.0017957\ttotal: 4m 34s\tremaining: 1m 46s\n",
      "3700:\tlearn: 0.0017625\ttotal: 4m 41s\tremaining: 1m 38s\n",
      "3800:\tlearn: 0.0017337\ttotal: 4m 47s\tremaining: 1m 30s\n",
      "3900:\tlearn: 0.0017025\ttotal: 4m 54s\tremaining: 1m 23s\n",
      "4000:\tlearn: 0.0016728\ttotal: 5m 1s\tremaining: 1m 15s\n",
      "4100:\tlearn: 0.0016418\ttotal: 5m 8s\tremaining: 1m 7s\n",
      "4200:\tlearn: 0.0016136\ttotal: 5m 15s\tremaining: 1m\n",
      "4300:\tlearn: 0.0015906\ttotal: 5m 22s\tremaining: 52.5s\n",
      "4400:\tlearn: 0.0015641\ttotal: 5m 29s\tremaining: 44.9s\n",
      "4500:\tlearn: 0.0015398\ttotal: 5m 36s\tremaining: 37.3s\n",
      "4600:\tlearn: 0.0015159\ttotal: 5m 43s\tremaining: 29.8s\n",
      "4700:\tlearn: 0.0014917\ttotal: 5m 50s\tremaining: 22.3s\n",
      "4800:\tlearn: 0.0014708\ttotal: 5m 57s\tremaining: 14.8s\n",
      "4900:\tlearn: 0.0014521\ttotal: 6m 4s\tremaining: 7.36s\n",
      "4999:\tlearn: 0.0014338\ttotal: 6m 11s\tremaining: 0us\n"
     ]
    },
    {
     "name": "stderr",
     "output_type": "stream",
     "text": [
      "Warning: less than 75% gpu memory available for training. Free: 7395.75 Total: 15109.75\n"
     ]
    },
    {
     "name": "stdout",
     "output_type": "stream",
     "text": [
      "0:\tlearn: 0.6051030\ttotal: 190ms\tremaining: 15m 50s\n",
      "100:\tlearn: 0.1038957\ttotal: 10.1s\tremaining: 8m 12s\n",
      "200:\tlearn: 0.0531905\ttotal: 19.6s\tremaining: 7m 48s\n",
      "300:\tlearn: 0.0318329\ttotal: 28.9s\tremaining: 7m 30s\n",
      "400:\tlearn: 0.0209868\ttotal: 37.9s\tremaining: 7m 14s\n",
      "500:\tlearn: 0.0137746\ttotal: 47.1s\tremaining: 7m 2s\n",
      "600:\tlearn: 0.0095981\ttotal: 56.2s\tremaining: 6m 51s\n",
      "700:\tlearn: 0.0070523\ttotal: 1m 5s\tremaining: 6m 39s\n",
      "800:\tlearn: 0.0055682\ttotal: 1m 13s\tremaining: 6m 25s\n",
      "900:\tlearn: 0.0045329\ttotal: 1m 21s\tremaining: 6m 12s\n",
      "1000:\tlearn: 0.0038228\ttotal: 1m 30s\tremaining: 6m\n",
      "1100:\tlearn: 0.0032796\ttotal: 1m 38s\tremaining: 5m 47s\n",
      "1200:\tlearn: 0.0028941\ttotal: 1m 46s\tremaining: 5m 36s\n",
      "1300:\tlearn: 0.0025877\ttotal: 1m 54s\tremaining: 5m 24s\n",
      "1400:\tlearn: 0.0023212\ttotal: 2m 1s\tremaining: 5m 13s\n",
      "1500:\tlearn: 0.0021249\ttotal: 2m 9s\tremaining: 5m 2s\n",
      "1600:\tlearn: 0.0019649\ttotal: 2m 17s\tremaining: 4m 51s\n",
      "1700:\tlearn: 0.0018018\ttotal: 2m 25s\tremaining: 4m 41s\n",
      "1800:\tlearn: 0.0016795\ttotal: 2m 32s\tremaining: 4m 31s\n",
      "1900:\tlearn: 0.0015592\ttotal: 2m 40s\tremaining: 4m 21s\n",
      "2000:\tlearn: 0.0014598\ttotal: 2m 47s\tremaining: 4m 11s\n",
      "2100:\tlearn: 0.0013688\ttotal: 2m 55s\tremaining: 4m 1s\n",
      "2200:\tlearn: 0.0012977\ttotal: 3m 2s\tremaining: 3m 52s\n",
      "2300:\tlearn: 0.0012268\ttotal: 3m 10s\tremaining: 3m 43s\n",
      "2400:\tlearn: 0.0011682\ttotal: 3m 17s\tremaining: 3m 33s\n",
      "2500:\tlearn: 0.0011145\ttotal: 3m 24s\tremaining: 3m 24s\n",
      "2600:\tlearn: 0.0010593\ttotal: 3m 32s\tremaining: 3m 15s\n",
      "2700:\tlearn: 0.0010172\ttotal: 3m 39s\tremaining: 3m 6s\n",
      "2800:\tlearn: 0.0009741\ttotal: 3m 46s\tremaining: 2m 57s\n",
      "2900:\tlearn: 0.0009368\ttotal: 3m 53s\tremaining: 2m 49s\n",
      "3000:\tlearn: 0.0009023\ttotal: 4m 1s\tremaining: 2m 40s\n",
      "3100:\tlearn: 0.0008681\ttotal: 4m 8s\tremaining: 2m 32s\n",
      "3200:\tlearn: 0.0008398\ttotal: 4m 15s\tremaining: 2m 23s\n",
      "3300:\tlearn: 0.0008107\ttotal: 4m 22s\tremaining: 2m 15s\n",
      "3400:\tlearn: 0.0007847\ttotal: 4m 30s\tremaining: 2m 6s\n",
      "3500:\tlearn: 0.0007605\ttotal: 4m 37s\tremaining: 1m 58s\n",
      "3600:\tlearn: 0.0007372\ttotal: 4m 44s\tremaining: 1m 50s\n",
      "3700:\tlearn: 0.0007140\ttotal: 4m 51s\tremaining: 1m 42s\n",
      "3800:\tlearn: 0.0006941\ttotal: 4m 58s\tremaining: 1m 34s\n",
      "3900:\tlearn: 0.0006762\ttotal: 5m 5s\tremaining: 1m 26s\n",
      "4000:\tlearn: 0.0006562\ttotal: 5m 13s\tremaining: 1m 18s\n",
      "4100:\tlearn: 0.0006368\ttotal: 5m 20s\tremaining: 1m 10s\n",
      "4200:\tlearn: 0.0006181\ttotal: 5m 27s\tremaining: 1m 2s\n",
      "4300:\tlearn: 0.0006029\ttotal: 5m 34s\tremaining: 54.4s\n",
      "4400:\tlearn: 0.0005878\ttotal: 5m 41s\tremaining: 46.5s\n",
      "4500:\tlearn: 0.0005720\ttotal: 5m 48s\tremaining: 38.7s\n",
      "4600:\tlearn: 0.0005580\ttotal: 5m 55s\tremaining: 30.9s\n",
      "4700:\tlearn: 0.0005458\ttotal: 6m 3s\tremaining: 23.1s\n",
      "4800:\tlearn: 0.0005335\ttotal: 6m 10s\tremaining: 15.3s\n",
      "4900:\tlearn: 0.0005225\ttotal: 6m 17s\tremaining: 7.62s\n",
      "4999:\tlearn: 0.0005132\ttotal: 6m 24s\tremaining: 0us\n"
     ]
    },
    {
     "name": "stderr",
     "output_type": "stream",
     "text": [
      "Warning: less than 75% gpu memory available for training. Free: 7395.75 Total: 15109.75\n"
     ]
    },
    {
     "name": "stdout",
     "output_type": "stream",
     "text": [
      "0:\tlearn: 0.6578175\ttotal: 33.2ms\tremaining: 2m 46s\n",
      "100:\tlearn: 0.2702001\ttotal: 1.93s\tremaining: 1m 33s\n",
      "200:\tlearn: 0.2381228\ttotal: 3.61s\tremaining: 1m 26s\n",
      "300:\tlearn: 0.2177549\ttotal: 5.26s\tremaining: 1m 22s\n",
      "400:\tlearn: 0.2015911\ttotal: 6.91s\tremaining: 1m 19s\n",
      "500:\tlearn: 0.1882054\ttotal: 8.54s\tremaining: 1m 16s\n",
      "600:\tlearn: 0.1762096\ttotal: 10.2s\tremaining: 1m 14s\n",
      "700:\tlearn: 0.1658307\ttotal: 11.8s\tremaining: 1m 12s\n",
      "800:\tlearn: 0.1561240\ttotal: 13.5s\tremaining: 1m 10s\n",
      "900:\tlearn: 0.1472172\ttotal: 15.2s\tremaining: 1m 9s\n",
      "1000:\tlearn: 0.1390561\ttotal: 16.9s\tremaining: 1m 7s\n",
      "1100:\tlearn: 0.1315657\ttotal: 18.5s\tremaining: 1m 5s\n",
      "1200:\tlearn: 0.1246912\ttotal: 20.2s\tremaining: 1m 3s\n",
      "1300:\tlearn: 0.1180354\ttotal: 21.9s\tremaining: 1m 2s\n",
      "1400:\tlearn: 0.1120318\ttotal: 23.6s\tremaining: 1m\n",
      "1500:\tlearn: 0.1064353\ttotal: 25.3s\tremaining: 59s\n",
      "1600:\tlearn: 0.1011908\ttotal: 27s\tremaining: 57.4s\n",
      "1700:\tlearn: 0.0961838\ttotal: 28.7s\tremaining: 55.7s\n",
      "1800:\tlearn: 0.0914171\ttotal: 30.4s\tremaining: 54s\n",
      "1900:\tlearn: 0.0869530\ttotal: 32.1s\tremaining: 52.4s\n",
      "2000:\tlearn: 0.0828652\ttotal: 33.9s\tremaining: 50.7s\n",
      "2100:\tlearn: 0.0790914\ttotal: 35.5s\tremaining: 49s\n",
      "2200:\tlearn: 0.0754515\ttotal: 37.2s\tremaining: 47.3s\n",
      "2300:\tlearn: 0.0719931\ttotal: 38.9s\tremaining: 45.7s\n",
      "2400:\tlearn: 0.0688420\ttotal: 40.6s\tremaining: 43.9s\n",
      "2500:\tlearn: 0.0658666\ttotal: 42.3s\tremaining: 42.2s\n",
      "2600:\tlearn: 0.0630078\ttotal: 43.9s\tremaining: 40.5s\n",
      "2700:\tlearn: 0.0602939\ttotal: 45.6s\tremaining: 38.8s\n",
      "2800:\tlearn: 0.0577250\ttotal: 47.3s\tremaining: 37.1s\n",
      "2900:\tlearn: 0.0553951\ttotal: 49s\tremaining: 35.4s\n",
      "3000:\tlearn: 0.0530883\ttotal: 50.6s\tremaining: 33.7s\n",
      "3100:\tlearn: 0.0510031\ttotal: 52.3s\tremaining: 32s\n",
      "3200:\tlearn: 0.0489728\ttotal: 53.9s\tremaining: 30.3s\n",
      "3300:\tlearn: 0.0470971\ttotal: 55.6s\tremaining: 28.6s\n",
      "3400:\tlearn: 0.0452836\ttotal: 57.2s\tremaining: 26.9s\n",
      "3500:\tlearn: 0.0435425\ttotal: 58.9s\tremaining: 25.2s\n",
      "3600:\tlearn: 0.0419284\ttotal: 1m\tremaining: 23.5s\n",
      "3700:\tlearn: 0.0403188\ttotal: 1m 2s\tremaining: 21.8s\n",
      "3800:\tlearn: 0.0388185\ttotal: 1m 3s\tremaining: 20.1s\n",
      "3900:\tlearn: 0.0373657\ttotal: 1m 5s\tremaining: 18.5s\n",
      "4000:\tlearn: 0.0359506\ttotal: 1m 7s\tremaining: 16.8s\n",
      "4100:\tlearn: 0.0345627\ttotal: 1m 8s\tremaining: 15.1s\n",
      "4200:\tlearn: 0.0332654\ttotal: 1m 10s\tremaining: 13.4s\n",
      "4300:\tlearn: 0.0320627\ttotal: 1m 12s\tremaining: 11.7s\n",
      "4400:\tlearn: 0.0308848\ttotal: 1m 13s\tremaining: 10s\n",
      "4500:\tlearn: 0.0298435\ttotal: 1m 15s\tremaining: 8.36s\n",
      "4600:\tlearn: 0.0288063\ttotal: 1m 17s\tremaining: 6.68s\n",
      "4700:\tlearn: 0.0277880\ttotal: 1m 18s\tremaining: 5s\n",
      "4800:\tlearn: 0.0267634\ttotal: 1m 20s\tremaining: 3.33s\n",
      "4900:\tlearn: 0.0258008\ttotal: 1m 21s\tremaining: 1.66s\n",
      "4999:\tlearn: 0.0249214\ttotal: 1m 23s\tremaining: 0us\n"
     ]
    },
    {
     "name": "stderr",
     "output_type": "stream",
     "text": [
      "Warning: less than 75% gpu memory available for training. Free: 7395.75 Total: 15109.75\n"
     ]
    },
    {
     "name": "stdout",
     "output_type": "stream",
     "text": [
      "0:\tlearn: 0.6568980\ttotal: 32.6ms\tremaining: 2m 43s\n",
      "100:\tlearn: 0.2698414\ttotal: 1.93s\tremaining: 1m 33s\n",
      "200:\tlearn: 0.2381856\ttotal: 3.6s\tremaining: 1m 25s\n",
      "300:\tlearn: 0.2174168\ttotal: 5.24s\tremaining: 1m 21s\n",
      "400:\tlearn: 0.2020694\ttotal: 6.86s\tremaining: 1m 18s\n",
      "500:\tlearn: 0.1883897\ttotal: 8.5s\tremaining: 1m 16s\n",
      "600:\tlearn: 0.1764559\ttotal: 10.1s\tremaining: 1m 14s\n",
      "700:\tlearn: 0.1654732\ttotal: 11.8s\tremaining: 1m 12s\n",
      "800:\tlearn: 0.1561249\ttotal: 13.4s\tremaining: 1m 10s\n",
      "900:\tlearn: 0.1471182\ttotal: 15.1s\tremaining: 1m 8s\n",
      "1000:\tlearn: 0.1390150\ttotal: 16.8s\tremaining: 1m 6s\n",
      "1100:\tlearn: 0.1314258\ttotal: 18.4s\tremaining: 1m 5s\n",
      "1200:\tlearn: 0.1243217\ttotal: 20.1s\tremaining: 1m 3s\n",
      "1300:\tlearn: 0.1178239\ttotal: 21.8s\tremaining: 1m 1s\n",
      "1400:\tlearn: 0.1118083\ttotal: 23.5s\tremaining: 1m\n",
      "1500:\tlearn: 0.1062353\ttotal: 25.2s\tremaining: 58.7s\n",
      "1600:\tlearn: 0.1011397\ttotal: 26.9s\tremaining: 57.1s\n",
      "1700:\tlearn: 0.0960621\ttotal: 28.6s\tremaining: 55.5s\n",
      "1800:\tlearn: 0.0914124\ttotal: 30.3s\tremaining: 53.9s\n",
      "1900:\tlearn: 0.0870431\ttotal: 32s\tremaining: 52.2s\n",
      "2000:\tlearn: 0.0829391\ttotal: 33.7s\tremaining: 50.6s\n",
      "2100:\tlearn: 0.0790854\ttotal: 35.4s\tremaining: 48.9s\n",
      "2200:\tlearn: 0.0754454\ttotal: 37.2s\tremaining: 47.2s\n",
      "2300:\tlearn: 0.0720546\ttotal: 38.8s\tremaining: 45.5s\n",
      "2400:\tlearn: 0.0688850\ttotal: 40.5s\tremaining: 43.9s\n",
      "2500:\tlearn: 0.0659352\ttotal: 42.2s\tremaining: 42.2s\n",
      "2600:\tlearn: 0.0631890\ttotal: 43.9s\tremaining: 40.5s\n",
      "2700:\tlearn: 0.0604519\ttotal: 45.6s\tremaining: 38.8s\n",
      "2800:\tlearn: 0.0578921\ttotal: 47.3s\tremaining: 37.1s\n",
      "2900:\tlearn: 0.0555053\ttotal: 48.9s\tremaining: 35.4s\n",
      "3000:\tlearn: 0.0531659\ttotal: 50.6s\tremaining: 33.7s\n",
      "3100:\tlearn: 0.0510794\ttotal: 52.3s\tremaining: 32s\n",
      "3200:\tlearn: 0.0490418\ttotal: 53.9s\tremaining: 30.3s\n",
      "3300:\tlearn: 0.0471034\ttotal: 55.6s\tremaining: 28.6s\n",
      "3400:\tlearn: 0.0453022\ttotal: 57.3s\tremaining: 26.9s\n",
      "3500:\tlearn: 0.0435804\ttotal: 58.9s\tremaining: 25.2s\n",
      "3600:\tlearn: 0.0419194\ttotal: 1m\tremaining: 23.5s\n",
      "3700:\tlearn: 0.0402795\ttotal: 1m 2s\tremaining: 21.8s\n",
      "3800:\tlearn: 0.0387596\ttotal: 1m 3s\tremaining: 20.1s\n",
      "3900:\tlearn: 0.0373026\ttotal: 1m 5s\tremaining: 18.4s\n",
      "4000:\tlearn: 0.0359315\ttotal: 1m 7s\tremaining: 16.8s\n",
      "4100:\tlearn: 0.0345581\ttotal: 1m 8s\tremaining: 15.1s\n",
      "4200:\tlearn: 0.0333236\ttotal: 1m 10s\tremaining: 13.4s\n",
      "4300:\tlearn: 0.0321386\ttotal: 1m 12s\tremaining: 11.7s\n",
      "4400:\tlearn: 0.0309747\ttotal: 1m 13s\tremaining: 10s\n",
      "4500:\tlearn: 0.0298854\ttotal: 1m 15s\tremaining: 8.35s\n",
      "4600:\tlearn: 0.0288224\ttotal: 1m 17s\tremaining: 6.68s\n",
      "4700:\tlearn: 0.0278001\ttotal: 1m 18s\tremaining: 5s\n",
      "4800:\tlearn: 0.0268148\ttotal: 1m 20s\tremaining: 3.33s\n",
      "4900:\tlearn: 0.0259306\ttotal: 1m 21s\tremaining: 1.66s\n",
      "4999:\tlearn: 0.0249952\ttotal: 1m 23s\tremaining: 0us\n"
     ]
    },
    {
     "name": "stderr",
     "output_type": "stream",
     "text": [
      "Warning: less than 75% gpu memory available for training. Free: 7395.75 Total: 15109.75\n"
     ]
    },
    {
     "name": "stdout",
     "output_type": "stream",
     "text": [
      "0:\tlearn: 0.6580212\ttotal: 32.9ms\tremaining: 2m 44s\n",
      "100:\tlearn: 0.2703594\ttotal: 1.9s\tremaining: 1m 32s\n",
      "200:\tlearn: 0.2377175\ttotal: 3.54s\tremaining: 1m 24s\n",
      "300:\tlearn: 0.2172984\ttotal: 5.19s\tremaining: 1m 20s\n",
      "400:\tlearn: 0.2011742\ttotal: 6.81s\tremaining: 1m 18s\n",
      "500:\tlearn: 0.1874348\ttotal: 8.44s\tremaining: 1m 15s\n",
      "600:\tlearn: 0.1754439\ttotal: 10.1s\tremaining: 1m 13s\n",
      "700:\tlearn: 0.1646614\ttotal: 11.7s\tremaining: 1m 11s\n",
      "800:\tlearn: 0.1549861\ttotal: 13.4s\tremaining: 1m 10s\n",
      "900:\tlearn: 0.1461585\ttotal: 15s\tremaining: 1m 8s\n",
      "1000:\tlearn: 0.1379130\ttotal: 16.7s\tremaining: 1m 6s\n",
      "1100:\tlearn: 0.1302811\ttotal: 18.4s\tremaining: 1m 5s\n",
      "1200:\tlearn: 0.1232687\ttotal: 20.1s\tremaining: 1m 3s\n",
      "1300:\tlearn: 0.1167918\ttotal: 21.8s\tremaining: 1m 1s\n",
      "1400:\tlearn: 0.1107294\ttotal: 23.5s\tremaining: 1m\n",
      "1500:\tlearn: 0.1050600\ttotal: 25.2s\tremaining: 58.6s\n",
      "1600:\tlearn: 0.0998738\ttotal: 26.9s\tremaining: 57.1s\n",
      "1700:\tlearn: 0.0948431\ttotal: 28.6s\tremaining: 55.4s\n",
      "1800:\tlearn: 0.0902847\ttotal: 30.3s\tremaining: 53.8s\n",
      "1900:\tlearn: 0.0859667\ttotal: 32s\tremaining: 52.1s\n",
      "2000:\tlearn: 0.0819590\ttotal: 33.7s\tremaining: 50.5s\n",
      "2100:\tlearn: 0.0781551\ttotal: 35.4s\tremaining: 48.8s\n",
      "2200:\tlearn: 0.0746087\ttotal: 37.1s\tremaining: 47.2s\n",
      "2300:\tlearn: 0.0712608\ttotal: 38.8s\tremaining: 45.5s\n",
      "2400:\tlearn: 0.0680060\ttotal: 40.5s\tremaining: 43.8s\n",
      "2500:\tlearn: 0.0650321\ttotal: 42.1s\tremaining: 42.1s\n",
      "2600:\tlearn: 0.0621967\ttotal: 43.8s\tremaining: 40.4s\n",
      "2700:\tlearn: 0.0595788\ttotal: 45.5s\tremaining: 38.7s\n",
      "2800:\tlearn: 0.0571231\ttotal: 47.2s\tremaining: 37s\n",
      "2900:\tlearn: 0.0549113\ttotal: 48.8s\tremaining: 35.3s\n",
      "3000:\tlearn: 0.0526503\ttotal: 50.5s\tremaining: 33.6s\n",
      "3100:\tlearn: 0.0504955\ttotal: 52.2s\tremaining: 31.9s\n",
      "3200:\tlearn: 0.0484605\ttotal: 53.9s\tremaining: 30.3s\n",
      "3300:\tlearn: 0.0465164\ttotal: 55.5s\tremaining: 28.6s\n",
      "3400:\tlearn: 0.0447512\ttotal: 57.2s\tremaining: 26.9s\n",
      "3500:\tlearn: 0.0429957\ttotal: 58.8s\tremaining: 25.2s\n",
      "3600:\tlearn: 0.0413110\ttotal: 1m\tremaining: 23.5s\n",
      "3700:\tlearn: 0.0397912\ttotal: 1m 2s\tremaining: 21.8s\n",
      "3800:\tlearn: 0.0383254\ttotal: 1m 3s\tremaining: 20.1s\n",
      "3900:\tlearn: 0.0369031\ttotal: 1m 5s\tremaining: 18.4s\n",
      "4000:\tlearn: 0.0354426\ttotal: 1m 7s\tremaining: 16.7s\n",
      "4100:\tlearn: 0.0341127\ttotal: 1m 8s\tremaining: 15.1s\n",
      "4200:\tlearn: 0.0328653\ttotal: 1m 10s\tremaining: 13.4s\n",
      "4300:\tlearn: 0.0316455\ttotal: 1m 12s\tremaining: 11.7s\n",
      "4400:\tlearn: 0.0304612\ttotal: 1m 13s\tremaining: 10s\n",
      "4500:\tlearn: 0.0293730\ttotal: 1m 15s\tremaining: 8.35s\n",
      "4600:\tlearn: 0.0283180\ttotal: 1m 16s\tremaining: 6.67s\n",
      "4700:\tlearn: 0.0272817\ttotal: 1m 18s\tremaining: 5s\n",
      "4800:\tlearn: 0.0263078\ttotal: 1m 20s\tremaining: 3.33s\n",
      "4900:\tlearn: 0.0253948\ttotal: 1m 21s\tremaining: 1.65s\n",
      "4999:\tlearn: 0.0244831\ttotal: 1m 23s\tremaining: 0us\n"
     ]
    },
    {
     "name": "stderr",
     "output_type": "stream",
     "text": [
      "Warning: less than 75% gpu memory available for training. Free: 7395.75 Total: 15109.75\n"
     ]
    },
    {
     "name": "stdout",
     "output_type": "stream",
     "text": [
      "0:\tlearn: 0.6531799\ttotal: 74.9ms\tremaining: 6m 14s\n",
      "100:\tlearn: 0.2305414\ttotal: 3.85s\tremaining: 3m 6s\n",
      "200:\tlearn: 0.1869559\ttotal: 7.41s\tremaining: 2m 56s\n",
      "300:\tlearn: 0.1571236\ttotal: 10.9s\tremaining: 2m 50s\n",
      "400:\tlearn: 0.1347160\ttotal: 14.4s\tremaining: 2m 45s\n",
      "500:\tlearn: 0.1157963\ttotal: 18s\tremaining: 2m 41s\n",
      "600:\tlearn: 0.0998912\ttotal: 21.6s\tremaining: 2m 38s\n",
      "700:\tlearn: 0.0868815\ttotal: 25.3s\tremaining: 2m 34s\n",
      "800:\tlearn: 0.0761668\ttotal: 28.8s\tremaining: 2m 31s\n",
      "900:\tlearn: 0.0670762\ttotal: 32.4s\tremaining: 2m 27s\n",
      "1000:\tlearn: 0.0593172\ttotal: 36s\tremaining: 2m 23s\n",
      "1100:\tlearn: 0.0533823\ttotal: 39.5s\tremaining: 2m 19s\n",
      "1200:\tlearn: 0.0477369\ttotal: 43s\tremaining: 2m 15s\n",
      "1300:\tlearn: 0.0429015\ttotal: 46.5s\tremaining: 2m 12s\n",
      "1400:\tlearn: 0.0387156\ttotal: 50s\tremaining: 2m 8s\n",
      "1500:\tlearn: 0.0350527\ttotal: 53.4s\tremaining: 2m 4s\n",
      "1600:\tlearn: 0.0318244\ttotal: 56.8s\tremaining: 2m\n",
      "1700:\tlearn: 0.0290639\ttotal: 1m\tremaining: 1m 56s\n",
      "1800:\tlearn: 0.0265579\ttotal: 1m 3s\tremaining: 1m 53s\n",
      "1900:\tlearn: 0.0241859\ttotal: 1m 7s\tremaining: 1m 49s\n",
      "2000:\tlearn: 0.0221547\ttotal: 1m 10s\tremaining: 1m 45s\n",
      "2100:\tlearn: 0.0202644\ttotal: 1m 13s\tremaining: 1m 42s\n",
      "2200:\tlearn: 0.0184936\ttotal: 1m 17s\tremaining: 1m 38s\n",
      "2300:\tlearn: 0.0169734\ttotal: 1m 20s\tremaining: 1m 34s\n",
      "2400:\tlearn: 0.0155979\ttotal: 1m 24s\tremaining: 1m 31s\n",
      "2500:\tlearn: 0.0143994\ttotal: 1m 27s\tremaining: 1m 27s\n",
      "2600:\tlearn: 0.0132393\ttotal: 1m 30s\tremaining: 1m 23s\n",
      "2700:\tlearn: 0.0122195\ttotal: 1m 34s\tremaining: 1m 20s\n",
      "2800:\tlearn: 0.0113151\ttotal: 1m 37s\tremaining: 1m 16s\n",
      "2900:\tlearn: 0.0104803\ttotal: 1m 41s\tremaining: 1m 13s\n",
      "3000:\tlearn: 0.0097050\ttotal: 1m 44s\tremaining: 1m 9s\n",
      "3100:\tlearn: 0.0091158\ttotal: 1m 47s\tremaining: 1m 6s\n",
      "3200:\tlearn: 0.0085144\ttotal: 1m 51s\tremaining: 1m 2s\n",
      "3300:\tlearn: 0.0079690\ttotal: 1m 54s\tremaining: 59s\n",
      "3400:\tlearn: 0.0074608\ttotal: 1m 57s\tremaining: 55.4s\n",
      "3500:\tlearn: 0.0070455\ttotal: 2m 1s\tremaining: 51.9s\n",
      "3600:\tlearn: 0.0066734\ttotal: 2m 4s\tremaining: 48.4s\n",
      "3700:\tlearn: 0.0062953\ttotal: 2m 7s\tremaining: 44.9s\n",
      "3800:\tlearn: 0.0059675\ttotal: 2m 11s\tremaining: 41.3s\n",
      "3900:\tlearn: 0.0056628\ttotal: 2m 14s\tremaining: 37.8s\n",
      "4000:\tlearn: 0.0054013\ttotal: 2m 17s\tremaining: 34.3s\n",
      "4100:\tlearn: 0.0051458\ttotal: 2m 20s\tremaining: 30.9s\n",
      "4200:\tlearn: 0.0049357\ttotal: 2m 23s\tremaining: 27.4s\n",
      "4300:\tlearn: 0.0047273\ttotal: 2m 27s\tremaining: 23.9s\n",
      "4400:\tlearn: 0.0045245\ttotal: 2m 30s\tremaining: 20.5s\n",
      "4500:\tlearn: 0.0043563\ttotal: 2m 33s\tremaining: 17s\n",
      "4600:\tlearn: 0.0041912\ttotal: 2m 36s\tremaining: 13.6s\n",
      "4700:\tlearn: 0.0040379\ttotal: 2m 39s\tremaining: 10.2s\n",
      "4800:\tlearn: 0.0038891\ttotal: 2m 42s\tremaining: 6.75s\n",
      "4900:\tlearn: 0.0037484\ttotal: 2m 45s\tremaining: 3.35s\n",
      "4999:\tlearn: 0.0036267\ttotal: 2m 49s\tremaining: 0us\n"
     ]
    },
    {
     "name": "stderr",
     "output_type": "stream",
     "text": [
      "Warning: less than 75% gpu memory available for training. Free: 7395.75 Total: 15109.75\n"
     ]
    },
    {
     "name": "stdout",
     "output_type": "stream",
     "text": [
      "0:\tlearn: 0.6520643\ttotal: 76.3ms\tremaining: 6m 21s\n",
      "100:\tlearn: 0.2323292\ttotal: 3.9s\tremaining: 3m 9s\n",
      "200:\tlearn: 0.1880084\ttotal: 7.46s\tremaining: 2m 58s\n",
      "300:\tlearn: 0.1575890\ttotal: 11s\tremaining: 2m 51s\n",
      "400:\tlearn: 0.1347127\ttotal: 14.5s\tremaining: 2m 46s\n",
      "500:\tlearn: 0.1156423\ttotal: 18.1s\tremaining: 2m 42s\n",
      "600:\tlearn: 0.1002582\ttotal: 21.7s\tremaining: 2m 38s\n",
      "700:\tlearn: 0.0873258\ttotal: 25.3s\tremaining: 2m 35s\n",
      "800:\tlearn: 0.0764576\ttotal: 28.9s\tremaining: 2m 31s\n",
      "900:\tlearn: 0.0674494\ttotal: 32.4s\tremaining: 2m 27s\n",
      "1000:\tlearn: 0.0596000\ttotal: 36s\tremaining: 2m 23s\n",
      "1100:\tlearn: 0.0531083\ttotal: 39.5s\tremaining: 2m 20s\n",
      "1200:\tlearn: 0.0474719\ttotal: 43s\tremaining: 2m 16s\n",
      "1300:\tlearn: 0.0426989\ttotal: 46.5s\tremaining: 2m 12s\n",
      "1400:\tlearn: 0.0384230\ttotal: 50s\tremaining: 2m 8s\n",
      "1500:\tlearn: 0.0349217\ttotal: 53.4s\tremaining: 2m 4s\n",
      "1600:\tlearn: 0.0318432\ttotal: 56.8s\tremaining: 2m\n",
      "1700:\tlearn: 0.0289631\ttotal: 1m\tremaining: 1m 56s\n",
      "1800:\tlearn: 0.0264606\ttotal: 1m 3s\tremaining: 1m 53s\n",
      "1900:\tlearn: 0.0242183\ttotal: 1m 7s\tremaining: 1m 49s\n",
      "2000:\tlearn: 0.0222283\ttotal: 1m 10s\tremaining: 1m 45s\n",
      "2100:\tlearn: 0.0203866\ttotal: 1m 13s\tremaining: 1m 41s\n",
      "2200:\tlearn: 0.0187460\ttotal: 1m 17s\tremaining: 1m 38s\n",
      "2300:\tlearn: 0.0172896\ttotal: 1m 20s\tremaining: 1m 34s\n",
      "2400:\tlearn: 0.0160237\ttotal: 1m 23s\tremaining: 1m 30s\n",
      "2500:\tlearn: 0.0147984\ttotal: 1m 27s\tremaining: 1m 27s\n",
      "2600:\tlearn: 0.0137275\ttotal: 1m 30s\tremaining: 1m 23s\n",
      "2700:\tlearn: 0.0127523\ttotal: 1m 34s\tremaining: 1m 20s\n",
      "2800:\tlearn: 0.0119529\ttotal: 1m 37s\tremaining: 1m 16s\n",
      "2900:\tlearn: 0.0111903\ttotal: 1m 40s\tremaining: 1m 12s\n",
      "3000:\tlearn: 0.0104822\ttotal: 1m 43s\tremaining: 1m 9s\n",
      "3100:\tlearn: 0.0098861\ttotal: 1m 47s\tremaining: 1m 5s\n",
      "3200:\tlearn: 0.0093561\ttotal: 1m 50s\tremaining: 1m 2s\n",
      "3300:\tlearn: 0.0088519\ttotal: 1m 53s\tremaining: 58.5s\n",
      "3400:\tlearn: 0.0084279\ttotal: 1m 56s\tremaining: 55s\n",
      "3500:\tlearn: 0.0080444\ttotal: 2m\tremaining: 51.4s\n",
      "3600:\tlearn: 0.0077085\ttotal: 2m 3s\tremaining: 47.9s\n",
      "3700:\tlearn: 0.0073793\ttotal: 2m 6s\tremaining: 44.3s\n",
      "3800:\tlearn: 0.0070820\ttotal: 2m 9s\tremaining: 40.8s\n",
      "3900:\tlearn: 0.0067992\ttotal: 2m 12s\tremaining: 37.4s\n",
      "4000:\tlearn: 0.0065566\ttotal: 2m 15s\tremaining: 33.9s\n",
      "4100:\tlearn: 0.0063077\ttotal: 2m 18s\tremaining: 30.4s\n",
      "4200:\tlearn: 0.0060855\ttotal: 2m 21s\tremaining: 27s\n",
      "4300:\tlearn: 0.0058808\ttotal: 2m 25s\tremaining: 23.6s\n",
      "4400:\tlearn: 0.0057051\ttotal: 2m 28s\tremaining: 20.2s\n",
      "4500:\tlearn: 0.0055453\ttotal: 2m 31s\tremaining: 16.7s\n",
      "4600:\tlearn: 0.0053817\ttotal: 2m 34s\tremaining: 13.4s\n",
      "4700:\tlearn: 0.0052203\ttotal: 2m 37s\tremaining: 9.99s\n",
      "4800:\tlearn: 0.0050950\ttotal: 2m 40s\tremaining: 6.63s\n",
      "4900:\tlearn: 0.0049569\ttotal: 2m 43s\tremaining: 3.29s\n",
      "4999:\tlearn: 0.0048426\ttotal: 2m 46s\tremaining: 0us\n"
     ]
    },
    {
     "name": "stderr",
     "output_type": "stream",
     "text": [
      "Warning: less than 75% gpu memory available for training. Free: 7395.75 Total: 15109.75\n"
     ]
    },
    {
     "name": "stdout",
     "output_type": "stream",
     "text": [
      "0:\tlearn: 0.6536127\ttotal: 75.2ms\tremaining: 6m 15s\n",
      "100:\tlearn: 0.2328944\ttotal: 3.87s\tremaining: 3m 7s\n",
      "200:\tlearn: 0.1874444\ttotal: 7.39s\tremaining: 2m 56s\n",
      "300:\tlearn: 0.1580222\ttotal: 10.9s\tremaining: 2m 50s\n",
      "400:\tlearn: 0.1346946\ttotal: 14.4s\tremaining: 2m 45s\n",
      "500:\tlearn: 0.1161330\ttotal: 18s\tremaining: 2m 41s\n",
      "600:\tlearn: 0.1003270\ttotal: 21.6s\tremaining: 2m 38s\n",
      "700:\tlearn: 0.0873374\ttotal: 25.2s\tremaining: 2m 34s\n",
      "800:\tlearn: 0.0766006\ttotal: 28.8s\tremaining: 2m 30s\n",
      "900:\tlearn: 0.0675730\ttotal: 32.4s\tremaining: 2m 27s\n",
      "1000:\tlearn: 0.0595608\ttotal: 36s\tremaining: 2m 23s\n",
      "1100:\tlearn: 0.0529730\ttotal: 39.5s\tremaining: 2m 20s\n",
      "1200:\tlearn: 0.0476147\ttotal: 43s\tremaining: 2m 16s\n",
      "1300:\tlearn: 0.0428823\ttotal: 46.5s\tremaining: 2m 12s\n",
      "1400:\tlearn: 0.0387027\ttotal: 49.9s\tremaining: 2m 8s\n",
      "1500:\tlearn: 0.0348966\ttotal: 53.4s\tremaining: 2m 4s\n",
      "1600:\tlearn: 0.0316257\ttotal: 56.9s\tremaining: 2m\n",
      "1700:\tlearn: 0.0286633\ttotal: 1m\tremaining: 1m 56s\n",
      "1800:\tlearn: 0.0260370\ttotal: 1m 3s\tremaining: 1m 53s\n",
      "1900:\tlearn: 0.0236571\ttotal: 1m 7s\tremaining: 1m 49s\n",
      "2000:\tlearn: 0.0216219\ttotal: 1m 10s\tremaining: 1m 45s\n",
      "2100:\tlearn: 0.0197666\ttotal: 1m 13s\tremaining: 1m 42s\n",
      "2200:\tlearn: 0.0182101\ttotal: 1m 17s\tremaining: 1m 38s\n",
      "2300:\tlearn: 0.0166841\ttotal: 1m 20s\tremaining: 1m 34s\n",
      "2400:\tlearn: 0.0153633\ttotal: 1m 24s\tremaining: 1m 31s\n",
      "2500:\tlearn: 0.0141241\ttotal: 1m 27s\tremaining: 1m 27s\n",
      "2600:\tlearn: 0.0130405\ttotal: 1m 31s\tremaining: 1m 23s\n",
      "2700:\tlearn: 0.0120422\ttotal: 1m 34s\tremaining: 1m 20s\n",
      "2800:\tlearn: 0.0111225\ttotal: 1m 37s\tremaining: 1m 16s\n",
      "2900:\tlearn: 0.0103338\ttotal: 1m 41s\tremaining: 1m 13s\n",
      "3000:\tlearn: 0.0095827\ttotal: 1m 44s\tremaining: 1m 9s\n",
      "3100:\tlearn: 0.0089086\ttotal: 1m 48s\tremaining: 1m 6s\n",
      "3200:\tlearn: 0.0083224\ttotal: 1m 51s\tremaining: 1m 2s\n",
      "3300:\tlearn: 0.0077596\ttotal: 1m 54s\tremaining: 59.1s\n",
      "3400:\tlearn: 0.0072781\ttotal: 1m 58s\tremaining: 55.5s\n",
      "3500:\tlearn: 0.0068840\ttotal: 2m 1s\tremaining: 52s\n",
      "3600:\tlearn: 0.0064609\ttotal: 2m 4s\tremaining: 48.4s\n",
      "3700:\tlearn: 0.0060888\ttotal: 2m 7s\tremaining: 44.9s\n",
      "3800:\tlearn: 0.0057500\ttotal: 2m 11s\tremaining: 41.4s\n",
      "3900:\tlearn: 0.0054594\ttotal: 2m 14s\tremaining: 37.9s\n",
      "4000:\tlearn: 0.0051724\ttotal: 2m 17s\tremaining: 34.4s\n",
      "4100:\tlearn: 0.0049155\ttotal: 2m 20s\tremaining: 30.9s\n",
      "4200:\tlearn: 0.0046912\ttotal: 2m 24s\tremaining: 27.4s\n",
      "4300:\tlearn: 0.0044874\ttotal: 2m 27s\tremaining: 24s\n",
      "4400:\tlearn: 0.0042981\ttotal: 2m 30s\tremaining: 20.5s\n",
      "4500:\tlearn: 0.0041190\ttotal: 2m 33s\tremaining: 17s\n",
      "4600:\tlearn: 0.0039545\ttotal: 2m 36s\tremaining: 13.6s\n",
      "4700:\tlearn: 0.0038027\ttotal: 2m 40s\tremaining: 10.2s\n",
      "4800:\tlearn: 0.0036420\ttotal: 2m 43s\tremaining: 6.77s\n",
      "4900:\tlearn: 0.0035128\ttotal: 2m 46s\tremaining: 3.36s\n",
      "4999:\tlearn: 0.0034005\ttotal: 2m 49s\tremaining: 0us\n"
     ]
    },
    {
     "name": "stderr",
     "output_type": "stream",
     "text": [
      "Warning: less than 75% gpu memory available for training. Free: 7395.75 Total: 15109.75\n"
     ]
    },
    {
     "name": "stdout",
     "output_type": "stream",
     "text": [
      "0:\tlearn: 0.6469774\ttotal: 216ms\tremaining: 18m 1s\n",
      "100:\tlearn: 0.1624694\ttotal: 10.4s\tremaining: 8m 23s\n",
      "200:\tlearn: 0.1040575\ttotal: 20.2s\tremaining: 8m 3s\n",
      "300:\tlearn: 0.0712015\ttotal: 30.1s\tremaining: 7m 50s\n",
      "400:\tlearn: 0.0521739\ttotal: 39.7s\tremaining: 7m 34s\n",
      "500:\tlearn: 0.0392633\ttotal: 49s\tremaining: 7m 20s\n",
      "600:\tlearn: 0.0310076\ttotal: 58.1s\tremaining: 7m 4s\n",
      "700:\tlearn: 0.0244914\ttotal: 1m 7s\tremaining: 6m 51s\n",
      "800:\tlearn: 0.0197583\ttotal: 1m 16s\tremaining: 6m 39s\n",
      "900:\tlearn: 0.0159832\ttotal: 1m 25s\tremaining: 6m 27s\n",
      "1000:\tlearn: 0.0130863\ttotal: 1m 34s\tremaining: 6m 17s\n",
      "1100:\tlearn: 0.0109362\ttotal: 1m 43s\tremaining: 6m 6s\n",
      "1200:\tlearn: 0.0093115\ttotal: 1m 52s\tremaining: 5m 55s\n",
      "1300:\tlearn: 0.0079610\ttotal: 2m 1s\tremaining: 5m 44s\n",
      "1400:\tlearn: 0.0069657\ttotal: 2m 9s\tremaining: 5m 33s\n",
      "1500:\tlearn: 0.0061913\ttotal: 2m 18s\tremaining: 5m 22s\n",
      "1600:\tlearn: 0.0055741\ttotal: 2m 26s\tremaining: 5m 11s\n",
      "1700:\tlearn: 0.0050313\ttotal: 2m 35s\tremaining: 5m 1s\n",
      "1800:\tlearn: 0.0045688\ttotal: 2m 43s\tremaining: 4m 50s\n",
      "1900:\tlearn: 0.0042101\ttotal: 2m 51s\tremaining: 4m 40s\n",
      "2000:\tlearn: 0.0038754\ttotal: 3m\tremaining: 4m 30s\n",
      "2100:\tlearn: 0.0035916\ttotal: 3m 8s\tremaining: 4m 19s\n",
      "2200:\tlearn: 0.0033329\ttotal: 3m 16s\tremaining: 4m 9s\n",
      "2300:\tlearn: 0.0031398\ttotal: 3m 24s\tremaining: 3m 59s\n",
      "2400:\tlearn: 0.0029512\ttotal: 3m 32s\tremaining: 3m 50s\n",
      "2500:\tlearn: 0.0028008\ttotal: 3m 40s\tremaining: 3m 40s\n",
      "2600:\tlearn: 0.0026760\ttotal: 3m 48s\tremaining: 3m 30s\n",
      "2700:\tlearn: 0.0025651\ttotal: 3m 55s\tremaining: 3m 20s\n",
      "2800:\tlearn: 0.0024570\ttotal: 4m 3s\tremaining: 3m 11s\n",
      "2900:\tlearn: 0.0023619\ttotal: 4m 10s\tremaining: 3m 1s\n",
      "3000:\tlearn: 0.0022566\ttotal: 4m 18s\tremaining: 2m 52s\n",
      "3100:\tlearn: 0.0021794\ttotal: 4m 26s\tremaining: 2m 43s\n",
      "3200:\tlearn: 0.0020968\ttotal: 4m 33s\tremaining: 2m 33s\n",
      "3300:\tlearn: 0.0020233\ttotal: 4m 41s\tremaining: 2m 24s\n",
      "3400:\tlearn: 0.0019572\ttotal: 4m 48s\tremaining: 2m 15s\n",
      "3500:\tlearn: 0.0019037\ttotal: 4m 56s\tremaining: 2m 6s\n",
      "3600:\tlearn: 0.0018512\ttotal: 5m 3s\tremaining: 1m 57s\n",
      "3700:\tlearn: 0.0017992\ttotal: 5m 11s\tremaining: 1m 49s\n",
      "3800:\tlearn: 0.0017481\ttotal: 5m 18s\tremaining: 1m 40s\n",
      "3900:\tlearn: 0.0017016\ttotal: 5m 25s\tremaining: 1m 31s\n",
      "4000:\tlearn: 0.0016544\ttotal: 5m 33s\tremaining: 1m 23s\n",
      "4100:\tlearn: 0.0016115\ttotal: 5m 40s\tremaining: 1m 14s\n",
      "4200:\tlearn: 0.0015757\ttotal: 5m 48s\tremaining: 1m 6s\n",
      "4300:\tlearn: 0.0015385\ttotal: 5m 55s\tremaining: 57.8s\n",
      "4400:\tlearn: 0.0015024\ttotal: 6m 2s\tremaining: 49.4s\n",
      "4500:\tlearn: 0.0014674\ttotal: 6m 10s\tremaining: 41s\n",
      "4600:\tlearn: 0.0014360\ttotal: 6m 17s\tremaining: 32.7s\n",
      "4700:\tlearn: 0.0014032\ttotal: 6m 24s\tremaining: 24.5s\n",
      "4800:\tlearn: 0.0013730\ttotal: 6m 32s\tremaining: 16.3s\n",
      "4900:\tlearn: 0.0013460\ttotal: 6m 39s\tremaining: 8.07s\n",
      "4999:\tlearn: 0.0013185\ttotal: 6m 46s\tremaining: 0us\n"
     ]
    },
    {
     "name": "stderr",
     "output_type": "stream",
     "text": [
      "Warning: less than 75% gpu memory available for training. Free: 7395.75 Total: 15109.75\n"
     ]
    },
    {
     "name": "stdout",
     "output_type": "stream",
     "text": [
      "0:\tlearn: 0.6450576\ttotal: 207ms\tremaining: 17m 12s\n",
      "100:\tlearn: 0.1623622\ttotal: 10.3s\tremaining: 8m 18s\n",
      "200:\tlearn: 0.1029432\ttotal: 20.2s\tremaining: 8m 2s\n",
      "300:\tlearn: 0.0707888\ttotal: 30s\tremaining: 7m 49s\n",
      "400:\tlearn: 0.0516398\ttotal: 39.7s\tremaining: 7m 34s\n",
      "500:\tlearn: 0.0391608\ttotal: 49s\tremaining: 7m 20s\n",
      "600:\tlearn: 0.0304623\ttotal: 58.2s\tremaining: 7m 5s\n",
      "700:\tlearn: 0.0249603\ttotal: 1m 6s\tremaining: 6m 50s\n",
      "800:\tlearn: 0.0202935\ttotal: 1m 15s\tremaining: 6m 38s\n",
      "900:\tlearn: 0.0166238\ttotal: 1m 24s\tremaining: 6m 26s\n",
      "1000:\tlearn: 0.0139258\ttotal: 1m 33s\tremaining: 6m 14s\n",
      "1100:\tlearn: 0.0118726\ttotal: 1m 42s\tremaining: 6m 3s\n",
      "1200:\tlearn: 0.0103331\ttotal: 1m 51s\tremaining: 5m 51s\n",
      "1300:\tlearn: 0.0090718\ttotal: 1m 59s\tremaining: 5m 40s\n",
      "1400:\tlearn: 0.0080932\ttotal: 2m 8s\tremaining: 5m 29s\n",
      "1500:\tlearn: 0.0073501\ttotal: 2m 16s\tremaining: 5m 18s\n",
      "1600:\tlearn: 0.0067609\ttotal: 2m 24s\tremaining: 5m 6s\n",
      "1700:\tlearn: 0.0062349\ttotal: 2m 32s\tremaining: 4m 55s\n",
      "1800:\tlearn: 0.0058457\ttotal: 2m 40s\tremaining: 4m 44s\n",
      "1900:\tlearn: 0.0054801\ttotal: 2m 48s\tremaining: 4m 34s\n",
      "2000:\tlearn: 0.0051535\ttotal: 2m 55s\tremaining: 4m 23s\n",
      "2100:\tlearn: 0.0048881\ttotal: 3m 3s\tremaining: 4m 13s\n",
      "2200:\tlearn: 0.0046488\ttotal: 3m 11s\tremaining: 4m 3s\n",
      "2300:\tlearn: 0.0044365\ttotal: 3m 18s\tremaining: 3m 53s\n",
      "2400:\tlearn: 0.0042222\ttotal: 3m 26s\tremaining: 3m 43s\n",
      "2500:\tlearn: 0.0040556\ttotal: 3m 33s\tremaining: 3m 33s\n",
      "2600:\tlearn: 0.0039178\ttotal: 3m 41s\tremaining: 3m 24s\n",
      "2700:\tlearn: 0.0037783\ttotal: 3m 48s\tremaining: 3m 14s\n",
      "2800:\tlearn: 0.0036536\ttotal: 3m 56s\tremaining: 3m 5s\n",
      "2900:\tlearn: 0.0035520\ttotal: 4m 3s\tremaining: 2m 56s\n",
      "3000:\tlearn: 0.0034412\ttotal: 4m 10s\tremaining: 2m 47s\n",
      "3100:\tlearn: 0.0033494\ttotal: 4m 17s\tremaining: 2m 37s\n",
      "3200:\tlearn: 0.0032643\ttotal: 4m 25s\tremaining: 2m 29s\n",
      "3300:\tlearn: 0.0031791\ttotal: 4m 32s\tremaining: 2m 20s\n",
      "3400:\tlearn: 0.0031071\ttotal: 4m 39s\tremaining: 2m 11s\n",
      "3500:\tlearn: 0.0030460\ttotal: 4m 46s\tremaining: 2m 2s\n",
      "3600:\tlearn: 0.0029843\ttotal: 4m 54s\tremaining: 1m 54s\n",
      "3700:\tlearn: 0.0029224\ttotal: 5m 1s\tremaining: 1m 45s\n",
      "3800:\tlearn: 0.0028671\ttotal: 5m 8s\tremaining: 1m 37s\n",
      "3900:\tlearn: 0.0028088\ttotal: 5m 15s\tremaining: 1m 28s\n",
      "4000:\tlearn: 0.0027556\ttotal: 5m 22s\tremaining: 1m 20s\n",
      "4100:\tlearn: 0.0027001\ttotal: 5m 30s\tremaining: 1m 12s\n",
      "4200:\tlearn: 0.0026492\ttotal: 5m 37s\tremaining: 1m 4s\n",
      "4300:\tlearn: 0.0026013\ttotal: 5m 44s\tremaining: 56s\n",
      "4400:\tlearn: 0.0025573\ttotal: 5m 51s\tremaining: 47.8s\n",
      "4500:\tlearn: 0.0025141\ttotal: 5m 58s\tremaining: 39.8s\n",
      "4600:\tlearn: 0.0024747\ttotal: 6m 5s\tremaining: 31.7s\n",
      "4700:\tlearn: 0.0024328\ttotal: 6m 12s\tremaining: 23.7s\n",
      "4800:\tlearn: 0.0023982\ttotal: 6m 19s\tremaining: 15.7s\n",
      "4900:\tlearn: 0.0023594\ttotal: 6m 26s\tremaining: 7.82s\n",
      "4999:\tlearn: 0.0023233\ttotal: 6m 33s\tremaining: 0us\n"
     ]
    },
    {
     "name": "stderr",
     "output_type": "stream",
     "text": [
      "Warning: less than 75% gpu memory available for training. Free: 7395.75 Total: 15109.75\n"
     ]
    },
    {
     "name": "stdout",
     "output_type": "stream",
     "text": [
      "0:\tlearn: 0.6468413\ttotal: 206ms\tremaining: 17m 10s\n",
      "100:\tlearn: 0.1634209\ttotal: 10.2s\tremaining: 8m 16s\n",
      "200:\tlearn: 0.1043798\ttotal: 20s\tremaining: 7m 58s\n",
      "300:\tlearn: 0.0720553\ttotal: 29.7s\tremaining: 7m 44s\n",
      "400:\tlearn: 0.0522331\ttotal: 39.3s\tremaining: 7m 31s\n",
      "500:\tlearn: 0.0393075\ttotal: 48.7s\tremaining: 7m 17s\n",
      "600:\tlearn: 0.0305756\ttotal: 57.9s\tremaining: 7m 3s\n",
      "700:\tlearn: 0.0242707\ttotal: 1m 6s\tremaining: 6m 50s\n",
      "800:\tlearn: 0.0196204\ttotal: 1m 15s\tremaining: 6m 38s\n",
      "900:\tlearn: 0.0158829\ttotal: 1m 25s\tremaining: 6m 26s\n",
      "1000:\tlearn: 0.0129819\ttotal: 1m 34s\tremaining: 6m 15s\n",
      "1100:\tlearn: 0.0106240\ttotal: 1m 43s\tremaining: 6m 5s\n",
      "1200:\tlearn: 0.0089612\ttotal: 1m 52s\tremaining: 5m 55s\n",
      "1300:\tlearn: 0.0076578\ttotal: 2m 1s\tremaining: 5m 44s\n",
      "1400:\tlearn: 0.0066278\ttotal: 2m 10s\tremaining: 5m 34s\n",
      "1500:\tlearn: 0.0058998\ttotal: 2m 18s\tremaining: 5m 23s\n",
      "1600:\tlearn: 0.0052115\ttotal: 2m 27s\tremaining: 5m 12s\n",
      "1700:\tlearn: 0.0046567\ttotal: 2m 35s\tremaining: 5m 2s\n",
      "1800:\tlearn: 0.0042401\ttotal: 2m 44s\tremaining: 4m 51s\n",
      "1900:\tlearn: 0.0038602\ttotal: 2m 52s\tremaining: 4m 41s\n",
      "2000:\tlearn: 0.0035399\ttotal: 3m\tremaining: 4m 31s\n",
      "2100:\tlearn: 0.0032746\ttotal: 3m 9s\tremaining: 4m 20s\n",
      "2200:\tlearn: 0.0030724\ttotal: 3m 17s\tremaining: 4m 10s\n",
      "2300:\tlearn: 0.0028658\ttotal: 3m 25s\tremaining: 4m\n",
      "2400:\tlearn: 0.0026868\ttotal: 3m 33s\tremaining: 3m 50s\n",
      "2500:\tlearn: 0.0025546\ttotal: 3m 40s\tremaining: 3m 40s\n",
      "2600:\tlearn: 0.0024103\ttotal: 3m 48s\tremaining: 3m 30s\n",
      "2700:\tlearn: 0.0022945\ttotal: 3m 56s\tremaining: 3m 21s\n",
      "2800:\tlearn: 0.0021941\ttotal: 4m 4s\tremaining: 3m 11s\n",
      "2900:\tlearn: 0.0021041\ttotal: 4m 11s\tremaining: 3m 2s\n",
      "3000:\tlearn: 0.0020100\ttotal: 4m 19s\tremaining: 2m 52s\n",
      "3100:\tlearn: 0.0019202\ttotal: 4m 29s\tremaining: 2m 44s\n",
      "3200:\tlearn: 0.0018492\ttotal: 4m 36s\tremaining: 2m 35s\n",
      "3300:\tlearn: 0.0017785\ttotal: 4m 44s\tremaining: 2m 26s\n",
      "3400:\tlearn: 0.0017157\ttotal: 4m 51s\tremaining: 2m 17s\n",
      "3500:\tlearn: 0.0016596\ttotal: 4m 59s\tremaining: 2m 8s\n",
      "3600:\tlearn: 0.0016057\ttotal: 5m 6s\tremaining: 1m 59s\n",
      "3700:\tlearn: 0.0015526\ttotal: 5m 14s\tremaining: 1m 50s\n",
      "3800:\tlearn: 0.0015027\ttotal: 5m 22s\tremaining: 1m 41s\n",
      "3900:\tlearn: 0.0014587\ttotal: 5m 29s\tremaining: 1m 32s\n",
      "4000:\tlearn: 0.0014129\ttotal: 5m 36s\tremaining: 1m 24s\n",
      "4100:\tlearn: 0.0013682\ttotal: 5m 44s\tremaining: 1m 15s\n",
      "4200:\tlearn: 0.0013308\ttotal: 5m 52s\tremaining: 1m 7s\n",
      "4300:\tlearn: 0.0012972\ttotal: 5m 59s\tremaining: 58.5s\n",
      "4400:\tlearn: 0.0012645\ttotal: 6m 7s\tremaining: 50s\n",
      "4500:\tlearn: 0.0012306\ttotal: 6m 14s\tremaining: 41.5s\n",
      "4600:\tlearn: 0.0012014\ttotal: 6m 21s\tremaining: 33.1s\n",
      "4700:\tlearn: 0.0011737\ttotal: 6m 29s\tremaining: 24.8s\n",
      "4800:\tlearn: 0.0011464\ttotal: 6m 36s\tremaining: 16.4s\n",
      "4900:\tlearn: 0.0011211\ttotal: 6m 43s\tremaining: 8.16s\n",
      "4999:\tlearn: 0.0010995\ttotal: 6m 51s\tremaining: 0us\n"
     ]
    },
    {
     "name": "stderr",
     "output_type": "stream",
     "text": [
      "Warning: less than 75% gpu memory available for training. Free: 7395.75 Total: 15109.75\n"
     ]
    },
    {
     "name": "stdout",
     "output_type": "stream",
     "text": [
      "0:\tlearn: 0.6257384\ttotal: 38.6ms\tremaining: 3m 13s\n",
      "100:\tlearn: 0.2468518\ttotal: 2.12s\tremaining: 1m 43s\n",
      "200:\tlearn: 0.2167468\ttotal: 4.04s\tremaining: 1m 36s\n",
      "300:\tlearn: 0.1962343\ttotal: 5.9s\tremaining: 1m 32s\n",
      "400:\tlearn: 0.1795018\ttotal: 7.78s\tremaining: 1m 29s\n",
      "500:\tlearn: 0.1649655\ttotal: 9.67s\tremaining: 1m 26s\n",
      "600:\tlearn: 0.1521558\ttotal: 11.6s\tremaining: 1m 24s\n",
      "700:\tlearn: 0.1405662\ttotal: 13.5s\tremaining: 1m 22s\n",
      "800:\tlearn: 0.1305574\ttotal: 15.4s\tremaining: 1m 20s\n",
      "900:\tlearn: 0.1213237\ttotal: 17.4s\tremaining: 1m 19s\n",
      "1000:\tlearn: 0.1131173\ttotal: 19.3s\tremaining: 1m 17s\n",
      "1100:\tlearn: 0.1051872\ttotal: 21.3s\tremaining: 1m 15s\n",
      "1200:\tlearn: 0.0982232\ttotal: 23.3s\tremaining: 1m 13s\n",
      "1300:\tlearn: 0.0919153\ttotal: 25.2s\tremaining: 1m 11s\n",
      "1400:\tlearn: 0.0859523\ttotal: 27.2s\tremaining: 1m 9s\n",
      "1500:\tlearn: 0.0806585\ttotal: 29.1s\tremaining: 1m 7s\n",
      "1600:\tlearn: 0.0756638\ttotal: 31.1s\tremaining: 1m 6s\n",
      "1700:\tlearn: 0.0710250\ttotal: 33.1s\tremaining: 1m 4s\n",
      "1800:\tlearn: 0.0669877\ttotal: 35s\tremaining: 1m 2s\n",
      "1900:\tlearn: 0.0631943\ttotal: 36.9s\tremaining: 1m\n",
      "2000:\tlearn: 0.0596607\ttotal: 38.9s\tremaining: 58.3s\n",
      "2100:\tlearn: 0.0564218\ttotal: 40.8s\tremaining: 56.3s\n",
      "2200:\tlearn: 0.0533105\ttotal: 42.8s\tremaining: 54.4s\n",
      "2300:\tlearn: 0.0503843\ttotal: 44.7s\tremaining: 52.4s\n",
      "2400:\tlearn: 0.0476462\ttotal: 46.7s\tremaining: 50.5s\n",
      "2500:\tlearn: 0.0450862\ttotal: 48.6s\tremaining: 48.5s\n",
      "2600:\tlearn: 0.0427306\ttotal: 50.5s\tremaining: 46.6s\n",
      "2700:\tlearn: 0.0405414\ttotal: 52.4s\tremaining: 44.6s\n",
      "2800:\tlearn: 0.0384810\ttotal: 54.3s\tremaining: 42.6s\n",
      "2900:\tlearn: 0.0364997\ttotal: 56.2s\tremaining: 40.7s\n",
      "3000:\tlearn: 0.0346173\ttotal: 58.2s\tremaining: 38.7s\n",
      "3100:\tlearn: 0.0328877\ttotal: 1m\tremaining: 36.8s\n",
      "3200:\tlearn: 0.0312525\ttotal: 1m 2s\tremaining: 34.9s\n",
      "3300:\tlearn: 0.0297831\ttotal: 1m 3s\tremaining: 32.9s\n",
      "3400:\tlearn: 0.0282834\ttotal: 1m 5s\tremaining: 31s\n",
      "3500:\tlearn: 0.0268612\ttotal: 1m 7s\tremaining: 29s\n",
      "3600:\tlearn: 0.0255345\ttotal: 1m 9s\tremaining: 27.1s\n",
      "3700:\tlearn: 0.0243007\ttotal: 1m 11s\tremaining: 25.1s\n",
      "3800:\tlearn: 0.0231465\ttotal: 1m 13s\tremaining: 23.2s\n",
      "3900:\tlearn: 0.0220973\ttotal: 1m 15s\tremaining: 21.2s\n",
      "4000:\tlearn: 0.0210458\ttotal: 1m 17s\tremaining: 19.3s\n",
      "4100:\tlearn: 0.0201106\ttotal: 1m 19s\tremaining: 17.4s\n",
      "4200:\tlearn: 0.0192426\ttotal: 1m 21s\tremaining: 15.4s\n",
      "4300:\tlearn: 0.0184091\ttotal: 1m 22s\tremaining: 13.5s\n",
      "4400:\tlearn: 0.0175836\ttotal: 1m 24s\tremaining: 11.5s\n",
      "4500:\tlearn: 0.0167999\ttotal: 1m 26s\tremaining: 9.62s\n",
      "4600:\tlearn: 0.0160538\ttotal: 1m 28s\tremaining: 7.69s\n",
      "4700:\tlearn: 0.0153842\ttotal: 1m 30s\tremaining: 5.76s\n",
      "4800:\tlearn: 0.0147149\ttotal: 1m 32s\tremaining: 3.83s\n",
      "4900:\tlearn: 0.0140947\ttotal: 1m 34s\tremaining: 1.91s\n",
      "4999:\tlearn: 0.0135191\ttotal: 1m 36s\tremaining: 0us\n",
      "\n",
      "Лучшее среднее значение F1: 0.7422022165767871\n",
      "Лучшие значения гиперпараметров: {'max_depth': 6, 'learning_rate': 0.1, 'iterations': 5000}\n",
      "CPU times: user 3h 6min 43s, sys: 1h 22min 16s, total: 4h 29min\n",
      "Wall time: 2h 41min 2s\n"
     ]
    }
   ],
   "source": [
    "%%time\n",
    "\n",
    "# применение функции run_random_search\n",
    "run_random_search(clf, param_distributions, 18)"
   ]
  },
  {
   "cell_type": "code",
   "execution_count": 59,
   "metadata": {
    "id": "AgzpnruDxulp"
   },
   "outputs": [],
   "source": [
    "# применение garbage collector и отчистка кэша GPU\n",
    "gc.collect()\n",
    "torch.cuda.empty_cache()"
   ]
  },
  {
   "cell_type": "markdown",
   "metadata": {
    "id": "CfIk661yX99n"
   },
   "source": [
    "### DistilBertForSequenceClassification"
   ]
  },
  {
   "cell_type": "code",
   "execution_count": 60,
   "metadata": {
    "id": "K8-8ZHI-xziM"
   },
   "outputs": [],
   "source": [
    "# создание переменных с размером батчей, количеством эпох и скоростью обучения\n",
    "batch_size = 16\n",
    "n_epochs = 1\n",
    "learning_rate = 1e-5"
   ]
  },
  {
   "cell_type": "code",
   "execution_count": 61,
   "metadata": {
    "colab": {
     "base_uri": "https://localhost:8080/"
    },
    "id": "uLEJZhZnx2Ra",
    "outputId": "d2d37f69-c610-4544-fbbf-cba49be2f955"
   },
   "outputs": [
    {
     "name": "stderr",
     "output_type": "stream",
     "text": [
      "loading configuration file config.json from cache at /root/.cache/huggingface/hub/models--distilbert-base-uncased/snapshots/043235d6088ecd3dd5fb5ca3592b6913fd516027/config.json\n",
      "Model config DistilBertConfig {\n",
      "  \"activation\": \"gelu\",\n",
      "  \"architectures\": [\n",
      "    \"DistilBertForMaskedLM\"\n",
      "  ],\n",
      "  \"attention_dropout\": 0.1,\n",
      "  \"dim\": 768,\n",
      "  \"dropout\": 0.1,\n",
      "  \"hidden_dim\": 3072,\n",
      "  \"initializer_range\": 0.02,\n",
      "  \"max_position_embeddings\": 512,\n",
      "  \"model_type\": \"distilbert\",\n",
      "  \"n_heads\": 12,\n",
      "  \"n_layers\": 6,\n",
      "  \"pad_token_id\": 0,\n",
      "  \"qa_dropout\": 0.1,\n",
      "  \"seq_classif_dropout\": 0.2,\n",
      "  \"sinusoidal_pos_embds\": false,\n",
      "  \"tie_weights_\": true,\n",
      "  \"transformers_version\": \"4.23.1\",\n",
      "  \"vocab_size\": 30522\n",
      "}\n",
      "\n",
      "loading weights file pytorch_model.bin from cache at /root/.cache/huggingface/hub/models--distilbert-base-uncased/snapshots/043235d6088ecd3dd5fb5ca3592b6913fd516027/pytorch_model.bin\n",
      "Some weights of the model checkpoint at distilbert-base-uncased were not used when initializing DistilBertForSequenceClassification: ['vocab_transform.bias', 'vocab_layer_norm.bias', 'vocab_transform.weight', 'vocab_projector.bias', 'vocab_projector.weight', 'vocab_layer_norm.weight']\n",
      "- This IS expected if you are initializing DistilBertForSequenceClassification from the checkpoint of a model trained on another task or with another architecture (e.g. initializing a BertForSequenceClassification model from a BertForPreTraining model).\n",
      "- This IS NOT expected if you are initializing DistilBertForSequenceClassification from the checkpoint of a model that you expect to be exactly identical (initializing a BertForSequenceClassification model from a BertForSequenceClassification model).\n",
      "Some weights of DistilBertForSequenceClassification were not initialized from the model checkpoint at distilbert-base-uncased and are newly initialized: ['pre_classifier.bias', 'classifier.bias', 'pre_classifier.weight', 'classifier.weight']\n",
      "You should probably TRAIN this model on a down-stream task to be able to use it for predictions and inference.\n"
     ]
    }
   ],
   "source": [
    "# создание модели\n",
    "clf = DistilBertForSequenceClassification.from_pretrained(\n",
    "    'distilbert-base-uncased', num_labels=2).to(device)"
   ]
  },
  {
   "cell_type": "code",
   "execution_count": 62,
   "metadata": {
    "colab": {
     "base_uri": "https://localhost:8080/"
    },
    "id": "oaptqxZ1x9Dh",
    "outputId": "d8d40168-e071-4939-82cd-4146e4d4b6f4"
   },
   "outputs": [
    {
     "name": "stderr",
     "output_type": "stream",
     "text": [
      "PyTorch: setting up devices\n",
      "The default value for the training argument `--report_to` will change in v5 (from all installed integrations to none). In v5, you will need to use `--report_to all` to get the same behavior as now. You should start updating your code and make this info disappear :-).\n"
     ]
    }
   ],
   "source": [
    "# создание словаря с параметрами обучения\n",
    "training_args = TrainingArguments(output_dir='/content/drive/MyDrive/project_17_toxic_comments/val_trainer',\n",
    "                                  evaluation_strategy='epoch',\n",
    "                                  num_train_epochs=n_epochs,\n",
    "                                  learning_rate = learning_rate,\n",
    "                                  per_device_train_batch_size=batch_size,\n",
    "                                  per_device_eval_batch_size=batch_size,\n",
    "                                  weight_decay=0.01)"
   ]
  },
  {
   "cell_type": "code",
   "execution_count": 63,
   "metadata": {
    "id": "hhXaHqNNMJSo"
   },
   "outputs": [],
   "source": [
    "# создание объекта класса Trainer\n",
    "trainer = Trainer(\n",
    "    model=clf,\n",
    "    args=training_args,\n",
    "    train_dataset=ds_train,\n",
    "    eval_dataset=ds_val,\n",
    "    compute_metrics=compute_metrics,\n",
    "    data_collator=data_collator)"
   ]
  },
  {
   "cell_type": "markdown",
   "metadata": {
    "id": "lFBP7-PQjLq2"
   },
   "source": [
    "Поскольку наши данные несбалансированы, учтем это путем создания кастомного класса *CustomTrainer* и функции *compute_loss* (в соответствии с рекоммендациями разработчиков модели):"
   ]
  },
  {
   "cell_type": "code",
   "execution_count": 64,
   "metadata": {
    "id": "vy4aCWpFax7W"
   },
   "outputs": [],
   "source": [
    "class CustomTrainer(Trainer):\n",
    "    def compute_loss(self, model, inputs, return_outputs=False):\n",
    "        labels = inputs.get(\"labels\")\n",
    "        outputs = model(**inputs)\n",
    "        logits = outputs.get(\"logits\")\n",
    "        loss_fct = nn.CrossEntropyLoss(weight=torch.tensor([1.0, 9.0]))\n",
    "        loss = loss_fct(logits.view(-1, self.model.config.num_labels), labels.view(-1))\n",
    "        return (loss, outputs) if return_outputs else loss"
   ]
  },
  {
   "cell_type": "code",
   "execution_count": 65,
   "metadata": {
    "colab": {
     "base_uri": "https://localhost:8080/",
     "height": 1000
    },
    "id": "m_tlPvw-V3CS",
    "outputId": "6d0f3f93-a344-46f7-8ca2-fff1b648b2c2"
   },
   "outputs": [
    {
     "name": "stderr",
     "output_type": "stream",
     "text": [
      "/usr/local/lib/python3.7/dist-packages/transformers/optimization.py:310: FutureWarning: This implementation of AdamW is deprecated and will be removed in a future version. Use the PyTorch implementation torch.optim.AdamW instead, or set `no_deprecation_warning=True` to disable this warning\n",
      "  FutureWarning,\n",
      "***** Running training *****\n",
      "  Num examples = 95574\n",
      "  Num Epochs = 1\n",
      "  Instantaneous batch size per device = 16\n",
      "  Total train batch size (w. parallel, distributed & accumulation) = 16\n",
      "  Gradient Accumulation steps = 1\n",
      "  Total optimization steps = 5974\n"
     ]
    },
    {
     "data": {
      "text/html": [
       "\n",
       "    <div>\n",
       "      \n",
       "      <progress value='5974' max='5974' style='width:300px; height:20px; vertical-align: middle;'></progress>\n",
       "      [5974/5974 1:23:28, Epoch 1/1]\n",
       "    </div>\n",
       "    <table border=\"1\" class=\"dataframe\">\n",
       "  <thead>\n",
       " <tr style=\"text-align: left;\">\n",
       "      <th>Epoch</th>\n",
       "      <th>Training Loss</th>\n",
       "      <th>Validation Loss</th>\n",
       "      <th>Accuracy</th>\n",
       "      <th>F1</th>\n",
       "      <th>Precision</th>\n",
       "      <th>Recall</th>\n",
       "    </tr>\n",
       "  </thead>\n",
       "  <tbody>\n",
       "    <tr>\n",
       "      <td>1</td>\n",
       "      <td>0.091900</td>\n",
       "      <td>0.094060</td>\n",
       "      <td>0.969271</td>\n",
       "      <td>0.846672</td>\n",
       "      <td>0.858640</td>\n",
       "      <td>0.835032</td>\n",
       "    </tr>\n",
       "  </tbody>\n",
       "</table><p>"
      ],
      "text/plain": [
       "<IPython.core.display.HTML object>"
      ]
     },
     "metadata": {},
     "output_type": "display_data"
    },
    {
     "name": "stderr",
     "output_type": "stream",
     "text": [
      "Saving model checkpoint to /content/drive/MyDrive/project_17_toxic_comments/val_trainer/checkpoint-500\n",
      "Configuration saved in /content/drive/MyDrive/project_17_toxic_comments/val_trainer/checkpoint-500/config.json\n",
      "Model weights saved in /content/drive/MyDrive/project_17_toxic_comments/val_trainer/checkpoint-500/pytorch_model.bin\n",
      "Saving model checkpoint to /content/drive/MyDrive/project_17_toxic_comments/val_trainer/checkpoint-1000\n",
      "Configuration saved in /content/drive/MyDrive/project_17_toxic_comments/val_trainer/checkpoint-1000/config.json\n",
      "Model weights saved in /content/drive/MyDrive/project_17_toxic_comments/val_trainer/checkpoint-1000/pytorch_model.bin\n",
      "Saving model checkpoint to /content/drive/MyDrive/project_17_toxic_comments/val_trainer/checkpoint-1500\n",
      "Configuration saved in /content/drive/MyDrive/project_17_toxic_comments/val_trainer/checkpoint-1500/config.json\n",
      "Model weights saved in /content/drive/MyDrive/project_17_toxic_comments/val_trainer/checkpoint-1500/pytorch_model.bin\n",
      "Saving model checkpoint to /content/drive/MyDrive/project_17_toxic_comments/val_trainer/checkpoint-2000\n",
      "Configuration saved in /content/drive/MyDrive/project_17_toxic_comments/val_trainer/checkpoint-2000/config.json\n",
      "Model weights saved in /content/drive/MyDrive/project_17_toxic_comments/val_trainer/checkpoint-2000/pytorch_model.bin\n",
      "Saving model checkpoint to /content/drive/MyDrive/project_17_toxic_comments/val_trainer/checkpoint-2500\n",
      "Configuration saved in /content/drive/MyDrive/project_17_toxic_comments/val_trainer/checkpoint-2500/config.json\n",
      "Model weights saved in /content/drive/MyDrive/project_17_toxic_comments/val_trainer/checkpoint-2500/pytorch_model.bin\n",
      "Saving model checkpoint to /content/drive/MyDrive/project_17_toxic_comments/val_trainer/checkpoint-3000\n",
      "Configuration saved in /content/drive/MyDrive/project_17_toxic_comments/val_trainer/checkpoint-3000/config.json\n",
      "Model weights saved in /content/drive/MyDrive/project_17_toxic_comments/val_trainer/checkpoint-3000/pytorch_model.bin\n",
      "Saving model checkpoint to /content/drive/MyDrive/project_17_toxic_comments/val_trainer/checkpoint-3500\n",
      "Configuration saved in /content/drive/MyDrive/project_17_toxic_comments/val_trainer/checkpoint-3500/config.json\n",
      "Model weights saved in /content/drive/MyDrive/project_17_toxic_comments/val_trainer/checkpoint-3500/pytorch_model.bin\n",
      "Saving model checkpoint to /content/drive/MyDrive/project_17_toxic_comments/val_trainer/checkpoint-4000\n",
      "Configuration saved in /content/drive/MyDrive/project_17_toxic_comments/val_trainer/checkpoint-4000/config.json\n",
      "Model weights saved in /content/drive/MyDrive/project_17_toxic_comments/val_trainer/checkpoint-4000/pytorch_model.bin\n",
      "Saving model checkpoint to /content/drive/MyDrive/project_17_toxic_comments/val_trainer/checkpoint-4500\n",
      "Configuration saved in /content/drive/MyDrive/project_17_toxic_comments/val_trainer/checkpoint-4500/config.json\n",
      "Model weights saved in /content/drive/MyDrive/project_17_toxic_comments/val_trainer/checkpoint-4500/pytorch_model.bin\n",
      "Saving model checkpoint to /content/drive/MyDrive/project_17_toxic_comments/val_trainer/checkpoint-5000\n",
      "Configuration saved in /content/drive/MyDrive/project_17_toxic_comments/val_trainer/checkpoint-5000/config.json\n",
      "Model weights saved in /content/drive/MyDrive/project_17_toxic_comments/val_trainer/checkpoint-5000/pytorch_model.bin\n",
      "Saving model checkpoint to /content/drive/MyDrive/project_17_toxic_comments/val_trainer/checkpoint-5500\n",
      "Configuration saved in /content/drive/MyDrive/project_17_toxic_comments/val_trainer/checkpoint-5500/config.json\n",
      "Model weights saved in /content/drive/MyDrive/project_17_toxic_comments/val_trainer/checkpoint-5500/pytorch_model.bin\n",
      "***** Running Evaluation *****\n",
      "  Num examples = 31859\n",
      "  Batch size = 16\n",
      "\n",
      "\n",
      "Training completed. Do not forget to share your model on huggingface.co/models =)\n",
      "\n",
      "\n"
     ]
    },
    {
     "data": {
      "text/plain": [
       "TrainOutput(global_step=5974, training_loss=0.10718980743847525, metrics={'train_runtime': 5009.4865, 'train_samples_per_second': 19.079, 'train_steps_per_second': 1.193, 'total_flos': 1.2660439159148544e+16, 'train_loss': 0.10718980743847525, 'epoch': 1.0})"
      ]
     },
     "execution_count": 65,
     "metadata": {},
     "output_type": "execute_result"
    }
   ],
   "source": [
    "# переобучение модели\n",
    "trainer.train()"
   ]
  },
  {
   "cell_type": "code",
   "execution_count": 66,
   "metadata": {
    "id": "XVa2s8Ui9WCi"
   },
   "outputs": [],
   "source": [
    "# сохранение результатов переобучения DistilBertForSequenceClassification в сравнительную таблицу\n",
    "models_results.loc[len(models_results)] = [\n",
    "    'DistilBertForSequenceClassification',\n",
    "    'tokenization', \n",
    "    0.846672,\n",
    "    {'n_epochs': n_epochs, 'learning_rate': learning_rate}, \n",
    "    trainer]"
   ]
  },
  {
   "cell_type": "markdown",
   "metadata": {
    "id": "3Wtl8kumAMoP"
   },
   "source": [
    "### Выводы"
   ]
  },
  {
   "cell_type": "markdown",
   "metadata": {
    "id": "C74BgdXBAQiQ"
   },
   "source": [
    "На данном этапе мы обучили 5 моделей: *LogisticRegression*, *RidgeClassifier*, *RandomForestClassifier*, *CatBoostClassifier* и *DistilBertForSequenceClassification*.\n",
    "\n",
    "В рамках обучения мы:\n",
    "- для первых четырех моделей (за исключением *LogisticRegression*) оптимизировали значения гиперпараметров, чтобы получить лучшее среднее значение *F1* (используя кросс-валидацию);\n",
    "- для последней модели - переобучили модель на обучающей выборке с проверкой результатов на валидационной выборке.\n",
    "\n",
    "На следующем этапе проанализируем обученные модели."
   ]
  },
  {
   "cell_type": "markdown",
   "metadata": {
    "id": "J3yCmqEt-Ush"
   },
   "source": [
    "## Анализ моделей"
   ]
  },
  {
   "cell_type": "markdown",
   "metadata": {
    "id": "oFWG-uRjDkSf"
   },
   "source": [
    "Проанализируем обученные модели. В рамках анализа:\n",
    "- сравним модели по целевой метрике *F1*; и\n",
    "- проанализируем результаты лучшей модели."
   ]
  },
  {
   "cell_type": "markdown",
   "metadata": {
    "id": "GfXMMr1jl3Sz"
   },
   "source": [
    "### Сравнение моделей по целевой метрике"
   ]
  },
  {
   "cell_type": "code",
   "execution_count": 67,
   "metadata": {
    "id": "TGYmUxAnnQGb"
   },
   "outputs": [],
   "source": [
    "# создание словаря-палитры цветов моделей \n",
    "models_palette = {'LogisticRegression': 'red',\n",
    "                  'RidgeClassifier': 'orange',\n",
    "                  'RandomForestClassifier': 'gold',\n",
    "                  'CatBoostClassifier': 'olive',\n",
    "                  'DistilBertForSequenceClassification': 'teal'}"
   ]
  },
  {
   "cell_type": "code",
   "execution_count": 68,
   "metadata": {
    "id": "WfXt_99nF-8V"
   },
   "outputs": [],
   "source": [
    "# установление стиля отображения графиков\n",
    "sns.set_style(\"whitegrid\")"
   ]
  },
  {
   "cell_type": "code",
   "execution_count": 69,
   "metadata": {
    "colab": {
     "base_uri": "https://localhost:8080/",
     "height": 509
    },
    "id": "gTjCBi33n_Zz",
    "outputId": "821dca64-c4f1-41ae-c1aa-b75eab2fbb70"
   },
   "outputs": [
    {
     "data": {
      "image/png": "[encoded data removed]",
      "text/plain": [
       "<Figure size 864x576 with 1 Axes>"
      ]
     },
     "metadata": {},
     "output_type": "display_data"
    }
   ],
   "source": [
    "# вывод на экран значений целевой метрики обученных моделей в форме столбчатого графика\n",
    "models_results.sort_values(by='best_f1', ascending=False, inplace=True)\n",
    "    \n",
    "fig, ax = plt.subplots(figsize=(12, 8))\n",
    "    \n",
    "sns.barplot(data=models_results,\n",
    "            x='algorithm',\n",
    "            y='best_f1',\n",
    "            palette=models_palette)\n",
    "    \n",
    "for bar in ax.patches:\n",
    "  ax.annotate(format(bar.get_height(), '.4f'), \n",
    "              (bar.get_x() + bar.get_width() / 2., bar.get_height()), \n",
    "              ha='center', \n",
    "              va='center', \n",
    "              xytext=(0, 9), \n",
    "              textcoords='offset points')\n",
    "\n",
    "fig.suptitle('Сравнение моделей по F1')\n",
    "    \n",
    "plt.tight_layout()\n",
    "plt.show()"
   ]
  },
  {
   "cell_type": "markdown",
   "metadata": {
    "id": "6nV0e5HHGC22"
   },
   "source": [
    "Мы видим, что:\n",
    "- наилучшее  значение *F1* (0.8467) продемонстрировала модель *DistilBertForSequenceClassification* (при этом стоит отметить, что при обучении данной модели не использовалась кросс-валидация, так что ее результаты на тестовой выборке могут быть хуже);\n",
    "- средние значения *F1* остальных моделей не соответствуют требованиям заказчика; \n",
    "- среднее занчение *F1* модели *CatBoostClassifier* (0.7422) позволяет сделать предположение, что в случае повторной оптимизации гиперпараметров метрики модели могут достигнуть целевого показателя 0.75."
   ]
  },
  {
   "cell_type": "markdown",
   "metadata": {
    "id": "n5Q1II8-l9K1"
   },
   "source": [
    "### Анализ результатов лучшей модели"
   ]
  },
  {
   "cell_type": "markdown",
   "metadata": {
    "id": "ztFs7Au6CieH"
   },
   "source": [
    "Проанализируем результаты лучшей модели. Для этого изучим ее матрицу ошибок на валидационной выборке:"
   ]
  },
  {
   "cell_type": "code",
   "execution_count": 70,
   "metadata": {
    "colab": {
     "base_uri": "https://localhost:8080/",
     "height": 71
    },
    "id": "qaDW_aiqDm2B",
    "outputId": "cc0c36ba-65a5-47c5-c644-4994a9d09f42"
   },
   "outputs": [
    {
     "name": "stderr",
     "output_type": "stream",
     "text": [
      "***** Running Prediction *****\n",
      "  Num examples = 31859\n",
      "  Batch size = 16\n"
     ]
    },
    {
     "data": {
      "text/html": [],
      "text/plain": [
       "<IPython.core.display.HTML object>"
      ]
     },
     "metadata": {},
     "output_type": "display_data"
    }
   ],
   "source": [
    "# получение предсказаний лучшей модели на валидационной выборке\n",
    "best_model_val_output = trainer.predict(ds_val)\n",
    "best_model_val_preds = np.argmax(best_model_val_output.predictions, axis=-1)"
   ]
  },
  {
   "cell_type": "code",
   "execution_count": 71,
   "metadata": {
    "colab": {
     "base_uri": "https://localhost:8080/",
     "height": 494
    },
    "id": "cGzQRvigEKT_",
    "outputId": "d78bacac-54b8-4b6d-93d8-67585fe18550"
   },
   "outputs": [
    {
     "data": {
      "image/png": "[encoded data removed]",
      "text/plain": [
       "<Figure size 864x576 with 1 Axes>"
      ]
     },
     "metadata": {},
     "output_type": "display_data"
    }
   ],
   "source": [
    "# построение и вывод на экран матрицы ошибок\n",
    "conf_matrix = confusion_matrix(ds_val['label'], best_model_val_preds)\n",
    "\n",
    "group_names = ['True Neg','False Pos','False Neg','True Pos']\n",
    "group_counts = ['{0:0.0f}'.format(value) for value in conf_matrix.flatten()]\n",
    "labels = [f'{v1}\\n{v2}' for v1, v2 in zip(group_names,group_counts)]\n",
    "labels = np.asarray(labels).reshape(2,2)\n",
    "\n",
    "fig, ax = plt.subplots(figsize=(12, 8))\n",
    "\n",
    "sns.heatmap(conf_matrix, annot=labels, fmt='', cmap='icefire', cbar=False)\n",
    "\n",
    "fig.suptitle('Матрица ошибок')\n",
    "  \n",
    "plt.tight_layout(rect=[0, 0.03, 1, 0.95])\n",
    "plt.show()"
   ]
  },
  {
   "cell_type": "markdown",
   "metadata": {
    "id": "dP1zDBsyGfr4"
   },
   "source": [
    "Мы видим, что:\n",
    "- количество ложных положительных и ложных отрицательных предсказаний модели примерно равны;\n",
    "- лучшая модель корректно классифицировала ~84% токсичных комментариев."
   ]
  },
  {
   "cell_type": "markdown",
   "metadata": {
    "id": "yxm2IibHGpAf"
   },
   "source": [
    "### Выводы"
   ]
  },
  {
   "cell_type": "markdown",
   "metadata": {
    "id": "dZoIRXRPGs4J"
   },
   "source": [
    "По итогам анализа моделей мы пришли к следующим выводам:\n",
    "\n",
    "- наилучшее  значение *F1* (0.8467) продемонстрировала модель *DistilBertForSequenceClassification* (при этом стоит отметить, что при обучении данной модели не использовалась кросс-валидация, так что ее результаты на тестовой выборке могут быть хуже);\n",
    "- средние значения *F1* остальных моделей не соответствуют требованиям заказчика; \n",
    "- среднее занчение *F1* модели *CatBoostClassifier* (0.7422) позволяет сделать предположение, что в случае повторной оптимизации гиперпараметров метрики модели могут достигнуть целевого показателя 0.75;\n",
    "- количество ложных положительных и ложных отрицательных предсказаний модели примерно равны;\n",
    "- лучшая модель корректно классифицировала ~84% токсичных комментариев.\n",
    "\n",
    "На следующем этапе протестируем лучшую модель."
   ]
  },
  {
   "cell_type": "markdown",
   "metadata": {
    "id": "xmZ36jWY-eXC"
   },
   "source": [
    "## Выбор и тестирование лучшей модели"
   ]
  },
  {
   "cell_type": "markdown",
   "metadata": {
    "id": "ksdOpaJoG4Jx"
   },
   "source": [
    "Исходя из критериев заказчика мы выбрали *DistilBertForSequenceClassification* (вторую версию) в качестве лучшей модели: данная модель показала наилучшее (среди моделей на основе других алгоритмов) среднее значение *F1* (0.8467)."
   ]
  },
  {
   "cell_type": "code",
   "execution_count": 72,
   "metadata": {
    "id": "D8XI5uLzG_6o"
   },
   "outputs": [],
   "source": [
    "# сохранение лучшей модели в переменную best_model\n",
    "best_model = trainer"
   ]
  },
  {
   "cell_type": "markdown",
   "metadata": {
    "id": "1-14XC2SHBJD"
   },
   "source": [
    "Протестируем лучшую модель на тестовой выборке:"
   ]
  },
  {
   "cell_type": "code",
   "execution_count": 73,
   "metadata": {
    "colab": {
     "base_uri": "https://localhost:8080/",
     "height": 71
    },
    "id": "yepkGBxZHMm6",
    "outputId": "b2497513-53c6-4fb3-f929-559fa6aa8989"
   },
   "outputs": [
    {
     "name": "stderr",
     "output_type": "stream",
     "text": [
      "***** Running Prediction *****\n",
      "  Num examples = 31859\n",
      "  Batch size = 16\n"
     ]
    },
    {
     "data": {
      "text/html": [],
      "text/plain": [
       "<IPython.core.display.HTML object>"
      ]
     },
     "metadata": {},
     "output_type": "display_data"
    }
   ],
   "source": [
    "# получение предсказаний лучшей модели на тестовой выборке\n",
    "best_model_test_output = best_model.predict(ds_test)\n",
    "best_model_test_preds = np.argmax(best_model_test_output.predictions, axis=-1)"
   ]
  },
  {
   "cell_type": "code",
   "execution_count": 74,
   "metadata": {
    "colab": {
     "base_uri": "https://localhost:8080/"
    },
    "id": "hXRYqGgeKDaV",
    "outputId": "59a87666-4091-4325-88eb-8af22629fd45"
   },
   "outputs": [
    {
     "name": "stdout",
     "output_type": "stream",
     "text": [
      "F1 лучшей модели на тестовой выборке: 0.8527472527472527\n"
     ]
    }
   ],
   "source": [
    "# расчет и вывод на экран F1 лучшей модели на тестовой выборке\n",
    "best_model_f1_test = f1_score(ds_test['label'], best_model_test_preds)\n",
    "\n",
    "print('F1 лучшей модели на тестовой выборке:', best_model_f1_test)"
   ]
  },
  {
   "cell_type": "markdown",
   "metadata": {
    "id": "P5joqnQmKlJk"
   },
   "source": [
    "Мы видим, что лучшая модель продемонстрировала на тестовой выборке значение *F1* 0.8527, что незначительно лучше ее значения на валидационной выборке."
   ]
  },
  {
   "cell_type": "markdown",
   "metadata": {
    "id": "gBPlA9yAKp82"
   },
   "source": [
    "Сравним полученное значение с целевым показателем метрики:"
   ]
  },
  {
   "cell_type": "code",
   "execution_count": 75,
   "metadata": {
    "colab": {
     "base_uri": "https://localhost:8080/"
    },
    "id": "XUGugnJ4Kr1d",
    "outputId": "b94e836e-1ad0-45be-93d6-36e16bada39e"
   },
   "outputs": [
    {
     "name": "stdout",
     "output_type": "stream",
     "text": [
      "На тестовой выборке F1 лучшей модели на 13.70% выше целевого F1.\n"
     ]
    }
   ],
   "source": [
    "# сохранение цели по метрике качества в отдельную переменную\n",
    "f1_target = 0.75\n",
    "\n",
    "# расчет и вывод на экран количества процентов, на которые F1 лучшей модели выше\n",
    "# целевого F1\n",
    "best_model_vs_target = (best_model_f1_test - f1_target) / f1_target\n",
    "\n",
    "print('На тестовой выборке F1 лучшей модели на', \n",
    "      '{:.2%}'.format(best_model_vs_target), \n",
    "      'выше целевого F1.')"
   ]
  },
  {
   "cell_type": "markdown",
   "metadata": {
    "id": "8fMuw9HDKsWR"
   },
   "source": [
    "Также сравним полученное значение с показателем константной модели, которая классифицирует все комментарии как токсичные:"
   ]
  },
  {
   "cell_type": "code",
   "execution_count": 76,
   "metadata": {
    "colab": {
     "base_uri": "https://localhost:8080/"
    },
    "id": "47LLUTvdODoq",
    "outputId": "5c88fc14-d525-4eb1-fe46-7d2a0ce2acb3"
   },
   "outputs": [
    {
     "name": "stdout",
     "output_type": "stream",
     "text": [
      "F1 константной модели на тестовой выборке: 0.18446546614998857\n"
     ]
    }
   ],
   "source": [
    "# получение предсказаний константной модели на тестовой выборке\n",
    "dummy_model_test_preds  = [1 for i in ds_test['label']]\n",
    "\n",
    "# расчет и вывод на экран F1 константной модели на тестовой выборке\n",
    "dummy_model_f1_test = f1_score(ds_test['label'], dummy_model_test_preds)\n",
    "\n",
    "print('F1 константной модели на тестовой выборке:', dummy_model_f1_test)"
   ]
  },
  {
   "cell_type": "code",
   "execution_count": 77,
   "metadata": {
    "colab": {
     "base_uri": "https://localhost:8080/"
    },
    "id": "uwS6cdI-PMG0",
    "outputId": "2ef89a35-675a-48e9-b78e-cec76142f539"
   },
   "outputs": [
    {
     "name": "stdout",
     "output_type": "stream",
     "text": [
      "На тестовой выборке F1 лучшей модели на 362.28% выше F1 константной модели.\n"
     ]
    }
   ],
   "source": [
    "# расчет и вывод на экран количества процентов, на которые F1 лучшей модели\n",
    "# на тестовой выборке выше F1 константной модели\n",
    "best_model_vs_dummy = (best_model_f1_test - dummy_model_f1_test) / dummy_model_f1_test\n",
    "\n",
    "print('На тестовой выборке F1 лучшей модели на', \n",
    "      '{:.2%}'.format(best_model_vs_dummy), \n",
    "      'выше F1 константной модели.')"
   ]
  },
  {
   "cell_type": "markdown",
   "metadata": {
    "id": "acwO61OEPi0O"
   },
   "source": [
    "### Выводы"
   ]
  },
  {
   "cell_type": "markdown",
   "metadata": {
    "id": "fYV029ZfPmtq"
   },
   "source": [
    "На данном этапе мы:\n",
    "- исходя из критериев заказчика мы выбрали *DistilBertForSequenceClassification* (вторую версию) в качестве лучшей модели: данная модель показала наилучшее (среди моделей на основе других алгоритмов) среднее значение *F1* (0.8467);\n",
    "- рассчитали *F1* лучшей модели на тестовой выборке и сравнили его с таргетом по качеству и показателем константной модели.\n",
    "\n",
    "Лучшая модель продемонстрировала на тестовой выборке значение *F1* 0.8527, что:\n",
    "- незначительно лучше ее значения на валидационной выборке;\n",
    "- на ~14% лучше таргета по качеству (0.75); и\n",
    "- на ~362% лучше *F1* константной модели."
   ]
  },
  {
   "cell_type": "markdown",
   "metadata": {
    "id": "POW6Y49kVYyF"
   },
   "source": [
    "## Общие выводы"
   ]
  },
  {
   "cell_type": "markdown",
   "metadata": {
    "id": "dUQ7uSP-VZRn"
   },
   "source": [
    "В ходе работы мы построили модель классификации тональности комментариев для нового сервиса интернет-магазина «Викишоп».\n",
    "\n",
    "Наша работа включала пять этапов:\n",
    "\n",
    "1. загузка и изучение данных;\n",
    "2. подготовка к обучению;\n",
    "3. обучение моделей;\n",
    "4. анализ моделей; и\n",
    "5. выбор и тестирование лучшей модели.\n",
    "\n",
    "**1. Загрузка и изучение данных**\n",
    "\n",
    "По результатам изучения данных мы пришли к следующим выводам:\n",
    "\n",
    "- в датасете 159 292 объекта;\n",
    "- один объект содержит информацию об одном комментарии;\n",
    "- по каждому объекту доступно 3 признака; помимо признаков *text* и *toxic*, указанных в описании к данным, также есть количественный признак *Unnamed: 0* (который возник при сохранении датасета и не является информативным для нашей работы);\n",
    "- язык комментариев - английский;\n",
    "- в токсичных комментариях используются обсценная лексика и восклицательные знаки;\n",
    "- предоставленные данные несбалансированы: токсичные комментарии составляют ~10%; поскольку мы решаем задачу классификации, данное обстоятельство необходимо учитывать при обучении моделей;\n",
    "- в датасете нет пропусков и явных дубликатов.\n",
    "\n",
    "**2. Подготовка к обучению**\n",
    "\n",
    "В ходе подготовки к обучению мы:\n",
    "\n",
    "- удалили неинформативный столбец *Unnamed: 0*;\n",
    "- переименовали столбец *toxic* в соответствии с требованиями моделей *BERT*, которые мы планируем использовать в дальнейшем;\n",
    "- разделили данные на обучающие, валидационную и тестовую выборки в пропорции 3:1:1;\n",
    "- конвертировали выборки в объекты класса Dataset (для дальнейшего использования инструментов *Hugging Face*);\n",
    "- токенизирировали комментарии при помощи предобученного токенизатора *DistilBertTokenizerFast*;\n",
    "- провели подготовку к обучению *DistilBertForSequenceClassification*:\n",
    "  - создали объект класса *DefaultDataCollator* (для передачи модели данных батчами); и\n",
    "  - создали функцию *compute_metrics* (для рассчета метрик *accuracy*, *f1*, *precision* и *recall*);\n",
    "- создали признаки-эмбеддинги и целевой признак для не-*BERT* моделей;\n",
    "- создали функции для оптимизации обучения не-*BERT* моделей:\n",
    "  - *add_to_comparison* (для сохранения параметров и метрик модели в сравнительную таблицу); и\n",
    "  - *run_random_search* (для проведения подбора гиперпараметров при помощи *RandomizedSearchCV*).\n",
    "\n",
    "**3. Обучение моделей**\n",
    "\n",
    "На данном этапе мы обучили 5 моделей: *LogisticRegression*, *RidgeClassifier*, *RandomForestClassifier*, *CatBoostClassifier* и *DistilBertForSequenceClassification*.\n",
    "\n",
    "В рамках обучения мы:\n",
    "- для первых четырех моделей (за исключением *LogisticRegression*) оптимизировали значения гиперпараметров, чтобы получить лучшее среднее значение *F1* (используя кросс-валидацию);\n",
    "- для последней модели - переобучили модель на обучающей выборке с проверкой результатов на валидационной выборке.\n",
    "\n",
    "**4. Анализ моделей**\n",
    "\n",
    "По итогам анализа моделей мы пришли к следующим выводам:\n",
    "\n",
    "- наилучшее  значение *F1* (0.8467) продемонстрировала модель *DistilBertForSequenceClassification* (при этом стоит отметить, что при обучении данной модели не использовалась кросс-валидация, так что ее результаты на тестовой выборке могут быть хуже);\n",
    "- средние значения *F1* остальных моделей не соответствуют требованиям заказчика; \n",
    "- среднее занчение *F1* модели *CatBoostClassifier* (0.7422) позволяет сделать предположение, что в случае повторной оптимизации гиперпараметров метрики модели могут достигнуть целевого показателя 0.75;\n",
    "- количество ложных положительных и ложных отрицательных предсказаний модели примерно равны;\n",
    "- лучшая модель корректно классифицировала ~84% токсичных комментариев.\n",
    "\n",
    "**5. Выбор и тестирование лучшей модели**\n",
    "\n",
    "На данном этапе мы:\n",
    "- исходя из критериев заказчика мы выбрали *DistilBertForSequenceClassification* (вторую версию) в качестве лучшей модели: данная модель показала наилучшее (среди моделей на основе других алгоритмов) среднее значение *F1* (0.8467);\n",
    "- рассчитали *F1* лучшей модели на тестовой выборке и сравнили его с таргетом по качеству и показателем константной модели.\n",
    "\n",
    "Лучшая модель продемонстрировала на тестовой выборке значение *F1* 0.8527, что:\n",
    "- незначительно лучше ее значения на валидационной выборке;\n",
    "- на ~14% лучше таргета по качеству (0.75); и\n",
    "- на ~362% лучше *F1* константной модели."
   ]
  },
  {
   "cell_type": "code",
   "execution_count": null,
   "metadata": {},
   "outputs": [],
   "source": []
  }
 ],
 "metadata": {
  "ExecuteTimeLog": [
   {
    "duration": 88,
    "start_time": "2022-10-28T08:21:14.537Z"
   },
   {
    "duration": 49,
    "start_time": "2022-10-28T08:22:28.282Z"
   },
   {
    "duration": 45,
    "start_time": "2022-10-28T08:27:45.637Z"
   }
  ],
  "accelerator": "GPU",
  "colab": {
   "collapsed_sections": [
    "iyE0GnarTQeG",
    "aLY7XKlfTQw1"
   ],
   "provenance": [],
   "toc_visible": true
  },
  "gpuClass": "standard",
  "kernelspec": {
   "display_name": "Python 3 (ipykernel)",
   "language": "python",
   "name": "python3"
  },
  "language_info": {
   "codemirror_mode": {
    "name": "ipython",
    "version": 3
   },
   "file_extension": ".py",
   "mimetype": "text/x-python",
   "name": "python",
   "nbconvert_exporter": "python",
   "pygments_lexer": "ipython3",
   "version": "3.9.5"
  },
  "toc": {
   "base_numbering": 1,
   "nav_menu": {},
   "number_sections": true,
   "sideBar": true,
   "skip_h1_title": true,
   "title_cell": "Table of Contents",
   "title_sidebar": "Contents",
   "toc_cell": false,
   "toc_position": {
    "height": "calc(100% - 180px)",
    "left": "10px",
    "top": "150px",
    "width": "303.188px"
   },
   "toc_section_display": true,
   "toc_window_display": true
  },
  "widgets": {
   "application/vnd.jupyter.widget-state+json": {
    "008054f1f4f341bd8e145fc087598346": {
     "model_module": "@jupyter-widgets/base",
     "model_module_version": "1.2.0",
     "model_name": "LayoutModel",
     "state": {
      "_model_module": "@jupyter-widgets/base",
      "_model_module_version": "1.2.0",
      "_model_name": "LayoutModel",
      "_view_count": null,
      "_view_module": "@jupyter-widgets/base",
      "_view_module_version": "1.2.0",
      "_view_name": "LayoutView",
      "align_content": null,
      "align_items": null,
      "align_self": null,
      "border": null,
      "bottom": null,
      "display": null,
      "flex": null,
      "flex_flow": null,
      "grid_area": null,
      "grid_auto_columns": null,
      "grid_auto_flow": null,
      "grid_auto_rows": null,
      "grid_column": null,
      "grid_gap": null,
      "grid_row": null,
      "grid_template_areas": null,
      "grid_template_columns": null,
      "grid_template_rows": null,
      "height": null,
      "justify_content": null,
      "justify_items": null,
      "left": null,
      "margin": null,
      "max_height": null,
      "max_width": null,
      "min_height": null,
      "min_width": null,
      "object_fit": null,
      "object_position": null,
      "order": null,
      "overflow": null,
      "overflow_x": null,
      "overflow_y": null,
      "padding": null,
      "right": null,
      "top": null,
      "visibility": null,
      "width": null
     }
    },
    "0093142727a24d2a968583d2bea1d45b": {
     "model_module": "@jupyter-widgets/controls",
     "model_module_version": "1.5.0",
     "model_name": "FloatProgressModel",
     "state": {
      "_dom_classes": [],
      "_model_module": "@jupyter-widgets/controls",
      "_model_module_version": "1.5.0",
      "_model_name": "FloatProgressModel",
      "_view_count": null,
      "_view_module": "@jupyter-widgets/controls",
      "_view_module_version": "1.5.0",
      "_view_name": "ProgressView",
      "bar_style": "success",
      "description": "",
      "description_tooltip": null,
      "layout": "IPY_MODEL_3c5fc34f7c564520b0d31ad62b05ded2",
      "max": 4203,
      "min": 0,
      "orientation": "horizontal",
      "style": "IPY_MODEL_b6b24ce4bcda4eb785dead8dc2445bf5",
      "value": 4203
     }
    },
    "011647cf9c3e46d0a9d68e9a94df2269": {
     "model_module": "@jupyter-widgets/base",
     "model_module_version": "1.2.0",
     "model_name": "LayoutModel",
     "state": {
      "_model_module": "@jupyter-widgets/base",
      "_model_module_version": "1.2.0",
      "_model_name": "LayoutModel",
      "_view_count": null,
      "_view_module": "@jupyter-widgets/base",
      "_view_module_version": "1.2.0",
      "_view_name": "LayoutView",
      "align_content": null,
      "align_items": null,
      "align_self": null,
      "border": null,
      "bottom": null,
      "display": null,
      "flex": null,
      "flex_flow": null,
      "grid_area": null,
      "grid_auto_columns": null,
      "grid_auto_flow": null,
      "grid_auto_rows": null,
      "grid_column": null,
      "grid_gap": null,
      "grid_row": null,
      "grid_template_areas": null,
      "grid_template_columns": null,
      "grid_template_rows": null,
      "height": null,
      "justify_content": null,
      "justify_items": null,
      "left": null,
      "margin": null,
      "max_height": null,
      "max_width": null,
      "min_height": null,
      "min_width": null,
      "object_fit": null,
      "object_position": null,
      "order": null,
      "overflow": null,
      "overflow_x": null,
      "overflow_y": null,
      "padding": null,
      "right": null,
      "top": null,
      "visibility": null,
      "width": null
     }
    },
    "01c3f0d9c3e8464cb40dc0c7997ba825": {
     "model_module": "@jupyter-widgets/base",
     "model_module_version": "1.2.0",
     "model_name": "LayoutModel",
     "state": {
      "_model_module": "@jupyter-widgets/base",
      "_model_module_version": "1.2.0",
      "_model_name": "LayoutModel",
      "_view_count": null,
      "_view_module": "@jupyter-widgets/base",
      "_view_module_version": "1.2.0",
      "_view_name": "LayoutView",
      "align_content": null,
      "align_items": null,
      "align_self": null,
      "border": null,
      "bottom": null,
      "display": null,
      "flex": null,
      "flex_flow": null,
      "grid_area": null,
      "grid_auto_columns": null,
      "grid_auto_flow": null,
      "grid_auto_rows": null,
      "grid_column": null,
      "grid_gap": null,
      "grid_row": null,
      "grid_template_areas": null,
      "grid_template_columns": null,
      "grid_template_rows": null,
      "height": null,
      "justify_content": null,
      "justify_items": null,
      "left": null,
      "margin": null,
      "max_height": null,
      "max_width": null,
      "min_height": null,
      "min_width": null,
      "object_fit": null,
      "object_position": null,
      "order": null,
      "overflow": null,
      "overflow_x": null,
      "overflow_y": null,
      "padding": null,
      "right": null,
      "top": null,
      "visibility": null,
      "width": null
     }
    },
    "01d0fca6453e41ca9acb5490131a65df": {
     "model_module": "@jupyter-widgets/controls",
     "model_module_version": "1.5.0",
     "model_name": "DescriptionStyleModel",
     "state": {
      "_model_module": "@jupyter-widgets/controls",
      "_model_module_version": "1.5.0",
      "_model_name": "DescriptionStyleModel",
      "_view_count": null,
      "_view_module": "@jupyter-widgets/base",
      "_view_module_version": "1.2.0",
      "_view_name": "StyleView",
      "description_width": ""
     }
    },
    "01ea54d19c264b7c981ae48fa6269925": {
     "model_module": "@jupyter-widgets/controls",
     "model_module_version": "1.5.0",
     "model_name": "DescriptionStyleModel",
     "state": {
      "_model_module": "@jupyter-widgets/controls",
      "_model_module_version": "1.5.0",
      "_model_name": "DescriptionStyleModel",
      "_view_count": null,
      "_view_module": "@jupyter-widgets/base",
      "_view_module_version": "1.2.0",
      "_view_name": "StyleView",
      "description_width": ""
     }
    },
    "02fc60962b7c4b7e9f0c2060a409d9c2": {
     "model_module": "@jupyter-widgets/controls",
     "model_module_version": "1.5.0",
     "model_name": "FloatProgressModel",
     "state": {
      "_dom_classes": [],
      "_model_module": "@jupyter-widgets/controls",
      "_model_module_version": "1.5.0",
      "_model_name": "FloatProgressModel",
      "_view_count": null,
      "_view_module": "@jupyter-widgets/controls",
      "_view_module_version": "1.5.0",
      "_view_name": "ProgressView",
      "bar_style": "success",
      "description": "",
      "description_tooltip": null,
      "layout": "IPY_MODEL_42b083ff60fe4f80b6ec1007d8c17237",
      "max": 267967963,
      "min": 0,
      "orientation": "horizontal",
      "style": "IPY_MODEL_f29e3ef047d74aa99020c8734f145d80",
      "value": 267967963
     }
    },
    "03635bff0c834dcdbaee0a6b9a625c52": {
     "model_module": "@jupyter-widgets/controls",
     "model_module_version": "1.5.0",
     "model_name": "DescriptionStyleModel",
     "state": {
      "_model_module": "@jupyter-widgets/controls",
      "_model_module_version": "1.5.0",
      "_model_name": "DescriptionStyleModel",
      "_view_count": null,
      "_view_module": "@jupyter-widgets/base",
      "_view_module_version": "1.2.0",
      "_view_name": "StyleView",
      "description_width": ""
     }
    },
    "03e9f6447bd34b6c9da06c9c6966c399": {
     "model_module": "@jupyter-widgets/controls",
     "model_module_version": "1.5.0",
     "model_name": "DescriptionStyleModel",
     "state": {
      "_model_module": "@jupyter-widgets/controls",
      "_model_module_version": "1.5.0",
      "_model_name": "DescriptionStyleModel",
      "_view_count": null,
      "_view_module": "@jupyter-widgets/base",
      "_view_module_version": "1.2.0",
      "_view_name": "StyleView",
      "description_width": ""
     }
    },
    "048916f458894314919ea80b5f85ef70": {
     "model_module": "@jupyter-widgets/controls",
     "model_module_version": "1.5.0",
     "model_name": "HTMLModel",
     "state": {
      "_dom_classes": [],
      "_model_module": "@jupyter-widgets/controls",
      "_model_module_version": "1.5.0",
      "_model_name": "HTMLModel",
      "_view_count": null,
      "_view_module": "@jupyter-widgets/controls",
      "_view_module_version": "1.5.0",
      "_view_name": "HTMLView",
      "description": "",
      "description_tooltip": null,
      "layout": "IPY_MODEL_7f04c782ffb346028cf9b64616004d46",
      "placeholder": "​",
      "style": "IPY_MODEL_503df95c3a1f4cc796cb68aa314ed911",
      "value": " 498/498 [08:36&lt;00:00,  1.03it/s]"
     }
    },
    "063f09effd9f4e019b68cfc198b4364a": {
     "model_module": "@jupyter-widgets/controls",
     "model_module_version": "1.5.0",
     "model_name": "DescriptionStyleModel",
     "state": {
      "_model_module": "@jupyter-widgets/controls",
      "_model_module_version": "1.5.0",
      "_model_name": "DescriptionStyleModel",
      "_view_count": null,
      "_view_module": "@jupyter-widgets/base",
      "_view_module_version": "1.2.0",
      "_view_name": "StyleView",
      "description_width": ""
     }
    },
    "07a8dc804e524c638f2de2c9fd264a5c": {
     "model_module": "@jupyter-widgets/controls",
     "model_module_version": "1.5.0",
     "model_name": "HTMLModel",
     "state": {
      "_dom_classes": [],
      "_model_module": "@jupyter-widgets/controls",
      "_model_module_version": "1.5.0",
      "_model_name": "HTMLModel",
      "_view_count": null,
      "_view_module": "@jupyter-widgets/controls",
      "_view_module_version": "1.5.0",
      "_view_name": "HTMLView",
      "description": "",
      "description_tooltip": null,
      "layout": "IPY_MODEL_9fde09629de84574866fe78e0d37ffcb",
      "placeholder": "​",
      "style": "IPY_MODEL_248d9821545d42d997bef6d8fcbeeec1",
      "value": "Downloading builder script: 100%"
     }
    },
    "096c68a66a794001848e4078fe2f2bcd": {
     "model_module": "@jupyter-widgets/controls",
     "model_module_version": "1.5.0",
     "model_name": "DescriptionStyleModel",
     "state": {
      "_model_module": "@jupyter-widgets/controls",
      "_model_module_version": "1.5.0",
      "_model_name": "DescriptionStyleModel",
      "_view_count": null,
      "_view_module": "@jupyter-widgets/base",
      "_view_module_version": "1.2.0",
      "_view_name": "StyleView",
      "description_width": ""
     }
    },
    "09f361604f4d407781296888ebdfeab5": {
     "model_module": "@jupyter-widgets/controls",
     "model_module_version": "1.5.0",
     "model_name": "HTMLModel",
     "state": {
      "_dom_classes": [],
      "_model_module": "@jupyter-widgets/controls",
      "_model_module_version": "1.5.0",
      "_model_name": "HTMLModel",
      "_view_count": null,
      "_view_module": "@jupyter-widgets/controls",
      "_view_module_version": "1.5.0",
      "_view_name": "HTMLView",
      "description": "",
      "description_tooltip": null,
      "layout": "IPY_MODEL_51e3578ca5264d5bb3c2136d32b102de",
      "placeholder": "​",
      "style": "IPY_MODEL_f88183a67f24491382f1cfbc5d210048",
      "value": "100%"
     }
    },
    "0a9d8dc929b54011b069125396cf0b72": {
     "model_module": "@jupyter-widgets/base",
     "model_module_version": "1.2.0",
     "model_name": "LayoutModel",
     "state": {
      "_model_module": "@jupyter-widgets/base",
      "_model_module_version": "1.2.0",
      "_model_name": "LayoutModel",
      "_view_count": null,
      "_view_module": "@jupyter-widgets/base",
      "_view_module_version": "1.2.0",
      "_view_name": "LayoutView",
      "align_content": null,
      "align_items": null,
      "align_self": null,
      "border": null,
      "bottom": null,
      "display": null,
      "flex": null,
      "flex_flow": null,
      "grid_area": null,
      "grid_auto_columns": null,
      "grid_auto_flow": null,
      "grid_auto_rows": null,
      "grid_column": null,
      "grid_gap": null,
      "grid_row": null,
      "grid_template_areas": null,
      "grid_template_columns": null,
      "grid_template_rows": null,
      "height": null,
      "justify_content": null,
      "justify_items": null,
      "left": null,
      "margin": null,
      "max_height": null,
      "max_width": null,
      "min_height": null,
      "min_width": null,
      "object_fit": null,
      "object_position": null,
      "order": null,
      "overflow": null,
      "overflow_x": null,
      "overflow_y": null,
      "padding": null,
      "right": null,
      "top": null,
      "visibility": null,
      "width": null
     }
    },
    "0d054c8f9df7428d855dda4736f42bc0": {
     "model_module": "@jupyter-widgets/base",
     "model_module_version": "1.2.0",
     "model_name": "LayoutModel",
     "state": {
      "_model_module": "@jupyter-widgets/base",
      "_model_module_version": "1.2.0",
      "_model_name": "LayoutModel",
      "_view_count": null,
      "_view_module": "@jupyter-widgets/base",
      "_view_module_version": "1.2.0",
      "_view_name": "LayoutView",
      "align_content": null,
      "align_items": null,
      "align_self": null,
      "border": null,
      "bottom": null,
      "display": null,
      "flex": null,
      "flex_flow": null,
      "grid_area": null,
      "grid_auto_columns": null,
      "grid_auto_flow": null,
      "grid_auto_rows": null,
      "grid_column": null,
      "grid_gap": null,
      "grid_row": null,
      "grid_template_areas": null,
      "grid_template_columns": null,
      "grid_template_rows": null,
      "height": null,
      "justify_content": null,
      "justify_items": null,
      "left": null,
      "margin": null,
      "max_height": null,
      "max_width": null,
      "min_height": null,
      "min_width": null,
      "object_fit": null,
      "object_position": null,
      "order": null,
      "overflow": null,
      "overflow_x": null,
      "overflow_y": null,
      "padding": null,
      "right": null,
      "top": null,
      "visibility": null,
      "width": null
     }
    },
    "0d2cad4718694ef5bc4ad026aa3c246a": {
     "model_module": "@jupyter-widgets/base",
     "model_module_version": "1.2.0",
     "model_name": "LayoutModel",
     "state": {
      "_model_module": "@jupyter-widgets/base",
      "_model_module_version": "1.2.0",
      "_model_name": "LayoutModel",
      "_view_count": null,
      "_view_module": "@jupyter-widgets/base",
      "_view_module_version": "1.2.0",
      "_view_name": "LayoutView",
      "align_content": null,
      "align_items": null,
      "align_self": null,
      "border": null,
      "bottom": null,
      "display": null,
      "flex": null,
      "flex_flow": null,
      "grid_area": null,
      "grid_auto_columns": null,
      "grid_auto_flow": null,
      "grid_auto_rows": null,
      "grid_column": null,
      "grid_gap": null,
      "grid_row": null,
      "grid_template_areas": null,
      "grid_template_columns": null,
      "grid_template_rows": null,
      "height": null,
      "justify_content": null,
      "justify_items": null,
      "left": null,
      "margin": null,
      "max_height": null,
      "max_width": null,
      "min_height": null,
      "min_width": null,
      "object_fit": null,
      "object_position": null,
      "order": null,
      "overflow": null,
      "overflow_x": null,
      "overflow_y": null,
      "padding": null,
      "right": null,
      "top": null,
      "visibility": null,
      "width": null
     }
    },
    "0dcbd90b1ef148aa864a4665e486a4ee": {
     "model_module": "@jupyter-widgets/controls",
     "model_module_version": "1.5.0",
     "model_name": "HTMLModel",
     "state": {
      "_dom_classes": [],
      "_model_module": "@jupyter-widgets/controls",
      "_model_module_version": "1.5.0",
      "_model_name": "HTMLModel",
      "_view_count": null,
      "_view_module": "@jupyter-widgets/controls",
      "_view_module_version": "1.5.0",
      "_view_name": "HTMLView",
      "description": "",
      "description_tooltip": null,
      "layout": "IPY_MODEL_e9e3050bbeff4439b69a34072bcf5530",
      "placeholder": "​",
      "style": "IPY_MODEL_01d0fca6453e41ca9acb5490131a65df",
      "value": "Downloading: 100%"
     }
    },
    "0ed52e172dab46d39fe8546eb7da6b3c": {
     "model_module": "@jupyter-widgets/controls",
     "model_module_version": "1.5.0",
     "model_name": "HTMLModel",
     "state": {
      "_dom_classes": [],
      "_model_module": "@jupyter-widgets/controls",
      "_model_module_version": "1.5.0",
      "_model_name": "HTMLModel",
      "_view_count": null,
      "_view_module": "@jupyter-widgets/controls",
      "_view_module_version": "1.5.0",
      "_view_name": "HTMLView",
      "description": "",
      "description_tooltip": null,
      "layout": "IPY_MODEL_011647cf9c3e46d0a9d68e9a94df2269",
      "placeholder": "​",
      "style": "IPY_MODEL_ead0105a3ec34d22aa293ec4aaa58fef",
      "value": " 268M/268M [00:04&lt;00:00, 56.3MB/s]"
     }
    },
    "1164829ebf3548f792d0c547aee02400": {
     "model_module": "@jupyter-widgets/controls",
     "model_module_version": "1.5.0",
     "model_name": "ProgressStyleModel",
     "state": {
      "_model_module": "@jupyter-widgets/controls",
      "_model_module_version": "1.5.0",
      "_model_name": "ProgressStyleModel",
      "_view_count": null,
      "_view_module": "@jupyter-widgets/base",
      "_view_module_version": "1.2.0",
      "_view_name": "StyleView",
      "bar_color": null,
      "description_width": ""
     }
    },
    "122982ce203041b1ae9266920551d730": {
     "model_module": "@jupyter-widgets/controls",
     "model_module_version": "1.5.0",
     "model_name": "FloatProgressModel",
     "state": {
      "_dom_classes": [],
      "_model_module": "@jupyter-widgets/controls",
      "_model_module_version": "1.5.0",
      "_model_name": "FloatProgressModel",
      "_view_count": null,
      "_view_module": "@jupyter-widgets/controls",
      "_view_module_version": "1.5.0",
      "_view_name": "ProgressView",
      "bar_style": "danger",
      "description": "",
      "description_tooltip": null,
      "layout": "IPY_MODEL_c322c30fb72c49798b59a190ce5bb81e",
      "max": 3983,
      "min": 0,
      "orientation": "horizontal",
      "style": "IPY_MODEL_c9cb8b3dc01648a3aabb8f48e17119b8",
      "value": 3982
     }
    },
    "125ba4df24f54da687dbf2b0809f66f0": {
     "model_module": "@jupyter-widgets/controls",
     "model_module_version": "1.5.0",
     "model_name": "HTMLModel",
     "state": {
      "_dom_classes": [],
      "_model_module": "@jupyter-widgets/controls",
      "_model_module_version": "1.5.0",
      "_model_name": "HTMLModel",
      "_view_count": null,
      "_view_module": "@jupyter-widgets/controls",
      "_view_module_version": "1.5.0",
      "_view_name": "HTMLView",
      "description": "",
      "description_tooltip": null,
      "layout": "IPY_MODEL_42f812199a2b496d981fdf0b6913745e",
      "placeholder": "​",
      "style": "IPY_MODEL_1433857d2833475fb6e172986afb5eaa",
      "value": "Downloading: 100%"
     }
    },
    "1433857d2833475fb6e172986afb5eaa": {
     "model_module": "@jupyter-widgets/controls",
     "model_module_version": "1.5.0",
     "model_name": "DescriptionStyleModel",
     "state": {
      "_model_module": "@jupyter-widgets/controls",
      "_model_module_version": "1.5.0",
      "_model_name": "DescriptionStyleModel",
      "_view_count": null,
      "_view_module": "@jupyter-widgets/base",
      "_view_module_version": "1.2.0",
      "_view_name": "StyleView",
      "description_width": ""
     }
    },
    "15fdde10e04b4b8694364ace76257ba4": {
     "model_module": "@jupyter-widgets/controls",
     "model_module_version": "1.5.0",
     "model_name": "HBoxModel",
     "state": {
      "_dom_classes": [],
      "_model_module": "@jupyter-widgets/controls",
      "_model_module_version": "1.5.0",
      "_model_name": "HBoxModel",
      "_view_count": null,
      "_view_module": "@jupyter-widgets/controls",
      "_view_module_version": "1.5.0",
      "_view_name": "HBoxView",
      "box_style": "",
      "children": [
       "IPY_MODEL_09f361604f4d407781296888ebdfeab5",
       "IPY_MODEL_a5e7dad525ed4b00bbb03eb8fdb74643",
       "IPY_MODEL_c77629cf3c5b452ca5acec1defae2917"
      ],
      "layout": "IPY_MODEL_410c3a25cde547218869013148eb6745"
     }
    },
    "16488831e9214742bba052037b207231": {
     "model_module": "@jupyter-widgets/controls",
     "model_module_version": "1.5.0",
     "model_name": "DescriptionStyleModel",
     "state": {
      "_model_module": "@jupyter-widgets/controls",
      "_model_module_version": "1.5.0",
      "_model_name": "DescriptionStyleModel",
      "_view_count": null,
      "_view_module": "@jupyter-widgets/base",
      "_view_module_version": "1.2.0",
      "_view_name": "StyleView",
      "description_width": ""
     }
    },
    "1734f0a45db64934a3fc56515a09d7aa": {
     "model_module": "@jupyter-widgets/base",
     "model_module_version": "1.2.0",
     "model_name": "LayoutModel",
     "state": {
      "_model_module": "@jupyter-widgets/base",
      "_model_module_version": "1.2.0",
      "_model_name": "LayoutModel",
      "_view_count": null,
      "_view_module": "@jupyter-widgets/base",
      "_view_module_version": "1.2.0",
      "_view_name": "LayoutView",
      "align_content": null,
      "align_items": null,
      "align_self": null,
      "border": null,
      "bottom": null,
      "display": null,
      "flex": null,
      "flex_flow": null,
      "grid_area": null,
      "grid_auto_columns": null,
      "grid_auto_flow": null,
      "grid_auto_rows": null,
      "grid_column": null,
      "grid_gap": null,
      "grid_row": null,
      "grid_template_areas": null,
      "grid_template_columns": null,
      "grid_template_rows": null,
      "height": null,
      "justify_content": null,
      "justify_items": null,
      "left": null,
      "margin": null,
      "max_height": null,
      "max_width": null,
      "min_height": null,
      "min_width": null,
      "object_fit": null,
      "object_position": null,
      "order": null,
      "overflow": null,
      "overflow_x": null,
      "overflow_y": null,
      "padding": null,
      "right": null,
      "top": null,
      "visibility": null,
      "width": null
     }
    },
    "188d3e574a3e4f4b9f4e02ca066669aa": {
     "model_module": "@jupyter-widgets/controls",
     "model_module_version": "1.5.0",
     "model_name": "DescriptionStyleModel",
     "state": {
      "_model_module": "@jupyter-widgets/controls",
      "_model_module_version": "1.5.0",
      "_model_name": "DescriptionStyleModel",
      "_view_count": null,
      "_view_module": "@jupyter-widgets/base",
      "_view_module_version": "1.2.0",
      "_view_name": "StyleView",
      "description_width": ""
     }
    },
    "1a935cd50f61471e9c3ec5d09f491f7a": {
     "model_module": "@jupyter-widgets/controls",
     "model_module_version": "1.5.0",
     "model_name": "HBoxModel",
     "state": {
      "_dom_classes": [],
      "_model_module": "@jupyter-widgets/controls",
      "_model_module_version": "1.5.0",
      "_model_name": "HBoxModel",
      "_view_count": null,
      "_view_module": "@jupyter-widgets/controls",
      "_view_module_version": "1.5.0",
      "_view_name": "HBoxView",
      "box_style": "",
      "children": [
       "IPY_MODEL_a3fd97c05fc44adcaeb50edc9eb18469",
       "IPY_MODEL_0093142727a24d2a968583d2bea1d45b",
       "IPY_MODEL_7224c2dcea654f1eb342ed9d330cb208"
      ],
      "layout": "IPY_MODEL_506c66c4ca8e4d3ca14e73467c53ffe4"
     }
    },
    "1e10fcc7f270465a86ea333788b76e32": {
     "model_module": "@jupyter-widgets/controls",
     "model_module_version": "1.5.0",
     "model_name": "HTMLModel",
     "state": {
      "_dom_classes": [],
      "_model_module": "@jupyter-widgets/controls",
      "_model_module_version": "1.5.0",
      "_model_name": "HTMLModel",
      "_view_count": null,
      "_view_module": "@jupyter-widgets/controls",
      "_view_module_version": "1.5.0",
      "_view_name": "HTMLView",
      "description": "",
      "description_tooltip": null,
      "layout": "IPY_MODEL_c37587051114454189d531e25901e894",
      "placeholder": "​",
      "style": "IPY_MODEL_54c231a4b46e44299ea27161e854c20c",
      "value": "100%"
     }
    },
    "1f55de4f36e24a2497f93365e794d423": {
     "model_module": "@jupyter-widgets/controls",
     "model_module_version": "1.5.0",
     "model_name": "ProgressStyleModel",
     "state": {
      "_model_module": "@jupyter-widgets/controls",
      "_model_module_version": "1.5.0",
      "_model_name": "ProgressStyleModel",
      "_view_count": null,
      "_view_module": "@jupyter-widgets/base",
      "_view_module_version": "1.2.0",
      "_view_name": "StyleView",
      "bar_color": null,
      "description_width": ""
     }
    },
    "1fcc3b588d1d4202b8cc547df695ac2d": {
     "model_module": "@jupyter-widgets/base",
     "model_module_version": "1.2.0",
     "model_name": "LayoutModel",
     "state": {
      "_model_module": "@jupyter-widgets/base",
      "_model_module_version": "1.2.0",
      "_model_name": "LayoutModel",
      "_view_count": null,
      "_view_module": "@jupyter-widgets/base",
      "_view_module_version": "1.2.0",
      "_view_name": "LayoutView",
      "align_content": null,
      "align_items": null,
      "align_self": null,
      "border": null,
      "bottom": null,
      "display": null,
      "flex": null,
      "flex_flow": null,
      "grid_area": null,
      "grid_auto_columns": null,
      "grid_auto_flow": null,
      "grid_auto_rows": null,
      "grid_column": null,
      "grid_gap": null,
      "grid_row": null,
      "grid_template_areas": null,
      "grid_template_columns": null,
      "grid_template_rows": null,
      "height": null,
      "justify_content": null,
      "justify_items": null,
      "left": null,
      "margin": null,
      "max_height": null,
      "max_width": null,
      "min_height": null,
      "min_width": null,
      "object_fit": null,
      "object_position": null,
      "order": null,
      "overflow": null,
      "overflow_x": null,
      "overflow_y": null,
      "padding": null,
      "right": null,
      "top": null,
      "visibility": null,
      "width": null
     }
    },
    "243072a6dfe14934b30af475332949a0": {
     "model_module": "@jupyter-widgets/controls",
     "model_module_version": "1.5.0",
     "model_name": "DescriptionStyleModel",
     "state": {
      "_model_module": "@jupyter-widgets/controls",
      "_model_module_version": "1.5.0",
      "_model_name": "DescriptionStyleModel",
      "_view_count": null,
      "_view_module": "@jupyter-widgets/base",
      "_view_module_version": "1.2.0",
      "_view_name": "StyleView",
      "description_width": ""
     }
    },
    "248d9821545d42d997bef6d8fcbeeec1": {
     "model_module": "@jupyter-widgets/controls",
     "model_module_version": "1.5.0",
     "model_name": "DescriptionStyleModel",
     "state": {
      "_model_module": "@jupyter-widgets/controls",
      "_model_module_version": "1.5.0",
      "_model_name": "DescriptionStyleModel",
      "_view_count": null,
      "_view_module": "@jupyter-widgets/base",
      "_view_module_version": "1.2.0",
      "_view_name": "StyleView",
      "description_width": ""
     }
    },
    "25ef9347f60f42818c9b66e62abe68fc": {
     "model_module": "@jupyter-widgets/controls",
     "model_module_version": "1.5.0",
     "model_name": "HBoxModel",
     "state": {
      "_dom_classes": [],
      "_model_module": "@jupyter-widgets/controls",
      "_model_module_version": "1.5.0",
      "_model_name": "HBoxModel",
      "_view_count": null,
      "_view_module": "@jupyter-widgets/controls",
      "_view_module_version": "1.5.0",
      "_view_name": "HBoxView",
      "box_style": "",
      "children": [
       "IPY_MODEL_07a8dc804e524c638f2de2c9fd264a5c",
       "IPY_MODEL_f058678569b540f6847405bf9fdcc705",
       "IPY_MODEL_94ab3698ee344b81b1b5757bd8e723da"
      ],
      "layout": "IPY_MODEL_f6916869c95341dc9a05b2d9d59136b7"
     }
    },
    "285e13b96a224f6480aebf6277782110": {
     "model_module": "@jupyter-widgets/controls",
     "model_module_version": "1.5.0",
     "model_name": "ProgressStyleModel",
     "state": {
      "_model_module": "@jupyter-widgets/controls",
      "_model_module_version": "1.5.0",
      "_model_name": "ProgressStyleModel",
      "_view_count": null,
      "_view_module": "@jupyter-widgets/base",
      "_view_module_version": "1.2.0",
      "_view_name": "StyleView",
      "bar_color": null,
      "description_width": ""
     }
    },
    "2a218462dade4a6996bd74bd5e1db26d": {
     "model_module": "@jupyter-widgets/controls",
     "model_module_version": "1.5.0",
     "model_name": "ProgressStyleModel",
     "state": {
      "_model_module": "@jupyter-widgets/controls",
      "_model_module_version": "1.5.0",
      "_model_name": "ProgressStyleModel",
      "_view_count": null,
      "_view_module": "@jupyter-widgets/base",
      "_view_module_version": "1.2.0",
      "_view_name": "StyleView",
      "bar_color": null,
      "description_width": ""
     }
    },
    "2b34ed395aa04d1ba3613660860e2bfd": {
     "model_module": "@jupyter-widgets/controls",
     "model_module_version": "1.5.0",
     "model_name": "HBoxModel",
     "state": {
      "_dom_classes": [],
      "_model_module": "@jupyter-widgets/controls",
      "_model_module_version": "1.5.0",
      "_model_name": "HBoxModel",
      "_view_count": null,
      "_view_module": "@jupyter-widgets/controls",
      "_view_module_version": "1.5.0",
      "_view_name": "HBoxView",
      "box_style": "",
      "children": [
       "IPY_MODEL_a78d121d1d6a49e8a0af8a709e2d2ce5",
       "IPY_MODEL_c2d0c92f809148b5b2db7fed1165af62",
       "IPY_MODEL_e7ac01db0178459ca000861d16ce3ddc"
      ],
      "layout": "IPY_MODEL_e56276955aaa4f10b189467f8248f6dc"
     }
    },
    "2d195d650e8742cfa6967b0c63b2513f": {
     "model_module": "@jupyter-widgets/controls",
     "model_module_version": "1.5.0",
     "model_name": "DescriptionStyleModel",
     "state": {
      "_model_module": "@jupyter-widgets/controls",
      "_model_module_version": "1.5.0",
      "_model_name": "DescriptionStyleModel",
      "_view_count": null,
      "_view_module": "@jupyter-widgets/base",
      "_view_module_version": "1.2.0",
      "_view_name": "StyleView",
      "description_width": ""
     }
    },
    "2f4a0f35c63749e4a2bc0b221d17b3cf": {
     "model_module": "@jupyter-widgets/controls",
     "model_module_version": "1.5.0",
     "model_name": "DescriptionStyleModel",
     "state": {
      "_model_module": "@jupyter-widgets/controls",
      "_model_module_version": "1.5.0",
      "_model_name": "DescriptionStyleModel",
      "_view_count": null,
      "_view_module": "@jupyter-widgets/base",
      "_view_module_version": "1.2.0",
      "_view_name": "StyleView",
      "description_width": ""
     }
    },
    "3a06990deb7649228d22070810c5fdf8": {
     "model_module": "@jupyter-widgets/base",
     "model_module_version": "1.2.0",
     "model_name": "LayoutModel",
     "state": {
      "_model_module": "@jupyter-widgets/base",
      "_model_module_version": "1.2.0",
      "_model_name": "LayoutModel",
      "_view_count": null,
      "_view_module": "@jupyter-widgets/base",
      "_view_module_version": "1.2.0",
      "_view_name": "LayoutView",
      "align_content": null,
      "align_items": null,
      "align_self": null,
      "border": null,
      "bottom": null,
      "display": null,
      "flex": null,
      "flex_flow": null,
      "grid_area": null,
      "grid_auto_columns": null,
      "grid_auto_flow": null,
      "grid_auto_rows": null,
      "grid_column": null,
      "grid_gap": null,
      "grid_row": null,
      "grid_template_areas": null,
      "grid_template_columns": null,
      "grid_template_rows": null,
      "height": null,
      "justify_content": null,
      "justify_items": null,
      "left": null,
      "margin": null,
      "max_height": null,
      "max_width": null,
      "min_height": null,
      "min_width": null,
      "object_fit": null,
      "object_position": null,
      "order": null,
      "overflow": null,
      "overflow_x": null,
      "overflow_y": null,
      "padding": null,
      "right": null,
      "top": null,
      "visibility": null,
      "width": null
     }
    },
    "3af675e3e05d420b9936ef9a9ecf90f3": {
     "model_module": "@jupyter-widgets/base",
     "model_module_version": "1.2.0",
     "model_name": "LayoutModel",
     "state": {
      "_model_module": "@jupyter-widgets/base",
      "_model_module_version": "1.2.0",
      "_model_name": "LayoutModel",
      "_view_count": null,
      "_view_module": "@jupyter-widgets/base",
      "_view_module_version": "1.2.0",
      "_view_name": "LayoutView",
      "align_content": null,
      "align_items": null,
      "align_self": null,
      "border": null,
      "bottom": null,
      "display": null,
      "flex": null,
      "flex_flow": null,
      "grid_area": null,
      "grid_auto_columns": null,
      "grid_auto_flow": null,
      "grid_auto_rows": null,
      "grid_column": null,
      "grid_gap": null,
      "grid_row": null,
      "grid_template_areas": null,
      "grid_template_columns": null,
      "grid_template_rows": null,
      "height": null,
      "justify_content": null,
      "justify_items": null,
      "left": null,
      "margin": null,
      "max_height": null,
      "max_width": null,
      "min_height": null,
      "min_width": null,
      "object_fit": null,
      "object_position": null,
      "order": null,
      "overflow": null,
      "overflow_x": null,
      "overflow_y": null,
      "padding": null,
      "right": null,
      "top": null,
      "visibility": null,
      "width": null
     }
    },
    "3c046ed1508e408c8861a5c062dad51b": {
     "model_module": "@jupyter-widgets/controls",
     "model_module_version": "1.5.0",
     "model_name": "HBoxModel",
     "state": {
      "_dom_classes": [],
      "_model_module": "@jupyter-widgets/controls",
      "_model_module_version": "1.5.0",
      "_model_name": "HBoxModel",
      "_view_count": null,
      "_view_module": "@jupyter-widgets/controls",
      "_view_module_version": "1.5.0",
      "_view_name": "HBoxView",
      "box_style": "",
      "children": [
       "IPY_MODEL_1e10fcc7f270465a86ea333788b76e32",
       "IPY_MODEL_122982ce203041b1ae9266920551d730",
       "IPY_MODEL_a1205b8a5abc49f0bb71efa0e22522e0"
      ],
      "layout": "IPY_MODEL_01c3f0d9c3e8464cb40dc0c7997ba825"
     }
    },
    "3c5fc34f7c564520b0d31ad62b05ded2": {
     "model_module": "@jupyter-widgets/base",
     "model_module_version": "1.2.0",
     "model_name": "LayoutModel",
     "state": {
      "_model_module": "@jupyter-widgets/base",
      "_model_module_version": "1.2.0",
      "_model_name": "LayoutModel",
      "_view_count": null,
      "_view_module": "@jupyter-widgets/base",
      "_view_module_version": "1.2.0",
      "_view_name": "LayoutView",
      "align_content": null,
      "align_items": null,
      "align_self": null,
      "border": null,
      "bottom": null,
      "display": null,
      "flex": null,
      "flex_flow": null,
      "grid_area": null,
      "grid_auto_columns": null,
      "grid_auto_flow": null,
      "grid_auto_rows": null,
      "grid_column": null,
      "grid_gap": null,
      "grid_row": null,
      "grid_template_areas": null,
      "grid_template_columns": null,
      "grid_template_rows": null,
      "height": null,
      "justify_content": null,
      "justify_items": null,
      "left": null,
      "margin": null,
      "max_height": null,
      "max_width": null,
      "min_height": null,
      "min_width": null,
      "object_fit": null,
      "object_position": null,
      "order": null,
      "overflow": null,
      "overflow_x": null,
      "overflow_y": null,
      "padding": null,
      "right": null,
      "top": null,
      "visibility": null,
      "width": null
     }
    },
    "3d8de27bc2f14937ab0ed4d1707c9f94": {
     "model_module": "@jupyter-widgets/controls",
     "model_module_version": "1.5.0",
     "model_name": "HTMLModel",
     "state": {
      "_dom_classes": [],
      "_model_module": "@jupyter-widgets/controls",
      "_model_module_version": "1.5.0",
      "_model_name": "HTMLModel",
      "_view_count": null,
      "_view_module": "@jupyter-widgets/controls",
      "_view_module_version": "1.5.0",
      "_view_name": "HTMLView",
      "description": "",
      "description_tooltip": null,
      "layout": "IPY_MODEL_0d2cad4718694ef5bc4ad026aa3c246a",
      "placeholder": "​",
      "style": "IPY_MODEL_a84863c816664934b2d3f17d108b85c6",
      "value": "Downloading: 100%"
     }
    },
    "3ef578f70eea45acbc5decace6fc1976": {
     "model_module": "@jupyter-widgets/controls",
     "model_module_version": "1.5.0",
     "model_name": "DescriptionStyleModel",
     "state": {
      "_model_module": "@jupyter-widgets/controls",
      "_model_module_version": "1.5.0",
      "_model_name": "DescriptionStyleModel",
      "_view_count": null,
      "_view_module": "@jupyter-widgets/base",
      "_view_module_version": "1.2.0",
      "_view_name": "StyleView",
      "description_width": ""
     }
    },
    "3fb6eda9c1f94a00a25eee6526d4736e": {
     "model_module": "@jupyter-widgets/controls",
     "model_module_version": "1.5.0",
     "model_name": "HBoxModel",
     "state": {
      "_dom_classes": [],
      "_model_module": "@jupyter-widgets/controls",
      "_model_module_version": "1.5.0",
      "_model_name": "HBoxModel",
      "_view_count": null,
      "_view_module": "@jupyter-widgets/controls",
      "_view_module_version": "1.5.0",
      "_view_name": "HBoxView",
      "box_style": "",
      "children": [
       "IPY_MODEL_0dcbd90b1ef148aa864a4665e486a4ee",
       "IPY_MODEL_979b6f0e5258455c818dd2ef132c159c",
       "IPY_MODEL_e20533f814ac4c26b5890aec9e8afd14"
      ],
      "layout": "IPY_MODEL_c1b88c1abfa64bcca3360ea61a5a2348"
     }
    },
    "410c3a25cde547218869013148eb6745": {
     "model_module": "@jupyter-widgets/base",
     "model_module_version": "1.2.0",
     "model_name": "LayoutModel",
     "state": {
      "_model_module": "@jupyter-widgets/base",
      "_model_module_version": "1.2.0",
      "_model_name": "LayoutModel",
      "_view_count": null,
      "_view_module": "@jupyter-widgets/base",
      "_view_module_version": "1.2.0",
      "_view_name": "LayoutView",
      "align_content": null,
      "align_items": null,
      "align_self": null,
      "border": null,
      "bottom": null,
      "display": null,
      "flex": null,
      "flex_flow": null,
      "grid_area": null,
      "grid_auto_columns": null,
      "grid_auto_flow": null,
      "grid_auto_rows": null,
      "grid_column": null,
      "grid_gap": null,
      "grid_row": null,
      "grid_template_areas": null,
      "grid_template_columns": null,
      "grid_template_rows": null,
      "height": null,
      "justify_content": null,
      "justify_items": null,
      "left": null,
      "margin": null,
      "max_height": null,
      "max_width": null,
      "min_height": null,
      "min_width": null,
      "object_fit": null,
      "object_position": null,
      "order": null,
      "overflow": null,
      "overflow_x": null,
      "overflow_y": null,
      "padding": null,
      "right": null,
      "top": null,
      "visibility": null,
      "width": null
     }
    },
    "42b083ff60fe4f80b6ec1007d8c17237": {
     "model_module": "@jupyter-widgets/base",
     "model_module_version": "1.2.0",
     "model_name": "LayoutModel",
     "state": {
      "_model_module": "@jupyter-widgets/base",
      "_model_module_version": "1.2.0",
      "_model_name": "LayoutModel",
      "_view_count": null,
      "_view_module": "@jupyter-widgets/base",
      "_view_module_version": "1.2.0",
      "_view_name": "LayoutView",
      "align_content": null,
      "align_items": null,
      "align_self": null,
      "border": null,
      "bottom": null,
      "display": null,
      "flex": null,
      "flex_flow": null,
      "grid_area": null,
      "grid_auto_columns": null,
      "grid_auto_flow": null,
      "grid_auto_rows": null,
      "grid_column": null,
      "grid_gap": null,
      "grid_row": null,
      "grid_template_areas": null,
      "grid_template_columns": null,
      "grid_template_rows": null,
      "height": null,
      "justify_content": null,
      "justify_items": null,
      "left": null,
      "margin": null,
      "max_height": null,
      "max_width": null,
      "min_height": null,
      "min_width": null,
      "object_fit": null,
      "object_position": null,
      "order": null,
      "overflow": null,
      "overflow_x": null,
      "overflow_y": null,
      "padding": null,
      "right": null,
      "top": null,
      "visibility": null,
      "width": null
     }
    },
    "42f812199a2b496d981fdf0b6913745e": {
     "model_module": "@jupyter-widgets/base",
     "model_module_version": "1.2.0",
     "model_name": "LayoutModel",
     "state": {
      "_model_module": "@jupyter-widgets/base",
      "_model_module_version": "1.2.0",
      "_model_name": "LayoutModel",
      "_view_count": null,
      "_view_module": "@jupyter-widgets/base",
      "_view_module_version": "1.2.0",
      "_view_name": "LayoutView",
      "align_content": null,
      "align_items": null,
      "align_self": null,
      "border": null,
      "bottom": null,
      "display": null,
      "flex": null,
      "flex_flow": null,
      "grid_area": null,
      "grid_auto_columns": null,
      "grid_auto_flow": null,
      "grid_auto_rows": null,
      "grid_column": null,
      "grid_gap": null,
      "grid_row": null,
      "grid_template_areas": null,
      "grid_template_columns": null,
      "grid_template_rows": null,
      "height": null,
      "justify_content": null,
      "justify_items": null,
      "left": null,
      "margin": null,
      "max_height": null,
      "max_width": null,
      "min_height": null,
      "min_width": null,
      "object_fit": null,
      "object_position": null,
      "order": null,
      "overflow": null,
      "overflow_x": null,
      "overflow_y": null,
      "padding": null,
      "right": null,
      "top": null,
      "visibility": null,
      "width": null
     }
    },
    "45f3a78f96ca41feb391fd1dd4caf794": {
     "model_module": "@jupyter-widgets/controls",
     "model_module_version": "1.5.0",
     "model_name": "HTMLModel",
     "state": {
      "_dom_classes": [],
      "_model_module": "@jupyter-widgets/controls",
      "_model_module_version": "1.5.0",
      "_model_name": "HTMLModel",
      "_view_count": null,
      "_view_module": "@jupyter-widgets/controls",
      "_view_module_version": "1.5.0",
      "_view_name": "HTMLView",
      "description": "",
      "description_tooltip": null,
      "layout": "IPY_MODEL_3af675e3e05d420b9936ef9a9ecf90f3",
      "placeholder": "​",
      "style": "IPY_MODEL_096c68a66a794001848e4078fe2f2bcd",
      "value": " 7.36k/7.36k [00:00&lt;00:00, 238kB/s]"
     }
    },
    "4660060ab670435e909f9ec6bf69b5c7": {
     "model_module": "@jupyter-widgets/controls",
     "model_module_version": "1.5.0",
     "model_name": "HBoxModel",
     "state": {
      "_dom_classes": [],
      "_model_module": "@jupyter-widgets/controls",
      "_model_module_version": "1.5.0",
      "_model_name": "HBoxModel",
      "_view_count": null,
      "_view_module": "@jupyter-widgets/controls",
      "_view_module_version": "1.5.0",
      "_view_name": "HBoxView",
      "box_style": "",
      "children": [
       "IPY_MODEL_701d42aa48fa4f3eaa06d3b907182c38",
       "IPY_MODEL_5c2a183b37a7466493bd8e8a90203db8",
       "IPY_MODEL_45f3a78f96ca41feb391fd1dd4caf794"
      ],
      "layout": "IPY_MODEL_7f3db947b0e743079292e4dd1507c959"
     }
    },
    "4749ea56ed2641af9a2773c9786563b3": {
     "model_module": "@jupyter-widgets/controls",
     "model_module_version": "1.5.0",
     "model_name": "HBoxModel",
     "state": {
      "_dom_classes": [],
      "_model_module": "@jupyter-widgets/controls",
      "_model_module_version": "1.5.0",
      "_model_name": "HBoxModel",
      "_view_count": null,
      "_view_module": "@jupyter-widgets/controls",
      "_view_module_version": "1.5.0",
      "_view_name": "HBoxView",
      "box_style": "",
      "children": [
       "IPY_MODEL_fc7be0b0ac794816a62ffd1beaa123b8",
       "IPY_MODEL_8f169a6c3b46480cbb1e2382ee1f211c",
       "IPY_MODEL_048916f458894314919ea80b5f85ef70"
      ],
      "layout": "IPY_MODEL_4eea78943c604d168f89ba14b3e97260"
     }
    },
    "4918767075cc4f489b058daa2279de2d": {
     "model_module": "@jupyter-widgets/controls",
     "model_module_version": "1.5.0",
     "model_name": "HTMLModel",
     "state": {
      "_dom_classes": [],
      "_model_module": "@jupyter-widgets/controls",
      "_model_module_version": "1.5.0",
      "_model_name": "HTMLModel",
      "_view_count": null,
      "_view_module": "@jupyter-widgets/controls",
      "_view_module_version": "1.5.0",
      "_view_name": "HTMLView",
      "description": "",
      "description_tooltip": null,
      "layout": "IPY_MODEL_7a93e682ad6b429380d1a8f766bb41b3",
      "placeholder": "​",
      "style": "IPY_MODEL_672a391a234249c0a3a7bb18d0993623",
      "value": "Downloading: 100%"
     }
    },
    "4d4dd1423cf54abf8c6312418f55ffd1": {
     "model_module": "@jupyter-widgets/controls",
     "model_module_version": "1.5.0",
     "model_name": "HBoxModel",
     "state": {
      "_dom_classes": [],
      "_model_module": "@jupyter-widgets/controls",
      "_model_module_version": "1.5.0",
      "_model_name": "HBoxModel",
      "_view_count": null,
      "_view_module": "@jupyter-widgets/controls",
      "_view_module_version": "1.5.0",
      "_view_name": "HBoxView",
      "box_style": "",
      "children": [
       "IPY_MODEL_cd2dd183a8b54cfdb4dbd78cb2401ca9",
       "IPY_MODEL_bcbfcc50c86b40e58ce540e7767b345e",
       "IPY_MODEL_76d30d00b02a4727befaeef882a4f841"
      ],
      "layout": "IPY_MODEL_f6f5a97e9c6a47229c92c185f388fba5"
     }
    },
    "4eea78943c604d168f89ba14b3e97260": {
     "model_module": "@jupyter-widgets/base",
     "model_module_version": "1.2.0",
     "model_name": "LayoutModel",
     "state": {
      "_model_module": "@jupyter-widgets/base",
      "_model_module_version": "1.2.0",
      "_model_name": "LayoutModel",
      "_view_count": null,
      "_view_module": "@jupyter-widgets/base",
      "_view_module_version": "1.2.0",
      "_view_name": "LayoutView",
      "align_content": null,
      "align_items": null,
      "align_self": null,
      "border": null,
      "bottom": null,
      "display": null,
      "flex": null,
      "flex_flow": null,
      "grid_area": null,
      "grid_auto_columns": null,
      "grid_auto_flow": null,
      "grid_auto_rows": null,
      "grid_column": null,
      "grid_gap": null,
      "grid_row": null,
      "grid_template_areas": null,
      "grid_template_columns": null,
      "grid_template_rows": null,
      "height": null,
      "justify_content": null,
      "justify_items": null,
      "left": null,
      "margin": null,
      "max_height": null,
      "max_width": null,
      "min_height": null,
      "min_width": null,
      "object_fit": null,
      "object_position": null,
      "order": null,
      "overflow": null,
      "overflow_x": null,
      "overflow_y": null,
      "padding": null,
      "right": null,
      "top": null,
      "visibility": null,
      "width": null
     }
    },
    "4eef64b9c0a84a3ea36bd3a49aab8a79": {
     "model_module": "@jupyter-widgets/controls",
     "model_module_version": "1.5.0",
     "model_name": "HBoxModel",
     "state": {
      "_dom_classes": [],
      "_model_module": "@jupyter-widgets/controls",
      "_model_module_version": "1.5.0",
      "_model_name": "HBoxModel",
      "_view_count": null,
      "_view_module": "@jupyter-widgets/controls",
      "_view_module_version": "1.5.0",
      "_view_name": "HBoxView",
      "box_style": "",
      "children": [
       "IPY_MODEL_4918767075cc4f489b058daa2279de2d",
       "IPY_MODEL_02fc60962b7c4b7e9f0c2060a409d9c2",
       "IPY_MODEL_0ed52e172dab46d39fe8546eb7da6b3c"
      ],
      "layout": "IPY_MODEL_8eb3c56c9d57475084aa831019563d80"
     }
    },
    "503df95c3a1f4cc796cb68aa314ed911": {
     "model_module": "@jupyter-widgets/controls",
     "model_module_version": "1.5.0",
     "model_name": "DescriptionStyleModel",
     "state": {
      "_model_module": "@jupyter-widgets/controls",
      "_model_module_version": "1.5.0",
      "_model_name": "DescriptionStyleModel",
      "_view_count": null,
      "_view_module": "@jupyter-widgets/base",
      "_view_module_version": "1.2.0",
      "_view_name": "StyleView",
      "description_width": ""
     }
    },
    "506c66c4ca8e4d3ca14e73467c53ffe4": {
     "model_module": "@jupyter-widgets/base",
     "model_module_version": "1.2.0",
     "model_name": "LayoutModel",
     "state": {
      "_model_module": "@jupyter-widgets/base",
      "_model_module_version": "1.2.0",
      "_model_name": "LayoutModel",
      "_view_count": null,
      "_view_module": "@jupyter-widgets/base",
      "_view_module_version": "1.2.0",
      "_view_name": "LayoutView",
      "align_content": null,
      "align_items": null,
      "align_self": null,
      "border": null,
      "bottom": null,
      "display": null,
      "flex": null,
      "flex_flow": null,
      "grid_area": null,
      "grid_auto_columns": null,
      "grid_auto_flow": null,
      "grid_auto_rows": null,
      "grid_column": null,
      "grid_gap": null,
      "grid_row": null,
      "grid_template_areas": null,
      "grid_template_columns": null,
      "grid_template_rows": null,
      "height": null,
      "justify_content": null,
      "justify_items": null,
      "left": null,
      "margin": null,
      "max_height": null,
      "max_width": null,
      "min_height": null,
      "min_width": null,
      "object_fit": null,
      "object_position": null,
      "order": null,
      "overflow": null,
      "overflow_x": null,
      "overflow_y": null,
      "padding": null,
      "right": null,
      "top": null,
      "visibility": null,
      "width": null
     }
    },
    "51e3578ca5264d5bb3c2136d32b102de": {
     "model_module": "@jupyter-widgets/base",
     "model_module_version": "1.2.0",
     "model_name": "LayoutModel",
     "state": {
      "_model_module": "@jupyter-widgets/base",
      "_model_module_version": "1.2.0",
      "_model_name": "LayoutModel",
      "_view_count": null,
      "_view_module": "@jupyter-widgets/base",
      "_view_module_version": "1.2.0",
      "_view_name": "LayoutView",
      "align_content": null,
      "align_items": null,
      "align_self": null,
      "border": null,
      "bottom": null,
      "display": null,
      "flex": null,
      "flex_flow": null,
      "grid_area": null,
      "grid_auto_columns": null,
      "grid_auto_flow": null,
      "grid_auto_rows": null,
      "grid_column": null,
      "grid_gap": null,
      "grid_row": null,
      "grid_template_areas": null,
      "grid_template_columns": null,
      "grid_template_rows": null,
      "height": null,
      "justify_content": null,
      "justify_items": null,
      "left": null,
      "margin": null,
      "max_height": null,
      "max_width": null,
      "min_height": null,
      "min_width": null,
      "object_fit": null,
      "object_position": null,
      "order": null,
      "overflow": null,
      "overflow_x": null,
      "overflow_y": null,
      "padding": null,
      "right": null,
      "top": null,
      "visibility": null,
      "width": null
     }
    },
    "52b99b21e54746d4b436e7199c263634": {
     "model_module": "@jupyter-widgets/controls",
     "model_module_version": "1.5.0",
     "model_name": "DescriptionStyleModel",
     "state": {
      "_model_module": "@jupyter-widgets/controls",
      "_model_module_version": "1.5.0",
      "_model_name": "DescriptionStyleModel",
      "_view_count": null,
      "_view_module": "@jupyter-widgets/base",
      "_view_module_version": "1.2.0",
      "_view_name": "StyleView",
      "description_width": ""
     }
    },
    "54c231a4b46e44299ea27161e854c20c": {
     "model_module": "@jupyter-widgets/controls",
     "model_module_version": "1.5.0",
     "model_name": "DescriptionStyleModel",
     "state": {
      "_model_module": "@jupyter-widgets/controls",
      "_model_module_version": "1.5.0",
      "_model_name": "DescriptionStyleModel",
      "_view_count": null,
      "_view_module": "@jupyter-widgets/base",
      "_view_module_version": "1.2.0",
      "_view_name": "StyleView",
      "description_width": ""
     }
    },
    "5c2a183b37a7466493bd8e8a90203db8": {
     "model_module": "@jupyter-widgets/controls",
     "model_module_version": "1.5.0",
     "model_name": "FloatProgressModel",
     "state": {
      "_dom_classes": [],
      "_model_module": "@jupyter-widgets/controls",
      "_model_module_version": "1.5.0",
      "_model_name": "FloatProgressModel",
      "_view_count": null,
      "_view_module": "@jupyter-widgets/controls",
      "_view_module_version": "1.5.0",
      "_view_name": "ProgressView",
      "bar_style": "success",
      "description": "",
      "description_tooltip": null,
      "layout": "IPY_MODEL_81b47618c92e40528d45785dfdc8c548",
      "max": 7363,
      "min": 0,
      "orientation": "horizontal",
      "style": "IPY_MODEL_e6322b040b2740c5bc4253418901c29f",
      "value": 7363
     }
    },
    "652b33b533124dd19c0bfa87223c581b": {
     "model_module": "@jupyter-widgets/base",
     "model_module_version": "1.2.0",
     "model_name": "LayoutModel",
     "state": {
      "_model_module": "@jupyter-widgets/base",
      "_model_module_version": "1.2.0",
      "_model_name": "LayoutModel",
      "_view_count": null,
      "_view_module": "@jupyter-widgets/base",
      "_view_module_version": "1.2.0",
      "_view_name": "LayoutView",
      "align_content": null,
      "align_items": null,
      "align_self": null,
      "border": null,
      "bottom": null,
      "display": null,
      "flex": null,
      "flex_flow": null,
      "grid_area": null,
      "grid_auto_columns": null,
      "grid_auto_flow": null,
      "grid_auto_rows": null,
      "grid_column": null,
      "grid_gap": null,
      "grid_row": null,
      "grid_template_areas": null,
      "grid_template_columns": null,
      "grid_template_rows": null,
      "height": null,
      "justify_content": null,
      "justify_items": null,
      "left": null,
      "margin": null,
      "max_height": null,
      "max_width": null,
      "min_height": null,
      "min_width": null,
      "object_fit": null,
      "object_position": null,
      "order": null,
      "overflow": null,
      "overflow_x": null,
      "overflow_y": null,
      "padding": null,
      "right": null,
      "top": null,
      "visibility": null,
      "width": null
     }
    },
    "65e3f7ec34874cbeae324d97fb1739df": {
     "model_module": "@jupyter-widgets/base",
     "model_module_version": "1.2.0",
     "model_name": "LayoutModel",
     "state": {
      "_model_module": "@jupyter-widgets/base",
      "_model_module_version": "1.2.0",
      "_model_name": "LayoutModel",
      "_view_count": null,
      "_view_module": "@jupyter-widgets/base",
      "_view_module_version": "1.2.0",
      "_view_name": "LayoutView",
      "align_content": null,
      "align_items": null,
      "align_self": null,
      "border": null,
      "bottom": null,
      "display": null,
      "flex": null,
      "flex_flow": null,
      "grid_area": null,
      "grid_auto_columns": null,
      "grid_auto_flow": null,
      "grid_auto_rows": null,
      "grid_column": null,
      "grid_gap": null,
      "grid_row": null,
      "grid_template_areas": null,
      "grid_template_columns": null,
      "grid_template_rows": null,
      "height": null,
      "justify_content": null,
      "justify_items": null,
      "left": null,
      "margin": null,
      "max_height": null,
      "max_width": null,
      "min_height": null,
      "min_width": null,
      "object_fit": null,
      "object_position": null,
      "order": null,
      "overflow": null,
      "overflow_x": null,
      "overflow_y": null,
      "padding": null,
      "right": null,
      "top": null,
      "visibility": null,
      "width": null
     }
    },
    "672a391a234249c0a3a7bb18d0993623": {
     "model_module": "@jupyter-widgets/controls",
     "model_module_version": "1.5.0",
     "model_name": "DescriptionStyleModel",
     "state": {
      "_model_module": "@jupyter-widgets/controls",
      "_model_module_version": "1.5.0",
      "_model_name": "DescriptionStyleModel",
      "_view_count": null,
      "_view_module": "@jupyter-widgets/base",
      "_view_module_version": "1.2.0",
      "_view_name": "StyleView",
      "description_width": ""
     }
    },
    "6803c57dd76a47b0a6501763232d0d28": {
     "model_module": "@jupyter-widgets/controls",
     "model_module_version": "1.5.0",
     "model_name": "FloatProgressModel",
     "state": {
      "_dom_classes": [],
      "_model_module": "@jupyter-widgets/controls",
      "_model_module_version": "1.5.0",
      "_model_name": "FloatProgressModel",
      "_view_count": null,
      "_view_module": "@jupyter-widgets/controls",
      "_view_module_version": "1.5.0",
      "_view_name": "ProgressView",
      "bar_style": "success",
      "description": "",
      "description_tooltip": null,
      "layout": "IPY_MODEL_c9c62981483444c38845dd23ca7cc5f7",
      "max": 231508,
      "min": 0,
      "orientation": "horizontal",
      "style": "IPY_MODEL_75cfdeac0d3244fca6ea998376d84a52",
      "value": 231508
     }
    },
    "683797832e6242aaa9ef2ba48780beeb": {
     "model_module": "@jupyter-widgets/base",
     "model_module_version": "1.2.0",
     "model_name": "LayoutModel",
     "state": {
      "_model_module": "@jupyter-widgets/base",
      "_model_module_version": "1.2.0",
      "_model_name": "LayoutModel",
      "_view_count": null,
      "_view_module": "@jupyter-widgets/base",
      "_view_module_version": "1.2.0",
      "_view_name": "LayoutView",
      "align_content": null,
      "align_items": null,
      "align_self": null,
      "border": null,
      "bottom": null,
      "display": null,
      "flex": null,
      "flex_flow": null,
      "grid_area": null,
      "grid_auto_columns": null,
      "grid_auto_flow": null,
      "grid_auto_rows": null,
      "grid_column": null,
      "grid_gap": null,
      "grid_row": null,
      "grid_template_areas": null,
      "grid_template_columns": null,
      "grid_template_rows": null,
      "height": null,
      "justify_content": null,
      "justify_items": null,
      "left": null,
      "margin": null,
      "max_height": null,
      "max_width": null,
      "min_height": null,
      "min_width": null,
      "object_fit": null,
      "object_position": null,
      "order": null,
      "overflow": null,
      "overflow_x": null,
      "overflow_y": null,
      "padding": null,
      "right": null,
      "top": null,
      "visibility": null,
      "width": null
     }
    },
    "69104b03f1464520b9bb6b8b609fc6fe": {
     "model_module": "@jupyter-widgets/base",
     "model_module_version": "1.2.0",
     "model_name": "LayoutModel",
     "state": {
      "_model_module": "@jupyter-widgets/base",
      "_model_module_version": "1.2.0",
      "_model_name": "LayoutModel",
      "_view_count": null,
      "_view_module": "@jupyter-widgets/base",
      "_view_module_version": "1.2.0",
      "_view_name": "LayoutView",
      "align_content": null,
      "align_items": null,
      "align_self": null,
      "border": null,
      "bottom": null,
      "display": null,
      "flex": null,
      "flex_flow": null,
      "grid_area": null,
      "grid_auto_columns": null,
      "grid_auto_flow": null,
      "grid_auto_rows": null,
      "grid_column": null,
      "grid_gap": null,
      "grid_row": null,
      "grid_template_areas": null,
      "grid_template_columns": null,
      "grid_template_rows": null,
      "height": null,
      "justify_content": null,
      "justify_items": null,
      "left": null,
      "margin": null,
      "max_height": null,
      "max_width": null,
      "min_height": null,
      "min_width": null,
      "object_fit": null,
      "object_position": null,
      "order": null,
      "overflow": null,
      "overflow_x": null,
      "overflow_y": null,
      "padding": null,
      "right": null,
      "top": null,
      "visibility": null,
      "width": null
     }
    },
    "6ef506b4ee8c4e9eb7d2737ff2ca8e93": {
     "model_module": "@jupyter-widgets/controls",
     "model_module_version": "1.5.0",
     "model_name": "HBoxModel",
     "state": {
      "_dom_classes": [],
      "_model_module": "@jupyter-widgets/controls",
      "_model_module_version": "1.5.0",
      "_model_name": "HBoxModel",
      "_view_count": null,
      "_view_module": "@jupyter-widgets/controls",
      "_view_module_version": "1.5.0",
      "_view_name": "HBoxView",
      "box_style": "",
      "children": [
       "IPY_MODEL_8d11f92c88b24c8abb94f14b6e50e60a",
       "IPY_MODEL_8a88b672d2ca4ecd8deed24886ccc829",
       "IPY_MODEL_b3dedea5ae724785b9b62f65ecad04e6"
      ],
      "layout": "IPY_MODEL_881059197de4403c94bbf5068d9844c1"
     }
    },
    "6fcf88bb4a3946a9a2f46bb46e6dad98": {
     "model_module": "@jupyter-widgets/controls",
     "model_module_version": "1.5.0",
     "model_name": "HTMLModel",
     "state": {
      "_dom_classes": [],
      "_model_module": "@jupyter-widgets/controls",
      "_model_module_version": "1.5.0",
      "_model_name": "HTMLModel",
      "_view_count": null,
      "_view_module": "@jupyter-widgets/controls",
      "_view_module_version": "1.5.0",
      "_view_name": "HTMLView",
      "description": "",
      "description_tooltip": null,
      "layout": "IPY_MODEL_1734f0a45db64934a3fc56515a09d7aa",
      "placeholder": "​",
      "style": "IPY_MODEL_8019ac00a3e54aa4858e83c9672ab8da",
      "value": "100%"
     }
    },
    "701d42aa48fa4f3eaa06d3b907182c38": {
     "model_module": "@jupyter-widgets/controls",
     "model_module_version": "1.5.0",
     "model_name": "HTMLModel",
     "state": {
      "_dom_classes": [],
      "_model_module": "@jupyter-widgets/controls",
      "_model_module_version": "1.5.0",
      "_model_name": "HTMLModel",
      "_view_count": null,
      "_view_module": "@jupyter-widgets/controls",
      "_view_module_version": "1.5.0",
      "_view_name": "HTMLView",
      "description": "",
      "description_tooltip": null,
      "layout": "IPY_MODEL_0d054c8f9df7428d855dda4736f42bc0",
      "placeholder": "​",
      "style": "IPY_MODEL_e85cb219455947e7ba8f76048ce017f6",
      "value": "Downloading builder script: 100%"
     }
    },
    "7075272107ea43c9bb1390a934e01d99": {
     "model_module": "@jupyter-widgets/controls",
     "model_module_version": "1.5.0",
     "model_name": "ProgressStyleModel",
     "state": {
      "_model_module": "@jupyter-widgets/controls",
      "_model_module_version": "1.5.0",
      "_model_name": "ProgressStyleModel",
      "_view_count": null,
      "_view_module": "@jupyter-widgets/base",
      "_view_module_version": "1.2.0",
      "_view_name": "StyleView",
      "bar_color": null,
      "description_width": ""
     }
    },
    "70bd13e2b3834da88c34b9adb2f1b0c6": {
     "model_module": "@jupyter-widgets/base",
     "model_module_version": "1.2.0",
     "model_name": "LayoutModel",
     "state": {
      "_model_module": "@jupyter-widgets/base",
      "_model_module_version": "1.2.0",
      "_model_name": "LayoutModel",
      "_view_count": null,
      "_view_module": "@jupyter-widgets/base",
      "_view_module_version": "1.2.0",
      "_view_name": "LayoutView",
      "align_content": null,
      "align_items": null,
      "align_self": null,
      "border": null,
      "bottom": null,
      "display": null,
      "flex": null,
      "flex_flow": null,
      "grid_area": null,
      "grid_auto_columns": null,
      "grid_auto_flow": null,
      "grid_auto_rows": null,
      "grid_column": null,
      "grid_gap": null,
      "grid_row": null,
      "grid_template_areas": null,
      "grid_template_columns": null,
      "grid_template_rows": null,
      "height": null,
      "justify_content": null,
      "justify_items": null,
      "left": null,
      "margin": null,
      "max_height": null,
      "max_width": null,
      "min_height": null,
      "min_width": null,
      "object_fit": null,
      "object_position": null,
      "order": null,
      "overflow": null,
      "overflow_x": null,
      "overflow_y": null,
      "padding": null,
      "right": null,
      "top": null,
      "visibility": null,
      "width": null
     }
    },
    "70f90553eb83438cb7a34aafa839d6d5": {
     "model_module": "@jupyter-widgets/base",
     "model_module_version": "1.2.0",
     "model_name": "LayoutModel",
     "state": {
      "_model_module": "@jupyter-widgets/base",
      "_model_module_version": "1.2.0",
      "_model_name": "LayoutModel",
      "_view_count": null,
      "_view_module": "@jupyter-widgets/base",
      "_view_module_version": "1.2.0",
      "_view_name": "LayoutView",
      "align_content": null,
      "align_items": null,
      "align_self": null,
      "border": null,
      "bottom": null,
      "display": null,
      "flex": null,
      "flex_flow": null,
      "grid_area": null,
      "grid_auto_columns": null,
      "grid_auto_flow": null,
      "grid_auto_rows": null,
      "grid_column": null,
      "grid_gap": null,
      "grid_row": null,
      "grid_template_areas": null,
      "grid_template_columns": null,
      "grid_template_rows": null,
      "height": null,
      "justify_content": null,
      "justify_items": null,
      "left": null,
      "margin": null,
      "max_height": null,
      "max_width": null,
      "min_height": null,
      "min_width": null,
      "object_fit": null,
      "object_position": null,
      "order": null,
      "overflow": null,
      "overflow_x": null,
      "overflow_y": null,
      "padding": null,
      "right": null,
      "top": null,
      "visibility": null,
      "width": null
     }
    },
    "7224c2dcea654f1eb342ed9d330cb208": {
     "model_module": "@jupyter-widgets/controls",
     "model_module_version": "1.5.0",
     "model_name": "HTMLModel",
     "state": {
      "_dom_classes": [],
      "_model_module": "@jupyter-widgets/controls",
      "_model_module_version": "1.5.0",
      "_model_name": "HTMLModel",
      "_view_count": null,
      "_view_module": "@jupyter-widgets/controls",
      "_view_module_version": "1.5.0",
      "_view_name": "HTMLView",
      "description": "",
      "description_tooltip": null,
      "layout": "IPY_MODEL_a467ffab1c6944dd8ae188625aa4625d",
      "placeholder": "​",
      "style": "IPY_MODEL_2f4a0f35c63749e4a2bc0b221d17b3cf",
      "value": " 4.20k/4.20k [00:00&lt;00:00, 103kB/s]"
     }
    },
    "75cfdeac0d3244fca6ea998376d84a52": {
     "model_module": "@jupyter-widgets/controls",
     "model_module_version": "1.5.0",
     "model_name": "ProgressStyleModel",
     "state": {
      "_model_module": "@jupyter-widgets/controls",
      "_model_module_version": "1.5.0",
      "_model_name": "ProgressStyleModel",
      "_view_count": null,
      "_view_module": "@jupyter-widgets/base",
      "_view_module_version": "1.2.0",
      "_view_name": "StyleView",
      "bar_color": null,
      "description_width": ""
     }
    },
    "76d30d00b02a4727befaeef882a4f841": {
     "model_module": "@jupyter-widgets/controls",
     "model_module_version": "1.5.0",
     "model_name": "HTMLModel",
     "state": {
      "_dom_classes": [],
      "_model_module": "@jupyter-widgets/controls",
      "_model_module_version": "1.5.0",
      "_model_name": "HTMLModel",
      "_view_count": null,
      "_view_module": "@jupyter-widgets/controls",
      "_view_module_version": "1.5.0",
      "_view_name": "HTMLView",
      "description": "",
      "description_tooltip": null,
      "layout": "IPY_MODEL_ad4aa8406a164889856d51f0380e7e4d",
      "placeholder": "​",
      "style": "IPY_MODEL_188d3e574a3e4f4b9f4e02ca066669aa",
      "value": " 15929/15930 [01:18&lt;00:00, 261.67ba/s]"
     }
    },
    "79e4ea3c621f47b0b1077cd3355b2aff": {
     "model_module": "@jupyter-widgets/base",
     "model_module_version": "1.2.0",
     "model_name": "LayoutModel",
     "state": {
      "_model_module": "@jupyter-widgets/base",
      "_model_module_version": "1.2.0",
      "_model_name": "LayoutModel",
      "_view_count": null,
      "_view_module": "@jupyter-widgets/base",
      "_view_module_version": "1.2.0",
      "_view_name": "LayoutView",
      "align_content": null,
      "align_items": null,
      "align_self": null,
      "border": null,
      "bottom": null,
      "display": null,
      "flex": null,
      "flex_flow": null,
      "grid_area": null,
      "grid_auto_columns": null,
      "grid_auto_flow": null,
      "grid_auto_rows": null,
      "grid_column": null,
      "grid_gap": null,
      "grid_row": null,
      "grid_template_areas": null,
      "grid_template_columns": null,
      "grid_template_rows": null,
      "height": null,
      "justify_content": null,
      "justify_items": null,
      "left": null,
      "margin": null,
      "max_height": null,
      "max_width": null,
      "min_height": null,
      "min_width": null,
      "object_fit": null,
      "object_position": null,
      "order": null,
      "overflow": null,
      "overflow_x": null,
      "overflow_y": null,
      "padding": null,
      "right": null,
      "top": null,
      "visibility": null,
      "width": null
     }
    },
    "7a93e682ad6b429380d1a8f766bb41b3": {
     "model_module": "@jupyter-widgets/base",
     "model_module_version": "1.2.0",
     "model_name": "LayoutModel",
     "state": {
      "_model_module": "@jupyter-widgets/base",
      "_model_module_version": "1.2.0",
      "_model_name": "LayoutModel",
      "_view_count": null,
      "_view_module": "@jupyter-widgets/base",
      "_view_module_version": "1.2.0",
      "_view_name": "LayoutView",
      "align_content": null,
      "align_items": null,
      "align_self": null,
      "border": null,
      "bottom": null,
      "display": null,
      "flex": null,
      "flex_flow": null,
      "grid_area": null,
      "grid_auto_columns": null,
      "grid_auto_flow": null,
      "grid_auto_rows": null,
      "grid_column": null,
      "grid_gap": null,
      "grid_row": null,
      "grid_template_areas": null,
      "grid_template_columns": null,
      "grid_template_rows": null,
      "height": null,
      "justify_content": null,
      "justify_items": null,
      "left": null,
      "margin": null,
      "max_height": null,
      "max_width": null,
      "min_height": null,
      "min_width": null,
      "object_fit": null,
      "object_position": null,
      "order": null,
      "overflow": null,
      "overflow_x": null,
      "overflow_y": null,
      "padding": null,
      "right": null,
      "top": null,
      "visibility": null,
      "width": null
     }
    },
    "7c09c1e8472042a8a4abe4c0f2c008de": {
     "model_module": "@jupyter-widgets/base",
     "model_module_version": "1.2.0",
     "model_name": "LayoutModel",
     "state": {
      "_model_module": "@jupyter-widgets/base",
      "_model_module_version": "1.2.0",
      "_model_name": "LayoutModel",
      "_view_count": null,
      "_view_module": "@jupyter-widgets/base",
      "_view_module_version": "1.2.0",
      "_view_name": "LayoutView",
      "align_content": null,
      "align_items": null,
      "align_self": null,
      "border": null,
      "bottom": null,
      "display": null,
      "flex": null,
      "flex_flow": null,
      "grid_area": null,
      "grid_auto_columns": null,
      "grid_auto_flow": null,
      "grid_auto_rows": null,
      "grid_column": null,
      "grid_gap": null,
      "grid_row": null,
      "grid_template_areas": null,
      "grid_template_columns": null,
      "grid_template_rows": null,
      "height": null,
      "justify_content": null,
      "justify_items": null,
      "left": null,
      "margin": null,
      "max_height": null,
      "max_width": null,
      "min_height": null,
      "min_width": null,
      "object_fit": null,
      "object_position": null,
      "order": null,
      "overflow": null,
      "overflow_x": null,
      "overflow_y": null,
      "padding": null,
      "right": null,
      "top": null,
      "visibility": null,
      "width": null
     }
    },
    "7d78d94beb6a45ac882c7d9deecfe2e5": {
     "model_module": "@jupyter-widgets/controls",
     "model_module_version": "1.5.0",
     "model_name": "DescriptionStyleModel",
     "state": {
      "_model_module": "@jupyter-widgets/controls",
      "_model_module_version": "1.5.0",
      "_model_name": "DescriptionStyleModel",
      "_view_count": null,
      "_view_module": "@jupyter-widgets/base",
      "_view_module_version": "1.2.0",
      "_view_name": "StyleView",
      "description_width": ""
     }
    },
    "7f04c782ffb346028cf9b64616004d46": {
     "model_module": "@jupyter-widgets/base",
     "model_module_version": "1.2.0",
     "model_name": "LayoutModel",
     "state": {
      "_model_module": "@jupyter-widgets/base",
      "_model_module_version": "1.2.0",
      "_model_name": "LayoutModel",
      "_view_count": null,
      "_view_module": "@jupyter-widgets/base",
      "_view_module_version": "1.2.0",
      "_view_name": "LayoutView",
      "align_content": null,
      "align_items": null,
      "align_self": null,
      "border": null,
      "bottom": null,
      "display": null,
      "flex": null,
      "flex_flow": null,
      "grid_area": null,
      "grid_auto_columns": null,
      "grid_auto_flow": null,
      "grid_auto_rows": null,
      "grid_column": null,
      "grid_gap": null,
      "grid_row": null,
      "grid_template_areas": null,
      "grid_template_columns": null,
      "grid_template_rows": null,
      "height": null,
      "justify_content": null,
      "justify_items": null,
      "left": null,
      "margin": null,
      "max_height": null,
      "max_width": null,
      "min_height": null,
      "min_width": null,
      "object_fit": null,
      "object_position": null,
      "order": null,
      "overflow": null,
      "overflow_x": null,
      "overflow_y": null,
      "padding": null,
      "right": null,
      "top": null,
      "visibility": null,
      "width": null
     }
    },
    "7f3db947b0e743079292e4dd1507c959": {
     "model_module": "@jupyter-widgets/base",
     "model_module_version": "1.2.0",
     "model_name": "LayoutModel",
     "state": {
      "_model_module": "@jupyter-widgets/base",
      "_model_module_version": "1.2.0",
      "_model_name": "LayoutModel",
      "_view_count": null,
      "_view_module": "@jupyter-widgets/base",
      "_view_module_version": "1.2.0",
      "_view_name": "LayoutView",
      "align_content": null,
      "align_items": null,
      "align_self": null,
      "border": null,
      "bottom": null,
      "display": null,
      "flex": null,
      "flex_flow": null,
      "grid_area": null,
      "grid_auto_columns": null,
      "grid_auto_flow": null,
      "grid_auto_rows": null,
      "grid_column": null,
      "grid_gap": null,
      "grid_row": null,
      "grid_template_areas": null,
      "grid_template_columns": null,
      "grid_template_rows": null,
      "height": null,
      "justify_content": null,
      "justify_items": null,
      "left": null,
      "margin": null,
      "max_height": null,
      "max_width": null,
      "min_height": null,
      "min_width": null,
      "object_fit": null,
      "object_position": null,
      "order": null,
      "overflow": null,
      "overflow_x": null,
      "overflow_y": null,
      "padding": null,
      "right": null,
      "top": null,
      "visibility": null,
      "width": null
     }
    },
    "8019ac00a3e54aa4858e83c9672ab8da": {
     "model_module": "@jupyter-widgets/controls",
     "model_module_version": "1.5.0",
     "model_name": "DescriptionStyleModel",
     "state": {
      "_model_module": "@jupyter-widgets/controls",
      "_model_module_version": "1.5.0",
      "_model_name": "DescriptionStyleModel",
      "_view_count": null,
      "_view_module": "@jupyter-widgets/base",
      "_view_module_version": "1.2.0",
      "_view_name": "StyleView",
      "description_width": ""
     }
    },
    "80a260b61fdf4cfb9729252544902c3e": {
     "model_module": "@jupyter-widgets/base",
     "model_module_version": "1.2.0",
     "model_name": "LayoutModel",
     "state": {
      "_model_module": "@jupyter-widgets/base",
      "_model_module_version": "1.2.0",
      "_model_name": "LayoutModel",
      "_view_count": null,
      "_view_module": "@jupyter-widgets/base",
      "_view_module_version": "1.2.0",
      "_view_name": "LayoutView",
      "align_content": null,
      "align_items": null,
      "align_self": null,
      "border": null,
      "bottom": null,
      "display": null,
      "flex": null,
      "flex_flow": null,
      "grid_area": null,
      "grid_auto_columns": null,
      "grid_auto_flow": null,
      "grid_auto_rows": null,
      "grid_column": null,
      "grid_gap": null,
      "grid_row": null,
      "grid_template_areas": null,
      "grid_template_columns": null,
      "grid_template_rows": null,
      "height": null,
      "justify_content": null,
      "justify_items": null,
      "left": null,
      "margin": null,
      "max_height": null,
      "max_width": null,
      "min_height": null,
      "min_width": null,
      "object_fit": null,
      "object_position": null,
      "order": null,
      "overflow": null,
      "overflow_x": null,
      "overflow_y": null,
      "padding": null,
      "right": null,
      "top": null,
      "visibility": null,
      "width": null
     }
    },
    "81b47618c92e40528d45785dfdc8c548": {
     "model_module": "@jupyter-widgets/base",
     "model_module_version": "1.2.0",
     "model_name": "LayoutModel",
     "state": {
      "_model_module": "@jupyter-widgets/base",
      "_model_module_version": "1.2.0",
      "_model_name": "LayoutModel",
      "_view_count": null,
      "_view_module": "@jupyter-widgets/base",
      "_view_module_version": "1.2.0",
      "_view_name": "LayoutView",
      "align_content": null,
      "align_items": null,
      "align_self": null,
      "border": null,
      "bottom": null,
      "display": null,
      "flex": null,
      "flex_flow": null,
      "grid_area": null,
      "grid_auto_columns": null,
      "grid_auto_flow": null,
      "grid_auto_rows": null,
      "grid_column": null,
      "grid_gap": null,
      "grid_row": null,
      "grid_template_areas": null,
      "grid_template_columns": null,
      "grid_template_rows": null,
      "height": null,
      "justify_content": null,
      "justify_items": null,
      "left": null,
      "margin": null,
      "max_height": null,
      "max_width": null,
      "min_height": null,
      "min_width": null,
      "object_fit": null,
      "object_position": null,
      "order": null,
      "overflow": null,
      "overflow_x": null,
      "overflow_y": null,
      "padding": null,
      "right": null,
      "top": null,
      "visibility": null,
      "width": null
     }
    },
    "8225870a40874769b02d6347bdd9584f": {
     "model_module": "@jupyter-widgets/controls",
     "model_module_version": "1.5.0",
     "model_name": "ProgressStyleModel",
     "state": {
      "_model_module": "@jupyter-widgets/controls",
      "_model_module_version": "1.5.0",
      "_model_name": "ProgressStyleModel",
      "_view_count": null,
      "_view_module": "@jupyter-widgets/base",
      "_view_module_version": "1.2.0",
      "_view_name": "StyleView",
      "bar_color": null,
      "description_width": ""
     }
    },
    "86cf94cd1b2a457eae231dbdf8c38e63": {
     "model_module": "@jupyter-widgets/controls",
     "model_module_version": "1.5.0",
     "model_name": "HTMLModel",
     "state": {
      "_dom_classes": [],
      "_model_module": "@jupyter-widgets/controls",
      "_model_module_version": "1.5.0",
      "_model_name": "HTMLModel",
      "_view_count": null,
      "_view_module": "@jupyter-widgets/controls",
      "_view_module_version": "1.5.0",
      "_view_name": "HTMLView",
      "description": "",
      "description_tooltip": null,
      "layout": "IPY_MODEL_93f4fec4b2634f2fa0f45dde6e5aa8b1",
      "placeholder": "​",
      "style": "IPY_MODEL_16488831e9214742bba052037b207231",
      "value": " 466k/466k [00:00&lt;00:00, 9.36kB/s]"
     }
    },
    "881059197de4403c94bbf5068d9844c1": {
     "model_module": "@jupyter-widgets/base",
     "model_module_version": "1.2.0",
     "model_name": "LayoutModel",
     "state": {
      "_model_module": "@jupyter-widgets/base",
      "_model_module_version": "1.2.0",
      "_model_name": "LayoutModel",
      "_view_count": null,
      "_view_module": "@jupyter-widgets/base",
      "_view_module_version": "1.2.0",
      "_view_name": "LayoutView",
      "align_content": null,
      "align_items": null,
      "align_self": null,
      "border": null,
      "bottom": null,
      "display": null,
      "flex": null,
      "flex_flow": null,
      "grid_area": null,
      "grid_auto_columns": null,
      "grid_auto_flow": null,
      "grid_auto_rows": null,
      "grid_column": null,
      "grid_gap": null,
      "grid_row": null,
      "grid_template_areas": null,
      "grid_template_columns": null,
      "grid_template_rows": null,
      "height": null,
      "justify_content": null,
      "justify_items": null,
      "left": null,
      "margin": null,
      "max_height": null,
      "max_width": null,
      "min_height": null,
      "min_width": null,
      "object_fit": null,
      "object_position": null,
      "order": null,
      "overflow": null,
      "overflow_x": null,
      "overflow_y": null,
      "padding": null,
      "right": null,
      "top": null,
      "visibility": null,
      "width": null
     }
    },
    "887af80c15fb4ae79071a7941b489fd2": {
     "model_module": "@jupyter-widgets/controls",
     "model_module_version": "1.5.0",
     "model_name": "HBoxModel",
     "state": {
      "_dom_classes": [],
      "_model_module": "@jupyter-widgets/controls",
      "_model_module_version": "1.5.0",
      "_model_name": "HBoxModel",
      "_view_count": null,
      "_view_module": "@jupyter-widgets/controls",
      "_view_module_version": "1.5.0",
      "_view_name": "HBoxView",
      "box_style": "",
      "children": [
       "IPY_MODEL_6fcf88bb4a3946a9a2f46bb46e6dad98",
       "IPY_MODEL_f85cd62d9b9b4871b864ee675204fbd3",
       "IPY_MODEL_fb2595985e224bb0b1663f0d08b26e88"
      ],
      "layout": "IPY_MODEL_0a9d8dc929b54011b069125396cf0b72"
     }
    },
    "8a88b672d2ca4ecd8deed24886ccc829": {
     "model_module": "@jupyter-widgets/controls",
     "model_module_version": "1.5.0",
     "model_name": "FloatProgressModel",
     "state": {
      "_dom_classes": [],
      "_model_module": "@jupyter-widgets/controls",
      "_model_module_version": "1.5.0",
      "_model_name": "FloatProgressModel",
      "_view_count": null,
      "_view_module": "@jupyter-widgets/controls",
      "_view_module_version": "1.5.0",
      "_view_name": "ProgressView",
      "bar_style": "success",
      "description": "",
      "description_tooltip": null,
      "layout": "IPY_MODEL_69104b03f1464520b9bb6b8b609fc6fe",
      "max": 7546,
      "min": 0,
      "orientation": "horizontal",
      "style": "IPY_MODEL_8ebf7672a9064c23b106894fd1dbb88d",
      "value": 7546
     }
    },
    "8d11f92c88b24c8abb94f14b6e50e60a": {
     "model_module": "@jupyter-widgets/controls",
     "model_module_version": "1.5.0",
     "model_name": "HTMLModel",
     "state": {
      "_dom_classes": [],
      "_model_module": "@jupyter-widgets/controls",
      "_model_module_version": "1.5.0",
      "_model_name": "HTMLModel",
      "_view_count": null,
      "_view_module": "@jupyter-widgets/controls",
      "_view_module_version": "1.5.0",
      "_view_name": "HTMLView",
      "description": "",
      "description_tooltip": null,
      "layout": "IPY_MODEL_683797832e6242aaa9ef2ba48780beeb",
      "placeholder": "​",
      "style": "IPY_MODEL_c720652aeccd4ceb83e33757c906d95e",
      "value": "Downloading builder script: 100%"
     }
    },
    "8eb3c56c9d57475084aa831019563d80": {
     "model_module": "@jupyter-widgets/base",
     "model_module_version": "1.2.0",
     "model_name": "LayoutModel",
     "state": {
      "_model_module": "@jupyter-widgets/base",
      "_model_module_version": "1.2.0",
      "_model_name": "LayoutModel",
      "_view_count": null,
      "_view_module": "@jupyter-widgets/base",
      "_view_module_version": "1.2.0",
      "_view_name": "LayoutView",
      "align_content": null,
      "align_items": null,
      "align_self": null,
      "border": null,
      "bottom": null,
      "display": null,
      "flex": null,
      "flex_flow": null,
      "grid_area": null,
      "grid_auto_columns": null,
      "grid_auto_flow": null,
      "grid_auto_rows": null,
      "grid_column": null,
      "grid_gap": null,
      "grid_row": null,
      "grid_template_areas": null,
      "grid_template_columns": null,
      "grid_template_rows": null,
      "height": null,
      "justify_content": null,
      "justify_items": null,
      "left": null,
      "margin": null,
      "max_height": null,
      "max_width": null,
      "min_height": null,
      "min_width": null,
      "object_fit": null,
      "object_position": null,
      "order": null,
      "overflow": null,
      "overflow_x": null,
      "overflow_y": null,
      "padding": null,
      "right": null,
      "top": null,
      "visibility": null,
      "width": null
     }
    },
    "8ebae29185d14a459e1e7e46ad44db31": {
     "model_module": "@jupyter-widgets/base",
     "model_module_version": "1.2.0",
     "model_name": "LayoutModel",
     "state": {
      "_model_module": "@jupyter-widgets/base",
      "_model_module_version": "1.2.0",
      "_model_name": "LayoutModel",
      "_view_count": null,
      "_view_module": "@jupyter-widgets/base",
      "_view_module_version": "1.2.0",
      "_view_name": "LayoutView",
      "align_content": null,
      "align_items": null,
      "align_self": null,
      "border": null,
      "bottom": null,
      "display": null,
      "flex": null,
      "flex_flow": null,
      "grid_area": null,
      "grid_auto_columns": null,
      "grid_auto_flow": null,
      "grid_auto_rows": null,
      "grid_column": null,
      "grid_gap": null,
      "grid_row": null,
      "grid_template_areas": null,
      "grid_template_columns": null,
      "grid_template_rows": null,
      "height": null,
      "justify_content": null,
      "justify_items": null,
      "left": null,
      "margin": null,
      "max_height": null,
      "max_width": null,
      "min_height": null,
      "min_width": null,
      "object_fit": null,
      "object_position": null,
      "order": null,
      "overflow": null,
      "overflow_x": null,
      "overflow_y": null,
      "padding": null,
      "right": null,
      "top": null,
      "visibility": null,
      "width": null
     }
    },
    "8ebf7672a9064c23b106894fd1dbb88d": {
     "model_module": "@jupyter-widgets/controls",
     "model_module_version": "1.5.0",
     "model_name": "ProgressStyleModel",
     "state": {
      "_model_module": "@jupyter-widgets/controls",
      "_model_module_version": "1.5.0",
      "_model_name": "ProgressStyleModel",
      "_view_count": null,
      "_view_module": "@jupyter-widgets/base",
      "_view_module_version": "1.2.0",
      "_view_name": "StyleView",
      "bar_color": null,
      "description_width": ""
     }
    },
    "8f169a6c3b46480cbb1e2382ee1f211c": {
     "model_module": "@jupyter-widgets/controls",
     "model_module_version": "1.5.0",
     "model_name": "FloatProgressModel",
     "state": {
      "_dom_classes": [],
      "_model_module": "@jupyter-widgets/controls",
      "_model_module_version": "1.5.0",
      "_model_name": "FloatProgressModel",
      "_view_count": null,
      "_view_module": "@jupyter-widgets/controls",
      "_view_module_version": "1.5.0",
      "_view_name": "ProgressView",
      "bar_style": "success",
      "description": "",
      "description_tooltip": null,
      "layout": "IPY_MODEL_70bd13e2b3834da88c34b9adb2f1b0c6",
      "max": 498,
      "min": 0,
      "orientation": "horizontal",
      "style": "IPY_MODEL_1164829ebf3548f792d0c547aee02400",
      "value": 498
     }
    },
    "90a424b498784c9ca38c6c89e5cd8297": {
     "model_module": "@jupyter-widgets/base",
     "model_module_version": "1.2.0",
     "model_name": "LayoutModel",
     "state": {
      "_model_module": "@jupyter-widgets/base",
      "_model_module_version": "1.2.0",
      "_model_name": "LayoutModel",
      "_view_count": null,
      "_view_module": "@jupyter-widgets/base",
      "_view_module_version": "1.2.0",
      "_view_name": "LayoutView",
      "align_content": null,
      "align_items": null,
      "align_self": null,
      "border": null,
      "bottom": null,
      "display": null,
      "flex": null,
      "flex_flow": null,
      "grid_area": null,
      "grid_auto_columns": null,
      "grid_auto_flow": null,
      "grid_auto_rows": null,
      "grid_column": null,
      "grid_gap": null,
      "grid_row": null,
      "grid_template_areas": null,
      "grid_template_columns": null,
      "grid_template_rows": null,
      "height": null,
      "justify_content": null,
      "justify_items": null,
      "left": null,
      "margin": null,
      "max_height": null,
      "max_width": null,
      "min_height": null,
      "min_width": null,
      "object_fit": null,
      "object_position": null,
      "order": null,
      "overflow": null,
      "overflow_x": null,
      "overflow_y": null,
      "padding": null,
      "right": null,
      "top": null,
      "visibility": null,
      "width": null
     }
    },
    "9302dec3381f4fb180d823b944b8c75f": {
     "model_module": "@jupyter-widgets/controls",
     "model_module_version": "1.5.0",
     "model_name": "DescriptionStyleModel",
     "state": {
      "_model_module": "@jupyter-widgets/controls",
      "_model_module_version": "1.5.0",
      "_model_name": "DescriptionStyleModel",
      "_view_count": null,
      "_view_module": "@jupyter-widgets/base",
      "_view_module_version": "1.2.0",
      "_view_name": "StyleView",
      "description_width": ""
     }
    },
    "93f4fec4b2634f2fa0f45dde6e5aa8b1": {
     "model_module": "@jupyter-widgets/base",
     "model_module_version": "1.2.0",
     "model_name": "LayoutModel",
     "state": {
      "_model_module": "@jupyter-widgets/base",
      "_model_module_version": "1.2.0",
      "_model_name": "LayoutModel",
      "_view_count": null,
      "_view_module": "@jupyter-widgets/base",
      "_view_module_version": "1.2.0",
      "_view_name": "LayoutView",
      "align_content": null,
      "align_items": null,
      "align_self": null,
      "border": null,
      "bottom": null,
      "display": null,
      "flex": null,
      "flex_flow": null,
      "grid_area": null,
      "grid_auto_columns": null,
      "grid_auto_flow": null,
      "grid_auto_rows": null,
      "grid_column": null,
      "grid_gap": null,
      "grid_row": null,
      "grid_template_areas": null,
      "grid_template_columns": null,
      "grid_template_rows": null,
      "height": null,
      "justify_content": null,
      "justify_items": null,
      "left": null,
      "margin": null,
      "max_height": null,
      "max_width": null,
      "min_height": null,
      "min_width": null,
      "object_fit": null,
      "object_position": null,
      "order": null,
      "overflow": null,
      "overflow_x": null,
      "overflow_y": null,
      "padding": null,
      "right": null,
      "top": null,
      "visibility": null,
      "width": null
     }
    },
    "9454645d491a45c495ca076316b5b758": {
     "model_module": "@jupyter-widgets/base",
     "model_module_version": "1.2.0",
     "model_name": "LayoutModel",
     "state": {
      "_model_module": "@jupyter-widgets/base",
      "_model_module_version": "1.2.0",
      "_model_name": "LayoutModel",
      "_view_count": null,
      "_view_module": "@jupyter-widgets/base",
      "_view_module_version": "1.2.0",
      "_view_name": "LayoutView",
      "align_content": null,
      "align_items": null,
      "align_self": null,
      "border": null,
      "bottom": null,
      "display": null,
      "flex": null,
      "flex_flow": null,
      "grid_area": null,
      "grid_auto_columns": null,
      "grid_auto_flow": null,
      "grid_auto_rows": null,
      "grid_column": null,
      "grid_gap": null,
      "grid_row": null,
      "grid_template_areas": null,
      "grid_template_columns": null,
      "grid_template_rows": null,
      "height": null,
      "justify_content": null,
      "justify_items": null,
      "left": null,
      "margin": null,
      "max_height": null,
      "max_width": null,
      "min_height": null,
      "min_width": null,
      "object_fit": null,
      "object_position": null,
      "order": null,
      "overflow": null,
      "overflow_x": null,
      "overflow_y": null,
      "padding": null,
      "right": null,
      "top": null,
      "visibility": null,
      "width": null
     }
    },
    "94ab3698ee344b81b1b5757bd8e723da": {
     "model_module": "@jupyter-widgets/controls",
     "model_module_version": "1.5.0",
     "model_name": "HTMLModel",
     "state": {
      "_dom_classes": [],
      "_model_module": "@jupyter-widgets/controls",
      "_model_module_version": "1.5.0",
      "_model_name": "HTMLModel",
      "_view_count": null,
      "_view_module": "@jupyter-widgets/controls",
      "_view_module_version": "1.5.0",
      "_view_name": "HTMLView",
      "description": "",
      "description_tooltip": null,
      "layout": "IPY_MODEL_bdbfa937080442e99191cc2b1b075782",
      "placeholder": "​",
      "style": "IPY_MODEL_52b99b21e54746d4b436e7199c263634",
      "value": " 6.77k/6.77k [00:00&lt;00:00, 192kB/s]"
     }
    },
    "979b6f0e5258455c818dd2ef132c159c": {
     "model_module": "@jupyter-widgets/controls",
     "model_module_version": "1.5.0",
     "model_name": "FloatProgressModel",
     "state": {
      "_dom_classes": [],
      "_model_module": "@jupyter-widgets/controls",
      "_model_module_version": "1.5.0",
      "_model_name": "FloatProgressModel",
      "_view_count": null,
      "_view_module": "@jupyter-widgets/controls",
      "_view_module_version": "1.5.0",
      "_view_name": "ProgressView",
      "bar_style": "success",
      "description": "",
      "description_tooltip": null,
      "layout": "IPY_MODEL_f9243dc0202b4755b60cd8297aeb4c5d",
      "max": 28,
      "min": 0,
      "orientation": "horizontal",
      "style": "IPY_MODEL_285e13b96a224f6480aebf6277782110",
      "value": 28
     }
    },
    "9fde09629de84574866fe78e0d37ffcb": {
     "model_module": "@jupyter-widgets/base",
     "model_module_version": "1.2.0",
     "model_name": "LayoutModel",
     "state": {
      "_model_module": "@jupyter-widgets/base",
      "_model_module_version": "1.2.0",
      "_model_name": "LayoutModel",
      "_view_count": null,
      "_view_module": "@jupyter-widgets/base",
      "_view_module_version": "1.2.0",
      "_view_name": "LayoutView",
      "align_content": null,
      "align_items": null,
      "align_self": null,
      "border": null,
      "bottom": null,
      "display": null,
      "flex": null,
      "flex_flow": null,
      "grid_area": null,
      "grid_auto_columns": null,
      "grid_auto_flow": null,
      "grid_auto_rows": null,
      "grid_column": null,
      "grid_gap": null,
      "grid_row": null,
      "grid_template_areas": null,
      "grid_template_columns": null,
      "grid_template_rows": null,
      "height": null,
      "justify_content": null,
      "justify_items": null,
      "left": null,
      "margin": null,
      "max_height": null,
      "max_width": null,
      "min_height": null,
      "min_width": null,
      "object_fit": null,
      "object_position": null,
      "order": null,
      "overflow": null,
      "overflow_x": null,
      "overflow_y": null,
      "padding": null,
      "right": null,
      "top": null,
      "visibility": null,
      "width": null
     }
    },
    "a1205b8a5abc49f0bb71efa0e22522e0": {
     "model_module": "@jupyter-widgets/controls",
     "model_module_version": "1.5.0",
     "model_name": "HTMLModel",
     "state": {
      "_dom_classes": [],
      "_model_module": "@jupyter-widgets/controls",
      "_model_module_version": "1.5.0",
      "_model_name": "HTMLModel",
      "_view_count": null,
      "_view_module": "@jupyter-widgets/controls",
      "_view_module_version": "1.5.0",
      "_view_name": "HTMLView",
      "description": "",
      "description_tooltip": null,
      "layout": "IPY_MODEL_79e4ea3c621f47b0b1077cd3355b2aff",
      "placeholder": "​",
      "style": "IPY_MODEL_3ef578f70eea45acbc5decace6fc1976",
      "value": " 3982/3983 [00:15&lt;00:00, 263.39ba/s]"
     }
    },
    "a12e337d20ea48ab939eadbbcd969193": {
     "model_module": "@jupyter-widgets/controls",
     "model_module_version": "1.5.0",
     "model_name": "ProgressStyleModel",
     "state": {
      "_model_module": "@jupyter-widgets/controls",
      "_model_module_version": "1.5.0",
      "_model_name": "ProgressStyleModel",
      "_view_count": null,
      "_view_module": "@jupyter-widgets/base",
      "_view_module_version": "1.2.0",
      "_view_name": "StyleView",
      "bar_color": null,
      "description_width": ""
     }
    },
    "a2f37338e7514533b49f0e1cf3ee6a21": {
     "model_module": "@jupyter-widgets/controls",
     "model_module_version": "1.5.0",
     "model_name": "HTMLModel",
     "state": {
      "_dom_classes": [],
      "_model_module": "@jupyter-widgets/controls",
      "_model_module_version": "1.5.0",
      "_model_name": "HTMLModel",
      "_view_count": null,
      "_view_module": "@jupyter-widgets/controls",
      "_view_module_version": "1.5.0",
      "_view_name": "HTMLView",
      "description": "",
      "description_tooltip": null,
      "layout": "IPY_MODEL_008054f1f4f341bd8e145fc087598346",
      "placeholder": "​",
      "style": "IPY_MODEL_9302dec3381f4fb180d823b944b8c75f",
      "value": "Downloading: 100%"
     }
    },
    "a3fd97c05fc44adcaeb50edc9eb18469": {
     "model_module": "@jupyter-widgets/controls",
     "model_module_version": "1.5.0",
     "model_name": "HTMLModel",
     "state": {
      "_dom_classes": [],
      "_model_module": "@jupyter-widgets/controls",
      "_model_module_version": "1.5.0",
      "_model_name": "HTMLModel",
      "_view_count": null,
      "_view_module": "@jupyter-widgets/controls",
      "_view_module_version": "1.5.0",
      "_view_name": "HTMLView",
      "description": "",
      "description_tooltip": null,
      "layout": "IPY_MODEL_c105fc2ac07e4793943b53dfb61d90e6",
      "placeholder": "​",
      "style": "IPY_MODEL_03635bff0c834dcdbaee0a6b9a625c52",
      "value": "Downloading builder script: 100%"
     }
    },
    "a467ffab1c6944dd8ae188625aa4625d": {
     "model_module": "@jupyter-widgets/base",
     "model_module_version": "1.2.0",
     "model_name": "LayoutModel",
     "state": {
      "_model_module": "@jupyter-widgets/base",
      "_model_module_version": "1.2.0",
      "_model_name": "LayoutModel",
      "_view_count": null,
      "_view_module": "@jupyter-widgets/base",
      "_view_module_version": "1.2.0",
      "_view_name": "LayoutView",
      "align_content": null,
      "align_items": null,
      "align_self": null,
      "border": null,
      "bottom": null,
      "display": null,
      "flex": null,
      "flex_flow": null,
      "grid_area": null,
      "grid_auto_columns": null,
      "grid_auto_flow": null,
      "grid_auto_rows": null,
      "grid_column": null,
      "grid_gap": null,
      "grid_row": null,
      "grid_template_areas": null,
      "grid_template_columns": null,
      "grid_template_rows": null,
      "height": null,
      "justify_content": null,
      "justify_items": null,
      "left": null,
      "margin": null,
      "max_height": null,
      "max_width": null,
      "min_height": null,
      "min_width": null,
      "object_fit": null,
      "object_position": null,
      "order": null,
      "overflow": null,
      "overflow_x": null,
      "overflow_y": null,
      "padding": null,
      "right": null,
      "top": null,
      "visibility": null,
      "width": null
     }
    },
    "a5e7dad525ed4b00bbb03eb8fdb74643": {
     "model_module": "@jupyter-widgets/controls",
     "model_module_version": "1.5.0",
     "model_name": "FloatProgressModel",
     "state": {
      "_dom_classes": [],
      "_model_module": "@jupyter-widgets/controls",
      "_model_module_version": "1.5.0",
      "_model_name": "FloatProgressModel",
      "_view_count": null,
      "_view_module": "@jupyter-widgets/controls",
      "_view_module_version": "1.5.0",
      "_view_name": "ProgressView",
      "bar_style": "danger",
      "description": "",
      "description_tooltip": null,
      "layout": "IPY_MODEL_652b33b533124dd19c0bfa87223c581b",
      "max": 11947,
      "min": 0,
      "orientation": "horizontal",
      "style": "IPY_MODEL_d7f3bab903e04042a38579759dec9e9a",
      "value": 11946
     }
    },
    "a78d121d1d6a49e8a0af8a709e2d2ce5": {
     "model_module": "@jupyter-widgets/controls",
     "model_module_version": "1.5.0",
     "model_name": "HTMLModel",
     "state": {
      "_dom_classes": [],
      "_model_module": "@jupyter-widgets/controls",
      "_model_module_version": "1.5.0",
      "_model_name": "HTMLModel",
      "_view_count": null,
      "_view_module": "@jupyter-widgets/controls",
      "_view_module_version": "1.5.0",
      "_view_name": "HTMLView",
      "description": "",
      "description_tooltip": null,
      "layout": "IPY_MODEL_65e3f7ec34874cbeae324d97fb1739df",
      "placeholder": "​",
      "style": "IPY_MODEL_03e9f6447bd34b6c9da06c9c6966c399",
      "value": "100%"
     }
    },
    "a84863c816664934b2d3f17d108b85c6": {
     "model_module": "@jupyter-widgets/controls",
     "model_module_version": "1.5.0",
     "model_name": "DescriptionStyleModel",
     "state": {
      "_model_module": "@jupyter-widgets/controls",
      "_model_module_version": "1.5.0",
      "_model_name": "DescriptionStyleModel",
      "_view_count": null,
      "_view_module": "@jupyter-widgets/base",
      "_view_module_version": "1.2.0",
      "_view_name": "StyleView",
      "description_width": ""
     }
    },
    "a8a9022ff5b647758703af9dbb2187c3": {
     "model_module": "@jupyter-widgets/base",
     "model_module_version": "1.2.0",
     "model_name": "LayoutModel",
     "state": {
      "_model_module": "@jupyter-widgets/base",
      "_model_module_version": "1.2.0",
      "_model_name": "LayoutModel",
      "_view_count": null,
      "_view_module": "@jupyter-widgets/base",
      "_view_module_version": "1.2.0",
      "_view_name": "LayoutView",
      "align_content": null,
      "align_items": null,
      "align_self": null,
      "border": null,
      "bottom": null,
      "display": null,
      "flex": null,
      "flex_flow": null,
      "grid_area": null,
      "grid_auto_columns": null,
      "grid_auto_flow": null,
      "grid_auto_rows": null,
      "grid_column": null,
      "grid_gap": null,
      "grid_row": null,
      "grid_template_areas": null,
      "grid_template_columns": null,
      "grid_template_rows": null,
      "height": null,
      "justify_content": null,
      "justify_items": null,
      "left": null,
      "margin": null,
      "max_height": null,
      "max_width": null,
      "min_height": null,
      "min_width": null,
      "object_fit": null,
      "object_position": null,
      "order": null,
      "overflow": null,
      "overflow_x": null,
      "overflow_y": null,
      "padding": null,
      "right": null,
      "top": null,
      "visibility": null,
      "width": null
     }
    },
    "ad4aa8406a164889856d51f0380e7e4d": {
     "model_module": "@jupyter-widgets/base",
     "model_module_version": "1.2.0",
     "model_name": "LayoutModel",
     "state": {
      "_model_module": "@jupyter-widgets/base",
      "_model_module_version": "1.2.0",
      "_model_name": "LayoutModel",
      "_view_count": null,
      "_view_module": "@jupyter-widgets/base",
      "_view_module_version": "1.2.0",
      "_view_name": "LayoutView",
      "align_content": null,
      "align_items": null,
      "align_self": null,
      "border": null,
      "bottom": null,
      "display": null,
      "flex": null,
      "flex_flow": null,
      "grid_area": null,
      "grid_auto_columns": null,
      "grid_auto_flow": null,
      "grid_auto_rows": null,
      "grid_column": null,
      "grid_gap": null,
      "grid_row": null,
      "grid_template_areas": null,
      "grid_template_columns": null,
      "grid_template_rows": null,
      "height": null,
      "justify_content": null,
      "justify_items": null,
      "left": null,
      "margin": null,
      "max_height": null,
      "max_width": null,
      "min_height": null,
      "min_width": null,
      "object_fit": null,
      "object_position": null,
      "order": null,
      "overflow": null,
      "overflow_x": null,
      "overflow_y": null,
      "padding": null,
      "right": null,
      "top": null,
      "visibility": null,
      "width": null
     }
    },
    "adc26767279b42988a2fd63c46ae2035": {
     "model_module": "@jupyter-widgets/controls",
     "model_module_version": "1.5.0",
     "model_name": "FloatProgressModel",
     "state": {
      "_dom_classes": [],
      "_model_module": "@jupyter-widgets/controls",
      "_model_module_version": "1.5.0",
      "_model_name": "FloatProgressModel",
      "_view_count": null,
      "_view_module": "@jupyter-widgets/controls",
      "_view_module_version": "1.5.0",
      "_view_name": "ProgressView",
      "bar_style": "success",
      "description": "",
      "description_tooltip": null,
      "layout": "IPY_MODEL_70f90553eb83438cb7a34aafa839d6d5",
      "max": 483,
      "min": 0,
      "orientation": "horizontal",
      "style": "IPY_MODEL_8225870a40874769b02d6347bdd9584f",
      "value": 483
     }
    },
    "b3dedea5ae724785b9b62f65ecad04e6": {
     "model_module": "@jupyter-widgets/controls",
     "model_module_version": "1.5.0",
     "model_name": "HTMLModel",
     "state": {
      "_dom_classes": [],
      "_model_module": "@jupyter-widgets/controls",
      "_model_module_version": "1.5.0",
      "_model_name": "HTMLModel",
      "_view_count": null,
      "_view_module": "@jupyter-widgets/controls",
      "_view_module_version": "1.5.0",
      "_view_name": "HTMLView",
      "description": "",
      "description_tooltip": null,
      "layout": "IPY_MODEL_e0a6af1f548d4d79a10ce77078db542d",
      "placeholder": "​",
      "style": "IPY_MODEL_e252f5954e7d45938424bf2cbb0bff1a",
      "value": " 7.55k/7.55k [00:00&lt;00:00, 217kB/s]"
     }
    },
    "b53bcb99a11e4b879e07403c2ab6f285": {
     "model_module": "@jupyter-widgets/controls",
     "model_module_version": "1.5.0",
     "model_name": "HTMLModel",
     "state": {
      "_dom_classes": [],
      "_model_module": "@jupyter-widgets/controls",
      "_model_module_version": "1.5.0",
      "_model_name": "HTMLModel",
      "_view_count": null,
      "_view_module": "@jupyter-widgets/controls",
      "_view_module_version": "1.5.0",
      "_view_name": "HTMLView",
      "description": "",
      "description_tooltip": null,
      "layout": "IPY_MODEL_ca12df8e331b4853bb1158a4641b9557",
      "placeholder": "​",
      "style": "IPY_MODEL_c06d7eeda76e41549f441b07b5198ff9",
      "value": " 232k/232k [00:00&lt;00:00, 1.12MB/s]"
     }
    },
    "b6b24ce4bcda4eb785dead8dc2445bf5": {
     "model_module": "@jupyter-widgets/controls",
     "model_module_version": "1.5.0",
     "model_name": "ProgressStyleModel",
     "state": {
      "_model_module": "@jupyter-widgets/controls",
      "_model_module_version": "1.5.0",
      "_model_name": "ProgressStyleModel",
      "_view_count": null,
      "_view_module": "@jupyter-widgets/base",
      "_view_module_version": "1.2.0",
      "_view_name": "StyleView",
      "bar_color": null,
      "description_width": ""
     }
    },
    "b81b0268b1714b8aa37a55add27d9164": {
     "model_module": "@jupyter-widgets/base",
     "model_module_version": "1.2.0",
     "model_name": "LayoutModel",
     "state": {
      "_model_module": "@jupyter-widgets/base",
      "_model_module_version": "1.2.0",
      "_model_name": "LayoutModel",
      "_view_count": null,
      "_view_module": "@jupyter-widgets/base",
      "_view_module_version": "1.2.0",
      "_view_name": "LayoutView",
      "align_content": null,
      "align_items": null,
      "align_self": null,
      "border": null,
      "bottom": null,
      "display": null,
      "flex": null,
      "flex_flow": null,
      "grid_area": null,
      "grid_auto_columns": null,
      "grid_auto_flow": null,
      "grid_auto_rows": null,
      "grid_column": null,
      "grid_gap": null,
      "grid_row": null,
      "grid_template_areas": null,
      "grid_template_columns": null,
      "grid_template_rows": null,
      "height": null,
      "justify_content": null,
      "justify_items": null,
      "left": null,
      "margin": null,
      "max_height": null,
      "max_width": null,
      "min_height": null,
      "min_width": null,
      "object_fit": null,
      "object_position": null,
      "order": null,
      "overflow": null,
      "overflow_x": null,
      "overflow_y": null,
      "padding": null,
      "right": null,
      "top": null,
      "visibility": null,
      "width": null
     }
    },
    "bb3ddeec326246ba97375be2ad065ed4": {
     "model_module": "@jupyter-widgets/base",
     "model_module_version": "1.2.0",
     "model_name": "LayoutModel",
     "state": {
      "_model_module": "@jupyter-widgets/base",
      "_model_module_version": "1.2.0",
      "_model_name": "LayoutModel",
      "_view_count": null,
      "_view_module": "@jupyter-widgets/base",
      "_view_module_version": "1.2.0",
      "_view_name": "LayoutView",
      "align_content": null,
      "align_items": null,
      "align_self": null,
      "border": null,
      "bottom": null,
      "display": null,
      "flex": null,
      "flex_flow": null,
      "grid_area": null,
      "grid_auto_columns": null,
      "grid_auto_flow": null,
      "grid_auto_rows": null,
      "grid_column": null,
      "grid_gap": null,
      "grid_row": null,
      "grid_template_areas": null,
      "grid_template_columns": null,
      "grid_template_rows": null,
      "height": null,
      "justify_content": null,
      "justify_items": null,
      "left": null,
      "margin": null,
      "max_height": null,
      "max_width": null,
      "min_height": null,
      "min_width": null,
      "object_fit": null,
      "object_position": null,
      "order": null,
      "overflow": null,
      "overflow_x": null,
      "overflow_y": null,
      "padding": null,
      "right": null,
      "top": null,
      "visibility": null,
      "width": null
     }
    },
    "bb74f39586d54f4f8611ced294a4e62a": {
     "model_module": "@jupyter-widgets/controls",
     "model_module_version": "1.5.0",
     "model_name": "DescriptionStyleModel",
     "state": {
      "_model_module": "@jupyter-widgets/controls",
      "_model_module_version": "1.5.0",
      "_model_name": "DescriptionStyleModel",
      "_view_count": null,
      "_view_module": "@jupyter-widgets/base",
      "_view_module_version": "1.2.0",
      "_view_name": "StyleView",
      "description_width": ""
     }
    },
    "bcbfcc50c86b40e58ce540e7767b345e": {
     "model_module": "@jupyter-widgets/controls",
     "model_module_version": "1.5.0",
     "model_name": "FloatProgressModel",
     "state": {
      "_dom_classes": [],
      "_model_module": "@jupyter-widgets/controls",
      "_model_module_version": "1.5.0",
      "_model_name": "FloatProgressModel",
      "_view_count": null,
      "_view_module": "@jupyter-widgets/controls",
      "_view_module_version": "1.5.0",
      "_view_name": "ProgressView",
      "bar_style": "danger",
      "description": "",
      "description_tooltip": null,
      "layout": "IPY_MODEL_8ebae29185d14a459e1e7e46ad44db31",
      "max": 15930,
      "min": 0,
      "orientation": "horizontal",
      "style": "IPY_MODEL_1f55de4f36e24a2497f93365e794d423",
      "value": 15929
     }
    },
    "bdbfa937080442e99191cc2b1b075782": {
     "model_module": "@jupyter-widgets/base",
     "model_module_version": "1.2.0",
     "model_name": "LayoutModel",
     "state": {
      "_model_module": "@jupyter-widgets/base",
      "_model_module_version": "1.2.0",
      "_model_name": "LayoutModel",
      "_view_count": null,
      "_view_module": "@jupyter-widgets/base",
      "_view_module_version": "1.2.0",
      "_view_name": "LayoutView",
      "align_content": null,
      "align_items": null,
      "align_self": null,
      "border": null,
      "bottom": null,
      "display": null,
      "flex": null,
      "flex_flow": null,
      "grid_area": null,
      "grid_auto_columns": null,
      "grid_auto_flow": null,
      "grid_auto_rows": null,
      "grid_column": null,
      "grid_gap": null,
      "grid_row": null,
      "grid_template_areas": null,
      "grid_template_columns": null,
      "grid_template_rows": null,
      "height": null,
      "justify_content": null,
      "justify_items": null,
      "left": null,
      "margin": null,
      "max_height": null,
      "max_width": null,
      "min_height": null,
      "min_width": null,
      "object_fit": null,
      "object_position": null,
      "order": null,
      "overflow": null,
      "overflow_x": null,
      "overflow_y": null,
      "padding": null,
      "right": null,
      "top": null,
      "visibility": null,
      "width": null
     }
    },
    "c06d7eeda76e41549f441b07b5198ff9": {
     "model_module": "@jupyter-widgets/controls",
     "model_module_version": "1.5.0",
     "model_name": "DescriptionStyleModel",
     "state": {
      "_model_module": "@jupyter-widgets/controls",
      "_model_module_version": "1.5.0",
      "_model_name": "DescriptionStyleModel",
      "_view_count": null,
      "_view_module": "@jupyter-widgets/base",
      "_view_module_version": "1.2.0",
      "_view_name": "StyleView",
      "description_width": ""
     }
    },
    "c105fc2ac07e4793943b53dfb61d90e6": {
     "model_module": "@jupyter-widgets/base",
     "model_module_version": "1.2.0",
     "model_name": "LayoutModel",
     "state": {
      "_model_module": "@jupyter-widgets/base",
      "_model_module_version": "1.2.0",
      "_model_name": "LayoutModel",
      "_view_count": null,
      "_view_module": "@jupyter-widgets/base",
      "_view_module_version": "1.2.0",
      "_view_name": "LayoutView",
      "align_content": null,
      "align_items": null,
      "align_self": null,
      "border": null,
      "bottom": null,
      "display": null,
      "flex": null,
      "flex_flow": null,
      "grid_area": null,
      "grid_auto_columns": null,
      "grid_auto_flow": null,
      "grid_auto_rows": null,
      "grid_column": null,
      "grid_gap": null,
      "grid_row": null,
      "grid_template_areas": null,
      "grid_template_columns": null,
      "grid_template_rows": null,
      "height": null,
      "justify_content": null,
      "justify_items": null,
      "left": null,
      "margin": null,
      "max_height": null,
      "max_width": null,
      "min_height": null,
      "min_width": null,
      "object_fit": null,
      "object_position": null,
      "order": null,
      "overflow": null,
      "overflow_x": null,
      "overflow_y": null,
      "padding": null,
      "right": null,
      "top": null,
      "visibility": null,
      "width": null
     }
    },
    "c1b88c1abfa64bcca3360ea61a5a2348": {
     "model_module": "@jupyter-widgets/base",
     "model_module_version": "1.2.0",
     "model_name": "LayoutModel",
     "state": {
      "_model_module": "@jupyter-widgets/base",
      "_model_module_version": "1.2.0",
      "_model_name": "LayoutModel",
      "_view_count": null,
      "_view_module": "@jupyter-widgets/base",
      "_view_module_version": "1.2.0",
      "_view_name": "LayoutView",
      "align_content": null,
      "align_items": null,
      "align_self": null,
      "border": null,
      "bottom": null,
      "display": null,
      "flex": null,
      "flex_flow": null,
      "grid_area": null,
      "grid_auto_columns": null,
      "grid_auto_flow": null,
      "grid_auto_rows": null,
      "grid_column": null,
      "grid_gap": null,
      "grid_row": null,
      "grid_template_areas": null,
      "grid_template_columns": null,
      "grid_template_rows": null,
      "height": null,
      "justify_content": null,
      "justify_items": null,
      "left": null,
      "margin": null,
      "max_height": null,
      "max_width": null,
      "min_height": null,
      "min_width": null,
      "object_fit": null,
      "object_position": null,
      "order": null,
      "overflow": null,
      "overflow_x": null,
      "overflow_y": null,
      "padding": null,
      "right": null,
      "top": null,
      "visibility": null,
      "width": null
     }
    },
    "c2d0c92f809148b5b2db7fed1165af62": {
     "model_module": "@jupyter-widgets/controls",
     "model_module_version": "1.5.0",
     "model_name": "FloatProgressModel",
     "state": {
      "_dom_classes": [],
      "_model_module": "@jupyter-widgets/controls",
      "_model_module_version": "1.5.0",
      "_model_name": "FloatProgressModel",
      "_view_count": null,
      "_view_module": "@jupyter-widgets/controls",
      "_view_module_version": "1.5.0",
      "_view_name": "ProgressView",
      "bar_style": "danger",
      "description": "",
      "description_tooltip": null,
      "layout": "IPY_MODEL_b81b0268b1714b8aa37a55add27d9164",
      "max": 3983,
      "min": 0,
      "orientation": "horizontal",
      "style": "IPY_MODEL_7075272107ea43c9bb1390a934e01d99",
      "value": 3982
     }
    },
    "c322c30fb72c49798b59a190ce5bb81e": {
     "model_module": "@jupyter-widgets/base",
     "model_module_version": "1.2.0",
     "model_name": "LayoutModel",
     "state": {
      "_model_module": "@jupyter-widgets/base",
      "_model_module_version": "1.2.0",
      "_model_name": "LayoutModel",
      "_view_count": null,
      "_view_module": "@jupyter-widgets/base",
      "_view_module_version": "1.2.0",
      "_view_name": "LayoutView",
      "align_content": null,
      "align_items": null,
      "align_self": null,
      "border": null,
      "bottom": null,
      "display": null,
      "flex": null,
      "flex_flow": null,
      "grid_area": null,
      "grid_auto_columns": null,
      "grid_auto_flow": null,
      "grid_auto_rows": null,
      "grid_column": null,
      "grid_gap": null,
      "grid_row": null,
      "grid_template_areas": null,
      "grid_template_columns": null,
      "grid_template_rows": null,
      "height": null,
      "justify_content": null,
      "justify_items": null,
      "left": null,
      "margin": null,
      "max_height": null,
      "max_width": null,
      "min_height": null,
      "min_width": null,
      "object_fit": null,
      "object_position": null,
      "order": null,
      "overflow": null,
      "overflow_x": null,
      "overflow_y": null,
      "padding": null,
      "right": null,
      "top": null,
      "visibility": null,
      "width": null
     }
    },
    "c37587051114454189d531e25901e894": {
     "model_module": "@jupyter-widgets/base",
     "model_module_version": "1.2.0",
     "model_name": "LayoutModel",
     "state": {
      "_model_module": "@jupyter-widgets/base",
      "_model_module_version": "1.2.0",
      "_model_name": "LayoutModel",
      "_view_count": null,
      "_view_module": "@jupyter-widgets/base",
      "_view_module_version": "1.2.0",
      "_view_name": "LayoutView",
      "align_content": null,
      "align_items": null,
      "align_self": null,
      "border": null,
      "bottom": null,
      "display": null,
      "flex": null,
      "flex_flow": null,
      "grid_area": null,
      "grid_auto_columns": null,
      "grid_auto_flow": null,
      "grid_auto_rows": null,
      "grid_column": null,
      "grid_gap": null,
      "grid_row": null,
      "grid_template_areas": null,
      "grid_template_columns": null,
      "grid_template_rows": null,
      "height": null,
      "justify_content": null,
      "justify_items": null,
      "left": null,
      "margin": null,
      "max_height": null,
      "max_width": null,
      "min_height": null,
      "min_width": null,
      "object_fit": null,
      "object_position": null,
      "order": null,
      "overflow": null,
      "overflow_x": null,
      "overflow_y": null,
      "padding": null,
      "right": null,
      "top": null,
      "visibility": null,
      "width": null
     }
    },
    "c5e3ebed42214677ac60650a95463485": {
     "model_module": "@jupyter-widgets/controls",
     "model_module_version": "1.5.0",
     "model_name": "HTMLModel",
     "state": {
      "_dom_classes": [],
      "_model_module": "@jupyter-widgets/controls",
      "_model_module_version": "1.5.0",
      "_model_name": "HTMLModel",
      "_view_count": null,
      "_view_module": "@jupyter-widgets/controls",
      "_view_module_version": "1.5.0",
      "_view_name": "HTMLView",
      "description": "",
      "description_tooltip": null,
      "layout": "IPY_MODEL_a8a9022ff5b647758703af9dbb2187c3",
      "placeholder": "​",
      "style": "IPY_MODEL_01ea54d19c264b7c981ae48fa6269925",
      "value": " 483/483 [00:00&lt;00:00, 4.53kB/s]"
     }
    },
    "c720652aeccd4ceb83e33757c906d95e": {
     "model_module": "@jupyter-widgets/controls",
     "model_module_version": "1.5.0",
     "model_name": "DescriptionStyleModel",
     "state": {
      "_model_module": "@jupyter-widgets/controls",
      "_model_module_version": "1.5.0",
      "_model_name": "DescriptionStyleModel",
      "_view_count": null,
      "_view_module": "@jupyter-widgets/base",
      "_view_module_version": "1.2.0",
      "_view_name": "StyleView",
      "description_width": ""
     }
    },
    "c77629cf3c5b452ca5acec1defae2917": {
     "model_module": "@jupyter-widgets/controls",
     "model_module_version": "1.5.0",
     "model_name": "HTMLModel",
     "state": {
      "_dom_classes": [],
      "_model_module": "@jupyter-widgets/controls",
      "_model_module_version": "1.5.0",
      "_model_name": "HTMLModel",
      "_view_count": null,
      "_view_module": "@jupyter-widgets/controls",
      "_view_module_version": "1.5.0",
      "_view_name": "HTMLView",
      "description": "",
      "description_tooltip": null,
      "layout": "IPY_MODEL_bb3ddeec326246ba97375be2ad065ed4",
      "placeholder": "​",
      "style": "IPY_MODEL_bb74f39586d54f4f8611ced294a4e62a",
      "value": " 11946/11947 [00:48&lt;00:00, 253.28ba/s]"
     }
    },
    "c9c62981483444c38845dd23ca7cc5f7": {
     "model_module": "@jupyter-widgets/base",
     "model_module_version": "1.2.0",
     "model_name": "LayoutModel",
     "state": {
      "_model_module": "@jupyter-widgets/base",
      "_model_module_version": "1.2.0",
      "_model_name": "LayoutModel",
      "_view_count": null,
      "_view_module": "@jupyter-widgets/base",
      "_view_module_version": "1.2.0",
      "_view_name": "LayoutView",
      "align_content": null,
      "align_items": null,
      "align_self": null,
      "border": null,
      "bottom": null,
      "display": null,
      "flex": null,
      "flex_flow": null,
      "grid_area": null,
      "grid_auto_columns": null,
      "grid_auto_flow": null,
      "grid_auto_rows": null,
      "grid_column": null,
      "grid_gap": null,
      "grid_row": null,
      "grid_template_areas": null,
      "grid_template_columns": null,
      "grid_template_rows": null,
      "height": null,
      "justify_content": null,
      "justify_items": null,
      "left": null,
      "margin": null,
      "max_height": null,
      "max_width": null,
      "min_height": null,
      "min_width": null,
      "object_fit": null,
      "object_position": null,
      "order": null,
      "overflow": null,
      "overflow_x": null,
      "overflow_y": null,
      "padding": null,
      "right": null,
      "top": null,
      "visibility": null,
      "width": null
     }
    },
    "c9cb8b3dc01648a3aabb8f48e17119b8": {
     "model_module": "@jupyter-widgets/controls",
     "model_module_version": "1.5.0",
     "model_name": "ProgressStyleModel",
     "state": {
      "_model_module": "@jupyter-widgets/controls",
      "_model_module_version": "1.5.0",
      "_model_name": "ProgressStyleModel",
      "_view_count": null,
      "_view_module": "@jupyter-widgets/base",
      "_view_module_version": "1.2.0",
      "_view_name": "StyleView",
      "bar_color": null,
      "description_width": ""
     }
    },
    "ca12df8e331b4853bb1158a4641b9557": {
     "model_module": "@jupyter-widgets/base",
     "model_module_version": "1.2.0",
     "model_name": "LayoutModel",
     "state": {
      "_model_module": "@jupyter-widgets/base",
      "_model_module_version": "1.2.0",
      "_model_name": "LayoutModel",
      "_view_count": null,
      "_view_module": "@jupyter-widgets/base",
      "_view_module_version": "1.2.0",
      "_view_name": "LayoutView",
      "align_content": null,
      "align_items": null,
      "align_self": null,
      "border": null,
      "bottom": null,
      "display": null,
      "flex": null,
      "flex_flow": null,
      "grid_area": null,
      "grid_auto_columns": null,
      "grid_auto_flow": null,
      "grid_auto_rows": null,
      "grid_column": null,
      "grid_gap": null,
      "grid_row": null,
      "grid_template_areas": null,
      "grid_template_columns": null,
      "grid_template_rows": null,
      "height": null,
      "justify_content": null,
      "justify_items": null,
      "left": null,
      "margin": null,
      "max_height": null,
      "max_width": null,
      "min_height": null,
      "min_width": null,
      "object_fit": null,
      "object_position": null,
      "order": null,
      "overflow": null,
      "overflow_x": null,
      "overflow_y": null,
      "padding": null,
      "right": null,
      "top": null,
      "visibility": null,
      "width": null
     }
    },
    "cc945f1f5ce944098dd4d267de776584": {
     "model_module": "@jupyter-widgets/controls",
     "model_module_version": "1.5.0",
     "model_name": "DescriptionStyleModel",
     "state": {
      "_model_module": "@jupyter-widgets/controls",
      "_model_module_version": "1.5.0",
      "_model_name": "DescriptionStyleModel",
      "_view_count": null,
      "_view_module": "@jupyter-widgets/base",
      "_view_module_version": "1.2.0",
      "_view_name": "StyleView",
      "description_width": ""
     }
    },
    "cd2dd183a8b54cfdb4dbd78cb2401ca9": {
     "model_module": "@jupyter-widgets/controls",
     "model_module_version": "1.5.0",
     "model_name": "HTMLModel",
     "state": {
      "_dom_classes": [],
      "_model_module": "@jupyter-widgets/controls",
      "_model_module_version": "1.5.0",
      "_model_name": "HTMLModel",
      "_view_count": null,
      "_view_module": "@jupyter-widgets/controls",
      "_view_module_version": "1.5.0",
      "_view_name": "HTMLView",
      "description": "",
      "description_tooltip": null,
      "layout": "IPY_MODEL_ebb77c97dc8e44f9b153157a4619b0a2",
      "placeholder": "​",
      "style": "IPY_MODEL_243072a6dfe14934b30af475332949a0",
      "value": "100%"
     }
    },
    "d7f3bab903e04042a38579759dec9e9a": {
     "model_module": "@jupyter-widgets/controls",
     "model_module_version": "1.5.0",
     "model_name": "ProgressStyleModel",
     "state": {
      "_model_module": "@jupyter-widgets/controls",
      "_model_module_version": "1.5.0",
      "_model_name": "ProgressStyleModel",
      "_view_count": null,
      "_view_module": "@jupyter-widgets/base",
      "_view_module_version": "1.2.0",
      "_view_name": "StyleView",
      "bar_color": null,
      "description_width": ""
     }
    },
    "d96ab714019d4e4ead7b1e2f231b0922": {
     "model_module": "@jupyter-widgets/base",
     "model_module_version": "1.2.0",
     "model_name": "LayoutModel",
     "state": {
      "_model_module": "@jupyter-widgets/base",
      "_model_module_version": "1.2.0",
      "_model_name": "LayoutModel",
      "_view_count": null,
      "_view_module": "@jupyter-widgets/base",
      "_view_module_version": "1.2.0",
      "_view_name": "LayoutView",
      "align_content": null,
      "align_items": null,
      "align_self": null,
      "border": null,
      "bottom": null,
      "display": null,
      "flex": null,
      "flex_flow": null,
      "grid_area": null,
      "grid_auto_columns": null,
      "grid_auto_flow": null,
      "grid_auto_rows": null,
      "grid_column": null,
      "grid_gap": null,
      "grid_row": null,
      "grid_template_areas": null,
      "grid_template_columns": null,
      "grid_template_rows": null,
      "height": null,
      "justify_content": null,
      "justify_items": null,
      "left": null,
      "margin": null,
      "max_height": null,
      "max_width": null,
      "min_height": null,
      "min_width": null,
      "object_fit": null,
      "object_position": null,
      "order": null,
      "overflow": null,
      "overflow_x": null,
      "overflow_y": null,
      "padding": null,
      "right": null,
      "top": null,
      "visibility": null,
      "width": null
     }
    },
    "defade6b02564ac7b892606c9c251fae": {
     "model_module": "@jupyter-widgets/controls",
     "model_module_version": "1.5.0",
     "model_name": "FloatProgressModel",
     "state": {
      "_dom_classes": [],
      "_model_module": "@jupyter-widgets/controls",
      "_model_module_version": "1.5.0",
      "_model_name": "FloatProgressModel",
      "_view_count": null,
      "_view_module": "@jupyter-widgets/controls",
      "_view_module_version": "1.5.0",
      "_view_name": "ProgressView",
      "bar_style": "success",
      "description": "",
      "description_tooltip": null,
      "layout": "IPY_MODEL_9454645d491a45c495ca076316b5b758",
      "max": 466062,
      "min": 0,
      "orientation": "horizontal",
      "style": "IPY_MODEL_fa1258556ea7456b8807aa9353ec9999",
      "value": 466062
     }
    },
    "df1b018efd8c444985d9e82eba091bb4": {
     "model_module": "@jupyter-widgets/base",
     "model_module_version": "1.2.0",
     "model_name": "LayoutModel",
     "state": {
      "_model_module": "@jupyter-widgets/base",
      "_model_module_version": "1.2.0",
      "_model_name": "LayoutModel",
      "_view_count": null,
      "_view_module": "@jupyter-widgets/base",
      "_view_module_version": "1.2.0",
      "_view_name": "LayoutView",
      "align_content": null,
      "align_items": null,
      "align_self": null,
      "border": null,
      "bottom": null,
      "display": null,
      "flex": null,
      "flex_flow": null,
      "grid_area": null,
      "grid_auto_columns": null,
      "grid_auto_flow": null,
      "grid_auto_rows": null,
      "grid_column": null,
      "grid_gap": null,
      "grid_row": null,
      "grid_template_areas": null,
      "grid_template_columns": null,
      "grid_template_rows": null,
      "height": null,
      "justify_content": null,
      "justify_items": null,
      "left": null,
      "margin": null,
      "max_height": null,
      "max_width": null,
      "min_height": null,
      "min_width": null,
      "object_fit": null,
      "object_position": null,
      "order": null,
      "overflow": null,
      "overflow_x": null,
      "overflow_y": null,
      "padding": null,
      "right": null,
      "top": null,
      "visibility": null,
      "width": null
     }
    },
    "e0a6af1f548d4d79a10ce77078db542d": {
     "model_module": "@jupyter-widgets/base",
     "model_module_version": "1.2.0",
     "model_name": "LayoutModel",
     "state": {
      "_model_module": "@jupyter-widgets/base",
      "_model_module_version": "1.2.0",
      "_model_name": "LayoutModel",
      "_view_count": null,
      "_view_module": "@jupyter-widgets/base",
      "_view_module_version": "1.2.0",
      "_view_name": "LayoutView",
      "align_content": null,
      "align_items": null,
      "align_self": null,
      "border": null,
      "bottom": null,
      "display": null,
      "flex": null,
      "flex_flow": null,
      "grid_area": null,
      "grid_auto_columns": null,
      "grid_auto_flow": null,
      "grid_auto_rows": null,
      "grid_column": null,
      "grid_gap": null,
      "grid_row": null,
      "grid_template_areas": null,
      "grid_template_columns": null,
      "grid_template_rows": null,
      "height": null,
      "justify_content": null,
      "justify_items": null,
      "left": null,
      "margin": null,
      "max_height": null,
      "max_width": null,
      "min_height": null,
      "min_width": null,
      "object_fit": null,
      "object_position": null,
      "order": null,
      "overflow": null,
      "overflow_x": null,
      "overflow_y": null,
      "padding": null,
      "right": null,
      "top": null,
      "visibility": null,
      "width": null
     }
    },
    "e0ae233765df42a7b1237353f8eccf5d": {
     "model_module": "@jupyter-widgets/base",
     "model_module_version": "1.2.0",
     "model_name": "LayoutModel",
     "state": {
      "_model_module": "@jupyter-widgets/base",
      "_model_module_version": "1.2.0",
      "_model_name": "LayoutModel",
      "_view_count": null,
      "_view_module": "@jupyter-widgets/base",
      "_view_module_version": "1.2.0",
      "_view_name": "LayoutView",
      "align_content": null,
      "align_items": null,
      "align_self": null,
      "border": null,
      "bottom": null,
      "display": null,
      "flex": null,
      "flex_flow": null,
      "grid_area": null,
      "grid_auto_columns": null,
      "grid_auto_flow": null,
      "grid_auto_rows": null,
      "grid_column": null,
      "grid_gap": null,
      "grid_row": null,
      "grid_template_areas": null,
      "grid_template_columns": null,
      "grid_template_rows": null,
      "height": null,
      "justify_content": null,
      "justify_items": null,
      "left": null,
      "margin": null,
      "max_height": null,
      "max_width": null,
      "min_height": null,
      "min_width": null,
      "object_fit": null,
      "object_position": null,
      "order": null,
      "overflow": null,
      "overflow_x": null,
      "overflow_y": null,
      "padding": null,
      "right": null,
      "top": null,
      "visibility": null,
      "width": null
     }
    },
    "e20533f814ac4c26b5890aec9e8afd14": {
     "model_module": "@jupyter-widgets/controls",
     "model_module_version": "1.5.0",
     "model_name": "HTMLModel",
     "state": {
      "_dom_classes": [],
      "_model_module": "@jupyter-widgets/controls",
      "_model_module_version": "1.5.0",
      "_model_name": "HTMLModel",
      "_view_count": null,
      "_view_module": "@jupyter-widgets/controls",
      "_view_module_version": "1.5.0",
      "_view_name": "HTMLView",
      "description": "",
      "description_tooltip": null,
      "layout": "IPY_MODEL_7c09c1e8472042a8a4abe4c0f2c008de",
      "placeholder": "​",
      "style": "IPY_MODEL_2d195d650e8742cfa6967b0c63b2513f",
      "value": " 28.0/28.0 [00:00&lt;00:00, 427B/s]"
     }
    },
    "e252f5954e7d45938424bf2cbb0bff1a": {
     "model_module": "@jupyter-widgets/controls",
     "model_module_version": "1.5.0",
     "model_name": "DescriptionStyleModel",
     "state": {
      "_model_module": "@jupyter-widgets/controls",
      "_model_module_version": "1.5.0",
      "_model_name": "DescriptionStyleModel",
      "_view_count": null,
      "_view_module": "@jupyter-widgets/base",
      "_view_module_version": "1.2.0",
      "_view_name": "StyleView",
      "description_width": ""
     }
    },
    "e3182d23cb5547ffbadcf72904362259": {
     "model_module": "@jupyter-widgets/controls",
     "model_module_version": "1.5.0",
     "model_name": "HBoxModel",
     "state": {
      "_dom_classes": [],
      "_model_module": "@jupyter-widgets/controls",
      "_model_module_version": "1.5.0",
      "_model_name": "HBoxModel",
      "_view_count": null,
      "_view_module": "@jupyter-widgets/controls",
      "_view_module_version": "1.5.0",
      "_view_name": "HBoxView",
      "box_style": "",
      "children": [
       "IPY_MODEL_a2f37338e7514533b49f0e1cf3ee6a21",
       "IPY_MODEL_adc26767279b42988a2fd63c46ae2035",
       "IPY_MODEL_c5e3ebed42214677ac60650a95463485"
      ],
      "layout": "IPY_MODEL_e0ae233765df42a7b1237353f8eccf5d"
     }
    },
    "e56276955aaa4f10b189467f8248f6dc": {
     "model_module": "@jupyter-widgets/base",
     "model_module_version": "1.2.0",
     "model_name": "LayoutModel",
     "state": {
      "_model_module": "@jupyter-widgets/base",
      "_model_module_version": "1.2.0",
      "_model_name": "LayoutModel",
      "_view_count": null,
      "_view_module": "@jupyter-widgets/base",
      "_view_module_version": "1.2.0",
      "_view_name": "LayoutView",
      "align_content": null,
      "align_items": null,
      "align_self": null,
      "border": null,
      "bottom": null,
      "display": null,
      "flex": null,
      "flex_flow": null,
      "grid_area": null,
      "grid_auto_columns": null,
      "grid_auto_flow": null,
      "grid_auto_rows": null,
      "grid_column": null,
      "grid_gap": null,
      "grid_row": null,
      "grid_template_areas": null,
      "grid_template_columns": null,
      "grid_template_rows": null,
      "height": null,
      "justify_content": null,
      "justify_items": null,
      "left": null,
      "margin": null,
      "max_height": null,
      "max_width": null,
      "min_height": null,
      "min_width": null,
      "object_fit": null,
      "object_position": null,
      "order": null,
      "overflow": null,
      "overflow_x": null,
      "overflow_y": null,
      "padding": null,
      "right": null,
      "top": null,
      "visibility": null,
      "width": null
     }
    },
    "e6322b040b2740c5bc4253418901c29f": {
     "model_module": "@jupyter-widgets/controls",
     "model_module_version": "1.5.0",
     "model_name": "ProgressStyleModel",
     "state": {
      "_model_module": "@jupyter-widgets/controls",
      "_model_module_version": "1.5.0",
      "_model_name": "ProgressStyleModel",
      "_view_count": null,
      "_view_module": "@jupyter-widgets/base",
      "_view_module_version": "1.2.0",
      "_view_name": "StyleView",
      "bar_color": null,
      "description_width": ""
     }
    },
    "e7ac01db0178459ca000861d16ce3ddc": {
     "model_module": "@jupyter-widgets/controls",
     "model_module_version": "1.5.0",
     "model_name": "HTMLModel",
     "state": {
      "_dom_classes": [],
      "_model_module": "@jupyter-widgets/controls",
      "_model_module_version": "1.5.0",
      "_model_name": "HTMLModel",
      "_view_count": null,
      "_view_module": "@jupyter-widgets/controls",
      "_view_module_version": "1.5.0",
      "_view_name": "HTMLView",
      "description": "",
      "description_tooltip": null,
      "layout": "IPY_MODEL_df1b018efd8c444985d9e82eba091bb4",
      "placeholder": "​",
      "style": "IPY_MODEL_7d78d94beb6a45ac882c7d9deecfe2e5",
      "value": " 3982/3983 [00:15&lt;00:00, 268.65ba/s]"
     }
    },
    "e85cb219455947e7ba8f76048ce017f6": {
     "model_module": "@jupyter-widgets/controls",
     "model_module_version": "1.5.0",
     "model_name": "DescriptionStyleModel",
     "state": {
      "_model_module": "@jupyter-widgets/controls",
      "_model_module_version": "1.5.0",
      "_model_name": "DescriptionStyleModel",
      "_view_count": null,
      "_view_module": "@jupyter-widgets/base",
      "_view_module_version": "1.2.0",
      "_view_name": "StyleView",
      "description_width": ""
     }
    },
    "e88ee1eac0e14c58869d9f4209ea12e7": {
     "model_module": "@jupyter-widgets/base",
     "model_module_version": "1.2.0",
     "model_name": "LayoutModel",
     "state": {
      "_model_module": "@jupyter-widgets/base",
      "_model_module_version": "1.2.0",
      "_model_name": "LayoutModel",
      "_view_count": null,
      "_view_module": "@jupyter-widgets/base",
      "_view_module_version": "1.2.0",
      "_view_name": "LayoutView",
      "align_content": null,
      "align_items": null,
      "align_self": null,
      "border": null,
      "bottom": null,
      "display": null,
      "flex": null,
      "flex_flow": null,
      "grid_area": null,
      "grid_auto_columns": null,
      "grid_auto_flow": null,
      "grid_auto_rows": null,
      "grid_column": null,
      "grid_gap": null,
      "grid_row": null,
      "grid_template_areas": null,
      "grid_template_columns": null,
      "grid_template_rows": null,
      "height": null,
      "justify_content": null,
      "justify_items": null,
      "left": null,
      "margin": null,
      "max_height": null,
      "max_width": null,
      "min_height": null,
      "min_width": null,
      "object_fit": null,
      "object_position": null,
      "order": null,
      "overflow": null,
      "overflow_x": null,
      "overflow_y": null,
      "padding": null,
      "right": null,
      "top": null,
      "visibility": null,
      "width": null
     }
    },
    "e9e3050bbeff4439b69a34072bcf5530": {
     "model_module": "@jupyter-widgets/base",
     "model_module_version": "1.2.0",
     "model_name": "LayoutModel",
     "state": {
      "_model_module": "@jupyter-widgets/base",
      "_model_module_version": "1.2.0",
      "_model_name": "LayoutModel",
      "_view_count": null,
      "_view_module": "@jupyter-widgets/base",
      "_view_module_version": "1.2.0",
      "_view_name": "LayoutView",
      "align_content": null,
      "align_items": null,
      "align_self": null,
      "border": null,
      "bottom": null,
      "display": null,
      "flex": null,
      "flex_flow": null,
      "grid_area": null,
      "grid_auto_columns": null,
      "grid_auto_flow": null,
      "grid_auto_rows": null,
      "grid_column": null,
      "grid_gap": null,
      "grid_row": null,
      "grid_template_areas": null,
      "grid_template_columns": null,
      "grid_template_rows": null,
      "height": null,
      "justify_content": null,
      "justify_items": null,
      "left": null,
      "margin": null,
      "max_height": null,
      "max_width": null,
      "min_height": null,
      "min_width": null,
      "object_fit": null,
      "object_position": null,
      "order": null,
      "overflow": null,
      "overflow_x": null,
      "overflow_y": null,
      "padding": null,
      "right": null,
      "top": null,
      "visibility": null,
      "width": null
     }
    },
    "ead0105a3ec34d22aa293ec4aaa58fef": {
     "model_module": "@jupyter-widgets/controls",
     "model_module_version": "1.5.0",
     "model_name": "DescriptionStyleModel",
     "state": {
      "_model_module": "@jupyter-widgets/controls",
      "_model_module_version": "1.5.0",
      "_model_name": "DescriptionStyleModel",
      "_view_count": null,
      "_view_module": "@jupyter-widgets/base",
      "_view_module_version": "1.2.0",
      "_view_name": "StyleView",
      "description_width": ""
     }
    },
    "ebb77c97dc8e44f9b153157a4619b0a2": {
     "model_module": "@jupyter-widgets/base",
     "model_module_version": "1.2.0",
     "model_name": "LayoutModel",
     "state": {
      "_model_module": "@jupyter-widgets/base",
      "_model_module_version": "1.2.0",
      "_model_name": "LayoutModel",
      "_view_count": null,
      "_view_module": "@jupyter-widgets/base",
      "_view_module_version": "1.2.0",
      "_view_name": "LayoutView",
      "align_content": null,
      "align_items": null,
      "align_self": null,
      "border": null,
      "bottom": null,
      "display": null,
      "flex": null,
      "flex_flow": null,
      "grid_area": null,
      "grid_auto_columns": null,
      "grid_auto_flow": null,
      "grid_auto_rows": null,
      "grid_column": null,
      "grid_gap": null,
      "grid_row": null,
      "grid_template_areas": null,
      "grid_template_columns": null,
      "grid_template_rows": null,
      "height": null,
      "justify_content": null,
      "justify_items": null,
      "left": null,
      "margin": null,
      "max_height": null,
      "max_width": null,
      "min_height": null,
      "min_width": null,
      "object_fit": null,
      "object_position": null,
      "order": null,
      "overflow": null,
      "overflow_x": null,
      "overflow_y": null,
      "padding": null,
      "right": null,
      "top": null,
      "visibility": null,
      "width": null
     }
    },
    "efd234af4f4b4e8a8d86b9a0465d7330": {
     "model_module": "@jupyter-widgets/controls",
     "model_module_version": "1.5.0",
     "model_name": "HBoxModel",
     "state": {
      "_dom_classes": [],
      "_model_module": "@jupyter-widgets/controls",
      "_model_module_version": "1.5.0",
      "_model_name": "HBoxModel",
      "_view_count": null,
      "_view_module": "@jupyter-widgets/controls",
      "_view_module_version": "1.5.0",
      "_view_name": "HBoxView",
      "box_style": "",
      "children": [
       "IPY_MODEL_125ba4df24f54da687dbf2b0809f66f0",
       "IPY_MODEL_6803c57dd76a47b0a6501763232d0d28",
       "IPY_MODEL_b53bcb99a11e4b879e07403c2ab6f285"
      ],
      "layout": "IPY_MODEL_d96ab714019d4e4ead7b1e2f231b0922"
     }
    },
    "f058678569b540f6847405bf9fdcc705": {
     "model_module": "@jupyter-widgets/controls",
     "model_module_version": "1.5.0",
     "model_name": "FloatProgressModel",
     "state": {
      "_dom_classes": [],
      "_model_module": "@jupyter-widgets/controls",
      "_model_module_version": "1.5.0",
      "_model_name": "FloatProgressModel",
      "_view_count": null,
      "_view_module": "@jupyter-widgets/controls",
      "_view_module_version": "1.5.0",
      "_view_name": "ProgressView",
      "bar_style": "success",
      "description": "",
      "description_tooltip": null,
      "layout": "IPY_MODEL_80a260b61fdf4cfb9729252544902c3e",
      "max": 6771,
      "min": 0,
      "orientation": "horizontal",
      "style": "IPY_MODEL_a12e337d20ea48ab939eadbbcd969193",
      "value": 6771
     }
    },
    "f29e3ef047d74aa99020c8734f145d80": {
     "model_module": "@jupyter-widgets/controls",
     "model_module_version": "1.5.0",
     "model_name": "ProgressStyleModel",
     "state": {
      "_model_module": "@jupyter-widgets/controls",
      "_model_module_version": "1.5.0",
      "_model_name": "ProgressStyleModel",
      "_view_count": null,
      "_view_module": "@jupyter-widgets/base",
      "_view_module_version": "1.2.0",
      "_view_name": "StyleView",
      "bar_color": null,
      "description_width": ""
     }
    },
    "f6916869c95341dc9a05b2d9d59136b7": {
     "model_module": "@jupyter-widgets/base",
     "model_module_version": "1.2.0",
     "model_name": "LayoutModel",
     "state": {
      "_model_module": "@jupyter-widgets/base",
      "_model_module_version": "1.2.0",
      "_model_name": "LayoutModel",
      "_view_count": null,
      "_view_module": "@jupyter-widgets/base",
      "_view_module_version": "1.2.0",
      "_view_name": "LayoutView",
      "align_content": null,
      "align_items": null,
      "align_self": null,
      "border": null,
      "bottom": null,
      "display": null,
      "flex": null,
      "flex_flow": null,
      "grid_area": null,
      "grid_auto_columns": null,
      "grid_auto_flow": null,
      "grid_auto_rows": null,
      "grid_column": null,
      "grid_gap": null,
      "grid_row": null,
      "grid_template_areas": null,
      "grid_template_columns": null,
      "grid_template_rows": null,
      "height": null,
      "justify_content": null,
      "justify_items": null,
      "left": null,
      "margin": null,
      "max_height": null,
      "max_width": null,
      "min_height": null,
      "min_width": null,
      "object_fit": null,
      "object_position": null,
      "order": null,
      "overflow": null,
      "overflow_x": null,
      "overflow_y": null,
      "padding": null,
      "right": null,
      "top": null,
      "visibility": null,
      "width": null
     }
    },
    "f6f5a97e9c6a47229c92c185f388fba5": {
     "model_module": "@jupyter-widgets/base",
     "model_module_version": "1.2.0",
     "model_name": "LayoutModel",
     "state": {
      "_model_module": "@jupyter-widgets/base",
      "_model_module_version": "1.2.0",
      "_model_name": "LayoutModel",
      "_view_count": null,
      "_view_module": "@jupyter-widgets/base",
      "_view_module_version": "1.2.0",
      "_view_name": "LayoutView",
      "align_content": null,
      "align_items": null,
      "align_self": null,
      "border": null,
      "bottom": null,
      "display": null,
      "flex": null,
      "flex_flow": null,
      "grid_area": null,
      "grid_auto_columns": null,
      "grid_auto_flow": null,
      "grid_auto_rows": null,
      "grid_column": null,
      "grid_gap": null,
      "grid_row": null,
      "grid_template_areas": null,
      "grid_template_columns": null,
      "grid_template_rows": null,
      "height": null,
      "justify_content": null,
      "justify_items": null,
      "left": null,
      "margin": null,
      "max_height": null,
      "max_width": null,
      "min_height": null,
      "min_width": null,
      "object_fit": null,
      "object_position": null,
      "order": null,
      "overflow": null,
      "overflow_x": null,
      "overflow_y": null,
      "padding": null,
      "right": null,
      "top": null,
      "visibility": null,
      "width": null
     }
    },
    "f85cd62d9b9b4871b864ee675204fbd3": {
     "model_module": "@jupyter-widgets/controls",
     "model_module_version": "1.5.0",
     "model_name": "FloatProgressModel",
     "state": {
      "_dom_classes": [],
      "_model_module": "@jupyter-widgets/controls",
      "_model_module_version": "1.5.0",
      "_model_name": "FloatProgressModel",
      "_view_count": null,
      "_view_module": "@jupyter-widgets/controls",
      "_view_module_version": "1.5.0",
      "_view_name": "ProgressView",
      "bar_style": "success",
      "description": "",
      "description_tooltip": null,
      "layout": "IPY_MODEL_90a424b498784c9ca38c6c89e5cd8297",
      "max": 1992,
      "min": 0,
      "orientation": "horizontal",
      "style": "IPY_MODEL_2a218462dade4a6996bd74bd5e1db26d",
      "value": 1992
     }
    },
    "f88183a67f24491382f1cfbc5d210048": {
     "model_module": "@jupyter-widgets/controls",
     "model_module_version": "1.5.0",
     "model_name": "DescriptionStyleModel",
     "state": {
      "_model_module": "@jupyter-widgets/controls",
      "_model_module_version": "1.5.0",
      "_model_name": "DescriptionStyleModel",
      "_view_count": null,
      "_view_module": "@jupyter-widgets/base",
      "_view_module_version": "1.2.0",
      "_view_name": "StyleView",
      "description_width": ""
     }
    },
    "f9243dc0202b4755b60cd8297aeb4c5d": {
     "model_module": "@jupyter-widgets/base",
     "model_module_version": "1.2.0",
     "model_name": "LayoutModel",
     "state": {
      "_model_module": "@jupyter-widgets/base",
      "_model_module_version": "1.2.0",
      "_model_name": "LayoutModel",
      "_view_count": null,
      "_view_module": "@jupyter-widgets/base",
      "_view_module_version": "1.2.0",
      "_view_name": "LayoutView",
      "align_content": null,
      "align_items": null,
      "align_self": null,
      "border": null,
      "bottom": null,
      "display": null,
      "flex": null,
      "flex_flow": null,
      "grid_area": null,
      "grid_auto_columns": null,
      "grid_auto_flow": null,
      "grid_auto_rows": null,
      "grid_column": null,
      "grid_gap": null,
      "grid_row": null,
      "grid_template_areas": null,
      "grid_template_columns": null,
      "grid_template_rows": null,
      "height": null,
      "justify_content": null,
      "justify_items": null,
      "left": null,
      "margin": null,
      "max_height": null,
      "max_width": null,
      "min_height": null,
      "min_width": null,
      "object_fit": null,
      "object_position": null,
      "order": null,
      "overflow": null,
      "overflow_x": null,
      "overflow_y": null,
      "padding": null,
      "right": null,
      "top": null,
      "visibility": null,
      "width": null
     }
    },
    "fa1258556ea7456b8807aa9353ec9999": {
     "model_module": "@jupyter-widgets/controls",
     "model_module_version": "1.5.0",
     "model_name": "ProgressStyleModel",
     "state": {
      "_model_module": "@jupyter-widgets/controls",
      "_model_module_version": "1.5.0",
      "_model_name": "ProgressStyleModel",
      "_view_count": null,
      "_view_module": "@jupyter-widgets/base",
      "_view_module_version": "1.2.0",
      "_view_name": "StyleView",
      "bar_color": null,
      "description_width": ""
     }
    },
    "fb2595985e224bb0b1663f0d08b26e88": {
     "model_module": "@jupyter-widgets/controls",
     "model_module_version": "1.5.0",
     "model_name": "HTMLModel",
     "state": {
      "_dom_classes": [],
      "_model_module": "@jupyter-widgets/controls",
      "_model_module_version": "1.5.0",
      "_model_name": "HTMLModel",
      "_view_count": null,
      "_view_module": "@jupyter-widgets/controls",
      "_view_module_version": "1.5.0",
      "_view_name": "HTMLView",
      "description": "",
      "description_tooltip": null,
      "layout": "IPY_MODEL_3a06990deb7649228d22070810c5fdf8",
      "placeholder": "​",
      "style": "IPY_MODEL_063f09effd9f4e019b68cfc198b4364a",
      "value": " 1992/1992 [34:23&lt;00:00,  1.30it/s]"
     }
    },
    "fc7be0b0ac794816a62ffd1beaa123b8": {
     "model_module": "@jupyter-widgets/controls",
     "model_module_version": "1.5.0",
     "model_name": "HTMLModel",
     "state": {
      "_dom_classes": [],
      "_model_module": "@jupyter-widgets/controls",
      "_model_module_version": "1.5.0",
      "_model_name": "HTMLModel",
      "_view_count": null,
      "_view_module": "@jupyter-widgets/controls",
      "_view_module_version": "1.5.0",
      "_view_name": "HTMLView",
      "description": "",
      "description_tooltip": null,
      "layout": "IPY_MODEL_1fcc3b588d1d4202b8cc547df695ac2d",
      "placeholder": "​",
      "style": "IPY_MODEL_cc945f1f5ce944098dd4d267de776584",
      "value": "100%"
     }
    },
    "fee86760cc04433cacbfb461c47b56f2": {
     "model_module": "@jupyter-widgets/controls",
     "model_module_version": "1.5.0",
     "model_name": "HBoxModel",
     "state": {
      "_dom_classes": [],
      "_model_module": "@jupyter-widgets/controls",
      "_model_module_version": "1.5.0",
      "_model_name": "HBoxModel",
      "_view_count": null,
      "_view_module": "@jupyter-widgets/controls",
      "_view_module_version": "1.5.0",
      "_view_name": "HBoxView",
      "box_style": "",
      "children": [
       "IPY_MODEL_3d8de27bc2f14937ab0ed4d1707c9f94",
       "IPY_MODEL_defade6b02564ac7b892606c9c251fae",
       "IPY_MODEL_86cf94cd1b2a457eae231dbdf8c38e63"
      ],
      "layout": "IPY_MODEL_e88ee1eac0e14c58869d9f4209ea12e7"
     }
    }
   }
  }
 },
 "nbformat": 4,
 "nbformat_minor": 1
}
